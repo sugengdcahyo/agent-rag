{
  "cells": [
    {
      "cell_type": "markdown",
      "metadata": {
        "id": "pCj1XBUXcD9b"
      },
      "source": [
        "# Building AI Agent Bot With RAG, Langchain, and Reasoning Engine From Scratch\n",
        "\n",
        "## Setup\n",
        "\n",
        "* This notebook will walk you through some required setup that you need to do before starting with the materials.\n",
        "\n",
        "* It is highly recommended to use new virtual environment when running jupyter notebook for this workshop."
      ]
    },
    {
      "cell_type": "markdown",
      "metadata": {
        "id": "gImi9WcVcD9d"
      },
      "source": [
        "## Required Software Installed Locally\n",
        "\n",
        "* Python version 3.9, 3.10, or 3.11. **Python3.12 will not work**.\n",
        "\n",
        "* If you are using VSCode, please install Jupyter Notebook extensions.\n",
        "\n",
        "* Jupyter notebook. Please follow this [installation guide](https://docs.jupyter.org/en/stable/install.html). You may choose whether you want to install classic jupyter notebook or jupyterlab (the next-gen web ui for jupyter)\n",
        "\n",
        "    * [Classic jupyter notebook installation guide](https://docs.jupyter.org/en/stable/install/notebook-classic.html)\n",
        "\n",
        "    * [Jupyterlab installation guide](https://jupyterlab.readthedocs.io/en/stable/getting_started/installation.html)\n",
        "\n",
        "* Google Cloud CLI. Please follow this [installation guide](https://cloud.google.com/sdk/docs/install-sdk)"
      ]
    },
    {
      "cell_type": "markdown",
      "metadata": {
        "id": "nM7acGcOcD9d"
      },
      "source": [
        "### Installing dependencies"
      ]
    },
    {
      "cell_type": "code",
      "execution_count": 1,
      "metadata": {
        "colab": {
          "base_uri": "https://localhost:8080/"
        },
        "id": "VzspQMUJcD9e",
        "outputId": "505b41af-5639-4918-816e-d99840c19f22"
      },
      "outputs": [
        {
          "output_type": "stream",
          "name": "stdout",
          "text": [
            "Overwriting requirements.txt\n"
          ]
        }
      ],
      "source": [
        "%%writefile requirements.txt\n",
        "\n",
        "google-cloud-aiplatform\n",
        "google-cloud-aiplatform[langchain]\n",
        "google-cloud-aiplatform[reasoningengine]\n",
        "langchain\n",
        "langchain_core\n",
        "langchain_community\n",
        "langchain-google-vertexai==2.0.8\n",
        "cloudpickle\n",
        "pydantic==2.9.2\n",
        "langchain-google-community\n",
        "google-cloud-discoveryengine\n",
        "nest-asyncio\n",
        "asyncio==3.4.3\n",
        "asyncpg==0.29.0\n",
        "cloud-sql-python-connector[asyncpg]\n",
        "langchain-google-cloud-sql-pg\n",
        "numpy\n",
        "pandas\n",
        "pgvector\n",
        "psycopg2-binary\n",
        "langchain-openai\n",
        "langgraph\n",
        "traceloop-sdk\n",
        "opentelemetry-instrumentation-google-generativeai\n",
        "opentelemetry-instrumentation-langchain\n",
        "opentelemetry-instrumentation-vertexai\n",
        "python-dotenv"
      ]
    },
    {
      "cell_type": "code",
      "execution_count": 2,
      "metadata": {
        "scrolled": true,
        "colab": {
          "base_uri": "https://localhost:8080/"
        },
        "id": "MxnK4OmYcD9f",
        "outputId": "c3810cc8-20bc-424b-8715-61fd5e89beb3"
      },
      "outputs": [
        {
          "output_type": "stream",
          "name": "stdout",
          "text": [
            "Requirement already satisfied: google-cloud-aiplatform in /usr/local/lib/python3.11/dist-packages (from -r requirements.txt (line 2)) (1.81.0)\n",
            "Requirement already satisfied: langchain in /usr/local/lib/python3.11/dist-packages (from -r requirements.txt (line 5)) (0.3.19)\n",
            "Requirement already satisfied: langchain_core in /usr/local/lib/python3.11/dist-packages (from -r requirements.txt (line 6)) (0.3.37)\n",
            "Requirement already satisfied: langchain_community in /usr/local/lib/python3.11/dist-packages (from -r requirements.txt (line 7)) (0.3.18)\n",
            "Requirement already satisfied: langchain-google-vertexai==2.0.8 in /usr/local/lib/python3.11/dist-packages (from -r requirements.txt (line 8)) (2.0.8)\n",
            "Requirement already satisfied: cloudpickle in /usr/local/lib/python3.11/dist-packages (from -r requirements.txt (line 9)) (3.1.1)\n",
            "Requirement already satisfied: pydantic==2.9.2 in /usr/local/lib/python3.11/dist-packages (from -r requirements.txt (line 10)) (2.9.2)\n",
            "Requirement already satisfied: langchain-google-community in /usr/local/lib/python3.11/dist-packages (from -r requirements.txt (line 11)) (2.0.4)\n",
            "Requirement already satisfied: google-cloud-discoveryengine in /usr/local/lib/python3.11/dist-packages (from -r requirements.txt (line 12)) (0.13.6)\n",
            "Requirement already satisfied: nest-asyncio in /usr/local/lib/python3.11/dist-packages (from -r requirements.txt (line 13)) (1.6.0)\n",
            "Requirement already satisfied: asyncio==3.4.3 in /usr/local/lib/python3.11/dist-packages (from -r requirements.txt (line 14)) (3.4.3)\n",
            "Requirement already satisfied: asyncpg==0.29.0 in /usr/local/lib/python3.11/dist-packages (from -r requirements.txt (line 15)) (0.29.0)\n",
            "Requirement already satisfied: langchain-google-cloud-sql-pg in /usr/local/lib/python3.11/dist-packages (from -r requirements.txt (line 17)) (0.12.1)\n",
            "Requirement already satisfied: numpy in /usr/local/lib/python3.11/dist-packages (from -r requirements.txt (line 18)) (1.26.4)\n",
            "Collecting numpy (from -r requirements.txt (line 18))\n",
            "  Using cached numpy-2.2.3-cp311-cp311-manylinux_2_17_x86_64.manylinux2014_x86_64.whl.metadata (62 kB)\n",
            "Requirement already satisfied: pandas in /usr/local/lib/python3.11/dist-packages (from -r requirements.txt (line 19)) (2.2.3)\n",
            "Requirement already satisfied: pgvector in /usr/local/lib/python3.11/dist-packages (from -r requirements.txt (line 20)) (0.3.6)\n",
            "Requirement already satisfied: psycopg2-binary in /usr/local/lib/python3.11/dist-packages (from -r requirements.txt (line 21)) (2.9.10)\n",
            "Requirement already satisfied: langchain-openai in /usr/local/lib/python3.11/dist-packages (from -r requirements.txt (line 22)) (0.3.6)\n",
            "Requirement already satisfied: langgraph in /usr/local/lib/python3.11/dist-packages (from -r requirements.txt (line 23)) (0.2.74)\n",
            "Requirement already satisfied: traceloop-sdk in /usr/local/lib/python3.11/dist-packages (from -r requirements.txt (line 24)) (0.38.7)\n",
            "Requirement already satisfied: opentelemetry-instrumentation-google-generativeai in /usr/local/lib/python3.11/dist-packages (from -r requirements.txt (line 25)) (0.38.7)\n",
            "Requirement already satisfied: opentelemetry-instrumentation-langchain in /usr/local/lib/python3.11/dist-packages (from -r requirements.txt (line 26)) (0.38.7)\n",
            "Requirement already satisfied: opentelemetry-instrumentation-vertexai in /usr/local/lib/python3.11/dist-packages (from -r requirements.txt (line 27)) (0.38.7)\n",
            "Requirement already satisfied: python-dotenv in /usr/local/lib/python3.11/dist-packages (from -r requirements.txt (line 28)) (1.0.1)\n",
            "Requirement already satisfied: cloud-sql-python-connector[asyncpg] in /usr/local/lib/python3.11/dist-packages (from -r requirements.txt (line 16)) (1.13.0)\n",
            "Collecting cloud-sql-python-connector[asyncpg] (from -r requirements.txt (line 16))\n",
            "  Using cached cloud_sql_python_connector-1.17.0-py3-none-any.whl.metadata (30 kB)\n",
            "Requirement already satisfied: google-cloud-storage<3.0.0,>=2.18.0 in /usr/local/lib/python3.11/dist-packages (from langchain-google-vertexai==2.0.8->-r requirements.txt (line 8)) (2.19.0)\n",
            "Requirement already satisfied: httpx<0.28.0,>=0.27.0 in /usr/local/lib/python3.11/dist-packages (from langchain-google-vertexai==2.0.8->-r requirements.txt (line 8)) (0.27.2)\n",
            "Requirement already satisfied: httpx-sse<0.5.0,>=0.4.0 in /usr/local/lib/python3.11/dist-packages (from langchain-google-vertexai==2.0.8->-r requirements.txt (line 8)) (0.4.0)\n",
            "Requirement already satisfied: annotated-types>=0.6.0 in /usr/local/lib/python3.11/dist-packages (from pydantic==2.9.2->-r requirements.txt (line 10)) (0.7.0)\n",
            "Requirement already satisfied: pydantic-core==2.23.4 in /usr/local/lib/python3.11/dist-packages (from pydantic==2.9.2->-r requirements.txt (line 10)) (2.23.4)\n",
            "Requirement already satisfied: typing-extensions>=4.6.1 in /usr/local/lib/python3.11/dist-packages (from pydantic==2.9.2->-r requirements.txt (line 10)) (4.12.2)\n",
            "Requirement already satisfied: async-timeout>=4.0.3 in /usr/local/lib/python3.11/dist-packages (from asyncpg==0.29.0->-r requirements.txt (line 15)) (5.0.1)\n",
            "Requirement already satisfied: google-api-core!=2.0.*,!=2.1.*,!=2.2.*,!=2.3.*,!=2.4.*,!=2.5.*,!=2.6.*,!=2.7.*,<3.0.0dev,>=1.34.1 in /usr/local/lib/python3.11/dist-packages (from google-api-core[grpc]!=2.0.*,!=2.1.*,!=2.2.*,!=2.3.*,!=2.4.*,!=2.5.*,!=2.6.*,!=2.7.*,<3.0.0dev,>=1.34.1->google-cloud-aiplatform->-r requirements.txt (line 2)) (2.24.1)\n",
            "Requirement already satisfied: google-auth<3.0.0dev,>=2.14.1 in /usr/local/lib/python3.11/dist-packages (from google-cloud-aiplatform->-r requirements.txt (line 2)) (2.38.0)\n",
            "Requirement already satisfied: proto-plus<2.0.0dev,>=1.22.3 in /usr/local/lib/python3.11/dist-packages (from google-cloud-aiplatform->-r requirements.txt (line 2)) (1.26.0)\n",
            "Requirement already satisfied: protobuf!=4.21.0,!=4.21.1,!=4.21.2,!=4.21.3,!=4.21.4,!=4.21.5,<6.0.0dev,>=3.20.2 in /usr/local/lib/python3.11/dist-packages (from google-cloud-aiplatform->-r requirements.txt (line 2)) (5.29.3)\n",
            "Requirement already satisfied: packaging>=14.3 in /usr/local/lib/python3.11/dist-packages (from google-cloud-aiplatform->-r requirements.txt (line 2)) (24.2)\n",
            "Requirement already satisfied: google-cloud-bigquery!=3.20.0,<4.0.0dev,>=1.15.0 in /usr/local/lib/python3.11/dist-packages (from google-cloud-aiplatform->-r requirements.txt (line 2)) (3.29.0)\n",
            "Requirement already satisfied: google-cloud-resource-manager<3.0.0dev,>=1.3.3 in /usr/local/lib/python3.11/dist-packages (from google-cloud-aiplatform->-r requirements.txt (line 2)) (1.14.0)\n",
            "Requirement already satisfied: shapely<3.0.0dev in /usr/local/lib/python3.11/dist-packages (from google-cloud-aiplatform->-r requirements.txt (line 2)) (2.0.7)\n",
            "Requirement already satisfied: docstring-parser<1 in /usr/local/lib/python3.11/dist-packages (from google-cloud-aiplatform->-r requirements.txt (line 2)) (0.16)\n",
            "Requirement already satisfied: openinference-instrumentation-langchain<0.2,>=0.1.19 in /usr/local/lib/python3.11/dist-packages (from google-cloud-aiplatform[langchain]->-r requirements.txt (line 3)) (0.1.33)\n",
            "Requirement already satisfied: google-cloud-trace<2 in /usr/local/lib/python3.11/dist-packages (from google-cloud-aiplatform[reasoningengine]->-r requirements.txt (line 4)) (1.16.0)\n",
            "Requirement already satisfied: opentelemetry-sdk<2 in /usr/local/lib/python3.11/dist-packages (from google-cloud-aiplatform[reasoningengine]->-r requirements.txt (line 4)) (1.30.0)\n",
            "Requirement already satisfied: opentelemetry-exporter-gcp-trace<2 in /usr/local/lib/python3.11/dist-packages (from google-cloud-aiplatform[reasoningengine]->-r requirements.txt (line 4)) (1.9.0)\n",
            "Requirement already satisfied: langchain-text-splitters<1.0.0,>=0.3.6 in /usr/local/lib/python3.11/dist-packages (from langchain->-r requirements.txt (line 5)) (0.3.6)\n",
            "Requirement already satisfied: langsmith<0.4,>=0.1.17 in /usr/local/lib/python3.11/dist-packages (from langchain->-r requirements.txt (line 5)) (0.3.8)\n",
            "Requirement already satisfied: SQLAlchemy<3,>=1.4 in /usr/local/lib/python3.11/dist-packages (from langchain->-r requirements.txt (line 5)) (2.0.38)\n",
            "Requirement already satisfied: requests<3,>=2 in /usr/local/lib/python3.11/dist-packages (from langchain->-r requirements.txt (line 5)) (2.32.3)\n",
            "Requirement already satisfied: PyYAML>=5.3 in /usr/local/lib/python3.11/dist-packages (from langchain->-r requirements.txt (line 5)) (6.0.2)\n",
            "Requirement already satisfied: aiohttp<4.0.0,>=3.8.3 in /usr/local/lib/python3.11/dist-packages (from langchain->-r requirements.txt (line 5)) (3.11.12)\n",
            "Requirement already satisfied: tenacity!=8.4.0,<10,>=8.1.0 in /usr/local/lib/python3.11/dist-packages (from langchain->-r requirements.txt (line 5)) (8.5.0)\n",
            "Requirement already satisfied: jsonpatch<2.0,>=1.33 in /usr/local/lib/python3.11/dist-packages (from langchain_core->-r requirements.txt (line 6)) (1.33)\n",
            "Requirement already satisfied: dataclasses-json<0.7,>=0.5.7 in /usr/local/lib/python3.11/dist-packages (from langchain_community->-r requirements.txt (line 7)) (0.6.7)\n",
            "Requirement already satisfied: pydantic-settings<3.0.0,>=2.4.0 in /usr/local/lib/python3.11/dist-packages (from langchain_community->-r requirements.txt (line 7)) (2.8.0)\n",
            "Requirement already satisfied: google-api-python-client<3.0.0,>=2.122.0 in /usr/local/lib/python3.11/dist-packages (from langchain-google-community->-r requirements.txt (line 11)) (2.160.0)\n",
            "Requirement already satisfied: google-cloud-core<3.0.0,>=2.4.1 in /usr/local/lib/python3.11/dist-packages (from langchain-google-community->-r requirements.txt (line 11)) (2.4.1)\n",
            "Requirement already satisfied: grpcio<2.0.0,>=1.62.0 in /usr/local/lib/python3.11/dist-packages (from langchain-google-community->-r requirements.txt (line 11)) (1.70.0)\n",
            "Requirement already satisfied: aiofiles in /usr/local/lib/python3.11/dist-packages (from cloud-sql-python-connector[asyncpg]->-r requirements.txt (line 16)) (24.1.0)\n",
            "Requirement already satisfied: cryptography>=42.0.0 in /usr/local/lib/python3.11/dist-packages (from cloud-sql-python-connector[asyncpg]->-r requirements.txt (line 16)) (43.0.3)\n",
            "Collecting dnspython>=2.0.0 (from cloud-sql-python-connector[asyncpg]->-r requirements.txt (line 16))\n",
            "  Using cached dnspython-2.7.0-py3-none-any.whl.metadata (5.8 kB)\n",
            "INFO: pip is looking at multiple versions of cloud-sql-python-connector[asyncpg] to determine which version is compatible with other requirements. This could take a while.\n",
            "Collecting cloud-sql-python-connector[asyncpg] (from -r requirements.txt (line 16))\n",
            "  Using cached cloud_sql_python_connector-1.16.0-py2.py3-none-any.whl.metadata (30 kB)\n",
            "  Using cached cloud_sql_python_connector-1.15.0-py2.py3-none-any.whl.metadata (30 kB)\n",
            "  Using cached cloud_sql_python_connector-1.14.0-py2.py3-none-any.whl.metadata (28 kB)\n",
            "Requirement already satisfied: python-dateutil>=2.8.2 in /usr/local/lib/python3.11/dist-packages (from pandas->-r requirements.txt (line 19)) (2.8.2)\n",
            "Requirement already satisfied: pytz>=2020.1 in /usr/local/lib/python3.11/dist-packages (from pandas->-r requirements.txt (line 19)) (2025.1)\n",
            "Requirement already satisfied: tzdata>=2022.7 in /usr/local/lib/python3.11/dist-packages (from pandas->-r requirements.txt (line 19)) (2025.1)\n",
            "Requirement already satisfied: openai<2.0.0,>=1.58.1 in /usr/local/lib/python3.11/dist-packages (from langchain-openai->-r requirements.txt (line 22)) (1.61.1)\n",
            "Requirement already satisfied: tiktoken<1,>=0.7 in /usr/local/lib/python3.11/dist-packages (from langchain-openai->-r requirements.txt (line 22)) (0.9.0)\n",
            "Requirement already satisfied: langgraph-checkpoint<3.0.0,>=2.0.10 in /usr/local/lib/python3.11/dist-packages (from langgraph->-r requirements.txt (line 23)) (2.0.16)\n",
            "Requirement already satisfied: langgraph-sdk<0.2.0,>=0.1.42 in /usr/local/lib/python3.11/dist-packages (from langgraph->-r requirements.txt (line 23)) (0.1.53)\n",
            "Requirement already satisfied: colorama<0.5.0,>=0.4.6 in /usr/local/lib/python3.11/dist-packages (from traceloop-sdk->-r requirements.txt (line 24)) (0.4.6)\n",
            "Requirement already satisfied: deprecated<2.0.0,>=1.2.14 in /usr/local/lib/python3.11/dist-packages (from traceloop-sdk->-r requirements.txt (line 24)) (1.2.18)\n",
            "Requirement already satisfied: jinja2<4.0.0,>=3.1.5 in /usr/local/lib/python3.11/dist-packages (from traceloop-sdk->-r requirements.txt (line 24)) (3.1.5)\n",
            "Requirement already satisfied: opentelemetry-api<2.0.0,>=1.28.0 in /usr/local/lib/python3.11/dist-packages (from traceloop-sdk->-r requirements.txt (line 24)) (1.30.0)\n",
            "Requirement already satisfied: opentelemetry-exporter-otlp-proto-grpc<2.0.0,>=1.28.0 in /usr/local/lib/python3.11/dist-packages (from traceloop-sdk->-r requirements.txt (line 24)) (1.30.0)\n",
            "Requirement already satisfied: opentelemetry-exporter-otlp-proto-http<2.0.0,>=1.28.0 in /usr/local/lib/python3.11/dist-packages (from traceloop-sdk->-r requirements.txt (line 24)) (1.30.0)\n",
            "Requirement already satisfied: opentelemetry-instrumentation-alephalpha==0.38.7 in /usr/local/lib/python3.11/dist-packages (from traceloop-sdk->-r requirements.txt (line 24)) (0.38.7)\n",
            "Requirement already satisfied: opentelemetry-instrumentation-anthropic==0.38.7 in /usr/local/lib/python3.11/dist-packages (from traceloop-sdk->-r requirements.txt (line 24)) (0.38.7)\n",
            "Requirement already satisfied: opentelemetry-instrumentation-bedrock==0.38.7 in /usr/local/lib/python3.11/dist-packages (from traceloop-sdk->-r requirements.txt (line 24)) (0.38.7)\n",
            "Requirement already satisfied: opentelemetry-instrumentation-chromadb==0.38.7 in /usr/local/lib/python3.11/dist-packages (from traceloop-sdk->-r requirements.txt (line 24)) (0.38.7)\n",
            "Requirement already satisfied: opentelemetry-instrumentation-cohere==0.38.7 in /usr/local/lib/python3.11/dist-packages (from traceloop-sdk->-r requirements.txt (line 24)) (0.38.7)\n",
            "Requirement already satisfied: opentelemetry-instrumentation-crewai==0.38.7 in /usr/local/lib/python3.11/dist-packages (from traceloop-sdk->-r requirements.txt (line 24)) (0.38.7)\n",
            "Requirement already satisfied: opentelemetry-instrumentation-groq==0.38.7 in /usr/local/lib/python3.11/dist-packages (from traceloop-sdk->-r requirements.txt (line 24)) (0.38.7)\n",
            "Requirement already satisfied: opentelemetry-instrumentation-haystack==0.38.7 in /usr/local/lib/python3.11/dist-packages (from traceloop-sdk->-r requirements.txt (line 24)) (0.38.7)\n",
            "Requirement already satisfied: opentelemetry-instrumentation-lancedb==0.38.7 in /usr/local/lib/python3.11/dist-packages (from traceloop-sdk->-r requirements.txt (line 24)) (0.38.7)\n",
            "Requirement already satisfied: opentelemetry-instrumentation-llamaindex==0.38.7 in /usr/local/lib/python3.11/dist-packages (from traceloop-sdk->-r requirements.txt (line 24)) (0.38.7)\n",
            "Requirement already satisfied: opentelemetry-instrumentation-logging>=0.50b0 in /usr/local/lib/python3.11/dist-packages (from traceloop-sdk->-r requirements.txt (line 24)) (0.51b0)\n",
            "Requirement already satisfied: opentelemetry-instrumentation-marqo==0.38.7 in /usr/local/lib/python3.11/dist-packages (from traceloop-sdk->-r requirements.txt (line 24)) (0.38.7)\n",
            "Requirement already satisfied: opentelemetry-instrumentation-milvus==0.38.7 in /usr/local/lib/python3.11/dist-packages (from traceloop-sdk->-r requirements.txt (line 24)) (0.38.7)\n",
            "Requirement already satisfied: opentelemetry-instrumentation-mistralai==0.38.7 in /usr/local/lib/python3.11/dist-packages (from traceloop-sdk->-r requirements.txt (line 24)) (0.38.7)\n",
            "Requirement already satisfied: opentelemetry-instrumentation-ollama==0.38.7 in /usr/local/lib/python3.11/dist-packages (from traceloop-sdk->-r requirements.txt (line 24)) (0.38.7)\n",
            "Requirement already satisfied: opentelemetry-instrumentation-openai==0.38.7 in /usr/local/lib/python3.11/dist-packages (from traceloop-sdk->-r requirements.txt (line 24)) (0.38.7)\n",
            "Requirement already satisfied: opentelemetry-instrumentation-pinecone==0.38.7 in /usr/local/lib/python3.11/dist-packages (from traceloop-sdk->-r requirements.txt (line 24)) (0.38.7)\n",
            "Requirement already satisfied: opentelemetry-instrumentation-qdrant==0.38.7 in /usr/local/lib/python3.11/dist-packages (from traceloop-sdk->-r requirements.txt (line 24)) (0.38.7)\n",
            "Requirement already satisfied: opentelemetry-instrumentation-replicate==0.38.7 in /usr/local/lib/python3.11/dist-packages (from traceloop-sdk->-r requirements.txt (line 24)) (0.38.7)\n",
            "Requirement already satisfied: opentelemetry-instrumentation-requests>=0.50b0 in /usr/local/lib/python3.11/dist-packages (from traceloop-sdk->-r requirements.txt (line 24)) (0.51b0)\n",
            "Requirement already satisfied: opentelemetry-instrumentation-sagemaker==0.38.7 in /usr/local/lib/python3.11/dist-packages (from traceloop-sdk->-r requirements.txt (line 24)) (0.38.7)\n",
            "Requirement already satisfied: opentelemetry-instrumentation-sqlalchemy>=0.50b0 in /usr/local/lib/python3.11/dist-packages (from traceloop-sdk->-r requirements.txt (line 24)) (0.51b0)\n",
            "Requirement already satisfied: opentelemetry-instrumentation-threading>=0.50b0 in /usr/local/lib/python3.11/dist-packages (from traceloop-sdk->-r requirements.txt (line 24)) (0.51b0)\n",
            "Requirement already satisfied: opentelemetry-instrumentation-together==0.38.7 in /usr/local/lib/python3.11/dist-packages (from traceloop-sdk->-r requirements.txt (line 24)) (0.38.7)\n",
            "Requirement already satisfied: opentelemetry-instrumentation-transformers==0.38.7 in /usr/local/lib/python3.11/dist-packages (from traceloop-sdk->-r requirements.txt (line 24)) (0.38.7)\n",
            "Requirement already satisfied: opentelemetry-instrumentation-urllib3>=0.50b0 in /usr/local/lib/python3.11/dist-packages (from traceloop-sdk->-r requirements.txt (line 24)) (0.51b0)\n",
            "Requirement already satisfied: opentelemetry-instrumentation-watsonx==0.38.7 in /usr/local/lib/python3.11/dist-packages (from traceloop-sdk->-r requirements.txt (line 24)) (0.38.7)\n",
            "Requirement already satisfied: opentelemetry-instrumentation-weaviate==0.38.7 in /usr/local/lib/python3.11/dist-packages (from traceloop-sdk->-r requirements.txt (line 24)) (0.38.7)\n",
            "Requirement already satisfied: opentelemetry-semantic-conventions-ai==0.4.2 in /usr/local/lib/python3.11/dist-packages (from traceloop-sdk->-r requirements.txt (line 24)) (0.4.2)\n",
            "Requirement already satisfied: posthog<4,>3.0.2 in /usr/local/lib/python3.11/dist-packages (from traceloop-sdk->-r requirements.txt (line 24)) (3.15.0)\n",
            "Requirement already satisfied: opentelemetry-instrumentation>=0.50b0 in /usr/local/lib/python3.11/dist-packages (from opentelemetry-instrumentation-google-generativeai->-r requirements.txt (line 25)) (0.51b0)\n",
            "Requirement already satisfied: opentelemetry-semantic-conventions>=0.50b0 in /usr/local/lib/python3.11/dist-packages (from opentelemetry-instrumentation-google-generativeai->-r requirements.txt (line 25)) (0.51b0)\n",
            "Requirement already satisfied: anthropic>=0.17.0 in /usr/local/lib/python3.11/dist-packages (from opentelemetry-instrumentation-bedrock==0.38.7->traceloop-sdk->-r requirements.txt (line 24)) (0.46.0)\n",
            "Requirement already satisfied: inflection<0.6.0,>=0.5.1 in /usr/local/lib/python3.11/dist-packages (from opentelemetry-instrumentation-llamaindex==0.38.7->traceloop-sdk->-r requirements.txt (line 24)) (0.5.1)\n",
            "Requirement already satisfied: aiohappyeyeballs>=2.3.0 in /usr/local/lib/python3.11/dist-packages (from aiohttp<4.0.0,>=3.8.3->langchain->-r requirements.txt (line 5)) (2.4.6)\n",
            "Requirement already satisfied: aiosignal>=1.1.2 in /usr/local/lib/python3.11/dist-packages (from aiohttp<4.0.0,>=3.8.3->langchain->-r requirements.txt (line 5)) (1.3.2)\n",
            "Requirement already satisfied: attrs>=17.3.0 in /usr/local/lib/python3.11/dist-packages (from aiohttp<4.0.0,>=3.8.3->langchain->-r requirements.txt (line 5)) (25.1.0)\n",
            "Requirement already satisfied: frozenlist>=1.1.1 in /usr/local/lib/python3.11/dist-packages (from aiohttp<4.0.0,>=3.8.3->langchain->-r requirements.txt (line 5)) (1.5.0)\n",
            "Requirement already satisfied: multidict<7.0,>=4.5 in /usr/local/lib/python3.11/dist-packages (from aiohttp<4.0.0,>=3.8.3->langchain->-r requirements.txt (line 5)) (6.1.0)\n",
            "Requirement already satisfied: propcache>=0.2.0 in /usr/local/lib/python3.11/dist-packages (from aiohttp<4.0.0,>=3.8.3->langchain->-r requirements.txt (line 5)) (0.2.1)\n",
            "Requirement already satisfied: yarl<2.0,>=1.17.0 in /usr/local/lib/python3.11/dist-packages (from aiohttp<4.0.0,>=3.8.3->langchain->-r requirements.txt (line 5)) (1.18.3)\n",
            "Requirement already satisfied: cffi>=1.12 in /usr/local/lib/python3.11/dist-packages (from cryptography>=42.0.0->cloud-sql-python-connector[asyncpg]->-r requirements.txt (line 16)) (1.17.1)\n",
            "Requirement already satisfied: marshmallow<4.0.0,>=3.18.0 in /usr/local/lib/python3.11/dist-packages (from dataclasses-json<0.7,>=0.5.7->langchain_community->-r requirements.txt (line 7)) (3.26.1)\n",
            "Requirement already satisfied: typing-inspect<1,>=0.4.0 in /usr/local/lib/python3.11/dist-packages (from dataclasses-json<0.7,>=0.5.7->langchain_community->-r requirements.txt (line 7)) (0.9.0)\n",
            "Requirement already satisfied: wrapt<2,>=1.10 in /usr/local/lib/python3.11/dist-packages (from deprecated<2.0.0,>=1.2.14->traceloop-sdk->-r requirements.txt (line 24)) (1.17.2)\n",
            "Requirement already satisfied: googleapis-common-protos<2.0.dev0,>=1.56.2 in /usr/local/lib/python3.11/dist-packages (from google-api-core!=2.0.*,!=2.1.*,!=2.2.*,!=2.3.*,!=2.4.*,!=2.5.*,!=2.6.*,!=2.7.*,<3.0.0dev,>=1.34.1->google-api-core[grpc]!=2.0.*,!=2.1.*,!=2.2.*,!=2.3.*,!=2.4.*,!=2.5.*,!=2.6.*,!=2.7.*,<3.0.0dev,>=1.34.1->google-cloud-aiplatform->-r requirements.txt (line 2)) (1.67.0)\n",
            "Requirement already satisfied: grpcio-status<2.0.dev0,>=1.33.2 in /usr/local/lib/python3.11/dist-packages (from google-api-core[grpc]!=2.0.*,!=2.1.*,!=2.2.*,!=2.3.*,!=2.4.*,!=2.5.*,!=2.6.*,!=2.7.*,<3.0.0dev,>=1.34.1->google-cloud-aiplatform->-r requirements.txt (line 2)) (1.62.3)\n",
            "Requirement already satisfied: httplib2<1.dev0,>=0.19.0 in /usr/local/lib/python3.11/dist-packages (from google-api-python-client<3.0.0,>=2.122.0->langchain-google-community->-r requirements.txt (line 11)) (0.22.0)\n",
            "Requirement already satisfied: google-auth-httplib2<1.0.0,>=0.2.0 in /usr/local/lib/python3.11/dist-packages (from google-api-python-client<3.0.0,>=2.122.0->langchain-google-community->-r requirements.txt (line 11)) (0.2.0)\n",
            "Requirement already satisfied: uritemplate<5,>=3.0.1 in /usr/local/lib/python3.11/dist-packages (from google-api-python-client<3.0.0,>=2.122.0->langchain-google-community->-r requirements.txt (line 11)) (4.1.1)\n",
            "Requirement already satisfied: cachetools<6.0,>=2.0.0 in /usr/local/lib/python3.11/dist-packages (from google-auth<3.0.0dev,>=2.14.1->google-cloud-aiplatform->-r requirements.txt (line 2)) (5.5.1)\n",
            "Requirement already satisfied: pyasn1-modules>=0.2.1 in /usr/local/lib/python3.11/dist-packages (from google-auth<3.0.0dev,>=2.14.1->google-cloud-aiplatform->-r requirements.txt (line 2)) (0.4.1)\n",
            "Requirement already satisfied: rsa<5,>=3.1.4 in /usr/local/lib/python3.11/dist-packages (from google-auth<3.0.0dev,>=2.14.1->google-cloud-aiplatform->-r requirements.txt (line 2)) (4.9)\n",
            "Requirement already satisfied: google-resumable-media<3.0dev,>=2.0.0 in /usr/local/lib/python3.11/dist-packages (from google-cloud-bigquery!=3.20.0,<4.0.0dev,>=1.15.0->google-cloud-aiplatform->-r requirements.txt (line 2)) (2.7.2)\n",
            "Requirement already satisfied: grpc-google-iam-v1<1.0.0dev,>=0.12.4 in /usr/local/lib/python3.11/dist-packages (from google-cloud-resource-manager<3.0.0dev,>=1.3.3->google-cloud-aiplatform->-r requirements.txt (line 2)) (0.14.0)\n",
            "Requirement already satisfied: google-crc32c<2.0dev,>=1.0 in /usr/local/lib/python3.11/dist-packages (from google-cloud-storage<3.0.0,>=2.18.0->langchain-google-vertexai==2.0.8->-r requirements.txt (line 8)) (1.6.0)\n",
            "Requirement already satisfied: anyio in /usr/local/lib/python3.11/dist-packages (from httpx<0.28.0,>=0.27.0->langchain-google-vertexai==2.0.8->-r requirements.txt (line 8)) (3.7.1)\n",
            "Requirement already satisfied: certifi in /usr/local/lib/python3.11/dist-packages (from httpx<0.28.0,>=0.27.0->langchain-google-vertexai==2.0.8->-r requirements.txt (line 8)) (2025.1.31)\n",
            "Requirement already satisfied: httpcore==1.* in /usr/local/lib/python3.11/dist-packages (from httpx<0.28.0,>=0.27.0->langchain-google-vertexai==2.0.8->-r requirements.txt (line 8)) (1.0.7)\n",
            "Requirement already satisfied: idna in /usr/local/lib/python3.11/dist-packages (from httpx<0.28.0,>=0.27.0->langchain-google-vertexai==2.0.8->-r requirements.txt (line 8)) (3.10)\n",
            "Requirement already satisfied: sniffio in /usr/local/lib/python3.11/dist-packages (from httpx<0.28.0,>=0.27.0->langchain-google-vertexai==2.0.8->-r requirements.txt (line 8)) (1.3.1)\n",
            "Requirement already satisfied: h11<0.15,>=0.13 in /usr/local/lib/python3.11/dist-packages (from httpcore==1.*->httpx<0.28.0,>=0.27.0->langchain-google-vertexai==2.0.8->-r requirements.txt (line 8)) (0.14.0)\n",
            "Requirement already satisfied: MarkupSafe>=2.0 in /usr/local/lib/python3.11/dist-packages (from jinja2<4.0.0,>=3.1.5->traceloop-sdk->-r requirements.txt (line 24)) (3.0.2)\n",
            "Requirement already satisfied: jsonpointer>=1.9 in /usr/local/lib/python3.11/dist-packages (from jsonpatch<2.0,>=1.33->langchain_core->-r requirements.txt (line 6)) (3.0.0)\n",
            "Requirement already satisfied: msgpack<2.0.0,>=1.1.0 in /usr/local/lib/python3.11/dist-packages (from langgraph-checkpoint<3.0.0,>=2.0.10->langgraph->-r requirements.txt (line 23)) (1.1.0)\n",
            "Requirement already satisfied: orjson>=3.10.1 in /usr/local/lib/python3.11/dist-packages (from langgraph-sdk<0.2.0,>=0.1.42->langgraph->-r requirements.txt (line 23)) (3.10.15)\n",
            "Requirement already satisfied: requests-toolbelt<2.0.0,>=1.0.0 in /usr/local/lib/python3.11/dist-packages (from langsmith<0.4,>=0.1.17->langchain->-r requirements.txt (line 5)) (1.0.0)\n",
            "Requirement already satisfied: zstandard<0.24.0,>=0.23.0 in /usr/local/lib/python3.11/dist-packages (from langsmith<0.4,>=0.1.17->langchain->-r requirements.txt (line 5)) (0.23.0)\n",
            "Requirement already satisfied: distro<2,>=1.7.0 in /usr/local/lib/python3.11/dist-packages (from openai<2.0.0,>=1.58.1->langchain-openai->-r requirements.txt (line 22)) (1.9.0)\n",
            "Requirement already satisfied: jiter<1,>=0.4.0 in /usr/local/lib/python3.11/dist-packages (from openai<2.0.0,>=1.58.1->langchain-openai->-r requirements.txt (line 22)) (0.8.2)\n",
            "Requirement already satisfied: tqdm>4 in /usr/local/lib/python3.11/dist-packages (from openai<2.0.0,>=1.58.1->langchain-openai->-r requirements.txt (line 22)) (4.67.1)\n",
            "Requirement already satisfied: openinference-instrumentation>=0.1.17 in /usr/local/lib/python3.11/dist-packages (from openinference-instrumentation-langchain<0.2,>=0.1.19->google-cloud-aiplatform[langchain]->-r requirements.txt (line 3)) (0.1.22)\n",
            "Requirement already satisfied: openinference-semantic-conventions>=0.1.9 in /usr/local/lib/python3.11/dist-packages (from openinference-instrumentation-langchain<0.2,>=0.1.19->google-cloud-aiplatform[langchain]->-r requirements.txt (line 3)) (0.1.14)\n",
            "Requirement already satisfied: importlib-metadata<=8.5.0,>=6.0 in /usr/local/lib/python3.11/dist-packages (from opentelemetry-api<2.0.0,>=1.28.0->traceloop-sdk->-r requirements.txt (line 24)) (8.5.0)\n",
            "Requirement already satisfied: opentelemetry-resourcedetector-gcp==1.*,>=1.5.0dev0 in /usr/local/lib/python3.11/dist-packages (from opentelemetry-exporter-gcp-trace<2->google-cloud-aiplatform[reasoningengine]->-r requirements.txt (line 4)) (1.9.0a0)\n",
            "Requirement already satisfied: opentelemetry-exporter-otlp-proto-common==1.30.0 in /usr/local/lib/python3.11/dist-packages (from opentelemetry-exporter-otlp-proto-grpc<2.0.0,>=1.28.0->traceloop-sdk->-r requirements.txt (line 24)) (1.30.0)\n",
            "Requirement already satisfied: opentelemetry-proto==1.30.0 in /usr/local/lib/python3.11/dist-packages (from opentelemetry-exporter-otlp-proto-grpc<2.0.0,>=1.28.0->traceloop-sdk->-r requirements.txt (line 24)) (1.30.0)\n",
            "Requirement already satisfied: opentelemetry-util-http==0.51b0 in /usr/local/lib/python3.11/dist-packages (from opentelemetry-instrumentation-requests>=0.50b0->traceloop-sdk->-r requirements.txt (line 24)) (0.51b0)\n",
            "Requirement already satisfied: six>=1.5 in /usr/local/lib/python3.11/dist-packages (from posthog<4,>3.0.2->traceloop-sdk->-r requirements.txt (line 24)) (1.17.0)\n",
            "Requirement already satisfied: monotonic>=1.5 in /usr/local/lib/python3.11/dist-packages (from posthog<4,>3.0.2->traceloop-sdk->-r requirements.txt (line 24)) (1.6)\n",
            "Requirement already satisfied: backoff>=1.10.0 in /usr/local/lib/python3.11/dist-packages (from posthog<4,>3.0.2->traceloop-sdk->-r requirements.txt (line 24)) (2.2.1)\n",
            "Requirement already satisfied: charset-normalizer<4,>=2 in /usr/local/lib/python3.11/dist-packages (from requests<3,>=2->langchain->-r requirements.txt (line 5)) (3.4.1)\n",
            "Requirement already satisfied: urllib3<3,>=1.21.1 in /usr/local/lib/python3.11/dist-packages (from requests<3,>=2->langchain->-r requirements.txt (line 5)) (2.3.0)\n",
            "Requirement already satisfied: greenlet!=0.4.17 in /usr/local/lib/python3.11/dist-packages (from SQLAlchemy<3,>=1.4->langchain->-r requirements.txt (line 5)) (3.1.1)\n",
            "Requirement already satisfied: regex>=2022.1.18 in /usr/local/lib/python3.11/dist-packages (from tiktoken<1,>=0.7->langchain-openai->-r requirements.txt (line 22)) (2024.11.6)\n",
            "Requirement already satisfied: pycparser in /usr/local/lib/python3.11/dist-packages (from cffi>=1.12->cryptography>=42.0.0->cloud-sql-python-connector[asyncpg]->-r requirements.txt (line 16)) (2.22)\n",
            "Requirement already satisfied: pyparsing!=3.0.0,!=3.0.1,!=3.0.2,!=3.0.3,<4,>=2.4.2 in /usr/local/lib/python3.11/dist-packages (from httplib2<1.dev0,>=0.19.0->google-api-python-client<3.0.0,>=2.122.0->langchain-google-community->-r requirements.txt (line 11)) (3.2.1)\n",
            "Requirement already satisfied: zipp>=3.20 in /usr/local/lib/python3.11/dist-packages (from importlib-metadata<=8.5.0,>=6.0->opentelemetry-api<2.0.0,>=1.28.0->traceloop-sdk->-r requirements.txt (line 24)) (3.21.0)\n",
            "Requirement already satisfied: pyasn1<0.7.0,>=0.4.6 in /usr/local/lib/python3.11/dist-packages (from pyasn1-modules>=0.2.1->google-auth<3.0.0dev,>=2.14.1->google-cloud-aiplatform->-r requirements.txt (line 2)) (0.6.1)\n",
            "Requirement already satisfied: mypy-extensions>=0.3.0 in /usr/local/lib/python3.11/dist-packages (from typing-inspect<1,>=0.4.0->dataclasses-json<0.7,>=0.5.7->langchain_community->-r requirements.txt (line 7)) (1.0.0)\n"
          ]
        }
      ],
      "source": [
        "!pip install --upgrade -r requirements.txt"
      ]
    },
    {
      "cell_type": "markdown",
      "metadata": {
        "id": "QrPM2M2ucD9g"
      },
      "source": [
        "in case you are facing issue with installing psycopg2, please run the following command (linux only):\n",
        "\n",
        "```\n",
        "sudo apt update\n",
        "sudo apt install python3-dev libpq-dev\n",
        "```"
      ]
    },
    {
      "cell_type": "markdown",
      "metadata": {
        "id": "CqBpMfvwcD9g"
      },
      "source": [
        "You will require to restart the jupyter kernel once the dependency installed."
      ]
    },
    {
      "cell_type": "code",
      "execution_count": 3,
      "metadata": {
        "id": "6ylAvfHvcD9g"
      },
      "outputs": [],
      "source": [
        "# import IPython\n",
        "\n",
        "# app = IPython.Application.instance()\n",
        "# app.kernel.do_shutdown(True)"
      ]
    },
    {
      "cell_type": "markdown",
      "metadata": {
        "id": "BCPwe5nJcD9g"
      },
      "source": [
        "## Setting up Google Cloud Account"
      ]
    },
    {
      "cell_type": "markdown",
      "metadata": {
        "id": "eTO6rgj5cD9h"
      },
      "source": [
        "#### Recommended account setup\n",
        "\n",
        "if you are running this in jupyter notebook locally, you may need to login to google cloud by running the following command from terminal:\n",
        "\n",
        "```\n",
        "gcloud auth login\n",
        "gcloud auth application-default login\n",
        "```"
      ]
    },
    {
      "cell_type": "markdown",
      "metadata": {
        "id": "UJVjDkgucD9h"
      },
      "source": [
        "If you are using Google Colabs, you need to authenticate with your google account by running the following notebook cell.\n",
        "\n",
        "> Please remember that you will need to do this on each jupyter notebook during this workshop"
      ]
    },
    {
      "cell_type": "code",
      "execution_count": 3,
      "metadata": {
        "id": "1-wiXGEmcD9h"
      },
      "outputs": [],
      "source": [
        "# #@markdown ###Authenticate your Google Cloud Account and enable APIs.\n",
        "# # Authenticate gcloud.\n",
        "from google.colab import auth\n",
        "auth.authenticate_user()"
      ]
    },
    {
      "cell_type": "markdown",
      "metadata": {
        "id": "t-rJgsz5cD9h"
      },
      "source": [
        "## Accessing Google Cloud Credit\n",
        "\n",
        "Please redeem your $5 USD credit that you can use for this workshop. Link for this, will be shared on the class room.\n",
        "\n",
        "The instruction given will also require you to create a new GCP project. Create one!"
      ]
    },
    {
      "cell_type": "markdown",
      "metadata": {
        "id": "g1f6HiWxcD9h"
      },
      "source": [
        "## Enabling Google Service API\n",
        "\n",
        "Before creating cloud resources (e.g. database, cloudrun services, reasoning engine, etc), first we must enable the services api."
      ]
    },
    {
      "cell_type": "code",
      "execution_count": 4,
      "metadata": {
        "colab": {
          "base_uri": "https://localhost:8080/"
        },
        "id": "BWNB4SaMcD9h",
        "outputId": "a8675c41-e445-4523-b745-b68d3aa2864e"
      },
      "outputs": [
        {
          "output_type": "stream",
          "name": "stdout",
          "text": [
            "Updated property [core/project].\n"
          ]
        }
      ],
      "source": [
        "# @markdown Replace the required placeholder text below. You can modify any other default values, if you like.\n",
        "\n",
        "# please change the project id into your gcp project id you just created.\n",
        "project_id = \"agent-rag-451702\"  # @param {type:\"string\"}\n",
        "\n",
        "# you can leave this the same.\n",
        "region = \"us-central1\"  # @param {type:\"string\"}\n",
        "\n",
        "!gcloud config set project {project_id} --quiet"
      ]
    },
    {
      "cell_type": "code",
      "execution_count": 5,
      "metadata": {
        "colab": {
          "base_uri": "https://localhost:8080/",
          "height": 35
        },
        "id": "ligmOHMZcD9i",
        "outputId": "a6291313-f1a1-46c9-8687-c6ef78e7c013"
      },
      "outputs": [
        {
          "output_type": "execute_result",
          "data": {
            "text/plain": [
              "'644240883738'"
            ],
            "application/vnd.google.colaboratory.intrinsic+json": {
              "type": "string"
            }
          },
          "metadata": {},
          "execution_count": 5
        }
      ],
      "source": [
        "from googleapiclient import discovery\n",
        "service = discovery.build(\"cloudresourcemanager\", \"v1\")\n",
        "request = service.projects().get(projectId=project_id)\n",
        "response = request.execute()\n",
        "project_number = response[\"projectNumber\"]\n",
        "project_number"
      ]
    },
    {
      "cell_type": "markdown",
      "metadata": {
        "id": "QfHdXEnKcD9i"
      },
      "source": [
        "Here, we will enable few services:\n",
        "\n",
        "* `aiplatform.googleapis.com` -> used for using Gemini LLM and reasoning engine\n",
        "* `run.googleapis.com` -> used for deploying to cloud run\n",
        "* `cloudbuild.googleapis.com` -> used for building docker image and perform the deployment"
      ]
    },
    {
      "cell_type": "code",
      "execution_count": 9,
      "metadata": {
        "scrolled": true,
        "colab": {
          "base_uri": "https://localhost:8080/"
        },
        "id": "lG831edKcD9i",
        "outputId": "95765793-a55c-46cc-8ef3-bd51006bc62a"
      },
      "outputs": [
        {
          "output_type": "stream",
          "name": "stdout",
          "text": [
            "Updated property [core/disable_prompts].\n",
            "Operation \"operations/acat.p2-644240883738-de95c33c-f5d3-4729-9f18-45479ed176ca\" finished successfully.\n",
            "Operation \"operations/acf.p2-644240883738-625d7b4b-6624-4a0b-9d0b-dbc7547d96b8\" finished successfully.\n",
            "Operation \"operations/acat.p2-644240883738-8dea7130-c828-4201-9ad3-3cd3121eccbd\" finished successfully.\n",
            "Operation \"operations/acf.p2-644240883738-c5625ea7-3bec-4a74-a046-30cadf66c79b\" finished successfully.\n",
            "Operation \"operations/acf.p2-644240883738-55d886c7-5894-4453-a2ed-eb8dcec9cd5d\" finished successfully.\n",
            "Operation \"operations/acat.p2-644240883738-eae649b3-1f78-4ad5-9448-7b9e40103a23\" finished successfully.\n",
            "Service identity created: service-644240883738@gcp-sa-aiplatform.iam.gserviceaccount.com\n",
            "Updated IAM policy for project [agent-rag-451702].\n",
            "bindings:\n",
            "- members:\n",
            "  - serviceAccount:644240883738-compute@developer.gserviceaccount.com\n",
            "  - serviceAccount:644240883738@cloudbuild.gserviceaccount.com\n",
            "  role: roles/cloudbuild.builds.builder\n",
            "- members:\n",
            "  - serviceAccount:service-644240883738@gcp-sa-cloudbuild.iam.gserviceaccount.com\n",
            "  role: roles/cloudbuild.serviceAgent\n",
            "- members:\n",
            "  - serviceAccount:service-644240883738@compute-system.iam.gserviceaccount.com\n",
            "  role: roles/compute.serviceAgent\n",
            "- members:\n",
            "  - serviceAccount:service-644240883738@containerregistry.iam.gserviceaccount.com\n",
            "  role: roles/containerregistry.ServiceAgent\n",
            "- members:\n",
            "  - serviceAccount:644240883738-compute@developer.gserviceaccount.com\n",
            "  - serviceAccount:644240883738@cloudservices.gserviceaccount.com\n",
            "  role: roles/editor\n",
            "- members:\n",
            "  - user:sugengdcahyo@gmail.com\n",
            "  role: roles/owner\n",
            "- members:\n",
            "  - serviceAccount:service-644240883738@gcp-sa-pubsub.iam.gserviceaccount.com\n",
            "  role: roles/pubsub.serviceAgent\n",
            "- members:\n",
            "  - serviceAccount:service-644240883738@serverless-robot-prod.iam.gserviceaccount.com\n",
            "  role: roles/run.serviceAgent\n",
            "etag: BwYuscdnajs=\n",
            "version: 1\n"
          ]
        }
      ],
      "source": [
        "!gcloud config set core/disable_prompts True\n",
        "\n",
        "\n",
        "!gcloud services enable artifactregistry.googleapis.com\n",
        "!gcloud services enable compute.googleapis.com\n",
        "!gcloud services enable aiplatform.googleapis.com\n",
        "!gcloud services enable run.googleapis.com\n",
        "!gcloud services enable cloudbuild.googleapis.com\n",
        "!gcloud services enable sqladmin.googleapis.com\n",
        "!gcloud services enable cloudtrace.googleapis.com\n",
        "\n",
        "!gcloud beta services identity create --service=aiplatform.googleapis.com --project={project_id}\n",
        "\n",
        "!gcloud projects add-iam-policy-binding {project_id} \\\n",
        "    --member=serviceAccount:{project_number}-compute@developer.gserviceaccount.com \\\n",
        "    --role=\"roles/cloudbuild.builds.builder\" -q"
      ]
    },
    {
      "cell_type": "markdown",
      "metadata": {
        "id": "XMCEFV2pcD9i"
      },
      "source": [
        "# Deploying Dummy API server\n",
        "\n",
        "Later on this workshop, you will be using your AI agent to interact with api in order to get detail about an online course you provide as well as to create purchase request. Hence, we will deploy the simple stupid API to cloudrun.\n",
        "\n",
        "If you want to see the detail, you can check the `api/` directory.\n",
        "\n",
        "Now let's deploy the Go API to cloud run:"
      ]
    },
    {
      "cell_type": "code",
      "execution_count": 10,
      "metadata": {
        "colab": {
          "base_uri": "https://localhost:8080/"
        },
        "id": "8-b6ccxCcD9i",
        "outputId": "6b347cff-9419-4653-bd8e-6c3fccc46a93"
      },
      "outputs": [
        {
          "output_type": "stream",
          "name": "stdout",
          "text": [
            "Create request issued for: [mkrs]\n",
            "Created repository [mkrs].\n"
          ]
        }
      ],
      "source": [
        "# change this registry name with an unique name\n",
        "registry_name = \"mkrs\"  # @param {type:\"string\"}\n",
        "\n",
        "!gcloud artifacts repositories create {registry_name} \\\n",
        "      --repository-format=docker \\\n",
        "      --location={region} \\\n",
        "      --description=\"devfest artifact registry\" \\\n",
        "      --immutable-tags\n",
        "\n",
        "registry_url = f\"{region}-docker.pkg.dev/{project_id}/{registry_name}\""
      ]
    },
    {
      "cell_type": "markdown",
      "metadata": {
        "id": "-Uk2BGFIcD9i"
      },
      "source": [
        "We will build the docker image used by the API"
      ]
    },
    {
      "cell_type": "code",
      "execution_count": null,
      "metadata": {
        "scrolled": true,
        "id": "SxeShaT6cD9i",
        "outputId": "a991a321-a823-489e-eab6-9c1f9fa506a8"
      },
      "outputs": [
        {
          "name": "stdout",
          "output_type": "stream",
          "text": [
            "Creating temporary archive of 8 file(s) totalling 15.3 KiB before compression.\n",
            "Some files were not included in the source upload.\n",
            "\n",
            "Check the gcloud log [/Users/pabrik/.config/gcloud/logs/2025.02.09/06.16.23.532336.log] to see which files and the contents of the\n",
            "default gcloudignore file used (see `$ gcloud topic gcloudignore` to learn\n",
            "more).\n",
            "\n",
            "Uploading tarball of [api] to [gs://gen-lang-client-0521448746_cloudbuild/source/1739056583.845295-1ffa294250044aab86681586a6fb437c.tgz]\n",
            "Created [https://cloudbuild.googleapis.com/v1/projects/gen-lang-client-0521448746/locations/global/builds/ffb82b4f-518c-43d9-9347-dfe786dc97a7].\n",
            "Logs are available at [ https://console.cloud.google.com/cloud-build/builds/ffb82b4f-518c-43d9-9347-dfe786dc97a7?project=672065512482 ].\n",
            "Waiting for build to complete. Polling interval: 1 second(s).\n",
            "----------------------------- REMOTE BUILD OUTPUT ------------------------------\n",
            "starting build \"ffb82b4f-518c-43d9-9347-dfe786dc97a7\"\n",
            "\n",
            "FETCHSOURCE\n",
            "Fetching storage object: gs://gen-lang-client-0521448746_cloudbuild/source/1739056583.845295-1ffa294250044aab86681586a6fb437c.tgz#1739056585363936\n",
            "Copying gs://gen-lang-client-0521448746_cloudbuild/source/1739056583.845295-1ffa294250044aab86681586a6fb437c.tgz#1739056585363936...\n",
            "/ [1 files][  3.4 KiB/  3.4 KiB]                                                \n",
            "Operation completed over 1 objects/3.4 KiB.\n",
            "BUILD\n",
            "Already have image (with digest): gcr.io/cloud-builders/docker\n",
            "Sending build context to Docker daemon  23.04kB\n",
            "Step 1/11 : FROM golang:1.23-alpine AS builder\n",
            "1.23-alpine: Pulling from library/golang\n",
            "1f3e46996e29: Already exists\n",
            "4c3a26c0c732: Pulling fs layer\n",
            "dd968b00abc2: Pulling fs layer\n",
            "58be0b164ee7: Pulling fs layer\n",
            "4f4fb700ef54: Pulling fs layer\n",
            "4f4fb700ef54: Waiting\n",
            "58be0b164ee7: Verifying Checksum\n",
            "58be0b164ee7: Download complete\n",
            "4c3a26c0c732: Verifying Checksum\n",
            "4c3a26c0c732: Download complete\n",
            "4c3a26c0c732: Pull complete\n",
            "4f4fb700ef54: Verifying Checksum\n",
            "4f4fb700ef54: Download complete\n",
            "dd968b00abc2: Verifying Checksum\n",
            "dd968b00abc2: Download complete\n",
            "dd968b00abc2: Pull complete\n",
            "58be0b164ee7: Pull complete\n",
            "4f4fb700ef54: Pull complete\n",
            "Digest: sha256:2c49857f2295e89b23b28386e57e018a86620a8fede5003900f2d138ba9c4037\n",
            "Status: Downloaded newer image for golang:1.23-alpine\n",
            " ---> 038b36ac86e1\n",
            "Step 2/11 : WORKDIR /app\n",
            " ---> Running in 2c881867556e\n",
            "Removing intermediate container 2c881867556e\n",
            " ---> 1a457494908a\n",
            "Step 3/11 : COPY go.mod go.sum ./\n",
            " ---> b9ac65d8e2d1\n",
            "Step 4/11 : RUN go mod download\n",
            " ---> Running in bbf0e1ab3813\n",
            "Removing intermediate container bbf0e1ab3813\n",
            " ---> c62319a70747\n",
            "Step 5/11 : COPY . .\n",
            " ---> d56defc3e744\n",
            "Step 6/11 : RUN CGO_ENABLED=0 GOOS=linux go build -o main .\n",
            " ---> Running in 434b8f76a731\n",
            "Removing intermediate container 434b8f76a731\n",
            " ---> 9daf7364c214\n",
            "Step 7/11 : FROM alpine:latest\n",
            "latest: Pulling from library/alpine\n",
            "Digest: sha256:56fa17d2a7e7f168a043a2712e63aed1f8543aeafdcee47c58dcffe38ed51099\n",
            "Status: Downloaded newer image for alpine:latest\n",
            " ---> b0c9d60fc5e3\n",
            "Step 8/11 : WORKDIR /root/\n",
            " ---> Running in 59691585e164\n",
            "Removing intermediate container 59691585e164\n",
            " ---> ac1be542f19d\n",
            "Step 9/11 : COPY --from=builder /app/main .\n",
            " ---> b65f7edb36ac\n",
            "Step 10/11 : EXPOSE 8080\n",
            " ---> Running in ff801449269b\n",
            "Removing intermediate container ff801449269b\n",
            " ---> 61ec8192ceee\n",
            "Step 11/11 : CMD [\"./main\"]\n",
            " ---> Running in 5f4f05278e9f\n",
            "Removing intermediate container 5f4f05278e9f\n",
            " ---> 10a6621d56a5\n",
            "Successfully built 10a6621d56a5\n",
            "Successfully tagged us-central1-docker.pkg.dev/gen-lang-client-0521448746/mkrs/courses-api:latest\n",
            "PUSH\n",
            "Pushing us-central1-docker.pkg.dev/gen-lang-client-0521448746/mkrs/courses-api\n",
            "The push refers to repository [us-central1-docker.pkg.dev/gen-lang-client-0521448746/mkrs/courses-api]\n",
            "71606a2a66c0: Preparing\n",
            "a0904247e36a: Preparing\n",
            "a0904247e36a: Layer already exists\n",
            "71606a2a66c0: Pushed\n",
            "manifest invalid: cannot update tag latest. The repository has enabled tag immutability\n",
            "Pushing us-central1-docker.pkg.dev/gen-lang-client-0521448746/mkrs/courses-api\n",
            "The push refers to repository [us-central1-docker.pkg.dev/gen-lang-client-0521448746/mkrs/courses-api]\n",
            "71606a2a66c0: Preparing\n",
            "a0904247e36a: Preparing\n",
            "71606a2a66c0: Layer already exists\n",
            "a0904247e36a: Layer already exists\n",
            "manifest invalid: cannot update tag latest. The repository has enabled tag immutability\n",
            "Pushing us-central1-docker.pkg.dev/gen-lang-client-0521448746/mkrs/courses-api\n",
            "The push refers to repository [us-central1-docker.pkg.dev/gen-lang-client-0521448746/mkrs/courses-api]\n",
            "71606a2a66c0: Preparing\n",
            "a0904247e36a: Preparing\n",
            "71606a2a66c0: Layer already exists\n",
            "a0904247e36a: Layer already exists\n",
            "manifest invalid: cannot update tag latest. The repository has enabled tag immutability\n",
            "Pushing us-central1-docker.pkg.dev/gen-lang-client-0521448746/mkrs/courses-api\n",
            "The push refers to repository [us-central1-docker.pkg.dev/gen-lang-client-0521448746/mkrs/courses-api]\n",
            "71606a2a66c0: Preparing\n",
            "a0904247e36a: Preparing\n",
            "a0904247e36a: Layer already exists\n",
            "71606a2a66c0: Layer already exists\n",
            "manifest invalid: cannot update tag latest. The repository has enabled tag immutability\n",
            "Pushing us-central1-docker.pkg.dev/gen-lang-client-0521448746/mkrs/courses-api\n",
            "The push refers to repository [us-central1-docker.pkg.dev/gen-lang-client-0521448746/mkrs/courses-api]\n",
            "71606a2a66c0: Preparing\n",
            "a0904247e36a: Preparing\n",
            "71606a2a66c0: Layer already exists\n",
            "a0904247e36a: Layer already exists\n",
            "manifest invalid: cannot update tag latest. The repository has enabled tag immutability\n",
            "Pushing us-central1-docker.pkg.dev/gen-lang-client-0521448746/mkrs/courses-api\n",
            "The push refers to repository [us-central1-docker.pkg.dev/gen-lang-client-0521448746/mkrs/courses-api]\n",
            "71606a2a66c0: Preparing\n",
            "a0904247e36a: Preparing\n",
            "71606a2a66c0: Layer already exists\n",
            "a0904247e36a: Layer already exists\n",
            "manifest invalid: cannot update tag latest. The repository has enabled tag immutability\n",
            "Pushing us-central1-docker.pkg.dev/gen-lang-client-0521448746/mkrs/courses-api\n",
            "The push refers to repository [us-central1-docker.pkg.dev/gen-lang-client-0521448746/mkrs/courses-api]\n",
            "71606a2a66c0: Preparing\n",
            "a0904247e36a: Preparing\n",
            "a0904247e36a: Layer already exists\n",
            "71606a2a66c0: Layer already exists\n",
            "manifest invalid: cannot update tag latest. The repository has enabled tag immutability\n",
            "Pushing us-central1-docker.pkg.dev/gen-lang-client-0521448746/mkrs/courses-api\n",
            "The push refers to repository [us-central1-docker.pkg.dev/gen-lang-client-0521448746/mkrs/courses-api]\n",
            "71606a2a66c0: Preparing\n",
            "a0904247e36a: Preparing\n",
            "71606a2a66c0: Layer already exists\n",
            "a0904247e36a: Layer already exists\n",
            "manifest invalid: cannot update tag latest. The repository has enabled tag immutability\n",
            "Pushing us-central1-docker.pkg.dev/gen-lang-client-0521448746/mkrs/courses-api\n",
            "The push refers to repository [us-central1-docker.pkg.dev/gen-lang-client-0521448746/mkrs/courses-api]\n",
            "71606a2a66c0: Preparing\n",
            "a0904247e36a: Preparing\n",
            "a0904247e36a: Layer already exists\n",
            "71606a2a66c0: Layer already exists\n",
            "manifest invalid: cannot update tag latest. The repository has enabled tag immutability\n",
            "Pushing us-central1-docker.pkg.dev/gen-lang-client-0521448746/mkrs/courses-api\n",
            "The push refers to repository [us-central1-docker.pkg.dev/gen-lang-client-0521448746/mkrs/courses-api]\n",
            "71606a2a66c0: Preparing\n",
            "a0904247e36a: Preparing\n",
            "71606a2a66c0: Layer already exists\n",
            "a0904247e36a: Layer already exists\n",
            "manifest invalid: cannot update tag latest. The repository has enabled tag immutability\n",
            "ERROR: failed to push because we ran out of retries.\n",
            "ERROR\n",
            "ERROR: error pushing image \"us-central1-docker.pkg.dev/gen-lang-client-0521448746/mkrs/courses-api\": retry budget exhausted (10 attempts): step exited with non-zero status: 1\n",
            "--------------------------------------------------------------------------------\n",
            "\u001b[1;31mERROR:\u001b[0m (gcloud.builds.submit) build ffb82b4f-518c-43d9-9347-dfe786dc97a7 completed with status \"FAILURE\"\n"
          ]
        }
      ],
      "source": [
        "!gcloud builds submit api --tag {registry_url}/courses-api"
      ]
    },
    {
      "cell_type": "markdown",
      "metadata": {
        "id": "OgJoA6N3cD9j"
      },
      "source": [
        "We will deploy the docker image to cloud run so that we can have the api up and running"
      ]
    },
    {
      "cell_type": "code",
      "execution_count": null,
      "metadata": {
        "scrolled": true,
        "id": "n2WXcqUacD9j",
        "outputId": "7f887a7c-4f53-4bcd-fc85-3b75954572ac"
      },
      "outputs": [
        {
          "name": "stdout",
          "output_type": "stream",
          "text": [
            "Deploying container to Cloud Run service [\u001b[1mcourses-api\u001b[m] in project [\u001b[1mgen-lang-client-0521448746\u001b[m] region [\u001b[1mus-central1\u001b[m]\n",
            "Deploying...                                                                   \n",
            "  . Creating Revision...                                                       \n",
            "  . Routing traffic...                                                         \n",
            "  . Setting IAM Policy...                                                      \n",
            "  Deploying...                                                                 \n",
            "\n",
            "\n",
            "\n",
            "⠛ Deploying...                                                                 \n",
            "\n",
            "\n",
            "\n",
            "⠹ Deploying...                                                                 \n",
            "\n",
            "\n",
            "\n",
            "⠼ Deploying...                                                                 \n",
            "\n",
            "\n",
            "\n",
            "⠶ Deploying...                                                                 \n",
            "\n",
            "\n",
            "\n",
            "⠧ Deploying...                                                                 \n",
            "\n",
            "\n",
            "\n",
            "⠏ Deploying...                                                                 \n",
            "\n",
            "\n",
            "\n",
            "⠛ Deploying...                                                                 \n",
            "\n",
            "\n",
            "\n",
            "⠹ Deploying...                                                                 \n",
            "\n",
            "\n",
            "\n",
            "⠼ Deploying...                                                                 \n",
            "\n",
            "\n",
            "\n",
            "⠶ Deploying...                                                                 \n",
            "\n",
            "\n",
            "\n",
            "⠧ Deploying...                                                                 \n",
            "\n",
            "\n",
            "\n",
            "⠏ Deploying...                                                                 \n",
            "\n",
            "\n",
            "\n",
            "⠛ Deploying...                                                                 \n",
            "\n",
            "\n",
            "  ⠛ Setting IAM Policy...                                                      \n",
            "⠹ Deploying...                                                                 \n",
            "\n",
            "\n",
            "  ⠹ Setting IAM Policy...                                                      \n",
            "⠼ Deploying...                                                                 \n",
            "\n",
            "\n",
            "  ⠼ Setting IAM Policy...                                                      \n",
            "⠶ Deploying...                                                                 \n",
            "\n",
            "\n",
            "  ⠶ Setting IAM Policy...                                                      \n",
            "⠧ Deploying...                                                                 \n",
            "\n",
            "\n",
            "  ⠧ Setting IAM Policy...                                                      \n",
            "⠏ Deploying...                                                                 \n",
            "\n",
            "\n",
            "  ⠏ Setting IAM Policy...                                                      \n",
            "⠛ Deploying...                                                                 \n",
            "\n",
            "\n",
            "  ⠛ Setting IAM Policy...                                                      \n",
            "⠹ Deploying...                                                                 \n",
            "\n",
            "\n",
            "  ⠹ Setting IAM Policy...                                                      \n",
            "⠼ Deploying...                                                                 \n",
            "\n",
            "\n",
            "  ⠼ Setting IAM Policy...                                                      \n",
            "⠶ Deploying...                                                                 \n",
            "\n",
            "\n",
            "  ⠶ Setting IAM Policy...                                                      \n",
            "⠧ Deploying...                                                                 \n",
            "\n",
            "\n",
            "  ⠧ Setting IAM Policy...                                                      \n",
            "⠏ Deploying...                                                                 \n",
            "\n",
            "\n",
            "  ⠏ Setting IAM Policy...                                                      \n",
            "⠛ Deploying...                                                                 \n",
            "\n",
            "\n",
            "  ⠛ Setting IAM Policy...                                                      \n",
            "⠹ Deploying...                                                                 \n",
            "\n",
            "\n",
            "  ⠹ Setting IAM Policy...                                                      \n",
            "⠼ Deploying...                                                                 \n",
            "\n",
            "\n",
            "  ⠼ Setting IAM Policy...                                                      \n",
            "⠶ Deploying...                                                                 \n",
            "\n",
            "\n",
            "  ⠶ Setting IAM Policy...                                                      \n",
            "⠧ Deploying...                                                                 \n",
            "\n",
            "\n",
            "  ⠧ Setting IAM Policy...                                                      \n",
            "⠏ Deploying...                                                                 \n",
            "\n",
            "\n",
            "  ⠏ Setting IAM Policy...                                                      \n",
            "⠛ Deploying...                                                                 \n",
            "\n",
            "\n",
            "  ⠛ Setting IAM Policy...                                                      \n",
            "⠹ Deploying...                                                                 \n",
            "\n",
            "\n",
            "  ⠹ Setting IAM Policy...                                                      \n",
            "⠼ Deploying...                                                                 \n",
            "\n",
            "\n",
            "  ✓ Setting IAM Policy...                                                      \n",
            "⠶ Deploying...                                                                 \n",
            "  ⠶ Creating Revision...                                                       \n",
            "\n",
            "\n",
            "⠧ Deploying...                                                                 \n",
            "  ⠧ Creating Revision...                                                       \n",
            "\n",
            "\n",
            "⠏ Deploying...                                                                 \n",
            "  ⠏ Creating Revision...                                                       \n",
            "\n",
            "\n",
            "⠛ Deploying...                                                                 \n",
            "  ⠛ Creating Revision...                                                       \n",
            "\n",
            "\n",
            "⠹ Deploying...                                                                 \n",
            "  ⠹ Creating Revision...                                                       \n",
            "\n",
            "\n",
            "⠼ Deploying...                                                                 \n",
            "  ⠼ Creating Revision...                                                       \n",
            "\n",
            "\n",
            "⠶ Deploying...                                                                 \n",
            "  ⠶ Creating Revision...                                                       \n",
            "\n",
            "\n",
            "⠧ Deploying...                                                                 \n",
            "  ⠧ Creating Revision...                                                       \n",
            "\n",
            "\n",
            "⠏ Deploying...                                                                 \n",
            "  ⠏ Creating Revision...                                                       \n",
            "\n",
            "\n",
            "⠛ Deploying...                                                                 \n",
            "  ⠛ Creating Revision...                                                       \n",
            "\n",
            "\n",
            "⠹ Deploying...                                                                 \n",
            "  ⠹ Creating Revision...                                                       \n",
            "\n",
            "\n",
            "⠼ Deploying...                                                                 \n",
            "  ⠼ Creating Revision...                                                       \n",
            "\n",
            "\n",
            "⠶ Deploying...                                                                 \n",
            "  ⠶ Creating Revision...                                                       \n",
            "\n",
            "\n",
            "⠧ Deploying...                                                                 \n",
            "  ⠧ Creating Revision...                                                       \n",
            "\n",
            "\n",
            "⠏ Deploying...                                                                 \n",
            "  ⠏ Creating Revision...                                                       \n",
            "\n",
            "\n",
            "⠛ Deploying...                                                                 \n",
            "  ⠛ Creating Revision...                                                       \n",
            "\n",
            "\n",
            "⠹ Deploying...                                                                 \n",
            "  ⠹ Creating Revision...                                                       \n",
            "\n",
            "\n",
            "⠼ Deploying...                                                                 \n",
            "  ⠼ Creating Revision...                                                       \n",
            "\n",
            "\n",
            "⠶ Deploying...                                                                 \n",
            "  ⠶ Creating Revision...                                                       \n",
            "\n",
            "\n",
            "⠧ Deploying...                                                                 \n",
            "  ⠧ Creating Revision...                                                       \n",
            "\n",
            "\n",
            "⠏ Deploying...                                                                 \n",
            "  ⠏ Creating Revision...                                                       \n",
            "\n",
            "\n",
            "⠛ Deploying...                                                                 \n",
            "  ⠛ Creating Revision...                                                       \n",
            "\n",
            "\n",
            "⠹ Deploying...                                                                 \n",
            "  ⠹ Creating Revision...                                                       \n",
            "\n",
            "\n",
            "⠼ Deploying...                                                                 \n",
            "  ⠼ Creating Revision...                                                       \n",
            "\n",
            "\n",
            "⠶ Deploying...                                                                 \n",
            "  ⠶ Creating Revision...                                                       \n",
            "\n",
            "\n",
            "⠧ Deploying...                                                                 \n",
            "  ⠧ Creating Revision...                                                       \n",
            "\n",
            "\n",
            "⠏ Deploying...                                                                 \n",
            "  ⠏ Creating Revision...                                                       \n",
            "\n",
            "\n",
            "⠛ Deploying...                                                                 \n",
            "  ⠛ Creating Revision...                                                       \n",
            "\n",
            "\n",
            "⠹ Deploying...                                                                 \n",
            "  ⠹ Creating Revision...                                                       \n",
            "\n",
            "\n",
            "⠼ Deploying...                                                                 \n",
            "  ⠼ Creating Revision...                                                       \n",
            "\n",
            "\n",
            "⠶ Deploying...                                                                 \n",
            "  ⠶ Creating Revision...                                                       \n",
            "\n",
            "\n",
            "⠧ Deploying...                                                                 \n",
            "  ⠧ Creating Revision...                                                       \n",
            "\n",
            "\n",
            "⠏ Deploying...                                                                 \n",
            "  ⠏ Creating Revision...                                                       \n",
            "\n",
            "\n",
            "⠛ Deploying...                                                                 \n",
            "  ⠛ Creating Revision...                                                       \n",
            "\n",
            "\n",
            "⠹ Deploying...                                                                 \n",
            "  ⠹ Creating Revision...                                                       \n",
            "\n",
            "\n",
            "⠼ Deploying...                                                                 \n",
            "  ⠼ Creating Revision...                                                       \n",
            "\n",
            "\n",
            "⠶ Deploying...                                                                 \n",
            "  ⠶ Creating Revision...                                                       \n",
            "\n",
            "\n",
            "⠧ Deploying...                                                                 \n",
            "  ⠧ Creating Revision...                                                       \n",
            "\n",
            "\n",
            "⠏ Deploying...                                                                 \n",
            "  ⠏ Creating Revision...                                                       \n",
            "\n",
            "\n",
            "⠛ Deploying...                                                                 \n",
            "  ⠛ Creating Revision...                                                       \n",
            "\n",
            "\n",
            "⠹ Deploying...                                                                 \n",
            "  ⠹ Creating Revision...                                                       \n",
            "\n",
            "\n",
            "⠼ Deploying...                                                                 \n",
            "  ⠼ Creating Revision...                                                       \n",
            "  ⠼ Routing traffic...                                                         \n",
            "\n",
            "⠶ Deploying...                                                                 \n",
            "  ⠶ Creating Revision...                                                       \n",
            "  ⠶ Routing traffic...                                                         \n",
            "\n",
            "⠧ Deploying...                                                                 \n",
            "  ✓ Creating Revision...                                                       \n",
            "  ⠧ Routing traffic...                                                         \n",
            "\n",
            "⠏ Deploying...                                                                 \n",
            "\n",
            "  ⠏ Routing traffic...                                                         \n",
            "\n",
            "⠛ Deploying...                                                                 \n",
            "\n",
            "  ✓ Routing traffic...                                                         \n",
            "\n",
            "⠹ Deploying... Done.                                                           \n",
            "\n",
            "\n",
            "\n",
            "⠼ Deploying... Done.                                                           \n",
            "\n",
            "\n",
            "\n",
            "⠶ Deploying... Done.                                                           \n",
            "\n",
            "\n",
            "\n",
            "⠧ Deploying... Done.                                                           \n",
            "\n",
            "\n",
            "\n",
            "⠏ Deploying... Done.                                                           \n",
            "\n",
            "\n",
            "\n",
            "⠛ Deploying... Done.                                                           \n",
            "\n",
            "\n",
            "\n",
            "⠹ Deploying... Done.                                                           \n",
            "\n",
            "\n",
            "\n",
            "⠼ Deploying... Done.                                                           \n",
            "\n",
            "\n",
            "\n",
            "⠶ Deploying... Done.                                                           \n",
            "\n",
            "\n",
            "\n",
            "⠧ Deploying... Done.                                                           \n",
            "\n",
            "\n",
            "\n",
            "⠏ Deploying... Done.                                                           \n",
            "\n",
            "\n",
            "\n",
            "⠛ Deploying... Done.                                                           \n",
            "\n",
            "\n",
            "\n",
            "⠹ Deploying... Done.                                                           \n",
            "\n",
            "\n",
            "\n",
            "⠼ Deploying... Done.                                                           \n",
            "\n",
            "\n",
            "\n",
            "⠶ Deploying... Done.                                                           \n",
            "\n",
            "\n",
            "\n",
            "⠧ Deploying... Done.                                                           \n",
            "\n",
            "\n",
            "\n",
            "✓ Deploying... Done.                                                           \n",
            "\n",
            "\n",
            "\n",
            "Done.                                                                          \n",
            "Service [\u001b[1mcourses-api\u001b[m] revision [\u001b[1mcourses-api-00003-wbg\u001b[m] has been deployed and is serving \u001b[1m100\u001b[m percent of traffic.\n",
            "Service URL: \u001b[1mhttps://courses-api-672065512482.us-central1.run.app\u001b[m\n"
          ]
        }
      ],
      "source": [
        "!gcloud run deploy courses-api --allow-unauthenticated --region {region} --quiet --image {registry_url}/courses-api"
      ]
    },
    {
      "cell_type": "markdown",
      "metadata": {
        "id": "4WH0Ip8PcD9j"
      },
      "source": [
        "Once it is deployed, run the command to get the url of your dummy api. Take note because we will use it later:"
      ]
    },
    {
      "cell_type": "code",
      "execution_count": null,
      "metadata": {
        "id": "TVJpkL9gcD9j",
        "outputId": "b134be48-65a2-448b-cc8f-e5713b6d7552"
      },
      "outputs": [
        {
          "name": "stdout",
          "output_type": "stream",
          "text": [
            "https://courses-api-guckng3ccq-uc.a.run.app\n"
          ]
        }
      ],
      "source": [
        "urls = !gcloud run services describe courses-api --region=us-central1 --format='value(status.url)'\n",
        "api_url = urls[0]\n",
        "print(api_url)"
      ]
    },
    {
      "cell_type": "markdown",
      "metadata": {
        "id": "aBaGauBecD9j"
      },
      "source": [
        "Testing the API"
      ]
    },
    {
      "cell_type": "code",
      "execution_count": null,
      "metadata": {
        "id": "s159XBpQcD9j",
        "outputId": "27d90b85-2499-4b30-b4b7-56e828fb57a3"
      },
      "outputs": [
        {
          "name": "stdout",
          "output_type": "stream",
          "text": [
            "[{\"name\":\"software-security\",\"display_name\":\"Software Security\",\"description\":\"Learn how to secure your software\",\"price\":100,\"currency\":\"USD\"}]"
          ]
        }
      ],
      "source": [
        "!curl {api_url}/courses"
      ]
    },
    {
      "cell_type": "markdown",
      "metadata": {
        "id": "CVQ4WQVqcD9j"
      },
      "source": [
        "# Creating Staging Bucket for AI Agent\n",
        "\n",
        "Later, when we deploy the AI Agent, we have to provide the staging gcs bucket used to store the pickle and some other configurations of our reasoning engine. So, let's create a new empty bucket. Please change `staging_bucket_name` variable below with globally unique name.\n",
        "\n",
        "Once the bucket created, take note the name of the bucket."
      ]
    },
    {
      "cell_type": "code",
      "execution_count": 11,
      "metadata": {
        "colab": {
          "base_uri": "https://localhost:8080/"
        },
        "id": "knOlO2JNcD9k",
        "outputId": "81ed60bb-03ba-48c2-b35b-1cd335f5bfdb"
      },
      "outputs": [
        {
          "output_type": "stream",
          "name": "stdout",
          "text": [
            "Creating gs://mkrs-demo-bucket/...\n"
          ]
        }
      ],
      "source": [
        "# change this with globaly unique name. you may add your name to make it unique. this bucket will be used later for storing the model\n",
        "staging_bucket_name = \"mkrs-demo-bucket\" # @param {type:\"string\"}\n",
        "\n",
        "!gcloud storage buckets create gs://{staging_bucket_name} --project={project_id} --location={region} --uniform-bucket-level-access"
      ]
    },
    {
      "cell_type": "markdown",
      "metadata": {
        "id": "KLeT8Y-McD9k"
      },
      "source": [
        "# Data Preparation\n",
        "\n",
        "In this workshop, we are going to use written content from [OWASP CheatSheetSeries](https://github.com/OWASP/CheatSheetSeries) as the source document for our RAG. However, to reduce the cost, I already currated few files that we are going to use in `urls` variable. Instead of using all of them, we will just use few of them and build embedding with the currated files."
      ]
    },
    {
      "cell_type": "markdown",
      "metadata": {
        "id": "n0PdfSXDcD9k"
      },
      "source": [
        "The source code below will just iterate over all files within `sources` directory and create a `course_content.jsonl` file containing the file contents."
      ]
    },
    {
      "cell_type": "code",
      "execution_count": 6,
      "metadata": {
        "colab": {
          "base_uri": "https://localhost:8080/"
        },
        "id": "NRz6d9fxcD9k",
        "outputId": "6fa31ef6-9a3c-40dc-a0bf-5aae0ca45ec4"
      },
      "outputs": [
        {
          "output_type": "stream",
          "name": "stderr",
          "text": [
            "<ipython-input-6-7606c59e6ff2>:26: UserWarning: pandas only supports SQLAlchemy connectable (engine/connection) or database string URI or sqlite3 DBAPI2 connection. Other DBAPI2 objects are not tested. Please consider using SQLAlchemy.\n",
            "  df = pd.read_sql(query, conn)\n"
          ]
        }
      ],
      "source": [
        "import psycopg2\n",
        "import pandas as pd\n",
        "\n",
        "host = \"lecture-dss-db.mekarsa.com\"\n",
        "port = 54321\n",
        "database = \"warehouse\"\n",
        "user = \"lecture2024\"\n",
        "password = \"Ojolali123\"\n",
        "table_name = \"fact_pendapatan_daerah\"\n",
        "\n",
        "\n",
        "# Koneksi ke PostgreSQL\n",
        "conn = psycopg2.connect(\n",
        "    dbname=database,\n",
        "    user=user,\n",
        "    password=password,\n",
        "    host=host,\n",
        "    port=port\n",
        ")\n",
        "\n",
        "# Jalankan query dan ubah ke DataFrame\n",
        "query = \"\"\"\n",
        "SELECT * FROM fact_pendapatan_daerah fpd\n",
        "JOIN dim_rekening dr ON fpd.kode_rekening = dr.kode_rekening\n",
        "\"\"\"\n",
        "df = pd.read_sql(query, conn)\n",
        "\n",
        "conn.close()\n"
      ]
    },
    {
      "cell_type": "code",
      "source": [
        "df"
      ],
      "metadata": {
        "id": "4hAC3U5gnGkk",
        "outputId": "b8a9fecf-4dae-48d4-ba21-3ab60540fefe",
        "colab": {
          "base_uri": "https://localhost:8080/",
          "height": 860
        }
      },
      "execution_count": 20,
      "outputs": [
        {
          "output_type": "execute_result",
          "data": {
            "text/plain": [
              "     id_fact kode_rekening  target_murni  totrealisasi_after  \\\n",
              "0       1437             4  4.271590e+12        2.871066e+12   \n",
              "1       1438           4.1  7.710723e+11        5.544133e+11   \n",
              "2       1439         4.1.1  5.548600e+11        3.724990e+11   \n",
              "3       1440       4.1.1.6  5.000000e+10        4.464148e+10   \n",
              "4       1441     4.1.1.6.1  4.912900e+10        4.302872e+10   \n",
              "..       ...           ...           ...                 ...   \n",
              "713     2150   4.3.3.1.2.4  0.000000e+00        0.000000e+00   \n",
              "714     2151   4.3.3.1.2.5  0.000000e+00        0.000000e+00   \n",
              "715     2152   4.3.3.1.2.6  0.000000e+00        0.000000e+00   \n",
              "716     2153     4.3.3.1.3  6.000000e+10        6.578343e+10   \n",
              "717     2154   4.3.3.1.3.1  6.000000e+10        6.578343e+10   \n",
              "\n",
              "     persentarget_all kode_rekening  \\\n",
              "0           67.213055             4   \n",
              "1           71.901603           4.1   \n",
              "2           67.133876         4.1.1   \n",
              "3           89.282955       4.1.1.6   \n",
              "4           87.583136     4.1.1.6.1   \n",
              "..                ...           ...   \n",
              "713          0.000000   4.3.3.1.2.4   \n",
              "714          0.000000   4.3.3.1.2.5   \n",
              "715          0.000000   4.3.3.1.2.6   \n",
              "716        109.639058     4.3.3.1.3   \n",
              "717        109.639058   4.3.3.1.3.1   \n",
              "\n",
              "                                              nama_rek parent_kode  \\\n",
              "0                                    Pendapatan Daerah        None   \n",
              "1                               Pendapatan Asli Daerah           4   \n",
              "2                                   Hasil Pajak Daerah         4.1   \n",
              "3                                Pajak Jasa Perhotelan       4.1.1   \n",
              "4                                          Pajak Hotel     4.1.1.6   \n",
              "..                                                 ...         ...   \n",
              "713       Pendapatan atas Pengembalian Hibah pada BUMD   4.3.3.1.2   \n",
              "714  Pendapatan atas Pengembalian Hibah pada Badan,...   4.3.3.1.2   \n",
              "715  Pendapatan atas Pengembalian Hibah Bantuan Keu...   4.3.3.1.2   \n",
              "716  Lain lain Pendapatan Sesuai Ketentuan Peratura...     4.3.3.1   \n",
              "717  Pendapatan lain lain yang Sah sesuai  Peratura...   4.3.3.1.3   \n",
              "\n",
              "     level_rekening  \n",
              "0                 1  \n",
              "1                 2  \n",
              "2                 3  \n",
              "3                 4  \n",
              "4                 5  \n",
              "..              ...  \n",
              "713               6  \n",
              "714               6  \n",
              "715               6  \n",
              "716               5  \n",
              "717               6  \n",
              "\n",
              "[718 rows x 9 columns]"
            ],
            "text/html": [
              "\n",
              "  <div id=\"df-8a60d385-1848-475e-a1e9-1e0dfe4208a1\" class=\"colab-df-container\">\n",
              "    <div>\n",
              "<style scoped>\n",
              "    .dataframe tbody tr th:only-of-type {\n",
              "        vertical-align: middle;\n",
              "    }\n",
              "\n",
              "    .dataframe tbody tr th {\n",
              "        vertical-align: top;\n",
              "    }\n",
              "\n",
              "    .dataframe thead th {\n",
              "        text-align: right;\n",
              "    }\n",
              "</style>\n",
              "<table border=\"1\" class=\"dataframe\">\n",
              "  <thead>\n",
              "    <tr style=\"text-align: right;\">\n",
              "      <th></th>\n",
              "      <th>id_fact</th>\n",
              "      <th>kode_rekening</th>\n",
              "      <th>target_murni</th>\n",
              "      <th>totrealisasi_after</th>\n",
              "      <th>persentarget_all</th>\n",
              "      <th>kode_rekening</th>\n",
              "      <th>nama_rek</th>\n",
              "      <th>parent_kode</th>\n",
              "      <th>level_rekening</th>\n",
              "    </tr>\n",
              "  </thead>\n",
              "  <tbody>\n",
              "    <tr>\n",
              "      <th>0</th>\n",
              "      <td>1437</td>\n",
              "      <td>4</td>\n",
              "      <td>4.271590e+12</td>\n",
              "      <td>2.871066e+12</td>\n",
              "      <td>67.213055</td>\n",
              "      <td>4</td>\n",
              "      <td>Pendapatan Daerah</td>\n",
              "      <td>None</td>\n",
              "      <td>1</td>\n",
              "    </tr>\n",
              "    <tr>\n",
              "      <th>1</th>\n",
              "      <td>1438</td>\n",
              "      <td>4.1</td>\n",
              "      <td>7.710723e+11</td>\n",
              "      <td>5.544133e+11</td>\n",
              "      <td>71.901603</td>\n",
              "      <td>4.1</td>\n",
              "      <td>Pendapatan Asli Daerah</td>\n",
              "      <td>4</td>\n",
              "      <td>2</td>\n",
              "    </tr>\n",
              "    <tr>\n",
              "      <th>2</th>\n",
              "      <td>1439</td>\n",
              "      <td>4.1.1</td>\n",
              "      <td>5.548600e+11</td>\n",
              "      <td>3.724990e+11</td>\n",
              "      <td>67.133876</td>\n",
              "      <td>4.1.1</td>\n",
              "      <td>Hasil Pajak Daerah</td>\n",
              "      <td>4.1</td>\n",
              "      <td>3</td>\n",
              "    </tr>\n",
              "    <tr>\n",
              "      <th>3</th>\n",
              "      <td>1440</td>\n",
              "      <td>4.1.1.6</td>\n",
              "      <td>5.000000e+10</td>\n",
              "      <td>4.464148e+10</td>\n",
              "      <td>89.282955</td>\n",
              "      <td>4.1.1.6</td>\n",
              "      <td>Pajak Jasa Perhotelan</td>\n",
              "      <td>4.1.1</td>\n",
              "      <td>4</td>\n",
              "    </tr>\n",
              "    <tr>\n",
              "      <th>4</th>\n",
              "      <td>1441</td>\n",
              "      <td>4.1.1.6.1</td>\n",
              "      <td>4.912900e+10</td>\n",
              "      <td>4.302872e+10</td>\n",
              "      <td>87.583136</td>\n",
              "      <td>4.1.1.6.1</td>\n",
              "      <td>Pajak Hotel</td>\n",
              "      <td>4.1.1.6</td>\n",
              "      <td>5</td>\n",
              "    </tr>\n",
              "    <tr>\n",
              "      <th>...</th>\n",
              "      <td>...</td>\n",
              "      <td>...</td>\n",
              "      <td>...</td>\n",
              "      <td>...</td>\n",
              "      <td>...</td>\n",
              "      <td>...</td>\n",
              "      <td>...</td>\n",
              "      <td>...</td>\n",
              "      <td>...</td>\n",
              "    </tr>\n",
              "    <tr>\n",
              "      <th>713</th>\n",
              "      <td>2150</td>\n",
              "      <td>4.3.3.1.2.4</td>\n",
              "      <td>0.000000e+00</td>\n",
              "      <td>0.000000e+00</td>\n",
              "      <td>0.000000</td>\n",
              "      <td>4.3.3.1.2.4</td>\n",
              "      <td>Pendapatan atas Pengembalian Hibah pada BUMD</td>\n",
              "      <td>4.3.3.1.2</td>\n",
              "      <td>6</td>\n",
              "    </tr>\n",
              "    <tr>\n",
              "      <th>714</th>\n",
              "      <td>2151</td>\n",
              "      <td>4.3.3.1.2.5</td>\n",
              "      <td>0.000000e+00</td>\n",
              "      <td>0.000000e+00</td>\n",
              "      <td>0.000000</td>\n",
              "      <td>4.3.3.1.2.5</td>\n",
              "      <td>Pendapatan atas Pengembalian Hibah pada Badan,...</td>\n",
              "      <td>4.3.3.1.2</td>\n",
              "      <td>6</td>\n",
              "    </tr>\n",
              "    <tr>\n",
              "      <th>715</th>\n",
              "      <td>2152</td>\n",
              "      <td>4.3.3.1.2.6</td>\n",
              "      <td>0.000000e+00</td>\n",
              "      <td>0.000000e+00</td>\n",
              "      <td>0.000000</td>\n",
              "      <td>4.3.3.1.2.6</td>\n",
              "      <td>Pendapatan atas Pengembalian Hibah Bantuan Keu...</td>\n",
              "      <td>4.3.3.1.2</td>\n",
              "      <td>6</td>\n",
              "    </tr>\n",
              "    <tr>\n",
              "      <th>716</th>\n",
              "      <td>2153</td>\n",
              "      <td>4.3.3.1.3</td>\n",
              "      <td>6.000000e+10</td>\n",
              "      <td>6.578343e+10</td>\n",
              "      <td>109.639058</td>\n",
              "      <td>4.3.3.1.3</td>\n",
              "      <td>Lain lain Pendapatan Sesuai Ketentuan Peratura...</td>\n",
              "      <td>4.3.3.1</td>\n",
              "      <td>5</td>\n",
              "    </tr>\n",
              "    <tr>\n",
              "      <th>717</th>\n",
              "      <td>2154</td>\n",
              "      <td>4.3.3.1.3.1</td>\n",
              "      <td>6.000000e+10</td>\n",
              "      <td>6.578343e+10</td>\n",
              "      <td>109.639058</td>\n",
              "      <td>4.3.3.1.3.1</td>\n",
              "      <td>Pendapatan lain lain yang Sah sesuai  Peratura...</td>\n",
              "      <td>4.3.3.1.3</td>\n",
              "      <td>6</td>\n",
              "    </tr>\n",
              "  </tbody>\n",
              "</table>\n",
              "<p>718 rows × 9 columns</p>\n",
              "</div>\n",
              "    <div class=\"colab-df-buttons\">\n",
              "\n",
              "  <div class=\"colab-df-container\">\n",
              "    <button class=\"colab-df-convert\" onclick=\"convertToInteractive('df-8a60d385-1848-475e-a1e9-1e0dfe4208a1')\"\n",
              "            title=\"Convert this dataframe to an interactive table.\"\n",
              "            style=\"display:none;\">\n",
              "\n",
              "  <svg xmlns=\"http://www.w3.org/2000/svg\" height=\"24px\" viewBox=\"0 -960 960 960\">\n",
              "    <path d=\"M120-120v-720h720v720H120Zm60-500h600v-160H180v160Zm220 220h160v-160H400v160Zm0 220h160v-160H400v160ZM180-400h160v-160H180v160Zm440 0h160v-160H620v160ZM180-180h160v-160H180v160Zm440 0h160v-160H620v160Z\"/>\n",
              "  </svg>\n",
              "    </button>\n",
              "\n",
              "  <style>\n",
              "    .colab-df-container {\n",
              "      display:flex;\n",
              "      gap: 12px;\n",
              "    }\n",
              "\n",
              "    .colab-df-convert {\n",
              "      background-color: #E8F0FE;\n",
              "      border: none;\n",
              "      border-radius: 50%;\n",
              "      cursor: pointer;\n",
              "      display: none;\n",
              "      fill: #1967D2;\n",
              "      height: 32px;\n",
              "      padding: 0 0 0 0;\n",
              "      width: 32px;\n",
              "    }\n",
              "\n",
              "    .colab-df-convert:hover {\n",
              "      background-color: #E2EBFA;\n",
              "      box-shadow: 0px 1px 2px rgba(60, 64, 67, 0.3), 0px 1px 3px 1px rgba(60, 64, 67, 0.15);\n",
              "      fill: #174EA6;\n",
              "    }\n",
              "\n",
              "    .colab-df-buttons div {\n",
              "      margin-bottom: 4px;\n",
              "    }\n",
              "\n",
              "    [theme=dark] .colab-df-convert {\n",
              "      background-color: #3B4455;\n",
              "      fill: #D2E3FC;\n",
              "    }\n",
              "\n",
              "    [theme=dark] .colab-df-convert:hover {\n",
              "      background-color: #434B5C;\n",
              "      box-shadow: 0px 1px 3px 1px rgba(0, 0, 0, 0.15);\n",
              "      filter: drop-shadow(0px 1px 2px rgba(0, 0, 0, 0.3));\n",
              "      fill: #FFFFFF;\n",
              "    }\n",
              "  </style>\n",
              "\n",
              "    <script>\n",
              "      const buttonEl =\n",
              "        document.querySelector('#df-8a60d385-1848-475e-a1e9-1e0dfe4208a1 button.colab-df-convert');\n",
              "      buttonEl.style.display =\n",
              "        google.colab.kernel.accessAllowed ? 'block' : 'none';\n",
              "\n",
              "      async function convertToInteractive(key) {\n",
              "        const element = document.querySelector('#df-8a60d385-1848-475e-a1e9-1e0dfe4208a1');\n",
              "        const dataTable =\n",
              "          await google.colab.kernel.invokeFunction('convertToInteractive',\n",
              "                                                    [key], {});\n",
              "        if (!dataTable) return;\n",
              "\n",
              "        const docLinkHtml = 'Like what you see? Visit the ' +\n",
              "          '<a target=\"_blank\" href=https://colab.research.google.com/notebooks/data_table.ipynb>data table notebook</a>'\n",
              "          + ' to learn more about interactive tables.';\n",
              "        element.innerHTML = '';\n",
              "        dataTable['output_type'] = 'display_data';\n",
              "        await google.colab.output.renderOutput(dataTable, element);\n",
              "        const docLink = document.createElement('div');\n",
              "        docLink.innerHTML = docLinkHtml;\n",
              "        element.appendChild(docLink);\n",
              "      }\n",
              "    </script>\n",
              "  </div>\n",
              "\n",
              "\n",
              "<div id=\"df-20ec1da8-1f81-4762-af4e-4619ae25f780\">\n",
              "  <button class=\"colab-df-quickchart\" onclick=\"quickchart('df-20ec1da8-1f81-4762-af4e-4619ae25f780')\"\n",
              "            title=\"Suggest charts\"\n",
              "            style=\"display:none;\">\n",
              "\n",
              "<svg xmlns=\"http://www.w3.org/2000/svg\" height=\"24px\"viewBox=\"0 0 24 24\"\n",
              "     width=\"24px\">\n",
              "    <g>\n",
              "        <path d=\"M19 3H5c-1.1 0-2 .9-2 2v14c0 1.1.9 2 2 2h14c1.1 0 2-.9 2-2V5c0-1.1-.9-2-2-2zM9 17H7v-7h2v7zm4 0h-2V7h2v10zm4 0h-2v-4h2v4z\"/>\n",
              "    </g>\n",
              "</svg>\n",
              "  </button>\n",
              "\n",
              "<style>\n",
              "  .colab-df-quickchart {\n",
              "      --bg-color: #E8F0FE;\n",
              "      --fill-color: #1967D2;\n",
              "      --hover-bg-color: #E2EBFA;\n",
              "      --hover-fill-color: #174EA6;\n",
              "      --disabled-fill-color: #AAA;\n",
              "      --disabled-bg-color: #DDD;\n",
              "  }\n",
              "\n",
              "  [theme=dark] .colab-df-quickchart {\n",
              "      --bg-color: #3B4455;\n",
              "      --fill-color: #D2E3FC;\n",
              "      --hover-bg-color: #434B5C;\n",
              "      --hover-fill-color: #FFFFFF;\n",
              "      --disabled-bg-color: #3B4455;\n",
              "      --disabled-fill-color: #666;\n",
              "  }\n",
              "\n",
              "  .colab-df-quickchart {\n",
              "    background-color: var(--bg-color);\n",
              "    border: none;\n",
              "    border-radius: 50%;\n",
              "    cursor: pointer;\n",
              "    display: none;\n",
              "    fill: var(--fill-color);\n",
              "    height: 32px;\n",
              "    padding: 0;\n",
              "    width: 32px;\n",
              "  }\n",
              "\n",
              "  .colab-df-quickchart:hover {\n",
              "    background-color: var(--hover-bg-color);\n",
              "    box-shadow: 0 1px 2px rgba(60, 64, 67, 0.3), 0 1px 3px 1px rgba(60, 64, 67, 0.15);\n",
              "    fill: var(--button-hover-fill-color);\n",
              "  }\n",
              "\n",
              "  .colab-df-quickchart-complete:disabled,\n",
              "  .colab-df-quickchart-complete:disabled:hover {\n",
              "    background-color: var(--disabled-bg-color);\n",
              "    fill: var(--disabled-fill-color);\n",
              "    box-shadow: none;\n",
              "  }\n",
              "\n",
              "  .colab-df-spinner {\n",
              "    border: 2px solid var(--fill-color);\n",
              "    border-color: transparent;\n",
              "    border-bottom-color: var(--fill-color);\n",
              "    animation:\n",
              "      spin 1s steps(1) infinite;\n",
              "  }\n",
              "\n",
              "  @keyframes spin {\n",
              "    0% {\n",
              "      border-color: transparent;\n",
              "      border-bottom-color: var(--fill-color);\n",
              "      border-left-color: var(--fill-color);\n",
              "    }\n",
              "    20% {\n",
              "      border-color: transparent;\n",
              "      border-left-color: var(--fill-color);\n",
              "      border-top-color: var(--fill-color);\n",
              "    }\n",
              "    30% {\n",
              "      border-color: transparent;\n",
              "      border-left-color: var(--fill-color);\n",
              "      border-top-color: var(--fill-color);\n",
              "      border-right-color: var(--fill-color);\n",
              "    }\n",
              "    40% {\n",
              "      border-color: transparent;\n",
              "      border-right-color: var(--fill-color);\n",
              "      border-top-color: var(--fill-color);\n",
              "    }\n",
              "    60% {\n",
              "      border-color: transparent;\n",
              "      border-right-color: var(--fill-color);\n",
              "    }\n",
              "    80% {\n",
              "      border-color: transparent;\n",
              "      border-right-color: var(--fill-color);\n",
              "      border-bottom-color: var(--fill-color);\n",
              "    }\n",
              "    90% {\n",
              "      border-color: transparent;\n",
              "      border-bottom-color: var(--fill-color);\n",
              "    }\n",
              "  }\n",
              "</style>\n",
              "\n",
              "  <script>\n",
              "    async function quickchart(key) {\n",
              "      const quickchartButtonEl =\n",
              "        document.querySelector('#' + key + ' button');\n",
              "      quickchartButtonEl.disabled = true;  // To prevent multiple clicks.\n",
              "      quickchartButtonEl.classList.add('colab-df-spinner');\n",
              "      try {\n",
              "        const charts = await google.colab.kernel.invokeFunction(\n",
              "            'suggestCharts', [key], {});\n",
              "      } catch (error) {\n",
              "        console.error('Error during call to suggestCharts:', error);\n",
              "      }\n",
              "      quickchartButtonEl.classList.remove('colab-df-spinner');\n",
              "      quickchartButtonEl.classList.add('colab-df-quickchart-complete');\n",
              "    }\n",
              "    (() => {\n",
              "      let quickchartButtonEl =\n",
              "        document.querySelector('#df-20ec1da8-1f81-4762-af4e-4619ae25f780 button');\n",
              "      quickchartButtonEl.style.display =\n",
              "        google.colab.kernel.accessAllowed ? 'block' : 'none';\n",
              "    })();\n",
              "  </script>\n",
              "</div>\n",
              "\n",
              "  <div id=\"id_2c988a99-c505-4e00-8e90-52285ed7be45\">\n",
              "    <style>\n",
              "      .colab-df-generate {\n",
              "        background-color: #E8F0FE;\n",
              "        border: none;\n",
              "        border-radius: 50%;\n",
              "        cursor: pointer;\n",
              "        display: none;\n",
              "        fill: #1967D2;\n",
              "        height: 32px;\n",
              "        padding: 0 0 0 0;\n",
              "        width: 32px;\n",
              "      }\n",
              "\n",
              "      .colab-df-generate:hover {\n",
              "        background-color: #E2EBFA;\n",
              "        box-shadow: 0px 1px 2px rgba(60, 64, 67, 0.3), 0px 1px 3px 1px rgba(60, 64, 67, 0.15);\n",
              "        fill: #174EA6;\n",
              "      }\n",
              "\n",
              "      [theme=dark] .colab-df-generate {\n",
              "        background-color: #3B4455;\n",
              "        fill: #D2E3FC;\n",
              "      }\n",
              "\n",
              "      [theme=dark] .colab-df-generate:hover {\n",
              "        background-color: #434B5C;\n",
              "        box-shadow: 0px 1px 3px 1px rgba(0, 0, 0, 0.15);\n",
              "        filter: drop-shadow(0px 1px 2px rgba(0, 0, 0, 0.3));\n",
              "        fill: #FFFFFF;\n",
              "      }\n",
              "    </style>\n",
              "    <button class=\"colab-df-generate\" onclick=\"generateWithVariable('df')\"\n",
              "            title=\"Generate code using this dataframe.\"\n",
              "            style=\"display:none;\">\n",
              "\n",
              "  <svg xmlns=\"http://www.w3.org/2000/svg\" height=\"24px\"viewBox=\"0 0 24 24\"\n",
              "       width=\"24px\">\n",
              "    <path d=\"M7,19H8.4L18.45,9,17,7.55,7,17.6ZM5,21V16.75L18.45,3.32a2,2,0,0,1,2.83,0l1.4,1.43a1.91,1.91,0,0,1,.58,1.4,1.91,1.91,0,0,1-.58,1.4L9.25,21ZM18.45,9,17,7.55Zm-12,3A5.31,5.31,0,0,0,4.9,8.1,5.31,5.31,0,0,0,1,6.5,5.31,5.31,0,0,0,4.9,4.9,5.31,5.31,0,0,0,6.5,1,5.31,5.31,0,0,0,8.1,4.9,5.31,5.31,0,0,0,12,6.5,5.46,5.46,0,0,0,6.5,12Z\"/>\n",
              "  </svg>\n",
              "    </button>\n",
              "    <script>\n",
              "      (() => {\n",
              "      const buttonEl =\n",
              "        document.querySelector('#id_2c988a99-c505-4e00-8e90-52285ed7be45 button.colab-df-generate');\n",
              "      buttonEl.style.display =\n",
              "        google.colab.kernel.accessAllowed ? 'block' : 'none';\n",
              "\n",
              "      buttonEl.onclick = () => {\n",
              "        google.colab.notebook.generateWithVariable('df');\n",
              "      }\n",
              "      })();\n",
              "    </script>\n",
              "  </div>\n",
              "\n",
              "    </div>\n",
              "  </div>\n"
            ],
            "application/vnd.google.colaboratory.intrinsic+json": {
              "type": "dataframe",
              "variable_name": "df",
              "summary": "{\n  \"name\": \"df\",\n  \"rows\": 718,\n  \"fields\": [\n    {\n      \"column\": \"id_fact\",\n      \"properties\": {\n        \"dtype\": \"number\",\n        \"std\": 207,\n        \"min\": 1437,\n        \"max\": 2154,\n        \"num_unique_values\": 718,\n        \"samples\": [\n          1557,\n          1768,\n          1476\n        ],\n        \"semantic_type\": \"\",\n        \"description\": \"\"\n      }\n    },\n    {\n      \"column\": \"kode_rekening\",\n      \"properties\": {\n        \"dtype\": \"string\",\n        \"num_unique_values\": 717,\n        \"samples\": [\n          \"4.1.1.11\",\n          \"4.1.4.1.2.13\",\n          \"4.1.1.7.6\"\n        ],\n        \"semantic_type\": \"\",\n        \"description\": \"\"\n      }\n    },\n    {\n      \"column\": \"target_murni\",\n      \"properties\": {\n        \"dtype\": \"number\",\n        \"std\": 258282878696.2376,\n        \"min\": 0.0,\n        \"max\": 4271590000000.0,\n        \"num_unique_values\": 174,\n        \"samples\": [\n          6118320000.0,\n          7761325000.0,\n          2999361674.0\n        ],\n        \"semantic_type\": \"\",\n        \"description\": \"\"\n      }\n    },\n    {\n      \"column\": \"totrealisasi_after\",\n      \"properties\": {\n        \"dtype\": \"number\",\n        \"std\": 174121932314.25256,\n        \"min\": 0.0,\n        \"max\": 2871066126375.62,\n        \"num_unique_values\": 213,\n        \"samples\": [\n          6670000.0,\n          1471955100.0,\n          17690700769.38\n        ],\n        \"semantic_type\": \"\",\n        \"description\": \"\"\n      }\n    },\n    {\n      \"column\": \"persentarget_all\",\n      \"properties\": {\n        \"dtype\": \"number\",\n        \"std\": 234.78136169920694,\n        \"min\": 0.0,\n        \"max\": 4233.373347762238,\n        \"num_unique_values\": 165,\n        \"samples\": [\n          30.0,\n          244.8314676176923,\n          82.21558500512404\n        ],\n        \"semantic_type\": \"\",\n        \"description\": \"\"\n      }\n    },\n    {\n      \"column\": \"kode_rekening\",\n      \"properties\": {\n        \"dtype\": \"string\",\n        \"num_unique_values\": 717,\n        \"samples\": [\n          \"4.1.1.11\",\n          \"4.1.4.1.2.13\",\n          \"4.1.1.7.6\"\n        ],\n        \"semantic_type\": \"\",\n        \"description\": \"\"\n      }\n    },\n    {\n      \"column\": \"nama_rek\",\n      \"properties\": {\n        \"dtype\": \"string\",\n        \"num_unique_values\": 582,\n        \"samples\": [\n          \"Pendapatan atas Pengembalian Hibah pada BUMD\",\n          \"Angsuran/Cicilan Rumah Susun\",\n          \"Retribusi Pengujian Kendaraan Bermotor Diatas Air\"\n        ],\n        \"semantic_type\": \"\",\n        \"description\": \"\"\n      }\n    },\n    {\n      \"column\": \"parent_kode\",\n      \"properties\": {\n        \"dtype\": \"category\",\n        \"num_unique_values\": 262,\n        \"samples\": [\n          \"4.3.1.4.1\",\n          \"4.1.4.19.1\",\n          \"4.1.4.13\"\n        ],\n        \"semantic_type\": \"\",\n        \"description\": \"\"\n      }\n    },\n    {\n      \"column\": \"level_rekening\",\n      \"properties\": {\n        \"dtype\": \"number\",\n        \"std\": 0,\n        \"min\": 1,\n        \"max\": 7,\n        \"num_unique_values\": 7,\n        \"samples\": [\n          1,\n          2,\n          6\n        ],\n        \"semantic_type\": \"\",\n        \"description\": \"\"\n      }\n    }\n  ]\n}"
            }
          },
          "metadata": {},
          "execution_count": 20
        }
      ]
    },
    {
      "cell_type": "code",
      "source": [],
      "metadata": {
        "id": "7n3Dd8rpfT8k"
      },
      "execution_count": null,
      "outputs": []
    },
    {
      "cell_type": "markdown",
      "metadata": {
        "id": "9jAQZe-UcD9l"
      },
      "source": [
        "Let's see what is inside the `course_content.jsonl` file:"
      ]
    },
    {
      "cell_type": "code",
      "execution_count": null,
      "metadata": {
        "id": "xB2AR8QicD9l",
        "outputId": "a4bae605-a750-47eb-c6ed-fc96d02568a2"
      },
      "outputs": [
        {
          "data": {
            "text/html": [
              "<div>\n",
              "<style scoped>\n",
              "    .dataframe tbody tr th:only-of-type {\n",
              "        vertical-align: middle;\n",
              "    }\n",
              "\n",
              "    .dataframe tbody tr th {\n",
              "        vertical-align: top;\n",
              "    }\n",
              "\n",
              "    .dataframe thead th {\n",
              "        text-align: right;\n",
              "    }\n",
              "</style>\n",
              "<table border=\"1\" class=\"dataframe\">\n",
              "  <thead>\n",
              "    <tr style=\"text-align: right;\">\n",
              "      <th></th>\n",
              "      <th>id</th>\n",
              "      <th>title</th>\n",
              "      <th>content</th>\n",
              "      <th>file_path</th>\n",
              "      <th>slug</th>\n",
              "    </tr>\n",
              "  </thead>\n",
              "  <tbody>\n",
              "    <tr>\n",
              "      <th>0</th>\n",
              "      <td>cdefd214-ffda-4c6a-85c8-e98e753baf73</td>\n",
              "      <td>Authentication Cheat Sheet</td>\n",
              "      <td># Authentication Cheat Sheet\\n\\n## Introductio...</td>\n",
              "      <td>https://raw.githubusercontent.com/OWASP/CheatS...</td>\n",
              "      <td>authentication-cheat-sheet</td>\n",
              "    </tr>\n",
              "    <tr>\n",
              "      <th>1</th>\n",
              "      <td>084925d6-2a42-4edb-9005-a768253f264d</td>\n",
              "      <td>Authorization Cheat Sheet</td>\n",
              "      <td># Authorization Cheat Sheet\\n\\n## Introduction...</td>\n",
              "      <td>https://raw.githubusercontent.com/OWASP/CheatS...</td>\n",
              "      <td>authorization-cheat-sheet</td>\n",
              "    </tr>\n",
              "    <tr>\n",
              "      <th>2</th>\n",
              "      <td>1349c48e-e9aa-46aa-a20d-0492d5e85363</td>\n",
              "      <td>File Upload Cheat Sheet</td>\n",
              "      <td># File Upload Cheat Sheet\\n\\n## Introduction\\n...</td>\n",
              "      <td>https://raw.githubusercontent.com/OWASP/CheatS...</td>\n",
              "      <td>file-upload-cheat-sheet</td>\n",
              "    </tr>\n",
              "    <tr>\n",
              "      <th>3</th>\n",
              "      <td>a2a2096f-1cb2-43c4-9f26-ba53c321c7ba</td>\n",
              "      <td>Forgot Password Cheat Sheet</td>\n",
              "      <td># Forgot Password Cheat Sheet\\n\\n## Introducti...</td>\n",
              "      <td>https://raw.githubusercontent.com/OWASP/CheatS...</td>\n",
              "      <td>forgot-password-cheat-sheet</td>\n",
              "    </tr>\n",
              "    <tr>\n",
              "      <th>4</th>\n",
              "      <td>af00b636-6bb5-4c0a-8b61-a0acd6aff315</td>\n",
              "      <td>Password Storage Cheat Sheet</td>\n",
              "      <td># Password Storage Cheat Sheet\\n\\n## Introduct...</td>\n",
              "      <td>https://raw.githubusercontent.com/OWASP/CheatS...</td>\n",
              "      <td>password-storage-cheat-sheet</td>\n",
              "    </tr>\n",
              "  </tbody>\n",
              "</table>\n",
              "</div>"
            ],
            "text/plain": [
              "                                     id                         title  \\\n",
              "0  cdefd214-ffda-4c6a-85c8-e98e753baf73    Authentication Cheat Sheet   \n",
              "1  084925d6-2a42-4edb-9005-a768253f264d     Authorization Cheat Sheet   \n",
              "2  1349c48e-e9aa-46aa-a20d-0492d5e85363       File Upload Cheat Sheet   \n",
              "3  a2a2096f-1cb2-43c4-9f26-ba53c321c7ba   Forgot Password Cheat Sheet   \n",
              "4  af00b636-6bb5-4c0a-8b61-a0acd6aff315  Password Storage Cheat Sheet   \n",
              "\n",
              "                                             content  \\\n",
              "0  # Authentication Cheat Sheet\\n\\n## Introductio...   \n",
              "1  # Authorization Cheat Sheet\\n\\n## Introduction...   \n",
              "2  # File Upload Cheat Sheet\\n\\n## Introduction\\n...   \n",
              "3  # Forgot Password Cheat Sheet\\n\\n## Introducti...   \n",
              "4  # Password Storage Cheat Sheet\\n\\n## Introduct...   \n",
              "\n",
              "                                           file_path  \\\n",
              "0  https://raw.githubusercontent.com/OWASP/CheatS...   \n",
              "1  https://raw.githubusercontent.com/OWASP/CheatS...   \n",
              "2  https://raw.githubusercontent.com/OWASP/CheatS...   \n",
              "3  https://raw.githubusercontent.com/OWASP/CheatS...   \n",
              "4  https://raw.githubusercontent.com/OWASP/CheatS...   \n",
              "\n",
              "                           slug  \n",
              "0    authentication-cheat-sheet  \n",
              "1     authorization-cheat-sheet  \n",
              "2       file-upload-cheat-sheet  \n",
              "3   forgot-password-cheat-sheet  \n",
              "4  password-storage-cheat-sheet  "
            ]
          },
          "execution_count": 15,
          "metadata": {},
          "output_type": "execute_result"
        }
      ],
      "source": [
        "import pandas as pd\n",
        "\n",
        "df = pd.read_json('course_content.jsonl', lines=True)\n",
        "df.head()"
      ]
    },
    {
      "cell_type": "markdown",
      "metadata": {
        "id": "tp9JSpAkcD9l"
      },
      "source": [
        "# Creating Embedding and Vector Store\n",
        "\n",
        "This notebook demonstrates the process of creating embeddings and setting up a vector store for a course content retrieval system.\n",
        "\n",
        "It covers the following key steps:\n",
        "\n",
        "1. Importing necessary libraries and creating and setting up database and its configurations\n",
        "1. Connecting to either a Google Cloud SQL\n",
        "1. Loading course content data from markdown files\n",
        "1. Creating embeddings for the course content using a Google Gemini embedding model\n",
        "1. Storing the embeddings in a vector database for efficient similarity search"
      ]
    },
    {
      "cell_type": "markdown",
      "metadata": {
        "id": "V0jfXWsJcD9l"
      },
      "source": [
        "Setting up few constants:"
      ]
    },
    {
      "cell_type": "code",
      "execution_count": 15,
      "metadata": {
        "id": "Foo8PRxRcD9l"
      },
      "outputs": [],
      "source": [
        "instance_name=\"mkrs-demo\" # @param {type:\"string\"}\n",
        "database_password = 'testing' # @param {type:\"string\"} #change this to your database password\n",
        "database_name = 'testing' # @param {type:\"string\"} #change this to your database name\n",
        "database_user = 'testing' # @param {type:\"string\"} #change this to your database user\n",
        "\n",
        "# Dont update these lines below\n",
        "\n",
        "embeddings_table_name = \"course_content_embeddings\"\n",
        "chat_history_table_name = \"chat_histories\"\n",
        "gemini_embedding_model = \"text-embedding-004\"\n",
        "\n",
        "assert database_name, \"⚠️ Please provide a database name\"\n",
        "assert database_user, \"⚠️ Please provide a database user\"\n",
        "assert database_password, \"⚠️ Please provide a database password\"\n"
      ]
    },
    {
      "cell_type": "markdown",
      "metadata": {
        "id": "x5VLKr10cD9l"
      },
      "source": [
        "## Setting Up PostgreSQL in Google Cloud SQL\n",
        "\n",
        "Here will we set the default GCP project and get information about the user using the GCP account."
      ]
    },
    {
      "cell_type": "code",
      "execution_count": 8,
      "metadata": {
        "colab": {
          "base_uri": "https://localhost:8080/"
        },
        "id": "nvpcvlKmcD9m",
        "outputId": "7ee4b89a-234e-4fd3-b557-c7959b23d592"
      },
      "outputs": [
        {
          "output_type": "stream",
          "name": "stdout",
          "text": [
            "['sugengdcahyo@gmail.com']\n"
          ]
        }
      ],
      "source": [
        "# Grant Cloud SQL Client role to authenticated user\n",
        "current_user = !gcloud auth list --filter=status:ACTIVE --format=\"value(account)\"\n",
        "print(f\"{current_user}\")"
      ]
    },
    {
      "cell_type": "markdown",
      "metadata": {
        "id": "QKIEP5p1cD9n"
      },
      "source": [
        "Before sending query to database, we will have to add required permissions for our notebook so that it can access the database:"
      ]
    },
    {
      "cell_type": "code",
      "execution_count": 15,
      "metadata": {
        "scrolled": true,
        "colab": {
          "base_uri": "https://localhost:8080/"
        },
        "id": "LNo86caUcD9n",
        "outputId": "c6fc2b3c-3e38-4f9e-f21e-1bc1a8da49ec"
      },
      "outputs": [
        {
          "output_type": "stream",
          "name": "stdout",
          "text": [
            "Granting Cloud SQL Client role to sugengdcahyo@gmail.com\n",
            "Updated IAM policy for project [agent-rag-451702].\n",
            "bindings:\n",
            "- members:\n",
            "  - serviceAccount:service-644240883738@gcp-sa-artifactregistry.iam.gserviceaccount.com\n",
            "  role: roles/artifactregistry.serviceAgent\n",
            "- members:\n",
            "  - serviceAccount:644240883738-compute@developer.gserviceaccount.com\n",
            "  - serviceAccount:644240883738@cloudbuild.gserviceaccount.com\n",
            "  role: roles/cloudbuild.builds.builder\n",
            "- members:\n",
            "  - serviceAccount:service-644240883738@gcp-sa-cloudbuild.iam.gserviceaccount.com\n",
            "  role: roles/cloudbuild.serviceAgent\n",
            "- members:\n",
            "  - user:sugengdcahyo@gmail.com\n",
            "  role: roles/cloudsql.client\n",
            "- members:\n",
            "  - serviceAccount:service-644240883738@compute-system.iam.gserviceaccount.com\n",
            "  role: roles/compute.serviceAgent\n",
            "- members:\n",
            "  - serviceAccount:service-644240883738@containerregistry.iam.gserviceaccount.com\n",
            "  role: roles/containerregistry.ServiceAgent\n",
            "- members:\n",
            "  - serviceAccount:644240883738-compute@developer.gserviceaccount.com\n",
            "  - serviceAccount:644240883738@cloudservices.gserviceaccount.com\n",
            "  role: roles/editor\n",
            "- members:\n",
            "  - user:sugengdcahyo@gmail.com\n",
            "  role: roles/owner\n",
            "- members:\n",
            "  - serviceAccount:service-644240883738@gcp-sa-pubsub.iam.gserviceaccount.com\n",
            "  role: roles/pubsub.serviceAgent\n",
            "- members:\n",
            "  - serviceAccount:service-644240883738@serverless-robot-prod.iam.gserviceaccount.com\n",
            "  role: roles/run.serviceAgent\n",
            "etag: BwYuskDB6Uo=\n",
            "version: 1\n"
          ]
        }
      ],
      "source": [
        "print(f\"Granting Cloud SQL Client role to {current_user[0]}\")\n",
        "# granting cloudsql client role to the current user\n",
        "!gcloud projects add-iam-policy-binding {project_id} \\\n",
        "  --member=user:{current_user[0]} \\\n",
        "  --role=\"roles/cloudsql.client\""
      ]
    },
    {
      "cell_type": "markdown",
      "metadata": {
        "id": "iC7kOVzccD9n"
      },
      "source": [
        "Next, we are going to create new postgresql database from Google CloudSQL and create postgresql user/role which will be used to store the embeddings later on"
      ]
    },
    {
      "cell_type": "code",
      "execution_count": 9,
      "metadata": {
        "colab": {
          "base_uri": "https://localhost:8080/"
        },
        "id": "cpNNeAmkcD9n",
        "outputId": "78554250-bb88-4ce1-f4b1-d5ecfe618fea"
      },
      "outputs": [
        {
          "output_type": "stream",
          "name": "stdout",
          "text": [
            "Found an existing Postgres Cloud SQL Instance!\n",
            "Database testing already exists, skipping creation.\n",
            "Created user [testing].\n"
          ]
        }
      ],
      "source": [
        "#@markdown Create and setup a Cloud SQL PostgreSQL instance, if not done already.\n",
        "database_version = !gcloud sql instances describe {instance_name} --format=\"value(databaseVersion)\"\n",
        "if database_version[0].startswith(\"POSTGRES\"):\n",
        "  print(\"Found an existing Postgres Cloud SQL Instance!\")\n",
        "else:\n",
        "  print(\"Creating new Cloud SQL instance...\")\n",
        "  !gcloud sql instances create {instance_name} --database-version=POSTGRES_15 \\\n",
        "    --region={region} --cpu=1 --memory=4GB --root-password={database_password} \\\n",
        "    --authorized-networks=0.0.0.0/0\n",
        "# Create the database, if it does not exist.\n",
        "out = !gcloud sql databases list --instance={instance_name} --filter=\"NAME:{database_name}\" --format=\"value(NAME)\"\n",
        "if ''.join(out) == database_name:\n",
        "  print(\"Database %s already exists, skipping creation.\" % database_name)\n",
        "else:\n",
        "  !gcloud sql databases create {database_name} --instance={instance_name}\n",
        "# Create the database user for accessing the database.\n",
        "!gcloud sql users create {database_user} \\\n",
        "  --instance={instance_name} \\\n",
        "  --password={database_password}"
      ]
    },
    {
      "cell_type": "markdown",
      "metadata": {
        "id": "JcD-WKivcD9o"
      },
      "source": [
        "Here we are going to get the ip of postgresql we just created. Take note to the database host ip address."
      ]
    },
    {
      "cell_type": "code",
      "execution_count": 10,
      "metadata": {
        "colab": {
          "base_uri": "https://localhost:8080/"
        },
        "id": "hFRBLQMQcD9o",
        "outputId": "b0fdc54e-5146-4448-ac1f-ed6fe6ee6bdc"
      },
      "outputs": [
        {
          "output_type": "stream",
          "name": "stdout",
          "text": [
            "Using database host: 35.239.247.104\n"
          ]
        }
      ],
      "source": [
        "# get the ip address of the instance\n",
        "ip_addresses = !gcloud sql instances describe {instance_name} --project {project_id} --format 'value(ipAddresses.ipAddress)'\n",
        "# Split the IP addresses and take the first one\n",
        "database_host = ip_addresses[0].split(';')[0].strip()\n",
        "print(f\"Using database host: {database_host}\")"
      ]
    },
    {
      "cell_type": "markdown",
      "metadata": {
        "id": "BzbTVEbrcD9o"
      },
      "source": [
        "## Prepare the embeddings\n",
        "\n",
        "Now, we will build the embeddings from the content we have selected."
      ]
    },
    {
      "cell_type": "markdown",
      "metadata": {
        "id": "6ienNNjycD9o"
      },
      "source": [
        "Before creating the embedding, we need to split the content of each files into chunks. This is most of the time required, especially when the content is toolong, because embedding has the limit for the number of input token it can accept."
      ]
    },
    {
      "cell_type": "code",
      "source": [
        "!pip install --upgrade google-cloud-aiplatform\n"
      ],
      "metadata": {
        "id": "Ntgf3aCkoKoH",
        "outputId": "1e095943-13d5-446a-9051-3e2b74cd302f",
        "colab": {
          "base_uri": "https://localhost:8080/"
        }
      },
      "execution_count": 35,
      "outputs": [
        {
          "output_type": "stream",
          "name": "stdout",
          "text": [
            "Requirement already satisfied: google-cloud-aiplatform in /usr/local/lib/python3.11/dist-packages (1.81.0)\n",
            "Requirement already satisfied: google-api-core!=2.0.*,!=2.1.*,!=2.2.*,!=2.3.*,!=2.4.*,!=2.5.*,!=2.6.*,!=2.7.*,<3.0.0dev,>=1.34.1 in /usr/local/lib/python3.11/dist-packages (from google-api-core[grpc]!=2.0.*,!=2.1.*,!=2.2.*,!=2.3.*,!=2.4.*,!=2.5.*,!=2.6.*,!=2.7.*,<3.0.0dev,>=1.34.1->google-cloud-aiplatform) (2.24.1)\n",
            "Requirement already satisfied: google-auth<3.0.0dev,>=2.14.1 in /usr/local/lib/python3.11/dist-packages (from google-cloud-aiplatform) (2.38.0)\n",
            "Requirement already satisfied: proto-plus<2.0.0dev,>=1.22.3 in /usr/local/lib/python3.11/dist-packages (from google-cloud-aiplatform) (1.26.0)\n",
            "Requirement already satisfied: protobuf!=4.21.0,!=4.21.1,!=4.21.2,!=4.21.3,!=4.21.4,!=4.21.5,<6.0.0dev,>=3.20.2 in /usr/local/lib/python3.11/dist-packages (from google-cloud-aiplatform) (5.29.3)\n",
            "Requirement already satisfied: packaging>=14.3 in /usr/local/lib/python3.11/dist-packages (from google-cloud-aiplatform) (24.2)\n",
            "Requirement already satisfied: google-cloud-storage<3.0.0dev,>=1.32.0 in /usr/local/lib/python3.11/dist-packages (from google-cloud-aiplatform) (2.19.0)\n",
            "Requirement already satisfied: google-cloud-bigquery!=3.20.0,<4.0.0dev,>=1.15.0 in /usr/local/lib/python3.11/dist-packages (from google-cloud-aiplatform) (3.29.0)\n",
            "Requirement already satisfied: google-cloud-resource-manager<3.0.0dev,>=1.3.3 in /usr/local/lib/python3.11/dist-packages (from google-cloud-aiplatform) (1.14.0)\n",
            "Requirement already satisfied: shapely<3.0.0dev in /usr/local/lib/python3.11/dist-packages (from google-cloud-aiplatform) (2.0.7)\n",
            "Requirement already satisfied: pydantic<3 in /usr/local/lib/python3.11/dist-packages (from google-cloud-aiplatform) (2.9.2)\n",
            "Requirement already satisfied: typing-extensions in /usr/local/lib/python3.11/dist-packages (from google-cloud-aiplatform) (4.12.2)\n",
            "Requirement already satisfied: docstring-parser<1 in /usr/local/lib/python3.11/dist-packages (from google-cloud-aiplatform) (0.16)\n",
            "Requirement already satisfied: googleapis-common-protos<2.0.dev0,>=1.56.2 in /usr/local/lib/python3.11/dist-packages (from google-api-core!=2.0.*,!=2.1.*,!=2.2.*,!=2.3.*,!=2.4.*,!=2.5.*,!=2.6.*,!=2.7.*,<3.0.0dev,>=1.34.1->google-api-core[grpc]!=2.0.*,!=2.1.*,!=2.2.*,!=2.3.*,!=2.4.*,!=2.5.*,!=2.6.*,!=2.7.*,<3.0.0dev,>=1.34.1->google-cloud-aiplatform) (1.67.0)\n",
            "Requirement already satisfied: requests<3.0.0.dev0,>=2.18.0 in /usr/local/lib/python3.11/dist-packages (from google-api-core!=2.0.*,!=2.1.*,!=2.2.*,!=2.3.*,!=2.4.*,!=2.5.*,!=2.6.*,!=2.7.*,<3.0.0dev,>=1.34.1->google-api-core[grpc]!=2.0.*,!=2.1.*,!=2.2.*,!=2.3.*,!=2.4.*,!=2.5.*,!=2.6.*,!=2.7.*,<3.0.0dev,>=1.34.1->google-cloud-aiplatform) (2.32.3)\n",
            "Requirement already satisfied: grpcio<2.0dev,>=1.33.2 in /usr/local/lib/python3.11/dist-packages (from google-api-core[grpc]!=2.0.*,!=2.1.*,!=2.2.*,!=2.3.*,!=2.4.*,!=2.5.*,!=2.6.*,!=2.7.*,<3.0.0dev,>=1.34.1->google-cloud-aiplatform) (1.70.0)\n",
            "Requirement already satisfied: grpcio-status<2.0.dev0,>=1.33.2 in /usr/local/lib/python3.11/dist-packages (from google-api-core[grpc]!=2.0.*,!=2.1.*,!=2.2.*,!=2.3.*,!=2.4.*,!=2.5.*,!=2.6.*,!=2.7.*,<3.0.0dev,>=1.34.1->google-cloud-aiplatform) (1.62.3)\n",
            "Requirement already satisfied: cachetools<6.0,>=2.0.0 in /usr/local/lib/python3.11/dist-packages (from google-auth<3.0.0dev,>=2.14.1->google-cloud-aiplatform) (5.5.1)\n",
            "Requirement already satisfied: pyasn1-modules>=0.2.1 in /usr/local/lib/python3.11/dist-packages (from google-auth<3.0.0dev,>=2.14.1->google-cloud-aiplatform) (0.4.1)\n",
            "Requirement already satisfied: rsa<5,>=3.1.4 in /usr/local/lib/python3.11/dist-packages (from google-auth<3.0.0dev,>=2.14.1->google-cloud-aiplatform) (4.9)\n",
            "Requirement already satisfied: google-cloud-core<3.0.0dev,>=2.4.1 in /usr/local/lib/python3.11/dist-packages (from google-cloud-bigquery!=3.20.0,<4.0.0dev,>=1.15.0->google-cloud-aiplatform) (2.4.1)\n",
            "Requirement already satisfied: google-resumable-media<3.0dev,>=2.0.0 in /usr/local/lib/python3.11/dist-packages (from google-cloud-bigquery!=3.20.0,<4.0.0dev,>=1.15.0->google-cloud-aiplatform) (2.7.2)\n",
            "Requirement already satisfied: python-dateutil<3.0dev,>=2.7.3 in /usr/local/lib/python3.11/dist-packages (from google-cloud-bigquery!=3.20.0,<4.0.0dev,>=1.15.0->google-cloud-aiplatform) (2.8.2)\n",
            "Requirement already satisfied: grpc-google-iam-v1<1.0.0dev,>=0.12.4 in /usr/local/lib/python3.11/dist-packages (from google-cloud-resource-manager<3.0.0dev,>=1.3.3->google-cloud-aiplatform) (0.14.0)\n",
            "Requirement already satisfied: google-crc32c<2.0dev,>=1.0 in /usr/local/lib/python3.11/dist-packages (from google-cloud-storage<3.0.0dev,>=1.32.0->google-cloud-aiplatform) (1.6.0)\n",
            "Requirement already satisfied: annotated-types>=0.6.0 in /usr/local/lib/python3.11/dist-packages (from pydantic<3->google-cloud-aiplatform) (0.7.0)\n",
            "Requirement already satisfied: pydantic-core==2.23.4 in /usr/local/lib/python3.11/dist-packages (from pydantic<3->google-cloud-aiplatform) (2.23.4)\n",
            "Requirement already satisfied: numpy<3,>=1.14 in /usr/local/lib/python3.11/dist-packages (from shapely<3.0.0dev->google-cloud-aiplatform) (1.26.4)\n",
            "Requirement already satisfied: pyasn1<0.7.0,>=0.4.6 in /usr/local/lib/python3.11/dist-packages (from pyasn1-modules>=0.2.1->google-auth<3.0.0dev,>=2.14.1->google-cloud-aiplatform) (0.6.1)\n",
            "Requirement already satisfied: six>=1.5 in /usr/local/lib/python3.11/dist-packages (from python-dateutil<3.0dev,>=2.7.3->google-cloud-bigquery!=3.20.0,<4.0.0dev,>=1.15.0->google-cloud-aiplatform) (1.17.0)\n",
            "Requirement already satisfied: charset-normalizer<4,>=2 in /usr/local/lib/python3.11/dist-packages (from requests<3.0.0.dev0,>=2.18.0->google-api-core!=2.0.*,!=2.1.*,!=2.2.*,!=2.3.*,!=2.4.*,!=2.5.*,!=2.6.*,!=2.7.*,<3.0.0dev,>=1.34.1->google-api-core[grpc]!=2.0.*,!=2.1.*,!=2.2.*,!=2.3.*,!=2.4.*,!=2.5.*,!=2.6.*,!=2.7.*,<3.0.0dev,>=1.34.1->google-cloud-aiplatform) (3.4.1)\n",
            "Requirement already satisfied: idna<4,>=2.5 in /usr/local/lib/python3.11/dist-packages (from requests<3.0.0.dev0,>=2.18.0->google-api-core!=2.0.*,!=2.1.*,!=2.2.*,!=2.3.*,!=2.4.*,!=2.5.*,!=2.6.*,!=2.7.*,<3.0.0dev,>=1.34.1->google-api-core[grpc]!=2.0.*,!=2.1.*,!=2.2.*,!=2.3.*,!=2.4.*,!=2.5.*,!=2.6.*,!=2.7.*,<3.0.0dev,>=1.34.1->google-cloud-aiplatform) (3.10)\n",
            "Requirement already satisfied: urllib3<3,>=1.21.1 in /usr/local/lib/python3.11/dist-packages (from requests<3.0.0.dev0,>=2.18.0->google-api-core!=2.0.*,!=2.1.*,!=2.2.*,!=2.3.*,!=2.4.*,!=2.5.*,!=2.6.*,!=2.7.*,<3.0.0dev,>=1.34.1->google-api-core[grpc]!=2.0.*,!=2.1.*,!=2.2.*,!=2.3.*,!=2.4.*,!=2.5.*,!=2.6.*,!=2.7.*,<3.0.0dev,>=1.34.1->google-cloud-aiplatform) (2.3.0)\n",
            "Requirement already satisfied: certifi>=2017.4.17 in /usr/local/lib/python3.11/dist-packages (from requests<3.0.0.dev0,>=2.18.0->google-api-core!=2.0.*,!=2.1.*,!=2.2.*,!=2.3.*,!=2.4.*,!=2.5.*,!=2.6.*,!=2.7.*,<3.0.0dev,>=1.34.1->google-api-core[grpc]!=2.0.*,!=2.1.*,!=2.2.*,!=2.3.*,!=2.4.*,!=2.5.*,!=2.6.*,!=2.7.*,<3.0.0dev,>=1.34.1->google-cloud-aiplatform) (2025.1.31)\n"
          ]
        }
      ]
    },
    {
      "cell_type": "code",
      "execution_count": 11,
      "metadata": {
        "colab": {
          "base_uri": "https://localhost:8080/"
        },
        "id": "g6UZzEk5cD9o",
        "outputId": "8d0eb1bd-57cd-42c5-a587-f5c02400c888"
      },
      "outputs": [
        {
          "output_type": "execute_result",
          "data": {
            "text/plain": [
              "Document(metadata={'kode_rekening': kode_rekening    4\n",
              "kode_rekening    4\n",
              "Name: 0, dtype: object, 'nama_rekening': 'Pendapatan Daerah', 'embedding': TextEmbedding(values=[0.02960214763879776, -0.015203156508505344, -0.02225613035261631, 0.010706629604101181, 0.07355363667011261, 0.02260500006377697, 0.02218550257384777, -0.06401398777961731, -0.02256166934967041, 0.0248210858553648, -0.02891496941447258, -0.009132466278970242, -0.0583990104496479, 9.912889800034463e-05, -0.002229772973805666, 0.0005700799520127475, 0.008369393646717072, -0.01962440460920334, -0.028111064806580544, -0.056292641907930374, -0.06473688036203384, 0.013326802290976048, -0.01194078754633665, 0.03180437162518501, 0.00406937999650836, -0.01592911221086979, 0.005190434865653515, -0.02846512384712696, -0.030637163668870926, 0.018438050523400307, -0.03536650165915489, 0.03554858639836311, -0.03242355212569237, -0.009869933128356934, -0.005281076766550541, -0.02853880636394024, -0.01916935294866562, 0.0012508730869740248, 0.034929413348436356, 0.06029948964715004, -0.0039028972387313843, 0.0041090818122029305, 0.02645522728562355, -0.029994217678904533, 0.026016606017947197, -0.04234869405627251, 0.003756699850782752, 0.004630153998732567, 0.027228057384490967, -0.044263824820518494, 0.02128330059349537, 1.7414131434634328e-05, 0.05768971145153046, -0.006032729055732489, -0.0085736820474267, -0.10286280512809753, -0.03448616713285446, 0.013250092044472694, -0.013327088207006454, -0.0198786873370409, -0.014215167611837387, 0.021492566913366318, -0.01049796212464571, 0.07069149613380432, 0.009675795212388039, -0.07220003008842468, -0.03577649965882301, 0.004369421396404505, 0.059365320950746536, -0.0014269702369347215, 0.01871979981660843, -0.012290737591683865, 0.07067536562681198, 0.015684565529227257, -0.0367891788482666, -0.06695082038640976, -0.022422833368182182, 0.0266722459346056, 0.049254026263952255, 0.0321274995803833, -0.004850809928029776, -0.0729956328868866, -0.020264381542801857, -0.02593076415359974, -0.005891668144613504, 0.06394589692354202, -0.053623832762241364, -0.007410629652440548, -0.04219267889857292, 0.05662650242447853, -0.011493448168039322, -0.014043874107301235, -0.009678402915596962, -0.07617096602916718, 0.0350482240319252, 0.07093202322721481, -0.0032828552648425102, -0.029532741755247116, 0.0012947045033797622, -0.06152055412530899, -0.01756601780653, -0.04561446234583855, -0.027705729007720947, -0.030470436438918114, -0.03204881027340889, 0.01712125539779663, 0.002434639958664775, 0.018352871760725975, -0.045328427106142044, 0.024385550990700722, -0.04606788605451584, -0.031211605295538902, -0.0013637206284329295, 0.0070569165982306, 0.032985251396894455, -0.017134983092546463, -0.015135311521589756, 0.05351744219660759, 0.010330506600439548, 0.014190512709319592, 0.05458727478981018, 0.011903402395546436, 0.0031710306648164988, -0.0027639034669846296, 0.029461029917001724, -0.004510615952312946, -0.058762092143297195, 0.006424249149858952, 0.0173471849411726, 0.07542288303375244, 0.013963182456791401, -0.011579210869967937, 0.01648438535630703, -0.0076879034750163555, 0.03248285502195358, 0.019615117460489273, 0.014796675182878971, 0.01589301973581314, 0.03825656324625015, 0.005184515845030546, -0.012460462749004364, 0.0421961210668087, 0.011336931958794594, 0.03304537758231163, -0.0055562350898981094, 0.04183971881866455, 0.018874896690249443, 0.002304406836628914, 0.05926474928855896, -0.02397717908024788, -0.022186584770679474, -0.02657702937722206, -0.054789043962955475, 0.0033846981823444366, 0.07394670695066452, 0.07795335352420807, -0.004655705764889717, 0.011296666227281094, 0.03787439689040184, 0.08573625236749649, 0.036178819835186005, 0.018417971208691597, -0.038756370544433594, -0.0048606907948851585, -0.024911725893616676, -0.06794409453868866, 0.024457799270749092, 0.013382765464484692, 0.018650799989700317, -0.051478203386068344, 0.01124234963208437, 0.0008073751232586801, -0.07065928727388382, -0.045679014176130295, -0.038813184946775436, -0.08673868328332901, -0.02291586622595787, 0.013224429450929165, 0.008467582985758781, 0.03276480734348297, -0.023532697930932045, -0.0370212160050869, 0.0314517579972744, 0.01341386791318655, 0.02190762385725975, 0.0013058505719527602, 0.047264229506254196, -0.019828354939818382, -0.025471774861216545, -0.06749502569437027, -0.032304368913173676, -0.040532514452934265, -0.008281444199383259, -0.005011335946619511, -0.041354116052389145, 0.01057919580489397, -0.009500568732619286, 0.05007169023156166, -0.020697955042123795, -0.010161112993955612, -0.03705288842320442, 0.012489979155361652, 0.014790944755077362, 0.002666635438799858, 0.06912627816200256, -0.03161875531077385, 0.06611739099025726, 0.0005556480609811842, 0.009269039146602154, 0.058345552533864975, -0.013107520528137684, -0.009627236053347588, -0.022392548620700836, -0.000510494108311832, 0.04658439755439758, 0.02715487964451313, -0.001263750484213233, 0.005760757718235254, -0.013465635478496552, -0.02867806702852249, -0.03420000523328781, -0.02289474755525589, -0.015121536329388618, 0.04217080771923065, -0.009526065550744534, 0.013065598905086517, 0.048441000282764435, 0.038169488310813904, -0.0131591921672225, -0.023381240665912628, -0.009513651952147484, 0.08518324792385101, 0.04054799675941467, -0.018614308908581734, 0.08763523399829865, -0.006521386094391346, 0.017483379691839218, 0.023999463766813278, 0.003669610247015953, 0.026508016511797905, -0.04591207578778267, 0.01401777658611536, 0.02679530903697014, 0.029928039759397507, -0.07075872272253036, -0.019870128482580185, 0.017922446131706238, 0.05579455569386482, -0.009882377460598946, 0.07037097215652466, -0.0205475352704525, -0.06246201694011688, 0.027146795764565468, 0.03252438083291054, -0.04253038391470909, 0.03445445001125336, -0.04731987416744232, 0.041144367307424545, 0.02594510093331337, -0.003254686249420047, 0.03835644945502281, 0.016896484419703484, 0.020294388756155968, -0.004855060484260321, -0.013094337657094002, 0.012045091018080711, 0.009279738180339336, -0.02000829204916954, -0.0263473279774189, 0.03167825937271118, -0.022226739674806595, -0.031186290085315704, 0.11632528901100159, 0.028568003326654434, -0.02775963582098484, 0.058177076280117035, -0.0172114297747612, 0.0599244125187397, -0.022462017834186554, -0.05263657122850418, 0.02026740461587906, 0.02367958053946495, 0.024607833474874496, -0.027846727520227432, -0.0024779026862233877, -0.024984443560242653, -0.04113060608506203, 0.015245738439261913, -0.00026960286777466536, -0.04935409501194954, -0.05533076077699661, -0.01643342524766922, -0.0070599885657429695, -0.039093099534511566, -0.047775961458683014, 0.00754855340346694, -0.0035775904543697834, 0.005370474886149168, -0.002026095287874341, -0.0028197593055665493, -0.022715942934155464, -0.03497150540351868, -0.030621903017163277, -0.09624413400888443, 0.014911985956132412, 0.019597508013248444, -0.003425978124141693, -0.05056748539209366, -0.010265020653605461, 0.054992225021123886, 0.004091834649443626, -0.05432191863656044, -0.046205293387174606, -0.021271683275699615, 0.05739261209964752, 0.04307302087545395, -0.02814468741416931, -0.010093252174556255, -0.03404878079891205, 0.08030395209789276, -0.012757662683725357, 0.03390835225582123, 0.0426611490547657, -0.03016018494963646, 0.02183372713625431, 0.012736980803310871, -0.023880701512098312, 0.020530857145786285, 0.014986924827098846, 0.00909023080021143, 0.002399265533313155, 0.010005065239965916, -0.03499168902635574, 0.055213455110788345, -0.0028734218794852495, 0.012592590413987637, -0.08416946232318878, 0.032269932329654694, -0.02516286075115204, 0.02518824301660061, 0.06695737689733505, 0.016060352325439453, -0.03391236066818237, -0.03702285513281822, -0.034810975193977356, 0.002748097525909543, -0.02398584969341755, 0.014253521338105202, 0.08784046769142151, 0.005860980600118637, 0.009149762801826, 0.06340845674276352, -0.013870569877326488, 0.0027067791670560837, -0.02517556957900524, -0.009857343509793282, 0.0720314234495163, 0.0011727535165846348, 0.02799474261701107, 0.0015411924105137587, -0.05116958171129227, 0.0517645888030529, -0.019884997978806496, 0.000961742945946753, -0.0008321089553646743, -0.026357965543866158, -0.003283984959125519, 0.002271895529702306, -0.004944911692291498, 0.03786623850464821, 0.018534941598773003, -0.028858419507741928, -0.004848613403737545, 0.004773452412337065, -0.03659115359187126, -0.04376619681715965, -0.017522385343909264, -0.025582589209079742, 0.013706686906516552, 0.036695532500743866, 0.004939033184200525, 0.00603944156318903, 0.03906477615237236, 0.007005081977695227, 0.01834130845963955, -0.07312502712011337, 0.06872162967920303, 0.04663252830505371, -0.0007825286593288183, 0.049453750252723694, -0.04399922117590904, 0.021256284788250923, 0.06916376203298569, 0.03252573683857918, -0.01118756365031004, 0.007046119309961796, -0.07962135225534439, -0.010010247118771076, 0.021915104240179062, -0.013016749173402786, -0.008126837201416492, -0.03355362266302109, 0.017650311812758446, -0.050093427300453186, 0.004842762369662523, -0.019264891743659973, -0.008289022371172905, -0.02478499338030815, -0.034681275486946106, -0.03903518617153168, -0.020597027614712715, 0.025553332641720772, 0.011886514723300934, -0.11241569370031357, -0.020822223275899887, -0.02032150700688362, 0.010912016034126282, 0.009413615800440311, -0.0016741479048505425, 0.05960817262530327, -0.04390836879611015, -0.015470130369067192, -0.039933301508426666, -0.05299421772360802, -0.04962541162967682, -0.02335425838828087, -0.0214997585862875, -0.006869844626635313, 0.004964576102793217, 0.021571509540081024, 0.013016567565500736, -0.059327490627765656, 0.023257533088326454, -0.040007978677749634, -0.022638224065303802, -0.08458679914474487, -0.004496339242905378, 0.03184622898697853, 0.015810783952474594, -0.03508151322603226, 0.03402411565184593, -0.01999209076166153, 0.018705740571022034, 0.009742447175085545, 0.005187264643609524, -0.03497561067342758, 0.022695936262607574, -0.0514468289911747, 0.01954684592783451, -0.04797493293881416, -0.009189438074827194, -0.005816094111651182, -0.03926090523600578, -0.007749759126454592, -0.01233183965086937, -0.04780927300453186, -0.024585671722888947, 0.021765723824501038, 0.0036350444424897432, 0.028197282925248146, -0.06464049965143204, -0.034519389271736145, 0.013790342025458813, -0.04521835967898369, -0.018102293834090233, -0.018445340916514397, -0.002961934544146061, -0.013018367812037468, 0.06266888231039047, 0.058761026710271835, 0.019121333956718445, -0.02371426299214363, 0.026044651865959167, -0.015984218567609787, -0.010283312760293484, -0.0018689942080527544, -0.09160677343606949, 0.01904817298054695, 0.006942969746887684, -0.01589297503232956, -0.01844611018896103, -0.07010862231254578, 0.04912291467189789, -0.0003927400684915483, -0.007349704392254353, 0.006996220909059048, 0.008170368149876595, -0.02364365942776203, 0.0578705333173275, 0.037869684398174286, 0.010073834098875523, -0.0037320794072002172, -0.02183639071881771, -0.0666923001408577, -0.0125489616766572, 0.02872868999838829, -0.04689721763134003, 0.0030520029831677675, 0.01253139041364193, 0.04759211838245392, 0.0006222722586244345, 0.02972002699971199, 0.009382772259414196, -0.01884634420275688, 0.026956111192703247, -0.06867425888776779, -0.005350036546587944, 0.0037173028104007244, 0.023658260703086853, 0.004539682995527983, -0.004230341874063015, 0.013933845795691013, -0.009599577635526657, -0.015266437083482742, 0.02536698617041111, -0.03312437981367111, -0.027460312470793724, 0.06259991228580475, -0.015096689574420452, -0.027742961421608925, 0.03982588276267052, 0.018139084801077843, -0.0543198324739933, -0.007908760569989681, 0.0743432566523552, -0.023211421445012093, -0.00042685860535129905, 0.01852252148091793, -0.034378454089164734, 0.00025003671180456877, 0.010796420276165009, 0.048976946622133255, -0.05225061997771263, -0.011149127036333084, 0.018026666715741158, 0.006745774298906326, 0.004378347657620907, 0.08606584370136261, 0.034066829830408096, -0.011166607029736042, -0.0022749744821339846, 0.0012348159216344357, 0.018070798367261887, 0.03072959929704666, 0.023930924013257027, -0.010406526736915112, 0.025654906406998634, -0.09117159247398376, 0.010018614120781422, 0.01465797983109951, -0.06476359069347382, -0.012771242298185825, 0.010475576855242252, -0.05818843096494675, 0.018950020894408226, -0.01899006776511669, -0.052048202604055405, 0.0014420159859582782, 0.03860371559858322, -0.01494242437183857, -0.05465840548276901, 0.040921032428741455, -0.02361338585615158, 0.0019159625517204404, 0.07593826949596405, 0.05661497265100479, -0.024311771616339684, -0.032100778073072433, 0.08235504478216171, -0.005105060525238514, -0.001214951160363853, 0.0013752431841567159, -0.0481548048555851, -0.030616408213973045, 0.050926439464092255, -0.041091158986091614, -0.0272835586220026, 0.022224683314561844, -0.025939321145415306, -0.043229926377534866, 0.03376704081892967, -0.027550607919692993, -0.002913504373282194, -0.000943697988986969, -1.9158094801241532e-05, 0.03800608590245247, 0.03739619255065918, 0.008039369247853756, 0.033422909677028656, -0.009431839920580387, -0.06862039864063263, 0.06942743062973022, -0.04147660359740257, -0.04315860569477081, -0.00016762102313805372, 0.01589546911418438, -0.03829643130302429, -0.023723406717181206, 0.0022174210753291845, -0.019917301833629608, 0.010641779750585556, -0.004536917433142662, 0.044646263122558594, -0.011958857998251915, 0.044500771909952164, 0.028918735682964325, -0.024636447429656982, 0.003977621905505657, -0.005318707320839167, -0.0027263087686151266, 0.003981743007898331, 0.00671797152608633, 0.02680516615509987, 0.014715447090566158, 0.00892730988562107, -0.05223754793405533, 0.04625788331031799, 0.024617547169327736, -0.06468576192855835, -0.04254505783319473, 0.008566010743379593, -0.0058556217700243, -0.039455585181713104, -0.009143682196736336, 0.005372876301407814, -0.027617061510682106, -0.002567649120464921, -0.014493787661194801, 0.055746693164110184, 0.027437126263976097, 0.02553490176796913, 0.05550394952297211, -0.02843162603676319, -0.006310679484158754, -0.010480008088052273, -0.001937519758939743, -0.036976587027311325, -0.03350983187556267, 0.046927906572818756, 0.032170187681913376, -0.0650145635008812, -0.009269137866795063, -0.006229467689990997, 0.004132038913667202, -0.02128814533352852, 0.04951799288392067, 0.06106797978281975, -0.07048168033361435, -0.08120886981487274, -0.0317646786570549, -0.021331561729311943, 0.016370225697755814, 0.023800618946552277, -0.017523588612675667, 0.013265046291053295, -0.04273487254977226, -0.025215666741132736, -0.038200993090867996, 0.07333037257194519, -0.02833913452923298, -0.052645087242126465, 0.0404953733086586, -0.002256712643429637, 0.0040926821529865265, -0.0016919489717110991, -0.019006384536623955, -0.04444321617484093, -0.05481225252151489, -0.041126549243927, 0.05472719296813011, -0.04674549028277397, 0.06354297697544098, -0.04162972420454025, -0.024771656841039658, 0.05717327445745468, 0.05325069651007652, -0.00332364859059453, 0.024403652176260948, -0.0002364545944146812, 0.03573017567396164, 0.0010571638122200966, -0.018001697957515717, -0.027122894302010536, 0.05733487755060196, -0.030359044671058655, 0.02553156390786171, -0.02438921481370926, -0.0006669064750894904, -0.06101734936237335, -0.02153896726667881, -0.008801821619272232, -0.011813812889158726, -0.021918898448348045, 0.012392871081829071, 0.03602675721049309, 0.03025481104850769, 0.009154601953923702, 0.01472020335495472, 0.03975158929824829, -0.00832423847168684, -0.055737145245075226, -0.06706859916448593, 0.028325960040092468, 0.024217210710048676, -0.01108464878052473, -0.014154362492263317, -0.021188972517848015, 0.01407772209495306, 0.031057480722665787, 0.03136448562145233, 0.04504118859767914, -0.08848810940980911, -0.05202197656035423, 0.04478295147418976, 0.033680569380521774, -0.013864854350686073, 0.03098054975271225, 0.004726834129542112, -0.061060234904289246, 0.05003536120057106, 0.08967799693346024, -0.009758783504366875, 0.017688827589154243, -0.034534256905317307, -0.03979367017745972, 0.08284013718366623, 0.011024276725947857, 0.0177169069647789, -0.021987373009324074, 0.0011062383418902755, 0.12272347509860992, 0.04863892123103142, -0.057730067521333694, -0.0011347046820446849, -0.03444712609052658, 0.04906485974788666, -0.005347824189811945, 0.04914899542927742, -0.034384094178676605, -0.10575666278600693, -0.04957573115825653, 0.0014151961077004671, 0.01677190698683262, 0.05035972222685814, 0.006459037773311138, -0.06456310302019119, -0.005861605983227491, -0.008425033651292324, -0.014337807893753052, -0.0422385036945343, -0.06899505853652954, -0.005078870337456465, -0.035726096481084824, 0.02901698648929596, 0.06399072706699371, -0.04348595812916756, -0.022390348836779594, -0.016014523804187775, 0.03289341554045677, 0.01654364913702011, -0.08061637729406357, 0.015266953967511654, -0.03404159098863602, 0.051001425832509995, -0.007759622298181057, 0.05877739563584328, -0.03501599654555321, 0.025258637964725494], statistics=TextEmbeddingStatistics(token_count=87.0, truncated=False), _prediction_response=Prediction(predictions=[{'embeddings': {'values': [0.02960214763879776, -0.015203156508505344, -0.02225613035261631, 0.010706629604101181, 0.07355363667011261, 0.02260500006377697, 0.02218550257384777, -0.06401398777961731, -0.02256166934967041, 0.0248210858553648, -0.02891496941447258, -0.009132466278970242, -0.0583990104496479, 9.912889800034463e-05, -0.002229772973805666, 0.0005700799520127475, 0.008369393646717072, -0.01962440460920334, -0.028111064806580544, -0.056292641907930374, -0.06473688036203384, 0.013326802290976048, -0.01194078754633665, 0.03180437162518501, 0.00406937999650836, -0.01592911221086979, 0.005190434865653515, -0.02846512384712696, -0.030637163668870926, 0.018438050523400307, -0.03536650165915489, 0.03554858639836311, -0.03242355212569237, -0.009869933128356934, -0.005281076766550541, -0.02853880636394024, -0.01916935294866562, 0.0012508730869740248, 0.034929413348436356, 0.06029948964715004, -0.0039028972387313843, 0.0041090818122029305, 0.02645522728562355, -0.029994217678904533, 0.026016606017947197, -0.04234869405627251, 0.003756699850782752, 0.004630153998732567, 0.027228057384490967, -0.044263824820518494, 0.02128330059349537, 1.7414131434634328e-05, 0.05768971145153046, -0.006032729055732489, -0.0085736820474267, -0.10286280512809753, -0.03448616713285446, 0.013250092044472694, -0.013327088207006454, -0.0198786873370409, -0.014215167611837387, 0.021492566913366318, -0.01049796212464571, 0.07069149613380432, 0.009675795212388039, -0.07220003008842468, -0.03577649965882301, 0.004369421396404505, 0.059365320950746536, -0.0014269702369347215, 0.01871979981660843, -0.012290737591683865, 0.07067536562681198, 0.015684565529227257, -0.0367891788482666, -0.06695082038640976, -0.022422833368182182, 0.0266722459346056, 0.049254026263952255, 0.0321274995803833, -0.004850809928029776, -0.0729956328868866, -0.020264381542801857, -0.02593076415359974, -0.005891668144613504, 0.06394589692354202, -0.053623832762241364, -0.007410629652440548, -0.04219267889857292, 0.05662650242447853, -0.011493448168039322, -0.014043874107301235, -0.009678402915596962, -0.07617096602916718, 0.0350482240319252, 0.07093202322721481, -0.0032828552648425102, -0.029532741755247116, 0.0012947045033797622, -0.06152055412530899, -0.01756601780653, -0.04561446234583855, -0.027705729007720947, -0.030470436438918114, -0.03204881027340889, 0.01712125539779663, 0.002434639958664775, 0.018352871760725975, -0.045328427106142044, 0.024385550990700722, -0.04606788605451584, -0.031211605295538902, -0.0013637206284329295, 0.0070569165982306, 0.032985251396894455, -0.017134983092546463, -0.015135311521589756, 0.05351744219660759, 0.010330506600439548, 0.014190512709319592, 0.05458727478981018, 0.011903402395546436, 0.0031710306648164988, -0.0027639034669846296, 0.029461029917001724, -0.004510615952312946, -0.058762092143297195, 0.006424249149858952, 0.0173471849411726, 0.07542288303375244, 0.013963182456791401, -0.011579210869967937, 0.01648438535630703, -0.0076879034750163555, 0.03248285502195358, 0.019615117460489273, 0.014796675182878971, 0.01589301973581314, 0.03825656324625015, 0.005184515845030546, -0.012460462749004364, 0.0421961210668087, 0.011336931958794594, 0.03304537758231163, -0.0055562350898981094, 0.04183971881866455, 0.018874896690249443, 0.002304406836628914, 0.05926474928855896, -0.02397717908024788, -0.022186584770679474, -0.02657702937722206, -0.054789043962955475, 0.0033846981823444366, 0.07394670695066452, 0.07795335352420807, -0.004655705764889717, 0.011296666227281094, 0.03787439689040184, 0.08573625236749649, 0.036178819835186005, 0.018417971208691597, -0.038756370544433594, -0.0048606907948851585, -0.024911725893616676, -0.06794409453868866, 0.024457799270749092, 0.013382765464484692, 0.018650799989700317, -0.051478203386068344, 0.01124234963208437, 0.0008073751232586801, -0.07065928727388382, -0.045679014176130295, -0.038813184946775436, -0.08673868328332901, -0.02291586622595787, 0.013224429450929165, 0.008467582985758781, 0.03276480734348297, -0.023532697930932045, -0.0370212160050869, 0.0314517579972744, 0.01341386791318655, 0.02190762385725975, 0.0013058505719527602, 0.047264229506254196, -0.019828354939818382, -0.025471774861216545, -0.06749502569437027, -0.032304368913173676, -0.040532514452934265, -0.008281444199383259, -0.005011335946619511, -0.041354116052389145, 0.01057919580489397, -0.009500568732619286, 0.05007169023156166, -0.020697955042123795, -0.010161112993955612, -0.03705288842320442, 0.012489979155361652, 0.014790944755077362, 0.002666635438799858, 0.06912627816200256, -0.03161875531077385, 0.06611739099025726, 0.0005556480609811842, 0.009269039146602154, 0.058345552533864975, -0.013107520528137684, -0.009627236053347588, -0.022392548620700836, -0.000510494108311832, 0.04658439755439758, 0.02715487964451313, -0.001263750484213233, 0.005760757718235254, -0.013465635478496552, -0.02867806702852249, -0.03420000523328781, -0.02289474755525589, -0.015121536329388618, 0.04217080771923065, -0.009526065550744534, 0.013065598905086517, 0.048441000282764435, 0.038169488310813904, -0.0131591921672225, -0.023381240665912628, -0.009513651952147484, 0.08518324792385101, 0.04054799675941467, -0.018614308908581734, 0.08763523399829865, -0.006521386094391346, 0.017483379691839218, 0.023999463766813278, 0.003669610247015953, 0.026508016511797905, -0.04591207578778267, 0.01401777658611536, 0.02679530903697014, 0.029928039759397507, -0.07075872272253036, -0.019870128482580185, 0.017922446131706238, 0.05579455569386482, -0.009882377460598946, 0.07037097215652466, -0.0205475352704525, -0.06246201694011688, 0.027146795764565468, 0.03252438083291054, -0.04253038391470909, 0.03445445001125336, -0.04731987416744232, 0.041144367307424545, 0.02594510093331337, -0.003254686249420047, 0.03835644945502281, 0.016896484419703484, 0.020294388756155968, -0.004855060484260321, -0.013094337657094002, 0.012045091018080711, 0.009279738180339336, -0.02000829204916954, -0.0263473279774189, 0.03167825937271118, -0.022226739674806595, -0.031186290085315704, 0.11632528901100159, 0.028568003326654434, -0.02775963582098484, 0.058177076280117035, -0.0172114297747612, 0.0599244125187397, -0.022462017834186554, -0.05263657122850418, 0.02026740461587906, 0.02367958053946495, 0.024607833474874496, -0.027846727520227432, -0.0024779026862233877, -0.024984443560242653, -0.04113060608506203, 0.015245738439261913, -0.00026960286777466536, -0.04935409501194954, -0.05533076077699661, -0.01643342524766922, -0.0070599885657429695, -0.039093099534511566, -0.047775961458683014, 0.00754855340346694, -0.0035775904543697834, 0.005370474886149168, -0.002026095287874341, -0.0028197593055665493, -0.022715942934155464, -0.03497150540351868, -0.030621903017163277, -0.09624413400888443, 0.014911985956132412, 0.019597508013248444, -0.003425978124141693, -0.05056748539209366, -0.010265020653605461, 0.054992225021123886, 0.004091834649443626, -0.05432191863656044, -0.046205293387174606, -0.021271683275699615, 0.05739261209964752, 0.04307302087545395, -0.02814468741416931, -0.010093252174556255, -0.03404878079891205, 0.08030395209789276, -0.012757662683725357, 0.03390835225582123, 0.0426611490547657, -0.03016018494963646, 0.02183372713625431, 0.012736980803310871, -0.023880701512098312, 0.020530857145786285, 0.014986924827098846, 0.00909023080021143, 0.002399265533313155, 0.010005065239965916, -0.03499168902635574, 0.055213455110788345, -0.0028734218794852495, 0.012592590413987637, -0.08416946232318878, 0.032269932329654694, -0.02516286075115204, 0.02518824301660061, 0.06695737689733505, 0.016060352325439453, -0.03391236066818237, -0.03702285513281822, -0.034810975193977356, 0.002748097525909543, -0.02398584969341755, 0.014253521338105202, 0.08784046769142151, 0.005860980600118637, 0.009149762801826, 0.06340845674276352, -0.013870569877326488, 0.0027067791670560837, -0.02517556957900524, -0.009857343509793282, 0.0720314234495163, 0.0011727535165846348, 0.02799474261701107, 0.0015411924105137587, -0.05116958171129227, 0.0517645888030529, -0.019884997978806496, 0.000961742945946753, -0.0008321089553646743, -0.026357965543866158, -0.003283984959125519, 0.002271895529702306, -0.004944911692291498, 0.03786623850464821, 0.018534941598773003, -0.028858419507741928, -0.004848613403737545, 0.004773452412337065, -0.03659115359187126, -0.04376619681715965, -0.017522385343909264, -0.025582589209079742, 0.013706686906516552, 0.036695532500743866, 0.004939033184200525, 0.00603944156318903, 0.03906477615237236, 0.007005081977695227, 0.01834130845963955, -0.07312502712011337, 0.06872162967920303, 0.04663252830505371, -0.0007825286593288183, 0.049453750252723694, -0.04399922117590904, 0.021256284788250923, 0.06916376203298569, 0.03252573683857918, -0.01118756365031004, 0.007046119309961796, -0.07962135225534439, -0.010010247118771076, 0.021915104240179062, -0.013016749173402786, -0.008126837201416492, -0.03355362266302109, 0.017650311812758446, -0.050093427300453186, 0.004842762369662523, -0.019264891743659973, -0.008289022371172905, -0.02478499338030815, -0.034681275486946106, -0.03903518617153168, -0.020597027614712715, 0.025553332641720772, 0.011886514723300934, -0.11241569370031357, -0.020822223275899887, -0.02032150700688362, 0.010912016034126282, 0.009413615800440311, -0.0016741479048505425, 0.05960817262530327, -0.04390836879611015, -0.015470130369067192, -0.039933301508426666, -0.05299421772360802, -0.04962541162967682, -0.02335425838828087, -0.0214997585862875, -0.006869844626635313, 0.004964576102793217, 0.021571509540081024, 0.013016567565500736, -0.059327490627765656, 0.023257533088326454, -0.040007978677749634, -0.022638224065303802, -0.08458679914474487, -0.004496339242905378, 0.03184622898697853, 0.015810783952474594, -0.03508151322603226, 0.03402411565184593, -0.01999209076166153, 0.018705740571022034, 0.009742447175085545, 0.005187264643609524, -0.03497561067342758, 0.022695936262607574, -0.0514468289911747, 0.01954684592783451, -0.04797493293881416, -0.009189438074827194, -0.005816094111651182, -0.03926090523600578, -0.007749759126454592, -0.01233183965086937, -0.04780927300453186, -0.024585671722888947, 0.021765723824501038, 0.0036350444424897432, 0.028197282925248146, -0.06464049965143204, -0.034519389271736145, 0.013790342025458813, -0.04521835967898369, -0.018102293834090233, -0.018445340916514397, -0.002961934544146061, -0.013018367812037468, 0.06266888231039047, 0.058761026710271835, 0.019121333956718445, -0.02371426299214363, 0.026044651865959167, -0.015984218567609787, -0.010283312760293484, -0.0018689942080527544, -0.09160677343606949, 0.01904817298054695, 0.006942969746887684, -0.01589297503232956, -0.01844611018896103, -0.07010862231254578, 0.04912291467189789, -0.0003927400684915483, -0.007349704392254353, 0.006996220909059048, 0.008170368149876595, -0.02364365942776203, 0.0578705333173275, 0.037869684398174286, 0.010073834098875523, -0.0037320794072002172, -0.02183639071881771, -0.0666923001408577, -0.0125489616766572, 0.02872868999838829, -0.04689721763134003, 0.0030520029831677675, 0.01253139041364193, 0.04759211838245392, 0.0006222722586244345, 0.02972002699971199, 0.009382772259414196, -0.01884634420275688, 0.026956111192703247, -0.06867425888776779, -0.005350036546587944, 0.0037173028104007244, 0.023658260703086853, 0.004539682995527983, -0.004230341874063015, 0.013933845795691013, -0.009599577635526657, -0.015266437083482742, 0.02536698617041111, -0.03312437981367111, -0.027460312470793724, 0.06259991228580475, -0.015096689574420452, -0.027742961421608925, 0.03982588276267052, 0.018139084801077843, -0.0543198324739933, -0.007908760569989681, 0.0743432566523552, -0.023211421445012093, -0.00042685860535129905, 0.01852252148091793, -0.034378454089164734, 0.00025003671180456877, 0.010796420276165009, 0.048976946622133255, -0.05225061997771263, -0.011149127036333084, 0.018026666715741158, 0.006745774298906326, 0.004378347657620907, 0.08606584370136261, 0.034066829830408096, -0.011166607029736042, -0.0022749744821339846, 0.0012348159216344357, 0.018070798367261887, 0.03072959929704666, 0.023930924013257027, -0.010406526736915112, 0.025654906406998634, -0.09117159247398376, 0.010018614120781422, 0.01465797983109951, -0.06476359069347382, -0.012771242298185825, 0.010475576855242252, -0.05818843096494675, 0.018950020894408226, -0.01899006776511669, -0.052048202604055405, 0.0014420159859582782, 0.03860371559858322, -0.01494242437183857, -0.05465840548276901, 0.040921032428741455, -0.02361338585615158, 0.0019159625517204404, 0.07593826949596405, 0.05661497265100479, -0.024311771616339684, -0.032100778073072433, 0.08235504478216171, -0.005105060525238514, -0.001214951160363853, 0.0013752431841567159, -0.0481548048555851, -0.030616408213973045, 0.050926439464092255, -0.041091158986091614, -0.0272835586220026, 0.022224683314561844, -0.025939321145415306, -0.043229926377534866, 0.03376704081892967, -0.027550607919692993, -0.002913504373282194, -0.000943697988986969, -1.9158094801241532e-05, 0.03800608590245247, 0.03739619255065918, 0.008039369247853756, 0.033422909677028656, -0.009431839920580387, -0.06862039864063263, 0.06942743062973022, -0.04147660359740257, -0.04315860569477081, -0.00016762102313805372, 0.01589546911418438, -0.03829643130302429, -0.023723406717181206, 0.0022174210753291845, -0.019917301833629608, 0.010641779750585556, -0.004536917433142662, 0.044646263122558594, -0.011958857998251915, 0.044500771909952164, 0.028918735682964325, -0.024636447429656982, 0.003977621905505657, -0.005318707320839167, -0.0027263087686151266, 0.003981743007898331, 0.00671797152608633, 0.02680516615509987, 0.014715447090566158, 0.00892730988562107, -0.05223754793405533, 0.04625788331031799, 0.024617547169327736, -0.06468576192855835, -0.04254505783319473, 0.008566010743379593, -0.0058556217700243, -0.039455585181713104, -0.009143682196736336, 0.005372876301407814, -0.027617061510682106, -0.002567649120464921, -0.014493787661194801, 0.055746693164110184, 0.027437126263976097, 0.02553490176796913, 0.05550394952297211, -0.02843162603676319, -0.006310679484158754, -0.010480008088052273, -0.001937519758939743, -0.036976587027311325, -0.03350983187556267, 0.046927906572818756, 0.032170187681913376, -0.0650145635008812, -0.009269137866795063, -0.006229467689990997, 0.004132038913667202, -0.02128814533352852, 0.04951799288392067, 0.06106797978281975, -0.07048168033361435, -0.08120886981487274, -0.0317646786570549, -0.021331561729311943, 0.016370225697755814, 0.023800618946552277, -0.017523588612675667, 0.013265046291053295, -0.04273487254977226, -0.025215666741132736, -0.038200993090867996, 0.07333037257194519, -0.02833913452923298, -0.052645087242126465, 0.0404953733086586, -0.002256712643429637, 0.0040926821529865265, -0.0016919489717110991, -0.019006384536623955, -0.04444321617484093, -0.05481225252151489, -0.041126549243927, 0.05472719296813011, -0.04674549028277397, 0.06354297697544098, -0.04162972420454025, -0.024771656841039658, 0.05717327445745468, 0.05325069651007652, -0.00332364859059453, 0.024403652176260948, -0.0002364545944146812, 0.03573017567396164, 0.0010571638122200966, -0.018001697957515717, -0.027122894302010536, 0.05733487755060196, -0.030359044671058655, 0.02553156390786171, -0.02438921481370926, -0.0006669064750894904, -0.06101734936237335, -0.02153896726667881, -0.008801821619272232, -0.011813812889158726, -0.021918898448348045, 0.012392871081829071, 0.03602675721049309, 0.03025481104850769, 0.009154601953923702, 0.01472020335495472, 0.03975158929824829, -0.00832423847168684, -0.055737145245075226, -0.06706859916448593, 0.028325960040092468, 0.024217210710048676, -0.01108464878052473, -0.014154362492263317, -0.021188972517848015, 0.01407772209495306, 0.031057480722665787, 0.03136448562145233, 0.04504118859767914, -0.08848810940980911, -0.05202197656035423, 0.04478295147418976, 0.033680569380521774, -0.013864854350686073, 0.03098054975271225, 0.004726834129542112, -0.061060234904289246, 0.05003536120057106, 0.08967799693346024, -0.009758783504366875, 0.017688827589154243, -0.034534256905317307, -0.03979367017745972, 0.08284013718366623, 0.011024276725947857, 0.0177169069647789, -0.021987373009324074, 0.0011062383418902755, 0.12272347509860992, 0.04863892123103142, -0.057730067521333694, -0.0011347046820446849, -0.03444712609052658, 0.04906485974788666, -0.005347824189811945, 0.04914899542927742, -0.034384094178676605, -0.10575666278600693, -0.04957573115825653, 0.0014151961077004671, 0.01677190698683262, 0.05035972222685814, 0.006459037773311138, -0.06456310302019119, -0.005861605983227491, -0.008425033651292324, -0.014337807893753052, -0.0422385036945343, -0.06899505853652954, -0.005078870337456465, -0.035726096481084824, 0.02901698648929596, 0.06399072706699371, -0.04348595812916756, -0.022390348836779594, -0.016014523804187775, 0.03289341554045677, 0.01654364913702011, -0.08061637729406357, 0.015266953967511654, -0.03404159098863602, 0.051001425832509995, -0.007759622298181057, 0.05877739563584328, -0.03501599654555321, 0.025258637964725494], 'statistics': {'truncated': False, 'token_count': 87.0}}}], deployed_model_id='', metadata={'billableCharacterCount': 168.0}, model_version_id='', model_resource_name='', explanations=None))}, page_content='Kode Rekening: kode_rekening    4\\nkode_rekening    4\\nName: 0, dtype: object\\nNama Rekening: Pendapatan Daerah\\nPendapatan: 4271590000000.0\\nRealisasi: 2871066126375.62\\nPersentase: 67.2130547729445')"
            ]
          },
          "metadata": {},
          "execution_count": 11
        }
      ],
      "source": [
        "import pandas as pd\n",
        "from vertexai.language_models import TextEmbeddingModel\n",
        "from langchain.text_splitter import MarkdownTextSplitter\n",
        "from langchain_core.documents import Document\n",
        "from google.cloud import aiplatform\n",
        "\n",
        "# Inisialisasi Vertex AI\n",
        "location = \"us-central1\"\n",
        "\n",
        "aiplatform.init(project=project_id, location=location)\n",
        "\n",
        "# Use vertexai.language_models.TextEmbeddingModel to load the embedding model\n",
        "embedding_model = TextEmbeddingModel.from_pretrained(\"textembedding-gecko@latest\")\n",
        "\n",
        "# Fungsi untuk mendapatkan embedding dari Vertex AI\n",
        "def get_embedding(text):\n",
        "    response = embedding_model.get_embeddings([text])\n",
        "    return response[0]\n",
        "\n",
        "# Buat Markdown Text Splitter\n",
        "text_splitter = MarkdownTextSplitter(\n",
        "    chunk_size=1000,\n",
        "    chunk_overlap=200\n",
        ")\n",
        "\n",
        "# List untuk menyimpan hasil\n",
        "chunked = []\n",
        "\n",
        "# Iterasi DataFrame\n",
        "for index, row in df.iterrows():\n",
        "    kode_rekening = row[\"kode_rekening\"]\n",
        "    nama_rekening = row[\"nama_rek\"]\n",
        "    content = f\"Kode Rekening: {kode_rekening}\\nNama Rekening: {nama_rekening}\\nPendapatan: {row['target_murni']}\\nRealisasi: {row['totrealisasi_after']}\\nPersentase: {row['persentarget_all']}\"\n",
        "\n",
        "    # Split teks ke dalam chunk kecil\n",
        "    splits = text_splitter.create_documents([content])\n",
        "\n",
        "    for s in splits:\n",
        "        metadata = {\n",
        "            \"kode_rekening\": kode_rekening,\n",
        "            \"nama_rekening\": nama_rekening\n",
        "        }\n",
        "\n",
        "        # Ambil embedding dari Vertex AI\n",
        "        metadata[\"embedding\"] = get_embedding(s.page_content)\n",
        "\n",
        "        # Buat dokumen LangChain\n",
        "        doc = Document(page_content=s.page_content, metadata=metadata)\n",
        "        chunked.append(doc)\n",
        "\n",
        "# Contoh output pertama\n",
        "chunked[0]"
      ]
    },
    {
      "cell_type": "code",
      "execution_count": 12,
      "metadata": {
        "colab": {
          "base_uri": "https://localhost:8080/"
        },
        "id": "NKdBWi7xcD9o",
        "outputId": "e2d5d12d-f62d-45a9-94ff-88c2a27bf255"
      },
      "outputs": [
        {
          "output_type": "execute_result",
          "data": {
            "text/plain": [
              "718"
            ]
          },
          "metadata": {},
          "execution_count": 12
        }
      ],
      "source": [
        "len(chunked)"
      ]
    },
    {
      "cell_type": "markdown",
      "metadata": {
        "id": "qVejJibHcD9p"
      },
      "source": [
        "Once we have the file content chunked into smaller sizes, we are going to create embedding for each chunked and store it to cloudsql.\n",
        "\n",
        "Now let's initialize vertex ai sdk and create the embedding services."
      ]
    },
    {
      "cell_type": "code",
      "execution_count": 13,
      "metadata": {
        "id": "9szj8E1HcD9p"
      },
      "outputs": [],
      "source": [
        "from langchain_google_vertexai import VertexAIEmbeddings\n",
        "import vertexai\n",
        "\n",
        "# Initialize Vertex AI\n",
        "vertexai.init(project=project_id, location=region)\n",
        "# Create a Vertex AI Embeddings service\n",
        "embeddings_service = VertexAIEmbeddings(model_name=gemini_embedding_model)"
      ]
    },
    {
      "cell_type": "code",
      "execution_count": 14,
      "metadata": {
        "colab": {
          "base_uri": "https://localhost:8080/"
        },
        "id": "-HlHlREwcD9p",
        "outputId": "4d7dd014-a674-4785-a2ef-516ffcfe4160"
      },
      "outputs": [
        {
          "output_type": "execute_result",
          "data": {
            "text/plain": [
              "VertexAIEmbeddings(client=<vertexai.language_models.TextEmbeddingModel object at 0x7ec98047d4d0>, async_client=None, project='agent-rag-451702', location='us-central1', request_parallelism=5, max_retries=6, stop=None, model_name='text-embedding-004', full_model_name=None, client_options=ClientOptions: {'api_endpoint': 'us-central1-aiplatform.googleapis.com', 'client_cert_source': None, 'client_encrypted_cert_source': None, 'quota_project_id': None, 'credentials_file': None, 'scopes': None, 'api_key': None, 'api_audience': None, 'universe_domain': None}, api_endpoint=None, api_transport=None, default_metadata=(), additional_headers=None, client_cert_source=None, credentials=None, client_preview=None, temperature=None, max_output_tokens=None, top_p=None, top_k=None, n=1, seed=None, streaming=False, model_family=None, safety_settings=None, tuned_model_name=None, instance={'max_batch_size': 250, 'batch_size': 250, 'min_batch_size': 5, 'min_good_batch_size': 5, 'lock': <unlocked _thread.lock object at 0x7ec978815280>, 'batch_size_validated': False, 'task_executor': <concurrent.futures.thread.ThreadPoolExecutor object at 0x7ec9827eb990>, 'get_embeddings_with_retry': <function _TextEmbeddingModel.get_embeddings at 0x7ec978399c60>})"
            ]
          },
          "metadata": {},
          "execution_count": 14
        }
      ],
      "source": [
        "embeddings_service"
      ]
    },
    {
      "cell_type": "markdown",
      "metadata": {
        "id": "JyKZKPBGcD9p"
      },
      "source": [
        "Now, let's construct the embeddings and store it to the database.\n",
        "\n",
        "On the function below we are doing these steps:\n",
        "1. We are initiating a PostgresEngine. This instance of PostgresEngine will be used to handle database connection as well as authentication.\n",
        "1. Then, `ainit_vectorstore_table()` will create a table which will be used to store the chucked content, its embedding, and metadata.\n",
        "1. We initialize the PostgresVectorStore and provide the engine as well as the embedding service.\n",
        "1. For each chunked document, we call function `aadd_documents` to create embedding and create new record on the given table."
      ]
    },
    {
      "cell_type": "code",
      "execution_count": 18,
      "metadata": {
        "scrolled": true,
        "colab": {
          "base_uri": "https://localhost:8080/",
          "height": 329
        },
        "id": "HDn_Qg6McD9p",
        "outputId": "c0934fec-c53f-4d79-f58a-ec707e2bacc4"
      },
      "outputs": [
        {
          "output_type": "error",
          "ename": "TypeError",
          "evalue": "Object of type TextEmbedding is not JSON serializable",
          "traceback": [
            "\u001b[0;31m---------------------------------------------------------------------------\u001b[0m",
            "\u001b[0;31mTypeError\u001b[0m                                 Traceback (most recent call last)",
            "\u001b[0;32m<ipython-input-18-a0e3ea09af8a>\u001b[0m in \u001b[0;36m<cell line: 1>\u001b[0;34m()\u001b[0m\n\u001b[1;32m     48\u001b[0m     \u001b[0;32mawait\u001b[0m \u001b[0mvector_store\u001b[0m\u001b[0;34m.\u001b[0m\u001b[0madd_documents\u001b[0m\u001b[0;34m(\u001b[0m\u001b[0mchunked\u001b[0m\u001b[0;34m,\u001b[0m \u001b[0mids\u001b[0m\u001b[0;34m=\u001b[0m\u001b[0mids\u001b[0m\u001b[0;34m)\u001b[0m\u001b[0;34m\u001b[0m\u001b[0;34m\u001b[0m\u001b[0m\n\u001b[1;32m     49\u001b[0m \u001b[0;34m\u001b[0m\u001b[0m\n\u001b[0;32m---> 50\u001b[0;31m \u001b[0;32mawait\u001b[0m \u001b[0mcreate_vectorstore\u001b[0m\u001b[0;34m(\u001b[0m\u001b[0;34m)\u001b[0m\u001b[0;34m\u001b[0m\u001b[0;34m\u001b[0m\u001b[0m\n\u001b[0m",
            "\u001b[0;32m<ipython-input-18-a0e3ea09af8a>\u001b[0m in \u001b[0;36mcreate_vectorstore\u001b[0;34m()\u001b[0m\n\u001b[1;32m     46\u001b[0m                 \u001b[0mdoc\u001b[0m\u001b[0;34m.\u001b[0m\u001b[0mmetadata\u001b[0m\u001b[0;34m[\u001b[0m\u001b[0mkey\u001b[0m\u001b[0;34m]\u001b[0m \u001b[0;34m=\u001b[0m \u001b[0mvalue\u001b[0m\u001b[0;34m.\u001b[0m\u001b[0mto_dict\u001b[0m\u001b[0;34m(\u001b[0m\u001b[0;34m)\u001b[0m  \u001b[0;31m# Or value.tolist() if appropriate\u001b[0m\u001b[0;34m\u001b[0m\u001b[0;34m\u001b[0m\u001b[0m\n\u001b[1;32m     47\u001b[0m \u001b[0;34m\u001b[0m\u001b[0m\n\u001b[0;32m---> 48\u001b[0;31m     \u001b[0;32mawait\u001b[0m \u001b[0mvector_store\u001b[0m\u001b[0;34m.\u001b[0m\u001b[0madd_documents\u001b[0m\u001b[0;34m(\u001b[0m\u001b[0mchunked\u001b[0m\u001b[0;34m,\u001b[0m \u001b[0mids\u001b[0m\u001b[0;34m=\u001b[0m\u001b[0mids\u001b[0m\u001b[0;34m)\u001b[0m\u001b[0;34m\u001b[0m\u001b[0;34m\u001b[0m\u001b[0m\n\u001b[0m\u001b[1;32m     49\u001b[0m \u001b[0;34m\u001b[0m\u001b[0m\n\u001b[1;32m     50\u001b[0m \u001b[0;32mawait\u001b[0m \u001b[0mcreate_vectorstore\u001b[0m\u001b[0;34m(\u001b[0m\u001b[0;34m)\u001b[0m\u001b[0;34m\u001b[0m\u001b[0;34m\u001b[0m\u001b[0m\n",
            "\u001b[0;32m/usr/local/lib/python3.11/dist-packages/langchain_google_cloud_sql_pg/vectorstore.py\u001b[0m in \u001b[0;36madd_documents\u001b[0;34m(self, documents, ids, **kwargs)\u001b[0m\n\u001b[1;32m    242\u001b[0m             \u001b[0;34m:\u001b[0m\u001b[0;32mclass\u001b[0m\u001b[0;34m:\u001b[0m\u001b[0;31m`\u001b[0m\u001b[0mInvalidTextRepresentationError\u001b[0m \u001b[0;34m<\u001b[0m\u001b[0masyncpg\u001b[0m\u001b[0;34m.\u001b[0m\u001b[0mexceptions\u001b[0m\u001b[0;34m.\u001b[0m\u001b[0mInvalidTextRepresentationError\u001b[0m\u001b[0;34m>\u001b[0m\u001b[0;31m`\u001b[0m\u001b[0;34m:\u001b[0m \u001b[0;32mif\u001b[0m \u001b[0mthe\u001b[0m\u001b[0;31m \u001b[0m\u001b[0;31m`\u001b[0m\u001b[0mids\u001b[0m\u001b[0;31m`\u001b[0m \u001b[0mdata\u001b[0m \u001b[0mtype\u001b[0m \u001b[0mdoes\u001b[0m \u001b[0;32mnot\u001b[0m \u001b[0mmatch\u001b[0m \u001b[0mthat\u001b[0m \u001b[0mof\u001b[0m \u001b[0mthe\u001b[0m\u001b[0;31m \u001b[0m\u001b[0;31m`\u001b[0m\u001b[0mid_column\u001b[0m\u001b[0;31m`\u001b[0m\u001b[0;34m.\u001b[0m\u001b[0;34m\u001b[0m\u001b[0;34m\u001b[0m\u001b[0m\n\u001b[1;32m    243\u001b[0m         \"\"\"\n\u001b[0;32m--> 244\u001b[0;31m         return self._engine._run_as_sync(\n\u001b[0m\u001b[1;32m    245\u001b[0m             \u001b[0mself\u001b[0m\u001b[0;34m.\u001b[0m\u001b[0m__vs\u001b[0m\u001b[0;34m.\u001b[0m\u001b[0maadd_documents\u001b[0m\u001b[0;34m(\u001b[0m\u001b[0mdocuments\u001b[0m\u001b[0;34m,\u001b[0m \u001b[0mids\u001b[0m\u001b[0;34m,\u001b[0m \u001b[0;34m**\u001b[0m\u001b[0mkwargs\u001b[0m\u001b[0;34m)\u001b[0m\u001b[0;34m\u001b[0m\u001b[0;34m\u001b[0m\u001b[0m\n\u001b[1;32m    246\u001b[0m         )\n",
            "\u001b[0;32m/usr/local/lib/python3.11/dist-packages/langchain_google_cloud_sql_pg/engine.py\u001b[0m in \u001b[0;36m_run_as_sync\u001b[0;34m(self, coro)\u001b[0m\n\u001b[1;32m    413\u001b[0m                 \u001b[0;34m\"Engine was initialized without a background loop and cannot call sync methods.\"\u001b[0m\u001b[0;34m\u001b[0m\u001b[0;34m\u001b[0m\u001b[0m\n\u001b[1;32m    414\u001b[0m             )\n\u001b[0;32m--> 415\u001b[0;31m         \u001b[0;32mreturn\u001b[0m \u001b[0masyncio\u001b[0m\u001b[0;34m.\u001b[0m\u001b[0mrun_coroutine_threadsafe\u001b[0m\u001b[0;34m(\u001b[0m\u001b[0mcoro\u001b[0m\u001b[0;34m,\u001b[0m \u001b[0mself\u001b[0m\u001b[0;34m.\u001b[0m\u001b[0m_loop\u001b[0m\u001b[0;34m)\u001b[0m\u001b[0;34m.\u001b[0m\u001b[0mresult\u001b[0m\u001b[0;34m(\u001b[0m\u001b[0;34m)\u001b[0m\u001b[0;34m\u001b[0m\u001b[0;34m\u001b[0m\u001b[0m\n\u001b[0m\u001b[1;32m    416\u001b[0m \u001b[0;34m\u001b[0m\u001b[0m\n\u001b[1;32m    417\u001b[0m     \u001b[0;32masync\u001b[0m \u001b[0;32mdef\u001b[0m \u001b[0mclose\u001b[0m\u001b[0;34m(\u001b[0m\u001b[0mself\u001b[0m\u001b[0;34m)\u001b[0m \u001b[0;34m->\u001b[0m \u001b[0;32mNone\u001b[0m\u001b[0;34m:\u001b[0m\u001b[0;34m\u001b[0m\u001b[0;34m\u001b[0m\u001b[0m\n",
            "\u001b[0;32m/usr/lib/python3.11/concurrent/futures/_base.py\u001b[0m in \u001b[0;36mresult\u001b[0;34m(self, timeout)\u001b[0m\n\u001b[1;32m    454\u001b[0m                     \u001b[0;32mraise\u001b[0m \u001b[0mCancelledError\u001b[0m\u001b[0;34m(\u001b[0m\u001b[0;34m)\u001b[0m\u001b[0;34m\u001b[0m\u001b[0;34m\u001b[0m\u001b[0m\n\u001b[1;32m    455\u001b[0m                 \u001b[0;32melif\u001b[0m \u001b[0mself\u001b[0m\u001b[0;34m.\u001b[0m\u001b[0m_state\u001b[0m \u001b[0;34m==\u001b[0m \u001b[0mFINISHED\u001b[0m\u001b[0;34m:\u001b[0m\u001b[0;34m\u001b[0m\u001b[0;34m\u001b[0m\u001b[0m\n\u001b[0;32m--> 456\u001b[0;31m                     \u001b[0;32mreturn\u001b[0m \u001b[0mself\u001b[0m\u001b[0;34m.\u001b[0m\u001b[0m__get_result\u001b[0m\u001b[0;34m(\u001b[0m\u001b[0;34m)\u001b[0m\u001b[0;34m\u001b[0m\u001b[0;34m\u001b[0m\u001b[0m\n\u001b[0m\u001b[1;32m    457\u001b[0m                 \u001b[0;32melse\u001b[0m\u001b[0;34m:\u001b[0m\u001b[0;34m\u001b[0m\u001b[0;34m\u001b[0m\u001b[0m\n\u001b[1;32m    458\u001b[0m                     \u001b[0;32mraise\u001b[0m \u001b[0mTimeoutError\u001b[0m\u001b[0;34m(\u001b[0m\u001b[0;34m)\u001b[0m\u001b[0;34m\u001b[0m\u001b[0;34m\u001b[0m\u001b[0m\n",
            "\u001b[0;32m/usr/lib/python3.11/concurrent/futures/_base.py\u001b[0m in \u001b[0;36m__get_result\u001b[0;34m(self)\u001b[0m\n\u001b[1;32m    399\u001b[0m         \u001b[0;32mif\u001b[0m \u001b[0mself\u001b[0m\u001b[0;34m.\u001b[0m\u001b[0m_exception\u001b[0m\u001b[0;34m:\u001b[0m\u001b[0;34m\u001b[0m\u001b[0;34m\u001b[0m\u001b[0m\n\u001b[1;32m    400\u001b[0m             \u001b[0;32mtry\u001b[0m\u001b[0;34m:\u001b[0m\u001b[0;34m\u001b[0m\u001b[0;34m\u001b[0m\u001b[0m\n\u001b[0;32m--> 401\u001b[0;31m                 \u001b[0;32mraise\u001b[0m \u001b[0mself\u001b[0m\u001b[0;34m.\u001b[0m\u001b[0m_exception\u001b[0m\u001b[0;34m\u001b[0m\u001b[0;34m\u001b[0m\u001b[0m\n\u001b[0m\u001b[1;32m    402\u001b[0m             \u001b[0;32mfinally\u001b[0m\u001b[0;34m:\u001b[0m\u001b[0;34m\u001b[0m\u001b[0;34m\u001b[0m\u001b[0m\n\u001b[1;32m    403\u001b[0m                 \u001b[0;31m# Break a reference cycle with the exception in self._exception\u001b[0m\u001b[0;34m\u001b[0m\u001b[0;34m\u001b[0m\u001b[0m\n",
            "\u001b[0;32m/usr/local/lib/python3.11/dist-packages/langchain_google_cloud_sql_pg/async_vectorstore.py\u001b[0m in \u001b[0;36maadd_documents\u001b[0;34m(self, documents, ids, **kwargs)\u001b[0m\n\u001b[1;32m    310\u001b[0m         \u001b[0mtexts\u001b[0m \u001b[0;34m=\u001b[0m \u001b[0;34m[\u001b[0m\u001b[0mdoc\u001b[0m\u001b[0;34m.\u001b[0m\u001b[0mpage_content\u001b[0m \u001b[0;32mfor\u001b[0m \u001b[0mdoc\u001b[0m \u001b[0;32min\u001b[0m \u001b[0mdocuments\u001b[0m\u001b[0;34m]\u001b[0m\u001b[0;34m\u001b[0m\u001b[0;34m\u001b[0m\u001b[0m\n\u001b[1;32m    311\u001b[0m         \u001b[0mmetadatas\u001b[0m \u001b[0;34m=\u001b[0m \u001b[0;34m[\u001b[0m\u001b[0mdoc\u001b[0m\u001b[0;34m.\u001b[0m\u001b[0mmetadata\u001b[0m \u001b[0;32mfor\u001b[0m \u001b[0mdoc\u001b[0m \u001b[0;32min\u001b[0m \u001b[0mdocuments\u001b[0m\u001b[0;34m]\u001b[0m\u001b[0;34m\u001b[0m\u001b[0;34m\u001b[0m\u001b[0m\n\u001b[0;32m--> 312\u001b[0;31m         \u001b[0mids\u001b[0m \u001b[0;34m=\u001b[0m \u001b[0;32mawait\u001b[0m \u001b[0mself\u001b[0m\u001b[0;34m.\u001b[0m\u001b[0maadd_texts\u001b[0m\u001b[0;34m(\u001b[0m\u001b[0mtexts\u001b[0m\u001b[0;34m,\u001b[0m \u001b[0mmetadatas\u001b[0m\u001b[0;34m=\u001b[0m\u001b[0mmetadatas\u001b[0m\u001b[0;34m,\u001b[0m \u001b[0mids\u001b[0m\u001b[0;34m=\u001b[0m\u001b[0mids\u001b[0m\u001b[0;34m,\u001b[0m \u001b[0;34m**\u001b[0m\u001b[0mkwargs\u001b[0m\u001b[0;34m)\u001b[0m\u001b[0;34m\u001b[0m\u001b[0;34m\u001b[0m\u001b[0m\n\u001b[0m\u001b[1;32m    313\u001b[0m         \u001b[0;32mreturn\u001b[0m \u001b[0mids\u001b[0m\u001b[0;34m\u001b[0m\u001b[0;34m\u001b[0m\u001b[0m\n\u001b[1;32m    314\u001b[0m \u001b[0;34m\u001b[0m\u001b[0m\n",
            "\u001b[0;32m/usr/local/lib/python3.11/dist-packages/langchain_google_cloud_sql_pg/async_vectorstore.py\u001b[0m in \u001b[0;36maadd_texts\u001b[0;34m(self, texts, metadatas, ids, **kwargs)\u001b[0m\n\u001b[1;32m    292\u001b[0m         \"\"\"\n\u001b[1;32m    293\u001b[0m         \u001b[0membeddings\u001b[0m \u001b[0;34m=\u001b[0m \u001b[0mself\u001b[0m\u001b[0;34m.\u001b[0m\u001b[0membedding_service\u001b[0m\u001b[0;34m.\u001b[0m\u001b[0membed_documents\u001b[0m\u001b[0;34m(\u001b[0m\u001b[0mlist\u001b[0m\u001b[0;34m(\u001b[0m\u001b[0mtexts\u001b[0m\u001b[0;34m)\u001b[0m\u001b[0;34m)\u001b[0m\u001b[0;34m\u001b[0m\u001b[0;34m\u001b[0m\u001b[0m\n\u001b[0;32m--> 294\u001b[0;31m         ids = await self.__aadd_embeddings(\n\u001b[0m\u001b[1;32m    295\u001b[0m             \u001b[0mtexts\u001b[0m\u001b[0;34m,\u001b[0m \u001b[0membeddings\u001b[0m\u001b[0;34m,\u001b[0m \u001b[0mmetadatas\u001b[0m\u001b[0;34m=\u001b[0m\u001b[0mmetadatas\u001b[0m\u001b[0;34m,\u001b[0m \u001b[0mids\u001b[0m\u001b[0;34m=\u001b[0m\u001b[0mids\u001b[0m\u001b[0;34m,\u001b[0m \u001b[0;34m**\u001b[0m\u001b[0mkwargs\u001b[0m\u001b[0;34m\u001b[0m\u001b[0;34m\u001b[0m\u001b[0m\n\u001b[1;32m    296\u001b[0m         )\n",
            "\u001b[0;32m/usr/local/lib/python3.11/dist-packages/langchain_google_cloud_sql_pg/async_vectorstore.py\u001b[0m in \u001b[0;36m__aadd_embeddings\u001b[0;34m(self, texts, embeddings, metadatas, ids, **kwargs)\u001b[0m\n\u001b[1;32m    268\u001b[0m             \u001b[0;32mif\u001b[0m \u001b[0mself\u001b[0m\u001b[0;34m.\u001b[0m\u001b[0mmetadata_json_column\u001b[0m\u001b[0;34m:\u001b[0m\u001b[0;34m\u001b[0m\u001b[0;34m\u001b[0m\u001b[0m\n\u001b[1;32m    269\u001b[0m                 \u001b[0mvalues_stmt\u001b[0m \u001b[0;34m+=\u001b[0m \u001b[0;34m\", :extra)\"\u001b[0m\u001b[0;34m\u001b[0m\u001b[0;34m\u001b[0m\u001b[0m\n\u001b[0;32m--> 270\u001b[0;31m                 \u001b[0mvalues\u001b[0m\u001b[0;34m[\u001b[0m\u001b[0;34m\"extra\"\u001b[0m\u001b[0;34m]\u001b[0m \u001b[0;34m=\u001b[0m \u001b[0mjson\u001b[0m\u001b[0;34m.\u001b[0m\u001b[0mdumps\u001b[0m\u001b[0;34m(\u001b[0m\u001b[0mextra\u001b[0m\u001b[0;34m)\u001b[0m\u001b[0;34m\u001b[0m\u001b[0;34m\u001b[0m\u001b[0m\n\u001b[0m\u001b[1;32m    271\u001b[0m             \u001b[0;32melse\u001b[0m\u001b[0;34m:\u001b[0m\u001b[0;34m\u001b[0m\u001b[0;34m\u001b[0m\u001b[0m\n\u001b[1;32m    272\u001b[0m                 \u001b[0mvalues_stmt\u001b[0m \u001b[0;34m+=\u001b[0m \u001b[0;34m\")\"\u001b[0m\u001b[0;34m\u001b[0m\u001b[0;34m\u001b[0m\u001b[0m\n",
            "\u001b[0;32m/usr/lib/python3.11/json/__init__.py\u001b[0m in \u001b[0;36mdumps\u001b[0;34m(obj, skipkeys, ensure_ascii, check_circular, allow_nan, cls, indent, separators, default, sort_keys, **kw)\u001b[0m\n\u001b[1;32m    229\u001b[0m         \u001b[0mcls\u001b[0m \u001b[0;32mis\u001b[0m \u001b[0;32mNone\u001b[0m \u001b[0;32mand\u001b[0m \u001b[0mindent\u001b[0m \u001b[0;32mis\u001b[0m \u001b[0;32mNone\u001b[0m \u001b[0;32mand\u001b[0m \u001b[0mseparators\u001b[0m \u001b[0;32mis\u001b[0m \u001b[0;32mNone\u001b[0m \u001b[0;32mand\u001b[0m\u001b[0;34m\u001b[0m\u001b[0;34m\u001b[0m\u001b[0m\n\u001b[1;32m    230\u001b[0m         default is None and not sort_keys and not kw):\n\u001b[0;32m--> 231\u001b[0;31m         \u001b[0;32mreturn\u001b[0m \u001b[0m_default_encoder\u001b[0m\u001b[0;34m.\u001b[0m\u001b[0mencode\u001b[0m\u001b[0;34m(\u001b[0m\u001b[0mobj\u001b[0m\u001b[0;34m)\u001b[0m\u001b[0;34m\u001b[0m\u001b[0;34m\u001b[0m\u001b[0m\n\u001b[0m\u001b[1;32m    232\u001b[0m     \u001b[0;32mif\u001b[0m \u001b[0mcls\u001b[0m \u001b[0;32mis\u001b[0m \u001b[0;32mNone\u001b[0m\u001b[0;34m:\u001b[0m\u001b[0;34m\u001b[0m\u001b[0;34m\u001b[0m\u001b[0m\n\u001b[1;32m    233\u001b[0m         \u001b[0mcls\u001b[0m \u001b[0;34m=\u001b[0m \u001b[0mJSONEncoder\u001b[0m\u001b[0;34m\u001b[0m\u001b[0;34m\u001b[0m\u001b[0m\n",
            "\u001b[0;32m/usr/lib/python3.11/json/encoder.py\u001b[0m in \u001b[0;36mencode\u001b[0;34m(self, o)\u001b[0m\n\u001b[1;32m    198\u001b[0m         \u001b[0;31m# exceptions aren't as detailed.  The list call should be roughly\u001b[0m\u001b[0;34m\u001b[0m\u001b[0;34m\u001b[0m\u001b[0m\n\u001b[1;32m    199\u001b[0m         \u001b[0;31m# equivalent to the PySequence_Fast that ''.join() would do.\u001b[0m\u001b[0;34m\u001b[0m\u001b[0;34m\u001b[0m\u001b[0m\n\u001b[0;32m--> 200\u001b[0;31m         \u001b[0mchunks\u001b[0m \u001b[0;34m=\u001b[0m \u001b[0mself\u001b[0m\u001b[0;34m.\u001b[0m\u001b[0miterencode\u001b[0m\u001b[0;34m(\u001b[0m\u001b[0mo\u001b[0m\u001b[0;34m,\u001b[0m \u001b[0m_one_shot\u001b[0m\u001b[0;34m=\u001b[0m\u001b[0;32mTrue\u001b[0m\u001b[0;34m)\u001b[0m\u001b[0;34m\u001b[0m\u001b[0;34m\u001b[0m\u001b[0m\n\u001b[0m\u001b[1;32m    201\u001b[0m         \u001b[0;32mif\u001b[0m \u001b[0;32mnot\u001b[0m \u001b[0misinstance\u001b[0m\u001b[0;34m(\u001b[0m\u001b[0mchunks\u001b[0m\u001b[0;34m,\u001b[0m \u001b[0;34m(\u001b[0m\u001b[0mlist\u001b[0m\u001b[0;34m,\u001b[0m \u001b[0mtuple\u001b[0m\u001b[0;34m)\u001b[0m\u001b[0;34m)\u001b[0m\u001b[0;34m:\u001b[0m\u001b[0;34m\u001b[0m\u001b[0;34m\u001b[0m\u001b[0m\n\u001b[1;32m    202\u001b[0m             \u001b[0mchunks\u001b[0m \u001b[0;34m=\u001b[0m \u001b[0mlist\u001b[0m\u001b[0;34m(\u001b[0m\u001b[0mchunks\u001b[0m\u001b[0;34m)\u001b[0m\u001b[0;34m\u001b[0m\u001b[0;34m\u001b[0m\u001b[0m\n",
            "\u001b[0;32m/usr/lib/python3.11/json/encoder.py\u001b[0m in \u001b[0;36miterencode\u001b[0;34m(self, o, _one_shot)\u001b[0m\n\u001b[1;32m    256\u001b[0m                 \u001b[0mself\u001b[0m\u001b[0;34m.\u001b[0m\u001b[0mkey_separator\u001b[0m\u001b[0;34m,\u001b[0m \u001b[0mself\u001b[0m\u001b[0;34m.\u001b[0m\u001b[0mitem_separator\u001b[0m\u001b[0;34m,\u001b[0m \u001b[0mself\u001b[0m\u001b[0;34m.\u001b[0m\u001b[0msort_keys\u001b[0m\u001b[0;34m,\u001b[0m\u001b[0;34m\u001b[0m\u001b[0;34m\u001b[0m\u001b[0m\n\u001b[1;32m    257\u001b[0m                 self.skipkeys, _one_shot)\n\u001b[0;32m--> 258\u001b[0;31m         \u001b[0;32mreturn\u001b[0m \u001b[0m_iterencode\u001b[0m\u001b[0;34m(\u001b[0m\u001b[0mo\u001b[0m\u001b[0;34m,\u001b[0m \u001b[0;36m0\u001b[0m\u001b[0;34m)\u001b[0m\u001b[0;34m\u001b[0m\u001b[0;34m\u001b[0m\u001b[0m\n\u001b[0m\u001b[1;32m    259\u001b[0m \u001b[0;34m\u001b[0m\u001b[0m\n\u001b[1;32m    260\u001b[0m def _make_iterencode(markers, _default, _encoder, _indent, _floatstr,\n",
            "\u001b[0;32m/usr/lib/python3.11/json/encoder.py\u001b[0m in \u001b[0;36mdefault\u001b[0;34m(self, o)\u001b[0m\n\u001b[1;32m    178\u001b[0m \u001b[0;34m\u001b[0m\u001b[0m\n\u001b[1;32m    179\u001b[0m         \"\"\"\n\u001b[0;32m--> 180\u001b[0;31m         raise TypeError(f'Object of type {o.__class__.__name__} '\n\u001b[0m\u001b[1;32m    181\u001b[0m                         f'is not JSON serializable')\n\u001b[1;32m    182\u001b[0m \u001b[0;34m\u001b[0m\u001b[0m\n",
            "\u001b[0;31mTypeError\u001b[0m: Object of type TextEmbedding is not JSON serializable"
          ]
        }
      ],
      "source": [
        "\n",
        "from langchain_google_vertexai import VertexAIEmbeddings\n",
        "import vertexai\n",
        "import pandas as pd\n",
        "import json\n",
        "\n",
        "\n",
        "# Initialize Vertex AI\n",
        "vertexai.init(project=project_id, location=region)\n",
        "# Create a Vertex AI Embeddings service\n",
        "embeddings_service = VertexAIEmbeddings(model_name=gemini_embedding_model)\n",
        "\n",
        "\n",
        "from langchain_google_cloud_sql_pg import PostgresEngine, PostgresVectorStore\n",
        "import uuid\n",
        "\n",
        "async def create_vectorstore():\n",
        "    engine = await PostgresEngine.afrom_instance(\n",
        "        project_id,\n",
        "        region,\n",
        "        instance_name,\n",
        "        database_name,\n",
        "        user=database_user,\n",
        "        password=database_password,\n",
        "    )\n",
        "\n",
        "    await engine.ainit_chat_history_table(\n",
        "        table_name=chat_history_table_name\n",
        "    )\n",
        "\n",
        "    await engine.ainit_vectorstore_table(\n",
        "        table_name=embeddings_table_name, vector_size=768, overwrite_existing=True\n",
        "    )\n",
        "\n",
        "    vector_store = await PostgresVectorStore.create(\n",
        "        engine,\n",
        "        table_name=embeddings_table_name,\n",
        "        embedding_service=embeddings_service,\n",
        "    )\n",
        "\n",
        "    ids = [str(uuid.uuid4()) for i in range(len(chunked))]\n",
        "\n",
        "    # Convert Pandas Series to JSON-serializable format before adding documents\n",
        "    for doc in chunked:\n",
        "        for key, value in doc.metadata.items():\n",
        "            if isinstance(value, pd.Series):\n",
        "                doc.metadata[key] = value.to_dict()  # Or value.tolist() if appropriate\n",
        "\n",
        "    await vector_store.add_documents(chunked, ids=ids)\n",
        "\n",
        "await create_vectorstore()"
      ]
    },
    {
      "cell_type": "code",
      "source": [
        "from langchain_google_vertexai import VertexAIEmbeddings\n",
        "import vertexai\n",
        "import pandas as pd\n",
        "import json\n",
        "import numpy as np  # Import numpy\n",
        "\n",
        "\n",
        "# Initialize Vertex AI\n",
        "vertexai.init(project=project_id, location=region)\n",
        "# Create a Vertex AI Embeddings service\n",
        "embeddings_service = VertexAIEmbeddings(model_name=gemini_embedding_model)\n",
        "\n",
        "\n",
        "from langchain_google_cloud_sql_pg import PostgresEngine, PostgresVectorStore\n",
        "import uuid\n",
        "\n",
        "async def create_vectorstore():\n",
        "    engine = await PostgresEngine.afrom_instance(\n",
        "        project_id,\n",
        "        region,\n",
        "        instance_name,\n",
        "        database_name,\n",
        "        user=database_user,\n",
        "        password=database_password,\n",
        "    )\n",
        "\n",
        "    await engine.ainit_chat_history_table(\n",
        "        table_name=chat_history_table_name\n",
        "    )\n",
        "\n",
        "    await engine.ainit_vectorstore_table(\n",
        "        table_name=embeddings_table_name, vector_size=768, overwrite_existing=True\n",
        "    )\n",
        "\n",
        "    vector_store = await PostgresVectorStore.create(\n",
        "        engine,\n",
        "        table_name=embeddings_table_name,\n",
        "        embedding_service=embeddings_service,\n",
        "    )\n",
        "\n",
        "    ids = [str(uuid.uuid4()) for i in range(len(chunked))]\n",
        "\n",
        "    # Convert Pandas Series and TextEmbedding to JSON-serializable format before adding documents\n",
        "    for doc in chunked:\n",
        "        for key, value in doc.metadata.items():\n",
        "            if isinstance(value, pd.Series):\n",
        "                doc.metadata[key] = value.to_dict()  # Or value.tolist() if appropriate\n",
        "            # Convert TextEmbedding to a list\n",
        "            if isinstance(value, vertexai.language_models._language_models.TextEmbedding):\n",
        "                doc.metadata[key] = value.values\n",
        "\n",
        "    # Call add_documents without await as it's likely synchronous\n",
        "    vector_store.add_documents(chunked, ids=ids)\n",
        "\n",
        "await create_vectorstore()"
      ],
      "metadata": {
        "id": "bSQUBwCxwQSa"
      },
      "execution_count": 26,
      "outputs": []
    },
    {
      "cell_type": "markdown",
      "metadata": {
        "id": "rrQa_9-OcD9p"
      },
      "source": [
        "Once you have the vector store, you can check the content from google cloud sql data viewer."
      ]
    },
    {
      "cell_type": "markdown",
      "metadata": {
        "id": "SNOPEy5gcD9q"
      },
      "source": [
        "# Retriever\n",
        "\n",
        "Once we have data stored in cloudsql, we need to find a way to query the data. This notebook covers how we can create and use the postgresql retriever to perform similarity search."
      ]
    },
    {
      "cell_type": "markdown",
      "metadata": {
        "id": "xnp_9qJBcD9q"
      },
      "source": [
        "Similar to previous section, we will try to create PostgresEngine to connect to CloudSQL instance:"
      ]
    },
    {
      "cell_type": "code",
      "execution_count": 13,
      "metadata": {
        "id": "CDRQv6X0cD9q"
      },
      "outputs": [],
      "source": [
        "from langchain_google_cloud_sql_pg import PostgresEngine\n",
        "\n",
        "instance_name=\"mkrs-demo\"\n",
        "database_name=\"testing\"\n",
        "database_password=\"testing\"\n",
        "database_user=\"testing\"\n",
        "embeddings_table_name=\"course_content_embeddings\"\n",
        "\n",
        "pg_engine = PostgresEngine.from_instance(\n",
        "    project_id=project_id,\n",
        "    instance=instance_name,\n",
        "    region=region,\n",
        "    database=database_name,\n",
        "    user=database_password,\n",
        "    password=database_password,\n",
        ")"
      ]
    },
    {
      "cell_type": "markdown",
      "metadata": {
        "id": "HwoO-vzhcD9q"
      },
      "source": [
        "We create the vector store object by using the engine and embedding service we created earlier:"
      ]
    },
    {
      "cell_type": "code",
      "execution_count": 16,
      "metadata": {
        "scrolled": true,
        "id": "fm0xdtj8cD9q"
      },
      "outputs": [],
      "source": [
        "from langchain_google_cloud_sql_pg import PostgresVectorStore\n",
        "from langchain_google_vertexai import VertexAIEmbeddings\n",
        "import vertexai\n",
        "import pandas as pd\n",
        "import json\n",
        "import numpy as np  # Import numpy\n",
        "\n",
        "\n",
        "# Initialize Vertex AI\n",
        "vertexai.init(project=project_id, location=region)\n",
        "# Create a Vertex AI Embeddings service\n",
        "embeddings_service = VertexAIEmbeddings(model_name=gemini_embedding_model)\n",
        "\n",
        "vector_store = PostgresVectorStore.create_sync(\n",
        "            pg_engine,\n",
        "            table_name=embeddings_table_name,\n",
        "            embedding_service=embeddings_service,\n",
        "        )\n",
        "retriever = vector_store.as_retriever(search_kwargs={\"k\": 10})"
      ]
    },
    {
      "cell_type": "markdown",
      "metadata": {
        "id": "R-Paxkc7cD9q"
      },
      "source": [
        "Let's try with some query:"
      ]
    },
    {
      "cell_type": "code",
      "execution_count": 17,
      "metadata": {
        "colab": {
          "base_uri": "https://localhost:8080/"
        },
        "id": "vBKVYOktcD9q",
        "outputId": "b0705fef-6c8b-4957-a976-fe3262e48f55"
      },
      "outputs": [
        {
          "output_type": "execute_result",
          "data": {
            "text/plain": [
              "[Document(metadata={'kode_rekening': {'kode_rekening': '4.1.2.1.8.2'}, 'nama_rekening': 'Retribusi Penyediaan Peta Foto', 'embedding': [0.0344696082174778, -0.007454625330865383, -0.047294072806835175, -0.012055031023919582, 0.05886238440871239, 0.027880487963557243, 0.02431171014904976, -0.04355921223759651, -0.00846779067069292, 0.01586468145251274, 0.012816118076443672, 0.01357607264071703, -0.03829391300678253, -0.026567261666059494, 0.0034297965466976166, -0.019361525774002075, 0.02366507239639759, -0.015774590894579887, -0.00325488462112844, -0.04090754687786102, -0.018833057954907417, -0.013221456669270992, -0.009035448543727398, 0.024305950850248337, 3.389740413695108e-06, 0.012928166426718235, -0.01928899437189102, -0.0452263206243515, -0.014309290796518326, -0.01397411897778511, -0.028711356222629547, 0.030040206387639046, -0.05313967540860176, 0.006302352529019117, -0.005875626113265753, -0.054402947425842285, 0.011160578578710556, 0.0007350930827669799, 0.030164772644639015, 0.08605046570301056, 0.009546840563416481, -0.003408487420529127, -0.0004626805312000215, -0.034100815653800964, 0.02728414721786976, -0.0305335596203804, 0.012755099684000015, 0.004247341305017471, 0.014307423494756222, -0.050766896456480026, 0.010825934819877148, 0.03192302957177162, 0.028249016031622887, -0.029454883188009262, -0.03202459216117859, -0.07959433645009995, -0.005811950657516718, 0.012907488271594048, -0.012218708172440529, -0.010774566791951656, -0.03383775055408478, 0.026067417114973068, -0.017676137387752533, 0.07941465079784393, -0.02301180735230446, -0.0397307313978672, -0.03786968067288399, 0.004861056804656982, 0.060805074870586395, -0.026197386905550957, 0.025162706151604652, -0.017021115869283676, 0.06906071305274963, -0.01923663727939129, -0.03045724518597126, -0.06269627809524536, -0.030658584088087082, 0.010171479545533657, 0.02439294196665287, 0.037251945585012436, 0.024744605645537376, -0.08902198076248169, -0.02038094587624073, -0.03216633200645447, -0.0466027557849884, 0.06547991186380386, -0.04699878767132759, -0.012974557466804981, -0.009245909750461578, 0.06482557207345963, -0.0118971336632967, -0.0066305771470069885, 0.0030164301861077547, -0.09482483565807343, 0.015337501652538776, 0.060158681124448776, -0.007883653044700623, -0.04157443344593048, -0.006314379163086414, -0.059264518320560455, -0.016931502148509026, -0.0562293641269207, -0.01335565559566021, -0.03776351734995842, -0.0011535383528098464, 0.026477158069610596, 0.012079241685569286, 0.05658464506268501, -0.05329461395740509, 0.02024397999048233, -0.04662390798330307, -0.046941641718149185, 0.012349867261946201, 0.012472527101635933, 0.03590754419565201, -0.021616902202367783, -0.00903294701129198, 0.05492820963263512, 0.006578390020877123, 0.003781084204092622, 0.024203600361943245, 0.026709768921136856, 0.03026147373020649, -0.008409040980041027, 0.015158366411924362, -0.01506762858480215, -0.05927582457661629, -0.021113647148013115, 0.038362279534339905, 0.07740788906812668, 0.018898919224739075, -0.013381440192461014, 0.020957376807928085, 0.002219048561528325, 0.04274163395166397, 0.04889048635959625, 0.04331757128238678, 0.021531855687499046, 0.03079553321003914, 0.023595966398715973, -0.01663566380739212, 0.02588261105120182, 0.007395416498184204, 0.039134681224823, -0.008454512804746628, 0.04202216863632202, 0.03661610558629036, 0.0013292933581396937, 0.06621840596199036, -0.022166045382618904, -0.03366643935441971, -0.02332579344511032, -0.0839158222079277, 0.03178062662482262, 0.06655378639698029, 0.0440383106470108, 0.017306290566921234, 0.001453810604289174, 0.030613405629992485, 0.08499150723218918, 0.05144393816590309, 0.02347526326775551, -0.032823555171489716, -0.013229763135313988, -0.006604142487049103, -0.06468337774276733, -0.0216981228441, 0.011560031212866306, 0.02734142355620861, -0.03087017312645912, 0.03232802450656891, 0.024160264059901237, -0.0712447464466095, -0.036447055637836456, -0.012857772409915924, -0.10471449792385101, -0.02495446987450123, 0.009022203274071217, -0.015182801522314548, 0.024388955906033516, -0.03549201786518097, -0.028820747509598732, 0.028964180499315262, 0.016295526176691055, 0.046731363981962204, -0.01786513440310955, 0.04343787580728531, -0.02390466257929802, -0.007600793149322271, -0.04732932150363922, -0.04857122525572777, -0.032095637172460556, -0.015522744506597519, 0.00816376693546772, -0.016096755862236023, 0.020042728632688522, -0.004985157400369644, 0.030803784728050232, 0.0009159717010334134, -0.03173806145787239, -0.02097603678703308, 0.027074294164776802, 0.009032891131937504, 0.008669799193739891, 0.06583761423826218, -0.05026708543300629, 0.06049039587378502, -0.01133141852915287, -0.008966205641627312, 0.06284608691930771, -0.031261395663022995, 0.0022815202828496695, -0.0175002533942461, -0.007549731992185116, 0.04573863744735718, 0.029201343655586243, -0.011576051823794842, -0.027483370155096054, -0.018799856305122375, -0.05081024765968323, -0.024210896342992783, -0.03295468911528587, -0.030477572232484818, 0.020927712321281433, -0.018134184181690216, 0.0010291158687323332, 0.03358818218111992, 0.031033482402563095, 0.015245804563164711, -0.02971469797194004, 0.01373768039047718, 0.08507612347602844, 0.04204258695244789, -0.03969724476337433, 0.07165424525737762, -0.01009388267993927, 0.020895788446068764, -0.004121972713619471, -0.006025630980730057, 0.03039197251200676, -0.02284756861627102, 0.0007520086946897209, 0.036540839821100235, 0.036398693919181824, -0.07004974782466888, -0.027694404125213623, 0.025803005322813988, 0.08188679814338684, -0.02160211093723774, 0.07952731102705002, -0.01861705258488655, -0.03580207750201225, 0.003162103472277522, 0.003913469146937132, -0.02275991067290306, 0.029735391959547997, -0.04863777756690979, 0.038337793201208115, 0.02233387529850006, 0.017478207126259804, 0.04241830110549927, 0.006472882814705372, 0.008675054647028446, 0.0019585154950618744, -0.008600840345025063, 0.008375863544642925, 0.01803823746740818, -0.021840041503310204, -0.027162719517946243, 0.025297487154603004, 0.0033658836036920547, -0.0653906986117363, 0.10215369611978531, 0.03495410829782486, 0.008951026014983654, 0.030937256291508675, -0.013244964182376862, 0.0511326864361763, -0.0275129284709692, -0.05414048209786415, 0.02590029127895832, 0.02599763497710228, 0.03471999615430832, -0.014224706217646599, -0.017866158857941628, -0.04308076202869415, -0.05610763654112816, 0.03392477333545685, 0.0035450782161206007, -0.023357290774583817, -0.029192112386226654, 0.01863156445324421, -0.022055242210626602, -0.06792411208152771, -0.06443404406309128, -0.000902209198102355, 0.010219899006187916, 0.00036344584077596664, -0.00226891553029418, -0.04209473729133606, -0.025161664932966232, -0.04029638692736626, -0.03751695156097412, -0.09026508033275604, 0.0074457512237131596, 0.00607155030593276, -0.011219924315810204, -0.04645661637187004, 0.0012059827568009496, 0.05348950996994972, 0.0022193260956555605, -0.06643904745578766, -0.03385673835873604, -0.01600608602166176, 0.05595713108778, 0.05238110572099686, -0.016257407143712044, -0.0021909570787101984, -0.0338318794965744, 0.09565899521112442, -0.031584661453962326, 0.0345676988363266, 0.03786037489771843, -0.017774533480405807, 0.03246435895562172, 0.023455005139112473, -0.011059367097914219, 0.02321060560643673, 0.004467287100851536, 0.0086272107437253, -0.01467033289372921, -0.004825672600418329, -0.05478060990571976, 0.053768377751111984, -0.0015971926040947437, 0.02876385860145092, -0.08848870545625687, 0.025222785770893097, -0.016396231949329376, -0.0028399238362908363, 0.052080199122428894, 0.009481342509388924, -0.028036344796419144, -0.013122066855430603, -0.008745264261960983, 0.022848211228847504, -0.016028065234422684, -0.009352674707770348, 0.09442832320928574, 0.0036996323615312576, 0.014689943753182888, 0.07347439974546432, 0.006568348500877619, 0.00010807314538396895, 0.008565532974898815, 0.0003927424259018153, 0.07410714775323868, 0.003042534226551652, 0.01414586789906025, -0.012285204604268074, -0.024001456797122955, 0.044339682906866074, 0.002846203511580825, 0.012837458401918411, -0.006820467300713062, -0.027031034231185913, -0.01752019301056862, 0.004794478882104158, 0.01062940713018179, 0.03131521865725517, 0.0028194624464958906, -0.030722450464963913, -0.01602987013757229, 0.01418046560138464, -0.045516662299633026, -0.044848110526800156, -0.03948913514614105, -0.01808772049844265, 0.028818398714065552, 0.02645290270447731, -0.006908020935952663, 0.006015205290168524, 0.028921842575073242, 0.0048461235128343105, 0.004112244118005037, -0.05629020556807518, 0.0807134211063385, 0.04956988990306854, -0.006698414217680693, 0.04489091783761978, -0.03351859003305435, -0.0027242994401603937, 0.0038841983769088984, 0.026448393240571022, -0.004251186270266771, 0.02323424257338047, -0.05736364796757698, -0.0050471774302423, 0.04105516895651817, -0.04358565807342529, -0.041353076696395874, -0.0056340391747653484, 0.009234028868377209, -0.05747805908322334, -0.013245988637208939, -0.028576891869306564, -0.005226792301982641, -0.021835416555404663, -0.03666062653064728, -0.04178084805607796, 0.003995588514953852, 0.03149516135454178, 0.03008367493748665, -0.0835990458726883, -0.007517300080507994, -0.03789892792701721, 0.012622055597603321, -0.01232822798192501, 0.012434260919690132, 0.03653242066502571, -0.012290406040847301, -0.02013249322772026, -0.04395462945103645, -0.05359639972448349, -0.03957030922174454, -0.036851584911346436, 0.000536194711457938, -0.02631964348256588, -0.0018331323517486453, 0.01483461819589138, 0.012565855868160725, -0.05363760143518448, 0.014066474512219429, -0.015327904373407364, 0.0030749363359063864, -0.10048889368772507, -0.0074615478515625, 0.028270823881030083, -0.005542573984712362, -0.04129830747842789, 0.036870330572128296, -0.026209911331534386, 0.034396979957818985, 0.014875441789627075, 0.007895871996879578, -0.004466538783162832, 0.03007158264517784, -0.03635317459702492, 0.017194967716932297, -0.04806200787425041, -0.002982708625495434, -0.005048145540058613, -0.038207583129405975, -0.019550610333681107, -0.014909636229276657, -0.05549555644392967, -0.026309728622436523, 0.020414236932992935, -0.01957639493048191, 0.006117462180554867, -0.07243168354034424, -0.04668310657143593, -0.012687670066952705, -0.04189852997660637, 0.01796380802989006, 0.0019073488656431437, -0.015564930625259876, 0.0035316571593284607, 0.06627923995256424, 0.06416086852550507, 0.013902525417506695, 0.0005691381520591676, 0.04069625586271286, -0.0021382090635597706, -0.015431179665029049, -0.005614742636680603, -0.0916261225938797, 0.035175591707229614, -0.0014204065082594752, -0.024626778438687325, -0.014092289842665195, -0.03985295817255974, 0.04406719654798508, -0.005281118676066399, -0.004244698211550713, 0.004755806643515825, 0.0012936248676851392, -0.007888765074312687, 0.04140501096844673, 0.0337073840200901, 0.02271353267133236, -0.0016842607874423265, -0.0017746025696396828, -0.08574511110782623, -0.01028633862733841, 0.03466236963868141, -0.05749496445059776, 0.017498541623353958, 0.0026649462524801493, 0.019985409453511238, 0.007779352832585573, 0.005717189982533455, 0.012267795391380787, -0.027871225029230118, 0.02343624085187912, -0.060447268187999725, 0.019311493262648582, 0.010293811559677124, 0.02414589375257492, -0.006414070259779692, 0.023580634966492653, 0.03840945288538933, 0.00789142120629549, -0.041787922382354736, 0.038378648459911346, -0.03941747173666954, -0.01495125237852335, 0.03832961618900299, -0.0404495932161808, -0.03760461136698723, 0.04835661128163338, -0.0030670291744172573, -0.04556513577699661, -0.02665371634066105, 0.0676661878824234, -0.04286731407046318, -2.673161361599341e-05, 0.035444699227809906, -0.02386418543756008, -0.005572553724050522, -0.01758824847638607, 0.055819518864154816, -0.06510338932275772, -0.03042595088481903, 0.002201386960223317, 0.0032036113552749157, -0.004048015922307968, 0.0409255251288414, 0.007426606956869364, 0.0003788236645050347, 0.00998647790402174, -0.0011514053912833333, 0.012205567210912704, 0.03777005150914192, 0.017245592549443245, -0.004292976576834917, 0.01674455776810646, -0.09630823880434036, 0.008018123917281628, 0.015607848763465881, -0.04946387559175491, 0.01055863592773676, 0.00777391204610467, -0.06838160753250122, 0.03451996296644211, -0.022686172276735306, -0.060649629682302475, 0.008149436675012112, 0.02509129047393799, -0.016284454613924026, -0.04792202264070511, 0.052095673978328705, -0.011256182566285133, -0.016391349956393242, 0.08829399943351746, 0.04363616928458214, -0.021827291697263718, -0.039282750338315964, 0.05657430365681648, 0.027286304160952568, 0.006541982293128967, 0.007820905186235905, -0.05558593571186066, -0.022841565310955048, 0.016053441911935806, -0.019454654306173325, -0.05930805206298828, 0.018395578488707542, -0.011641418561339378, -0.030279697850346565, 0.04089647904038429, -0.03376106545329094, -0.0038013719022274017, 0.00415933970361948, -0.0014330500271171331, 0.025428928434848785, 0.05524652823805809, -0.0031795648392289877, 0.040988001972436905, -0.024171898141503334, -0.07300253957509995, 0.0582648441195488, -0.04328372702002525, -0.024652553722262383, -0.006743271369487047, 0.030647367238998413, -0.016274861991405487, -0.01925802044570446, -0.013383097015321255, -0.027856580913066864, 0.03067035786807537, 0.010291634127497673, 0.04519166424870491, -0.019731249660253525, 0.03083493374288082, 0.03868534415960312, -0.02466825768351555, 0.011303473263978958, 0.00725638959556818, -0.0005127372569404542, 0.006453286856412888, -0.0013338361168280244, 0.02518126368522644, 0.006214935332536697, -0.0043595717288553715, -0.03500572592020035, 0.033130332827568054, 0.023309223353862762, -0.04030122607946396, -0.04107493907213211, 0.0001628145546419546, -0.0075461287051439285, -0.013956815004348755, -0.0077193062752485275, 0.023779340088367462, -0.004258131608366966, -0.016690697520971298, -0.027646711096167564, 0.051032379269599915, 0.030105317011475563, 0.010806048288941383, 0.063394695520401, -0.01647195592522621, -0.017511840909719467, -0.014348731376230717, -0.009376446716487408, -0.028171315789222717, -0.004213431850075722, 0.04555058851838112, 0.023647617548704147, -0.056656364351511, -0.00044359895400702953, 0.028415409848093987, 0.010142957791686058, -0.037050604820251465, 0.08870251476764679, 0.03311941400170326, -0.07042413204908371, -0.08800383657217026, -0.005285811610519886, -0.019903933629393578, 0.03180095925927162, 0.03145982325077057, -0.01307782530784607, 0.029081514105200768, -0.006008587311953306, -0.03293951228260994, -0.030568871647119522, 0.06567279249429703, -0.012648913078010082, -0.048012662678956985, 0.05411951243877411, 0.012023831717669964, 0.006611409597098827, 0.016990631818771362, -0.034289777278900146, -0.0364406555891037, -0.05745122209191322, -0.03343110531568527, 0.07923159003257751, -0.05906921625137329, 0.06858845800161362, -0.020199809223413467, -0.03846680372953415, 0.04236549139022827, 0.03776834160089493, 0.00030642602359876037, 0.05515027791261673, 0.023669229820370674, 0.03576638922095299, -0.002043824875727296, -0.03526725247502327, -0.0392012745141983, 0.03940841183066368, -0.022768955677747726, 0.019979238510131836, -0.035236407071352005, 0.008817756548523903, -0.04372403770685196, -0.05959586799144745, -0.001823651371523738, -0.023113295435905457, -0.026521235704421997, 0.012202875688672066, 0.04842163249850273, 0.05497774854302406, 0.015069338493049145, 0.032036978751420975, 0.060148391872644424, 0.01931682787835598, -0.03869792819023132, -0.06366971135139465, 0.02915799617767334, 0.01147342100739479, -0.012304766103625298, 0.004856403451412916, -0.012692349031567574, -0.008043063804507256, 0.03323671966791153, 0.03448285534977913, 0.03585804998874664, -0.07934897392988205, -0.05060674622654915, 0.0751718059182167, 0.03194866329431534, -0.026550287380814552, 0.001638477318920195, 0.0028684872668236494, -0.08991048485040665, 0.06903353333473206, 0.09431401640176773, -0.018266355618834496, 0.026035524904727936, -0.03763896971940994, -0.01896750181913376, 0.07263918966054916, 0.008843779563903809, 0.014933185651898384, -0.0003245191473979503, 0.00040506175719201565, 0.08777239173650742, 0.05374017357826233, -0.05042963847517967, 0.0078026484698057175, -0.04948127269744873, 0.06462287157773972, 0.020208822563290596, 0.06414948403835297, -0.003544829785823822, -0.09682555496692657, -0.028695523738861084, -0.021959763020277023, 0.01106945425271988, 0.05875390022993088, 0.0033406990114599466, -0.0485793799161911, -0.035093795508146286, -0.027903055772185326, 0.0017024631379172206, -0.03161153942346573, -0.077279232442379, -0.030646126717329025, -0.01584303192794323, 0.02346225082874298, 0.08403001725673676, -0.04773317649960518, -0.03098609484732151, -0.017264513298869133, 0.026734037324786186, 0.03714512661099434, -0.07373157143592834, 0.03892920911312103, -0.036730486899614334, 0.03139910474419594, -0.016852397471666336, 0.026904990896582603, -0.0429510623216629, 0.02619369514286518]}, page_content='Kode Rekening: kode_rekening    4.1.2.1.8.2\\nkode_rekening    4.1.2.1.8.2\\nName: 168, dtype: object\\nNama Rekening: Retribusi Penyediaan Peta Foto\\nPendapatan: 0.0\\nRealisasi: 0.0\\nPersentase: 0.0'),\n",
              " Document(metadata={'kode_rekening': {'kode_rekening': '4.1.2.1.8.3'}, 'nama_rekening': 'Retribusi Penyediaan Peta Digital', 'embedding': [0.025370905175805092, -0.00783540215343237, -0.030711719766259193, -0.015545898117125034, 0.07113142311573029, 0.026869481429457664, 0.027729760855436325, -0.051563747227191925, -0.013172149658203125, 0.02541857585310936, 0.011003230698406696, 0.016427604481577873, -0.05143984407186508, -0.017659449949860573, 0.0027296096086502075, -0.026660654693841934, 0.021971596404910088, -0.01625371351838112, -0.022701827809214592, -0.03173719346523285, -0.03788585215806961, -0.0066874949261546135, -0.013196253217756748, 0.026082703843712807, 0.012075623497366905, -0.004691297188401222, -0.006420317571610212, -0.036435939371585846, -0.03781941905617714, -0.031809307634830475, -0.03496040403842926, 0.034807831048965454, -0.04701290279626846, -0.010033697821199894, -0.006223087664693594, -0.03945615887641907, 0.004159821663051844, 0.0063171349465847015, 0.022029152140021324, 0.06780388206243515, 0.00968401413410902, -0.0063322437927126884, 0.013070167973637581, -0.03310548886656761, 0.01630253903567791, -0.026406101882457733, 0.009845321998000145, -0.003229522844776511, 0.025520632043480873, -0.03900645300745964, 0.016656741499900818, 0.03143810108304024, 0.027684886008501053, -0.02339344285428524, -0.008693507872521877, -0.09233468025922775, -0.007535392418503761, 0.01760707050561905, -0.008399843238294125, -0.0060187350027263165, -0.04437144845724106, 0.0268084853887558, 0.010509485378861427, 0.06961371004581451, -0.015857212245464325, -0.0461895577609539, -0.0338941253721714, 0.012568648904561996, 0.06061111390590668, -0.01600951887667179, 0.03672844544053078, -0.008389228023588657, 0.07889056950807571, -0.019455352798104286, -0.04723142459988594, -0.06445176154375076, -0.019108835607767105, 0.024514952674508095, 0.04996567219495773, 0.027701828628778458, 0.016656197607517242, -0.07384590804576874, -0.020427413284778595, -0.03352732211351395, -0.031263191252946854, 0.07718120515346527, -0.03563550114631653, -0.02211015857756138, -0.016965916380286217, 0.059077680110931396, -0.007523675914853811, -0.005500216502696276, -0.01058400608599186, -0.0899377167224884, 0.027627110481262207, 0.055843450129032135, -0.017913879826664925, -0.03760311007499695, -0.014448491856455803, -0.060943081974983215, -0.012235230766236782, -0.05503639951348305, -0.018908098340034485, -0.05131291225552559, -0.012960930354893208, 0.04832153022289276, 0.012291502207517624, 0.04709532856941223, -0.04708181321620941, 0.02077971026301384, -0.05040526017546654, -0.052763499319553375, 0.015363640151917934, 0.016548428684473038, 0.0438171848654747, -0.01861395873129368, -0.020535040646791458, 0.06047466769814491, -0.005633384454995394, 0.004042585380375385, 0.02136254496872425, 0.04245993494987488, 0.03129022195935249, 0.004067351575940847, 0.01371731236577034, -0.016812186688184738, -0.05309406667947769, -0.02301785536110401, 0.028642786666750908, 0.08062445372343063, 0.004799525253474712, -0.016337117180228233, 0.021908771246671677, 0.007863049395382404, 0.04200442507863045, 0.055567339062690735, 0.035268303006887436, 0.01687893457710743, 0.04481245204806328, 0.023444797843694687, -0.009042744524776936, 0.02004455402493477, 0.009564596228301525, 0.026676522567868233, -0.021487552672624588, 0.03827269375324249, 0.02809363417327404, 0.01483627874404192, 0.060484595596790314, -0.004334724973887205, -0.030913587659597397, -0.02242247946560383, -0.07980560511350632, 0.02555045112967491, 0.06911515444517136, 0.060008056461811066, 0.01091722585260868, 0.00311498180963099, 0.022396545857191086, 0.08124746382236481, 0.04226815700531006, 0.02484191209077835, -0.03908189386129379, -0.01148668210953474, -0.0327320471405983, -0.06632623076438904, -0.008642538450658321, 0.005927428603172302, 0.02188999019563198, -0.03216789662837982, 0.021534088999032974, 0.0241246335208416, -0.06626167893409729, -0.030999772250652313, -0.015253330580890179, -0.09870709478855133, -0.027556447312235832, -0.007668584585189819, -0.015268435701727867, 0.026933524757623672, -0.034686580300331116, -0.02934238873422146, 0.032122652977705, 0.012045981362462044, 0.04407656192779541, -0.009895162656903267, 0.04008878394961357, -0.01632232777774334, -0.010123910382390022, -0.04471881315112114, -0.05419186130166054, -0.036481305956840515, -0.012939106673002243, 0.008806820027530193, -0.034825123846530914, 0.029712051153182983, 0.009625647217035294, 0.0444948785007, -0.008070073090493679, -0.0286114402115345, -0.019134484231472015, 0.03088458441197872, 0.0016544514801353216, 0.0028430128004401922, 0.05854092165827751, -0.030419105663895607, 0.05411098524928093, -0.00022809486836194992, -0.0019247434101998806, 0.05124996230006218, -0.019858842715620995, -0.009232521057128906, -0.02615753374993801, -0.017944373190402985, 0.03910203278064728, 0.038305483758449554, -0.029228918254375458, -0.0028433934785425663, -0.00691575650125742, -0.040536344051361084, -0.015201499685645103, -0.028606530278921127, -0.010739440098404884, 0.026602333411574364, -0.03810650855302811, 0.0020221269223839045, 0.05438772961497307, 0.0426064096391201, -0.005991477053612471, -0.030213743448257446, 0.003455636790022254, 0.09193602949380875, 0.03454126790165901, -0.022238897159695625, 0.07212327420711517, -0.019669165834784508, 0.023677309975028038, -0.0003497831057757139, -0.007187561132013798, 0.02555258758366108, -0.0235916581004858, 0.00923028215765953, 0.03860603645443916, 0.03667212277650833, -0.06996989250183105, -0.01538991741836071, 0.03041757084429264, 0.07377221435308456, -0.013495861552655697, 0.0894981101155281, -0.01997113600373268, -0.04754896089434624, 0.01974658854305744, 0.023948729038238525, -0.031778424978256226, 0.026359660550951958, -0.04382558539509773, 0.03537391126155853, 0.022858673706650734, 0.008126595988869667, 0.04868726804852486, 0.01248669158667326, 0.012772038578987122, -0.014113396406173706, 0.0017313729040324688, 0.00288018467836082, 0.02447722665965557, -0.024037936702370644, -0.03008616529405117, 0.027609974145889282, -0.006122077349573374, -0.05585181713104248, 0.10599777847528458, 0.03416398912668228, 0.00010488458792679012, 0.039420243352651596, -0.017719285562634468, 0.043023932725191116, -0.020322248339653015, -0.042275529354810715, 0.04203685000538826, 0.036464616656303406, 0.02255474217236042, -0.022999301552772522, -0.01481585018336773, -0.029592063277959824, -0.057475704699754715, 0.012302689254283905, 0.016649194061756134, -0.0408104844391346, -0.03747456148266792, -0.00011813574383268133, -0.009922591038048267, -0.05724849924445152, -0.06759606301784515, 0.0033310723956674337, -0.004691439680755138, 0.002189295133575797, -0.010844656266272068, -0.03183290734887123, -0.020280174911022186, -0.04084932431578636, -0.03313155844807625, -0.0786096528172493, 0.02955625206232071, 0.0068982751108706, -0.005144681315869093, -0.03510080277919769, -0.015685472637414932, 0.042173516005277634, 0.008692924864590168, -0.0662294551730156, -0.025513602420687675, -0.02539730630815029, 0.05172990262508392, 0.047876060009002686, -0.04518449306488037, 0.010597587563097477, -0.029067697003483772, 0.07351040840148926, -0.03998249024152756, 0.0315055213868618, 0.03506426140666008, -0.01459504384547472, 0.024275923147797585, 0.027890006080269814, -0.014952480792999268, 0.02788468636572361, -0.002497690264135599, -0.0004821085894946009, 0.0008441453683190048, 0.010612137615680695, -0.06421033293008804, 0.05891665816307068, 0.006285440642386675, 0.049367181956768036, -0.0801275372505188, 0.03725535050034523, -0.011865404434502125, 0.010260606184601784, 0.06860873103141785, 0.009480506181716919, -0.03317207843065262, -0.016981491819024086, -0.008563310839235783, 0.015091031789779663, -0.02278604730963707, 0.0015155622968450189, 0.09813588857650757, 0.013192457146942616, 0.02272806316614151, 0.06760566681623459, 0.0008046198054216802, -4.268563770892797e-06, -0.008196908980607986, -0.013980433344841003, 0.07756774872541428, -0.011326107196509838, 0.01913890615105629, 0.005308201070874929, -0.01982143707573414, 0.041505616158246994, 0.0019029079703614116, 0.014725486747920513, 0.010151834227144718, -0.0314004011452198, -0.023230351507663727, 0.014068355783820152, 0.010186633095145226, 0.018871990963816643, 0.0039031647611409426, -0.026187503710389137, -0.005830223672091961, 0.009554971009492874, -0.03257247805595398, -0.03872718662023544, -0.035406071692705154, -0.021468212828040123, 0.04114886373281479, 0.025108609348535538, -0.003627764293923974, 0.013796338811516762, 0.03931480273604393, 0.004448487889021635, -0.009357035160064697, -0.05132221430540085, 0.08229455351829529, 0.05525234341621399, -0.013474713079631329, 0.03896667808294296, -0.04783741757273674, 0.008383060805499554, 0.02541779913008213, 0.03787596523761749, -0.012999558821320534, 0.0173883568495512, -0.06550386548042297, -0.003922421019524336, 0.040579214692115784, -0.031799715012311935, -0.024218564853072166, -0.015213629230856895, -0.008299999870359898, -0.06230495125055313, -0.014296069741249084, -0.022082047536969185, -0.0028235060162842274, -0.026851072907447815, -0.023101462051272392, -0.03726927191019058, -2.6709090889198706e-05, 0.030960066244006157, 0.02684578113257885, -0.09026633948087692, -0.010523425415158272, -0.03042648918926716, 0.007004270795732737, -0.0029713052790611982, 0.007944891229271889, 0.05099690705537796, -0.02169531024992466, -0.011971221305429935, -0.05051398649811745, -0.06054219603538513, -0.038532402366399765, -0.03702957183122635, -0.004765154793858528, -0.028647148981690407, -0.0048577082343399525, 0.02036231756210327, 0.014166477136313915, -0.0640905350446701, 0.022536473348736763, -0.02721657231450081, -0.011441342532634735, -0.08899852633476257, -0.00687160762026906, 0.02423245459794998, 0.007377455942332745, -0.03669322282075882, 0.04528968408703804, -0.01401134580373764, 0.014359083957970142, 0.012942315079271793, 0.022275252267718315, -0.027135347947478294, 0.02689281478524208, -0.0378446988761425, 0.028038177639245987, -0.039342306554317474, 0.008367259986698627, -0.015945320948958397, -0.04983000084757805, -0.0038620741106569767, -0.013903127983212471, -0.05917944386601448, -0.034294161945581436, 0.021670788526535034, -0.013536560349166393, 0.013092859648168087, -0.06686532497406006, -0.045154254883527756, 0.004590373020619154, -0.029848415404558182, 0.0059343548491597176, -0.004596314858645201, -0.019599366933107376, -0.011032558046281338, 0.07182808220386505, 0.05921793356537819, 0.0321621298789978, -0.015966719016432762, 0.032721150666475296, -0.0024497094564139843, -0.03509318456053734, -0.0022768958006054163, -0.07526379823684692, 0.042606864124536514, 7.761809683870524e-05, -0.015497365035116673, -0.01775265671312809, -0.056837961077690125, 0.04600122943520546, -0.015262359753251076, -0.008721796795725822, -0.010049116797745228, 0.012504770420491695, -0.018270106986165047, 0.05077102407813072, 0.010660217143595219, 0.011830348521471024, -0.003725667018443346, 0.013853941112756729, -0.06839706003665924, -0.017263343557715416, 0.01877126470208168, -0.05887711048126221, 0.01922503300011158, 0.0030418895184993744, 0.032986853271722794, -0.0159786157310009, 0.007904472760856152, 0.007810504641383886, -0.018839150667190552, 0.026353463530540466, -0.05682836472988129, 0.017690526321530342, -0.0008917234954424202, 0.02310209535062313, -0.02205432392656803, 0.01213313452899456, 0.031173627823591232, -0.0003509300295263529, -0.0392339713871479, 0.035976339131593704, -0.03071620874106884, -0.03171658515930176, 0.0343959778547287, -0.02173558436334133, -0.043305281549692154, 0.054977428168058395, 0.011091997846961021, -0.056984927505254745, -0.01622314564883709, 0.07411472499370575, -0.03575890511274338, 0.018713777884840965, 0.024714341387152672, -0.032785091549158096, 0.0003239002253394574, -0.01013155560940504, 0.052894700318574905, -0.06590507924556732, -0.007785929832607508, 0.00017690805543679744, 0.005418619140982628, -0.0031482179183512926, 0.06106901913881302, 0.021157141774892807, 0.0028948159888386726, -0.005301912315189838, -0.002523780334740877, -0.003835047595202923, 0.008112961426377296, 0.022597532719373703, -0.0034642803948372602, 0.019437193870544434, -0.09364666044712067, 0.025678424164652824, 0.016111455857753754, -0.05187380313873291, 0.0016268950421363115, 0.0011184123577550054, -0.0779954046010971, 0.029629094526171684, -0.026320604607462883, -0.05424832925200462, 0.017474841326475143, 0.016065726056694984, -0.012767377309501171, -0.05576254799962044, 0.05168119817972183, -0.00782688520848751, -0.014902799390256405, 0.08558370918035507, 0.04914139211177826, -0.016234776005148888, -0.034284040331840515, 0.060683220624923706, 0.014005915261805058, 0.00649015000090003, 0.0008523633587174118, -0.04990092292428017, -0.020679756999015808, 0.04077146202325821, -0.02982321009039879, -0.05060718208551407, 0.014708107337355614, -0.011301824823021889, -0.030396461486816406, 0.030445275828242302, -0.04433256387710571, 0.003057552268728614, 0.0030637539457529783, 0.006995242089033127, 0.03587394580245018, 0.05920340493321419, -0.0011993531370535493, 0.046224091202020645, -0.016550013795495033, -0.07491600513458252, 0.0635521411895752, -0.044412482529878616, -0.019582923501729965, 0.015780668705701828, 0.03894200176000595, -0.006216410081833601, -0.023618247359991074, -0.023745978251099586, -0.016548743471503258, 0.016380159184336662, 0.010100753046572208, 0.05088884383440018, -0.02216693013906479, 0.03967467322945595, 0.020959947258234024, -0.022956905886530876, 0.013700772076845169, 0.017595188692212105, -0.005276194773614407, 0.005893324501812458, -0.016578052192926407, 0.02811974659562111, 0.009069406427443027, -0.0005639305454678833, -0.03878884017467499, 0.0411466546356678, 0.018715452402830124, -0.04811367392539978, -0.044060297310352325, -0.0023201461881399155, 0.0007836393197067082, -0.020405882969498634, -0.0028950469568371773, 0.022542042657732964, 0.0033920358400791883, -0.009353416040539742, -0.01183402445167303, 0.06941084563732147, 0.015506040304899216, 0.0079450448974967, 0.06941956281661987, -0.026085171848535538, -0.005391546990722418, -0.00945773534476757, -0.004008602816611528, -0.02829633094370365, -0.009652940556406975, 0.061880923807621, 0.031247714534401894, -0.05176953226327896, -0.0012443407904356718, -0.006419021170586348, -0.000575192563701421, -0.03841504827141762, 0.06682559102773666, 0.025587938725948334, -0.08455020189285278, -0.09711239486932755, -0.004793108906596899, -0.0033724154345691204, 0.02623770758509636, 0.0335204117000103, -0.014468029141426086, 0.02212180197238922, -0.007969934493303299, -0.030395282432436943, -0.03251205012202263, 0.060172148048877716, -0.022706350311636925, -0.04221367463469505, 0.04900585487484932, 0.002174197696149349, 0.012458410114049911, 0.024489399045705795, -0.03273088112473488, -0.044408682733774185, -0.052567921578884125, -0.027286667376756668, 0.07875131070613861, -0.04935796931385994, 0.06445866078138351, -0.017606625333428383, -0.03973883390426636, 0.05403263866901398, 0.03807181492447853, -0.0100745540112257, 0.04124018922448158, -0.0033235386945307255, 0.024925660341978073, 0.012189597822725773, -0.027223797515034676, -0.052418194711208344, 0.04262848198413849, -0.03536805883049965, 0.018708689138293266, -0.04499988257884979, 0.010277011431753635, -0.04027622565627098, -0.05200355127453804, 0.005301895551383495, -0.023215392604470253, -0.02337055467069149, 0.01381996925920248, 0.05598396435379982, 0.046358004212379456, 0.007712082471698523, 0.03384704887866974, 0.0470004566013813, 0.0021209700498729944, -0.04247725382447243, -0.06587257981300354, 0.03617137670516968, 0.02943049743771553, -0.010971006006002426, 0.014306042343378067, -0.021870369091629982, -0.0023291062097996473, 0.0407051183283329, 0.036894362419843674, 0.03674823418259621, -0.0916590467095375, -0.061337560415267944, 0.06342237442731857, 0.032810699194669724, -0.026656044647097588, 0.005931452848017216, 0.003752470947802067, -0.0667366310954094, 0.040348805487155914, 0.09075666218996048, 0.006952967494726181, 0.0326773039996624, -0.04294222593307495, -0.021088100969791412, 0.07124430686235428, -0.010564146563410759, 0.010043344460427761, -0.010154898278415203, 0.0032896653283387423, 0.08503149449825287, 0.057996660470962524, -0.05053378641605377, 0.0006610951968468726, -0.03233710676431656, 0.047762803733348846, 0.0232387688010931, 0.06347113102674484, -0.02582799457013607, -0.10254810005426407, -0.04083264246582985, -0.013443438336253166, 0.0048868064768612385, 0.051830098032951355, -0.0030726459808647633, -0.05364248901605606, -0.02628672868013382, -0.027064437046647072, -0.007403897121548653, -0.035849329084157944, -0.0749645009636879, -0.025453565642237663, -0.02630484290421009, 0.030564136803150177, 0.08709236979484558, -0.06000198796391487, -0.024835824966430664, -0.01943342201411724, 0.039681728929281235, 0.0264238603413105, -0.06988366693258286, 0.04271089658141136, -0.05064666271209717, 0.03601172938942909, -0.014315015636384487, 0.04047355055809021, -0.0438929907977581, 0.0321340337395668]}, page_content='Kode Rekening: kode_rekening    4.1.2.1.8.3\\nkode_rekening    4.1.2.1.8.3\\nName: 169, dtype: object\\nNama Rekening: Retribusi Penyediaan Peta Digital\\nPendapatan: 0.0\\nRealisasi: 0.0\\nPersentase: 0.0'),\n",
              " Document(metadata={'kode_rekening': {'kode_rekening': '4.2.1.1.3.10'}, 'nama_rekening': 'DAK Fisik-Bidang Pendidikan-Penugasan SMK', 'embedding': [0.02612258307635784, -0.0034095710143446922, -0.038121193647384644, 0.014855436980724335, 0.058962348848581314, 0.04412586987018585, 0.02472216822206974, -0.052623625844717026, -0.009687596932053566, 0.028108768165111542, -0.02399788424372673, 0.0002982440055347979, -0.03872643783688545, -0.010218029841780663, -0.0403355248272419, -0.011245728470385075, 0.010705272667109966, -0.037937115877866745, 0.0048772478476166725, -0.06442773342132568, -0.03021453693509102, -0.002052621217444539, -0.03254730999469757, 0.02539757825434208, 0.03202708065509796, 0.0021705729886889458, -0.013421045616269112, -0.038618072867393494, -0.04335430637001991, 0.006451261229813099, -0.0565592497587204, 0.01652185432612896, -0.0429733507335186, -0.004338379483669996, -0.021111715584993362, -0.053832028061151505, -0.001772674615494907, 0.0038714073598384857, 0.042172763496637344, 0.06061858311295509, 0.0012168294051662087, 0.013622315600514412, 0.009730507619678974, -0.04761005938053131, 0.013266779482364655, -0.021118979901075363, 0.017110107466578484, 0.03032124973833561, 0.02366589568555355, -0.04453171417117119, -0.010101757943630219, 0.010075213387608528, 0.03482823073863983, -0.008095698431134224, -0.009069736115634441, -0.07489243894815445, -0.016645479947328568, 0.010069997049868107, -0.01804037019610405, -0.03140668198466301, -0.0018024309538304806, 0.00172837870195508, -0.009073235094547272, 0.09501940757036209, -0.008043122477829456, -0.055996011942625046, -0.041023653000593185, -0.009450622834265232, 0.04447080194950104, -0.02563796564936638, 0.031225765123963356, 0.0072303032502532005, 0.0520373098552227, -0.00915074348449707, -0.014639735221862793, -0.06797706335783005, -0.02486264333128929, 0.011256582103669643, 0.04381353408098221, 0.0382673405110836, 0.016176119446754456, -0.06368177384138107, -0.015372011810541153, -0.03521013632416725, -0.03535933047533035, 0.06484023481607437, -0.03351461887359619, -6.773258792236447e-05, -0.03011995181441307, 0.04987969249486923, -0.017498966306447983, -0.028527218848466873, 0.015586351044476032, -0.07637732475996017, 0.0028673685155808926, 0.0715361088514328, -0.013979797251522541, -0.03031022474169731, -0.004238077439367771, -0.041469506919384, -0.015376808121800423, -0.053669292479753494, -0.02817896567285061, -0.04433249682188034, 0.009090813808143139, 0.039087336510419846, -0.01799566112458706, 0.03667471185326576, -0.05966930463910103, 0.016422346234321594, -0.03314032405614853, -0.027522433549165726, -0.01270739920437336, -0.017207680270075798, 0.06095493584871292, -0.009726925753057003, -0.03391585499048233, 0.05699701979756355, 0.0032656327821314335, -0.00013209374446887523, 0.03854137286543846, 0.021122170612215996, 0.025288108736276627, -0.009584328159689903, 0.012436004355549812, -0.00738283758983016, -0.06387412548065186, -0.013537496328353882, 0.03666155785322189, 0.09614775329828262, -0.0018219546182081103, -0.03277209773659706, 0.014491445384919643, -0.0045265741646289825, 0.03233186900615692, 0.05986941233277321, 0.04445715621113777, 0.0009772754274308681, 0.034522052854299545, 0.026902934536337852, -0.025239279493689537, 0.006678023375570774, 0.02525477670133114, 0.017294252291321754, 0.0011945527512580156, 0.042201705276966095, 0.015944521874189377, 0.018132226541638374, 0.08577711135149002, -0.025785701349377632, -0.02117043361067772, -0.054835930466651917, -0.055527135729789734, 0.012559199705719948, 0.05034032464027405, 0.0535711944103241, 0.006878476124256849, 0.012074955739080906, 0.053300611674785614, 0.05201398953795433, 0.051319144666194916, 0.022358423098921776, -0.05117857828736305, 3.554268187144771e-05, -0.004108693450689316, -0.030650904402136803, 0.036660369485616684, 0.012946280650794506, 0.008207172155380249, -0.03650975599884987, -0.005791161209344864, 0.014040887355804443, -0.0556592158973217, -0.05059188976883888, -0.022830786183476448, -0.07673654705286026, -0.012406297959387302, -0.0031410041265189648, -0.016186384484171867, 0.04329049214720726, -0.03944854438304901, -0.018450800329446793, 0.04624858871102333, 0.0043900408782064915, 0.030955802649259567, -0.020545601844787598, 0.06390513479709625, -0.011894735507667065, -0.02423827163875103, -0.04361690208315849, -0.023883454501628876, -0.02283799648284912, -0.012320145033299923, -0.015610570088028908, -0.0342855229973793, 0.036921825259923935, -0.011558529920876026, 0.043462008237838745, 0.012994501739740372, -0.0306541807949543, -0.043263696134090424, 0.017827149480581284, -0.01659865491092205, -0.005494273733347654, 0.0537150576710701, -0.052527084946632385, 0.04325508698821068, -0.006488127168267965, -0.035539913922548294, 0.05230775102972984, -0.02897859364748001, 0.004966779612004757, -0.021327177062630653, -0.00935385748744011, 0.041636183857917786, 0.021833959966897964, -0.030377421528100967, 0.01261828001588583, -0.011997762136161327, -0.041547611355781555, 0.005137243308126926, -0.020680775865912437, -0.0008029998280107975, 0.029320044443011284, -0.001473624724894762, 0.0094124935567379, 0.043480001389980316, 0.030821524560451508, -0.014861158095300198, -0.036164507269859314, -0.02184808813035488, 0.09427183866500854, 0.03730226308107376, -0.043754756450653076, 0.07045283913612366, 0.003720991313457489, 0.009067186154425144, 0.021924594417214394, -0.0033902584109455347, 0.02692917175590992, -0.045162878930568695, 0.031585220247507095, 0.03137983754277229, 0.029430445283651352, -0.030975637957453728, -0.01535665150731802, 0.030324261635541916, 0.056305892765522, -0.011684072203934193, 0.09500311315059662, -0.00716213695704937, -0.06026715040206909, 0.023796338587999344, 0.023850830271840096, -0.05202639102935791, 0.02267032489180565, -0.027896376326680183, 0.04934189096093178, 0.016580715775489807, 0.0012142520863562822, 0.02737078070640564, 0.013530370779335499, 0.005021086893975735, -0.015373879112303257, -0.01942860521376133, -0.0014972961507737637, 0.01366700604557991, -0.020282229408621788, -0.03397752717137337, 0.023442598059773445, -0.013482538051903248, -0.021147441118955612, 0.13178393244743347, 0.04096240922808647, -0.0019265646114945412, 0.02554362080991268, -0.002334357937797904, 0.059279780834913254, -0.006667006760835648, -0.05138850957155228, 0.018638094887137413, 0.016730546951293945, 0.02958040125668049, -0.03220732882618904, -0.01230906043201685, -0.03131922334432602, -0.030761420726776123, 0.0008416764321736991, -0.0008316681487485766, -0.06085528805851936, -0.03036545030772686, 0.003799446625635028, -0.031221352517604828, -0.04731576517224312, -0.05533095821738243, 0.018815822899341583, 0.008870163932442665, 0.013789151795208454, 0.013147628866136074, -0.0036263244692236185, -0.048693571239709854, -0.036318033933639526, -0.01667298562824726, -0.07128952443599701, 0.005194635596126318, 0.01411415170878172, 0.007699793204665184, -0.030840657651424408, 0.0037497314624488354, 0.054158709943294525, -0.021196672692894936, -0.0616135373711586, -0.017009247094392776, -0.017300523817539215, 0.04939066246151924, 0.04410133510828018, -0.012776370160281658, 0.017825111746788025, -0.028760462999343872, 0.07127410173416138, -0.03410135954618454, 0.02092639170587063, 0.06139266490936279, -0.019541596993803978, 0.036720626056194305, 0.008624897338449955, -0.009408073499798775, 0.0274115651845932, -0.003974847495555878, 0.011476082727313042, 0.0024075584951788187, -0.005957032088190317, -0.04220648109912872, 0.04201611131429672, 0.011250004172325134, 0.01568492129445076, -0.08471476286649704, 0.026461830362677574, -0.02217959053814411, 0.004324557725340128, 0.08440549671649933, -0.007181540131568909, -0.04043895751237869, -0.018696090206503868, -0.028284341096878052, 0.0055120037868618965, -0.026851821690797806, 0.0022429293021559715, 0.08661146461963654, -0.005432742647826672, 0.022182844579219818, 0.06747979670763016, -0.007184383925050497, 0.0058727259747684, -0.02935294806957245, -0.01560429111123085, 0.08188540488481522, 0.011099551804363728, 0.004563548602163792, -0.005970918573439121, -0.056643206626176834, 0.04362363740801811, -0.01835494302213192, 0.015719445422291756, -0.0005778470658697188, -0.030471188947558403, 0.0008754075970500708, 0.007607972249388695, -0.008581772446632385, 0.05237315967679024, 0.028553996235132217, -0.03302258253097534, 0.008762402459979057, -0.0009220711071975529, -0.028108159080147743, -0.041653357446193695, -0.00956531148403883, -0.009671702049672604, 0.012385008856654167, 0.04750624671578407, 0.029447907581925392, 0.008836775086820126, 0.04445323348045349, 0.0036840271204710007, -0.0036846466828137636, -0.04071345180273056, 0.0895296111702919, 0.031557802110910416, -0.007910807617008686, 0.06202534958720207, -0.06832898408174515, -0.008559472858905792, 0.04267772287130356, 0.018279271200299263, 0.0006643934757448733, 0.010630750097334385, -0.07547415047883987, -0.0037850169464945793, 0.03956977277994156, -0.024548815563321114, -0.011682232841849327, -0.01697455905377865, 0.003924871329218149, -0.048633188009262085, -0.009627723135054111, -0.014744779095053673, 0.004846656695008278, -0.027642300352454185, -0.031327247619628906, -0.04561327397823334, -0.035306233912706375, 0.024691401049494743, 0.020516615360975266, -0.09565220773220062, -0.01532730646431446, -0.040017660707235336, 0.013873210176825523, 0.02398693561553955, 0.02106279693543911, 0.047126904129981995, -0.02297678217291832, 0.0017906379653140903, -0.04331681504845619, -0.026310995221138, -0.046244531869888306, -0.027908015996217728, 0.005240990314632654, -0.020348986610770226, -0.026284921914339066, -0.011283546686172485, 0.03822343796491623, -0.05691356211900711, 0.01157919131219387, -0.0305599644780159, 0.013979622162878513, -0.0874202772974968, -0.003049309831112623, 0.02101055160164833, 0.016176380217075348, -0.03312090039253235, 0.061135753989219666, -0.03283840790390968, 0.022264091297984123, 0.032819051295518875, -0.0023587392643094063, -0.018905485048890114, 0.022663408890366554, -0.04969301074743271, 0.022205619141459465, -0.04876416176557541, -0.0004336964339017868, -0.006682802923023701, -0.03282216191291809, -0.019079985097050667, -0.03382650390267372, -0.046506572514772415, -0.03849071264266968, 0.011730105616152287, -0.0013966197147965431, 0.04905257001519203, -0.08749060332775116, -0.03488512709736824, -0.005420684814453125, -0.034251581877470016, -0.012971404939889908, -0.0022521978244185448, -0.030381204560399055, -0.029528098180890083, 0.08809975534677505, 0.05188189074397087, 0.02189215086400509, -0.007591632194817066, 0.04671134427189827, 0.014696711674332619, -0.026799121871590614, -0.008258910849690437, -0.07142150402069092, 0.015924034640192986, -0.011526941321790218, 0.007355148904025555, -0.012688655406236649, -0.056428637355566025, 0.052567820996046066, -0.02038467302918434, -0.0016574725741520524, -0.0022061390336602926, 0.017169354483485222, -0.029362589120864868, 0.045045871287584305, 0.02806035615503788, 0.008203142322599888, 0.0017550552729517221, -0.012033838778734207, -0.06005124747753143, -0.0067993039265275, 0.042912229895591736, -0.05937540531158447, 0.024493059143424034, -0.00470371451228857, 0.04528184235095978, -0.012119757942855358, -0.008326145820319653, -0.003082631854340434, -0.012647371739149094, 0.04339500889182091, -0.06352637708187103, 0.0016114083118736744, 0.01911609061062336, 0.007128268014639616, -0.022322645410895348, 0.01308857649564743, 0.020891688764095306, 0.006746629253029823, -0.031529735773801804, 0.0478779561817646, -0.027740247547626495, -0.01269670482724905, 0.043583083897829056, -0.022113803774118423, -0.03951431065797806, 0.05074719339609146, 0.002469283528625965, -0.054979316890239716, -0.009551385417580605, 0.0639314278960228, -0.07096011936664581, 0.026148077100515366, 0.019710859283804893, -0.05148337408900261, -0.013463837094604969, 0.008079727180302143, 0.06136592850089073, -0.062353748828172684, -0.009920216165482998, 0.015741761773824692, 0.020303314551711082, -0.003507398534566164, 0.057176221162080765, 0.05154932662844658, 0.00041832728311419487, 0.018232285976409912, 0.018400704488158226, 0.004649196285754442, 0.027130039408802986, -0.014558532275259495, -0.0029157784301787615, 0.00272527732886374, -0.09955243766307831, 0.011614850722253323, -0.0011458323569968343, -0.04240713641047478, 0.002836560597643256, 0.02694757655262947, -0.07235506176948547, 0.031274668872356415, -0.03350060433149338, -0.059820957481861115, -0.002242736518383026, 0.042932603508234024, -0.003193367039784789, -0.06310100108385086, 0.048411864787340164, -0.02919735386967659, -0.011213013902306557, 0.07342490553855896, 0.06346884369850159, -0.03708646818995476, -0.03891070932149887, 0.0702124610543251, 0.006283442955464125, 0.012955479323863983, 0.010385914705693722, -0.05926263704895973, -0.023511603474617004, 0.06763094663619995, -0.02319057285785675, -0.05866977572441101, 0.028770845383405685, -0.012791015207767487, -0.019595487043261528, 0.006806578021496534, -0.045349664986133575, -0.012854213826358318, 0.015338234603404999, -0.024984048679471016, 0.0342693105340004, 0.04090121388435364, -0.007472106255590916, 0.030157163739204407, -0.008294261991977692, -0.06814610213041306, 0.05401545390486717, -0.04679088294506073, -0.04994721710681915, 0.01612217165529728, 0.020524103194475174, 0.016951795667409897, 0.002876349724829197, -0.0060553476214408875, -0.01866268366575241, 0.008088789880275726, -0.017950523644685745, 0.02362116426229477, -0.003982112277299166, 0.046596821397542953, 0.034936122596263885, -0.03223155066370964, 0.002799670910462737, -0.023714566603302956, -0.0122328270226717, 0.004010853357613087, 0.0075034936890006065, -0.009506608359515667, 0.010693554766476154, 0.0028015475254505873, -0.05259650573134422, 0.03144041821360588, 0.016277506947517395, -0.05690641328692436, -0.05637998506426811, 0.001902118674479425, -0.007113726809620857, -0.019031230360269547, -0.010381709784269333, 0.027186263352632523, -0.032928019762039185, -0.040298860520124435, -0.025799812749028206, 0.06355606019496918, 0.020518451929092407, 0.021171949803829193, 0.04453963413834572, -0.03517487645149231, -0.009098942391574383, -0.02510661631822586, -0.0007319317664951086, -0.049569565802812576, -0.04505347087979317, 0.02554662525653839, -0.0036517223343253136, -0.04076829180121422, -0.0008700011530891061, 0.008217932656407356, 0.008399915881454945, -0.013136480934917927, 0.07288307696580887, 0.04285240173339844, -0.06757404655218124, -0.09355302155017853, -0.0071535129100084305, -0.02391999401152134, 0.0366504080593586, 0.021535653620958328, -0.02663568966090679, 0.02505963109433651, 0.0034914116840809584, -0.025197625160217285, -0.034495893865823746, 0.06028592213988304, -0.011570853181183338, -0.04149475321173668, 0.039821136742830276, 0.01075032725930214, 0.009370333515107632, 0.030039358884096146, -0.03666916862130165, -0.025373531505465508, -0.07641782611608505, -0.019811149686574936, 0.06737107783555984, -0.056468665599823, 0.0713949128985405, -0.002607495291158557, -0.043895576149225235, 0.01524091511964798, 0.03134164586663246, -0.003366849385201931, 0.00969710759818554, 0.005562584847211838, 0.04117163270711899, -0.008673091419041157, -0.022726014256477356, -0.040021270513534546, 0.019125523045659065, -0.02275884710252285, 0.04637543112039566, -0.053531400859355927, 0.008909917436540127, -0.05062668398022652, -0.054568998515605927, -0.004169635009020567, -0.004396011121571064, -0.036953575909137726, 0.035120416432619095, 0.0492582805454731, 0.05286453664302826, 0.021764617413282394, 0.01705418899655342, 0.05694202333688736, 0.005853033624589443, -0.042025066912174225, -0.056222349405288696, 0.01413044985383749, 0.02705303207039833, 0.009420114569365978, 0.006491756998002529, -0.02103756181895733, -0.014602705836296082, 0.033700473606586456, 0.028082365170121193, 0.038698069751262665, -0.1055961474776268, -0.04338278993964195, 0.038974735885858536, 0.03905119001865387, -0.0364832729101181, 0.017802055925130844, 0.028571035712957382, -0.07734891027212143, 0.04031262546777725, 0.10849635303020477, 0.012822037562727928, 0.05421392619609833, -0.03398612141609192, -0.029674973338842392, 0.07996071130037308, -0.012870398350059986, 0.008735752664506435, -0.030887486413121223, 0.001165524241514504, 0.08754891157150269, 0.0371994785964489, -0.05511312186717987, -0.0017243633046746254, -0.04030504822731018, 0.05685322731733322, 0.012629225850105286, 0.036613885313272476, -0.023102523759007454, -0.08137863129377365, -0.05915381759405136, -0.003912466112524271, 0.033914994448423386, 0.06933493912220001, -0.0011104015866294503, -0.0550859309732914, -0.01919950731098652, -0.018031826242804527, -0.012335609644651413, -0.03365612030029297, -0.06585536897182465, -0.007457532454282045, -0.013453333638608456, 0.029318250715732574, 0.058254458010196686, -0.045008596032857895, -0.02468312717974186, -0.02835598960518837, 0.025917483493685722, 0.02755626104772091, -0.055272653698921204, 0.017111051827669144, -0.03173206374049187, 0.03929590806365013, -0.01742873527109623, 0.03206740319728851, -0.028212428092956543, -0.005379410460591316]}, page_content='Kode Rekening: kode_rekening    4.2.1.1.3.10\\nkode_rekening    4.2.1.1.3.10\\nName: 598, dtype: object\\nNama Rekening: DAK Fisik-Bidang Pendidikan-Penugasan SMK\\nPendapatan: 0.0\\nRealisasi: 0.0\\nPersentase: 0.0'),\n",
              " Document(metadata={'kode_rekening': {'kode_rekening': '4.3.1.5.1.1'}, 'nama_rekening': 'Sumbangan Pihak Ketiga/Sejeni', 'embedding': [0.02278398722410202, -0.006678043399006128, -0.04574199393391609, 0.00035243082675151527, 0.07131598889827728, 0.04430266097187996, 0.02936614491045475, -0.06420254707336426, -0.009787777438759804, 0.0340045690536499, -0.014947311952710152, -0.008482777513563633, -0.05647914111614227, -0.017263753339648247, -0.015080651268362999, -0.0033053727820515633, 0.016539501026272774, -0.025854039937257767, -0.024816932156682014, -0.042610056698322296, -0.06063861399888992, 0.004425538703799248, -0.0200361255556345, 0.027964597567915916, 0.026536403223872185, 6.913533434271812e-05, -0.00655776634812355, -0.046184346079826355, -0.053981199860572815, 0.006982213351875544, -0.04691178724169731, 0.02878248691558838, -0.03547606244683266, -0.016154278069734573, -0.02397448569536209, -0.036690447479486465, 0.00734684057533741, -0.01828460581600666, 0.025027615949511528, 0.0732530876994133, 0.0021130170207470655, 0.01867762953042984, 0.004319552797824144, -0.05047620087862015, 0.018155455589294434, -0.03639112785458565, -0.003247759072110057, 0.010441134683787823, 0.039449211210012436, -0.031443946063518524, 0.01274203322827816, 0.013899431563913822, 0.05898905172944069, -0.008042930625379086, -0.03879934176802635, -0.08110401034355164, -0.01940660923719406, 0.004061956889927387, -0.010259609669446945, -0.021833309903740883, -0.026438144966959953, 0.012940756045281887, 0.01905214600265026, 0.06788467615842819, -0.020478958263993263, -0.05959897115826607, -0.021106736734509468, -0.005602583754807711, 0.06904645264148712, -0.017251310870051384, 0.03296967223286629, -0.009910267777740955, 0.053665973246097565, -0.004005898255854845, -0.03768749535083771, -0.09153280407190323, -0.029373539611697197, 0.022254010662436485, 0.04217786341905594, 0.042948246002197266, 0.018777083605527878, -0.06167621910572052, -0.019111935049295425, -0.029478009790182114, -0.02960571087896824, 0.06574015319347382, -0.05134498327970505, -0.018903469666838646, -0.007071000058203936, 0.07233206927776337, -0.0201554037630558, -0.00016386786592192948, 0.012290352955460548, -0.08327876776456833, 0.009390394203364849, 0.07203920185565948, 0.004240821115672588, -0.029669005423784256, -0.011868777684867382, -0.05356214568018913, -0.0319179967045784, -0.06246631219983101, -0.03696640208363533, -0.050004176795482635, -0.007405879907310009, 0.04094437137246132, -0.0008079637191258371, 0.03308114781975746, -0.059052422642707825, 0.01659576967358589, -0.04529151692986488, -0.04268187656998634, 0.010652116499841213, -0.0049334014765918255, 0.052844446152448654, -0.009746422059834003, -0.019369186833500862, 0.05339093878865242, -0.018021006137132645, -0.002064460888504982, 0.03635124862194061, 0.024347294121980667, 0.014041458256542683, -0.002283519133925438, 0.01734945923089981, -0.02268831804394722, -0.06387938559055328, -0.013511920347809792, 0.04954681172966957, 0.09832790493965149, 0.01738644205033779, -0.02710593491792679, 0.03289613872766495, 0.0014956361846998334, 0.04650503769516945, 0.04625342786312103, 0.02558668702840805, 0.012233825400471687, 0.04288426414132118, 0.002024810528382659, -0.0006926751811988652, 0.012868087738752365, 0.003944101743400097, 0.028927208855748177, -0.012410908937454224, 0.029345547780394554, 0.023891771212220192, 0.0018592898268252611, 0.08710397779941559, -0.021887289360165596, -0.037706997245550156, -0.028331579640507698, -0.05941701680421829, 0.016547823324799538, 0.06638800352811813, 0.06594458967447281, 0.017954513430595398, 0.003389684483408928, 0.013479151763021946, 0.0771365612745285, 0.0498177707195282, 0.0126680051907897, -0.039600033313035965, -0.02520010620355606, -0.018433377146720886, -0.0586857832968235, 0.008421622216701508, 0.021942242980003357, 0.014339841902256012, -0.04155639186501503, 0.003490899922326207, 0.008929452858865261, -0.0637466311454773, -0.038569409400224686, -0.025222960859537125, -0.09084469825029373, -0.0228425282984972, 0.004460455384105444, -0.02026272937655449, 0.015786757692694664, -0.03247738629579544, -0.014183048158884048, 0.02671872079372406, 0.012745075859129429, 0.0421820729970932, -0.009406562894582748, 0.04642971605062485, -0.005507707130163908, -0.0120109673589468, -0.04284966364502907, -0.016655052080750465, -0.032906826585531235, -0.010509801097214222, -0.017066892236471176, -0.0435081422328949, 0.010123863816261292, -0.011646381579339504, 0.058496810495853424, -0.021869491785764694, -0.01815636083483696, -0.03290969505906105, 0.011029072105884552, -0.007419572677463293, 0.008926304057240486, 0.06920629739761353, -0.02135660871863365, 0.04957698658108711, -0.002719361335039139, -0.02336246892809868, 0.055352531373500824, -0.030418671667575836, -0.0180230513215065, -0.016439691185951233, -0.015309130772948265, 0.038263555616140366, 0.025803562253713608, -0.027369564399123192, 0.009694277308881283, -0.02920813485980034, -0.03309597820043564, -0.02653118222951889, -0.01999690942466259, 0.0020338064059615135, 0.02313709259033203, -0.014883335679769516, -0.00580637576058507, 0.059810079634189606, 0.03826712816953659, -0.015085559338331223, -0.04458709433674812, -0.013651384972035885, 0.09598241001367569, 0.035354290157556534, -0.030667265877127647, 0.08200452476739883, -0.011025077663362026, 0.013974799774587154, 0.009549036622047424, 0.002056810073554516, 0.012728862464427948, -0.029961593449115753, 0.018122101202607155, 0.0494723804295063, 0.036405254155397415, -0.061332304030656815, -0.02637517638504505, 0.02143469825387001, 0.05125026777386665, -0.012620331719517708, 0.09590432792901993, -0.012970357201993465, -0.06291553378105164, 0.01112951897084713, 0.04049431532621384, -0.02679942362010479, 0.02206895872950554, -0.0320424847304821, 0.05341007933020592, 0.019799262285232544, 0.01027532760053873, 0.029322829097509384, 0.012350563891232014, 0.01547323353588581, -0.005632403306663036, -0.016276245936751366, 0.008111601695418358, 0.02873883582651615, -0.01375990267843008, -0.030919363722205162, 0.016054395586252213, 0.005147515330463648, -0.027796469628810883, 0.1010831668972969, 0.038083020597696304, -0.020849794149398804, 0.049137014895677567, -0.01590125821530819, 0.060520559549331665, -0.014684351161122322, -0.06081010028719902, 0.013963531702756882, 0.013838719576597214, 0.01811937429010868, -0.033299777656793594, -0.019247179850935936, -0.01025350671261549, -0.061607860028743744, 0.007362410891801119, 0.040836699306964874, -0.06262069940567017, -0.05224990472197533, -0.02014462649822235, -0.012090674601495266, -0.047391898930072784, -0.066046342253685, 0.0014314006548374891, -0.0020628643687814474, -0.0009615370072424412, -0.003530892776325345, -0.0198502317070961, -0.030994098633527756, -0.035139765590429306, -0.03490449860692024, -0.0885620042681694, 0.009816686622798443, 0.016379745677113533, 0.011040162295103073, -0.02352951094508171, -0.01061239279806614, 0.05770530179142952, -0.008793370798230171, -0.06797407567501068, -0.03313519060611725, -0.02233957126736641, 0.048820216208696365, 0.04750858247280121, -0.013896044343709946, 0.0014646522467955947, -0.021883560344576836, 0.06824570894241333, -0.02942674420773983, 0.011506166309118271, 0.04429341107606888, -0.001704011345282197, 0.029471229761838913, 0.028057795017957687, -0.029863620176911354, 0.03751096501946449, 0.00021789206948596984, 0.010133464820683002, 0.009170684963464737, -0.0028964083176106215, -0.03093525767326355, 0.05650927126407623, 0.013587145134806633, 0.029393868520855904, -0.08167563378810883, 0.0393989235162735, -0.014272283762693405, -0.0009417927940376103, 0.06403512507677078, 0.015664566308259964, -0.03183691203594208, -0.02529768832027912, -0.027423812076449394, 0.013513321056962013, -0.018514489755034447, 0.007224565371870995, 0.09359360486268997, 0.002260584384202957, 0.012046074494719505, 0.06106952577829361, -0.006803235504776239, 0.009485309943556786, -0.016060687601566315, -0.030050819739699364, 0.0779363363981247, -0.009034953080117702, 0.019245723262429237, 0.0019833329133689404, -0.037005893886089325, 0.04619462415575981, -0.022725656628608704, 0.008815580047667027, -0.006756165996193886, -0.029048142954707146, -0.020391572266817093, 0.005394954700022936, -0.019579533487558365, 0.02249077521264553, 0.009826814755797386, -0.03335993364453316, 0.0011166837066411972, 0.0015100465388968587, -0.018038885667920113, -0.04547768086194992, -0.030751490965485573, -0.032228339463472366, 0.021016184240579605, 0.02889890782535076, 0.012559568509459496, 0.0038645865861326456, 0.04260948672890663, 0.009788528084754944, 0.00011133643420180306, -0.034148458391427994, 0.06203132122755051, 0.04151525720953941, 0.0049928403459489346, 0.04632040858268738, -0.041205860674381256, -0.0020860254298895597, 0.027112150564789772, 0.03009027987718582, -0.01974988356232643, 0.028224512934684753, -0.060354653745889664, 0.0061736758798360825, 0.04666758328676224, -0.030018404126167297, -0.030682850629091263, -0.01083278376609087, 0.023638766258955002, -0.06713975965976715, -0.009911227971315384, -0.011762438341975212, -0.00021108690998516977, -0.03609904274344444, -0.02348286099731922, -0.025629518553614616, -0.008411343209445477, 0.026845956221222878, 0.01512804813683033, -0.08935482800006866, -0.01096411794424057, -0.038273341953754425, 0.010493941605091095, 0.015257678925991058, -0.00771972443908453, 0.04480815306305885, -0.04991316422820091, -0.01149371825158596, -0.05316058173775673, -0.06416290253400803, -0.03692253679037094, -0.04408133774995804, 0.00890564639121294, -0.02178567461669445, 0.0008411580929532647, 0.0013760036090388894, 0.013222647830843925, -0.061113838106393814, 0.009661062620580196, -0.011717124842107296, -0.013590688817203045, -0.08252908289432526, 0.009604506194591522, 0.0068861437030136585, 0.009850571863353252, -0.039797715842723846, 0.04198138043284416, -0.03592945262789726, 0.01915794424712658, 0.01504035945981741, 0.012463067658245564, -0.009997721761465073, 0.026629023253917694, -0.054579172283411026, 0.015994325280189514, -0.031906772404909134, 0.008252756670117378, -0.00875998567789793, -0.048187486827373505, -0.009064067155122757, -0.019526055082678795, -0.04420924931764603, -0.04586297646164894, 0.02791999839246273, -0.009790146723389626, 0.03628884255886078, -0.08338195085525513, -0.05156785249710083, -0.004090092144906521, -0.038765884935855865, -0.011675462126731873, -0.0033714226447045803, -0.01866389997303486, -0.021100662648677826, 0.06768777966499329, 0.04807888716459274, 0.02887323684990406, 0.0024320646189153194, 0.026128645986318588, -0.0051572988741099834, -0.007471148390322924, -0.006176312454044819, -0.07516440004110336, 0.01578269526362419, -0.013373787514865398, -0.007566365879029036, -0.012309304438531399, -0.0692305788397789, 0.04734198376536369, -0.020432405173778534, -0.0077977608889341354, -0.00275315809994936, 0.007462262641638517, -0.016990067437291145, 0.040311574935913086, 0.01562296412885189, 0.014368852600455284, 0.001975748222321272, -0.0029377699829638004, -0.06092783063650131, -0.02003910019993782, 0.01848912239074707, -0.07627734541893005, 0.020280539989471436, -0.0015268804272636771, 0.024970656260848045, -0.02114354446530342, 0.008048202842473984, 0.002418776508420706, -0.007549790665507317, 0.03740345686674118, -0.05382523313164711, -0.004011429846286774, 0.012636294588446617, 0.019480150192975998, -0.006709923502057791, 0.0010438713943585753, 0.02585703693330288, -0.0018169019604101777, -0.03403225913643837, 0.03880062326788902, -0.022737571969628334, -0.02450823038816452, 0.03782280161976814, -0.01684780791401863, -0.02434411831200123, 0.04902447760105133, -0.0023811033461242914, -0.049942746758461, -0.023643746972084045, 0.07287082821130753, -0.05611922964453697, 0.03196790814399719, 0.0116640729829669, -0.0605301633477211, 0.00575918098911643, 1.5822613931959495e-05, 0.040560804307460785, -0.06739093363285065, -0.025700991973280907, 0.017160572111606598, 0.015186963602900505, -0.00872961524873972, 0.07354961335659027, 0.04006446525454521, 0.007731381803750992, 0.0021236471366137266, 0.01385174784809351, -0.0013401780743151903, 0.015517344698309898, 0.00625775009393692, -0.01919575221836567, 0.0015063741011545062, -0.09505846351385117, 0.021820172667503357, 0.01907416060566902, -0.03758956119418144, 0.01181238703429699, 0.015835732221603394, -0.07059906423091888, 0.036709193140268326, -0.02603086084127426, -0.047530531883239746, -0.0015726103447377682, 0.03030703216791153, -0.010881843976676464, -0.05136202648282051, 0.03503851220011711, -0.029535170644521713, -0.004327762871980667, 0.07687977701425552, 0.06825774163007736, -0.01985340379178524, -0.017447274178266525, 0.05594123154878616, 0.014074847102165222, -0.00012815064110327512, -0.003798872698098421, -0.05232109874486923, -0.028051724657416344, 0.0585995577275753, -0.01880287379026413, -0.06416703760623932, 0.024170977994799614, -0.011956671252846718, -0.03568222373723984, 0.008360619656741619, -0.0426810197532177, -0.008671967312693596, 0.013283602893352509, -0.010187499225139618, 0.033772096037864685, 0.0396273098886013, -0.0021850108169019222, 0.04432658478617668, -0.02342047169804573, -0.0775597020983696, 0.06259948760271072, -0.06059049442410469, -0.035494767129421234, 0.007686024531722069, 0.013333354145288467, -0.02132437936961651, -0.009701372124254704, -0.011756745167076588, -0.03047086112201214, 0.03365901857614517, -0.00627374742180109, 0.03378690779209137, -0.015755269676446915, 0.032694775611162186, 0.021144678816199303, -0.0343741849064827, 0.011391744017601013, 0.009104007855057716, -0.007392714265733957, 0.008032925426959991, 0.002123938873410225, 0.01645399071276188, 0.005991995334625244, 0.0037613520398736, -0.04263751953840256, 0.02960967645049095, 0.006435742601752281, -0.04740136116743088, -0.04738457500934601, -0.01255764439702034, -0.017265593633055687, -0.02449214644730091, -0.018880685791373253, 0.02410457469522953, -0.01786920055747032, -0.026172403246164322, -0.025568878278136253, 0.07141253352165222, 0.023953234776854515, 0.03549758717417717, 0.05508658289909363, -0.030779939144849777, -0.0070876870304346085, -0.02642674185335636, 0.011534984223544598, -0.06316499412059784, -0.03237695246934891, 0.03439418971538544, 0.01801360584795475, -0.04172837734222412, 0.013217221945524216, -0.005575108807533979, -0.016973912715911865, -0.03155437856912613, 0.06840696930885315, 0.0259406641125679, -0.07907569408416748, -0.08977296948432922, -0.0007841004407964647, -0.004847974516451359, 0.017026932910084724, 0.02917236089706421, 0.0045166416093707085, 0.015153653919696808, -0.013174189254641533, -0.03942684084177017, -0.04483771324157715, 0.06799392402172089, -0.009687252342700958, -0.033570993691682816, 0.021858057007193565, 0.010101602412760258, 0.009506271220743656, 0.011421803385019302, -0.026860380545258522, -0.02002422697842121, -0.07494370639324188, -0.02888406068086624, 0.07621847838163376, -0.047725576907396317, 0.059766367077827454, -0.03864355757832527, -0.03670473396778107, 0.047673385590314865, 0.040849797427654266, -0.001438245177268982, 0.022204361855983734, -0.017043432220816612, 0.01558159850537777, 0.005188239738345146, -0.02381840907037258, -0.054109517484903336, 0.02883215993642807, -0.02991386316716671, 0.027829771861433983, -0.04064113274216652, 0.012272616848349571, -0.04236801341176033, -0.03929521143436432, -0.010342705994844437, -0.013045180588960648, -0.03523341193795204, 0.023711854591965675, 0.05002951622009277, 0.04778428003191948, 0.009882557205855846, 0.02134370245039463, 0.04294157400727272, 0.003634671913459897, -0.05431833118200302, -0.07594455033540726, 0.02483595907688141, 0.03754018247127533, -0.013676156289875507, 0.01648169383406639, -0.02258732169866562, -0.0062685380689799786, 0.029843730852007866, 0.030503278598189354, 0.03872579708695412, -0.08115943521261215, -0.05042136088013649, 0.05014539137482643, 0.0412713848054409, -0.023121269419789314, 0.01147407479584217, -0.0023763838689774275, -0.05918163061141968, 0.05400501564145088, 0.10745204240083694, 0.006747999228537083, 0.026557113975286484, -0.03695379197597504, -0.0286361463367939, 0.07120566070079803, -0.000649636669550091, 0.010766999796032906, -0.024323398247361183, 0.01742974855005741, 0.08361462503671646, 0.05000538378953934, -0.04921505227684975, -0.0037632458843290806, -0.030570436269044876, 0.060062672942876816, 0.022748660296201706, 0.05268437787890434, -0.022250313311815262, -0.09501392394304276, -0.05514109134674072, -0.013138337060809135, 0.0005124799790792167, 0.07759924232959747, 0.0072555867955088615, -0.06699110567569733, -0.02335352450609207, -0.02178269624710083, -0.00886636134237051, -0.04189753159880638, -0.07158899307250977, -0.00808339100331068, -0.0379471518099308, 0.04134576395153999, 0.0612836629152298, -0.058258306235075, -0.01998547837138176, -0.02133796364068985, 0.02764306776225567, 0.013620831072330475, -0.06917989253997803, 0.005786746274679899, -0.04435638338327408, 0.05212254077196121, -0.013767861761152744, 0.03052528388798237, -0.029698746278882027, 0.011324944905936718]}, page_content='Kode Rekening: kode_rekening    4.3.1.5.1.1\\nkode_rekening    4.3.1.5.1.1\\nName: 699, dtype: object\\nNama Rekening: Sumbangan Pihak Ketiga/Sejeni\\nPendapatan: 0.0\\nRealisasi: 0.0\\nPersentase: 0.0'),\n",
              " Document(metadata={'kode_rekening': {'kode_rekening': '4.3.1.5.1'}, 'nama_rekening': 'Sumbangan Pihak Ketiga/Sejenis', 'embedding': [0.027459649369120598, -0.004886772949248552, -0.05509904772043228, 0.0008047253941185772, 0.07165567576885223, 0.04006613790988922, 0.029252048581838608, -0.06029424071311951, -0.011151290498673916, 0.036937374621629715, -0.018867990002036095, -0.0017004887340590358, -0.04753650352358818, -0.021424749866127968, -0.007904542610049248, -0.008873018436133862, 0.01931961625814438, -0.024554220959544182, -0.025901438668370247, -0.040530070662498474, -0.05369633808732033, 0.00098243763204664, -0.020628513768315315, 0.030262427404522896, 0.02207006886601448, -0.0022186865098774433, -0.013368986546993256, -0.04329222813248634, -0.0520532988011837, 0.002660407219082117, -0.049352359026670456, 0.03058895654976368, -0.0351346954703331, -0.0153406523168087, -0.02721036970615387, -0.03512470796704292, 0.012191440910100937, -0.017687520012259483, 0.023084288462996483, 0.07465758174657822, 0.008586790412664413, 0.014226851984858513, 0.0008330032578669488, -0.04674283787608147, 0.02498236671090126, -0.03277587890625, -0.001572734210640192, 0.011022339574992657, 0.036919157952070236, -0.03208624944090843, 0.011218915693461895, 0.020857440307736397, 0.05576465278863907, -0.007075970526784658, -0.04074827581644058, -0.0819162130355835, -0.021072233095765114, 0.008085905574262142, -0.011729355901479721, -0.023457949981093407, -0.026792921125888824, 0.013814539648592472, 0.013601829297840595, 0.07107309252023697, -0.025040891021490097, -0.058607373386621475, -0.02232801541686058, -0.00679377606138587, 0.06432292610406876, -0.013851101510226727, 0.03378566727042198, -0.011350471526384354, 0.05901690199971199, -0.007895605638623238, -0.032065387815237045, -0.08868474513292313, -0.013460710644721985, 0.022119693458080292, 0.04300137609243393, 0.04391077160835266, 0.014460531994700432, -0.06638120859861374, -0.01573706604540348, -0.028257885947823524, -0.027498304843902588, 0.07185544073581696, -0.05618956685066223, -0.018783140927553177, -0.01855548284947872, 0.07228019088506699, -0.019119568169116974, 0.0002052371419267729, 0.01116601936519146, -0.08289211243391037, 0.015737637877464294, 0.07234431803226471, 0.011046047322452068, -0.028894444927573204, -0.018496189266443253, -0.053526218980550766, -0.025178201496601105, -0.06307189911603928, -0.03578103333711624, -0.04698710888624191, -0.007400268688797951, 0.04416114091873169, -0.000463495816802606, 0.030630365014076233, -0.052930835634469986, 0.01218137051910162, -0.049901243299245834, -0.03755321726202965, 0.009185153059661388, -0.009656487964093685, 0.051328305155038834, -0.016085267066955566, -0.017444219440221786, 0.05412274971604347, -0.01036576647311449, 0.0006542056798934937, 0.0377131849527359, 0.024514244869351387, 0.013780869543552399, -0.004424429498612881, 0.021391557529568672, -0.01911381632089615, -0.06235170364379883, -0.005627613980323076, 0.04817621782422066, 0.091738760471344, 0.02727607451379299, -0.02343958243727684, 0.03380203619599342, -0.004072630777955055, 0.0460674948990345, 0.03967289254069328, 0.02231517620384693, 0.013836774043738842, 0.04291776940226555, 0.005424360278993845, -0.00663751782849431, 0.013002806343138218, 0.005193021148443222, 0.02836604043841362, -0.011447219178080559, 0.03543686866760254, 0.017140047624707222, -0.0019265715964138508, 0.08637770265340805, -0.022253628820180893, -0.04344012215733528, -0.026323476806282997, -0.0608210451900959, 0.016917366534471512, 0.06588614732027054, 0.06682033091783524, 0.016948658972978592, 0.0010472250869497657, 0.01612054370343685, 0.08056186884641647, 0.048555467277765274, 0.01283884234726429, -0.040443625301122665, -0.02059343084692955, -0.01441950909793377, -0.055887430906295776, 0.008494985289871693, 0.020436059683561325, 0.010998734273016453, -0.041768379509449005, 0.009629802778363228, 0.014119603671133518, -0.06579247862100601, -0.039705149829387665, -0.031026989221572876, -0.09145417809486389, -0.02769343927502632, 0.006267710123211145, -0.013505117036402225, 0.013602904975414276, -0.03577050566673279, -0.013381224125623703, 0.03683430701494217, 0.011583693325519562, 0.03398998826742172, -0.014855658635497093, 0.05285688117146492, -0.009615683928132057, -0.009573920629918575, -0.04689784348011017, -0.020782560110092163, -0.033358391374349594, -0.01642889529466629, -0.013577545993030071, -0.0437079519033432, 0.008750350214540958, -0.003001560689881444, 0.05892304331064224, -0.02055749110877514, -0.02255263365805149, -0.03518333658576012, 0.01369837298989296, -0.0019071975257247686, 0.0162162184715271, 0.0675138607621193, -0.02466076985001564, 0.04613495245575905, -0.0018009475897997618, -0.028729872778058052, 0.05543170124292374, -0.030869439244270325, -0.021671680733561516, -0.01504374761134386, -0.006449762266129255, 0.036014944314956665, 0.02499142289161682, -0.02388729341328144, 0.01028484757989645, -0.028706949204206467, -0.03289564698934555, -0.027661964297294617, -0.019389189779758453, 0.0051825763657689095, 0.016797780990600586, -0.014231245033442974, -0.010997056029736996, 0.06125404313206673, 0.03639286011457443, -0.015344732441008091, -0.04318518936634064, -0.012518687173724174, 0.09999501705169678, 0.03479112684726715, -0.03202824294567108, 0.08195043355226517, -0.010353834368288517, 0.01651233248412609, 0.016911106184124947, -0.0013689432526007295, 0.010819981805980206, -0.035218968987464905, 0.020358052104711533, 0.052538447082042694, 0.03644191101193428, -0.05971929058432579, -0.027105078101158142, 0.02483993209898472, 0.052700743079185486, -0.009415831416845322, 0.0930398628115654, -0.011975635774433613, -0.05820922926068306, 0.016045838594436646, 0.030259711667895317, -0.023690279573202133, 0.022287623956799507, -0.025817710906267166, 0.04457690566778183, 0.027363289147615433, 0.011836343444883823, 0.03119230829179287, 0.013500768691301346, 0.015292081981897354, -0.006378708407282829, -0.020091889426112175, 0.0020963025745004416, 0.02323088049888611, -0.01229147519916296, -0.030077626928687096, 0.0206590723246336, -0.003671522019430995, -0.03359438106417656, 0.09942854195833206, 0.03623008355498314, -0.023779332637786865, 0.05850174278020859, -0.016799163073301315, 0.0575064979493618, -0.01423049159348011, -0.0573396310210228, 0.020052611827850342, 0.015931978821754456, 0.02317062020301819, -0.030278682708740234, -0.020137446001172066, -0.009095335379242897, -0.05650819465517998, 0.012597844004631042, 0.035190921276807785, -0.05870954692363739, -0.04956531897187233, -0.021216584369540215, -0.01991107501089573, -0.044982753694057465, -0.07000686228275299, -0.0023610915523022413, -0.0016254918882623315, -0.005590684246271849, -0.007082009222358465, -0.01839407905936241, -0.03449329733848572, -0.03958505764603615, -0.03348735719919205, -0.09748253971338272, 0.009373914450407028, 0.009609486907720566, 0.009327396750450134, -0.035872552543878555, -0.012211678549647331, 0.06227348372340202, -0.00571298087015748, -0.07040022313594818, -0.03595328330993652, -0.012167325243353844, 0.050613611936569214, 0.04635975882411003, -0.0037129586562514305, 0.00047545143752358854, -0.03195776790380478, 0.06776135414838791, -0.03188743442296982, 0.00977982860058546, 0.042489491403102875, -0.01227886788547039, 0.028542065992951393, 0.027002375572919846, -0.0321924090385437, 0.039131563156843185, 0.009125142358243465, 0.015690291300415993, 0.019788691774010658, 0.0012859113048762083, -0.03651047125458717, 0.057230930775403976, 0.009349175728857517, 0.023491324856877327, -0.09002389013767242, 0.03436950221657753, -0.019947737455368042, -0.0036853435449302197, 0.06723504513502121, 0.013315832242369652, -0.033731795847415924, -0.020688185468316078, -0.02720721624791622, 0.012313432060182095, -0.023671528324484825, 0.008849363774061203, 0.09479556232690811, 0.003979436121881008, 0.013282154686748981, 0.055736806243658066, -0.008258244022727013, 0.007669504731893539, -0.006982811726629734, -0.020695196464657784, 0.07634343206882477, -0.00366580905392766, 0.01320998277515173, 0.006313350982964039, -0.03973552584648132, 0.045383818447589874, -0.022396421059966087, 0.015508712269365788, -0.0020869981963187456, -0.028252528980374336, -0.022763479501008987, 0.003288082778453827, -0.021333938464522362, 0.02932521142065525, 0.016153831034898758, -0.030130965635180473, 0.002825021045282483, 0.0021255614701658487, -0.027013780549168587, -0.04374749958515167, -0.033102571964263916, -0.029572632163763046, 0.02929670177400112, 0.031020067632198334, 0.02065049484372139, 0.007515489123761654, 0.03610733151435852, 0.004919228609651327, -0.0043472726829349995, -0.03831679746508598, 0.06663917750120163, 0.04485766217112541, 0.008583900518715382, 0.04529387503862381, -0.039217595010995865, -0.004172911401838064, 0.032368145883083344, 0.031718187034130096, -0.016292443498969078, 0.019814958795905113, -0.058599747717380524, 0.00884456466883421, 0.047814033925533295, -0.026939017698168755, -0.03667142987251282, -0.007961025461554527, 0.02691575139760971, -0.058193739503622055, -0.0034452180843800306, -0.014677293598651886, -0.0065346271730959415, -0.03714333474636078, -0.01664077304303646, -0.02470763958990574, -0.005721826106309891, 0.027066145092248917, 0.022013317793607712, -0.09267532080411911, -0.013298574835062027, -0.038276638835668564, 0.006285295821726322, 0.009900831617414951, -0.008833911269903183, 0.04190932586789131, -0.049947675317525864, -0.014258243143558502, -0.04652813449501991, -0.0595494844019413, -0.0366646908223629, -0.04240308329463005, 0.002788972808048129, -0.02789582684636116, -0.012066575698554516, -0.002420822624117136, 0.016840357333421707, -0.061684779822826385, 0.008249789476394653, -0.012135655619204044, -0.011645259335637093, -0.08704161643981934, 0.008151201531291008, 0.007570333778858185, 0.010476136580109596, -0.033081550151109695, 0.03704706206917763, -0.036340225487947464, 0.021204695105552673, 0.015151199884712696, 0.009566521272063255, -0.014921285212039948, 0.037128910422325134, -0.04911089688539505, 0.015203312039375305, -0.04033732786774635, 0.01048609521239996, -0.00928830448538065, -0.0532565601170063, -0.012321854010224342, -0.011606091633439064, -0.04411842301487923, -0.0406617596745491, 0.028934665024280548, -0.011854195035994053, 0.03384532779455185, -0.08721023052930832, -0.04964955523610115, -0.004544554743915796, -0.039891183376312256, -0.009254137054085732, -0.004190068691968918, -0.013374362140893936, -0.020111553370952606, 0.06775526702404022, 0.05153987556695938, 0.021694112569093704, 0.0040528979152441025, 0.027044331654906273, -0.013874760828912258, -0.01362580619752407, -0.0030195938888937235, -0.07789388298988342, 0.01619221456348896, -0.012290767394006252, -0.009006800130009651, -0.010353496298193932, -0.06625311821699142, 0.056258730590343475, -0.016154820099473, -0.009625103324651718, 0.00017401186050847173, 0.013342753052711487, -0.02078247256577015, 0.04136858135461807, 0.01920848712325096, 0.02194821462035179, 0.0043165008537471294, -0.009659199975430965, -0.06500869989395142, -0.01606351137161255, 0.01730823516845703, -0.06707746535539627, 0.01732606627047062, -0.003735159058123827, 0.022332845255732536, -0.018012885004281998, 0.01349291205406189, 0.00613378593698144, -0.01143268309533596, 0.03752084821462631, -0.05244956538081169, -0.007775046397000551, 0.012352120131254196, 0.020536862313747406, -0.00517078023403883, 0.00010821816977113485, 0.02788422256708145, 0.0030935583636164665, -0.03895663842558861, 0.0338691771030426, -0.022911667823791504, -0.026106001809239388, 0.04433109983801842, -0.024026041850447655, -0.022217359393835068, 0.048406053334474564, 0.0015500294975936413, -0.04520132765173912, -0.02905491180717945, 0.07771311700344086, -0.0444662980735302, 0.02938678488135338, 0.010060939006507397, -0.058273185044527054, 0.005025859922170639, 0.0006823106668889523, 0.040896087884902954, -0.058112695813179016, -0.022519048303365707, 0.01795295625925064, 0.020606422796845436, -0.006170748732984066, 0.07167462259531021, 0.04134003072977066, 0.008725827559828758, -0.0002942683349829167, 0.0151769844815135, 0.0014194465475156903, 0.019262176007032394, 0.010935910046100616, -0.020426694303750992, 0.00405834149569273, -0.10049862414598465, 0.02326769381761551, 0.024448459967970848, -0.04285803064703941, 0.010477959178388119, 0.011769881471991539, -0.06834014505147934, 0.03352956846356392, -0.029409589245915413, -0.04635978117585182, -0.0020860079675912857, 0.026068545877933502, -0.007128164637833834, -0.04883132129907608, 0.04220764711499214, -0.0346711091697216, -0.002917242469266057, 0.07811423391103745, 0.06316474080085754, -0.022105146199464798, -0.02400662563741207, 0.058246906846761703, 0.015049884095788002, 0.006887609139084816, -0.00629038130864501, -0.05620799586176872, -0.0329422727227211, 0.05331381410360336, -0.027640752494335175, -0.05360781028866768, 0.027663905173540115, -0.011083144694566727, -0.036470264196395874, 0.015556040219962597, -0.0438663512468338, -0.011692655272781849, 0.01035704929381609, -0.01582595519721508, 0.028031716123223305, 0.03539739549160004, 0.003925463650375605, 0.042427752166986465, -0.022236892953515053, -0.08070018142461777, 0.06759392470121384, -0.05995891988277435, -0.03882060572504997, 0.001099596731364727, 0.020052488893270493, -0.014132965356111526, -0.010536150075495243, -0.01139119267463684, -0.027667686343193054, 0.01930011808872223, -0.007730097509920597, 0.033272046595811844, -0.011025476269423962, 0.04072235897183418, 0.02206088975071907, -0.030240463092923164, 0.011054117232561111, 0.005448442418128252, -0.015857039019465446, 0.004013310186564922, 0.007177525665611029, 0.012529234401881695, -0.0018289617728441954, 0.00018332684703636914, -0.045553550124168396, 0.0312928780913353, 0.00630694255232811, -0.05493566393852234, -0.043494176119565964, -0.00933155883103609, -0.01704953797161579, -0.021659227088093758, -0.013363471254706383, 0.01661469228565693, -0.02447742410004139, -0.028245486319065094, -0.014852412976324558, 0.07208658009767532, 0.024786902591586113, 0.02888452634215355, 0.04944544658064842, -0.02606697380542755, -0.00575794093310833, -0.0224149152636528, 0.006995795760303736, -0.05310226231813431, -0.037404123693704605, 0.030110642313957214, 0.017255665734410286, -0.04387127608060837, 0.011706381104886532, -0.00416327640414238, -0.01883246935904026, -0.029596630483865738, 0.060666751116514206, 0.03153267502784729, -0.0723777711391449, -0.09014853090047836, 0.004289885051548481, -0.011021670885384083, 0.014357157051563263, 0.03273661062121391, -0.0004905176465399563, 0.01695696823298931, -0.013699427247047424, -0.03417294844985008, -0.0415491908788681, 0.0677516907453537, -0.013067692518234253, -0.03773873299360275, 0.02840210497379303, 0.003233941737562418, 0.008263611234724522, 0.008161023259162903, -0.030862051993608475, -0.01798090711236, -0.07180202007293701, -0.03600320592522621, 0.07093986123800278, -0.043222326785326004, 0.059404466301202774, -0.03899456933140755, -0.0437365286052227, 0.05149824917316437, 0.03846527263522148, 0.005190040450543165, 0.01823371835052967, -0.014133661054074764, 0.017916899174451828, -0.0006284491391852498, -0.022628456354141235, -0.05491994321346283, 0.03340443968772888, -0.030964473262429237, 0.028535790741443634, -0.03906651586294174, 0.013484419323503971, -0.0462038516998291, -0.036578837782144547, -0.010131346061825752, -0.017414789646863937, -0.03226989507675171, 0.02619250677525997, 0.04875991493463516, 0.040969301015138626, 0.009718778543174267, 0.01114678755402565, 0.045319221913814545, 0.0008076467784121633, -0.05189207196235657, -0.0771256536245346, 0.025472111999988556, 0.03792830929160118, -0.011851542629301548, 0.013877883553504944, -0.0239154864102602, -0.00359280314296484, 0.025340864434838295, 0.032834284007549286, 0.032741889357566833, -0.08772541582584381, -0.045627791434526443, 0.05671269819140434, 0.04485069215297699, -0.023808011785149574, 0.01056303083896637, 0.0015185310039669275, -0.061430394649505615, 0.05518588423728943, 0.10765544325113297, 0.00923352874815464, 0.028055638074874878, -0.03856430947780609, -0.025211704894900322, 0.06778039783239365, -0.0001272247900487855, 0.006783515680581331, -0.019460003823041916, 0.00879476498812437, 0.09504354000091553, 0.053864914923906326, -0.05130024999380112, -0.006494447588920593, -0.03096853382885456, 0.05737374350428581, 0.02001759223639965, 0.0422355979681015, -0.020613208413124084, -0.0940120667219162, -0.05473530665040016, -0.00958542712032795, -0.0005456939688883722, 0.07876184582710266, 0.008638622239232063, -0.06319877505302429, -0.02023150771856308, -0.02270025946199894, -0.0028032283298671246, -0.03642658144235611, -0.06756041198968887, -0.008642539381980896, -0.033206794410943985, 0.04250974580645561, 0.061192017048597336, -0.05754081532359123, -0.022667882964015007, -0.026484137400984764, 0.03174816444516182, 0.009815224446356297, -0.06675957143306732, 0.00780765013769269, -0.04469078779220581, 0.0535290502011776, -0.011288395151495934, 0.028351176530122757, -0.033050768077373505, 0.007533762603998184]}, page_content='Kode Rekening: kode_rekening    4.3.1.5.1\\nkode_rekening    4.3.1.5.1\\nName: 698, dtype: object\\nNama Rekening: Sumbangan Pihak Ketiga/Sejenis\\nPendapatan: 0.0\\nRealisasi: 0.0\\nPersentase: 0.0'),\n",
              " Document(metadata={'kode_rekening': {'kode_rekening': '4.2.1.1.3.7'}, 'nama_rekening': 'DAK Fisik-Bidang Pendidikan-Afirmasi-SD', 'embedding': [0.030779022723436356, 0.013607924804091454, -0.03100356087088585, 0.013789762742817402, 0.06328951567411423, 0.04677533730864525, 0.022987501695752144, -0.06480535864830017, -0.010793077759444714, 0.031310051679611206, -0.031154382973909378, 0.010103454813361168, -0.045386746525764465, -0.009134724736213684, -0.03566185384988785, -0.011237765662372112, 0.008008009754121304, -0.03603443130850792, -0.01104461494833231, -0.05351346731185913, 0.002302898094058037, -0.00582874845713377, -0.03155170753598213, 0.01273365132510662, 0.026128416880965233, -0.006548234261572361, -0.007403318304568529, -0.03387399762868881, -0.03933854028582573, -0.005882312078028917, -0.05879022926092148, 0.018830806016921997, -0.03134315833449364, -0.0011662724427878857, -0.021936830133199692, -0.05885998532176018, -0.0021432333160191774, 0.003930836450308561, 0.03818143531680107, 0.056103192269802094, -0.0013391630491241813, 0.01409134827554226, 0.00994847808033228, -0.039206866174936295, 0.016060171648859978, -0.020146595314145088, 0.01946793682873249, 0.03685883805155754, 0.023624362424016, -0.05110581964254379, -0.007764255627989769, 0.012079358100891113, 0.04595403000712395, -0.0024113126564770937, -0.01717170514166355, -0.07527349889278412, -0.020165255293250084, 0.013740102760493755, -0.010571835562586784, -0.03880523145198822, 0.002928764559328556, 0.0023418981581926346, -0.014167801477015018, 0.09074347466230392, -0.002556346822530031, -0.0588659830391407, -0.04252128303050995, -0.001759285107254982, 0.048782214522361755, -0.021714046597480774, 0.03009544499218464, 0.015156140550971031, 0.055994048714637756, -0.013476604595780373, -0.021108420565724373, -0.05618995428085327, -0.03253478184342384, 0.007295085117220879, 0.043579913675785065, 0.025278698652982712, 0.015672113746404648, -0.05919008329510689, -0.01713663525879383, -0.03418535739183426, -0.028857942670583725, 0.07673008739948273, -0.0375763401389122, -0.0010505480458959937, -0.02285706251859665, 0.05104617029428482, -0.017361441627144814, -0.022209390997886658, 0.0197377298027277, -0.07516998797655106, -0.0015184162184596062, 0.0671861469745636, -0.030806366354227066, -0.03380472958087921, -0.00788866262882948, -0.03286752104759216, -0.01923389360308647, -0.05141094699501991, -0.020522842183709145, -0.047161612659692764, 0.0026972186751663685, 0.028566597029566765, -0.013414842076599598, 0.03424147143959999, -0.054796408861875534, 0.022221431136131287, -0.03723839297890663, -0.027029043063521385, -0.019748259335756302, -0.014412125572562218, 0.06031625345349312, -0.01582660898566246, -0.015339137054979801, 0.05594278872013092, 0.021960249170660973, -0.001590590924024582, 0.04191840812563896, 0.02201378159224987, 0.019400635734200478, -0.009333706460893154, 0.004797922447323799, -0.005819080397486687, -0.06512010842561722, -0.010130463168025017, 0.029037490487098694, 0.0924263447523117, -0.0022079995833337307, -0.02977638691663742, 0.007835261523723602, -0.0076632811687886715, 0.028886783868074417, 0.05625598132610321, 0.027425698935985565, 0.010116200894117355, 0.034101665019989014, 0.028837837278842926, -0.018392547965049744, 0.008284552954137325, 0.008528952486813068, 0.007833058945834637, 0.0033482005819678307, 0.04289346560835838, 0.017709260806441307, 0.018243009224534035, 0.0871722400188446, -0.023182740435004234, -0.026973150670528412, -0.07105271518230438, -0.062457069754600525, 0.01173488236963749, 0.05783617123961449, 0.05601409450173378, 0.0056075225584208965, 0.013452944345772266, 0.050477925688028336, 0.05445602163672447, 0.034827832132577896, 0.02372622676193714, -0.0533604621887207, -0.002547603566199541, -0.009813308715820312, -0.029229141771793365, 0.022970041260123253, 0.015026477165520191, 0.019152726978063583, -0.04149875044822693, 0.001167189795523882, 0.0020279635209590197, -0.04037029296159744, -0.04576125368475914, -0.025001078844070435, -0.07046432793140411, -0.01439023856073618, -0.0044264355674386024, -0.019360356032848358, 0.042247384786605835, -0.03809705749154091, -0.02312503010034561, 0.03805753216147423, -0.0023156602401286364, 0.024792123585939407, -0.01256202720105648, 0.06621426343917847, -0.021941794082522392, -0.023225270211696625, -0.053147632628679276, -0.04024287313222885, -0.027953047305345535, -0.019402189180254936, -0.01647503487765789, -0.03120933286845684, 0.027934951707720757, 0.00023246572527568787, 0.054252348840236664, 0.007418967317789793, -0.025506772100925446, -0.044612377882003784, 0.02127872221171856, -0.01357478927820921, -0.014337929897010326, 0.05472340062260628, -0.045650262385606766, 0.02976326458156109, -0.0008199741714634001, -0.026754414662718773, 0.0668191909790039, -0.009329058229923248, -0.002911465475335717, -0.014991380274295807, -0.022842982783913612, 0.052481766790151596, 0.028462709859013557, -0.03633749857544899, 0.009444254450500011, -0.004201694391667843, -0.03684931993484497, -0.006325046066194773, -0.008518229238688946, -0.013572265394032001, 0.02836097963154316, -0.004115030635148287, 0.01891251653432846, 0.03493068367242813, 0.044130586087703705, -0.014059360139071941, -0.039837226271629333, -0.015642184764146805, 0.08795300871133804, 0.03643600270152092, -0.03056221641600132, 0.07000400871038437, 0.006397570949047804, 0.026368003338575363, 0.01582125946879387, -0.014831000007689, 0.014905803836882114, -0.04247071593999863, 0.03803617134690285, 0.027066882699728012, 0.043935708701610565, -0.02527061477303505, -0.0056098634377121925, 0.028436999768018723, 0.060427162796258926, -0.0025923852808773518, 0.08676008135080338, -0.00494017917662859, -0.044266071170568466, 0.021276291459798813, 0.020208658650517464, -0.05415524169802666, 0.017258109524846077, -0.033008038997650146, 0.049790315330028534, 0.028058668598532677, 0.011156289838254452, 0.0377957783639431, 0.015961790457367897, 0.01090510655194521, -0.021106140688061714, -0.012442906387150288, 0.0013153093168511987, 0.00505842175334692, -0.031013859435915947, -0.025405578315258026, 0.02172914892435074, -0.010992542840540409, -0.021029304713010788, 0.1267898976802826, 0.03189889341592789, 0.0043223644606769085, 0.03575873747467995, 0.004931675735861063, 0.053318608552217484, -0.010561970062553883, -0.053295206278562546, 0.027234090492129326, 0.013947682455182076, 0.024010859429836273, -0.03724980726838112, -0.010236307978630066, -0.022894946858286858, -0.04905266314744949, -0.0035979184322059155, 0.0031667775474488735, -0.07090725004673004, -0.03566534444689751, 0.010379092767834663, -0.030260970816016197, -0.03418244048953056, -0.06010805442929268, 0.013953416608273983, 0.018348542973399162, 0.009095380082726479, 0.003773951670154929, 0.00034376478288322687, -0.045304786413908005, -0.030300142243504524, -0.016902517527341843, -0.06567806750535965, 0.007203395012766123, 0.018418561667203903, 0.017491424456238747, -0.035994503647089005, 0.0023802206851541996, 0.05151567980647087, -0.020425843074917793, -0.056623876094818115, -0.019659951329231262, -0.022245950996875763, 0.053642310202121735, 0.04995908960700035, -0.014193320646882057, 0.013471671380102634, -0.01554891001433134, 0.07556325942277908, -0.02803974412381649, 0.02791803888976574, 0.052522581070661545, -0.013029076159000397, 0.038633331656455994, 0.013208304531872272, -0.009992045350372791, 0.02112574130296707, -0.010883406735956669, 0.004009639378637075, -0.0043729753233492374, -0.006373843643814325, -0.04723643139004707, 0.04400575906038284, 0.006531672552227974, 0.008842225186526775, -0.08211273699998856, 0.03990667313337326, -0.0027326627168804407, 0.005676449742168188, 0.08647464960813522, -0.00795536208897829, -0.047894854098558426, -0.016480742022395134, -0.026937851682305336, 0.010450098663568497, -0.016360241919755936, 0.009630142711102962, 0.08807062357664108, -0.005619995296001434, 0.016014236956834793, 0.06736570596694946, 0.0043591344729065895, 0.005794874858111143, -0.028859635815024376, -0.025552766397595406, 0.0850457027554512, 0.004584696143865585, 0.016661260277032852, -0.019456619396805763, -0.049764372408390045, 0.03687470778822899, -0.01580982841551304, 0.02310829609632492, -0.007786390371620655, -0.03352838382124901, -0.00847714301198721, 0.010376515798270702, -0.0051928614266216755, 0.054261546581983566, 0.02974759414792061, -0.027593614533543587, 0.010682443156838417, 0.00024742152891121805, -0.027457650750875473, -0.03815180063247681, -0.0034582652151584625, -0.018496198579669, 0.025696728378534317, 0.041280947625637054, 0.023789286613464355, 0.0025760612916201353, 0.04399339109659195, 0.007805450353771448, 0.008876274339854717, -0.030161142349243164, 0.07187758386135101, 0.037459541112184525, -0.007574968971312046, 0.0525239035487175, -0.0621943473815918, 0.008636647835373878, 0.046185269951820374, 0.038274627178907394, -0.0034025986678898335, 0.015303273685276508, -0.08508993685245514, 0.001916574314236641, 0.043617237359285355, -0.030834287405014038, -0.02657664753496647, -0.025459738448262215, -0.00403411453589797, -0.042691249400377274, 0.004855147562921047, -0.021907707676291466, 0.008011321537196636, -0.028363939374685287, -0.02745184861123562, -0.049109384417533875, -0.03670387715101242, 0.024182971566915512, -0.006917101331055164, -0.09003202617168427, -0.01131446287035942, -0.027783256024122238, 0.008293977938592434, 0.027092119678854942, 0.021549293771386147, 0.052916016429662704, -0.0291154645383358, -0.004628777038305998, -0.05285409465432167, -0.032402556389570236, -0.03231906145811081, -0.03001653403043747, -0.004310153890401125, -0.023140020668506622, -0.018336651846766472, -0.010072755627334118, 0.03493259474635124, -0.05492868646979332, 0.02364497259259224, -0.03479482978582382, 0.010983041487634182, -0.08574099838733673, -0.009380511939525604, 0.01715172454714775, 0.014872968196868896, -0.04709729552268982, 0.0545133501291275, -0.028980471193790436, 0.021202195435762405, 0.0411933958530426, 0.00023434706963598728, -0.023187177255749702, 0.02162652462720871, -0.06297366321086884, 0.019788473844528198, -0.052949558943510056, 0.004670876543968916, -0.015718543902039528, -0.036989785730838776, -0.02738349139690399, -0.022676454856991768, -0.038666825741529465, -0.045534588396549225, 0.014438707381486893, 0.005484631285071373, 0.04187954217195511, -0.07700037211179733, -0.04219304770231247, -0.013294648379087448, -0.031065020710229874, -0.013176201842725277, -0.001603122684173286, -0.0235604215413332, -0.026053667068481445, 0.08579928427934647, 0.05419252812862396, 0.028097791597247124, -0.016097236424684525, 0.046767015010118484, 0.021480310708284378, -0.03165300190448761, -0.006525253877043724, -0.07708274573087692, 0.018491702154278755, -0.012078380212187767, 0.0011613769456744194, -0.013813710771501064, -0.065455362200737, 0.0600505955517292, -0.012061230838298798, -0.0006305516581051052, -0.00648600934073329, 0.008479694835841656, -0.023996775969862938, 0.03892204910516739, 0.022797267884016037, -0.0004979733494110405, 0.011124574579298496, 5.0623140850802884e-05, -0.059735629707574844, -0.0182387325912714, 0.03946416825056076, -0.062029879540205, 0.02310246415436268, -0.007148756645619869, 0.04730274900794029, -0.00996821466833353, 0.012691568583250046, -0.00599709153175354, -0.005577836651355028, 0.035462185740470886, -0.057538170367479324, 0.006359842140227556, 0.02023467607796192, 0.022015145048499107, -0.001470500836148858, 0.023891616612672806, 0.010734234005212784, 0.006793305743485689, -0.02277017943561077, 0.049226827919483185, -0.040649477392435074, -0.004316351842135191, 0.04061972722411156, -0.022105442360043526, -0.036845557391643524, 0.03793838247656822, -0.002016649581491947, -0.04524869844317436, 0.000627861125394702, 0.06941454112529755, -0.06357546150684357, 0.022948168218135834, 0.01923704333603382, -0.06561075150966644, -0.012370193377137184, 0.009484663605690002, 0.05328648164868355, -0.07775752246379852, -0.0022655895445495844, 0.006992440205067396, 0.005423132795840502, -0.0019854234997183084, 0.06333750486373901, 0.04000655561685562, -0.005525465123355389, 0.008999585174024105, 0.017042094841599464, 0.008570792153477669, 0.020895102992653847, -0.005317526403814554, -0.011674048379063606, 0.010341505520045757, -0.10142208635807037, 0.020692255347967148, -0.0002401230449322611, -0.033766161650419235, -0.005218992941081524, 0.025054825469851494, -0.0671723335981369, 0.020920200273394585, -0.03906989097595215, -0.04575258120894432, -0.005491562187671661, 0.0398230254650116, 0.00015854956291150302, -0.06750461459159851, 0.04688262194395065, -0.023686973378062248, -0.013474608771502972, 0.07960214465856552, 0.056318577378988266, -0.0376758873462677, -0.049467314034700394, 0.06607093662023544, 0.011860881000757217, 0.00027572442195378244, 0.01265192124992609, -0.06207192689180374, -0.010672354139387608, 0.06444458663463593, -0.0296237263828516, -0.06752166897058487, 0.01848955824971199, -0.004574762191623449, -0.013569248840212822, 0.014952448196709156, -0.045152321457862854, -0.007020702585577965, 0.006757254246622324, -0.019118255004286766, 0.04668013006448746, 0.04230533912777901, -0.005665471311658621, 0.040626589208841324, -0.008516072295606136, -0.06676394492387772, 0.06458301842212677, -0.050343114882707596, -0.058067917823791504, 0.018142253160476685, 0.014642219059169292, -0.012256735004484653, -0.0015487130731344223, -0.015780115500092506, -0.02641947753727436, 0.011638764292001724, -0.014886677265167236, 0.03554193302989006, -0.005777325015515089, 0.0571461096405983, 0.03647402673959732, -0.03429758548736572, 0.008173666894435883, -0.0305947195738554, 0.0004565487033687532, -0.0008098761318251491, 0.004291070159524679, -0.003645258257165551, 0.016739962622523308, 0.002133565256372094, -0.050456464290618896, 0.02416468970477581, 0.023812541738152504, -0.05593661591410637, -0.06310831010341644, -0.017043909057974815, -0.008581546135246754, -0.01344368141144514, -0.0029701755847781897, 0.032171159982681274, -0.029645627364516258, -0.028346890583634377, -0.03026633895933628, 0.07198552042245865, 0.03450910747051239, 0.014512673020362854, 0.04687286913394928, -0.022925129160284996, -0.018076976761221886, -0.02542703039944172, -0.005714470986276865, -0.04838445782661438, -0.029440507292747498, 0.028744833543896675, -0.005794792901724577, -0.050963182002305984, 0.00040627102134749293, -0.005234376061707735, 0.016645630821585655, -0.02380228228867054, 0.07641936093568802, 0.0509478822350502, -0.0661960020661354, -0.09077893942594528, -0.010465624742209911, -0.01827438734471798, 0.03153688833117485, 0.015293591655790806, -0.01748805120587349, 0.01496276818215847, 0.007064111065119505, -0.02408614754676819, -0.03534548357129097, 0.056646641343832016, -0.027968762442469597, -0.04115348309278488, 0.03594816476106644, 0.013808313757181168, 0.00977094005793333, 0.027532072737812996, -0.029603805392980576, -0.02564270980656147, -0.07168342918157578, -0.004956163465976715, 0.06500738114118576, -0.06180388480424881, 0.06464826315641403, -0.0050424509681761265, -0.04386785998940468, 0.018575357273221016, 0.024945193901658058, -0.00548965111374855, 0.014421895146369934, 0.0019674322102218866, 0.03351835161447525, -0.005918056704103947, -0.01578454114496708, -0.03184227645397186, 0.017373396083712578, -0.030626313760876656, 0.038697607815265656, -0.0428980253636837, 0.01841515675187111, -0.06025627627968788, -0.045329499989748, -0.010689806193113327, -0.01668163575232029, -0.04610835760831833, 0.0264393612742424, 0.049595464020967484, 0.04734087735414505, 0.007979761809110641, 0.030625388026237488, 0.04909244924783707, -0.004354438744485378, -0.03217088803648949, -0.07308942824602127, 0.015102575533092022, 0.02839079685509205, -0.007008273620158434, 0.004557494074106216, -0.022636407986283302, -0.005234616808593273, 0.0320558063685894, 0.02763376198709011, 0.03601154312491417, -0.10272011905908585, -0.05146590247750282, 0.045376215130090714, 0.028668368235230446, -0.03811562433838844, 0.024389445781707764, 0.03313795477151871, -0.07307203114032745, 0.05641026049852371, 0.10810811817646027, 0.010985402390360832, 0.047726452350616455, -0.0377797931432724, -0.029773889109492302, 0.08794217556715012, -0.010324251838028431, 0.005540229380130768, -0.028175782412290573, 0.00808072742074728, 0.08884750306606293, 0.049129873514175415, -0.04710576683282852, 0.003139413893222809, -0.04566938057541847, 0.06326708197593689, 0.023494599387049675, 0.036084942519664764, -0.029530109837651253, -0.08898349106311798, -0.06806495785713196, 0.006044079549610615, 0.03191528841853142, 0.06631342321634293, 0.006012496072798967, -0.06006065383553505, -0.021806005388498306, -0.016457226127386093, -0.010354384779930115, -0.048822179436683655, -0.05729863792657852, 0.00041699266876094043, -0.009149827994406223, 0.03602240979671478, 0.06519715487957001, -0.04599413275718689, -0.02439288981258869, -0.02574663609266281, 0.017041197046637535, 0.019195785745978355, -0.06340447068214417, 0.019930658861994743, -0.03767642378807068, 0.029073435813188553, -0.020044509321451187, 0.026105910539627075, -0.018397340551018715, 0.0058571165427565575]}, page_content='Kode Rekening: kode_rekening    4.2.1.1.3.7\\nkode_rekening    4.2.1.1.3.7\\nName: 595, dtype: object\\nNama Rekening: DAK Fisik-Bidang Pendidikan-Afirmasi-SD\\nPendapatan: 0.0\\nRealisasi: 0.0\\nPersentase: 0.0'),\n",
              " Document(metadata={'kode_rekening': {'kode_rekening': '4.3.1.1.1.1'}, 'nama_rekening': 'Pendapatan Hibah dari Pemerintah Pusat', 'embedding': [0.01985393650829792, 0.000820812419988215, -0.04874936491250992, 0.004755277186632156, 0.09085404872894287, 0.030824897810816765, 0.04183749482035637, -0.052280716598033905, -0.0069447909481823444, 0.02841315045952797, -0.022910427302122116, -0.003993733320385218, -0.05143390968441963, -0.03368078172206879, -0.02233814261853695, 0.000358990189852193, -0.001468949718400836, -0.03746507316827774, -0.006752264220267534, -0.056404851377010345, -0.04230319708585739, -0.003640313632786274, -0.015241025947034359, 0.027227725833654404, 0.03277391567826271, 0.0028358062263578176, -0.02172943577170372, -0.02856791578233242, -0.04032042250037193, 0.007230827119201422, -0.04274066165089607, 0.03497385233640671, -0.02753320522606373, 0.002625887282192707, -0.02591572143137455, -0.03561956435441971, -0.0032693606335669756, -0.012666250579059124, 0.025902103632688522, 0.07439840584993362, 0.012557439506053925, 0.005914685316383839, -0.0003830005007330328, -0.0236757081001997, 0.02679220400750637, -0.031074082478880882, 0.008124087937176228, -0.007559994235634804, 0.03748500719666481, -0.04943066090345383, 0.026861626654863358, 0.011932111345231533, 0.06170352175831795, -0.006593619007617235, -0.045759234577417374, -0.08745409548282623, -0.0030740334186702967, -0.006888668518513441, 0.0003229861904401332, -0.022533979266881943, -0.016653118655085564, 0.017566516995429993, 0.00026463111862540245, 0.05922337993979454, -0.026634255424141884, -0.07204905152320862, -0.013593891635537148, 0.0036501246504485607, 0.06331593543291092, -0.025354914367198944, 0.04376450553536415, -0.012303916737437248, 0.05132615193724632, -0.0027766020502895117, -0.0609997883439064, -0.06790944933891296, -0.028273139148950577, 0.004627988673746586, 0.035080187022686005, 0.03787964954972267, -0.0043612029403448105, -0.07633747160434723, -0.022044967859983444, -0.013394754379987717, -0.031568847596645355, 0.06568281352519989, -0.06089645251631737, -0.0008800898212939501, -0.024432193487882614, 0.05448765307664871, -0.0014113376382738352, -0.003984426148235798, 0.006304701324552298, -0.07508477568626404, 0.019974425435066223, 0.07083866000175476, -0.004848831798881292, -0.028401637449860573, -0.011073489673435688, -0.057470012456178665, -0.024619804695248604, -0.044366974383592606, -0.019210873171687126, -0.036753442138433456, -0.004126703832298517, 0.03731074556708336, 0.015287434682250023, 0.03212298825383186, -0.05215400829911232, 0.007927728816866875, -0.043692536652088165, -0.027048591524362564, 0.01906205713748932, -0.0009476583800278604, 0.04940393194556236, -0.00540897436439991, -0.019209671765565872, 0.059207186102867126, 0.0011327319080010056, 0.007690745871514082, 0.05343029648065567, 0.01216469332575798, 0.018107164651155472, 0.003121251706033945, 0.023704690858721733, -0.0003553292481228709, -0.06942249834537506, -0.018212437629699707, 0.0529920756816864, 0.09644842892885208, 0.029081245884299278, -0.02625860832631588, 0.019736532121896744, -0.012970675714313984, 0.04040314629673958, 0.013257148675620556, 0.009544740431010723, 0.029349030926823616, 0.045745328068733215, -0.006919729523360729, -0.023259174078702927, 0.02072001062333584, 0.010221843607723713, 0.027396252378821373, 0.0006781669799238443, 0.04098208248615265, 0.022420387715101242, 0.0005725611699745059, 0.08286997675895691, -0.028841035440564156, -0.04106878116726875, -0.04623957350850105, -0.06856752932071686, 0.007269198074936867, 0.08478488773107529, 0.04310576245188713, 0.01833774335682392, 0.0037461889442056417, 0.024097949266433716, 0.060550518333911896, 0.04314135015010834, 0.01568383350968361, -0.026268906891345978, -0.008870554156601429, -0.00868304818868637, -0.08295872062444687, 0.010207719169557095, 0.006554390303790569, 0.028301019221544266, -0.05000866577029228, 0.011609677225351334, 0.004946333821862936, -0.05362006276845932, -0.04586677998304367, -0.023337962105870247, -0.07194700837135315, -0.0073040444403886795, -0.018393004313111305, -0.002143559977412224, 0.03156513720750809, -0.05044769123196602, -0.02071639709174633, 0.04142250120639801, 0.01095473114401102, 0.04135449603199959, 0.013166714459657669, 0.04984552785754204, -0.015789290890097618, -0.014026247896254063, -0.07148993760347366, -0.025322120636701584, -0.03132180869579315, -0.009669274091720581, -0.013389460742473602, -0.03857937455177307, 0.0111671919003129, -0.0035187616012990475, 0.04402374476194382, -0.024230949580669403, -0.03181951120495796, -0.01424738485366106, 0.017740419134497643, 0.008538659662008286, -0.017555134370923042, 0.05172233656048775, -0.0078109148889780045, 0.05509352684020996, -0.0023695409763604403, -0.008525846526026726, 0.045109380036592484, -0.02160896174609661, -0.017879705876111984, -0.020593658089637756, -0.026094751432538033, 0.06366823613643646, 0.022310886532068253, -0.025895381346344948, 0.006099764257669449, -0.01830798201262951, -0.030981246381998062, -0.03483942151069641, -0.029142005369067192, -0.014762730337679386, 0.02655930072069168, -0.0075700790621340275, 0.00198573456145823, 0.051977526396512985, 0.020618971437215805, -0.02126222290098667, -0.035219814628362656, -0.006389221642166376, 0.09139671176671982, 0.027607999742031097, -0.033212143927812576, 0.08327840268611908, 0.0013661450939252973, 0.0010527048725634813, 0.026689542457461357, -9.589725232217461e-05, 0.0318034403026104, -0.028877871111035347, 0.01659669168293476, 0.041222140192985535, 0.024307776242494583, -0.05896756052970886, -0.021415608003735542, 0.0252253245562315, 0.057826921343803406, 0.0012177913449704647, 0.07591444253921509, -0.04609407112002373, -0.03688914328813553, 0.006074235774576664, 0.017521299421787262, -0.03185909986495972, 0.03361522778868675, -0.041402820497751236, 0.047067347913980484, 0.041760943830013275, -0.00412417110055685, 0.0398639477789402, -0.0008059858228079975, 0.0172144565731287, -0.011764605529606342, 0.003436047350987792, 0.015531571581959724, 0.03319679573178291, -0.022819893434643745, -0.013184953480958939, 0.015218221582472324, 0.006547188386321068, -0.01854456216096878, 0.09975913912057877, 0.031518589705228806, 0.001199056045152247, 0.05533863976597786, -0.01835334300994873, 0.05011776462197304, -0.02458706870675087, -0.044421274214982986, 0.02853272296488285, 0.028581121936440468, 0.019507797434926033, -0.04418554529547691, -0.013093075715005398, -0.011065512895584106, -0.05849604308605194, 0.016286300495266914, 0.026473743841052055, -0.06674586981534958, -0.03540690243244171, -0.01906127668917179, -0.017571546137332916, -0.043370239436626434, -0.04677204787731171, 0.011471711099147797, -0.017666898667812347, -0.0034290135372430086, -0.005310934502631426, -0.01437964104115963, -0.023504061624407768, -0.01036197692155838, -0.03305323049426079, -0.07347137480974197, 0.013325159437954426, 0.029050050303339958, -0.012308163568377495, -0.03313574567437172, -0.006440876051783562, 0.0467606820166111, -0.014078555628657341, -0.07098336517810822, -0.03019706718623638, -0.035070568323135376, 0.058316417038440704, 0.03770377114415169, -0.006269807927310467, -0.010574986226856709, -0.027088021859526634, 0.08231766521930695, -0.022061852738261223, 0.014331623911857605, 0.03998724743723869, -0.0022454652935266495, 0.025908123701810837, 0.03774343430995941, -0.024015100672841072, 0.037996482104063034, 0.0012336120707914233, 0.012912510894238949, 0.01023200061172247, 0.005157936830073595, -0.030794544145464897, 0.06831293553113937, 0.008914307691156864, 0.01091136783361435, -0.10059358924627304, 0.033190805464982986, -0.022156057879328728, 0.00406668521463871, 0.05338054895401001, 0.020948195829987526, -0.04698857665061951, -0.019413042813539505, -0.025791365653276443, 0.013536241836845875, -0.01502709649503231, 0.009721042588353157, 0.09412267804145813, 0.00893605686724186, 0.015384586527943611, 0.06259785592556, -0.0006895978003740311, 0.01752351224422455, -0.004547745920717716, -0.023874884471297264, 0.08074644207954407, -0.003138829953968525, 0.010504456236958504, -0.005001099314540625, -0.034367065876722336, 0.05331845209002495, -0.01608389988541603, 0.0026178001426160336, -0.012730224058032036, -0.02375069446861744, -0.013979786075651646, 0.01737699843943119, -0.01030341163277626, 0.029857119545340538, 0.013618449680507183, -0.04270932078361511, -0.009952760301530361, -0.014233045279979706, -0.013709667138755322, -0.04279344156384468, -0.013852108269929886, -0.04001837968826294, 0.012903220020234585, 0.026442889124155045, 0.014348950237035751, -0.005394799634814262, 0.03199591115117073, 0.008403941988945007, 0.001222729915753007, -0.044107723981142044, 0.08030731230974197, 0.04119798168540001, -0.00454397639259696, 0.0430821068584919, -0.03198356181383133, 0.0055889105424284935, 0.03150290623307228, 0.0241690706461668, -0.02116040512919426, 0.030626855790615082, -0.05504358187317848, -0.012657476589083672, 0.015347370877861977, -0.02724916860461235, -0.036750808358192444, -0.022868186235427856, 0.018944157287478447, -0.052754078060388565, -0.017508413642644882, -0.015932634472846985, 0.005538098514080048, -0.03585786372423172, -0.020051782950758934, -0.0473000705242157, -0.023563260212540627, 0.019140824675559998, 0.018001817166805267, -0.09394580870866776, -0.03303857147693634, -0.04675479978322983, -0.0011986617464572191, 0.0047499691136181355, -0.01281087938696146, 0.04929140955209732, -0.03834935277700424, -0.016069676727056503, -0.04337630420923233, -0.05629931762814522, -0.06730678677558899, -0.024437911808490753, -0.0144274290651083, -0.022053485736250877, -0.0005193455726839602, 0.006112135946750641, 0.005392201244831085, -0.06234843283891678, 0.02111879363656044, -0.014837776310741901, -0.025264862924814224, -0.09871707111597061, 0.004419047851115465, 0.004465251695364714, 0.021023504436016083, -0.03666440770030022, 0.03906363993883133, -0.04384429380297661, 0.01039994414895773, 0.03261987492442131, 0.008743793703615665, -0.039646636694669724, 0.02255105972290039, -0.06415607780218124, 0.025055984035134315, -0.037643518298864365, 0.0051583037711679935, -0.007294547278434038, -0.042589038610458374, -0.008796445094048977, -0.0128174452111125, -0.05364232510328293, -0.04855312034487724, 0.0372760146856308, 0.01723513752222061, 0.044070545583963394, -0.0667332112789154, -0.07595406472682953, -0.005615898407995701, -0.04638585075736046, 0.006742671597748995, -8.564435120206326e-05, -0.020244920626282692, -0.016209691762924194, 0.07553388178348541, 0.05160323157906532, 0.0149307232350111, -0.008415057323873043, 0.014356465078890324, 0.003864072961732745, -0.02292129211127758, -0.0036277994513511658, -0.06963137537240982, 0.022262435406446457, 0.00926655437797308, -0.04007146134972572, -0.01943686045706272, -0.05493589863181114, 0.04172605276107788, -0.02952330745756626, -0.0055531952530145645, -0.0035687582567334175, -0.0020804062951356173, -0.025778383016586304, 0.04994071274995804, 0.029379356652498245, 0.00036743516102433205, -4.303336754674092e-05, -0.02575448900461197, -0.07849793881177902, -0.012774568051099777, 0.00508026871830225, -0.07291583716869354, 0.010442070662975311, -0.004733309615403414, 0.029149318113923073, -0.002609297866001725, 0.014333424158394337, 0.014338201843202114, -0.015626437962055206, 0.03831109777092934, -0.07202127575874329, -0.005467262119054794, 0.007015572395175695, 0.029975831508636475, -0.01099065225571394, 0.0012738009681925178, 0.021366003900766373, 0.0036830496974289417, -0.025836249813437462, 0.04506092891097069, -0.024854140356183052, -0.020303020253777504, 0.049571674317121506, -0.028100011870265007, -0.027403878048062325, 0.05314071103930473, -3.2823769288370386e-05, -0.05383983999490738, -0.020228248089551926, 0.08882450312376022, -0.03900193050503731, 0.020630905404686928, 0.025656959041953087, -0.05437750369310379, 0.009913267567753792, -0.0016629595775157213, 0.0482739619910717, -0.06996607035398483, -0.012323382310569286, 0.04106868430972099, 0.01710968278348446, 0.007140131667256355, 0.0694749653339386, 0.0374426506459713, -0.018423059955239296, 0.012499861419200897, 0.018634380772709846, 0.002575031016021967, 0.035562776029109955, 0.01213971059769392, -0.011142524890601635, 0.014551384374499321, -0.1113952249288559, 0.010798412375152111, 0.01356178242713213, -0.03798611834645271, 0.015350956469774246, 0.03664600849151611, -0.0652080699801445, 0.016070030629634857, -0.03301265463232994, -0.05220109596848488, -0.0015029195928946137, 0.020885860547423363, -0.021672235801815987, -0.05006061866879463, 0.030682314187288284, -0.02940274029970169, 0.0010071699507534504, 0.05848480388522148, 0.05296711623668671, -0.01643986813724041, -0.022354764863848686, 0.0638035386800766, 0.019347362220287323, -0.003848859341815114, -0.0017455396009609103, -0.04777182266116142, -0.013411366380751133, 0.03670336678624153, -0.049480877816677094, -0.03421127796173096, 0.01622810959815979, -0.015964161604642868, -0.03858832269906998, 0.02314860001206398, -0.04029196500778198, -0.011819317936897278, -0.00453013414517045, -0.014948006719350815, 0.042952027171850204, 0.06439667195081711, 0.023660505190491676, 0.03510299324989319, -0.013582132756710052, -0.053803421556949615, 0.061665065586566925, -0.06381968408823013, -0.04979753494262695, -0.016784783452749252, 0.00687974551692605, -0.033857833594083786, -0.013634948059916496, -0.008775871247053146, -0.013791505247354507, 0.006393905263394117, -0.011799179948866367, 0.04628012329339981, -0.02819150499999523, 0.049489304423332214, 0.01736626774072647, -0.022278742864727974, 0.019260989502072334, -0.0034157747868448496, 0.00652765017002821, 0.013444306328892708, -0.0056031495332717896, 0.029460567981004715, -0.0075941309332847595, 0.031562626361846924, -0.04905625432729721, 0.031738460063934326, 0.009039760567247868, -0.07542934268712997, -0.052667561918497086, -0.013542982749640942, -0.005431387107819319, -0.011528152972459793, -0.03170613572001457, 0.01627490110695362, -0.021653709933161736, -0.0100863603875041, -0.026772737503051758, 0.04407811164855957, 0.028711846098303795, 0.047113705426454544, 0.05113009735941887, -0.027565384283661842, 0.012123825959861279, -0.016690362244844437, 0.016492826864123344, -0.04675605893135071, -0.03817038983106613, 0.04489073157310486, 0.03214004635810852, -0.0641191303730011, 0.0002212387917097658, -0.008589875884354115, -0.009054687805473804, -0.033849120140075684, 0.06946392357349396, 0.031065290793776512, -0.08021306991577148, -0.07196229696273804, -0.007086173631250858, 4.442245335667394e-05, 0.022488461807370186, 0.035852085798978806, -0.0016769621288403869, 0.014730251394212246, -0.027296017855405807, -0.03216172009706497, -0.045309074223041534, 0.06262361258268356, -0.017507484182715416, -0.03214132413268089, 0.019964227452874184, 0.0022152827586978674, -0.0004827000666409731, 0.014921855181455612, -0.04368001967668533, -0.03671639412641525, -0.068974569439888, -0.04678481072187424, 0.06083516404032707, -0.04048515483736992, 0.0664362758398056, -0.02453373186290264, -0.021030966192483902, 0.04097621515393257, 0.041410356760025024, 0.0009412250365130603, 0.0056436858139932156, -0.01685425266623497, 0.018711289390921593, 0.021386394277215004, -0.029203269630670547, -0.051422301679849625, 0.045748841017484665, -0.026500802487134933, 0.03637233376502991, -0.01081794686615467, 0.011910020373761654, -0.04182182997465134, -0.03444640710949898, -0.0059679108671844006, -0.02633672021329403, -0.025389645248651505, 0.0195088442414999, 0.04836178198456764, 0.047113388776779175, -0.004032561555504799, 0.021439366042613983, 0.03524690493941307, -0.0016498082550242543, -0.03310176730155945, -0.07996717095375061, 0.02942053973674774, 0.03586767986416817, -0.012345400638878345, -0.0019934275187551975, -0.01639167033135891, -0.005550887435674667, 0.020153744146227837, 0.030583133921027184, 0.048837121576070786, -0.07235869020223618, -0.040089964866638184, 0.046503424644470215, 0.01860148087143898, -0.025760285556316376, 0.005295834969729185, 0.004797755740582943, -0.06533323973417282, 0.05447704344987869, 0.10509399324655533, -0.004472557920962572, 0.0224024448543787, -0.030768996104598045, -0.038591574877500534, 0.06279092282056808, 0.0029093357734382153, 0.0002279283944517374, -0.025170013308525085, 0.012601060792803764, 0.0822066143155098, 0.07623479515314102, -0.04310242086648941, 0.0033595680724829435, -0.03568524122238159, 0.06416765600442886, 0.029390675947070122, 0.052102893590927124, -0.02529396302998066, -0.0830366462469101, -0.05402284860610962, 0.00018104854098055512, 0.009473121725022793, 0.05974907428026199, -0.0055204955860972404, -0.06255345791578293, -0.01225247886031866, -0.029689615592360497, -0.033959850668907166, -0.05806543678045273, -0.06298809498548508, 0.0021791320759803057, -0.019914355129003525, 0.046642202883958817, 0.06769786030054092, -0.050473399460315704, -0.028432583436369896, -0.034469328820705414, 0.01895366981625557, 0.00809531845152378, -0.05345051735639572, 0.031052235513925552, -0.03325758874416351, 0.0505712665617466, 0.0030714566819369793, 0.03578551858663559, -0.02740495093166828, 0.005967247299849987]}, page_content='Kode Rekening: kode_rekening    4.3.1.1.1.1\\nkode_rekening    4.3.1.1.1.1\\nName: 681, dtype: object\\nNama Rekening: Pendapatan Hibah dari Pemerintah Pusat\\nPendapatan: 0.0\\nRealisasi: 0.0\\nPersentase: 0.0'),\n",
              " Document(metadata={'kode_rekening': {'kode_rekening': '4.1.4.2.2.15'}, 'nama_rekening': 'Hasil Selisih Lebih Tukar Menukar Alat Keselamatan Kerja', 'embedding': [0.02031118795275688, -0.017385685816407204, -0.039527878165245056, -0.002623130800202489, 0.04871625080704689, 0.04621603712439537, 0.02235988713800907, -0.057964909821748734, -0.014553927816450596, 0.025645103305578232, -0.016686078161001205, 0.004617241211235523, -0.03677084296941757, -0.03687984123826027, -0.014913852326571941, -0.025861850008368492, 0.026508815586566925, -0.02530466951429844, -0.02094011940062046, -0.047498494386672974, -0.03397422283887863, 0.010379724204540253, -0.029930518940091133, 0.011300931684672832, 0.02019396238029003, -0.011821714229881763, -0.01970297284424305, -0.03268847241997719, -0.04903866723179817, 0.0006807195022702217, -0.047224011272192, 0.03613445535302162, -0.052953314036130905, -0.000835095823276788, -0.04254540428519249, -0.0420251227915287, -0.007312483619898558, -0.005810525733977556, 0.02816411480307579, 0.05448796972632408, 0.014258503913879395, -0.00779217854142189, 0.025025147944688797, -0.03930140286684036, 0.024923043325543404, -0.03941056504845619, 0.011224931105971336, 0.004023409448564053, 0.01832810416817665, -0.04648759588599205, 0.0037403597962111235, 0.02134985662996769, 0.056292831897735596, -0.017788544297218323, -0.03660645708441734, -0.07935193181037903, -0.019694162532687187, 0.0012534373672679067, 0.0033332875464111567, -0.01780688762664795, -0.04317406564950943, 0.016186825931072235, -0.005901553202420473, 0.06076841428875923, -0.015238023363053799, -0.06004070118069649, -0.03881377354264259, -0.004643335938453674, 0.07116406410932541, -0.014735999517142773, 0.01981331780552864, -0.0037119691260159016, 0.05281800404191017, -0.005932449363172054, -0.04604732617735863, -0.09656760841608047, -0.019890625029802322, 0.019401246681809425, 0.048410773277282715, 0.038974031805992126, 0.017371559515595436, -0.0699489414691925, -0.007465665228664875, -0.03259129449725151, -0.031850237399339676, 0.0542987696826458, -0.03991877660155296, 0.006696498487144709, -0.03135285899043083, 0.06334862858057022, 0.001174255507066846, -0.034944284707307816, 0.006237829104065895, -0.08020728826522827, 0.025006642565131187, 0.06374423950910568, -0.015142152085900307, -0.03219539299607277, -0.007972396910190582, -0.05300264433026314, -0.0065139406360685825, -0.07279834151268005, -0.02849111706018448, -0.04443073272705078, -0.009904605336487293, 0.03324247896671295, -0.01670997403562069, 0.03986780717968941, -0.03308793902397156, 0.004851489793509245, -0.03967661410570145, -0.032564934343099594, -0.004336560610681772, 0.008265703916549683, 0.04280145838856697, -0.026869982481002808, -0.0013160944217815995, 0.05240596830844879, -0.007464328780770302, 0.01153573952615261, 0.034397371113300323, 0.03425173461437225, 0.011758770793676376, -0.0033108380157500505, -0.004429264459758997, -0.008431848138570786, -0.0395023413002491, -0.013357358053326607, 0.04180147498846054, 0.07937295734882355, 0.017575442790985107, -0.01487918384373188, 0.020596768707036972, -0.0012817088281735778, 0.03638966381549835, 0.04215556010603905, 0.033613063395023346, 0.020224252715706825, 0.039056118577718735, 0.040511664003133774, -0.035170964896678925, 0.02924192138016224, -0.015119895339012146, 0.02476135641336441, -0.027413319796323776, 0.05442171171307564, 0.04104640707373619, 0.02215094305574894, 0.07460452616214752, -0.035699374973773956, -0.030918188393115997, -0.014523169957101345, -0.08628813922405243, 0.009311186149716377, 0.056398507207632065, 0.04201837256550789, 0.0101154875010252, 0.005304430611431599, 0.02792779728770256, 0.07881493866443634, 0.051579903811216354, 0.022734513506293297, -0.03459286689758301, -0.009048637002706528, -0.01715417392551899, -0.05954883247613907, -0.002026873640716076, 0.011214567348361015, 0.019207896664738655, -0.04228474572300911, 0.016787031665444374, 0.033464465290308, -0.057341791689395905, -0.04464646801352501, -0.01835743524134159, -0.07084417343139648, -0.017341740429401398, -0.001041630981490016, -0.032915495336055756, 0.02177358604967594, -0.03270813822746277, -0.02554962784051895, 0.04462587460875511, 0.014516172930598259, 0.029621180146932602, -0.014719810336828232, 0.04532801732420921, -0.04191904515028, -0.02650311589241028, -0.06299080699682236, -0.030131815001368523, -0.03913116827607155, -0.015383332967758179, -0.000984169659204781, -0.03814011067152023, 0.01794135943055153, -0.007291752845048904, 0.04950325936079025, -0.009334797039628029, -0.01931423880159855, -0.02530059590935707, 0.01051283534616232, 0.017267806455492973, 0.0075513687916100025, 0.07466989010572433, -0.024881387129426003, 0.045304249972105026, -0.0021993659902364016, -0.03278291970491409, 0.05941084027290344, -0.02421754039824009, -0.009233036078512669, -0.024507466703653336, -0.012493178248405457, 0.049329858273267746, 0.03191348910331726, -0.02445894666016102, -0.008686483837664127, -0.010530045256018639, -0.05238749831914902, -0.028299976140260696, -0.02639422006905079, -0.028210988268256187, 0.015927035361528397, -0.01569712907075882, 0.01261609885841608, 0.06115405261516571, 0.04403430595993996, -0.0005565801984630525, -0.03687726706266403, 0.007321356330066919, 0.07843077182769775, 0.03646945580840111, -0.018104471266269684, 0.07578811049461365, -4.8428519221488386e-05, 0.02223336324095726, 0.009164735674858093, -0.002966014202684164, 0.0338079109787941, -0.016391338780522346, 0.017217902466654778, 0.04471184313297272, 0.04341873899102211, -0.04917309805750847, -0.01844729855656624, 0.018376097083091736, 0.06733768433332443, -0.010725118219852448, 0.07657723873853683, -0.011956240050494671, -0.041052378714084625, 0.018219448626041412, 0.0012426547473296523, -0.021280936896800995, 0.01566058024764061, -0.035710886120796204, 0.05481475964188576, 0.02600446529686451, 0.009534253738820553, 0.038283366709947586, -0.009146245196461678, 0.01477040071040392, -0.0016040452755987644, -0.009542678482830524, -0.0011573326773941517, 0.0245222020894289, -0.022094709798693657, -0.03020191192626953, 0.021026691421866417, -0.011776112020015717, -0.04272365942597389, 0.12025797367095947, 0.03667592257261276, -0.0068794735707342625, 0.03683260828256607, -0.013851217925548553, 0.051444441080093384, -0.014616863802075386, -0.0534009151160717, 0.016950353980064392, 0.0289999358355999, 0.029661444947123528, -0.027890102937817574, -0.027490928769111633, -0.03062642179429531, -0.05647028982639313, 0.0039170305244624615, 0.003104658331722021, -0.05356272682547569, -0.048374854028224945, 0.0023276114370673895, -0.029309656471014023, -0.053902383893728256, -0.06369587779045105, -0.01691272296011448, -0.00288984808139503, 0.016871871426701546, -0.004085456486791372, -0.016996050253510475, -0.01160139124840498, -0.027397233992815018, -0.03885993734002113, -0.08391144871711731, 0.02443935163319111, 0.001262668170966208, -0.0028143790550529957, -0.033710628747940063, -0.006831676233559847, 0.052392955869436264, -0.008921964094042778, -0.05814741924405098, -0.020472507923841476, -0.02179211936891079, 0.06055544316768646, 0.044821597635746, -0.024032555520534515, -0.011290878988802433, -0.04234526306390762, 0.07644239068031311, -0.037893012166023254, 0.03265804052352905, 0.030236802995204926, -0.020331379026174545, 0.011790093034505844, 0.035350251942873, -0.01763465628027916, 0.02462092787027359, 0.006473552901297808, 0.02846394293010235, 0.0034518614411354065, 0.02433248981833458, -0.05088285729289055, 0.05473029613494873, 0.007564807776361704, 0.02083555795252323, -0.08539246022701263, 0.026952335610985756, -0.020064277574419975, -0.00473059294745326, 0.08650412410497665, 0.01490562129765749, -0.0205583143979311, -0.02496957778930664, -0.0128769027069211, 0.001337760710157454, -0.043597012758255005, 0.012952999211847782, 0.1034487634897232, 0.0019382527098059654, 0.04053172469139099, 0.052209433168172836, -0.0009920577285811305, -0.003662843257188797, -0.015055274590849876, -0.01821356825530529, 0.06075910106301308, 0.0035675254184752703, 0.012598755769431591, -0.010998716577887535, -0.033188026398420334, 0.02862190455198288, -0.009017345495522022, 0.025295665487647057, -0.01323577482253313, -0.027166513726115227, -0.01643148623406887, 0.018627215176820755, 0.017428427934646606, 0.041988492012023926, 0.012429112568497658, -0.03211043030023575, -0.007997785694897175, 0.009916850365698338, -0.03536933660507202, -0.05559952184557915, -0.037326596677303314, -0.01912841387093067, 0.033060744404792786, 0.03852406516671181, 0.012176165357232094, 0.005933274049311876, 0.0316305086016655, -0.0001629311009310186, 0.011274714022874832, -0.04534284025430679, 0.08087094128131866, 0.047261178493499756, -0.00408839201554656, 0.04820743948221207, -0.06211072579026222, -0.0025010588578879833, 0.026892589405179024, 0.032981447875499725, -0.007636431138962507, 0.01723930612206459, -0.057284656912088394, -0.0017126350430771708, 0.04221157357096672, -0.04283665865659714, -0.023568689823150635, -0.012803157791495323, 0.016797257587313652, -0.061607711017131805, 0.006215955596417189, -0.024365436285734177, -0.004159608855843544, -0.03779653459787369, -0.03812092915177345, -0.04063683748245239, -0.019330807030200958, 0.021111903712153435, 0.00792589969933033, -0.10554950684309006, -0.019101988524198532, -0.03271452337503433, 0.007406396791338921, 0.008545382879674435, 0.002789118094369769, 0.040653906762599945, -0.028418615460395813, -0.022716598585247993, -0.03696262091398239, -0.05590309575200081, -0.04340732470154762, -0.032720696181058884, -0.01794438622891903, -0.016547778621315956, -0.011716881766915321, 0.01204923540353775, 0.002494243672117591, -0.049741748720407486, 0.029563358053565025, -0.023349793627858162, -0.013698791153728962, -0.07388851791620255, -0.014634937047958374, 0.021383250132203102, 0.01079375296831131, -0.036791931837797165, 0.04039660468697548, -0.03569997847080231, 0.03050653263926506, 0.018579086288809776, 0.021662535145878792, -0.0215956661850214, 0.0226470734924078, -0.05636654421687126, 0.0220290869474411, -0.050281960517168045, 0.013730037026107311, -0.01557902805507183, -0.04890952631831169, -0.015122826211154461, -0.0015201492933556437, -0.04426951706409454, -0.020143361762166023, 0.025836477056145668, -0.004752533510327339, 0.03621514514088631, -0.067079097032547, -0.06748270243406296, -0.011171909980475903, -0.052939288318157196, 0.006974861491471529, 0.005157007835805416, 0.01017702091485262, -0.01930610090494156, 0.05203397572040558, 0.06878611445426941, 0.025556763634085655, -0.014495192095637321, 0.048260413110256195, 0.010794253088533878, -0.002834424376487732, -0.0036560972221195698, -0.08517149090766907, 0.02864866703748703, -0.00587450573220849, -0.029511388391256332, -0.018650328740477562, -0.05123753845691681, 0.04746187850832939, -0.00514350738376379, -0.013266041874885559, 0.008693397045135498, 0.0063637332059443, -0.033845093101263046, 0.04805837199091911, 0.01717694103717804, 0.006286873482167721, 0.007874676957726479, -0.014289267361164093, -0.08393135666847229, -0.021836794912815094, 0.01798708550632, -0.0704587921500206, 0.02180556394159794, -0.0080563360825181, 0.01742216758430004, -0.010354175232350826, 0.010773598216474056, 0.004096076358109713, -0.01927088387310505, 0.04049336537718773, -0.048275429755449295, 0.01227547787129879, -0.005689230747520924, 0.022678488865494728, -0.0013268979964777827, 0.014253967441618443, 0.028984159231185913, -0.011413161642849445, -0.02923085168004036, 0.03217974305152893, -0.018286874517798424, -0.011685634963214397, 0.04237852990627289, -0.044012051075696945, -0.03646973520517349, 0.06677006185054779, -0.022153886035084724, -0.07262741029262543, -0.015730928629636765, 0.06237747520208359, -0.0629362165927887, 0.027046790346503258, 0.03158407285809517, -0.05413488298654556, 0.0077086579985916615, -0.004637939389795065, 0.04620611295104027, -0.06402236968278885, -0.002418933901935816, -0.005904002580791712, 0.03043726086616516, -0.001532351248897612, 0.06076626107096672, 0.04054969549179077, -0.005999203771352768, 0.015250454656779766, 0.005192833486944437, 0.015599630773067474, 0.022548140957951546, 0.009473072364926338, -0.002346304478123784, 0.021165059879422188, -0.10302336513996124, 0.022183813154697418, 0.012238859198987484, -0.038318488746881485, 0.013424068689346313, 0.0058512636460363865, -0.06851150095462799, 0.0325312465429306, -0.03723719343543053, -0.060824453830718994, 0.023064864799380302, 0.015715882182121277, -0.025032900273799896, -0.0557701513171196, 0.04624972864985466, -0.008774429559707642, -0.0018052217783406377, 0.08442369103431702, 0.052582476288080215, -0.013287944719195366, -0.0386010967195034, 0.05545509606599808, 0.009434602223336697, 0.0016277917893603444, -0.00908457301557064, -0.04928014427423477, -0.017760243266820908, 0.04208184406161308, -0.03957362845540047, -0.04512574151158333, 0.029147831723093987, -0.021598678082227707, -0.03024308569729328, 0.037424154579639435, -0.050107769668102264, 0.0038586913142353296, 0.0014551125932484865, -0.00752160744741559, 0.026543864980340004, 0.05692003667354584, 0.004012771882116795, 0.05121440440416336, -0.021404167637228966, -0.07223629951477051, 0.06370239704847336, -0.034151237457990646, -0.034256067126989365, -0.009484616108238697, 0.022604528814554214, -0.03265416994690895, -0.02613685093820095, -0.008888298645615578, -0.026901239529252052, 0.018376322463154793, 0.010940958745777607, 0.05180463194847107, -0.012996054254472256, 0.033494580537080765, 0.020835217088460922, -0.024327492341399193, 0.010016667656600475, 0.020930679515004158, -0.009217612445354462, -0.001156531274318695, 0.01656934805214405, 0.013465521857142448, 0.007674514316022396, 0.009873784147202969, -0.04309110343456268, 0.022110922262072563, 0.01802222989499569, -0.062490351498126984, -0.05139268934726715, 0.0017306874506175518, -0.012147334404289722, -0.010861349292099476, -0.006913885474205017, 0.013549805618822575, -0.013522972352802753, -0.023814594373106956, -0.022160585969686508, 0.057486969977617264, 0.017328228801488876, 0.029010938480496407, 0.0667823851108551, -0.005914521869271994, -0.007853689603507519, 0.0005050459876656532, 0.01710435561835766, -0.0229195449501276, -0.01351112313568592, 0.026957333087921143, -0.0014473460614681244, -0.064130999147892, 0.0049413698725402355, -0.005713334307074547, -0.018251290544867516, -0.02800489030778408, 0.0558389313519001, 0.04407970979809761, -0.06592024862766266, -0.09319271147251129, -0.005152306519448757, -0.009455941617488861, 0.03346863016486168, 0.04294509068131447, 0.0033377385698258877, 0.020182816311717033, -0.011237841099500656, -0.01844102144241333, -0.029013749212026596, 0.07298072427511215, 0.00997885875403881, -0.04212237894535065, 0.0495951883494854, -0.0005567752523347735, 0.024530688300728798, 0.019788475707173347, -0.025375347584486008, -0.031115643680095673, -0.05624120309948921, -0.02312322147190571, 0.07137859612703323, -0.046602558344602585, 0.05578659102320671, -0.013835701160132885, -0.0284767746925354, 0.025146150961518288, 0.041363444179296494, 0.013605952262878418, 0.03591607138514519, 0.004499504808336496, 0.029617801308631897, 0.0030492383521050215, -0.05483925715088844, -0.055780064314603806, 0.044416382908821106, -0.02265341207385063, 0.00851940643042326, -0.03900643065571785, -0.00033924420131370425, -0.03690330311655998, -0.05542595684528351, -0.006714807357639074, -0.019894257187843323, -0.03902415558695793, 0.017212098464369774, 0.060336679220199585, 0.038600705564022064, 0.011217216961085796, 0.03318028524518013, 0.048546966165304184, -0.012226290069520473, -0.04156344011425972, -0.06555885076522827, 0.04557707905769348, 0.012360522523522377, -0.010582178831100464, 0.011777873151004314, -0.008605764247477055, -0.01485398132354021, 0.04263982176780701, 0.04257761687040329, 0.04097529128193855, -0.0973358154296875, -0.05108869448304176, 0.05845881998538971, 0.027759622782468796, -0.02041374146938324, 0.014974575489759445, -0.001169084571301937, -0.06840965896844864, 0.06450463086366653, 0.08713315427303314, -0.01658446341753006, 0.031077096238732338, -0.03801325336098671, -0.01984843797981739, 0.07277385890483856, 0.004870047327131033, 0.004831067286431789, -0.012370326556265354, -0.009620132856070995, 0.07052277028560638, 0.030587516725063324, -0.05846607685089111, -0.0023179303389042616, -0.05038043484091759, 0.05444689467549324, 0.020652340725064278, 0.06735311448574066, -0.0209618229418993, -0.09751713275909424, -0.036127809435129166, -0.019720029085874557, 0.015583502128720284, 0.0702502578496933, 0.02756556309759617, -0.04728718847036362, -0.02890652045607567, -0.026342980563640594, -0.011384989134967327, -0.030370136722922325, -0.06893620640039444, -0.015857867896556854, -0.022362392395734787, 0.034926339983940125, 0.08879312127828598, -0.042778294533491135, -0.021996546536684036, -0.02455729804933071, 0.02458098717033863, 0.02594110742211342, -0.0609859973192215, 0.003258060896769166, -0.04431193694472313, 0.028957877308130264, 0.0012921264860779047, 0.035212624818086624, -0.023655971512198448, 0.02476448006927967]}, page_content='Kode Rekening: kode_rekening    4.1.4.2.2.15\\nkode_rekening    4.1.4.2.2.15\\nName: 388, dtype: object\\nNama Rekening: Hasil Selisih Lebih Tukar Menukar Alat Keselamatan Kerja\\nPendapatan: 0.0\\nRealisasi: 0.0\\nPersentase: 0.0'),\n",
              " Document(metadata={'kode_rekening': {'kode_rekening': '4.2.1.1.3.8'}, 'nama_rekening': 'DAK Fisik-Bidang Pendidikan-Afirmasi-SMP', 'embedding': [0.028051508590579033, 0.004398283548653126, -0.03469052538275719, 0.020673662424087524, 0.06693339347839355, 0.04633405804634094, 0.015896517783403397, -0.06426748633384705, -0.008810712955892086, 0.030678702518343925, -0.03210360184311867, 0.0126650370657444, -0.030920017510652542, -0.014263026416301727, -0.03980432078242302, -0.013943902216851711, 0.014332047663629055, -0.04110564664006233, -0.007562105543911457, -0.06508040428161621, -0.008964144624769688, -0.007726019248366356, -0.034176893532276154, 0.0174983199685812, 0.02729247696697712, -0.0021073329262435436, -0.008909117430448532, -0.04556220769882202, -0.046605780720710754, -0.007480899803340435, -0.06382031738758087, 0.022547535598278046, -0.02948104962706566, -0.000982606434263289, -0.018253007903695107, -0.048699963837862015, -0.006823032628744841, 0.005860535893589258, 0.036170341074466705, 0.04879668727517128, 0.004538787063211203, 0.014590578153729439, 0.005884446203708649, -0.03286708891391754, 0.01572251506149769, -0.020545894280076027, 0.01910267025232315, 0.040386755019426346, 0.01773306354880333, -0.049135711044073105, -0.003962299320846796, 0.017380880191922188, 0.04074544832110405, -0.004214983433485031, -0.016506632789969444, -0.07557770609855652, -0.02379162609577179, 0.021814342588186264, -0.013458619825541973, -0.032201360911130905, -0.0017561428248882294, 0.00999018270522356, -0.01046052947640419, 0.09213753044605255, -0.005011896137148142, -0.06330542266368866, -0.03797239065170288, -0.005953952204436064, 0.05058936029672623, -0.024454390630126, 0.029432890936732292, 0.017248988151550293, 0.05705046281218529, -0.014129279181361198, -0.0186909306794405, -0.059438422322273254, -0.020804205909371376, 0.012442701496183872, 0.042799971997737885, 0.029623638838529587, 0.011337539181113243, -0.06333267688751221, -0.018374022096395493, -0.0352502204477787, -0.03584622964262962, 0.07403962314128876, -0.04078768566250801, -0.004194724839180708, -0.025844385847449303, 0.051974646747112274, -0.014988092705607414, -0.034004997462034225, 0.02417837642133236, -0.07874429225921631, 0.0025709953624755144, 0.06535247713327408, -0.022336263209581375, -0.02226017788052559, -0.007596493232995272, -0.041195303201675415, -0.008062399923801422, -0.05839231610298157, -0.02194354496896267, -0.04318216070532799, 0.0005722626228816807, 0.03442450985312462, -0.014385480433702469, 0.039959777146577835, -0.057232294231653214, 0.020606830716133118, -0.032569337636232376, -0.02318924479186535, -0.015516377054154873, -0.015866875648498535, 0.06375030428171158, -0.013304016552865505, -0.02460084855556488, 0.06118697300553322, 0.018226923421025276, 0.001225024345330894, 0.04129704087972641, 0.02235778607428074, 0.02497282437980175, -0.003222324652597308, 0.0060214390978217125, -0.003235036740079522, -0.06444669514894485, -0.013921410776674747, 0.033394262194633484, 0.08959252387285233, -0.0024711794685572386, -0.02860443666577339, 0.017983706668019295, -0.005603868048638105, 0.034780777990818024, 0.051652416586875916, 0.035815197974443436, 0.008119049482047558, 0.03515296429395676, 0.026890799403190613, -0.021142467856407166, 0.006156372372061014, 0.016713926568627357, 0.006595643237233162, -0.0002900299150496721, 0.041631970554590225, 0.013328570872545242, 0.014411848969757557, 0.0873522087931633, -0.022995423525571823, -0.021915504708886147, -0.0696418508887291, -0.05359075218439102, 0.005572782829403877, 0.06274623423814774, 0.052936162799596786, 0.00677838921546936, 0.014161167666316032, 0.048535335808992386, 0.05482886731624603, 0.050376638770103455, 0.02594919502735138, -0.05766690894961357, -0.0069009773433208466, -0.004480625968426466, -0.023175232112407684, 0.022237738594412804, 0.009957467205822468, 0.014448922127485275, -0.03848746046423912, -0.0006836208631284535, 0.007613572292029858, -0.05062565207481384, -0.04914450645446777, -0.023980842903256416, -0.06447650492191315, -0.011100889183580875, -0.006086119916290045, -0.0174457598477602, 0.04369502142071724, -0.03851471468806267, -0.02317323535680771, 0.04317078739404678, -0.0006206622929312289, 0.03009970672428608, -0.024821344763040543, 0.06315448135137558, -0.014572695828974247, -0.018200267106294632, -0.057589586824178696, -0.03406475484371185, -0.028065547347068787, -0.02415810339152813, -0.017686372622847557, -0.04023895412683487, 0.0215607900172472, -0.00805746577680111, 0.05175412446260452, 0.007813485339283943, -0.023920368403196335, -0.04290454834699631, 0.016833700239658356, -0.009465649724006653, -0.011148794554173946, 0.05499232932925224, -0.0440380722284317, 0.03981275111436844, -0.004208592232316732, -0.0321400947868824, 0.06481067836284637, -0.01859600469470024, -0.00025787248159758747, -0.01866620033979416, -0.01732298545539379, 0.05345272645354271, 0.028743578121066093, -0.034071192145347595, 0.016689643263816833, -0.012432713061571121, -0.038927797228097916, -0.005002164281904697, -0.016019733622670174, -0.009951685555279255, 0.025420282036066055, 0.0029221298173069954, 0.012747799046337605, 0.04142596200108528, 0.039243683218955994, -0.009592832997441292, -0.037389125674963, -0.017813850194215775, 0.08788678050041199, 0.03152726590633392, -0.039893750101327896, 0.06564994156360626, 0.006637574173510075, 0.023667942732572556, 0.014111068099737167, -0.008002984337508678, 0.025708500295877457, -0.039448827505111694, 0.040816109627485275, 0.03334939852356911, 0.0367758572101593, -0.01789987087249756, -0.0127872908487916, 0.03385728970170021, 0.051980242133140564, -0.006648140959441662, 0.07917538285255432, -0.0068463715724647045, -0.04948359727859497, 0.015410281717777252, 0.013047094456851482, -0.054553717374801636, 0.014780419878661633, -0.02731144055724144, 0.053161319345235825, 0.025820693001151085, 0.007055350113660097, 0.03417534381151199, 0.018408391624689102, 0.010091055184602737, -0.02077469602227211, -0.01422591507434845, -0.0026217582635581493, 0.008694103918969631, -0.026319680735468864, -0.02544621378183365, 0.01817229948937893, -0.014709417708218098, -0.025831978768110275, 0.12805964052677155, 0.03066285513341427, 0.004380041267722845, 0.03490917757153511, 0.0004489225393626839, 0.058129504323005676, -0.007978098466992378, -0.049576159566640854, 0.023487329483032227, 0.020571252331137657, 0.029759617522358894, -0.02872863970696926, -0.007561299949884415, -0.02832113578915596, -0.04351517930626869, 0.001589235500432551, 0.004674599040299654, -0.06696056574583054, -0.03241978958249092, 0.0010919944616034627, -0.03262560814619064, -0.0426657497882843, -0.056099921464920044, 0.013138629496097565, 0.014215880073606968, 0.011205297894775867, 0.010016554035246372, -0.007885257713496685, -0.04795452207326889, -0.03310443460941315, -0.018216317519545555, -0.06372731924057007, 0.010936356149613857, 0.015839988365769386, 0.01036255806684494, -0.033778127282857895, -0.006851063575595617, 0.051722362637519836, -0.02347516641020775, -0.06348273903131485, -0.02083073928952217, -0.016365429386496544, 0.05982031300663948, 0.050698138773441315, -0.01136695221066475, 0.013617663644254208, -0.029298389330506325, 0.07607244700193405, -0.026724671944975853, 0.028767656534910202, 0.05633244290947914, -0.015344398096203804, 0.038439374417066574, 0.011306798085570335, -0.009342954494059086, 0.03062138333916664, -0.010636559687554836, 0.011034036986529827, -0.005699283443391323, 0.0008985543972812593, -0.044856566935777664, 0.04186930134892464, 0.007809548173099756, 0.010049771517515182, -0.08693262189626694, 0.03133909031748772, -0.018184497952461243, 0.0027249245904386044, 0.08415412902832031, -0.0031642017420381308, -0.047813840210437775, -0.01928250677883625, -0.021302692592144012, 0.008852571249008179, -0.022506127133965492, 0.002304378431290388, 0.08927853405475616, -0.0090790418908, 0.024002185091376305, 0.06583639234304428, -0.0009396104142069817, 0.006433665286749601, -0.02039078064262867, -0.02194870449602604, 0.08081213384866714, 0.006370294373482466, 0.010181058198213577, -0.019075242802500725, -0.053490377962589264, 0.04418154060840607, -0.02115398831665516, 0.02168831042945385, -0.006953609641641378, -0.03654870018362999, -0.006238421890884638, 0.009890815243124962, -0.005112701561301947, 0.05553324893116951, 0.03184189274907112, -0.02750277891755104, 0.013573413714766502, 0.003526529995724559, -0.028070809319615364, -0.04553254693746567, -0.005823378451168537, -0.008236478082835674, 0.026908384636044502, 0.046832140535116196, 0.024457188323140144, 0.006952764466404915, 0.03742888197302818, 0.0035099517554044724, 0.0020493147894740105, -0.03286119922995567, 0.07073836773633957, 0.02883956767618656, -0.011311833746731281, 0.05936757102608681, -0.06396424025297165, 0.005989090073853731, 0.04824412614107132, 0.030785076320171356, -0.007358303759247065, 0.01369762048125267, -0.08489183336496353, 0.0012148519745096564, 0.04509714990854263, -0.025456301867961884, -0.022539671510457993, -0.023296339437365532, -0.002980440855026245, -0.048118919134140015, 0.0014581293798983097, -0.021372254937887192, 0.012133235111832619, -0.030371341854333878, -0.02864476852118969, -0.04774298518896103, -0.03192039951682091, 0.029055090621113777, 0.0025785337202250957, -0.08938396722078323, -0.012154451571404934, -0.029058629646897316, 0.010865388438105583, 0.021159451454877853, 0.023752160370349884, 0.04475276917219162, -0.030584735795855522, -0.007654271088540554, -0.048316601663827896, -0.03398402780294418, -0.04060549661517143, -0.0318567156791687, -0.0015574407298117876, -0.024983787909150124, -0.021265607327222824, -0.008394449949264526, 0.034102924168109894, -0.05770717188715935, 0.023394742980599403, -0.03182400017976761, 0.008561784401535988, -0.09120354056358337, -0.008081486448645592, 0.01291736401617527, 0.02001812681555748, -0.0422079972922802, 0.05457919090986252, -0.0331321619451046, 0.024665141478180885, 0.03251225873827934, 0.0004842066264245659, -0.01672930270433426, 0.022648924961686134, -0.05790127441287041, 0.01659945398569107, -0.050871387124061584, 0.009805613197386265, -0.015747811645269394, -0.038547124713659286, -0.025098329409956932, -0.02150334231555462, -0.0380009301006794, -0.04485342651605606, 0.01629643514752388, 0.0018468459602445364, 0.04932103306055069, -0.07829904556274414, -0.03853955119848251, -0.013435941189527512, -0.04512578248977661, -0.017773831263184547, -0.006766736041754484, -0.01882222853600979, -0.02374429441988468, 0.08581069856882095, 0.05312443524599075, 0.028695641085505486, -0.014459599740803242, 0.04846523329615593, 0.017482750117778778, -0.02762540616095066, -0.00648346496745944, -0.07425379753112793, 0.02063356712460518, -0.006074260920286179, 0.0025614569894969463, -0.01831231079995632, -0.06101137027144432, 0.0574566014111042, -0.016300110146403313, -0.003301515243947506, -0.0033464503940194845, 0.015540910884737968, -0.01496855542063713, 0.0403139628469944, 0.025125082582235336, 0.00205332157202065, 0.009642126969993114, -0.0037267005536705256, -0.06403898447751999, -0.011869198642671108, 0.03782058507204056, -0.06420548260211945, 0.022855130955576897, 0.00020345562370494008, 0.04626952111721039, -0.0018244836246594787, 0.014369815587997437, -0.006094965152442455, -0.011768501251935959, 0.041592519730329514, -0.063999243080616, 0.0009461351437494159, 0.02656862698495388, 0.018675532191991806, -0.007152284029871225, 0.01927066221833229, 0.023298881947994232, 0.013123871758580208, -0.027665797621011734, 0.04578568786382675, -0.031485360115766525, -0.011170717887580395, 0.0376514308154583, -0.014026638120412827, -0.04022545367479324, 0.04730435460805893, -0.005938138347119093, -0.051567453891038895, -0.0013960039941594005, 0.06466787308454514, -0.06714263558387756, 0.024464648216962814, 0.013534869998693466, -0.054456789046525955, -0.013247990980744362, 0.017302164807915688, 0.059357739984989166, -0.07276137173175812, -0.005211976356804371, 0.008561881259083748, 0.010642508044838905, -0.004382146056741476, 0.05460626631975174, 0.04885680228471756, -0.0033129407092928886, 0.00873621366918087, 0.022026576101779938, 0.006345436908304691, 0.02545812912285328, -0.00686776963993907, -0.005544951651245356, 0.014926505275070667, -0.09919209033250809, 0.016295278444886208, 0.003245757659897208, -0.03341476619243622, 0.0077093192376196384, 0.02387215755879879, -0.07062073051929474, 0.01818196289241314, -0.03223119676113129, -0.047358233481645584, -0.004076962359249592, 0.04172087833285332, -0.002848058706149459, -0.06021494045853615, 0.046218883246183395, -0.028273379430174828, -0.020517414435744286, 0.06905149668455124, 0.058105289936065674, -0.027667876332998276, -0.047077495604753494, 0.06270939111709595, 0.008319937624037266, 0.01269931998103857, 0.014926849864423275, -0.0656733289361, -0.022723279893398285, 0.0705297514796257, -0.025845035910606384, -0.0564037561416626, 0.02123899944126606, -0.0030711223371326923, -0.011701647192239761, 0.005266972351819277, -0.04757118970155716, -0.007992933504283428, 0.009450276382267475, -0.016996372491121292, 0.04190293326973915, 0.03938702866435051, -0.001381228561513126, 0.03795258700847626, -0.009073537774384022, -0.07468739151954651, 0.06752919405698776, -0.05252283439040184, -0.05347220227122307, 0.021214360371232033, 0.01578919216990471, 0.0046089100651443005, 0.004840387962758541, -0.01578795164823532, -0.02448345720767975, 0.013224807567894459, -0.01761874556541443, 0.02679174207150936, 0.0006975255091674626, 0.04718652740120888, 0.03723728284239769, -0.03518006578087807, 0.0035338622983545065, -0.032217979431152344, -0.0008197918068617582, 0.0010074852034449577, 0.006136048585176468, 0.0009348064777441323, 0.006246634293347597, 0.007967907004058361, -0.046957600861787796, 0.020180445164442062, 0.024783771485090256, -0.0584537647664547, -0.0582415871322155, -0.01278030313551426, -0.010751893743872643, -0.01650208979845047, -0.0035962529946118593, 0.03009391389787197, -0.035401102155447006, -0.03550882637500763, -0.02797267772257328, 0.06661134213209152, 0.029316669330000877, 0.01886221207678318, 0.053717199712991714, -0.030713889747858047, -0.010114605538547039, -0.033678919076919556, -0.004755969159305096, -0.04926443472504616, -0.03410449996590614, 0.030879970639944077, -0.004487286321818829, -0.04131890460848808, 0.0033819114323705435, 0.0024264405947178602, 0.01723010651767254, -0.019428374245762825, 0.0826730951666832, 0.0499984472990036, -0.062094371765851974, -0.09471391886472702, -0.00896303728222847, -0.019248561933636665, 0.03439559042453766, 0.01705910824239254, -0.01956033520400524, 0.016744039952754974, -2.427690924378112e-05, -0.021302899345755577, -0.026724545285105705, 0.06089283153414726, -0.019378459081053734, -0.040781255811452866, 0.04352587088942528, 0.014994718134403229, 0.002942601451650262, 0.02646630071103573, -0.03612729161977768, -0.024461058899760246, -0.07404840737581253, -0.009718123823404312, 0.07056589424610138, -0.05454101040959358, 0.07002943754196167, -0.0030517359264194965, -0.04665026068687439, 0.015303236432373524, 0.02785956859588623, -0.0074833473190665245, 0.0086994469165802, 0.0030763722024858, 0.030064305290579796, -0.007815084420144558, -0.01915571466088295, -0.028872907161712646, 0.021877378225326538, -0.031187674030661583, 0.039530184119939804, -0.048309292644262314, 0.019281236454844475, -0.05508826673030853, -0.038789302110672, -0.013546296395361423, -0.013881240971386433, -0.05030769109725952, 0.03230268880724907, 0.04253467172384262, 0.05130074918270111, 0.013561107218265533, 0.03051149472594261, 0.049919914454221725, 0.001345483586192131, -0.03272455930709839, -0.06391952931880951, 0.01969282329082489, 0.030410297214984894, 0.0015304286498576403, 0.008840668946504593, -0.017835814505815506, -0.007241265382617712, 0.04003327339887619, 0.03199998661875725, 0.03225143253803253, -0.10338125377893448, -0.043395914137363434, 0.04073742404580116, 0.03442802652716637, -0.03926587104797363, 0.017107391729950905, 0.03261060267686844, -0.07132730633020401, 0.05652309209108353, 0.10477001219987869, 0.014681221917271614, 0.04638975113630295, -0.03645157814025879, -0.028445962816476822, 0.0880289301276207, -0.01718851737678051, 0.009019836783409119, -0.027581138536334038, 0.006478691473603249, 0.08366766571998596, 0.04767533391714096, -0.045805539935827255, -0.0052833398804068565, -0.04180379956960678, 0.052485790103673935, 0.021456141024827957, 0.037303581833839417, -0.02702474780380726, -0.08994986861944199, -0.05947529897093773, 0.001145582995377481, 0.026203790679574013, 0.0647994875907898, 0.009294187650084496, -0.06301184743642807, -0.017695587128400803, -0.03041817434132099, -0.006810525897890329, -0.04416167363524437, -0.06263608485460281, 0.002565680770203471, -0.0122612826526165, 0.032180387526750565, 0.06438916176557541, -0.040229953825473785, -0.03133393079042435, -0.03173104673624039, 0.016521723940968513, 0.028714800253510475, -0.062169674783945084, 0.014205634593963623, -0.03739028424024582, 0.032835643738508224, -0.01685948669910431, 0.029474562034010887, -0.015044162981212139, 0.00895240530371666]}, page_content='Kode Rekening: kode_rekening    4.2.1.1.3.8\\nkode_rekening    4.2.1.1.3.8\\nName: 596, dtype: object\\nNama Rekening: DAK Fisik-Bidang Pendidikan-Afirmasi-SMP\\nPendapatan: 0.0\\nRealisasi: 0.0\\nPersentase: 0.0'),\n",
              " Document(metadata={'kode_rekening': {'kode_rekening': '4.1.4.19.1.1'}, 'nama_rekening': 'Pendapatan Hasil Pengelolaan Dana Bergulir', 'embedding': [0.02625788189470768, 0.002137944335117936, -0.031141549348831177, 0.02412407286465168, 0.0517873652279377, 0.031193973496556282, 0.0333663709461689, -0.04957684502005577, 0.007434905041009188, 0.036213118582963943, -0.0055660465732216835, 0.004659355618059635, -0.04868638888001442, -0.03023509867489338, -0.01686149276793003, -0.02986186370253563, 0.017490552738308907, -0.04460880160331726, -0.003775066463276744, -0.04411699250340462, -0.03306739404797554, -0.007683680858463049, -0.020525621250271797, 0.025769708678126335, 0.018596189096570015, -0.0014534426154568791, -0.00703995767980814, -0.029109446331858635, -0.02313867397606373, -0.007098251022398472, -0.04151022806763649, 0.028366921469569206, -0.047421690076589584, -0.001724405214190483, -0.008459609933197498, -0.043326135724782944, 0.004605666268616915, -0.012258990667760372, 0.02234812080860138, 0.05696452036499977, 0.0012656737817451358, -0.01216551847755909, 0.0090098287910223, -0.03585487976670265, 0.0019370190566405654, -0.03619302064180374, 0.023471519351005554, 0.005016473587602377, 0.014868997037410736, -0.029195381328463554, 5.984426024951972e-06, 0.0020280589815229177, 0.059877052903175354, -0.0070870728231966496, -0.021006323397159576, -0.08531461656093597, -0.012383757159113884, 0.007989264093339443, 0.0028676623478531837, -0.0017721100011840463, -0.014871751889586449, 0.0059840795584023, -0.00842037983238697, 0.08767488598823547, -0.014820761978626251, -0.044091615825891495, -0.019245384261012077, -0.023153534159064293, 0.0684131532907486, -0.0057474649511277676, 0.048077452927827835, -0.0019481241470202804, 0.08196742832660675, 0.008379209786653519, -0.055046822875738144, -0.09241426736116409, -0.020080825313925743, 0.02338777482509613, 0.04407235607504845, 0.04099871590733528, 0.02059224061667919, -0.08489183336496353, -0.01690896786749363, -0.045626744627952576, -0.019571274518966675, 0.08255457133054733, -0.03340074419975281, -0.008810367435216904, -0.020488634705543518, 0.040021251887083054, -0.028694380074739456, -0.002386251697316766, 0.008438894525170326, -0.06247195228934288, 0.03679918125271797, 0.0709669440984726, -0.026048067957162857, -0.04496041312813759, 0.0022069416008889675, -0.038564473390579224, -0.020342130213975906, -0.0424492210149765, -0.010700268670916557, -0.04689812660217285, -0.021815745159983635, 0.03036271594464779, -0.002567986026406288, 0.05788452923297882, -0.05723021551966667, 0.014709025621414185, -0.03610609471797943, -0.032105885446071625, 0.00968292634934187, 0.010419495403766632, 0.0492403507232666, -0.02640785463154316, -0.009418620727956295, 0.06828687340021133, -0.013792267069220543, 0.0055913738906383514, 0.02709401398897171, 0.014754161238670349, 0.003094932995736599, -0.008596094325184822, -0.0019007330993190408, -0.029333610087633133, -0.052953679114580154, -0.021260466426610947, 0.031201228499412537, 0.07364624738693237, 0.013930918648838997, -0.013664455153048038, 0.024179844185709953, 0.0030311245936900377, 0.023615309968590736, 0.05130907520651817, 0.026345644146203995, 0.02347533218562603, 0.04100106284022331, 0.03249073401093483, -0.018187185749411583, 0.023305729031562805, -0.019647780805826187, 0.014709549024701118, -0.014872530475258827, 0.04510987550020218, 0.03495541214942932, 0.018946032971143723, 0.06011492758989334, -0.009920698590576649, -0.033534031361341476, -0.005672612227499485, -0.0709407851099968, 0.010298782028257847, 0.07778403908014297, 0.0681418627500534, 0.0035760451573878527, 0.01642247475683689, 0.03617342561483383, 0.07709530740976334, 0.03503383323550224, 0.017237873747944832, -0.019441813230514526, -0.01743188127875328, -0.02156030386686325, -0.06423977017402649, 0.006847674492746592, 3.321192707517184e-05, 0.03097260184586048, -0.04293781891465187, 0.04894484579563141, 0.02283838577568531, -0.05898724123835564, -0.03769955039024353, -0.01015188917517662, -0.07214725017547607, 0.0007437986205331981, 0.0028601407539099455, -0.02564080059528351, 0.01355799101293087, -0.03821524605154991, -0.02105393074452877, 0.03683832660317421, -0.005497852340340614, 0.04379945620894432, -0.02798459120094776, 0.05129169672727585, -0.023621005937457085, -0.020876746624708176, -0.0632772296667099, -0.041508544236421585, -0.02864917181432247, -0.010372381657361984, -0.024427587166428566, -0.028622731566429138, 0.019339067861437798, -0.01244402676820755, 0.04524330794811249, 0.000367965258192271, -0.03082636557519436, -0.024418458342552185, 0.030665786936879158, 0.008091646246612072, 0.015059670433402061, 0.07016391307115555, -0.031014148145914078, 0.0533134788274765, -0.0032701778691262007, -0.0207624901086092, 0.04922064393758774, -0.01743987761437893, -0.003818337107077241, -0.029092146083712578, -0.007658408023416996, 0.039375219494104385, 0.0265487227588892, -0.01463019847869873, -0.0036475558299571276, 0.004694379400461912, -0.027025999501347542, -0.03275631368160248, -0.004293390084058046, -0.00834009237587452, 0.0294293574988842, -0.007315152790397406, 0.00232744961977005, 0.07814634591341019, 0.04431508481502533, -0.006296809297055006, -0.04629247263073921, -0.0032030409201979637, 0.10064360499382019, 0.027270324528217316, -0.013815288431942463, 0.08003000169992447, -0.014002605341374874, 0.020602110773324966, 0.012742691673338413, -0.015974676236510277, 0.009451222606003284, -0.02219614014029503, 0.021113768219947815, 0.04130041226744652, 0.033333905041217804, -0.05077563226222992, -0.013360779732465744, 0.01606760360300541, 0.0787959173321724, -0.010948487557470798, 0.0937701165676117, -0.037068746984004974, -0.05149228498339653, 0.01082057785242796, 0.038356881588697433, -0.01884906180202961, 0.02194952964782715, -0.029183415696024895, 0.052114732563495636, 0.035352304577827454, 0.004018294159322977, 0.04618924856185913, 0.01777569018304348, 0.02300216443836689, 0.011374234221875668, 0.00028937755268998444, 0.011356368660926819, 0.025490088388323784, -0.03282430022954941, -0.020492132753133774, 0.028889430686831474, -0.007697483990341425, -0.05331650748848915, 0.10279159247875214, 0.040468718856573105, -0.0033071900252252817, 0.05684830993413925, -0.012783840298652649, 0.05316576361656189, -0.01142141968011856, -0.04030083119869232, 0.030246557667851448, 0.02822813205420971, 0.02469428814947605, -0.028025886043906212, -0.013979131355881691, -0.028685273602604866, -0.05390946939587593, 0.00249182665720582, 0.00419868528842926, -0.059598494321107864, -0.034269969910383224, -0.0038178497925400734, -0.014433758333325386, -0.030621852725744247, -0.06327664852142334, 0.012635740451514721, 0.001825464772991836, 0.025073103606700897, -0.02878621593117714, -0.017199527472257614, -0.03396865725517273, -0.02548629231750965, -0.024105876684188843, -0.07909101247787476, 0.007049056701362133, 0.011762241832911968, -0.00559127377346158, -0.023688415065407753, 0.00873533170670271, 0.0566663034260273, -0.025618726387619972, -0.060205381363630295, -0.038913555443286896, -0.015424903482198715, 0.0618065781891346, 0.05151035264134407, -0.043151456862688065, -0.014609831385314465, -0.03441160172224045, 0.07282885909080505, -0.03863898292183876, 0.02962399646639824, 0.041841160506010056, -0.020338675007224083, 0.02088322676718235, 0.023768793791532516, -0.023789266124367714, 0.028801852837204933, -0.011403406038880348, 0.01016667578369379, 0.014234599657356739, -0.006861421279609203, -0.04817384108901024, 0.045676812529563904, 0.0017737451707944274, 0.039762064814567566, -0.101450115442276, 0.016141420230269432, -0.010538840666413307, 0.006557829678058624, 0.08890694379806519, 0.008976300247013569, -0.0400693379342556, -0.025073086842894554, -0.025046443566679955, 0.00859072431921959, -0.02595260925590992, 0.0036817737855017185, 0.08325032144784927, 0.009273266419768333, 0.02057574689388275, 0.05425906553864479, -0.009632399305701256, -0.0035493075847625732, -0.015668438747525215, -0.01919795759022236, 0.06348048150539398, 0.004772308748215437, -0.00796580221503973, -0.0022075301967561245, -0.047103267163038254, 0.03874778747558594, -0.012548302300274372, 0.01578327640891075, 0.006255431566387415, -0.034933555871248245, -0.015591015107929707, 0.02659561298787594, 0.0046845790930092335, 0.03617217019200325, 0.002910326234996319, -0.03426895663142204, 0.00399358756840229, 0.008818309754133224, -0.021876119077205658, -0.04316100478172302, -0.024348998442292213, -0.020056024193763733, 0.04009156674146652, 0.03392158821225166, 0.002480819122865796, -0.0073122247122228146, 0.04948889836668968, 0.01750585436820984, -0.0066039604134857655, -0.04737476631999016, 0.07386888563632965, 0.0665731206536293, -0.0024558710865676403, 0.04820733144879341, -0.0628819614648819, 0.017183322459459305, 0.05093785747885704, 0.03243192657828331, -0.0096892723813653, 0.005967278033494949, -0.06787451356649399, -0.0006684496183879673, 0.03277947008609772, -0.038319073617458344, -0.02911742962896824, -0.02984713949263096, 0.020342959091067314, -0.04790140688419342, -0.012827559374272823, -0.03172923997044563, -0.008515864610671997, -0.031480029225349426, -0.030123936012387276, -0.041274260729551315, -0.03413812816143036, 0.029454456642270088, 0.006307202856987715, -0.11388778686523438, -0.013063780032098293, -0.014921320602297783, 0.023736439645290375, 0.0222051739692688, 0.005854699295014143, 0.04326966777443886, -0.059988729655742645, -0.02379888854920864, -0.035402778536081314, -0.04773075506091118, -0.04415278136730194, -0.02225523628294468, -0.024423295632004738, -0.01180566381663084, -0.028044305741786957, 0.026071669533848763, 0.012850998900830746, -0.04016995057463646, 0.008494974114000797, -0.020922549068927765, -0.0015169759280979633, -0.07928682863712311, -0.012802407145500183, 0.025053713470697403, 0.029589848592877388, -0.057406846433877945, 0.03992427513003349, -0.034500572830438614, 0.021487532183527946, 0.03341295197606087, 0.015296446159482002, -0.02986529842019081, 0.02543221041560173, -0.0560385100543499, 0.029248367995023727, -0.035758186131715775, 0.004086686298251152, -0.01886948011815548, -0.04495559632778168, -0.026231737807393074, -0.020300304517149925, -0.05471789091825485, -0.03819074481725693, 0.019482843577861786, -0.0020292785484343767, 0.03840389847755432, -0.07872467488050461, -0.03894420713186264, 0.004978348035365343, -0.029193449765443802, -0.003232774091884494, -0.0005861288518644869, -0.007627670653164387, -0.01651226542890072, 0.05294620990753174, 0.07385977357625961, 0.01795627735555172, -0.029688306152820587, 0.033789005130529404, -0.00840543769299984, -0.006354291457682848, -0.010387922637164593, -0.07849355787038803, 0.038898907601833344, -0.0005993411177769303, -0.014399237930774689, -0.007251154165714979, -0.05149795487523079, 0.05404125154018402, -0.014306834898889065, -0.01909078285098076, 0.007800187915563583, 0.011950439773499966, -0.029550891369581223, 0.04321529343724251, 0.024079233407974243, 0.015288316644728184, 0.001765925670042634, 0.005904761608690023, -0.05754049867391586, -0.003408679272979498, 0.013828232884407043, -0.06587449461221695, 0.030202094465494156, -0.010549762286245823, 0.020028548315167427, -0.020320244133472443, 0.011257168836891651, 0.026085281744599342, -0.030924415215849876, 0.03171684592962265, -0.0546870231628418, 0.004949582740664482, 0.0025522918440401554, 0.014841379597783089, -0.016331378370523453, -0.0018440079875290394, 0.025204695761203766, -0.007592242211103439, -0.034028735011816025, 0.02868473157286644, -0.016866488382220268, -0.020413335412740707, 0.03835863620042801, -0.025151897221803665, -0.03654729574918747, 0.05617702752351761, -0.0129237724468112, -0.0488881953060627, -0.010830908082425594, 0.06230384111404419, -0.04514983668923378, 0.015898318961262703, 0.041423533111810684, -0.04310200363397598, -0.01048701349645853, -0.006334268022328615, 0.038121674209833145, -0.08071253448724747, 0.0028127916157245636, 0.008001776412129402, 0.019410714507102966, -0.011025488376617432, 0.0673879012465477, 0.034836556762456894, -0.009188614785671234, -0.0017862243112176657, 0.018560804426670074, 0.011667562648653984, 0.021114647388458252, 0.0014507152372971177, 0.011823157779872417, 0.015643777325749397, -0.10369064658880234, 0.0177303459495306, -0.0016244055004790425, -0.043766334652900696, 0.0009492376702837646, 0.026801932603120804, -0.06886953115463257, 0.033140093088150024, -0.03777974471449852, -0.054419174790382385, 0.029557041823863983, 0.02427295595407486, -0.01221224945038557, -0.07208821177482605, 0.05104045197367668, 1.8510421796236187e-05, -0.0018275970360264182, 0.08873919397592545, 0.059631023555994034, -0.018491270020604134, -0.040084946900606155, 0.06983102858066559, 0.01681218296289444, -0.0035485029220581055, 0.0005858648801222444, -0.03187112510204315, -0.022945236414670944, 0.04412025585770607, -0.02663268893957138, -0.061106353998184204, 0.025706356391310692, -0.017141828313469887, -0.03855256736278534, 0.029024099931120872, -0.031709492206573486, -2.162600139854476e-05, -0.001370798796415329, -0.022936059162020683, 0.04343493655323982, 0.043215878307819366, 0.012516314163804054, 0.04649434983730316, -0.006761253345757723, -0.05678381398320198, 0.07170932739973068, -0.040941525250673294, -0.03097439557313919, 0.005456328392028809, 0.03434275463223457, 0.0022796576377004385, -0.026581337675452232, -0.006518805865198374, -0.024080930277705193, -0.012112398631870747, 0.016499971970915794, 0.05638958886265755, -0.0342564582824707, 0.05044825002551079, 0.02082030475139618, -0.020488599315285683, 0.007415511179715395, 0.011428614147007465, -0.014182284474372864, 0.009502348490059376, -0.002508739475160837, 0.023031940683722496, 0.02083665318787098, 0.008325589820742607, -0.03876638785004616, 0.04139190912246704, 0.01818038523197174, -0.05397699400782585, -0.05482782796025276, -0.001965786563232541, -0.0033669325057417154, -0.011538750492036343, 0.0016004594508558512, 0.015131165273487568, -0.005388913210481405, -0.04362858831882477, -0.008965594694018364, 0.0704411193728447, 0.034007180482149124, 0.025173377245664597, 0.05252159386873245, -0.03565610572695732, -0.015446620061993599, -0.026087764650583267, -0.0021403972059488297, -0.03630652278661728, -0.0027092602103948593, 0.05008196458220482, 0.015040368773043156, -0.044468190521001816, -0.0026943404227495193, -0.0027717500925064087, 0.004259261302649975, -0.023879103362560272, 0.04154583439230919, 0.03499472141265869, -0.08472476154565811, -0.08298660069704056, -0.017809541895985603, -0.012820457108318806, 0.022762209177017212, 0.027401132509112358, -0.01901807263493538, -0.00013140356168150902, -0.012362662702798843, -0.0242876298725605, -0.024470914155244827, 0.059249717742204666, -0.025936974212527275, -0.03403860330581665, 0.03354356065392494, 0.00424432335421443, 0.020319249480962753, 0.01620381884276867, -0.016658902168273926, -0.032928090542554855, -0.07224500924348831, -0.024239126592874527, 0.05519835650920868, -0.061369914561510086, 0.061594441533088684, -0.026286495849490166, -0.041960977017879486, 0.032362379133701324, 0.049320921301841736, 0.006970275193452835, 0.029898475855588913, -0.0006543072522617877, 0.029622890055179596, 0.0004952773451805115, -0.03371009603142738, -0.051185015588998795, 0.045112352818250656, -0.023083584383130074, 0.028762560337781906, -0.04061539098620415, 0.0052492693066596985, -0.04534463956952095, -0.03625618666410446, 0.015298237092792988, -0.024687323719263077, -0.02169422060251236, 0.004626340698450804, 0.031087132170796394, 0.032282356172800064, 0.025258081033825874, 0.02322993054986, 0.0711231604218483, -0.021877067163586617, -0.044032491743564606, -0.06048211455345154, 0.028924984857439995, 0.037609901279211044, -0.0007253748481161892, 0.00308457319624722, -0.013781817629933357, 0.005232990253716707, 0.03389140963554382, 0.030284333974123, 0.02475738897919655, -0.08856713026762009, -0.06486533582210541, 0.0524601973593235, 0.030654404312372208, -0.009810143150389194, 0.02255900762975216, 0.01701911725103855, -0.06494542956352234, 0.0556526817381382, 0.07736797630786896, 0.00015375915972981602, 0.028744306415319443, -0.03998658433556557, -0.02501435950398445, 0.08455711603164673, 0.0072309584356844425, 0.019367313012480736, -0.001871376996859908, 0.0032404058147221804, 0.09247307479381561, 0.04456639289855957, -0.043925754725933075, 0.0011591555085033178, -0.03823811560869217, 0.05827049911022186, 0.029372768476605415, 0.04659351333975792, -0.023826491087675095, -0.08695818483829498, -0.03110760636627674, 0.006598807405680418, 0.0212489552795887, 0.06046892702579498, 0.008599776774644852, -0.05273770913481712, -0.02070317417383194, -0.01905762404203415, -0.01009131595492363, -0.015318828634917736, -0.07481749355792999, -0.010559974238276482, -0.02864483930170536, 0.03771757334470749, 0.06425580382347107, -0.05111410468816757, -0.029935091733932495, -0.02711261436343193, 0.045295875519514084, 0.009894038550555706, -0.08096057921648026, 0.046330682933330536, -0.03537987172603607, 0.04295613244175911, -0.0021133655682206154, 0.03836711123585701, -0.03478394076228142, 0.026444824412465096]}, page_content='Kode Rekening: kode_rekening    4.1.4.19.1.1\\nkode_rekening    4.1.4.19.1.1\\nName: 539, dtype: object\\nNama Rekening: Pendapatan Hasil Pengelolaan Dana Bergulir\\nPendapatan: 0.0\\nRealisasi: 0.0\\nPersentase: 0.0')]"
            ]
          },
          "metadata": {},
          "execution_count": 17
        }
      ],
      "source": [
        "retriever.invoke(\"data apa yang kamu punya?\")"
      ]
    },
    {
      "cell_type": "code",
      "source": [
        "# Example queries\n",
        "query = \"Berapa total pajak daerah?\"\n",
        "docs = retriever.invoke(query)\n",
        "print(docs)\n"
      ],
      "metadata": {
        "id": "ECfWtn4I5sCF",
        "outputId": "2f34d671-8444-43ed-8dcb-5979b97c264c",
        "colab": {
          "base_uri": "https://localhost:8080/"
        }
      },
      "execution_count": 22,
      "outputs": [
        {
          "output_type": "stream",
          "name": "stdout",
          "text": [
            "[Document(metadata={'kode_rekening': {'kode_rekening': '4.1.3.1.1.1'}, 'nama_rekening': 'Bagian Laba yang Dibagikan kepada Pemerintah Daerah (Dividen) atas Penyertaan Modal pada BUMN', 'embedding': [0.014468416571617126, -0.019840024411678314, -0.039188362658023834, 0.031060006469488144, 0.06919091194868088, 0.03354857116937637, 0.04719628393650055, -0.055634718388319016, -0.0259989183396101, 0.028972767293453217, -0.01875510811805725, 0.011896294541656971, -0.06077931076288223, -0.020528322085738182, -0.02419540286064148, 0.006499904207885265, -0.016006743535399437, -0.023944420740008354, -0.00952987652271986, -0.04149502143263817, -0.041522782295942307, 0.0028735848609358072, -0.013567060232162476, 0.03403836861252785, 0.02453300915658474, -0.005916745401918888, -0.015292426571249962, -0.058211687952280045, -0.04308098927140236, 0.011486846953630447, -0.039171960204839706, 0.03624891862273216, -0.024603040888905525, -0.0006900458829477429, -0.013033625669777393, -0.0295989029109478, -0.005035508889704943, -0.018587248399853706, 0.02264445275068283, 0.08060380071401596, 0.012702157720923424, 0.024132326245307922, 0.008388656191527843, -0.013426685705780983, 0.033770132809877396, -0.036159440875053406, 0.014204952865839005, -0.0023742616176605225, 0.028662635013461113, -0.030768340453505516, 0.0254736989736557, -0.0020447855349630117, 0.031594887375831604, -0.01248087827116251, -0.033199600875377655, -0.0811844915151596, -0.01378388237208128, -0.009985349141061306, 0.0006321246619336307, -0.035784877836704254, 0.0031361295841634274, 0.030605724081397057, -0.0021748205181211233, 0.07210563868284225, -0.02387232705950737, -0.053919851779937744, -0.021010911092162132, -0.0025135271716862917, 0.06140543892979622, -0.007683918345719576, 0.049399521201848984, -0.013921787962317467, 0.07448861002922058, 0.011896515265107155, -0.04350033029913902, -0.09458114206790924, -0.023934567347168922, 0.01236759964376688, 0.048825301229953766, 0.03824343904852867, 0.0072067431174218655, -0.0804949700832367, -0.01383108552545309, -0.029151292517781258, -0.021251244470477104, 0.059709105640649796, -0.03310469910502434, 0.004265586379915476, -0.020213788375258446, 0.06108935549855232, 0.002945100190117955, -0.020353930070996284, 0.0012731991009786725, -0.06924793869256973, 0.034015487879514694, 0.06513321399688721, -0.00540590425953269, -0.028264163061976433, -0.011822757311165333, -0.04418981447815895, -0.020068436861038208, -0.051627613604068756, -0.01467964332550764, -0.03622946888208389, -0.0048611946403980255, 0.035362184047698975, 0.00297414418309927, 0.041228026151657104, -0.04850562661886215, 0.036191798746585846, -0.03477322682738304, -0.036670390516519547, -0.0035674693062901497, -0.010940874926745892, 0.05000673606991768, -0.017854154109954834, -0.033634789288043976, 0.06662194430828094, 0.013363812118768692, 0.0017906412249431014, 0.039833586663007736, -0.012288379482924938, -0.004135685507208109, -0.016923919320106506, 0.016663355752825737, -0.010287929326295853, -0.05259252339601517, 0.012892778031527996, 0.04647492989897728, 0.09325935691595078, 0.02132766880095005, 0.002368219429627061, 0.014837839640676975, -0.013856212608516216, 0.02685961313545704, 0.039221856743097305, 0.021087301895022392, 0.007469783071428537, 0.03789269179105759, 0.0028936683665961027, -0.009407159872353077, 0.039150118827819824, 0.025992725044488907, 0.023873936384916306, 0.011395808309316635, 0.04697031155228615, 0.00779414689168334, 0.013974918983876705, 0.09207284450531006, -0.010450881905853748, -0.035080909729003906, -0.008586580865085125, -0.08682920038700104, 0.04378064349293709, 0.053498998284339905, 0.06152543053030968, 0.013940591365098953, 0.003696231637150049, 0.008570254780352116, 0.08101135492324829, 0.06370382755994797, 0.01308975275605917, -0.024240752682089806, 0.004043501801788807, 0.010423635132610798, -0.04360228031873703, 0.02503536082804203, 0.010709145106375217, 0.03141093626618385, -0.036296647042036057, -0.004042455926537514, 0.0050129699520766735, -0.05927260220050812, -0.04834754765033722, -0.0157743152230978, -0.06579399108886719, -0.008896681480109692, -0.014157083816826344, -0.022122718393802643, 0.021713756024837494, -0.026473484933376312, -0.011061219498515129, 0.05030275508761406, -0.009498092345893383, 0.03895387426018715, -0.014312484301626682, 0.07321915775537491, -0.009623282589018345, -0.03271128609776497, -0.04301327466964722, -0.03933606669306755, -0.028284145519137383, -0.022529805079102516, -0.017354341223835945, -0.05620233342051506, 0.013239831663668156, 0.0011271066032350063, 0.0435076579451561, -0.017738280817866325, -0.030860822647809982, -0.03193741664290428, 0.015658950433135033, 0.007628816179931164, -0.01061541959643364, 0.043132103979587555, -0.027031701058149338, 0.049909234046936035, -0.010056153871119022, -0.015317759476602077, 0.0467478409409523, -0.024530012160539627, -0.013368470594286919, -0.012604404240846634, -0.005626569502055645, 0.05143759399652481, 0.027433430776000023, -0.01353081688284874, -0.0004887544200755656, -0.012584022246301174, -0.036999721080064774, -0.03593645244836807, -0.005687737371772528, -0.00017496387590654194, 0.02468877099454403, 0.006837280001491308, 0.0024917356204241514, 0.05681496486067772, 0.041844189167022705, -0.01607816480100155, -0.05188397318124771, -0.043726325035095215, 0.10843778401613235, 0.03448855131864548, -0.038513682782649994, 0.06916684657335281, -0.011505672708153725, 0.003264613449573517, 0.03204039856791496, -0.008078239858150482, 0.02038552425801754, -0.032067470252513885, 0.014428962953388691, 0.025614067912101746, 0.044965896755456924, -0.039763402193784714, -0.020585548132658005, 0.035443954169750214, 0.056943461298942566, -0.009802740067243576, 0.09600991010665894, -0.0382932610809803, -0.07940401881933212, 0.030159467831254005, 0.026269400492310524, -0.021914459764957428, 0.024052830412983894, -0.03447297587990761, 0.05259401723742485, 0.024773603305220604, 0.008539450354874134, 0.04567593336105347, 0.004561702720820904, 0.00711301201954484, -0.02140665240585804, 0.003333811182528734, -0.022299470379948616, 0.013370449654757977, -0.006417174823582172, -0.021975981071591377, 0.03484063223004341, 0.0005406756536103785, -0.048369888216257095, 0.07746754586696625, 0.06141991913318634, -0.005107270088046789, 0.05299638584256172, -0.028301429003477097, 0.06844446063041687, -0.02443145029246807, -0.047397542744874954, 0.029306283220648766, 0.004926055669784546, 0.017808938398957253, -0.048129256814718246, -0.02301141619682312, -0.01604681834578514, -0.045499641448259354, 0.020095165818929672, 0.009732034057378769, -0.06972925364971161, -0.048203933984041214, -0.021297257393598557, -0.006258349400013685, -0.017971646040678024, -0.03144729882478714, 0.024962160736322403, -0.013700907118618488, 0.010464079678058624, -0.012614117003977299, -0.0071365381591022015, -0.03793034702539444, -0.023504270240664482, -0.040819041430950165, -0.07950261235237122, -0.0022007841616868973, 0.03869369626045227, 0.005837582983076572, -0.029133828356862068, -0.00373718305490911, 0.04623246192932129, 0.00996163859963417, -0.051694147288799286, -0.02943390980362892, -0.032922472804784775, 0.0499471090734005, 0.035680580884218216, -0.0011258937884122133, -0.002872900106012821, -0.045609600841999054, 0.06553009152412415, -0.0362035408616066, 0.03861769288778305, 0.03143029287457466, -0.008937527425587177, 0.045543283224105835, 0.01825045794248581, -0.020233837887644768, 0.0475686751306057, 0.0035383591894060373, 0.010557285510003567, 0.010072740726172924, -0.010891400277614594, -0.024715889245271683, 0.06827320158481598, 0.005422465968877077, 0.020482137799263, -0.08692026138305664, 0.024770071730017662, -0.016232283785939217, 0.013797983527183533, 0.07254208624362946, 0.0024135068524628878, -0.03272638097405434, 0.010397288016974926, -0.016487373039126396, 0.007048394531011581, -0.03620632737874985, 0.005547795444726944, 0.09397415071725845, -0.009181538596749306, 0.0037460001185536385, 0.04957621544599533, -0.014270725660026073, 0.002058346988633275, 0.00018141858163289726, -0.032465651631355286, 0.06283251941204071, -0.016262605786323547, 0.00339838326908648, 0.008683087304234505, -0.035087671130895615, 0.05557798966765404, -0.016209550201892853, -0.00732592586427927, -0.0026386179961264133, -0.038825031369924545, -0.021883821114897728, 0.007876534946262836, -0.016957668587565422, 0.04207431152462959, 0.00651624845340848, -0.04311438649892807, 0.0064965467900037766, 0.02867278829216957, -0.03572520986199379, -0.04992145299911499, -0.020189473405480385, -0.03687804937362671, 0.024764833971858025, 0.022937458008527756, 0.028417056426405907, 0.0004879919870290905, 0.019573276862502098, 0.014373354613780975, -0.007056924514472485, -0.046027883887290955, 0.08076886832714081, 0.048448801040649414, 0.007014533504843712, 0.025180324912071228, -0.03357411175966263, 0.020817233249545097, 0.040821850299835205, 0.04902304708957672, -0.008007827214896679, 0.0051736170426011086, -0.06323046237230301, -0.009007618762552738, 0.024674102663993835, -0.01287667267024517, -0.02167171984910965, -0.014464053325355053, 0.004891990218311548, -0.04003885015845299, -0.02210976928472519, -0.006392751354724169, -0.0022164417896419764, -0.03480880707502365, -0.0439322292804718, -0.043965645134449005, -0.03994741290807724, 0.009022715501487255, 0.008442115969955921, -0.09199938178062439, -0.015576244331896305, -0.036185894161462784, 0.020857201889157295, 0.0006423924351111054, 0.005186381749808788, 0.05126241222023964, -0.04257209971547127, -0.02569243684411049, -0.012382330372929573, -0.05855569243431091, -0.058027468621730804, -0.02437475137412548, -0.007816929370164871, -0.042849283665418625, -0.02274755947291851, -0.009291980415582657, 0.021311068907380104, -0.03671082854270935, 0.008465221151709557, -0.02435549907386303, -0.034287065267562866, -0.09104955941438675, -0.021922754123806953, 0.02401082217693329, 0.00900675356388092, -0.04706988483667374, 0.02526266500353813, -0.020793914794921875, 0.011099905706942081, 0.040391143411397934, 0.01295588631182909, -0.038970496505498886, 0.018182620406150818, -0.053298890590667725, 0.02054380252957344, -0.044930651783943176, 0.010036119259893894, -0.0301175769418478, -0.03332660719752312, 0.00486336462199688, -0.0116112744435668, -0.06455239653587341, -0.0352805070579052, 0.027820181101560593, 0.010383565910160542, 0.02159016579389572, -0.08161568641662598, -0.04226062446832657, 0.0033885990269482136, -0.041400909423828125, -0.006623025052249432, -0.022674331441521645, -0.015140881761908531, -0.028136909008026123, 0.08106572926044464, 0.04525292292237282, 0.017608927562832832, -0.02418595924973488, 0.020159147679805756, -0.02196795679628849, -0.014761026948690414, -0.007687586825340986, -0.09381507337093353, 0.018730828538537025, 0.002279513282701373, -0.018244653940200806, -0.024354124441742897, -0.07472789287567139, 0.06563041359186172, -0.021634981036186218, -0.02048913948237896, -0.018939532339572906, 0.0006797979003749788, -0.010271314531564713, 0.02611822634935379, 0.04360508918762207, 0.0008696878794580698, 0.0203637033700943, -0.023976216092705727, -0.06445173174142838, -0.012912166304886341, 0.01955380290746689, -0.055726636201143265, 0.012868668884038925, 0.00476722652092576, 0.02459513209760189, -0.014768452383577824, 0.02149888128042221, 0.01326708123087883, -0.017145607620477676, 0.03277885541319847, -0.05945200100541115, 0.019173141568899155, 0.007212250959128141, 0.013968800194561481, -0.02078104577958584, -0.006723701488226652, 0.015622274950146675, -0.00837805587798357, -0.029260026291012764, 0.016061319038271904, -0.03482915088534355, -0.03694944828748703, 0.056516487151384354, -0.05151233822107315, -0.02255069464445114, 0.039954423904418945, -0.0048512364737689495, -0.06028051674365997, -0.036547768861055374, 0.07568461447954178, -0.06047318875789642, 0.035624369978904724, 0.025773335248231888, -0.04931231960654259, 0.009688037447631359, 0.00016471686831209809, 0.04067179560661316, -0.05787906423211098, -0.0008157610427588224, 0.020199228078126907, 0.01907300017774105, 0.00044514905312098563, 0.06339225172996521, 0.03868343308568001, -0.019108165055513382, -0.0045394813641905785, 0.025576815009117126, -0.0006561616319231689, 0.036462265998125076, 0.008343086577951908, 0.009443351998925209, 0.02662256732583046, -0.1150001734495163, 0.014747456647455692, 0.015839029103517532, -0.03332776576280594, 0.006356412544846535, 0.011069996282458305, -0.05351753160357475, 0.03627793863415718, -0.04077407717704773, -0.049060892313718796, 0.028677131980657578, 0.044327713549137115, -0.025318201631307602, -0.06484629213809967, 0.03440999984741211, -0.01521251816302538, -0.0010452502174302936, 0.05976580083370209, 0.060352638363838196, -0.009558611549437046, -0.00905653927475214, 0.06426916271448135, 0.008827747777104378, -5.146311013959348e-05, 0.011382599361240864, -0.05745246261358261, -0.001436844002455473, 0.03372438997030258, -0.01070011593401432, -0.060214269906282425, 0.023061713203787804, -0.015618809498846531, -0.04525954648852348, 0.025016190484166145, -0.04087400063872337, -0.02048611454665661, 0.014122311025857925, -0.023495811969041824, 0.027569374069571495, 0.046090684831142426, 0.009722433052957058, 0.031855661422014236, -0.0007893042056821287, -0.08220712095499039, 0.07650492340326309, -0.04081462696194649, -0.055340006947517395, -0.00533848162740469, 0.01091927383095026, -0.008630631491541862, -0.02594709023833275, -0.004532794933766127, -0.01226088497787714, 0.007120984140783548, -0.012356632389128208, 0.02825363725423813, -0.01282985508441925, 0.03710056096315384, 0.03782340884208679, -0.02580929547548294, 0.03168082237243652, -0.005423146300017834, -0.008476629853248596, 0.013342310674488544, -0.013867015950381756, 0.012384566478431225, 0.00727906683459878, 0.03130577877163887, -0.03354296460747719, 0.04245084896683693, 0.02953425608575344, -0.05399826169013977, -0.05699380859732628, -0.001141985529102385, 0.00798778235912323, -0.013044280000030994, -0.022174347192049026, 0.0014133977238088846, -0.012451684102416039, -0.023738468065857887, -0.0272273700684309, 0.05741383135318756, 0.021383065730333328, 0.011053362861275673, 0.03154808655381203, -0.024246083572506905, -0.00959810521453619, -0.007189924828708172, 0.01723281852900982, -0.037050630897283554, 0.0005161617300473154, 0.03682602196931839, 0.011027435772120953, -0.04528738558292389, 0.0010726869804784656, -0.012528903782367706, -0.018469620496034622, -0.035616859793663025, 0.06863395869731903, 0.05922544747591019, -0.08007669448852539, -0.10475965589284897, -0.014126609079539776, -0.028324419632554054, 0.0222653616219759, 0.038210995495319366, -0.002290847711265087, 0.011994210071861744, -0.02693718858063221, -0.039570096880197525, -0.04321511089801788, 0.05903352051973343, -0.01659446954727173, -0.04028738662600517, 0.03394174203276634, 0.010337078012526035, 0.010559015907347202, 0.02451843023300171, -0.035614416003227234, -0.05615977570414543, -0.06192613020539284, -0.03830493986606598, 0.03531518206000328, -0.04194314777851105, 0.06576293706893921, -0.03190859407186508, -0.046331338584423065, 0.016133416444063187, 0.0354820191860199, 0.0034873420372605324, -0.0002824332332238555, -0.012883685529232025, 0.048094041645526886, -0.009179357439279556, -0.04531220346689224, -0.029681183397769928, 0.041228100657463074, -0.03431234508752823, 0.03752819821238518, -0.023398905992507935, 0.0037538441829383373, -0.042513348162174225, -0.029193665832281113, 0.002701215445995331, -0.02349650301039219, -0.03714888542890549, 0.01717241294682026, 0.04157409816980362, 0.04999573528766632, -0.006535483989864588, 0.010148998349905014, 0.045494236052036285, -0.014484545215964317, -0.042230863124132156, -0.06475663930177689, 0.02509697526693344, 0.03964916244149208, -0.0053868768736720085, -0.012232623063027859, -0.021521462127566338, 0.0033059283159673214, 0.017868559807538986, 0.0026717802975326777, 0.041607510298490524, -0.0791727676987648, -0.03308750316500664, 0.054532282054424286, 0.0433402918279171, -0.023907959461212158, 0.003684012219309807, 0.011555733159184456, -0.06816955655813217, 0.06333192437887192, 0.07886827737092972, -0.000545905961189419, 0.03830047324299812, -0.02734971232712269, -0.02652270905673504, 0.06991986185312271, 0.01999751292169094, 0.013982033357024193, -0.024965615943074226, 0.0177958644926548, 0.08964616060256958, 0.06266606599092484, -0.05280212685465813, 0.007520045153796673, -0.02773524448275566, 0.05648122355341911, 0.030743535608053207, 0.02939702942967415, -0.010680402629077435, -0.09298854321241379, -0.058053720742464066, 0.01320228073745966, 0.01400688849389553, 0.05347128212451935, -0.0023514723870903254, -0.0665879175066948, -0.02470366284251213, -0.03051178902387619, -0.013276619836688042, -0.04375586658716202, -0.06876806914806366, -0.0033530406653881073, -0.02902466244995594, 0.029571855440735817, 0.07035748660564423, -0.047124821692705154, -0.025488968938589096, -0.014835073612630367, 0.008450501598417759, 0.02518114075064659, -0.06567106395959854, 0.012874133884906769, -0.038416143506765366, 0.046021968126297, -0.0063164616003632545, 0.04967557266354561, -0.055504560470581055, 0.01588115654885769]}, page_content='Kode Rekening: kode_rekening    4.1.3.1.1.1\\nkode_rekening    4.1.3.1.1.1\\nName: 296, dtype: object\\nNama Rekening: Bagian Laba yang Dibagikan kepada Pemerintah Daerah (Dividen) atas Penyertaan Modal pada BUMN\\nPendapatan: 0.0\\nRealisasi: 0.0\\nPersentase: 0.0'), Document(metadata={'kode_rekening': {'kode_rekening': '4.1.3.1'}, 'nama_rekening': 'Bagian Laba yang Dibagikan kepada Pemerintah Daerah (Dividen) atas Penyertaan Modal pada BUMN', 'embedding': [0.014741879887878895, -0.022861145436763763, -0.03895172104239464, 0.02905067428946495, 0.06599383801221848, 0.028196951374411583, 0.04547657445073128, -0.05428003519773483, -0.023887649178504944, 0.027104200795292854, -0.01905078813433647, 0.014657889492809772, -0.06059854477643967, -0.018097365275025368, -0.02283145673573017, 0.004535524640232325, -0.016248667612671852, -0.025681957602500916, -0.0073941899463534355, -0.042880456894636154, -0.04092298075556755, 0.002677452750504017, -0.014282521791756153, 0.03472652658820152, 0.028374560177326202, -0.006846548058092594, -0.013976199552416801, -0.0599532276391983, -0.042969826608896255, 0.013313820585608482, -0.03867226839065552, 0.03681407868862152, -0.026412785053253174, -0.0018763762200251222, -0.009339476004242897, -0.02662547305226326, -0.0035967864096164703, -0.019133228808641434, 0.020586272701621056, 0.07938481867313385, 0.013844149187207222, 0.026859350502490997, 0.01221854891628027, -0.008730513043701649, 0.03342825546860695, -0.040121160447597504, 0.01732778549194336, -0.0006998068420216441, 0.026191655546426773, -0.02762303128838539, 0.028577793389558792, -0.0030995735432952642, 0.029942158609628677, -0.015072830952703953, -0.031454410403966904, -0.08138563483953476, -0.01717274822294712, -0.010071760974824429, -0.0018108774675056338, -0.0379490926861763, 0.003739402862265706, 0.02885465696454048, -0.0038253816310316324, 0.07264521718025208, -0.02145400643348694, -0.05420541390776634, -0.020024040713906288, -0.0014944226713851094, 0.05859937518835068, -0.004783928394317627, 0.04949542507529259, -0.015154252760112286, 0.07291869074106216, 0.013035808689892292, -0.04381789639592171, -0.09607917070388794, -0.022170618176460266, 0.0120667964220047, 0.05188782140612602, 0.03973947837948799, 0.006741060875356197, -0.08115111291408539, -0.013709942810237408, -0.030848080292344093, -0.02151297964155674, 0.05493006110191345, -0.028196260333061218, 0.006313559133559465, -0.023661043494939804, 0.06514938920736313, 0.000297097722068429, -0.02010243572294712, 0.0018466465407982469, -0.06829948723316193, 0.035866737365722656, 0.0655742809176445, -0.006423523649573326, -0.027476081624627113, -0.013884037733078003, -0.04365219920873642, -0.01970214955508709, -0.052447374910116196, -0.015379512682557106, -0.03269187733530998, -0.007038987707346678, 0.03614712879061699, 0.0032910879235714674, 0.039312694221735, -0.04867507889866829, 0.03559720516204834, -0.03537394851446152, -0.036659277975559235, -0.006459055468440056, -0.009419064037501812, 0.048918310552835464, -0.02069667913019657, -0.03555740788578987, 0.06683209538459778, 0.014478521421551704, -0.0009318321826867759, 0.043039463460445404, -0.008145804516971111, -0.005308712832629681, -0.017074979841709137, 0.015567234717309475, -0.01015341654419899, -0.05221431702375412, 0.014213993214070797, 0.04120354726910591, 0.09627759456634521, 0.020204413682222366, 0.003229167079553008, 0.01221274770796299, -0.012475930154323578, 0.026376627385616302, 0.03868237882852554, 0.025191493332386017, 0.0077209146693348885, 0.03889461234211922, 0.00713384011760354, -0.009545980952680111, 0.03987802937626839, 0.026074767112731934, 0.02167993038892746, 0.008923551999032497, 0.04898969829082489, 0.007913446985185146, 0.01002854760736227, 0.09013673663139343, -0.013039832003414631, -0.036310773342847824, -0.004424915183335543, -0.08681870996952057, 0.04401134327054024, 0.0545208714902401, 0.061545807868242264, 0.013593531213700771, 0.002759852446615696, 0.00965898483991623, 0.08279342204332352, 0.06229613721370697, 0.01141085010021925, -0.022008396685123444, 0.004068256821483374, 0.01273496076464653, -0.0450357161462307, 0.026341065764427185, 0.01216275803744793, 0.03342924639582634, -0.03477757051587105, -0.0028792377561330795, 0.0060715689323842525, -0.05970902368426323, -0.04566575586795807, -0.013295408338308334, -0.06649476289749146, -0.008059101179242134, -0.016681263223290443, -0.022335920482873917, 0.020945100113749504, -0.02630332112312317, -0.013510874472558498, 0.052058979868888855, -0.009981973096728325, 0.03829272836446762, -0.012162109836935997, 0.07625776529312134, -0.010511662811040878, -0.033194586634635925, -0.04438071697950363, -0.037119533866643906, -0.02667774260044098, -0.023828886449337006, -0.019136546179652214, -0.056584637612104416, 0.012230210937559605, 0.0011074147187173367, 0.04498378932476044, -0.015294595621526241, -0.029664423316717148, -0.033382367342710495, 0.016918137669563293, 0.0050667100585997105, -0.011553579941391945, 0.04244467616081238, -0.028801456093788147, 0.05079404637217522, -0.01156902126967907, -0.01664600893855095, 0.04876407980918884, -0.023844201117753983, -0.013073906302452087, -0.011798864230513573, -0.0008375130128115416, 0.050828177481889725, 0.024042610079050064, -0.013185092248022556, -0.00017087154265027493, -0.010042660869657993, -0.03709070384502411, -0.032308198511600494, -0.004360068589448929, 2.1894507881370373e-05, 0.02596043050289154, 0.008374284952878952, 0.004176389891654253, 0.057428028434515, 0.04014068841934204, -0.015790676698088646, -0.05190233141183853, -0.04384157806634903, 0.10767136514186859, 0.03357965499162674, -0.03756248950958252, 0.06677965819835663, -0.012583952397108078, 0.0018700184300541878, 0.03085039183497429, -0.009696350432932377, 0.023016734048724174, -0.031979113817214966, 0.013034244067966938, 0.027007639408111572, 0.04264616593718529, -0.03867576643824577, -0.020113613456487656, 0.03784540668129921, 0.05806630104780197, -0.011469184421002865, 0.09865142405033112, -0.04233265295624733, -0.08276628702878952, 0.03054976463317871, 0.023733370006084442, -0.023946069180965424, 0.024147195741534233, -0.036392103880643845, 0.05098332092165947, 0.023169877007603645, 0.007009466178715229, 0.04449371621012688, 0.0042151836678385735, 0.008506312035024166, -0.02016984298825264, 0.0030027206521481276, -0.025737296789884567, 0.013223507441580296, -0.0028248056769371033, -0.020866530016064644, 0.03468436375260353, 0.0008997959666885436, -0.051564112305641174, 0.07457117736339569, 0.06324076652526855, -0.004688249435275793, 0.05610528215765953, -0.02518531307578087, 0.06711363792419434, -0.022848326712846756, -0.04800872504711151, 0.026734404265880585, 0.0036965974140912294, 0.017922187224030495, -0.048267051577568054, -0.020725302398204803, -0.015952175483107567, -0.04513152316212654, 0.021596098318696022, 0.009256182238459587, -0.0706266537308693, -0.05158122256398201, -0.02406516671180725, -0.0023511804174631834, -0.016654105857014656, -0.030767466872930527, 0.027948185801506042, -0.01306723989546299, 0.008404253050684929, -0.011141609400510788, -0.0062673501670360565, -0.040686920285224915, -0.021988563239574432, -0.04254024103283882, -0.07843201607465744, -0.0014181311707943678, 0.036680229008197784, 0.003872344736009836, -0.028221847489476204, -0.000358658580807969, 0.0481354184448719, 0.013768486678600311, -0.048761699348688126, -0.02752554602921009, -0.029850516468286514, 0.04891076311469078, 0.03651360049843788, 0.0005138714914210141, -0.0029056533239781857, -0.045932985842227936, 0.0654074177145958, -0.03773754462599754, 0.03955155611038208, 0.028369009494781494, -0.008695335127413273, 0.04461868479847908, 0.015873821452260017, -0.023008719086647034, 0.04965944215655327, 0.0044443062506616116, 0.011847144924104214, 0.012882235459983349, -0.010698992758989334, -0.026716653257608414, 0.06944692134857178, 0.00409435061737895, 0.019126519560813904, -0.08694969117641449, 0.025572801008820534, -0.01518168207257986, 0.0124093322083354, 0.07623481005430222, 0.004976931493729353, -0.03351688012480736, 0.012126841582357883, -0.019119277596473694, 0.0065549337305128574, -0.03726832568645477, 0.010243124328553677, 0.0958084985613823, -0.01186415832489729, 0.003322259522974491, 0.04985741153359413, -0.01392276119440794, 0.0021419681143015623, 0.001877482864074409, -0.030037371441721916, 0.0648728609085083, -0.016802161931991577, 0.001880836091004312, 0.01083904318511486, -0.03267580643296242, 0.05527131259441376, -0.015611311420798302, -0.006729675456881523, -0.0025389406364411116, -0.04134276136755943, -0.019806643947958946, 0.009149686433374882, -0.01738876849412918, 0.04244442656636238, 0.008766861632466316, -0.042099885642528534, 0.0054496522061526775, 0.02929907664656639, -0.03584619611501694, -0.05193827673792839, -0.02026500552892685, -0.03583598509430885, 0.024919016286730766, 0.022602083161473274, 0.029679108411073685, 0.0010682118590921164, 0.019182691350579262, 0.01501421071588993, -0.007853271439671516, -0.04773086681962013, 0.08374303579330444, 0.048738542944192886, 0.006114854011684656, 0.023748718202114105, -0.0364493653178215, 0.017564862966537476, 0.04039071127772331, 0.047761254012584686, -0.011223199777305126, 0.0008978960104286671, -0.060123804956674576, -0.006608923431485891, 0.026027794927358627, -0.012506849132478237, -0.01898416131734848, -0.012237346731126308, 0.004369111731648445, -0.039900366216897964, -0.02109496481716633, -0.0035131187178194523, -0.002424831036478281, -0.03280805051326752, -0.043960247188806534, -0.04255254194140434, -0.040761906653642654, 0.009476755745708942, 0.011151757091283798, -0.09461311995983124, -0.015126463025808334, -0.0353778712451458, 0.020541466772556305, 0.0015927300555631518, 0.0033969476353377104, 0.04815823957324028, -0.04935546964406967, -0.024522531777620316, -0.010833991691470146, -0.05708840861916542, -0.059448692947626114, -0.025269370526075363, -0.009100607596337795, -0.041544537991285324, -0.023387087509036064, -0.0075422353111207485, 0.022757766768336296, -0.033136773854494095, 0.00830612238496542, -0.021948479115962982, -0.034272029995918274, -0.08805931359529495, -0.025065040215849876, 0.026890316978096962, 0.009015901014208794, -0.047828979790210724, 0.022801820188760757, -0.024294037371873856, 0.008974446915090084, 0.038780201226472855, 0.008305296301841736, -0.04046527296304703, 0.021682560443878174, -0.04976687580347061, 0.020401328802108765, -0.04406462237238884, 0.011201719753444195, -0.028873799368739128, -0.034413550049066544, 0.004583971109241247, -0.010864819400012493, -0.06362089514732361, -0.03346957638859749, 0.026034444570541382, 0.012187332846224308, 0.023700537160038948, -0.08441878855228424, -0.03922979533672333, 0.00924828089773655, -0.04173235595226288, -0.006507945246994495, -0.020029466599225998, -0.0137875284999609, -0.02754991501569748, 0.07855847477912903, 0.04707550257444382, 0.018351780250668526, -0.02623385190963745, 0.01865934021770954, -0.023915639147162437, -0.013314497657120228, -0.004455728456377983, -0.09270461648702621, 0.01819443702697754, 0.001803991268388927, -0.017023442313075066, -0.02299673669040203, -0.07510687410831451, 0.06537840515375137, -0.0182648878544569, -0.01679970696568489, -0.018133031204342842, 0.002723193261772394, -0.008303412236273289, 0.025279756635427475, 0.04321227967739105, 0.003356289817020297, 0.023137738928198814, -0.02841879613697529, -0.06462769955396652, -0.012605898082256317, 0.01914992183446884, -0.054421160370111465, 0.009199953638017178, 0.005709601566195488, 0.0238956306129694, -0.01604083925485611, 0.018293822184205055, 0.014949573203921318, -0.020870277658104897, 0.03345414623618126, -0.0583588182926178, 0.01563478447496891, 0.00728582963347435, 0.011295258067548275, -0.024055175483226776, -0.00730894785374403, 0.012839152477681637, -0.009997439570724964, -0.03006804548203945, 0.01404433511197567, -0.03378937020897865, -0.03824324905872345, 0.0577428862452507, -0.05106731131672859, -0.02188308723270893, 0.03762753680348396, -0.002445912454277277, -0.060709722340106964, -0.03851316124200821, 0.07769498974084854, -0.05979667603969574, 0.03397195786237717, 0.029671872034668922, -0.04575209319591522, 0.011340794153511524, -0.00022364553296938539, 0.04085111990571022, -0.05314674973487854, -0.0009700601221993566, 0.019986633211374283, 0.021086636930704117, 0.000578473205678165, 0.06334158778190613, 0.04121384397149086, -0.017571095377206802, -0.004399879835546017, 0.025873340666294098, 0.0025378696154803038, 0.03425201401114464, 0.011491992510855198, 0.014308124780654907, 0.030290301889181137, -0.11553970724344254, 0.013370298780500889, 0.0168487336486578, -0.033341001719236374, 0.005656236782670021, 0.014235464856028557, -0.05107107013463974, 0.035507138818502426, -0.043918319046497345, -0.050354085862636566, 0.028393438085913658, 0.0454990491271019, -0.02781974896788597, -0.06813075393438339, 0.03519253432750702, -0.01516046468168497, 0.0020686800125986338, 0.061645787209272385, 0.06124259904026985, -0.0071073067374527454, -0.010533400811254978, 0.06424202024936676, 0.011993509717285633, 0.0006938821752555668, 0.011867985129356384, -0.056403350085020065, 0.00040204968536272645, 0.03127766400575638, -0.0076883649453520775, -0.0589248389005661, 0.025572704151272774, -0.01765960454940796, -0.041997894644737244, 0.027408646419644356, -0.04043079540133476, -0.01967182755470276, 0.013675069436430931, -0.020852841436862946, 0.02635529823601246, 0.045119769871234894, 0.009115716442465782, 0.032418496906757355, -0.001207822817377746, -0.08074789494276047, 0.07796991616487503, -0.03741937130689621, -0.05551470071077347, -0.0075525883585214615, 0.007948528043925762, -0.0018494847463443875, -0.027408745139837265, -0.002920465776696801, -0.011464168317615986, 0.007543226238340139, -0.011442327871918678, 0.02767246402800083, -0.013463699258863926, 0.03835592418909073, 0.036756984889507294, -0.026078199967741966, 0.032007329165935516, -0.006314415019005537, -0.009869436733424664, 0.01487090066075325, -0.013436301611363888, 0.007534913253039122, 0.009877409785985947, 0.033387184143066406, -0.035971127450466156, 0.04354919120669365, 0.02996055781841278, -0.05053544417023659, -0.05608160048723221, -0.0020699892193078995, 0.007481276523321867, -0.012990772724151611, -0.023334072902798653, 0.004386356566101313, -0.015109932981431484, -0.025764113292098045, -0.02275160886347294, 0.058768317103385925, 0.023535367101430893, 0.008797286078333855, 0.02741466462612152, -0.021092398092150688, -0.011338852345943451, -0.005828023888170719, 0.013652636669576168, -0.03867025673389435, 0.0019802625756710768, 0.03654376044869423, 0.011641563847661018, -0.04253051429986954, 0.0023413212038576603, -0.012791224755346775, -0.021132871508598328, -0.03852576017379761, 0.0673346221446991, 0.059829261153936386, -0.07876040041446686, -0.10684036463499069, -0.014530269429087639, -0.03144358471035957, 0.0206168033182621, 0.039961498230695724, -0.0027683908119797707, 0.012268383987247944, -0.0266053956001997, -0.04144565761089325, -0.043372802436351776, 0.05921906605362892, -0.016145525500178337, -0.040988482534885406, 0.033384501934051514, 0.00687542324885726, 0.013051699846982956, 0.026625776663422585, -0.03601982817053795, -0.058718014508485794, -0.06111590936779976, -0.040499620139598846, 0.03142222389578819, -0.0426919125020504, 0.06771428138017654, -0.031246809288859367, -0.0428975448012352, 0.01662871241569519, 0.036630552262067795, 0.003498055739328265, -0.002185093704611063, -0.014154993928968906, 0.05119702219963074, -0.013726108707487583, -0.04880836233496666, -0.026990938931703568, 0.042719438672065735, -0.033998291939496994, 0.03620303422212601, -0.020015399903059006, 0.0027957281563431025, -0.0410362146794796, -0.029012499377131462, 0.0032845493406057358, -0.023083100095391273, -0.035938262939453125, 0.017135338857769966, 0.04184172675013542, 0.04763851687312126, -0.00389830837957561, 0.005956667475402355, 0.04851822555065155, -0.01805570162832737, -0.0423145517706871, -0.05907905101776123, 0.022478012368083, 0.04021909460425377, -0.004815788008272648, -0.011973433196544647, -0.02006690390408039, 0.004605896770954132, 0.01609908603131771, 0.002246389165520668, 0.04091642424464226, -0.08130554854869843, -0.034902505576610565, 0.05477248504757881, 0.0436755008995533, -0.022764476016163826, 0.003178494283929467, 0.010248029604554176, -0.06607215106487274, 0.06356164067983627, 0.07503987103700638, 0.0011094578076153994, 0.03595801815390587, -0.027843821793794632, -0.025873590260744095, 0.06953071057796478, 0.0180218443274498, 0.0169008057564497, -0.024135541170835495, 0.015101244673132896, 0.08984411507844925, 0.06108636036515236, -0.055599864572286606, 0.008262994699180126, -0.02841448411345482, 0.05159285292029381, 0.03085043467581272, 0.032188981771469116, -0.009918090887367725, -0.09022367000579834, -0.056046828627586365, 0.013617203570902348, 0.01443595252931118, 0.0546051524579525, -0.0038304224144667387, -0.06607890874147415, -0.023793384432792664, -0.029927145689725876, -0.01127187442034483, -0.04077978432178497, -0.06866654008626938, -0.0022750673815608025, -0.029331261292099953, 0.028866268694400787, 0.07008716464042664, -0.04940560460090637, -0.023835279047489166, -0.016381461173295975, 0.011295978911221027, 0.026657233014702797, -0.06737819314002991, 0.012266194447875023, -0.03325173258781433, 0.0440128929913044, -0.00506470026448369, 0.04952661693096161, -0.0549650564789772, 0.017687413841485977]}, page_content='Kode Rekening: kode_rekening    4.1.3.1\\nkode_rekening    4.1.3.1\\nName: 294, dtype: object\\nNama Rekening: Bagian Laba yang Dibagikan kepada Pemerintah Daerah (Dividen) atas Penyertaan Modal pada BUMN\\nPendapatan: 0.0\\nRealisasi: 0.0\\nPersentase: 0.0'), Document(metadata={'kode_rekening': {'kode_rekening': '4.1.3.1.1'}, 'nama_rekening': 'Bagian Laba yang Dibagikan kepada Pemerintah Daerah (Dividen) atas Penyertaan Modal pada BUMN', 'embedding': [0.012803355231881142, -0.025225037708878517, -0.04105241969227791, 0.025875769555568695, 0.07165194302797318, 0.031058495864272118, 0.04517284408211708, -0.05499499663710594, -0.02347252331674099, 0.027593638747930527, -0.011751306243240833, 0.008186057209968567, -0.053932808339595795, -0.02221740037202835, -0.022516772150993347, -0.00473535293713212, -0.006879856809973717, -0.021206969395279884, -0.011993504129350185, -0.04854225739836693, -0.03837353736162186, 0.006586452014744282, -0.01589074358344078, 0.03360537439584732, 0.029493281617760658, -0.007304960396140814, -0.01213779766112566, -0.061486419290304184, -0.04145514592528343, 0.008384802378714085, -0.0382830947637558, 0.03288024291396141, -0.02650230936706066, -0.000212433427805081, -0.020227355882525444, -0.03133579343557358, 0.0006942943437024951, -0.024273017421364784, 0.024354716762900352, 0.07874435931444168, 0.010004864074289799, 0.025120491161942482, 0.015444232150912285, -0.009832172654569149, 0.02813100814819336, -0.046684104949235916, 0.010016209445893764, 0.002541342517361045, 0.031244562938809395, -0.03101394698023796, 0.022489195689558983, -0.0019255331717431545, 0.034649647772312164, -0.014192704111337662, -0.03430807217955589, -0.07990775257349014, -0.019470270723104477, -0.012931128963828087, -0.0011563479201868176, -0.041684966534376144, -0.0003598724433686584, 0.029816212132573128, -0.0036613307893276215, 0.06886928528547287, -0.023795632645487785, -0.05689570680260658, -0.019770409911870956, 0.00018819024262484163, 0.06383264064788818, -0.013374114409089088, 0.050501130521297455, -0.015087987296283245, 0.07171351462602615, 0.0061722672544419765, -0.04489240050315857, -0.09563040733337402, -0.026042772457003593, 0.013468677178025246, 0.05709835886955261, 0.04624555632472038, 0.012863066978752613, -0.07273690402507782, -0.014038299210369587, -0.03066529892385006, -0.020673949271440506, 0.05659257620573044, -0.03729787841439247, -0.0012609652476385236, -0.026586303487420082, 0.06515650451183319, -0.0008942649001255631, -0.011823266744613647, 0.00402525719255209, -0.07633679360151291, 0.035078760236501694, 0.07155134528875351, -0.0006049275398254395, -0.028468087315559387, -0.015871739014983177, -0.04313657432794571, -0.018029024824500084, -0.059601932764053345, -0.02138473466038704, -0.036787427961826324, -0.002153984038159251, 0.03134249523282051, -0.002602396300062537, 0.036408476531505585, -0.04568091779947281, 0.039418186992406845, -0.04646756872534752, -0.03511790558695793, -0.0028642541728913784, -0.011642677709460258, 0.045215148478746414, -0.023370100185275078, -0.03359949588775635, 0.06298642605543137, 0.010882647708058357, 0.005311977583914995, 0.044769689440727234, -0.0061691212467849255, -0.006133994087576866, -0.008841859176754951, 0.01914467103779316, -0.009824016131460667, -0.05689888074994087, 0.014598200097680092, 0.043194714933633804, 0.08259585499763489, 0.016602693125605583, 0.00024976328131742775, 0.01585167646408081, -0.015972286462783813, 0.02841321937739849, 0.039884552359580994, 0.01970374397933483, 0.0044459686614573, 0.042159970849752426, 0.0021733262110501528, -0.01481302548199892, 0.03597462177276611, 0.018954571336507797, 0.025846069678664207, 0.00774560309946537, 0.04555024951696396, 0.011065022088587284, 0.01313245389610529, 0.08830084651708603, -0.011518950574100018, -0.04095054045319557, -0.00020038412185385823, -0.08851611614227295, 0.04368480294942856, 0.05078939348459244, 0.06571497023105621, 0.009754661470651627, 0.00026143246213905513, 0.01041087694466114, 0.08423181623220444, 0.06517509371042252, 0.012171982787549496, -0.02288740500807762, 0.0024312103632837534, 0.014874443411827087, -0.04517938196659088, 0.019756915047764778, 0.012404903769493103, 0.022216903045773506, -0.03649149835109711, -0.006133298855274916, 0.005046290811151266, -0.052940502762794495, -0.04770725592970848, -0.009572538547217846, -0.06466427445411682, -0.012711092829704285, -0.013408737257122993, -0.017324168235063553, 0.027056260034441948, -0.038909438997507095, -0.01980012096464634, 0.05329577997326851, -0.010632658377289772, 0.04038088396191597, -0.013524283654987812, 0.06851688027381897, -0.014415754936635494, -0.03307671472430229, -0.04249846190214157, -0.036903828382492065, -0.023715801537036896, -0.03134330362081528, -0.019353214651346207, -0.05321604385972023, 0.010728193446993828, 0.009808771312236786, 0.04900629073381424, -0.016404669731855392, -0.02862890437245369, -0.034073300659656525, 0.015476969070732594, 0.011269576847553253, -0.0019500985508784652, 0.04489322751760483, -0.035663049668073654, 0.05469532683491707, -0.009699770249426365, -0.01763497106730938, 0.054981816560029984, -0.03053419478237629, -0.008299143984913826, -0.012783315032720566, -0.01732748933136463, 0.0461752712726593, 0.0281691774725914, -0.01888391003012657, 0.0034540293272584677, -0.017052987590432167, -0.04001094028353691, -0.030323341488838196, 6.909797230036929e-05, -0.006970488931983709, 0.016980502754449844, 0.0038451466243714094, 0.00427599810063839, 0.0579712800681591, 0.042146727442741394, -0.016359960660338402, -0.04565936699509621, -0.03775040805339813, 0.10760395973920822, 0.03520442917943001, -0.035903338342905045, 0.0709495097398758, -0.005182713735848665, -0.003158526960760355, 0.033599045127630234, -0.007132313679903746, 0.019704394042491913, -0.0341852568089962, 0.015634097158908844, 0.027008164674043655, 0.046263907104730606, -0.034863803535699844, -0.035312991589307785, 0.03968576714396477, 0.05572647228837013, -0.009295924566686153, 0.0975489467382431, -0.035614389926195145, -0.07711617648601532, 0.023877736181020737, 0.01582932099699974, -0.023790137842297554, 0.02091081812977791, -0.03445272520184517, 0.04844272509217262, 0.02730991691350937, 0.00724814273416996, 0.042191281914711, -0.0009423242299817502, 0.006068169139325619, -0.02045660838484764, 0.0013742641313001513, -0.02226261794567108, 0.015536833554506302, -0.004793552681803703, -0.020221486687660217, 0.03166532516479492, 0.0013548756251111627, -0.04661014303565025, 0.07652106136083603, 0.06014695763587952, -0.004743886645883322, 0.05153479427099228, -0.026217101141810417, 0.06587880849838257, -0.025113053619861603, -0.053143877536058426, 0.030407331883907318, 0.0008301101624965668, 0.019824303686618805, -0.04702332615852356, -0.01857639290392399, -0.014368001371622086, -0.052615854889154434, 0.024763641878962517, 0.013638796284794807, -0.06980310380458832, -0.04023041948676109, -0.027957063168287277, -0.011996034532785416, -0.02207007445394993, -0.03445509076118469, 0.025102177634835243, -0.012393461540341377, 0.015731709077954292, -0.011995053850114346, -0.009611723944544792, -0.03647693619132042, -0.016849564388394356, -0.04289364814758301, -0.08185421675443649, 0.0017083575949072838, 0.03862130269408226, -0.0012551512336358428, -0.03156034275889397, -0.001827155938372016, 0.05265897139906883, 0.010570726357400417, -0.043235212564468384, -0.028628308326005936, -0.023352118209004402, 0.04170649126172066, 0.033867791295051575, -0.0016409055097028613, -0.006459757685661316, -0.03834082931280136, 0.06739889085292816, -0.03741493076086044, 0.0416276790201664, 0.029310768470168114, -0.0036466456949710846, 0.04427563026547432, 0.018373282626271248, -0.017892038449645042, 0.04336417466402054, 0.00953593198210001, 0.012467505410313606, 0.011793946847319603, -0.00941459834575653, -0.019476762041449547, 0.06818635761737823, 0.0064420015551149845, 0.01595172844827175, -0.09467463195323944, 0.030011514201760292, -0.01561772357672453, 0.007696032989770174, 0.07522354274988174, 0.002525312127545476, -0.03241346776485443, 0.003868503263220191, -0.0202578566968441, 0.0006940392195247114, -0.0385962575674057, 0.01222173310816288, 0.08720225840806961, -0.009472266770899296, 0.0047059194184839725, 0.05231451615691185, -0.01278073713183403, 0.0021507623605430126, 0.004261884838342667, -0.0325164757668972, 0.057693831622600555, -0.01992799900472164, 0.001028599450364709, 0.013003058731555939, -0.03197858855128288, 0.04894617572426796, -0.013967238366603851, -0.008593093603849411, 0.0009263991960324347, -0.03883974999189377, -0.022912824526429176, 0.008475854992866516, -0.012828784063458443, 0.0377197228372097, 0.010858310386538506, -0.04086942970752716, 0.003013563109561801, 0.030681900680065155, -0.03591759130358696, -0.04449034482240677, -0.018693329766392708, -0.035794973373413086, 0.02816554345190525, 0.028799336403608322, 0.03365432098507881, 0.003971124067902565, 0.020110758021473885, 0.012566616758704185, -0.00704179098829627, -0.04381853714585304, 0.0775141641497612, 0.045813679695129395, 0.00452019739896059, 0.029703089967370033, -0.03083917871117592, 0.015280055813491344, 0.03906918689608574, 0.04385515674948692, -0.011092925444245338, 0.002114374889060855, -0.05742335692048073, 0.0003773752832785249, 0.029356040060520172, -0.013375937938690186, -0.012500748969614506, -0.00696162786334753, 0.004268017131835222, -0.0410744845867157, -0.018948396667838097, -0.008555187843739986, -0.008353051729500294, -0.042796872556209564, -0.04068220034241676, -0.04328439384698868, -0.03599528595805168, 0.0062975799664855, 0.012137587182223797, -0.10041197389364243, -0.017348842695355415, -0.03126519173383713, 0.02139226906001568, 0.004950935486704111, 0.007199413143098354, 0.05500034615397453, -0.039085786789655685, -0.029623866081237793, -0.013310729525983334, -0.04950501769781113, -0.057129472494125366, -0.030894797295331955, -0.010908743366599083, -0.048901189118623734, -0.02054314687848091, -0.005459349602460861, 0.02625473402440548, -0.029932228848338127, 0.008752623572945595, -0.028235089033842087, -0.038900405168533325, -0.0844484195113182, -0.017180323600769043, 0.027757151052355766, 0.013869172893464565, -0.049358680844306946, 0.029327623546123505, -0.02308039367198944, 0.018863629549741745, 0.03864310309290886, 0.011533240787684917, -0.040335990488529205, 0.022055575624108315, -0.045509934425354004, 0.02955818735063076, -0.04983514919877052, 0.012021660804748535, -0.01924898847937584, -0.03126756474375725, 0.0024018348194658756, -0.013770136050879955, -0.058033473789691925, -0.035156406462192535, 0.02750442363321781, 0.01052608247846365, 0.023344792425632477, -0.07741737365722656, -0.04043560102581978, -0.0018670486751943827, -0.042110051959753036, -0.012240083888173103, -0.012034758925437927, -0.011379056610167027, -0.027322186157107353, 0.07868615537881851, 0.0495171956717968, 0.013152308762073517, -0.014897449873387814, 0.024775570258498192, -0.02041846700012684, -0.0245930515229702, -0.005055014044046402, -0.0978337824344635, 0.01660691201686859, 0.0012496593408286572, -0.006271494552493095, -0.025640025734901428, -0.0863485187292099, 0.062287524342536926, -0.01410605013370514, -0.015415198169648647, -0.018009409308433533, -0.006285845767706633, -0.012219645082950592, 0.02281467616558075, 0.03510083630681038, 0.012178480625152588, 0.016326818615198135, -0.03217842057347298, -0.06611698865890503, -0.017741361632943153, 0.024533847346901894, -0.05263623967766762, 0.010247655212879181, 0.005955562461167574, 0.023902686312794685, -0.015068920329213142, 0.022093454375863075, 0.009673749096691608, -0.012051061727106571, 0.034698713570833206, -0.06281580030918121, 0.018543748185038567, 0.012570107355713844, 0.008843811228871346, -0.013620591722428799, -0.0048096501268446445, 0.005954512394964695, -0.008902373723685741, -0.024368755519390106, 0.02227546088397503, -0.043002933263778687, -0.03301500901579857, 0.06304526329040527, -0.04524954780936241, -0.03355568274855614, 0.03736817464232445, -0.008185193873941898, -0.06212371215224266, -0.0317133367061615, 0.07400266826152802, -0.05614886432886124, 0.03548595309257507, 0.027510659769177437, -0.049876824021339417, 0.008921897038817406, 0.0033965075854212046, 0.043218936771154404, -0.056254640221595764, 0.0019933385774493217, 0.019465332850813866, 0.027899518609046936, 0.002781213028356433, 0.06720458716154099, 0.03986762464046478, -0.020746728405356407, -0.00013268878683447838, 0.021896252408623695, -0.002524997340515256, 0.03218323737382889, 0.010146823711693287, 0.006661443971097469, 0.02530832216143608, -0.11818882077932358, 0.019390271976590157, 0.01885216496884823, -0.03939977288246155, 0.007314113900065422, 0.011154643259942532, -0.05358164384961128, 0.044696129858493805, -0.039524294435977936, -0.055408380925655365, 0.024053562432527542, 0.04650291055440903, -0.025330936536192894, -0.07239283621311188, 0.03817958012223244, -0.02197335660457611, 0.006722153630107641, 0.06910515576601028, 0.05889040231704712, -0.006474327761679888, -0.013239948078989983, 0.0632292777299881, 0.011597163043916225, -0.011206080205738544, 0.008135726675391197, -0.06242842227220535, -0.0019266625167801976, 0.029907844960689545, -0.013172098435461521, -0.06094331666827202, 0.026185844093561172, -0.018852991983294487, -0.04078728333115578, 0.027877306565642357, -0.040467001497745514, -0.0190548375248909, 0.01360510103404522, -0.029383307322859764, 0.025667313486337662, 0.04469189792871475, 0.007953220047056675, 0.032728031277656555, 4.5190859054855537e-07, -0.08405518531799316, 0.07016982138156891, -0.046866267919540405, -0.055640511214733124, -0.007895979098975658, 0.0022079937625676394, -0.004453411791473627, -0.030693260952830315, -0.0021908911876380444, -0.01811281405389309, 0.014243343845009804, -0.014153768308460712, 0.031817927956581116, -0.01126930583268404, 0.037081070244312286, 0.03310023993253708, -0.030781157314777374, 0.02954413741827011, 0.000912627496290952, -0.007036942057311535, 0.00938815250992775, -0.010538212954998016, 0.00546616455540061, 0.005259381607174873, 0.030715269967913628, -0.03378074988722801, 0.04100958630442619, 0.0284940917044878, -0.04999030381441116, -0.06030581519007683, -0.007524033542722464, 0.004046326503157616, -0.015134459361433983, -0.016085460782051086, 0.002401465317234397, -0.015379425138235092, -0.02672310173511505, -0.030108816921710968, 0.05780070275068283, 0.017185280099511147, 0.00896048080176115, 0.03368792310357094, -0.01760009676218033, -0.011349251493811607, -0.0009401307324878871, 0.015901094302535057, -0.03736637160181999, -0.004944672808051109, 0.03940299153327942, 0.010244873352348804, -0.041819266974925995, 0.004586490336805582, -0.012846427969634533, -0.019654925912618637, -0.0396285243332386, 0.06427336484193802, 0.05506805703043938, -0.07881948351860046, -0.10697843134403229, -0.018240731209516525, -0.028347499668598175, 0.024626612663269043, 0.04194329306483269, 6.065340858185664e-05, 0.016164550557732582, -0.022684955969452858, -0.0370829701423645, -0.03965212404727936, 0.05400966852903366, -0.01720263622701168, -0.03902384638786316, 0.030989719554781914, 0.011622142046689987, 0.014062376692891121, 0.03002767264842987, -0.039322011172771454, -0.049958303570747375, -0.07042398303747177, -0.03623547777533531, 0.03192691504955292, -0.03816714137792587, 0.06392260640859604, -0.033770788460969925, -0.04034916311502457, 0.024994567036628723, 0.02850656770169735, 0.0003884152101818472, 0.004860095214098692, -0.0159169789403677, 0.05051266402006149, -0.013615686446428299, -0.04803670197725296, -0.03451775014400482, 0.032333746552467346, -0.03485910966992378, 0.03994672745466232, -0.027005724608898163, 0.004144368693232536, -0.045487791299819946, -0.028702037408947945, 0.002505899639800191, -0.024283714592456818, -0.03479651361703873, 0.016667881980538368, 0.04214143380522728, 0.04608718678355217, -0.010650749318301678, 0.012443387880921364, 0.0486501082777977, -0.02338765189051628, -0.03964012861251831, -0.05933529511094093, 0.025441689416766167, 0.036881692707538605, -0.007707260549068451, -0.01290017832070589, -0.028168296441435814, 0.003847433952614665, 0.015514257363975048, 0.00813505332916975, 0.04305286332964897, -0.0798545628786087, -0.0333305224776268, 0.05590592697262764, 0.04972095042467117, -0.01714865118265152, 0.0033353918697685003, 0.0010263079311698675, -0.07184532284736633, 0.05708475783467293, 0.08097207546234131, -0.0024736826308071613, 0.035891130566596985, -0.03161454200744629, -0.027872620150446892, 0.0680345892906189, 0.020141467452049255, 0.015082530677318573, -0.028791043907403946, 0.011008087545633316, 0.08422678709030151, 0.05398079380393028, -0.05523907393217087, 0.00278923730365932, -0.027641795575618744, 0.052459716796875, 0.031991321593523026, 0.03331170603632927, -0.00867677666246891, -0.08415160328149796, -0.061813317239284515, 0.016360344365239143, 0.01749795861542225, 0.05763983726501465, -0.004968959838151932, -0.06336885690689087, -0.022608760744333267, -0.030494414269924164, -0.013980302028357983, -0.04723687469959259, -0.06280014663934708, -0.00878240168094635, -0.025267768651247025, 0.033424559980630875, 0.07044879347085953, -0.05018458887934685, -0.02371877431869507, -0.02414783462882042, 0.0097793098539114, 0.021047011017799377, -0.06580669432878494, 0.013358596712350845, -0.03267184644937515, 0.03907138481736183, -0.0025781309232115746, 0.04151033237576485, -0.051784973591566086, 0.014363511465489864]}, page_content='Kode Rekening: kode_rekening    4.1.3.1.1\\nkode_rekening    4.1.3.1.1\\nName: 295, dtype: object\\nNama Rekening: Bagian Laba yang Dibagikan kepada Pemerintah Daerah (Dividen) atas Penyertaan Modal pada BUMN\\nPendapatan: 0.0\\nRealisasi: 0.0\\nPersentase: 0.0'), Document(metadata={'kode_rekening': {'kode_rekening': '4.3'}, 'nama_rekening': 'Lain-Lain Pendapatan Daerah yang Sah', 'embedding': [0.046896420419216156, -0.01005425862967968, -0.030616801232099533, 0.019052157178521156, 0.09029889106750488, 0.02107197232544422, 0.018657555803656578, -0.07446976006031036, -0.025015393272042274, 0.009032374247908592, -0.02386467158794403, -0.018360067158937454, -0.04328734427690506, -0.017114795744419098, -0.012188485823571682, 0.01325657032430172, 0.011356862261891365, -0.01143561489880085, -0.023462651297450066, -0.03320843726396561, -0.0627361461520195, 0.017062688246369362, -0.013570177368819714, 0.004506560508161783, 0.006796692963689566, -0.009912136942148209, -0.00872301496565342, -0.03198008984327316, -0.04755055531859398, 0.008904310874640942, -0.03779516741633415, 0.0257650688290596, -0.025373151525855064, -0.010573307052254677, -0.028273385018110275, -0.014813242480158806, -0.008444522507488728, 0.01668853685259819, 0.04602222889661789, 0.048749640583992004, -0.005426330957561731, 0.005974124185740948, 0.018694214522838593, -0.022599821910262108, 0.038409434258937836, -0.04178806021809578, 0.01955254003405571, -0.004864427726715803, 0.02627880498766899, -0.05405285581946373, 0.009455041959881783, 0.013011596165597439, 0.05857984721660614, -0.009587404318153858, -0.033939577639102936, -0.08689236640930176, -0.026094423606991768, -0.0028418784495443106, -0.022902917116880417, -0.004009399563074112, -0.010841967537999153, 0.01059657521545887, 0.014472243376076221, 0.06423250585794449, -0.004999412689357996, -0.05869032442569733, -0.037033043801784515, 0.010416165925562382, 0.07729457318782806, -0.014442721381783485, 0.017772329971194267, -0.016993539407849312, 0.07570642232894897, 0.013359223492443562, -0.03237047791481018, -0.08113539218902588, -0.015831397846341133, 0.014784247614443302, 0.039229441434144974, 0.027579568326473236, -0.00606171041727066, -0.06081422418355942, -0.03304392844438553, -0.023255055770277977, -0.0328301265835762, 0.07066261023283005, -0.06817092001438141, -0.005003415513783693, -0.0289374440908432, 0.05643405392765999, -0.0046226936392486095, -0.017295654863119125, 0.007123597431927919, -0.07480961829423904, 0.012241625227034092, 0.0786857083439827, 0.0024582259356975555, -0.02953927591443062, 0.006192066706717014, -0.06844867765903473, -0.019215844571590424, -0.03416159749031067, -0.03181237354874611, -0.0169464573264122, -0.0062089660204946995, 0.025150632485747337, 0.016465188935399055, 0.014163980260491371, -0.057099126279354095, 0.03441125899553299, -0.04411677271127701, -0.04532792046666145, 2.759846938715782e-05, 0.017098188400268555, 0.012268898077309132, -0.015951815992593765, -0.00757130840793252, 0.053070634603500366, -0.003885789541527629, 0.0052738008089363575, 0.04561934247612953, 0.029997294768691063, -0.0020992590580135584, -0.026215190067887306, 0.03657049685716629, -0.005535781383514404, -0.041726771742105484, -0.002002284862101078, 0.041504353284835815, 0.0779266208410263, 0.022925376892089844, -0.030274193733930588, 0.022806884720921516, -0.012150987051427364, 0.037282831966876984, 0.019642645493149757, 0.009538555517792702, 0.01633935049176216, 0.0239583607763052, 0.006190957967191935, -0.025627125054597855, 0.03175082802772522, -0.003612615168094635, 0.028597043827176094, -0.0033846241421997547, 0.02639319747686386, 0.02192460559308529, 0.01048172265291214, 0.0847754254937172, -0.03296486660838127, -0.015660574659705162, -0.02078983746469021, -0.0662185549736023, 0.0007958991918712854, 0.06312434375286102, 0.06673294305801392, -0.008153065107762814, 0.011297043412923813, 0.011419516988098621, 0.07170303910970688, 0.053140394389629364, 0.012995838187634945, -0.037578895688056946, 0.002194388769567013, -0.013938864693045616, -0.06640616804361343, 0.02318551205098629, 0.019816212356090546, 0.027867071330547333, -0.05358365178108215, 0.005738242529332638, -0.003852416528388858, -0.07348513603210449, -0.044774364680051804, -0.05166437104344368, -0.08682338893413544, -0.03465484082698822, 0.005014646798372269, 0.002185641787946224, 0.037793781608343124, -0.0075986613519489765, -0.03947337344288826, 0.03488918021321297, 0.020890872925519943, 0.03546727076172829, -0.009268590249121189, 0.04782695323228836, -0.02479076012969017, -0.015117332339286804, -0.0565328411757946, -0.03371017798781395, -0.043626755475997925, -0.010117310099303722, 5.4451735195470974e-05, -0.03645583614706993, 0.027875052765011787, 0.000391032372135669, 0.048399802297353745, -0.015278461389243603, -0.010787189938127995, -0.04155711829662323, 0.01784738153219223, 0.015677964314818382, 0.0014317947207018733, 0.06847240775823593, -0.04057237505912781, 0.06279004365205765, -0.003657303052023053, -0.006165485829114914, 0.05183808505535126, -0.027519434690475464, -0.00800710916519165, -0.025133222341537476, -0.02707861363887787, 0.04016464576125145, 0.04865537956357002, -0.00035951510653831065, -0.001996877370402217, -0.014905323274433613, -0.028985606506466866, -0.03637373074889183, -0.007169236894696951, -0.02027074247598648, 0.028187738731503487, -0.006577330641448498, 0.015413263812661171, 0.03505633398890495, 0.04096897318959236, -0.005268311593681574, -0.02369043044745922, 0.012337016873061657, 0.08307027816772461, 0.04875519126653671, -0.013787556439638138, 0.09395646303892136, 0.0007281802827492356, 0.02170451171696186, 0.03673223406076431, 0.004891573917120695, 0.02094825729727745, -0.039621517062187195, -0.0001950939913513139, 0.03773516044020653, 0.038000136613845825, -0.07851395756006241, -0.03658164665102959, 0.012148309499025345, 0.07151634991168976, 0.003602285636588931, 0.07538110017776489, -0.0276886448264122, -0.04329652711749077, 0.01765470579266548, 0.02931971102952957, -0.029866203665733337, 0.02201872132718563, -0.03796420618891716, 0.04157121479511261, 0.02081245742738247, 0.016042834147810936, 0.019001301378011703, -0.0023560691624879837, 0.020174764096736908, 0.0017477520741522312, -0.004216217901557684, 0.022771621122956276, 0.02031749300658703, -0.03175993636250496, -0.0278322771191597, 0.02458859607577324, -0.025719856843352318, -0.03219063952565193, 0.11875144392251968, 0.03437812626361847, -0.004901079460978508, 0.06349530816078186, -0.024685755372047424, 0.05398883670568466, -0.03234189376235008, -0.04391103982925415, -0.009504309855401516, 0.0184724573045969, 0.02933558262884617, -0.022958332672715187, -0.006978391669690609, -0.015642356127500534, -0.028052909299731255, 0.018697533756494522, 0.014386793598532677, -0.056433528661727905, -0.03860479220747948, -0.025368807837367058, -0.019789686426520348, -0.04429839551448822, -0.054386138916015625, -0.02187408320605755, 0.0061188568361103535, -0.007509545423090458, -0.01211132574826479, -0.0019612531177699566, -0.03159772977232933, -0.038873422890901566, -0.03742873668670654, -0.0999831035733223, 0.00557871675118804, 0.014898434281349182, 0.015615032985806465, -0.027935022488236427, -0.009576601907610893, 0.051622699946165085, -0.009991779923439026, -0.05982070788741112, -0.04196092486381531, -0.027045734226703644, 0.05807890743017197, 0.05582880601286888, -0.02002561092376709, -0.01445635873824358, -0.01830764301121235, 0.08670535683631897, -0.017006926238536835, 0.036673471331596375, 0.05365482717752457, -0.01957300864160061, 0.022349029779434204, 0.014635033905506134, -0.01493525318801403, 0.00726698711514473, 0.02222314104437828, 0.022093430161476135, 0.0021563731133937836, 0.010901476256549358, -0.03233082592487335, 0.05942508205771446, 0.001311940373852849, 0.007831016555428505, -0.08171696960926056, 0.03148691728711128, -0.007870230823755264, 0.020941587164998055, 0.0617084838449955, -0.008617083542048931, -0.019919443875551224, -0.028771137818694115, -0.03342592716217041, -0.00811256654560566, -0.03270683065056801, 0.0143331503495574, 0.08069569617509842, 0.00017456476052757353, 0.024367453530430794, 0.05245167762041092, -0.011663929559290409, 0.0012484942562878132, -0.029697876423597336, -0.019897909834980965, 0.06139349192380905, 0.011221394874155521, 0.037607599049806595, 0.00251566874794662, -0.04721321910619736, 0.059695445001125336, -0.023303518071770668, 0.0031208815053105354, -0.03371318802237511, -0.01585650071501732, -0.00863292720168829, -0.008003518916666508, -0.004450460895895958, 0.02274193987250328, 0.023188652470707893, -0.03967137262225151, 0.0054309554398059845, -0.001757772988639772, -0.03480849787592888, -0.049261149019002914, -0.013133094646036625, -0.03386182337999344, 0.01996365375816822, 0.013729343190789223, 0.0022410983219742775, 0.00877383816987276, 0.03268821910023689, 0.012925620190799236, 0.02280004322528839, -0.04334743693470955, 0.07689028233289719, 0.04386621713638306, -0.0010312730446457863, 0.04419403523206711, -0.032804276794195175, 0.016493678092956543, 0.06478884071111679, 0.037489503622055054, -0.021567221730947495, 0.025182975456118584, -0.06601850688457489, -0.01976248435676098, 0.046186335384845734, -0.027736136689782143, -0.00547023955732584, -0.011377858929336071, 0.017892032861709595, -0.049524273723363876, -0.007187445182353258, -0.027097798883914948, -0.00847532320767641, -0.018449965864419937, -0.0277112927287817, -0.03641913831233978, -0.01360266748815775, 0.01360622700303793, 0.01468443963676691, -0.11446953564882278, -0.034432779997587204, -0.04022518917918205, 0.016854090616106987, 0.015256560407578945, 0.0011030507739633322, 0.0650746077299118, -0.02405952475965023, -0.0204160138964653, -0.025432607159018517, -0.05793265625834465, -0.05598878115415573, -0.034710537642240524, -0.007042053621262312, -0.01717817597091198, 0.0038044010289013386, 0.01848542131483555, 0.014241605997085571, -0.04701327905058861, 0.025996331125497818, -0.024973874911665916, -0.024311084300279617, -0.06680341809988022, -0.016917293891310692, 0.04133725166320801, 0.0062024714425206184, -0.03795624524354935, 0.04191330075263977, -0.02644336223602295, 0.006554497871547937, 0.03175266459584236, 0.013847400434315205, -0.0342678539454937, 0.017818760126829147, -0.06111198291182518, 0.026606056839227676, -0.06298377364873886, 0.00896571297198534, -0.016327304765582085, -0.04978064447641373, 0.0028510952834039927, -0.004817354492843151, -0.04447195678949356, -0.025516033172607422, 0.03239356353878975, -0.010653328150510788, 0.01770934835076332, -0.05123193934559822, -0.047949522733688354, 0.014084882102906704, -0.03292453661561012, -0.014922019094228745, -0.017772912979125977, 0.0022092307917773724, -0.043908216059207916, 0.061655331403017044, 0.047574687749147415, 0.03177718445658684, -0.020737063139677048, 0.033345289528369904, -0.0042658401653170586, -0.018616827204823494, 0.00509127601981163, -0.07328570634126663, 0.02038194052875042, 0.008179763332009315, -0.024254577234387398, -0.027660531923174858, -0.066523976624012, 0.046339403837919235, -0.015387462452054024, -0.0003814995288848877, 0.011194824241101742, 0.002859367523342371, -0.026943353936076164, 0.04295685514807701, 0.039179544895887375, 0.0019936426542699337, 0.006534934975206852, -0.03811030462384224, -0.06490572541952133, 0.013608083128929138, 0.03727741912007332, -0.0558125376701355, 0.02068447880446911, -0.0014973527286201715, 0.024991847574710846, -0.0004942634259350598, 0.024798203259706497, 0.0024854675866663456, 0.00020509955356828868, 0.048126332461833954, -0.07078441977500916, -0.007606819737702608, 0.004144021775573492, 0.011967545375227928, 0.008896575309336185, -0.010683080181479454, 0.0195198655128479, -0.017433801665902138, -0.020947134122252464, 0.025066349655389786, -0.0305616594851017, -0.011059948243200779, 0.06971601396799088, -0.023319846019148827, -0.0032386467792093754, 0.04001795873045921, 0.016023773699998856, -0.04872152954339981, -0.014176326803863049, 0.07978174090385437, -0.03509166091680527, -0.000798902241513133, 0.010144849307835102, -0.05144762620329857, 0.005287359934300184, 0.018766939640045166, 0.04479176178574562, -0.03948448970913887, -0.030713209882378578, 0.02311992458999157, -0.002131786197423935, -0.011754252947866917, 0.07152582705020905, 0.027630481868982315, 0.0036442778073251247, 0.01740391179919243, 0.006469416432082653, -0.003229409223422408, 0.02564661018550396, 0.015332333743572235, -0.030755115672945976, 0.00761427590623498, -0.09172380715608597, 0.0057821511290967464, 0.02371135912835598, -0.05322892591357231, -0.00968637503683567, 0.0035849285777658224, -0.06119644641876221, 0.029682019725441933, -0.031145703047513962, -0.058639951050281525, -8.32365985843353e-05, 0.024943120777606964, -0.022004351019859314, -0.05049213394522667, 0.03215669095516205, -0.03478318452835083, 0.001234396593645215, 0.08192960172891617, 0.06368006020784378, 0.0006896387203596532, -0.02789382077753544, 0.0803133025765419, 0.000905022316146642, -0.00634445296600461, -0.013019180856645107, -0.05234894901514053, -0.003713850164785981, 0.045033302158117294, -0.04369286820292473, -0.036236733198165894, 0.03388461843132973, -0.019232051447033882, -0.03871864080429077, 0.03555460646748543, -0.04840821027755737, -0.01065265666693449, -0.0038212663494050503, -0.004786232952028513, 0.04349112883210182, 0.04394133761525154, 0.007453936152160168, 0.03425798937678337, -0.004933052696287632, -0.07337876409292221, 0.06252284348011017, -0.03185199946165085, -0.04857828468084335, -0.014983325265347958, -0.0038384082727134228, -0.029317669570446014, -0.009246946312487125, -0.022952061146497726, -0.02707642689347267, 0.01655607856810093, -0.024652451276779175, 0.0332169234752655, -0.00749009707942605, 0.04133915528655052, 0.03705872595310211, -0.02790871262550354, -0.004031829535961151, 0.006405560299754143, 0.0026394659653306007, 0.012569177895784378, -0.0034627458080649376, 0.02611570805311203, 0.00041497155325487256, 0.0024160598404705524, -0.03183501213788986, 0.042312245815992355, 0.03203894570469856, -0.05899127945303917, -0.047019679099321365, 0.010553134605288506, -0.015138772316277027, -0.028562908992171288, -0.024765197187662125, 0.02953368052840233, -0.018351832404732704, -0.013614794239401817, -0.033920641988515854, 0.059658393263816833, 0.034180156886577606, 0.035426490008831024, 0.06264790147542953, -0.025103773921728134, -0.018029289320111275, -0.0209160428494215, 0.0006169654079712927, -0.04673362895846367, -0.04164336249232292, 0.02536837011575699, 0.02792629785835743, -0.0795789435505867, 0.013018198311328888, -0.0036902728024870157, -0.034880004823207855, -0.03630270063877106, 0.05396131053566933, 0.046295300126075745, -0.06043189764022827, -0.06747572869062424, -0.020865201950073242, -0.03815227374434471, 0.006364044267684221, 0.02514258585870266, -0.01411406695842743, 0.014649280346930027, -0.03706579655408859, -0.02809830754995346, -0.045285094529390335, 0.0684923380613327, -0.016194431111216545, -0.03410690277814865, 0.04241811856627464, -0.01606217585504055, 0.0010498401243239641, 0.010523590259253979, -0.022220203652977943, -0.038841672241687775, -0.054805174469947815, -0.03445577621459961, 0.05533810332417488, -0.04952181875705719, 0.05885259434580803, -0.03461902588605881, -0.03722119331359863, 0.06698594987392426, 0.050977881997823715, -0.005553892347961664, 0.03549022972583771, -0.00038122007390484214, 0.02008781209588051, 0.0012417318066582084, -0.020657476037740707, -0.04321116581559181, 0.040482036769390106, -0.024918653070926666, 0.02009955421090126, -0.02137688919901848, 0.007430867291986942, -0.06375572830438614, -0.039175648242235184, -0.002416109899058938, 0.001772077288478613, -0.035909075289964676, 0.0074916742742061615, 0.048861511051654816, 0.035996947437524796, 0.018504666164517403, 0.020175471901893616, 0.03924061730504036, -0.00961057748645544, -0.058720916509628296, -0.07423520088195801, 0.01723029650747776, 0.02948811464011669, -0.014207039959728718, -0.008163624443113804, -0.007545153144747019, 0.0031328753102570772, 0.04003774747252464, 0.0279526524245739, 0.04730411618947983, -0.08008638024330139, -0.04911443218588829, 0.04570649564266205, 0.027265381067991257, -0.015537867322564125, 0.018518898636102676, 0.0028386306948959827, -0.058080222457647324, 0.03303384408354759, 0.09561152011156082, -0.004903978202491999, 0.006564328446984291, -0.047026701271533966, -0.0415692999958992, 0.06522674858570099, -0.00043752926285378635, -0.004693562630563974, -0.021348943933844566, 0.007138541899621487, 0.11958000063896179, 0.060856033116579056, -0.052343737334012985, 0.00015324213018175215, -0.029647670686244965, 0.05384917929768562, -0.0034127789549529552, 0.044796016067266464, -0.031123042106628418, -0.1081622987985611, -0.04471695050597191, -0.00036679935874417424, 0.013540171086788177, 0.06050124764442444, 0.008124186657369137, -0.06350570172071457, -0.015947159379720688, -0.013828178867697716, -0.01878933049738407, -0.05183237046003342, -0.06858179718255997, -0.006165701430290937, -0.03550771251320839, 0.046998072415590286, 0.05927428975701332, -0.041028741747140884, -0.02545059099793434, -0.028908614069223404, 0.03286676108837128, 0.01584063097834587, -0.06929076462984085, 0.00089392124209553, -0.02918807975947857, 0.031921323388814926, -0.006684829946607351, 0.04277195781469345, -0.02784816548228264, 0.00965212658047676]}, page_content='Kode Rekening: kode_rekening    4.3\\nkode_rekening    4.3\\nName: 677, dtype: object\\nNama Rekening: Lain-Lain Pendapatan Daerah yang Sah\\nPendapatan: 60000000000.0\\nRealisasi: 65783434869.69\\nPersentase: 109.63905811615'), Document(metadata={'kode_rekening': {'kode_rekening': '4.1.3.3.1'}, 'nama_rekening': 'Bagian Laba yang Dibagikan kepada Pemerintah Daerah (Dividen) atas Penyertaan Modal pada Perusahaan Milik Swasta', 'embedding': [0.022868327796459198, -0.01303927693516016, -0.03880103677511215, 0.01448109932243824, 0.07342566549777985, 0.03906441852450371, 0.04093717038631439, -0.06609843671321869, -0.021141324192285538, 0.03316948935389519, -0.012673060409724712, 0.006083730608224869, -0.06625714153051376, -0.017277007922530174, -0.01937733218073845, -0.009944282472133636, -0.011592604219913483, -0.02347003109753132, -0.005296680144965649, -0.02933274582028389, -0.03576738014817238, 0.0043446384370327, -0.013832289725542068, 0.03115919418632984, 0.017738517373800278, -0.01596963033080101, -0.030231351032853127, -0.05306502804160118, -0.03683946281671524, 0.01221923902630806, -0.034137312322854996, 0.040534984320402145, -0.028239060193300247, -0.008336509577929974, -0.014939106069505215, -0.03466755524277687, 0.0025290176272392273, -0.0015091677196323872, 0.031535059213638306, 0.07262224704027176, 0.0098097650334239, 0.020246217027306557, 0.00998430885374546, -0.02033512108027935, 0.01311361975967884, -0.04222194477915764, 0.009124950505793095, 0.007160463836044073, 0.03197634965181351, -0.033376116305589676, 0.02324272319674492, -0.001880807220004499, 0.029866745695471764, -0.016086166724562645, -0.027921011671423912, -0.07670025527477264, -0.009616300463676453, -0.006966313812881708, -0.004127273336052895, -0.03537770360708237, -0.012370371259748936, 0.025207648053765297, -0.00958196073770523, 0.06952839344739914, -0.021956121549010277, -0.05952617898583412, -0.049556914716959, -0.0003349612816236913, 0.060882389545440674, -0.005737842060625553, 0.04771850258111954, -0.012315936386585236, 0.06483716517686844, 0.002247769385576248, -0.04266701266169548, -0.08691175282001495, -0.026017310097813606, 0.030613016337156296, 0.05559821054339409, 0.030942581593990326, 0.019142968580126762, -0.06880594789981842, -0.008728587999939919, -0.030020898208022118, -0.008283792063593864, 0.07080340385437012, -0.04196470230817795, -0.001816329313442111, -0.0212719589471817, 0.06403911858797073, -0.0027573686093091965, -0.025574184954166412, -0.00726731214672327, -0.07380732893943787, 0.027841409668326378, 0.06607289612293243, -0.008108817972242832, -0.03188439831137657, -0.0005274579743854702, -0.04095354676246643, -0.032956790179014206, -0.04798499494791031, -0.030612386763095856, -0.042798962444067, -0.011224690824747086, 0.041036456823349, -0.015839336439967155, 0.026632457971572876, -0.05215146765112877, 0.02590947225689888, -0.05209150165319443, -0.0231462512165308, -0.0036120496224611998, -0.008419159799814224, 0.045820098370313644, -0.013010245747864246, -0.027741076424717903, 0.060981471091508865, 0.014458274468779564, 0.0029164040461182594, 0.045691970735788345, 0.008852539584040642, 0.0002534909872338176, -0.0034676040522754192, 0.000255852093687281, -0.01962314546108246, -0.05495213344693184, 0.011687028221786022, 0.055760785937309265, 0.0900544822216034, 0.020872903987765312, -0.004506423603743315, 0.02285897172987461, -0.011172087863087654, 0.031126393005251884, 0.04677530378103256, 0.01604490354657173, 0.012964560650289059, 0.0455426350235939, -0.004079726058989763, -0.012261745519936085, 0.03407404199242592, 0.02004489302635193, 0.03077566809952259, -0.0034855396952480078, 0.05345252901315689, 0.015122453682124615, 0.010026904754340649, 0.09537816792726517, -0.012772089801728725, -0.03245427832007408, -0.014319004490971565, -0.08569542318582535, 0.03404674679040909, 0.05542728304862976, 0.06048514321446419, 0.013658524490892887, -0.007507356349378824, 0.02001984417438507, 0.09149184077978134, 0.05492442473769188, 0.021845946088433266, -0.02209792472422123, -0.009573128074407578, 0.001730575691908598, -0.05265146121382713, 0.021672315895557404, 0.00034594599856063724, 0.02606200985610485, -0.03542720526456833, -0.004353794734925032, 0.0021595871075987816, -0.04962095990777016, -0.04293737933039665, -0.02009602263569832, -0.07536584138870239, 0.004054220858961344, -0.008108984678983688, -0.015387783758342266, 0.03811943903565407, -0.027322180569171906, -0.021885139867663383, 0.051447123289108276, 0.0029317152220755816, 0.021739525720477104, -0.0162912979722023, 0.06869316846132278, -0.023365125060081482, -0.021932920441031456, -0.047763798385858536, -0.03255382552742958, -0.025790318846702576, -0.025058399885892868, -0.023137366399168968, -0.052102066576480865, 0.01115590799599886, 0.010892720893025398, 0.05421094596385956, -0.0251926239579916, -0.029178481549024582, -0.03188043087720871, 0.005647327285259962, 0.007674568798393011, -0.008903512731194496, 0.0456399992108345, -0.030999429523944855, 0.04627629742026329, -0.00218798965215683, -0.01701119728386402, 0.0389983206987381, -0.016589827835559845, -0.015153934247791767, -0.007954385131597519, -0.0026286114007234573, 0.05364537611603737, 0.02722543105483055, 0.0008909174357540905, 0.008055592887103558, -0.010185322724282742, -0.04713749885559082, -0.031517431139945984, -0.00863958802074194, -0.0016823629848659039, 0.027164103463292122, 0.009258978068828583, -0.0005960346898064017, 0.04797529801726341, 0.04157855361700058, -0.010618699714541435, -0.05038151890039444, -0.021723147481679916, 0.1000697910785675, 0.0195712149143219, -0.028298644348978996, 0.0752694234251976, -0.0009696877095848322, 0.007555726915597916, 0.04202575609087944, -0.0071979002095758915, 0.034560348838567734, -0.03387925401329994, 0.0189498420804739, 0.04787754639983177, 0.03219658508896828, -0.041844919323921204, -0.02152508869767189, 0.03692694753408432, 0.06076769158244133, -0.015144070610404015, 0.08555420488119125, -0.028946399688720703, -0.07301222532987595, 0.03089972212910652, 0.017261547967791557, -0.01643892377614975, 0.027813196182250977, -0.03647652268409729, 0.053121697157621384, 0.027658186852931976, 0.014112402684986591, 0.04643259197473526, -0.004364923574030399, -0.000868857663590461, -0.03146502748131752, 0.007600108627229929, -0.009680821560323238, -0.0008226509671658278, -0.016693204641342163, -0.023679599165916443, 0.0334743894636631, -0.0027442409191280603, -0.034981340169906616, 0.08076008409261703, 0.06182646006345749, -0.01805497147142887, 0.05837898701429367, -0.013511919416487217, 0.06392966210842133, -0.013135550543665886, -0.053537189960479736, 0.03026195429265499, 0.025383861735463142, 0.01844249852001667, -0.04868351295590401, -0.03177022561430931, -0.0049368152394890785, -0.0496065728366375, 0.026331694796681404, 0.011010793969035149, -0.0625525414943695, -0.04656350985169411, -0.03458777815103531, -0.008498021401464939, -0.022682877257466316, -0.04069073125720024, 0.017064671963453293, -0.00831112451851368, 0.019557569175958633, -0.010752977803349495, -0.0028294604271650314, -0.0368022695183754, -0.02881847694516182, -0.03413419425487518, -0.09010819345712662, 0.003958517219871283, 0.022316165268421173, -0.021253220736980438, -0.02743646129965782, -0.007781408727169037, 0.05248958617448807, 0.009002326056361198, -0.0479380339384079, -0.028919557109475136, -0.03492075577378273, 0.051989078521728516, 0.03933057561516762, -0.01177847571671009, -0.013510159216821194, -0.03603677451610565, 0.06885699182748795, -0.03267267346382141, 0.031354788690805435, 0.018587522208690643, -0.012138953432440758, 0.03600577637553215, 0.029009871184825897, -0.0421195924282074, 0.03282741829752922, 0.0053151389583945274, 0.013431433588266373, 0.005340767093002796, 0.00035360129550099373, -0.03252184018492699, 0.06234161555767059, 0.012123961932957172, 0.03134925290942192, -0.0745786651968956, 0.03334677964448929, -0.00758363725617528, 0.011268503032624722, 0.08026090264320374, 0.006486216094344854, -0.03355875983834267, -0.0012986044166609645, -0.0220144335180521, 0.011255131103098392, -0.048343949019908905, 0.01449627336114645, 0.09675715118646622, -0.008540619164705276, 0.021998951211571693, 0.04832179844379425, 0.0001959707005880773, -0.0059505365788936615, 0.0010201834375038743, -0.023983221501111984, 0.07075493782758713, -0.006724867969751358, -0.0006651071598753333, 0.009080410934984684, -0.06074343994259834, 0.054600104689598083, -0.024940770119428635, 0.005003900267183781, -0.00632752338424325, -0.03753873333334923, -0.01398020051419735, 0.009040414355695248, -0.00805723201483488, 0.02581372670829296, 0.010158998891711235, -0.04393649846315384, -0.000384124752599746, 0.022485964000225067, -0.017774997279047966, -0.05048202723264694, -0.017032193019986153, -0.03180891275405884, 0.023847661912441254, 0.042941171675920486, 0.013939723372459412, 0.0026154944207519293, 0.00913951639086008, 0.029370734468102455, -0.0026048242580145597, -0.044129226356744766, 0.08389605581760406, 0.03908204287290573, 0.014330020174384117, 0.03202679380774498, -0.04460722208023071, 0.018755165860056877, 0.04507673159241676, 0.040959399193525314, -0.014997506514191628, 0.019843699410557747, -0.0540790855884552, -0.015538910403847694, 0.026940828189253807, -0.02270521968603134, -0.03193921968340874, -0.00836341455578804, -0.0031491518020629883, -0.054050952196121216, -0.011731351725757122, -0.023813392966985703, -0.01730271242558956, -0.04728054627776146, -0.04415145143866539, -0.03959948569536209, -0.04181060940027237, 0.004497468005865812, 0.010924289934337139, -0.09500818699598312, -0.027361396700143814, -0.026653585955500603, 0.017216891050338745, -0.009739802218973637, -0.003865809878334403, 0.04302699491381645, -0.052633315324783325, -0.019579803571105003, -0.0357842743396759, -0.07003965973854065, -0.052709221839904785, -0.02762405388057232, -0.00989014282822609, -0.03728332370519638, -0.015833403915166855, -0.006679409649223089, 0.02110942266881466, -0.044447630643844604, 0.030040118843317032, -0.020910006016492844, -0.039733562618494034, -0.0767304077744484, -0.011023466475307941, 0.03085668943822384, 4.057140904478729e-05, -0.045575447380542755, 0.033664051443338394, -0.027809733524918556, 0.015134070999920368, 0.028185322880744934, 0.01721867173910141, -0.03180510923266411, 0.029860220849514008, -0.06640619039535522, 0.01302500069141388, -0.04229478910565376, 0.01572042517364025, -0.02325284853577614, -0.03230684995651245, -0.011804440058767796, -0.006230583880096674, -0.05298668146133423, -0.0214532483369112, 0.008043082430958748, 0.01646779105067253, 0.020931707695126534, -0.07182358205318451, -0.04507962614297867, 0.0039941295981407166, -0.029489338397979736, -0.0006443849997594953, -0.013690948486328125, -0.010428156703710556, -0.01932673528790474, 0.08382369577884674, 0.04776209220290184, 0.02298530377447605, -0.031013241037726402, 0.02275811694562435, -0.03169972077012062, -0.03550517186522484, 0.005140927620232105, -0.08537763357162476, 0.013266856782138348, 0.0028898892924189568, -0.02491351217031479, -0.020987221971154213, -0.08246558159589767, 0.07222084701061249, -0.001958270324394107, -0.02543703280389309, -0.017614006996154785, -0.0037110864650458097, -0.020744485780596733, 0.031130341812968254, 0.04005613923072815, 0.01113157533109188, 0.010002264752984047, -0.02062954194843769, -0.07303915917873383, -0.01769077591598034, 0.0114596514031291, -0.060353752225637436, 0.02632904052734375, -0.0016362714814022183, 0.02428549900650978, -0.010044845752418041, 0.02903776615858078, 0.006442341022193432, -0.020746907219290733, 0.020124906674027443, -0.060768451541662216, 0.02113432250916958, 0.004452442284673452, 0.026631014421582222, -0.02010614052414894, 0.006261980626732111, 0.023555025458335876, -0.01584889367222786, -0.025330333039164543, 0.01698094978928566, -0.042839501053094864, -0.021063905209302902, 0.049694038927555084, -0.041329625993967056, -0.02767099253833294, 0.05510658025741577, -0.0016397255240008235, -0.08299664407968521, -0.04350189119577408, 0.06374041736125946, -0.05355573818087578, 0.03868525102734566, 0.004446865525096655, -0.04903614893555641, 0.005897992290556431, 0.004257786553353071, 0.04869218170642853, -0.060499660670757294, 0.008263620547950268, 0.015257450751960278, 0.024330519139766693, -0.005534658674150705, 0.06949791312217712, 0.035973768681287766, -0.015811605378985405, 0.001933097606524825, 0.016921373084187508, 0.009261975064873695, 0.013191272504627705, 0.0064062089659273624, 0.00047664475277997553, 0.02212705835700035, -0.10855017602443695, 0.01321772113442421, 0.0297558531165123, -0.03421107307076454, 0.0037433479446917772, 0.014141879975795746, -0.05525268241763115, 0.03607751056551933, -0.042278554290533066, -0.05951234698295593, 0.027801647782325745, 0.03355833888053894, -0.030751653015613556, -0.06057479605078697, 0.03968294337391853, -0.017462441697716713, 0.002396418945863843, 0.07971753180027008, 0.06653500348329544, -0.023067081347107887, -0.02486267313361168, 0.059697963297367096, 0.010819404385983944, 0.0047538080252707005, -1.1752456885005813e-05, -0.04795960336923599, 0.000732900807633996, 0.03385322540998459, -0.018255949020385742, -0.045719265937805176, 0.02509571798145771, -0.015618493780493736, -0.03395412117242813, 0.025378422811627388, -0.04376289248466492, -0.01869560219347477, 0.002171620260924101, -0.028333986178040504, 0.014967131428420544, 0.04288337752223015, -0.0014414266915991902, 0.020992523059248924, -0.02151435613632202, -0.08036495000123978, 0.06606199592351913, -0.04461619630455971, -0.04969366639852524, 0.005934420973062515, 0.016946615651249886, -0.014372402802109718, -0.0386798270046711, 0.00027998900623060763, -0.013994192704558372, 0.008872956037521362, -0.0029353778809309006, 0.029204078018665314, -0.006307132076472044, 0.0395270474255085, 0.037018924951553345, -0.01704541966319084, 0.008034218102693558, 0.012319573201239109, -0.019455833360552788, 0.004592956509441137, -0.02483491599559784, 0.007801121100783348, 0.015278282575309277, 0.03508259728550911, -0.052657000720500946, 0.035407811403274536, 0.03126977011561394, -0.06483113020658493, -0.04210899770259857, -0.006245480850338936, 0.004408743232488632, -0.008981317281723022, -0.0236223004758358, 0.0035241146106272936, -0.014338812790811062, -0.021732695400714874, -0.006603637244552374, 0.057175274938344955, 0.031556058675050735, 0.017457783222198486, 0.05414493754506111, -0.03208893537521362, -0.018435485661029816, -0.006498327944427729, 0.017176007851958275, -0.033776164054870605, 0.0017136449459940195, 0.037875209003686905, 0.029216548427939415, -0.038174889981746674, 0.0016291289357468486, -0.0038893644232302904, -0.028228798881173134, -0.026134546846151352, 0.054600898176431656, 0.05861896649003029, -0.06927773356437683, -0.10493063181638718, -0.013122662901878357, -0.02684144303202629, 0.020822154358029366, 0.031011413782835007, 0.0024376988876610994, 0.029442578554153442, -0.01870281994342804, -0.042278729379177094, -0.031218264251947403, 0.054676465690135956, -0.027794145047664642, -0.04136192798614502, 0.027551598846912384, 0.011628524400293827, 0.007593074347823858, 0.016036314889788628, -0.03524686396121979, -0.05231085419654846, -0.05724653974175453, -0.043697915971279144, 0.04055852070450783, -0.04136335849761963, 0.054658517241477966, -0.0394926443696022, -0.03446505218744278, 0.03082788921892643, 0.029048269614577293, 0.006240777671337128, -0.006621338427066803, -0.005438484251499176, 0.052191633731126785, 0.001976001774892211, -0.030730383470654488, -0.05008816719055176, 0.041462838649749756, -0.02859736792743206, 0.025137310847640038, -0.030132493004202843, 0.008753325790166855, -0.04703172668814659, -0.024786880239844322, -0.005254000425338745, -0.010632751509547234, -0.034525368362665176, 0.011602331884205341, 0.03912230581045151, 0.050612177699804306, -0.007042943965643644, 0.005532298237085342, 0.032748203724622726, -0.02783818729221821, -0.026888545602560043, -0.06413489580154419, 0.032112039625644684, 0.03415347635746002, 0.002148210071027279, -0.008460931479930878, -0.017377201467752457, -0.0029321731999516487, 0.02570924162864685, 0.020833348855376244, 0.034687548875808716, -0.10341726243495941, -0.0479261688888073, 0.03849506750702858, 0.034166451543569565, -0.03234010189771652, 0.011169090867042542, 0.010780207812786102, -0.06223656237125397, 0.053087104111909866, 0.06847038120031357, -0.0036899216938763857, 0.03994975611567497, -0.025157513096928596, -0.01574203372001648, 0.076192706823349, 0.030659878626465797, 0.0031367414630949497, -0.011821514926850796, 0.007915899157524109, 0.09367433190345764, 0.04553148150444031, -0.052211862057447433, 0.007874922826886177, -0.03691723942756653, 0.06170341372489929, 0.02795380726456642, 0.03843025490641594, -0.01708969473838806, -0.09234745055437088, -0.0615776926279068, 0.007122366689145565, 0.0018968615913763642, 0.05883647873997688, -0.0043368567712605, -0.06519646942615509, -0.026518911123275757, -0.018407631665468216, -0.010143035091459751, -0.0324045792222023, -0.07158045470714569, -0.0035977521911263466, -0.026521025225520134, 0.03843269869685173, 0.06890334188938141, -0.04989466816186905, -0.034266456961631775, -0.02755863592028618, 0.014126522466540337, 0.030087795108556747, -0.05772828310728073, 0.006876266095787287, -0.047715023159980774, 0.039103418588638306, -0.014381390064954758, 0.0453500859439373, -0.032557349652051926, 0.008734655566513538]}, page_content='Kode Rekening: kode_rekening    4.1.3.3.1\\nkode_rekening    4.1.3.3.1\\nName: 313, dtype: object\\nNama Rekening: Bagian Laba yang Dibagikan kepada Pemerintah Daerah (Dividen) atas Penyertaan Modal pada Perusahaan Milik Swasta\\nPendapatan: 0.0\\nRealisasi: 0.0\\nPersentase: 0.0'), Document(metadata={'kode_rekening': {'kode_rekening': '4.1.4.8.2'}, 'nama_rekening': 'Tuntutan Ganti Kerugian Daerah terhadap Pegawai Negeri Bukan Bendahara atau Pejabat Lain', 'embedding': [0.021529320627450943, -0.0012150481343269348, -0.04205268248915672, 0.01500809844583273, 0.08097720146179199, 0.0478767566382885, 0.023728813976049423, -0.05424448102712631, 0.004277938511222601, 0.037319593131542206, -0.027212142944335938, -0.009589474648237228, -0.04593520611524582, -0.027502862736582756, -0.01763192005455494, -0.011161128990352154, 0.0016205206047743559, -0.03407073765993118, -0.00011599656863836572, -0.055528558790683746, -0.038432274013757706, 0.007120776455849409, -0.03218194097280502, 0.029982805252075195, 0.019957030192017555, -0.01569555513560772, -0.009577183984220028, -0.050345633178949356, -0.035385701805353165, 0.026255911216139793, -0.0521470382809639, 0.017655199393630028, -0.030513139441609383, 0.01721654087305069, -0.0036946102045476437, -0.02749248966574669, 0.0009601394413039088, -0.025088828057050705, 0.04274357110261917, 0.04951696842908859, 1.3993557331559714e-05, 0.002971330191940069, 0.009785707108676434, -0.026621606200933456, 0.023459577932953835, -0.05042528361082077, 0.009039221331477165, 0.01067828107625246, 0.034177687019109726, -0.03880854696035385, 0.00635923258960247, -0.005972089245915413, 0.049834996461868286, -0.007289827801287174, -0.036994241178035736, -0.08750791847705841, -0.03342548385262489, 0.011703789234161377, -0.009832494892179966, -0.016405345872044563, -0.010376949794590473, 0.020838642492890358, -0.014775214716792107, 0.08249358832836151, -0.024501880630850792, -0.04636229947209358, -0.03896529600024223, -0.018011342734098434, 0.07002869993448257, -0.015539411455392838, 0.03886350989341736, -0.003943133633583784, 0.062027886509895325, 0.004348997492343187, -0.05180704966187477, -0.08433329313993454, -0.01738121546804905, 0.02258986234664917, 0.028150759637355804, 0.03385910019278526, 0.008654405362904072, -0.07979657500982285, -0.02034466154873371, -0.029834840446710587, -0.027240417897701263, 0.0555502325296402, -0.06899745017290115, -0.003539810888469219, -0.03059871308505535, 0.06249585375189781, -0.00947651732712984, -0.006256903056055307, 0.014439532533288002, -0.06523878127336502, 0.030383111909031868, 0.07377643883228302, -0.009350275620818138, -0.037363748997449875, 0.0016454702708870173, -0.03458458185195923, -0.015378188341856003, -0.06129779666662216, -0.0189043078571558, -0.06400584429502487, 1.427856204827549e-05, 0.0170190017670393, 0.01275826245546341, 0.04113705828785896, -0.04618487507104874, 0.026608284562826157, -0.034452173858881, -0.027566764503717422, 0.009617709554731846, -0.011263996362686157, 0.031048843637108803, -0.009491180069744587, -0.024685848504304886, 0.05307444930076599, 0.015648571774363518, 0.007446542847901583, 0.060485564172267914, 0.015050993300974369, 0.016274569556117058, 0.0009057591669261456, 0.023085888475179672, -0.011208262294530869, -0.05162705481052399, -0.007570907007902861, 0.033783044666051865, 0.08118008822202682, 0.025072867050766945, -0.00757184624671936, 0.010048050433397293, -0.0011752813588827848, 0.029657818377017975, 0.03486580774188042, 0.006568423938006163, 0.014286983758211136, 0.04196323826909065, 0.0068348064087331295, -0.028263183310627937, 0.0320710763335228, 0.012933039106428623, 0.02473333105444908, -0.0022484450601041317, 0.037227630615234375, 0.004371508955955505, 0.009758246131241322, 0.0867864340543747, -0.025730013847351074, -0.04518520087003708, -0.01802952215075493, -0.06238649785518646, 0.020859193056821823, 0.08171193301677704, 0.06329898536205292, 0.012213168665766716, 0.0174893569201231, 0.02131866104900837, 0.06984543055295944, 0.04549268260598183, 0.017121104523539543, -0.03785306587815285, 0.0021666751708835363, -0.014399053528904915, -0.06004337966442108, 0.005215810611844063, 0.011966179125010967, 0.020984802395105362, -0.05654351785778999, 0.012113138101994991, 0.007741617038846016, -0.06160353496670723, -0.04439093545079231, -0.029585961252450943, -0.07018013298511505, -0.025631973519921303, -0.006534577812999487, -0.01165415532886982, 0.0369337722659111, -0.026224421337246895, -0.015179425477981567, 0.04995391517877579, 0.007594845723360777, 0.017195025458931923, -0.0042594922706484795, 0.0536399744451046, -0.021402737125754356, -0.01677369512617588, -0.0545300655066967, -0.02217954210937023, -0.032036785036325455, -0.010247182101011276, -0.02509400062263012, -0.04781021922826767, 0.013157781213521957, -0.00772399827837944, 0.06217660754919052, -0.013665510341525078, -0.01909160241484642, -0.030970832332968712, 0.02290583774447441, 0.011742876842617989, -0.008770057000219822, 0.05867701396346092, -0.02260565757751465, 0.06631730496883392, -0.0009191128774546087, -0.02788780815899372, 0.06160377338528633, -0.031238626688718796, 0.002620058599859476, -0.018048593774437904, -0.013074477203190327, 0.05593598261475563, 0.018430650234222412, -0.013661875389516354, 0.012060971930623055, -0.012226675637066364, -0.01581602916121483, -0.026219302788376808, -0.009516690857708454, -0.009656180627644062, 0.0461747981607914, -0.0003797908721026033, 0.0026158327236771584, 0.05782768130302429, 0.03891584649682045, -0.0049555134028196335, -0.0520198717713356, 0.017965998500585556, 0.07965942472219467, 0.0492149293422699, -0.020416703075170517, 0.07785435765981674, 0.003851277520880103, 0.0037678228691220284, 0.018886681646108627, -0.006205485202372074, 0.04237821325659752, -0.045454010367393494, 0.008499657735228539, 0.04046383500099182, 0.04466364532709122, -0.04853613302111626, -0.028847835958003998, 0.020489290356636047, 0.06981511414051056, -0.01887500286102295, 0.10004212707281113, -0.023430271074175835, -0.059810422360897064, 0.026170367375016212, 0.023470772430300713, -0.014302498660981655, 0.03670845180749893, -0.046593114733695984, 0.044650282710790634, 0.027161534875631332, 0.0037485784851014614, 0.036251362413167953, -0.004546922631561756, 0.011423127725720406, -0.02542698010802269, 0.009274250827729702, 0.002518275985494256, 0.011441591195762157, -0.01777542568743229, -0.019558709114789963, 0.02050746977329254, -0.007533314637839794, -0.06195409595966339, 0.10069835186004639, 0.04633162170648575, -0.011601482518017292, 0.04965020716190338, -0.017482373863458633, 0.06149587780237198, -0.033718470484018326, -0.05476794019341469, 0.007615219336003065, 0.04119202494621277, 0.027058890089392662, -0.030519645661115646, 0.0010802841279655695, -0.010965032503008842, -0.04114990681409836, 0.01582476496696472, 0.03126345947384834, -0.06347587704658508, -0.04720177501440048, -0.011336522176861763, -0.02363526076078415, -0.04423290491104126, -0.04226841777563095, 0.022090991958975792, 0.003689106786623597, 0.006731310859322548, 0.0016137323109433055, -0.006324354093521833, -0.023190107196569443, -0.02611156553030014, -0.032127074897289276, -0.0936214029788971, 0.0112446965649724, 0.0226962398737669, -0.006011649966239929, -0.03590670973062515, -0.004044588189572096, 0.05303955078125, 0.0085378373041749, -0.06846742331981659, -0.04100235551595688, -0.008334065787494183, 0.06177055090665817, 0.05928978696465492, -0.014705813489854336, -0.014692968688905239, -0.03374096006155014, 0.0631193295121193, -0.02589726820588112, 0.03281094878911972, 0.03310291841626167, -0.027560163289308548, 0.006223182659596205, 0.034447427839040756, -0.029026750475168228, 0.03284385800361633, 0.0024149210657924414, 0.03185446932911873, 0.0009343549609184265, -0.0001018600378301926, -0.0353972464799881, 0.05811672657728195, 0.005397249478846788, 0.013783356174826622, -0.0932588130235672, 0.018456241115927696, -0.01059740874916315, 0.005855128634721041, 0.07419010251760483, 0.014892776496708393, -0.029180370271205902, -0.013543978333473206, -0.020816676318645477, 0.0008395457407459617, -0.02114289253950119, -0.014172585681080818, 0.08982677012681961, -0.013348509557545185, 0.013360770419239998, 0.05129842460155487, -0.006590415257960558, -0.0024316466879099607, -0.020615164190530777, -0.021233852952718735, 0.0720352828502655, -0.005751920398324728, 0.021291548386216164, -0.004625288303941488, -0.036693159490823746, 0.04219075292348862, 0.002158725168555975, 0.0023059735540300608, -0.0058221216313540936, -0.01858442835509777, -0.013356680050492287, 0.0005862930556759238, -0.0019717817194759846, 0.03328682482242584, 9.039849101100117e-05, -0.03414172679185867, -0.0016384065384045243, 0.018528146669268608, -0.03480573371052742, -0.051003970205783844, -0.011272798292338848, -0.031240874901413918, 0.021415702998638153, 0.019676988944411278, 0.012840846553444862, -0.00110051897354424, 0.03855612128973007, 0.011422226205468178, -0.008804493583738804, -0.04524621739983559, 0.06520606577396393, 0.04090099781751633, 0.010481673292815685, 0.05874316766858101, -0.030799249187111855, 0.0251658596098423, 0.04526975750923157, 0.028047822415828705, -0.023581426590681076, 0.03075997531414032, -0.04166056588292122, -0.011998817324638367, 0.028202036395668983, -0.005719341803342104, -0.014847774058580399, -0.016258763149380684, 0.025386469438672066, -0.04879026114940643, -0.009151209145784378, -0.022876180708408356, 0.002129757311195135, -0.017593108117580414, -0.028774332255125046, -0.023636242374777794, -0.028761517256498337, 0.017723679542541504, 0.000727994367480278, -0.09875375032424927, -0.02659938484430313, -0.034069884568452835, 0.005877030082046986, 0.003982283640652895, -0.0030551254749298096, 0.05002787709236145, -0.052672822028398514, -0.02725961059331894, -0.04110593721270561, -0.0650816559791565, -0.05588443949818611, -0.04545329511165619, -0.03159148991107941, -0.02623368799686432, -0.009980849921703339, 0.018080979585647583, 0.01225741021335125, -0.04766199365258217, 0.013378458097577095, -0.030955305323004723, -0.005395463667809963, -0.08924829214811325, -0.026209095492959023, 0.04724612832069397, 0.001231132890097797, -0.03390440344810486, 0.03140905126929283, -0.04277581721544266, 0.04556257277727127, 0.026298608630895615, 0.02157623879611492, -0.0389079712331295, 0.037921369075775146, -0.05567903444170952, 0.023746630176901817, -0.04555177688598633, 0.0030600817408412695, -0.013553568162024021, -0.05273197591304779, -0.004638594575226307, -0.017508450895547867, -0.04387853294610977, -0.03960060328245163, 0.023038117215037346, -0.002206225646659732, 0.03875064104795456, -0.05927412584424019, -0.05530383437871933, -0.0013571305898949504, -0.02116546779870987, 0.0009804939618334174, 0.00495572667568922, -0.0003697965876199305, -0.0020412937738001347, 0.0677996277809143, 0.05472836643457413, 0.014313017949461937, -0.011524182744324207, 0.0316123366355896, -0.001146497786976397, -0.01535941194742918, -0.015475224703550339, -0.07244807481765747, 0.029689466580748558, 0.006317339837551117, -0.017068741843104362, -0.014182038605213165, -0.058073755353689194, 0.043173640966415405, -1.2106343092455063e-05, -0.011958672665059566, -0.010677565820515156, 0.008262050338089466, -0.02667294256389141, 0.049413714557886124, 0.04542727768421173, 0.019259514287114143, 0.004272527061402798, -0.03148125112056732, -0.07966159284114838, -0.02169818989932537, 0.028032781556248665, -0.05289924889802933, 0.019536355510354042, -0.007455020677298307, 0.03321623429656029, -0.006096790544688702, 0.0013500055065378547, 1.764954868122004e-05, -0.011485316790640354, 0.026445385068655014, -0.05772366374731064, -0.01034520287066698, 0.006054973229765892, 0.029558751732110977, -0.005733424331992865, 0.010948426090180874, 0.017897574231028557, -0.004746309947222471, -0.019098088145256042, 0.014116051606833935, -0.03644028678536415, -0.02603769488632679, 0.0603179857134819, -0.042314235121011734, -0.026679735630750656, 0.04506886750459671, 0.010909113101661205, -0.05726831778883934, -0.04276827350258827, 0.0768914669752121, -0.031890660524368286, 0.020166698843240738, 0.020680129528045654, -0.031523626297712326, -0.014896838925778866, 0.004010309465229511, 0.04185531660914421, -0.07915916293859482, -0.013016805984079838, 0.03125498443841934, 0.011915129609405994, -0.0024981661699712276, 0.06912403553724289, 0.03543705493211746, -0.022650979459285736, 0.006412041839212179, 0.001609245897270739, 0.0062894574366509914, 0.027025949209928513, 0.015042553655803204, 0.0006645963294431567, 0.019165435805916786, -0.08486132323741913, 0.00879308395087719, 0.017135433852672577, -0.039483390748500824, 0.006253842730075121, 0.015013798139989376, -0.054240982979536057, 0.03875105455517769, -0.029213765636086464, -0.04529598355293274, -0.006050901021808386, 0.025352541357278824, -0.02172618918120861, -0.06040598079562187, 0.02800261229276657, -0.014608534052968025, 0.00027259314083494246, 0.06941074877977371, 0.053225766867399216, -0.03559572249650955, -0.028330568224191666, 0.06744778901338577, 0.026033056899905205, -0.005362810101360083, 0.00820089690387249, -0.06809435039758682, -0.020742621272802353, 0.042437270283699036, -0.03776952996850014, -0.046711426228284836, 0.02964765578508377, -0.03395124524831772, -0.06471637636423111, 0.03621877729892731, -0.03924944996833801, -0.0046665966510772705, 0.005052098538726568, -0.015509146265685558, 0.04593289643526077, 0.041274718940258026, 0.005953055340796709, 0.033377643674612045, -0.01967264711856842, -0.07503730058670044, 0.05961805582046509, -0.05624769255518913, -0.04413677006959915, -0.017754364758729935, 0.020870313048362732, -0.036840979009866714, -0.0244431234896183, -0.005248097237199545, -0.01371629349887371, 0.012200930155813694, -0.021083036437630653, 0.043195728212594986, -0.013133579865098, 0.05810670927166939, 0.02543683908879757, -0.01577378809452057, -0.005517461337149143, -0.01523287408053875, -0.003070503007620573, 0.0037086333613842726, 0.009456675499677658, 0.006105014123022556, 0.022633040323853493, 0.01730920560657978, -0.047512054443359375, 0.03585052117705345, 0.015342232771217823, -0.06518391519784927, -0.0479980893433094, -0.005727663636207581, 0.0007876755553297698, -0.025796813890337944, -0.018127532675862312, 0.02097119204699993, -0.00558956153690815, -0.017056025564670563, -0.016257362440228462, 0.046003974974155426, 0.035129088908433914, 0.01189121138304472, 0.041016723960638046, -0.009303268045186996, -0.005434302147477865, -0.03595219552516937, 0.008835631422698498, -0.03646386042237282, -0.010008622892200947, 0.03553154692053795, 0.017613712698221207, -0.0541229173541069, 0.007197211962193251, -0.014061914756894112, -0.010654883459210396, -0.020745357498526573, 0.06682700663805008, 0.0513121671974659, -0.08491169661283493, -0.07686128467321396, -0.010621972382068634, -0.007348647806793451, 0.022940803319215775, 0.03623056784272194, -0.0026958812959492207, 0.008011257275938988, -0.017293479293584824, -0.02543645165860653, -0.0402928926050663, 0.06250879168510437, -0.01070634089410305, -0.04464128613471985, 0.023828178644180298, 0.0029815752059221268, 0.0043310183100402355, -0.0017757487948983908, -0.023844346404075623, -0.053747814148664474, -0.056544698774814606, -0.04205704480409622, 0.05813220143318176, -0.06562422215938568, 0.0540291890501976, -0.038246579468250275, -0.01965922862291336, 0.04371871426701546, 0.03880632668733597, 0.00613483926281333, 0.022615328431129456, 0.0029486091807484627, 0.03587912768125534, -0.005516823381185532, -0.05345950275659561, -0.04200560227036476, 0.03643190115690231, -0.03626596927642822, 0.04778490215539932, -0.042339738458395004, 0.019541654735803604, -0.039573006331920624, -0.04033105447888374, 0.002636287361383438, -0.015770386904478073, -0.046488288789987564, 0.014882877469062805, 0.021254705265164375, 0.05197224020957947, 0.018354177474975586, 0.02398991398513317, 0.05122743546962738, -0.020227007567882538, -0.060881923884153366, -0.077741339802742, 0.026420414447784424, 0.03407092019915581, -0.005060010123997927, -0.004865615162998438, -0.016367649659514427, 0.0029925196431577206, 0.022156119346618652, 0.009596197865903378, 0.04270460084080696, -0.0724712535738945, -0.05838366225361824, 0.05706631764769554, 0.03732279688119888, -0.024890169501304626, 0.020200395956635475, 0.003136162180453539, -0.07753609120845795, 0.06358451396226883, 0.0879223495721817, -0.016837438568472862, 0.032195016741752625, -0.032340820878744125, -0.041750773787498474, 0.07730916142463684, 0.008551141247153282, -0.012247463688254356, -0.01859881915152073, -0.006004692986607552, 0.07788793742656708, 0.055647023022174835, -0.050805263221263885, 0.0007189459283836186, -0.03567446023225784, 0.04779164120554924, 0.009958065114915371, 0.050463635474443436, -0.012070131488144398, -0.09509595483541489, -0.03779143840074539, 0.0032915333285927773, 0.03756655380129814, 0.06515346467494965, 0.015912441536784172, -0.063892662525177, -0.02182820625603199, -0.02426166832447052, -0.015593428164720535, -0.039587393403053284, -0.06550910323858261, -0.006846626289188862, -0.024619687348604202, 0.044469647109508514, 0.05716298520565033, -0.043409690260887146, -0.02853230945765972, -0.005666037555783987, 0.036061592400074005, 0.02446362003684044, -0.07945937663316727, 0.020166795700788498, -0.03028186596930027, 0.044452864676713943, -0.005778812803328037, 0.03836676850914955, -0.03518326207995415, 0.03817993775010109]}, page_content='Kode Rekening: kode_rekening    4.1.4.8.2\\nkode_rekening    4.1.4.8.2\\nName: 456, dtype: object\\nNama Rekening: Tuntutan Ganti Kerugian Daerah terhadap Pegawai Negeri Bukan Bendahara atau Pejabat Lain\\nPendapatan: 0.0\\nRealisasi: 0.0\\nPersentase: 0.0'), Document(metadata={'kode_rekening': {'kode_rekening': '4.1.3.3.1.1'}, 'nama_rekening': 'Bagian Laba yang Dibagikan kepada Pemerintah Daerah (Dividen) atas Penyertaan Modal pada Perusahaan Milik Swasta', 'embedding': [0.02541804127395153, -0.012731377966701984, -0.03900197148323059, 0.021803129464387894, 0.07446528971195221, 0.04039585590362549, 0.0393998883664608, -0.06550237536430359, -0.025245923548936844, 0.03129875287413597, -0.014431622810661793, 0.0048819733783602715, -0.06709477305412292, -0.01538464892655611, -0.019444096833467484, -0.008548892103135586, -0.011076193302869797, -0.02173892967402935, -0.004705451428890228, -0.03035399690270424, -0.033177658915519714, 0.005043729208409786, -0.01370363961905241, 0.029077619314193726, 0.017540987581014633, -0.016141187399625778, -0.026782101020216942, -0.05234302207827568, -0.0356382355093956, 0.015260557644069195, -0.037507038563489914, 0.037826694548130035, -0.027460699900984764, -0.007809940259903669, -0.015984119847416878, -0.03586513549089432, -6.57401978969574e-05, 0.00011551006900845096, 0.029315590858459473, 0.0735759288072586, 0.008884689770638943, 0.0181294996291399, 0.006970381364226341, -0.019594840705394745, 0.01571655459702015, -0.03788403049111366, 0.00947517342865467, 0.007095429580658674, 0.036364153027534485, -0.0351736955344677, 0.025213053449988365, -0.0023099014069885015, 0.03337365761399269, -0.013470495119690895, -0.028069166466593742, -0.07664211839437485, -0.0070902141742408276, -0.005525933112949133, -0.00716267479583621, -0.035684581845998764, -0.010835080407559872, 0.026155348867177963, -0.008461707271635532, 0.06826283037662506, -0.022594202309846878, -0.06369324773550034, -0.05120502784848213, -0.0006917412392795086, 0.06035422906279564, -0.00808627624064684, 0.04627889394760132, -0.010167662985622883, 0.06823965162038803, 0.0025756796821951866, -0.04434897005558014, -0.08552881330251694, -0.024275314062833786, 0.025234345346689224, 0.052285414189100266, 0.028694232925772667, 0.017361080273985863, -0.07194741070270538, -0.009485379792749882, -0.028554396703839302, -0.009066915139555931, 0.07010092586278915, -0.043901968747377396, -0.001123018329963088, -0.02145141363143921, 0.060767922550439835, -0.0013937109615653753, -0.02859129011631012, -0.01022651419043541, -0.07474260032176971, 0.02770102210342884, 0.06262370944023132, -0.00900034885853529, -0.03350033983588219, -0.001597180962562561, -0.03959255665540695, -0.030088864266872406, -0.048867084085941315, -0.03021351806819439, -0.044240646064281464, -0.011903437785804272, 0.03726787492632866, -0.01274332869797945, 0.029828758910298347, -0.05241047963500023, 0.025449728593230247, -0.04804927483201027, -0.022338274866342545, -0.004976996220648289, -0.0068619088269770145, 0.04834781587123871, -0.010949373245239258, -0.026258638128638268, 0.06268708407878876, 0.015003378503024578, 0.005149072967469692, 0.04368807375431061, 0.00627127755433321, 7.791765710862819e-06, -0.003931799903512001, -0.0008009463199414313, -0.01753358356654644, -0.0565013587474823, 0.013957486487925053, 0.05622278153896332, 0.08912373334169388, 0.021202128380537033, -0.004238646477460861, 0.025436323136091232, -0.012482629157602787, 0.03155413269996643, 0.047041960060596466, 0.014151552692055702, 0.013241403736174107, 0.045079611241817474, -0.007670152932405472, -0.014569292776286602, 0.03548350930213928, 0.021074578166007996, 0.032550711184740067, -0.0009690199512988329, 0.05041620135307312, 0.017895644530653954, 0.011202413588762283, 0.09436623752117157, -0.013663752935826778, -0.031308576464653015, -0.019024528563022614, -0.08352626860141754, 0.0332585833966732, 0.05581144616007805, 0.06016363576054573, 0.015773002058267593, -0.0059162345714867115, 0.017085963860154152, 0.09097719937562943, 0.05546636879444122, 0.023036323487758636, -0.02694847621023655, -0.00585927115753293, -0.0020037489011883736, -0.050145603716373444, 0.021656334400177002, 0.00311366468667984, 0.02777976170182228, -0.03533538803458214, -0.008708473294973373, 0.0037017040885984898, -0.048774946480989456, -0.045550499111413956, -0.021465502679347992, -0.07325606793165207, 0.0022582472302019596, -0.009649102576076984, -0.014602413401007652, 0.038190342485904694, -0.026092996820807457, -0.018167216330766678, 0.051597628742456436, -1.918786256283056e-05, 0.027355751022696495, -0.015670431777834892, 0.06819672882556915, -0.021952304989099503, -0.024394085630774498, -0.050148338079452515, -0.03436090797185898, -0.029400337487459183, -0.01985979825258255, -0.023318083956837654, -0.054484859108924866, 0.010795574635267258, 0.0075797149911522865, 0.05038880929350853, -0.025515522807836533, -0.02903488092124462, -0.032962825149297714, 0.00595171470195055, 0.006680051796138287, -0.009840335696935654, 0.046861935406923294, -0.028612015768885612, 0.04768949747085571, -0.0018498095450922847, -0.01743539795279503, 0.04158474877476692, -0.017858227714896202, -0.013840087689459324, -0.008303998969495296, -0.002189826685935259, 0.0545431450009346, 0.03315984830260277, 0.001733405631966889, 0.005884333048015833, -0.009472236968576908, -0.04338531568646431, -0.03222392499446869, -0.013953719288110733, -0.0014040777459740639, 0.03150733932852745, 0.011073623783886433, -0.0011671222746372223, 0.04548759385943413, 0.040267784148454666, -0.007561190985143185, -0.05143372714519501, -0.023744508624076843, 0.09872359037399292, 0.022506646811962128, -0.02881297841668129, 0.0757821798324585, -0.002183126751333475, 0.008178855292499065, 0.03965990990400314, -0.0074223363772034645, 0.03461979702115059, -0.03081386163830757, 0.020916728302836418, 0.04379585385322571, 0.035712167620658875, -0.04228287562727928, -0.024317307397723198, 0.03587038442492485, 0.05784958600997925, -0.017800644040107727, 0.08283757418394089, -0.024539826437830925, -0.07368869334459305, 0.031592726707458496, 0.015956809744238853, -0.015661321580410004, 0.028661660850048065, -0.03529265895485878, 0.05383344367146492, 0.027407659217715263, 0.013435790315270424, 0.04653029143810272, -0.00047534448094666004, 0.0007220655679702759, -0.032012082636356354, 0.006051227916032076, -0.007606842555105686, -0.0013170340098440647, -0.016810253262519836, -0.02549295872449875, 0.03715631738305092, -0.002088444773107767, -0.03764963522553444, 0.08065615594387054, 0.061622437089681625, -0.01750568114221096, 0.054335542023181915, -0.014207963831722736, 0.0650688037276268, -0.012021886184811592, -0.05225353688001633, 0.02757096290588379, 0.025486132130026817, 0.017893387004733086, -0.048750463873147964, -0.028368854895234108, -0.004476085305213928, -0.04630821943283081, 0.023976270109415054, 0.007987522520124912, -0.0632258728146553, -0.04513956233859062, -0.03509337082505226, -0.006996425334364176, -0.023680776357650757, -0.03954578936100006, 0.013683268800377846, -0.010074642486870289, 0.022748706862330437, -0.01260295044630766, -0.0002660757745616138, -0.03185417503118515, -0.030913865193724632, -0.03330964595079422, -0.08582011610269547, 0.0005389003781601787, 0.02733481302857399, -0.02092130482196808, -0.03133426606655121, -0.008176249451935291, 0.050278570502996445, 0.007372491527348757, -0.05147726461291313, -0.03230583295226097, -0.037470173090696335, 0.055136509239673615, 0.040613237768411636, -0.012798292562365532, -0.013070357963442802, -0.038446731865406036, 0.06933373957872391, -0.02896105870604515, 0.03188624605536461, 0.023029379546642303, -0.012827744707465172, 0.03539227694272995, 0.02759360708296299, -0.038215916603803635, 0.031982146203517914, 0.002591770840808749, 0.012911648489534855, 0.0026010049041360617, -0.003067001234740019, -0.03397100791335106, 0.05909673869609833, 0.014056858606636524, 0.026967700570821762, -0.07560171186923981, 0.03156130760908127, -0.010424125008285046, 0.011511982418596745, 0.07818491756916046, 0.0019113033777102828, -0.03232185170054436, -0.002867590170353651, -0.018387071788311005, 0.006507758051156998, -0.04686347022652626, 0.009419327601790428, 0.09888797253370285, -0.009611009620130062, 0.018818281590938568, 0.04972155764698982, -0.002609407529234886, -0.005399270448833704, -0.0003346859593875706, -0.027482910081744194, 0.07302261143922806, -0.007239755243062973, 0.0016655756626278162, 0.007258689496666193, -0.060620907694101334, 0.054899126291275024, -0.024412836879491806, 0.0010919159976765513, -0.004651967436075211, -0.03688529506325722, -0.013744637370109558, 0.007392477709800005, -0.007201353088021278, 0.027912620455026627, 0.012197814881801605, -0.041215527802705765, 0.002847010502591729, 0.02364262565970421, -0.0194415096193552, -0.05245187133550644, -0.016145367175340652, -0.03596010059118271, 0.026057472452521324, 0.03947213664650917, 0.0163569338619709, 0.00048055005026981235, 0.014007151126861572, 0.026874156668782234, -0.0028101233765482903, -0.03987349942326546, 0.08432727307081223, 0.038334980607032776, 0.014103460125625134, 0.030501294881105423, -0.041258685290813446, 0.02167609892785549, 0.049848977476358414, 0.03901461884379387, -0.017006926238536835, 0.01951346918940544, -0.060098886489868164, -0.018332762643694878, 0.024893593043088913, -0.019531451165676117, -0.02967257797718048, -0.008788896724581718, -0.0006511558894999325, -0.05236145481467247, -0.0152487363666296, -0.024971293285489082, -0.013800215907394886, -0.04715277627110481, -0.04900895059108734, -0.04484429210424423, -0.04107946157455444, 0.004435042850673199, 0.004323524422943592, -0.09354672580957413, -0.024845920503139496, -0.030457278713583946, 0.013456868939101696, -0.009006823413074017, -0.0016991262091323733, 0.04436250030994415, -0.0527389757335186, -0.019159354269504547, -0.038230955600738525, -0.07204361259937286, -0.05024993419647217, -0.026094917207956314, -0.011798486113548279, -0.037125613540410995, -0.01530002523213625, -0.006842188537120819, 0.01992853172123432, -0.047993920743465424, 0.03168648108839989, -0.026864023879170418, -0.0372149758040905, -0.08033548295497894, -0.01148825604468584, 0.033498410135507584, 0.0009975876891985536, -0.04613422974944115, 0.028057260438799858, -0.023502081632614136, 0.01804816722869873, 0.02963668294250965, 0.016677452251315117, -0.03373568877577782, 0.02303536981344223, -0.06552836298942566, 0.01359606347978115, -0.041431933641433716, 0.012351710349321365, -0.026665998622775078, -0.027994956821203232, -0.008242020383477211, -0.008145124651491642, -0.05673517286777496, -0.021683884784579277, 0.011942639946937561, 0.01712420955300331, 0.021102169528603554, -0.0722430944442749, -0.0438382588326931, 0.004540287423878908, -0.032132189720869064, 0.0013733879895880818, -0.0176030732691288, -0.007742632646113634, -0.0207380224019289, 0.08356264978647232, 0.04578905552625656, 0.025321220979094505, -0.028814349323511124, 0.02285894565284252, -0.03172898292541504, -0.030838528648018837, 0.0035927938297390938, -0.09006466716527939, 0.016491370275616646, 0.005931365303695202, -0.026955250650644302, -0.024653460830450058, -0.08006931841373444, 0.07227884978055954, -0.004611084703356028, -0.02669559232890606, -0.018099140375852585, -0.0046586040407419205, -0.020204128697514534, 0.03322411701083183, 0.04147893190383911, 0.006378716789186001, 0.012393586337566376, -0.018294746056199074, -0.07508354634046555, -0.020486069843173027, 0.011497060768306255, -0.05940096080303192, 0.024770209565758705, -0.0029877973720431328, 0.024796918034553528, -0.011051958426833153, 0.030059736222028732, 0.007483021356165409, -0.019767219200730324, 0.019548512995243073, -0.0647830218076706, 0.02374863252043724, 0.006416276562958956, 0.03040759637951851, -0.015259817242622375, 0.0037088177632540464, 0.02548578754067421, -0.014524552039802074, -0.02566467970609665, 0.020617954432964325, -0.04232991486787796, -0.022619519382715225, 0.04977833852171898, -0.04082827270030975, -0.028229186311364174, 0.05962314084172249, -0.0042462158016860485, -0.07884261757135391, -0.04285934194922447, 0.06119304895401001, -0.04921680688858032, 0.03894410282373428, 0.002719798358157277, -0.051886558532714844, 0.00474901869893074, 0.004398036282509565, 0.05140356346964836, -0.061803676187992096, 0.006942247040569782, 0.016538158059120178, 0.022473299875855446, -0.005319076124578714, 0.06999761611223221, 0.034669842571020126, -0.01866133324801922, 0.00012415579112712294, 0.0192028246819973, 0.00891582015901804, 0.017976505681872368, 0.005759710446000099, -0.001586096710525453, 0.020682591944932938, -0.10493230819702148, 0.008981858380138874, 0.029377741739153862, -0.033124376088380814, 0.0025598141364753246, 0.012628758326172829, -0.05358194187283516, 0.03555199131369591, -0.0393994078040123, -0.054197706282138824, 0.02835525944828987, 0.03577504679560661, -0.03075992688536644, -0.056883908808231354, 0.03843821957707405, -0.016641046851873398, 0.0024954257532954216, 0.07352664321660995, 0.06567607820034027, -0.025161007419228554, -0.02548217587172985, 0.060169242322444916, 0.009068380109965801, 0.0070892199873924255, 0.002313981531187892, -0.04884476587176323, -0.004502968862652779, 0.03294339403510094, -0.02027076855301857, -0.04520558565855026, 0.02620418183505535, -0.01756397634744644, -0.03656298294663429, 0.023388318717479706, -0.04382278770208359, -0.020758086815476418, 0.008977849036455154, -0.031098786741495132, 0.014490555971860886, 0.04501020163297653, -0.0027453566435724497, 0.019705479964613914, -0.018908940255641937, -0.08199702948331833, 0.06482014805078506, -0.044611938297748566, -0.05247592180967331, 0.006245938129723072, 0.017396260052919388, -0.0170588456094265, -0.03390498459339142, 0.0004315717669669539, -0.015744438394904137, 0.010240809060633183, -0.008170617744326591, 0.031556207686662674, -0.0051615238189697266, 0.038806650787591934, 0.03991871327161789, -0.019133545458316803, 0.00882791168987751, 0.00964357703924179, -0.018094047904014587, 0.0033072629012167454, -0.02342280186712742, 0.011270604096353054, 0.014938786625862122, 0.03890092298388481, -0.049714043736457825, 0.03679546341300011, 0.030613461509346962, -0.0666806772351265, -0.0422067753970623, -0.002321177627891302, 0.0041170804761350155, -0.009996356442570686, -0.022213544696569443, 0.0027547739446163177, -0.013612637296319008, -0.023747706785798073, -0.011564258486032486, 0.05633437633514404, 0.029490474611520767, 0.016855014488101006, 0.057282499969005585, -0.029039839282631874, -0.014209769666194916, -0.010234405286610126, 0.019266635179519653, -0.032602459192276, 0.003058717120438814, 0.03452770411968231, 0.02905622124671936, -0.04168190062046051, -0.000980433076620102, -0.008146570064127445, -0.026123875752091408, -0.020879287272691727, 0.058064013719558716, 0.05867542698979378, -0.06901456415653229, -0.10390918701887131, -0.012852749787271023, -0.027263455092906952, 0.0219578854739666, 0.030926445499062538, 0.001927600591443479, 0.02762165293097496, -0.023715220391750336, -0.04023120552301407, -0.03100164793431759, 0.05769827961921692, -0.02681339532136917, -0.039029140025377274, 0.0314585343003273, 0.011255173943936825, 0.004631648305803537, 0.01262499950826168, -0.03547775745391846, -0.05243406817317009, -0.05852825194597244, -0.042222555726766586, 0.04256914183497429, -0.03901032358407974, 0.05236486345529556, -0.03905799984931946, -0.033402420580387115, 0.025975199416279793, 0.029355676844716072, 0.005426798947155476, -0.0048571741208434105, -0.0003724303387571126, 0.053723592311143875, 0.0026531764306128025, -0.029268475249409676, -0.047467030584812164, 0.039797592908144, -0.028856337070465088, 0.023785648867487907, -0.032838765531778336, 0.010450690053403378, -0.04511198401451111, -0.02278522215783596, -0.00749766593798995, -0.014353989623486996, -0.03312365338206291, 0.008651521056890488, 0.04163960739970207, 0.04975945129990578, -0.010224067606031895, 0.009650666266679764, 0.027982408180832863, -0.026996394619345665, -0.03159000352025032, -0.06788704544305801, 0.031202509999275208, 0.032499149441719055, 0.0005690025282092392, -0.009603816084563732, -0.016772596165537834, -0.0009508472867310047, 0.02932637929916382, 0.021774299442768097, 0.03531224653124809, -0.0976196900010109, -0.0449124351143837, 0.039295364171266556, 0.03412467986345291, -0.03270885720849037, 0.0157251488417387, 0.008879427798092365, -0.06531649827957153, 0.05817890912294388, 0.07095316052436829, -0.004549022298306227, 0.03772670403122902, -0.024197353050112724, -0.015437869355082512, 0.07709724456071854, 0.03017323650419712, 0.0037020929157733917, -0.011750959791243076, 0.007163435686379671, 0.09207157045602798, 0.04555574804544449, -0.054070308804512024, 0.00854416936635971, -0.03573240339756012, 0.06345877051353455, 0.02541724219918251, 0.039300382137298584, -0.01496364176273346, -0.09483543783426285, -0.06452784687280655, 0.008192370645701885, 0.0014338972978293896, 0.05583234503865242, -0.0025335890240967274, -0.06663618236780167, -0.027506064623594284, -0.01858694665133953, -0.013941907323896885, -0.037386052310466766, -0.07374349236488342, -0.0009615979506634176, -0.025561923161149025, 0.03810841590166092, 0.07140573859214783, -0.0464157871901989, -0.03170819208025932, -0.024345938116312027, 0.010590885765850544, 0.031221220269799232, -0.053120024502277374, 0.009111030027270317, -0.050330210477113724, 0.040814198553562164, -0.012102236971259117, 0.04745197296142578, -0.03346068412065506, 0.012959226965904236]}, page_content='Kode Rekening: kode_rekening    4.1.3.3.1.1\\nkode_rekening    4.1.3.3.1.1\\nName: 314, dtype: object\\nNama Rekening: Bagian Laba yang Dibagikan kepada Pemerintah Daerah (Dividen) atas Penyertaan Modal pada Perusahaan Milik Swasta\\nPendapatan: 0.0\\nRealisasi: 0.0\\nPersentase: 0.0'), Document(metadata={'kode_rekening': {'kode_rekening': '4.2.1.1.1.1.7'}, 'nama_rekening': '01.6. Pemungutan Sektor Lainnya', 'embedding': [0.03018762171268463, 0.0020489057060331106, -0.05066724121570587, 0.005416728090494871, 0.07239729166030884, 0.02803054079413414, 0.02612336166203022, -0.06099742650985718, -0.008138232864439487, 0.03456391766667366, -0.009484621696174145, -0.01177678257226944, -0.044795967638492584, -0.020456373691558838, -0.009163849987089634, -0.016320640221238136, 0.012851155363023281, -0.025447603315114975, -0.020049644634127617, -0.03644591569900513, -0.040369000285863876, -0.0018838992109522223, -0.03568601608276367, 0.0032479390501976013, 0.0024789718445390463, -0.006224357057362795, -0.00921420007944107, -0.04588025063276291, -0.0345892533659935, -0.006163664162158966, -0.05046137049794197, 0.023631956428289413, -0.044626764953136444, -0.006507199723273516, -0.02086523547768593, -0.046583324670791626, -0.010964487679302692, -0.01294856145977974, 0.029441144317388535, 0.061760809272527695, -0.004539612215012312, 0.0035473431926220655, 0.006034402176737785, -0.05230970308184624, 0.014075336046516895, -0.02547973394393921, -0.0055702622048556805, 0.013478637672960758, 0.026884213089942932, -0.047537095844745636, 0.005146300885826349, 0.026120321825146675, 0.04679938778281212, -0.006505160592496395, -0.030908366665244102, -0.0868697464466095, -0.026745283976197243, 0.00034490376128815114, 0.0027306636329740286, -0.012289485894143581, -0.023889146745204926, 0.011095831170678139, -0.010532240383327007, 0.06259883940219879, -0.009481960907578468, -0.05529149994254112, -0.027575507760047913, -0.009441032074391842, 0.06603754311800003, -0.01891653798520565, 0.03458196297287941, -0.002182277385145426, 0.0738808736205101, 0.005596986040472984, -0.03558538109064102, -0.09327812492847443, -0.02362983115017414, 0.017988936975598335, 0.0381232351064682, 0.04170578718185425, 0.022262264043092728, -0.07239755243062973, -0.018258914351463318, -0.025602219626307487, -0.028211165219545364, 0.07074371725320816, -0.04017153009772301, -0.017363766208291054, -0.028929516673088074, 0.05234051123261452, -0.014238297007977962, -0.02622213214635849, 0.003416109597310424, -0.07254316657781601, 0.02875477448105812, 0.07043702900409698, -0.021322159096598625, -0.020151730626821518, 0.008066575974225998, -0.04952821880578995, -0.010708130896091461, -0.06807414442300797, -0.023824963718652725, -0.07222245633602142, 0.0045791263692080975, 0.036679282784461975, -0.002621022053062916, 0.027380598708987236, -0.06279325485229492, 0.013938352465629578, -0.02976185269653797, -0.03890368714928627, 0.0021345217246562243, -0.008688000030815601, 0.044117387384176254, -0.01324552297592163, 0.00276949442923069, 0.042381130158901215, 0.013654922135174274, 0.0011157318949699402, 0.025799069553613663, 0.005913988687098026, 0.020226426422595978, -0.0008441116660833359, 0.020149068906903267, -0.02133932150900364, -0.05973243713378906, -0.021042538806796074, 0.04627067968249321, 0.07851353287696838, 0.012744179926812649, -0.014671300537884235, 0.02673276700079441, 0.001768770394846797, 0.031574707478284836, 0.04790026322007179, 0.017505645751953125, 0.027341237291693687, 0.04515423625707626, 0.004741749260574579, -0.006946929264813662, 0.023602841421961784, 0.007335329428315163, 0.032394327223300934, -0.0018245407845824957, 0.031237740069627762, 0.020636742934584618, 0.024014413356781006, 0.090230293571949, -0.020557625219225883, -0.03591854125261307, -0.03615627437829971, -0.07460642606019974, 0.025124093517661095, 0.07000694423913956, 0.058256085962057114, -0.016058243811130524, 0.017369451001286507, 0.027917223051190376, 0.0722028911113739, 0.0511079877614975, 0.02098335325717926, -0.041794609278440475, -0.0059984056279063225, -0.007254595868289471, -0.06038982793688774, -0.0066738855093717575, 0.02332575060427189, 0.009366854093968868, -0.030326666310429573, 0.022463586181402206, -0.0019142056116834283, -0.06773020327091217, -0.04864099621772766, -0.02900923416018486, -0.07209356129169464, -0.01999310590326786, -0.006578258704394102, -0.00929880142211914, 0.04047934710979462, -0.027219554409384727, -0.03552806377410889, 0.042147211730480194, 0.005556363612413406, 0.029482930898666382, -0.01148976944386959, 0.05366068333387375, -0.013237522915005684, -0.03268878534436226, -0.055032387375831604, -0.045529287308454514, -0.04421205446124077, -0.011827059090137482, -0.014029468409717083, -0.031945984810590744, 0.025028269737958908, 0.009510944597423077, 0.04943495988845825, -0.016549885272979736, -0.03320208191871643, -0.03222509101033211, 0.02403186820447445, 0.00427248515188694, -0.0007502041407860816, 0.06127381697297096, -0.020863395184278488, 0.0491279661655426, -0.001915504690259695, -0.008790675550699234, 0.05417366698384285, -0.02441103383898735, -0.013307111337780952, -0.0006153076537884772, -0.03296481445431709, 0.047443687915802, 0.02548978105187416, -0.022324033081531525, -0.004850055556744337, -0.03352056443691254, -0.036374300718307495, -0.03369579464197159, -0.010828661732375622, -0.017460186034440994, 0.0255745816975832, -0.04078000783920288, -0.0024672620929777622, 0.04274282231926918, 0.039748672395944595, -0.0023627213668078184, -0.04380188137292862, 0.000270103890215978, 0.09293540567159653, 0.034183111041784286, -0.010582839138805866, 0.07408159971237183, -0.00979684293270111, 0.02224177122116089, 0.020411113277077675, 0.005836674477905035, 0.028046203777194023, -0.027863556519150734, 0.01069683488458395, 0.04035467281937599, 0.035367414355278015, -0.053920019418001175, -0.00814689602702856, 0.019434405490756035, 0.06410408020019531, -0.01630300097167492, 0.07372720539569855, 0.0015656690811738372, -0.04402830824255943, 0.0036206848453730345, 0.03418748080730438, -0.03292595595121384, 0.031132852658629417, -0.024892352521419525, 0.04705343768000603, 0.020006105303764343, 0.008280747570097446, 0.007898753508925438, 0.003200359409675002, 0.006517860107123852, -0.010681112296879292, 0.012990863993763924, 0.009247254580259323, 0.016096368432044983, -0.01747487112879753, -0.024303950369358063, 0.028495512902736664, -0.011150033213198185, -0.03609800711274147, 0.12085162848234177, 0.035955194383859634, -0.006763751152902842, 0.035446830093860626, -0.017968149855732918, 0.044109784066677094, -0.02912435494363308, -0.04302991181612015, 0.020945999771356583, 0.03394702076911926, 0.012350262142717838, -0.014173328876495361, -0.02085135318338871, 0.0016915887827053666, -0.04216546192765236, 0.011220977641642094, 0.012945199385285378, -0.06614001840353012, -0.027492916211485863, -0.006208894774317741, -0.03394477441906929, -0.0395689494907856, -0.06474075466394424, -0.00406124722212553, -0.0008570831851102412, 0.025261761620640755, -0.0016667968593537807, -0.005632470827549696, -0.02243182435631752, -0.036235928535461426, -0.020440315827727318, -0.10211529582738876, -0.000765076489187777, 0.02667907625436783, 0.011094016954302788, -0.029808271676301956, -0.01456292625516653, 0.04861805960536003, -0.008769686333835125, -0.0632719025015831, -0.04357767477631569, -0.023044433444738388, 0.06897273659706116, 0.05501004680991173, -0.009204552508890629, -0.00033573011751286685, -0.017145343124866486, 0.07146533578634262, -0.03804757818579674, 0.01874987594783306, 0.03282810002565384, -0.01366181019693613, 0.021430106833577156, 0.03681734949350357, -0.006377187091857195, 0.029349209740757942, 0.00666872737929225, 0.014695541001856327, 0.0009167816024273634, 0.01156291738152504, -0.02987876906991005, 0.052421074360609055, 0.004083229228854179, 0.00276679964736104, -0.09294868260622025, 0.03353385627269745, -0.013780351728200912, 0.005415921099483967, 0.06976990401744843, 0.02221285179257393, -0.036850519478321075, -0.030474701896309853, -0.01930348016321659, -0.001098946901038289, -0.02083430252969265, -0.010237571783363819, 0.08625476062297821, 0.0012612935388460755, 0.026339786127209663, 0.07035163044929504, -0.010655764490365982, 0.00440375879406929, -0.014035696163773537, -0.03702603653073311, 0.05354400351643562, -0.01793741062283516, 0.029012316837906837, -0.00019024743232876062, -0.04496108368039131, 0.044160619378089905, -0.013206508941948414, 0.021003806963562965, 0.0005911432672291994, -0.012491345405578613, -0.005161596462130547, 0.0001398672757204622, -0.011108382605016232, 0.01692037656903267, 0.020021824166178703, -0.05504261702299118, 0.01632305607199669, 0.00959409773349762, -0.023027515038847923, -0.04272696375846863, -0.030676482245326042, -0.01897364854812622, 0.028247864916920662, 0.034327369183301926, 0.01779959537088871, 0.008082430809736252, 0.030531441792845726, 0.009463856928050518, 0.004040575120598078, -0.03685992956161499, 0.08141147345304489, 0.050006505101919174, -0.014180987142026424, 0.039842940866947174, -0.04091353341937065, 0.012489303946495056, 0.03774827718734741, 0.030050892382860184, -0.0004448975087143481, 0.03701763227581978, -0.06082525476813316, -0.0034344324376434088, 0.027956828474998474, -0.03414754942059517, -0.009899947792291641, -0.024680521339178085, 0.009097189642488956, -0.06728631258010864, -0.009952961467206478, -0.01784663088619709, -0.005414007231593132, -0.02825900912284851, -0.03369100019335747, -0.031831275671720505, -0.01537118200212717, 0.018038256093859673, 0.024679983034729958, -0.09606712311506271, -0.028384530916810036, -0.046274252235889435, 0.016089744865894318, 0.0027692343574017286, 0.00030796698410995305, 0.0475744791328907, -0.03628700599074364, -0.019090238958597183, -0.040895264595746994, -0.054497987031936646, -0.03473827242851257, -0.04396383836865425, -0.017304223030805588, -0.025326190516352654, -0.003234101692214608, 0.004633566830307245, 0.021946659311652184, -0.06369561702013016, 0.020244358107447624, -0.03464334085583687, -0.01210580300539732, -0.07208100706338882, 0.005678123328834772, 0.035169389098882675, 0.004178592935204506, -0.0317961610853672, 0.04838574677705765, -0.026311159133911133, 0.020930031314492226, 0.033344026654958725, 0.020639954134821892, -0.011132577434182167, 0.019257547333836555, -0.0593683086335659, 0.022517545148730278, -0.06870575249195099, 0.012371192686259747, -0.01814999431371689, -0.057178206741809845, -0.003965600393712521, -0.03487282618880272, -0.03962516412138939, -0.04255253076553345, 0.013142479583621025, -0.010834543965756893, 0.04129806160926819, -0.06826216727495193, -0.05211500823497772, -0.00659498106688261, -0.032215721905231476, 0.004398799035698175, -0.008542283438146114, 0.005190213676542044, -0.012215676717460155, 0.09511961042881012, 0.07108782231807709, 0.025879602879285812, -0.006250682752579451, 0.03207987919449806, -0.0019057999597862363, -0.004029113333672285, -0.01686577871441841, -0.0918583869934082, 0.057182151824235916, -0.0072323172353208065, -0.014099884778261185, -0.020845675840973854, -0.05617782473564148, 0.051434654742479324, -0.020124739035964012, -0.005351618863642216, 0.007929043844342232, 0.004834285005927086, -0.022509142756462097, 0.05159137025475502, 0.02494814060628414, 0.010986636392772198, -0.010836072266101837, -0.016501042991876602, -0.08506994694471359, -0.014413801953196526, 0.029532555490732193, -0.05476579815149307, 0.027309652417898178, -0.025476988404989243, 0.028889290988445282, -0.003100739326328039, 0.00830486323684454, -0.00766006438061595, 0.0017267882358282804, 0.04003310576081276, -0.043580908328294754, -0.006076605059206486, 0.0012643879745155573, 0.014202618040144444, 0.007512254640460014, 0.01873212866485119, 0.039535779505968094, 0.011231795884668827, -0.036697424948215485, 0.01821259595453739, -0.02277732454240322, -0.010811502113938332, 0.04519810900092125, -0.0357402078807354, -0.03061266615986824, 0.049628935754299164, -0.0034703121054917574, -0.07397115230560303, -0.003285855520516634, 0.06494215130805969, -0.05370696634054184, 0.02387279085814953, 0.012234434485435486, -0.05168697610497475, 0.003666879143565893, 0.0007251593051478267, 0.051792796701192856, -0.06047264486551285, -0.013223295100033283, 0.015623442828655243, 0.002765182638540864, -0.010038753040134907, 0.0639309212565422, 0.03932713717222214, -0.003932475578039885, 0.010127028450369835, -0.006730361375957727, 0.002827721880748868, 0.023011747747659683, -6.837140244897455e-05, -0.011130920611321926, 0.0033846483565866947, -0.10120312124490738, 0.014804895967245102, 0.01225495245307684, -0.05275844782590866, -0.0037552795838564634, 0.007908020168542862, -0.05633391812443733, 0.04164567217230797, -0.02290802262723446, -0.05844419449567795, 0.010625374503433704, 0.016111895442008972, -0.015634221956133842, -0.05572742223739624, 0.04691615328192711, -0.015276976861059666, -0.010425327345728874, 0.06406567990779877, 0.05312417447566986, -0.02403252013027668, -0.019414450973272324, 0.05961044877767563, -0.001381942187435925, -0.0010862272465601563, 0.004356725141406059, -0.04480517655611038, -0.019683102145791054, 0.05205967277288437, -0.020858677104115486, -0.06162836775183678, 0.02364230528473854, -0.01741662621498108, -0.021302634850144386, 0.02273136004805565, -0.04471828043460846, -0.014859244227409363, 0.0050565386191010475, -0.003225696040317416, 0.027091190218925476, 0.038282569497823715, 0.010775688104331493, 0.04295695200562477, -0.02953752689063549, -0.07284743338823318, 0.06562915444374084, -0.057631995528936386, -0.055830664932727814, 0.00950708333402872, 0.03200181946158409, -0.03384990990161896, -0.02478712610900402, -0.013196991756558418, -0.014516535215079784, 0.019385594874620438, 0.009149936959147453, 0.06099002808332443, -0.019103774800896645, 0.04408475384116173, 0.026316581293940544, -0.029801014810800552, 0.0015964257763698697, -0.00040516036096960306, -0.0064978874288499355, 0.00867963582277298, 0.00824570469558239, 0.0005427676951512694, 0.011879606172442436, 0.004925321787595749, -0.031052380800247192, 0.03596331924200058, 0.015951726585626602, -0.047740135341882706, -0.05114239454269409, -0.0034094112925231457, -0.005689030978828669, -0.016844147816300392, -0.0033953108359128237, 0.005195573903620243, -0.007966870442032814, -0.023148829117417336, -0.017090655863285065, 0.04954584687948227, 0.024399587884545326, 0.032628901302814484, 0.07077240198850632, -0.027549458667635918, -0.006086455192416906, -0.01749470643699169, 0.007302216719835997, -0.031756430864334106, -0.037185147404670715, 0.0382690355181694, 0.012822694145143032, -0.06002409756183624, 0.000575379584915936, 0.010096401907503605, -0.020200904458761215, -0.03620230033993721, 0.06997951865196228, 0.03539610654115677, -0.08015452325344086, -0.0835270881652832, -0.002174073364585638, -0.008313994854688644, 0.04699980095028877, 0.01962140202522278, -0.019056251272559166, 0.0023714047856628895, -0.0017611851217225194, -0.03133482486009598, -0.037749577313661575, 0.04446367546916008, -0.00977389793843031, -0.026378720998764038, 0.04014725610613823, 0.0016663521528244019, 0.02033836580812931, 0.024531764909625053, -0.041866693645715714, -0.030592244118452072, -0.062270890921354294, -0.03657788410782814, 0.0756668895483017, -0.06361212581396103, 0.05623782426118851, -0.024002987891435623, -0.031143346801400185, 0.046002019196748734, 0.03585280478000641, -0.003967075143009424, 0.04445124790072441, 0.014004240743815899, 0.03692590817809105, 0.0013072441797703505, -0.02265457808971405, -0.04842783883213997, 0.022863198071718216, -0.027551325038075447, 0.020883893594145775, -0.046927157789468765, 0.01055990532040596, -0.035452812910079956, -0.05278244614601135, 0.003347885562106967, -0.018980981782078743, -0.03429137542843819, 0.007298296317458153, 0.04973410815000534, 0.05294611677527428, 0.005940488073974848, 0.02563871443271637, 0.03998444974422455, -0.008211924694478512, -0.044664159417152405, -0.07325132936239243, 0.015414766035974026, 0.04817868024110794, -0.01220249105244875, 0.007708563003689051, -0.031955618411302567, -0.011361980810761452, 0.022618701681494713, 0.017031535506248474, 0.03403022140264511, -0.08207967132329941, -0.03528818115592003, 0.06019735336303711, 0.034143947064876556, -0.028864795342087746, 0.016132313758134842, -0.008650085888803005, -0.08385276049375534, 0.04631596803665161, 0.098027803003788, 0.00976371206343174, 0.02940111607313156, -0.04739048331975937, -0.025028575211763382, 0.07562223821878433, 0.0012647996190935373, 0.0073456489481031895, -0.004432924557477236, -0.00351660861633718, 0.07644443213939667, 0.034489985555410385, -0.047414254397153854, -0.013092737644910812, -0.036867376416921616, 0.07074221968650818, 0.01855832152068615, 0.05850529298186302, -0.027877699583768845, -0.09042811393737793, -0.04857899993658066, 0.0015254748286679387, 0.016966404393315315, 0.042732641100883484, 0.011440649628639221, -0.06604946404695511, -0.04372008517384529, -0.036687470972537994, -0.011965606361627579, -0.03990234434604645, -0.07279538363218307, -0.02697497047483921, -0.02092677168548107, 0.04484916105866432, 0.07148803770542145, -0.06402643024921417, -0.029130825772881508, -0.02229158580303192, 0.03036479651927948, 0.026380782946944237, -0.05859925597906113, 0.02421029470860958, -0.0536758229136467, 0.05515502393245697, -0.02234520949423313, 0.029173707589507103, -0.05710579454898834, 0.011018120683729649]}, page_content='Kode Rekening: kode_rekening    4.2.1.1.1.1.7\\nkode_rekening    4.2.1.1.1.1.7\\nName: 560, dtype: object\\nNama Rekening: 01.6. Pemungutan Sektor Lainnya\\nPendapatan: 0.0\\nRealisasi: 0.0\\nPersentase: 0.0'), Document(metadata={'kode_rekening': {'kode_rekening': '4.1.3.3'}, 'nama_rekening': 'Bagian Laba yang dibagikan kepada Pemerintah Daerah (Dividen) atas Penyertaan Modal pada Perusahaan Milik Swasta', 'embedding': [0.02310348115861416, -0.013037396594882011, -0.038422878831624985, 0.019211582839488983, 0.0768008828163147, 0.037193842232227325, 0.04089001938700676, -0.06751006096601486, -0.022119229659438133, 0.0260319821536541, -0.018374526873230934, 0.0038373980205506086, -0.06696648895740509, -0.016331179067492485, -0.019844621419906616, -0.0035678690765053034, -0.012655476108193398, -0.022123776376247406, -0.005615219008177519, -0.02693941816687584, -0.03427812084555626, 0.0024988423101603985, -0.01898776926100254, 0.028974052518606186, 0.018068557605147362, -0.01363342348486185, -0.031677573919296265, -0.056088294833898544, -0.035394337028265, 0.019896380603313446, -0.03666888549923897, 0.038925010710954666, -0.02429606020450592, -0.0068862345069646835, -0.01596824638545513, -0.03609888255596161, 0.00602926779538393, 0.0023097379598766565, 0.03297016769647598, 0.07370178401470184, 0.010079151019454002, 0.021548114717006683, 0.008794507011771202, -0.02016231045126915, 0.014729452319443226, -0.039787571877241135, 0.00930971372872591, 0.00670231506228447, 0.03366256132721901, -0.0322616882622242, 0.02760257013142109, -0.003191670635715127, 0.03008863516151905, -0.015015404671430588, -0.029448069632053375, -0.07283856719732285, -0.004854618571698666, -0.0064859539270401, -0.007052192464470863, -0.03605784848332405, -0.005716301966458559, 0.026363417506217957, -0.0030777982901781797, 0.06835822016000748, -0.023210065439343452, -0.06396248191595078, -0.05275410786271095, 0.0009155793813988566, 0.05938948318362236, -0.007992043159902096, 0.04886452853679657, -0.009564260952174664, 0.06697573512792587, 0.0013455648440867662, -0.040388550609350204, -0.08617457002401352, -0.02637956663966179, 0.03187642991542816, 0.05722585693001747, 0.030746862292289734, 0.017367660999298096, -0.07189443707466125, -0.005277549847960472, -0.029302505776286125, -0.011642355471849442, 0.06637050956487656, -0.04218713939189911, -0.00430782325565815, -0.017419394105672836, 0.06275774538516998, -0.00020529291941784322, -0.02634330466389656, -0.008598200045526028, -0.07328498363494873, 0.02728177420794964, 0.06089767441153526, -0.008305437862873077, -0.03178315982222557, -0.003226066008210182, -0.04285538196563721, -0.032944098114967346, -0.04516368359327316, -0.03025118075311184, -0.03958861529827118, -0.011110792867839336, 0.04226050153374672, -0.012437134049832821, 0.029163729399442673, -0.05410142242908478, 0.02411220222711563, -0.05041269585490227, -0.023214880377054214, -0.004125783685594797, -0.010127730667591095, 0.046377379447221756, -0.00865251012146473, -0.024102555587887764, 0.06475219130516052, 0.01630484126508236, 0.002447134116664529, 0.048461731523275375, 0.007177557330578566, 0.003127256641164422, -0.00159574078861624, -0.0010203755227848887, -0.01697486825287342, -0.05289417505264282, 0.01352799590677023, 0.055150315165519714, 0.09136895835399628, 0.01982947252690792, -0.004201534669846296, 0.023098649457097054, -0.010172707028687, 0.028976112604141235, 0.048778120428323746, 0.014136341400444508, 0.012277075089514256, 0.04595624655485153, -0.006165511440485716, -0.01385699212551117, 0.037081558257341385, 0.01745530404150486, 0.028720853850245476, 0.004554890561848879, 0.05178440362215042, 0.013022816739976406, 0.007966996170580387, 0.10005363821983337, -0.014676160179078579, -0.03199870511889458, -0.015579713508486748, -0.08590033650398254, 0.03321080282330513, 0.054855749011039734, 0.05672401934862137, 0.015519317239522934, -0.01087629608809948, 0.01665910705924034, 0.09306295961141586, 0.05561869591474533, 0.023782052099704742, -0.024264976382255554, -0.007194713689386845, 0.005322815850377083, -0.05406033247709274, 0.024997306987643242, 0.0035828743129968643, 0.026797140017151833, -0.03455788269639015, -0.0044819023460149765, 0.002710348926484585, -0.05186663568019867, -0.047481730580329895, -0.02352927438914776, -0.07640207558870316, 0.005204790271818638, -0.00916359294205904, -0.016692254692316055, 0.036256127059459686, -0.022717811167240143, -0.016140500083565712, 0.048779260367155075, 0.002544306218624115, 0.025027165189385414, -0.014963447116315365, 0.07240870594978333, -0.020791683346033096, -0.020082207396626472, -0.04959171637892723, -0.037677325308322906, -0.02764812670648098, -0.018243584781885147, -0.023197796195745468, -0.055432990193367004, 0.01470133475959301, 0.007570929825305939, 0.051498401910066605, -0.02846626006066799, -0.029553143307566643, -0.03510088846087456, 0.005592995323240757, 0.008364235050976276, -0.01104500237852335, 0.04526041820645332, -0.030434157699346542, 0.04740922898054123, -0.0035452330484986305, -0.020961474627256393, 0.04249439761042595, -0.019593965262174606, -0.01977767050266266, -0.011895252391695976, -0.0021340539678931236, 0.05167097970843315, 0.031055087223649025, -0.0005279660690575838, 0.005037692375481129, -0.0071706706658005714, -0.04635533690452576, -0.02654893882572651, -0.013201518915593624, -0.001611444866284728, 0.028435014188289642, 0.011143472976982594, 0.0016065379604697227, 0.04344131052494049, 0.04137398675084114, -0.006855673622339964, -0.04969460144639015, -0.025346705690026283, 0.0960606187582016, 0.02246209606528282, -0.03044469654560089, 0.0733940601348877, -0.003788397181779146, 0.010994304902851582, 0.0424906387925148, -0.007492351811379194, 0.039820849895477295, -0.030405433848500252, 0.01783038303256035, 0.051864661276340485, 0.031240038573741913, -0.04084925726056099, -0.01998731680214405, 0.03794921934604645, 0.05965998023748398, -0.013339830562472343, 0.08246376365423203, -0.026363082230091095, -0.07060682773590088, 0.03198343515396118, 0.02181125432252884, -0.01466978807002306, 0.02909085713326931, -0.03623347729444504, 0.050930675119161606, 0.022081157192587852, 0.014838717877864838, 0.04773571714758873, -0.0026467887219041586, -0.0010784807382151484, -0.031592439860105515, 0.00718327471986413, -0.008787941187620163, -0.0010840350296348333, -0.014488964341580868, -0.021398620679974556, 0.0378078892827034, -0.004802322946488857, -0.036943670362234116, 0.07660483568906784, 0.06195653975009918, -0.017125142738223076, 0.05462316796183586, -0.013952384702861309, 0.06222958862781525, -0.009488049894571304, -0.04949295520782471, 0.024823198094964027, 0.023037325590848923, 0.017902813851833344, -0.048508696258068085, -0.025540729984641075, -0.008792519569396973, -0.05030076950788498, 0.027717670425772667, 0.010072913020849228, -0.0663270428776741, -0.044140834361314774, -0.03607730194926262, -0.01009521447122097, -0.020578769966959953, -0.0426228791475296, 0.013310554437339306, -0.008894694037735462, 0.02271442860364914, -0.015132001601159573, -0.0022267659660428762, -0.034746985882520676, -0.028507621958851814, -0.0317273773252964, -0.0859580710530281, 0.002900050487369299, 0.025575267150998116, -0.021079357713460922, -0.03063867799937725, -0.005752384662628174, 0.051945269107818604, 0.012684686109423637, -0.0534231923520565, -0.029332857578992844, -0.03861045464873314, 0.05253533273935318, 0.037411607801914215, -0.009402700699865818, -0.015063869766891003, -0.04226082190871239, 0.07241039723157883, -0.028537001460790634, 0.03391873091459274, 0.02240665629506111, -0.01199883408844471, 0.03373805806040764, 0.024673955515027046, -0.040229249745607376, 0.03123367391526699, 0.005279412027448416, 0.012499037198722363, 0.0062906271778047085, -0.003821159712970257, -0.0363641194999218, 0.06115591153502464, 0.011961652897298336, 0.025318175554275513, -0.07086064666509628, 0.03378498926758766, -0.008702893741428852, 0.011727527715265751, 0.07896237820386887, 0.002020809566602111, -0.034758590161800385, 0.00037884796620346606, -0.020296797156333923, 0.010075661353766918, -0.05157329514622688, 0.013940590433776379, 0.09528527408838272, -0.014161782339215279, 0.0191756933927536, 0.048397161066532135, -0.0007317246636375785, -0.009352943859994411, 0.0010178199736401439, -0.029174109920859337, 0.07509959489107132, -0.008818501606583595, -0.002020136686041951, 0.00530202966183424, -0.0627397671341896, 0.05525299906730652, -0.02318536676466465, 0.003720938228070736, -0.00964523758739233, -0.039294153451919556, -0.013183950446546078, 0.007214335724711418, -0.01132705807685852, 0.029649334028363228, 0.010525844991207123, -0.04287426546216011, 0.0051178233698010445, 0.024261455982923508, -0.01921781711280346, -0.05226358398795128, -0.013730024918913841, -0.03159371763467789, 0.021526871249079704, 0.04179839789867401, 0.014397670514881611, 0.0038563322741538286, 0.011811118572950363, 0.029244856908917427, -0.0003887606435455382, -0.035361986607313156, 0.08627327531576157, 0.03975043073296547, 0.017926061525940895, 0.035029541701078415, -0.0456375889480114, 0.022107331082224846, 0.045129451900720596, 0.0408901572227478, -0.017147289589047432, 0.025255586951971054, -0.05483764782547951, -0.023493530228734016, 0.0237714983522892, -0.025010447949171066, -0.03144027292728424, -0.00880830455571413, 0.000533360755071044, -0.050754908472299576, -0.015437695197761059, -0.02254461869597435, -0.01289384439587593, -0.045356385409832, -0.04547976702451706, -0.044144149869680405, -0.039914730936288834, 0.0028026336804032326, 0.009016389958560467, -0.09507917612791061, -0.029357781633734703, -0.03158921003341675, 0.014160186052322388, -0.008312434889376163, -0.008701363578438759, 0.03992126137018204, -0.04970236122608185, -0.022107994183897972, -0.03441081568598747, -0.06817875802516937, -0.0499163493514061, -0.02503550983965397, -0.009240585379302502, -0.03739039972424507, -0.016887810081243515, -0.015844445675611496, 0.021919535472989082, -0.04722817614674568, 0.030383624136447906, -0.019763540476560593, -0.03724372759461403, -0.07610708475112915, -0.014117050915956497, 0.03510451316833496, 0.0037161046639084816, -0.044219404458999634, 0.028562527149915695, -0.026715219020843506, 0.016118420287966728, 0.03211521729826927, 0.019846418872475624, -0.037129227072000504, 0.026875292882323265, -0.06183670088648796, 0.007737207226455212, -0.041916780173778534, 0.012952041812241077, -0.026520268991589546, -0.028425855562090874, -0.007143991533666849, -0.0079426234588027, -0.05616394057869911, -0.020717225968837738, 0.010193639434874058, 0.018700608983635902, 0.01685069501399994, -0.070560522377491, -0.045463185757398605, 0.0044097211211919785, -0.02916952408850193, 0.0020280685275793076, -0.019282300025224686, -0.007010219618678093, -0.018681880086660385, 0.0846242606639862, 0.04511362686753273, 0.022866852581501007, -0.031263552606105804, 0.019693905487656593, -0.033855319023132324, -0.03179606422781944, 0.005650661885738373, -0.08532724529504776, 0.015843408182263374, 0.00546974828466773, -0.02622091770172119, -0.026533085852861404, -0.08077055215835571, 0.07351267337799072, -0.0021318471990525723, -0.02586435340344906, -0.017159810289740562, -0.003549600252881646, -0.022562125697731972, 0.02501698210835457, 0.0443945936858654, 0.0015893050003796816, 0.009486797265708447, -0.017034724354743958, -0.07441376894712448, -0.020266706123948097, 0.013727366924285889, -0.060878150165081024, 0.02612612396478653, -0.008336786180734634, 0.02286554127931595, -0.013784161768853664, 0.02578520029783249, 0.004100720398128033, -0.022571846842765808, 0.020153770223259926, -0.0641089379787445, 0.023192420601844788, 0.009471517987549305, 0.027974070981144905, -0.012896103784441948, 0.007755902595818043, 0.025232354179024696, -0.013451007194817066, -0.02332618087530136, 0.014511040411889553, -0.04558376967906952, -0.0200226791203022, 0.053319450467824936, -0.040351200848817825, -0.026624998077750206, 0.056673940271139145, -0.002754831686615944, -0.07945313304662704, -0.04649947211146355, 0.06392282992601395, -0.04836968705058098, 0.04218613728880882, 0.0037963546346873045, -0.05036225914955139, 0.004921294283121824, 0.007249354384839535, 0.04711092635989189, -0.06294005364179611, 0.00233678356744349, 0.015106085687875748, 0.018010593950748444, -0.008521215058863163, 0.06712651252746582, 0.03798326104879379, -0.02216198295354843, 0.002415064023807645, 0.023347770795226097, 0.00878206081688404, 0.015549537725746632, 0.005360001232475042, -0.001692549791187048, 0.02386327274143696, -0.10409489274024963, 0.007775598205626011, 0.030504446476697922, -0.03260403499007225, 0.003155386308208108, 0.014497865922749043, -0.05692267045378685, 0.034349795430898666, -0.04187815636396408, -0.05523402988910675, 0.02906491607427597, 0.03503437340259552, -0.030115457251667976, -0.058174870908260345, 0.03866879269480705, -0.017438406124711037, 0.0004127902793698013, 0.07823304831981659, 0.06837815791368484, -0.023032592609524727, -0.019688425585627556, 0.06010419502854347, 0.013896572403609753, 0.00979792233556509, 4.797778274223674e-06, -0.04825159162282944, 0.0018374467035755515, 0.03334803134202957, -0.016161959618330002, -0.042945366352796555, 0.0297049842774868, -0.01525157317519188, -0.03672220930457115, 0.02846433036029339, -0.04086069017648697, -0.022606411948800087, 0.008651793003082275, -0.03248099610209465, 0.013590327464044094, 0.048725634813308716, -0.0008304995717480779, 0.01734456792473793, -0.01712546870112419, -0.07869265973567963, 0.06960004568099976, -0.03937181830406189, -0.05152624472975731, 0.0030572195537388325, 0.012875986285507679, -0.014880236238241196, -0.0325033962726593, -0.0028300508856773376, -0.016812443733215332, 0.008723671548068523, -0.007113320287317038, 0.028791703283786774, -0.0033784678671509027, 0.03675425052642822, 0.03747326880693436, -0.016315657645463943, 0.009551312774419785, 0.007739594671875238, -0.01838340424001217, 0.0029262083116918802, -0.023263361304998398, 0.00810092594474554, 0.014995894394814968, 0.03995158150792122, -0.048408132046461105, 0.03693533316254616, 0.033566977828741074, -0.06316344439983368, -0.04123067110776901, -0.005882352124899626, 0.004079329315572977, -0.00577557785436511, -0.02504417672753334, 0.0064790863543748856, -0.01742098480463028, -0.01937774010002613, -0.006340991705656052, 0.05526655912399292, 0.02949761040508747, 0.0162003543227911, 0.05297626182436943, -0.028857804834842682, -0.016103990375995636, -0.006247975397855043, 0.0183799397200346, -0.03399693965911865, 0.0012365097645670176, 0.03558072820305824, 0.031869690865278244, -0.03819909319281578, 0.0027823103591799736, -0.0070256725884974, -0.0256021860986948, -0.023254364728927612, 0.058581702411174774, 0.06480453163385391, -0.06684156507253647, -0.1028752401471138, -0.010422967374324799, -0.03222140297293663, 0.022122960537672043, 0.034196630120277405, 0.006976291537284851, 0.0276937335729599, -0.02148297429084778, -0.04005952179431915, -0.03378048539161682, 0.05533192306756973, -0.026317177340388298, -0.03951863572001457, 0.028777597472071648, 0.00922363344579935, 0.0022803402971476316, 0.010344778187572956, -0.036074623465538025, -0.05399813875555992, -0.05629030242562294, -0.04270299896597862, 0.04298782721161842, -0.043516892939805984, 0.053743548691272736, -0.040345266461372375, -0.03523186966776848, 0.030404865741729736, 0.032907359302043915, 0.0070427036844193935, -0.009981079958379269, 0.0010257919784635305, 0.05309484899044037, -0.001535893650725484, -0.02878367342054844, -0.044490229338407516, 0.040562406182289124, -0.031605448573827744, 0.025609517470002174, -0.02902948297560215, 0.009485479444265366, -0.0422084778547287, -0.022555818781256676, -0.009021542966365814, -0.011808767914772034, -0.03621133416891098, 0.009146898053586483, 0.045598529279232025, 0.04925374314188957, -0.005224291235208511, 0.008409067057073116, 0.028068507090210915, -0.027421938255429268, -0.029161125421524048, -0.06458842754364014, 0.027995508164167404, 0.032098229974508286, 0.0027432148344814777, -0.014779862016439438, -0.01667008176445961, -0.0020597262773662806, 0.027517085894942284, 0.020707856863737106, 0.03421071916818619, -0.10384759306907654, -0.04581763595342636, 0.04065679386258125, 0.03633293882012367, -0.036317165940999985, 0.013066357932984829, 0.009949449449777603, -0.0636482685804367, 0.05203075706958771, 0.06982630491256714, -0.003498803125694394, 0.042241428047418594, -0.021907106041908264, -0.01673801802098751, 0.07526914775371552, 0.029345868155360222, -0.0016144993714988232, -0.009815448895096779, 0.006345468573272228, 0.0942208543419838, 0.04165947809815407, -0.05442008748650551, 0.009568103589117527, -0.03704841062426567, 0.06294958293437958, 0.027082856744527817, 0.03853520750999451, -0.014487594366073608, -0.09303166717290878, -0.06223945692181587, 0.0064986227080225945, 0.001078224740922451, 0.055714745074510574, -0.0024573516566306353, -0.06579811871051788, -0.030236991122364998, -0.017878888174891472, -0.013197286985814571, -0.030635451897978783, -0.07386715710163116, 0.003205458866432309, -0.026666508987545967, 0.042329609394073486, 0.07048694044351578, -0.04348896071314812, -0.03274419531226158, -0.02474537491798401, 0.008526589721441269, 0.032824452966451645, -0.05230811983346939, 0.0049634356983006, -0.048445671796798706, 0.04033277928829193, -0.013451892882585526, 0.04877437278628349, -0.03445369750261307, 0.012372352182865143]}, page_content='Kode Rekening: kode_rekening    4.1.3.3\\nkode_rekening    4.1.3.3\\nName: 312, dtype: object\\nNama Rekening: Bagian Laba yang dibagikan kepada Pemerintah Daerah (Dividen) atas Penyertaan Modal pada Perusahaan Milik Swasta\\nPendapatan: 0.0\\nRealisasi: 0.0\\nPersentase: 0.0'), Document(metadata={'kode_rekening': {'kode_rekening': '4.1.4.8.2.1'}, 'nama_rekening': 'Tuntutan Ganti Kerugian Daerah terhadap Pegawai Negeri Bukan Bendahara atau Pejabat Lain', 'embedding': [0.020709248259663582, -0.00634147971868515, -0.04177463799715042, 0.012701071798801422, 0.08170516788959503, 0.04695787653326988, 0.019511815160512924, -0.052642930299043655, 0.007306989282369614, 0.04189177602529526, -0.021206682547926903, -0.009352678433060646, -0.047447770833969116, -0.030679523944854736, -0.020219488069415092, -0.014970107935369015, -0.005401140078902245, -0.03566330298781395, 0.003354538232088089, -0.06278491765260696, -0.03717832267284393, 0.004497830290347338, -0.03595207259058952, 0.02779129520058632, 0.014936408959329128, -0.01926448754966259, -0.008582819253206253, -0.045898959040641785, -0.03643132746219635, 0.018472181633114815, -0.047663114964962006, 0.013067075982689857, -0.036282457411289215, 0.014110218733549118, -0.00395250367000699, -0.03308390825986862, 0.007551189046353102, -0.02757096476852894, 0.03582539036870003, 0.048482734709978104, 0.0037669080775231123, 0.006753064692020416, 0.01465695071965456, -0.02667280100286007, 0.02338036149740219, -0.05158159136772156, 0.015788601711392403, 0.014533204957842827, 0.034201670438051224, -0.03525438532233238, 0.0010694771772250533, -0.001293534878641367, 0.0470450222492218, -0.0045047481544315815, -0.03795924782752991, -0.08481644093990326, -0.032923948019742966, 0.010814915411174297, -0.007986627519130707, -0.01883601024746895, -0.009000844322144985, 0.020272236317396164, -0.018128354102373123, 0.08619990199804306, -0.02467312105000019, -0.04829952120780945, -0.029158394783735275, -0.017798539251089096, 0.07141032814979553, -0.01759076490998268, 0.03869807347655296, -0.003190274117514491, 0.06497227400541306, 0.00307425856590271, -0.051140423864126205, -0.09098698198795319, -0.010306913405656815, 0.013401910662651062, 0.026709454134106636, 0.03384120389819145, 0.010450884699821472, -0.07777415961027145, -0.013910680077970028, -0.031624000519514084, -0.025879263877868652, 0.05108244717121124, -0.07084409892559052, -0.010535634122788906, -0.02014792710542679, 0.05605335906147957, -0.015198350884020329, -0.003003746969625354, 0.015657588839530945, -0.06369119882583618, 0.030570395290851593, 0.07850033044815063, -0.00653923861682415, -0.03771403804421425, -0.004194359760731459, -0.041363831609487534, -0.009462784975767136, -0.060376279056072235, -0.0197612177580595, -0.06508487462997437, 0.0002402742247795686, 0.01191257406026125, 0.012961688451468945, 0.042851243168115616, -0.05222397297620773, 0.024215931072831154, -0.03677515313029289, -0.026049796491861343, 0.010939713567495346, -0.014448562636971474, 0.033026278018951416, -0.004999583121389151, -0.017907429486513138, 0.053411856293678284, 0.012482164427638054, 0.009614560753107071, 0.054934434592723846, 0.013820962980389595, 0.020453577861189842, 0.0024706560652703047, 0.02512161247432232, -0.014029194600880146, -0.05209662392735481, -0.00844766478985548, 0.03944111987948418, 0.08522124588489532, 0.022238196805119514, -0.007893790490925312, 0.01601812057197094, 0.0014863264514133334, 0.028639473021030426, 0.03610416129231453, 0.011822420172393322, 0.018554670736193657, 0.0451030358672142, 0.005146427545696497, -0.021707385778427124, 0.023302238434553146, 0.013116336427628994, 0.023042980581521988, -0.005624574143439531, 0.03815898671746254, 0.00559376971796155, 0.009918506257236004, 0.08876454085111618, -0.027822602540254593, -0.03824763745069504, -0.0194154791533947, -0.06372538208961487, 0.021034490317106247, 0.079810231924057, 0.06721530854701996, 0.0075654564425349236, 0.01836203970015049, 0.021368643268942833, 0.0674104318022728, 0.04369635879993439, 0.015865705907344818, -0.03871946409344673, 0.0006317716324701905, -0.018589403480291367, -0.05445047840476036, 0.009138868190348148, 0.014713515527546406, 0.01976272463798523, -0.0563887283205986, 0.0038226498290896416, 0.009616939350962639, -0.0614432729780674, -0.05032430961728096, -0.025841763243079185, -0.06961573660373688, -0.02209835685789585, -0.011208074167370796, -0.01402745395898819, 0.04010338336229324, -0.031122155487537384, -0.014421231113374233, 0.05026746913790703, 0.008446267805993557, 0.02411414124071598, -0.009770992211997509, 0.056009382009506226, -0.026457980275154114, -0.0138367535546422, -0.047198936343193054, -0.021027741953730583, -0.029197048395872116, -0.013799309730529785, -0.03231966122984886, -0.05201134830713272, 0.012538186274468899, -0.01119605079293251, 0.05978357046842575, -0.006160416174679995, -0.015195895917713642, -0.025085393339395523, 0.022843072190880775, 0.013158001936972141, -0.007882199250161648, 0.0569801926612854, -0.02048475667834282, 0.0663454458117485, 0.00018397301028016955, -0.025280660018324852, 0.06183936446905136, -0.03249281272292137, 0.005223470740020275, -0.01614339090883732, -0.007163770962506533, 0.056940462440252304, 0.013445288874208927, -0.015538208186626434, 0.01419746968895197, -0.011596198193728924, -0.019854944199323654, -0.022005848586559296, -0.008937763050198555, -0.0036309529095888138, 0.04393982142210007, 0.004326678812503815, -0.001486565568484366, 0.05883361026644707, 0.037594594061374664, -0.0028031475376337767, -0.053307417780160904, 0.013209606520831585, 0.08897848427295685, 0.04526824876666069, -0.023210274055600166, 0.08047375082969666, -0.0032831470016390085, 0.003219885053113103, 0.019407404586672783, -0.0022933189757168293, 0.04393168166279793, -0.04331737384200096, 0.012593311257660389, 0.03725165128707886, 0.04314294084906578, -0.048467446118593216, -0.02212616242468357, 0.02041999250650406, 0.07048799097537994, -0.01592758111655712, 0.10219410061836243, -0.012853563763201237, -0.05973387509584427, 0.02048465982079506, 0.03082798793911934, -0.010315997526049614, 0.038940828293561935, -0.04567931219935417, 0.044099610298871994, 0.030296551063656807, 0.00046059268061071634, 0.03622070327401161, -0.0023458474315702915, 0.01854456588625908, -0.022117331624031067, 0.007883855141699314, -0.0014093139907345176, 0.00709609966725111, -0.019163310527801514, -0.02961820736527443, 0.022539133206009865, -0.005785125307738781, -0.06722059100866318, 0.10092192888259888, 0.042938195168972015, -0.012177381664514542, 0.046029891818761826, -0.019037354737520218, 0.06268984079360962, -0.02215735614299774, -0.05909889191389084, 0.01212838664650917, 0.038338880985975266, 0.02208261378109455, -0.030892707407474518, -0.0036316346377134323, -0.0020024902187287807, -0.040537722408771515, 0.012442851439118385, 0.033164408057928085, -0.0670948177576065, -0.04835204780101776, -0.014918017201125622, -0.019201915711164474, -0.042445022612810135, -0.04228942468762398, 0.024604810401797295, 0.00317471195012331, 0.011164478957653046, -0.0023542430717498064, -0.01030974742025137, -0.022281954064965248, -0.03048078715801239, -0.030449334532022476, -0.09212267398834229, 0.006495933514088392, 0.016636263579130173, -0.003185786074027419, -0.03557896241545677, -0.005138593725860119, 0.05419544130563736, 0.005598275922238827, -0.06714405864477158, -0.03211337700486183, -0.004056503530591726, 0.061755742877721786, 0.05617950111627579, -0.014748893678188324, -0.014126754365861416, -0.02830621600151062, 0.06577131897211075, -0.024156777188181877, 0.03664610534906387, 0.03647879511117935, -0.028224317356944084, 0.011125493794679642, 0.03650772571563721, -0.023391516879200935, 0.03812958672642708, 0.005610399879515171, 0.03504089266061783, -0.0037917369045317173, -0.004105463624000549, -0.03538208454847336, 0.060382384806871414, 0.009771843440830708, 0.011255796067416668, -0.10137343406677246, 0.025394193828105927, -0.011538912542164326, 0.002648378722369671, 0.07032807171344757, 0.01099286787211895, -0.03443414345383644, -0.014724424108862877, -0.023126136511564255, 0.003904740558937192, -0.01929362863302231, -0.021331608295440674, 0.0913444384932518, -0.012611590325832367, 0.018509598448872566, 0.04927484691143036, -0.003056284738704562, -0.0038642140571027994, -0.022626467049121857, -0.020843377336859703, 0.06822457909584045, -0.005514389369636774, 0.01667752116918564, -0.007013347465544939, -0.04146939516067505, 0.04629448428750038, 0.001994202146306634, -0.00024730301811359823, -0.0013756579719483852, -0.019139835610985756, -0.011074337176978588, 0.0012268725549802184, -0.004356104880571365, 0.03204807639122009, -0.0014688081573694944, -0.03452299162745476, -0.0013165653217583895, 0.012603632174432278, -0.03088136948645115, -0.0498141348361969, -0.013646564446389675, -0.03144904971122742, 0.022040583193302155, 0.012719104997813702, 0.008540922775864601, -0.0028295062948018312, 0.04118514433503151, 0.008066855370998383, -0.019017118960618973, -0.04193313792347908, 0.06788651645183563, 0.04003215208649635, 0.0029955683276057243, 0.06178021803498268, -0.031244825571775436, 0.026954617351293564, 0.039726581424474716, 0.03007081151008606, -0.02864452823996544, 0.021680861711502075, -0.040899280458688736, -0.0039755310863256454, 0.025409603491425514, 0.002406207611784339, -0.010686368681490421, -0.013369010761380196, 0.024573395028710365, -0.04679800197482109, -0.007349685300141573, -0.022078927606344223, 0.0002344581880606711, -0.016359996050596237, -0.02617844007909298, -0.025383172556757927, -0.029260758310556412, 0.017228160053491592, 0.0040322099812328815, -0.09787613153457642, -0.02406356669962406, -0.026645902544260025, 0.012935471720993519, 0.003422963200137019, -0.007109113037586212, 0.047427404671907425, -0.050748325884342194, -0.02465689927339554, -0.044920966029167175, -0.07080201804637909, -0.04832936078310013, -0.049068257212638855, -0.0283128060400486, -0.028718726709485054, -0.010098385624587536, 0.013775813393294811, 0.009931480512022972, -0.04788368195295334, 0.020388253033161163, -0.029478536918759346, -0.0021123497281223536, -0.08993752300739288, -0.022099412977695465, 0.041820671409368515, 0.006350413896143436, -0.04049594700336456, 0.039916105568408966, -0.046525027602910995, 0.043975941836833954, 0.03162168338894844, 0.019133899360895157, -0.03428807482123375, 0.0394379161298275, -0.06007090583443642, 0.024880627170205116, -0.0401284396648407, -0.0007554665207862854, -0.015015583485364914, -0.05348606035113335, -0.00564188975840807, -0.020911742001771927, -0.044951844960451126, -0.03741675615310669, 0.015447650104761124, -0.0032333601266145706, 0.04454357549548149, -0.05954159051179886, -0.05364621803164482, 0.003490359289571643, -0.022951938211917877, -0.003198494901880622, 0.005725633352994919, 0.003048710059374571, -0.002655763877555728, 0.06525453180074692, 0.05203723907470703, 0.014413298107683659, -0.009627852588891983, 0.0307618360966444, -0.002822805428877473, -0.013527370989322662, -0.011070403270423412, -0.07618718594312668, 0.022701675072312355, 0.00562795577570796, -0.01205860823392868, -0.017546724528074265, -0.06355250626802444, 0.041816771030426025, -0.0049208649434149265, -0.007295847404748201, -0.005540875252336264, 0.004346542060375214, -0.019870491698384285, 0.05118269473314285, 0.041161149740219116, 0.012181036174297333, 0.007954977452754974, -0.031982552260160446, -0.0782381072640419, -0.015812033787369728, 0.023444954305887222, -0.056697409600019455, 0.02328503131866455, -0.007653505075722933, 0.032846927642822266, -0.007555937394499779, 0.0017073913477361202, -0.005621368531137705, -0.003801888320595026, 0.028797205537557602, -0.05891008675098419, -0.012447400018572807, 0.009604676626622677, 0.02662278339266777, -0.009153848513960838, 0.00922051165252924, 0.019565816968679428, -0.0034610212314873934, -0.022733934223651886, 0.016607513651251793, -0.027868274599313736, -0.026371238753199577, 0.05054803192615509, -0.04225131869316101, -0.03504946082830429, 0.04407361522316933, 0.00812600553035736, -0.06035792827606201, -0.04228154942393303, 0.07371670007705688, -0.031914543360471725, 0.015761347487568855, 0.02006932906806469, -0.03105880506336689, -0.011845790781080723, 0.013767143711447716, 0.045054275542497635, -0.0780726745724678, -0.012449954636394978, 0.0341547392308712, 0.01599889062345028, 0.002730820793658495, 0.06940479576587677, 0.03582630679011345, -0.018846500664949417, 0.0009859803831204772, 0.0043902224861085415, 0.008561228401958942, 0.026904528960585594, 0.014023101888597012, -0.002279185224324465, 0.01940196193754673, -0.0906824842095375, 0.008292261511087418, 0.016502469778060913, -0.03215658292174339, 0.009891584515571594, 0.02016885206103325, -0.05794788524508476, 0.0432032011449337, -0.031295206397771835, -0.046025704592466354, -0.010548672638833523, 0.02923334203660488, -0.02271725796163082, -0.06281521171331406, 0.02616787701845169, -0.020647630095481873, -0.0007002652273513377, 0.0647178441286087, 0.05004505068063736, -0.0374075248837471, -0.02797979861497879, 0.06966719031333923, 0.03349392116069794, -0.0035262994933873415, 0.012400618754327297, -0.06723327934741974, -0.0270501971244812, 0.04262377694249153, -0.03761664032936096, -0.04633001238107681, 0.024605516344308853, -0.032678212970495224, -0.053751569241285324, 0.03217320889234543, -0.0433429591357708, -0.003583975601941347, 0.0028494594153016806, -0.016410261392593384, 0.04665030166506767, 0.04598841816186905, 0.0060352361761033535, 0.030401000753045082, -0.02283250167965889, -0.07699017226696014, 0.06253013759851456, -0.06398065388202667, -0.044605374336242676, -0.01906999573111534, 0.022479403764009476, -0.03140837699174881, -0.023903807625174522, -0.004732834175229073, -0.01799709163606167, 0.016019897535443306, -0.02604629471898079, 0.04131115972995758, -0.012973668985068798, 0.05853946879506111, 0.018308313563466072, -0.010789385996758938, -0.004410715773701668, -0.012310613878071308, -0.005051208194345236, 0.004114710725843906, 0.006457275245338678, 0.0021297663915902376, 0.026625661179423332, 0.020234260708093643, -0.04482729732990265, 0.039753224700689316, 0.014396467246115208, -0.06686457991600037, -0.05653279274702072, -0.006306626368314028, -0.009103809483349323, -0.025864332914352417, -0.01403754111379385, 0.014358365908265114, -0.011539846658706665, -0.02245805226266384, -0.021711576730012894, 0.047132834792137146, 0.04091159626841545, 0.013853621669113636, 0.04423348605632782, -0.0062963576056063175, -0.0039543043822050095, -0.033752601593732834, 0.002969013527035713, -0.03851914033293724, -0.006632321514189243, 0.03651924803853035, 0.013787873089313507, -0.053676970303058624, 0.0063196518458426, -0.009818356484174728, -0.012893764302134514, -0.017788078635931015, 0.06898351013660431, 0.05059412494301796, -0.08642187714576721, -0.07444398105144501, -0.006145582068711519, -0.006651645060628653, 0.019428830593824387, 0.041657086461782455, -0.0038472504820674658, 0.00822536088526249, -0.014556284062564373, -0.02163122221827507, -0.03358572721481323, 0.06389932334423065, -0.015823377296328545, -0.03878127411007881, 0.02490253932774067, 0.0059950812719762325, 0.012499297969043255, -0.005142081528902054, -0.025818001478910446, -0.047635871917009354, -0.05968011915683746, -0.04906345158815384, 0.05791790783405304, -0.06257887184619904, 0.05732012540102005, -0.035431843250989914, -0.019214538857340813, 0.04020886868238449, 0.03633764013648033, 0.0038515126798301935, 0.019792836159467697, -0.008128424175083637, 0.03748895227909088, -0.00733983563259244, -0.04792152717709541, -0.04196785390377045, 0.03314675763249397, -0.03505624085664749, 0.046140532940626144, -0.03750472143292427, 0.02244793064892292, -0.034826792776584625, -0.04193200170993805, 0.006532515399158001, -0.014437454752624035, -0.043398935347795486, 0.006818985566496849, 0.018927764147520065, 0.046006940305233, 0.017141317948698997, 0.025453902781009674, 0.0525907464325428, -0.022426661103963852, -0.06309977173805237, -0.07461144030094147, 0.026462899520993233, 0.037541624158620834, -0.006329672876745462, -0.007466056849807501, -0.018213048577308655, 0.0007035810267552733, 0.030696231871843338, 0.011358247138559818, 0.04232720285654068, -0.0719165951013565, -0.061528343707323074, 0.05165628716349602, 0.03195846080780029, -0.019416624680161476, 0.020379075780510902, 0.0019483099458739161, -0.07754285633563995, 0.06155911087989807, 0.08309026062488556, -0.017288893461227417, 0.033290471881628036, -0.0445922315120697, -0.04390602558851242, 0.07873284816741943, 0.005811311304569244, -0.010703508742153645, -0.018350645899772644, -0.003989451564848423, 0.0768142119050026, 0.05080512538552284, -0.04998904466629028, 0.00405879458412528, -0.040311988443136215, 0.04192984104156494, 0.012091110460460186, 0.047069251537323, -0.0069661526940763, -0.09067554026842117, -0.038399290293455124, 0.003256060415878892, 0.038972437381744385, 0.0735112652182579, 0.004815284162759781, -0.0592055581510067, -0.017610570415854454, -0.025070078670978546, -0.01920202560722828, -0.04068833217024803, -0.060935840010643005, -0.007116854656487703, -0.02946946583688259, 0.04801863804459572, 0.053709570318460464, -0.0469922237098217, -0.033621083945035934, -0.005979204084724188, 0.03281237557530403, 0.021395403891801834, -0.08033079653978348, 0.0244258064776659, -0.025464003905653954, 0.04464985057711601, -0.003296405542641878, 0.03443709760904312, -0.03076528199017048, 0.030008822679519653]}, page_content='Kode Rekening: kode_rekening    4.1.4.8.2.1\\nkode_rekening    4.1.4.8.2.1\\nName: 457, dtype: object\\nNama Rekening: Tuntutan Ganti Kerugian Daerah terhadap Pegawai Negeri Bukan Bendahara atau Pejabat Lain\\nPendapatan: 0.0\\nRealisasi: 0.0\\nPersentase: 0.0')]\n"
          ]
        }
      ]
    },
    {
      "cell_type": "code",
      "source": [
        "# prompt: buatkan reasoning dari retriever sebelumnya\n",
        "\n",
        "The provided code creates a vector database from financial data (specifically, regional income data from a PostgreSQL database) and then uses it to build a retriever. Let's break down the reasoning behind the retriever's functionality:\n",
        "\n",
        "1. **Data Source:** The system pulls data from a PostgreSQL database table (`fact_pendapatan_daerah`) which appears to contain regional income information, including account codes, names, targets, realizations, and percentages.\n",
        "\n",
        "2. **Data Preparation:**  The code processes the data in the following way:\n",
        "    - It joins data from `fact_pendapatan_daerah` and `dim_rekening` to combine income figures with account details.\n",
        "    - It then formats this data into a string representation, which includes the account code, account name, target income, actual income, and the percentage of the target achieved.\n",
        "    -  Crucially, the code uses `MarkdownTextSplitter` to break down lengthy text into smaller, manageable chunks (1000 characters with a 200-character overlap). This is essential because embedding models have token limits.  Each chunk becomes a separate document.\n",
        "    - For each chunk, it generates embeddings using the Vertex AI TextEmbeddingModel (`textembedding-gecko`). These embeddings transform text into numerical vectors that capture semantic meaning.\n",
        "    - Metadata is associated with each chunk.  This includes the account code and name, which helps to identify the origin of each embedding when retrieving results. The embedding itself is also added as metadata.\n",
        "\n",
        "3. **Vector Storage:** The embeddings and associated metadata are stored in a PostgreSQL database using the `PostgresVectorStore`.  This specialized vector store allows for efficient similarity searches based on the generated embeddings.\n",
        "\n",
        "4. **Retrieval Process:**\n",
        "    - The code constructs a retriever using the `PostgresVectorStore` and defines `search_kwargs={\"k\": 10}`.  This means that, given a query, the retriever will return the top 10 documents with embeddings most similar to the query's embedding.\n",
        "    - When a query (e.g., \"Berapa total pajak daerah?\") is given, the retriever first generates an embedding for the query using the same Vertex AI embedding model as used for the data.\n",
        "    - It then performs a similarity search in the PostgreSQL vector database, comparing the query's embedding with the embeddings of all the stored chunks.\n",
        "    - The top 10 most similar chunks (based on cosine similarity, a standard metric for vector comparisons) are retrieved.  Critically, the metadata (including account codes, account names, and source text) associated with each of these top chunks are also returned.\n",
        "\n",
        "\n",
        "**In summary:** The retriever's reasoning is based on semantic similarity.  By converting both the query and the stored financial data into vector representations that capture their semantic meaning, the system can quickly find the most relevant pieces of financial information for a given user query.  The metadata ensures that the context of the retrieved information (e.g., account code and name) is available. The use of chunking prevents issues arising from exceeding the embedding model's input token limit.\n"
      ],
      "metadata": {
        "id": "q4MtMY828HUJ"
      },
      "execution_count": null,
      "outputs": []
    }
  ],
  "metadata": {
    "kernelspec": {
      "display_name": "Python 3",
      "name": "python3"
    },
    "language_info": {
      "codemirror_mode": {
        "name": "ipython",
        "version": 3
      },
      "file_extension": ".py",
      "mimetype": "text/x-python",
      "name": "python",
      "nbconvert_exporter": "python",
      "pygments_lexer": "ipython3",
      "version": "3.10.14"
    },
    "colab": {
      "provenance": [],
      "gpuType": "T4"
    },
    "accelerator": "GPU"
  },
  "nbformat": 4,
  "nbformat_minor": 0
}