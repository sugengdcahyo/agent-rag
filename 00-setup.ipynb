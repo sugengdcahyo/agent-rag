{
  "cells": [
    {
      "cell_type": "markdown",
      "metadata": {
        "id": "view-in-github",
        "colab_type": "text"
      },
      "source": [
        "<a href=\"https://colab.research.google.com/github/sugengdcahyo/agent-rag/blob/main/00-setup.ipynb\" target=\"_parent\"><img src=\"https://colab.research.google.com/assets/colab-badge.svg\" alt=\"Open In Colab\"/></a>"
      ]
    },
    {
      "cell_type": "markdown",
      "metadata": {
        "id": "pCj1XBUXcD9b"
      },
      "source": [
        "# Building AI Agent Bot With RAG, Langchain, and Reasoning Engine From Scratch\n",
        "\n",
        "## Setup\n",
        "\n",
        "* This notebook will walk you through some required setup that you need to do before starting with the materials.\n",
        "\n",
        "* It is highly recommended to use new virtual environment when running jupyter notebook for this workshop."
      ]
    },
    {
      "cell_type": "markdown",
      "metadata": {
        "id": "gImi9WcVcD9d"
      },
      "source": [
        "## Required Software Installed Locally\n",
        "\n",
        "* Python version 3.9, 3.10, or 3.11. **Python3.12 will not work**.\n",
        "\n",
        "* If you are using VSCode, please install Jupyter Notebook extensions.\n",
        "\n",
        "* Jupyter notebook. Please follow this [installation guide](https://docs.jupyter.org/en/stable/install.html). You may choose whether you want to install classic jupyter notebook or jupyterlab (the next-gen web ui for jupyter)\n",
        "\n",
        "    * [Classic jupyter notebook installation guide](https://docs.jupyter.org/en/stable/install/notebook-classic.html)\n",
        "\n",
        "    * [Jupyterlab installation guide](https://jupyterlab.readthedocs.io/en/stable/getting_started/installation.html)\n",
        "\n",
        "* Google Cloud CLI. Please follow this [installation guide](https://cloud.google.com/sdk/docs/install-sdk)"
      ]
    },
    {
      "cell_type": "markdown",
      "metadata": {
        "id": "nM7acGcOcD9d"
      },
      "source": [
        "### Installing dependencies"
      ]
    },
    {
      "cell_type": "code",
      "execution_count": 1,
      "metadata": {
        "id": "VzspQMUJcD9e",
        "outputId": "105681d2-c708-41e7-ed69-768a5d40674e",
        "colab": {
          "base_uri": "https://localhost:8080/"
        }
      },
      "outputs": [
        {
          "output_type": "stream",
          "name": "stdout",
          "text": [
            "Writing requirements.txt\n"
          ]
        }
      ],
      "source": [
        "%%writefile requirements.txt\n",
        "\n",
        "google-cloud-aiplatform\n",
        "google-cloud-aiplatform[langchain]\n",
        "google-cloud-aiplatform[reasoningengine]\n",
        "langchain\n",
        "langchain_core\n",
        "langchain_community\n",
        "langchain-google-vertexai==2.0.8\n",
        "cloudpickle\n",
        "pydantic==2.9.2\n",
        "langchain-google-community\n",
        "google-cloud-discoveryengine\n",
        "nest-asyncio\n",
        "asyncio==3.4.3\n",
        "asyncpg==0.29.0\n",
        "cloud-sql-python-connector[asyncpg]\n",
        "langchain-google-cloud-sql-pg\n",
        "numpy\n",
        "pandas\n",
        "pgvector\n",
        "psycopg2-binary\n",
        "langchain-openai\n",
        "langgraph\n",
        "traceloop-sdk\n",
        "opentelemetry-instrumentation-google-generativeai\n",
        "opentelemetry-instrumentation-langchain\n",
        "opentelemetry-instrumentation-vertexai\n",
        "python-dotenv"
      ]
    },
    {
      "cell_type": "code",
      "execution_count": null,
      "metadata": {
        "scrolled": true,
        "id": "MxnK4OmYcD9f",
        "outputId": "f035cbb7-a31d-4b01-830d-ea7dba76803d"
      },
      "outputs": [
        {
          "name": "stdout",
          "output_type": "stream",
          "text": [
            "Requirement already satisfied: google-cloud-aiplatform in ./venv/lib/python3.10/site-packages (from -r requirements.txt (line 2)) (1.79.0)\n",
            "Requirement already satisfied: langchain in ./venv/lib/python3.10/site-packages (from -r requirements.txt (line 5)) (0.3.18)\n",
            "Requirement already satisfied: langchain_core in ./venv/lib/python3.10/site-packages (from -r requirements.txt (line 6)) (0.3.34)\n",
            "Requirement already satisfied: langchain_community in ./venv/lib/python3.10/site-packages (from -r requirements.txt (line 7)) (0.3.17)\n",
            "Requirement already satisfied: langchain-google-vertexai==2.0.8 in ./venv/lib/python3.10/site-packages (from -r requirements.txt (line 8)) (2.0.8)\n",
            "Requirement already satisfied: cloudpickle in ./venv/lib/python3.10/site-packages (from -r requirements.txt (line 9)) (3.1.1)\n",
            "Requirement already satisfied: pydantic==2.9.2 in ./venv/lib/python3.10/site-packages (from -r requirements.txt (line 10)) (2.9.2)\n",
            "Requirement already satisfied: langchain-google-community in ./venv/lib/python3.10/site-packages (from -r requirements.txt (line 11)) (2.0.4)\n",
            "Requirement already satisfied: google-cloud-discoveryengine in ./venv/lib/python3.10/site-packages (from -r requirements.txt (line 12)) (0.13.5)\n",
            "Requirement already satisfied: nest-asyncio in ./venv/lib/python3.10/site-packages (from -r requirements.txt (line 13)) (1.6.0)\n",
            "Requirement already satisfied: asyncio==3.4.3 in ./venv/lib/python3.10/site-packages (from -r requirements.txt (line 14)) (3.4.3)\n",
            "Requirement already satisfied: asyncpg==0.29.0 in ./venv/lib/python3.10/site-packages (from -r requirements.txt (line 15)) (0.29.0)\n",
            "Requirement already satisfied: langchain-google-cloud-sql-pg in ./venv/lib/python3.10/site-packages (from -r requirements.txt (line 17)) (0.12.0)\n",
            "Requirement already satisfied: numpy in ./venv/lib/python3.10/site-packages (from -r requirements.txt (line 18)) (1.26.4)\n",
            "Collecting numpy (from -r requirements.txt (line 18))\n",
            "  Using cached numpy-2.2.2-cp310-cp310-macosx_14_0_x86_64.whl.metadata (62 kB)\n",
            "Requirement already satisfied: pandas in ./venv/lib/python3.10/site-packages (from -r requirements.txt (line 19)) (2.2.3)\n",
            "Requirement already satisfied: pgvector in ./venv/lib/python3.10/site-packages (from -r requirements.txt (line 20)) (0.3.6)\n",
            "Requirement already satisfied: psycopg2-binary in ./venv/lib/python3.10/site-packages (from -r requirements.txt (line 21)) (2.9.10)\n",
            "Requirement already satisfied: langchain-openai in ./venv/lib/python3.10/site-packages (from -r requirements.txt (line 22)) (0.3.4)\n",
            "Requirement already satisfied: langgraph in ./venv/lib/python3.10/site-packages (from -r requirements.txt (line 23)) (0.2.70)\n",
            "Requirement already satisfied: traceloop-sdk in ./venv/lib/python3.10/site-packages (from -r requirements.txt (line 24)) (0.38.4)\n",
            "Requirement already satisfied: opentelemetry-instrumentation-google-generativeai in ./venv/lib/python3.10/site-packages (from -r requirements.txt (line 25)) (0.38.4)\n",
            "Requirement already satisfied: opentelemetry-instrumentation-langchain in ./venv/lib/python3.10/site-packages (from -r requirements.txt (line 26)) (0.38.4)\n",
            "Requirement already satisfied: opentelemetry-instrumentation-vertexai in ./venv/lib/python3.10/site-packages (from -r requirements.txt (line 27)) (0.38.4)\n",
            "Requirement already satisfied: python-dotenv in ./venv/lib/python3.10/site-packages (from -r requirements.txt (line 28)) (1.0.1)\n",
            "Requirement already satisfied: cloud-sql-python-connector[asyncpg] in ./venv/lib/python3.10/site-packages (from -r requirements.txt (line 16)) (1.13.0)\n",
            "Collecting cloud-sql-python-connector[asyncpg] (from -r requirements.txt (line 16))\n",
            "  Using cached cloud_sql_python_connector-1.16.0-py2.py3-none-any.whl.metadata (30 kB)\n",
            "Requirement already satisfied: google-cloud-storage<3.0.0,>=2.18.0 in ./venv/lib/python3.10/site-packages (from langchain-google-vertexai==2.0.8->-r requirements.txt (line 8)) (2.19.0)\n",
            "Requirement already satisfied: httpx<0.28.0,>=0.27.0 in ./venv/lib/python3.10/site-packages (from langchain-google-vertexai==2.0.8->-r requirements.txt (line 8)) (0.27.2)\n",
            "Requirement already satisfied: httpx-sse<0.5.0,>=0.4.0 in ./venv/lib/python3.10/site-packages (from langchain-google-vertexai==2.0.8->-r requirements.txt (line 8)) (0.4.0)\n",
            "Requirement already satisfied: annotated-types>=0.6.0 in ./venv/lib/python3.10/site-packages (from pydantic==2.9.2->-r requirements.txt (line 10)) (0.7.0)\n",
            "Requirement already satisfied: pydantic-core==2.23.4 in ./venv/lib/python3.10/site-packages (from pydantic==2.9.2->-r requirements.txt (line 10)) (2.23.4)\n",
            "Requirement already satisfied: typing-extensions>=4.6.1 in ./venv/lib/python3.10/site-packages (from pydantic==2.9.2->-r requirements.txt (line 10)) (4.12.2)\n",
            "Requirement already satisfied: async-timeout>=4.0.3 in ./venv/lib/python3.10/site-packages (from asyncpg==0.29.0->-r requirements.txt (line 15)) (4.0.3)\n",
            "Requirement already satisfied: google-api-core!=2.0.*,!=2.1.*,!=2.2.*,!=2.3.*,!=2.4.*,!=2.5.*,!=2.6.*,!=2.7.*,<3.0.0dev,>=1.34.1 in ./venv/lib/python3.10/site-packages (from google-api-core[grpc]!=2.0.*,!=2.1.*,!=2.2.*,!=2.3.*,!=2.4.*,!=2.5.*,!=2.6.*,!=2.7.*,<3.0.0dev,>=1.34.1->google-cloud-aiplatform->-r requirements.txt (line 2)) (2.24.1)\n",
            "Requirement already satisfied: google-auth<3.0.0dev,>=2.14.1 in ./venv/lib/python3.10/site-packages (from google-cloud-aiplatform->-r requirements.txt (line 2)) (2.38.0)\n",
            "Requirement already satisfied: proto-plus<2.0.0dev,>=1.22.3 in ./venv/lib/python3.10/site-packages (from google-cloud-aiplatform->-r requirements.txt (line 2)) (1.26.0)\n",
            "Requirement already satisfied: protobuf!=4.21.0,!=4.21.1,!=4.21.2,!=4.21.3,!=4.21.4,!=4.21.5,<6.0.0dev,>=3.20.2 in ./venv/lib/python3.10/site-packages (from google-cloud-aiplatform->-r requirements.txt (line 2)) (5.29.3)\n",
            "Requirement already satisfied: packaging>=14.3 in ./venv/lib/python3.10/site-packages (from google-cloud-aiplatform->-r requirements.txt (line 2)) (24.2)\n",
            "Requirement already satisfied: google-cloud-bigquery!=3.20.0,<4.0.0dev,>=1.15.0 in ./venv/lib/python3.10/site-packages (from google-cloud-aiplatform->-r requirements.txt (line 2)) (3.29.0)\n",
            "Requirement already satisfied: google-cloud-resource-manager<3.0.0dev,>=1.3.3 in ./venv/lib/python3.10/site-packages (from google-cloud-aiplatform->-r requirements.txt (line 2)) (1.14.0)\n",
            "Requirement already satisfied: shapely<3.0.0dev in ./venv/lib/python3.10/site-packages (from google-cloud-aiplatform->-r requirements.txt (line 2)) (2.0.6)\n",
            "Requirement already satisfied: docstring-parser<1 in ./venv/lib/python3.10/site-packages (from google-cloud-aiplatform->-r requirements.txt (line 2)) (0.16)\n",
            "Requirement already satisfied: openinference-instrumentation-langchain<0.2,>=0.1.19 in ./venv/lib/python3.10/site-packages (from google-cloud-aiplatform[langchain]->-r requirements.txt (line 3)) (0.1.30)\n",
            "Requirement already satisfied: google-cloud-trace<2 in ./venv/lib/python3.10/site-packages (from google-cloud-aiplatform[reasoningengine]->-r requirements.txt (line 4)) (1.15.0)\n",
            "Requirement already satisfied: opentelemetry-sdk<2 in ./venv/lib/python3.10/site-packages (from google-cloud-aiplatform[reasoningengine]->-r requirements.txt (line 4)) (1.29.0)\n",
            "Requirement already satisfied: opentelemetry-exporter-gcp-trace<2 in ./venv/lib/python3.10/site-packages (from google-cloud-aiplatform[reasoningengine]->-r requirements.txt (line 4)) (1.8.0)\n",
            "Requirement already satisfied: langchain-text-splitters<1.0.0,>=0.3.6 in ./venv/lib/python3.10/site-packages (from langchain->-r requirements.txt (line 5)) (0.3.6)\n",
            "Requirement already satisfied: langsmith<0.4,>=0.1.17 in ./venv/lib/python3.10/site-packages (from langchain->-r requirements.txt (line 5)) (0.3.2)\n",
            "Requirement already satisfied: SQLAlchemy<3,>=1.4 in ./venv/lib/python3.10/site-packages (from langchain->-r requirements.txt (line 5)) (2.0.37)\n",
            "Requirement already satisfied: requests<3,>=2 in ./venv/lib/python3.10/site-packages (from langchain->-r requirements.txt (line 5)) (2.32.3)\n",
            "Requirement already satisfied: PyYAML>=5.3 in ./venv/lib/python3.10/site-packages (from langchain->-r requirements.txt (line 5)) (6.0.2)\n",
            "Requirement already satisfied: aiohttp<4.0.0,>=3.8.3 in ./venv/lib/python3.10/site-packages (from langchain->-r requirements.txt (line 5)) (3.11.11)\n",
            "Requirement already satisfied: tenacity!=8.4.0,<10,>=8.1.0 in ./venv/lib/python3.10/site-packages (from langchain->-r requirements.txt (line 5)) (8.5.0)\n",
            "Requirement already satisfied: jsonpatch<2.0,>=1.33 in ./venv/lib/python3.10/site-packages (from langchain_core->-r requirements.txt (line 6)) (1.33)\n",
            "Requirement already satisfied: dataclasses-json<0.7,>=0.5.7 in ./venv/lib/python3.10/site-packages (from langchain_community->-r requirements.txt (line 7)) (0.6.7)\n",
            "Requirement already satisfied: pydantic-settings<3.0.0,>=2.4.0 in ./venv/lib/python3.10/site-packages (from langchain_community->-r requirements.txt (line 7)) (2.7.1)\n",
            "Requirement already satisfied: google-api-python-client<3.0.0,>=2.122.0 in ./venv/lib/python3.10/site-packages (from langchain-google-community->-r requirements.txt (line 11)) (2.160.0)\n",
            "Requirement already satisfied: google-cloud-core<3.0.0,>=2.4.1 in ./venv/lib/python3.10/site-packages (from langchain-google-community->-r requirements.txt (line 11)) (2.4.1)\n",
            "Requirement already satisfied: grpcio<2.0.0,>=1.62.0 in ./venv/lib/python3.10/site-packages (from langchain-google-community->-r requirements.txt (line 11)) (1.70.0)\n",
            "Requirement already satisfied: aiofiles in ./venv/lib/python3.10/site-packages (from cloud-sql-python-connector[asyncpg]->-r requirements.txt (line 16)) (24.1.0)\n",
            "Requirement already satisfied: cryptography>=42.0.0 in ./venv/lib/python3.10/site-packages (from cloud-sql-python-connector[asyncpg]->-r requirements.txt (line 16)) (44.0.0)\n",
            "Collecting dnspython>=2.0.0 (from cloud-sql-python-connector[asyncpg]->-r requirements.txt (line 16))\n",
            "  Using cached dnspython-2.7.0-py3-none-any.whl.metadata (5.8 kB)\n",
            "INFO: pip is looking at multiple versions of cloud-sql-python-connector[asyncpg] to determine which version is compatible with other requirements. This could take a while.\n",
            "Collecting cloud-sql-python-connector[asyncpg] (from -r requirements.txt (line 16))\n",
            "  Using cached cloud_sql_python_connector-1.15.0-py2.py3-none-any.whl.metadata (30 kB)\n",
            "  Using cached cloud_sql_python_connector-1.14.0-py2.py3-none-any.whl.metadata (28 kB)\n",
            "Requirement already satisfied: python-dateutil>=2.8.2 in ./venv/lib/python3.10/site-packages (from pandas->-r requirements.txt (line 19)) (2.9.0.post0)\n",
            "Requirement already satisfied: pytz>=2020.1 in ./venv/lib/python3.10/site-packages (from pandas->-r requirements.txt (line 19)) (2024.2)\n",
            "Requirement already satisfied: tzdata>=2022.7 in ./venv/lib/python3.10/site-packages (from pandas->-r requirements.txt (line 19)) (2025.1)\n",
            "Requirement already satisfied: openai<2.0.0,>=1.58.1 in ./venv/lib/python3.10/site-packages (from langchain-openai->-r requirements.txt (line 22)) (1.60.2)\n",
            "Requirement already satisfied: tiktoken<1,>=0.7 in ./venv/lib/python3.10/site-packages (from langchain-openai->-r requirements.txt (line 22)) (0.8.0)\n",
            "Requirement already satisfied: langgraph-checkpoint<3.0.0,>=2.0.10 in ./venv/lib/python3.10/site-packages (from langgraph->-r requirements.txt (line 23)) (2.0.10)\n",
            "Requirement already satisfied: langgraph-sdk<0.2.0,>=0.1.42 in ./venv/lib/python3.10/site-packages (from langgraph->-r requirements.txt (line 23)) (0.1.51)\n",
            "Requirement already satisfied: colorama<0.5.0,>=0.4.6 in ./venv/lib/python3.10/site-packages (from traceloop-sdk->-r requirements.txt (line 24)) (0.4.6)\n",
            "Requirement already satisfied: deprecated<2.0.0,>=1.2.14 in ./venv/lib/python3.10/site-packages (from traceloop-sdk->-r requirements.txt (line 24)) (1.2.18)\n",
            "Requirement already satisfied: jinja2<4.0.0,>=3.1.5 in ./venv/lib/python3.10/site-packages (from traceloop-sdk->-r requirements.txt (line 24)) (3.1.5)\n",
            "Requirement already satisfied: opentelemetry-api<2.0.0,>=1.28.0 in ./venv/lib/python3.10/site-packages (from traceloop-sdk->-r requirements.txt (line 24)) (1.29.0)\n",
            "Requirement already satisfied: opentelemetry-exporter-otlp-proto-grpc<2.0.0,>=1.28.0 in ./venv/lib/python3.10/site-packages (from traceloop-sdk->-r requirements.txt (line 24)) (1.29.0)\n",
            "Requirement already satisfied: opentelemetry-exporter-otlp-proto-http<2.0.0,>=1.28.0 in ./venv/lib/python3.10/site-packages (from traceloop-sdk->-r requirements.txt (line 24)) (1.29.0)\n",
            "Requirement already satisfied: opentelemetry-instrumentation-alephalpha==0.38.4 in ./venv/lib/python3.10/site-packages (from traceloop-sdk->-r requirements.txt (line 24)) (0.38.4)\n",
            "Requirement already satisfied: opentelemetry-instrumentation-anthropic==0.38.4 in ./venv/lib/python3.10/site-packages (from traceloop-sdk->-r requirements.txt (line 24)) (0.38.4)\n",
            "Requirement already satisfied: opentelemetry-instrumentation-bedrock==0.38.4 in ./venv/lib/python3.10/site-packages (from traceloop-sdk->-r requirements.txt (line 24)) (0.38.4)\n",
            "Requirement already satisfied: opentelemetry-instrumentation-chromadb==0.38.4 in ./venv/lib/python3.10/site-packages (from traceloop-sdk->-r requirements.txt (line 24)) (0.38.4)\n",
            "Requirement already satisfied: opentelemetry-instrumentation-cohere==0.38.4 in ./venv/lib/python3.10/site-packages (from traceloop-sdk->-r requirements.txt (line 24)) (0.38.4)\n",
            "Requirement already satisfied: opentelemetry-instrumentation-crewai==0.38.4 in ./venv/lib/python3.10/site-packages (from traceloop-sdk->-r requirements.txt (line 24)) (0.38.4)\n",
            "Requirement already satisfied: opentelemetry-instrumentation-groq==0.38.4 in ./venv/lib/python3.10/site-packages (from traceloop-sdk->-r requirements.txt (line 24)) (0.38.4)\n",
            "Requirement already satisfied: opentelemetry-instrumentation-haystack==0.38.4 in ./venv/lib/python3.10/site-packages (from traceloop-sdk->-r requirements.txt (line 24)) (0.38.4)\n",
            "Requirement already satisfied: opentelemetry-instrumentation-lancedb==0.38.4 in ./venv/lib/python3.10/site-packages (from traceloop-sdk->-r requirements.txt (line 24)) (0.38.4)\n",
            "Requirement already satisfied: opentelemetry-instrumentation-llamaindex==0.38.4 in ./venv/lib/python3.10/site-packages (from traceloop-sdk->-r requirements.txt (line 24)) (0.38.4)\n",
            "Requirement already satisfied: opentelemetry-instrumentation-logging>=0.50b0 in ./venv/lib/python3.10/site-packages (from traceloop-sdk->-r requirements.txt (line 24)) (0.50b0)\n",
            "Requirement already satisfied: opentelemetry-instrumentation-marqo==0.38.4 in ./venv/lib/python3.10/site-packages (from traceloop-sdk->-r requirements.txt (line 24)) (0.38.4)\n",
            "Requirement already satisfied: opentelemetry-instrumentation-milvus==0.38.4 in ./venv/lib/python3.10/site-packages (from traceloop-sdk->-r requirements.txt (line 24)) (0.38.4)\n",
            "Requirement already satisfied: opentelemetry-instrumentation-mistralai==0.38.4 in ./venv/lib/python3.10/site-packages (from traceloop-sdk->-r requirements.txt (line 24)) (0.38.4)\n",
            "Requirement already satisfied: opentelemetry-instrumentation-ollama==0.38.4 in ./venv/lib/python3.10/site-packages (from traceloop-sdk->-r requirements.txt (line 24)) (0.38.4)\n",
            "Requirement already satisfied: opentelemetry-instrumentation-openai==0.38.4 in ./venv/lib/python3.10/site-packages (from traceloop-sdk->-r requirements.txt (line 24)) (0.38.4)\n",
            "Requirement already satisfied: opentelemetry-instrumentation-pinecone==0.38.4 in ./venv/lib/python3.10/site-packages (from traceloop-sdk->-r requirements.txt (line 24)) (0.38.4)\n",
            "Requirement already satisfied: opentelemetry-instrumentation-qdrant==0.38.4 in ./venv/lib/python3.10/site-packages (from traceloop-sdk->-r requirements.txt (line 24)) (0.38.4)\n",
            "Requirement already satisfied: opentelemetry-instrumentation-replicate==0.38.4 in ./venv/lib/python3.10/site-packages (from traceloop-sdk->-r requirements.txt (line 24)) (0.38.4)\n",
            "Requirement already satisfied: opentelemetry-instrumentation-requests>=0.50b0 in ./venv/lib/python3.10/site-packages (from traceloop-sdk->-r requirements.txt (line 24)) (0.50b0)\n",
            "Requirement already satisfied: opentelemetry-instrumentation-sagemaker==0.38.4 in ./venv/lib/python3.10/site-packages (from traceloop-sdk->-r requirements.txt (line 24)) (0.38.4)\n",
            "Requirement already satisfied: opentelemetry-instrumentation-sqlalchemy>=0.50b0 in ./venv/lib/python3.10/site-packages (from traceloop-sdk->-r requirements.txt (line 24)) (0.50b0)\n",
            "Requirement already satisfied: opentelemetry-instrumentation-threading>=0.50b0 in ./venv/lib/python3.10/site-packages (from traceloop-sdk->-r requirements.txt (line 24)) (0.50b0)\n",
            "Requirement already satisfied: opentelemetry-instrumentation-together==0.38.4 in ./venv/lib/python3.10/site-packages (from traceloop-sdk->-r requirements.txt (line 24)) (0.38.4)\n",
            "Requirement already satisfied: opentelemetry-instrumentation-transformers==0.38.4 in ./venv/lib/python3.10/site-packages (from traceloop-sdk->-r requirements.txt (line 24)) (0.38.4)\n",
            "Requirement already satisfied: opentelemetry-instrumentation-urllib3>=0.50b0 in ./venv/lib/python3.10/site-packages (from traceloop-sdk->-r requirements.txt (line 24)) (0.50b0)\n",
            "Requirement already satisfied: opentelemetry-instrumentation-watsonx==0.38.4 in ./venv/lib/python3.10/site-packages (from traceloop-sdk->-r requirements.txt (line 24)) (0.38.4)\n",
            "Requirement already satisfied: opentelemetry-instrumentation-weaviate==0.38.4 in ./venv/lib/python3.10/site-packages (from traceloop-sdk->-r requirements.txt (line 24)) (0.38.4)\n",
            "Requirement already satisfied: opentelemetry-semantic-conventions-ai==0.4.2 in ./venv/lib/python3.10/site-packages (from traceloop-sdk->-r requirements.txt (line 24)) (0.4.2)\n",
            "Requirement already satisfied: posthog<4,>3.0.2 in ./venv/lib/python3.10/site-packages (from traceloop-sdk->-r requirements.txt (line 24)) (3.11.0)\n",
            "Requirement already satisfied: opentelemetry-instrumentation>=0.50b0 in ./venv/lib/python3.10/site-packages (from opentelemetry-instrumentation-google-generativeai->-r requirements.txt (line 25)) (0.50b0)\n",
            "Requirement already satisfied: opentelemetry-semantic-conventions>=0.50b0 in ./venv/lib/python3.10/site-packages (from opentelemetry-instrumentation-google-generativeai->-r requirements.txt (line 25)) (0.50b0)\n",
            "Requirement already satisfied: anthropic>=0.17.0 in ./venv/lib/python3.10/site-packages (from opentelemetry-instrumentation-bedrock==0.38.4->traceloop-sdk->-r requirements.txt (line 24)) (0.45.2)\n",
            "Requirement already satisfied: inflection<0.6.0,>=0.5.1 in ./venv/lib/python3.10/site-packages (from opentelemetry-instrumentation-llamaindex==0.38.4->traceloop-sdk->-r requirements.txt (line 24)) (0.5.1)\n",
            "Requirement already satisfied: aiohappyeyeballs>=2.3.0 in ./venv/lib/python3.10/site-packages (from aiohttp<4.0.0,>=3.8.3->langchain->-r requirements.txt (line 5)) (2.4.4)\n",
            "Requirement already satisfied: aiosignal>=1.1.2 in ./venv/lib/python3.10/site-packages (from aiohttp<4.0.0,>=3.8.3->langchain->-r requirements.txt (line 5)) (1.3.2)\n",
            "Requirement already satisfied: attrs>=17.3.0 in ./venv/lib/python3.10/site-packages (from aiohttp<4.0.0,>=3.8.3->langchain->-r requirements.txt (line 5)) (25.1.0)\n",
            "Requirement already satisfied: frozenlist>=1.1.1 in ./venv/lib/python3.10/site-packages (from aiohttp<4.0.0,>=3.8.3->langchain->-r requirements.txt (line 5)) (1.5.0)\n",
            "Requirement already satisfied: multidict<7.0,>=4.5 in ./venv/lib/python3.10/site-packages (from aiohttp<4.0.0,>=3.8.3->langchain->-r requirements.txt (line 5)) (6.1.0)\n",
            "Requirement already satisfied: propcache>=0.2.0 in ./venv/lib/python3.10/site-packages (from aiohttp<4.0.0,>=3.8.3->langchain->-r requirements.txt (line 5)) (0.2.1)\n",
            "Requirement already satisfied: yarl<2.0,>=1.17.0 in ./venv/lib/python3.10/site-packages (from aiohttp<4.0.0,>=3.8.3->langchain->-r requirements.txt (line 5)) (1.18.3)\n",
            "Requirement already satisfied: cffi>=1.12 in ./venv/lib/python3.10/site-packages (from cryptography>=42.0.0->cloud-sql-python-connector[asyncpg]->-r requirements.txt (line 16)) (1.17.1)\n",
            "Requirement already satisfied: marshmallow<4.0.0,>=3.18.0 in ./venv/lib/python3.10/site-packages (from dataclasses-json<0.7,>=0.5.7->langchain_community->-r requirements.txt (line 7)) (3.26.0)\n",
            "Requirement already satisfied: typing-inspect<1,>=0.4.0 in ./venv/lib/python3.10/site-packages (from dataclasses-json<0.7,>=0.5.7->langchain_community->-r requirements.txt (line 7)) (0.9.0)\n",
            "Requirement already satisfied: wrapt<2,>=1.10 in ./venv/lib/python3.10/site-packages (from deprecated<2.0.0,>=1.2.14->traceloop-sdk->-r requirements.txt (line 24)) (1.17.2)\n",
            "Requirement already satisfied: googleapis-common-protos<2.0.dev0,>=1.56.2 in ./venv/lib/python3.10/site-packages (from google-api-core!=2.0.*,!=2.1.*,!=2.2.*,!=2.3.*,!=2.4.*,!=2.5.*,!=2.6.*,!=2.7.*,<3.0.0dev,>=1.34.1->google-api-core[grpc]!=2.0.*,!=2.1.*,!=2.2.*,!=2.3.*,!=2.4.*,!=2.5.*,!=2.6.*,!=2.7.*,<3.0.0dev,>=1.34.1->google-cloud-aiplatform->-r requirements.txt (line 2)) (1.66.0)\n",
            "Requirement already satisfied: grpcio-status<2.0.dev0,>=1.33.2 in ./venv/lib/python3.10/site-packages (from google-api-core[grpc]!=2.0.*,!=2.1.*,!=2.2.*,!=2.3.*,!=2.4.*,!=2.5.*,!=2.6.*,!=2.7.*,<3.0.0dev,>=1.34.1->google-cloud-aiplatform->-r requirements.txt (line 2)) (1.70.0)\n",
            "Requirement already satisfied: httplib2<1.dev0,>=0.19.0 in ./venv/lib/python3.10/site-packages (from google-api-python-client<3.0.0,>=2.122.0->langchain-google-community->-r requirements.txt (line 11)) (0.22.0)\n",
            "Requirement already satisfied: google-auth-httplib2<1.0.0,>=0.2.0 in ./venv/lib/python3.10/site-packages (from google-api-python-client<3.0.0,>=2.122.0->langchain-google-community->-r requirements.txt (line 11)) (0.2.0)\n",
            "Requirement already satisfied: uritemplate<5,>=3.0.1 in ./venv/lib/python3.10/site-packages (from google-api-python-client<3.0.0,>=2.122.0->langchain-google-community->-r requirements.txt (line 11)) (4.1.1)\n",
            "Requirement already satisfied: cachetools<6.0,>=2.0.0 in ./venv/lib/python3.10/site-packages (from google-auth<3.0.0dev,>=2.14.1->google-cloud-aiplatform->-r requirements.txt (line 2)) (5.5.1)\n",
            "Requirement already satisfied: pyasn1-modules>=0.2.1 in ./venv/lib/python3.10/site-packages (from google-auth<3.0.0dev,>=2.14.1->google-cloud-aiplatform->-r requirements.txt (line 2)) (0.4.1)\n",
            "Requirement already satisfied: rsa<5,>=3.1.4 in ./venv/lib/python3.10/site-packages (from google-auth<3.0.0dev,>=2.14.1->google-cloud-aiplatform->-r requirements.txt (line 2)) (4.9)\n",
            "Requirement already satisfied: google-resumable-media<3.0dev,>=2.0.0 in ./venv/lib/python3.10/site-packages (from google-cloud-bigquery!=3.20.0,<4.0.0dev,>=1.15.0->google-cloud-aiplatform->-r requirements.txt (line 2)) (2.7.2)\n",
            "Requirement already satisfied: grpc-google-iam-v1<1.0.0dev,>=0.12.4 in ./venv/lib/python3.10/site-packages (from google-cloud-resource-manager<3.0.0dev,>=1.3.3->google-cloud-aiplatform->-r requirements.txt (line 2)) (0.14.0)\n",
            "Requirement already satisfied: google-crc32c<2.0dev,>=1.0 in ./venv/lib/python3.10/site-packages (from google-cloud-storage<3.0.0,>=2.18.0->langchain-google-vertexai==2.0.8->-r requirements.txt (line 8)) (1.6.0)\n",
            "Requirement already satisfied: anyio in ./venv/lib/python3.10/site-packages (from httpx<0.28.0,>=0.27.0->langchain-google-vertexai==2.0.8->-r requirements.txt (line 8)) (4.8.0)\n",
            "Requirement already satisfied: certifi in ./venv/lib/python3.10/site-packages (from httpx<0.28.0,>=0.27.0->langchain-google-vertexai==2.0.8->-r requirements.txt (line 8)) (2024.12.14)\n",
            "Requirement already satisfied: httpcore==1.* in ./venv/lib/python3.10/site-packages (from httpx<0.28.0,>=0.27.0->langchain-google-vertexai==2.0.8->-r requirements.txt (line 8)) (1.0.7)\n",
            "Requirement already satisfied: idna in ./venv/lib/python3.10/site-packages (from httpx<0.28.0,>=0.27.0->langchain-google-vertexai==2.0.8->-r requirements.txt (line 8)) (3.10)\n",
            "Requirement already satisfied: sniffio in ./venv/lib/python3.10/site-packages (from httpx<0.28.0,>=0.27.0->langchain-google-vertexai==2.0.8->-r requirements.txt (line 8)) (1.3.1)\n",
            "Requirement already satisfied: h11<0.15,>=0.13 in ./venv/lib/python3.10/site-packages (from httpcore==1.*->httpx<0.28.0,>=0.27.0->langchain-google-vertexai==2.0.8->-r requirements.txt (line 8)) (0.14.0)\n",
            "Requirement already satisfied: MarkupSafe>=2.0 in ./venv/lib/python3.10/site-packages (from jinja2<4.0.0,>=3.1.5->traceloop-sdk->-r requirements.txt (line 24)) (3.0.2)\n",
            "Requirement already satisfied: jsonpointer>=1.9 in ./venv/lib/python3.10/site-packages (from jsonpatch<2.0,>=1.33->langchain_core->-r requirements.txt (line 6)) (3.0.0)\n",
            "Requirement already satisfied: msgpack<2.0.0,>=1.1.0 in ./venv/lib/python3.10/site-packages (from langgraph-checkpoint<3.0.0,>=2.0.10->langgraph->-r requirements.txt (line 23)) (1.1.0)\n",
            "Requirement already satisfied: orjson>=3.10.1 in ./venv/lib/python3.10/site-packages (from langgraph-sdk<0.2.0,>=0.1.42->langgraph->-r requirements.txt (line 23)) (3.10.15)\n",
            "Requirement already satisfied: requests-toolbelt<2.0.0,>=1.0.0 in ./venv/lib/python3.10/site-packages (from langsmith<0.4,>=0.1.17->langchain->-r requirements.txt (line 5)) (1.0.0)\n",
            "Requirement already satisfied: zstandard<0.24.0,>=0.23.0 in ./venv/lib/python3.10/site-packages (from langsmith<0.4,>=0.1.17->langchain->-r requirements.txt (line 5)) (0.23.0)\n",
            "Requirement already satisfied: distro<2,>=1.7.0 in ./venv/lib/python3.10/site-packages (from openai<2.0.0,>=1.58.1->langchain-openai->-r requirements.txt (line 22)) (1.9.0)\n",
            "Requirement already satisfied: jiter<1,>=0.4.0 in ./venv/lib/python3.10/site-packages (from openai<2.0.0,>=1.58.1->langchain-openai->-r requirements.txt (line 22)) (0.8.2)\n",
            "Requirement already satisfied: tqdm>4 in ./venv/lib/python3.10/site-packages (from openai<2.0.0,>=1.58.1->langchain-openai->-r requirements.txt (line 22)) (4.67.1)\n",
            "Requirement already satisfied: openinference-instrumentation>=0.1.17 in ./venv/lib/python3.10/site-packages (from openinference-instrumentation-langchain<0.2,>=0.1.19->google-cloud-aiplatform[langchain]->-r requirements.txt (line 3)) (0.1.21)\n",
            "Requirement already satisfied: openinference-semantic-conventions>=0.1.9 in ./venv/lib/python3.10/site-packages (from openinference-instrumentation-langchain<0.2,>=0.1.19->google-cloud-aiplatform[langchain]->-r requirements.txt (line 3)) (0.1.12)\n",
            "Requirement already satisfied: importlib-metadata<=8.5.0,>=6.0 in ./venv/lib/python3.10/site-packages (from opentelemetry-api<2.0.0,>=1.28.0->traceloop-sdk->-r requirements.txt (line 24)) (8.5.0)\n",
            "Requirement already satisfied: opentelemetry-resourcedetector-gcp==1.*,>=1.5.0dev0 in ./venv/lib/python3.10/site-packages (from opentelemetry-exporter-gcp-trace<2->google-cloud-aiplatform[reasoningengine]->-r requirements.txt (line 4)) (1.8.0a0)\n",
            "Requirement already satisfied: opentelemetry-exporter-otlp-proto-common==1.29.0 in ./venv/lib/python3.10/site-packages (from opentelemetry-exporter-otlp-proto-grpc<2.0.0,>=1.28.0->traceloop-sdk->-r requirements.txt (line 24)) (1.29.0)\n",
            "Requirement already satisfied: opentelemetry-proto==1.29.0 in ./venv/lib/python3.10/site-packages (from opentelemetry-exporter-otlp-proto-grpc<2.0.0,>=1.28.0->traceloop-sdk->-r requirements.txt (line 24)) (1.29.0)\n",
            "Requirement already satisfied: opentelemetry-util-http==0.50b0 in ./venv/lib/python3.10/site-packages (from opentelemetry-instrumentation-requests>=0.50b0->traceloop-sdk->-r requirements.txt (line 24)) (0.50b0)\n",
            "Requirement already satisfied: six>=1.5 in ./venv/lib/python3.10/site-packages (from posthog<4,>3.0.2->traceloop-sdk->-r requirements.txt (line 24)) (1.17.0)\n",
            "Requirement already satisfied: monotonic>=1.5 in ./venv/lib/python3.10/site-packages (from posthog<4,>3.0.2->traceloop-sdk->-r requirements.txt (line 24)) (1.6)\n",
            "Requirement already satisfied: backoff>=1.10.0 in ./venv/lib/python3.10/site-packages (from posthog<4,>3.0.2->traceloop-sdk->-r requirements.txt (line 24)) (2.2.1)\n",
            "Requirement already satisfied: charset-normalizer<4,>=2 in ./venv/lib/python3.10/site-packages (from requests<3,>=2->langchain->-r requirements.txt (line 5)) (3.4.1)\n",
            "Requirement already satisfied: urllib3<3,>=1.21.1 in ./venv/lib/python3.10/site-packages (from requests<3,>=2->langchain->-r requirements.txt (line 5)) (2.3.0)\n",
            "Requirement already satisfied: greenlet!=0.4.17 in ./venv/lib/python3.10/site-packages (from SQLAlchemy<3,>=1.4->langchain->-r requirements.txt (line 5)) (3.1.1)\n",
            "Requirement already satisfied: regex>=2022.1.18 in ./venv/lib/python3.10/site-packages (from tiktoken<1,>=0.7->langchain-openai->-r requirements.txt (line 22)) (2024.11.6)\n",
            "Requirement already satisfied: exceptiongroup>=1.0.2 in ./venv/lib/python3.10/site-packages (from anyio->httpx<0.28.0,>=0.27.0->langchain-google-vertexai==2.0.8->-r requirements.txt (line 8)) (1.2.2)\n",
            "Requirement already satisfied: pycparser in ./venv/lib/python3.10/site-packages (from cffi>=1.12->cryptography>=42.0.0->cloud-sql-python-connector[asyncpg]->-r requirements.txt (line 16)) (2.22)\n",
            "Requirement already satisfied: pyparsing!=3.0.0,!=3.0.1,!=3.0.2,!=3.0.3,<4,>=2.4.2 in ./venv/lib/python3.10/site-packages (from httplib2<1.dev0,>=0.19.0->google-api-python-client<3.0.0,>=2.122.0->langchain-google-community->-r requirements.txt (line 11)) (3.2.1)\n",
            "Requirement already satisfied: zipp>=3.20 in ./venv/lib/python3.10/site-packages (from importlib-metadata<=8.5.0,>=6.0->opentelemetry-api<2.0.0,>=1.28.0->traceloop-sdk->-r requirements.txt (line 24)) (3.21.0)\n",
            "Requirement already satisfied: pyasn1<0.7.0,>=0.4.6 in ./venv/lib/python3.10/site-packages (from pyasn1-modules>=0.2.1->google-auth<3.0.0dev,>=2.14.1->google-cloud-aiplatform->-r requirements.txt (line 2)) (0.6.1)\n",
            "Requirement already satisfied: mypy-extensions>=0.3.0 in ./venv/lib/python3.10/site-packages (from typing-inspect<1,>=0.4.0->dataclasses-json<0.7,>=0.5.7->langchain_community->-r requirements.txt (line 7)) (1.0.0)\n",
            "\n",
            "\u001b[1m[\u001b[0m\u001b[34;49mnotice\u001b[0m\u001b[1;39;49m]\u001b[0m\u001b[39;49m A new release of pip is available: \u001b[0m\u001b[31;49m24.1.2\u001b[0m\u001b[39;49m -> \u001b[0m\u001b[32;49m25.0\u001b[0m\n",
            "\u001b[1m[\u001b[0m\u001b[34;49mnotice\u001b[0m\u001b[1;39;49m]\u001b[0m\u001b[39;49m To update, run: \u001b[0m\u001b[32;49mpip install --upgrade pip\u001b[0m\n"
          ]
        }
      ],
      "source": [
        "!pip install --upgrade -r requirements.txt"
      ]
    },
    {
      "cell_type": "markdown",
      "metadata": {
        "id": "QrPM2M2ucD9g"
      },
      "source": [
        "in case you are facing issue with installing psycopg2, please run the following command (linux only):\n",
        "\n",
        "```\n",
        "sudo apt update\n",
        "sudo apt install python3-dev libpq-dev\n",
        "```"
      ]
    },
    {
      "cell_type": "markdown",
      "metadata": {
        "id": "CqBpMfvwcD9g"
      },
      "source": [
        "You will require to restart the jupyter kernel once the dependency installed."
      ]
    },
    {
      "cell_type": "code",
      "execution_count": null,
      "metadata": {
        "id": "6ylAvfHvcD9g"
      },
      "outputs": [],
      "source": [
        "# import IPython\n",
        "\n",
        "# app = IPython.Application.instance()\n",
        "# app.kernel.do_shutdown(True)"
      ]
    },
    {
      "cell_type": "markdown",
      "metadata": {
        "id": "BCPwe5nJcD9g"
      },
      "source": [
        "## Setting up Google Cloud Account"
      ]
    },
    {
      "cell_type": "markdown",
      "metadata": {
        "id": "eTO6rgj5cD9h"
      },
      "source": [
        "#### Recommended account setup\n",
        "\n",
        "if you are running this in jupyter notebook locally, you may need to login to google cloud by running the following command from terminal:\n",
        "\n",
        "```\n",
        "gcloud auth login\n",
        "gcloud auth application-default login\n",
        "```"
      ]
    },
    {
      "cell_type": "markdown",
      "metadata": {
        "id": "UJVjDkgucD9h"
      },
      "source": [
        "If you are using Google Colabs, you need to authenticate with your google account by running the following notebook cell.\n",
        "\n",
        "> Please remember that you will need to do this on each jupyter notebook during this workshop"
      ]
    },
    {
      "cell_type": "code",
      "execution_count": null,
      "metadata": {
        "id": "1-wiXGEmcD9h"
      },
      "outputs": [],
      "source": [
        "# #@markdown ###Authenticate your Google Cloud Account and enable APIs.\n",
        "# # Authenticate gcloud.\n",
        "from google.colab import auth\n",
        "auth.authenticate_user()"
      ]
    },
    {
      "cell_type": "markdown",
      "metadata": {
        "id": "t-rJgsz5cD9h"
      },
      "source": [
        "## Accessing Google Cloud Credit\n",
        "\n",
        "Please redeem your $5 USD credit that you can use for this workshop. Link for this, will be shared on the class room.\n",
        "\n",
        "The instruction given will also require you to create a new GCP project. Create one!"
      ]
    },
    {
      "cell_type": "markdown",
      "metadata": {
        "id": "g1f6HiWxcD9h"
      },
      "source": [
        "## Enabling Google Service API\n",
        "\n",
        "Before creating cloud resources (e.g. database, cloudrun services, reasoning engine, etc), first we must enable the services api."
      ]
    },
    {
      "cell_type": "code",
      "execution_count": null,
      "metadata": {
        "id": "BWNB4SaMcD9h",
        "outputId": "f57903f5-e598-42ce-e878-9b084da077c9"
      },
      "outputs": [
        {
          "name": "stdout",
          "output_type": "stream",
          "text": [
            "\u001b[1;33mWARNING:\u001b[0m Your active project does not match the quota project in your local Application Default Credentials file. This might result in unexpected quota issues.\n",
            "\n",
            "To update your Application Default Credentials quota project, use the `gcloud auth application-default set-quota-project` command.\n",
            "Updated property [core/project].\n"
          ]
        }
      ],
      "source": [
        "# @markdown Replace the required placeholder text below. You can modify any other default values, if you like.\n",
        "\n",
        "# please change the project id into your gcp project id you just created.\n",
        "project_id = \"gen-lang-client-0521448746\"  # @param {type:\"string\"}\n",
        "\n",
        "# you can leave this the same.\n",
        "region = \"us-central1\"  # @param {type:\"string\"}\n",
        "\n",
        "!gcloud config set project {project_id} --quiet"
      ]
    },
    {
      "cell_type": "code",
      "execution_count": null,
      "metadata": {
        "id": "ligmOHMZcD9i",
        "outputId": "2154ae1d-ce58-4c0a-ad0b-6176719e02d5"
      },
      "outputs": [
        {
          "data": {
            "text/plain": [
              "'672065512482'"
            ]
          },
          "execution_count": 5,
          "metadata": {},
          "output_type": "execute_result"
        }
      ],
      "source": [
        "from googleapiclient import discovery\n",
        "service = discovery.build(\"cloudresourcemanager\", \"v1\")\n",
        "request = service.projects().get(projectId=project_id)\n",
        "response = request.execute()\n",
        "project_number = response[\"projectNumber\"]\n",
        "project_number"
      ]
    },
    {
      "cell_type": "markdown",
      "metadata": {
        "id": "QfHdXEnKcD9i"
      },
      "source": [
        "Here, we will enable few services:\n",
        "\n",
        "* `aiplatform.googleapis.com` -> used for using Gemini LLM and reasoning engine\n",
        "* `run.googleapis.com` -> used for deploying to cloud run\n",
        "* `cloudbuild.googleapis.com` -> used for building docker image and perform the deployment"
      ]
    },
    {
      "cell_type": "code",
      "execution_count": null,
      "metadata": {
        "scrolled": true,
        "id": "lG831edKcD9i",
        "outputId": "edd96472-f36e-4457-b9e8-447c1cbad383"
      },
      "outputs": [
        {
          "name": "stdout",
          "output_type": "stream",
          "text": [
            "Updated property [core/disable_prompts].\n",
            "Service identity created: service-672065512482@gcp-sa-aiplatform.iam.gserviceaccount.com\n",
            "Updated IAM policy for project [gen-lang-client-0521448746].\n",
            "bindings:\n",
            "- members:\n",
            "  - serviceAccount:service-672065512482@gcp-sa-aiplatform.iam.gserviceaccount.com\n",
            "  role: roles/aiplatform.serviceAgent\n",
            "- members:\n",
            "  - serviceAccount:service-672065512482@gcp-sa-artifactregistry.iam.gserviceaccount.com\n",
            "  role: roles/artifactregistry.serviceAgent\n",
            "- members:\n",
            "  - serviceAccount:672065512482-compute@developer.gserviceaccount.com\n",
            "  - serviceAccount:672065512482@cloudbuild.gserviceaccount.com\n",
            "  role: roles/cloudbuild.builds.builder\n",
            "- members:\n",
            "  - serviceAccount:service-672065512482@gcp-sa-cloudbuild.iam.gserviceaccount.com\n",
            "  role: roles/cloudbuild.serviceAgent\n",
            "- members:\n",
            "  - user:sugengdcahyo@gmail.com\n",
            "  role: roles/cloudsql.client\n",
            "- members:\n",
            "  - serviceAccount:service-672065512482@compute-system.iam.gserviceaccount.com\n",
            "  role: roles/compute.serviceAgent\n",
            "- members:\n",
            "  - serviceAccount:service-672065512482@containerregistry.iam.gserviceaccount.com\n",
            "  role: roles/containerregistry.ServiceAgent\n",
            "- members:\n",
            "  - serviceAccount:672065512482-compute@developer.gserviceaccount.com\n",
            "  - serviceAccount:672065512482@cloudservices.gserviceaccount.com\n",
            "  role: roles/editor\n",
            "- members:\n",
            "  - user:sugengdcahyo@gmail.com\n",
            "  role: roles/owner\n",
            "- members:\n",
            "  - serviceAccount:service-672065512482@gcp-sa-pubsub.iam.gserviceaccount.com\n",
            "  role: roles/pubsub.serviceAgent\n",
            "- members:\n",
            "  - serviceAccount:service-672065512482@serverless-robot-prod.iam.gserviceaccount.com\n",
            "  role: roles/run.serviceAgent\n",
            "etag: BwYtqakXdII=\n",
            "version: 1\n"
          ]
        }
      ],
      "source": [
        "!gcloud config set core/disable_prompts True\n",
        "\n",
        "\n",
        "!gcloud services enable artifactregistry.googleapis.com\n",
        "!gcloud services enable compute.googleapis.com\n",
        "!gcloud services enable aiplatform.googleapis.com\n",
        "!gcloud services enable run.googleapis.com\n",
        "!gcloud services enable cloudbuild.googleapis.com\n",
        "!gcloud services enable sqladmin.googleapis.com\n",
        "!gcloud services enable cloudtrace.googleapis.com\n",
        "\n",
        "!gcloud beta services identity create --service=aiplatform.googleapis.com --project={project_id}\n",
        "\n",
        "!gcloud projects add-iam-policy-binding {project_id} \\\n",
        "    --member=serviceAccount:{project_number}-compute@developer.gserviceaccount.com \\\n",
        "    --role=\"roles/cloudbuild.builds.builder\" -q"
      ]
    },
    {
      "cell_type": "markdown",
      "metadata": {
        "id": "XMCEFV2pcD9i"
      },
      "source": [
        "# Deploying Dummy API server\n",
        "\n",
        "Later on this workshop, you will be using your AI agent to interact with api in order to get detail about an online course you provide as well as to create purchase request. Hence, we will deploy the simple stupid API to cloudrun.\n",
        "\n",
        "If you want to see the detail, you can check the `api/` directory.\n",
        "\n",
        "Now let's deploy the Go API to cloud run:"
      ]
    },
    {
      "cell_type": "code",
      "execution_count": null,
      "metadata": {
        "id": "8-b6ccxCcD9i",
        "outputId": "28dd818f-d30d-49e0-fb9f-83bed541a6d4"
      },
      "outputs": [
        {
          "name": "stdout",
          "output_type": "stream",
          "text": [
            "\u001b[1;31mERROR:\u001b[0m (gcloud.artifacts.repositories.create) ALREADY_EXISTS: the repository already exists\n"
          ]
        }
      ],
      "source": [
        "# change this registry name with an unique name\n",
        "registry_name = \"mkrs\"  # @param {type:\"string\"}\n",
        "\n",
        "!gcloud artifacts repositories create {registry_name} \\\n",
        "      --repository-format=docker \\\n",
        "      --location={region} \\\n",
        "      --description=\"devfest artifact registry\" \\\n",
        "      --immutable-tags\n",
        "\n",
        "registry_url = f\"{region}-docker.pkg.dev/{project_id}/{registry_name}\""
      ]
    },
    {
      "cell_type": "markdown",
      "metadata": {
        "id": "-Uk2BGFIcD9i"
      },
      "source": [
        "We will build the docker image used by the API"
      ]
    },
    {
      "cell_type": "code",
      "execution_count": null,
      "metadata": {
        "scrolled": true,
        "id": "SxeShaT6cD9i",
        "outputId": "a991a321-a823-489e-eab6-9c1f9fa506a8"
      },
      "outputs": [
        {
          "name": "stdout",
          "output_type": "stream",
          "text": [
            "Creating temporary archive of 8 file(s) totalling 15.3 KiB before compression.\n",
            "Some files were not included in the source upload.\n",
            "\n",
            "Check the gcloud log [/Users/pabrik/.config/gcloud/logs/2025.02.09/06.16.23.532336.log] to see which files and the contents of the\n",
            "default gcloudignore file used (see `$ gcloud topic gcloudignore` to learn\n",
            "more).\n",
            "\n",
            "Uploading tarball of [api] to [gs://gen-lang-client-0521448746_cloudbuild/source/1739056583.845295-1ffa294250044aab86681586a6fb437c.tgz]\n",
            "Created [https://cloudbuild.googleapis.com/v1/projects/gen-lang-client-0521448746/locations/global/builds/ffb82b4f-518c-43d9-9347-dfe786dc97a7].\n",
            "Logs are available at [ https://console.cloud.google.com/cloud-build/builds/ffb82b4f-518c-43d9-9347-dfe786dc97a7?project=672065512482 ].\n",
            "Waiting for build to complete. Polling interval: 1 second(s).\n",
            "----------------------------- REMOTE BUILD OUTPUT ------------------------------\n",
            "starting build \"ffb82b4f-518c-43d9-9347-dfe786dc97a7\"\n",
            "\n",
            "FETCHSOURCE\n",
            "Fetching storage object: gs://gen-lang-client-0521448746_cloudbuild/source/1739056583.845295-1ffa294250044aab86681586a6fb437c.tgz#1739056585363936\n",
            "Copying gs://gen-lang-client-0521448746_cloudbuild/source/1739056583.845295-1ffa294250044aab86681586a6fb437c.tgz#1739056585363936...\n",
            "/ [1 files][  3.4 KiB/  3.4 KiB]                                                \n",
            "Operation completed over 1 objects/3.4 KiB.\n",
            "BUILD\n",
            "Already have image (with digest): gcr.io/cloud-builders/docker\n",
            "Sending build context to Docker daemon  23.04kB\n",
            "Step 1/11 : FROM golang:1.23-alpine AS builder\n",
            "1.23-alpine: Pulling from library/golang\n",
            "1f3e46996e29: Already exists\n",
            "4c3a26c0c732: Pulling fs layer\n",
            "dd968b00abc2: Pulling fs layer\n",
            "58be0b164ee7: Pulling fs layer\n",
            "4f4fb700ef54: Pulling fs layer\n",
            "4f4fb700ef54: Waiting\n",
            "58be0b164ee7: Verifying Checksum\n",
            "58be0b164ee7: Download complete\n",
            "4c3a26c0c732: Verifying Checksum\n",
            "4c3a26c0c732: Download complete\n",
            "4c3a26c0c732: Pull complete\n",
            "4f4fb700ef54: Verifying Checksum\n",
            "4f4fb700ef54: Download complete\n",
            "dd968b00abc2: Verifying Checksum\n",
            "dd968b00abc2: Download complete\n",
            "dd968b00abc2: Pull complete\n",
            "58be0b164ee7: Pull complete\n",
            "4f4fb700ef54: Pull complete\n",
            "Digest: sha256:2c49857f2295e89b23b28386e57e018a86620a8fede5003900f2d138ba9c4037\n",
            "Status: Downloaded newer image for golang:1.23-alpine\n",
            " ---> 038b36ac86e1\n",
            "Step 2/11 : WORKDIR /app\n",
            " ---> Running in 2c881867556e\n",
            "Removing intermediate container 2c881867556e\n",
            " ---> 1a457494908a\n",
            "Step 3/11 : COPY go.mod go.sum ./\n",
            " ---> b9ac65d8e2d1\n",
            "Step 4/11 : RUN go mod download\n",
            " ---> Running in bbf0e1ab3813\n",
            "Removing intermediate container bbf0e1ab3813\n",
            " ---> c62319a70747\n",
            "Step 5/11 : COPY . .\n",
            " ---> d56defc3e744\n",
            "Step 6/11 : RUN CGO_ENABLED=0 GOOS=linux go build -o main .\n",
            " ---> Running in 434b8f76a731\n",
            "Removing intermediate container 434b8f76a731\n",
            " ---> 9daf7364c214\n",
            "Step 7/11 : FROM alpine:latest\n",
            "latest: Pulling from library/alpine\n",
            "Digest: sha256:56fa17d2a7e7f168a043a2712e63aed1f8543aeafdcee47c58dcffe38ed51099\n",
            "Status: Downloaded newer image for alpine:latest\n",
            " ---> b0c9d60fc5e3\n",
            "Step 8/11 : WORKDIR /root/\n",
            " ---> Running in 59691585e164\n",
            "Removing intermediate container 59691585e164\n",
            " ---> ac1be542f19d\n",
            "Step 9/11 : COPY --from=builder /app/main .\n",
            " ---> b65f7edb36ac\n",
            "Step 10/11 : EXPOSE 8080\n",
            " ---> Running in ff801449269b\n",
            "Removing intermediate container ff801449269b\n",
            " ---> 61ec8192ceee\n",
            "Step 11/11 : CMD [\"./main\"]\n",
            " ---> Running in 5f4f05278e9f\n",
            "Removing intermediate container 5f4f05278e9f\n",
            " ---> 10a6621d56a5\n",
            "Successfully built 10a6621d56a5\n",
            "Successfully tagged us-central1-docker.pkg.dev/gen-lang-client-0521448746/mkrs/courses-api:latest\n",
            "PUSH\n",
            "Pushing us-central1-docker.pkg.dev/gen-lang-client-0521448746/mkrs/courses-api\n",
            "The push refers to repository [us-central1-docker.pkg.dev/gen-lang-client-0521448746/mkrs/courses-api]\n",
            "71606a2a66c0: Preparing\n",
            "a0904247e36a: Preparing\n",
            "a0904247e36a: Layer already exists\n",
            "71606a2a66c0: Pushed\n",
            "manifest invalid: cannot update tag latest. The repository has enabled tag immutability\n",
            "Pushing us-central1-docker.pkg.dev/gen-lang-client-0521448746/mkrs/courses-api\n",
            "The push refers to repository [us-central1-docker.pkg.dev/gen-lang-client-0521448746/mkrs/courses-api]\n",
            "71606a2a66c0: Preparing\n",
            "a0904247e36a: Preparing\n",
            "71606a2a66c0: Layer already exists\n",
            "a0904247e36a: Layer already exists\n",
            "manifest invalid: cannot update tag latest. The repository has enabled tag immutability\n",
            "Pushing us-central1-docker.pkg.dev/gen-lang-client-0521448746/mkrs/courses-api\n",
            "The push refers to repository [us-central1-docker.pkg.dev/gen-lang-client-0521448746/mkrs/courses-api]\n",
            "71606a2a66c0: Preparing\n",
            "a0904247e36a: Preparing\n",
            "71606a2a66c0: Layer already exists\n",
            "a0904247e36a: Layer already exists\n",
            "manifest invalid: cannot update tag latest. The repository has enabled tag immutability\n",
            "Pushing us-central1-docker.pkg.dev/gen-lang-client-0521448746/mkrs/courses-api\n",
            "The push refers to repository [us-central1-docker.pkg.dev/gen-lang-client-0521448746/mkrs/courses-api]\n",
            "71606a2a66c0: Preparing\n",
            "a0904247e36a: Preparing\n",
            "a0904247e36a: Layer already exists\n",
            "71606a2a66c0: Layer already exists\n",
            "manifest invalid: cannot update tag latest. The repository has enabled tag immutability\n",
            "Pushing us-central1-docker.pkg.dev/gen-lang-client-0521448746/mkrs/courses-api\n",
            "The push refers to repository [us-central1-docker.pkg.dev/gen-lang-client-0521448746/mkrs/courses-api]\n",
            "71606a2a66c0: Preparing\n",
            "a0904247e36a: Preparing\n",
            "71606a2a66c0: Layer already exists\n",
            "a0904247e36a: Layer already exists\n",
            "manifest invalid: cannot update tag latest. The repository has enabled tag immutability\n",
            "Pushing us-central1-docker.pkg.dev/gen-lang-client-0521448746/mkrs/courses-api\n",
            "The push refers to repository [us-central1-docker.pkg.dev/gen-lang-client-0521448746/mkrs/courses-api]\n",
            "71606a2a66c0: Preparing\n",
            "a0904247e36a: Preparing\n",
            "71606a2a66c0: Layer already exists\n",
            "a0904247e36a: Layer already exists\n",
            "manifest invalid: cannot update tag latest. The repository has enabled tag immutability\n",
            "Pushing us-central1-docker.pkg.dev/gen-lang-client-0521448746/mkrs/courses-api\n",
            "The push refers to repository [us-central1-docker.pkg.dev/gen-lang-client-0521448746/mkrs/courses-api]\n",
            "71606a2a66c0: Preparing\n",
            "a0904247e36a: Preparing\n",
            "a0904247e36a: Layer already exists\n",
            "71606a2a66c0: Layer already exists\n",
            "manifest invalid: cannot update tag latest. The repository has enabled tag immutability\n",
            "Pushing us-central1-docker.pkg.dev/gen-lang-client-0521448746/mkrs/courses-api\n",
            "The push refers to repository [us-central1-docker.pkg.dev/gen-lang-client-0521448746/mkrs/courses-api]\n",
            "71606a2a66c0: Preparing\n",
            "a0904247e36a: Preparing\n",
            "71606a2a66c0: Layer already exists\n",
            "a0904247e36a: Layer already exists\n",
            "manifest invalid: cannot update tag latest. The repository has enabled tag immutability\n",
            "Pushing us-central1-docker.pkg.dev/gen-lang-client-0521448746/mkrs/courses-api\n",
            "The push refers to repository [us-central1-docker.pkg.dev/gen-lang-client-0521448746/mkrs/courses-api]\n",
            "71606a2a66c0: Preparing\n",
            "a0904247e36a: Preparing\n",
            "a0904247e36a: Layer already exists\n",
            "71606a2a66c0: Layer already exists\n",
            "manifest invalid: cannot update tag latest. The repository has enabled tag immutability\n",
            "Pushing us-central1-docker.pkg.dev/gen-lang-client-0521448746/mkrs/courses-api\n",
            "The push refers to repository [us-central1-docker.pkg.dev/gen-lang-client-0521448746/mkrs/courses-api]\n",
            "71606a2a66c0: Preparing\n",
            "a0904247e36a: Preparing\n",
            "71606a2a66c0: Layer already exists\n",
            "a0904247e36a: Layer already exists\n",
            "manifest invalid: cannot update tag latest. The repository has enabled tag immutability\n",
            "ERROR: failed to push because we ran out of retries.\n",
            "ERROR\n",
            "ERROR: error pushing image \"us-central1-docker.pkg.dev/gen-lang-client-0521448746/mkrs/courses-api\": retry budget exhausted (10 attempts): step exited with non-zero status: 1\n",
            "--------------------------------------------------------------------------------\n",
            "\u001b[1;31mERROR:\u001b[0m (gcloud.builds.submit) build ffb82b4f-518c-43d9-9347-dfe786dc97a7 completed with status \"FAILURE\"\n"
          ]
        }
      ],
      "source": [
        "!gcloud builds submit api --tag {registry_url}/courses-api"
      ]
    },
    {
      "cell_type": "markdown",
      "metadata": {
        "id": "OgJoA6N3cD9j"
      },
      "source": [
        "We will deploy the docker image to cloud run so that we can have the api up and running"
      ]
    },
    {
      "cell_type": "code",
      "execution_count": null,
      "metadata": {
        "scrolled": true,
        "id": "n2WXcqUacD9j",
        "outputId": "7f887a7c-4f53-4bcd-fc85-3b75954572ac"
      },
      "outputs": [
        {
          "name": "stdout",
          "output_type": "stream",
          "text": [
            "Deploying container to Cloud Run service [\u001b[1mcourses-api\u001b[m] in project [\u001b[1mgen-lang-client-0521448746\u001b[m] region [\u001b[1mus-central1\u001b[m]\n",
            "Deploying...                                                                   \n",
            "  . Creating Revision...                                                       \n",
            "  . Routing traffic...                                                         \n",
            "  . Setting IAM Policy...                                                      \n",
            "  Deploying...                                                                 \n",
            "\n",
            "\n",
            "\n",
            "⠛ Deploying...                                                                 \n",
            "\n",
            "\n",
            "\n",
            "⠹ Deploying...                                                                 \n",
            "\n",
            "\n",
            "\n",
            "⠼ Deploying...                                                                 \n",
            "\n",
            "\n",
            "\n",
            "⠶ Deploying...                                                                 \n",
            "\n",
            "\n",
            "\n",
            "⠧ Deploying...                                                                 \n",
            "\n",
            "\n",
            "\n",
            "⠏ Deploying...                                                                 \n",
            "\n",
            "\n",
            "\n",
            "⠛ Deploying...                                                                 \n",
            "\n",
            "\n",
            "\n",
            "⠹ Deploying...                                                                 \n",
            "\n",
            "\n",
            "\n",
            "⠼ Deploying...                                                                 \n",
            "\n",
            "\n",
            "\n",
            "⠶ Deploying...                                                                 \n",
            "\n",
            "\n",
            "\n",
            "⠧ Deploying...                                                                 \n",
            "\n",
            "\n",
            "\n",
            "⠏ Deploying...                                                                 \n",
            "\n",
            "\n",
            "\n",
            "⠛ Deploying...                                                                 \n",
            "\n",
            "\n",
            "  ⠛ Setting IAM Policy...                                                      \n",
            "⠹ Deploying...                                                                 \n",
            "\n",
            "\n",
            "  ⠹ Setting IAM Policy...                                                      \n",
            "⠼ Deploying...                                                                 \n",
            "\n",
            "\n",
            "  ⠼ Setting IAM Policy...                                                      \n",
            "⠶ Deploying...                                                                 \n",
            "\n",
            "\n",
            "  ⠶ Setting IAM Policy...                                                      \n",
            "⠧ Deploying...                                                                 \n",
            "\n",
            "\n",
            "  ⠧ Setting IAM Policy...                                                      \n",
            "⠏ Deploying...                                                                 \n",
            "\n",
            "\n",
            "  ⠏ Setting IAM Policy...                                                      \n",
            "⠛ Deploying...                                                                 \n",
            "\n",
            "\n",
            "  ⠛ Setting IAM Policy...                                                      \n",
            "⠹ Deploying...                                                                 \n",
            "\n",
            "\n",
            "  ⠹ Setting IAM Policy...                                                      \n",
            "⠼ Deploying...                                                                 \n",
            "\n",
            "\n",
            "  ⠼ Setting IAM Policy...                                                      \n",
            "⠶ Deploying...                                                                 \n",
            "\n",
            "\n",
            "  ⠶ Setting IAM Policy...                                                      \n",
            "⠧ Deploying...                                                                 \n",
            "\n",
            "\n",
            "  ⠧ Setting IAM Policy...                                                      \n",
            "⠏ Deploying...                                                                 \n",
            "\n",
            "\n",
            "  ⠏ Setting IAM Policy...                                                      \n",
            "⠛ Deploying...                                                                 \n",
            "\n",
            "\n",
            "  ⠛ Setting IAM Policy...                                                      \n",
            "⠹ Deploying...                                                                 \n",
            "\n",
            "\n",
            "  ⠹ Setting IAM Policy...                                                      \n",
            "⠼ Deploying...                                                                 \n",
            "\n",
            "\n",
            "  ⠼ Setting IAM Policy...                                                      \n",
            "⠶ Deploying...                                                                 \n",
            "\n",
            "\n",
            "  ⠶ Setting IAM Policy...                                                      \n",
            "⠧ Deploying...                                                                 \n",
            "\n",
            "\n",
            "  ⠧ Setting IAM Policy...                                                      \n",
            "⠏ Deploying...                                                                 \n",
            "\n",
            "\n",
            "  ⠏ Setting IAM Policy...                                                      \n",
            "⠛ Deploying...                                                                 \n",
            "\n",
            "\n",
            "  ⠛ Setting IAM Policy...                                                      \n",
            "⠹ Deploying...                                                                 \n",
            "\n",
            "\n",
            "  ⠹ Setting IAM Policy...                                                      \n",
            "⠼ Deploying...                                                                 \n",
            "\n",
            "\n",
            "  ✓ Setting IAM Policy...                                                      \n",
            "⠶ Deploying...                                                                 \n",
            "  ⠶ Creating Revision...                                                       \n",
            "\n",
            "\n",
            "⠧ Deploying...                                                                 \n",
            "  ⠧ Creating Revision...                                                       \n",
            "\n",
            "\n",
            "⠏ Deploying...                                                                 \n",
            "  ⠏ Creating Revision...                                                       \n",
            "\n",
            "\n",
            "⠛ Deploying...                                                                 \n",
            "  ⠛ Creating Revision...                                                       \n",
            "\n",
            "\n",
            "⠹ Deploying...                                                                 \n",
            "  ⠹ Creating Revision...                                                       \n",
            "\n",
            "\n",
            "⠼ Deploying...                                                                 \n",
            "  ⠼ Creating Revision...                                                       \n",
            "\n",
            "\n",
            "⠶ Deploying...                                                                 \n",
            "  ⠶ Creating Revision...                                                       \n",
            "\n",
            "\n",
            "⠧ Deploying...                                                                 \n",
            "  ⠧ Creating Revision...                                                       \n",
            "\n",
            "\n",
            "⠏ Deploying...                                                                 \n",
            "  ⠏ Creating Revision...                                                       \n",
            "\n",
            "\n",
            "⠛ Deploying...                                                                 \n",
            "  ⠛ Creating Revision...                                                       \n",
            "\n",
            "\n",
            "⠹ Deploying...                                                                 \n",
            "  ⠹ Creating Revision...                                                       \n",
            "\n",
            "\n",
            "⠼ Deploying...                                                                 \n",
            "  ⠼ Creating Revision...                                                       \n",
            "\n",
            "\n",
            "⠶ Deploying...                                                                 \n",
            "  ⠶ Creating Revision...                                                       \n",
            "\n",
            "\n",
            "⠧ Deploying...                                                                 \n",
            "  ⠧ Creating Revision...                                                       \n",
            "\n",
            "\n",
            "⠏ Deploying...                                                                 \n",
            "  ⠏ Creating Revision...                                                       \n",
            "\n",
            "\n",
            "⠛ Deploying...                                                                 \n",
            "  ⠛ Creating Revision...                                                       \n",
            "\n",
            "\n",
            "⠹ Deploying...                                                                 \n",
            "  ⠹ Creating Revision...                                                       \n",
            "\n",
            "\n",
            "⠼ Deploying...                                                                 \n",
            "  ⠼ Creating Revision...                                                       \n",
            "\n",
            "\n",
            "⠶ Deploying...                                                                 \n",
            "  ⠶ Creating Revision...                                                       \n",
            "\n",
            "\n",
            "⠧ Deploying...                                                                 \n",
            "  ⠧ Creating Revision...                                                       \n",
            "\n",
            "\n",
            "⠏ Deploying...                                                                 \n",
            "  ⠏ Creating Revision...                                                       \n",
            "\n",
            "\n",
            "⠛ Deploying...                                                                 \n",
            "  ⠛ Creating Revision...                                                       \n",
            "\n",
            "\n",
            "⠹ Deploying...                                                                 \n",
            "  ⠹ Creating Revision...                                                       \n",
            "\n",
            "\n",
            "⠼ Deploying...                                                                 \n",
            "  ⠼ Creating Revision...                                                       \n",
            "\n",
            "\n",
            "⠶ Deploying...                                                                 \n",
            "  ⠶ Creating Revision...                                                       \n",
            "\n",
            "\n",
            "⠧ Deploying...                                                                 \n",
            "  ⠧ Creating Revision...                                                       \n",
            "\n",
            "\n",
            "⠏ Deploying...                                                                 \n",
            "  ⠏ Creating Revision...                                                       \n",
            "\n",
            "\n",
            "⠛ Deploying...                                                                 \n",
            "  ⠛ Creating Revision...                                                       \n",
            "\n",
            "\n",
            "⠹ Deploying...                                                                 \n",
            "  ⠹ Creating Revision...                                                       \n",
            "\n",
            "\n",
            "⠼ Deploying...                                                                 \n",
            "  ⠼ Creating Revision...                                                       \n",
            "\n",
            "\n",
            "⠶ Deploying...                                                                 \n",
            "  ⠶ Creating Revision...                                                       \n",
            "\n",
            "\n",
            "⠧ Deploying...                                                                 \n",
            "  ⠧ Creating Revision...                                                       \n",
            "\n",
            "\n",
            "⠏ Deploying...                                                                 \n",
            "  ⠏ Creating Revision...                                                       \n",
            "\n",
            "\n",
            "⠛ Deploying...                                                                 \n",
            "  ⠛ Creating Revision...                                                       \n",
            "\n",
            "\n",
            "⠹ Deploying...                                                                 \n",
            "  ⠹ Creating Revision...                                                       \n",
            "\n",
            "\n",
            "⠼ Deploying...                                                                 \n",
            "  ⠼ Creating Revision...                                                       \n",
            "\n",
            "\n",
            "⠶ Deploying...                                                                 \n",
            "  ⠶ Creating Revision...                                                       \n",
            "\n",
            "\n",
            "⠧ Deploying...                                                                 \n",
            "  ⠧ Creating Revision...                                                       \n",
            "\n",
            "\n",
            "⠏ Deploying...                                                                 \n",
            "  ⠏ Creating Revision...                                                       \n",
            "\n",
            "\n",
            "⠛ Deploying...                                                                 \n",
            "  ⠛ Creating Revision...                                                       \n",
            "\n",
            "\n",
            "⠹ Deploying...                                                                 \n",
            "  ⠹ Creating Revision...                                                       \n",
            "\n",
            "\n",
            "⠼ Deploying...                                                                 \n",
            "  ⠼ Creating Revision...                                                       \n",
            "  ⠼ Routing traffic...                                                         \n",
            "\n",
            "⠶ Deploying...                                                                 \n",
            "  ⠶ Creating Revision...                                                       \n",
            "  ⠶ Routing traffic...                                                         \n",
            "\n",
            "⠧ Deploying...                                                                 \n",
            "  ✓ Creating Revision...                                                       \n",
            "  ⠧ Routing traffic...                                                         \n",
            "\n",
            "⠏ Deploying...                                                                 \n",
            "\n",
            "  ⠏ Routing traffic...                                                         \n",
            "\n",
            "⠛ Deploying...                                                                 \n",
            "\n",
            "  ✓ Routing traffic...                                                         \n",
            "\n",
            "⠹ Deploying... Done.                                                           \n",
            "\n",
            "\n",
            "\n",
            "⠼ Deploying... Done.                                                           \n",
            "\n",
            "\n",
            "\n",
            "⠶ Deploying... Done.                                                           \n",
            "\n",
            "\n",
            "\n",
            "⠧ Deploying... Done.                                                           \n",
            "\n",
            "\n",
            "\n",
            "⠏ Deploying... Done.                                                           \n",
            "\n",
            "\n",
            "\n",
            "⠛ Deploying... Done.                                                           \n",
            "\n",
            "\n",
            "\n",
            "⠹ Deploying... Done.                                                           \n",
            "\n",
            "\n",
            "\n",
            "⠼ Deploying... Done.                                                           \n",
            "\n",
            "\n",
            "\n",
            "⠶ Deploying... Done.                                                           \n",
            "\n",
            "\n",
            "\n",
            "⠧ Deploying... Done.                                                           \n",
            "\n",
            "\n",
            "\n",
            "⠏ Deploying... Done.                                                           \n",
            "\n",
            "\n",
            "\n",
            "⠛ Deploying... Done.                                                           \n",
            "\n",
            "\n",
            "\n",
            "⠹ Deploying... Done.                                                           \n",
            "\n",
            "\n",
            "\n",
            "⠼ Deploying... Done.                                                           \n",
            "\n",
            "\n",
            "\n",
            "⠶ Deploying... Done.                                                           \n",
            "\n",
            "\n",
            "\n",
            "⠧ Deploying... Done.                                                           \n",
            "\n",
            "\n",
            "\n",
            "✓ Deploying... Done.                                                           \n",
            "\n",
            "\n",
            "\n",
            "Done.                                                                          \n",
            "Service [\u001b[1mcourses-api\u001b[m] revision [\u001b[1mcourses-api-00003-wbg\u001b[m] has been deployed and is serving \u001b[1m100\u001b[m percent of traffic.\n",
            "Service URL: \u001b[1mhttps://courses-api-672065512482.us-central1.run.app\u001b[m\n"
          ]
        }
      ],
      "source": [
        "!gcloud run deploy courses-api --allow-unauthenticated --region {region} --quiet --image {registry_url}/courses-api"
      ]
    },
    {
      "cell_type": "markdown",
      "metadata": {
        "id": "4WH0Ip8PcD9j"
      },
      "source": [
        "Once it is deployed, run the command to get the url of your dummy api. Take note because we will use it later:"
      ]
    },
    {
      "cell_type": "code",
      "execution_count": null,
      "metadata": {
        "id": "TVJpkL9gcD9j",
        "outputId": "b134be48-65a2-448b-cc8f-e5713b6d7552"
      },
      "outputs": [
        {
          "name": "stdout",
          "output_type": "stream",
          "text": [
            "https://courses-api-guckng3ccq-uc.a.run.app\n"
          ]
        }
      ],
      "source": [
        "urls = !gcloud run services describe courses-api --region=us-central1 --format='value(status.url)'\n",
        "api_url = urls[0]\n",
        "print(api_url)"
      ]
    },
    {
      "cell_type": "markdown",
      "metadata": {
        "id": "aBaGauBecD9j"
      },
      "source": [
        "Testing the API"
      ]
    },
    {
      "cell_type": "code",
      "execution_count": null,
      "metadata": {
        "id": "s159XBpQcD9j",
        "outputId": "27d90b85-2499-4b30-b4b7-56e828fb57a3"
      },
      "outputs": [
        {
          "name": "stdout",
          "output_type": "stream",
          "text": [
            "[{\"name\":\"software-security\",\"display_name\":\"Software Security\",\"description\":\"Learn how to secure your software\",\"price\":100,\"currency\":\"USD\"}]"
          ]
        }
      ],
      "source": [
        "!curl {api_url}/courses"
      ]
    },
    {
      "cell_type": "markdown",
      "metadata": {
        "id": "CVQ4WQVqcD9j"
      },
      "source": [
        "# Creating Staging Bucket for AI Agent\n",
        "\n",
        "Later, when we deploy the AI Agent, we have to provide the staging gcs bucket used to store the pickle and some other configurations of our reasoning engine. So, let's create a new empty bucket. Please change `staging_bucket_name` variable below with globally unique name.\n",
        "\n",
        "Once the bucket created, take note the name of the bucket."
      ]
    },
    {
      "cell_type": "code",
      "execution_count": null,
      "metadata": {
        "id": "knOlO2JNcD9k",
        "outputId": "c0c13bfd-7721-4655-bafc-04c74c173ef4"
      },
      "outputs": [
        {
          "name": "stdout",
          "output_type": "stream",
          "text": [
            "Creating gs://devfest24-demo-bucket/...\n",
            "\u001b[1;31mERROR:\u001b[0m (gcloud.storage.buckets.create) HTTPError 409: Your previous request to create the named bucket succeeded and you already own it.\n"
          ]
        }
      ],
      "source": [
        "# change this with globaly unique name. you may add your name to make it unique. this bucket will be used later for storing the model\n",
        "staging_bucket_name = \"devfest24-demo-bucket\" # @param {type:\"string\"}\n",
        "\n",
        "!gcloud storage buckets create gs://{staging_bucket_name} --project={project_id} --location={region} --uniform-bucket-level-access"
      ]
    },
    {
      "cell_type": "markdown",
      "metadata": {
        "id": "KLeT8Y-McD9k"
      },
      "source": [
        "# Data Preparation\n",
        "\n",
        "In this workshop, we are going to use written content from [OWASP CheatSheetSeries](https://github.com/OWASP/CheatSheetSeries) as the source document for our RAG. However, to reduce the cost, I already currated few files that we are going to use in `urls` variable. Instead of using all of them, we will just use few of them and build embedding with the currated files."
      ]
    },
    {
      "cell_type": "markdown",
      "metadata": {
        "id": "n0PdfSXDcD9k"
      },
      "source": [
        "The source code below will just iterate over all files within `sources` directory and create a `course_content.jsonl` file containing the file contents."
      ]
    },
    {
      "cell_type": "code",
      "execution_count": null,
      "metadata": {
        "id": "NRz6d9fxcD9k",
        "outputId": "174a6b98-2449-41d5-9a37-bc671717595d"
      },
      "outputs": [
        {
          "name": "stdout",
          "output_type": "stream",
          "text": [
            "JSONL file 'course_content.jsonl' has been generated successfully.\n"
          ]
        }
      ],
      "source": [
        "import json\n",
        "import uuid\n",
        "import requests\n",
        "from pathlib import Path\n",
        "\n",
        "urls = [\n",
        "    \"https://raw.githubusercontent.com/OWASP/CheatSheetSeries/refs/heads/master/cheatsheets/Authentication_Cheat_Sheet.md\",\n",
        "    \"https://raw.githubusercontent.com/OWASP/CheatSheetSeries/refs/heads/master/cheatsheets/Authorization_Cheat_Sheet.md\",\n",
        "    \"https://raw.githubusercontent.com/OWASP/CheatSheetSeries/refs/heads/master/cheatsheets/File_Upload_Cheat_Sheet.md\",\n",
        "    \"https://raw.githubusercontent.com/OWASP/CheatSheetSeries/refs/heads/master/cheatsheets/Forgot_Password_Cheat_Sheet.md\",\n",
        "    \"https://raw.githubusercontent.com/OWASP/CheatSheetSeries/refs/heads/master/cheatsheets/Password_Storage_Cheat_Sheet.md\",\n",
        "    \"https://raw.githubusercontent.com/OWASP/CheatSheetSeries/refs/heads/master/cheatsheets/REST_Security_Cheat_Sheet.md\",\n",
        "    \"https://raw.githubusercontent.com/OWASP/CheatSheetSeries/refs/heads/master/cheatsheets/SQL_Injection_Prevention_Cheat_Sheet.md\"\n",
        "]\n",
        "\n",
        "def generate_course_content_jsonl():\n",
        "    output_file = 'course_content.jsonl'\n",
        "\n",
        "    with open(output_file, 'w') as jsonl_file:\n",
        "\n",
        "        for url in urls:\n",
        "            response = requests.get(url)\n",
        "            if response.status_code == 200:\n",
        "                content = response.text\n",
        "                filename = url.split('/')[-1]\n",
        "                title = filename.replace('_', ' ').replace('.md', '')\n",
        "\n",
        "                slug = title.lower().replace(' ', '-')\n",
        "\n",
        "                record = {\n",
        "                    'id': str(uuid.uuid4()),\n",
        "                    'title': title,\n",
        "                    'content': content,\n",
        "                    'file_path': str(url),\n",
        "                    'slug': slug\n",
        "                }\n",
        "                json.dump(record, jsonl_file)\n",
        "                jsonl_file.write('\\n')\n",
        "            else:\n",
        "                print(f\"Failed to download content. Status code: {response.status_code}\")\n",
        "\n",
        "\n",
        "    print(f\"JSONL file '{output_file}' has been generated successfully.\")\n",
        "\n",
        "generate_course_content_jsonl()\n"
      ]
    },
    {
      "cell_type": "markdown",
      "metadata": {
        "id": "9jAQZe-UcD9l"
      },
      "source": [
        "Let's see what is inside the `course_content.jsonl` file:"
      ]
    },
    {
      "cell_type": "code",
      "execution_count": null,
      "metadata": {
        "id": "xB2AR8QicD9l",
        "outputId": "a4bae605-a750-47eb-c6ed-fc96d02568a2"
      },
      "outputs": [
        {
          "data": {
            "text/html": [
              "<div>\n",
              "<style scoped>\n",
              "    .dataframe tbody tr th:only-of-type {\n",
              "        vertical-align: middle;\n",
              "    }\n",
              "\n",
              "    .dataframe tbody tr th {\n",
              "        vertical-align: top;\n",
              "    }\n",
              "\n",
              "    .dataframe thead th {\n",
              "        text-align: right;\n",
              "    }\n",
              "</style>\n",
              "<table border=\"1\" class=\"dataframe\">\n",
              "  <thead>\n",
              "    <tr style=\"text-align: right;\">\n",
              "      <th></th>\n",
              "      <th>id</th>\n",
              "      <th>title</th>\n",
              "      <th>content</th>\n",
              "      <th>file_path</th>\n",
              "      <th>slug</th>\n",
              "    </tr>\n",
              "  </thead>\n",
              "  <tbody>\n",
              "    <tr>\n",
              "      <th>0</th>\n",
              "      <td>cdefd214-ffda-4c6a-85c8-e98e753baf73</td>\n",
              "      <td>Authentication Cheat Sheet</td>\n",
              "      <td># Authentication Cheat Sheet\\n\\n## Introductio...</td>\n",
              "      <td>https://raw.githubusercontent.com/OWASP/CheatS...</td>\n",
              "      <td>authentication-cheat-sheet</td>\n",
              "    </tr>\n",
              "    <tr>\n",
              "      <th>1</th>\n",
              "      <td>084925d6-2a42-4edb-9005-a768253f264d</td>\n",
              "      <td>Authorization Cheat Sheet</td>\n",
              "      <td># Authorization Cheat Sheet\\n\\n## Introduction...</td>\n",
              "      <td>https://raw.githubusercontent.com/OWASP/CheatS...</td>\n",
              "      <td>authorization-cheat-sheet</td>\n",
              "    </tr>\n",
              "    <tr>\n",
              "      <th>2</th>\n",
              "      <td>1349c48e-e9aa-46aa-a20d-0492d5e85363</td>\n",
              "      <td>File Upload Cheat Sheet</td>\n",
              "      <td># File Upload Cheat Sheet\\n\\n## Introduction\\n...</td>\n",
              "      <td>https://raw.githubusercontent.com/OWASP/CheatS...</td>\n",
              "      <td>file-upload-cheat-sheet</td>\n",
              "    </tr>\n",
              "    <tr>\n",
              "      <th>3</th>\n",
              "      <td>a2a2096f-1cb2-43c4-9f26-ba53c321c7ba</td>\n",
              "      <td>Forgot Password Cheat Sheet</td>\n",
              "      <td># Forgot Password Cheat Sheet\\n\\n## Introducti...</td>\n",
              "      <td>https://raw.githubusercontent.com/OWASP/CheatS...</td>\n",
              "      <td>forgot-password-cheat-sheet</td>\n",
              "    </tr>\n",
              "    <tr>\n",
              "      <th>4</th>\n",
              "      <td>af00b636-6bb5-4c0a-8b61-a0acd6aff315</td>\n",
              "      <td>Password Storage Cheat Sheet</td>\n",
              "      <td># Password Storage Cheat Sheet\\n\\n## Introduct...</td>\n",
              "      <td>https://raw.githubusercontent.com/OWASP/CheatS...</td>\n",
              "      <td>password-storage-cheat-sheet</td>\n",
              "    </tr>\n",
              "  </tbody>\n",
              "</table>\n",
              "</div>"
            ],
            "text/plain": [
              "                                     id                         title  \\\n",
              "0  cdefd214-ffda-4c6a-85c8-e98e753baf73    Authentication Cheat Sheet   \n",
              "1  084925d6-2a42-4edb-9005-a768253f264d     Authorization Cheat Sheet   \n",
              "2  1349c48e-e9aa-46aa-a20d-0492d5e85363       File Upload Cheat Sheet   \n",
              "3  a2a2096f-1cb2-43c4-9f26-ba53c321c7ba   Forgot Password Cheat Sheet   \n",
              "4  af00b636-6bb5-4c0a-8b61-a0acd6aff315  Password Storage Cheat Sheet   \n",
              "\n",
              "                                             content  \\\n",
              "0  # Authentication Cheat Sheet\\n\\n## Introductio...   \n",
              "1  # Authorization Cheat Sheet\\n\\n## Introduction...   \n",
              "2  # File Upload Cheat Sheet\\n\\n## Introduction\\n...   \n",
              "3  # Forgot Password Cheat Sheet\\n\\n## Introducti...   \n",
              "4  # Password Storage Cheat Sheet\\n\\n## Introduct...   \n",
              "\n",
              "                                           file_path  \\\n",
              "0  https://raw.githubusercontent.com/OWASP/CheatS...   \n",
              "1  https://raw.githubusercontent.com/OWASP/CheatS...   \n",
              "2  https://raw.githubusercontent.com/OWASP/CheatS...   \n",
              "3  https://raw.githubusercontent.com/OWASP/CheatS...   \n",
              "4  https://raw.githubusercontent.com/OWASP/CheatS...   \n",
              "\n",
              "                           slug  \n",
              "0    authentication-cheat-sheet  \n",
              "1     authorization-cheat-sheet  \n",
              "2       file-upload-cheat-sheet  \n",
              "3   forgot-password-cheat-sheet  \n",
              "4  password-storage-cheat-sheet  "
            ]
          },
          "execution_count": 15,
          "metadata": {},
          "output_type": "execute_result"
        }
      ],
      "source": [
        "import pandas as pd\n",
        "\n",
        "df = pd.read_json('course_content.jsonl', lines=True)\n",
        "df.head()"
      ]
    },
    {
      "cell_type": "markdown",
      "metadata": {
        "id": "tp9JSpAkcD9l"
      },
      "source": [
        "# Creating Embedding and Vector Store\n",
        "\n",
        "This notebook demonstrates the process of creating embeddings and setting up a vector store for a course content retrieval system.\n",
        "\n",
        "It covers the following key steps:\n",
        "\n",
        "1. Importing necessary libraries and creating and setting up database and its configurations\n",
        "1. Connecting to either a Google Cloud SQL\n",
        "1. Loading course content data from markdown files\n",
        "1. Creating embeddings for the course content using a Google Gemini embedding model\n",
        "1. Storing the embeddings in a vector database for efficient similarity search"
      ]
    },
    {
      "cell_type": "markdown",
      "metadata": {
        "id": "V0jfXWsJcD9l"
      },
      "source": [
        "Setting up few constants:"
      ]
    },
    {
      "cell_type": "code",
      "execution_count": null,
      "metadata": {
        "id": "Foo8PRxRcD9l"
      },
      "outputs": [],
      "source": [
        "instance_name=\"devfest24-demo\" # @param {type:\"string\"}\n",
        "database_password = 'testing' # @param {type:\"string\"} #change this to your database password\n",
        "database_name = 'testing' # @param {type:\"string\"} #change this to your database name\n",
        "database_user = 'testing' # @param {type:\"string\"} #change this to your database user\n",
        "\n",
        "# Dont update these lines below\n",
        "\n",
        "embeddings_table_name = \"course_content_embeddings\"\n",
        "chat_history_table_name = \"chat_histories\"\n",
        "gemini_embedding_model = \"text-embedding-004\"\n",
        "\n",
        "assert database_name, \"⚠️ Please provide a database name\"\n",
        "assert database_user, \"⚠️ Please provide a database user\"\n",
        "assert database_password, \"⚠️ Please provide a database password\"\n"
      ]
    },
    {
      "cell_type": "markdown",
      "metadata": {
        "id": "x5VLKr10cD9l"
      },
      "source": [
        "## Setting Up PostgreSQL in Google Cloud SQL\n",
        "\n",
        "Here will we set the default GCP project and get information about the user using the GCP account."
      ]
    },
    {
      "cell_type": "code",
      "execution_count": null,
      "metadata": {
        "id": "nvpcvlKmcD9m",
        "outputId": "b201e32e-2727-408c-8ed2-e48375933f3c"
      },
      "outputs": [
        {
          "name": "stdout",
          "output_type": "stream",
          "text": [
            "['sugengdcahyo@gmail.com']\n"
          ]
        }
      ],
      "source": [
        "# Grant Cloud SQL Client role to authenticated user\n",
        "current_user = !gcloud auth list --filter=status:ACTIVE --format=\"value(account)\"\n",
        "print(f\"{current_user}\")"
      ]
    },
    {
      "cell_type": "markdown",
      "metadata": {
        "id": "QKIEP5p1cD9n"
      },
      "source": [
        "Before sending query to database, we will have to add required permissions for our notebook so that it can access the database:"
      ]
    },
    {
      "cell_type": "code",
      "execution_count": null,
      "metadata": {
        "scrolled": true,
        "id": "LNo86caUcD9n",
        "outputId": "67f5ee0d-bb7a-4647-f3fb-15deecb15bdd"
      },
      "outputs": [
        {
          "name": "stdout",
          "output_type": "stream",
          "text": [
            "Granting Cloud SQL Client role to sugengdcahyo@gmail.com\n",
            "Updated IAM policy for project [gen-lang-client-0521448746].\n",
            "bindings:\n",
            "- members:\n",
            "  - serviceAccount:service-672065512482@gcp-sa-aiplatform.iam.gserviceaccount.com\n",
            "  role: roles/aiplatform.serviceAgent\n",
            "- members:\n",
            "  - serviceAccount:service-672065512482@gcp-sa-artifactregistry.iam.gserviceaccount.com\n",
            "  role: roles/artifactregistry.serviceAgent\n",
            "- members:\n",
            "  - serviceAccount:672065512482-compute@developer.gserviceaccount.com\n",
            "  - serviceAccount:672065512482@cloudbuild.gserviceaccount.com\n",
            "  role: roles/cloudbuild.builds.builder\n",
            "- members:\n",
            "  - serviceAccount:service-672065512482@gcp-sa-cloudbuild.iam.gserviceaccount.com\n",
            "  role: roles/cloudbuild.serviceAgent\n",
            "- members:\n",
            "  - user:sugengdcahyo@gmail.com\n",
            "  role: roles/cloudsql.client\n",
            "- members:\n",
            "  - serviceAccount:service-672065512482@compute-system.iam.gserviceaccount.com\n",
            "  role: roles/compute.serviceAgent\n",
            "- members:\n",
            "  - serviceAccount:service-672065512482@containerregistry.iam.gserviceaccount.com\n",
            "  role: roles/containerregistry.ServiceAgent\n",
            "- members:\n",
            "  - serviceAccount:672065512482-compute@developer.gserviceaccount.com\n",
            "  - serviceAccount:672065512482@cloudservices.gserviceaccount.com\n",
            "  role: roles/editor\n",
            "- members:\n",
            "  - user:sugengdcahyo@gmail.com\n",
            "  role: roles/owner\n",
            "- members:\n",
            "  - serviceAccount:service-672065512482@gcp-sa-pubsub.iam.gserviceaccount.com\n",
            "  role: roles/pubsub.serviceAgent\n",
            "- members:\n",
            "  - serviceAccount:service-672065512482@serverless-robot-prod.iam.gserviceaccount.com\n",
            "  role: roles/run.serviceAgent\n",
            "etag: BwYtqcVELQo=\n",
            "version: 1\n"
          ]
        }
      ],
      "source": [
        "print(f\"Granting Cloud SQL Client role to {current_user[0]}\")\n",
        "# granting cloudsql client role to the current user\n",
        "!gcloud projects add-iam-policy-binding {project_id} \\\n",
        "  --member=user:{current_user[0]} \\\n",
        "  --role=\"roles/cloudsql.client\""
      ]
    },
    {
      "cell_type": "markdown",
      "metadata": {
        "id": "iC7kOVzccD9n"
      },
      "source": [
        "Next, we are going to create new postgresql database from Google CloudSQL and create postgresql user/role which will be used to store the embeddings later on"
      ]
    },
    {
      "cell_type": "code",
      "execution_count": null,
      "metadata": {
        "id": "cpNNeAmkcD9n",
        "outputId": "6edc2da0-135c-4f9b-af4a-24e7bd7fd315"
      },
      "outputs": [
        {
          "name": "stdout",
          "output_type": "stream",
          "text": [
            "Found an existing Postgres Cloud SQL Instance!\n",
            "Database testing already exists, skipping creation.\n",
            "Creating Cloud SQL user...done.                                                \n",
            "Created user [testing].\n"
          ]
        }
      ],
      "source": [
        "#@markdown Create and setup a Cloud SQL PostgreSQL instance, if not done already.\n",
        "database_version = !gcloud sql instances describe {instance_name} --format=\"value(databaseVersion)\"\n",
        "if database_version[0].startswith(\"POSTGRES\"):\n",
        "  print(\"Found an existing Postgres Cloud SQL Instance!\")\n",
        "else:\n",
        "  print(\"Creating new Cloud SQL instance...\")\n",
        "  !gcloud sql instances create {instance_name} --database-version=POSTGRES_15 \\\n",
        "    --region={region} --cpu=1 --memory=4GB --root-password={database_password} \\\n",
        "    --authorized-networks=0.0.0.0/0\n",
        "# Create the database, if it does not exist.\n",
        "out = !gcloud sql databases list --instance={instance_name} --filter=\"NAME:{database_name}\" --format=\"value(NAME)\"\n",
        "if ''.join(out) == database_name:\n",
        "  print(\"Database %s already exists, skipping creation.\" % database_name)\n",
        "else:\n",
        "  !gcloud sql databases create {database_name} --instance={instance_name}\n",
        "# Create the database user for accessing the database.\n",
        "!gcloud sql users create {database_user} \\\n",
        "  --instance={instance_name} \\\n",
        "  --password={database_password}"
      ]
    },
    {
      "cell_type": "markdown",
      "metadata": {
        "id": "JcD-WKivcD9o"
      },
      "source": [
        "Here we are going to get the ip of postgresql we just created. Take note to the database host ip address."
      ]
    },
    {
      "cell_type": "code",
      "execution_count": null,
      "metadata": {
        "id": "hFRBLQMQcD9o",
        "outputId": "5c8f1510-345b-46f2-ed60-15d788bf0758"
      },
      "outputs": [
        {
          "name": "stdout",
          "output_type": "stream",
          "text": [
            "Using database host: 34.42.192.52\n"
          ]
        }
      ],
      "source": [
        "# get the ip address of the instance\n",
        "ip_addresses = !gcloud sql instances describe {instance_name} --project {project_id} --format 'value(ipAddresses.ipAddress)'\n",
        "# Split the IP addresses and take the first one\n",
        "database_host = ip_addresses[0].split(';')[0].strip()\n",
        "print(f\"Using database host: {database_host}\")"
      ]
    },
    {
      "cell_type": "markdown",
      "metadata": {
        "id": "BzbTVEbrcD9o"
      },
      "source": [
        "## Prepare the embeddings\n",
        "\n",
        "Now, we will build the embeddings from the content we have selected."
      ]
    },
    {
      "cell_type": "markdown",
      "metadata": {
        "id": "6ienNNjycD9o"
      },
      "source": [
        "Before creating the embedding, we need to split the content of each files into chunks. This is most of the time required, especially when the content is toolong, because embedding has the limit for the number of input token it can accept."
      ]
    },
    {
      "cell_type": "code",
      "execution_count": null,
      "metadata": {
        "id": "g6UZzEk5cD9o",
        "outputId": "d362a057-e34d-45ad-c09e-33593487c573"
      },
      "outputs": [
        {
          "data": {
            "text/plain": [
              "Document(metadata={'course_content_id': 'cdefd214-ffda-4c6a-85c8-e98e753baf73', 'title': 'Authentication Cheat Sheet'}, page_content='# Authentication Cheat Sheet\\n\\n## Introduction\\n\\n**Authentication** (**AuthN**) is the process of verifying that an individual, entity, or website is who or what it claims to be by determining the validity of one or more authenticators (like passwords, fingerprints, or security tokens) that are used to back up this claim.\\n\\n**Digital Identity** is the unique representation of a subject engaged in an online transaction. A digital identity is always unique in the context of a digital service but does not necessarily need to be traceable back to a specific real-life subject.\\n\\n**Identity Proofing** establishes that a subject is actually who they claim to be. This concept is related to KYC concepts and it aims to bind a digital identity with a real person.')"
            ]
          },
          "execution_count": 22,
          "metadata": {},
          "output_type": "execute_result"
        }
      ],
      "source": [
        "from langchain.text_splitter import MarkdownTextSplitter\n",
        "\n",
        "text_splitter = MarkdownTextSplitter(\n",
        "  chunk_size=1000,\n",
        "  chunk_overlap=200)\n",
        "\n",
        "from langchain_core.documents import Document\n",
        "\n",
        "chunked = []\n",
        "for index, row in df.iterrows():\n",
        "    course_content_id = row[\"id\"]\n",
        "    title = row[\"title\"]\n",
        "    content = row[\"content\"]\n",
        "    splits = text_splitter.create_documents([content])\n",
        "    for s in splits:\n",
        "        metadata = {\"course_content_id\": course_content_id, \"title\": title}\n",
        "        doc = Document(page_content=s.page_content, metadata=metadata)\n",
        "        chunked.append(doc)\n",
        "\n",
        "chunked[0]"
      ]
    },
    {
      "cell_type": "code",
      "execution_count": null,
      "metadata": {
        "id": "NKdBWi7xcD9o",
        "outputId": "010c9da6-3b3b-4b01-da63-20183c93dc17"
      },
      "outputs": [
        {
          "data": {
            "text/plain": [
              "209"
            ]
          },
          "execution_count": 23,
          "metadata": {},
          "output_type": "execute_result"
        }
      ],
      "source": [
        "len(chunked)"
      ]
    },
    {
      "cell_type": "markdown",
      "metadata": {
        "id": "qVejJibHcD9p"
      },
      "source": [
        "Once we have the file content chunked into smaller sizes, we are going to create embedding for each chunked and store it to cloudsql.\n",
        "\n",
        "Now let's initialize vertex ai sdk and create the embedding services."
      ]
    },
    {
      "cell_type": "code",
      "execution_count": null,
      "metadata": {
        "id": "9szj8E1HcD9p"
      },
      "outputs": [],
      "source": [
        "from langchain_google_vertexai import VertexAIEmbeddings\n",
        "import vertexai\n",
        "\n",
        "# Initialize Vertex AI\n",
        "vertexai.init(project=project_id, location=region)\n",
        "# Create a Vertex AI Embeddings service\n",
        "embeddings_service = VertexAIEmbeddings(model_name=gemini_embedding_model)"
      ]
    },
    {
      "cell_type": "code",
      "execution_count": null,
      "metadata": {
        "id": "-HlHlREwcD9p",
        "outputId": "85133f79-516a-437d-c2b8-1f768d2921b6"
      },
      "outputs": [
        {
          "data": {
            "text/plain": [
              "VertexAIEmbeddings(client=<vertexai.language_models.TextEmbeddingModel object at 0x1282e9cf0>, async_client=None, project='gen-lang-client-0521448746', location='us-central1', request_parallelism=5, max_retries=6, stop=None, model_name='text-embedding-004', full_model_name=None, client_options=ClientOptions: {'api_endpoint': 'us-central1-aiplatform.googleapis.com', 'client_cert_source': None, 'client_encrypted_cert_source': None, 'quota_project_id': None, 'credentials_file': None, 'scopes': None, 'api_key': None, 'api_audience': None, 'universe_domain': None}, api_endpoint=None, api_transport=None, default_metadata=(), additional_headers=None, client_cert_source=None, credentials=None, client_preview=None, temperature=None, max_output_tokens=None, top_p=None, top_k=None, n=1, seed=None, streaming=False, model_family=None, safety_settings=None, tuned_model_name=None, instance={'max_batch_size': 250, 'batch_size': 250, 'min_batch_size': 5, 'min_good_batch_size': 5, 'lock': <unlocked _thread.lock object at 0x11571c900>, 'batch_size_validated': False, 'task_executor': <concurrent.futures.thread.ThreadPoolExecutor object at 0x110012410>, 'get_embeddings_with_retry': <function _TextEmbeddingModel.get_embeddings at 0x12832a3b0>})"
            ]
          },
          "execution_count": 26,
          "metadata": {},
          "output_type": "execute_result"
        }
      ],
      "source": [
        "embeddings_service"
      ]
    },
    {
      "cell_type": "markdown",
      "metadata": {
        "id": "JyKZKPBGcD9p"
      },
      "source": [
        "Now, let's construct the embeddings and store it to the database.\n",
        "\n",
        "On the function below we are doing these steps:\n",
        "1. We are initiating a PostgresEngine. This instance of PostgresEngine will be used to handle database connection as well as authentication.\n",
        "1. Then, `ainit_vectorstore_table()` will create a table which will be used to store the chucked content, its embedding, and metadata.\n",
        "1. We initialize the PostgresVectorStore and provide the engine as well as the embedding service.\n",
        "1. For each chunked document, we call function `aadd_documents` to create embedding and create new record on the given table."
      ]
    },
    {
      "cell_type": "code",
      "execution_count": null,
      "metadata": {
        "scrolled": true,
        "id": "HDn_Qg6McD9p"
      },
      "outputs": [],
      "source": [
        "from langchain_google_cloud_sql_pg import PostgresEngine, PostgresVectorStore\n",
        "import uuid\n",
        "\n",
        "async def create_vectorstore():\n",
        "    engine = await PostgresEngine.afrom_instance(\n",
        "        project_id,\n",
        "        region,\n",
        "        instance_name,\n",
        "        database_name,\n",
        "        user=database_user,\n",
        "        password=database_password,\n",
        "    )\n",
        "\n",
        "    await engine.ainit_chat_history_table(\n",
        "        table_name=chat_history_table_name\n",
        "    )\n",
        "\n",
        "    await engine.ainit_vectorstore_table(\n",
        "        table_name=embeddings_table_name, vector_size=768, overwrite_existing=True\n",
        "    )\n",
        "\n",
        "    vector_store = await PostgresVectorStore.create(\n",
        "        engine,\n",
        "        table_name=embeddings_table_name,\n",
        "        embedding_service=embeddings_service,\n",
        "    )\n",
        "\n",
        "    ids = [str(uuid.uuid4()) for i in range(len(chunked))]\n",
        "    await vector_store.aadd_documents(chunked, ids=ids)\n",
        "\n",
        "await create_vectorstore()"
      ]
    },
    {
      "cell_type": "markdown",
      "metadata": {
        "id": "rrQa_9-OcD9p"
      },
      "source": [
        "Once you have the vector store, you can check the content from google cloud sql data viewer."
      ]
    },
    {
      "cell_type": "markdown",
      "metadata": {
        "id": "SNOPEy5gcD9q"
      },
      "source": [
        "# Retriever\n",
        "\n",
        "Once we have data stored in cloudsql, we need to find a way to query the data. This notebook covers how we can create and use the postgresql retriever to perform similarity search."
      ]
    },
    {
      "cell_type": "markdown",
      "metadata": {
        "id": "xnp_9qJBcD9q"
      },
      "source": [
        "Similar to previous section, we will try to create PostgresEngine to connect to CloudSQL instance:"
      ]
    },
    {
      "cell_type": "code",
      "execution_count": null,
      "metadata": {
        "id": "CDRQv6X0cD9q"
      },
      "outputs": [],
      "source": [
        "from langchain_google_cloud_sql_pg import PostgresEngine\n",
        "\n",
        "pg_engine = PostgresEngine.from_instance(\n",
        "    project_id=project_id,\n",
        "    instance=instance_name,\n",
        "    region=region,\n",
        "    database=database_name,\n",
        "    user=database_password,\n",
        "    password=database_password,\n",
        ")"
      ]
    },
    {
      "cell_type": "markdown",
      "metadata": {
        "id": "HwoO-vzhcD9q"
      },
      "source": [
        "We create the vector store object by using the engine and embedding service we created earlier:"
      ]
    },
    {
      "cell_type": "code",
      "execution_count": null,
      "metadata": {
        "scrolled": true,
        "id": "fm0xdtj8cD9q"
      },
      "outputs": [],
      "source": [
        "from langchain_google_cloud_sql_pg import PostgresVectorStore\n",
        "\n",
        "vector_store = PostgresVectorStore.create_sync(\n",
        "            pg_engine,\n",
        "            table_name=embeddings_table_name,\n",
        "            embedding_service=embeddings_service,\n",
        "        )\n",
        "retriever = vector_store.as_retriever(search_kwargs={\"k\": 10})"
      ]
    },
    {
      "cell_type": "markdown",
      "metadata": {
        "id": "R-Paxkc7cD9q"
      },
      "source": [
        "Let's try with some query:"
      ]
    },
    {
      "cell_type": "code",
      "execution_count": null,
      "metadata": {
        "id": "vBKVYOktcD9q",
        "outputId": "63179db7-d225-4b0e-bef0-d2368e6986fa"
      },
      "outputs": [
        {
          "data": {
            "text/plain": [
              "[Document(metadata={'course_content_id': 'a2a2096f-1cb2-43c4-9f26-ba53c321c7ba', 'title': 'Forgot Password Cheat Sheet'}, page_content='The following short guidelines can be used as a quick reference to protect the forgot password service:\\n\\n- **Return a consistent message for both existent and non-existent accounts.**\\n- **Ensure that the time taken for the user response message is uniform.**\\n- **Use a side-channel to communicate the method to reset their password.**\\n- **Use [URL tokens](#url-tokens) for the simplest and fastest implementation.**\\n- **Ensure that generated tokens or codes are:**\\n    - **Randomly generated using a cryptographically safe algorithm.**\\n    - **Sufficiently long to protect against brute-force attacks.**\\n    - **Stored securely.**\\n    - **Single use and expire after an appropriate period.**\\n- **Do not make a change to the account until a valid token is presented, such as locking out the account**'),\n",
              " Document(metadata={'course_content_id': 'a2a2096f-1cb2-43c4-9f26-ba53c321c7ba', 'title': 'Forgot Password Cheat Sheet'}, page_content='This cheat sheet is focused on resetting users passwords. For guidance on resetting multifactor authentication (MFA), see the relevant section in the [Multifactor Authentication Cheat Sheet](Multifactor_Authentication_Cheat_Sheet.md#resetting-mfa).\\n\\n## Forgot Password Service\\n\\nThe password reset process can be broken into two main steps, detailed in the following sections.\\n\\n### Forgot Password Request\\n\\nWhen a user uses the forgot password service and inputs their username or email, the below should be followed to implement a secure process:'),\n",
              " Document(metadata={'course_content_id': 'a2a2096f-1cb2-43c4-9f26-ba53c321c7ba', 'title': 'Forgot Password Cheat Sheet'}, page_content='# Forgot Password Cheat Sheet\\n\\n## Introduction\\n\\nIn order to implement a proper user management system, systems integrate a **Forgot Password** service that allows the user to request a password reset.\\n\\nEven though this functionality looks straightforward and easy to implement, it is a common source of vulnerabilities, such as the renowned [user enumeration attack](https://owasp.org/www-project-web-security-testing-guide/stable/4-Web_Application_Security_Testing/03-Identity_Management_Testing/04-Testing_for_Account_Enumeration_and_Guessable_User_Account.html).\\n\\nThe following short guidelines can be used as a quick reference to protect the forgot password service:'),\n",
              " Document(metadata={'course_content_id': 'a2a2096f-1cb2-43c4-9f26-ba53c321c7ba', 'title': 'Forgot Password Cheat Sheet'}, page_content=\"- The user should confirm the password they set by writing it twice.\\n- Ensure that a secure password policy is in place, and is consistent with the rest of the application.\\n- Update and store the password following [secure practices](Password_Storage_Cheat_Sheet.md).\\n- Send the user an email informing them that their password has been reset (do not send the password in the email!).\\n- Once they have set their new password, the user should then login through the usual mechanism. Don't automatically log the user in, as this introduces additional complexity to the authentication and session handling code, and increases the likelihood of introducing vulnerabilities.\\n- Ask the user if they want to invalidate all of their existing sessions, or invalidate the sessions automatically.\\n\\n## Methods\\n\\nIn order to allow a user to request a password reset, you will need to have some way to identify the user, or a means to reach out to them through a side-channel.\"),\n",
              " Document(metadata={'course_content_id': 'a2a2096f-1cb2-43c4-9f26-ba53c321c7ba', 'title': 'Forgot Password Cheat Sheet'}, page_content=\"## Methods\\n\\nIn order to allow a user to request a password reset, you will need to have some way to identify the user, or a means to reach out to them through a side-channel.\\n\\nThis can be done through any of the following methods:\\n\\n- [URL tokens](#url-tokens).\\n- [PINs](#pins)\\n- [Offline methods](#offline-methods)\\n- [Security questions](#security-questions).\\n\\nThese methods can be used together to provide a greater degree of assurance that the user is who they claim to be. No matter what, you must ensure that a user always has a way to recover their account, even if that involves contacting the support team and proving their identity to staff.\\n\\n### General Security Practices\\n\\nIt is essential to employ good security practices for the reset identifiers (tokens, codes, PINs, etc.). Some points don't apply to the [offline methods](#offline-methods), such as the lifetime restriction. All tokens and codes should be:\"),\n",
              " Document(metadata={'course_content_id': 'a2a2096f-1cb2-43c4-9f26-ba53c321c7ba', 'title': 'Forgot Password Cheat Sheet'}, page_content=\"When a user uses the forgot password service and inputs their username or email, the below should be followed to implement a secure process:\\n\\n- Return a consistent message for both existent and non-existent accounts.\\n- Ensure that responses return in a consistent amount of time to prevent an attacker enumerating which accounts exist. This could be achieved by using asynchronous calls or by making sure that the same logic is followed, instead of using a quick exit method.\\n- Implement protections against excessive automated submissions such as rate-limiting on a per-account basis, requiring a CAPTCHA, or other controls. Otherwise an attacker could make thousands of password reset requests per hour for a given account, flooding the user's intake system (e.g., email inbox or SMS) with useless requests.\\n- Employ normal security measures, such as [SQL Injection Prevention methods](SQL_Injection_Prevention_Cheat_Sheet.md) and [Input Validation](Input_Validation_Cheat_Sheet.md).\"),\n",
              " Document(metadata={'course_content_id': 'a2a2096f-1cb2-43c4-9f26-ba53c321c7ba', 'title': 'Forgot Password Cheat Sheet'}, page_content='- Implement appropriate protection to prevent users from brute-forcing tokens in the URL, such as rate limiting.\\n4. If required, perform any additional validation steps such as requiring the user to answer [security questions](#security-questions).\\n5. Let the user create a new password and confirm it. Ensure that the same password policy used elsewhere in the application is applied.'),\n",
              " Document(metadata={'course_content_id': 'cdefd214-ffda-4c6a-85c8-e98e753baf73', 'title': 'Authentication Cheat Sheet'}, page_content='#### For more detailed information check\\n\\n- [ASVS v4.0 Password Security Requirements](https://github.com/OWASP/ASVS/blob/master/4.0/en/0x11-V2-Authentication.md#v21-password-security-requirements)\\n- [Passwords Evolved: Authentication Guidance for the Modern Era](https://www.troyhunt.com/passwords-evolved-authentication-guidance-for-the-modern-era/)\\n\\n### Implement Secure Password Recovery Mechanism\\n\\nIt is common for an application to have a mechanism that provides a means for a user to gain access to their account in the event they forget their password. Please see [Forgot Password Cheat Sheet](Forgot_Password_Cheat_Sheet.md) for details on this feature.\\n\\n### Store Passwords in a Secure Fashion\\n\\nIt is critical for an application to store a password using the right cryptographic technique. Please see [Password Storage Cheat Sheet](Password_Storage_Cheat_Sheet.md) for details on this feature.\\n\\n### Compare Password Hashes Using Safe Functions'),\n",
              " Document(metadata={'course_content_id': 'a2a2096f-1cb2-43c4-9f26-ba53c321c7ba', 'title': 'Forgot Password Cheat Sheet'}, page_content='*Note:* URL tokens can follow on the same behavior of the [PINs](#pins) by creating a restricted session from the token. Decision should be made based on the needs and the expertise of the developer.\\n\\n### PINs\\n\\nPINs are numbers (between 6 and 12 digits) that are sent to the user through a side-channel such as SMS.\\n\\n1. Generate a PIN.\\n2. Send it to the user via SMS or another mechanism.\\n   - Breaking the PIN up with spaces makes it easier for the user to read and enter.\\n3. The user then enters the PIN along with their username on the password reset page.\\n4. Create a limited session from that PIN that only permits the user to reset their password.\\n5. Let the user create a new password and confirm it. Ensure that the same password policy used elsewhere in the application is applied.\\n\\n### Offline Methods'),\n",
              " Document(metadata={'course_content_id': 'a2a2096f-1cb2-43c4-9f26-ba53c321c7ba', 'title': 'Forgot Password Cheat Sheet'}, page_content='### User Resets Password\\n\\nOnce the user has proved their identity by providing the token (sent via an email) or code (sent via SMS or other mechanisms), they should reset their password to a new secure one. In order to secure this step, the measures that should be taken are:')]"
            ]
          },
          "execution_count": 30,
          "metadata": {},
          "output_type": "execute_result"
        }
      ],
      "source": [
        "retriever.invoke(\"how to design forgot password?\")"
      ]
    },
    {
      "cell_type": "code",
      "execution_count": null,
      "metadata": {
        "id": "SNrPoMR7cD9q",
        "outputId": "7a9b7cb2-0342-456d-eacb-b6ae914e8c47"
      },
      "outputs": [
        {
          "data": {
            "text/plain": [
              "[Document(metadata={'course_content_id': 'cdefd214-ffda-4c6a-85c8-e98e753baf73', 'title': 'Authentication Cheat Sheet'}, page_content=\"- Ensure that all failures are logged and reviewed\\n- Ensure that all password failures are logged and reviewed\\n- Ensure that all account lockouts are logged and reviewed\\n\\n## Use of authentication protocols that require no password\\n\\nWhile authentication through a combination of username, password, and multi-factor authentication is considered generally secure, there are use cases where it isn't considered the best option or even safe. Examples of this are third-party applications that desire to connect to the web application, either from a mobile device, another website, desktop, or other situations. When this happens, it is NOT considered safe to allow the third-party application to store the user/password combo, since then it extends the attack surface into their hands, where it isn't in your control. For this and other use cases, there are several authentication protocols that can protect you from exposing your users' data to attackers.\\n\\n### OAuth\"),\n",
              " Document(metadata={'course_content_id': 'cdefd214-ffda-4c6a-85c8-e98e753baf73', 'title': 'Authentication Cheat Sheet'}, page_content='Users should be permitted to use their email address as a username, provided the email is verified during signup. Additionally, they should have the option to choose a username other than an email address. For information on validating email addresses, please visit the [input validation cheatsheet email discussion](Input_Validation_Cheat_Sheet.md#email-address-validation).\\n\\n### Authentication Solution and Sensitive Accounts\\n\\n- Do **NOT** allow login with sensitive accounts (i.e. accounts that can be used internally within the solution such as to a back-end / middle-ware / DB) to any front-end user interface\\n- Do **NOT** use the same authentication solution (e.g. IDP / AD) used internally for unsecured access (e.g. public access / DMZ)\\n\\n### Implement Proper Password Strength Controls'),\n",
              " Document(metadata={'course_content_id': 'cdefd214-ffda-4c6a-85c8-e98e753baf73', 'title': 'Authentication Cheat Sheet'}, page_content='## Authentication General Guidelines\\n\\n### User IDs\\n\\nThe primary function of a User ID is to uniquely identify a user within a system. Ideally, User IDs should be randomly generated to prevent the creation of predictable or sequential IDs, which could pose a security risk, especially in systems where User IDs might be exposed or inferred from external sources.\\n\\n### Usernames\\n\\nUsernames are easy-to-remember identifiers chosen by the user and used for identifying themselves when logging into a system or service. The terms User ID and username might be used interchangeably if the username chosen by the user also serves as their unique identifier within the system.'),\n",
              " Document(metadata={'course_content_id': 'cdefd214-ffda-4c6a-85c8-e98e753baf73', 'title': 'Authentication Cheat Sheet'}, page_content='**Identity Proofing** establishes that a subject is actually who they claim to be. This concept is related to KYC concepts and it aims to bind a digital identity with a real person.\\n\\n**Session Management** is a process by which a server maintains the state of an entity interacting with it. This is required for a server to remember how to react to subsequent requests throughout a transaction. Sessions are maintained on the server by a session identifier which can be passed back and forth between the client and server when transmitting and receiving requests. Sessions should be unique per user and computationally very difficult to predict. The [Session Management Cheat Sheet](Session_Management_Cheat_Sheet.md) contains further guidance on the best practices in this area.\\n\\n## Authentication General Guidelines\\n\\n### User IDs'),\n",
              " Document(metadata={'course_content_id': 'cf1823a1-6991-42a7-82e6-300acc435d6a', 'title': 'REST Security Cheat Sheet'}, page_content='Consider the use of mutually authenticated client-side certificates to provide additional protection for highly privileged web services.\\n\\n## Access Control\\n\\nNon-public REST services must perform access control at each API endpoint. Web services in monolithic applications implement this by means of user authentication, authorization logic and session management. This has several drawbacks for modern architectures which compose multiple microservices following the RESTful style.\\n\\n- in order to minimize latency and reduce coupling between services, the access control decision should be taken locally by REST endpoints\\n- user authentication should be centralised in a Identity Provider (IdP), which issues access tokens\\n\\n## JWT'),\n",
              " Document(metadata={'course_content_id': 'cdefd214-ffda-4c6a-85c8-e98e753baf73', 'title': 'Authentication Cheat Sheet'}, page_content=\"### Transmit Passwords Only Over TLS or Other Strong Transport\\n\\nSee: [Transport Layer Security Cheat Sheet](Transport_Layer_Security_Cheat_Sheet.md)\\n\\nThe login page and all subsequent authenticated pages must be exclusively accessed over TLS or other strong transport. Failure to utilize TLS or other strong transport for the login page allows an attacker to modify the login form action, causing the user's credentials to be posted to an arbitrary location. Failure to utilize TLS or other strong transport for authenticated pages after login enables an attacker to view the unencrypted session ID and compromise the user's authenticated session.\\n\\n### Require Re-authentication for Sensitive Features\"),\n",
              " Document(metadata={'course_content_id': '084925d6-2a42-4edb-9005-a768253f264d', 'title': 'Authorization Cheat Sheet'}, page_content=\"- Take time to thoroughly understand any technology you build authorization logic upon. Analyze the technologies capabilities with an understanding that *the authorization logic provided by the component may be insufficient for your application's specific security requirements*. Relying on prebuilt logic may be convenient, but this does not mean it is sufficient. Understand that custom authorization logic may well be necessary to meet an app's security requirements.\\n- Do not let the capabilities of any library, platform, or framework guide your authorization requirements. Rather, authorization requirements should be decided first and then the third-party components may be analyzed in light of these requirements.\\n- Do not rely on default configurations.\\n- Test configuration. Do not just assume any configuration performed on a third-party component will work exactly as intended in your particular environment. Documentation can be misunderstood, vague, outdated, or simply inaccurate.\"),\n",
              " Document(metadata={'course_content_id': 'cdefd214-ffda-4c6a-85c8-e98e753baf73', 'title': 'Authentication Cheat Sheet'}, page_content='- The user ID or password was incorrect.\\n- The account does not exist.\\n- The account is locked or disabled.\\n\\nThe account registration feature should also be taken into consideration, and the same approach of a generic error message can be applied regarding the case in which the user exists.\\n\\nThe objective is to prevent the creation of a [discrepancy factor](https://cwe.mitre.org/data/definitions/204.html), allowing an attacker to mount a user enumeration action against the application.\\n\\nIt is interesting to note that the business logic itself can bring a discrepancy factor related to the processing time taken. Indeed, depending on the implementation, the processing time can be significantly different according to the case (success vs failure) allowing an attacker to mount a [time-based attack](https://en.wikipedia.org/wiki/Timing_attack) (delta of some seconds for example).\\n\\nExample using pseudo-code for a login feature:\\n\\n- First implementation using the \"quick exit\" approach'),\n",
              " Document(metadata={'course_content_id': 'cdefd214-ffda-4c6a-85c8-e98e753baf73', 'title': 'Authentication Cheat Sheet'}, page_content='# Authentication Cheat Sheet\\n\\n## Introduction\\n\\n**Authentication** (**AuthN**) is the process of verifying that an individual, entity, or website is who or what it claims to be by determining the validity of one or more authenticators (like passwords, fingerprints, or security tokens) that are used to back up this claim.\\n\\n**Digital Identity** is the unique representation of a subject engaged in an online transaction. A digital identity is always unique in the context of a digital service but does not necessarily need to be traceable back to a specific real-life subject.\\n\\n**Identity Proofing** establishes that a subject is actually who they claim to be. This concept is related to KYC concepts and it aims to bind a digital identity with a real person.'),\n",
              " Document(metadata={'course_content_id': 'cdefd214-ffda-4c6a-85c8-e98e753baf73', 'title': 'Authentication Cheat Sheet'}, page_content='**See also: [SAML Security Cheat Sheet](SAML_Security_Cheat_Sheet.md)**\\n\\n### FIDO\\n\\nThe Fast Identity Online (FIDO) Alliance has created two protocols to facilitate online authentication: the Universal Authentication Framework (UAF) protocol and the Universal Second Factor (U2F) protocol. While UAF focuses on passwordless authentication, U2F allows the addition of a second factor to existing password-based authentication. Both protocols are based on a public key cryptography challenge-response model.\\n\\nUAF takes advantage of existing security technologies present on devices for authentication including fingerprint sensors, cameras (face biometrics), microphones (voice biometrics), Trusted Execution Environments (TEEs), Secure Elements (SEs), and others. The protocol is designed to plug these device capabilities into a common authentication framework. UAF works with both native applications and web applications.')]"
            ]
          },
          "execution_count": 31,
          "metadata": {},
          "output_type": "execute_result"
        }
      ],
      "source": [
        "retriever.invoke(\"how to design security for authentication?\")"
      ]
    }
  ],
  "metadata": {
    "kernelspec": {
      "display_name": "Python 3",
      "name": "python3"
    },
    "language_info": {
      "codemirror_mode": {
        "name": "ipython",
        "version": 3
      },
      "file_extension": ".py",
      "mimetype": "text/x-python",
      "name": "python",
      "nbconvert_exporter": "python",
      "pygments_lexer": "ipython3",
      "version": "3.10.14"
    },
    "colab": {
      "provenance": [],
      "gpuType": "T4",
      "include_colab_link": true
    },
    "accelerator": "GPU"
  },
  "nbformat": 4,
  "nbformat_minor": 0
}