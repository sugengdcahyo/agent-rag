{
 "cells": [
  {
   "cell_type": "markdown",
   "metadata": {},
   "source": [
    "# Clean up\n",
    "\n",
    "To avoid from unexpected charges, **I highly recommend to just destroy or delete the gcp project**. \n",
    "\n",
    "However, if you want to delete resources created from this workshop only, please follow the steps"
   ]
  },
  {
   "cell_type": "markdown",
   "metadata": {},
   "source": [
    "Start with initializing the vertexai client"
   ]
  },
  {
   "cell_type": "code",
   "execution_count": null,
   "metadata": {},
   "outputs": [],
   "source": [
    "project_id = \"imrenagi-devfest-2024\"  # @param {type:\"string\"}\n",
    "region = \"us-central1\" \n",
    "\n",
    "!gcloud config set project {project_id} --quiet\n",
    "\n",
    "import vertexai\n",
    "vertexai.init(project=project_id, location=region)\n"
   ]
  },
  {
   "cell_type": "markdown",
   "metadata": {},
   "source": [
    "## Delete all project\n",
    "\n",
    "You can just directly run delete project to clean up everything. Be careful!"
   ]
  },
  {
   "cell_type": "code",
   "execution_count": null,
   "metadata": {},
   "outputs": [],
   "source": [
    "!gcloud projects delete $project_id --quiet"
   ]
  },
  {
   "cell_type": "markdown",
   "metadata": {},
   "source": [
    "## Delete reasoninig engines\n",
    "\n",
    "List all of the reasoning engine"
   ]
  },
  {
   "cell_type": "code",
   "execution_count": null,
   "metadata": {},
   "outputs": [],
   "source": [
    "from vertexai.preview import reasoning_engines\n",
    "\n",
    "reasoning_engines.ReasoningEngine.list()"
   ]
  },
  {
   "cell_type": "markdown",
   "metadata": {},
   "source": [
    "For each reasoning engine you have, delete them one by one by replacing the reasoning engine id below:"
   ]
  },
  {
   "cell_type": "code",
   "execution_count": null,
   "metadata": {},
   "outputs": [],
   "source": [
    "remote_agent = reasoning_engines.ReasoningEngine('projects/908311267620/locations/us-central1/reasoningEngines/1702026407611203584')\n",
    "\n",
    "remote_agent.delete()"
   ]
  },
  {
   "cell_type": "markdown",
   "metadata": {},
   "source": [
    "## Delete Cloudrun"
   ]
  },
  {
   "cell_type": "code",
   "execution_count": null,
   "metadata": {},
   "outputs": [],
   "source": [
    "#delete cloudrun\n",
    "!gcloud run services delete courses-api --platform managed --quiet --region us-central1\n",
    "#delete reasoning engine"
   ]
  },
  {
   "cell_type": "markdown",
   "metadata": {},
   "source": [
    "## Delete CloudSQL"
   ]
  },
  {
   "cell_type": "code",
   "execution_count": null,
   "metadata": {},
   "outputs": [],
   "source": [
    "#delete cloudsql\n",
    "!gcloud sql instances delete pyconapac-demo --quiet\n"
   ]
  }
 ],
 "metadata": {
  "kernelspec": {
   "display_name": ".venv",
   "language": "python",
   "name": "python3"
  },
  "language_info": {
   "codemirror_mode": {
    "name": "ipython",
    "version": 3
   },
   "file_extension": ".py",
   "mimetype": "text/x-python",
   "name": "python",
   "nbconvert_exporter": "python",
   "pygments_lexer": "ipython3",
   "version": "3.11.10"
  }
 },
 "nbformat": 4,
 "nbformat_minor": 2
}
