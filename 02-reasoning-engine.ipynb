{
  "cells": [
    {
      "cell_type": "markdown",
      "metadata": {
        "id": "view-in-github",
        "colab_type": "text"
      },
      "source": [
        "<a href=\"https://colab.research.google.com/github/sugengdcahyo/agent-rag/blob/main/02-reasoning-engine.ipynb\" target=\"_parent\"><img src=\"https://colab.research.google.com/assets/colab-badge.svg\" alt=\"Open In Colab\"/></a>"
      ]
    },
    {
      "cell_type": "markdown",
      "metadata": {
        "id": "dzZPRyu4S534"
      },
      "source": [
        "# Deploying agent to reasoning engine\n",
        "\n",
        "This notebook covers how we can restructure the agent code and ultimately deploy the agent to google vertex ai."
      ]
    },
    {
      "cell_type": "markdown",
      "metadata": {
        "id": "feC4JqfKS538"
      },
      "source": [
        "## Required Software Installed Locally\n",
        "\n",
        "* Python version 3.9, 3.10, or 3.11. **Python3.12 will not work**.\n",
        "\n",
        "* If you are using VSCode, please install Jupyter Notebook extensions.\n",
        "\n",
        "* Jupyter notebook. Please follow this [installation guide](https://docs.jupyter.org/en/stable/install.html). You may choose whether you want to install classic jupyter notebook or jupyterlab (the next-gen web ui for jupyter)\n",
        "\n",
        "    * [Classic jupyter notebook installation guide](https://docs.jupyter.org/en/stable/install/notebook-classic.html)\n",
        "\n",
        "    * [Jupyterlab installation guide](https://jupyterlab.readthedocs.io/en/stable/getting_started/installation.html)\n",
        "\n",
        "* Google Cloud CLI. Please follow this [installation guide](https://cloud.google.com/sdk/docs/install-sdk)"
      ]
    },
    {
      "cell_type": "markdown",
      "metadata": {
        "id": "cyBz8BwBS53-"
      },
      "source": [
        "### Installing dependencies"
      ]
    },
    {
      "cell_type": "code",
      "execution_count": null,
      "metadata": {
        "colab": {
          "base_uri": "https://localhost:8080/"
        },
        "id": "0cI94hIFS53-",
        "outputId": "5064fd13-9d22-41d2-816b-624b96460809"
      },
      "outputs": [
        {
          "output_type": "stream",
          "name": "stdout",
          "text": [
            "Overwriting requirements.txt\n"
          ]
        }
      ],
      "source": [
        "%%writefile requirements.txt\n",
        "\n",
        "google-cloud-aiplatform\n",
        "google-cloud-aiplatform[langchain]\n",
        "google-cloud-aiplatform[reasoningengine]\n",
        "langchain\n",
        "langchain_core\n",
        "langchain_community\n",
        "langchain-google-vertexai==2.0.8\n",
        "cloudpickle\n",
        "pydantic==2.9.2\n",
        "langchain-google-community\n",
        "google-cloud-discoveryengine\n",
        "nest-asyncio\n",
        "asyncio==3.4.3\n",
        "asyncpg==0.29.0\n",
        "cloud-sql-python-connector[asyncpg]\n",
        "langchain-google-cloud-sql-pg\n",
        "numpy\n",
        "pandas\n",
        "pgvector\n",
        "psycopg2-binary\n",
        "langchain-openai\n",
        "langgraph\n",
        "traceloop-sdk\n",
        "opentelemetry-instrumentation-google-generativeai\n",
        "opentelemetry-instrumentation-langchain\n",
        "opentelemetry-instrumentation-vertexai\n",
        "python-dotenv"
      ]
    },
    {
      "cell_type": "code",
      "execution_count": null,
      "metadata": {
        "colab": {
          "base_uri": "https://localhost:8080/"
        },
        "id": "IrarcvsmS54A",
        "outputId": "bd4447e1-07e6-4980-da42-9fac08cd4bc3"
      },
      "outputs": [
        {
          "output_type": "stream",
          "name": "stdout",
          "text": [
            "Requirement already satisfied: google-cloud-aiplatform in /usr/local/lib/python3.11/dist-packages (from -r requirements.txt (line 2)) (1.81.0)\n",
            "Requirement already satisfied: langchain in /usr/local/lib/python3.11/dist-packages (from -r requirements.txt (line 5)) (0.3.19)\n",
            "Requirement already satisfied: langchain_core in /usr/local/lib/python3.11/dist-packages (from -r requirements.txt (line 6)) (0.3.37)\n",
            "Requirement already satisfied: langchain_community in /usr/local/lib/python3.11/dist-packages (from -r requirements.txt (line 7)) (0.3.18)\n",
            "Requirement already satisfied: langchain-google-vertexai==2.0.8 in /usr/local/lib/python3.11/dist-packages (from -r requirements.txt (line 8)) (2.0.8)\n",
            "Requirement already satisfied: cloudpickle in /usr/local/lib/python3.11/dist-packages (from -r requirements.txt (line 9)) (3.1.1)\n",
            "Requirement already satisfied: pydantic==2.9.2 in /usr/local/lib/python3.11/dist-packages (from -r requirements.txt (line 10)) (2.9.2)\n",
            "Requirement already satisfied: langchain-google-community in /usr/local/lib/python3.11/dist-packages (from -r requirements.txt (line 11)) (2.0.4)\n",
            "Requirement already satisfied: google-cloud-discoveryengine in /usr/local/lib/python3.11/dist-packages (from -r requirements.txt (line 12)) (0.13.6)\n",
            "Requirement already satisfied: nest-asyncio in /usr/local/lib/python3.11/dist-packages (from -r requirements.txt (line 13)) (1.6.0)\n",
            "Requirement already satisfied: asyncio==3.4.3 in /usr/local/lib/python3.11/dist-packages (from -r requirements.txt (line 14)) (3.4.3)\n",
            "Requirement already satisfied: asyncpg==0.29.0 in /usr/local/lib/python3.11/dist-packages (from -r requirements.txt (line 15)) (0.29.0)\n",
            "Requirement already satisfied: langchain-google-cloud-sql-pg in /usr/local/lib/python3.11/dist-packages (from -r requirements.txt (line 17)) (0.12.1)\n",
            "Requirement already satisfied: numpy in /usr/local/lib/python3.11/dist-packages (from -r requirements.txt (line 18)) (1.26.4)\n",
            "Collecting numpy (from -r requirements.txt (line 18))\n",
            "  Using cached numpy-2.2.3-cp311-cp311-manylinux_2_17_x86_64.manylinux2014_x86_64.whl.metadata (62 kB)\n",
            "Requirement already satisfied: pandas in /usr/local/lib/python3.11/dist-packages (from -r requirements.txt (line 19)) (2.2.3)\n",
            "Requirement already satisfied: pgvector in /usr/local/lib/python3.11/dist-packages (from -r requirements.txt (line 20)) (0.3.6)\n",
            "Requirement already satisfied: psycopg2-binary in /usr/local/lib/python3.11/dist-packages (from -r requirements.txt (line 21)) (2.9.10)\n",
            "Requirement already satisfied: langchain-openai in /usr/local/lib/python3.11/dist-packages (from -r requirements.txt (line 22)) (0.3.6)\n",
            "Requirement already satisfied: langgraph in /usr/local/lib/python3.11/dist-packages (from -r requirements.txt (line 23)) (0.2.74)\n",
            "Requirement already satisfied: traceloop-sdk in /usr/local/lib/python3.11/dist-packages (from -r requirements.txt (line 24)) (0.38.7)\n",
            "Requirement already satisfied: opentelemetry-instrumentation-google-generativeai in /usr/local/lib/python3.11/dist-packages (from -r requirements.txt (line 25)) (0.38.7)\n",
            "Requirement already satisfied: opentelemetry-instrumentation-langchain in /usr/local/lib/python3.11/dist-packages (from -r requirements.txt (line 26)) (0.38.7)\n",
            "Requirement already satisfied: opentelemetry-instrumentation-vertexai in /usr/local/lib/python3.11/dist-packages (from -r requirements.txt (line 27)) (0.38.7)\n",
            "Requirement already satisfied: python-dotenv in /usr/local/lib/python3.11/dist-packages (from -r requirements.txt (line 28)) (1.0.1)\n",
            "Requirement already satisfied: cloud-sql-python-connector[asyncpg] in /usr/local/lib/python3.11/dist-packages (from -r requirements.txt (line 16)) (1.13.0)\n",
            "Collecting cloud-sql-python-connector[asyncpg] (from -r requirements.txt (line 16))\n",
            "  Using cached cloud_sql_python_connector-1.17.0-py3-none-any.whl.metadata (30 kB)\n",
            "Requirement already satisfied: google-cloud-storage<3.0.0,>=2.18.0 in /usr/local/lib/python3.11/dist-packages (from langchain-google-vertexai==2.0.8->-r requirements.txt (line 8)) (2.19.0)\n",
            "Requirement already satisfied: httpx<0.28.0,>=0.27.0 in /usr/local/lib/python3.11/dist-packages (from langchain-google-vertexai==2.0.8->-r requirements.txt (line 8)) (0.27.2)\n",
            "Requirement already satisfied: httpx-sse<0.5.0,>=0.4.0 in /usr/local/lib/python3.11/dist-packages (from langchain-google-vertexai==2.0.8->-r requirements.txt (line 8)) (0.4.0)\n",
            "Requirement already satisfied: annotated-types>=0.6.0 in /usr/local/lib/python3.11/dist-packages (from pydantic==2.9.2->-r requirements.txt (line 10)) (0.7.0)\n",
            "Requirement already satisfied: pydantic-core==2.23.4 in /usr/local/lib/python3.11/dist-packages (from pydantic==2.9.2->-r requirements.txt (line 10)) (2.23.4)\n",
            "Requirement already satisfied: typing-extensions>=4.6.1 in /usr/local/lib/python3.11/dist-packages (from pydantic==2.9.2->-r requirements.txt (line 10)) (4.12.2)\n",
            "Requirement already satisfied: async-timeout>=4.0.3 in /usr/local/lib/python3.11/dist-packages (from asyncpg==0.29.0->-r requirements.txt (line 15)) (5.0.1)\n",
            "Requirement already satisfied: google-api-core!=2.0.*,!=2.1.*,!=2.2.*,!=2.3.*,!=2.4.*,!=2.5.*,!=2.6.*,!=2.7.*,<3.0.0dev,>=1.34.1 in /usr/local/lib/python3.11/dist-packages (from google-api-core[grpc]!=2.0.*,!=2.1.*,!=2.2.*,!=2.3.*,!=2.4.*,!=2.5.*,!=2.6.*,!=2.7.*,<3.0.0dev,>=1.34.1->google-cloud-aiplatform->-r requirements.txt (line 2)) (2.24.1)\n",
            "Requirement already satisfied: google-auth<3.0.0dev,>=2.14.1 in /usr/local/lib/python3.11/dist-packages (from google-cloud-aiplatform->-r requirements.txt (line 2)) (2.38.0)\n",
            "Requirement already satisfied: proto-plus<2.0.0dev,>=1.22.3 in /usr/local/lib/python3.11/dist-packages (from google-cloud-aiplatform->-r requirements.txt (line 2)) (1.26.0)\n",
            "Requirement already satisfied: protobuf!=4.21.0,!=4.21.1,!=4.21.2,!=4.21.3,!=4.21.4,!=4.21.5,<6.0.0dev,>=3.20.2 in /usr/local/lib/python3.11/dist-packages (from google-cloud-aiplatform->-r requirements.txt (line 2)) (5.29.3)\n",
            "Requirement already satisfied: packaging>=14.3 in /usr/local/lib/python3.11/dist-packages (from google-cloud-aiplatform->-r requirements.txt (line 2)) (24.2)\n",
            "Requirement already satisfied: google-cloud-bigquery!=3.20.0,<4.0.0dev,>=1.15.0 in /usr/local/lib/python3.11/dist-packages (from google-cloud-aiplatform->-r requirements.txt (line 2)) (3.29.0)\n",
            "Requirement already satisfied: google-cloud-resource-manager<3.0.0dev,>=1.3.3 in /usr/local/lib/python3.11/dist-packages (from google-cloud-aiplatform->-r requirements.txt (line 2)) (1.14.0)\n",
            "Requirement already satisfied: shapely<3.0.0dev in /usr/local/lib/python3.11/dist-packages (from google-cloud-aiplatform->-r requirements.txt (line 2)) (2.0.7)\n",
            "Requirement already satisfied: docstring-parser<1 in /usr/local/lib/python3.11/dist-packages (from google-cloud-aiplatform->-r requirements.txt (line 2)) (0.16)\n",
            "Requirement already satisfied: openinference-instrumentation-langchain<0.2,>=0.1.19 in /usr/local/lib/python3.11/dist-packages (from google-cloud-aiplatform[langchain]->-r requirements.txt (line 3)) (0.1.33)\n",
            "Requirement already satisfied: google-cloud-trace<2 in /usr/local/lib/python3.11/dist-packages (from google-cloud-aiplatform[reasoningengine]->-r requirements.txt (line 4)) (1.16.0)\n",
            "Requirement already satisfied: opentelemetry-sdk<2 in /usr/local/lib/python3.11/dist-packages (from google-cloud-aiplatform[reasoningengine]->-r requirements.txt (line 4)) (1.30.0)\n",
            "Requirement already satisfied: opentelemetry-exporter-gcp-trace<2 in /usr/local/lib/python3.11/dist-packages (from google-cloud-aiplatform[reasoningengine]->-r requirements.txt (line 4)) (1.9.0)\n",
            "Requirement already satisfied: langchain-text-splitters<1.0.0,>=0.3.6 in /usr/local/lib/python3.11/dist-packages (from langchain->-r requirements.txt (line 5)) (0.3.6)\n",
            "Requirement already satisfied: langsmith<0.4,>=0.1.17 in /usr/local/lib/python3.11/dist-packages (from langchain->-r requirements.txt (line 5)) (0.3.8)\n",
            "Requirement already satisfied: SQLAlchemy<3,>=1.4 in /usr/local/lib/python3.11/dist-packages (from langchain->-r requirements.txt (line 5)) (2.0.38)\n",
            "Requirement already satisfied: requests<3,>=2 in /usr/local/lib/python3.11/dist-packages (from langchain->-r requirements.txt (line 5)) (2.32.3)\n",
            "Requirement already satisfied: PyYAML>=5.3 in /usr/local/lib/python3.11/dist-packages (from langchain->-r requirements.txt (line 5)) (6.0.2)\n",
            "Requirement already satisfied: aiohttp<4.0.0,>=3.8.3 in /usr/local/lib/python3.11/dist-packages (from langchain->-r requirements.txt (line 5)) (3.11.12)\n",
            "Requirement already satisfied: tenacity!=8.4.0,<10,>=8.1.0 in /usr/local/lib/python3.11/dist-packages (from langchain->-r requirements.txt (line 5)) (8.5.0)\n",
            "Requirement already satisfied: jsonpatch<2.0,>=1.33 in /usr/local/lib/python3.11/dist-packages (from langchain_core->-r requirements.txt (line 6)) (1.33)\n",
            "Requirement already satisfied: dataclasses-json<0.7,>=0.5.7 in /usr/local/lib/python3.11/dist-packages (from langchain_community->-r requirements.txt (line 7)) (0.6.7)\n",
            "Requirement already satisfied: pydantic-settings<3.0.0,>=2.4.0 in /usr/local/lib/python3.11/dist-packages (from langchain_community->-r requirements.txt (line 7)) (2.8.0)\n",
            "Requirement already satisfied: google-api-python-client<3.0.0,>=2.122.0 in /usr/local/lib/python3.11/dist-packages (from langchain-google-community->-r requirements.txt (line 11)) (2.160.0)\n",
            "Requirement already satisfied: google-cloud-core<3.0.0,>=2.4.1 in /usr/local/lib/python3.11/dist-packages (from langchain-google-community->-r requirements.txt (line 11)) (2.4.1)\n",
            "Requirement already satisfied: grpcio<2.0.0,>=1.62.0 in /usr/local/lib/python3.11/dist-packages (from langchain-google-community->-r requirements.txt (line 11)) (1.70.0)\n",
            "Requirement already satisfied: aiofiles in /usr/local/lib/python3.11/dist-packages (from cloud-sql-python-connector[asyncpg]->-r requirements.txt (line 16)) (24.1.0)\n",
            "Requirement already satisfied: cryptography>=42.0.0 in /usr/local/lib/python3.11/dist-packages (from cloud-sql-python-connector[asyncpg]->-r requirements.txt (line 16)) (43.0.3)\n",
            "Collecting dnspython>=2.0.0 (from cloud-sql-python-connector[asyncpg]->-r requirements.txt (line 16))\n",
            "  Using cached dnspython-2.7.0-py3-none-any.whl.metadata (5.8 kB)\n",
            "INFO: pip is looking at multiple versions of cloud-sql-python-connector[asyncpg] to determine which version is compatible with other requirements. This could take a while.\n",
            "Collecting cloud-sql-python-connector[asyncpg] (from -r requirements.txt (line 16))\n",
            "  Using cached cloud_sql_python_connector-1.16.0-py2.py3-none-any.whl.metadata (30 kB)\n",
            "  Using cached cloud_sql_python_connector-1.15.0-py2.py3-none-any.whl.metadata (30 kB)\n",
            "  Using cached cloud_sql_python_connector-1.14.0-py2.py3-none-any.whl.metadata (28 kB)\n",
            "Requirement already satisfied: python-dateutil>=2.8.2 in /usr/local/lib/python3.11/dist-packages (from pandas->-r requirements.txt (line 19)) (2.8.2)\n",
            "Requirement already satisfied: pytz>=2020.1 in /usr/local/lib/python3.11/dist-packages (from pandas->-r requirements.txt (line 19)) (2025.1)\n",
            "Requirement already satisfied: tzdata>=2022.7 in /usr/local/lib/python3.11/dist-packages (from pandas->-r requirements.txt (line 19)) (2025.1)\n",
            "Requirement already satisfied: openai<2.0.0,>=1.58.1 in /usr/local/lib/python3.11/dist-packages (from langchain-openai->-r requirements.txt (line 22)) (1.61.1)\n",
            "Requirement already satisfied: tiktoken<1,>=0.7 in /usr/local/lib/python3.11/dist-packages (from langchain-openai->-r requirements.txt (line 22)) (0.9.0)\n",
            "Requirement already satisfied: langgraph-checkpoint<3.0.0,>=2.0.10 in /usr/local/lib/python3.11/dist-packages (from langgraph->-r requirements.txt (line 23)) (2.0.16)\n",
            "Requirement already satisfied: langgraph-sdk<0.2.0,>=0.1.42 in /usr/local/lib/python3.11/dist-packages (from langgraph->-r requirements.txt (line 23)) (0.1.53)\n",
            "Requirement already satisfied: colorama<0.5.0,>=0.4.6 in /usr/local/lib/python3.11/dist-packages (from traceloop-sdk->-r requirements.txt (line 24)) (0.4.6)\n",
            "Requirement already satisfied: deprecated<2.0.0,>=1.2.14 in /usr/local/lib/python3.11/dist-packages (from traceloop-sdk->-r requirements.txt (line 24)) (1.2.18)\n",
            "Requirement already satisfied: jinja2<4.0.0,>=3.1.5 in /usr/local/lib/python3.11/dist-packages (from traceloop-sdk->-r requirements.txt (line 24)) (3.1.5)\n",
            "Requirement already satisfied: opentelemetry-api<2.0.0,>=1.28.0 in /usr/local/lib/python3.11/dist-packages (from traceloop-sdk->-r requirements.txt (line 24)) (1.30.0)\n",
            "Requirement already satisfied: opentelemetry-exporter-otlp-proto-grpc<2.0.0,>=1.28.0 in /usr/local/lib/python3.11/dist-packages (from traceloop-sdk->-r requirements.txt (line 24)) (1.30.0)\n",
            "Requirement already satisfied: opentelemetry-exporter-otlp-proto-http<2.0.0,>=1.28.0 in /usr/local/lib/python3.11/dist-packages (from traceloop-sdk->-r requirements.txt (line 24)) (1.30.0)\n",
            "Requirement already satisfied: opentelemetry-instrumentation-alephalpha==0.38.7 in /usr/local/lib/python3.11/dist-packages (from traceloop-sdk->-r requirements.txt (line 24)) (0.38.7)\n",
            "Requirement already satisfied: opentelemetry-instrumentation-anthropic==0.38.7 in /usr/local/lib/python3.11/dist-packages (from traceloop-sdk->-r requirements.txt (line 24)) (0.38.7)\n",
            "Requirement already satisfied: opentelemetry-instrumentation-bedrock==0.38.7 in /usr/local/lib/python3.11/dist-packages (from traceloop-sdk->-r requirements.txt (line 24)) (0.38.7)\n",
            "Requirement already satisfied: opentelemetry-instrumentation-chromadb==0.38.7 in /usr/local/lib/python3.11/dist-packages (from traceloop-sdk->-r requirements.txt (line 24)) (0.38.7)\n",
            "Requirement already satisfied: opentelemetry-instrumentation-cohere==0.38.7 in /usr/local/lib/python3.11/dist-packages (from traceloop-sdk->-r requirements.txt (line 24)) (0.38.7)\n",
            "Requirement already satisfied: opentelemetry-instrumentation-crewai==0.38.7 in /usr/local/lib/python3.11/dist-packages (from traceloop-sdk->-r requirements.txt (line 24)) (0.38.7)\n",
            "Requirement already satisfied: opentelemetry-instrumentation-groq==0.38.7 in /usr/local/lib/python3.11/dist-packages (from traceloop-sdk->-r requirements.txt (line 24)) (0.38.7)\n",
            "Requirement already satisfied: opentelemetry-instrumentation-haystack==0.38.7 in /usr/local/lib/python3.11/dist-packages (from traceloop-sdk->-r requirements.txt (line 24)) (0.38.7)\n",
            "Requirement already satisfied: opentelemetry-instrumentation-lancedb==0.38.7 in /usr/local/lib/python3.11/dist-packages (from traceloop-sdk->-r requirements.txt (line 24)) (0.38.7)\n",
            "Requirement already satisfied: opentelemetry-instrumentation-llamaindex==0.38.7 in /usr/local/lib/python3.11/dist-packages (from traceloop-sdk->-r requirements.txt (line 24)) (0.38.7)\n",
            "Requirement already satisfied: opentelemetry-instrumentation-logging>=0.50b0 in /usr/local/lib/python3.11/dist-packages (from traceloop-sdk->-r requirements.txt (line 24)) (0.51b0)\n",
            "Requirement already satisfied: opentelemetry-instrumentation-marqo==0.38.7 in /usr/local/lib/python3.11/dist-packages (from traceloop-sdk->-r requirements.txt (line 24)) (0.38.7)\n",
            "Requirement already satisfied: opentelemetry-instrumentation-milvus==0.38.7 in /usr/local/lib/python3.11/dist-packages (from traceloop-sdk->-r requirements.txt (line 24)) (0.38.7)\n",
            "Requirement already satisfied: opentelemetry-instrumentation-mistralai==0.38.7 in /usr/local/lib/python3.11/dist-packages (from traceloop-sdk->-r requirements.txt (line 24)) (0.38.7)\n",
            "Requirement already satisfied: opentelemetry-instrumentation-ollama==0.38.7 in /usr/local/lib/python3.11/dist-packages (from traceloop-sdk->-r requirements.txt (line 24)) (0.38.7)\n",
            "Requirement already satisfied: opentelemetry-instrumentation-openai==0.38.7 in /usr/local/lib/python3.11/dist-packages (from traceloop-sdk->-r requirements.txt (line 24)) (0.38.7)\n",
            "Requirement already satisfied: opentelemetry-instrumentation-pinecone==0.38.7 in /usr/local/lib/python3.11/dist-packages (from traceloop-sdk->-r requirements.txt (line 24)) (0.38.7)\n",
            "Requirement already satisfied: opentelemetry-instrumentation-qdrant==0.38.7 in /usr/local/lib/python3.11/dist-packages (from traceloop-sdk->-r requirements.txt (line 24)) (0.38.7)\n",
            "Requirement already satisfied: opentelemetry-instrumentation-replicate==0.38.7 in /usr/local/lib/python3.11/dist-packages (from traceloop-sdk->-r requirements.txt (line 24)) (0.38.7)\n",
            "Requirement already satisfied: opentelemetry-instrumentation-requests>=0.50b0 in /usr/local/lib/python3.11/dist-packages (from traceloop-sdk->-r requirements.txt (line 24)) (0.51b0)\n",
            "Requirement already satisfied: opentelemetry-instrumentation-sagemaker==0.38.7 in /usr/local/lib/python3.11/dist-packages (from traceloop-sdk->-r requirements.txt (line 24)) (0.38.7)\n",
            "Requirement already satisfied: opentelemetry-instrumentation-sqlalchemy>=0.50b0 in /usr/local/lib/python3.11/dist-packages (from traceloop-sdk->-r requirements.txt (line 24)) (0.51b0)\n",
            "Requirement already satisfied: opentelemetry-instrumentation-threading>=0.50b0 in /usr/local/lib/python3.11/dist-packages (from traceloop-sdk->-r requirements.txt (line 24)) (0.51b0)\n",
            "Requirement already satisfied: opentelemetry-instrumentation-together==0.38.7 in /usr/local/lib/python3.11/dist-packages (from traceloop-sdk->-r requirements.txt (line 24)) (0.38.7)\n",
            "Requirement already satisfied: opentelemetry-instrumentation-transformers==0.38.7 in /usr/local/lib/python3.11/dist-packages (from traceloop-sdk->-r requirements.txt (line 24)) (0.38.7)\n",
            "Requirement already satisfied: opentelemetry-instrumentation-urllib3>=0.50b0 in /usr/local/lib/python3.11/dist-packages (from traceloop-sdk->-r requirements.txt (line 24)) (0.51b0)\n",
            "Requirement already satisfied: opentelemetry-instrumentation-watsonx==0.38.7 in /usr/local/lib/python3.11/dist-packages (from traceloop-sdk->-r requirements.txt (line 24)) (0.38.7)\n",
            "Requirement already satisfied: opentelemetry-instrumentation-weaviate==0.38.7 in /usr/local/lib/python3.11/dist-packages (from traceloop-sdk->-r requirements.txt (line 24)) (0.38.7)\n",
            "Requirement already satisfied: opentelemetry-semantic-conventions-ai==0.4.2 in /usr/local/lib/python3.11/dist-packages (from traceloop-sdk->-r requirements.txt (line 24)) (0.4.2)\n",
            "Requirement already satisfied: posthog<4,>3.0.2 in /usr/local/lib/python3.11/dist-packages (from traceloop-sdk->-r requirements.txt (line 24)) (3.15.0)\n",
            "Requirement already satisfied: opentelemetry-instrumentation>=0.50b0 in /usr/local/lib/python3.11/dist-packages (from opentelemetry-instrumentation-google-generativeai->-r requirements.txt (line 25)) (0.51b0)\n",
            "Requirement already satisfied: opentelemetry-semantic-conventions>=0.50b0 in /usr/local/lib/python3.11/dist-packages (from opentelemetry-instrumentation-google-generativeai->-r requirements.txt (line 25)) (0.51b0)\n",
            "Requirement already satisfied: anthropic>=0.17.0 in /usr/local/lib/python3.11/dist-packages (from opentelemetry-instrumentation-bedrock==0.38.7->traceloop-sdk->-r requirements.txt (line 24)) (0.46.0)\n",
            "Requirement already satisfied: inflection<0.6.0,>=0.5.1 in /usr/local/lib/python3.11/dist-packages (from opentelemetry-instrumentation-llamaindex==0.38.7->traceloop-sdk->-r requirements.txt (line 24)) (0.5.1)\n",
            "Requirement already satisfied: aiohappyeyeballs>=2.3.0 in /usr/local/lib/python3.11/dist-packages (from aiohttp<4.0.0,>=3.8.3->langchain->-r requirements.txt (line 5)) (2.4.6)\n",
            "Requirement already satisfied: aiosignal>=1.1.2 in /usr/local/lib/python3.11/dist-packages (from aiohttp<4.0.0,>=3.8.3->langchain->-r requirements.txt (line 5)) (1.3.2)\n",
            "Requirement already satisfied: attrs>=17.3.0 in /usr/local/lib/python3.11/dist-packages (from aiohttp<4.0.0,>=3.8.3->langchain->-r requirements.txt (line 5)) (25.1.0)\n",
            "Requirement already satisfied: frozenlist>=1.1.1 in /usr/local/lib/python3.11/dist-packages (from aiohttp<4.0.0,>=3.8.3->langchain->-r requirements.txt (line 5)) (1.5.0)\n",
            "Requirement already satisfied: multidict<7.0,>=4.5 in /usr/local/lib/python3.11/dist-packages (from aiohttp<4.0.0,>=3.8.3->langchain->-r requirements.txt (line 5)) (6.1.0)\n",
            "Requirement already satisfied: propcache>=0.2.0 in /usr/local/lib/python3.11/dist-packages (from aiohttp<4.0.0,>=3.8.3->langchain->-r requirements.txt (line 5)) (0.2.1)\n",
            "Requirement already satisfied: yarl<2.0,>=1.17.0 in /usr/local/lib/python3.11/dist-packages (from aiohttp<4.0.0,>=3.8.3->langchain->-r requirements.txt (line 5)) (1.18.3)\n",
            "Requirement already satisfied: cffi>=1.12 in /usr/local/lib/python3.11/dist-packages (from cryptography>=42.0.0->cloud-sql-python-connector[asyncpg]->-r requirements.txt (line 16)) (1.17.1)\n",
            "Requirement already satisfied: marshmallow<4.0.0,>=3.18.0 in /usr/local/lib/python3.11/dist-packages (from dataclasses-json<0.7,>=0.5.7->langchain_community->-r requirements.txt (line 7)) (3.26.1)\n",
            "Requirement already satisfied: typing-inspect<1,>=0.4.0 in /usr/local/lib/python3.11/dist-packages (from dataclasses-json<0.7,>=0.5.7->langchain_community->-r requirements.txt (line 7)) (0.9.0)\n",
            "Requirement already satisfied: wrapt<2,>=1.10 in /usr/local/lib/python3.11/dist-packages (from deprecated<2.0.0,>=1.2.14->traceloop-sdk->-r requirements.txt (line 24)) (1.17.2)\n",
            "Requirement already satisfied: googleapis-common-protos<2.0.dev0,>=1.56.2 in /usr/local/lib/python3.11/dist-packages (from google-api-core!=2.0.*,!=2.1.*,!=2.2.*,!=2.3.*,!=2.4.*,!=2.5.*,!=2.6.*,!=2.7.*,<3.0.0dev,>=1.34.1->google-api-core[grpc]!=2.0.*,!=2.1.*,!=2.2.*,!=2.3.*,!=2.4.*,!=2.5.*,!=2.6.*,!=2.7.*,<3.0.0dev,>=1.34.1->google-cloud-aiplatform->-r requirements.txt (line 2)) (1.67.0)\n",
            "Requirement already satisfied: grpcio-status<2.0.dev0,>=1.33.2 in /usr/local/lib/python3.11/dist-packages (from google-api-core[grpc]!=2.0.*,!=2.1.*,!=2.2.*,!=2.3.*,!=2.4.*,!=2.5.*,!=2.6.*,!=2.7.*,<3.0.0dev,>=1.34.1->google-cloud-aiplatform->-r requirements.txt (line 2)) (1.62.3)\n",
            "Requirement already satisfied: httplib2<1.dev0,>=0.19.0 in /usr/local/lib/python3.11/dist-packages (from google-api-python-client<3.0.0,>=2.122.0->langchain-google-community->-r requirements.txt (line 11)) (0.22.0)\n",
            "Requirement already satisfied: google-auth-httplib2<1.0.0,>=0.2.0 in /usr/local/lib/python3.11/dist-packages (from google-api-python-client<3.0.0,>=2.122.0->langchain-google-community->-r requirements.txt (line 11)) (0.2.0)\n",
            "Requirement already satisfied: uritemplate<5,>=3.0.1 in /usr/local/lib/python3.11/dist-packages (from google-api-python-client<3.0.0,>=2.122.0->langchain-google-community->-r requirements.txt (line 11)) (4.1.1)\n",
            "Requirement already satisfied: cachetools<6.0,>=2.0.0 in /usr/local/lib/python3.11/dist-packages (from google-auth<3.0.0dev,>=2.14.1->google-cloud-aiplatform->-r requirements.txt (line 2)) (5.5.1)\n",
            "Requirement already satisfied: pyasn1-modules>=0.2.1 in /usr/local/lib/python3.11/dist-packages (from google-auth<3.0.0dev,>=2.14.1->google-cloud-aiplatform->-r requirements.txt (line 2)) (0.4.1)\n",
            "Requirement already satisfied: rsa<5,>=3.1.4 in /usr/local/lib/python3.11/dist-packages (from google-auth<3.0.0dev,>=2.14.1->google-cloud-aiplatform->-r requirements.txt (line 2)) (4.9)\n",
            "Requirement already satisfied: google-resumable-media<3.0dev,>=2.0.0 in /usr/local/lib/python3.11/dist-packages (from google-cloud-bigquery!=3.20.0,<4.0.0dev,>=1.15.0->google-cloud-aiplatform->-r requirements.txt (line 2)) (2.7.2)\n",
            "Requirement already satisfied: grpc-google-iam-v1<1.0.0dev,>=0.12.4 in /usr/local/lib/python3.11/dist-packages (from google-cloud-resource-manager<3.0.0dev,>=1.3.3->google-cloud-aiplatform->-r requirements.txt (line 2)) (0.14.0)\n",
            "Requirement already satisfied: google-crc32c<2.0dev,>=1.0 in /usr/local/lib/python3.11/dist-packages (from google-cloud-storage<3.0.0,>=2.18.0->langchain-google-vertexai==2.0.8->-r requirements.txt (line 8)) (1.6.0)\n",
            "Requirement already satisfied: anyio in /usr/local/lib/python3.11/dist-packages (from httpx<0.28.0,>=0.27.0->langchain-google-vertexai==2.0.8->-r requirements.txt (line 8)) (3.7.1)\n",
            "Requirement already satisfied: certifi in /usr/local/lib/python3.11/dist-packages (from httpx<0.28.0,>=0.27.0->langchain-google-vertexai==2.0.8->-r requirements.txt (line 8)) (2025.1.31)\n",
            "Requirement already satisfied: httpcore==1.* in /usr/local/lib/python3.11/dist-packages (from httpx<0.28.0,>=0.27.0->langchain-google-vertexai==2.0.8->-r requirements.txt (line 8)) (1.0.7)\n",
            "Requirement already satisfied: idna in /usr/local/lib/python3.11/dist-packages (from httpx<0.28.0,>=0.27.0->langchain-google-vertexai==2.0.8->-r requirements.txt (line 8)) (3.10)\n",
            "Requirement already satisfied: sniffio in /usr/local/lib/python3.11/dist-packages (from httpx<0.28.0,>=0.27.0->langchain-google-vertexai==2.0.8->-r requirements.txt (line 8)) (1.3.1)\n",
            "Requirement already satisfied: h11<0.15,>=0.13 in /usr/local/lib/python3.11/dist-packages (from httpcore==1.*->httpx<0.28.0,>=0.27.0->langchain-google-vertexai==2.0.8->-r requirements.txt (line 8)) (0.14.0)\n",
            "Requirement already satisfied: MarkupSafe>=2.0 in /usr/local/lib/python3.11/dist-packages (from jinja2<4.0.0,>=3.1.5->traceloop-sdk->-r requirements.txt (line 24)) (3.0.2)\n",
            "Requirement already satisfied: jsonpointer>=1.9 in /usr/local/lib/python3.11/dist-packages (from jsonpatch<2.0,>=1.33->langchain_core->-r requirements.txt (line 6)) (3.0.0)\n",
            "Requirement already satisfied: msgpack<2.0.0,>=1.1.0 in /usr/local/lib/python3.11/dist-packages (from langgraph-checkpoint<3.0.0,>=2.0.10->langgraph->-r requirements.txt (line 23)) (1.1.0)\n",
            "Requirement already satisfied: orjson>=3.10.1 in /usr/local/lib/python3.11/dist-packages (from langgraph-sdk<0.2.0,>=0.1.42->langgraph->-r requirements.txt (line 23)) (3.10.15)\n",
            "Requirement already satisfied: requests-toolbelt<2.0.0,>=1.0.0 in /usr/local/lib/python3.11/dist-packages (from langsmith<0.4,>=0.1.17->langchain->-r requirements.txt (line 5)) (1.0.0)\n",
            "Requirement already satisfied: zstandard<0.24.0,>=0.23.0 in /usr/local/lib/python3.11/dist-packages (from langsmith<0.4,>=0.1.17->langchain->-r requirements.txt (line 5)) (0.23.0)\n",
            "Requirement already satisfied: distro<2,>=1.7.0 in /usr/local/lib/python3.11/dist-packages (from openai<2.0.0,>=1.58.1->langchain-openai->-r requirements.txt (line 22)) (1.9.0)\n",
            "Requirement already satisfied: jiter<1,>=0.4.0 in /usr/local/lib/python3.11/dist-packages (from openai<2.0.0,>=1.58.1->langchain-openai->-r requirements.txt (line 22)) (0.8.2)\n",
            "Requirement already satisfied: tqdm>4 in /usr/local/lib/python3.11/dist-packages (from openai<2.0.0,>=1.58.1->langchain-openai->-r requirements.txt (line 22)) (4.67.1)\n",
            "Requirement already satisfied: openinference-instrumentation>=0.1.17 in /usr/local/lib/python3.11/dist-packages (from openinference-instrumentation-langchain<0.2,>=0.1.19->google-cloud-aiplatform[langchain]->-r requirements.txt (line 3)) (0.1.22)\n",
            "Requirement already satisfied: openinference-semantic-conventions>=0.1.9 in /usr/local/lib/python3.11/dist-packages (from openinference-instrumentation-langchain<0.2,>=0.1.19->google-cloud-aiplatform[langchain]->-r requirements.txt (line 3)) (0.1.14)\n",
            "Requirement already satisfied: importlib-metadata<=8.5.0,>=6.0 in /usr/local/lib/python3.11/dist-packages (from opentelemetry-api<2.0.0,>=1.28.0->traceloop-sdk->-r requirements.txt (line 24)) (8.5.0)\n",
            "Requirement already satisfied: opentelemetry-resourcedetector-gcp==1.*,>=1.5.0dev0 in /usr/local/lib/python3.11/dist-packages (from opentelemetry-exporter-gcp-trace<2->google-cloud-aiplatform[reasoningengine]->-r requirements.txt (line 4)) (1.9.0a0)\n",
            "Requirement already satisfied: opentelemetry-exporter-otlp-proto-common==1.30.0 in /usr/local/lib/python3.11/dist-packages (from opentelemetry-exporter-otlp-proto-grpc<2.0.0,>=1.28.0->traceloop-sdk->-r requirements.txt (line 24)) (1.30.0)\n",
            "Requirement already satisfied: opentelemetry-proto==1.30.0 in /usr/local/lib/python3.11/dist-packages (from opentelemetry-exporter-otlp-proto-grpc<2.0.0,>=1.28.0->traceloop-sdk->-r requirements.txt (line 24)) (1.30.0)\n",
            "Requirement already satisfied: opentelemetry-util-http==0.51b0 in /usr/local/lib/python3.11/dist-packages (from opentelemetry-instrumentation-requests>=0.50b0->traceloop-sdk->-r requirements.txt (line 24)) (0.51b0)\n",
            "Requirement already satisfied: six>=1.5 in /usr/local/lib/python3.11/dist-packages (from posthog<4,>3.0.2->traceloop-sdk->-r requirements.txt (line 24)) (1.17.0)\n",
            "Requirement already satisfied: monotonic>=1.5 in /usr/local/lib/python3.11/dist-packages (from posthog<4,>3.0.2->traceloop-sdk->-r requirements.txt (line 24)) (1.6)\n",
            "Requirement already satisfied: backoff>=1.10.0 in /usr/local/lib/python3.11/dist-packages (from posthog<4,>3.0.2->traceloop-sdk->-r requirements.txt (line 24)) (2.2.1)\n",
            "Requirement already satisfied: charset-normalizer<4,>=2 in /usr/local/lib/python3.11/dist-packages (from requests<3,>=2->langchain->-r requirements.txt (line 5)) (3.4.1)\n",
            "Requirement already satisfied: urllib3<3,>=1.21.1 in /usr/local/lib/python3.11/dist-packages (from requests<3,>=2->langchain->-r requirements.txt (line 5)) (2.3.0)\n",
            "Requirement already satisfied: greenlet!=0.4.17 in /usr/local/lib/python3.11/dist-packages (from SQLAlchemy<3,>=1.4->langchain->-r requirements.txt (line 5)) (3.1.1)\n",
            "Requirement already satisfied: regex>=2022.1.18 in /usr/local/lib/python3.11/dist-packages (from tiktoken<1,>=0.7->langchain-openai->-r requirements.txt (line 22)) (2024.11.6)\n",
            "Requirement already satisfied: pycparser in /usr/local/lib/python3.11/dist-packages (from cffi>=1.12->cryptography>=42.0.0->cloud-sql-python-connector[asyncpg]->-r requirements.txt (line 16)) (2.22)\n",
            "Requirement already satisfied: pyparsing!=3.0.0,!=3.0.1,!=3.0.2,!=3.0.3,<4,>=2.4.2 in /usr/local/lib/python3.11/dist-packages (from httplib2<1.dev0,>=0.19.0->google-api-python-client<3.0.0,>=2.122.0->langchain-google-community->-r requirements.txt (line 11)) (3.2.1)\n",
            "Requirement already satisfied: zipp>=3.20 in /usr/local/lib/python3.11/dist-packages (from importlib-metadata<=8.5.0,>=6.0->opentelemetry-api<2.0.0,>=1.28.0->traceloop-sdk->-r requirements.txt (line 24)) (3.21.0)\n",
            "Requirement already satisfied: pyasn1<0.7.0,>=0.4.6 in /usr/local/lib/python3.11/dist-packages (from pyasn1-modules>=0.2.1->google-auth<3.0.0dev,>=2.14.1->google-cloud-aiplatform->-r requirements.txt (line 2)) (0.6.1)\n",
            "Requirement already satisfied: mypy-extensions>=0.3.0 in /usr/local/lib/python3.11/dist-packages (from typing-inspect<1,>=0.4.0->dataclasses-json<0.7,>=0.5.7->langchain_community->-r requirements.txt (line 7)) (1.0.0)\n"
          ]
        }
      ],
      "source": [
        "!pip install --upgrade -r requirements.txt"
      ]
    },
    {
      "cell_type": "markdown",
      "metadata": {
        "id": "rOoZIYXCS54A"
      },
      "source": [
        "## Setting up Google Cloud Account"
      ]
    },
    {
      "cell_type": "markdown",
      "metadata": {
        "id": "JnnnVsfJS54B"
      },
      "source": [
        "#### Recommended account setup\n",
        "\n",
        "if you are running this in jupyter notebook locally, you may need to login to google cloud by running the following command from terminal:\n",
        "\n",
        "```\n",
        "gcloud auth login\n",
        "gcloud auth application-default login\n",
        "```"
      ]
    },
    {
      "cell_type": "markdown",
      "metadata": {
        "id": "YDn9wC-ES54B"
      },
      "source": [
        "If you are using Google Colabs, you need to authenticate with your google account by running the following notebook cell.\n",
        "\n",
        "> Please remember that you will need to do this on each jupyter notebook during this workshop"
      ]
    },
    {
      "cell_type": "code",
      "execution_count": null,
      "metadata": {
        "id": "aocVf3yhS54C"
      },
      "outputs": [],
      "source": [
        "# #@markdown ###Authenticate your Google Cloud Account and enable APIs.\n",
        "# # Authenticate gcloud.\n",
        "from google.colab import auth\n",
        "auth.authenticate_user()"
      ]
    },
    {
      "cell_type": "code",
      "source": [
        "!gcloud projects list"
      ],
      "metadata": {
        "id": "GrOKSdUVTQgZ",
        "outputId": "97990497-6a2a-4423-a4c6-3c842a5e5991",
        "colab": {
          "base_uri": "https://localhost:8080/"
        }
      },
      "execution_count": 72,
      "outputs": [
        {
          "output_type": "stream",
          "name": "stdout",
          "text": [
            "PROJECT_ID                  NAME              PROJECT_NUMBER\n",
            "agent-rag-451702            agent-rag-451702  644240883738\n",
            "gen-lang-client-0521448746  Gemini API        672065512482\n",
            "mekarsa                     mekarsa           1006687429524\n",
            "windsight                   windsight         155402211297\n"
          ]
        }
      ]
    },
    {
      "cell_type": "code",
      "execution_count": 73,
      "metadata": {
        "id": "51uVWpN7S54C"
      },
      "outputs": [],
      "source": [
        "import requests\n",
        "from typing import Optional, List\n",
        "from IPython.display import display, Markdown\n",
        "\n",
        "from langchain.agents.format_scratchpad import format_to_openai_function_messages\n",
        "from langchain.tools.retriever import create_retriever_tool\n",
        "from langchain.pydantic_v1 import BaseModel, Field\n",
        "from langchain.tools import StructuredTool\n",
        "from langchain.memory import ChatMessageHistory\n",
        "from langchain_community.chat_message_histories import ChatMessageHistory\n",
        "from langchain_google_cloud_sql_pg import PostgresChatMessageHistory\n",
        "from langchain_core.chat_history import BaseChatMessageHistory\n",
        "\n",
        "from langchain.prompts import (\n",
        "    ChatPromptTemplate,\n",
        "    HumanMessagePromptTemplate,\n",
        "    MessagesPlaceholder,\n",
        "    SystemMessagePromptTemplate,\n",
        ")\n",
        "\n",
        "from langchain_google_cloud_sql_pg import (\n",
        "    PostgresEngine,\n",
        "    PostgresVectorStore,\n",
        ")\n",
        "\n",
        "from vertexai.preview import reasoning_engines\n",
        "from langchain_google_vertexai import VertexAIEmbeddings\n",
        "from langchain_google_vertexai import HarmBlockThreshold, HarmCategory"
      ]
    },
    {
      "cell_type": "code",
      "execution_count": 115,
      "metadata": {
        "colab": {
          "base_uri": "https://localhost:8080/"
        },
        "id": "1f-18zO9S54C",
        "outputId": "f85db5df-e57e-4d8f-b5f4-7984e57a3ad6"
      },
      "outputs": [
        {
          "output_type": "stream",
          "name": "stdout",
          "text": [
            "Updated property [core/project].\n",
            "Database Host: 35.239.247.104\n"
          ]
        }
      ],
      "source": [
        "project_id = \"agent-rag-451702\"  # @param {type:\"string\"}\n",
        "region = \"us-central1\" #change this to project location\n",
        "# staging_bucket_name = \"devfest24-demo-bucket\"  # @param {type:\"string\"}\n",
        "instance_name=\"mkrs-demo\" # @param {type:\"string\"}\n",
        "database_password = 'testing' # @param {type:\"string\"}\n",
        "database_name = 'testing' # @param {type:\"string\"}\n",
        "database_user = 'testing' # @param {type:\"string\"}\n",
        "\n",
        "assert database_name, \"⚠️ Please provide a database name\"\n",
        "assert database_user, \"⚠️ Please provide a database user\"\n",
        "assert database_password, \"⚠️ Please provide a database password\"\n",
        "\n",
        "# dont update variable below\n",
        "!gcloud config set project {project_id} --quiet\n",
        "\n",
        "# get the ip address of the cloudsql instance\n",
        "ip_addresses = !gcloud sql instances describe {instance_name} --format=\"value(ipAddresses[0].ipAddress)\"\n",
        "database_host = ip_addresses[0]\n",
        "\n",
        "gemini_embedding_model = \"text-embedding-004\"\n",
        "gemini_llm_model = \"gemini-1.5-pro-001\"\n",
        "embeddings_table_name = \"course_content_embeddings\"\n",
        "chat_history_table_name = \"chat_histories\"\n",
        "\n",
        "# print(f\"API Base URL: {api_base_url}\")\n",
        "print(f\"Database Host: {database_host}\")"
      ]
    },
    {
      "cell_type": "markdown",
      "metadata": {
        "id": "-PXyKxM8S54D"
      },
      "source": [
        "### Initializing vertex ai"
      ]
    },
    {
      "cell_type": "code",
      "execution_count": null,
      "metadata": {
        "id": "0Cxup0I_S54D"
      },
      "outputs": [],
      "source": [
        "import vertexai\n",
        "vertexai.init(project=project_id, location=region)"
      ]
    },
    {
      "cell_type": "markdown",
      "metadata": {
        "id": "BM3zuuETS54D"
      },
      "source": [
        "### Agent Code\n",
        "\n",
        "This section below define a few classes that we have tried from the previous notebook.\n",
        "\n",
        "The main focus here should be `CourseAgent` where we setup all dependencies required by the agent"
      ]
    },
    {
      "cell_type": "code",
      "source": [
        "import psycopg2\n",
        "import json\n",
        "\n",
        "\n",
        "class CourseAPIClient:\n",
        "    def __init__(self):\n",
        "        \"\"\"\n",
        "        db_config: dictionary dengan keys: host, port, dbname, user, password\n",
        "        \"\"\"\n",
        "        db_config = {\n",
        "            \"host\": \"lecture-dss-db.mekarsa.com\",\n",
        "            \"port\": 54321,\n",
        "            \"dbname\": \"warehouse\",\n",
        "            \"user\": \"lecture2024\",\n",
        "            \"password\": \"Ojolali123\"\n",
        "        }\n",
        "        self.conn = psycopg2.connect(**db_config)\n",
        "        self.cur = self.conn.cursor()\n",
        "\n",
        "    def list_tax(self):\n",
        "        \"\"\"Mengambil daftar kursus dari database\"\"\"\n",
        "        query = \"\"\"SELECT\n",
        "          fpd.kode_rekening,\n",
        "          fpd.target_murni,\n",
        "          fpd.totrealisasi_after,\n",
        "          fpd.persentarget_all,\n",
        "          dr.nama_rek\n",
        "        FROM fact_pendapatan_daerah fpd\n",
        "        join dim_rekening dr\n",
        "        on fpd.kode_rekening = dr.kode_rekening;\"\"\"\n",
        "        self.cur.execute(query)\n",
        "        courses = self.cur.fetchall()\n",
        "        self.close_connection()\n",
        "\n",
        "        result = [{\n",
        "            \"fpd.kode_rekening\": c[0],\n",
        "            \"fpd.terget_realita\": float(c[1]),\n",
        "            \"fpd.totrealisasi_after\": float(c[2]),\n",
        "            \"fpd.persetarget_all\": float(c[3]),\n",
        "            \"dr.nama_rek\": c[4]\n",
        "          } for c in courses]\n",
        "        return json.dumps(result)\n",
        "\n",
        "    def get_tax(self, param):\n",
        "        \"\"\"Mengambil daftar kursus dari database\"\"\"\n",
        "        query = f\"\"\"\n",
        "        SELECT\n",
        "          fpd.kode_rekening,\n",
        "          fpd.target_murni,\n",
        "          fpd.totrealisasi_after,\n",
        "          fpd.persentarget_all,\n",
        "          dr.nama_rek\n",
        "        FROM\n",
        "          fact_pendapatan_daerah fpd\n",
        "        JOIN\n",
        "          dim_rekening dr\n",
        "        ON\n",
        "          fpd.kode_rekening = dr.kode_rekening\n",
        "        WHERE\n",
        "          fpd.kode_rekening = '{param}' or dr.nama_rek like '%{param}%';\"\"\"\n",
        "        self.cur.execute(query)\n",
        "        courses = self.cur.fetchall()\n",
        "        self.close_connection()\n",
        "\n",
        "        result = [{\n",
        "            \"fpd.kode_rekening\": c[0],\n",
        "            \"fpd.terget_realita\": float(c[1]),\n",
        "            \"fpd.totrealisasi_after\": float(c[2]),\n",
        "            \"fpd.persentarget_all\": float(c[3]),\n",
        "            \"dr.nama_rek\": c[4]\n",
        "          } for c in courses]\n",
        "        return json.dumps(result)\n",
        "\n",
        "    def close_connection(self):\n",
        "        \"\"\"Menutup koneksi ke database\"\"\"\n",
        "        self.cur.close()\n",
        "        self.conn.close()\n"
      ],
      "metadata": {
        "id": "iMa95VgsUB6c"
      },
      "execution_count": 116,
      "outputs": []
    },
    {
      "cell_type": "code",
      "source": [
        "api = CourseAPIClient()"
      ],
      "metadata": {
        "id": "J0sYBx_KYvhu"
      },
      "execution_count": 104,
      "outputs": []
    },
    {
      "cell_type": "code",
      "source": [
        "api.list_tax()"
      ],
      "metadata": {
        "colab": {
          "base_uri": "https://localhost:8080/",
          "height": 143
        },
        "id": "OzpLbdPmYxqJ",
        "outputId": "a423a2d0-67a6-4fca-eb9b-42eeff91a61a"
      },
      "execution_count": 105,
      "outputs": [
        {
          "output_type": "execute_result",
          "data": {
            "text/plain": [
              "'[{\"fpd.kode_rekening\": \"4\", \"fpd.terget_realita\": 4271590000000.0, \"fpd.totrealisasi_after\": 2871066126375.62, \"fpd.persetarget_all\": 67.2130547729445, \"dr.nama_rek\": \"Pendapatan Daerah\"}, {\"fpd.kode_rekening\": \"4.1\", \"fpd.terget_realita\": 771072268674.0, \"fpd.totrealisasi_after\": 554413320244.93, \"fpd.persetarget_all\": 71.90160284176027, \"dr.nama_rek\": \"Pendapatan Asli Daerah\"}, {\"fpd.kode_rekening\": \"4.1.1\", \"fpd.terget_realita\": 554860000000.0, \"fpd.totrealisasi_after\": 372499026684.39, \"fpd.persetarget_all\": 67.13387641646361, \"dr.nama_rek\": \"Hasil Pajak Daerah\"}, {\"fpd.kode_rekening\": \"4.1.1.6\", \"fpd.terget_realita\": 50000000000.0, \"fpd.totrealisasi_after\": 44641477501.46, \"fpd.persetarget_all\": 89.28295500291999, \"dr.nama_rek\": \"Pajak Jasa Perhotelan\"}, {\"fpd.kode_rekening\": \"4.1.1.6.1\", \"fpd.terget_realita\": 49129000000.0, \"fpd.totrealisasi_after\": 43028719101.46, \"fpd.persetarget_all\": 87.58313643969956, \"dr.nama_rek\": \"Pajak Hotel\"}, {\"fpd.kode_rekening\": \"4.1.1.6.1.1\", \"fpd.terget_realita\": 49129000000.0, \"fpd.totrealisasi_after\": 43028719101.46, \"fpd.persetarget_all\": 87.58313643969956, \"dr.nama_rek\": \"Pajak Hotel\"}, {\"fpd.kode_rekening\": \"4.1.1.6.1.1.1\", \"fpd.terget_realita\": 5200000000.0, \"fpd.totrealisasi_after\": 4906323860.0, \"fpd.persetarget_all\": 94.35238192307692, \"dr.nama_rek\": \"Hotel Bintang Lima\"}, {\"fpd.kode_rekening\": \"4.1.1.6.1.1.2\", \"fpd.terget_realita\": 23750000000.0, \"fpd.totrealisasi_after\": 22876023658.0, \"fpd.persetarget_all\": 96.32009961263158, \"dr.nama_rek\": \"Hotel Bintang Empat\"}, {\"fpd.kode_rekening\": \"4.1.1.6.1.1.3\", \"fpd.terget_realita\": 13650000000.0, \"fpd.totrealisasi_after\": 10394572952.0, \"fpd.persetarget_all\": 76.1507175970696, \"dr.nama_rek\": \"Hotel Bintang Tiga\"}, {\"fpd.kode_rekening\": \"4.1.1.6.1.1.4\", \"fpd.terget_realita\": 4700000000.0, \"fpd.totrealisasi_after\": 3105391389.0, \"fpd.persetarget_all\": 66.07215721276596, \"dr.nama_rek\": \"Hotel Bintang Dua\"}, {\"fpd.kode_rekening\": \"4.1.1.6.1.1.5\", \"fpd.terget_realita\": 9000000.0, \"fpd.totrealisasi_after\": 6670000.0, \"fpd.persetarget_all\": 74.11111111111111, \"dr.nama_rek\": \"Hotel Bintang Satu\"}, {\"fpd.kode_rekening\": \"4.1.1.6.1.1.6\", \"fpd.terget_realita\": 1820000000.0, \"fpd.totrealisasi_after\": 1739737242.46, \"fpd.persetarget_all\": 95.58995837692308, \"dr.nama_rek\": \"Hotel Melati Satu\"}, {\"fpd.kode_rekening\": \"4.1.1.6.2\", \"fpd.terget_realita\": 0.0, \"fpd.totrealisasi_after\": 0.0, \"fpd.persetarget_all\": 0.0, \"dr.nama_rek\": \"Pajak Motel\"}, {\"fpd.kode_rekening\": \"4.1.1.6.2.1\", \"fpd.terget_realita\": 0.0, \"fpd.totrealisasi_after\": 0.0, \"fpd.persetarget_all\": 0.0, \"dr.nama_rek\": \"Pajak Motel\"}, {\"fpd.kode_rekening\": \"4.1.1.6.3\", \"fpd.terget_realita\": 0.0, \"fpd.totrealisasi_after\": 1493792271.0, \"fpd.persetarget_all\": 100.0, \"dr.nama_rek\": \"Pajak Losmen\"}, {\"fpd.kode_rekening\": \"4.1.1.6.3.1\", \"fpd.terget_realita\": 0.0, \"fpd.totrealisasi_after\": 1493792271.0, \"fpd.persetarget_all\": 100.0, \"dr.nama_rek\": \"Pajak Losmen\"}, {\"fpd.kode_rekening\": \"4.1.1.6.4\", \"fpd.terget_realita\": 0.0, \"fpd.totrealisasi_after\": 0.0, \"fpd.persetarget_all\": 0.0, \"dr.nama_rek\": \"Pajak Gubuk Pariwisata\"}, {\"fpd.kode_rekening\": \"4.1.1.6.4.1\", \"fpd.terget_realita\": 0.0, \"fpd.totrealisasi_after\": 0.0, \"fpd.persetarget_all\": 0.0, \"dr.nama_rek\": \"Pajak Gubuk Pariwisata\"}, {\"fpd.kode_rekening\": \"4.1.1.6.5\", \"fpd.terget_realita\": 0.0, \"fpd.totrealisasi_after\": 0.0, \"fpd.persetarget_all\": 0.0, \"dr.nama_rek\": \"Pajak Wisma Pariwisata\"}, {\"fpd.kode_rekening\": \"4.1.1.6.5.1\", \"fpd.terget_realita\": 0.0, \"fpd.totrealisasi_after\": 0.0, \"fpd.persetarget_all\": 0.0, \"dr.nama_rek\": \"Pajak Wisma Pariwisata\"}, {\"fpd.kode_rekening\": \"4.1.1.6.6\", \"fpd.terget_realita\": 0.0, \"fpd.totrealisasi_after\": 6886000.0, \"fpd.persetarget_all\": 100.0, \"dr.nama_rek\": \"Pajak Pesanggrahan\"}, {\"fpd.kode_rekening\": \"4.1.1.6.6.1\", \"fpd.terget_realita\": 0.0, \"fpd.totrealisasi_after\": 6886000.0, \"fpd.persetarget_all\": 100.0, \"dr.nama_rek\": \"Pajak Pesanggrahan (Cotege)\"}, {\"fpd.kode_rekening\": \"4.1.1.6.7\", \"fpd.terget_realita\": 871000000.0, \"fpd.totrealisasi_after\": 0.0, \"fpd.persetarget_all\": 0.0, \"dr.nama_rek\": \"Pajak Rumah Penginapan dan Sejenisnya\"}, {\"fpd.kode_rekening\": \"4.1.1.6.7.1\", \"fpd.terget_realita\": 871000000.0, \"fpd.totrealisasi_after\": 0.0, \"fpd.persetarget_all\": 0.0, \"dr.nama_rek\": \"Pajak Rumah Penginapan dan Sejenisnya\"}, {\"fpd.kode_rekening\": \"4.1.1.6.8\", \"fpd.terget_realita\": 0.0, \"fpd.totrealisasi_after\": 112080129.0, \"fpd.persetarget_all\": 100.0, \"dr.nama_rek\": \"Pajak Rumah Kos dengan Jumlah Kamar Lebih dari 10 (Sepuluh)\"}, {\"fpd.kode_rekening\": \"4.1.1.6.8.1\", \"fpd.terget_realita\": 0.0, \"fpd.totrealisasi_after\": 112080129.0, \"fpd.persetarget_all\": 100.0, \"dr.nama_rek\": \"Pajak Rumah Kos dengan Jumlah Kamar Lebih dari 10 (Sepuluh)\"}, {\"fpd.kode_rekening\": \"4.1.1.6.8.1.1\", \"fpd.terget_realita\": 0.0, \"fpd.totrealisasi_after\": 43977750.0, \"fpd.persetarget_all\": 100.0, \"dr.nama_rek\": \"Pajak Hotel  (Kost 11+)\"}, {\"fpd.kode_rekening\": \"4.1.1.6.8.1.2\", \"fpd.terget_realita\": 0.0, \"fpd.totrealisasi_after\": 68102379.0, \"fpd.persetarget_all\": 100.0, \"dr.nama_rek\": \"Pajak Hotel  (Kost 20+)\"}, {\"fpd.kode_rekening\": \"4.1.1.7\", \"fpd.terget_realita\": 105000000000.0, \"fpd.totrealisasi_after\": 82966494950.99, \"fpd.persetarget_all\": 79.01570947713333, \"dr.nama_rek\": \"Pajak Makanan dan/atau Minuman\"}, {\"fpd.kode_rekening\": \"4.1.1.7.1\", \"fpd.terget_realita\": 59072000000.0, \"fpd.totrealisasi_after\": 42706223341.0, \"fpd.persetarget_all\": 72.29520473489978, \"dr.nama_rek\": \"Pajak Restoran\"}, {\"fpd.kode_rekening\": \"4.1.1.7.1.1\", \"fpd.terget_realita\": 59072000000.0, \"fpd.totrealisasi_after\": 42706223341.0, \"fpd.persetarget_all\": 72.29520473489978, \"dr.nama_rek\": \"Pajak Restoran dan Sejenisnya\"}, {\"fpd.kode_rekening\": \"4.1.1.7.2\", \"fpd.terget_realita\": 21522500000.0, \"fpd.totrealisasi_after\": 18257074144.99, \"fpd.persetarget_all\": 84.82785059816472, \"dr.nama_rek\": \"Pajak Rumah Makan dan Sejenisnya\"}, {\"fpd.kode_rekening\": \"4.1.1.7.2.1\", \"fpd.terget_realita\": 21522500000.0, \"fpd.totrealisasi_after\": 18257074144.99, \"fpd.persetarget_all\": 84.82785059816472, \"dr.nama_rek\": \"Pajak Rumah Makan dan Sejenisnya\"}, {\"fpd.kode_rekening\": \"4.1.1.7.3\", \"fpd.terget_realita\": 18189500000.0, \"fpd.totrealisasi_after\": 16317789624.0, \"fpd.persetarget_all\": 89.7099404821463, \"dr.nama_rek\": \"Pajak Kafetaria dan Sejenisnya\"}, {\"fpd.kode_rekening\": \"4.1.1.7.3.1\", \"fpd.terget_realita\": 18189500000.0, \"fpd.totrealisasi_after\": 16317789624.0, \"fpd.persetarget_all\": 89.7099404821463, \"dr.nama_rek\": \"Pajak Kafetaria dan Sejenisnya\"}, {\"fpd.kode_rekening\": \"4.1.1.7.4\", \"fpd.terget_realita\": 73500000.0, \"fpd.totrealisasi_after\": 83316769.0, \"fpd.persetarget_all\": 113.35614829931973, \"dr.nama_rek\": \"Pajak Kantin dan Sejenisnya\"}, {\"fpd.kode_rekening\": \"4.1.1.7.4.1\", \"fpd.terget_realita\": 73500000.0, \"fpd.totrealisasi_after\": 83316769.0, \"fpd.persetarget_all\": 113.35614829931973, \"dr.nama_rek\": \"Pajak Kantin dan Sejenisnya\"}, {\"fpd.kode_rekening\": \"4.1.1.7.5\", \"fpd.terget_realita\": 75500000.0, \"fpd.totrealisasi_after\": 79665400.0, \"fpd.persetarget_all\": 105.51708609271525, \"dr.nama_rek\": \"Pajak Warung dan Sejenisnya\"}, {\"fpd.kode_rekening\": \"4.1.1.7.5.1\", \"fpd.terget_realita\": 75500000.0, \"fpd.totrealisasi_after\": 79665400.0, \"fpd.persetarget_all\": 105.51708609271525, \"dr.nama_rek\": \"Pajak Warung dan Sejenisnya\"}, {\"fpd.kode_rekening\": \"4.1.1.7.6\", \"fpd.terget_realita\": 0.0, \"fpd.totrealisasi_after\": 0.0, \"fpd.persetarget_all\": 0.0, \"dr.nama_rek\": \"Pajak Bar dan Sejenisnya\"}, {\"fpd.kode_rekening\": \"4.1.1.7.6.1\", \"fpd.terget_realita\": 0.0, \"fpd.totrealisasi_after\": 0.0, \"fpd.persetarget_all\": 0.0, \"dr.nama_rek\": \"Pajak Bar dan Sejenisnya\"}, {\"fpd.kode_rekening\": \"4.1.1.7.7\", \"fpd.terget_realita\": 6067000000.0, \"fpd.totrealisasi_after\": 5522425672.0, \"fpd.persetarget_all\": 91.02399327509477, \"dr.nama_rek\": \"Pajak Jasa Boga/Katering dan Sejenisnya\"}, {\"fpd.kode_rekening\": \"4.1.1.7.7.1\", \"fpd.terget_realita\": 6067000000.0, \"fpd.totrealisasi_after\": 5522425672.0, \"fpd.persetarget_all\": 91.02399327509477, \"dr.nama_rek\": \"Pajak Jasa Boga/Katering dan Sejenisnya\"}, {\"fpd.kode_rekening\": \"4.1.1.8\", \"fpd.terget_realita\": 25000000000.0, \"fpd.totrealisasi_after\": 25529720591.72, \"fpd.persetarget_all\": 102.11888236688, \"dr.nama_rek\": \"Pajak Jasa Kesenian dan Hiburan\"}, {\"fpd.kode_rekening\": \"4.1.1.8.1\", \"fpd.terget_realita\": 6475000000.0, \"fpd.totrealisasi_after\": 6345805959.0, \"fpd.persetarget_all\": 98.00472523552124, \"dr.nama_rek\": \"Pajak Tontonan Film\"}, {\"fpd.kode_rekening\": \"4.1.1.8.1.1\", \"fpd.terget_realita\": 6475000000.0, \"fpd.totrealisasi_after\": 6345805959.0, \"fpd.persetarget_all\": 98.00472523552124, \"dr.nama_rek\": \"Pajak Tontonan Film\"}, {\"fpd.kode_rekening\": \"4.1.1.8.2\", \"fpd.terget_realita\": 945000000.0, \"fpd.totrealisasi_after\": 764729650.0, \"fpd.persetarget_all\": 80.92377248677248, \"dr.nama_rek\": \"Pajak Pagelaran Kesenian/Musik/Tari/Busana\"}, {\"fpd.kode_rekening\": \"4.1.1.8.2.1\", \"fpd.terget_realita\": 945000000.0, \"fpd.totrealisasi_after\": 764729650.0, \"fpd.persetarget_all\": 80.92377248677248, \"dr.nama_rek\": \"Pajak Pagelaran Kesenian/Musik/Tari/Busana\"}, {\"fpd.kode_rekening\": \"4.1.1.8.3\", \"fpd.terget_realita\": 0.0, \"fpd.totrealisasi_after\": 0.0, \"fpd.persetarget_all\": 0.0, \"dr.nama_rek\": \"Pajak Kontes Kecantikan, Binaraga dan Sejenisnya\"}, {\"fpd.kode_rekening\": \"4.1.1.8.3.1\", \"fpd.terget_realita\": 0.0, \"fpd.totrealisasi_after\": 0.0, \"fpd.persetarget_all\": 0.0, \"dr.nama_rek\": \"Pajak Kontes Kecantikan, Binaraga dan Sejenisnya\"}, {\"fpd.kode_rekening\": \"4.1.1.8.4\", \"fpd.terget_realita\": 0.0, \"fpd.totrealisasi_after\": 0.0, \"fpd.persetarget_all\": 0.0, \"dr.nama_rek\": \"Pajak Pameran\"}, {\"fpd.kode_rekening\": \"4.1.1.8.4.1\", \"fpd.terget_realita\": 0.0, \"fpd.totrealisasi_after\": 0.0, \"fpd.persetarget_all\": 0.0, \"dr.nama_rek\": \"Pajak Pameran\"}, {\"fpd.kode_rekening\": \"4.1.1.8.5\", \"fpd.terget_realita\": 10068000000.0, \"fpd.totrealisasi_after\": 10510975143.67, \"fpd.persetarget_all\": 104.39983257518873, \"dr.nama_rek\": \"Pajak Diskotik, Karoke, Klub Malam dan Sejenisnya\"}, {\"fpd.kode_rekening\": \"4.1.1.8.5.1\", \"fpd.terget_realita\": 10068000000.0, \"fpd.totrealisasi_after\": 10510975143.67, \"fpd.persetarget_all\": 104.39983257518873, \"dr.nama_rek\": \"Pajak Diskotik, Karoke, Klub Malam dan Sejenisnya\"}, {\"fpd.kode_rekening\": \"4.1.1.8.5.1.1\", \"fpd.terget_realita\": 3468000000.0, \"fpd.totrealisasi_after\": 3765385867.67, \"fpd.persetarget_all\": 108.57514035957325, \"dr.nama_rek\": \"Karaoke\"}, {\"fpd.kode_rekening\": \"4.1.1.8.5.1.2\", \"fpd.terget_realita\": 6600000000.0, \"fpd.totrealisasi_after\": 6745589276.0, \"fpd.persetarget_all\": 102.20589812121213, \"dr.nama_rek\": \"Klub Malam\"}, {\"fpd.kode_rekening\": \"4.1.1.8.6\", \"fpd.terget_realita\": 52500000.0, \"fpd.totrealisasi_after\": 1496250.0, \"fpd.persetarget_all\": 2.85, \"dr.nama_rek\": \"Pajak Sirkus/Akrobat/Sulap\"}, {\"fpd.kode_rekening\": \"4.1.1.8.6.1\", \"fpd.terget_realita\": 52500000.0, \"fpd.totrealisasi_after\": 1496250.0, \"fpd.persetarget_all\": 2.85, \"dr.nama_rek\": \"Pajak Sirkus/Akrobat/Sulap\"}, {\"fpd.kode_rekening\": \"4.1.1.8.7\", \"fpd.terget_realita\": 287500000.0, \"fpd.totrealisasi_after\": 394514388.0, \"fpd.persetarget_all\": 137.22239582608694, \"dr.nama_rek\": \"Pajak Permainan Biliar dan Bowling\"}, {\"fpd.kode_rekening\": \"4.1.1.8.7.1\", \"fpd.terget_realita\": 287500000.0, \"fpd.totrealisasi_after\": 394514388.0, \"fpd.persetarget_all\": 137.22239582608694, \"dr.nama_rek\": \"Pajak Permainan Biliar dan Bowling\"}, {\"fpd.kode_rekening\": \"4.1.1.8.8\", \"fpd.terget_realita\": 6336500000.0, \"fpd.totrealisasi_after\": 6507345780.05, \"fpd.persetarget_all\": 102.69621683973801, \"dr.nama_rek\": \"Pajak Pacuan Kuda, Kendaraan Bermotor dan Permainan Ketangkasan\"}, {\"fpd.kode_rekening\": \"4.1.1.8.8.1\", \"fpd.terget_realita\": 6336500000.0, \"fpd.totrealisasi_after\": 6507345780.05, \"fpd.persetarget_all\": 102.69621683973801, \"dr.nama_rek\": \"Pajak Pacuan Kuda, Kendaraan Bermotor dan Permainan Ketangkasan\"}, {\"fpd.kode_rekening\": \"4.1.1.8.8.1.1\", \"fpd.terget_realita\": 14000000.0, \"fpd.totrealisasi_after\": 8585000.0, \"fpd.persetarget_all\": 61.32142857142857, \"dr.nama_rek\": \"Balap Kendaraan Bermotor\"}, {\"fpd.kode_rekening\": \"4.1.1.8.8.1.2\", \"fpd.terget_realita\": 6322500000.0, \"fpd.totrealisasi_after\": 6498760780.05, \"fpd.persetarget_all\": 102.78783361091341, \"dr.nama_rek\": \"Permainan Ketangkasan\"}, {\"fpd.kode_rekening\": \"4.1.1.8.9\", \"fpd.terget_realita\": 580500000.0, \"fpd.totrealisasi_after\": 948277808.0, \"fpd.persetarget_all\": 163.3553502153316, \"dr.nama_rek\": \"Pajak Panti Pijat, Refleksi, Mandi Uap/Spa dan Pusat Kebugaran (Fitness Center)\"}, {\"fpd.kode_rekening\": \"4.1.1.8.9.1\", \"fpd.terget_realita\": 580500000.0, \"fpd.totrealisasi_after\": 948277808.0, \"fpd.persetarget_all\": 163.3553502153316, \"dr.nama_rek\": \"Pajak Panti Pijat, Refleksi, Mandi Uap/Spa dan Pusat Kebugaran (Fitness Center)\"}, {\"fpd.kode_rekening\": \"4.1.1.8.9.1.1\", \"fpd.terget_realita\": 346500000.0, \"fpd.totrealisasi_after\": 168112140.0, \"fpd.persetarget_all\": 48.517212121212125, \"dr.nama_rek\": \"Panti Pijat/Refleksi\"}, {\"fpd.kode_rekening\": \"4.1.1.8.9.1.2\", \"fpd.terget_realita\": 121500000.0, \"fpd.totrealisasi_after\": 594175845.0, \"fpd.persetarget_all\": 489.0336172839506, \"dr.nama_rek\": \"Mandi Uap/Spa\"}, {\"fpd.kode_rekening\": \"4.1.1.8.9.1.3\", \"fpd.terget_realita\": 0.0, \"fpd.totrealisasi_after\": 0.0, \"fpd.persetarget_all\": 0.0, \"dr.nama_rek\": \"Spa Dalam Salon Kecantikan\"}, {\"fpd.kode_rekening\": \"4.1.1.8.9.1.4\", \"fpd.terget_realita\": 112500000.0, \"fpd.totrealisasi_after\": 185989823.0, \"fpd.persetarget_all\": 165.32428711111112, \"dr.nama_rek\": \"Pusat Kebugaran/Fitness Center\"}, {\"fpd.kode_rekening\": \"4.1.1.8.10\", \"fpd.terget_realita\": 255000000.0, \"fpd.totrealisasi_after\": 17854113.0, \"fpd.persetarget_all\": 7.00161294117647, \"dr.nama_rek\": \"Pajak Pertandingan Olahraga\"}, {\"fpd.kode_rekening\": \"4.1.1.8.10.1\", \"fpd.terget_realita\": 255000000.0, \"fpd.totrealisasi_after\": 17854113.0, \"fpd.persetarget_all\": 7.00161294117647, \"dr.nama_rek\": \"Pajak Pertandingan Olahraga\"}, {\"fpd.kode_rekening\": \"4.1.1.8.11\", \"fpd.terget_realita\": 0.0, \"fpd.totrealisasi_after\": 15674000.0, \"fpd.persetarget_all\": 100.0, \"dr.nama_rek\": \"Pajak Rekreasi Wahana Air\"}, {\"fpd.kode_rekening\": \"4.1.1.8.11.1\", \"fpd.terget_realita\": 0.0, \"fpd.totrealisasi_after\": 15674000.0, \"fpd.persetarget_all\": 100.0, \"dr.nama_rek\": \"Pajak Rekreasi Wahana Air\"}, {\"fpd.kode_rekening\": \"4.1.1.8.12\", \"fpd.terget_realita\": 0.0, \"fpd.totrealisasi_after\": 735000.0, \"fpd.persetarget_all\": 100.0, \"dr.nama_rek\": \"Pajak Rekreasi Wahana Ekologi\"}, {\"fpd.kode_rekening\": \"4.1.1.8.12.1\", \"fpd.terget_realita\": 0.0, \"fpd.totrealisasi_after\": 735000.0, \"fpd.persetarget_all\": 100.0, \"dr.nama_rek\": \"Pajak Rekreasi Wahana Ekologi\"}, {\"fpd.kode_rekening\": \"4.1.1.8.13\", \"fpd.terget_realita\": 0.0, \"fpd.totrealisasi_after\": 0.0, \"fpd.persetarget_all\": 0.0, \"dr.nama_rek\": \"Pajak Rekreasi Wahana Pendidikan\"}, {\"fpd.kode_rekening\": \"4.1.1.8.13.1\", \"fpd.terget_realita\": 0.0, \"fpd.totrealisasi_after\": 0.0, \"fpd.persetarget_all\": 0.0, \"dr.nama_rek\": \"Pajak Rekreasi Wahana Pendidikan\"}, {\"fpd.kode_rekening\": \"4.1.1.8.14\", \"fpd.terget_realita\": 0.0, \"fpd.totrealisasi_after\": 0.0, \"fpd.persetarget_all\": 0.0, \"dr.nama_rek\": \"Pajak Rekreasi Wahana Budaya\"}, {\"fpd.kode_rekening\": \"4.1.1.8.14.1\", \"fpd.terget_realita\": 0.0, \"fpd.totrealisasi_after\": 0.0, \"fpd.persetarget_all\": 0.0, \"dr.nama_rek\": \"Pajak Rekreasi Wahana Budaya\"}, {\"fpd.kode_rekening\": \"4.1.1.8.15\", \"fpd.terget_realita\": 0.0, \"fpd.totrealisasi_after\": 22312500.0, \"fpd.persetarget_all\": 100.0, \"dr.nama_rek\": \"Pajak Rekreasi Wahana Salju\"}, {\"fpd.kode_rekening\": \"4.1.1.8.15.1\", \"fpd.terget_realita\": 0.0, \"fpd.totrealisasi_after\": 22312500.0, \"fpd.persetarget_all\": 100.0, \"dr.nama_rek\": \"Pajak Rekreasi Wahana Salju\"}, {\"fpd.kode_rekening\": \"4.1.1.8.16\", \"fpd.terget_realita\": 0.0, \"fpd.totrealisasi_after\": 0.0, \"fpd.persetarget_all\": 0.0, \"dr.nama_rek\": \"Pajak Rekreasi Wahana Permainan\"}, {\"fpd.kode_rekening\": \"4.1.1.8.16.1\", \"fpd.terget_realita\": 0.0, \"fpd.totrealisasi_after\": 0.0, \"fpd.persetarget_all\": 0.0, \"dr.nama_rek\": \"Pajak Rekreasi Wahana Permainan\"}, {\"fpd.kode_rekening\": \"4.1.1.8.17\", \"fpd.terget_realita\": 0.0, \"fpd.totrealisasi_after\": 0.0, \"fpd.persetarget_all\": 0.0, \"dr.nama_rek\": \"Pajak Pemancingan\"}, {\"fpd.kode_rekening\": \"4.1.1.8.17.1\", \"fpd.terget_realita\": 0.0, \"fpd.totrealisasi_after\": 0.0, \"fpd.persetarget_all\": 0.0, \"dr.nama_rek\": \"Pajak Pemancingan\"}, {\"fpd.kode_rekening\": \"4.1.1.8.18\", \"fpd.terget_realita\": 0.0, \"fpd.totrealisasi_after\": 0.0, \"fpd.persetarget_all\": 0.0, \"dr.nama_rek\": \"Pajak Argowisata\"}, {\"fpd.kode_rekening\": \"4.1.1.8.18.1\", \"fpd.terget_realita\": 0.0, \"fpd.totrealisasi_after\": 0.0, \"fpd.persetarget_all\": 0.0, \"dr.nama_rek\": \"Pajak Argowisata\"}, {\"fpd.kode_rekening\": \"4.1.1.8.19\", \"fpd.terget_realita\": 0.0, \"fpd.totrealisasi_after\": 0.0, \"fpd.persetarget_all\": 0.0, \"dr.nama_rek\": \"Pajak Kebun Binatang\"}, {\"fpd.kode_rekening\": \"4.1.1.8.19.1\", \"fpd.terget_realita\": 0.0, \"fpd.totrealisasi_after\": 0.0, \"fpd.persetarget_all\": 0.0, \"dr.nama_rek\": \"Pajak Kebun Binatang\"}, {\"fpd.kode_rekening\": \"4.1.1.8.20\", \"fpd.terget_realita\": 0.0, \"fpd.totrealisasi_after\": 0.0, \"fpd.persetarget_all\": 0.0, \"dr.nama_rek\": \"Pajak Tempat Olah Raga Dan Kebugaran\"}, {\"fpd.kode_rekening\": \"4.1.1.8.20.1\", \"fpd.terget_realita\": 0.0, \"fpd.totrealisasi_after\": 0.0, \"fpd.persetarget_all\": 0.0, \"dr.nama_rek\": \"Pajak Tempat Olah Raga Dan Kebugaran\"}, {\"fpd.kode_rekening\": \"4.1.1.9\", \"fpd.terget_realita\": 10000000000.0, \"fpd.totrealisasi_after\": 4773577403.0, \"fpd.persetarget_all\": 47.73577403, \"dr.nama_rek\": \"Pajak Reklame\"}, {\"fpd.kode_rekening\": \"4.1.1.9.1\", \"fpd.terget_realita\": 9450000000.0, \"fpd.totrealisasi_after\": 4240176386.0, \"fpd.persetarget_all\": 44.869591386243386, \"dr.nama_rek\": \"Pajak Reklame Papan/Billboard/Videotron/Megatron\"}, {\"fpd.kode_rekening\": \"4.1.1.9.1.1\", \"fpd.terget_realita\": 9450000000.0, \"fpd.totrealisasi_after\": 4240176386.0, \"fpd.persetarget_all\": 44.869591386243386, \"dr.nama_rek\": \"Pajak Reklame Papan/Billboard/Videotron/ Megatron\"}, {\"fpd.kode_rekening\": \"4.1.1.9.2\", \"fpd.terget_realita\": 300000000.0, \"fpd.totrealisasi_after\": 427063517.0, \"fpd.persetarget_all\": 142.35450566666668, \"dr.nama_rek\": \"Pajak Reklame Kain\"}, {\"fpd.kode_rekening\": \"4.1.1.9.2.1\", \"fpd.terget_realita\": 300000000.0, \"fpd.totrealisasi_after\": 427063517.0, \"fpd.persetarget_all\": 142.35450566666668, \"dr.nama_rek\": \"Pajak Reklame Kain\"}, {\"fpd.kode_rekening\": \"4.1.1.9.3\", \"fpd.terget_realita\": 0.0, \"fpd.totrealisasi_after\": 0.0, \"fpd.persetarget_all\": 0.0, \"dr.nama_rek\": \"Pajak Reklame Melekat/Stiker\"}, {\"fpd.kode_rekening\": \"4.1.1.9.3.1\", \"fpd.terget_realita\": 0.0, \"fpd.totrealisasi_after\": 0.0, \"fpd.persetarget_all\": 0.0, \"dr.nama_rek\": \"Pajak Reklame Melekat/Stiker\"}, {\"fpd.kode_rekening\": \"4.1.1.9.4\", \"fpd.terget_realita\": 0.0, \"fpd.totrealisasi_after\": 0.0, \"fpd.persetarget_all\": 0.0, \"dr.nama_rek\": \"Pajak Reklame Selebaran\"}, {\"fpd.kode_rekening\": \"4.1.1.9.4.1\", \"fpd.terget_realita\": 0.0, \"fpd.totrealisasi_after\": 0.0, \"fpd.persetarget_all\": 0.0, \"dr.nama_rek\": \"Pajak Reklame Selebaran\"}, {\"fpd.kode_rekening\": \"4.1.1.9.5\", \"fpd.terget_realita\": 150000000.0, \"fpd.totrealisasi_after\": 64037500.0, \"fpd.persetarget_all\": 42.69166666666667, \"dr.nama_rek\": \"Pajak Reklame Berjalan\"}, {\"fpd.kode_rekening\": \"4.1.1.9.5.1\", \"fpd.terget_realita\": 150000000.0, \"fpd.totrealisasi_after\": 64037500.0, \"fpd.persetarget_all\": 42.69166666666667, \"dr.nama_rek\": \"Pajak Reklame Berjalan\"}, {\"fpd.kode_rekening\": \"4.1.1.9.6\", \"fpd.terget_realita\": 0.0, \"fpd.totrealisasi_after\": 0.0, \"fpd.persetarget_all\": 0.0, \"dr.nama_rek\": \"Pajak Reklame Udara\"}, {\"fpd.kode_rekening\": \"4.1.1.9.6.1\", \"fpd.terget_realita\": 0.0, \"fpd.totrealisasi_after\": 0.0, \"fpd.persetarget_all\": 0.0, \"dr.nama_rek\": \"Pajak Reklame Udara\"}, {\"fpd.kode_rekening\": \"4.1.1.9.7\", \"fpd.terget_realita\": 0.0, \"fpd.totrealisasi_after\": 0.0, \"fpd.persetarget_all\": 0.0, \"dr.nama_rek\": \"Pajak Reklame Apung\"}, {\"fpd.kode_rekening\": \"4.1.1.9.7.1\", \"fpd.terget_realita\": 0.0, \"fpd.totrealisasi_after\": 0.0, \"fpd.persetarget_all\": 0.0, \"dr.nama_rek\": \"Pajak Reklame Apung\"}, {\"fpd.kode_rekening\": \"4.1.1.9.8\", \"fpd.terget_realita\": 0.0, \"fpd.totrealisasi_after\": 0.0, \"fpd.persetarget_all\": 0.0, \"dr.nama_rek\": \"Pajak Reklame Suara\"}, {\"fpd.kode_rekening\": \"4.1.1.9.8.1\", \"fpd.terget_realita\": 0.0, \"fpd.totrealisasi_after\": 0.0, \"fpd.persetarget_all\": 0.0, \"dr.nama_rek\": \"Pajak Reklame Suara\"}, {\"fpd.kode_rekening\": \"4.1.1.9.9\", \"fpd.terget_realita\": 100000000.0, \"fpd.totrealisasi_after\": 42300000.0, \"fpd.persetarget_all\": 42.3, \"dr.nama_rek\": \"Pajak Reklame Film/Slide\"}, {\"fpd.kode_rekening\": \"4.1.1.9.9.1\", \"fpd.terget_realita\": 100000000.0, \"fpd.totrealisasi_after\": 42300000.0, \"fpd.persetarget_all\": 42.3, \"dr.nama_rek\": \"Pajak Reklame Film/Slide\"}, {\"fpd.kode_rekening\": \"4.1.1.9.10\", \"fpd.terget_realita\": 0.0, \"fpd.totrealisasi_after\": 0.0, \"fpd.persetarget_all\": 0.0, \"dr.nama_rek\": \"Pajak Reklame Peragaan\"}, {\"fpd.kode_rekening\": \"4.1.1.9.10.1\", \"fpd.terget_realita\": 0.0, \"fpd.totrealisasi_after\": 0.0, \"fpd.persetarget_all\": 0.0, \"dr.nama_rek\": \"Pajak Reklame Peragaan\"}, {\"fpd.kode_rekening\": \"4.1.1.10\", \"fpd.terget_realita\": 120000000000.0, \"fpd.totrealisasi_after\": 85974277820.0, \"fpd.persetarget_all\": 71.64523151666667, \"dr.nama_rek\": \"Pajak Tenaga Listrik\"}, {\"fpd.kode_rekening\": \"4.1.1.10.1\", \"fpd.terget_realita\": 119600000000.0, \"fpd.totrealisasi_after\": 85958036308.0, \"fpd.persetarget_all\": 71.8712678160535, \"dr.nama_rek\": \"Pajak Tenaga Listrik Dihasilkan Sendiri\"}, {\"fpd.kode_rekening\": \"4.1.1.10.1.1\", \"fpd.terget_realita\": 119600000000.0, \"fpd.totrealisasi_after\": 85958036308.0, \"fpd.persetarget_all\": 71.8712678160535, \"dr.nama_rek\": \"Pajak Tenaga Listrik Dihasilkan Sendiri\"}, {\"fpd.kode_rekening\": \"4.1.1.10.2\", \"fpd.terget_realita\": 400000000.0, \"fpd.totrealisasi_after\": 16241512.0, \"fpd.persetarget_all\": 4.060378, \"dr.nama_rek\": \"Pajak Tenaga Listrik Sumber Lain\"}, {\"fpd.kode_rekening\": \"4.1.1.10.2.1\", \"fpd.terget_realita\": 400000000.0, \"fpd.totrealisasi_after\": 16241512.0, \"fpd.persetarget_all\": 4.060378, \"dr.nama_rek\": \"Pajak Tenaga Listrik Sumber Lain\"}, {\"fpd.kode_rekening\": \"4.1.1.10.2.1.1\", \"fpd.terget_realita\": 200000000.0, \"fpd.totrealisasi_after\": 16241512.0, \"fpd.persetarget_all\": 8.120756, \"dr.nama_rek\": \"01. Genset\"}, {\"fpd.kode_rekening\": \"4.1.1.10.2.1.2\", \"fpd.terget_realita\": 200000000.0, \"fpd.totrealisasi_after\": 0.0, \"fpd.persetarget_all\": 0.0, \"dr.nama_rek\": \"02. Industri\"}, {\"fpd.kode_rekening\": \"4.1.1.11\", \"fpd.terget_realita\": 4500000000.0, \"fpd.totrealisasi_after\": 4658001083.0, \"fpd.persetarget_all\": 103.51113517777777, \"dr.nama_rek\": \"Pajak Parkir\"}, {\"fpd.kode_rekening\": \"4.1.1.11.1\", \"fpd.terget_realita\": 4500000000.0, \"fpd.totrealisasi_after\": 4658001083.0, \"fpd.persetarget_all\": 103.51113517777777, \"dr.nama_rek\": \"Pajak Parkir\"}, {\"fpd.kode_rekening\": \"4.1.1.11.1.1\", \"fpd.terget_realita\": 4500000000.0, \"fpd.totrealisasi_after\": 4658001083.0, \"fpd.persetarget_all\": 103.51113517777777, \"dr.nama_rek\": \"Pajak Parkir\"}, {\"fpd.kode_rekening\": \"4.1.1.11.1.1.1\", \"fpd.terget_realita\": 2850000000.0, \"fpd.totrealisasi_after\": 3336146933.0, \"fpd.persetarget_all\": 117.05778712280701, \"dr.nama_rek\": \"01. Pusat Perbelanjaan/ Mall\"}, {\"fpd.kode_rekening\": \"4.1.1.11.1.1.2\", \"fpd.terget_realita\": 1175000000.0, \"fpd.totrealisasi_after\": 1202539306.0, \"fpd.persetarget_all\": 102.34377072340426, \"dr.nama_rek\": \"02. Lain - lain\"}, {\"fpd.kode_rekening\": \"4.1.1.11.1.1.3\", \"fpd.terget_realita\": 475000000.0, \"fpd.totrealisasi_after\": 119314844.0, \"fpd.persetarget_all\": 25.118914526315788, \"dr.nama_rek\": \"03. Cuma-Cuma\"}, {\"fpd.kode_rekening\": \"4.1.1.12\", \"fpd.terget_realita\": 280000000.0, \"fpd.totrealisasi_after\": 154532690.0, \"fpd.persetarget_all\": 55.190246428571434, \"dr.nama_rek\": \"Pajak Air Tanah\"}, {\"fpd.kode_rekening\": \"4.1.1.12.1\", \"fpd.terget_realita\": 280000000.0, \"fpd.totrealisasi_after\": 154532690.0, \"fpd.persetarget_all\": 55.190246428571434, \"dr.nama_rek\": \"Pajak Air Tanah\"}, {\"fpd.kode_rekening\": \"4.1.1.12.1.1\", \"fpd.terget_realita\": 280000000.0, \"fpd.totrealisasi_after\": 154532690.0, \"fpd.persetarget_all\": 55.190246428571434, \"dr.nama_rek\": \"Pajak Air Tanah\"}, {\"fpd.kode_rekening\": \"4.1.1.13\", \"fpd.terget_realita\": 50000000.0, \"fpd.totrealisasi_after\": 0.0, \"fpd.persetarget_all\": 0.0, \"dr.nama_rek\": \"Pajak Sarang Burung Walet\"}, {\"fpd.kode_rekening\": \"4.1.1.13.1\", \"fpd.terget_realita\": 50000000.0, \"fpd.totrealisasi_after\": 0.0, \"fpd.persetarget_all\": 0.0, \"dr.nama_rek\": \"Pajak Sarang Burung Walet\"}, {\"fpd.kode_rekening\": \"4.1.1.13.1.1\", \"fpd.terget_realita\": 50000000.0, \"fpd.totrealisasi_after\": 0.0, \"fpd.persetarget_all\": 0.0, \"dr.nama_rek\": \"Pajak Sarang Burung Walet\"}, {\"fpd.kode_rekening\": \"4.1.1.14\", \"fpd.terget_realita\": 30000000.0, \"fpd.totrealisasi_after\": 9302902.0, \"fpd.persetarget_all\": 31.009673333333332, \"dr.nama_rek\": \"Pajak Mineral Bukan Logam dan Batuan\"}, {\"fpd.kode_rekening\": \"4.1.1.14.37\", \"fpd.terget_realita\": 30000000.0, \"fpd.totrealisasi_after\": 9302902.0, \"fpd.persetarget_all\": 31.009673333333332, \"dr.nama_rek\": \"Pajak Mineral bukan Logam dan Batuan Lainnya\"}, {\"fpd.kode_rekening\": \"4.1.1.14.37.1\", \"fpd.terget_realita\": 30000000.0, \"fpd.totrealisasi_after\": 9302902.0, \"fpd.persetarget_all\": 31.009673333333332, \"dr.nama_rek\": \"Pajak Mineral bukan Logam dan Batuan Lainnya\"}, {\"fpd.kode_rekening\": \"4.1.1.15\", \"fpd.terget_realita\": 110000000000.0, \"fpd.totrealisasi_after\": 45768920328.22, \"fpd.persetarget_all\": 41.60810938929091, \"dr.nama_rek\": \"Pajak Bumi dan Bangunan Perdesaan dan Perkotaan (PBBP2)\"}, {\"fpd.kode_rekening\": \"4.1.1.15.1\", \"fpd.terget_realita\": 110000000000.0, \"fpd.totrealisasi_after\": 45768920328.22, \"fpd.persetarget_all\": 41.60810938929091, \"dr.nama_rek\": \"PBB P2\"}, {\"fpd.kode_rekening\": \"4.1.1.15.1.1\", \"fpd.terget_realita\": 110000000000.0, \"fpd.totrealisasi_after\": 45768920328.22, \"fpd.persetarget_all\": 41.60810938929091, \"dr.nama_rek\": \"PBB P2\"}, {\"fpd.kode_rekening\": \"4.1.1.16\", \"fpd.terget_realita\": 130000000000.0, \"fpd.totrealisasi_after\": 78022721414.0, \"fpd.persetarget_all\": 60.01747801076923, \"dr.nama_rek\": \"Bea Perolehan Hak Atas Tanah dan Bangunan (BPHTB)\"}, {\"fpd.kode_rekening\": \"4.1.1.16.1\", \"fpd.terget_realita\": 0.0, \"fpd.totrealisasi_after\": 0.0, \"fpd.persetarget_all\": 0.0, \"dr.nama_rek\": \"BPHTB - Pemindahan Hak\"}, {\"fpd.kode_rekening\": \"4.1.1.16.1.1\", \"fpd.terget_realita\": 0.0, \"fpd.totrealisasi_after\": 0.0, \"fpd.persetarget_all\": 0.0, \"dr.nama_rek\": \"BPHTB - Pemindahan Hak\"}, {\"fpd.kode_rekening\": \"4.1.1.16.2\", \"fpd.terget_realita\": 130000000000.0, \"fpd.totrealisasi_after\": 78022721414.0, \"fpd.persetarget_all\": 60.01747801076923, \"dr.nama_rek\": \"BPHTB-Pemberian Hak Baru\"}, {\"fpd.kode_rekening\": \"4.1.1.16.2.1\", \"fpd.terget_realita\": 130000000000.0, \"fpd.totrealisasi_after\": 78022721414.0, \"fpd.persetarget_all\": 60.01747801076923, \"dr.nama_rek\": \"BPHTB-Pemberian Hak Baru\"}, {\"fpd.kode_rekening\": \"4.1.2\", \"fpd.terget_realita\": 150557778000.0, \"fpd.totrealisasi_after\": 105813856641.03, \"fpd.persetarget_all\": 70.28122893858728, \"dr.nama_rek\": \"Hasil Retribusi Daerah\"}, {\"fpd.kode_rekening\": \"4.1.2.1\", \"fpd.terget_realita\": 138072700000.0, \"fpd.totrealisasi_after\": 97703865210.03, \"fpd.persetarget_all\": 70.76262375547809, \"dr.nama_rek\": \"Retribusi Jasa Umum\"}, {\"fpd.kode_rekening\": \"4.1.2.1.1\", \"fpd.terget_realita\": 100192500000.0, \"fpd.totrealisasi_after\": 76221112224.65, \"fpd.persetarget_all\": 76.07466848781095, \"dr.nama_rek\": \"Retribusi Pelayanan Kesehatan\"}, {\"fpd.kode_rekening\": \"4.1.2.1.1.1\", \"fpd.terget_realita\": 192500000.0, \"fpd.totrealisasi_after\": 242407400.0, \"fpd.persetarget_all\": 125.92592207792208, \"dr.nama_rek\": \"Retribusi Pelayanan Kesehatan di Puskesmas\"}, {\"fpd.kode_rekening\": \"4.1.2.1.1.7\", \"fpd.terget_realita\": 100000000000.0, \"fpd.totrealisasi_after\": 75978704824.65, \"fpd.persetarget_all\": 75.97870482465, \"dr.nama_rek\": \"Pendapatan BLUD\"}, {\"fpd.kode_rekening\": \"4.1.2.1.1.7.1\", \"fpd.terget_realita\": 70000000000.0, \"fpd.totrealisasi_after\": 45665040697.09, \"fpd.persetarget_all\": 65.23577242441428, \"dr.nama_rek\": \"01. RSUD IA. Moies\"}, {\"fpd.kode_rekening\": \"4.1.2.1.1.7.2\", \"fpd.terget_realita\": 30000000000.0, \"fpd.totrealisasi_after\": 30313664127.56, \"fpd.persetarget_all\": 101.04554709186667, \"dr.nama_rek\": \"02. PUSKESMAS\"}, {\"fpd.kode_rekening\": \"4.1.2.1.2\", \"fpd.terget_realita\": 25000000000.0, \"fpd.totrealisasi_after\": 17690700769.38, \"fpd.persetarget_all\": 70.76280307752, \"dr.nama_rek\": \"Retribusi Pelayanan Persampahan/ Kebersihan\"}, {\"fpd.kode_rekening\": \"4.1.2.1.2.1\", \"fpd.terget_realita\": 25000000000.0, \"fpd.totrealisasi_after\": 17690700769.38, \"fpd.persetarget_all\": 70.76280307752, \"dr.nama_rek\": \"Retribusi Pelayanan Persampahan/ Kebersihan\"}, {\"fpd.kode_rekening\": \"4.1.2.1.3\", \"fpd.terget_realita\": 0.0, \"fpd.totrealisasi_after\": 0.0, \"fpd.persetarget_all\": 0.0, \"dr.nama_rek\": \"Retribusi Pelayanan Pemakaman dan Pengabuan Mayat\"}, {\"fpd.kode_rekening\": \"4.1.2.1.3.1\", \"fpd.terget_realita\": 0.0, \"fpd.totrealisasi_after\": 0.0, \"fpd.persetarget_all\": 0.0, \"dr.nama_rek\": \"Retribusi Pelayanan Penguburan/Pemakaman termasuk Penggalian dan Pengurukan serta Pembakaran/Pengabuan Mayat\"}, {\"fpd.kode_rekening\": \"4.1.2.1.3.2\", \"fpd.terget_realita\": 0.0, \"fpd.totrealisasi_after\": 0.0, \"fpd.persetarget_all\": 0.0, \"dr.nama_rek\": \"Retribusi Sewa Tempat Pemakaman atau Pembakaran/Pengabuan Mayat\"}, {\"fpd.kode_rekening\": \"4.1.2.1.4\", \"fpd.terget_realita\": 5380000000.0, \"fpd.totrealisasi_after\": 1320439616.0, \"fpd.persetarget_all\": 24.54348728624535, \"dr.nama_rek\": \"Retribusi Pelayanan Parkir di Tepi Jalan Umum\"}, {\"fpd.kode_rekening\": \"4.1.2.1.4.1\", \"fpd.terget_realita\": 5380000000.0, \"fpd.totrealisasi_after\": 1320439616.0, \"fpd.persetarget_all\": 24.54348728624535, \"dr.nama_rek\": \"Retribusi Penyediaan Pelayanan Parkir di Tepi Jalan Umum\"}, {\"fpd.kode_rekening\": \"4.1.2.1.5\", \"fpd.terget_realita\": 7400000000.0, \"fpd.totrealisasi_after\": 2358422000.0, \"fpd.persetarget_all\": 31.870567567567566, \"dr.nama_rek\": \"Retribusi Pelayanan Pasar\"}, {\"fpd.kode_rekening\": \"4.1.2.1.5.1\", \"fpd.terget_realita\": 7400000000.0, \"fpd.totrealisasi_after\": 2358422000.0, \"fpd.persetarget_all\": 31.870567567567566, \"dr.nama_rek\": \"Retribusi Pelayanan Pasar\"}, {\"fpd.kode_rekening\": \"4.1.2.1.6\", \"fpd.terget_realita\": 0.0, \"fpd.totrealisasi_after\": 0.0, \"fpd.persetarget_all\": 0.0, \"dr.nama_rek\": \"Retribusi Pengujian Kendaraan Bermotor\"}, {\"fpd.kode_rekening\": \"4.1.2.1.6.1\", \"fpd.terget_realita\": 0.0, \"fpd.totrealisasi_after\": 0.0, \"fpd.persetarget_all\": 0.0, \"dr.nama_rek\": \"Retribusi Pengujian Kendaraan Bermotor\"}, {\"fpd.kode_rekening\": \"4.1.2.1.6.1.1\", \"fpd.terget_realita\": 0.0, \"fpd.totrealisasi_after\": 0.0, \"fpd.persetarget_all\": 0.0, \"dr.nama_rek\": \"Retribusi Pengujian Kendaraan Bermotor Diatas Air\"}, {\"fpd.kode_rekening\": \"4.1.2.1.7\", \"fpd.terget_realita\": 0.0, \"fpd.totrealisasi_after\": 3470000.0, \"fpd.persetarget_all\": 100.0, \"dr.nama_rek\": \"Retribusi Pemeriksaan Alat Pemadam Kebakaran\"}, {\"fpd.kode_rekening\": \"4.1.2.1.7.1\", \"fpd.terget_realita\": 0.0, \"fpd.totrealisasi_after\": 3470000.0, \"fpd.persetarget_all\": 100.0, \"dr.nama_rek\": \"Retribusi Pelayanan Pemeriksaan dan/atau Pengujian Alat Pemadam Kebakaran\"}, {\"fpd.kode_rekening\": \"4.1.2.1.7.2\", \"fpd.terget_realita\": 0.0, \"fpd.totrealisasi_after\": 0.0, \"fpd.persetarget_all\": 0.0, \"dr.nama_rek\": \"Retribusi Pelayanan Pemeriksaan dan/atau Pengujian Alat Penanggulangan Kebakaran\"}, {\"fpd.kode_rekening\": \"4.1.2.1.7.3\", \"fpd.terget_realita\": 0.0, \"fpd.totrealisasi_after\": 0.0, \"fpd.persetarget_all\": 0.0, \"dr.nama_rek\": \"Retribusi Pelayanan Pemeriksaan dan/atau Pengujian Alat Penyelamatan Jiwa\"}, {\"fpd.kode_rekening\": \"4.1.2.1.8\", \"fpd.terget_realita\": 0.0, \"fpd.totrealisasi_after\": 0.0, \"fpd.persetarget_all\": 0.0, \"dr.nama_rek\": \"Retribusi Penggantian Biaya Cetak Peta\"}, {\"fpd.kode_rekening\": \"4.1.2.1.8.1\", \"fpd.terget_realita\": 0.0, \"fpd.totrealisasi_after\": 0.0, \"fpd.persetarget_all\": 0.0, \"dr.nama_rek\": \"Retribusi Penyediaan Peta Dasar (Garis)\"}, {\"fpd.kode_rekening\": \"4.1.2.1.8.2\", \"fpd.terget_realita\": 0.0, \"fpd.totrealisasi_after\": 0.0, \"fpd.persetarget_all\": 0.0, \"dr.nama_rek\": \"Retribusi Penyediaan Peta Foto\"}, {\"fpd.kode_rekening\": \"4.1.2.1.8.3\", \"fpd.terget_realita\": 0.0, \"fpd.totrealisasi_after\": 0.0, \"fpd.persetarget_all\": 0.0, \"dr.nama_rek\": \"Retribusi Penyediaan Peta Digital\"}, {\"fpd.kode_rekening\": \"4.1.2.1.8.4\", \"fpd.terget_realita\": 0.0, \"fpd.totrealisasi_after\": 0.0, \"fpd.persetarget_all\": 0.0, \"dr.nama_rek\": \"Retribusi Penyediaan Peta Tematik\"}, {\"fpd.kode_rekening\": \"4.1.2.1.8.5\", \"fpd.terget_realita\": 0.0, \"fpd.totrealisasi_after\": 0.0, \"fpd.persetarget_all\": 0.0, \"dr.nama_rek\": \"Retribusi Penyediaan Peta Teknis (Struktur)\"}, {\"fpd.kode_rekening\": \"4.1.2.1.9\", \"fpd.terget_realita\": 100200000.0, \"fpd.totrealisasi_after\": 101275000.0, \"fpd.persetarget_all\": 101.07285429141717, \"dr.nama_rek\": \"Retribusi Penyediaan dan/atau Penyedotan Kakus\"}, {\"fpd.kode_rekening\": \"4.1.2.1.9.1\", \"fpd.terget_realita\": 100200000.0, \"fpd.totrealisasi_after\": 101275000.0, \"fpd.persetarget_all\": 101.07285429141717, \"dr.nama_rek\": \"Retribusi Penyediaan dan/atau Penyedotan Kakus\"}, {\"fpd.kode_rekening\": \"4.1.2.1.9.1.3\", \"fpd.terget_realita\": 100200000.0, \"fpd.totrealisasi_after\": 101275000.0, \"fpd.persetarget_all\": 101.07285429141717, \"dr.nama_rek\": \"Retribusi Penyediaan dan/atau Penyedotan Kakus\"}, {\"fpd.kode_rekening\": \"4.1.2.1.10\", \"fpd.terget_realita\": 0.0, \"fpd.totrealisasi_after\": 0.0, \"fpd.persetarget_all\": 0.0, \"dr.nama_rek\": \"Retribusi Pengelolahan Limbah Cair\"}, {\"fpd.kode_rekening\": \"4.1.2.1.10.1\", \"fpd.terget_realita\": 0.0, \"fpd.totrealisasi_after\": 0.0, \"fpd.persetarget_all\": 0.0, \"dr.nama_rek\": \"Retribusi Rumah Tangga\"}, {\"fpd.kode_rekening\": \"4.1.2.1.10.2\", \"fpd.terget_realita\": 0.0, \"fpd.totrealisasi_after\": 0.0, \"fpd.persetarget_all\": 0.0, \"dr.nama_rek\": \"Retribusi Perkantoran\"}, {\"fpd.kode_rekening\": \"4.1.2.1.10.3\", \"fpd.terget_realita\": 0.0, \"fpd.totrealisasi_after\": 0.0, \"fpd.persetarget_all\": 0.0, \"dr.nama_rek\": \"Retribusi Industri\"}, {\"fpd.kode_rekening\": \"4.1.2.1.11\", \"fpd.terget_realita\": 0.0, \"fpd.totrealisasi_after\": 8445600.0, \"fpd.persetarget_all\": 100.0, \"dr.nama_rek\": \"Retribusi Pelayanan Tera/Tera Ulang\"}, {\"fpd.kode_rekening\": \"4.1.2.1.11.1\", \"fpd.terget_realita\": 0.0, \"fpd.totrealisasi_after\": 8445600.0, \"fpd.persetarget_all\": 100.0, \"dr.nama_rek\": \"Retribusi Pelayanan Pengujian Alat-Alat Ukur, Takar, Timbang, dan Perlengkapannya\"}, {\"fpd.kode_rekening\": \"4.1.2.1.11.2\", \"fpd.terget_realita\": 0.0, \"fpd.totrealisasi_after\": 0.0, \"fpd.persetarget_all\": 0.0, \"dr.nama_rek\": \"Retribusi Pengujian Barang dalam Keadaan Terbungkus\"}, {\"fpd.kode_rekening\": \"4.1.2.1.12\", \"fpd.terget_realita\": 0.0, \"fpd.totrealisasi_after\": 0.0, \"fpd.persetarget_all\": 0.0, \"dr.nama_rek\": \"Retribusi Pelayanan Pendidikan\"}, {\"fpd.kode_rekening\": \"4.1.2.1.12.1\", \"fpd.terget_realita\": 0.0, \"fpd.totrealisasi_after\": 0.0, \"fpd.persetarget_all\": 0.0, \"dr.nama_rek\": \"Retribusi Pelayanan Penyelenggaraan Pendidikan Teknis\"}, {\"fpd.kode_rekening\": \"4.1.2.1.12.2\", \"fpd.terget_realita\": 0.0, \"fpd.totrealisasi_after\": 0.0, \"fpd.persetarget_all\": 0.0, \"dr.nama_rek\": \"Retribusi Pelayanan Penyelenggaraan Pelatihan Teknis\"}, {\"fpd.kode_rekening\": \"4.1.2.1.12.3\", \"fpd.terget_realita\": 0.0, \"fpd.totrealisasi_after\": 0.0, \"fpd.persetarget_all\": 0.0, \"dr.nama_rek\": \"Retribusi Pelayanan Penyelenggaraan Pendidikan dan Pelatihan Teknis\"}, {\"fpd.kode_rekening\": \"4.1.2.1.13\", \"fpd.terget_realita\": 0.0, \"fpd.totrealisasi_after\": 0.0, \"fpd.persetarget_all\": 0.0, \"dr.nama_rek\": \"Retribusi Pengawasan dan Pengendalian Menara Telekomunikasi\"}, {\"fpd.kode_rekening\": \"4.1.2.1.13.1\", \"fpd.terget_realita\": 0.0, \"fpd.totrealisasi_after\": 0.0, \"fpd.persetarget_all\": 0.0, \"dr.nama_rek\": \"Retribusi Pengawasan dan Pengendalian Menara Telekomunikasi\"}, {\"fpd.kode_rekening\": \"4.1.2.2\", \"fpd.terget_realita\": 10225078000.0, \"fpd.totrealisasi_after\": 4953045390.0, \"fpd.persetarget_all\": 48.440172192329484, \"dr.nama_rek\": \"Retribusi Jasa Usaha\"}, {\"fpd.kode_rekening\": \"4.1.2.2.1\", \"fpd.terget_realita\": 7374100000.0, \"fpd.totrealisasi_after\": 1834138206.0, \"fpd.persetarget_all\": 24.87270590309326, \"dr.nama_rek\": \"Retribusi Pemakaian Kekayaan Daerah\"}, {\"fpd.kode_rekening\": \"4.1.2.2.1.1\", \"fpd.terget_realita\": 0.0, \"fpd.totrealisasi_after\": 0.0, \"fpd.persetarget_all\": 0.0, \"dr.nama_rek\": \"Retribusi Penyewaan Tanah dan Bangunan\"}, {\"fpd.kode_rekening\": \"4.1.2.2.1.2\", \"fpd.terget_realita\": 5400000000.0, \"fpd.totrealisasi_after\": 462037250.0, \"fpd.persetarget_all\": 8.55624537037037, \"dr.nama_rek\": \"Retribusi Penyewaan Tanah\"}, {\"fpd.kode_rekening\": \"4.1.2.2.1.2.1\", \"fpd.terget_realita\": 400000000.0, \"fpd.totrealisasi_after\": 230374750.0, \"fpd.persetarget_all\": 57.5936875, \"dr.nama_rek\": \"01.1 Sewa Tanah Milik Pemerintah/BPKAD\"}, {\"fpd.kode_rekening\": \"4.1.2.2.1.2.2\", \"fpd.terget_realita\": 0.0, \"fpd.totrealisasi_after\": 21662500.0, \"fpd.persetarget_all\": 100.0, \"dr.nama_rek\": \"01.01 Sewa Tanah Milik Pemerintah/DISHUB\"}, {\"fpd.kode_rekening\": \"4.1.2.2.1.2.3\", \"fpd.terget_realita\": 5000000000.0, \"fpd.totrealisasi_after\": 210000000.0, \"fpd.persetarget_all\": 4.2, \"dr.nama_rek\": \"01.02.Retribusi Pemakaian Tanah Di Atas HPL Milik Pemkot Samarinda\"}, {\"fpd.kode_rekening\": \"4.1.2.2.1.2.4\", \"fpd.terget_realita\": 0.0, \"fpd.totrealisasi_after\": 0.0, \"fpd.persetarget_all\": 0.0, \"dr.nama_rek\": \"01.03. Retribusi sewa kios/petak/los- Dinas Perdagangan\"}, {\"fpd.kode_rekening\": \"4.1.2.2.1.3\", \"fpd.terget_realita\": 1229100000.0, \"fpd.totrealisasi_after\": 595167139.0, \"fpd.persetarget_all\": 48.42300374257587, \"dr.nama_rek\": \"Retribusi Penyewaan Bangunan\"}, {\"fpd.kode_rekening\": \"4.1.2.2.1.3.1\", \"fpd.terget_realita\": 96500000.0, \"fpd.totrealisasi_after\": 17000000.0, \"fpd.persetarget_all\": 17.616580310880828, \"dr.nama_rek\": \"01. Gedung Olahraga Segiri\"}, {\"fpd.kode_rekening\": \"4.1.2.2.1.3.2\", \"fpd.terget_realita\": 195000000.0, \"fpd.totrealisasi_after\": 119000000.0, \"fpd.persetarget_all\": 61.02564102564103, \"dr.nama_rek\": \"02. Sewa Lapangan Parkir Gedung Olahraga Segiri\"}, {\"fpd.kode_rekening\": \"4.1.2.2.1.3.3\", \"fpd.terget_realita\": 886000000.0, \"fpd.totrealisasi_after\": 254000000.0, \"fpd.persetarget_all\": 28.66817155756208, \"dr.nama_rek\": \"03. Stadion Segiri\"}, {\"fpd.kode_rekening\": \"4.1.2.2.1.3.4\", \"fpd.terget_realita\": 30000000.0, \"fpd.totrealisasi_after\": 90000000.0, \"fpd.persetarget_all\": 300.0, \"dr.nama_rek\": \"04. Sirkuit Kalan\"}, {\"fpd.kode_rekening\": \"4.1.2.2.1.3.5\", \"fpd.terget_realita\": 21600000.0, \"fpd.totrealisasi_after\": 0.0, \"fpd.persetarget_all\": 0.0, \"dr.nama_rek\": \"05. Rumah Dinas\"}, {\"fpd.kode_rekening\": \"4.1.2.2.1.3.6\", \"fpd.terget_realita\": 0.0, \"fpd.totrealisasi_after\": 115167139.0, \"fpd.persetarget_all\": 100.0, \"dr.nama_rek\": \"* Pasar (Pemanfaatan Aset Daerah)\"}, {\"fpd.kode_rekening\": \"4.1.4.22.1.1\", \"fpd.terget_realita\": 0.0, \"fpd.totrealisasi_after\": 0.0, \"fpd.persetarget_all\": 0.0, \"dr.nama_rek\": \"Pendapatan Zakat\"}, {\"fpd.kode_rekening\": \"4.1.2.2.1.4\", \"fpd.terget_realita\": 0.0, \"fpd.totrealisasi_after\": 0.0, \"fpd.persetarget_all\": 0.0, \"dr.nama_rek\": \"Retribusi Pemakaian Laboratorium\"}, {\"fpd.kode_rekening\": \"4.1.2.2.1.5\", \"fpd.terget_realita\": 630000000.0, \"fpd.totrealisasi_after\": 713843817.0, \"fpd.persetarget_all\": 113.30854238095239, \"dr.nama_rek\": \"Retribusi Pemakaian Ruangan\"}, {\"fpd.kode_rekening\": \"4.1.2.2.1.5.1\", \"fpd.terget_realita\": 630000000.0, \"fpd.totrealisasi_after\": 713843817.0, \"fpd.persetarget_all\": 113.30854238095239, \"dr.nama_rek\": \"01. Retr. Pemakaian  Aset Daerah Berjualan Dalam Pasar (Disdag)\"}, {\"fpd.kode_rekening\": \"4.1.2.2.1.6\", \"fpd.terget_realita\": 90000000.0, \"fpd.totrealisasi_after\": 48750000.0, \"fpd.persetarget_all\": 54.166666666666664, \"dr.nama_rek\": \"Retribusi Pemakaian Kendaraan bermotor\"}, {\"fpd.kode_rekening\": \"4.1.2.2.1.6.1\", \"fpd.terget_realita\": 90000000.0, \"fpd.totrealisasi_after\": 48750000.0, \"fpd.persetarget_all\": 54.166666666666664, \"dr.nama_rek\": \"01. Bus Besar\"}, {\"fpd.kode_rekening\": \"4.1.2.2.1.6.2\", \"fpd.terget_realita\": 0.0, \"fpd.totrealisasi_after\": 0.0, \"fpd.persetarget_all\": 0.0, \"dr.nama_rek\": \"02. Bus Kecil\"}, {\"fpd.kode_rekening\": \"4.1.2.2.1.7\", \"fpd.terget_realita\": 25000000.0, \"fpd.totrealisasi_after\": 14340000.0, \"fpd.persetarget_all\": 57.36, \"dr.nama_rek\": \"Retribusi Pemakaian Alat\"}, {\"fpd.kode_rekening\": \"4.1.2.2.1.7.1\", \"fpd.terget_realita\": 0.0, \"fpd.totrealisasi_after\": 0.0, \"fpd.persetarget_all\": 0.0, \"dr.nama_rek\": \"01. Alat Laboratorium/Pengujian\"}, {\"fpd.kode_rekening\": \"4.1.2.2.1.7.2\", \"fpd.terget_realita\": 0.0, \"fpd.totrealisasi_after\": 0.0, \"fpd.persetarget_all\": 0.0, \"dr.nama_rek\": \"02. Alat Survey/Pengukuran\"}, {\"fpd.kode_rekening\": \"4.1.2.2.1.7.3\", \"fpd.terget_realita\": 25000000.0, \"fpd.totrealisasi_after\": 14340000.0, \"fpd.persetarget_all\": 57.36, \"dr.nama_rek\": \"03. Alat Berat\"}, {\"fpd.kode_rekening\": \"4.1.2.2.2\", \"fpd.terget_realita\": 0.0, \"fpd.totrealisasi_after\": 0.0, \"fpd.persetarget_all\": 0.0, \"dr.nama_rek\": \"Retribusi Pasar Grosir dan/atau Perkotaan\"}, {\"fpd.kode_rekening\": \"4.1.2.2.2.1\", \"fpd.terget_realita\": 0.0, \"fpd.totrealisasi_after\": 0.0, \"fpd.persetarget_all\": 0.0, \"dr.nama_rek\": \"Retribusi Penyediaan Fasilitas Pasar Grosir Berbagai Jenis Barang yang Dikontrakkan\"}, {\"fpd.kode_rekening\": \"4.1.2.2.2.2\", \"fpd.terget_realita\": 0.0, \"fpd.totrealisasi_after\": 0.0, \"fpd.persetarget_all\": 0.0, \"dr.nama_rek\": \"Retribusi Penyediaan Fasilitas Pasar/Pertokoan yang Dikontrakkan\"}, {\"fpd.kode_rekening\": \"4.1.2.2.3\", \"fpd.terget_realita\": 308448000.0, \"fpd.totrealisasi_after\": 494294194.0, \"fpd.persetarget_all\": 160.25203405436247, \"dr.nama_rek\": \"Retribusi Tempat Pelelangan\"}, {\"fpd.kode_rekening\": \"4.1.2.2.3.1\", \"fpd.terget_realita\": 308448000.0, \"fpd.totrealisasi_after\": 44425000.0, \"fpd.persetarget_all\": 14.402751841477333, \"dr.nama_rek\": \"Retribusi Penyediaan Tempat Pelelangan\"}, {\"fpd.kode_rekening\": \"4.1.2.2.3.2\", \"fpd.terget_realita\": 0.0, \"fpd.totrealisasi_after\": 449869194.0, \"fpd.persetarget_all\": 100.0, \"dr.nama_rek\": \"Retribusi Penyediaan Fasilitas Lainnya di Tempat Pelelangan\"}, {\"fpd.kode_rekening\": \"4.1.2.2.3.2.1\", \"fpd.terget_realita\": 0.0, \"fpd.totrealisasi_after\": 0.0, \"fpd.persetarget_all\": 0.0, \"dr.nama_rek\": \"01. Retribusi sandar Kapal (setiap sandar)\"}, {\"fpd.kode_rekening\": \"4.1.2.2.3.2.2\", \"fpd.terget_realita\": 0.0, \"fpd.totrealisasi_after\": 0.0, \"fpd.persetarget_all\": 0.0, \"dr.nama_rek\": \"02. Pas Masuk untuk perorangan ke area kerja PPI (per Tahun)\"}, {\"fpd.kode_rekening\": \"4.1.2.2.3.2.3\", \"fpd.terget_realita\": 0.0, \"fpd.totrealisasi_after\": 0.0, \"fpd.persetarget_all\": 0.0, \"dr.nama_rek\": \"03. Masuk untuk kendaraan ke area TPI (setiap kali masuk)\"}, {\"fpd.kode_rekening\": \"4.1.2.2.3.2.4\", \"fpd.terget_realita\": 0.0, \"fpd.totrealisasi_after\": 449869194.0, \"fpd.persetarget_all\": 100.0, \"dr.nama_rek\": \"04. Pemakaian Fasilitas PPI untuk penjualan ikan (pendaratan ikan dan SIKPI)\"}, {\"fpd.kode_rekening\": \"4.1.2.2.3.2.5\", \"fpd.terget_realita\": 0.0, \"fpd.totrealisasi_after\": 0.0, \"fpd.persetarget_all\": 0.0, \"dr.nama_rek\": \"05. Pemakaian Lokasi PPI untuk produksi es balok\"}, {\"fpd.kode_rekening\": \"4.1.2.2.3.2.6\", \"fpd.terget_realita\": 0.0, \"fpd.totrealisasi_after\": 0.0, \"fpd.persetarget_all\": 0.0, \"dr.nama_rek\": \"06. Ret. Jasa Ruang Pendingin Ikan di PPI\"}, {\"fpd.kode_rekening\": \"4.1.2.2.4\", \"fpd.terget_realita\": 3240000.0, \"fpd.totrealisasi_after\": 0.0, \"fpd.persetarget_all\": 0.0, \"dr.nama_rek\": \"Retribusi Terminal\"}, {\"fpd.kode_rekening\": \"4.1.2.2.4.1\", \"fpd.terget_realita\": 0.0, \"fpd.totrealisasi_after\": 0.0, \"fpd.persetarget_all\": 0.0, \"dr.nama_rek\": \"Retribusi Pelayanan Penyediaan Tempat Parkir untuk Kendaraan Penumpang dan Bus Umum\"}, {\"fpd.kode_rekening\": \"4.1.2.2.4.2\", \"fpd.terget_realita\": 0.0, \"fpd.totrealisasi_after\": 0.0, \"fpd.persetarget_all\": 0.0, \"dr.nama_rek\": \"Retribusi Pelayanan Penyediaan Tempat Kegiatan Usaha\"}, {\"fpd.kode_rekening\": \"4.1.2.2.4.3\", \"fpd.terget_realita\": 3240000.0, \"fpd.totrealisasi_after\": 0.0, \"fpd.persetarget_all\": 0.0, \"dr.nama_rek\": \"Retribusi Pelayanan Penyediaan Fasilitas Lainnya di Lingkungan Terminal\"}, {\"fpd.kode_rekening\": \"4.1.2.2.5\", \"fpd.terget_realita\": 1241700000.0, \"fpd.totrealisasi_after\": 1116370741.0, \"fpd.persetarget_all\": 89.90663936538617, \"dr.nama_rek\": \"Retribusi Tempat Parkir Khusus\"}, {\"fpd.kode_rekening\": \"4.1.2.2.5.1\", \"fpd.terget_realita\": 1241700000.0, \"fpd.totrealisasi_after\": 1116370741.0, \"fpd.persetarget_all\": 89.90663936538617, \"dr.nama_rek\": \"Retribusi Pelayanan Tempat Khusus Parkir\"}, {\"fpd.kode_rekening\": \"4.1.2.2.5.1.1\", \"fpd.terget_realita\": 881700000.0, \"fpd.totrealisasi_after\": 347115000.0, \"fpd.persetarget_all\": 39.36883293637292, \"dr.nama_rek\": \"01. Untuk Parkir Dalam Area Pasar/DISDAG\"}, {\"fpd.kode_rekening\": \"4.1.2.2.5.1.2\", \"fpd.terget_realita\": 120000000.0, \"fpd.totrealisasi_after\": 40991461.0, \"fpd.persetarget_all\": 34.159550833333334, \"dr.nama_rek\": \"02. Untuk  Taman Buah Bebaya/DISHUB\"}, {\"fpd.kode_rekening\": \"4.1.2.2.5.1.3\", \"fpd.terget_realita\": 240000000.0, \"fpd.totrealisasi_after\": 21650000.0, \"fpd.persetarget_all\": 9.020833333333334, \"dr.nama_rek\": \"03. Untuk  Parkir Gor Segiri-dishub\"}, {\"fpd.kode_rekening\": \"4.1.2.2.5.1.4\", \"fpd.terget_realita\": 0.0, \"fpd.totrealisasi_after\": 2142000.0, \"fpd.persetarget_all\": 100.0, \"dr.nama_rek\": \"04. Untuk  Parkir Gor Segiri-dispora\"}, {\"fpd.kode_rekening\": \"4.1.2.2.5.1.5\", \"fpd.terget_realita\": 0.0, \"fpd.totrealisasi_after\": 10650000.0, \"fpd.persetarget_all\": 100.0, \"dr.nama_rek\": \"05. Untuk Parkir Plaza 21\"}, {\"fpd.kode_rekening\": \"4.1.2.2.5.1.6\", \"fpd.terget_realita\": 0.0, \"fpd.totrealisasi_after\": 9703000.0, \"fpd.persetarget_all\": 100.0, \"dr.nama_rek\": \"06. Untuk Parkir Pasar-Pasar\"}, {\"fpd.kode_rekening\": \"4.1.2.2.5.1.7\", \"fpd.terget_realita\": 0.0, \"fpd.totrealisasi_after\": 607760280.0, \"fpd.persetarget_all\": 100.0, \"dr.nama_rek\": \"07. Untuk Parkir RSUD IA MOEIS\"}, {\"fpd.kode_rekening\": \"4.1.2.2.5.1.8\", \"fpd.terget_realita\": 0.0, \"fpd.totrealisasi_after\": 38927000.0, \"fpd.persetarget_all\": 100.0, \"dr.nama_rek\": \"08. Untuk Parkir Pasar Merdeka\"}, {\"fpd.kode_rekening\": \"4.1.2.2.5.1.9\", \"fpd.terget_realita\": 0.0, \"fpd.totrealisasi_after\": 31391000.0, \"fpd.persetarget_all\": 100.0, \"dr.nama_rek\": \"09. Untuk Parkir Pasar Sungai Dama\"}, {\"fpd.kode_rekening\": \"4.1.2.2.5.1.10\", \"fpd.terget_realita\": 0.0, \"fpd.totrealisasi_after\": 6041000.0, \"fpd.persetarget_all\": 100.0, \"dr.nama_rek\": \"10. Untuk Parkir Taman Samarendah\"}, {\"fpd.kode_rekening\": \"4.1.2.2.5.1.11\", \"fpd.terget_realita\": 0.0, \"fpd.totrealisasi_after\": 0.0, \"fpd.persetarget_all\": 0.0, \"dr.nama_rek\": \"11. Untuk Parkir Pasar Baqa\"}, {\"fpd.kode_rekening\": \"4.1.2.2.6\", \"fpd.terget_realita\": 220000000.0, \"fpd.totrealisasi_after\": 0.0, \"fpd.persetarget_all\": 0.0, \"dr.nama_rek\": \"Retribusi Tempat Penginapan/ Pesanggrahan/Vila\"}, {\"fpd.kode_rekening\": \"4.1.2.2.6.1\", \"fpd.terget_realita\": 220000000.0, \"fpd.totrealisasi_after\": 0.0, \"fpd.persetarget_all\": 0.0, \"dr.nama_rek\": \"Retribusi Pelayanan Tempat Penginapan/ Pesanggrahan/Vila\"}, {\"fpd.kode_rekening\": \"4.1.2.2.6.1.1\", \"fpd.terget_realita\": 220000000.0, \"fpd.totrealisasi_after\": 0.0, \"fpd.persetarget_all\": 0.0, \"dr.nama_rek\": \"01. Mess Perwakilan Samarinda di Jakarta\"}, {\"fpd.kode_rekening\": \"4.1.2.2.7\", \"fpd.terget_realita\": 521790000.0, \"fpd.totrealisasi_after\": 356387940.0, \"fpd.persetarget_all\": 68.30102914965791, \"dr.nama_rek\": \"Retribusi Rumah Potong Hewan\"}, {\"fpd.kode_rekening\": \"4.1.2.2.7.1\", \"fpd.terget_realita\": 370440000.0, \"fpd.totrealisasi_after\": 299327940.0, \"fpd.persetarget_all\": 80.80335276967931, \"dr.nama_rek\": \"Retribusi Pelayanan Rumah Potong Hewan\"}, {\"fpd.kode_rekening\": \"4.1.2.2.7.1.1\", \"fpd.terget_realita\": 370440000.0, \"fpd.totrealisasi_after\": 292966740.0, \"fpd.persetarget_all\": 79.08615160349855, \"dr.nama_rek\": \"01. Pemeriksaan Kesehatan Hewan di Rumah Pemotongan Hewan\"}, {\"fpd.kode_rekening\": \"4.1.2.2.7.1.2\", \"fpd.terget_realita\": 0.0, \"fpd.totrealisasi_after\": 6361200.0, \"fpd.persetarget_all\": 100.0, \"dr.nama_rek\": \"02. Pemeriksaan Kesehatan Unggas dan/atau Daging Unggas di RPH\"}, {\"fpd.kode_rekening\": \"4.1.2.2.7.1.3\", \"fpd.terget_realita\": 0.0, \"fpd.totrealisasi_after\": 0.0, \"fpd.persetarget_all\": 0.0, \"dr.nama_rek\": \"03. Pengandangan di RPH\"}, {\"fpd.kode_rekening\": \"4.1.2.2.7.2\", \"fpd.terget_realita\": 151350000.0, \"fpd.totrealisasi_after\": 57060000.0, \"fpd.persetarget_all\": 37.700693756194255, \"dr.nama_rek\": \"Pelayanan Kesehatan untuk Hewan Ternak\"}, {\"fpd.kode_rekening\": \"4.1.2.2.8\", \"fpd.terget_realita\": 300600000.0, \"fpd.totrealisasi_after\": 799679000.0, \"fpd.persetarget_all\": 266.0276114437791, \"dr.nama_rek\": \"Retribusi Pelayanan Kepelabuhanan\"}, {\"fpd.kode_rekening\": \"4.1.2.2.8.1\", \"fpd.terget_realita\": 300600000.0, \"fpd.totrealisasi_after\": 799679000.0, \"fpd.persetarget_all\": 266.0276114437791, \"dr.nama_rek\": \"Retribusi Pelayanan Kepelabuhanan\"}, {\"fpd.kode_rekening\": \"4.1.2.2.8.1.1\", \"fpd.terget_realita\": 0.0, \"fpd.totrealisasi_after\": 0.0, \"fpd.persetarget_all\": 0.0, \"dr.nama_rek\": \"01. Laut\"}, {\"fpd.kode_rekening\": \"4.1.2.2.8.1.2\", \"fpd.terget_realita\": 0.0, \"fpd.totrealisasi_after\": 0.0, \"fpd.persetarget_all\": 0.0, \"dr.nama_rek\": \"01.1 Pelayanan Kapal\"}, {\"fpd.kode_rekening\": \"4.1.2.2.8.1.3\", \"fpd.terget_realita\": 0.0, \"fpd.totrealisasi_after\": 0.0, \"fpd.persetarget_all\": 0.0, \"dr.nama_rek\": \"01.2 Pelayanan Barang\"}, {\"fpd.kode_rekening\": \"4.1.2.2.8.1.4\", \"fpd.terget_realita\": 0.0, \"fpd.totrealisasi_after\": 0.0, \"fpd.persetarget_all\": 0.0, \"dr.nama_rek\": \"01.3 Pelayanan Lainnya\"}, {\"fpd.kode_rekening\": \"4.1.2.2.8.1.5\", \"fpd.terget_realita\": 0.0, \"fpd.totrealisasi_after\": 0.0, \"fpd.persetarget_all\": 0.0, \"dr.nama_rek\": \"02. Angkutan Sungai\"}, {\"fpd.kode_rekening\": \"4.1.2.2.8.1.6\", \"fpd.terget_realita\": 0.0, \"fpd.totrealisasi_after\": 0.0, \"fpd.persetarget_all\": 0.0, \"dr.nama_rek\": \"02.1 Tambat Kapal\"}, {\"fpd.kode_rekening\": \"4.1.2.2.8.1.7\", \"fpd.terget_realita\": 0.0, \"fpd.totrealisasi_after\": 247754000.0, \"fpd.persetarget_all\": 100.0, \"dr.nama_rek\": \"02.2 Tarif Masuk Dermaga\"}, {\"fpd.kode_rekening\": \"4.1.2.2.8.1.8\", \"fpd.terget_realita\": 0.0, \"fpd.totrealisasi_after\": 0.0, \"fpd.persetarget_all\": 0.0, \"dr.nama_rek\": \"02.3 Lain - lain (mck,wc,kios,toko)\"}, {\"fpd.kode_rekening\": \"4.1.2.2.8.1.9\", \"fpd.terget_realita\": 0.0, \"fpd.totrealisasi_after\": 97160000.0, \"fpd.persetarget_all\": 100.0, \"dr.nama_rek\": \"02.4 Tarif Masuk Dermaga S. Kunjang\\\\n\"}, {\"fpd.kode_rekening\": \"4.1.2.2.8.1.10\", \"fpd.terget_realita\": 0.0, \"fpd.totrealisasi_after\": 100020000.0, \"fpd.persetarget_all\": 100.0, \"dr.nama_rek\": \"02.5 Tarif Masuk Dermaga Pasar Pagi\\\\n\\\\n\"}, {\"fpd.kode_rekening\": \"4.1.2.2.8.1.11\", \"fpd.terget_realita\": 0.0, \"fpd.totrealisasi_after\": 347514000.0, \"fpd.persetarget_all\": 100.0, \"dr.nama_rek\": \"02.5 Tarif Masuk Dermaga Harapan Baru\"}, {\"fpd.kode_rekening\": \"4.1.2.2.8.1.12\", \"fpd.terget_realita\": 0.0, \"fpd.totrealisasi_after\": 5050000.0, \"fpd.persetarget_all\": 100.0, \"dr.nama_rek\": \"02.5 Tarif Masuk Dermaga Samarinda Seberang\"}, {\"fpd.kode_rekening\": \"4.1.2.2.8.1.13\", \"fpd.terget_realita\": 0.0, \"fpd.totrealisasi_after\": 2181000.0, \"fpd.persetarget_all\": 100.0, \"dr.nama_rek\": \"02.6 Tarif Masuk Dermaga Loa Janan\"}, {\"fpd.kode_rekening\": \"4.1.2.2.9\", \"fpd.terget_realita\": 255200000.0, \"fpd.totrealisasi_after\": 352175309.0, \"fpd.persetarget_all\": 137.99972923197492, \"dr.nama_rek\": \"Retribusi Tempat Rekreasi dan Olahraga\"}, {\"fpd.kode_rekening\": \"4.1.2.2.9.1\", \"fpd.terget_realita\": 255200000.0, \"fpd.totrealisasi_after\": 352175309.0, \"fpd.persetarget_all\": 137.99972923197492, \"dr.nama_rek\": \"Retribusi Pelayanan Tempat Rekreasi dan Olahraga\"}, {\"fpd.kode_rekening\": \"4.1.2.2.10\", \"fpd.terget_realita\": 0.0, \"fpd.totrealisasi_after\": 0.0, \"fpd.persetarget_all\": 0.0, \"dr.nama_rek\": \"Retribusi Penyebrangan di Air\"}, {\"fpd.kode_rekening\": \"4.1.2.2.10.1\", \"fpd.terget_realita\": 0.0, \"fpd.totrealisasi_after\": 0.0, \"fpd.persetarget_all\": 0.0, \"dr.nama_rek\": \"Retribusi Pelayanan Penyeberangan Orang\"}, {\"fpd.kode_rekening\": \"4.1.2.2.10.2\", \"fpd.terget_realita\": 0.0, \"fpd.totrealisasi_after\": 0.0, \"fpd.persetarget_all\": 0.0, \"dr.nama_rek\": \"Retribusi Pelayanan Penyeberangan Barang\"}, {\"fpd.kode_rekening\": \"4.1.2.2.11\", \"fpd.terget_realita\": 0.0, \"fpd.totrealisasi_after\": 0.0, \"fpd.persetarget_all\": 0.0, \"dr.nama_rek\": \"Retribusi Penjualan Produksi Usaha Daerah\"}, {\"fpd.kode_rekening\": \"4.1.2.2.11.1\", \"fpd.terget_realita\": 0.0, \"fpd.totrealisasi_after\": 0.0, \"fpd.persetarget_all\": 0.0, \"dr.nama_rek\": \"Retribusi Penjualan Produksi Hasil Usaha Daerah berupa Bibit atau Benih Tanaman\"}, {\"fpd.kode_rekening\": \"4.1.2.2.11.2\", \"fpd.terget_realita\": 0.0, \"fpd.totrealisasi_after\": 0.0, \"fpd.persetarget_all\": 0.0, \"dr.nama_rek\": \"Retribusi Penjualan Produksi hasil Usaha Daerah berupa Bibit Ternak\"}, {\"fpd.kode_rekening\": \"4.1.2.2.11.3\", \"fpd.terget_realita\": 0.0, \"fpd.totrealisasi_after\": 0.0, \"fpd.persetarget_all\": 0.0, \"dr.nama_rek\": \"Retribusi Penjualan Produksi hasil Usaha Daerah berupa Bibit atau Benih Ikan\"}, {\"fpd.kode_rekening\": \"4.1.2.2.11.4\", \"fpd.terget_realita\": 0.0, \"fpd.totrealisasi_after\": 0.0, \"fpd.persetarget_all\": 0.0, \"dr.nama_rek\": \"Retribusi Penjualan Produksi hasil Usaha Daerah selain Bibit atau Benih Tanaman, Ternak, dan Ikan\"}, {\"fpd.kode_rekening\": \"4.1.2.3\", \"fpd.terget_realita\": 2260000000.0, \"fpd.totrealisasi_after\": 3156946041.0, \"fpd.persetarget_all\": 139.68787792035397, \"dr.nama_rek\": \"Retribusi Perizinan Tertentu\"}, {\"fpd.kode_rekening\": \"4.1.2.3.1\", \"fpd.terget_realita\": 2160000000.0, \"fpd.totrealisasi_after\": 2752087641.0, \"fpd.persetarget_all\": 127.4114648611111, \"dr.nama_rek\": \"Retribusi Izin Mendirikan Bangunan\"}, {\"fpd.kode_rekening\": \"4.1.2.3.1.1\", \"fpd.terget_realita\": 2160000000.0, \"fpd.totrealisasi_after\": 2752087641.0, \"fpd.persetarget_all\": 127.4114648611111, \"dr.nama_rek\": \"Retribusi Pemberian Izin Mendirikan Bangunan\"}, {\"fpd.kode_rekening\": \"4.1.2.3.2\", \"fpd.terget_realita\": 0.0, \"fpd.totrealisasi_after\": 62000000.0, \"fpd.persetarget_all\": 100.0, \"dr.nama_rek\": \"Retribusi Izin Tempat Penjualan Minuman Beralkohol\"}, {\"fpd.kode_rekening\": \"4.1.2.3.2.1\", \"fpd.terget_realita\": 0.0, \"fpd.totrealisasi_after\": 62000000.0, \"fpd.persetarget_all\": 100.0, \"dr.nama_rek\": \"Retribusi Pemberian Izin Tempat Penjualan Minuman Beralkohol\"}, {\"fpd.kode_rekening\": \"4.1.2.3.3\", \"fpd.terget_realita\": 0.0, \"fpd.totrealisasi_after\": 350000.0, \"fpd.persetarget_all\": 100.0, \"dr.nama_rek\": \"Retribusi Izin Trayek untuk Menyediakan Pelayanan Angkutan Umum\"}, {\"fpd.kode_rekening\": \"4.1.2.3.3.1\", \"fpd.terget_realita\": 0.0, \"fpd.totrealisasi_after\": 350000.0, \"fpd.persetarget_all\": 100.0, \"dr.nama_rek\": \"Retribusi Izin Trayek untuk Menyediakan Pelayanan Angkutan Umum\"}, {\"fpd.kode_rekening\": \"4.1.2.3.4\", \"fpd.terget_realita\": 0.0, \"fpd.totrealisasi_after\": 0.0, \"fpd.persetarget_all\": 0.0, \"dr.nama_rek\": \"Retribusi Izin Usaha Perikanan\"}, {\"fpd.kode_rekening\": \"4.1.2.3.4.1\", \"fpd.terget_realita\": 0.0, \"fpd.totrealisasi_after\": 0.0, \"fpd.persetarget_all\": 0.0, \"dr.nama_rek\": \"Retribusi Pemberian Izin Kegiatan Usaha Penangkapan Ikan\"}, {\"fpd.kode_rekening\": \"4.1.2.3.4.2\", \"fpd.terget_realita\": 0.0, \"fpd.totrealisasi_after\": 0.0, \"fpd.persetarget_all\": 0.0, \"dr.nama_rek\": \"Retribusi Pemberian Izin Kegiatan Usaha Pembudidayaan Ikan\"}, {\"fpd.kode_rekening\": \"4.1.2.3.5\", \"fpd.terget_realita\": 0.0, \"fpd.totrealisasi_after\": 0.0, \"fpd.persetarget_all\": 0.0, \"dr.nama_rek\": \"Retribusi Pengendalian Lalu Lintas\"}, {\"fpd.kode_rekening\": \"4.1.2.3.5.1\", \"fpd.terget_realita\": 0.0, \"fpd.totrealisasi_after\": 0.0, \"fpd.persetarget_all\": 0.0, \"dr.nama_rek\": \"Retribusi Pengendalian Lalu Lintas Penggunaan Ruas Jalan Tertentu\"}, {\"fpd.kode_rekening\": \"4.1.2.3.5.2\", \"fpd.terget_realita\": 0.0, \"fpd.totrealisasi_after\": 0.0, \"fpd.persetarget_all\": 0.0, \"dr.nama_rek\": \"Retribusi Pengendalian Lalu Lintas Penggunaan Koridor Tertentu\"}, {\"fpd.kode_rekening\": \"4.1.2.3.5.3\", \"fpd.terget_realita\": 0.0, \"fpd.totrealisasi_after\": 0.0, \"fpd.persetarget_all\": 0.0, \"dr.nama_rek\": \"Retribusi Pengendalian Lalu Lintas Penggunaan Kawasan Tertentu\"}, {\"fpd.kode_rekening\": \"4.1.2.3.6\", \"fpd.terget_realita\": 100000000.0, \"fpd.totrealisasi_after\": 342508400.0, \"fpd.persetarget_all\": 342.5084, \"dr.nama_rek\": \"Retribusi Perpanjangan Izin Mempekerjakan Tenaga Kerja Asing (IMTA)\"}, {\"fpd.kode_rekening\": \"4.1.2.3.6.1\", \"fpd.terget_realita\": 100000000.0, \"fpd.totrealisasi_after\": 342508400.0, \"fpd.persetarget_all\": 342.5084, \"dr.nama_rek\": \"Retribusi Pemberian Perpanjangan IMTA kepada Pemberi Kerja Tenaga Kerja Asing\"}, {\"fpd.kode_rekening\": \"4.1.3\", \"fpd.terget_realita\": 20290129000.0, \"fpd.totrealisasi_after\": 21912018474.0, \"fpd.persetarget_all\": 107.99349020402975, \"dr.nama_rek\": \"Hasil Pengelolaan Kekayaan Daerah yang Dipisahkan\"}, {\"fpd.kode_rekening\": \"4.1.3.1\", \"fpd.terget_realita\": 0.0, \"fpd.totrealisasi_after\": 0.0, \"fpd.persetarget_all\": 0.0, \"dr.nama_rek\": \"Bagian Laba yang Dibagikan kepada Pemerintah Daerah (Dividen) atas Penyertaan Modal pada BUMN\"}, {\"fpd.kode_rekening\": \"4.1.3.1.1\", \"fpd.terget_realita\": 0.0, \"fpd.totrealisasi_after\": 0.0, \"fpd.persetarget_all\": 0.0, \"dr.nama_rek\": \"Bagian Laba yang Dibagikan kepada Pemerintah Daerah (Dividen) atas Penyertaan Modal pada BUMN\"}, {\"fpd.kode_rekening\": \"4.1.3.1.1.1\", \"fpd.terget_realita\": 0.0, \"fpd.totrealisasi_after\": 0.0, \"fpd.persetarget_all\": 0.0, \"dr.nama_rek\": \"Bagian Laba yang Dibagikan kepada Pemerintah Daerah (Dividen) atas Penyertaan Modal pada BUMN\"}, {\"fpd.kode_rekening\": \"4.1.3.2\", \"fpd.terget_realita\": 20290129000.0, \"fpd.totrealisasi_after\": 21912018474.0, \"fpd.persetarget_all\": 107.99349020402975, \"dr.nama_rek\": \"Bagian Laba yang Dibagikan kepada Pemerintah Daerah (Dividen) atas Penyertaan Modal pada BUMD\"}, {\"fpd.kode_rekening\": \"4.1.3.2.1\", \"fpd.terget_realita\": 4937049000.0, \"fpd.totrealisasi_after\": 3197750628.0, \"fpd.persetarget_all\": 64.77048593198083, \"dr.nama_rek\": \"Bagian Laba yang Dibagikan kepada Pemerintah Daerah (Dividen) atas Penyertaan Modal pada BUMD (Lembaga Keuangan)\"}, {\"fpd.kode_rekening\": \"4.1.4.2.4.1\", \"fpd.terget_realita\": 0.0, \"fpd.totrealisasi_after\": 0.0, \"fpd.persetarget_all\": 0.0, \"dr.nama_rek\": \"Hasil Selisih Lebih Tukar Menukar Jalan dan Jembatan\"}, {\"fpd.kode_rekening\": \"4.1.3.2.1.1\", \"fpd.terget_realita\": 4937049000.0, \"fpd.totrealisasi_after\": 3197750628.0, \"fpd.persetarget_all\": 64.77048593198083, \"dr.nama_rek\": \"Bagian Laba yang Dibagikan kepada Pemerintah Daerah (Dividen) atas Penyertaan Modal pada BUMD (Lembaga Keuangan)\"}, {\"fpd.kode_rekening\": \"4.1.3.2.1.1.1\", \"fpd.terget_realita\": 3617049000.0, \"fpd.totrealisasi_after\": 3197750628.0, \"fpd.persetarget_all\": 88.40772209610653, \"dr.nama_rek\": \"01. Bankaltim\"}, {\"fpd.kode_rekening\": \"4.1.3.2.1.1.2\", \"fpd.terget_realita\": 1320000000.0, \"fpd.totrealisasi_after\": 0.0, \"fpd.persetarget_all\": 0.0, \"dr.nama_rek\": \"02. Bank Perkreditan Rakyat (BPR) Kota Samarinda\"}, {\"fpd.kode_rekening\": \"4.1.3.2.2\", \"fpd.terget_realita\": 7970115000.0, \"fpd.totrealisasi_after\": 240000000.0, \"fpd.persetarget_all\": 3.011248896659584, \"dr.nama_rek\": \"Bagian Laba yang Dibagikan kepada Pemerintah Daerah (Dividen) atas Penyertaan Modal pada BUMD (Varian\\\\u00a0Niaga)\"}, {\"fpd.kode_rekening\": \"4.1.3.2.2.1\", \"fpd.terget_realita\": 7970115000.0, \"fpd.totrealisasi_after\": 240000000.0, \"fpd.persetarget_all\": 3.011248896659584, \"dr.nama_rek\": \"Bagian Laba yang Dibagikan kepada Pemerintah Daerah (Dividen) atas Penyertaan Modal pada BUMD (Varian\\\\u00a0Niaga)\"}, {\"fpd.kode_rekening\": \"4.1.3.2.3\", \"fpd.terget_realita\": 7382965000.0, \"fpd.totrealisasi_after\": 18474267846.0, \"fpd.persetarget_all\": 250.22830049986692, \"dr.nama_rek\": \"Bagian Laba yang Dibagikan kepada Pemerintah Daerah (Dividen) atas Penyertaan Modal pada BUMD (Bidang Air Minum)\"}, {\"fpd.kode_rekening\": \"4.1.3.2.3.1\", \"fpd.terget_realita\": 7382965000.0, \"fpd.totrealisasi_after\": 18474267846.0, \"fpd.persetarget_all\": 250.22830049986692, \"dr.nama_rek\": \"Bagian Laba yang Dibagikan kepada Pemerintah Daerah (Dividen) atas Penyertaan Modal pada Perusahaan Milik Daerah/BUMD (Bidang Air Minum)\"}, {\"fpd.kode_rekening\": \"4.1.3.2.3.1.1\", \"fpd.terget_realita\": 7382965000.0, \"fpd.totrealisasi_after\": 18474267846.0, \"fpd.persetarget_all\": 250.22830049986692, \"dr.nama_rek\": \"01. Perusahaan Daerah Air Minum (PDAM)\"}, {\"fpd.kode_rekening\": \"4.1.3.2.4\", \"fpd.terget_realita\": 0.0, \"fpd.totrealisasi_after\": 0.0, \"fpd.persetarget_all\": 0.0, \"dr.nama_rek\": \"Bagian Laba yang Dibagikan kepada Pemerintah Daerah (Dividen) atas Penyertaan Modal pada BUMD (Bidang Limbah)\"}, {\"fpd.kode_rekening\": \"4.1.3.2.4.1\", \"fpd.terget_realita\": 0.0, \"fpd.totrealisasi_after\": 0.0, \"fpd.persetarget_all\": 0.0, \"dr.nama_rek\": \"Bagian Laba yang Dibagikan kepada Pemerintah Daerah (Dividen) atas Penyertaan Modal pada BUMD (Bidang Limbah)\"}, {\"fpd.kode_rekening\": \"4.1.3.2.5\", \"fpd.terget_realita\": 0.0, \"fpd.totrealisasi_after\": 0.0, \"fpd.persetarget_all\": 0.0, \"dr.nama_rek\": \"Bagian Laba yang Dibagikan kepada Pemerintah Daerah (Dividen) atas Penyertaan Modal pada BUMD (Bidang Sanitasi)\"}, {\"fpd.kode_rekening\": \"4.1.3.2.5.1\", \"fpd.terget_realita\": 0.0, \"fpd.totrealisasi_after\": 0.0, \"fpd.persetarget_all\": 0.0, \"dr.nama_rek\": \"Bagian Laba yang Dibagikan kepada Pemerintah Daerah (Dividen) atas Penyertaan Modal pada BUMD (Bidang Sanitasi)\"}, {\"fpd.kode_rekening\": \"4.1.3.3\", \"fpd.terget_realita\": 0.0, \"fpd.totrealisasi_after\": 0.0, \"fpd.persetarget_all\": 0.0, \"dr.nama_rek\": \"Bagian Laba yang dibagikan kepada Pemerintah Daerah (Dividen) atas Penyertaan Modal pada Perusahaan Milik Swasta\"}, {\"fpd.kode_rekening\": \"4.1.3.3.1\", \"fpd.terget_realita\": 0.0, \"fpd.totrealisasi_after\": 0.0, \"fpd.persetarget_all\": 0.0, \"dr.nama_rek\": \"Bagian Laba yang Dibagikan kepada Pemerintah Daerah (Dividen) atas Penyertaan Modal pada Perusahaan Milik Swasta\"}, {\"fpd.kode_rekening\": \"4.1.3.3.1.1\", \"fpd.terget_realita\": 0.0, \"fpd.totrealisasi_after\": 0.0, \"fpd.persetarget_all\": 0.0, \"dr.nama_rek\": \"Bagian Laba yang Dibagikan kepada Pemerintah Daerah (Dividen) atas Penyertaan Modal pada Perusahaan Milik Swasta\"}, {\"fpd.kode_rekening\": \"4.1.4\", \"fpd.terget_realita\": 45364361674.0, \"fpd.totrealisasi_after\": 54188418445.51, \"fpd.persetarget_all\": 119.45151754789795, \"dr.nama_rek\": \"Lain-lain Pendapatan Asli Daerah yang Sah\"}, {\"fpd.kode_rekening\": \"4.1.4.1\", \"fpd.terget_realita\": 400000000.0, \"fpd.totrealisasi_after\": 1785909490.0, \"fpd.persetarget_all\": 446.47737249999994, \"dr.nama_rek\": \"Hasil Penjualan BMD yang Tidak Dipisahkan\"}, {\"fpd.kode_rekening\": \"4.1.4.1.1\", \"fpd.terget_realita\": 0.0, \"fpd.totrealisasi_after\": 0.0, \"fpd.persetarget_all\": 0.0, \"dr.nama_rek\": \"Hasil Penjualan Tanah\"}, {\"fpd.kode_rekening\": \"4.1.4.1.1.1\", \"fpd.terget_realita\": 0.0, \"fpd.totrealisasi_after\": 0.0, \"fpd.persetarget_all\": 0.0, \"dr.nama_rek\": \"Hasil Penjualan Tanah Digunakan untuk mencatat pendapatan dari hasil penjualan atas tanah.\"}, {\"fpd.kode_rekening\": \"4.1.4.1.2\", \"fpd.terget_realita\": 100000000.0, \"fpd.totrealisasi_after\": 0.0, \"fpd.persetarget_all\": 0.0, \"dr.nama_rek\": \"Hasil Penjualan Peralatan dan Mesin\"}, {\"fpd.kode_rekening\": \"4.1.4.1.2.1\", \"fpd.terget_realita\": 0.0, \"fpd.totrealisasi_after\": 0.0, \"fpd.persetarget_all\": 0.0, \"dr.nama_rek\": \"Hasil Penjualan Alat Besar\"}, {\"fpd.kode_rekening\": \"4.1.4.1.2.2\", \"fpd.terget_realita\": 0.0, \"fpd.totrealisasi_after\": 0.0, \"fpd.persetarget_all\": 0.0, \"dr.nama_rek\": \"Hasil Penjualan Alat Angkutan\"}, {\"fpd.kode_rekening\": \"4.1.4.1.2.3\", \"fpd.terget_realita\": 0.0, \"fpd.totrealisasi_after\": 0.0, \"fpd.persetarget_all\": 0.0, \"dr.nama_rek\": \"Hasil Penjualan Alat Bengkel dan Alat Ukur\"}, {\"fpd.kode_rekening\": \"4.1.4.1.2.4\", \"fpd.terget_realita\": 0.0, \"fpd.totrealisasi_after\": 0.0, \"fpd.persetarget_all\": 0.0, \"dr.nama_rek\": \"Hasil Penjualan Alat Pertanian\"}, {\"fpd.kode_rekening\": \"4.1.4.1.2.5\", \"fpd.terget_realita\": 0.0, \"fpd.totrealisasi_after\": 0.0, \"fpd.persetarget_all\": 0.0, \"dr.nama_rek\": \"Hasil Penjualan Alat Kantor dan Rumah Tangga\"}, {\"fpd.kode_rekening\": \"4.1.4.1.2.6\", \"fpd.terget_realita\": 0.0, \"fpd.totrealisasi_after\": 0.0, \"fpd.persetarget_all\": 0.0, \"dr.nama_rek\": \"Hasil Penjualan Alat Studio, Komunikasi, dan Pemancar\"}, {\"fpd.kode_rekening\": \"4.1.4.1.2.7\", \"fpd.terget_realita\": 0.0, \"fpd.totrealisasi_after\": 0.0, \"fpd.persetarget_all\": 0.0, \"dr.nama_rek\": \"Hasil Penjualan Alat Kedokteran dan Kesehatan\"}, {\"fpd.kode_rekening\": \"4.1.4.1.2.8\", \"fpd.terget_realita\": 0.0, \"fpd.totrealisasi_after\": 0.0, \"fpd.persetarget_all\": 0.0, \"dr.nama_rek\": \"Hasil Penjualan Alat Laboratorium\"}, {\"fpd.kode_rekening\": \"4.1.4.1.2.10\", \"fpd.terget_realita\": 0.0, \"fpd.totrealisasi_after\": 0.0, \"fpd.persetarget_all\": 0.0, \"dr.nama_rek\": \"Hasil Penjualan Komputer\"}, {\"fpd.kode_rekening\": \"4.1.4.1.2.11\", \"fpd.terget_realita\": 0.0, \"fpd.totrealisasi_after\": 0.0, \"fpd.persetarget_all\": 0.0, \"dr.nama_rek\": \"Hasil Penjualan Alat Eksplorasi\"}, {\"fpd.kode_rekening\": \"4.1.4.1.2.12\", \"fpd.terget_realita\": 0.0, \"fpd.totrealisasi_after\": 0.0, \"fpd.persetarget_all\": 0.0, \"dr.nama_rek\": \"Hasil Penjualan Alat Pengeboran\"}, {\"fpd.kode_rekening\": \"4.1.4.1.2.13\", \"fpd.terget_realita\": 0.0, \"fpd.totrealisasi_after\": 0.0, \"fpd.persetarget_all\": 0.0, \"dr.nama_rek\": \"Hasil Penjualan Alat Produksi, Pengolahan, dan Pemurnian\"}, {\"fpd.kode_rekening\": \"4.1.4.1.2.14\", \"fpd.terget_realita\": 0.0, \"fpd.totrealisasi_after\": 0.0, \"fpd.persetarget_all\": 0.0, \"dr.nama_rek\": \"Hasil Penjualan Alat Bantu Eksplorasi\"}, {\"fpd.kode_rekening\": \"4.1.4.1.2.15\", \"fpd.terget_realita\": 0.0, \"fpd.totrealisasi_after\": 0.0, \"fpd.persetarget_all\": 0.0, \"dr.nama_rek\": \"Hasil Penjualan Alat Keselamatan Kerja\"}, {\"fpd.kode_rekening\": \"4.1.4.1.2.16\", \"fpd.terget_realita\": 0.0, \"fpd.totrealisasi_after\": 0.0, \"fpd.persetarget_all\": 0.0, \"dr.nama_rek\": \"Hasil Penjualan Alat Peraga\"}, {\"fpd.kode_rekening\": \"4.1.4.1.2.17\", \"fpd.terget_realita\": 0.0, \"fpd.totrealisasi_after\": 0.0, \"fpd.persetarget_all\": 0.0, \"dr.nama_rek\": \"Hasil Penjualan Peralatan Proses/Produksi\"}, {\"fpd.kode_rekening\": \"4.1.4.1.2.18\", \"fpd.terget_realita\": 0.0, \"fpd.totrealisasi_after\": 0.0, \"fpd.persetarget_all\": 0.0, \"dr.nama_rek\": \"Hasil Penjualan Rambu-rambu\"}, {\"fpd.kode_rekening\": \"4.1.4.1.2.19\", \"fpd.terget_realita\": 0.0, \"fpd.totrealisasi_after\": 0.0, \"fpd.persetarget_all\": 0.0, \"dr.nama_rek\": \"Hasil Penjualan Peralatan Olahraga\"}, {\"fpd.kode_rekening\": \"4.1.4.1.3\", \"fpd.terget_realita\": 0.0, \"fpd.totrealisasi_after\": 14390090.0, \"fpd.persetarget_all\": 100.0, \"dr.nama_rek\": \"Hasil Penjualan Gedung dan Bangunan\"}, {\"fpd.kode_rekening\": \"4.1.4.1.3.1\", \"fpd.terget_realita\": 0.0, \"fpd.totrealisasi_after\": 14390090.0, \"fpd.persetarget_all\": 100.0, \"dr.nama_rek\": \"Hasil Penjualan Gedung dan Bangunan\"}, {\"fpd.kode_rekening\": \"4.1.4.1.3.1.1\", \"fpd.terget_realita\": 0.0, \"fpd.totrealisasi_after\": 0.0, \"fpd.persetarget_all\": 0.0, \"dr.nama_rek\": \"02.Pendapatan Dari Angsuran/ Cicilan Penjualan\"}, {\"fpd.kode_rekening\": \"4.1.4.1.3.1.2\", \"fpd.terget_realita\": 0.0, \"fpd.totrealisasi_after\": 14390090.0, \"fpd.persetarget_all\": 100.0, \"dr.nama_rek\": \"Angsuran/Cicilan Penjualan Rumah Dinas Daerah Golongan III\"}, {\"fpd.kode_rekening\": \"4.1.4.1.3.1.3\", \"fpd.terget_realita\": 0.0, \"fpd.totrealisasi_after\": 0.0, \"fpd.persetarget_all\": 0.0, \"dr.nama_rek\": \"01. Pokok Angsuran / Cicilan Penjualan Rumah Dinas Daerah Gol III\"}, {\"fpd.kode_rekening\": \"4.1.4.1.3.1.4\", \"fpd.terget_realita\": 0.0, \"fpd.totrealisasi_after\": 0.0, \"fpd.persetarget_all\": 0.0, \"dr.nama_rek\": \"02. Denda Angsuran / Cicilan Penjualan Rumah Dinas Daerah Gol III\"}, {\"fpd.kode_rekening\": \"4.1.4.1.3.1.5\", \"fpd.terget_realita\": 0.0, \"fpd.totrealisasi_after\": 0.0, \"fpd.persetarget_all\": 0.0, \"dr.nama_rek\": \"Angsuran/Cicilan Penjualan Kendaraan Perorangan Dinas\"}, {\"fpd.kode_rekening\": \"4.1.4.1.3.1.6\", \"fpd.terget_realita\": 0.0, \"fpd.totrealisasi_after\": 0.0, \"fpd.persetarget_all\": 0.0, \"dr.nama_rek\": \"01. Pokok Angsuran/Cicilan Penjualan Kendaraan Perorangan Dinas\"}, {\"fpd.kode_rekening\": \"4.1.4.1.3.1.7\", \"fpd.terget_realita\": 0.0, \"fpd.totrealisasi_after\": 0.0, \"fpd.persetarget_all\": 0.0, \"dr.nama_rek\": \"02. Denda Angsuran/Cicilan Penjualan Kendaraan Perorangan Dinas\"}, {\"fpd.kode_rekening\": \"4.1.4.1.3.1.8\", \"fpd.terget_realita\": 0.0, \"fpd.totrealisasi_after\": 0.0, \"fpd.persetarget_all\": 0.0, \"dr.nama_rek\": \"Angsuran/Cicilan Ganti Kerugian Barang Milik Daerah\"}, {\"fpd.kode_rekening\": \"4.1.4.1.3.1.9\", \"fpd.terget_realita\": 0.0, \"fpd.totrealisasi_after\": 0.0, \"fpd.persetarget_all\": 0.0, \"dr.nama_rek\": \"01. Pokok Angsuran/Cicilan Ganti Kerugian Barang Milik Daerah\"}, {\"fpd.kode_rekening\": \"4.1.4.1.3.1.10\", \"fpd.terget_realita\": 0.0, \"fpd.totrealisasi_after\": 0.0, \"fpd.persetarget_all\": 0.0, \"dr.nama_rek\": \"02. Denda Angsuran/Cicilan Ganti Kerugian Barang Milik Daerah\"}, {\"fpd.kode_rekening\": \"4.1.4.1.3.1.11\", \"fpd.terget_realita\": 0.0, \"fpd.totrealisasi_after\": 0.0, \"fpd.persetarget_all\": 0.0, \"dr.nama_rek\": \"Angsuran/Cicilan Rumah Susun\"}, {\"fpd.kode_rekening\": \"4.1.4.1.3.1.12\", \"fpd.terget_realita\": 0.0, \"fpd.totrealisasi_after\": 0.0, \"fpd.persetarget_all\": 0.0, \"dr.nama_rek\": \"01. Pokok Angsuran/Cicilan Rumah Susun\"}, {\"fpd.kode_rekening\": \"4.1.4.1.3.1.13\", \"fpd.terget_realita\": 0.0, \"fpd.totrealisasi_after\": 0.0, \"fpd.persetarget_all\": 0.0, \"dr.nama_rek\": \"02. Denda Angsuran/Cicilan Rumah Susun\"}, {\"fpd.kode_rekening\": \"4.1.4.1.3.2\", \"fpd.terget_realita\": 0.0, \"fpd.totrealisasi_after\": 0.0, \"fpd.persetarget_all\": 0.0, \"dr.nama_rek\": \"Hasil Penjualan Monumen\"}, {\"fpd.kode_rekening\": \"4.1.4.1.3.3\", \"fpd.terget_realita\": 0.0, \"fpd.totrealisasi_after\": 0.0, \"fpd.persetarget_all\": 0.0, \"dr.nama_rek\": \"Hasil Penjualan Bangunan Menara\"}, {\"fpd.kode_rekening\": \"4.1.4.1.3.4\", \"fpd.terget_realita\": 0.0, \"fpd.totrealisasi_after\": 0.0, \"fpd.persetarget_all\": 0.0, \"dr.nama_rek\": \"Hasil Penjualan Tugu Titik Kontrol/Pasti\"}, {\"fpd.kode_rekening\": \"4.1.4.1.4\", \"fpd.terget_realita\": 0.0, \"fpd.totrealisasi_after\": 0.0, \"fpd.persetarget_all\": 0.0, \"dr.nama_rek\": \"Hasil Penjualan Jalan, Jaringan, dan Irigasi\"}, {\"fpd.kode_rekening\": \"4.1.4.1.4.1.1\", \"fpd.terget_realita\": 0.0, \"fpd.totrealisasi_after\": 0.0, \"fpd.persetarget_all\": 0.0, \"dr.nama_rek\": \"Hasil Penjualan Jalan dan Jembatan\"}, {\"fpd.kode_rekening\": \"4.1.4.1.4.2\", \"fpd.terget_realita\": 0.0, \"fpd.totrealisasi_after\": 0.0, \"fpd.persetarget_all\": 0.0, \"dr.nama_rek\": \"Hasil Penjualan Jalan dan Jembatan\"}, {\"fpd.kode_rekening\": \"4.1.4.1.4.3\", \"fpd.terget_realita\": 0.0, \"fpd.totrealisasi_after\": 0.0, \"fpd.persetarget_all\": 0.0, \"dr.nama_rek\": \"Hasil Penjualan Instalasi\"}, {\"fpd.kode_rekening\": \"4.1.4.1.4.4\", \"fpd.terget_realita\": 0.0, \"fpd.totrealisasi_after\": 0.0, \"fpd.persetarget_all\": 0.0, \"dr.nama_rek\": \"Hasil Penjualan Jaringan\"}, {\"fpd.kode_rekening\": \"4.1.4.1.5\", \"fpd.terget_realita\": 0.0, \"fpd.totrealisasi_after\": 0.0, \"fpd.persetarget_all\": 0.0, \"dr.nama_rek\": \"Hasil Penjualan Aset Tetap Lainnya\"}, {\"fpd.kode_rekening\": \"4.1.4.1.5.1\", \"fpd.terget_realita\": 0.0, \"fpd.totrealisasi_after\": 0.0, \"fpd.persetarget_all\": 0.0, \"dr.nama_rek\": \"Hasil Penjualan Bahan Perpustakaan\"}, {\"fpd.kode_rekening\": \"4.1.4.1.5.2\", \"fpd.terget_realita\": 0.0, \"fpd.totrealisasi_after\": 0.0, \"fpd.persetarget_all\": 0.0, \"dr.nama_rek\": \"Hasil Penjualan Barang Bercorak Kesenian/Kebudayaan/Olahraga\"}, {\"fpd.kode_rekening\": \"4.1.4.1.5.3\", \"fpd.terget_realita\": 0.0, \"fpd.totrealisasi_after\": 0.0, \"fpd.persetarget_all\": 0.0, \"dr.nama_rek\": \"Hasil Penjualan Hewan\"}, {\"fpd.kode_rekening\": \"4.1.4.1.5.4\", \"fpd.terget_realita\": 0.0, \"fpd.totrealisasi_after\": 0.0, \"fpd.persetarget_all\": 0.0, \"dr.nama_rek\": \"Hasil Penjualan Biota Perairan\"}, {\"fpd.kode_rekening\": \"4.1.4.1.5.5\", \"fpd.terget_realita\": 0.0, \"fpd.totrealisasi_after\": 0.0, \"fpd.persetarget_all\": 0.0, \"dr.nama_rek\": \"Hasil Penjualan Tanaman\"}, {\"fpd.kode_rekening\": \"4.1.4.1.5.6\", \"fpd.terget_realita\": 0.0, \"fpd.totrealisasi_after\": 0.0, \"fpd.persetarget_all\": 0.0, \"dr.nama_rek\": \"Hasil Penjualan Barang Koleksi Non Budaya\"}, {\"fpd.kode_rekening\": \"4.1.4.1.5.7\", \"fpd.terget_realita\": 0.0, \"fpd.totrealisasi_after\": 0.0, \"fpd.persetarget_all\": 0.0, \"dr.nama_rek\": \"Hasil Penjualan Aset Tetap Dalam Renovasi\"}, {\"fpd.kode_rekening\": \"4.1.4.1.6\", \"fpd.terget_realita\": 300000000.0, \"fpd.totrealisasi_after\": 1771519400.0, \"fpd.persetarget_all\": 590.5064666666667, \"dr.nama_rek\": \"Hasil Penjualan Aset Lainnya\"}, {\"fpd.kode_rekening\": \"4.1.4.1.6.1\", \"fpd.terget_realita\": 300000000.0, \"fpd.totrealisasi_after\": 271519400.0, \"fpd.persetarget_all\": 90.50646666666667, \"dr.nama_rek\": \"Hasil Penjualan Aset Lainnya\"}, {\"fpd.kode_rekening\": \"4.1.4.2\", \"fpd.terget_realita\": 0.0, \"fpd.totrealisasi_after\": 0.0, \"fpd.persetarget_all\": 0.0, \"dr.nama_rek\": \"Hasil Selisih Lebih Tukar Menukar BMD yang Tidak Dipisahkan\"}, {\"fpd.kode_rekening\": \"4.1.4.2.1\", \"fpd.terget_realita\": 0.0, \"fpd.totrealisasi_after\": 0.0, \"fpd.persetarget_all\": 0.0, \"dr.nama_rek\": \"Hasil Selisih Lebih Tukar Menukar Tanah\"}, {\"fpd.kode_rekening\": \"4.1.4.2.1.1\", \"fpd.terget_realita\": 0.0, \"fpd.totrealisasi_after\": 0.0, \"fpd.persetarget_all\": 0.0, \"dr.nama_rek\": \"Hasil Selisih Lebih Tukar Menukar Tanah\"}, {\"fpd.kode_rekening\": \"4.1.4.2.2\", \"fpd.terget_realita\": 0.0, \"fpd.totrealisasi_after\": 0.0, \"fpd.persetarget_all\": 0.0, \"dr.nama_rek\": \"Hasil Selisih Lebih Tukar Menukar Peralatan dan Mesin\"}, {\"fpd.kode_rekening\": \"4.1.4.2.2.1\", \"fpd.terget_realita\": 0.0, \"fpd.totrealisasi_after\": 0.0, \"fpd.persetarget_all\": 0.0, \"dr.nama_rek\": \"Hasil Selisih Lebih Tukar Menukar Alat Besar\"}, {\"fpd.kode_rekening\": \"4.1.4.2.2.2\", \"fpd.terget_realita\": 0.0, \"fpd.totrealisasi_after\": 0.0, \"fpd.persetarget_all\": 0.0, \"dr.nama_rek\": \"Hasil Selisih Lebih Tukar Menukar Alat Angkutan\"}, {\"fpd.kode_rekening\": \"4.1.4.2.2.3\", \"fpd.terget_realita\": 0.0, \"fpd.totrealisasi_after\": 0.0, \"fpd.persetarget_all\": 0.0, \"dr.nama_rek\": \"Hasil Selisih Lebih Tukar Menukar Alat Bengkel dan Alat Ukur\"}, {\"fpd.kode_rekening\": \"4.1.4.2.2.4\", \"fpd.terget_realita\": 0.0, \"fpd.totrealisasi_after\": 0.0, \"fpd.persetarget_all\": 0.0, \"dr.nama_rek\": \"Hasil Selisih Lebih Tukar Menukar Alat Pertanian\"}, {\"fpd.kode_rekening\": \"4.1.4.2.2.5\", \"fpd.terget_realita\": 0.0, \"fpd.totrealisasi_after\": 0.0, \"fpd.persetarget_all\": 0.0, \"dr.nama_rek\": \"Hasil Selisih Lebih Tukar Menukar Alat Pertanian\"}, {\"fpd.kode_rekening\": \"4.1.4.2.2.6\", \"fpd.terget_realita\": 0.0, \"fpd.totrealisasi_after\": 0.0, \"fpd.persetarget_all\": 0.0, \"dr.nama_rek\": \"Hasil Selisih Lebih Tukar Menukar Alat Studio, Komunikasi, dan Pemancar\"}, {\"fpd.kode_rekening\": \"4.1.4.2.2.7\", \"fpd.terget_realita\": 0.0, \"fpd.totrealisasi_after\": 0.0, \"fpd.persetarget_all\": 0.0, \"dr.nama_rek\": \"Hasil Selisih Lebih Tukar Menukar Alat Kedokteran dan Kesehatan\"}, {\"fpd.kode_rekening\": \"4.1.4.2.2.8\", \"fpd.terget_realita\": 0.0, \"fpd.totrealisasi_after\": 0.0, \"fpd.persetarget_all\": 0.0, \"dr.nama_rek\": \"Hasil Selisih Lebih Tukar Menukar Alat Laboratorium\"}, {\"fpd.kode_rekening\": \"4.1.4.2.2.10\", \"fpd.terget_realita\": 0.0, \"fpd.totrealisasi_after\": 0.0, \"fpd.persetarget_all\": 0.0, \"dr.nama_rek\": \"Hasil Selisih Lebih Tukar Menukar Komputer\"}, {\"fpd.kode_rekening\": \"4.1.4.2.2.11\", \"fpd.terget_realita\": 0.0, \"fpd.totrealisasi_after\": 0.0, \"fpd.persetarget_all\": 0.0, \"dr.nama_rek\": \"Hasil Selisih Lebih Tukar Menukar Alat Eksplorasi\"}, {\"fpd.kode_rekening\": \"4.1.4.2.2.12\", \"fpd.terget_realita\": 0.0, \"fpd.totrealisasi_after\": 0.0, \"fpd.persetarget_all\": 0.0, \"dr.nama_rek\": \"Hasil Selisih Lebih Tukar Menukar Alat Pengeboran\"}, {\"fpd.kode_rekening\": \"4.1.4.2.2.13\", \"fpd.terget_realita\": 0.0, \"fpd.totrealisasi_after\": 0.0, \"fpd.persetarget_all\": 0.0, \"dr.nama_rek\": \"Hasil Selisih Lebih Tukar Menukar Alat Produksi, Pengolahan, dan Pemurnian\"}, {\"fpd.kode_rekening\": \"4.1.4.2.2.14\", \"fpd.terget_realita\": 0.0, \"fpd.totrealisasi_after\": 0.0, \"fpd.persetarget_all\": 0.0, \"dr.nama_rek\": \"Hasil Selisih Lebih Tukar Menukar Alat Bantu Eksplorasi\"}, {\"fpd.kode_rekening\": \"4.1.4.2.2.15\", \"fpd.terget_realita\": 0.0, \"fpd.totrealisasi_after\": 0.0, \"fpd.persetarget_all\": 0.0, \"dr.nama_rek\": \"Hasil Selisih Lebih Tukar Menukar Alat Keselamatan Kerja\"}, {\"fpd.kode_rekening\": \"4.1.4.2.2.16\", \"fpd.terget_realita\": 0.0, \"fpd.totrealisasi_after\": 0.0, \"fpd.persetarget_all\": 0.0, \"dr.nama_rek\": \"Hasil Selisih Lebih Tukar Menukar Alat Peraga\"}, {\"fpd.kode_rekening\": \"4.1.4.2.2.17\", \"fpd.terget_realita\": 0.0, \"fpd.totrealisasi_after\": 0.0, \"fpd.persetarget_all\": 0.0, \"dr.nama_rek\": \"Hasil Selisih Lebih Tukar Menukar Peralatan Proses/Produksi\"}, {\"fpd.kode_rekening\": \"4.1.4.2.2.18\", \"fpd.terget_realita\": 0.0, \"fpd.totrealisasi_after\": 0.0, \"fpd.persetarget_all\": 0.0, \"dr.nama_rek\": \"Hasil Selisih Lebih Tukar Menukar Rambu\\\\u0002Rambu\"}, {\"fpd.kode_rekening\": \"4.1.4.2.2.19\", \"fpd.terget_realita\": 0.0, \"fpd.totrealisasi_after\": 0.0, \"fpd.persetarget_all\": 0.0, \"dr.nama_rek\": \"Hasil Selisih Lebih Tukar Menukar Peralatan Olahraga\"}, {\"fpd.kode_rekening\": \"4.1.4.2.3\", \"fpd.terget_realita\": 0.0, \"fpd.totrealisasi_after\": 0.0, \"fpd.persetarget_all\": 0.0, \"dr.nama_rek\": \"Hasil Selisih Lebih Tukar Menukar Gedung dan Bangunan\"}, {\"fpd.kode_rekening\": \"4.1.4.2.3.1\", \"fpd.terget_realita\": 0.0, \"fpd.totrealisasi_after\": 0.0, \"fpd.persetarget_all\": 0.0, \"dr.nama_rek\": \"Hasil Selisih Lebih Tukar Menukar Bangunan Gedung\"}, {\"fpd.kode_rekening\": \"4.1.4.2.3.2\", \"fpd.terget_realita\": 0.0, \"fpd.totrealisasi_after\": 0.0, \"fpd.persetarget_all\": 0.0, \"dr.nama_rek\": \"Hasil Selisih Lebih Tukar Menukar Monumen\"}, {\"fpd.kode_rekening\": \"4.1.4.2.3.3\", \"fpd.terget_realita\": 0.0, \"fpd.totrealisasi_after\": 0.0, \"fpd.persetarget_all\": 0.0, \"dr.nama_rek\": \"Hasil Selisih Lebih Tukar Menukar Bangunan Menara\"}, {\"fpd.kode_rekening\": \"4.1.4.2.3.4\", \"fpd.terget_realita\": 0.0, \"fpd.totrealisasi_after\": 0.0, \"fpd.persetarget_all\": 0.0, \"dr.nama_rek\": \"Hasil Selisih Lebih Tukar Menukar Tugu Titik Kontrol/Pasti\"}, {\"fpd.kode_rekening\": \"4.1.4.2.4\", \"fpd.terget_realita\": 0.0, \"fpd.totrealisasi_after\": 0.0, \"fpd.persetarget_all\": 0.0, \"dr.nama_rek\": \"Hasil Selisih Lebih Tukar Menukar Jalan, Jaringan, dan Irigasi\"}, {\"fpd.kode_rekening\": \"4.1.4.2.4.2\", \"fpd.terget_realita\": 0.0, \"fpd.totrealisasi_after\": 0.0, \"fpd.persetarget_all\": 0.0, \"dr.nama_rek\": \"Hasil Selisih Lebih Tukar Menukar Bangunan Air\"}, {\"fpd.kode_rekening\": \"4.1.4.2.4.3\", \"fpd.terget_realita\": 0.0, \"fpd.totrealisasi_after\": 0.0, \"fpd.persetarget_all\": 0.0, \"dr.nama_rek\": \"Hasil Selisih Lebih Tukar Menukar Instalasi\"}, {\"fpd.kode_rekening\": \"4.1.4.2.4.4\", \"fpd.terget_realita\": 0.0, \"fpd.totrealisasi_after\": 0.0, \"fpd.persetarget_all\": 0.0, \"dr.nama_rek\": \"Hasil Selisih Lebih Tukar Menukar Jaringan\"}, {\"fpd.kode_rekening\": \"4.1.4.2.5\", \"fpd.terget_realita\": 0.0, \"fpd.totrealisasi_after\": 0.0, \"fpd.persetarget_all\": 0.0, \"dr.nama_rek\": \"Hasil Selisih Lebih Tukar Menukar Aset Tetap Lainnya\"}, {\"fpd.kode_rekening\": \"4.1.4.2.5.1\", \"fpd.terget_realita\": 0.0, \"fpd.totrealisasi_after\": 0.0, \"fpd.persetarget_all\": 0.0, \"dr.nama_rek\": \"Hasil Selisih Lebih Tukar Menukar Bahan Perpustakaan\"}, {\"fpd.kode_rekening\": \"4.1.4.2.5.2\", \"fpd.terget_realita\": 0.0, \"fpd.totrealisasi_after\": 0.0, \"fpd.persetarget_all\": 0.0, \"dr.nama_rek\": \"Hasil Selisih Lebih Tukar Menukar Barang Bercorak Kesenian/Kebudayaan/Olahraga\"}, {\"fpd.kode_rekening\": \"4.1.4.2.5.3\", \"fpd.terget_realita\": 0.0, \"fpd.totrealisasi_after\": 0.0, \"fpd.persetarget_all\": 0.0, \"dr.nama_rek\": \"Hasil Selisih Lebih Tukar Menukar Barang Bercorak Kesenian/Kebudayaan/Olahraga\"}, {\"fpd.kode_rekening\": \"4.1.4.2.5.4\", \"fpd.terget_realita\": 0.0, \"fpd.totrealisasi_after\": 0.0, \"fpd.persetarget_all\": 0.0, \"dr.nama_rek\": \"Hasil Selisih Lebih Tukar Menukar Biota Perairan\"}, {\"fpd.kode_rekening\": \"4.1.4.2.5.5\", \"fpd.terget_realita\": 0.0, \"fpd.totrealisasi_after\": 0.0, \"fpd.persetarget_all\": 0.0, \"dr.nama_rek\": \"Hasil Selisih Lebih Tukar Menukar Tanaman\"}, {\"fpd.kode_rekening\": \"4.1.4.2.5.6\", \"fpd.terget_realita\": 0.0, \"fpd.totrealisasi_after\": 0.0, \"fpd.persetarget_all\": 0.0, \"dr.nama_rek\": \"Hasil Selisih Lebih Tukar Menukar Barang Koleksi Non Budaya\"}, {\"fpd.kode_rekening\": \"4.1.4.2.5.7\", \"fpd.terget_realita\": 0.0, \"fpd.totrealisasi_after\": 0.0, \"fpd.persetarget_all\": 0.0, \"dr.nama_rek\": \"Hasil Selisih Lebih Tukar Menukar Aset Tetap Dalam Renovasi\"}, {\"fpd.kode_rekening\": \"4.1.4.2.6\", \"fpd.terget_realita\": 0.0, \"fpd.totrealisasi_after\": 0.0, \"fpd.persetarget_all\": 0.0, \"dr.nama_rek\": \"Hasil Selisih Lebih Tukar Menukar Aset Lainnya\"}, {\"fpd.kode_rekening\": \"4.1.4.2.6.1\", \"fpd.terget_realita\": 0.0, \"fpd.totrealisasi_after\": 0.0, \"fpd.persetarget_all\": 0.0, \"dr.nama_rek\": \"Hasil Selisih Lebih Tukar Menukar Aset Lainnya-Aset Tidak Berwujud\"}, {\"fpd.kode_rekening\": \"4.1.4.2.6.2\", \"fpd.terget_realita\": 0.0, \"fpd.totrealisasi_after\": 0.0, \"fpd.persetarget_all\": 0.0, \"dr.nama_rek\": \"Hasil Selisih Lebih Tukar Menukar Aset Lainnya-Aset Lain-Lain\"}, {\"fpd.kode_rekening\": \"4.1.4.3\", \"fpd.terget_realita\": 0.0, \"fpd.totrealisasi_after\": 0.0, \"fpd.persetarget_all\": 0.0, \"dr.nama_rek\": \"Hasil Pemanfaatan BMD yang Tidak Dipisahkan\"}, {\"fpd.kode_rekening\": \"4.1.4.3.1\", \"fpd.terget_realita\": 0.0, \"fpd.totrealisasi_after\": 0.0, \"fpd.persetarget_all\": 0.0, \"dr.nama_rek\": \"Hasil Sewa BMD\"}, {\"fpd.kode_rekening\": \"4.1.4.3.1.1\", \"fpd.terget_realita\": 0.0, \"fpd.totrealisasi_after\": 0.0, \"fpd.persetarget_all\": 0.0, \"dr.nama_rek\": \"Hasil Sewa BMD\"}, {\"fpd.kode_rekening\": \"4.1.4.3.2\", \"fpd.terget_realita\": 0.0, \"fpd.totrealisasi_after\": 0.0, \"fpd.persetarget_all\": 0.0, \"dr.nama_rek\": \"Hasil Kerja Sama Pemanfaatan BMD\"}, {\"fpd.kode_rekening\": \"4.1.4.3.2.1\", \"fpd.terget_realita\": 0.0, \"fpd.totrealisasi_after\": 0.0, \"fpd.persetarget_all\": 0.0, \"dr.nama_rek\": \"Hasil Kerja Sama Pemanfaatan BMD\"}, {\"fpd.kode_rekening\": \"4.1.4.3.3\", \"fpd.terget_realita\": 0.0, \"fpd.totrealisasi_after\": 0.0, \"fpd.persetarget_all\": 0.0, \"dr.nama_rek\": \"Hasil dari Bangun Guna Serah\"}, {\"fpd.kode_rekening\": \"4.1.4.3.3.1\", \"fpd.terget_realita\": 0.0, \"fpd.totrealisasi_after\": 0.0, \"fpd.persetarget_all\": 0.0, \"dr.nama_rek\": \"Hasil dari Bangun Guna Serah\"}, {\"fpd.kode_rekening\": \"4.1.4.3.4\", \"fpd.terget_realita\": 0.0, \"fpd.totrealisasi_after\": 0.0, \"fpd.persetarget_all\": 0.0, \"dr.nama_rek\": \"Hasil dari Bangun Serah Guna\"}, {\"fpd.kode_rekening\": \"4.1.4.3.4.1\", \"fpd.terget_realita\": 0.0, \"fpd.totrealisasi_after\": 0.0, \"fpd.persetarget_all\": 0.0, \"dr.nama_rek\": \"Hasil dari Bangun Serah Guna\"}, {\"fpd.kode_rekening\": \"4.1.4.3.5\", \"fpd.terget_realita\": 0.0, \"fpd.totrealisasi_after\": 0.0, \"fpd.persetarget_all\": 0.0, \"dr.nama_rek\": \"Hasil dari Kerja Sama Penyediaan Infrastruktur\"}, {\"fpd.kode_rekening\": \"4.1.4.3.5.1\", \"fpd.terget_realita\": 0.0, \"fpd.totrealisasi_after\": 0.0, \"fpd.persetarget_all\": 0.0, \"dr.nama_rek\": \"Hasil dari Kerja Sama Penyediaan Infrastruktur\"}, {\"fpd.kode_rekening\": \"4.1.4.4\", \"fpd.terget_realita\": 22365000000.0, \"fpd.totrealisasi_after\": 14888367007.25, \"fpd.persetarget_all\": 66.56993967024368, \"dr.nama_rek\": \"Hasil Kerja Sama Daerah\"}, {\"fpd.kode_rekening\": \"4.1.4.4.1\", \"fpd.terget_realita\": 22365000000.0, \"fpd.totrealisasi_after\": 14888367007.25, \"fpd.persetarget_all\": 66.56993967024368, \"dr.nama_rek\": \"Hasil Kerja Sama Daerah\"}, {\"fpd.kode_rekening\": \"4.1.4.4.1.1\", \"fpd.terget_realita\": 22365000000.0, \"fpd.totrealisasi_after\": 14888367007.25, \"fpd.persetarget_all\": 66.56993967024368, \"dr.nama_rek\": \"Hasil Kerja Sama Daerah\"}, {\"fpd.kode_rekening\": \"4.1.4.4.1.1.1\", \"fpd.terget_realita\": 0.0, \"fpd.totrealisasi_after\": 138290444.25, \"fpd.persetarget_all\": 100.0, \"dr.nama_rek\": \"01. PT. Samaco (Mahakam Lampion Garden)\"}, {\"fpd.kode_rekening\": \"4.1.4.4.1.1.2\", \"fpd.terget_realita\": 16000000000.0, \"fpd.totrealisasi_after\": 11121212906.0, \"fpd.persetarget_all\": 69.5075806625, \"dr.nama_rek\": \"03. PT. Pelabuhan Samudera Palaran (PSP)\"}, {\"fpd.kode_rekening\": \"4.1.4.4.1.1.3\", \"fpd.terget_realita\": 6240000000.0, \"fpd.totrealisasi_after\": 3628863657.0, \"fpd.persetarget_all\": 58.154866298076925, \"dr.nama_rek\": \"04. PT. Wahana Abadi Tirtateknilka Sejati (WATS)\"}, {\"fpd.kode_rekening\": \"4.1.4.4.1.1.4\", \"fpd.terget_realita\": 0.0, \"fpd.totrealisasi_after\": 0.0, \"fpd.persetarget_all\": 0.0, \"dr.nama_rek\": \"02. PERUSAHAAN PATUNGAN\"}, {\"fpd.kode_rekening\": \"4.1.4.4.1.1.5\", \"fpd.terget_realita\": 125000000.0, \"fpd.totrealisasi_after\": 0.0, \"fpd.persetarget_all\": 0.0, \"dr.nama_rek\": \"  a. Pasar Segiri (PT. Yudha Putera Kaltim)\"}, {\"fpd.kode_rekening\": \"4.1.4.4.1.1.6\", \"fpd.terget_realita\": 0.0, \"fpd.totrealisasi_after\": 0.0, \"fpd.persetarget_all\": 0.0, \"dr.nama_rek\": \"  b. Pasar Sungai Dama (PT. Surya Rizky Reza Jaya Abadi)\"}, {\"fpd.kode_rekening\": \"4.1.4.4.1.1.7\", \"fpd.terget_realita\": 0.0, \"fpd.totrealisasi_after\": 0.0, \"fpd.persetarget_all\": 0.0, \"dr.nama_rek\": \"  c. Pasar Kedondong (PT. Bahana Surya Sentosa)\"}, {\"fpd.kode_rekening\": \"4.1.4.4.1.1.8\", \"fpd.terget_realita\": 0.0, \"fpd.totrealisasi_after\": 0.0, \"fpd.persetarget_all\": 0.0, \"dr.nama_rek\": \"  d. Pasar Pagi (PT. Buluh Perindu)\"}, {\"fpd.kode_rekening\": \"4.1.4.5\", \"fpd.terget_realita\": 10000000000.0, \"fpd.totrealisasi_after\": 7300884130.26, \"fpd.persetarget_all\": 73.0088413026, \"dr.nama_rek\": \"Jasa Giro\"}, {\"fpd.kode_rekening\": \"4.1.4.5.1\", \"fpd.terget_realita\": 0.0, \"fpd.totrealisasi_after\": 4892541149.9, \"fpd.persetarget_all\": 100.0, \"dr.nama_rek\": \"Jasa Giro pada Kas Daerah\"}, {\"fpd.kode_rekening\": \"4.1.4.5.1.1\", \"fpd.terget_realita\": 0.0, \"fpd.totrealisasi_after\": 4892541149.9, \"fpd.persetarget_all\": 100.0, \"dr.nama_rek\": \"Jasa Giro pada Kas Daerah\"}, {\"fpd.kode_rekening\": \"4.1.4.5.2\", \"fpd.terget_realita\": 0.0, \"fpd.totrealisasi_after\": 2408342980.36, \"fpd.persetarget_all\": 100.0, \"dr.nama_rek\": \"Jasa Giro pada Kas di Bendahara\"}, {\"fpd.kode_rekening\": \"4.1.4.5.2.1\", \"fpd.terget_realita\": 0.0, \"fpd.totrealisasi_after\": 2408342980.36, \"fpd.persetarget_all\": 100.0, \"dr.nama_rek\": \"Jasa Giro pada Kas di Bendahara\"}, {\"fpd.kode_rekening\": \"4.1.4.5.3\", \"fpd.terget_realita\": 0.0, \"fpd.totrealisasi_after\": 0.0, \"fpd.persetarget_all\": 0.0, \"dr.nama_rek\": \"Jasa Giro pada Rekening Dana Cadangan\"}, {\"fpd.kode_rekening\": \"4.1.4.5.3.1\", \"fpd.terget_realita\": 0.0, \"fpd.totrealisasi_after\": 0.0, \"fpd.persetarget_all\": 0.0, \"dr.nama_rek\": \"Jasa Giro pada Rekening Dana Cadangan\"}, {\"fpd.kode_rekening\": \"4.1.4.5.4\", \"fpd.terget_realita\": 0.0, \"fpd.totrealisasi_after\": 0.0, \"fpd.persetarget_all\": 0.0, \"dr.nama_rek\": \"Jasa Giro pada Rekening Dana BOS\"}, {\"fpd.kode_rekening\": \"4.1.4.5.4.1\", \"fpd.terget_realita\": 0.0, \"fpd.totrealisasi_after\": 0.0, \"fpd.persetarget_all\": 0.0, \"dr.nama_rek\": \"Jasa Giro pada Rekening Dana BOS\"}, {\"fpd.kode_rekening\": \"4.1.4.5.5\", \"fpd.terget_realita\": 0.0, \"fpd.totrealisasi_after\": 0.0, \"fpd.persetarget_all\": 0.0, \"dr.nama_rek\": \"Jasa Giro Dana Kapitasi pada FKTP\"}, {\"fpd.kode_rekening\": \"4.1.4.5.5.1\", \"fpd.terget_realita\": 0.0, \"fpd.totrealisasi_after\": 0.0, \"fpd.persetarget_all\": 0.0, \"dr.nama_rek\": \"Jasa Giro Dana Kapitasi pada FKTP\"}, {\"fpd.kode_rekening\": \"4.1.4.6\", \"fpd.terget_realita\": 0.0, \"fpd.totrealisasi_after\": 0.0, \"fpd.persetarget_all\": 0.0, \"dr.nama_rek\": \"Hasil Pengelolaan Dana Bergulir\"}, {\"fpd.kode_rekening\": \"4.1.4.6.6\", \"fpd.terget_realita\": 0.0, \"fpd.totrealisasi_after\": 0.0, \"fpd.persetarget_all\": 0.0, \"dr.nama_rek\": \"Hasil Pengelolaan Dana Bergulir\"}, {\"fpd.kode_rekening\": \"4.1.4.6.6.1\", \"fpd.terget_realita\": 0.0, \"fpd.totrealisasi_after\": 0.0, \"fpd.persetarget_all\": 0.0, \"dr.nama_rek\": \"Hasil Pengelolaan Dana Bergulir\"}, {\"fpd.kode_rekening\": \"4.1.4.7\", \"fpd.terget_realita\": 0.0, \"fpd.totrealisasi_after\": 16692842770.27, \"fpd.persetarget_all\": 100.0, \"dr.nama_rek\": \"Pendapatan Bunga\"}, {\"fpd.kode_rekening\": \"4.1.4.7.1\", \"fpd.terget_realita\": 0.0, \"fpd.totrealisasi_after\": 16692842770.27, \"fpd.persetarget_all\": 100.0, \"dr.nama_rek\": \"Pendapatan Bunga atas Penempatan Uang Pemerintah Daerah\"}, {\"fpd.kode_rekening\": \"4.1.4.7.1.1\", \"fpd.terget_realita\": 0.0, \"fpd.totrealisasi_after\": 16692842770.27, \"fpd.persetarget_all\": 100.0, \"dr.nama_rek\": \"Pendapatan Bunga atas Penempatan Uang Pemerintah Daerah\"}, {\"fpd.kode_rekening\": \"4.1.4.22\", \"fpd.terget_realita\": 0.0, \"fpd.totrealisasi_after\": 0.0, \"fpd.persetarget_all\": 0.0, \"dr.nama_rek\": \"Pendapatan Zakat, Infaq, Shadaqah, dan Wakaf\"}, {\"fpd.kode_rekening\": \"4.1.4.8\", \"fpd.terget_realita\": 0.0, \"fpd.totrealisasi_after\": 0.0, \"fpd.persetarget_all\": 0.0, \"dr.nama_rek\": \"Penerimaan atas Tuntutan Ganti Kerugian Keuangan Daerah\"}, {\"fpd.kode_rekening\": \"4.1.4.8.1\", \"fpd.terget_realita\": 0.0, \"fpd.totrealisasi_after\": 0.0, \"fpd.persetarget_all\": 0.0, \"dr.nama_rek\": \"Tuntutan Ganti Kerugian Daerah terhadap Bendahara\"}, {\"fpd.kode_rekening\": \"4.1.4.8.1.1\", \"fpd.terget_realita\": 0.0, \"fpd.totrealisasi_after\": 0.0, \"fpd.persetarget_all\": 0.0, \"dr.nama_rek\": \"Tuntutan Ganti Kerugian Daerah terhadap Bendahara\"}, {\"fpd.kode_rekening\": \"4.1.4.8.2\", \"fpd.terget_realita\": 0.0, \"fpd.totrealisasi_after\": 0.0, \"fpd.persetarget_all\": 0.0, \"dr.nama_rek\": \"Tuntutan Ganti Kerugian Daerah terhadap Pegawai Negeri Bukan Bendahara atau Pejabat Lain\"}, {\"fpd.kode_rekening\": \"4.1.4.8.2.1\", \"fpd.terget_realita\": 0.0, \"fpd.totrealisasi_after\": 0.0, \"fpd.persetarget_all\": 0.0, \"dr.nama_rek\": \"Tuntutan Ganti Kerugian Daerah terhadap Pegawai Negeri Bukan Bendahara atau Pejabat Lain\"}, {\"fpd.kode_rekening\": \"4.1.4.9\", \"fpd.terget_realita\": 2999361674.0, \"fpd.totrealisasi_after\": 4178100910.26, \"fpd.persetarget_all\": 139.29966987569102, \"dr.nama_rek\": \"Penerimaan Komisi, Potongan, atau Bentuk Lain\"}, {\"fpd.kode_rekening\": \"4.1.4.9.1\", \"fpd.terget_realita\": 2999361674.0, \"fpd.totrealisasi_after\": 4178100910.26, \"fpd.persetarget_all\": 139.29966987569102, \"dr.nama_rek\": \"Penerimaan Komisi, Potongan, atau Bentuk Lain\"}, {\"fpd.kode_rekening\": \"4.1.4.9.1.1\", \"fpd.terget_realita\": 2999361674.0, \"fpd.totrealisasi_after\": 4178100910.26, \"fpd.persetarget_all\": 139.29966987569102, \"dr.nama_rek\": \"Penerimaan Komisi, Potongan, atau Bentuk Lain\"}, {\"fpd.kode_rekening\": \"4.1.4.9.1.1.1\", \"fpd.terget_realita\": 2999361674.0, \"fpd.totrealisasi_after\": 4178100910.26, \"fpd.persetarget_all\": 139.29966987569102, \"dr.nama_rek\": \"01. Penerimaan Lain-Lain (Lebih Bayar Pendapatan Pajak / Retribusi atau penerimaan PAD Lain-lainnya)\"}, {\"fpd.kode_rekening\": \"4.1.4.10\", \"fpd.terget_realita\": 0.0, \"fpd.totrealisasi_after\": 0.0, \"fpd.persetarget_all\": 0.0, \"dr.nama_rek\": \"Penerimaan Keuntungan dari Selisih Nilai Tukar Rupiah terhadap Mata Uang Asing\"}, {\"fpd.kode_rekening\": \"4.1.4.10.1\", \"fpd.terget_realita\": 0.0, \"fpd.totrealisasi_after\": 0.0, \"fpd.persetarget_all\": 0.0, \"dr.nama_rek\": \"Penerimaan Keuntungan dari Selisih Nilai Tukar Rupiah terhadap Mata Uang Asing\"}, {\"fpd.kode_rekening\": \"4.1.4.10.1.1\", \"fpd.terget_realita\": 0.0, \"fpd.totrealisasi_after\": 0.0, \"fpd.persetarget_all\": 0.0, \"dr.nama_rek\": \"Penerimaan Keuntungan dari Selisih Nilai Tukar Rupiah terhadap Mata Uang Asing\"}, {\"fpd.kode_rekening\": \"4.1.4.11\", \"fpd.terget_realita\": 1000000000.0, \"fpd.totrealisasi_after\": 105183975.5, \"fpd.persetarget_all\": 10.51839755, \"dr.nama_rek\": \"Pendapatan Denda atas Keterlambatan Pelaksanaan Pekerjaan\"}, {\"fpd.kode_rekening\": \"4.1.4.11.1\", \"fpd.terget_realita\": 1000000000.0, \"fpd.totrealisasi_after\": 105183975.5, \"fpd.persetarget_all\": 10.51839755, \"dr.nama_rek\": \"Pendapatan Denda atas Keterlambatan Pelaksanaan Pekerjaan\"}, {\"fpd.kode_rekening\": \"4.1.4.11.1.1\", \"fpd.terget_realita\": 1000000000.0, \"fpd.totrealisasi_after\": 105183975.5, \"fpd.persetarget_all\": 10.51839755, \"dr.nama_rek\": \"Pendapatan Denda atas Keterlambatan Pelaksanaan Pekerjaan\"}, {\"fpd.kode_rekening\": \"4.1.4.12\", \"fpd.terget_realita\": 2000000000.0, \"fpd.totrealisasi_after\": 5383763272.62, \"fpd.persetarget_all\": 269.18816363099995, \"dr.nama_rek\": \"Pendapatan Denda Pajak Daerah\"}, {\"fpd.kode_rekening\": \"4.1.4.12.6\", \"fpd.terget_realita\": 112000000.0, \"fpd.totrealisasi_after\": 1096310505.4, \"fpd.persetarget_all\": 978.8486655357143, \"dr.nama_rek\": \"Pendapatan Denda Pajak Hotel\"}, {\"fpd.kode_rekening\": \"4.1.4.12.6.1\", \"fpd.terget_realita\": 112000000.0, \"fpd.totrealisasi_after\": 1096310505.4, \"fpd.persetarget_all\": 978.8486655357143, \"dr.nama_rek\": \"Pendapatan Denda Pajak Hotel\"}, {\"fpd.kode_rekening\": \"4.1.4.12.7\", \"fpd.terget_realita\": 387000000.0, \"fpd.totrealisasi_after\": 410546403.38, \"fpd.persetarget_all\": 106.08434195865632, \"dr.nama_rek\": \"Pendapatan Denda Pajak Restoran\"}, {\"fpd.kode_rekening\": \"4.1.4.12.7.1\", \"fpd.terget_realita\": 387000000.0, \"fpd.totrealisasi_after\": 410546403.38, \"fpd.persetarget_all\": 106.08434195865632, \"dr.nama_rek\": \"Pendapatan Denda Pajak Restoran dan Sejenisnya\"}, {\"fpd.kode_rekening\": \"4.1.4.12.8\", \"fpd.terget_realita\": 14300000.0, \"fpd.totrealisasi_after\": 605372388.73, \"fpd.persetarget_all\": 4233.373347762238, \"dr.nama_rek\": \"Pendapatan Denda Pajak Hiburan\"}, {\"fpd.kode_rekening\": \"4.1.4.12.8.1\", \"fpd.terget_realita\": 14300000.0, \"fpd.totrealisasi_after\": 605372388.73, \"fpd.persetarget_all\": 4233.373347762238, \"dr.nama_rek\": \"Pendapatan Denda Pajak Hiburan dan Sejenisnya\"}, {\"fpd.kode_rekening\": \"4.1.4.12.9\", \"fpd.terget_realita\": 105000000.0, \"fpd.totrealisasi_after\": 55666162.0, \"fpd.persetarget_all\": 53.015392380952385, \"dr.nama_rek\": \"Pendapatan Denda Pajak Reklame\"}, {\"fpd.kode_rekening\": \"4.1.4.12.9.1\", \"fpd.terget_realita\": 105000000.0, \"fpd.totrealisasi_after\": 55666162.0, \"fpd.persetarget_all\": 53.015392380952385, \"dr.nama_rek\": \"Pendapatan Denda Pajak Reklame dan Sejenisnya\"}, {\"fpd.kode_rekening\": \"4.1.4.12.10\", \"fpd.terget_realita\": 6700000.0, \"fpd.totrealisasi_after\": 153832.08, \"fpd.persetarget_all\": 2.2960011940298504, \"dr.nama_rek\": \"Pendapatan Denda Pajak Tenaga Listrik\"}, {\"fpd.kode_rekening\": \"4.1.4.12.10.1\", \"fpd.terget_realita\": 6700000.0, \"fpd.totrealisasi_after\": 153832.08, \"fpd.persetarget_all\": 2.2960011940298504, \"dr.nama_rek\": \"Pendapatan Denda Pajak Tenaga Listrik\"}, {\"fpd.kode_rekening\": \"4.1.4.12.11\", \"fpd.terget_realita\": 57300000.0, \"fpd.totrealisasi_after\": 30630865.0, \"fpd.persetarget_all\": 53.45700698080279, \"dr.nama_rek\": \"Pendapatan Denda Pajak Parkir\"}, {\"fpd.kode_rekening\": \"4.1.4.12.11.1\", \"fpd.terget_realita\": 57300000.0, \"fpd.totrealisasi_after\": 30630865.0, \"fpd.persetarget_all\": 53.45700698080279, \"dr.nama_rek\": \"Pendapatan Denda Pajak Parkir\"}, {\"fpd.kode_rekening\": \"4.1.4.12.12\", \"fpd.terget_realita\": 2200000.0, \"fpd.totrealisasi_after\": 274037.0, \"fpd.persetarget_all\": 12.456227272727274, \"dr.nama_rek\": \"Pendapatan Denda Pajak Air Tanah\"}, {\"fpd.kode_rekening\": \"4.1.4.12.12.1\", \"fpd.terget_realita\": 2200000.0, \"fpd.totrealisasi_after\": 274037.0, \"fpd.persetarget_all\": 12.456227272727274, \"dr.nama_rek\": \"Pendapatan Denda Pajak Air Tanah\"}, {\"fpd.kode_rekening\": \"4.1.4.12.13\", \"fpd.terget_realita\": 15500000.0, \"fpd.totrealisasi_after\": 0.0, \"fpd.persetarget_all\": 0.0, \"dr.nama_rek\": \"Pendapatan Denda Pajak Sarang Burung \\\\nWalet\"}, {\"fpd.kode_rekening\": \"4.1.4.12.13.1\", \"fpd.terget_realita\": 15500000.0, \"fpd.totrealisasi_after\": 0.0, \"fpd.persetarget_all\": 0.0, \"dr.nama_rek\": \"Pendapatan Denda Pajak Sarang Burung Walet\"}, {\"fpd.kode_rekening\": \"4.1.4.12.14\", \"fpd.terget_realita\": 0.0, \"fpd.totrealisasi_after\": 0.0, \"fpd.persetarget_all\": 0.0, \"dr.nama_rek\": \"Pendapatan Denda Pajak Mineral Bukan Logam dan Batuan\"}, {\"fpd.kode_rekening\": \"4.1.4.12.14.1\", \"fpd.terget_realita\": 0.0, \"fpd.totrealisasi_after\": 0.0, \"fpd.persetarget_all\": 0.0, \"dr.nama_rek\": \"Pendapatan Denda Pajak Mineral Bukan Logam dan Batuan\"}, {\"fpd.kode_rekening\": \"4.1.4.12.15\", \"fpd.terget_realita\": 1300000000.0, \"fpd.totrealisasi_after\": 3182809079.03, \"fpd.persetarget_all\": 244.8314676176923, \"dr.nama_rek\": \"Pendapatan Denda Pajak Bumi dan Bangunan Perdesaan dan Perkotaan (PBBP2)\"}, {\"fpd.kode_rekening\": \"4.1.4.12.15.1\", \"fpd.terget_realita\": 1300000000.0, \"fpd.totrealisasi_after\": 3182809079.03, \"fpd.persetarget_all\": 244.8314676176923, \"dr.nama_rek\": \"Pendapatan Denda PBBP2\"}, {\"fpd.kode_rekening\": \"4.1.4.12.16\", \"fpd.terget_realita\": 0.0, \"fpd.totrealisasi_after\": 2000000.0, \"fpd.persetarget_all\": 100.0, \"dr.nama_rek\": \"Pendapatan Denda Bea Perolehan Hak atas Tanah dan Bangunan (BPHTB)\"}, {\"fpd.kode_rekening\": \"4.1.4.12.16.1\", \"fpd.terget_realita\": 0.0, \"fpd.totrealisasi_after\": 0.0, \"fpd.persetarget_all\": 0.0, \"dr.nama_rek\": \"Pendapatan Denda BPHTB-Pemindahan Hak\"}, {\"fpd.kode_rekening\": \"4.1.4.12.16.2\", \"fpd.terget_realita\": 0.0, \"fpd.totrealisasi_after\": 2000000.0, \"fpd.persetarget_all\": 100.0, \"dr.nama_rek\": \"Pendapatan Denda BPHTB-Pemberian Hak Baru\"}, {\"fpd.kode_rekening\": \"4.1.4.13\", \"fpd.terget_realita\": 600000000.0, \"fpd.totrealisasi_after\": 77621441.0, \"fpd.persetarget_all\": 12.936906833333333, \"dr.nama_rek\": \"Pendapatan Denda Retribusi Daerah\"}, {\"fpd.kode_rekening\": \"4.1.4.13.1\", \"fpd.terget_realita\": 0.0, \"fpd.totrealisasi_after\": 9924082.0, \"fpd.persetarget_all\": 100.0, \"dr.nama_rek\": \"Pendapatan Denda Retribusi Jasa Umum\"}, {\"fpd.kode_rekening\": \"4.1.4.13.1.1\", \"fpd.terget_realita\": 0.0, \"fpd.totrealisasi_after\": 9924082.0, \"fpd.persetarget_all\": 100.0, \"dr.nama_rek\": \"Pendapatan Denda Retribusi Jasa Umum\"}, {\"fpd.kode_rekening\": \"4.1.4.13.2\", \"fpd.terget_realita\": 0.0, \"fpd.totrealisasi_after\": 67697359.0, \"fpd.persetarget_all\": 100.0, \"dr.nama_rek\": \"Pendapatan Denda Retribusi Jasa Usaha\"}, {\"fpd.kode_rekening\": \"4.1.4.13.2.1\", \"fpd.terget_realita\": 0.0, \"fpd.totrealisasi_after\": 67697359.0, \"fpd.persetarget_all\": 100.0, \"dr.nama_rek\": \"Pendapatan Denda Retribusi Jasa Usaha\"}, {\"fpd.kode_rekening\": \"4.1.4.13.3\", \"fpd.terget_realita\": 0.0, \"fpd.totrealisasi_after\": 0.0, \"fpd.persetarget_all\": 0.0, \"dr.nama_rek\": \"Pendapatan Denda Retribusi Perizinan Tertentu\"}, {\"fpd.kode_rekening\": \"4.1.4.13.3.1\", \"fpd.terget_realita\": 0.0, \"fpd.totrealisasi_after\": 0.0, \"fpd.persetarget_all\": 0.0, \"dr.nama_rek\": \"Pendapatan Denda Retribusi Izin Mendirikan Bangunan\"}, {\"fpd.kode_rekening\": \"4.1.4.22.1\", \"fpd.terget_realita\": 0.0, \"fpd.totrealisasi_after\": 0.0, \"fpd.persetarget_all\": 0.0, \"dr.nama_rek\": \"Pendapatan Zakat\"}, {\"fpd.kode_rekening\": \"4.1.4.13.3.2\", \"fpd.terget_realita\": 0.0, \"fpd.totrealisasi_after\": 0.0, \"fpd.persetarget_all\": 0.0, \"dr.nama_rek\": \"Pendapatan Denda Retribusi Izin Tempat Penjualan Minuman Beralkohol\"}, {\"fpd.kode_rekening\": \"4.1.4.13.3.3\", \"fpd.terget_realita\": 0.0, \"fpd.totrealisasi_after\": 0.0, \"fpd.persetarget_all\": 0.0, \"dr.nama_rek\": \"Pendapatan Denda Retribusi Izin Tempat Penjualan Minuman Beralkohol\"}, {\"fpd.kode_rekening\": \"4.1.4.13.3.4\", \"fpd.terget_realita\": 0.0, \"fpd.totrealisasi_after\": 0.0, \"fpd.persetarget_all\": 0.0, \"dr.nama_rek\": \"Pendapatan Denda Retribusi Izin Usaha Perikanan\"}, {\"fpd.kode_rekening\": \"4.1.4.13.3.5\", \"fpd.terget_realita\": 0.0, \"fpd.totrealisasi_after\": 0.0, \"fpd.persetarget_all\": 0.0, \"dr.nama_rek\": \"Pendapatan Denda Retribusi Pengendalian Lalu Lintas\"}, {\"fpd.kode_rekening\": \"4.1.4.13.3.6\", \"fpd.terget_realita\": 0.0, \"fpd.totrealisasi_after\": 0.0, \"fpd.persetarget_all\": 0.0, \"dr.nama_rek\": \"Pendapatan Denda Retribusi Perpanjangan Izin Mempekerjakan Tenaga Kerja Asing (IMTA)\"}, {\"fpd.kode_rekening\": \"4.1.4.14\", \"fpd.terget_realita\": 0.0, \"fpd.totrealisasi_after\": 0.0, \"fpd.persetarget_all\": 0.0, \"dr.nama_rek\": \"Pendapatan Hasil Eksekusi atas Jaminan\"}, {\"fpd.kode_rekening\": \"4.1.4.14.1\", \"fpd.terget_realita\": 0.0, \"fpd.totrealisasi_after\": 0.0, \"fpd.persetarget_all\": 0.0, \"dr.nama_rek\": \"Hasil Eksekusi atas Jaminan atas Pengadaan Barang/Jasa\"}, {\"fpd.kode_rekening\": \"4.1.4.14.1.1\", \"fpd.terget_realita\": 0.0, \"fpd.totrealisasi_after\": 0.0, \"fpd.persetarget_all\": 0.0, \"dr.nama_rek\": \"Hasil Eksekusi atas Jaminan atas Pengadaan Barang/Jasa\"}, {\"fpd.kode_rekening\": \"4.1.4.15\", \"fpd.terget_realita\": 1000000000.0, \"fpd.totrealisasi_after\": 385665037.35, \"fpd.persetarget_all\": 38.566503735000005, \"dr.nama_rek\": \"Pendapatan dari Pengembalian\"}, {\"fpd.kode_rekening\": \"4.1.4.15.1\", \"fpd.terget_realita\": 0.0, \"fpd.totrealisasi_after\": 0.0, \"fpd.persetarget_all\": 0.0, \"dr.nama_rek\": \"Pendapatan dari Pengembalian Kelebihan Pembayaran Pajak Penghasilan Pasal 21\"}, {\"fpd.kode_rekening\": \"4.1.4.15.1.1\", \"fpd.terget_realita\": 0.0, \"fpd.totrealisasi_after\": 0.0, \"fpd.persetarget_all\": 0.0, \"dr.nama_rek\": \"Pendapatan dari Pengembalian Kelebihan Pembayaran Pajak Penghasilan Pasal 21\"}, {\"fpd.kode_rekening\": \"4.1.4.15.2\", \"fpd.terget_realita\": 0.0, \"fpd.totrealisasi_after\": 0.0, \"fpd.persetarget_all\": 0.0, \"dr.nama_rek\": \"Pendapatan dari Pengembalian Kelebihan Pembayaran Iuran Simpanan Peserta Tabungan Perumahan Rakyat ASN\"}, {\"fpd.kode_rekening\": \"4.1.4.15.2.1\", \"fpd.terget_realita\": 0.0, \"fpd.totrealisasi_after\": 0.0, \"fpd.persetarget_all\": 0.0, \"dr.nama_rek\": \"Pendapatan dari Pengembalian Kelebihan Pembayaran Iuran Simpanan Peserta Tabungan Perumahan Rakyat PNS\"}, {\"fpd.kode_rekening\": \"4.1.4.15.2.2\", \"fpd.terget_realita\": 0.0, \"fpd.totrealisasi_after\": 0.0, \"fpd.persetarget_all\": 0.0, \"dr.nama_rek\": \"Pendapatan dari Pengembalian Kelebihan Pembayaran Iuran Simpanan Peserta Tabungan Perumahan Rakyat PPPK\"}, {\"fpd.kode_rekening\": \"4.1.4.15.3\", \"fpd.terget_realita\": 0.0, \"fpd.totrealisasi_after\": 207803393.35, \"fpd.persetarget_all\": 100.0, \"dr.nama_rek\": \"Pendapatan dari Pengembalian Kelebihan Pembayaran Gaji dan Tunjangan\"}, {\"fpd.kode_rekening\": \"4.1.4.15.3.1\", \"fpd.terget_realita\": 0.0, \"fpd.totrealisasi_after\": 207803393.35, \"fpd.persetarget_all\": 100.0, \"dr.nama_rek\": \"Pendapatan dari Pengembalian Kelebihan Pembayaran Gaji dan Tunjangan\"}, {\"fpd.kode_rekening\": \"4.1.4.15.4\", \"fpd.terget_realita\": 0.0, \"fpd.totrealisasi_after\": 177861644.0, \"fpd.persetarget_all\": 100.0, \"dr.nama_rek\": \"Pendapatan dari Pengembalian Kelebihan Pembayaran Perjalanan Dinas\"}, {\"fpd.kode_rekening\": \"4.1.4.15.4.1\", \"fpd.terget_realita\": 0.0, \"fpd.totrealisasi_after\": 153476011.0, \"fpd.persetarget_all\": 100.0, \"dr.nama_rek\": \"Pendapatan dari Pengembalian Kelebihan Pembayaran Perjalanan Dinas Dalam Negeri Perjalanan Dinas Bia\"}, {\"fpd.kode_rekening\": \"4.1.4.15.4.2\", \"fpd.terget_realita\": 0.0, \"fpd.totrealisasi_after\": 0.0, \"fpd.persetarget_all\": 0.0, \"dr.nama_rek\": \"Pendapatan dari Pengembalian Kelebihan Pembayaran Perjalanan Dinas Dalam Negeri Perjalanan Dinas Tetap\"}, {\"fpd.kode_rekening\": \"4.1.4.15.4.3\", \"fpd.terget_realita\": 0.0, \"fpd.totrealisasi_after\": 804000.0, \"fpd.persetarget_all\": 100.0, \"dr.nama_rek\": \"Pendapatan dari Pengembalian Kelebihan Pembayaran Perjalanan Dinas Dalam Negeri Perjalanan Dinas Dalam Kot\"}, {\"fpd.kode_rekening\": \"4.1.4.15.4.4\", \"fpd.terget_realita\": 0.0, \"fpd.totrealisasi_after\": 0.0, \"fpd.persetarget_all\": 0.0, \"dr.nama_rek\": \"Pendapatan dari Pengembalian Kelebihan Pembayaran Perjalanan Dinas Dalam Negeri Perjalanan Dinas Paket Meeting Dalam Kot\"}, {\"fpd.kode_rekening\": \"4.1.4.15.4.5\", \"fpd.terget_realita\": 0.0, \"fpd.totrealisasi_after\": 0.0, \"fpd.persetarget_all\": 0.0, \"dr.nama_rek\": \"Pendapatan dari Pengembalian Kelebihan Pembayaran Perjalanan Dinas Dalam Negeri Perjalanan Dinas Paket Meeting Luar Kota\"}, {\"fpd.kode_rekening\": \"4.1.4.15.4.6\", \"fpd.terget_realita\": 0.0, \"fpd.totrealisasi_after\": 23581633.0, \"fpd.persetarget_all\": 100.0, \"dr.nama_rek\": \"Pendapatan dari Pengembalian Kelebihan Pembayaran Perjalanan Dinas Luar Negeri Perjalanan Dinas Biasa\\\\u2013Luar Neg\"}, {\"fpd.kode_rekening\": \"4.1.4.15.5\", \"fpd.terget_realita\": 0.0, \"fpd.totrealisasi_after\": 0.0, \"fpd.persetarget_all\": 0.0, \"dr.nama_rek\": \"Pendapatan dari Pengembalian Kelebihan Pembayaran Kecelakaan Kerja (JKK)\"}, {\"fpd.kode_rekening\": \"4.1.4.15.5.1\", \"fpd.terget_realita\": 0.0, \"fpd.totrealisasi_after\": 0.0, \"fpd.persetarget_all\": 0.0, \"dr.nama_rek\": \"Pendapatan dari Pengembalian Kelebihan Pembayaran JKK\"}, {\"fpd.kode_rekening\": \"4.1.4.15.6\", \"fpd.terget_realita\": 0.0, \"fpd.totrealisasi_after\": 0.0, \"fpd.persetarget_all\": 0.0, \"dr.nama_rek\": \"Pendapatan dari Pengembalian Kelebihan Pembayaran Jaminan Kematian (JKM)\"}, {\"fpd.kode_rekening\": \"4.1.4.15.6.1\", \"fpd.terget_realita\": 0.0, \"fpd.totrealisasi_after\": 0.0, \"fpd.persetarget_all\": 0.0, \"dr.nama_rek\": \"Pendapatan dari Pengembalian Kelebihan Pembayaran JKM\"}, {\"fpd.kode_rekening\": \"4.1.4.15.7\", \"fpd.terget_realita\": 0.0, \"fpd.totrealisasi_after\": 0.0, \"fpd.persetarget_all\": 0.0, \"dr.nama_rek\": \"Pendapatan dari Pengembalian Kelebihan Pembayaran Jaminan Kesehatan Nasional (JKN)\"}, {\"fpd.kode_rekening\": \"4.1.4.15.7.1.1\", \"fpd.terget_realita\": 0.0, \"fpd.totrealisasi_after\": 0.0, \"fpd.persetarget_all\": 0.0, \"dr.nama_rek\": \"Pendapatan dari Pengembalian Kelebihan Pembayaran Jaminan Kesehatan Nasional (JKN)\"}, {\"fpd.kode_rekening\": \"4.1.4.17\", \"fpd.terget_realita\": 0.0, \"fpd.totrealisasi_after\": 0.0, \"fpd.persetarget_all\": 0.0, \"dr.nama_rek\": \"Pendapatan Denda Pemanfaatan BMD yang tidak Dipisahkan\"}, {\"fpd.kode_rekening\": \"4.1.4.17.1\", \"fpd.terget_realita\": 0.0, \"fpd.totrealisasi_after\": 0.0, \"fpd.persetarget_all\": 0.0, \"dr.nama_rek\": \"Pendapatan Denda Pengakhiran Sewa BMD\"}, {\"fpd.kode_rekening\": \"4.1.4.17.1.1\", \"fpd.terget_realita\": 0.0, \"fpd.totrealisasi_after\": 0.0, \"fpd.persetarget_all\": 0.0, \"dr.nama_rek\": \"Pendapatan Denda Pengakhiran Sewa BMD\"}, {\"fpd.kode_rekening\": \"4.1.4.17.2\", \"fpd.terget_realita\": 0.0, \"fpd.totrealisasi_after\": 0.0, \"fpd.persetarget_all\": 0.0, \"dr.nama_rek\": \"Pendapatan Denda Hasil dari Kerja Sama Penyediaan Infrastruktur\"}, {\"fpd.kode_rekening\": \"4.1.4.17.2.1\", \"fpd.terget_realita\": 0.0, \"fpd.totrealisasi_after\": 0.0, \"fpd.persetarget_all\": 0.0, \"dr.nama_rek\": \"Pendapatan Denda Hasil dari Kerja Sama Penyediaan Infrastruktur\"}, {\"fpd.kode_rekening\": \"4.1.4.18\", \"fpd.terget_realita\": 5000000000.0, \"fpd.totrealisasi_after\": 3371330411.0, \"fpd.persetarget_all\": 67.42660821999999, \"dr.nama_rek\": \"Pendapatan Dana Kapitasi Jaminan Kesehatan Nasional (JKN) pada Fasilitas Kesehatan Tingkat Pertama (FKTP)\"}, {\"fpd.kode_rekening\": \"4.1.4.18.1\", \"fpd.terget_realita\": 5000000000.0, \"fpd.totrealisasi_after\": 3371330411.0, \"fpd.persetarget_all\": 67.42660821999999, \"dr.nama_rek\": \"Pendapatan Dana Kapitasi JKN pada FKTP\"}, {\"fpd.kode_rekening\": \"4.1.4.18.1.1\", \"fpd.terget_realita\": 5000000000.0, \"fpd.totrealisasi_after\": 3371330411.0, \"fpd.persetarget_all\": 67.42660821999999, \"dr.nama_rek\": \"Pendapatan Dana Kapitasi JKN pada FKTP\"}, {\"fpd.kode_rekening\": \"4.1.4.19\", \"fpd.terget_realita\": 0.0, \"fpd.totrealisasi_after\": 0.0, \"fpd.persetarget_all\": 0.0, \"dr.nama_rek\": \"Pendapatan Hasil Pengelolaan Dana Bergulir\"}, {\"fpd.kode_rekening\": \"4.1.4.19.1\", \"fpd.terget_realita\": 0.0, \"fpd.totrealisasi_after\": 0.0, \"fpd.persetarget_all\": 0.0, \"dr.nama_rek\": \"Pendapatan Hasil Pengelolaan Dana Bergulir\"}, {\"fpd.kode_rekening\": \"4.1.4.19.1.1\", \"fpd.terget_realita\": 0.0, \"fpd.totrealisasi_after\": 0.0, \"fpd.persetarget_all\": 0.0, \"dr.nama_rek\": \"Pendapatan Hasil Pengelolaan Dana Bergulir\"}, {\"fpd.kode_rekening\": \"4.1.4.20\", \"fpd.terget_realita\": 0.0, \"fpd.totrealisasi_after\": 0.0, \"fpd.persetarget_all\": 0.0, \"dr.nama_rek\": \"Pendapatan Berdasarkan Putusan Pengadilan (Inkracht)\"}, {\"fpd.kode_rekening\": \"4.1.4.20.1\", \"fpd.terget_realita\": 0.0, \"fpd.totrealisasi_after\": 0.0, \"fpd.persetarget_all\": 0.0, \"dr.nama_rek\": \"Pendapatan Berdasarkan Putusan Pengadilan (Inkracht)\"}, {\"fpd.kode_rekening\": \"4.1.4.20.1.1\", \"fpd.terget_realita\": 0.0, \"fpd.totrealisasi_after\": 0.0, \"fpd.persetarget_all\": 0.0, \"dr.nama_rek\": \"Pendapatan Berdasarkan Putusan Pengadilan (Inkracht)\"}, {\"fpd.kode_rekening\": \"4.1.4.21\", \"fpd.terget_realita\": 0.0, \"fpd.totrealisasi_after\": 18750000.0, \"fpd.persetarget_all\": 100.0, \"dr.nama_rek\": \"Pendapatan Denda atas Pelanggaran Peraturan Daerah\"}, {\"fpd.kode_rekening\": \"4.1.4.21.1\", \"fpd.terget_realita\": 0.0, \"fpd.totrealisasi_after\": 18750000.0, \"fpd.persetarget_all\": 100.0, \"dr.nama_rek\": \"Pendapatan Denda atas Pelanggaran Peraturan Daerah\"}, {\"fpd.kode_rekening\": \"4.1.4.21.1.1\", \"fpd.terget_realita\": 0.0, \"fpd.totrealisasi_after\": 18750000.0, \"fpd.persetarget_all\": 100.0, \"dr.nama_rek\": \"Pendapatan Denda atas Pelanggaran Peraturan Daerah\"}, {\"fpd.kode_rekening\": \"4.1.4.22.1.2\", \"fpd.terget_realita\": 0.0, \"fpd.totrealisasi_after\": 0.0, \"fpd.persetarget_all\": 0.0, \"dr.nama_rek\": \"Pendapatan Infaq\"}, {\"fpd.kode_rekening\": \"4.1.4.22.1.3\", \"fpd.terget_realita\": 0.0, \"fpd.totrealisasi_after\": 0.0, \"fpd.persetarget_all\": 0.0, \"dr.nama_rek\": \"Pendapatan Shadaqah\"}, {\"fpd.kode_rekening\": \"4.1.4.22.1.4\", \"fpd.terget_realita\": 0.0, \"fpd.totrealisasi_after\": 0.0, \"fpd.persetarget_all\": 0.0, \"dr.nama_rek\": \"Pendapatan Wakaf\"}, {\"fpd.kode_rekening\": \"4.2\", \"fpd.terget_realita\": 3440517731326.0, \"fpd.totrealisasi_after\": 2250869371261.0, \"fpd.persetarget_all\": 65.42240287753143, \"dr.nama_rek\": \"Pendapatan Transfer\"}, {\"fpd.kode_rekening\": \"4.2.1\", \"fpd.terget_realita\": 2288257908000.0, \"fpd.totrealisasi_after\": 1533708179068.0, \"fpd.persetarget_all\": 67.02514492382997, \"dr.nama_rek\": \"Pendapatan Transfer Pemerintah Pusat\"}, {\"fpd.kode_rekening\": \"4.2.1.1\", \"fpd.terget_realita\": 2273784550000.0, \"fpd.totrealisasi_after\": 1526471500068.0, \"fpd.persetarget_all\": 67.13351535738072, \"dr.nama_rek\": \"Dana Perimbangan\"}, {\"fpd.kode_rekening\": \"4.2.1.1.1\", \"fpd.terget_realita\": 1131180361000.0, \"fpd.totrealisasi_after\": 931108574236.0, \"fpd.persetarget_all\": 82.31300739811907, \"dr.nama_rek\": \"Dana Transfer Umum-Dana Bagi Hasil (DBH)\"}, {\"fpd.kode_rekening\": \"4.2.1.1.1.1\", \"fpd.terget_realita\": 65252958000.0, \"fpd.totrealisasi_after\": 1124852185.0, \"fpd.persetarget_all\": 1.7238332475287939, \"dr.nama_rek\": \"DBH Pajak Bumi dan Bangunan\"}, {\"fpd.kode_rekening\": \"4.2.1.1.1.1.1\", \"fpd.terget_realita\": 0.0, \"fpd.totrealisasi_after\": 0.0, \"fpd.persetarget_all\": 0.0, \"dr.nama_rek\": \"01. PBB Pertambangan (P3)\"}, {\"fpd.kode_rekening\": \"4.2.1.1.1.1.2\", \"fpd.terget_realita\": 46444718000.0, \"fpd.totrealisasi_after\": 543657839.0, \"fpd.persetarget_all\": 1.170548261268375, \"dr.nama_rek\": \"01.1. PBB Non Migas\"}, {\"fpd.kode_rekening\": \"4.2.1.1.1.1.3\", \"fpd.terget_realita\": 16874488000.0, \"fpd.totrealisasi_after\": 253510938.0, \"fpd.persetarget_all\": 1.502332621884587, \"dr.nama_rek\": \"01.2. PBB Migas\"}, {\"fpd.kode_rekening\": \"4.2.1.1.1.1.4\", \"fpd.terget_realita\": 77067000.0, \"fpd.totrealisasi_after\": 2164740.0, \"fpd.persetarget_all\": 2.8089065358713845, \"dr.nama_rek\": \"01.3.PBB Sektor Lainnya\"}, {\"fpd.kode_rekening\": \"4.2.1.1.1.1.5\", \"fpd.terget_realita\": 0.0, \"fpd.totrealisasi_after\": 254237240.0, \"fpd.persetarget_all\": 100.0, \"dr.nama_rek\": \"01.4. Pemungutan PBB Migas\"}, {\"fpd.kode_rekening\": \"4.2.1.1.1.1.6\", \"fpd.terget_realita\": 0.0, \"fpd.totrealisasi_after\": 0.0, \"fpd.persetarget_all\": 0.0, \"dr.nama_rek\": \"01.5. Pemungutan PBB Non  Migas\"}, {\"fpd.kode_rekening\": \"4.2.1.1.1.1.7\", \"fpd.terget_realita\": 0.0, \"fpd.totrealisasi_after\": 0.0, \"fpd.persetarget_all\": 0.0, \"dr.nama_rek\": \"01.6. Pemungutan Sektor Lainnya\"}, {\"fpd.kode_rekening\": \"4.2.1.1.1.1.8\", \"fpd.terget_realita\": 0.0, \"fpd.totrealisasi_after\": 0.0, \"fpd.persetarget_all\": 0.0, \"dr.nama_rek\": \"01.7. Bagi Rata-rata\"}, {\"fpd.kode_rekening\": \"4.2.1.1.1.1.9\", \"fpd.terget_realita\": 0.0, \"fpd.totrealisasi_after\": 0.0, \"fpd.persetarget_all\": 0.0, \"dr.nama_rek\": \"01.8. Pelimpahan PBB\"}, {\"fpd.kode_rekening\": \"4.2.1.1.1.1.10\", \"fpd.terget_realita\": 1686890000.0, \"fpd.totrealisasi_after\": 59554189.0, \"fpd.persetarget_all\": 3.5304133049576443, \"dr.nama_rek\": \"01.9.PBB Perkebunan\"}, {\"fpd.kode_rekening\": \"4.2.1.1.1.1.11\", \"fpd.terget_realita\": 169795000.0, \"fpd.totrealisasi_after\": 11727239.0, \"fpd.persetarget_all\": 6.906704555493389, \"dr.nama_rek\": \"01.10. PBB Kehutanan\"}, {\"fpd.kode_rekening\": \"4.2.1.1.1.2\", \"fpd.terget_realita\": 58461252000.0, \"fpd.totrealisasi_after\": 2012398194.0, \"fpd.persetarget_all\": 3.4422769358411958, \"dr.nama_rek\": \"DBH PPh Pasal 21\"}, {\"fpd.kode_rekening\": \"4.2.1.1.1.3\", \"fpd.terget_realita\": 3307556000.0, \"fpd.totrealisasi_after\": 33458637.0, \"fpd.persetarget_all\": 1.011581874955405, \"dr.nama_rek\": \"DBH PPh Pasal 25 dan Pasal 29/WPOPDN\"}, {\"fpd.kode_rekening\": \"4.2.1.1.1.4\", \"fpd.terget_realita\": 0.0, \"fpd.totrealisasi_after\": 220000.0, \"fpd.persetarget_all\": 100.0, \"dr.nama_rek\": \"DBH Cukai Hasil Tembakau (CHT)\"}, {\"fpd.kode_rekening\": \"4.2.1.1.1.5\", \"fpd.terget_realita\": 17568188000.0, \"fpd.totrealisasi_after\": 14443788539.0, \"fpd.persetarget_all\": 82.21558500512404, \"dr.nama_rek\": \"DBH Sumber Daya Alam (SDA) Minyak Bumi\"}, {\"fpd.kode_rekening\": \"4.2.1.1.1.6\", \"fpd.terget_realita\": 48241959000.0, \"fpd.totrealisasi_after\": 38593567200.0, \"fpd.persetarget_all\": 80.0, \"dr.nama_rek\": \"DBH Sumber Daya Alam (SDA) Gas Bumi\"}, {\"fpd.kode_rekening\": \"4.2.1.1.1.7\", \"fpd.terget_realita\": 0.0, \"fpd.totrealisasi_after\": 0.0, \"fpd.persetarget_all\": 0.0, \"dr.nama_rek\": \"DBH Sumber Daya Alam (SDA) Pengusahaan Panas Bumi\"}, {\"fpd.kode_rekening\": \"4.2.1.1.1.8\", \"fpd.terget_realita\": 852089000.0, \"fpd.totrealisasi_after\": 722247059.0, \"fpd.persetarget_all\": 84.76192733388179, \"dr.nama_rek\": \"DBH Sumber Daya Alam (SDA) Mineral dan Batubara-Landrent\"}, {\"fpd.kode_rekening\": \"4.2.1.1.1.9\", \"fpd.terget_realita\": 923697447000.0, \"fpd.totrealisasi_after\": 867566357572.0, \"fpd.persetarget_all\": 93.92321700029555, \"dr.nama_rek\": \"Dana Bagi Hasil (DBH) Sumber Daya Alam (SDA) Mineral dan Batubara-Royalty\"}, {\"fpd.kode_rekening\": \"4.2.1.1.1.10\", \"fpd.terget_realita\": 2244604000.0, \"fpd.totrealisasi_after\": 673381200.0, \"fpd.persetarget_all\": 30.0, \"dr.nama_rek\": \"DBH Sumber Daya Alam (SDA) Kehutanan Provisi Sumber Daya Hutan (PSDH)\"}, {\"fpd.kode_rekening\": \"4.2.1.1.1.11\", \"fpd.terget_realita\": 0.0, \"fpd.totrealisasi_after\": 0.0, \"fpd.persetarget_all\": 0.0, \"dr.nama_rek\": \"DBH Sumber Daya Alam (SDA) Kehutanan Iuran Izin Usaha Pemanfaatan Hutan (IIUPH)\"}, {\"fpd.kode_rekening\": \"4.2.1.1.1.12\", \"fpd.terget_realita\": 0.0, \"fpd.totrealisasi_after\": 0.0, \"fpd.persetarget_all\": 0.0, \"dr.nama_rek\": \"DBH Sumber Daya Alam (SDA) Kehutanan Dana Reboisasi (DR)\"}, {\"fpd.kode_rekening\": \"4.2.1.1.1.13\", \"fpd.terget_realita\": 1074331000.0, \"fpd.totrealisasi_after\": 698315150.0, \"fpd.persetarget_all\": 65.0, \"dr.nama_rek\": \"DBH Sumber Daya Alam (SDA) Perikanan\"}, {\"fpd.kode_rekening\": \"4.2.1.1.1.14\", \"fpd.terget_realita\": 10479977000.0, \"fpd.totrealisasi_after\": 5239988500.0, \"fpd.persetarget_all\": 50.0, \"dr.nama_rek\": \"DBH Lainnya - Sawit\"}, {\"fpd.kode_rekening\": \"4.2.1.1.2\", \"fpd.terget_realita\": 843060860000.0, \"fpd.totrealisasi_after\": 523995082150.0, \"fpd.persetarget_all\": 62.15388556289994, \"dr.nama_rek\": \"Dana Transfer Umum-Dana Alokasi Umum (DAU)\"}, {\"fpd.kode_rekening\": \"4.2.1.1.2.1\", \"fpd.terget_realita\": 730154327000.0, \"fpd.totrealisasi_after\": 486769544000.0, \"fpd.persetarget_all\": 66.66666566231278, \"dr.nama_rek\": \"DAU\"}, {\"fpd.kode_rekening\": \"4.2.1.1.2.1.1\", \"fpd.terget_realita\": 730154327000.0, \"fpd.totrealisasi_after\": 486769544000.0, \"fpd.persetarget_all\": 66.66666566231278, \"dr.nama_rek\": \"DAU yang Tidak Ditentukan Penggunaannya\"}, {\"fpd.kode_rekening\": \"4.2.1.1.2.2\", \"fpd.terget_realita\": 11800000000.0, \"fpd.totrealisasi_after\": 5900000000.0, \"fpd.persetarget_all\": 50.0, \"dr.nama_rek\": \"DAU Tambahan Dukungan Pendanaan Kelurahan\"}, {\"fpd.kode_rekening\": \"4.2.1.1.2.3\", \"fpd.terget_realita\": 0.0, \"fpd.totrealisasi_after\": 0.0, \"fpd.persetarget_all\": 0.0, \"dr.nama_rek\": \"DAU Tambahan Dukungan Pendanaan atas Kebijakan Penyetaraan Penghasilan Tetap Kepala Desa dan Perangkat Desa\"}, {\"fpd.kode_rekening\": \"4.2.1.1.2.4\", \"fpd.terget_realita\": 101106533000.0, \"fpd.totrealisasi_after\": 31325538150.0, \"fpd.persetarget_all\": 30.982704302599316, \"dr.nama_rek\": \"DAU Tambahan Dukungan Pendanaan atas Kebijakan Penggajian Pegawai Pemerintah dengan Perjanjian Kerja\"}, {\"fpd.kode_rekening\": \"4.2.1.1.2.4.1\", \"fpd.terget_realita\": 30321567000.0, \"fpd.totrealisasi_after\": 10090050150.0, \"fpd.persetarget_all\": 33.27680970445888, \"dr.nama_rek\": \"DAU Tambahan Dukungan Pendanaan atas Kebijakan Penggajian Pegawai Pemerintah dengan Perjanjian Kerja\"}, {\"fpd.kode_rekening\": \"4.2.1.1.2.4.2\", \"fpd.terget_realita\": 49190233000.0, \"fpd.totrealisasi_after\": 14757069000.0, \"fpd.persetarget_all\": 29.999998170368496, \"dr.nama_rek\": \"Bidang Pendidikan\"}, {\"fpd.kode_rekening\": \"4.2.1.1.2.4.3\", \"fpd.terget_realita\": 18241753000.0, \"fpd.totrealisasi_after\": 5472525000.0, \"fpd.persetarget_all\": 29.99999506626364, \"dr.nama_rek\": \"Bidang Kesehatan\"}, {\"fpd.kode_rekening\": \"4.2.1.1.2.4.4\", \"fpd.terget_realita\": 3352980000.0, \"fpd.totrealisasi_after\": 1005894000.0, \"fpd.persetarget_all\": 30.0, \"dr.nama_rek\": \"Bidang Pekerjaan Umum\"}, {\"fpd.kode_rekening\": \"4.2.1.1.3\", \"fpd.terget_realita\": 19620025000.0, \"fpd.totrealisasi_after\": 4669356462.0, \"fpd.persetarget_all\": 23.79893227455113, \"dr.nama_rek\": \"Dana Transfer Khusus-Dana Alokasi Khusus (DAK) Fisik\"}, {\"fpd.kode_rekening\": \"4.2.1.1.3.1\", \"fpd.terget_realita\": 323928000.0, \"fpd.totrealisasi_after\": 319931712.0, \"fpd.persetarget_all\": 98.76630362302734, \"dr.nama_rek\": \"DAK Fisik-Bidang Pendidikan-Reguler-PAUD\"}, {\"fpd.kode_rekening\": \"4.2.1.1.3.2\", \"fpd.terget_realita\": 2968359000.0, \"fpd.totrealisasi_after\": 642089750.0, \"fpd.persetarget_all\": 21.63113525015, \"dr.nama_rek\": \"DAK Fisik-Bidang Pendidikan-Reguler-SD\"}, {\"fpd.kode_rekening\": \"4.2.1.1.3.3\", \"fpd.terget_realita\": 7761325000.0, \"fpd.totrealisasi_after\": 1911868750.0, \"fpd.persetarget_all\": 24.633277823052122, \"dr.nama_rek\": \"DAK Fisik-Bidang Pendidikan-Reguler-SMP\"}, {\"fpd.kode_rekening\": \"4.2.1.1.3.4\", \"fpd.terget_realita\": 0.0, \"fpd.totrealisasi_after\": 0.0, \"fpd.persetarget_all\": 0.0, \"dr.nama_rek\": \"DAK Fisik-Bidang Pendidikan-Reguler-SMA\"}, {\"fpd.kode_rekening\": \"4.2.1.1.3.5\", \"fpd.terget_realita\": 0.0, \"fpd.totrealisasi_after\": 0.0, \"fpd.persetarget_all\": 0.0, \"dr.nama_rek\": \"DAK Fisik-Bidang Pendidikan-Reguler-SLB\"}, {\"fpd.kode_rekening\": \"4.2.1.1.3.6\", \"fpd.terget_realita\": 0.0, \"fpd.totrealisasi_after\": 0.0, \"fpd.persetarget_all\": 0.0, \"dr.nama_rek\": \"DAK Fisik-Bidang Pendidikan-Reguler-SKB\"}, {\"fpd.kode_rekening\": \"4.2.1.1.3.7\", \"fpd.terget_realita\": 0.0, \"fpd.totrealisasi_after\": 0.0, \"fpd.persetarget_all\": 0.0, \"dr.nama_rek\": \"DAK Fisik-Bidang Pendidikan-Afirmasi-SD\"}, {\"fpd.kode_rekening\": \"4.2.1.1.3.8\", \"fpd.terget_realita\": 0.0, \"fpd.totrealisasi_after\": 0.0, \"fpd.persetarget_all\": 0.0, \"dr.nama_rek\": \"DAK Fisik-Bidang Pendidikan-Afirmasi-SMP\"}, {\"fpd.kode_rekening\": \"4.2.1.1.3.9\", \"fpd.terget_realita\": 0.0, \"fpd.totrealisasi_after\": 0.0, \"fpd.persetarget_all\": 0.0, \"dr.nama_rek\": \"DAK Fisik-Bidang Pendidikan-Afirmasi-SMA\"}, {\"fpd.kode_rekening\": \"4.2.1.1.3.10\", \"fpd.terget_realita\": 0.0, \"fpd.totrealisasi_after\": 0.0, \"fpd.persetarget_all\": 0.0, \"dr.nama_rek\": \"DAK Fisik-Bidang Pendidikan-Penugasan SMK\"}, {\"fpd.kode_rekening\": \"4.2.1.1.3.11\", \"fpd.terget_realita\": 0.0, \"fpd.totrealisasi_after\": 0.0, \"fpd.persetarget_all\": 0.0, \"dr.nama_rek\": \"DAK Fisik-Bidang Pendidikan-Reguler Perpustakaan Daerah\"}, {\"fpd.kode_rekening\": \"4.2.1.1.3.12\", \"fpd.terget_realita\": 0.0, \"fpd.totrealisasi_after\": 0.0, \"fpd.persetarget_all\": 0.0, \"dr.nama_rek\": \"DAK Fisik-Bidang Pendidikan-Reguler Gedung Olahraga\"}, {\"fpd.kode_rekening\": \"4.2.1.1.3.13\", \"fpd.terget_realita\": 0.0, \"fpd.totrealisasi_after\": 0.0, \"fpd.persetarget_all\": 0.0, \"dr.nama_rek\": \"DAK Fisik-Bidang Kesehatan dan KB Reguler-Pelayanan Kesehaan Dasar\"}, {\"fpd.kode_rekening\": \"4.2.1.1.3.14\", \"fpd.terget_realita\": 0.0, \"fpd.totrealisasi_after\": 0.0, \"fpd.persetarget_all\": 0.0, \"dr.nama_rek\": \"DAK Fisik-Bidang Kesehatan dan KB Reguler-Pelayanan Kesehatan Rujukn\"}, {\"fpd.kode_rekening\": \"4.2.1.1.3.15\", \"fpd.terget_realita\": 0.0, \"fpd.totrealisasi_after\": 0.0, \"fpd.persetarget_all\": 0.0, \"dr.nama_rek\": \"DAK Fisik-Bidang Kesehatan dan KB Reguler-Pelayanan Kefarmasin\"}, {\"fpd.kode_rekening\": \"4.2.1.1.3.16\", \"fpd.terget_realita\": 113971000.0, \"fpd.totrealisasi_after\": 103000000.0, \"fpd.persetarget_all\": 90.37386703635136, \"dr.nama_rek\": \"DAK Fisik-Bidang Kesehatan dan KB Penugasan-Penurunan Angka Kematian Ibu (AKI), Angka Kematian Bayi (AKB) dan Intervesi Stunting\"}, {\"fpd.kode_rekening\": \"4.2.1.1.3.17\", \"fpd.terget_realita\": 0.0, \"fpd.totrealisasi_after\": 0.0, \"fpd.persetarget_all\": 0.0, \"dr.nama_rek\": \"DAK Fisik-Bidang Kesehatan dan KB Penugasan-Penguatan Intervensi Stunting\"}, {\"fpd.kode_rekening\": \"4.2.1.1.3.18\", \"fpd.terget_realita\": 0.0, \"fpd.totrealisasi_after\": 0.0, \"fpd.persetarget_all\": 0.0, \"dr.nama_rek\": \" Fisik-Bidang Kesehatan dan KB Penugasan-Peningkatan Pencegahan dan \\\\nPengendalian Penyakit dan Sanitasi Total \\\\nBerbasis Masyarakat\"}, {\"fpd.kode_rekening\": \"4.2.1.1.3.19\", \"fpd.terget_realita\": 0.0, \"fpd.totrealisasi_after\": 0.0, \"fpd.persetarget_all\": 0.0, \"dr.nama_rek\": \"DAK Fisik-Bidang Kesehatan dan KB Penugasan-Penguatan RS Rujukan \\\\nNasional/Provinsi/Regional/Pariwisata\"}, {\"fpd.kode_rekening\": \"4.2.1.1.3.20\", \"fpd.terget_realita\": 0.0, \"fpd.totrealisasi_after\": 0.0, \"fpd.persetarget_all\": 0.0, \"dr.nama_rek\": \"DAK Fisik-Bidang Kesehatan dan KB Penugasan-Pembangunan RS Pratama\"}, {\"fpd.kode_rekening\": \"4.2.1.1.3.21\", \"fpd.terget_realita\": 0.0, \"fpd.totrealisasi_after\": 0.0, \"fpd.persetarget_all\": 0.0, \"dr.nama_rek\": \"DAK Fisik-Bidang Kesehatan dan KB Penugasan-Puskesmas Pariwisata\"}, {\"fpd.kode_rekening\": \"4.2.1.1.3.22\", \"fpd.terget_realita\": 0.0, \"fpd.totrealisasi_after\": 0.0, \"fpd.persetarget_all\": 0.0, \"dr.nama_rek\": \"DAK Fisik-Bidang Kesehatan dan KB Penugasan-Balai Pelatihan Kesehatan\"}, {\"fpd.kode_rekening\": \"4.2.1.1.3.23\", \"fpd.terget_realita\": 0.0, \"fpd.totrealisasi_after\": 0.0, \"fpd.persetarget_all\": 0.0, \"dr.nama_rek\": \"DAK Fisik-Bidang Kesehatan dan KB Afirmasi-Penguatan Puskesmas Daerah Tertinggal Perbatasan Negara dan Kepulauan (DTPK)\"}, {\"fpd.kode_rekening\": \"4.2.1.1.3.24\", \"fpd.terget_realita\": 0.0, \"fpd.totrealisasi_after\": 0.0, \"fpd.persetarget_all\": 0.0, \"dr.nama_rek\": \"DAK Fisik-Bidang Kesehatan dan KB Afirmasi-Penguatan Prasarana Dasar Puskesmas\"}, {\"fpd.kode_rekening\": \"4.2.1.1.3.25\", \"fpd.terget_realita\": 0.0, \"fpd.totrealisasi_after\": 111866000.0, \"fpd.persetarget_all\": 100.0, \"dr.nama_rek\": \"DAK Fisik-Bidang Kesehatan dan KB Reguler-KB\"}, {\"fpd.kode_rekening\": \"4.2.1.1.3.26\", \"fpd.terget_realita\": 0.0, \"fpd.totrealisasi_after\": 0.0, \"fpd.persetarget_all\": 0.0, \"dr.nama_rek\": \"DAK Fisik-Bidang Kesehatan dan KB Penugasan-Penurunan Stunting (KB)\"}, {\"fpd.kode_rekening\": \"4.2.1.1.3.27\", \"fpd.terget_realita\": 0.0, \"fpd.totrealisasi_after\": 0.0, \"fpd.persetarget_all\": 0.0, \"dr.nama_rek\": \"DAK Fisik-Bidang Perumahan dan Permukiman-Reguler-Penyediaan Rumah Swadaya\"}, {\"fpd.kode_rekening\": \"4.2.1.1.3.28\", \"fpd.terget_realita\": 0.0, \"fpd.totrealisasi_after\": 0.0, \"fpd.persetarget_all\": 0.0, \"dr.nama_rek\": \"DAK Fisik-Bidang Perumahan dan Permukiman-Afirmasi-Penyediaan Rumah Swadaya\"}, {\"fpd.kode_rekening\": \"4.2.1.1.3.29\", \"fpd.terget_realita\": 0.0, \"fpd.totrealisasi_after\": 0.0, \"fpd.persetarget_all\": 0.0, \"dr.nama_rek\": \"DAK Fisik-Bidang Perumahan dan Permukiman-Afirmasi-Penyediaan Rumah Khusus\"}, {\"fpd.kode_rekening\": \"4.2.1.1.3.30\", \"fpd.terget_realita\": 0.0, \"fpd.totrealisasi_after\": 0.0, \"fpd.persetarget_all\": 0.0, \"dr.nama_rek\": \"DAK Fisik-Bidang Industri Kecil dan Menengah-Penugasan-Pembangunan Sentra IKM dan Revitalisasi Sentra IKM\"}, {\"fpd.kode_rekening\": \"4.2.1.1.3.31\", \"fpd.terget_realita\": 0.0, \"fpd.totrealisasi_after\": 0.0, \"fpd.persetarget_all\": 0.0, \"dr.nama_rek\": \"DAK Fisik-Bidang Pertanian-Penugasan-Pembangunan/Renovasi Sarana dan \\\\nPrasarana Fisik Dasar Pembangunan  Pertanian\"}, {\"fpd.kode_rekening\": \"4.2.1.1.3.32\", \"fpd.terget_realita\": 0.0, \"fpd.totrealisasi_after\": 0.0, \"fpd.persetarget_all\": 0.0, \"dr.nama_rek\": \"DAK Fisik-Bidang Kelautan dan Perikanan Penugasan\"}, {\"fpd.kode_rekening\": \"4.2.1.1.3.33\", \"fpd.terget_realita\": 0.0, \"fpd.totrealisasi_after\": 0.0, \"fpd.persetarget_all\": 0.0, \"dr.nama_rek\": \"DAK Fisik-Bidang Pariwisata-Penugasan\"}, {\"fpd.kode_rekening\": \"4.2.1.1.3.34\", \"fpd.terget_realita\": 0.0, \"fpd.totrealisasi_after\": 0.0, \"fpd.persetarget_all\": 0.0, \"dr.nama_rek\": \"DAK Fisik-Bidang Jalan-Reguler-Jalan\"}, {\"fpd.kode_rekening\": \"4.2.1.1.3.35\", \"fpd.terget_realita\": 0.0, \"fpd.totrealisasi_after\": 0.0, \"fpd.persetarget_all\": 0.0, \"dr.nama_rek\": \"DAK Fisik-Bidang Jalan-Penugasan-Jalan\"}, {\"fpd.kode_rekening\": \"4.2.1.1.3.36\", \"fpd.terget_realita\": 0.0, \"fpd.totrealisasi_after\": 0.0, \"fpd.persetarget_all\": 0.0, \"dr.nama_rek\": \"DAK Fisik-Bidang Jalan-Penugasan Keselamatan Jalan\"}, {\"fpd.kode_rekening\": \"4.2.1.1.3.37\", \"fpd.terget_realita\": 0.0, \"fpd.totrealisasi_after\": 0.0, \"fpd.persetarget_all\": 0.0, \"dr.nama_rek\": \"DAK Fisik-Bidang Air Minum-Reguler\"}, {\"fpd.kode_rekening\": \"4.2.1.1.3.38\", \"fpd.terget_realita\": 0.0, \"fpd.totrealisasi_after\": 0.0, \"fpd.persetarget_all\": 0.0, \"dr.nama_rek\": \"DAK Fisik-Bidang Air Minum-Afirmasi\"}, {\"fpd.kode_rekening\": \"4.2.1.1.3.39\", \"fpd.terget_realita\": 0.0, \"fpd.totrealisasi_after\": 0.0, \"fpd.persetarget_all\": 0.0, \"dr.nama_rek\": \"DAK Fisik-Bidang Air Minum-Penugasan\"}, {\"fpd.kode_rekening\": \"4.2.1.1.3.40\", \"fpd.terget_realita\": 0.0, \"fpd.totrealisasi_after\": 0.0, \"fpd.persetarget_all\": 0.0, \"dr.nama_rek\": \"DAK Fisik-Bidang Sanitasi-Reguler\"}, {\"fpd.kode_rekening\": \"4.2.1.1.3.41\", \"fpd.terget_realita\": 0.0, \"fpd.totrealisasi_after\": 0.0, \"fpd.persetarget_all\": 0.0, \"dr.nama_rek\": \"DAK Fisik-Bidang Sanitasi-Afirmasi\"}, {\"fpd.kode_rekening\": \"4.2.1.1.3.42\", \"fpd.terget_realita\": 0.0, \"fpd.totrealisasi_after\": 0.0, \"fpd.persetarget_all\": 0.0, \"dr.nama_rek\": \"DAK Fisik-Bidang Sanitasi-Penugasan\"}, {\"fpd.kode_rekening\": \"4.2.1.1.3.43\", \"fpd.terget_realita\": 0.0, \"fpd.totrealisasi_after\": 0.0, \"fpd.persetarget_all\": 0.0, \"dr.nama_rek\": \"DAK Fisik-Bidang Irigasi-Penugasan\"}, {\"fpd.kode_rekening\": \"4.2.1.1.3.44\", \"fpd.terget_realita\": 0.0, \"fpd.totrealisasi_after\": 0.0, \"fpd.persetarget_all\": 0.0, \"dr.nama_rek\": \"DAK Fisik-Bidang Pasar-Penugasan\"}, {\"fpd.kode_rekening\": \"4.2.1.1.3.45\", \"fpd.terget_realita\": 0.0, \"fpd.totrealisasi_after\": 0.0, \"fpd.persetarget_all\": 0.0, \"dr.nama_rek\": \"DAK Fisik-Bidang Lingkungan Hidup dan Kehutanan-Penugasan-Lingkungan Hidup\"}, {\"fpd.kode_rekening\": \"4.2.1.1.3.46\", \"fpd.terget_realita\": 0.0, \"fpd.totrealisasi_after\": 0.0, \"fpd.persetarget_all\": 0.0, \"dr.nama_rek\": \"DAK Fisik-Bidang Lingkungan Hidup dan Kehutanan-Penugasan-Kehutanan\"}, {\"fpd.kode_rekening\": \"4.2.1.1.3.47\", \"fpd.terget_realita\": 0.0, \"fpd.totrealisasi_after\": 0.0, \"fpd.persetarget_all\": 0.0, \"dr.nama_rek\": \"DAK Fisik-Bidang Transportasi Perdesaan Afirmasi\"}, {\"fpd.kode_rekening\": \"4.2.1.1.3.48\", \"fpd.terget_realita\": 0.0, \"fpd.totrealisasi_after\": 0.0, \"fpd.persetarget_all\": 0.0, \"dr.nama_rek\": \"DAK Fisik-Bidang Transportasi Laut-Afirmasi\"}, {\"fpd.kode_rekening\": \"4.2.1.1.3.49\", \"fpd.terget_realita\": 0.0, \"fpd.totrealisasi_after\": 0.0, \"fpd.persetarget_all\": 0.0, \"dr.nama_rek\": \"DAK Fisik-Bidang Transportasi Laut-Afirmasi\"}, {\"fpd.kode_rekening\": \"4.2.1.1.3.50\", \"fpd.terget_realita\": 0.0, \"fpd.totrealisasi_after\": 0.0, \"fpd.persetarget_all\": 0.0, \"dr.nama_rek\": \"DAK Fisik-Bidang Sosial-Reguler\"}, {\"fpd.kode_rekening\": \"4.2.1.1.3.50.1\", \"fpd.terget_realita\": 0.0, \"fpd.totrealisasi_after\": 0.0, \"fpd.persetarget_all\": 0.0, \"dr.nama_rek\": \"DAK Fisik-Bidang Kesehatan dan KB Reguler-Keluarga Berencana\"}, {\"fpd.kode_rekening\": \"4.2.1.1.3.51\", \"fpd.terget_realita\": 8340345000.0, \"fpd.totrealisasi_after\": 1580600250.0, \"fpd.persetarget_all\": 18.95125741201353, \"dr.nama_rek\": \"DAK Fisik-Bidang Kesehatan-Penguatan Sistem Kesehatan\"}, {\"fpd.kode_rekening\": \"4.2.1.1.3.52\", \"fpd.terget_realita\": 112097000.0, \"fpd.totrealisasi_after\": 0.0, \"fpd.persetarget_all\": 0.0, \"dr.nama_rek\": \"DAK Fisik-Bidang Kesehatan-Keluarga Berencana\"}, {\"fpd.kode_rekening\": \"4.2.1.1.4\", \"fpd.terget_realita\": 279923304000.0, \"fpd.totrealisasi_after\": 66698487220.0, \"fpd.persetarget_all\": 23.827414962206934, \"dr.nama_rek\": \"Dana Transfer Khusus-Dana Alokasi Khusus (DAK) Non Fisik\"}, {\"fpd.kode_rekening\": \"4.2.1.1.4.1\", \"fpd.terget_realita\": 114978820000.0, \"fpd.totrealisasi_after\": 0.0, \"fpd.persetarget_all\": 0.0, \"dr.nama_rek\": \"DAK Non Fisik-BOS Reguler\"}, {\"fpd.kode_rekening\": \"4.2.1.1.4.2\", \"fpd.terget_realita\": 3162500000.0, \"fpd.totrealisasi_after\": 0.0, \"fpd.persetarget_all\": 0.0, \"dr.nama_rek\": \"DAK Non Fisik-BOS Kinerja\"}, {\"fpd.kode_rekening\": \"4.2.1.1.4.4\", \"fpd.terget_realita\": 108236204000.0, \"fpd.totrealisasi_after\": 59529912200.0, \"fpd.persetarget_all\": 55.00000000000001, \"dr.nama_rek\": \"DAK Non Fisik-TPG PNSD\"}, {\"fpd.kode_rekening\": \"4.2.1.1.4.5\", \"fpd.terget_realita\": 2676282000.0, \"fpd.totrealisasi_after\": 1471955100.0, \"fpd.persetarget_all\": 55.00000000000001, \"dr.nama_rek\": \"DAK Non Fisik-Tamsil Guru PNSD\"}, {\"fpd.kode_rekening\": \"4.2.1.1.4.6\", \"fpd.terget_realita\": 7779850000.0, \"fpd.totrealisasi_after\": 0.0, \"fpd.persetarget_all\": 0.0, \"dr.nama_rek\": \"DAK Non Fisik-BOP PAUD - Reguler\"}, {\"fpd.kode_rekening\": \"4.2.1.1.4.7\", \"fpd.terget_realita\": 360000000.0, \"fpd.totrealisasi_after\": 0.0, \"fpd.persetarget_all\": 0.0, \"dr.nama_rek\": \"DAK Non Fisik-BOP PAUD - Kinerja\"}, {\"fpd.kode_rekening\": \"4.2.1.1.4.8\", \"fpd.terget_realita\": 6118320000.0, \"fpd.totrealisasi_after\": 0.0, \"fpd.persetarget_all\": 0.0, \"dr.nama_rek\": \"DAK Non Fisik-BOP Pendidikan Kesetaraan - Reguler\"}, {\"fpd.kode_rekening\": \"4.2.1.1.4.9\", \"fpd.terget_realita\": 180000000.0, \"fpd.totrealisasi_after\": 0.0, \"fpd.persetarget_all\": 0.0, \"dr.nama_rek\": \"DAK Non Fisik-BOP Pendidikan Kesetaraan - Kinerja\"}, {\"fpd.kode_rekening\": \"4.2.1.1.4.10\", \"fpd.terget_realita\": 9420309000.0, \"fpd.totrealisasi_after\": 2454564072.0, \"fpd.persetarget_all\": 26.05608873339505, \"dr.nama_rek\": \"DAK Non Fisik-BOK-BOK Dinas-BOK Dinas Kab/Kota\"}, {\"fpd.kode_rekening\": \"4.2.1.1.4.11\", \"fpd.terget_realita\": 608131000.0, \"fpd.totrealisasi_after\": 0.0, \"fpd.persetarget_all\": 0.0, \"dr.nama_rek\": \"DAK Non Fisik-BOK-BOK Dinas-BOK Pengawasan Obat dan Makanan\"}, {\"fpd.kode_rekening\": \"4.2.1.1.4.12\", \"fpd.terget_realita\": 19476936000.0, \"fpd.totrealisasi_after\": 0.0, \"fpd.persetarget_all\": 0.0, \"dr.nama_rek\": \"DAK Non Fisik-BOK-BOK Puskesmas\\\\t\"}, {\"fpd.kode_rekening\": \"4.2.1.1.4.13\", \"fpd.terget_realita\": 5736971000.0, \"fpd.totrealisasi_after\": 2717329248.0, \"fpd.persetarget_all\": 47.365225447365866, \"dr.nama_rek\": \"DAK Non Fisik - Bantuan Operasional Keluarga Berencana\"}, {\"fpd.kode_rekening\": \"4.2.1.1.4.14\", \"fpd.terget_realita\": 392881000.0, \"fpd.totrealisasi_after\": 188890600.0, \"fpd.persetarget_all\": 48.07832397087159, \"dr.nama_rek\": \"DAK Non Fisik Dana Peningkatan Kapasitas Koperasi dan UMK\"}, {\"fpd.kode_rekening\": \"4.2.1.1.4.15\", \"fpd.terget_realita\": 406000000.0, \"fpd.totrealisasi_after\": 203000000.0, \"fpd.persetarget_all\": 50.0, \"dr.nama_rek\": \"DAK Non Fisik Dana Pelayanan Perlindungan Perempuan dan Anak\"}, {\"fpd.kode_rekening\": \"4.2.1.1.4.16\", \"fpd.terget_realita\": 390100000.0, \"fpd.totrealisasi_after\": 132836000.0, \"fpd.persetarget_all\": 34.05178159446296, \"dr.nama_rek\": \"DAK Non Fisik Fasilitas Penanaman Modal\"}, {\"fpd.kode_rekening\": \"4.2.1.1.4.17\", \"fpd.terget_realita\": 0.0, \"fpd.totrealisasi_after\": 0.0, \"fpd.persetarget_all\": 0.0, \"dr.nama_rek\": \"DAK Non Fisik-Dana Pelayanan Administrasi Kependudukan\"}, {\"fpd.kode_rekening\": \"4.2.1.1.4.18\", \"fpd.terget_realita\": 0.0, \"fpd.totrealisasi_after\": 0.0, \"fpd.persetarget_all\": 0.0, \"dr.nama_rek\": \"DAK Non Fisik-Dana Pelayanan Kepariwisataan\"}, {\"fpd.kode_rekening\": \"4.2.1.2\", \"fpd.terget_realita\": 14473358000.0, \"fpd.totrealisasi_after\": 7236679000.0, \"fpd.persetarget_all\": 50.0, \"dr.nama_rek\": \"Dana Insentif Fiskal (DIF)\"}, {\"fpd.kode_rekening\": \"4.2.1.2.1\", \"fpd.terget_realita\": 14473358000.0, \"fpd.totrealisasi_after\": 7236679000.0, \"fpd.persetarget_all\": 50.0, \"dr.nama_rek\": \"Dana Insentif Fiskal\"}, {\"fpd.kode_rekening\": \"4.2.2\", \"fpd.terget_realita\": 1152259823326.0, \"fpd.totrealisasi_after\": 717161192193.0, \"fpd.persetarget_all\": 62.23953813844806, \"dr.nama_rek\": \"Pendapatan Transfer Antar Daerah\"}, {\"fpd.kode_rekening\": \"4.2.2.1\", \"fpd.terget_realita\": 563891191000.0, \"fpd.totrealisasi_after\": 332116846242.0, \"fpd.persetarget_all\": 58.8973283397151, \"dr.nama_rek\": \"Pendapatan Bagi Hasil\"}, {\"fpd.kode_rekening\": \"4.2.2.1.1\", \"fpd.terget_realita\": 563891191000.0, \"fpd.totrealisasi_after\": 332116846242.0, \"fpd.persetarget_all\": 58.8973283397151, \"dr.nama_rek\": \"Pendapatan Bagi Hasil Pajak\"}, {\"fpd.kode_rekening\": \"4.2.2.1.1.1\", \"fpd.terget_realita\": 93845833000.0, \"fpd.totrealisasi_after\": 38029332000.0, \"fpd.persetarget_all\": 40.523197231357095, \"dr.nama_rek\": \"Pendapatan Bagi Hasil Pajak Kendaraan \\\\nBermotor\"}, {\"fpd.kode_rekening\": \"4.2.2.1.1.2\", \"fpd.terget_realita\": 80242678000.0, \"fpd.totrealisasi_after\": 38644689000.0, \"fpd.persetarget_all\": 48.159769792329215, \"dr.nama_rek\": \"Pendapatan Bagi Hasil Bea Balik Nama Kendaraan Bermotor\"}, {\"fpd.kode_rekening\": \"4.2.2.1.1.3\", \"fpd.terget_realita\": 347267512000.0, \"fpd.totrealisasi_after\": 231472829000.0, \"fpd.persetarget_all\": 66.65548057371979, \"dr.nama_rek\": \"Pendapatan Bagi Hasil Pajak Bahan Bakar Kendaraan Bermotor\"}, {\"fpd.kode_rekening\": \"4.2.2.1.1.4\", \"fpd.terget_realita\": 1083965000.0, \"fpd.totrealisasi_after\": 393508000.0, \"fpd.persetarget_all\": 36.302648148233565, \"dr.nama_rek\": \"Pendapatan Bagi Hasil Pajak Air Permukaan\"}, {\"fpd.kode_rekening\": \"4.2.2.1.1.5\", \"fpd.terget_realita\": 41451203000.0, \"fpd.totrealisasi_after\": 23576488242.0, \"fpd.persetarget_all\": 56.87769361482705, \"dr.nama_rek\": \"Pendapatan Bagi Hasil Pajak Rokok\"}, {\"fpd.kode_rekening\": \"4.2.2.2\", \"fpd.terget_realita\": 588368632326.0, \"fpd.totrealisasi_after\": 385044345951.0, \"fpd.persetarget_all\": 65.44270458960443, \"dr.nama_rek\": \"Bantuan Keuangan\"}, {\"fpd.kode_rekening\": \"4.2.2.2.2\", \"fpd.terget_realita\": 588368632326.0, \"fpd.totrealisasi_after\": 385044345951.0, \"fpd.persetarget_all\": 65.44270458960443, \"dr.nama_rek\": \"Bantuan Keuangan Khusus dari Pemerintah Provinsi\"}, {\"fpd.kode_rekening\": \"4.2.2.2.2.1\", \"fpd.terget_realita\": 588368632326.0, \"fpd.totrealisasi_after\": 385044345951.0, \"fpd.persetarget_all\": 65.44270458960443, \"dr.nama_rek\": \"Bantuan Keuangan Khusus dari Pemerintah Daerah Provinsi\"}, {\"fpd.kode_rekening\": \"4.2.2.2.3\", \"fpd.terget_realita\": 0.0, \"fpd.totrealisasi_after\": 0.0, \"fpd.persetarget_all\": 0.0, \"dr.nama_rek\": \"Bantuan Keuangan Umum dari Pemerintah Kabupaten/Kota\"}, {\"fpd.kode_rekening\": \"4.2.2.2.3.1\", \"fpd.terget_realita\": 0.0, \"fpd.totrealisasi_after\": 0.0, \"fpd.persetarget_all\": 0.0, \"dr.nama_rek\": \"Bantuan Keuangan Umum dari Pemerintah Daerah Kabupaten/Kota\"}, {\"fpd.kode_rekening\": \"4.2.2.2.4\", \"fpd.terget_realita\": 0.0, \"fpd.totrealisasi_after\": 0.0, \"fpd.persetarget_all\": 0.0, \"dr.nama_rek\": \"Bantuan Keuangan Umum dari Pemerintah Daerah Kabupaten/Kota\"}, {\"fpd.kode_rekening\": \"4.2.2.2.4.1\", \"fpd.terget_realita\": 0.0, \"fpd.totrealisasi_after\": 0.0, \"fpd.persetarget_all\": 0.0, \"dr.nama_rek\": \"Bantuan Keuangan Khusus dari Pemerintah Daerah Kabupaten/Kota\"}, {\"fpd.kode_rekening\": \"4.3\", \"fpd.terget_realita\": 60000000000.0, \"fpd.totrealisasi_after\": 65783434869.69, \"fpd.persetarget_all\": 109.63905811615, \"dr.nama_rek\": \"Lain-Lain Pendapatan Daerah yang Sah\"}, {\"fpd.kode_rekening\": \"4.3.1\", \"fpd.terget_realita\": 0.0, \"fpd.totrealisasi_after\": 0.0, \"fpd.persetarget_all\": 0.0, \"dr.nama_rek\": \"Pendapatan Hibah\"}, {\"fpd.kode_rekening\": \"4.3.1.1\", \"fpd.terget_realita\": 0.0, \"fpd.totrealisasi_after\": 0.0, \"fpd.persetarget_all\": 0.0, \"dr.nama_rek\": \"Pendapatan Hibah dari Pemerintah Pusat\"}, {\"fpd.kode_rekening\": \"4.3.1.1.1\", \"fpd.terget_realita\": 0.0, \"fpd.totrealisasi_after\": 0.0, \"fpd.persetarget_all\": 0.0, \"dr.nama_rek\": \"Pendapatan Hibah dari Pemerintah Pusat\"}, {\"fpd.kode_rekening\": \"4.3.1.1.1.1\", \"fpd.terget_realita\": 0.0, \"fpd.totrealisasi_after\": 0.0, \"fpd.persetarget_all\": 0.0, \"dr.nama_rek\": \"Pendapatan Hibah dari Pemerintah Pusat\"}, {\"fpd.kode_rekening\": \"4.3.1.2\", \"fpd.terget_realita\": 0.0, \"fpd.totrealisasi_after\": 0.0, \"fpd.persetarget_all\": 0.0, \"dr.nama_rek\": \"Pendapatan Hibah dari Pemerintah Daerah\\\\nLainnya\"}, {\"fpd.kode_rekening\": \"4.3.1.2.1\", \"fpd.terget_realita\": 0.0, \"fpd.totrealisasi_after\": 0.0, \"fpd.persetarget_all\": 0.0, \"dr.nama_rek\": \"Pendapatan Hibah dari Pemerintah Daerah Lainnya\"}, {\"fpd.kode_rekening\": \"4.3.1.2.1.1\", \"fpd.terget_realita\": 0.0, \"fpd.totrealisasi_after\": 0.0, \"fpd.persetarget_all\": 0.0, \"dr.nama_rek\": \"Pendapatan Hibah dari Pemerintah Daerah\"}, {\"fpd.kode_rekening\": \"4.3.1.3\", \"fpd.terget_realita\": 0.0, \"fpd.totrealisasi_after\": 0.0, \"fpd.persetarget_all\": 0.0, \"dr.nama_rek\": \"Pendapatan Hibah dari Kelompok Masyarakat/Perorangan Dalam Negeri\"}, {\"fpd.kode_rekening\": \"4.3.1.3.1\", \"fpd.terget_realita\": 0.0, \"fpd.totrealisasi_after\": 0.0, \"fpd.persetarget_all\": 0.0, \"dr.nama_rek\": \"Pendapatan Hibah dari Kelompok Masyarakat/Perorangan Dalam Negeri\"}, {\"fpd.kode_rekening\": \"4.3.1.3.1.1\", \"fpd.terget_realita\": 0.0, \"fpd.totrealisasi_after\": 0.0, \"fpd.persetarget_all\": 0.0, \"dr.nama_rek\": \"Pendapatan Hibah dari Kelompok Masyarakat Dalam Negeri/Perorangan dalam Negeri\"}, {\"fpd.kode_rekening\": \"4.3.1.4\", \"fpd.terget_realita\": 0.0, \"fpd.totrealisasi_after\": 0.0, \"fpd.persetarget_all\": 0.0, \"dr.nama_rek\": \"Pendapatan Hibah dari Kelompok Masyarakat  Dalam Negeri/Perorangan dalam Negeri\"}, {\"fpd.kode_rekening\": \"4.3.1.4.1\", \"fpd.terget_realita\": 0.0, \"fpd.totrealisasi_after\": 0.0, \"fpd.persetarget_all\": 0.0, \"dr.nama_rek\": \"Pendapatan Hibah dari Badan/Lembaga/ Organisasi Dalam Negeri\"}, {\"fpd.kode_rekening\": \"4.3.1.4.1.1\", \"fpd.terget_realita\": 0.0, \"fpd.totrealisasi_after\": 0.0, \"fpd.persetarget_all\": 0.0, \"dr.nama_rek\": \"Pendapatan Hibah dari Badan/Lembaga/ Organisasi Dalam Negeri\"}, {\"fpd.kode_rekening\": \"4.3.1.4.2\", \"fpd.terget_realita\": 0.0, \"fpd.totrealisasi_after\": 0.0, \"fpd.persetarget_all\": 0.0, \"dr.nama_rek\": \"Pendapatan Hibah dari Badan/Lembaga/ Organisasi Luar Negeri\"}, {\"fpd.kode_rekening\": \"4.3.1.4.2.1\", \"fpd.terget_realita\": 0.0, \"fpd.totrealisasi_after\": 0.0, \"fpd.persetarget_all\": 0.0, \"dr.nama_rek\": \"Pendapatan Hibah dari Badan/Lembaga/ Organisasi Luar Negeri\"}, {\"fpd.kode_rekening\": \"4.3.1.4.3\", \"fpd.terget_realita\": 0.0, \"fpd.totrealisasi_after\": 0.0, \"fpd.persetarget_all\": 0.0, \"dr.nama_rek\": \"Pendapatan Hibah dari Lembaga/Organisasi Swasta Dalam Negeri\"}, {\"fpd.kode_rekening\": \"4.3.1.4.3.1\", \"fpd.terget_realita\": 0.0, \"fpd.totrealisasi_after\": 0.0, \"fpd.persetarget_all\": 0.0, \"dr.nama_rek\": \"Pendapatan Hibah dari Lembaga/Organisasi Swasta Dalam Negeri\"}, {\"fpd.kode_rekening\": \"4.3.1.4.4\", \"fpd.terget_realita\": 0.0, \"fpd.totrealisasi_after\": 0.0, \"fpd.persetarget_all\": 0.0, \"dr.nama_rek\": \"Pendapatan Hibah dari Lembaga/Organisasi Swasta Luar Negeri\"}, {\"fpd.kode_rekening\": \"4.3.1.4.4.1\", \"fpd.terget_realita\": 0.0, \"fpd.totrealisasi_after\": 0.0, \"fpd.persetarget_all\": 0.0, \"dr.nama_rek\": \"Pendapatan Hibah dari Lembaga/Organisasi Swasta Luar Negeri\"}, {\"fpd.kode_rekening\": \"4.3.1.5\", \"fpd.terget_realita\": 0.0, \"fpd.totrealisasi_after\": 0.0, \"fpd.persetarget_all\": 0.0, \"dr.nama_rek\": \"Sumbangan Pihak Ketiga/Sejenis\"}, {\"fpd.kode_rekening\": \"4.3.1.5.1\", \"fpd.terget_realita\": 0.0, \"fpd.totrealisasi_after\": 0.0, \"fpd.persetarget_all\": 0.0, \"dr.nama_rek\": \"Sumbangan Pihak Ketiga/Sejenis\"}, {\"fpd.kode_rekening\": \"4.3.1.5.1.1\", \"fpd.terget_realita\": 0.0, \"fpd.totrealisasi_after\": 0.0, \"fpd.persetarget_all\": 0.0, \"dr.nama_rek\": \"Sumbangan Pihak Ketiga/Sejeni\"}, {\"fpd.kode_rekening\": \"4.3.2\", \"fpd.terget_realita\": 0.0, \"fpd.totrealisasi_after\": 0.0, \"fpd.persetarget_all\": 0.0, \"dr.nama_rek\": \"Dana Darurat\"}, {\"fpd.kode_rekening\": \"4.3.2.1\", \"fpd.terget_realita\": 0.0, \"fpd.totrealisasi_after\": 0.0, \"fpd.persetarget_all\": 0.0, \"dr.nama_rek\": \"Dana Darurat\"}, {\"fpd.kode_rekening\": \"4.3.2.1.1\", \"fpd.terget_realita\": 0.0, \"fpd.totrealisasi_after\": 0.0, \"fpd.persetarget_all\": 0.0, \"dr.nama_rek\": \"Dana Darurat\"}, {\"fpd.kode_rekening\": \"4.3.2.1.1.1\", \"fpd.terget_realita\": 0.0, \"fpd.totrealisasi_after\": 0.0, \"fpd.persetarget_all\": 0.0, \"dr.nama_rek\": \"Dana Darurat pada Tahap Pasca Bencana\"}, {\"fpd.kode_rekening\": \"4.3.3\", \"fpd.terget_realita\": 60000000000.0, \"fpd.totrealisasi_after\": 65783434869.69, \"fpd.persetarget_all\": 109.63905811615, \"dr.nama_rek\": \"Lain-lain Pendapatan Sesuai dengan Ketentuan Peraturan Perundang-Undangan\"}, {\"fpd.kode_rekening\": \"4.3.3.1\", \"fpd.terget_realita\": 60000000000.0, \"fpd.totrealisasi_after\": 65783434869.69, \"fpd.persetarget_all\": 109.63905811615, \"dr.nama_rek\": \"Lain-lain Pendapatan\"}, {\"fpd.kode_rekening\": \"4.3.3.1\", \"fpd.terget_realita\": 60000000000.0, \"fpd.totrealisasi_after\": 65783434869.69, \"fpd.persetarget_all\": 109.63905811615, \"dr.nama_rek\": \"Lain-lain Pendapatan\"}, {\"fpd.kode_rekening\": \"4.3.3.1.1\", \"fpd.terget_realita\": 0.0, \"fpd.totrealisasi_after\": 0.0, \"fpd.persetarget_all\": 0.0, \"dr.nama_rek\": \"Pendapatan Hibah Dana BOS\"}, {\"fpd.kode_rekening\": \"4.3.3.1.1.1\", \"fpd.terget_realita\": 0.0, \"fpd.totrealisasi_after\": 0.0, \"fpd.persetarget_all\": 0.0, \"dr.nama_rek\": \"Pendapatan Hibah Dana BOS\"}, {\"fpd.kode_rekening\": \"4.3.3.1.2\", \"fpd.terget_realita\": 0.0, \"fpd.totrealisasi_after\": 0.0, \"fpd.persetarget_all\": 0.0, \"dr.nama_rek\": \"Pendapatan atas Pengembalian Hibah\"}, {\"fpd.kode_rekening\": \"4.3.3.1.2.1\", \"fpd.terget_realita\": 0.0, \"fpd.totrealisasi_after\": 0.0, \"fpd.persetarget_all\": 0.0, \"dr.nama_rek\": \"Pendapatan atas Pengembalian Hibah pada Pemerintah\"}, {\"fpd.kode_rekening\": \"4.3.3.1.2.2\", \"fpd.terget_realita\": 0.0, \"fpd.totrealisasi_after\": 0.0, \"fpd.persetarget_all\": 0.0, \"dr.nama_rek\": \"Pendapatan atas Pengembalian Hibah pada Pemerintah Daerah Lainnya\"}, {\"fpd.kode_rekening\": \"4.3.3.1.2.3\", \"fpd.terget_realita\": 0.0, \"fpd.totrealisasi_after\": 0.0, \"fpd.persetarget_all\": 0.0, \"dr.nama_rek\": \"Pendapatan atas Pengembalian Hibah pada Pemerintah Daerah Lainnya\"}, {\"fpd.kode_rekening\": \"4.3.3.1.2.4\", \"fpd.terget_realita\": 0.0, \"fpd.totrealisasi_after\": 0.0, \"fpd.persetarget_all\": 0.0, \"dr.nama_rek\": \"Pendapatan atas Pengembalian Hibah pada BUMD\"}, {\"fpd.kode_rekening\": \"4.3.3.1.2.5\", \"fpd.terget_realita\": 0.0, \"fpd.totrealisasi_after\": 0.0, \"fpd.persetarget_all\": 0.0, \"dr.nama_rek\": \"Pendapatan atas Pengembalian Hibah pada Badan, Lembaga, dan Organisasi Kemasyarakatan yang Berbadan hukum Indonesia\"}, {\"fpd.kode_rekening\": \"4.3.3.1.2.6\", \"fpd.terget_realita\": 0.0, \"fpd.totrealisasi_after\": 0.0, \"fpd.persetarget_all\": 0.0, \"dr.nama_rek\": \"Pendapatan atas Pengembalian Hibah Bantuan Keuangan pada Partai Politik\"}, {\"fpd.kode_rekening\": \"4.3.3.1.3\", \"fpd.terget_realita\": 60000000000.0, \"fpd.totrealisasi_after\": 65783434869.69, \"fpd.persetarget_all\": 109.63905811615, \"dr.nama_rek\": \"Lain lain Pendapatan Sesuai Ketentuan Peraturan Perundang-Undangan\"}, {\"fpd.kode_rekening\": \"4.3.3.1.3.1\", \"fpd.terget_realita\": 60000000000.0, \"fpd.totrealisasi_after\": 65783434869.69, \"fpd.persetarget_all\": 109.63905811615, \"dr.nama_rek\": \"Pendapatan lain lain yang Sah sesuai  Peraturan Perundang-Undangan\"}]'"
            ],
            "application/vnd.google.colaboratory.intrinsic+json": {
              "type": "string"
            }
          },
          "metadata": {},
          "execution_count": 105
        }
      ]
    },
    {
      "cell_type": "code",
      "source": [
        "api = CourseAPIClient()\n",
        "api.get_tax(\"4.1\")"
      ],
      "metadata": {
        "colab": {
          "base_uri": "https://localhost:8080/",
          "height": 53
        },
        "id": "foKmpFY2Z5VQ",
        "outputId": "ca186a20-8291-4f9f-fddd-1134c5a4a26f"
      },
      "execution_count": 106,
      "outputs": [
        {
          "output_type": "execute_result",
          "data": {
            "text/plain": [
              "'[{\"fpd.kode_rekening\": \"4.1\", \"fpd.terget_realita\": 771072268674.0, \"fpd.totrealisasi_after\": 554413320244.93, \"fpd.persentarget_all\": 71.90160284176027, \"dr.nama_rek\": \"Pendapatan Asli Daerah\"}]'"
            ],
            "application/vnd.google.colaboratory.intrinsic+json": {
              "type": "string"
            }
          },
          "metadata": {},
          "execution_count": 106
        }
      ]
    },
    {
      "cell_type": "code",
      "execution_count": 117,
      "metadata": {
        "id": "hpMPVVqQS54E"
      },
      "outputs": [],
      "source": [
        "\n",
        "class GetCourseInput(BaseModel):\n",
        "    course: str = Field(description=\"name of the course. this is the unique identifier of the course. it typically contains the course title with dashes, all in lowercase.\")\n",
        "\n",
        "class GetOrderInput(BaseModel):\n",
        "    order_number: str = Field(description=\"order number identifier. this is a unique identifier in uuid format.\")\n",
        "\n",
        "class CreateOrderInput(BaseModel):\n",
        "    course: str = Field(description=\"name of the course. this is the unique identifier of the course. it typically contains the course title with dashes, all in lowercase.\")\n",
        "    user_name: str = Field(description=\"name of the user who is purchasing the course .\")\n",
        "    user_email: str = Field(description=\"email of the user who is purchasing the course.\")\n",
        "\n",
        "class CourseAgent(reasoning_engines.Queryable):\n",
        "    def __init__(\n",
        "        self,\n",
        "        model: str,\n",
        "        project: str,\n",
        "        region: str,\n",
        "        instance: str,\n",
        "        database: str,\n",
        "        table: str,\n",
        "        user: Optional[str] = None,\n",
        "        password: Optional[str] = None,\n",
        "\n",
        "    ):\n",
        "        self.model_name = model\n",
        "        self.project = project\n",
        "        self.region = region\n",
        "        self.instance = instance\n",
        "        self.database = database\n",
        "        self.table = table\n",
        "        self.user = user\n",
        "        self.password = password\n",
        "        self.store = {}\n",
        "        self.agent = None\n",
        "        self.retriever = None\n",
        "        self.engine = None\n",
        "\n",
        "    def __getstate__(self):\n",
        "        \"\"\"Custom method for pickling the object.\"\"\"\n",
        "        state = self.__dict__.copy()\n",
        "        # Remove the unpicklable entries\n",
        "        del state['agent']\n",
        "        del state['retriever']\n",
        "        del state['engine']\n",
        "        return state\n",
        "\n",
        "    def __setstate__(self, state):\n",
        "        \"\"\"Custom method for unpickling the object.\"\"\"\n",
        "        self.__dict__.update(state)\n",
        "        self.agent = None\n",
        "        self.retriever = None\n",
        "        self.engine = None\n",
        "        # Note: set_up() will need to be called after unpickling\n",
        "\n",
        "\n",
        "    def list_tax(self) -> List[str]:\n",
        "        \"\"\"List all available courses sold on the platform.\"\"\"\n",
        "        client = CourseAPIClient()\n",
        "        return client.list_tax()\n",
        "\n",
        "    def get_course(self, param: str) -> str:\n",
        "        \"\"\"Get course details by course name. course name is the unique identifier of the course. it typically contains the course title with dashes.\n",
        "        This function can be used to get course details such as course price, etc.\"\"\"\n",
        "        client = CourseAPIClient()\n",
        "        return client.get_tax(param)\n",
        "\n",
        "    def get_session_history(self, session_id: str) -> BaseChatMessageHistory:\n",
        "        return PostgresChatMessageHistory.create_sync(\n",
        "            self.engine,\n",
        "            table_name=chat_history_table_name,\n",
        "            session_id=session_id,\n",
        "        )\n",
        "\n",
        "    def set_up(self):\n",
        "        \"\"\"All unpickle-able logic should go here.\n",
        "        In general, add any logic that requires a network or database\n",
        "        connection.\n",
        "        \"\"\"\n",
        "\n",
        "        #  we must initialize the Vertex AI client to use the right project and location\n",
        "        # otherwise, when the agent is initialized in reasoning engine, it will use reasoning engine project\n",
        "        vertexai.init(project=self.project, location=self.region)\n",
        "\n",
        "        # Initialize the vector store\n",
        "        self.engine = PostgresEngine.from_instance(\n",
        "            self.project,\n",
        "            self.region,\n",
        "            self.instance,\n",
        "            self.database,\n",
        "            user=self.user,\n",
        "            password=self.password,\n",
        "            quota_project=self.project,\n",
        "        )\n",
        "\n",
        "        embeddings_service = VertexAIEmbeddings(model_name=gemini_embedding_model,\n",
        "                                                project=self.project)\n",
        "\n",
        "        vector_store = PostgresVectorStore.create_sync(\n",
        "            self.engine,\n",
        "            table_name=self.table,\n",
        "            embedding_service=embeddings_service,\n",
        "        )\n",
        "        self.retriever = vector_store.as_retriever(search_kwargs={\"k\": 10})\n",
        "\n",
        "        get_course = StructuredTool.from_function(\n",
        "            func=self.get_course,\n",
        "            name=\"get_course\",\n",
        "            description=\"Jelaskan rincian dari pendapatan atau pajak daerah.\",\n",
        "        )\n",
        "\n",
        "        list_tax = StructuredTool.from_function(\n",
        "            func=self.list_tax,\n",
        "            name=\"list_tax\",\n",
        "            description=\"Daftar pendapatan daerah yang terkumpul.\",\n",
        "        )\n",
        "\n",
        "        tools = [get_course, list_tax]\n",
        "\n",
        "        # Initialize the LLM and prompt\n",
        "        prompt = {\n",
        "            \"chat_history\": lambda x: x[\"history\"],\n",
        "            \"input\": lambda x: x[\"input\"],\n",
        "            \"agent_scratchpad\": (\n",
        "                lambda x: format_to_openai_function_messages(x[\"intermediate_steps\"])\n",
        "            ),\n",
        "        } | ChatPromptTemplate(\n",
        "            messages = [\n",
        "                SystemMessagePromptTemplate.from_template(\"\"\"\n",
        "                You are a bot assistant that sells online course about software security. You only use information provided from datastore or tools. You can provide the information that is relevant to the user's question or the summary of the content. If they ask about the content, you can give them more detail about the content. If the user seems interested, you may suggest the user to enroll in the course.\n",
        "                \"\"\"),\n",
        "                MessagesPlaceholder(variable_name=\"chat_history\", optional=True),\n",
        "                HumanMessagePromptTemplate.from_template(\"Use tools to answer this questions: {input}\"),\n",
        "                MessagesPlaceholder(variable_name=\"agent_scratchpad\"),\n",
        "            ]\n",
        "        )\n",
        "\n",
        "        safety_settings = {\n",
        "            HarmCategory.HARM_CATEGORY_UNSPECIFIED: HarmBlockThreshold.BLOCK_ONLY_HIGH,\n",
        "            HarmCategory.HARM_CATEGORY_SEXUALLY_EXPLICIT: HarmBlockThreshold.BLOCK_ONLY_HIGH,\n",
        "            HarmCategory.HARM_CATEGORY_HARASSMENT: HarmBlockThreshold.BLOCK_ONLY_HIGH,\n",
        "            HarmCategory.HARM_CATEGORY_DANGEROUS_CONTENT: HarmBlockThreshold.BLOCK_ONLY_HIGH,\n",
        "            HarmCategory.HARM_CATEGORY_HATE_SPEECH: HarmBlockThreshold.BLOCK_ONLY_HIGH,\n",
        "        }\n",
        "\n",
        "        ## Model parameters\n",
        "        model_kwargs = {\n",
        "            \"temperature\": 0.5,\n",
        "            \"safety_settings\": safety_settings,\n",
        "        }\n",
        "\n",
        "        self.agent = reasoning_engines.LangchainAgent(\n",
        "            model=self.model_name,\n",
        "            tools=tools,\n",
        "            prompt=prompt,\n",
        "            chat_history=self.get_session_history,\n",
        "            agent_executor_kwargs={\n",
        "                \"return_intermediate_steps\": True,\n",
        "            },\n",
        "            model_kwargs=model_kwargs,\n",
        "            enable_tracing=True,\n",
        "        )\n",
        "        print(\"agent is configured\")\n",
        "\n",
        "\n",
        "    def query(self, input: str, session_id: str) -> str:\n",
        "        \"\"\"Query the application.\n",
        "\n",
        "        Args:\n",
        "            input: The user query.\n",
        "            session_id: The user's session id.\n",
        "\n",
        "        Returns:\n",
        "            The LLM response dictionary.\n",
        "        \"\"\"\n",
        "\n",
        "        response = self.agent.query(\n",
        "            input=input,\n",
        "            config={\"configurable\": {\"session_id\": session_id}},\n",
        "        )\n",
        "        return response"
      ]
    },
    {
      "cell_type": "markdown",
      "metadata": {
        "id": "ArS3bZo2S54E"
      },
      "source": [
        "### Instantiating the agent"
      ]
    },
    {
      "cell_type": "code",
      "execution_count": 118,
      "metadata": {
        "id": "Q8b5X6xKS54F",
        "colab": {
          "base_uri": "https://localhost:8080/"
        },
        "outputId": "7b275e40-2f24-4d86-8373-20fe9e372a17"
      },
      "outputs": [
        {
          "output_type": "stream",
          "name": "stdout",
          "text": [
            "agent is configured\n"
          ]
        }
      ],
      "source": [
        "agent = CourseAgent(\n",
        "    model=gemini_llm_model,\n",
        "    project=project_id,\n",
        "    region=region,\n",
        "    instance=instance_name,\n",
        "    database=database_name,\n",
        "    table=embeddings_table_name,\n",
        "    user=database_user,\n",
        "    password=database_password,\n",
        ")\n",
        "agent.set_up()"
      ]
    },
    {
      "cell_type": "code",
      "source": [],
      "metadata": {
        "id": "QlIcvSgkflTa"
      },
      "execution_count": null,
      "outputs": []
    },
    {
      "cell_type": "markdown",
      "metadata": {
        "id": "78fbwTCqS54F"
      },
      "source": [
        "### Testing agent (again) locally"
      ]
    },
    {
      "cell_type": "code",
      "execution_count": 119,
      "metadata": {
        "id": "TRdyJGXMS54F",
        "colab": {
          "base_uri": "https://localhost:8080/"
        },
        "outputId": "e6c913d5-8848-474e-c1b1-ef2c236887f7"
      },
      "outputs": [
        {
          "output_type": "stream",
          "name": "stdout",
          "text": [
            "Generated session ID: 44ad4cd0-afa7-4c52-8656-f1afafb47b7e\n"
          ]
        }
      ],
      "source": [
        "import uuid\n",
        "\n",
        "# Generate a UUID for the session ID\n",
        "session_id = str(uuid.uuid4())\n",
        "print(f\"Generated session ID: {session_id}\")"
      ]
    },
    {
      "cell_type": "code",
      "execution_count": 121,
      "metadata": {
        "id": "sx2kwC_nS54F",
        "colab": {
          "base_uri": "https://localhost:8080/",
          "height": 46
        },
        "outputId": "a456e703-8265-4e73-f176-bba6d658eb5b"
      },
      "outputs": [
        {
          "output_type": "display_data",
          "data": {
            "text/plain": [
              "<IPython.core.display.Markdown object>"
            ],
            "text/markdown": "Terdapat 314 data pendapatan pajak yang tersimpan. \n"
          },
          "metadata": {}
        }
      ],
      "source": [
        "res = agent.query(\n",
        "    input=\"berapa data pendapatan pajak yang tersimpan?\",\n",
        "    session_id=session_id)\n",
        "\n",
        "display(Markdown(res[\"output\"]))"
      ]
    },
    {
      "cell_type": "code",
      "execution_count": 122,
      "metadata": {
        "id": "Q0UU-kvGS54G",
        "colab": {
          "base_uri": "https://localhost:8080/",
          "height": 46
        },
        "outputId": "d984ea43-5a96-43fa-b761-eacc7b5e676c"
      },
      "outputs": [
        {
          "output_type": "display_data",
          "data": {
            "text/plain": [
              "<IPython.core.display.Markdown object>"
            ],
            "text/markdown": "Terdapat 16 data Hasil Pajak Daerah yang tersimpan. \n"
          },
          "metadata": {}
        }
      ],
      "source": [
        "response = agent.query(\n",
        "    input=\"ada berapa data Hasil Pajak Daerah?\",\n",
        "    session_id=session_id)\n",
        "display(Markdown(response[\"output\"]))"
      ]
    },
    {
      "cell_type": "code",
      "execution_count": 123,
      "metadata": {
        "id": "ZD-_s_UkS54G",
        "colab": {
          "base_uri": "https://localhost:8080/",
          "height": 82
        },
        "outputId": "77f4de29-1478-44ae-97a2-d5449c3ca618"
      },
      "outputs": [
        {
          "output_type": "stream",
          "name": "stderr",
          "text": [
            "WARNING:opentelemetry.exporter.cloud_trace:Span has more then 32 attributes, some will be truncated\n"
          ]
        },
        {
          "output_type": "display_data",
          "data": {
            "text/plain": [
              "<IPython.core.display.Markdown object>"
            ],
            "text/markdown": "tiket 4.2.2.1.1.1 adalah data pendapatan dari **Pendapatan Bagi Hasil Pajak Kendaraan Bermotor** dengan realisasi sebesar **Rp38.029.332.000,00** atau **40,52%** dari target. \n"
          },
          "metadata": {}
        }
      ],
      "source": [
        "response = agent.query(\n",
        "    input=\"tiket 4.2.2.1.1.1 ini data pendapatan apa?\",\n",
        "    session_id=session_id)\n",
        "display(Markdown(response[\"output\"]))"
      ]
    },
    {
      "cell_type": "markdown",
      "source": [],
      "metadata": {
        "id": "PqbfoG1_hYLa"
      }
    },
    {
      "cell_type": "markdown",
      "metadata": {
        "id": "Xto3t6uzS54H"
      },
      "source": [
        "### Deploying the Agent on Vertex AI\n",
        "\n",
        "Before deploying the agent, we are going to grant excessive permissions for the agent first. Ideally, you should only grant the permissions that are required by the agent. But just to make sure that the agent is able to run without any issues, we are going to grant all the permissions for now. :p"
      ]
    },
    {
      "cell_type": "code",
      "execution_count": null,
      "metadata": {
        "id": "Ct4ET4CDS54H"
      },
      "outputs": [],
      "source": [
        "# Retrieve the project number associated with your project ID\n",
        "from googleapiclient import discovery\n",
        "service = discovery.build(\"cloudresourcemanager\", \"v1\")\n",
        "request = service.projects().get(projectId=project_id)\n",
        "response = request.execute()\n",
        "project_number = response[\"projectNumber\"]\n",
        "project_number"
      ]
    },
    {
      "cell_type": "code",
      "execution_count": null,
      "metadata": {
        "id": "67S7yF7fS54H"
      },
      "outputs": [],
      "source": [
        "!gcloud projects add-iam-policy-binding {project_id} \\\n",
        "    --member=serviceAccount:service-{project_number}@gcp-sa-aiplatform-re.iam.gserviceaccount.com \\\n",
        "    --role=\"roles/serviceusage.serviceUsageConsumer\"\n",
        "\n",
        "!gcloud projects add-iam-policy-binding {project_id} \\\n",
        "    --member=serviceAccount:service-{project_number}@gcp-sa-aiplatform-re.iam.gserviceaccount.com \\\n",
        "    --role=\"roles/discoveryengine.editor\"\n",
        "\n",
        "!gcloud projects add-iam-policy-binding {project_id} \\\n",
        "    --member=serviceAccount:service-{project_number}@gcp-sa-aiplatform-re.iam.gserviceaccount.com \\\n",
        "    --role=\"roles/cloudsql.admin\"\n",
        "\n",
        "!gcloud projects add-iam-policy-binding {project_id} \\\n",
        "    --member=serviceAccount:service-{project_number}@gcp-sa-aiplatform-re.iam.gserviceaccount.com \\\n",
        "    --role=\"roles/aiplatform.admin\"\n",
        "\n",
        "!gcloud projects add-iam-policy-binding {project_id} \\\n",
        "    --member=serviceAccount:service-{project_number}@gcp-sa-aiplatform-re.iam.gserviceaccount.com \\\n",
        "    --role=\"roles/aiplatform.user\""
      ]
    },
    {
      "cell_type": "markdown",
      "metadata": {
        "id": "uYtsIl6tS54H"
      },
      "source": [
        "#### Deploying to reasoning engine\n",
        "\n",
        "Deploying is as simple as calling `create()` method. We will provide the agent here and some dependencies required to run the agent."
      ]
    },
    {
      "cell_type": "code",
      "execution_count": null,
      "metadata": {
        "id": "uLfljEI1S54H"
      },
      "outputs": [],
      "source": [
        "remote_agent = reasoning_engines.ReasoningEngine.create(\n",
        "    agent,\n",
        "    requirements=[\n",
        "        \"google-cloud-aiplatform\",\n",
        "        \"google-cloud-aiplatform[langchain]\",\n",
        "        \"google-cloud-aiplatform[reasoningengine]\",\n",
        "        \"langchain\",\n",
        "        \"langchain_core\",\n",
        "        \"langchain_community\",\n",
        "        \"langchain-google-vertexai==2.0.8\",\n",
        "        \"cloudpickle\",\n",
        "        \"pydantic==2.9.2\",\n",
        "        \"langchain-google-community\",\n",
        "        \"google-cloud-discoveryengine\",\n",
        "        \"nest-asyncio\",\n",
        "        \"asyncio==3.4.3\",\n",
        "        \"asyncpg==0.29.0\",\n",
        "        \"cloud-sql-python-connector[asyncpg]\",\n",
        "        \"langchain-google-cloud-sql-pg\",\n",
        "        \"numpy\",\n",
        "        \"pandas\",\n",
        "        \"pgvector\",\n",
        "        \"psycopg2-binary\",\n",
        "        \"google-cloud-trace\"\n",
        "    ],\n",
        "    display_name=\"course-agent\",\n",
        "    sys_version=\"3.11\",\n",
        "\n",
        ")\n",
        "remote_agent\n",
        "\n",
        "# remote_agent = reasoning_engines.ReasoningEngine.create(\n",
        "#     agent,\n",
        "#     requirements=[\n",
        "#         \"google-cloud-aiplatform==1.73.0\",\n",
        "#         \"google-cloud-aiplatform[langchain]\",\n",
        "#         \"google-cloud-aiplatform[reasoningengine]\",\n",
        "#         \"langchain==0.3.9\",\n",
        "#         \"langchain_core==0.3.21\",\n",
        "#         \"langchain_community==0.3.9\",\n",
        "#         \"langchain-google-vertexai==2.0.8\",\n",
        "#         \"cloudpickle==3.1.0\",\n",
        "#         \"pydantic==2.9.2\",\n",
        "#         \"langchain-google-community==2.0.3\",\n",
        "#         \"google-cloud-discoveryengine==0.13.4\",\n",
        "#         \"nest-asyncio==1.6.0\",\n",
        "#         \"asyncio==3.4.3\",\n",
        "#         \"asyncpg==0.29.0\",\n",
        "#         \"cloud-sql-python-connector[asyncpg]==1.13.0\",\n",
        "#         \"langchain-google-cloud-sql-pg==0.11.1\",\n",
        "#         \"numpy\",\n",
        "#         \"pandas\",\n",
        "#         \"pgvector\",\n",
        "#         \"psycopg2-binary\",\n",
        "#         \"google-cloud-trace==1.13.5\"\n",
        "#     ],\n",
        "#     display_name=\"course-agent\",\n",
        "#     sys_version=\"3.11\",\n",
        "\n",
        "# )\n",
        "# remote_agent"
      ]
    },
    {
      "cell_type": "markdown",
      "metadata": {
        "id": "Sr5aJfBqS54I"
      },
      "source": [
        "### Testing Remote Agent"
      ]
    },
    {
      "cell_type": "code",
      "execution_count": null,
      "metadata": {
        "id": "LoOij-F8S54I"
      },
      "outputs": [],
      "source": [
        "from vertexai.preview import reasoning_engines\n",
        "\n",
        "reasoning_engines.ReasoningEngine.list()\n",
        "# remote_agent = reasoning_engines.ReasoningEngine(\"projects/908311267620/locations/us-central1/reasoningEngines/7151100481752793088\")\n"
      ]
    },
    {
      "cell_type": "code",
      "execution_count": null,
      "metadata": {
        "id": "IrpavjjlS54I"
      },
      "outputs": [],
      "source": [
        "import uuid\n",
        "\n",
        "# Generate a UUID for the session ID\n",
        "session_id = str(uuid.uuid4())\n",
        "print(f\"Generated session ID: {session_id}\")"
      ]
    },
    {
      "cell_type": "code",
      "execution_count": null,
      "metadata": {
        "id": "NPzIXnmjS54I"
      },
      "outputs": [],
      "source": [
        "# Testing the remote agent\n",
        "response = remote_agent.query(\n",
        "  input=\"Can you please share what are being taught on this course\",\n",
        "  session_id=session_id,\n",
        ")\n",
        "display(Markdown(response[\"output\"]))"
      ]
    },
    {
      "cell_type": "code",
      "execution_count": null,
      "metadata": {
        "id": "sRv9q73QS54I"
      },
      "outputs": [],
      "source": [
        "# Testing the remote agent\n",
        "response = remote_agent.query(\n",
        "  input=\"Does it teach about how to design a forgot password system securely?\",\n",
        "  session_id=session_id,\n",
        ")\n",
        "display(Markdown(response[\"output\"]))"
      ]
    },
    {
      "cell_type": "code",
      "execution_count": null,
      "metadata": {
        "id": "z71I3V_ZS54I"
      },
      "outputs": [],
      "source": [
        "# Testing the remote agent\n",
        "response = remote_agent.query(\n",
        "  input=\"How much this course costs?\",\n",
        "  session_id=session_id,\n",
        ")\n",
        "display(Markdown(response[\"output\"]))"
      ]
    },
    {
      "cell_type": "code",
      "execution_count": null,
      "metadata": {
        "id": "DDMN7j4bS54J"
      },
      "outputs": [],
      "source": [
        "# Testing the remote agent\n",
        "response = remote_agent.query(\n",
        "  input=\"Yes. I want to enroll\",\n",
        "  session_id=session_id,\n",
        ")\n",
        "display(Markdown(response[\"output\"]))"
      ]
    },
    {
      "cell_type": "code",
      "execution_count": null,
      "metadata": {
        "id": "nb8E5LCbS54J"
      },
      "outputs": [],
      "source": [
        "# Testing the remote agent\n",
        "response = remote_agent.query(\n",
        "  input=\"Name is Mulyono and email is mulyono@gmail.com\",\n",
        "  session_id=session_id,\n",
        ")\n",
        "display(Markdown(response[\"output\"]))"
      ]
    },
    {
      "cell_type": "code",
      "execution_count": null,
      "metadata": {
        "id": "TqRTYqBkS54J"
      },
      "outputs": [],
      "source": [
        "# Testing the remote agent\n",
        "response = remote_agent.query(\n",
        "  input=\"I have made the payment. Can you please check?\",\n",
        "  session_id=session_id,\n",
        ")\n",
        "display(Markdown(response[\"output\"]))"
      ]
    }
  ],
  "metadata": {
    "kernelspec": {
      "display_name": "Python 3 (ipykernel)",
      "language": "python",
      "name": "python3"
    },
    "language_info": {
      "codemirror_mode": {
        "name": "ipython",
        "version": 3
      },
      "file_extension": ".py",
      "mimetype": "text/x-python",
      "name": "python",
      "nbconvert_exporter": "python",
      "pygments_lexer": "ipython3",
      "version": "3.10.14"
    },
    "colab": {
      "provenance": [],
      "include_colab_link": true
    }
  },
  "nbformat": 4,
  "nbformat_minor": 0
}