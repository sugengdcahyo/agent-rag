{
  "cells": [
    {
      "cell_type": "markdown",
      "metadata": {
        "id": "view-in-github",
        "colab_type": "text"
      },
      "source": [
        "<a href=\"https://colab.research.google.com/github/sugengdcahyo/agent-rag/blob/main/02-reasoning-engine.ipynb\" target=\"_parent\"><img src=\"https://colab.research.google.com/assets/colab-badge.svg\" alt=\"Open In Colab\"/></a>"
      ]
    },
    {
      "cell_type": "markdown",
      "metadata": {
        "id": "dzZPRyu4S534"
      },
      "source": [
        "# Deploying agent to reasoning engine\n",
        "\n",
        "This notebook covers how we can restructure the agent code and ultimately deploy the agent to google vertex ai."
      ]
    },
    {
      "cell_type": "markdown",
      "metadata": {
        "id": "feC4JqfKS538"
      },
      "source": [
        "## Required Software Installed Locally\n",
        "\n",
        "* Python version 3.9, 3.10, or 3.11. **Python3.12 will not work**.\n",
        "\n",
        "* If you are using VSCode, please install Jupyter Notebook extensions.\n",
        "\n",
        "* Jupyter notebook. Please follow this [installation guide](https://docs.jupyter.org/en/stable/install.html). You may choose whether you want to install classic jupyter notebook or jupyterlab (the next-gen web ui for jupyter)\n",
        "\n",
        "    * [Classic jupyter notebook installation guide](https://docs.jupyter.org/en/stable/install/notebook-classic.html)\n",
        "\n",
        "    * [Jupyterlab installation guide](https://jupyterlab.readthedocs.io/en/stable/getting_started/installation.html)\n",
        "\n",
        "* Google Cloud CLI. Please follow this [installation guide](https://cloud.google.com/sdk/docs/install-sdk)"
      ]
    },
    {
      "cell_type": "markdown",
      "metadata": {
        "id": "cyBz8BwBS53-"
      },
      "source": [
        "### Installing dependencies"
      ]
    },
    {
      "cell_type": "code",
      "execution_count": 2,
      "metadata": {
        "colab": {
          "base_uri": "https://localhost:8080/"
        },
        "id": "0cI94hIFS53-",
        "outputId": "b400a7dd-7a96-45fa-b668-ec2d5db55991"
      },
      "outputs": [
        {
          "output_type": "stream",
          "name": "stdout",
          "text": [
            "Writing requirements.txt\n"
          ]
        }
      ],
      "source": [
        "%%writefile requirements.txt\n",
        "\n",
        "google-cloud-aiplatform\n",
        "google-cloud-aiplatform[langchain]\n",
        "google-cloud-aiplatform[reasoningengine]\n",
        "langchain\n",
        "langchain_core\n",
        "langchain_community\n",
        "langchain-google-vertexai==2.0.8\n",
        "cloudpickle\n",
        "pydantic==2.9.2\n",
        "langchain-google-community\n",
        "google-cloud-discoveryengine\n",
        "nest-asyncio\n",
        "asyncio==3.4.3\n",
        "asyncpg==0.29.0\n",
        "cloud-sql-python-connector[asyncpg]\n",
        "langchain-google-cloud-sql-pg\n",
        "numpy\n",
        "pandas\n",
        "pgvector\n",
        "psycopg2-binary\n",
        "langchain-openai\n",
        "langgraph\n",
        "traceloop-sdk\n",
        "opentelemetry-instrumentation-google-generativeai\n",
        "opentelemetry-instrumentation-langchain\n",
        "opentelemetry-instrumentation-vertexai\n",
        "python-dotenv"
      ]
    },
    {
      "cell_type": "code",
      "execution_count": 2,
      "metadata": {
        "colab": {
          "base_uri": "https://localhost:8080/"
        },
        "id": "IrarcvsmS54A",
        "outputId": "80f8d304-6eb6-488b-bc12-c93ef2cd6938"
      },
      "outputs": [
        {
          "output_type": "stream",
          "name": "stdout",
          "text": [
            "Requirement already satisfied: google-cloud-aiplatform in /usr/local/lib/python3.11/dist-packages (from -r requirements.txt (line 2)) (1.82.0)\n",
            "Requirement already satisfied: langchain in /usr/local/lib/python3.11/dist-packages (from -r requirements.txt (line 5)) (0.3.19)\n",
            "Requirement already satisfied: langchain_core in /usr/local/lib/python3.11/dist-packages (from -r requirements.txt (line 6)) (0.3.40)\n",
            "Requirement already satisfied: langchain_community in /usr/local/lib/python3.11/dist-packages (from -r requirements.txt (line 7)) (0.3.18)\n",
            "Requirement already satisfied: langchain-google-vertexai==2.0.8 in /usr/local/lib/python3.11/dist-packages (from -r requirements.txt (line 8)) (2.0.8)\n",
            "Requirement already satisfied: cloudpickle in /usr/local/lib/python3.11/dist-packages (from -r requirements.txt (line 9)) (3.1.1)\n",
            "Requirement already satisfied: pydantic==2.9.2 in /usr/local/lib/python3.11/dist-packages (from -r requirements.txt (line 10)) (2.9.2)\n",
            "Requirement already satisfied: langchain-google-community in /usr/local/lib/python3.11/dist-packages (from -r requirements.txt (line 11)) (2.0.7)\n",
            "Requirement already satisfied: google-cloud-discoveryengine in /usr/local/lib/python3.11/dist-packages (from -r requirements.txt (line 12)) (0.13.6)\n",
            "Requirement already satisfied: nest-asyncio in /usr/local/lib/python3.11/dist-packages (from -r requirements.txt (line 13)) (1.6.0)\n",
            "Requirement already satisfied: asyncio==3.4.3 in /usr/local/lib/python3.11/dist-packages (from -r requirements.txt (line 14)) (3.4.3)\n",
            "Requirement already satisfied: asyncpg==0.29.0 in /usr/local/lib/python3.11/dist-packages (from -r requirements.txt (line 15)) (0.29.0)\n",
            "Requirement already satisfied: langchain-google-cloud-sql-pg in /usr/local/lib/python3.11/dist-packages (from -r requirements.txt (line 17)) (0.12.1)\n",
            "Requirement already satisfied: numpy in /usr/local/lib/python3.11/dist-packages (from -r requirements.txt (line 18)) (1.26.4)\n",
            "Collecting numpy (from -r requirements.txt (line 18))\n",
            "  Using cached numpy-2.2.3-cp311-cp311-manylinux_2_17_x86_64.manylinux2014_x86_64.whl.metadata (62 kB)\n",
            "Requirement already satisfied: pandas in /usr/local/lib/python3.11/dist-packages (from -r requirements.txt (line 19)) (2.2.3)\n",
            "Requirement already satisfied: pgvector in /usr/local/lib/python3.11/dist-packages (from -r requirements.txt (line 20)) (0.3.6)\n",
            "Requirement already satisfied: psycopg2-binary in /usr/local/lib/python3.11/dist-packages (from -r requirements.txt (line 21)) (2.9.10)\n",
            "Requirement already satisfied: langchain-openai in /usr/local/lib/python3.11/dist-packages (from -r requirements.txt (line 22)) (0.3.7)\n",
            "Requirement already satisfied: langgraph in /usr/local/lib/python3.11/dist-packages (from -r requirements.txt (line 23)) (0.2.76)\n",
            "Collecting langgraph (from -r requirements.txt (line 23))\n",
            "  Using cached langgraph-0.3.2-py3-none-any.whl.metadata (17 kB)\n",
            "Requirement already satisfied: traceloop-sdk in /usr/local/lib/python3.11/dist-packages (from -r requirements.txt (line 24)) (0.38.8)\n",
            "Requirement already satisfied: opentelemetry-instrumentation-google-generativeai in /usr/local/lib/python3.11/dist-packages (from -r requirements.txt (line 25)) (0.38.8)\n",
            "Requirement already satisfied: opentelemetry-instrumentation-langchain in /usr/local/lib/python3.11/dist-packages (from -r requirements.txt (line 26)) (0.38.8)\n",
            "Requirement already satisfied: opentelemetry-instrumentation-vertexai in /usr/local/lib/python3.11/dist-packages (from -r requirements.txt (line 27)) (0.38.8)\n",
            "Requirement already satisfied: python-dotenv in /usr/local/lib/python3.11/dist-packages (from -r requirements.txt (line 28)) (1.0.1)\n",
            "Requirement already satisfied: cloud-sql-python-connector[asyncpg] in /usr/local/lib/python3.11/dist-packages (from -r requirements.txt (line 16)) (1.13.0)\n",
            "Collecting cloud-sql-python-connector[asyncpg] (from -r requirements.txt (line 16))\n",
            "  Using cached cloud_sql_python_connector-1.17.0-py3-none-any.whl.metadata (30 kB)\n",
            "Requirement already satisfied: google-cloud-storage<3.0.0,>=2.18.0 in /usr/local/lib/python3.11/dist-packages (from langchain-google-vertexai==2.0.8->-r requirements.txt (line 8)) (2.19.0)\n",
            "Requirement already satisfied: httpx<0.28.0,>=0.27.0 in /usr/local/lib/python3.11/dist-packages (from langchain-google-vertexai==2.0.8->-r requirements.txt (line 8)) (0.27.2)\n",
            "Requirement already satisfied: httpx-sse<0.5.0,>=0.4.0 in /usr/local/lib/python3.11/dist-packages (from langchain-google-vertexai==2.0.8->-r requirements.txt (line 8)) (0.4.0)\n",
            "Requirement already satisfied: annotated-types>=0.6.0 in /usr/local/lib/python3.11/dist-packages (from pydantic==2.9.2->-r requirements.txt (line 10)) (0.7.0)\n",
            "Requirement already satisfied: pydantic-core==2.23.4 in /usr/local/lib/python3.11/dist-packages (from pydantic==2.9.2->-r requirements.txt (line 10)) (2.23.4)\n",
            "Requirement already satisfied: typing-extensions>=4.6.1 in /usr/local/lib/python3.11/dist-packages (from pydantic==2.9.2->-r requirements.txt (line 10)) (4.12.2)\n",
            "Requirement already satisfied: async-timeout>=4.0.3 in /usr/local/lib/python3.11/dist-packages (from asyncpg==0.29.0->-r requirements.txt (line 15)) (5.0.1)\n",
            "Requirement already satisfied: google-api-core!=2.0.*,!=2.1.*,!=2.2.*,!=2.3.*,!=2.4.*,!=2.5.*,!=2.6.*,!=2.7.*,<3.0.0dev,>=1.34.1 in /usr/local/lib/python3.11/dist-packages (from google-api-core[grpc]!=2.0.*,!=2.1.*,!=2.2.*,!=2.3.*,!=2.4.*,!=2.5.*,!=2.6.*,!=2.7.*,<3.0.0dev,>=1.34.1->google-cloud-aiplatform->-r requirements.txt (line 2)) (2.24.1)\n",
            "Requirement already satisfied: google-auth<3.0.0dev,>=2.14.1 in /usr/local/lib/python3.11/dist-packages (from google-cloud-aiplatform->-r requirements.txt (line 2)) (2.38.0)\n",
            "Requirement already satisfied: proto-plus<2.0.0dev,>=1.22.3 in /usr/local/lib/python3.11/dist-packages (from google-cloud-aiplatform->-r requirements.txt (line 2)) (1.26.0)\n",
            "Requirement already satisfied: protobuf!=4.21.0,!=4.21.1,!=4.21.2,!=4.21.3,!=4.21.4,!=4.21.5,<6.0.0dev,>=3.20.2 in /usr/local/lib/python3.11/dist-packages (from google-cloud-aiplatform->-r requirements.txt (line 2)) (5.29.3)\n",
            "Requirement already satisfied: packaging>=14.3 in /usr/local/lib/python3.11/dist-packages (from google-cloud-aiplatform->-r requirements.txt (line 2)) (24.2)\n",
            "Requirement already satisfied: google-cloud-bigquery!=3.20.0,<4.0.0dev,>=1.15.0 in /usr/local/lib/python3.11/dist-packages (from google-cloud-aiplatform->-r requirements.txt (line 2)) (3.29.0)\n",
            "Requirement already satisfied: google-cloud-resource-manager<3.0.0dev,>=1.3.3 in /usr/local/lib/python3.11/dist-packages (from google-cloud-aiplatform->-r requirements.txt (line 2)) (1.14.1)\n",
            "Requirement already satisfied: shapely<3.0.0dev in /usr/local/lib/python3.11/dist-packages (from google-cloud-aiplatform->-r requirements.txt (line 2)) (2.0.7)\n",
            "Requirement already satisfied: docstring-parser<1 in /usr/local/lib/python3.11/dist-packages (from google-cloud-aiplatform->-r requirements.txt (line 2)) (0.16)\n",
            "Requirement already satisfied: openinference-instrumentation-langchain<0.2,>=0.1.19 in /usr/local/lib/python3.11/dist-packages (from google-cloud-aiplatform[langchain]->-r requirements.txt (line 3)) (0.1.33)\n",
            "Requirement already satisfied: google-cloud-trace<2 in /usr/local/lib/python3.11/dist-packages (from google-cloud-aiplatform[reasoningengine]->-r requirements.txt (line 4)) (1.16.0)\n",
            "Requirement already satisfied: opentelemetry-sdk<2 in /usr/local/lib/python3.11/dist-packages (from google-cloud-aiplatform[reasoningengine]->-r requirements.txt (line 4)) (1.30.0)\n",
            "Requirement already satisfied: opentelemetry-exporter-gcp-trace<2 in /usr/local/lib/python3.11/dist-packages (from google-cloud-aiplatform[reasoningengine]->-r requirements.txt (line 4)) (1.9.0)\n",
            "Requirement already satisfied: langchain-text-splitters<1.0.0,>=0.3.6 in /usr/local/lib/python3.11/dist-packages (from langchain->-r requirements.txt (line 5)) (0.3.6)\n",
            "Requirement already satisfied: langsmith<0.4,>=0.1.17 in /usr/local/lib/python3.11/dist-packages (from langchain->-r requirements.txt (line 5)) (0.3.11)\n",
            "Requirement already satisfied: SQLAlchemy<3,>=1.4 in /usr/local/lib/python3.11/dist-packages (from langchain->-r requirements.txt (line 5)) (2.0.38)\n",
            "Requirement already satisfied: requests<3,>=2 in /usr/local/lib/python3.11/dist-packages (from langchain->-r requirements.txt (line 5)) (2.32.3)\n",
            "Requirement already satisfied: PyYAML>=5.3 in /usr/local/lib/python3.11/dist-packages (from langchain->-r requirements.txt (line 5)) (6.0.2)\n",
            "Requirement already satisfied: aiohttp<4.0.0,>=3.8.3 in /usr/local/lib/python3.11/dist-packages (from langchain->-r requirements.txt (line 5)) (3.11.13)\n",
            "Requirement already satisfied: tenacity!=8.4.0,<10,>=8.1.0 in /usr/local/lib/python3.11/dist-packages (from langchain->-r requirements.txt (line 5)) (8.5.0)\n",
            "Requirement already satisfied: jsonpatch<2.0,>=1.33 in /usr/local/lib/python3.11/dist-packages (from langchain_core->-r requirements.txt (line 6)) (1.33)\n",
            "Requirement already satisfied: dataclasses-json<0.7,>=0.5.7 in /usr/local/lib/python3.11/dist-packages (from langchain_community->-r requirements.txt (line 7)) (0.6.7)\n",
            "Requirement already satisfied: pydantic-settings<3.0.0,>=2.4.0 in /usr/local/lib/python3.11/dist-packages (from langchain_community->-r requirements.txt (line 7)) (2.8.1)\n",
            "Requirement already satisfied: google-api-python-client<3.0.0,>=2.161.0 in /usr/local/lib/python3.11/dist-packages (from langchain-google-community->-r requirements.txt (line 11)) (2.162.0)\n",
            "Requirement already satisfied: google-cloud-core<3.0.0,>=2.4.2 in /usr/local/lib/python3.11/dist-packages (from langchain-google-community->-r requirements.txt (line 11)) (2.4.2)\n",
            "Requirement already satisfied: grpcio<2.0.0,>=1.70.0 in /usr/local/lib/python3.11/dist-packages (from langchain-google-community->-r requirements.txt (line 11)) (1.70.0)\n",
            "Requirement already satisfied: aiofiles in /usr/local/lib/python3.11/dist-packages (from cloud-sql-python-connector[asyncpg]->-r requirements.txt (line 16)) (24.1.0)\n",
            "Requirement already satisfied: cryptography>=42.0.0 in /usr/local/lib/python3.11/dist-packages (from cloud-sql-python-connector[asyncpg]->-r requirements.txt (line 16)) (43.0.3)\n",
            "Collecting dnspython>=2.0.0 (from cloud-sql-python-connector[asyncpg]->-r requirements.txt (line 16))\n",
            "  Using cached dnspython-2.7.0-py3-none-any.whl.metadata (5.8 kB)\n",
            "INFO: pip is looking at multiple versions of cloud-sql-python-connector[asyncpg] to determine which version is compatible with other requirements. This could take a while.\n",
            "Collecting cloud-sql-python-connector[asyncpg] (from -r requirements.txt (line 16))\n",
            "  Using cached cloud_sql_python_connector-1.16.0-py2.py3-none-any.whl.metadata (30 kB)\n",
            "  Using cached cloud_sql_python_connector-1.15.0-py2.py3-none-any.whl.metadata (30 kB)\n",
            "  Using cached cloud_sql_python_connector-1.14.0-py2.py3-none-any.whl.metadata (28 kB)\n",
            "Requirement already satisfied: python-dateutil>=2.8.2 in /usr/local/lib/python3.11/dist-packages (from pandas->-r requirements.txt (line 19)) (2.8.2)\n",
            "Requirement already satisfied: pytz>=2020.1 in /usr/local/lib/python3.11/dist-packages (from pandas->-r requirements.txt (line 19)) (2025.1)\n",
            "Requirement already satisfied: tzdata>=2022.7 in /usr/local/lib/python3.11/dist-packages (from pandas->-r requirements.txt (line 19)) (2025.1)\n",
            "Requirement already satisfied: openai<2.0.0,>=1.58.1 in /usr/local/lib/python3.11/dist-packages (from langchain-openai->-r requirements.txt (line 22)) (1.61.1)\n",
            "Requirement already satisfied: tiktoken<1,>=0.7 in /usr/local/lib/python3.11/dist-packages (from langchain-openai->-r requirements.txt (line 22)) (0.9.0)\n",
            "Requirement already satisfied: langgraph-checkpoint<3.0.0,>=2.0.10 in /usr/local/lib/python3.11/dist-packages (from langgraph->-r requirements.txt (line 23)) (2.0.16)\n",
            "Requirement already satisfied: langgraph-sdk<0.2.0,>=0.1.42 in /usr/local/lib/python3.11/dist-packages (from langgraph->-r requirements.txt (line 23)) (0.1.53)\n",
            "Requirement already satisfied: colorama<0.5.0,>=0.4.6 in /usr/local/lib/python3.11/dist-packages (from traceloop-sdk->-r requirements.txt (line 24)) (0.4.6)\n",
            "Requirement already satisfied: deprecated<2.0.0,>=1.2.14 in /usr/local/lib/python3.11/dist-packages (from traceloop-sdk->-r requirements.txt (line 24)) (1.2.18)\n",
            "Requirement already satisfied: jinja2<4.0.0,>=3.1.5 in /usr/local/lib/python3.11/dist-packages (from traceloop-sdk->-r requirements.txt (line 24)) (3.1.5)\n",
            "Requirement already satisfied: opentelemetry-api<2.0.0,>=1.28.0 in /usr/local/lib/python3.11/dist-packages (from traceloop-sdk->-r requirements.txt (line 24)) (1.30.0)\n",
            "Requirement already satisfied: opentelemetry-exporter-otlp-proto-grpc<2.0.0,>=1.28.0 in /usr/local/lib/python3.11/dist-packages (from traceloop-sdk->-r requirements.txt (line 24)) (1.30.0)\n",
            "Requirement already satisfied: opentelemetry-exporter-otlp-proto-http<2.0.0,>=1.28.0 in /usr/local/lib/python3.11/dist-packages (from traceloop-sdk->-r requirements.txt (line 24)) (1.30.0)\n",
            "Requirement already satisfied: opentelemetry-instrumentation-alephalpha==0.38.8 in /usr/local/lib/python3.11/dist-packages (from traceloop-sdk->-r requirements.txt (line 24)) (0.38.8)\n",
            "Requirement already satisfied: opentelemetry-instrumentation-anthropic==0.38.8 in /usr/local/lib/python3.11/dist-packages (from traceloop-sdk->-r requirements.txt (line 24)) (0.38.8)\n",
            "Requirement already satisfied: opentelemetry-instrumentation-bedrock==0.38.8 in /usr/local/lib/python3.11/dist-packages (from traceloop-sdk->-r requirements.txt (line 24)) (0.38.8)\n",
            "Requirement already satisfied: opentelemetry-instrumentation-chromadb==0.38.8 in /usr/local/lib/python3.11/dist-packages (from traceloop-sdk->-r requirements.txt (line 24)) (0.38.8)\n",
            "Requirement already satisfied: opentelemetry-instrumentation-cohere==0.38.8 in /usr/local/lib/python3.11/dist-packages (from traceloop-sdk->-r requirements.txt (line 24)) (0.38.8)\n",
            "Requirement already satisfied: opentelemetry-instrumentation-crewai==0.38.8 in /usr/local/lib/python3.11/dist-packages (from traceloop-sdk->-r requirements.txt (line 24)) (0.38.8)\n",
            "Requirement already satisfied: opentelemetry-instrumentation-groq==0.38.8 in /usr/local/lib/python3.11/dist-packages (from traceloop-sdk->-r requirements.txt (line 24)) (0.38.8)\n",
            "Requirement already satisfied: opentelemetry-instrumentation-haystack==0.38.8 in /usr/local/lib/python3.11/dist-packages (from traceloop-sdk->-r requirements.txt (line 24)) (0.38.8)\n",
            "Requirement already satisfied: opentelemetry-instrumentation-lancedb==0.38.8 in /usr/local/lib/python3.11/dist-packages (from traceloop-sdk->-r requirements.txt (line 24)) (0.38.8)\n",
            "Requirement already satisfied: opentelemetry-instrumentation-llamaindex==0.38.8 in /usr/local/lib/python3.11/dist-packages (from traceloop-sdk->-r requirements.txt (line 24)) (0.38.8)\n",
            "Requirement already satisfied: opentelemetry-instrumentation-logging>=0.50b0 in /usr/local/lib/python3.11/dist-packages (from traceloop-sdk->-r requirements.txt (line 24)) (0.51b0)\n",
            "Requirement already satisfied: opentelemetry-instrumentation-marqo==0.38.8 in /usr/local/lib/python3.11/dist-packages (from traceloop-sdk->-r requirements.txt (line 24)) (0.38.8)\n",
            "Requirement already satisfied: opentelemetry-instrumentation-milvus==0.38.8 in /usr/local/lib/python3.11/dist-packages (from traceloop-sdk->-r requirements.txt (line 24)) (0.38.8)\n",
            "Requirement already satisfied: opentelemetry-instrumentation-mistralai==0.38.8 in /usr/local/lib/python3.11/dist-packages (from traceloop-sdk->-r requirements.txt (line 24)) (0.38.8)\n",
            "Requirement already satisfied: opentelemetry-instrumentation-ollama==0.38.8 in /usr/local/lib/python3.11/dist-packages (from traceloop-sdk->-r requirements.txt (line 24)) (0.38.8)\n",
            "Requirement already satisfied: opentelemetry-instrumentation-openai==0.38.8 in /usr/local/lib/python3.11/dist-packages (from traceloop-sdk->-r requirements.txt (line 24)) (0.38.8)\n",
            "Requirement already satisfied: opentelemetry-instrumentation-pinecone==0.38.8 in /usr/local/lib/python3.11/dist-packages (from traceloop-sdk->-r requirements.txt (line 24)) (0.38.8)\n",
            "Requirement already satisfied: opentelemetry-instrumentation-qdrant==0.38.8 in /usr/local/lib/python3.11/dist-packages (from traceloop-sdk->-r requirements.txt (line 24)) (0.38.8)\n",
            "Requirement already satisfied: opentelemetry-instrumentation-replicate==0.38.8 in /usr/local/lib/python3.11/dist-packages (from traceloop-sdk->-r requirements.txt (line 24)) (0.38.8)\n",
            "Requirement already satisfied: opentelemetry-instrumentation-requests>=0.50b0 in /usr/local/lib/python3.11/dist-packages (from traceloop-sdk->-r requirements.txt (line 24)) (0.51b0)\n",
            "Requirement already satisfied: opentelemetry-instrumentation-sagemaker==0.38.8 in /usr/local/lib/python3.11/dist-packages (from traceloop-sdk->-r requirements.txt (line 24)) (0.38.8)\n",
            "Requirement already satisfied: opentelemetry-instrumentation-sqlalchemy>=0.50b0 in /usr/local/lib/python3.11/dist-packages (from traceloop-sdk->-r requirements.txt (line 24)) (0.51b0)\n",
            "Requirement already satisfied: opentelemetry-instrumentation-threading>=0.50b0 in /usr/local/lib/python3.11/dist-packages (from traceloop-sdk->-r requirements.txt (line 24)) (0.51b0)\n",
            "Requirement already satisfied: opentelemetry-instrumentation-together==0.38.8 in /usr/local/lib/python3.11/dist-packages (from traceloop-sdk->-r requirements.txt (line 24)) (0.38.8)\n",
            "Requirement already satisfied: opentelemetry-instrumentation-transformers==0.38.8 in /usr/local/lib/python3.11/dist-packages (from traceloop-sdk->-r requirements.txt (line 24)) (0.38.8)\n",
            "Requirement already satisfied: opentelemetry-instrumentation-urllib3>=0.50b0 in /usr/local/lib/python3.11/dist-packages (from traceloop-sdk->-r requirements.txt (line 24)) (0.51b0)\n",
            "Requirement already satisfied: opentelemetry-instrumentation-watsonx==0.38.8 in /usr/local/lib/python3.11/dist-packages (from traceloop-sdk->-r requirements.txt (line 24)) (0.38.8)\n",
            "Requirement already satisfied: opentelemetry-instrumentation-weaviate==0.38.8 in /usr/local/lib/python3.11/dist-packages (from traceloop-sdk->-r requirements.txt (line 24)) (0.38.8)\n",
            "Requirement already satisfied: opentelemetry-semantic-conventions-ai==0.4.2 in /usr/local/lib/python3.11/dist-packages (from traceloop-sdk->-r requirements.txt (line 24)) (0.4.2)\n",
            "Requirement already satisfied: posthog<4,>3.0.2 in /usr/local/lib/python3.11/dist-packages (from traceloop-sdk->-r requirements.txt (line 24)) (3.18.0)\n",
            "Requirement already satisfied: opentelemetry-instrumentation>=0.50b0 in /usr/local/lib/python3.11/dist-packages (from opentelemetry-instrumentation-google-generativeai->-r requirements.txt (line 25)) (0.51b0)\n",
            "Requirement already satisfied: opentelemetry-semantic-conventions>=0.50b0 in /usr/local/lib/python3.11/dist-packages (from opentelemetry-instrumentation-google-generativeai->-r requirements.txt (line 25)) (0.51b0)\n",
            "Requirement already satisfied: anthropic>=0.17.0 in /usr/local/lib/python3.11/dist-packages (from opentelemetry-instrumentation-bedrock==0.38.8->traceloop-sdk->-r requirements.txt (line 24)) (0.49.0)\n",
            "Requirement already satisfied: inflection<0.6.0,>=0.5.1 in /usr/local/lib/python3.11/dist-packages (from opentelemetry-instrumentation-llamaindex==0.38.8->traceloop-sdk->-r requirements.txt (line 24)) (0.5.1)\n",
            "Requirement already satisfied: aiohappyeyeballs>=2.3.0 in /usr/local/lib/python3.11/dist-packages (from aiohttp<4.0.0,>=3.8.3->langchain->-r requirements.txt (line 5)) (2.4.6)\n",
            "Requirement already satisfied: aiosignal>=1.1.2 in /usr/local/lib/python3.11/dist-packages (from aiohttp<4.0.0,>=3.8.3->langchain->-r requirements.txt (line 5)) (1.3.2)\n",
            "Requirement already satisfied: attrs>=17.3.0 in /usr/local/lib/python3.11/dist-packages (from aiohttp<4.0.0,>=3.8.3->langchain->-r requirements.txt (line 5)) (25.1.0)\n",
            "Requirement already satisfied: frozenlist>=1.1.1 in /usr/local/lib/python3.11/dist-packages (from aiohttp<4.0.0,>=3.8.3->langchain->-r requirements.txt (line 5)) (1.5.0)\n",
            "Requirement already satisfied: multidict<7.0,>=4.5 in /usr/local/lib/python3.11/dist-packages (from aiohttp<4.0.0,>=3.8.3->langchain->-r requirements.txt (line 5)) (6.1.0)\n",
            "Requirement already satisfied: propcache>=0.2.0 in /usr/local/lib/python3.11/dist-packages (from aiohttp<4.0.0,>=3.8.3->langchain->-r requirements.txt (line 5)) (0.3.0)\n",
            "Requirement already satisfied: yarl<2.0,>=1.17.0 in /usr/local/lib/python3.11/dist-packages (from aiohttp<4.0.0,>=3.8.3->langchain->-r requirements.txt (line 5)) (1.18.3)\n",
            "Requirement already satisfied: cffi>=1.12 in /usr/local/lib/python3.11/dist-packages (from cryptography>=42.0.0->cloud-sql-python-connector[asyncpg]->-r requirements.txt (line 16)) (1.17.1)\n",
            "Requirement already satisfied: marshmallow<4.0.0,>=3.18.0 in /usr/local/lib/python3.11/dist-packages (from dataclasses-json<0.7,>=0.5.7->langchain_community->-r requirements.txt (line 7)) (3.26.1)\n",
            "Requirement already satisfied: typing-inspect<1,>=0.4.0 in /usr/local/lib/python3.11/dist-packages (from dataclasses-json<0.7,>=0.5.7->langchain_community->-r requirements.txt (line 7)) (0.9.0)\n",
            "Requirement already satisfied: wrapt<2,>=1.10 in /usr/local/lib/python3.11/dist-packages (from deprecated<2.0.0,>=1.2.14->traceloop-sdk->-r requirements.txt (line 24)) (1.17.2)\n",
            "Requirement already satisfied: googleapis-common-protos<2.0.dev0,>=1.56.2 in /usr/local/lib/python3.11/dist-packages (from google-api-core!=2.0.*,!=2.1.*,!=2.2.*,!=2.3.*,!=2.4.*,!=2.5.*,!=2.6.*,!=2.7.*,<3.0.0dev,>=1.34.1->google-api-core[grpc]!=2.0.*,!=2.1.*,!=2.2.*,!=2.3.*,!=2.4.*,!=2.5.*,!=2.6.*,!=2.7.*,<3.0.0dev,>=1.34.1->google-cloud-aiplatform->-r requirements.txt (line 2)) (1.68.0)\n",
            "Requirement already satisfied: grpcio-status<2.0.dev0,>=1.33.2 in /usr/local/lib/python3.11/dist-packages (from google-api-core[grpc]!=2.0.*,!=2.1.*,!=2.2.*,!=2.3.*,!=2.4.*,!=2.5.*,!=2.6.*,!=2.7.*,<3.0.0dev,>=1.34.1->google-cloud-aiplatform->-r requirements.txt (line 2)) (1.62.3)\n",
            "Requirement already satisfied: httplib2<1.dev0,>=0.19.0 in /usr/local/lib/python3.11/dist-packages (from google-api-python-client<3.0.0,>=2.161.0->langchain-google-community->-r requirements.txt (line 11)) (0.22.0)\n",
            "Requirement already satisfied: google-auth-httplib2<1.0.0,>=0.2.0 in /usr/local/lib/python3.11/dist-packages (from google-api-python-client<3.0.0,>=2.161.0->langchain-google-community->-r requirements.txt (line 11)) (0.2.0)\n",
            "Requirement already satisfied: uritemplate<5,>=3.0.1 in /usr/local/lib/python3.11/dist-packages (from google-api-python-client<3.0.0,>=2.161.0->langchain-google-community->-r requirements.txt (line 11)) (4.1.1)\n",
            "Requirement already satisfied: cachetools<6.0,>=2.0.0 in /usr/local/lib/python3.11/dist-packages (from google-auth<3.0.0dev,>=2.14.1->google-cloud-aiplatform->-r requirements.txt (line 2)) (5.5.2)\n",
            "Requirement already satisfied: pyasn1-modules>=0.2.1 in /usr/local/lib/python3.11/dist-packages (from google-auth<3.0.0dev,>=2.14.1->google-cloud-aiplatform->-r requirements.txt (line 2)) (0.4.1)\n",
            "Requirement already satisfied: rsa<5,>=3.1.4 in /usr/local/lib/python3.11/dist-packages (from google-auth<3.0.0dev,>=2.14.1->google-cloud-aiplatform->-r requirements.txt (line 2)) (4.9)\n",
            "Requirement already satisfied: google-resumable-media<3.0dev,>=2.0.0 in /usr/local/lib/python3.11/dist-packages (from google-cloud-bigquery!=3.20.0,<4.0.0dev,>=1.15.0->google-cloud-aiplatform->-r requirements.txt (line 2)) (2.7.2)\n",
            "Requirement already satisfied: grpc-google-iam-v1<1.0.0dev,>=0.14.0 in /usr/local/lib/python3.11/dist-packages (from google-cloud-resource-manager<3.0.0dev,>=1.3.3->google-cloud-aiplatform->-r requirements.txt (line 2)) (0.14.0)\n",
            "Requirement already satisfied: google-crc32c<2.0dev,>=1.0 in /usr/local/lib/python3.11/dist-packages (from google-cloud-storage<3.0.0,>=2.18.0->langchain-google-vertexai==2.0.8->-r requirements.txt (line 8)) (1.6.0)\n",
            "Requirement already satisfied: anyio in /usr/local/lib/python3.11/dist-packages (from httpx<0.28.0,>=0.27.0->langchain-google-vertexai==2.0.8->-r requirements.txt (line 8)) (3.7.1)\n",
            "Requirement already satisfied: certifi in /usr/local/lib/python3.11/dist-packages (from httpx<0.28.0,>=0.27.0->langchain-google-vertexai==2.0.8->-r requirements.txt (line 8)) (2025.1.31)\n",
            "Requirement already satisfied: httpcore==1.* in /usr/local/lib/python3.11/dist-packages (from httpx<0.28.0,>=0.27.0->langchain-google-vertexai==2.0.8->-r requirements.txt (line 8)) (1.0.7)\n",
            "Requirement already satisfied: idna in /usr/local/lib/python3.11/dist-packages (from httpx<0.28.0,>=0.27.0->langchain-google-vertexai==2.0.8->-r requirements.txt (line 8)) (3.10)\n",
            "Requirement already satisfied: sniffio in /usr/local/lib/python3.11/dist-packages (from httpx<0.28.0,>=0.27.0->langchain-google-vertexai==2.0.8->-r requirements.txt (line 8)) (1.3.1)\n",
            "Requirement already satisfied: h11<0.15,>=0.13 in /usr/local/lib/python3.11/dist-packages (from httpcore==1.*->httpx<0.28.0,>=0.27.0->langchain-google-vertexai==2.0.8->-r requirements.txt (line 8)) (0.14.0)\n",
            "Requirement already satisfied: MarkupSafe>=2.0 in /usr/local/lib/python3.11/dist-packages (from jinja2<4.0.0,>=3.1.5->traceloop-sdk->-r requirements.txt (line 24)) (3.0.2)\n",
            "Requirement already satisfied: jsonpointer>=1.9 in /usr/local/lib/python3.11/dist-packages (from jsonpatch<2.0,>=1.33->langchain_core->-r requirements.txt (line 6)) (3.0.0)\n",
            "Requirement already satisfied: msgpack<2.0.0,>=1.1.0 in /usr/local/lib/python3.11/dist-packages (from langgraph-checkpoint<3.0.0,>=2.0.10->langgraph->-r requirements.txt (line 23)) (1.1.0)\n",
            "Requirement already satisfied: orjson>=3.10.1 in /usr/local/lib/python3.11/dist-packages (from langgraph-sdk<0.2.0,>=0.1.42->langgraph->-r requirements.txt (line 23)) (3.10.15)\n",
            "Requirement already satisfied: requests-toolbelt<2.0.0,>=1.0.0 in /usr/local/lib/python3.11/dist-packages (from langsmith<0.4,>=0.1.17->langchain->-r requirements.txt (line 5)) (1.0.0)\n",
            "Requirement already satisfied: zstandard<0.24.0,>=0.23.0 in /usr/local/lib/python3.11/dist-packages (from langsmith<0.4,>=0.1.17->langchain->-r requirements.txt (line 5)) (0.23.0)\n",
            "Requirement already satisfied: distro<2,>=1.7.0 in /usr/local/lib/python3.11/dist-packages (from openai<2.0.0,>=1.58.1->langchain-openai->-r requirements.txt (line 22)) (1.9.0)\n",
            "Requirement already satisfied: jiter<1,>=0.4.0 in /usr/local/lib/python3.11/dist-packages (from openai<2.0.0,>=1.58.1->langchain-openai->-r requirements.txt (line 22)) (0.8.2)\n",
            "Requirement already satisfied: tqdm>4 in /usr/local/lib/python3.11/dist-packages (from openai<2.0.0,>=1.58.1->langchain-openai->-r requirements.txt (line 22)) (4.67.1)\n",
            "Requirement already satisfied: openinference-instrumentation>=0.1.17 in /usr/local/lib/python3.11/dist-packages (from openinference-instrumentation-langchain<0.2,>=0.1.19->google-cloud-aiplatform[langchain]->-r requirements.txt (line 3)) (0.1.23)\n",
            "Requirement already satisfied: openinference-semantic-conventions>=0.1.9 in /usr/local/lib/python3.11/dist-packages (from openinference-instrumentation-langchain<0.2,>=0.1.19->google-cloud-aiplatform[langchain]->-r requirements.txt (line 3)) (0.1.14)\n",
            "Requirement already satisfied: importlib-metadata<=8.5.0,>=6.0 in /usr/local/lib/python3.11/dist-packages (from opentelemetry-api<2.0.0,>=1.28.0->traceloop-sdk->-r requirements.txt (line 24)) (8.5.0)\n",
            "Requirement already satisfied: opentelemetry-resourcedetector-gcp==1.*,>=1.5.0dev0 in /usr/local/lib/python3.11/dist-packages (from opentelemetry-exporter-gcp-trace<2->google-cloud-aiplatform[reasoningengine]->-r requirements.txt (line 4)) (1.9.0a0)\n",
            "Requirement already satisfied: opentelemetry-exporter-otlp-proto-common==1.30.0 in /usr/local/lib/python3.11/dist-packages (from opentelemetry-exporter-otlp-proto-grpc<2.0.0,>=1.28.0->traceloop-sdk->-r requirements.txt (line 24)) (1.30.0)\n",
            "Requirement already satisfied: opentelemetry-proto==1.30.0 in /usr/local/lib/python3.11/dist-packages (from opentelemetry-exporter-otlp-proto-grpc<2.0.0,>=1.28.0->traceloop-sdk->-r requirements.txt (line 24)) (1.30.0)\n",
            "Requirement already satisfied: opentelemetry-util-http==0.51b0 in /usr/local/lib/python3.11/dist-packages (from opentelemetry-instrumentation-requests>=0.50b0->traceloop-sdk->-r requirements.txt (line 24)) (0.51b0)\n",
            "Requirement already satisfied: six>=1.5 in /usr/local/lib/python3.11/dist-packages (from posthog<4,>3.0.2->traceloop-sdk->-r requirements.txt (line 24)) (1.17.0)\n",
            "Requirement already satisfied: monotonic>=1.5 in /usr/local/lib/python3.11/dist-packages (from posthog<4,>3.0.2->traceloop-sdk->-r requirements.txt (line 24)) (1.6)\n",
            "Requirement already satisfied: backoff>=1.10.0 in /usr/local/lib/python3.11/dist-packages (from posthog<4,>3.0.2->traceloop-sdk->-r requirements.txt (line 24)) (2.2.1)\n",
            "Requirement already satisfied: charset-normalizer<4,>=2 in /usr/local/lib/python3.11/dist-packages (from requests<3,>=2->langchain->-r requirements.txt (line 5)) (3.4.1)\n",
            "Requirement already satisfied: urllib3<3,>=1.21.1 in /usr/local/lib/python3.11/dist-packages (from requests<3,>=2->langchain->-r requirements.txt (line 5)) (2.3.0)\n",
            "Requirement already satisfied: greenlet!=0.4.17 in /usr/local/lib/python3.11/dist-packages (from SQLAlchemy<3,>=1.4->langchain->-r requirements.txt (line 5)) (3.1.1)\n",
            "Requirement already satisfied: regex>=2022.1.18 in /usr/local/lib/python3.11/dist-packages (from tiktoken<1,>=0.7->langchain-openai->-r requirements.txt (line 22)) (2024.11.6)\n",
            "Requirement already satisfied: pycparser in /usr/local/lib/python3.11/dist-packages (from cffi>=1.12->cryptography>=42.0.0->cloud-sql-python-connector[asyncpg]->-r requirements.txt (line 16)) (2.22)\n",
            "Requirement already satisfied: pyparsing!=3.0.0,!=3.0.1,!=3.0.2,!=3.0.3,<4,>=2.4.2 in /usr/local/lib/python3.11/dist-packages (from httplib2<1.dev0,>=0.19.0->google-api-python-client<3.0.0,>=2.161.0->langchain-google-community->-r requirements.txt (line 11)) (3.2.1)\n",
            "Requirement already satisfied: zipp>=3.20 in /usr/local/lib/python3.11/dist-packages (from importlib-metadata<=8.5.0,>=6.0->opentelemetry-api<2.0.0,>=1.28.0->traceloop-sdk->-r requirements.txt (line 24)) (3.21.0)\n",
            "Requirement already satisfied: pyasn1<0.7.0,>=0.4.6 in /usr/local/lib/python3.11/dist-packages (from pyasn1-modules>=0.2.1->google-auth<3.0.0dev,>=2.14.1->google-cloud-aiplatform->-r requirements.txt (line 2)) (0.6.1)\n",
            "Requirement already satisfied: mypy-extensions>=0.3.0 in /usr/local/lib/python3.11/dist-packages (from typing-inspect<1,>=0.4.0->dataclasses-json<0.7,>=0.5.7->langchain_community->-r requirements.txt (line 7)) (1.0.0)\n"
          ]
        }
      ],
      "source": [
        "!pip install --upgrade -r requirements.txt"
      ]
    },
    {
      "cell_type": "markdown",
      "metadata": {
        "id": "rOoZIYXCS54A"
      },
      "source": [
        "## Setting up Google Cloud Account"
      ]
    },
    {
      "cell_type": "markdown",
      "metadata": {
        "id": "JnnnVsfJS54B"
      },
      "source": [
        "#### Recommended account setup\n",
        "\n",
        "if you are running this in jupyter notebook locally, you may need to login to google cloud by running the following command from terminal:\n",
        "\n",
        "```\n",
        "gcloud auth login\n",
        "gcloud auth application-default login\n",
        "```"
      ]
    },
    {
      "cell_type": "markdown",
      "metadata": {
        "id": "YDn9wC-ES54B"
      },
      "source": [
        "If you are using Google Colabs, you need to authenticate with your google account by running the following notebook cell.\n",
        "\n",
        "> Please remember that you will need to do this on each jupyter notebook during this workshop"
      ]
    },
    {
      "cell_type": "code",
      "execution_count": 3,
      "metadata": {
        "id": "aocVf3yhS54C"
      },
      "outputs": [],
      "source": [
        "# #@markdown ###Authenticate your Google Cloud Account and enable APIs.\n",
        "# # Authenticate gcloud.\n",
        "from google.colab import auth\n",
        "auth.authenticate_user()"
      ]
    },
    {
      "cell_type": "code",
      "source": [
        "!gcloud projects list"
      ],
      "metadata": {
        "id": "GrOKSdUVTQgZ"
      },
      "execution_count": null,
      "outputs": []
    },
    {
      "cell_type": "code",
      "execution_count": 4,
      "metadata": {
        "id": "51uVWpN7S54C",
        "colab": {
          "base_uri": "https://localhost:8080/"
        },
        "outputId": "bf08454f-6434-467f-ad92-25a3b8163165"
      },
      "outputs": [
        {
          "output_type": "stream",
          "name": "stderr",
          "text": [
            "/usr/local/lib/python3.11/dist-packages/IPython/core/interactiveshell.py:3553: LangChainDeprecationWarning: As of langchain-core 0.3.0, LangChain uses pydantic v2 internally. The langchain.pydantic_v1 module was a compatibility shim for pydantic v1, and should no longer be used. Please update the code to import from Pydantic directly.\n",
            "\n",
            "For example, replace imports like: `from langchain.pydantic_v1 import BaseModel`\n",
            "with: `from pydantic import BaseModel`\n",
            "or the v1 compatibility namespace if you are working in a code base that has not been fully upgraded to pydantic 2 yet. \tfrom pydantic.v1 import BaseModel\n",
            "\n",
            "  exec(code_obj, self.user_global_ns, self.user_ns)\n"
          ]
        }
      ],
      "source": [
        "import requests\n",
        "from typing import Optional, List\n",
        "from IPython.display import display, Markdown\n",
        "\n",
        "from langchain.agents.format_scratchpad import format_to_openai_function_messages\n",
        "from langchain.tools.retriever import create_retriever_tool\n",
        "from langchain.pydantic_v1 import BaseModel, Field\n",
        "from langchain.tools import StructuredTool\n",
        "from langchain.memory import ChatMessageHistory\n",
        "from langchain_community.chat_message_histories import ChatMessageHistory\n",
        "from langchain_google_cloud_sql_pg import PostgresChatMessageHistory\n",
        "from langchain_core.chat_history import BaseChatMessageHistory\n",
        "\n",
        "from langchain.prompts import (\n",
        "    ChatPromptTemplate,\n",
        "    HumanMessagePromptTemplate,\n",
        "    MessagesPlaceholder,\n",
        "    SystemMessagePromptTemplate,\n",
        ")\n",
        "\n",
        "from langchain_google_cloud_sql_pg import (\n",
        "    PostgresEngine,\n",
        "    PostgresVectorStore,\n",
        ")\n",
        "\n",
        "from vertexai.preview import reasoning_engines\n",
        "from langchain_google_vertexai import VertexAIEmbeddings\n",
        "from langchain_google_vertexai import HarmBlockThreshold, HarmCategory"
      ]
    },
    {
      "cell_type": "code",
      "execution_count": 5,
      "metadata": {
        "colab": {
          "base_uri": "https://localhost:8080/"
        },
        "id": "1f-18zO9S54C",
        "outputId": "b42535fa-374d-4286-e0f0-3fdabfb03613",
        "cellView": "form"
      },
      "outputs": [
        {
          "output_type": "stream",
          "name": "stdout",
          "text": [
            "Updated property [core/project].\n",
            "Database Host: 35.239.247.104\n"
          ]
        }
      ],
      "source": [
        "project_id = \"agent-rag-451702\"  # @param {type:\"string\"}\n",
        "region = \"us-central1\" #change this to project location\n",
        "# staging_bucket_name = \"devfest24-demo-bucket\"  # @param {type:\"string\"}\n",
        "instance_name=\"mkrs-demo\" # @param {type:\"string\"}\n",
        "database_password = 'testing' # @param {type:\"string\"}\n",
        "database_name = 'testing' # @param {type:\"string\"}\n",
        "database_user = 'testing' # @param {type:\"string\"}\n",
        "\n",
        "assert database_name, \"⚠️ Please provide a database name\"\n",
        "assert database_user, \"⚠️ Please provide a database user\"\n",
        "assert database_password, \"⚠️ Please provide a database password\"\n",
        "\n",
        "# dont update variable below\n",
        "!gcloud config set project {project_id} --quiet\n",
        "\n",
        "# get the ip address of the cloudsql instance\n",
        "ip_addresses = !gcloud sql instances describe {instance_name} --format=\"value(ipAddresses[0].ipAddress)\"\n",
        "database_host = ip_addresses[0]\n",
        "\n",
        "gemini_embedding_model = \"text-embedding-004\"\n",
        "gemini_llm_model = \"gemini-2.0-flash-001\"\n",
        "embeddings_table_name = \"course_content_embeddings\"\n",
        "chat_history_table_name = \"chat_histories\"\n",
        "\n",
        "# print(f\"API Base URL: {api_base_url}\")\n",
        "print(f\"Database Host: {database_host}\")"
      ]
    },
    {
      "cell_type": "markdown",
      "metadata": {
        "id": "-PXyKxM8S54D"
      },
      "source": [
        "### Initializing vertex ai"
      ]
    },
    {
      "cell_type": "code",
      "execution_count": 6,
      "metadata": {
        "id": "0Cxup0I_S54D"
      },
      "outputs": [],
      "source": [
        "import vertexai\n",
        "vertexai.init(project=project_id, location=region)"
      ]
    },
    {
      "cell_type": "markdown",
      "metadata": {
        "id": "BM3zuuETS54D"
      },
      "source": [
        "### Agent Code\n",
        "\n",
        "This section below define a few classes that we have tried from the previous notebook.\n",
        "\n",
        "The main focus here should be `CourseAgent` where we setup all dependencies required by the agent"
      ]
    },
    {
      "cell_type": "code",
      "source": [
        "import psycopg2\n",
        "import json\n",
        "\n",
        "\n",
        "class CourseAPIClient:\n",
        "    def __init__(self):\n",
        "        \"\"\"\n",
        "        db_config: dictionary dengan keys: host, port, dbname, user, password\n",
        "        \"\"\"\n",
        "        db_config = {\n",
        "            \"host\": \"lecture-dss-db.mekarsa.com\",\n",
        "            \"port\": 54321,\n",
        "            \"dbname\": \"warehouse\",\n",
        "            \"user\": \"lecture2024\",\n",
        "            \"password\": \"Ojolali123\"\n",
        "        }\n",
        "        self.conn = psycopg2.connect(**db_config)\n",
        "        self.cur = self.conn.cursor()\n",
        "\n",
        "    def list_tax(self):\n",
        "        \"\"\"Mengambil daftar kursus dari database\"\"\"\n",
        "        query = \"\"\"SELECT\n",
        "          fpd.kode_rekening,\n",
        "          fpd.target_murni,\n",
        "          fpd.totrealisasi_after,\n",
        "          fpd.persentarget_all,\n",
        "          dr.nama_rek\n",
        "        FROM fact_pendapatan_daerah fpd\n",
        "        join dim_rekening dr\n",
        "        on fpd.kode_rekening = dr.kode_rekening;\"\"\"\n",
        "        self.cur.execute(query)\n",
        "        courses = self.cur.fetchall()\n",
        "        self.close_connection()\n",
        "\n",
        "        result = [{\n",
        "            \"fpd.kode_rekening\": c[0],\n",
        "            \"fpd.terget_realita\": float(c[1]),\n",
        "            \"fpd.totrealisasi_after\": float(c[2]),\n",
        "            \"fpd.persetarget_all\": float(c[3]),\n",
        "            \"dr.nama_rek\": c[4]\n",
        "          } for c in courses]\n",
        "        return json.dumps(result)\n",
        "\n",
        "    def get_tax(self, param):\n",
        "        \"\"\"Mengambil daftar kursus dari database\"\"\"\n",
        "        query = f\"\"\"\n",
        "        SELECT\n",
        "          fpd.kode_rekening,\n",
        "          fpd.target_murni,\n",
        "          fpd.totrealisasi_after,\n",
        "          fpd.persentarget_all,\n",
        "          dr.nama_rek\n",
        "        FROM\n",
        "          fact_pendapatan_daerah fpd\n",
        "        JOIN\n",
        "          dim_rekening dr\n",
        "        ON\n",
        "          fpd.kode_rekening = dr.kode_rekening\n",
        "        WHERE\n",
        "          fpd.kode_rekening = '{param}' or\n",
        "          dr.nama_rek like '%{param}%'\"\"\"\n",
        "        self.cur.execute(query)\n",
        "        courses = self.cur.fetchall()\n",
        "        self.close_connection()\n",
        "\n",
        "        result = [{\n",
        "            \"fpd.kode_rekening\": c[0],\n",
        "            \"fpd.terget_realita\": float(c[1]),\n",
        "            \"fpd.totrealisasi_after\": float(c[2]),\n",
        "            \"fpd.persentarget_all\": float(c[3]),\n",
        "            \"dr.nama_rek\": c[4]\n",
        "          } for c in courses]\n",
        "        return json.dumps(result)\n",
        "\n",
        "    def data_report(self, param):\n",
        "      return \"https://api.mekarsa.com/report/report-id\"\n",
        "\n",
        "    def ticket_summaries(self, param):\n",
        "        \"\"\"Mengambil daftar kursus dari database\"\"\"\n",
        "        query = f\"\"\"\n",
        "        SELECT\n",
        "          sum(target_murni) as target,\n",
        "          sum(totrealisasi_after) as realisasi,\n",
        "          sum(persentarget_all) as percentage\n",
        "        FROM fact_pendapatan_daerah fpd\n",
        "        JOIN dim_rekening dr\n",
        "        ON fpd.kode_rekening = dr.kode_rekening\n",
        "        WHERE\n",
        "          fpd.kode_rekening = '{param}' or dr.nama_rek like '%{param}%';\"\"\"\n",
        "        self.cur.execute(query)\n",
        "        courses = self.cur.fetchall()\n",
        "        self.close_connection()\n",
        "\n",
        "        result = [{\n",
        "            \"target\": c[0],\n",
        "            \"realisasi\": float(c[1]),\n",
        "            \"percentage\": float(c[2])\n",
        "          } for c in courses]\n",
        "        return json.dumps(result)\n",
        "\n",
        "    def close_connection(self):\n",
        "        \"\"\"Menutup koneksi ke database\"\"\"\n",
        "        self.cur.close()\n",
        "        self.conn.close()\n"
      ],
      "metadata": {
        "id": "iMa95VgsUB6c"
      },
      "execution_count": 7,
      "outputs": []
    },
    {
      "cell_type": "code",
      "source": [
        "api = CourseAPIClient()"
      ],
      "metadata": {
        "id": "J0sYBx_KYvhu"
      },
      "execution_count": 8,
      "outputs": []
    },
    {
      "cell_type": "code",
      "source": [
        "api.list_tax()"
      ],
      "metadata": {
        "colab": {
          "base_uri": "https://localhost:8080/",
          "height": 122
        },
        "id": "OzpLbdPmYxqJ",
        "outputId": "8db70eff-4c06-4bac-b013-e9ad4e44e62f"
      },
      "execution_count": 9,
      "outputs": [
        {
          "output_type": "execute_result",
          "data": {
            "text/plain": [
              "'[{\"fpd.kode_rekening\": \"4\", \"fpd.terget_realita\": 4271590000000.0, \"fpd.totrealisasi_after\": 2871066126375.62, \"fpd.persetarget_all\": 67.2130547729445, \"dr.nama_rek\": \"Pendapatan Daerah\"}, {\"fpd.kode_rekening\": \"4.1\", \"fpd.terget_realita\": 771072268674.0, \"fpd.totrealisasi_after\": 554413320244.93, \"fpd.persetarget_all\": 71.90160284176027, \"dr.nama_rek\": \"Pendapatan Asli Daerah\"}, {\"fpd.kode_rekening\": \"4.1.1\", \"fpd.terget_realita\": 554860000000.0, \"fpd.totrealisasi_after\": 372499026684.39, \"fpd.persetarget_all\": 67.13387641646361, \"dr.nama_rek\": \"Hasil Pajak Daerah\"}, {\"fpd.kode_rekening\": \"4.1.1.6\", \"fpd.terget_realita\": 50000000000.0, \"fpd.totrealisasi_after\": 44641477501.46, \"fpd.persetarget_all\": 89.28295500291999, \"dr.nama_rek\": \"Pajak Jasa Perhotelan\"}, {\"fpd.kode_rekening\": \"4.1.1.6.1\", \"fpd.terget_realita\": 49129000000.0, \"fpd.totrealisasi_after\": 43028719101.46, \"fpd.persetarget_all\": 87.58313643969956, \"dr.nama_rek\": \"Pajak Hotel\"}, {\"fpd.kode_rekening\": \"4.1.1.6.1.1\", \"fpd.terget_realita\": 49129000000.0, \"fpd.totrealisasi_after\": 43028719101.46, \"fpd.persetarget_all\": 87.58313643969956, \"dr.nama_rek\": \"Pajak Hotel\"}, {\"fpd.kode_rekening\": \"4.1.1.6.1.1.1\", \"fpd.terget_realita\": 5200000000.0, \"fpd.totrealisasi_after\": 4906323860.0, \"fpd.persetarget_all\": 94.35238192307692, \"dr.nama_rek\": \"Hotel Bintang Lima\"}, {\"fpd.kode_rekening\": \"4.1.1.6.1.1.2\", \"fpd.terget_realita\": 23750000000.0, \"fpd.totrealisasi_after\": 22876023658.0, \"fpd.persetarget_all\": 96.32009961263158, \"dr.nama_rek\": \"Hotel Bintang Empat\"}, {\"fpd.kode_rekening\": \"4.1.1.6.1.1.3\", \"fpd.terget_realita\": 13650000000.0, \"fpd.totrealisasi_after\": 10394572952.0, \"fpd.persetarget_all\": 76.1507175970696, \"dr.nama_rek\": \"Hotel Bintang Tiga\"}, {\"fpd.kode_rekening\": \"4.1.1.6.1.1.4\", \"fpd.terget_realita\": 4700000000.0, \"fpd.totrealisasi_after\": 3105391389.0, \"fpd.persetarget_all\": 66.07215721276596, \"dr.nama_rek\": \"Hotel Bintang Dua\"}, {\"fpd.kode_rekening\": \"4.1.1.6.1.1.5\", \"fpd.terget_realita\": 9000000.0, \"fpd.totrealisasi_after\": 6670000.0, \"fpd.persetarget_all\": 74.11111111111111, \"dr.nama_rek\": \"Hotel Bintang Satu\"}, {\"fpd.kode_rekening\": \"4.1.1.6.1.1.6\", \"fpd.terget_realita\": 1820000000.0, \"fpd.totrealisasi_after\": 1739737242.46, \"fpd.persetarget_all\": 95.58995837692308, \"dr.nama_rek\": \"Hotel Melati Satu\"}, {\"fpd.kode_rekening\": \"4.1.1.6.2\", \"fpd.terget_realita\": 0.0, \"fpd.totrealisasi_after\": 0.0, \"fpd.persetarget_all\": 0.0, \"dr.nama_rek\": \"Pajak Motel\"}, {\"fpd.kode_rekening\": \"4.1.1.6.2.1\", \"fpd.terget_realita\": 0.0, \"fpd.totrealisasi_after\": 0.0, \"fpd.persetarget_all\": 0.0, \"dr.nama_rek\": \"Pajak Motel\"}, {\"fpd.kode_rekening\": \"4.1.1.6.3\", \"fpd.terget_realita\": 0.0, \"fpd.totrealisasi_after\": 1493792271.0, \"fpd.persetarget_all\": 100.0, \"dr.nama_rek\": \"Pajak Losmen\"}, {\"fpd.kode_rekening\": \"4.1.1.6.3.1\", \"fpd.terget_realita\": 0.0, \"fpd.totrealisasi_after\": 1493792271.0, \"fpd.persetarget_all\": 100.0, \"dr.nama_rek\": \"Pajak Losmen\"}, {\"fpd.kode_rekening\": \"4.1.1.6.4\", \"fpd.terget_realita\": 0.0, \"fpd.totrealisasi_after\": 0.0, \"fpd.persetarget_all\": 0.0, \"dr.nama_rek\": \"Pajak Gubuk Pariwisata\"}, {\"fpd.kode_rekening\": \"4.1.1.6.4.1\", \"fpd.terget_realita\": 0.0, \"fpd.totrealisasi_after\": 0.0, \"fpd.persetarget_all\": 0.0, \"dr.nama_rek\": \"Pajak Gubuk Pariwisata\"}, {\"fpd.kode_rekening\": \"4.1.1.6.5\", \"fpd.terget_realita\": 0.0, \"fpd.totrealisasi_after\": 0.0, \"fpd.persetarget_all\": 0.0, \"dr.nama_rek\": \"Pajak Wisma Pariwisata\"}, {\"fpd.kode_rekening\": \"4.1.1.6.5.1\", \"fpd.terget_realita\": 0.0, \"fpd.totrealisasi_after\": 0.0, \"fpd.persetarget_all\": 0.0, \"dr.nama_rek\": \"Pajak Wisma Pariwisata\"}, {\"fpd.kode_rekening\": \"4.1.1.6.6\", \"fpd.terget_realita\": 0.0, \"fpd.totrealisasi_after\": 6886000.0, \"fpd.persetarget_all\": 100.0, \"dr.nama_rek\": \"Pajak Pesanggrahan\"}, {\"fpd.kode_rekening\": \"4.1.1.6.6.1\", \"fpd.terget_realita\": 0.0, \"fpd.totrealisasi_after\": 6886000.0, \"fpd.persetarget_all\": 100.0, \"dr.nama_rek\": \"Pajak Pesanggrahan (Cotege)\"}, {\"fpd.kode_rekening\": \"4.1.1.6.7\", \"fpd.terget_realita\": 871000000.0, \"fpd.totrealisasi_after\": 0.0, \"fpd.persetarget_all\": 0.0, \"dr.nama_rek\": \"Pajak Rumah Penginapan dan Sejenisnya\"}, {\"fpd.kode_rekening\": \"4.1.1.6.7.1\", \"fpd.terget_realita\": 871000000.0, \"fpd.totrealisasi_after\": 0.0, \"fpd.persetarget_all\": 0.0, \"dr.nama_rek\": \"Pajak Rumah Penginapan dan Sejenisnya\"}, {\"fpd.kode_rekening\": \"4.1.1.6.8\", \"fpd.terget_realita\": 0.0, \"fpd.totrealisasi_after\": 112080129.0, \"fpd.persetarget_all\": 100.0, \"dr.nama_rek\": \"Pajak Rumah Kos dengan Jumlah Kamar Lebih dari 10 (Sepuluh)\"}, {\"fpd.kode_rekening\": \"4.1.1.6.8.1\", \"fpd.terget_realita\": 0.0, \"fpd.totrealisasi_after\": 112080129.0, \"fpd.persetarget_all\": 100.0, \"dr.nama_rek\": \"Pajak Rumah Kos dengan Jumlah Kamar Lebih dari 10 (Sepuluh)\"}, {\"fpd.kode_rekening\": \"4.1.1.6.8.1.1\", \"fpd.terget_realita\": 0.0, \"fpd.totrealisasi_after\": 43977750.0, \"fpd.persetarget_all\": 100.0, \"dr.nama_rek\": \"Pajak Hotel  (Kost 11+)\"}, {\"fpd.kode_rekening\": \"4.1.1.6.8.1.2\", \"fpd.terget_realita\": 0.0, \"fpd.totrealisasi_after\": 68102379.0, \"fpd.persetarget_all\": 100.0, \"dr.nama_rek\": \"Pajak Hotel  (Kost 20+)\"}, {\"fpd.kode_rekening\": \"4.1.1.7\", \"fpd.terget_realita\": 105000000000.0, \"fpd.totrealisasi_after\": 82966494950.99, \"fpd.persetarget_all\": 79.01570947713333, \"dr.nama_rek\": \"Pajak Makanan dan/atau Minuman\"}, {\"fpd.kode_rekening\": \"4.1.1.7.1\", \"fpd.terget_realita\": 59072000000.0, \"fpd.totrealisasi_after\": 42706223341.0, \"fpd.persetarget_all\": 72.29520473489978, \"dr.nama_rek\": \"Pajak Restoran\"}, {\"fpd.kode_rekening\": \"4.1.1.7.1.1\", \"fpd.terget_realita\": 59072000000.0, \"fpd.totrealisasi_after\": 42706223341.0, \"fpd.persetarget_all\": 72.29520473489978, \"dr.nama_rek\": \"Pajak Restoran dan Sejenisnya\"}, {\"fpd.kode_rekening\": \"4.1.1.7.2\", \"fpd.terget_realita\": 21522500000.0, \"fpd.totrealisasi_after\": 18257074144.99, \"fpd.persetarget_all\": 84.82785059816472, \"dr.nama_rek\": \"Pajak Rumah Makan dan Sejenisnya\"}, {\"fpd.kode_rekening\": \"4.1.1.7.2.1\", \"fpd.terget_realita\": 21522500000.0, \"fpd.totrealisasi_after\": 18257074144.99, \"fpd.persetarget_all\": 84.82785059816472, \"dr.nama_rek\": \"Pajak Rumah Makan dan Sejenisnya\"}, {\"fpd.kode_rekening\": \"4.1.1.7.3\", \"fpd.terget_realita\": 18189500000.0, \"fpd.totrealisasi_after\": 16317789624.0, \"fpd.persetarget_all\": 89.7099404821463, \"dr.nama_rek\": \"Pajak Kafetaria dan Sejenisnya\"}, {\"fpd.kode_rekening\": \"4.1.1.7.3.1\", \"fpd.terget_realita\": 18189500000.0, \"fpd.totrealisasi_after\": 16317789624.0, \"fpd.persetarget_all\": 89.7099404821463, \"dr.nama_rek\": \"Pajak Kafetaria dan Sejenisnya\"}, {\"fpd.kode_rekening\": \"4.1.1.7.4\", \"fpd.terget_realita\": 73500000.0, \"fpd.totrealisasi_after\": 83316769.0, \"fpd.persetarget_all\": 113.35614829931973, \"dr.nama_rek\": \"Pajak Kantin dan Sejenisnya\"}, {\"fpd.kode_rekening\": \"4.1.1.7.4.1\", \"fpd.terget_realita\": 73500000.0, \"fpd.totrealisasi_after\": 83316769.0, \"fpd.persetarget_all\": 113.35614829931973, \"dr.nama_rek\": \"Pajak Kantin dan Sejenisnya\"}, {\"fpd.kode_rekening\": \"4.1.1.7.5\", \"fpd.terget_realita\": 75500000.0, \"fpd.totrealisasi_after\": 79665400.0, \"fpd.persetarget_all\": 105.51708609271525, \"dr.nama_rek\": \"Pajak Warung dan Sejenisnya\"}, {\"fpd.kode_rekening\": \"4.1.1.7.5.1\", \"fpd.terget_realita\": 75500000.0, \"fpd.totrealisasi_after\": 79665400.0, \"fpd.persetarget_all\": 105.51708609271525, \"dr.nama_rek\": \"Pajak Warung dan Sejenisnya\"}, {\"fpd.kode_rekening\": \"4.1.1.7.6\", \"fpd.terget_realita\": 0.0, \"fpd.totrealisasi_after\": 0.0, \"fpd.persetarget_all\": 0.0, \"dr.nama_rek\": \"Pajak Bar dan Sejenisnya\"}, {\"fpd.kode_rekening\": \"4.1.1.7.6.1\", \"fpd.terget_realita\": 0.0, \"fpd.totrealisasi_after\": 0.0, \"fpd.persetarget_all\": 0.0, \"dr.nama_rek\": \"Pajak Bar dan Sejenisnya\"}, {\"fpd.kode_rekening\": \"4.1.1.7.7\", \"fpd.terget_realita\": 6067000000.0, \"fpd.totrealisasi_after\": 5522425672.0, \"fpd.persetarget_all\": 91.02399327509477, \"dr.nama_rek\": \"Pajak Jasa Boga/Katering dan Sejenisnya\"}, {\"fpd.kode_rekening\": \"4.1.1.7.7.1\", \"fpd.terget_realita\": 6067000000.0, \"fpd.totrealisasi_after\": 5522425672.0, \"fpd.persetarget_all\": 91.02399327509477, \"dr.nama_rek\": \"Pajak Jasa Boga/Katering dan Sejenisnya\"}, {\"fpd.kode_rekening\": \"4.1.1.8\", \"fpd.terget_realita\": 25000000000.0, \"fpd.totrealisasi_after\": 25529720591.72, \"fpd.persetarget_all\": 102.11888236688, \"dr.nama_rek\": \"Pajak Jasa Kesenian dan Hiburan\"}, {\"fpd.kode_rekening\": \"4.1.1.8.1\", \"fpd.terget_realita\": 6475000000.0, \"fpd.totrealisasi_after\": 6345805959.0, \"fpd.persetarget_all\": 98.00472523552124, \"dr.nama_rek\": \"Pajak Tontonan Film\"}, {\"fpd.kode_rekening\": \"4.1.1.8.1.1\", \"fpd.terget_realita\": 6475000000.0, \"fpd.totrealisasi_after\": 6345805959.0, \"fpd.persetarget_all\": 98.00472523552124, \"dr.nama_rek\": \"Pajak Tontonan Film\"}, {\"fpd.kode_rekening\": \"4.1.1.8.2\", \"fpd.terget_realita\": 945000000.0, \"fpd.totrealisasi_after\": 764729650.0, \"fpd.persetarget_all\": 80.92377248677248, \"dr.nama_rek\": \"Pajak Pagelaran Kesenian/Musik/Tari/Busana\"}, {\"fpd.kode_rekening\": \"4.1.1.8.2.1\", \"fpd.terget_realita\": 945000000.0, \"fpd.totrealisasi_after\": 764729650.0, \"fpd.persetarget_all\": 80.92377248677248, \"dr.nama_rek\": \"Pajak Pagelaran Kesenian/Musik/Tari/Busana\"}, {\"fpd.kode_rekening\": \"4.1.1.8.3\", \"fpd.terget_realita\": 0.0, \"fpd.totrealisasi_after\": 0.0, \"fpd.persetarget_all\": 0.0, \"dr.nama_rek\": \"Pajak Kontes Kecantikan, Binaraga dan Sejenisnya\"}, {\"fpd.kode_rekening\": \"4.1.1.8.3.1\", \"fpd.terget_realita\": 0.0, \"fpd.totrealisasi_after\": 0.0, \"fpd.persetarget_all\": 0.0, \"dr.nama_rek\": \"Pajak Kontes Kecantikan, Binaraga dan Sejenisnya\"}, {\"fpd.kode_rekening\": \"4.1.1.8.4\", \"fpd.terget_realita\": 0.0, \"fpd.totrealisasi_after\": 0.0, \"fpd.persetarget_all\": 0.0, \"dr.nama_rek\": \"Pajak Pameran\"}, {\"fpd.kode_rekening\": \"4.1.1.8.4.1\", \"fpd.terget_realita\": 0.0, \"fpd.totrealisasi_after\": 0.0, \"fpd.persetarget_all\": 0.0, \"dr.nama_rek\": \"Pajak Pameran\"}, {\"fpd.kode_rekening\": \"4.1.1.8.5\", \"fpd.terget_realita\": 10068000000.0, \"fpd.totrealisasi_after\": 10510975143.67, \"fpd.persetarget_all\": 104.39983257518873, \"dr.nama_rek\": \"Pajak Diskotik, Karoke, Klub Malam dan Sejenisnya\"}, {\"fpd.kode_rekening\": \"4.1.1.8.5.1\", \"fpd.terget_realita\": 10068000000.0, \"fpd.totrealisasi_after\": 10510975143.67, \"fpd.persetarget_all\": 104.39983257518873, \"dr.nama_rek\": \"Pajak Diskotik, Karoke, Klub Malam dan Sejenisnya\"}, {\"fpd.kode_rekening\": \"4.1.1.8.5.1.1\", \"fpd.terget_realita\": 3468000000.0, \"fpd.totrealisasi_after\": 3765385867.67, \"fpd.persetarget_all\": 108.57514035957325, \"dr.nama_rek\": \"Karaoke\"}, {\"fpd.kode_rekening\": \"4.1.1.8.5.1.2\", \"fpd.terget_realita\": 6600000000.0, \"fpd.totrealisasi_after\": 6745589276.0, \"fpd.persetarget_all\": 102.20589812121213, \"dr.nama_rek\": \"Klub Malam\"}, {\"fpd.kode_rekening\": \"4.1.1.8.6\", \"fpd.terget_realita\": 52500000.0, \"fpd.totrealisasi_after\": 1496250.0, \"fpd.persetarget_all\": 2.85, \"dr.nama_rek\": \"Pajak Sirkus/Akrobat/Sulap\"}, {\"fpd.kode_rekening\": \"4.1.1.8.6.1\", \"fpd.terget_realita\": 52500000.0, \"fpd.totrealisasi_after\": 1496250.0, \"fpd.persetarget_all\": 2.85, \"dr.nama_rek\": \"Pajak Sirkus/Akrobat/Sulap\"}, {\"fpd.kode_rekening\": \"4.1.1.8.7\", \"fpd.terget_realita\": 287500000.0, \"fpd.totrealisasi_after\": 394514388.0, \"fpd.persetarget_all\": 137.22239582608694, \"dr.nama_rek\": \"Pajak Permainan Biliar dan Bowling\"}, {\"fpd.kode_rekening\": \"4.1.1.8.7.1\", \"fpd.terget_realita\": 287500000.0, \"fpd.totrealisasi_after\": 394514388.0, \"fpd.persetarget_all\": 137.22239582608694, \"dr.nama_rek\": \"Pajak Permainan Biliar dan Bowling\"}, {\"fpd.kode_rekening\": \"4.1.1.8.8\", \"fpd.terget_realita\": 6336500000.0, \"fpd.totrealisasi_after\": 6507345780.05, \"fpd.persetarget_all\": 102.69621683973801, \"dr.nama_rek\": \"Pajak Pacuan Kuda, Kendaraan Bermotor dan Permainan Ketangkasan\"}, {\"fpd.kode_rekening\": \"4.1.1.8.8.1\", \"fpd.terget_realita\": 6336500000.0, \"fpd.totrealisasi_after\": 6507345780.05, \"fpd.persetarget_all\": 102.69621683973801, \"dr.nama_rek\": \"Pajak Pacuan Kuda, Kendaraan Bermotor dan Permainan Ketangkasan\"}, {\"fpd.kode_rekening\": \"4.1.1.8.8.1.1\", \"fpd.terget_realita\": 14000000.0, \"fpd.totrealisasi_after\": 8585000.0, \"fpd.persetarget_all\": 61.32142857142857, \"dr.nama_rek\": \"Balap Kendaraan Bermotor\"}, {\"fpd.kode_rekening\": \"4.1.1.8.8.1.2\", \"fpd.terget_realita\": 6322500000.0, \"fpd.totrealisasi_after\": 6498760780.05, \"fpd.persetarget_all\": 102.78783361091341, \"dr.nama_rek\": \"Permainan Ketangkasan\"}, {\"fpd.kode_rekening\": \"4.1.1.8.9\", \"fpd.terget_realita\": 580500000.0, \"fpd.totrealisasi_after\": 948277808.0, \"fpd.persetarget_all\": 163.3553502153316, \"dr.nama_rek\": \"Pajak Panti Pijat, Refleksi, Mandi Uap/Spa dan Pusat Kebugaran (Fitness Center)\"}, {\"fpd.kode_rekening\": \"4.1.1.8.9.1\", \"fpd.terget_realita\": 580500000.0, \"fpd.totrealisasi_after\": 948277808.0, \"fpd.persetarget_all\": 163.3553502153316, \"dr.nama_rek\": \"Pajak Panti Pijat, Refleksi, Mandi Uap/Spa dan Pusat Kebugaran (Fitness Center)\"}, {\"fpd.kode_rekening\": \"4.1.1.8.9.1.1\", \"fpd.terget_realita\": 346500000.0, \"fpd.totrealisasi_after\": 168112140.0, \"fpd.persetarget_all\": 48.517212121212125, \"dr.nama_rek\": \"Panti Pijat/Refleksi\"}, {\"fpd.kode_rekening\": \"4.1.1.8.9.1.2\", \"fpd.terget_realita\": 121500000.0, \"fpd.totrealisasi_after\": 594175845.0, \"fpd.persetarget_all\": 489.0336172839506, \"dr.nama_rek\": \"Mandi Uap/Spa\"}, {\"fpd.kode_rekening\": \"4.1.1.8.9.1.3\", \"fpd.terget_realita\": 0.0, \"fpd.totrealisasi_after\": 0.0, \"fpd.persetarget_all\": 0.0, \"dr.nama_rek\": \"Spa Dalam Salon Kecantikan\"}, {\"fpd.kode_rekening\": \"4.1.1.8.9.1.4\", \"fpd.terget_realita\": 112500000.0, \"fpd.totrealisasi_after\": 185989823.0, \"fpd.persetarget_all\": 165.32428711111112, \"dr.nama_rek\": \"Pusat Kebugaran/Fitness Center\"}, {\"fpd.kode_rekening\": \"4.1.1.8.10\", \"fpd.terget_realita\": 255000000.0, \"fpd.totrealisasi_after\": 17854113.0, \"fpd.persetarget_all\": 7.00161294117647, \"dr.nama_rek\": \"Pajak Pertandingan Olahraga\"}, {\"fpd.kode_rekening\": \"4.1.1.8.10.1\", \"fpd.terget_realita\": 255000000.0, \"fpd.totrealisasi_after\": 17854113.0, \"fpd.persetarget_all\": 7.00161294117647, \"dr.nama_rek\": \"Pajak Pertandingan Olahraga\"}, {\"fpd.kode_rekening\": \"4.1.1.8.11\", \"fpd.terget_realita\": 0.0, \"fpd.totrealisasi_after\": 15674000.0, \"fpd.persetarget_all\": 100.0, \"dr.nama_rek\": \"Pajak Rekreasi Wahana Air\"}, {\"fpd.kode_rekening\": \"4.1.1.8.11.1\", \"fpd.terget_realita\": 0.0, \"fpd.totrealisasi_after\": 15674000.0, \"fpd.persetarget_all\": 100.0, \"dr.nama_rek\": \"Pajak Rekreasi Wahana Air\"}, {\"fpd.kode_rekening\": \"4.1.1.8.12\", \"fpd.terget_realita\": 0.0, \"fpd.totrealisasi_after\": 735000.0, \"fpd.persetarget_all\": 100.0, \"dr.nama_rek\": \"Pajak Rekreasi Wahana Ekologi\"}, {\"fpd.kode_rekening\": \"4.1.1.8.12.1\", \"fpd.terget_realita\": 0.0, \"fpd.totrealisasi_after\": 735000.0, \"fpd.persetarget_all\": 100.0, \"dr.nama_rek\": \"Pajak Rekreasi Wahana Ekologi\"}, {\"fpd.kode_rekening\": \"4.1.1.8.13\", \"fpd.terget_realita\": 0.0, \"fpd.totrealisasi_after\": 0.0, \"fpd.persetarget_all\": 0.0, \"dr.nama_rek\": \"Pajak Rekreasi Wahana Pendidikan\"}, {\"fpd.kode_rekening\": \"4.1.1.8.13.1\", \"fpd.terget_realita\": 0.0, \"fpd.totrealisasi_after\": 0.0, \"fpd.persetarget_all\": 0.0, \"dr.nama_rek\": \"Pajak Rekreasi Wahana Pendidikan\"}, {\"fpd.kode_rekening\": \"4.1.1.8.14\", \"fpd.terget_realita\": 0.0, \"fpd.totrealisasi_after\": 0.0, \"fpd.persetarget_all\": 0.0, \"dr.nama_rek\": \"Pajak Rekreasi Wahana Budaya\"}, {\"fpd.kode_rekening\": \"4.1.1.8.14.1\", \"fpd.terget_realita\": 0.0, \"fpd.totrealisasi_after\": 0.0, \"fpd.persetarget_all\": 0.0, \"dr.nama_rek\": \"Pajak Rekreasi Wahana Budaya\"}, {\"fpd.kode_rekening\": \"4.1.1.8.15\", \"fpd.terget_realita\": 0.0, \"fpd.totrealisasi_after\": 22312500.0, \"fpd.persetarget_all\": 100.0, \"dr.nama_rek\": \"Pajak Rekreasi Wahana Salju\"}, {\"fpd.kode_rekening\": \"4.1.1.8.15.1\", \"fpd.terget_realita\": 0.0, \"fpd.totrealisasi_after\": 22312500.0, \"fpd.persetarget_all\": 100.0, \"dr.nama_rek\": \"Pajak Rekreasi Wahana Salju\"}, {\"fpd.kode_rekening\": \"4.1.1.8.16\", \"fpd.terget_realita\": 0.0, \"fpd.totrealisasi_after\": 0.0, \"fpd.persetarget_all\": 0.0, \"dr.nama_rek\": \"Pajak Rekreasi Wahana Permainan\"}, {\"fpd.kode_rekening\": \"4.1.1.8.16.1\", \"fpd.terget_realita\": 0.0, \"fpd.totrealisasi_after\": 0.0, \"fpd.persetarget_all\": 0.0, \"dr.nama_rek\": \"Pajak Rekreasi Wahana Permainan\"}, {\"fpd.kode_rekening\": \"4.1.1.8.17\", \"fpd.terget_realita\": 0.0, \"fpd.totrealisasi_after\": 0.0, \"fpd.persetarget_all\": 0.0, \"dr.nama_rek\": \"Pajak Pemancingan\"}, {\"fpd.kode_rekening\": \"4.1.1.8.17.1\", \"fpd.terget_realita\": 0.0, \"fpd.totrealisasi_after\": 0.0, \"fpd.persetarget_all\": 0.0, \"dr.nama_rek\": \"Pajak Pemancingan\"}, {\"fpd.kode_rekening\": \"4.1.1.8.18\", \"fpd.terget_realita\": 0.0, \"fpd.totrealisasi_after\": 0.0, \"fpd.persetarget_all\": 0.0, \"dr.nama_rek\": \"Pajak Argowisata\"}, {\"fpd.kode_rekening\": \"4.1.1.8.18.1\", \"fpd.terget_realita\": 0.0, \"fpd.totrealisasi_after\": 0.0, \"fpd.persetarget_all\": 0.0, \"dr.nama_rek\": \"Pajak Argowisata\"}, {\"fpd.kode_rekening\": \"4.1.1.8.19\", \"fpd.terget_realita\": 0.0, \"fpd.totrealisasi_after\": 0.0, \"fpd.persetarget_all\": 0.0, \"dr.nama_rek\": \"Pajak Kebun Binatang\"}, {\"fpd.kode_rekening\": \"4.1.1.8.19.1\", \"fpd.terget_realita\": 0.0, \"fpd.totrealisasi_after\": 0.0, \"fpd.persetarget_all\": 0.0, \"dr.nama_rek\": \"Pajak Kebun Binatang\"}, {\"fpd.kode_rekening\": \"4.1.1.8.20\", \"fpd.terget_realita\": 0.0, \"fpd.totrealisasi_after\": 0.0, \"fpd.persetarget_all\": 0.0, \"dr.nama_rek\": \"Pajak Tempat Olah Raga Dan Kebugaran\"}, {\"fpd.kode_rekening\": \"4.1.1.8.20.1\", \"fpd.terget_realita\": 0.0, \"fpd.totrealisasi_after\": 0.0, \"fpd.persetarget_all\": 0.0, \"dr.nama_rek\": \"Pajak Tempat Olah Raga Dan Kebugaran\"}, {\"fpd.kode_rekening\": \"4.1.1.9\", \"fpd.terget_realita\": 10000000000.0, \"fpd.totrealisasi_after\": 4773577403.0, \"fpd.persetarget_all\": 47.73577403, \"dr.nama_rek\": \"Pajak Reklame\"}, {\"fpd.kode_rekening\": \"4.1.1.9.1\", \"fpd.terget_realita\": 9450000000.0, \"fpd.totrealisasi_after\": 4240176386.0, \"fpd.persetarget_all\": 44.869591386243386, \"dr.nama_rek\": \"Pajak Reklame Papan/Billboard/Videotron/Megatron\"}, {\"fpd.kode_rekening\": \"4.1.1.9.1.1\", \"fpd.terget_realita\": 9450000000.0, \"fpd.totrealisasi_after\": 4240176386.0, \"fpd.persetarget_all\": 44.869591386243386, \"dr.nama_rek\": \"Pajak Reklame Papan/Billboard/Videotron/ Megatron\"}, {\"fpd.kode_rekening\": \"4.1.1.9.2\", \"fpd.terget_realita\": 300000000.0, \"fpd.totrealisasi_after\": 427063517.0, \"fpd.persetarget_all\": 142.35450566666668, \"dr.nama_rek\": \"Pajak Reklame Kain\"}, {\"fpd.kode_rekening\": \"4.1.1.9.2.1\", \"fpd.terget_realita\": 300000000.0, \"fpd.totrealisasi_after\": 427063517.0, \"fpd.persetarget_all\": 142.35450566666668, \"dr.nama_rek\": \"Pajak Reklame Kain\"}, {\"fpd.kode_rekening\": \"4.1.1.9.3\", \"fpd.terget_realita\": 0.0, \"fpd.totrealisasi_after\": 0.0, \"fpd.persetarget_all\": 0.0, \"dr.nama_rek\": \"Pajak Reklame Melekat/Stiker\"}, {\"fpd.kode_rekening\": \"4.1.1.9.3.1\", \"fpd.terget_realita\": 0.0, \"fpd.totrealisasi_after\": 0.0, \"fpd.persetarget_all\": 0.0, \"dr.nama_rek\": \"Pajak Reklame Melekat/Stiker\"}, {\"fpd.kode_rekening\": \"4.1.1.9.4\", \"fpd.terget_realita\": 0.0, \"fpd.totrealisasi_after\": 0.0, \"fpd.persetarget_all\": 0.0, \"dr.nama_rek\": \"Pajak Reklame Selebaran\"}, {\"fpd.kode_rekening\": \"4.1.1.9.4.1\", \"fpd.terget_realita\": 0.0, \"fpd.totrealisasi_after\": 0.0, \"fpd.persetarget_all\": 0.0, \"dr.nama_rek\": \"Pajak Reklame Selebaran\"}, {\"fpd.kode_rekening\": \"4.1.1.9.5\", \"fpd.terget_realita\": 150000000.0, \"fpd.totrealisasi_after\": 64037500.0, \"fpd.persetarget_all\": 42.69166666666667, \"dr.nama_rek\": \"Pajak Reklame Berjalan\"}, {\"fpd.kode_rekening\": \"4.1.1.9.5.1\", \"fpd.terget_realita\": 150000000.0, \"fpd.totrealisasi_after\": 64037500.0, \"fpd.persetarget_all\": 42.69166666666667, \"dr.nama_rek\": \"Pajak Reklame Berjalan\"}, {\"fpd.kode_rekening\": \"4.1.1.9.6\", \"fpd.terget_realita\": 0.0, \"fpd.totrealisasi_after\": 0.0, \"fpd.persetarget_all\": 0.0, \"dr.nama_rek\": \"Pajak Reklame Udara\"}, {\"fpd.kode_rekening\": \"4.1.1.9.6.1\", \"fpd.terget_realita\": 0.0, \"fpd.totrealisasi_after\": 0.0, \"fpd.persetarget_all\": 0.0, \"dr.nama_rek\": \"Pajak Reklame Udara\"}, {\"fpd.kode_rekening\": \"4.1.1.9.7\", \"fpd.terget_realita\": 0.0, \"fpd.totrealisasi_after\": 0.0, \"fpd.persetarget_all\": 0.0, \"dr.nama_rek\": \"Pajak Reklame Apung\"}, {\"fpd.kode_rekening\": \"4.1.1.9.7.1\", \"fpd.terget_realita\": 0.0, \"fpd.totrealisasi_after\": 0.0, \"fpd.persetarget_all\": 0.0, \"dr.nama_rek\": \"Pajak Reklame Apung\"}, {\"fpd.kode_rekening\": \"4.1.1.9.8\", \"fpd.terget_realita\": 0.0, \"fpd.totrealisasi_after\": 0.0, \"fpd.persetarget_all\": 0.0, \"dr.nama_rek\": \"Pajak Reklame Suara\"}, {\"fpd.kode_rekening\": \"4.1.1.9.8.1\", \"fpd.terget_realita\": 0.0, \"fpd.totrealisasi_after\": 0.0, \"fpd.persetarget_all\": 0.0, \"dr.nama_rek\": \"Pajak Reklame Suara\"}, {\"fpd.kode_rekening\": \"4.1.1.9.9\", \"fpd.terget_realita\": 100000000.0, \"fpd.totrealisasi_after\": 42300000.0, \"fpd.persetarget_all\": 42.3, \"dr.nama_rek\": \"Pajak Reklame Film/Slide\"}, {\"fpd.kode_rekening\": \"4.1.1.9.9.1\", \"fpd.terget_realita\": 100000000.0, \"fpd.totrealisasi_after\": 42300000.0, \"fpd.persetarget_all\": 42.3, \"dr.nama_rek\": \"Pajak Reklame Film/Slide\"}, {\"fpd.kode_rekening\": \"4.1.1.9.10\", \"fpd.terget_realita\": 0.0, \"fpd.totrealisasi_after\": 0.0, \"fpd.persetarget_all\": 0.0, \"dr.nama_rek\": \"Pajak Reklame Peragaan\"}, {\"fpd.kode_rekening\": \"4.1.1.9.10.1\", \"fpd.terget_realita\": 0.0, \"fpd.totrealisasi_after\": 0.0, \"fpd.persetarget_all\": 0.0, \"dr.nama_rek\": \"Pajak Reklame Peragaan\"}, {\"fpd.kode_rekening\": \"4.1.1.10\", \"fpd.terget_realita\": 120000000000.0, \"fpd.totrealisasi_after\": 85974277820.0, \"fpd.persetarget_all\": 71.64523151666667, \"dr.nama_rek\": \"Pajak Tenaga Listrik\"}, {\"fpd.kode_rekening\": \"4.1.1.10.1\", \"fpd.terget_realita\": 119600000000.0, \"fpd.totrealisasi_after\": 85958036308.0, \"fpd.persetarget_all\": 71.8712678160535, \"dr.nama_rek\": \"Pajak Tenaga Listrik Dihasilkan Sendiri\"}, {\"fpd.kode_rekening\": \"4.1.1.10.1.1\", \"fpd.terget_realita\": 119600000000.0, \"fpd.totrealisasi_after\": 85958036308.0, \"fpd.persetarget_all\": 71.8712678160535, \"dr.nama_rek\": \"Pajak Tenaga Listrik Dihasilkan Sendiri\"}, {\"fpd.kode_rekening\": \"4.1.1.10.2\", \"fpd.terget_realita\": 400000000.0, \"fpd.totrealisasi_after\": 16241512.0, \"fpd.persetarget_all\": 4.060378, \"dr.nama_rek\": \"Pajak Tenaga Listrik Sumber Lain\"}, {\"fpd.kode_rekening\": \"4.1.1.10.2.1\", \"fpd.terget_realita\": 400000000.0, \"fpd.totrealisasi_after\": 16241512.0, \"fpd.persetarget_all\": 4.060378, \"dr.nama_rek\": \"Pajak Tenaga Listrik Sumber Lain\"}, {\"fpd.kode_rekening\": \"4.1.1.10.2.1.1\", \"fpd.terget_realita\": 200000000.0, \"fpd.totrealisasi_after\": 16241512.0, \"fpd.persetarget_all\": 8.120756, \"dr.nama_rek\": \"01. Genset\"}, {\"fpd.kode_rekening\": \"4.1.1.10.2.1.2\", \"fpd.terget_realita\": 200000000.0, \"fpd.totrealisasi_after\": 0.0, \"fpd.persetarget_all\": 0.0, \"dr.nama_rek\": \"02. Industri\"}, {\"fpd.kode_rekening\": \"4.1.1.11\", \"fpd.terget_realita\": 4500000000.0, \"fpd.totrealisasi_after\": 4658001083.0, \"fpd.persetarget_all\": 103.51113517777777, \"dr.nama_rek\": \"Pajak Parkir\"}, {\"fpd.kode_rekening\": \"4.1.1.11.1\", \"fpd.terget_realita\": 4500000000.0, \"fpd.totrealisasi_after\": 4658001083.0, \"fpd.persetarget_all\": 103.51113517777777, \"dr.nama_rek\": \"Pajak Parkir\"}, {\"fpd.kode_rekening\": \"4.1.1.11.1.1\", \"fpd.terget_realita\": 4500000000.0, \"fpd.totrealisasi_after\": 4658001083.0, \"fpd.persetarget_all\": 103.51113517777777, \"dr.nama_rek\": \"Pajak Parkir\"}, {\"fpd.kode_rekening\": \"4.1.1.11.1.1.1\", \"fpd.terget_realita\": 2850000000.0, \"fpd.totrealisasi_after\": 3336146933.0, \"fpd.persetarget_all\": 117.05778712280701, \"dr.nama_rek\": \"01. Pusat Perbelanjaan/ Mall\"}, {\"fpd.kode_rekening\": \"4.1.1.11.1.1.2\", \"fpd.terget_realita\": 1175000000.0, \"fpd.totrealisasi_after\": 1202539306.0, \"fpd.persetarget_all\": 102.34377072340426, \"dr.nama_rek\": \"02. Lain - lain\"}, {\"fpd.kode_rekening\": \"4.1.1.11.1.1.3\", \"fpd.terget_realita\": 475000000.0, \"fpd.totrealisasi_after\": 119314844.0, \"fpd.persetarget_all\": 25.118914526315788, \"dr.nama_rek\": \"03. Cuma-Cuma\"}, {\"fpd.kode_rekening\": \"4.1.1.12\", \"fpd.terget_realita\": 280000000.0, \"fpd.totrealisasi_after\": 154532690.0, \"fpd.persetarget_all\": 55.190246428571434, \"dr.nama_rek\": \"Pajak Air Tanah\"}, {\"fpd.kode_rekening\": \"4.1.1.12.1\", \"fpd.terget_realita\": 280000000.0, \"fpd.totrealisasi_after\": 154532690.0, \"fpd.persetarget_all\": 55.190246428571434, \"dr.nama_rek\": \"Pajak Air Tanah\"}, {\"fpd.kode_rekening\": \"4.1.1.12.1.1\", \"fpd.terget_realita\": 280000000.0, \"fpd.totrealisasi_after\": 154532690.0, \"fpd.persetarget_all\": 55.190246428571434, \"dr.nama_rek\": \"Pajak Air Tanah\"}, {\"fpd.kode_rekening\": \"4.1.1.13\", \"fpd.terget_realita\": 50000000.0, \"fpd.totrealisasi_after\": 0.0, \"fpd.persetarget_all\": 0.0, \"dr.nama_rek\": \"Pajak Sarang Burung Walet\"}, {\"fpd.kode_rekening\": \"4.1.1.13.1\", \"fpd.terget_realita\": 50000000.0, \"fpd.totrealisasi_after\": 0.0, \"fpd.persetarget_all\": 0.0, \"dr.nama_rek\": \"Pajak Sarang Burung Walet\"}, {\"fpd.kode_rekening\": \"4.1.1.13.1.1\", \"fpd.terget_realita\": 50000000.0, \"fpd.totrealisasi_after\": 0.0, \"fpd.persetarget_all\": 0.0, \"dr.nama_rek\": \"Pajak Sarang Burung Walet\"}, {\"fpd.kode_rekening\": \"4.1.1.14\", \"fpd.terget_realita\": 30000000.0, \"fpd.totrealisasi_after\": 9302902.0, \"fpd.persetarget_all\": 31.009673333333332, \"dr.nama_rek\": \"Pajak Mineral Bukan Logam dan Batuan\"}, {\"fpd.kode_rekening\": \"4.1.1.14.37\", \"fpd.terget_realita\": 30000000.0, \"fpd.totrealisasi_after\": 9302902.0, \"fpd.persetarget_all\": 31.009673333333332, \"dr.nama_rek\": \"Pajak Mineral bukan Logam dan Batuan Lainnya\"}, {\"fpd.kode_rekening\": \"4.1.1.14.37.1\", \"fpd.terget_realita\": 30000000.0, \"fpd.totrealisasi_after\": 9302902.0, \"fpd.persetarget_all\": 31.009673333333332, \"dr.nama_rek\": \"Pajak Mineral bukan Logam dan Batuan Lainnya\"}, {\"fpd.kode_rekening\": \"4.1.1.15\", \"fpd.terget_realita\": 110000000000.0, \"fpd.totrealisasi_after\": 45768920328.22, \"fpd.persetarget_all\": 41.60810938929091, \"dr.nama_rek\": \"Pajak Bumi dan Bangunan Perdesaan dan Perkotaan (PBBP2)\"}, {\"fpd.kode_rekening\": \"4.1.1.15.1\", \"fpd.terget_realita\": 110000000000.0, \"fpd.totrealisasi_after\": 45768920328.22, \"fpd.persetarget_all\": 41.60810938929091, \"dr.nama_rek\": \"PBB P2\"}, {\"fpd.kode_rekening\": \"4.1.1.15.1.1\", \"fpd.terget_realita\": 110000000000.0, \"fpd.totrealisasi_after\": 45768920328.22, \"fpd.persetarget_all\": 41.60810938929091, \"dr.nama_rek\": \"PBB P2\"}, {\"fpd.kode_rekening\": \"4.1.1.16\", \"fpd.terget_realita\": 130000000000.0, \"fpd.totrealisasi_after\": 78022721414.0, \"fpd.persetarget_all\": 60.01747801076923, \"dr.nama_rek\": \"Bea Perolehan Hak Atas Tanah dan Bangunan (BPHTB)\"}, {\"fpd.kode_rekening\": \"4.1.1.16.1\", \"fpd.terget_realita\": 0.0, \"fpd.totrealisasi_after\": 0.0, \"fpd.persetarget_all\": 0.0, \"dr.nama_rek\": \"BPHTB - Pemindahan Hak\"}, {\"fpd.kode_rekening\": \"4.1.1.16.1.1\", \"fpd.terget_realita\": 0.0, \"fpd.totrealisasi_after\": 0.0, \"fpd.persetarget_all\": 0.0, \"dr.nama_rek\": \"BPHTB - Pemindahan Hak\"}, {\"fpd.kode_rekening\": \"4.1.1.16.2\", \"fpd.terget_realita\": 130000000000.0, \"fpd.totrealisasi_after\": 78022721414.0, \"fpd.persetarget_all\": 60.01747801076923, \"dr.nama_rek\": \"BPHTB-Pemberian Hak Baru\"}, {\"fpd.kode_rekening\": \"4.1.1.16.2.1\", \"fpd.terget_realita\": 130000000000.0, \"fpd.totrealisasi_after\": 78022721414.0, \"fpd.persetarget_all\": 60.01747801076923, \"dr.nama_rek\": \"BPHTB-Pemberian Hak Baru\"}, {\"fpd.kode_rekening\": \"4.1.2\", \"fpd.terget_realita\": 150557778000.0, \"fpd.totrealisasi_after\": 105813856641.03, \"fpd.persetarget_all\": 70.28122893858728, \"dr.nama_rek\": \"Hasil Retribusi Daerah\"}, {\"fpd.kode_rekening\": \"4.1.2.1\", \"fpd.terget_realita\": 138072700000.0, \"fpd.totrealisasi_after\": 97703865210.03, \"fpd.persetarget_all\": 70.76262375547809, \"dr.nama_rek\": \"Retribusi Jasa Umum\"}, {\"fpd.kode_rekening\": \"4.1.2.1.1\", \"fpd.terget_realita\": 100192500000.0, \"fpd.totrealisasi_after\": 76221112224.65, \"fpd.persetarget_all\": 76.07466848781095, \"dr.nama_rek\": \"Retribusi Pelayanan Kesehatan\"}, {\"fpd.kode_rekening\": \"4.1.2.1.1.1\", \"fpd.terget_realita\": 192500000.0, \"fpd.totrealisasi_after\": 242407400.0, \"fpd.persetarget_all\": 125.92592207792208, \"dr.nama_rek\": \"Retribusi Pelayanan Kesehatan di Puskesmas\"}, {\"fpd.kode_rekening\": \"4.1.2.1.1.7\", \"fpd.terget_realita\": 100000000000.0, \"fpd.totrealisasi_after\": 75978704824.65, \"fpd.persetarget_all\": 75.97870482465, \"dr.nama_rek\": \"Pendapatan BLUD\"}, {\"fpd.kode_rekening\": \"4.1.2.1.1.7.1\", \"fpd.terget_realita\": 70000000000.0, \"fpd.totrealisasi_after\": 45665040697.09, \"fpd.persetarget_all\": 65.23577242441428, \"dr.nama_rek\": \"01. RSUD IA. Moies\"}, {\"fpd.kode_rekening\": \"4.1.2.1.1.7.2\", \"fpd.terget_realita\": 30000000000.0, \"fpd.totrealisasi_after\": 30313664127.56, \"fpd.persetarget_all\": 101.04554709186667, \"dr.nama_rek\": \"02. PUSKESMAS\"}, {\"fpd.kode_rekening\": \"4.1.2.1.2\", \"fpd.terget_realita\": 25000000000.0, \"fpd.totrealisasi_after\": 17690700769.38, \"fpd.persetarget_all\": 70.76280307752, \"dr.nama_rek\": \"Retribusi Pelayanan Persampahan/ Kebersihan\"}, {\"fpd.kode_rekening\": \"4.1.2.1.2.1\", \"fpd.terget_realita\": 25000000000.0, \"fpd.totrealisasi_after\": 17690700769.38, \"fpd.persetarget_all\": 70.76280307752, \"dr.nama_rek\": \"Retribusi Pelayanan Persampahan/ Kebersihan\"}, {\"fpd.kode_rekening\": \"4.1.2.1.3\", \"fpd.terget_realita\": 0.0, \"fpd.totrealisasi_after\": 0.0, \"fpd.persetarget_all\": 0.0, \"dr.nama_rek\": \"Retribusi Pelayanan Pemakaman dan Pengabuan Mayat\"}, {\"fpd.kode_rekening\": \"4.1.2.1.3.1\", \"fpd.terget_realita\": 0.0, \"fpd.totrealisasi_after\": 0.0, \"fpd.persetarget_all\": 0.0, \"dr.nama_rek\": \"Retribusi Pelayanan Penguburan/Pemakaman termasuk Penggalian dan Pengurukan serta Pembakaran/Pengabuan Mayat\"}, {\"fpd.kode_rekening\": \"4.1.2.1.3.2\", \"fpd.terget_realita\": 0.0, \"fpd.totrealisasi_after\": 0.0, \"fpd.persetarget_all\": 0.0, \"dr.nama_rek\": \"Retribusi Sewa Tempat Pemakaman atau Pembakaran/Pengabuan Mayat\"}, {\"fpd.kode_rekening\": \"4.1.2.1.4\", \"fpd.terget_realita\": 5380000000.0, \"fpd.totrealisasi_after\": 1320439616.0, \"fpd.persetarget_all\": 24.54348728624535, \"dr.nama_rek\": \"Retribusi Pelayanan Parkir di Tepi Jalan Umum\"}, {\"fpd.kode_rekening\": \"4.1.2.1.4.1\", \"fpd.terget_realita\": 5380000000.0, \"fpd.totrealisasi_after\": 1320439616.0, \"fpd.persetarget_all\": 24.54348728624535, \"dr.nama_rek\": \"Retribusi Penyediaan Pelayanan Parkir di Tepi Jalan Umum\"}, {\"fpd.kode_rekening\": \"4.1.2.1.5\", \"fpd.terget_realita\": 7400000000.0, \"fpd.totrealisasi_after\": 2358422000.0, \"fpd.persetarget_all\": 31.870567567567566, \"dr.nama_rek\": \"Retribusi Pelayanan Pasar\"}, {\"fpd.kode_rekening\": \"4.1.2.1.5.1\", \"fpd.terget_realita\": 7400000000.0, \"fpd.totrealisasi_after\": 2358422000.0, \"fpd.persetarget_all\": 31.870567567567566, \"dr.nama_rek\": \"Retribusi Pelayanan Pasar\"}, {\"fpd.kode_rekening\": \"4.1.2.1.6\", \"fpd.terget_realita\": 0.0, \"fpd.totrealisasi_after\": 0.0, \"fpd.persetarget_all\": 0.0, \"dr.nama_rek\": \"Retribusi Pengujian Kendaraan Bermotor\"}, {\"fpd.kode_rekening\": \"4.1.2.1.6.1\", \"fpd.terget_realita\": 0.0, \"fpd.totrealisasi_after\": 0.0, \"fpd.persetarget_all\": 0.0, \"dr.nama_rek\": \"Retribusi Pengujian Kendaraan Bermotor\"}, {\"fpd.kode_rekening\": \"4.1.2.1.6.1.1\", \"fpd.terget_realita\": 0.0, \"fpd.totrealisasi_after\": 0.0, \"fpd.persetarget_all\": 0.0, \"dr.nama_rek\": \"Retribusi Pengujian Kendaraan Bermotor Diatas Air\"}, {\"fpd.kode_rekening\": \"4.1.2.1.7\", \"fpd.terget_realita\": 0.0, \"fpd.totrealisasi_after\": 3470000.0, \"fpd.persetarget_all\": 100.0, \"dr.nama_rek\": \"Retribusi Pemeriksaan Alat Pemadam Kebakaran\"}, {\"fpd.kode_rekening\": \"4.1.2.1.7.1\", \"fpd.terget_realita\": 0.0, \"fpd.totrealisasi_after\": 3470000.0, \"fpd.persetarget_all\": 100.0, \"dr.nama_rek\": \"Retribusi Pelayanan Pemeriksaan dan/atau Pengujian Alat Pemadam Kebakaran\"}, {\"fpd.kode_rekening\": \"4.1.2.1.7.2\", \"fpd.terget_realita\": 0.0, \"fpd.totrealisasi_after\": 0.0, \"fpd.persetarget_all\": 0.0, \"dr.nama_rek\": \"Retribusi Pelayanan Pemeriksaan dan/atau Pengujian Alat Penanggulangan Kebakaran\"}, {\"fpd.kode_rekening\": \"4.1.2.1.7.3\", \"fpd.terget_realita\": 0.0, \"fpd.totrealisasi_after\": 0.0, \"fpd.persetarget_all\": 0.0, \"dr.nama_rek\": \"Retribusi Pelayanan Pemeriksaan dan/atau Pengujian Alat Penyelamatan Jiwa\"}, {\"fpd.kode_rekening\": \"4.1.2.1.8\", \"fpd.terget_realita\": 0.0, \"fpd.totrealisasi_after\": 0.0, \"fpd.persetarget_all\": 0.0, \"dr.nama_rek\": \"Retribusi Penggantian Biaya Cetak Peta\"}, {\"fpd.kode_rekening\": \"4.1.2.1.8.1\", \"fpd.terget_realita\": 0.0, \"fpd.totrealisasi_after\": 0.0, \"fpd.persetarget_all\": 0.0, \"dr.nama_rek\": \"Retribusi Penyediaan Peta Dasar (Garis)\"}, {\"fpd.kode_rekening\": \"4.1.2.1.8.2\", \"fpd.terget_realita\": 0.0, \"fpd.totrealisasi_after\": 0.0, \"fpd.persetarget_all\": 0.0, \"dr.nama_rek\": \"Retribusi Penyediaan Peta Foto\"}, {\"fpd.kode_rekening\": \"4.1.2.1.8.3\", \"fpd.terget_realita\": 0.0, \"fpd.totrealisasi_after\": 0.0, \"fpd.persetarget_all\": 0.0, \"dr.nama_rek\": \"Retribusi Penyediaan Peta Digital\"}, {\"fpd.kode_rekening\": \"4.1.2.1.8.4\", \"fpd.terget_realita\": 0.0, \"fpd.totrealisasi_after\": 0.0, \"fpd.persetarget_all\": 0.0, \"dr.nama_rek\": \"Retribusi Penyediaan Peta Tematik\"}, {\"fpd.kode_rekening\": \"4.1.2.1.8.5\", \"fpd.terget_realita\": 0.0, \"fpd.totrealisasi_after\": 0.0, \"fpd.persetarget_all\": 0.0, \"dr.nama_rek\": \"Retribusi Penyediaan Peta Teknis (Struktur)\"}, {\"fpd.kode_rekening\": \"4.1.2.1.9\", \"fpd.terget_realita\": 100200000.0, \"fpd.totrealisasi_after\": 101275000.0, \"fpd.persetarget_all\": 101.07285429141717, \"dr.nama_rek\": \"Retribusi Penyediaan dan/atau Penyedotan Kakus\"}, {\"fpd.kode_rekening\": \"4.1.2.1.9.1\", \"fpd.terget_realita\": 100200000.0, \"fpd.totrealisasi_after\": 101275000.0, \"fpd.persetarget_all\": 101.07285429141717, \"dr.nama_rek\": \"Retribusi Penyediaan dan/atau Penyedotan Kakus\"}, {\"fpd.kode_rekening\": \"4.1.2.1.9.1.3\", \"fpd.terget_realita\": 100200000.0, \"fpd.totrealisasi_after\": 101275000.0, \"fpd.persetarget_all\": 101.07285429141717, \"dr.nama_rek\": \"Retribusi Penyediaan dan/atau Penyedotan Kakus\"}, {\"fpd.kode_rekening\": \"4.1.2.1.10\", \"fpd.terget_realita\": 0.0, \"fpd.totrealisasi_after\": 0.0, \"fpd.persetarget_all\": 0.0, \"dr.nama_rek\": \"Retribusi Pengelolahan Limbah Cair\"}, {\"fpd.kode_rekening\": \"4.1.2.1.10.1\", \"fpd.terget_realita\": 0.0, \"fpd.totrealisasi_after\": 0.0, \"fpd.persetarget_all\": 0.0, \"dr.nama_rek\": \"Retribusi Rumah Tangga\"}, {\"fpd.kode_rekening\": \"4.1.2.1.10.2\", \"fpd.terget_realita\": 0.0, \"fpd.totrealisasi_after\": 0.0, \"fpd.persetarget_all\": 0.0, \"dr.nama_rek\": \"Retribusi Perkantoran\"}, {\"fpd.kode_rekening\": \"4.1.2.1.10.3\", \"fpd.terget_realita\": 0.0, \"fpd.totrealisasi_after\": 0.0, \"fpd.persetarget_all\": 0.0, \"dr.nama_rek\": \"Retribusi Industri\"}, {\"fpd.kode_rekening\": \"4.1.2.1.11\", \"fpd.terget_realita\": 0.0, \"fpd.totrealisasi_after\": 8445600.0, \"fpd.persetarget_all\": 100.0, \"dr.nama_rek\": \"Retribusi Pelayanan Tera/Tera Ulang\"}, {\"fpd.kode_rekening\": \"4.1.2.1.11.1\", \"fpd.terget_realita\": 0.0, \"fpd.totrealisasi_after\": 8445600.0, \"fpd.persetarget_all\": 100.0, \"dr.nama_rek\": \"Retribusi Pelayanan Pengujian Alat-Alat Ukur, Takar, Timbang, dan Perlengkapannya\"}, {\"fpd.kode_rekening\": \"4.1.2.1.11.2\", \"fpd.terget_realita\": 0.0, \"fpd.totrealisasi_after\": 0.0, \"fpd.persetarget_all\": 0.0, \"dr.nama_rek\": \"Retribusi Pengujian Barang dalam Keadaan Terbungkus\"}, {\"fpd.kode_rekening\": \"4.1.2.1.12\", \"fpd.terget_realita\": 0.0, \"fpd.totrealisasi_after\": 0.0, \"fpd.persetarget_all\": 0.0, \"dr.nama_rek\": \"Retribusi Pelayanan Pendidikan\"}, {\"fpd.kode_rekening\": \"4.1.2.1.12.1\", \"fpd.terget_realita\": 0.0, \"fpd.totrealisasi_after\": 0.0, \"fpd.persetarget_all\": 0.0, \"dr.nama_rek\": \"Retribusi Pelayanan Penyelenggaraan Pendidikan Teknis\"}, {\"fpd.kode_rekening\": \"4.1.2.1.12.2\", \"fpd.terget_realita\": 0.0, \"fpd.totrealisasi_after\": 0.0, \"fpd.persetarget_all\": 0.0, \"dr.nama_rek\": \"Retribusi Pelayanan Penyelenggaraan Pelatihan Teknis\"}, {\"fpd.kode_rekening\": \"4.1.2.1.12.3\", \"fpd.terget_realita\": 0.0, \"fpd.totrealisasi_after\": 0.0, \"fpd.persetarget_all\": 0.0, \"dr.nama_rek\": \"Retribusi Pelayanan Penyelenggaraan Pendidikan dan Pelatihan Teknis\"}, {\"fpd.kode_rekening\": \"4.1.2.1.13\", \"fpd.terget_realita\": 0.0, \"fpd.totrealisasi_after\": 0.0, \"fpd.persetarget_all\": 0.0, \"dr.nama_rek\": \"Retribusi Pengawasan dan Pengendalian Menara Telekomunikasi\"}, {\"fpd.kode_rekening\": \"4.1.2.1.13.1\", \"fpd.terget_realita\": 0.0, \"fpd.totrealisasi_after\": 0.0, \"fpd.persetarget_all\": 0.0, \"dr.nama_rek\": \"Retribusi Pengawasan dan Pengendalian Menara Telekomunikasi\"}, {\"fpd.kode_rekening\": \"4.1.2.2\", \"fpd.terget_realita\": 10225078000.0, \"fpd.totrealisasi_after\": 4953045390.0, \"fpd.persetarget_all\": 48.440172192329484, \"dr.nama_rek\": \"Retribusi Jasa Usaha\"}, {\"fpd.kode_rekening\": \"4.1.2.2.1\", \"fpd.terget_realita\": 7374100000.0, \"fpd.totrealisasi_after\": 1834138206.0, \"fpd.persetarget_all\": 24.87270590309326, \"dr.nama_rek\": \"Retribusi Pemakaian Kekayaan Daerah\"}, {\"fpd.kode_rekening\": \"4.1.2.2.1.1\", \"fpd.terget_realita\": 0.0, \"fpd.totrealisasi_after\": 0.0, \"fpd.persetarget_all\": 0.0, \"dr.nama_rek\": \"Retribusi Penyewaan Tanah dan Bangunan\"}, {\"fpd.kode_rekening\": \"4.1.2.2.1.2\", \"fpd.terget_realita\": 5400000000.0, \"fpd.totrealisasi_after\": 462037250.0, \"fpd.persetarget_all\": 8.55624537037037, \"dr.nama_rek\": \"Retribusi Penyewaan Tanah\"}, {\"fpd.kode_rekening\": \"4.1.2.2.1.2.1\", \"fpd.terget_realita\": 400000000.0, \"fpd.totrealisasi_after\": 230374750.0, \"fpd.persetarget_all\": 57.5936875, \"dr.nama_rek\": \"01.1 Sewa Tanah Milik Pemerintah/BPKAD\"}, {\"fpd.kode_rekening\": \"4.1.2.2.1.2.2\", \"fpd.terget_realita\": 0.0, \"fpd.totrealisasi_after\": 21662500.0, \"fpd.persetarget_all\": 100.0, \"dr.nama_rek\": \"01.01 Sewa Tanah Milik Pemerintah/DISHUB\"}, {\"fpd.kode_rekening\": \"4.1.2.2.1.2.3\", \"fpd.terget_realita\": 5000000000.0, \"fpd.totrealisasi_after\": 210000000.0, \"fpd.persetarget_all\": 4.2, \"dr.nama_rek\": \"01.02.Retribusi Pemakaian Tanah Di Atas HPL Milik Pemkot Samarinda\"}, {\"fpd.kode_rekening\": \"4.1.2.2.1.2.4\", \"fpd.terget_realita\": 0.0, \"fpd.totrealisasi_after\": 0.0, \"fpd.persetarget_all\": 0.0, \"dr.nama_rek\": \"01.03. Retribusi sewa kios/petak/los- Dinas Perdagangan\"}, {\"fpd.kode_rekening\": \"4.1.2.2.1.3\", \"fpd.terget_realita\": 1229100000.0, \"fpd.totrealisasi_after\": 595167139.0, \"fpd.persetarget_all\": 48.42300374257587, \"dr.nama_rek\": \"Retribusi Penyewaan Bangunan\"}, {\"fpd.kode_rekening\": \"4.1.2.2.1.3.1\", \"fpd.terget_realita\": 96500000.0, \"fpd.totrealisasi_after\": 17000000.0, \"fpd.persetarget_all\": 17.616580310880828, \"dr.nama_rek\": \"01. Gedung Olahraga Segiri\"}, {\"fpd.kode_rekening\": \"4.1.2.2.1.3.2\", \"fpd.terget_realita\": 195000000.0, \"fpd.totrealisasi_after\": 119000000.0, \"fpd.persetarget_all\": 61.02564102564103, \"dr.nama_rek\": \"02. Sewa Lapangan Parkir Gedung Olahraga Segiri\"}, {\"fpd.kode_rekening\": \"4.1.2.2.1.3.3\", \"fpd.terget_realita\": 886000000.0, \"fpd.totrealisasi_after\": 254000000.0, \"fpd.persetarget_all\": 28.66817155756208, \"dr.nama_rek\": \"03. Stadion Segiri\"}, {\"fpd.kode_rekening\": \"4.1.2.2.1.3.4\", \"fpd.terget_realita\": 30000000.0, \"fpd.totrealisasi_after\": 90000000.0, \"fpd.persetarget_all\": 300.0, \"dr.nama_rek\": \"04. Sirkuit Kalan\"}, {\"fpd.kode_rekening\": \"4.1.2.2.1.3.5\", \"fpd.terget_realita\": 21600000.0, \"fpd.totrealisasi_after\": 0.0, \"fpd.persetarget_all\": 0.0, \"dr.nama_rek\": \"05. Rumah Dinas\"}, {\"fpd.kode_rekening\": \"4.1.2.2.1.3.6\", \"fpd.terget_realita\": 0.0, \"fpd.totrealisasi_after\": 115167139.0, \"fpd.persetarget_all\": 100.0, \"dr.nama_rek\": \"* Pasar (Pemanfaatan Aset Daerah)\"}, {\"fpd.kode_rekening\": \"4.1.4.22.1.1\", \"fpd.terget_realita\": 0.0, \"fpd.totrealisasi_after\": 0.0, \"fpd.persetarget_all\": 0.0, \"dr.nama_rek\": \"Pendapatan Zakat\"}, {\"fpd.kode_rekening\": \"4.1.2.2.1.4\", \"fpd.terget_realita\": 0.0, \"fpd.totrealisasi_after\": 0.0, \"fpd.persetarget_all\": 0.0, \"dr.nama_rek\": \"Retribusi Pemakaian Laboratorium\"}, {\"fpd.kode_rekening\": \"4.1.2.2.1.5\", \"fpd.terget_realita\": 630000000.0, \"fpd.totrealisasi_after\": 713843817.0, \"fpd.persetarget_all\": 113.30854238095239, \"dr.nama_rek\": \"Retribusi Pemakaian Ruangan\"}, {\"fpd.kode_rekening\": \"4.1.2.2.1.5.1\", \"fpd.terget_realita\": 630000000.0, \"fpd.totrealisasi_after\": 713843817.0, \"fpd.persetarget_all\": 113.30854238095239, \"dr.nama_rek\": \"01. Retr. Pemakaian  Aset Daerah Berjualan Dalam Pasar (Disdag)\"}, {\"fpd.kode_rekening\": \"4.1.2.2.1.6\", \"fpd.terget_realita\": 90000000.0, \"fpd.totrealisasi_after\": 48750000.0, \"fpd.persetarget_all\": 54.166666666666664, \"dr.nama_rek\": \"Retribusi Pemakaian Kendaraan bermotor\"}, {\"fpd.kode_rekening\": \"4.1.2.2.1.6.1\", \"fpd.terget_realita\": 90000000.0, \"fpd.totrealisasi_after\": 48750000.0, \"fpd.persetarget_all\": 54.166666666666664, \"dr.nama_rek\": \"01. Bus Besar\"}, {\"fpd.kode_rekening\": \"4.1.2.2.1.6.2\", \"fpd.terget_realita\": 0.0, \"fpd.totrealisasi_after\": 0.0, \"fpd.persetarget_all\": 0.0, \"dr.nama_rek\": \"02. Bus Kecil\"}, {\"fpd.kode_rekening\": \"4.1.2.2.1.7\", \"fpd.terget_realita\": 25000000.0, \"fpd.totrealisasi_after\": 14340000.0, \"fpd.persetarget_all\": 57.36, \"dr.nama_rek\": \"Retribusi Pemakaian Alat\"}, {\"fpd.kode_rekening\": \"4.1.2.2.1.7.1\", \"fpd.terget_realita\": 0.0, \"fpd.totrealisasi_after\": 0.0, \"fpd.persetarget_all\": 0.0, \"dr.nama_rek\": \"01. Alat Laboratorium/Pengujian\"}, {\"fpd.kode_rekening\": \"4.1.2.2.1.7.2\", \"fpd.terget_realita\": 0.0, \"fpd.totrealisasi_after\": 0.0, \"fpd.persetarget_all\": 0.0, \"dr.nama_rek\": \"02. Alat Survey/Pengukuran\"}, {\"fpd.kode_rekening\": \"4.1.2.2.1.7.3\", \"fpd.terget_realita\": 25000000.0, \"fpd.totrealisasi_after\": 14340000.0, \"fpd.persetarget_all\": 57.36, \"dr.nama_rek\": \"03. Alat Berat\"}, {\"fpd.kode_rekening\": \"4.1.2.2.2\", \"fpd.terget_realita\": 0.0, \"fpd.totrealisasi_after\": 0.0, \"fpd.persetarget_all\": 0.0, \"dr.nama_rek\": \"Retribusi Pasar Grosir dan/atau Perkotaan\"}, {\"fpd.kode_rekening\": \"4.1.2.2.2.1\", \"fpd.terget_realita\": 0.0, \"fpd.totrealisasi_after\": 0.0, \"fpd.persetarget_all\": 0.0, \"dr.nama_rek\": \"Retribusi Penyediaan Fasilitas Pasar Grosir Berbagai Jenis Barang yang Dikontrakkan\"}, {\"fpd.kode_rekening\": \"4.1.2.2.2.2\", \"fpd.terget_realita\": 0.0, \"fpd.totrealisasi_after\": 0.0, \"fpd.persetarget_all\": 0.0, \"dr.nama_rek\": \"Retribusi Penyediaan Fasilitas Pasar/Pertokoan yang Dikontrakkan\"}, {\"fpd.kode_rekening\": \"4.1.2.2.3\", \"fpd.terget_realita\": 308448000.0, \"fpd.totrealisasi_after\": 494294194.0, \"fpd.persetarget_all\": 160.25203405436247, \"dr.nama_rek\": \"Retribusi Tempat Pelelangan\"}, {\"fpd.kode_rekening\": \"4.1.2.2.3.1\", \"fpd.terget_realita\": 308448000.0, \"fpd.totrealisasi_after\": 44425000.0, \"fpd.persetarget_all\": 14.402751841477333, \"dr.nama_rek\": \"Retribusi Penyediaan Tempat Pelelangan\"}, {\"fpd.kode_rekening\": \"4.1.2.2.3.2\", \"fpd.terget_realita\": 0.0, \"fpd.totrealisasi_after\": 449869194.0, \"fpd.persetarget_all\": 100.0, \"dr.nama_rek\": \"Retribusi Penyediaan Fasilitas Lainnya di Tempat Pelelangan\"}, {\"fpd.kode_rekening\": \"4.1.2.2.3.2.1\", \"fpd.terget_realita\": 0.0, \"fpd.totrealisasi_after\": 0.0, \"fpd.persetarget_all\": 0.0, \"dr.nama_rek\": \"01. Retribusi sandar Kapal (setiap sandar)\"}, {\"fpd.kode_rekening\": \"4.1.2.2.3.2.2\", \"fpd.terget_realita\": 0.0, \"fpd.totrealisasi_after\": 0.0, \"fpd.persetarget_all\": 0.0, \"dr.nama_rek\": \"02. Pas Masuk untuk perorangan ke area kerja PPI (per Tahun)\"}, {\"fpd.kode_rekening\": \"4.1.2.2.3.2.3\", \"fpd.terget_realita\": 0.0, \"fpd.totrealisasi_after\": 0.0, \"fpd.persetarget_all\": 0.0, \"dr.nama_rek\": \"03. Masuk untuk kendaraan ke area TPI (setiap kali masuk)\"}, {\"fpd.kode_rekening\": \"4.1.2.2.3.2.4\", \"fpd.terget_realita\": 0.0, \"fpd.totrealisasi_after\": 449869194.0, \"fpd.persetarget_all\": 100.0, \"dr.nama_rek\": \"04. Pemakaian Fasilitas PPI untuk penjualan ikan (pendaratan ikan dan SIKPI)\"}, {\"fpd.kode_rekening\": \"4.1.2.2.3.2.5\", \"fpd.terget_realita\": 0.0, \"fpd.totrealisasi_after\": 0.0, \"fpd.persetarget_all\": 0.0, \"dr.nama_rek\": \"05. Pemakaian Lokasi PPI untuk produksi es balok\"}, {\"fpd.kode_rekening\": \"4.1.2.2.3.2.6\", \"fpd.terget_realita\": 0.0, \"fpd.totrealisasi_after\": 0.0, \"fpd.persetarget_all\": 0.0, \"dr.nama_rek\": \"06. Ret. Jasa Ruang Pendingin Ikan di PPI\"}, {\"fpd.kode_rekening\": \"4.1.2.2.4\", \"fpd.terget_realita\": 3240000.0, \"fpd.totrealisasi_after\": 0.0, \"fpd.persetarget_all\": 0.0, \"dr.nama_rek\": \"Retribusi Terminal\"}, {\"fpd.kode_rekening\": \"4.1.2.2.4.1\", \"fpd.terget_realita\": 0.0, \"fpd.totrealisasi_after\": 0.0, \"fpd.persetarget_all\": 0.0, \"dr.nama_rek\": \"Retribusi Pelayanan Penyediaan Tempat Parkir untuk Kendaraan Penumpang dan Bus Umum\"}, {\"fpd.kode_rekening\": \"4.1.2.2.4.2\", \"fpd.terget_realita\": 0.0, \"fpd.totrealisasi_after\": 0.0, \"fpd.persetarget_all\": 0.0, \"dr.nama_rek\": \"Retribusi Pelayanan Penyediaan Tempat Kegiatan Usaha\"}, {\"fpd.kode_rekening\": \"4.1.2.2.4.3\", \"fpd.terget_realita\": 3240000.0, \"fpd.totrealisasi_after\": 0.0, \"fpd.persetarget_all\": 0.0, \"dr.nama_rek\": \"Retribusi Pelayanan Penyediaan Fasilitas Lainnya di Lingkungan Terminal\"}, {\"fpd.kode_rekening\": \"4.1.2.2.5\", \"fpd.terget_realita\": 1241700000.0, \"fpd.totrealisasi_after\": 1116370741.0, \"fpd.persetarget_all\": 89.90663936538617, \"dr.nama_rek\": \"Retribusi Tempat Parkir Khusus\"}, {\"fpd.kode_rekening\": \"4.1.2.2.5.1\", \"fpd.terget_realita\": 1241700000.0, \"fpd.totrealisasi_after\": 1116370741.0, \"fpd.persetarget_all\": 89.90663936538617, \"dr.nama_rek\": \"Retribusi Pelayanan Tempat Khusus Parkir\"}, {\"fpd.kode_rekening\": \"4.1.2.2.5.1.1\", \"fpd.terget_realita\": 881700000.0, \"fpd.totrealisasi_after\": 347115000.0, \"fpd.persetarget_all\": 39.36883293637292, \"dr.nama_rek\": \"01. Untuk Parkir Dalam Area Pasar/DISDAG\"}, {\"fpd.kode_rekening\": \"4.1.2.2.5.1.2\", \"fpd.terget_realita\": 120000000.0, \"fpd.totrealisasi_after\": 40991461.0, \"fpd.persetarget_all\": 34.159550833333334, \"dr.nama_rek\": \"02. Untuk  Taman Buah Bebaya/DISHUB\"}, {\"fpd.kode_rekening\": \"4.1.2.2.5.1.3\", \"fpd.terget_realita\": 240000000.0, \"fpd.totrealisasi_after\": 21650000.0, \"fpd.persetarget_all\": 9.020833333333334, \"dr.nama_rek\": \"03. Untuk  Parkir Gor Segiri-dishub\"}, {\"fpd.kode_rekening\": \"4.1.2.2.5.1.4\", \"fpd.terget_realita\": 0.0, \"fpd.totrealisasi_after\": 2142000.0, \"fpd.persetarget_all\": 100.0, \"dr.nama_rek\": \"04. Untuk  Parkir Gor Segiri-dispora\"}, {\"fpd.kode_rekening\": \"4.1.2.2.5.1.5\", \"fpd.terget_realita\": 0.0, \"fpd.totrealisasi_after\": 10650000.0, \"fpd.persetarget_all\": 100.0, \"dr.nama_rek\": \"05. Untuk Parkir Plaza 21\"}, {\"fpd.kode_rekening\": \"4.1.2.2.5.1.6\", \"fpd.terget_realita\": 0.0, \"fpd.totrealisasi_after\": 9703000.0, \"fpd.persetarget_all\": 100.0, \"dr.nama_rek\": \"06. Untuk Parkir Pasar-Pasar\"}, {\"fpd.kode_rekening\": \"4.1.2.2.5.1.7\", \"fpd.terget_realita\": 0.0, \"fpd.totrealisasi_after\": 607760280.0, \"fpd.persetarget_all\": 100.0, \"dr.nama_rek\": \"07. Untuk Parkir RSUD IA MOEIS\"}, {\"fpd.kode_rekening\": \"4.1.2.2.5.1.8\", \"fpd.terget_realita\": 0.0, \"fpd.totrealisasi_after\": 38927000.0, \"fpd.persetarget_all\": 100.0, \"dr.nama_rek\": \"08. Untuk Parkir Pasar Merdeka\"}, {\"fpd.kode_rekening\": \"4.1.2.2.5.1.9\", \"fpd.terget_realita\": 0.0, \"fpd.totrealisasi_after\": 31391000.0, \"fpd.persetarget_all\": 100.0, \"dr.nama_rek\": \"09. Untuk Parkir Pasar Sungai Dama\"}, {\"fpd.kode_rekening\": \"4.1.2.2.5.1.10\", \"fpd.terget_realita\": 0.0, \"fpd.totrealisasi_after\": 6041000.0, \"fpd.persetarget_all\": 100.0, \"dr.nama_rek\": \"10. Untuk Parkir Taman Samarendah\"}, {\"fpd.kode_rekening\": \"4.1.2.2.5.1.11\", \"fpd.terget_realita\": 0.0, \"fpd.totrealisasi_after\": 0.0, \"fpd.persetarget_all\": 0.0, \"dr.nama_rek\": \"11. Untuk Parkir Pasar Baqa\"}, {\"fpd.kode_rekening\": \"4.1.2.2.6\", \"fpd.terget_realita\": 220000000.0, \"fpd.totrealisasi_after\": 0.0, \"fpd.persetarget_all\": 0.0, \"dr.nama_rek\": \"Retribusi Tempat Penginapan/ Pesanggrahan/Vila\"}, {\"fpd.kode_rekening\": \"4.1.2.2.6.1\", \"fpd.terget_realita\": 220000000.0, \"fpd.totrealisasi_after\": 0.0, \"fpd.persetarget_all\": 0.0, \"dr.nama_rek\": \"Retribusi Pelayanan Tempat Penginapan/ Pesanggrahan/Vila\"}, {\"fpd.kode_rekening\": \"4.1.2.2.6.1.1\", \"fpd.terget_realita\": 220000000.0, \"fpd.totrealisasi_after\": 0.0, \"fpd.persetarget_all\": 0.0, \"dr.nama_rek\": \"01. Mess Perwakilan Samarinda di Jakarta\"}, {\"fpd.kode_rekening\": \"4.1.2.2.7\", \"fpd.terget_realita\": 521790000.0, \"fpd.totrealisasi_after\": 356387940.0, \"fpd.persetarget_all\": 68.30102914965791, \"dr.nama_rek\": \"Retribusi Rumah Potong Hewan\"}, {\"fpd.kode_rekening\": \"4.1.2.2.7.1\", \"fpd.terget_realita\": 370440000.0, \"fpd.totrealisasi_after\": 299327940.0, \"fpd.persetarget_all\": 80.80335276967931, \"dr.nama_rek\": \"Retribusi Pelayanan Rumah Potong Hewan\"}, {\"fpd.kode_rekening\": \"4.1.2.2.7.1.1\", \"fpd.terget_realita\": 370440000.0, \"fpd.totrealisasi_after\": 292966740.0, \"fpd.persetarget_all\": 79.08615160349855, \"dr.nama_rek\": \"01. Pemeriksaan Kesehatan Hewan di Rumah Pemotongan Hewan\"}, {\"fpd.kode_rekening\": \"4.1.2.2.7.1.2\", \"fpd.terget_realita\": 0.0, \"fpd.totrealisasi_after\": 6361200.0, \"fpd.persetarget_all\": 100.0, \"dr.nama_rek\": \"02. Pemeriksaan Kesehatan Unggas dan/atau Daging Unggas di RPH\"}, {\"fpd.kode_rekening\": \"4.1.2.2.7.1.3\", \"fpd.terget_realita\": 0.0, \"fpd.totrealisasi_after\": 0.0, \"fpd.persetarget_all\": 0.0, \"dr.nama_rek\": \"03. Pengandangan di RPH\"}, {\"fpd.kode_rekening\": \"4.1.2.2.7.2\", \"fpd.terget_realita\": 151350000.0, \"fpd.totrealisasi_after\": 57060000.0, \"fpd.persetarget_all\": 37.700693756194255, \"dr.nama_rek\": \"Pelayanan Kesehatan untuk Hewan Ternak\"}, {\"fpd.kode_rekening\": \"4.1.2.2.8\", \"fpd.terget_realita\": 300600000.0, \"fpd.totrealisasi_after\": 799679000.0, \"fpd.persetarget_all\": 266.0276114437791, \"dr.nama_rek\": \"Retribusi Pelayanan Kepelabuhanan\"}, {\"fpd.kode_rekening\": \"4.1.2.2.8.1\", \"fpd.terget_realita\": 300600000.0, \"fpd.totrealisasi_after\": 799679000.0, \"fpd.persetarget_all\": 266.0276114437791, \"dr.nama_rek\": \"Retribusi Pelayanan Kepelabuhanan\"}, {\"fpd.kode_rekening\": \"4.1.2.2.8.1.1\", \"fpd.terget_realita\": 0.0, \"fpd.totrealisasi_after\": 0.0, \"fpd.persetarget_all\": 0.0, \"dr.nama_rek\": \"01. Laut\"}, {\"fpd.kode_rekening\": \"4.1.2.2.8.1.2\", \"fpd.terget_realita\": 0.0, \"fpd.totrealisasi_after\": 0.0, \"fpd.persetarget_all\": 0.0, \"dr.nama_rek\": \"01.1 Pelayanan Kapal\"}, {\"fpd.kode_rekening\": \"4.1.2.2.8.1.3\", \"fpd.terget_realita\": 0.0, \"fpd.totrealisasi_after\": 0.0, \"fpd.persetarget_all\": 0.0, \"dr.nama_rek\": \"01.2 Pelayanan Barang\"}, {\"fpd.kode_rekening\": \"4.1.2.2.8.1.4\", \"fpd.terget_realita\": 0.0, \"fpd.totrealisasi_after\": 0.0, \"fpd.persetarget_all\": 0.0, \"dr.nama_rek\": \"01.3 Pelayanan Lainnya\"}, {\"fpd.kode_rekening\": \"4.1.2.2.8.1.5\", \"fpd.terget_realita\": 0.0, \"fpd.totrealisasi_after\": 0.0, \"fpd.persetarget_all\": 0.0, \"dr.nama_rek\": \"02. Angkutan Sungai\"}, {\"fpd.kode_rekening\": \"4.1.2.2.8.1.6\", \"fpd.terget_realita\": 0.0, \"fpd.totrealisasi_after\": 0.0, \"fpd.persetarget_all\": 0.0, \"dr.nama_rek\": \"02.1 Tambat Kapal\"}, {\"fpd.kode_rekening\": \"4.1.2.2.8.1.7\", \"fpd.terget_realita\": 0.0, \"fpd.totrealisasi_after\": 247754000.0, \"fpd.persetarget_all\": 100.0, \"dr.nama_rek\": \"02.2 Tarif Masuk Dermaga\"}, {\"fpd.kode_rekening\": \"4.1.2.2.8.1.8\", \"fpd.terget_realita\": 0.0, \"fpd.totrealisasi_after\": 0.0, \"fpd.persetarget_all\": 0.0, \"dr.nama_rek\": \"02.3 Lain - lain (mck,wc,kios,toko)\"}, {\"fpd.kode_rekening\": \"4.1.2.2.8.1.9\", \"fpd.terget_realita\": 0.0, \"fpd.totrealisasi_after\": 97160000.0, \"fpd.persetarget_all\": 100.0, \"dr.nama_rek\": \"02.4 Tarif Masuk Dermaga S. Kunjang\\\\n\"}, {\"fpd.kode_rekening\": \"4.1.2.2.8.1.10\", \"fpd.terget_realita\": 0.0, \"fpd.totrealisasi_after\": 100020000.0, \"fpd.persetarget_all\": 100.0, \"dr.nama_rek\": \"02.5 Tarif Masuk Dermaga Pasar Pagi\\\\n\\\\n\"}, {\"fpd.kode_rekening\": \"4.1.2.2.8.1.11\", \"fpd.terget_realita\": 0.0, \"fpd.totrealisasi_after\": 347514000.0, \"fpd.persetarget_all\": 100.0, \"dr.nama_rek\": \"02.5 Tarif Masuk Dermaga Harapan Baru\"}, {\"fpd.kode_rekening\": \"4.1.2.2.8.1.12\", \"fpd.terget_realita\": 0.0, \"fpd.totrealisasi_after\": 5050000.0, \"fpd.persetarget_all\": 100.0, \"dr.nama_rek\": \"02.5 Tarif Masuk Dermaga Samarinda Seberang\"}, {\"fpd.kode_rekening\": \"4.1.2.2.8.1.13\", \"fpd.terget_realita\": 0.0, \"fpd.totrealisasi_after\": 2181000.0, \"fpd.persetarget_all\": 100.0, \"dr.nama_rek\": \"02.6 Tarif Masuk Dermaga Loa Janan\"}, {\"fpd.kode_rekening\": \"4.1.2.2.9\", \"fpd.terget_realita\": 255200000.0, \"fpd.totrealisasi_after\": 352175309.0, \"fpd.persetarget_all\": 137.99972923197492, \"dr.nama_rek\": \"Retribusi Tempat Rekreasi dan Olahraga\"}, {\"fpd.kode_rekening\": \"4.1.2.2.9.1\", \"fpd.terget_realita\": 255200000.0, \"fpd.totrealisasi_after\": 352175309.0, \"fpd.persetarget_all\": 137.99972923197492, \"dr.nama_rek\": \"Retribusi Pelayanan Tempat Rekreasi dan Olahraga\"}, {\"fpd.kode_rekening\": \"4.1.2.2.10\", \"fpd.terget_realita\": 0.0, \"fpd.totrealisasi_after\": 0.0, \"fpd.persetarget_all\": 0.0, \"dr.nama_rek\": \"Retribusi Penyebrangan di Air\"}, {\"fpd.kode_rekening\": \"4.1.2.2.10.1\", \"fpd.terget_realita\": 0.0, \"fpd.totrealisasi_after\": 0.0, \"fpd.persetarget_all\": 0.0, \"dr.nama_rek\": \"Retribusi Pelayanan Penyeberangan Orang\"}, {\"fpd.kode_rekening\": \"4.1.2.2.10.2\", \"fpd.terget_realita\": 0.0, \"fpd.totrealisasi_after\": 0.0, \"fpd.persetarget_all\": 0.0, \"dr.nama_rek\": \"Retribusi Pelayanan Penyeberangan Barang\"}, {\"fpd.kode_rekening\": \"4.1.2.2.11\", \"fpd.terget_realita\": 0.0, \"fpd.totrealisasi_after\": 0.0, \"fpd.persetarget_all\": 0.0, \"dr.nama_rek\": \"Retribusi Penjualan Produksi Usaha Daerah\"}, {\"fpd.kode_rekening\": \"4.1.2.2.11.1\", \"fpd.terget_realita\": 0.0, \"fpd.totrealisasi_after\": 0.0, \"fpd.persetarget_all\": 0.0, \"dr.nama_rek\": \"Retribusi Penjualan Produksi Hasil Usaha Daerah berupa Bibit atau Benih Tanaman\"}, {\"fpd.kode_rekening\": \"4.1.2.2.11.2\", \"fpd.terget_realita\": 0.0, \"fpd.totrealisasi_after\": 0.0, \"fpd.persetarget_all\": 0.0, \"dr.nama_rek\": \"Retribusi Penjualan Produksi hasil Usaha Daerah berupa Bibit Ternak\"}, {\"fpd.kode_rekening\": \"4.1.2.2.11.3\", \"fpd.terget_realita\": 0.0, \"fpd.totrealisasi_after\": 0.0, \"fpd.persetarget_all\": 0.0, \"dr.nama_rek\": \"Retribusi Penjualan Produksi hasil Usaha Daerah berupa Bibit atau Benih Ikan\"}, {\"fpd.kode_rekening\": \"4.1.2.2.11.4\", \"fpd.terget_realita\": 0.0, \"fpd.totrealisasi_after\": 0.0, \"fpd.persetarget_all\": 0.0, \"dr.nama_rek\": \"Retribusi Penjualan Produksi hasil Usaha Daerah selain Bibit atau Benih Tanaman, Ternak, dan Ikan\"}, {\"fpd.kode_rekening\": \"4.1.2.3\", \"fpd.terget_realita\": 2260000000.0, \"fpd.totrealisasi_after\": 3156946041.0, \"fpd.persetarget_all\": 139.68787792035397, \"dr.nama_rek\": \"Retribusi Perizinan Tertentu\"}, {\"fpd.kode_rekening\": \"4.1.2.3.1\", \"fpd.terget_realita\": 2160000000.0, \"fpd.totrealisasi_after\": 2752087641.0, \"fpd.persetarget_all\": 127.4114648611111, \"dr.nama_rek\": \"Retribusi Izin Mendirikan Bangunan\"}, {\"fpd.kode_rekening\": \"4.1.2.3.1.1\", \"fpd.terget_realita\": 2160000000.0, \"fpd.totrealisasi_after\": 2752087641.0, \"fpd.persetarget_all\": 127.4114648611111, \"dr.nama_rek\": \"Retribusi Pemberian Izin Mendirikan Bangunan\"}, {\"fpd.kode_rekening\": \"4.1.2.3.2\", \"fpd.terget_realita\": 0.0, \"fpd.totrealisasi_after\": 62000000.0, \"fpd.persetarget_all\": 100.0, \"dr.nama_rek\": \"Retribusi Izin Tempat Penjualan Minuman Beralkohol\"}, {\"fpd.kode_rekening\": \"4.1.2.3.2.1\", \"fpd.terget_realita\": 0.0, \"fpd.totrealisasi_after\": 62000000.0, \"fpd.persetarget_all\": 100.0, \"dr.nama_rek\": \"Retribusi Pemberian Izin Tempat Penjualan Minuman Beralkohol\"}, {\"fpd.kode_rekening\": \"4.1.2.3.3\", \"fpd.terget_realita\": 0.0, \"fpd.totrealisasi_after\": 350000.0, \"fpd.persetarget_all\": 100.0, \"dr.nama_rek\": \"Retribusi Izin Trayek untuk Menyediakan Pelayanan Angkutan Umum\"}, {\"fpd.kode_rekening\": \"4.1.2.3.3.1\", \"fpd.terget_realita\": 0.0, \"fpd.totrealisasi_after\": 350000.0, \"fpd.persetarget_all\": 100.0, \"dr.nama_rek\": \"Retribusi Izin Trayek untuk Menyediakan Pelayanan Angkutan Umum\"}, {\"fpd.kode_rekening\": \"4.1.2.3.4\", \"fpd.terget_realita\": 0.0, \"fpd.totrealisasi_after\": 0.0, \"fpd.persetarget_all\": 0.0, \"dr.nama_rek\": \"Retribusi Izin Usaha Perikanan\"}, {\"fpd.kode_rekening\": \"4.1.2.3.4.1\", \"fpd.terget_realita\": 0.0, \"fpd.totrealisasi_after\": 0.0, \"fpd.persetarget_all\": 0.0, \"dr.nama_rek\": \"Retribusi Pemberian Izin Kegiatan Usaha Penangkapan Ikan\"}, {\"fpd.kode_rekening\": \"4.1.2.3.4.2\", \"fpd.terget_realita\": 0.0, \"fpd.totrealisasi_after\": 0.0, \"fpd.persetarget_all\": 0.0, \"dr.nama_rek\": \"Retribusi Pemberian Izin Kegiatan Usaha Pembudidayaan Ikan\"}, {\"fpd.kode_rekening\": \"4.1.2.3.5\", \"fpd.terget_realita\": 0.0, \"fpd.totrealisasi_after\": 0.0, \"fpd.persetarget_all\": 0.0, \"dr.nama_rek\": \"Retribusi Pengendalian Lalu Lintas\"}, {\"fpd.kode_rekening\": \"4.1.2.3.5.1\", \"fpd.terget_realita\": 0.0, \"fpd.totrealisasi_after\": 0.0, \"fpd.persetarget_all\": 0.0, \"dr.nama_rek\": \"Retribusi Pengendalian Lalu Lintas Penggunaan Ruas Jalan Tertentu\"}, {\"fpd.kode_rekening\": \"4.1.2.3.5.2\", \"fpd.terget_realita\": 0.0, \"fpd.totrealisasi_after\": 0.0, \"fpd.persetarget_all\": 0.0, \"dr.nama_rek\": \"Retribusi Pengendalian Lalu Lintas Penggunaan Koridor Tertentu\"}, {\"fpd.kode_rekening\": \"4.1.2.3.5.3\", \"fpd.terget_realita\": 0.0, \"fpd.totrealisasi_after\": 0.0, \"fpd.persetarget_all\": 0.0, \"dr.nama_rek\": \"Retribusi Pengendalian Lalu Lintas Penggunaan Kawasan Tertentu\"}, {\"fpd.kode_rekening\": \"4.1.2.3.6\", \"fpd.terget_realita\": 100000000.0, \"fpd.totrealisasi_after\": 342508400.0, \"fpd.persetarget_all\": 342.5084, \"dr.nama_rek\": \"Retribusi Perpanjangan Izin Mempekerjakan Tenaga Kerja Asing (IMTA)\"}, {\"fpd.kode_rekening\": \"4.1.2.3.6.1\", \"fpd.terget_realita\": 100000000.0, \"fpd.totrealisasi_after\": 342508400.0, \"fpd.persetarget_all\": 342.5084, \"dr.nama_rek\": \"Retribusi Pemberian Perpanjangan IMTA kepada Pemberi Kerja Tenaga Kerja Asing\"}, {\"fpd.kode_rekening\": \"4.1.3\", \"fpd.terget_realita\": 20290129000.0, \"fpd.totrealisasi_after\": 21912018474.0, \"fpd.persetarget_all\": 107.99349020402975, \"dr.nama_rek\": \"Hasil Pengelolaan Kekayaan Daerah yang Dipisahkan\"}, {\"fpd.kode_rekening\": \"4.1.3.1\", \"fpd.terget_realita\": 0.0, \"fpd.totrealisasi_after\": 0.0, \"fpd.persetarget_all\": 0.0, \"dr.nama_rek\": \"Bagian Laba yang Dibagikan kepada Pemerintah Daerah (Dividen) atas Penyertaan Modal pada BUMN\"}, {\"fpd.kode_rekening\": \"4.1.3.1.1\", \"fpd.terget_realita\": 0.0, \"fpd.totrealisasi_after\": 0.0, \"fpd.persetarget_all\": 0.0, \"dr.nama_rek\": \"Bagian Laba yang Dibagikan kepada Pemerintah Daerah (Dividen) atas Penyertaan Modal pada BUMN\"}, {\"fpd.kode_rekening\": \"4.1.3.1.1.1\", \"fpd.terget_realita\": 0.0, \"fpd.totrealisasi_after\": 0.0, \"fpd.persetarget_all\": 0.0, \"dr.nama_rek\": \"Bagian Laba yang Dibagikan kepada Pemerintah Daerah (Dividen) atas Penyertaan Modal pada BUMN\"}, {\"fpd.kode_rekening\": \"4.1.3.2\", \"fpd.terget_realita\": 20290129000.0, \"fpd.totrealisasi_after\": 21912018474.0, \"fpd.persetarget_all\": 107.99349020402975, \"dr.nama_rek\": \"Bagian Laba yang Dibagikan kepada Pemerintah Daerah (Dividen) atas Penyertaan Modal pada BUMD\"}, {\"fpd.kode_rekening\": \"4.1.3.2.1\", \"fpd.terget_realita\": 4937049000.0, \"fpd.totrealisasi_after\": 3197750628.0, \"fpd.persetarget_all\": 64.77048593198083, \"dr.nama_rek\": \"Bagian Laba yang Dibagikan kepada Pemerintah Daerah (Dividen) atas Penyertaan Modal pada BUMD (Lembaga Keuangan)\"}, {\"fpd.kode_rekening\": \"4.1.4.2.4.1\", \"fpd.terget_realita\": 0.0, \"fpd.totrealisasi_after\": 0.0, \"fpd.persetarget_all\": 0.0, \"dr.nama_rek\": \"Hasil Selisih Lebih Tukar Menukar Jalan dan Jembatan\"}, {\"fpd.kode_rekening\": \"4.1.3.2.1.1\", \"fpd.terget_realita\": 4937049000.0, \"fpd.totrealisasi_after\": 3197750628.0, \"fpd.persetarget_all\": 64.77048593198083, \"dr.nama_rek\": \"Bagian Laba yang Dibagikan kepada Pemerintah Daerah (Dividen) atas Penyertaan Modal pada BUMD (Lembaga Keuangan)\"}, {\"fpd.kode_rekening\": \"4.1.3.2.1.1.1\", \"fpd.terget_realita\": 3617049000.0, \"fpd.totrealisasi_after\": 3197750628.0, \"fpd.persetarget_all\": 88.40772209610653, \"dr.nama_rek\": \"01. Bankaltim\"}, {\"fpd.kode_rekening\": \"4.1.3.2.1.1.2\", \"fpd.terget_realita\": 1320000000.0, \"fpd.totrealisasi_after\": 0.0, \"fpd.persetarget_all\": 0.0, \"dr.nama_rek\": \"02. Bank Perkreditan Rakyat (BPR) Kota Samarinda\"}, {\"fpd.kode_rekening\": \"4.1.3.2.2\", \"fpd.terget_realita\": 7970115000.0, \"fpd.totrealisasi_after\": 240000000.0, \"fpd.persetarget_all\": 3.011248896659584, \"dr.nama_rek\": \"Bagian Laba yang Dibagikan kepada Pemerintah Daerah (Dividen) atas Penyertaan Modal pada BUMD (Varian\\\\u00a0Niaga)\"}, {\"fpd.kode_rekening\": \"4.1.3.2.2.1\", \"fpd.terget_realita\": 7970115000.0, \"fpd.totrealisasi_after\": 240000000.0, \"fpd.persetarget_all\": 3.011248896659584, \"dr.nama_rek\": \"Bagian Laba yang Dibagikan kepada Pemerintah Daerah (Dividen) atas Penyertaan Modal pada BUMD (Varian\\\\u00a0Niaga)\"}, {\"fpd.kode_rekening\": \"4.1.3.2.3\", \"fpd.terget_realita\": 7382965000.0, \"fpd.totrealisasi_after\": 18474267846.0, \"fpd.persetarget_all\": 250.22830049986692, \"dr.nama_rek\": \"Bagian Laba yang Dibagikan kepada Pemerintah Daerah (Dividen) atas Penyertaan Modal pada BUMD (Bidang Air Minum)\"}, {\"fpd.kode_rekening\": \"4.1.3.2.3.1\", \"fpd.terget_realita\": 7382965000.0, \"fpd.totrealisasi_after\": 18474267846.0, \"fpd.persetarget_all\": 250.22830049986692, \"dr.nama_rek\": \"Bagian Laba yang Dibagikan kepada Pemerintah Daerah (Dividen) atas Penyertaan Modal pada Perusahaan Milik Daerah/BUMD (Bidang Air Minum)\"}, {\"fpd.kode_rekening\": \"4.1.3.2.3.1.1\", \"fpd.terget_realita\": 7382965000.0, \"fpd.totrealisasi_after\": 18474267846.0, \"fpd.persetarget_all\": 250.22830049986692, \"dr.nama_rek\": \"01. Perusahaan Daerah Air Minum (PDAM)\"}, {\"fpd.kode_rekening\": \"4.1.3.2.4\", \"fpd.terget_realita\": 0.0, \"fpd.totrealisasi_after\": 0.0, \"fpd.persetarget_all\": 0.0, \"dr.nama_rek\": \"Bagian Laba yang Dibagikan kepada Pemerintah Daerah (Dividen) atas Penyertaan Modal pada BUMD (Bidang Limbah)\"}, {\"fpd.kode_rekening\": \"4.1.3.2.4.1\", \"fpd.terget_realita\": 0.0, \"fpd.totrealisasi_after\": 0.0, \"fpd.persetarget_all\": 0.0, \"dr.nama_rek\": \"Bagian Laba yang Dibagikan kepada Pemerintah Daerah (Dividen) atas Penyertaan Modal pada BUMD (Bidang Limbah)\"}, {\"fpd.kode_rekening\": \"4.1.3.2.5\", \"fpd.terget_realita\": 0.0, \"fpd.totrealisasi_after\": 0.0, \"fpd.persetarget_all\": 0.0, \"dr.nama_rek\": \"Bagian Laba yang Dibagikan kepada Pemerintah Daerah (Dividen) atas Penyertaan Modal pada BUMD (Bidang Sanitasi)\"}, {\"fpd.kode_rekening\": \"4.1.3.2.5.1\", \"fpd.terget_realita\": 0.0, \"fpd.totrealisasi_after\": 0.0, \"fpd.persetarget_all\": 0.0, \"dr.nama_rek\": \"Bagian Laba yang Dibagikan kepada Pemerintah Daerah (Dividen) atas Penyertaan Modal pada BUMD (Bidang Sanitasi)\"}, {\"fpd.kode_rekening\": \"4.1.3.3\", \"fpd.terget_realita\": 0.0, \"fpd.totrealisasi_after\": 0.0, \"fpd.persetarget_all\": 0.0, \"dr.nama_rek\": \"Bagian Laba yang dibagikan kepada Pemerintah Daerah (Dividen) atas Penyertaan Modal pada Perusahaan Milik Swasta\"}, {\"fpd.kode_rekening\": \"4.1.3.3.1\", \"fpd.terget_realita\": 0.0, \"fpd.totrealisasi_after\": 0.0, \"fpd.persetarget_all\": 0.0, \"dr.nama_rek\": \"Bagian Laba yang Dibagikan kepada Pemerintah Daerah (Dividen) atas Penyertaan Modal pada Perusahaan Milik Swasta\"}, {\"fpd.kode_rekening\": \"4.1.3.3.1.1\", \"fpd.terget_realita\": 0.0, \"fpd.totrealisasi_after\": 0.0, \"fpd.persetarget_all\": 0.0, \"dr.nama_rek\": \"Bagian Laba yang Dibagikan kepada Pemerintah Daerah (Dividen) atas Penyertaan Modal pada Perusahaan Milik Swasta\"}, {\"fpd.kode_rekening\": \"4.1.4\", \"fpd.terget_realita\": 45364361674.0, \"fpd.totrealisasi_after\": 54188418445.51, \"fpd.persetarget_all\": 119.45151754789795, \"dr.nama_rek\": \"Lain-lain Pendapatan Asli Daerah yang Sah\"}, {\"fpd.kode_rekening\": \"4.1.4.1\", \"fpd.terget_realita\": 400000000.0, \"fpd.totrealisasi_after\": 1785909490.0, \"fpd.persetarget_all\": 446.47737249999994, \"dr.nama_rek\": \"Hasil Penjualan BMD yang Tidak Dipisahkan\"}, {\"fpd.kode_rekening\": \"4.1.4.1.1\", \"fpd.terget_realita\": 0.0, \"fpd.totrealisasi_after\": 0.0, \"fpd.persetarget_all\": 0.0, \"dr.nama_rek\": \"Hasil Penjualan Tanah\"}, {\"fpd.kode_rekening\": \"4.1.4.1.1.1\", \"fpd.terget_realita\": 0.0, \"fpd.totrealisasi_after\": 0.0, \"fpd.persetarget_all\": 0.0, \"dr.nama_rek\": \"Hasil Penjualan Tanah Digunakan untuk mencatat pendapatan dari hasil penjualan atas tanah.\"}, {\"fpd.kode_rekening\": \"4.1.4.1.2\", \"fpd.terget_realita\": 100000000.0, \"fpd.totrealisasi_after\": 0.0, \"fpd.persetarget_all\": 0.0, \"dr.nama_rek\": \"Hasil Penjualan Peralatan dan Mesin\"}, {\"fpd.kode_rekening\": \"4.1.4.1.2.1\", \"fpd.terget_realita\": 0.0, \"fpd.totrealisasi_after\": 0.0, \"fpd.persetarget_all\": 0.0, \"dr.nama_rek\": \"Hasil Penjualan Alat Besar\"}, {\"fpd.kode_rekening\": \"4.1.4.1.2.2\", \"fpd.terget_realita\": 0.0, \"fpd.totrealisasi_after\": 0.0, \"fpd.persetarget_all\": 0.0, \"dr.nama_rek\": \"Hasil Penjualan Alat Angkutan\"}, {\"fpd.kode_rekening\": \"4.1.4.1.2.3\", \"fpd.terget_realita\": 0.0, \"fpd.totrealisasi_after\": 0.0, \"fpd.persetarget_all\": 0.0, \"dr.nama_rek\": \"Hasil Penjualan Alat Bengkel dan Alat Ukur\"}, {\"fpd.kode_rekening\": \"4.1.4.1.2.4\", \"fpd.terget_realita\": 0.0, \"fpd.totrealisasi_after\": 0.0, \"fpd.persetarget_all\": 0.0, \"dr.nama_rek\": \"Hasil Penjualan Alat Pertanian\"}, {\"fpd.kode_rekening\": \"4.1.4.1.2.5\", \"fpd.terget_realita\": 0.0, \"fpd.totrealisasi_after\": 0.0, \"fpd.persetarget_all\": 0.0, \"dr.nama_rek\": \"Hasil Penjualan Alat Kantor dan Rumah Tangga\"}, {\"fpd.kode_rekening\": \"4.1.4.1.2.6\", \"fpd.terget_realita\": 0.0, \"fpd.totrealisasi_after\": 0.0, \"fpd.persetarget_all\": 0.0, \"dr.nama_rek\": \"Hasil Penjualan Alat Studio, Komunikasi, dan Pemancar\"}, {\"fpd.kode_rekening\": \"4.1.4.1.2.7\", \"fpd.terget_realita\": 0.0, \"fpd.totrealisasi_after\": 0.0, \"fpd.persetarget_all\": 0.0, \"dr.nama_rek\": \"Hasil Penjualan Alat Kedokteran dan Kesehatan\"}, {\"fpd.kode_rekening\": \"4.1.4.1.2.8\", \"fpd.terget_realita\": 0.0, \"fpd.totrealisasi_after\": 0.0, \"fpd.persetarget_all\": 0.0, \"dr.nama_rek\": \"Hasil Penjualan Alat Laboratorium\"}, {\"fpd.kode_rekening\": \"4.1.4.1.2.10\", \"fpd.terget_realita\": 0.0, \"fpd.totrealisasi_after\": 0.0, \"fpd.persetarget_all\": 0.0, \"dr.nama_rek\": \"Hasil Penjualan Komputer\"}, {\"fpd.kode_rekening\": \"4.1.4.1.2.11\", \"fpd.terget_realita\": 0.0, \"fpd.totrealisasi_after\": 0.0, \"fpd.persetarget_all\": 0.0, \"dr.nama_rek\": \"Hasil Penjualan Alat Eksplorasi\"}, {\"fpd.kode_rekening\": \"4.1.4.1.2.12\", \"fpd.terget_realita\": 0.0, \"fpd.totrealisasi_after\": 0.0, \"fpd.persetarget_all\": 0.0, \"dr.nama_rek\": \"Hasil Penjualan Alat Pengeboran\"}, {\"fpd.kode_rekening\": \"4.1.4.1.2.13\", \"fpd.terget_realita\": 0.0, \"fpd.totrealisasi_after\": 0.0, \"fpd.persetarget_all\": 0.0, \"dr.nama_rek\": \"Hasil Penjualan Alat Produksi, Pengolahan, dan Pemurnian\"}, {\"fpd.kode_rekening\": \"4.1.4.1.2.14\", \"fpd.terget_realita\": 0.0, \"fpd.totrealisasi_after\": 0.0, \"fpd.persetarget_all\": 0.0, \"dr.nama_rek\": \"Hasil Penjualan Alat Bantu Eksplorasi\"}, {\"fpd.kode_rekening\": \"4.1.4.1.2.15\", \"fpd.terget_realita\": 0.0, \"fpd.totrealisasi_after\": 0.0, \"fpd.persetarget_all\": 0.0, \"dr.nama_rek\": \"Hasil Penjualan Alat Keselamatan Kerja\"}, {\"fpd.kode_rekening\": \"4.1.4.1.2.16\", \"fpd.terget_realita\": 0.0, \"fpd.totrealisasi_after\": 0.0, \"fpd.persetarget_all\": 0.0, \"dr.nama_rek\": \"Hasil Penjualan Alat Peraga\"}, {\"fpd.kode_rekening\": \"4.1.4.1.2.17\", \"fpd.terget_realita\": 0.0, \"fpd.totrealisasi_after\": 0.0, \"fpd.persetarget_all\": 0.0, \"dr.nama_rek\": \"Hasil Penjualan Peralatan Proses/Produksi\"}, {\"fpd.kode_rekening\": \"4.1.4.1.2.18\", \"fpd.terget_realita\": 0.0, \"fpd.totrealisasi_after\": 0.0, \"fpd.persetarget_all\": 0.0, \"dr.nama_rek\": \"Hasil Penjualan Rambu-rambu\"}, {\"fpd.kode_rekening\": \"4.1.4.1.2.19\", \"fpd.terget_realita\": 0.0, \"fpd.totrealisasi_after\": 0.0, \"fpd.persetarget_all\": 0.0, \"dr.nama_rek\": \"Hasil Penjualan Peralatan Olahraga\"}, {\"fpd.kode_rekening\": \"4.1.4.1.3\", \"fpd.terget_realita\": 0.0, \"fpd.totrealisasi_after\": 14390090.0, \"fpd.persetarget_all\": 100.0, \"dr.nama_rek\": \"Hasil Penjualan Gedung dan Bangunan\"}, {\"fpd.kode_rekening\": \"4.1.4.1.3.1\", \"fpd.terget_realita\": 0.0, \"fpd.totrealisasi_after\": 14390090.0, \"fpd.persetarget_all\": 100.0, \"dr.nama_rek\": \"Hasil Penjualan Gedung dan Bangunan\"}, {\"fpd.kode_rekening\": \"4.1.4.1.3.1.1\", \"fpd.terget_realita\": 0.0, \"fpd.totrealisasi_after\": 0.0, \"fpd.persetarget_all\": 0.0, \"dr.nama_rek\": \"02.Pendapatan Dari Angsuran/ Cicilan Penjualan\"}, {\"fpd.kode_rekening\": \"4.1.4.1.3.1.2\", \"fpd.terget_realita\": 0.0, \"fpd.totrealisasi_after\": 14390090.0, \"fpd.persetarget_all\": 100.0, \"dr.nama_rek\": \"Angsuran/Cicilan Penjualan Rumah Dinas Daerah Golongan III\"}, {\"fpd.kode_rekening\": \"4.1.4.1.3.1.3\", \"fpd.terget_realita\": 0.0, \"fpd.totrealisasi_after\": 0.0, \"fpd.persetarget_all\": 0.0, \"dr.nama_rek\": \"01. Pokok Angsuran / Cicilan Penjualan Rumah Dinas Daerah Gol III\"}, {\"fpd.kode_rekening\": \"4.1.4.1.3.1.4\", \"fpd.terget_realita\": 0.0, \"fpd.totrealisasi_after\": 0.0, \"fpd.persetarget_all\": 0.0, \"dr.nama_rek\": \"02. Denda Angsuran / Cicilan Penjualan Rumah Dinas Daerah Gol III\"}, {\"fpd.kode_rekening\": \"4.1.4.1.3.1.5\", \"fpd.terget_realita\": 0.0, \"fpd.totrealisasi_after\": 0.0, \"fpd.persetarget_all\": 0.0, \"dr.nama_rek\": \"Angsuran/Cicilan Penjualan Kendaraan Perorangan Dinas\"}, {\"fpd.kode_rekening\": \"4.1.4.1.3.1.6\", \"fpd.terget_realita\": 0.0, \"fpd.totrealisasi_after\": 0.0, \"fpd.persetarget_all\": 0.0, \"dr.nama_rek\": \"01. Pokok Angsuran/Cicilan Penjualan Kendaraan Perorangan Dinas\"}, {\"fpd.kode_rekening\": \"4.1.4.1.3.1.7\", \"fpd.terget_realita\": 0.0, \"fpd.totrealisasi_after\": 0.0, \"fpd.persetarget_all\": 0.0, \"dr.nama_rek\": \"02. Denda Angsuran/Cicilan Penjualan Kendaraan Perorangan Dinas\"}, {\"fpd.kode_rekening\": \"4.1.4.1.3.1.8\", \"fpd.terget_realita\": 0.0, \"fpd.totrealisasi_after\": 0.0, \"fpd.persetarget_all\": 0.0, \"dr.nama_rek\": \"Angsuran/Cicilan Ganti Kerugian Barang Milik Daerah\"}, {\"fpd.kode_rekening\": \"4.1.4.1.3.1.9\", \"fpd.terget_realita\": 0.0, \"fpd.totrealisasi_after\": 0.0, \"fpd.persetarget_all\": 0.0, \"dr.nama_rek\": \"01. Pokok Angsuran/Cicilan Ganti Kerugian Barang Milik Daerah\"}, {\"fpd.kode_rekening\": \"4.1.4.1.3.1.10\", \"fpd.terget_realita\": 0.0, \"fpd.totrealisasi_after\": 0.0, \"fpd.persetarget_all\": 0.0, \"dr.nama_rek\": \"02. Denda Angsuran/Cicilan Ganti Kerugian Barang Milik Daerah\"}, {\"fpd.kode_rekening\": \"4.1.4.1.3.1.11\", \"fpd.terget_realita\": 0.0, \"fpd.totrealisasi_after\": 0.0, \"fpd.persetarget_all\": 0.0, \"dr.nama_rek\": \"Angsuran/Cicilan Rumah Susun\"}, {\"fpd.kode_rekening\": \"4.1.4.1.3.1.12\", \"fpd.terget_realita\": 0.0, \"fpd.totrealisasi_after\": 0.0, \"fpd.persetarget_all\": 0.0, \"dr.nama_rek\": \"01. Pokok Angsuran/Cicilan Rumah Susun\"}, {\"fpd.kode_rekening\": \"4.1.4.1.3.1.13\", \"fpd.terget_realita\": 0.0, \"fpd.totrealisasi_after\": 0.0, \"fpd.persetarget_all\": 0.0, \"dr.nama_rek\": \"02. Denda Angsuran/Cicilan Rumah Susun\"}, {\"fpd.kode_rekening\": \"4.1.4.1.3.2\", \"fpd.terget_realita\": 0.0, \"fpd.totrealisasi_after\": 0.0, \"fpd.persetarget_all\": 0.0, \"dr.nama_rek\": \"Hasil Penjualan Monumen\"}, {\"fpd.kode_rekening\": \"4.1.4.1.3.3\", \"fpd.terget_realita\": 0.0, \"fpd.totrealisasi_after\": 0.0, \"fpd.persetarget_all\": 0.0, \"dr.nama_rek\": \"Hasil Penjualan Bangunan Menara\"}, {\"fpd.kode_rekening\": \"4.1.4.1.3.4\", \"fpd.terget_realita\": 0.0, \"fpd.totrealisasi_after\": 0.0, \"fpd.persetarget_all\": 0.0, \"dr.nama_rek\": \"Hasil Penjualan Tugu Titik Kontrol/Pasti\"}, {\"fpd.kode_rekening\": \"4.1.4.1.4\", \"fpd.terget_realita\": 0.0, \"fpd.totrealisasi_after\": 0.0, \"fpd.persetarget_all\": 0.0, \"dr.nama_rek\": \"Hasil Penjualan Jalan, Jaringan, dan Irigasi\"}, {\"fpd.kode_rekening\": \"4.1.4.1.4.1.1\", \"fpd.terget_realita\": 0.0, \"fpd.totrealisasi_after\": 0.0, \"fpd.persetarget_all\": 0.0, \"dr.nama_rek\": \"Hasil Penjualan Jalan dan Jembatan\"}, {\"fpd.kode_rekening\": \"4.1.4.1.4.2\", \"fpd.terget_realita\": 0.0, \"fpd.totrealisasi_after\": 0.0, \"fpd.persetarget_all\": 0.0, \"dr.nama_rek\": \"Hasil Penjualan Jalan dan Jembatan\"}, {\"fpd.kode_rekening\": \"4.1.4.1.4.3\", \"fpd.terget_realita\": 0.0, \"fpd.totrealisasi_after\": 0.0, \"fpd.persetarget_all\": 0.0, \"dr.nama_rek\": \"Hasil Penjualan Instalasi\"}, {\"fpd.kode_rekening\": \"4.1.4.1.4.4\", \"fpd.terget_realita\": 0.0, \"fpd.totrealisasi_after\": 0.0, \"fpd.persetarget_all\": 0.0, \"dr.nama_rek\": \"Hasil Penjualan Jaringan\"}, {\"fpd.kode_rekening\": \"4.1.4.1.5\", \"fpd.terget_realita\": 0.0, \"fpd.totrealisasi_after\": 0.0, \"fpd.persetarget_all\": 0.0, \"dr.nama_rek\": \"Hasil Penjualan Aset Tetap Lainnya\"}, {\"fpd.kode_rekening\": \"4.1.4.1.5.1\", \"fpd.terget_realita\": 0.0, \"fpd.totrealisasi_after\": 0.0, \"fpd.persetarget_all\": 0.0, \"dr.nama_rek\": \"Hasil Penjualan Bahan Perpustakaan\"}, {\"fpd.kode_rekening\": \"4.1.4.1.5.2\", \"fpd.terget_realita\": 0.0, \"fpd.totrealisasi_after\": 0.0, \"fpd.persetarget_all\": 0.0, \"dr.nama_rek\": \"Hasil Penjualan Barang Bercorak Kesenian/Kebudayaan/Olahraga\"}, {\"fpd.kode_rekening\": \"4.1.4.1.5.3\", \"fpd.terget_realita\": 0.0, \"fpd.totrealisasi_after\": 0.0, \"fpd.persetarget_all\": 0.0, \"dr.nama_rek\": \"Hasil Penjualan Hewan\"}, {\"fpd.kode_rekening\": \"4.1.4.1.5.4\", \"fpd.terget_realita\": 0.0, \"fpd.totrealisasi_after\": 0.0, \"fpd.persetarget_all\": 0.0, \"dr.nama_rek\": \"Hasil Penjualan Biota Perairan\"}, {\"fpd.kode_rekening\": \"4.1.4.1.5.5\", \"fpd.terget_realita\": 0.0, \"fpd.totrealisasi_after\": 0.0, \"fpd.persetarget_all\": 0.0, \"dr.nama_rek\": \"Hasil Penjualan Tanaman\"}, {\"fpd.kode_rekening\": \"4.1.4.1.5.6\", \"fpd.terget_realita\": 0.0, \"fpd.totrealisasi_after\": 0.0, \"fpd.persetarget_all\": 0.0, \"dr.nama_rek\": \"Hasil Penjualan Barang Koleksi Non Budaya\"}, {\"fpd.kode_rekening\": \"4.1.4.1.5.7\", \"fpd.terget_realita\": 0.0, \"fpd.totrealisasi_after\": 0.0, \"fpd.persetarget_all\": 0.0, \"dr.nama_rek\": \"Hasil Penjualan Aset Tetap Dalam Renovasi\"}, {\"fpd.kode_rekening\": \"4.1.4.1.6\", \"fpd.terget_realita\": 300000000.0, \"fpd.totrealisasi_after\": 1771519400.0, \"fpd.persetarget_all\": 590.5064666666667, \"dr.nama_rek\": \"Hasil Penjualan Aset Lainnya\"}, {\"fpd.kode_rekening\": \"4.1.4.1.6.1\", \"fpd.terget_realita\": 300000000.0, \"fpd.totrealisasi_after\": 271519400.0, \"fpd.persetarget_all\": 90.50646666666667, \"dr.nama_rek\": \"Hasil Penjualan Aset Lainnya\"}, {\"fpd.kode_rekening\": \"4.1.4.2\", \"fpd.terget_realita\": 0.0, \"fpd.totrealisasi_after\": 0.0, \"fpd.persetarget_all\": 0.0, \"dr.nama_rek\": \"Hasil Selisih Lebih Tukar Menukar BMD yang Tidak Dipisahkan\"}, {\"fpd.kode_rekening\": \"4.1.4.2.1\", \"fpd.terget_realita\": 0.0, \"fpd.totrealisasi_after\": 0.0, \"fpd.persetarget_all\": 0.0, \"dr.nama_rek\": \"Hasil Selisih Lebih Tukar Menukar Tanah\"}, {\"fpd.kode_rekening\": \"4.1.4.2.1.1\", \"fpd.terget_realita\": 0.0, \"fpd.totrealisasi_after\": 0.0, \"fpd.persetarget_all\": 0.0, \"dr.nama_rek\": \"Hasil Selisih Lebih Tukar Menukar Tanah\"}, {\"fpd.kode_rekening\": \"4.1.4.2.2\", \"fpd.terget_realita\": 0.0, \"fpd.totrealisasi_after\": 0.0, \"fpd.persetarget_all\": 0.0, \"dr.nama_rek\": \"Hasil Selisih Lebih Tukar Menukar Peralatan dan Mesin\"}, {\"fpd.kode_rekening\": \"4.1.4.2.2.1\", \"fpd.terget_realita\": 0.0, \"fpd.totrealisasi_after\": 0.0, \"fpd.persetarget_all\": 0.0, \"dr.nama_rek\": \"Hasil Selisih Lebih Tukar Menukar Alat Besar\"}, {\"fpd.kode_rekening\": \"4.1.4.2.2.2\", \"fpd.terget_realita\": 0.0, \"fpd.totrealisasi_after\": 0.0, \"fpd.persetarget_all\": 0.0, \"dr.nama_rek\": \"Hasil Selisih Lebih Tukar Menukar Alat Angkutan\"}, {\"fpd.kode_rekening\": \"4.1.4.2.2.3\", \"fpd.terget_realita\": 0.0, \"fpd.totrealisasi_after\": 0.0, \"fpd.persetarget_all\": 0.0, \"dr.nama_rek\": \"Hasil Selisih Lebih Tukar Menukar Alat Bengkel dan Alat Ukur\"}, {\"fpd.kode_rekening\": \"4.1.4.2.2.4\", \"fpd.terget_realita\": 0.0, \"fpd.totrealisasi_after\": 0.0, \"fpd.persetarget_all\": 0.0, \"dr.nama_rek\": \"Hasil Selisih Lebih Tukar Menukar Alat Pertanian\"}, {\"fpd.kode_rekening\": \"4.1.4.2.2.5\", \"fpd.terget_realita\": 0.0, \"fpd.totrealisasi_after\": 0.0, \"fpd.persetarget_all\": 0.0, \"dr.nama_rek\": \"Hasil Selisih Lebih Tukar Menukar Alat Pertanian\"}, {\"fpd.kode_rekening\": \"4.1.4.2.2.6\", \"fpd.terget_realita\": 0.0, \"fpd.totrealisasi_after\": 0.0, \"fpd.persetarget_all\": 0.0, \"dr.nama_rek\": \"Hasil Selisih Lebih Tukar Menukar Alat Studio, Komunikasi, dan Pemancar\"}, {\"fpd.kode_rekening\": \"4.1.4.2.2.7\", \"fpd.terget_realita\": 0.0, \"fpd.totrealisasi_after\": 0.0, \"fpd.persetarget_all\": 0.0, \"dr.nama_rek\": \"Hasil Selisih Lebih Tukar Menukar Alat Kedokteran dan Kesehatan\"}, {\"fpd.kode_rekening\": \"4.1.4.2.2.8\", \"fpd.terget_realita\": 0.0, \"fpd.totrealisasi_after\": 0.0, \"fpd.persetarget_all\": 0.0, \"dr.nama_rek\": \"Hasil Selisih Lebih Tukar Menukar Alat Laboratorium\"}, {\"fpd.kode_rekening\": \"4.1.4.2.2.10\", \"fpd.terget_realita\": 0.0, \"fpd.totrealisasi_after\": 0.0, \"fpd.persetarget_all\": 0.0, \"dr.nama_rek\": \"Hasil Selisih Lebih Tukar Menukar Komputer\"}, {\"fpd.kode_rekening\": \"4.1.4.2.2.11\", \"fpd.terget_realita\": 0.0, \"fpd.totrealisasi_after\": 0.0, \"fpd.persetarget_all\": 0.0, \"dr.nama_rek\": \"Hasil Selisih Lebih Tukar Menukar Alat Eksplorasi\"}, {\"fpd.kode_rekening\": \"4.1.4.2.2.12\", \"fpd.terget_realita\": 0.0, \"fpd.totrealisasi_after\": 0.0, \"fpd.persetarget_all\": 0.0, \"dr.nama_rek\": \"Hasil Selisih Lebih Tukar Menukar Alat Pengeboran\"}, {\"fpd.kode_rekening\": \"4.1.4.2.2.13\", \"fpd.terget_realita\": 0.0, \"fpd.totrealisasi_after\": 0.0, \"fpd.persetarget_all\": 0.0, \"dr.nama_rek\": \"Hasil Selisih Lebih Tukar Menukar Alat Produksi, Pengolahan, dan Pemurnian\"}, {\"fpd.kode_rekening\": \"4.1.4.2.2.14\", \"fpd.terget_realita\": 0.0, \"fpd.totrealisasi_after\": 0.0, \"fpd.persetarget_all\": 0.0, \"dr.nama_rek\": \"Hasil Selisih Lebih Tukar Menukar Alat Bantu Eksplorasi\"}, {\"fpd.kode_rekening\": \"4.1.4.2.2.15\", \"fpd.terget_realita\": 0.0, \"fpd.totrealisasi_after\": 0.0, \"fpd.persetarget_all\": 0.0, \"dr.nama_rek\": \"Hasil Selisih Lebih Tukar Menukar Alat Keselamatan Kerja\"}, {\"fpd.kode_rekening\": \"4.1.4.2.2.16\", \"fpd.terget_realita\": 0.0, \"fpd.totrealisasi_after\": 0.0, \"fpd.persetarget_all\": 0.0, \"dr.nama_rek\": \"Hasil Selisih Lebih Tukar Menukar Alat Peraga\"}, {\"fpd.kode_rekening\": \"4.1.4.2.2.17\", \"fpd.terget_realita\": 0.0, \"fpd.totrealisasi_after\": 0.0, \"fpd.persetarget_all\": 0.0, \"dr.nama_rek\": \"Hasil Selisih Lebih Tukar Menukar Peralatan Proses/Produksi\"}, {\"fpd.kode_rekening\": \"4.1.4.2.2.18\", \"fpd.terget_realita\": 0.0, \"fpd.totrealisasi_after\": 0.0, \"fpd.persetarget_all\": 0.0, \"dr.nama_rek\": \"Hasil Selisih Lebih Tukar Menukar Rambu\\\\u0002Rambu\"}, {\"fpd.kode_rekening\": \"4.1.4.2.2.19\", \"fpd.terget_realita\": 0.0, \"fpd.totrealisasi_after\": 0.0, \"fpd.persetarget_all\": 0.0, \"dr.nama_rek\": \"Hasil Selisih Lebih Tukar Menukar Peralatan Olahraga\"}, {\"fpd.kode_rekening\": \"4.1.4.2.3\", \"fpd.terget_realita\": 0.0, \"fpd.totrealisasi_after\": 0.0, \"fpd.persetarget_all\": 0.0, \"dr.nama_rek\": \"Hasil Selisih Lebih Tukar Menukar Gedung dan Bangunan\"}, {\"fpd.kode_rekening\": \"4.1.4.2.3.1\", \"fpd.terget_realita\": 0.0, \"fpd.totrealisasi_after\": 0.0, \"fpd.persetarget_all\": 0.0, \"dr.nama_rek\": \"Hasil Selisih Lebih Tukar Menukar Bangunan Gedung\"}, {\"fpd.kode_rekening\": \"4.1.4.2.3.2\", \"fpd.terget_realita\": 0.0, \"fpd.totrealisasi_after\": 0.0, \"fpd.persetarget_all\": 0.0, \"dr.nama_rek\": \"Hasil Selisih Lebih Tukar Menukar Monumen\"}, {\"fpd.kode_rekening\": \"4.1.4.2.3.3\", \"fpd.terget_realita\": 0.0, \"fpd.totrealisasi_after\": 0.0, \"fpd.persetarget_all\": 0.0, \"dr.nama_rek\": \"Hasil Selisih Lebih Tukar Menukar Bangunan Menara\"}, {\"fpd.kode_rekening\": \"4.1.4.2.3.4\", \"fpd.terget_realita\": 0.0, \"fpd.totrealisasi_after\": 0.0, \"fpd.persetarget_all\": 0.0, \"dr.nama_rek\": \"Hasil Selisih Lebih Tukar Menukar Tugu Titik Kontrol/Pasti\"}, {\"fpd.kode_rekening\": \"4.1.4.2.4\", \"fpd.terget_realita\": 0.0, \"fpd.totrealisasi_after\": 0.0, \"fpd.persetarget_all\": 0.0, \"dr.nama_rek\": \"Hasil Selisih Lebih Tukar Menukar Jalan, Jaringan, dan Irigasi\"}, {\"fpd.kode_rekening\": \"4.1.4.2.4.2\", \"fpd.terget_realita\": 0.0, \"fpd.totrealisasi_after\": 0.0, \"fpd.persetarget_all\": 0.0, \"dr.nama_rek\": \"Hasil Selisih Lebih Tukar Menukar Bangunan Air\"}, {\"fpd.kode_rekening\": \"4.1.4.2.4.3\", \"fpd.terget_realita\": 0.0, \"fpd.totrealisasi_after\": 0.0, \"fpd.persetarget_all\": 0.0, \"dr.nama_rek\": \"Hasil Selisih Lebih Tukar Menukar Instalasi\"}, {\"fpd.kode_rekening\": \"4.1.4.2.4.4\", \"fpd.terget_realita\": 0.0, \"fpd.totrealisasi_after\": 0.0, \"fpd.persetarget_all\": 0.0, \"dr.nama_rek\": \"Hasil Selisih Lebih Tukar Menukar Jaringan\"}, {\"fpd.kode_rekening\": \"4.1.4.2.5\", \"fpd.terget_realita\": 0.0, \"fpd.totrealisasi_after\": 0.0, \"fpd.persetarget_all\": 0.0, \"dr.nama_rek\": \"Hasil Selisih Lebih Tukar Menukar Aset Tetap Lainnya\"}, {\"fpd.kode_rekening\": \"4.1.4.2.5.1\", \"fpd.terget_realita\": 0.0, \"fpd.totrealisasi_after\": 0.0, \"fpd.persetarget_all\": 0.0, \"dr.nama_rek\": \"Hasil Selisih Lebih Tukar Menukar Bahan Perpustakaan\"}, {\"fpd.kode_rekening\": \"4.1.4.2.5.2\", \"fpd.terget_realita\": 0.0, \"fpd.totrealisasi_after\": 0.0, \"fpd.persetarget_all\": 0.0, \"dr.nama_rek\": \"Hasil Selisih Lebih Tukar Menukar Barang Bercorak Kesenian/Kebudayaan/Olahraga\"}, {\"fpd.kode_rekening\": \"4.1.4.2.5.3\", \"fpd.terget_realita\": 0.0, \"fpd.totrealisasi_after\": 0.0, \"fpd.persetarget_all\": 0.0, \"dr.nama_rek\": \"Hasil Selisih Lebih Tukar Menukar Barang Bercorak Kesenian/Kebudayaan/Olahraga\"}, {\"fpd.kode_rekening\": \"4.1.4.2.5.4\", \"fpd.terget_realita\": 0.0, \"fpd.totrealisasi_after\": 0.0, \"fpd.persetarget_all\": 0.0, \"dr.nama_rek\": \"Hasil Selisih Lebih Tukar Menukar Biota Perairan\"}, {\"fpd.kode_rekening\": \"4.1.4.2.5.5\", \"fpd.terget_realita\": 0.0, \"fpd.totrealisasi_after\": 0.0, \"fpd.persetarget_all\": 0.0, \"dr.nama_rek\": \"Hasil Selisih Lebih Tukar Menukar Tanaman\"}, {\"fpd.kode_rekening\": \"4.1.4.2.5.6\", \"fpd.terget_realita\": 0.0, \"fpd.totrealisasi_after\": 0.0, \"fpd.persetarget_all\": 0.0, \"dr.nama_rek\": \"Hasil Selisih Lebih Tukar Menukar Barang Koleksi Non Budaya\"}, {\"fpd.kode_rekening\": \"4.1.4.2.5.7\", \"fpd.terget_realita\": 0.0, \"fpd.totrealisasi_after\": 0.0, \"fpd.persetarget_all\": 0.0, \"dr.nama_rek\": \"Hasil Selisih Lebih Tukar Menukar Aset Tetap Dalam Renovasi\"}, {\"fpd.kode_rekening\": \"4.1.4.2.6\", \"fpd.terget_realita\": 0.0, \"fpd.totrealisasi_after\": 0.0, \"fpd.persetarget_all\": 0.0, \"dr.nama_rek\": \"Hasil Selisih Lebih Tukar Menukar Aset Lainnya\"}, {\"fpd.kode_rekening\": \"4.1.4.2.6.1\", \"fpd.terget_realita\": 0.0, \"fpd.totrealisasi_after\": 0.0, \"fpd.persetarget_all\": 0.0, \"dr.nama_rek\": \"Hasil Selisih Lebih Tukar Menukar Aset Lainnya-Aset Tidak Berwujud\"}, {\"fpd.kode_rekening\": \"4.1.4.2.6.2\", \"fpd.terget_realita\": 0.0, \"fpd.totrealisasi_after\": 0.0, \"fpd.persetarget_all\": 0.0, \"dr.nama_rek\": \"Hasil Selisih Lebih Tukar Menukar Aset Lainnya-Aset Lain-Lain\"}, {\"fpd.kode_rekening\": \"4.1.4.3\", \"fpd.terget_realita\": 0.0, \"fpd.totrealisasi_after\": 0.0, \"fpd.persetarget_all\": 0.0, \"dr.nama_rek\": \"Hasil Pemanfaatan BMD yang Tidak Dipisahkan\"}, {\"fpd.kode_rekening\": \"4.1.4.3.1\", \"fpd.terget_realita\": 0.0, \"fpd.totrealisasi_after\": 0.0, \"fpd.persetarget_all\": 0.0, \"dr.nama_rek\": \"Hasil Sewa BMD\"}, {\"fpd.kode_rekening\": \"4.1.4.3.1.1\", \"fpd.terget_realita\": 0.0, \"fpd.totrealisasi_after\": 0.0, \"fpd.persetarget_all\": 0.0, \"dr.nama_rek\": \"Hasil Sewa BMD\"}, {\"fpd.kode_rekening\": \"4.1.4.3.2\", \"fpd.terget_realita\": 0.0, \"fpd.totrealisasi_after\": 0.0, \"fpd.persetarget_all\": 0.0, \"dr.nama_rek\": \"Hasil Kerja Sama Pemanfaatan BMD\"}, {\"fpd.kode_rekening\": \"4.1.4.3.2.1\", \"fpd.terget_realita\": 0.0, \"fpd.totrealisasi_after\": 0.0, \"fpd.persetarget_all\": 0.0, \"dr.nama_rek\": \"Hasil Kerja Sama Pemanfaatan BMD\"}, {\"fpd.kode_rekening\": \"4.1.4.3.3\", \"fpd.terget_realita\": 0.0, \"fpd.totrealisasi_after\": 0.0, \"fpd.persetarget_all\": 0.0, \"dr.nama_rek\": \"Hasil dari Bangun Guna Serah\"}, {\"fpd.kode_rekening\": \"4.1.4.3.3.1\", \"fpd.terget_realita\": 0.0, \"fpd.totrealisasi_after\": 0.0, \"fpd.persetarget_all\": 0.0, \"dr.nama_rek\": \"Hasil dari Bangun Guna Serah\"}, {\"fpd.kode_rekening\": \"4.1.4.3.4\", \"fpd.terget_realita\": 0.0, \"fpd.totrealisasi_after\": 0.0, \"fpd.persetarget_all\": 0.0, \"dr.nama_rek\": \"Hasil dari Bangun Serah Guna\"}, {\"fpd.kode_rekening\": \"4.1.4.3.4.1\", \"fpd.terget_realita\": 0.0, \"fpd.totrealisasi_after\": 0.0, \"fpd.persetarget_all\": 0.0, \"dr.nama_rek\": \"Hasil dari Bangun Serah Guna\"}, {\"fpd.kode_rekening\": \"4.1.4.3.5\", \"fpd.terget_realita\": 0.0, \"fpd.totrealisasi_after\": 0.0, \"fpd.persetarget_all\": 0.0, \"dr.nama_rek\": \"Hasil dari Kerja Sama Penyediaan Infrastruktur\"}, {\"fpd.kode_rekening\": \"4.1.4.3.5.1\", \"fpd.terget_realita\": 0.0, \"fpd.totrealisasi_after\": 0.0, \"fpd.persetarget_all\": 0.0, \"dr.nama_rek\": \"Hasil dari Kerja Sama Penyediaan Infrastruktur\"}, {\"fpd.kode_rekening\": \"4.1.4.4\", \"fpd.terget_realita\": 22365000000.0, \"fpd.totrealisasi_after\": 14888367007.25, \"fpd.persetarget_all\": 66.56993967024368, \"dr.nama_rek\": \"Hasil Kerja Sama Daerah\"}, {\"fpd.kode_rekening\": \"4.1.4.4.1\", \"fpd.terget_realita\": 22365000000.0, \"fpd.totrealisasi_after\": 14888367007.25, \"fpd.persetarget_all\": 66.56993967024368, \"dr.nama_rek\": \"Hasil Kerja Sama Daerah\"}, {\"fpd.kode_rekening\": \"4.1.4.4.1.1\", \"fpd.terget_realita\": 22365000000.0, \"fpd.totrealisasi_after\": 14888367007.25, \"fpd.persetarget_all\": 66.56993967024368, \"dr.nama_rek\": \"Hasil Kerja Sama Daerah\"}, {\"fpd.kode_rekening\": \"4.1.4.4.1.1.1\", \"fpd.terget_realita\": 0.0, \"fpd.totrealisasi_after\": 138290444.25, \"fpd.persetarget_all\": 100.0, \"dr.nama_rek\": \"01. PT. Samaco (Mahakam Lampion Garden)\"}, {\"fpd.kode_rekening\": \"4.1.4.4.1.1.2\", \"fpd.terget_realita\": 16000000000.0, \"fpd.totrealisasi_after\": 11121212906.0, \"fpd.persetarget_all\": 69.5075806625, \"dr.nama_rek\": \"03. PT. Pelabuhan Samudera Palaran (PSP)\"}, {\"fpd.kode_rekening\": \"4.1.4.4.1.1.3\", \"fpd.terget_realita\": 6240000000.0, \"fpd.totrealisasi_after\": 3628863657.0, \"fpd.persetarget_all\": 58.154866298076925, \"dr.nama_rek\": \"04. PT. Wahana Abadi Tirtateknilka Sejati (WATS)\"}, {\"fpd.kode_rekening\": \"4.1.4.4.1.1.4\", \"fpd.terget_realita\": 0.0, \"fpd.totrealisasi_after\": 0.0, \"fpd.persetarget_all\": 0.0, \"dr.nama_rek\": \"02. PERUSAHAAN PATUNGAN\"}, {\"fpd.kode_rekening\": \"4.1.4.4.1.1.5\", \"fpd.terget_realita\": 125000000.0, \"fpd.totrealisasi_after\": 0.0, \"fpd.persetarget_all\": 0.0, \"dr.nama_rek\": \"  a. Pasar Segiri (PT. Yudha Putera Kaltim)\"}, {\"fpd.kode_rekening\": \"4.1.4.4.1.1.6\", \"fpd.terget_realita\": 0.0, \"fpd.totrealisasi_after\": 0.0, \"fpd.persetarget_all\": 0.0, \"dr.nama_rek\": \"  b. Pasar Sungai Dama (PT. Surya Rizky Reza Jaya Abadi)\"}, {\"fpd.kode_rekening\": \"4.1.4.4.1.1.7\", \"fpd.terget_realita\": 0.0, \"fpd.totrealisasi_after\": 0.0, \"fpd.persetarget_all\": 0.0, \"dr.nama_rek\": \"  c. Pasar Kedondong (PT. Bahana Surya Sentosa)\"}, {\"fpd.kode_rekening\": \"4.1.4.4.1.1.8\", \"fpd.terget_realita\": 0.0, \"fpd.totrealisasi_after\": 0.0, \"fpd.persetarget_all\": 0.0, \"dr.nama_rek\": \"  d. Pasar Pagi (PT. Buluh Perindu)\"}, {\"fpd.kode_rekening\": \"4.1.4.5\", \"fpd.terget_realita\": 10000000000.0, \"fpd.totrealisasi_after\": 7300884130.26, \"fpd.persetarget_all\": 73.0088413026, \"dr.nama_rek\": \"Jasa Giro\"}, {\"fpd.kode_rekening\": \"4.1.4.5.1\", \"fpd.terget_realita\": 0.0, \"fpd.totrealisasi_after\": 4892541149.9, \"fpd.persetarget_all\": 100.0, \"dr.nama_rek\": \"Jasa Giro pada Kas Daerah\"}, {\"fpd.kode_rekening\": \"4.1.4.5.1.1\", \"fpd.terget_realita\": 0.0, \"fpd.totrealisasi_after\": 4892541149.9, \"fpd.persetarget_all\": 100.0, \"dr.nama_rek\": \"Jasa Giro pada Kas Daerah\"}, {\"fpd.kode_rekening\": \"4.1.4.5.2\", \"fpd.terget_realita\": 0.0, \"fpd.totrealisasi_after\": 2408342980.36, \"fpd.persetarget_all\": 100.0, \"dr.nama_rek\": \"Jasa Giro pada Kas di Bendahara\"}, {\"fpd.kode_rekening\": \"4.1.4.5.2.1\", \"fpd.terget_realita\": 0.0, \"fpd.totrealisasi_after\": 2408342980.36, \"fpd.persetarget_all\": 100.0, \"dr.nama_rek\": \"Jasa Giro pada Kas di Bendahara\"}, {\"fpd.kode_rekening\": \"4.1.4.5.3\", \"fpd.terget_realita\": 0.0, \"fpd.totrealisasi_after\": 0.0, \"fpd.persetarget_all\": 0.0, \"dr.nama_rek\": \"Jasa Giro pada Rekening Dana Cadangan\"}, {\"fpd.kode_rekening\": \"4.1.4.5.3.1\", \"fpd.terget_realita\": 0.0, \"fpd.totrealisasi_after\": 0.0, \"fpd.persetarget_all\": 0.0, \"dr.nama_rek\": \"Jasa Giro pada Rekening Dana Cadangan\"}, {\"fpd.kode_rekening\": \"4.1.4.5.4\", \"fpd.terget_realita\": 0.0, \"fpd.totrealisasi_after\": 0.0, \"fpd.persetarget_all\": 0.0, \"dr.nama_rek\": \"Jasa Giro pada Rekening Dana BOS\"}, {\"fpd.kode_rekening\": \"4.1.4.5.4.1\", \"fpd.terget_realita\": 0.0, \"fpd.totrealisasi_after\": 0.0, \"fpd.persetarget_all\": 0.0, \"dr.nama_rek\": \"Jasa Giro pada Rekening Dana BOS\"}, {\"fpd.kode_rekening\": \"4.1.4.5.5\", \"fpd.terget_realita\": 0.0, \"fpd.totrealisasi_after\": 0.0, \"fpd.persetarget_all\": 0.0, \"dr.nama_rek\": \"Jasa Giro Dana Kapitasi pada FKTP\"}, {\"fpd.kode_rekening\": \"4.1.4.5.5.1\", \"fpd.terget_realita\": 0.0, \"fpd.totrealisasi_after\": 0.0, \"fpd.persetarget_all\": 0.0, \"dr.nama_rek\": \"Jasa Giro Dana Kapitasi pada FKTP\"}, {\"fpd.kode_rekening\": \"4.1.4.6\", \"fpd.terget_realita\": 0.0, \"fpd.totrealisasi_after\": 0.0, \"fpd.persetarget_all\": 0.0, \"dr.nama_rek\": \"Hasil Pengelolaan Dana Bergulir\"}, {\"fpd.kode_rekening\": \"4.1.4.6.6\", \"fpd.terget_realita\": 0.0, \"fpd.totrealisasi_after\": 0.0, \"fpd.persetarget_all\": 0.0, \"dr.nama_rek\": \"Hasil Pengelolaan Dana Bergulir\"}, {\"fpd.kode_rekening\": \"4.1.4.6.6.1\", \"fpd.terget_realita\": 0.0, \"fpd.totrealisasi_after\": 0.0, \"fpd.persetarget_all\": 0.0, \"dr.nama_rek\": \"Hasil Pengelolaan Dana Bergulir\"}, {\"fpd.kode_rekening\": \"4.1.4.7\", \"fpd.terget_realita\": 0.0, \"fpd.totrealisasi_after\": 16692842770.27, \"fpd.persetarget_all\": 100.0, \"dr.nama_rek\": \"Pendapatan Bunga\"}, {\"fpd.kode_rekening\": \"4.1.4.7.1\", \"fpd.terget_realita\": 0.0, \"fpd.totrealisasi_after\": 16692842770.27, \"fpd.persetarget_all\": 100.0, \"dr.nama_rek\": \"Pendapatan Bunga atas Penempatan Uang Pemerintah Daerah\"}, {\"fpd.kode_rekening\": \"4.1.4.7.1.1\", \"fpd.terget_realita\": 0.0, \"fpd.totrealisasi_after\": 16692842770.27, \"fpd.persetarget_all\": 100.0, \"dr.nama_rek\": \"Pendapatan Bunga atas Penempatan Uang Pemerintah Daerah\"}, {\"fpd.kode_rekening\": \"4.1.4.22\", \"fpd.terget_realita\": 0.0, \"fpd.totrealisasi_after\": 0.0, \"fpd.persetarget_all\": 0.0, \"dr.nama_rek\": \"Pendapatan Zakat, Infaq, Shadaqah, dan Wakaf\"}, {\"fpd.kode_rekening\": \"4.1.4.8\", \"fpd.terget_realita\": 0.0, \"fpd.totrealisasi_after\": 0.0, \"fpd.persetarget_all\": 0.0, \"dr.nama_rek\": \"Penerimaan atas Tuntutan Ganti Kerugian Keuangan Daerah\"}, {\"fpd.kode_rekening\": \"4.1.4.8.1\", \"fpd.terget_realita\": 0.0, \"fpd.totrealisasi_after\": 0.0, \"fpd.persetarget_all\": 0.0, \"dr.nama_rek\": \"Tuntutan Ganti Kerugian Daerah terhadap Bendahara\"}, {\"fpd.kode_rekening\": \"4.1.4.8.1.1\", \"fpd.terget_realita\": 0.0, \"fpd.totrealisasi_after\": 0.0, \"fpd.persetarget_all\": 0.0, \"dr.nama_rek\": \"Tuntutan Ganti Kerugian Daerah terhadap Bendahara\"}, {\"fpd.kode_rekening\": \"4.1.4.8.2\", \"fpd.terget_realita\": 0.0, \"fpd.totrealisasi_after\": 0.0, \"fpd.persetarget_all\": 0.0, \"dr.nama_rek\": \"Tuntutan Ganti Kerugian Daerah terhadap Pegawai Negeri Bukan Bendahara atau Pejabat Lain\"}, {\"fpd.kode_rekening\": \"4.1.4.8.2.1\", \"fpd.terget_realita\": 0.0, \"fpd.totrealisasi_after\": 0.0, \"fpd.persetarget_all\": 0.0, \"dr.nama_rek\": \"Tuntutan Ganti Kerugian Daerah terhadap Pegawai Negeri Bukan Bendahara atau Pejabat Lain\"}, {\"fpd.kode_rekening\": \"4.1.4.9\", \"fpd.terget_realita\": 2999361674.0, \"fpd.totrealisasi_after\": 4178100910.26, \"fpd.persetarget_all\": 139.29966987569102, \"dr.nama_rek\": \"Penerimaan Komisi, Potongan, atau Bentuk Lain\"}, {\"fpd.kode_rekening\": \"4.1.4.9.1\", \"fpd.terget_realita\": 2999361674.0, \"fpd.totrealisasi_after\": 4178100910.26, \"fpd.persetarget_all\": 139.29966987569102, \"dr.nama_rek\": \"Penerimaan Komisi, Potongan, atau Bentuk Lain\"}, {\"fpd.kode_rekening\": \"4.1.4.9.1.1\", \"fpd.terget_realita\": 2999361674.0, \"fpd.totrealisasi_after\": 4178100910.26, \"fpd.persetarget_all\": 139.29966987569102, \"dr.nama_rek\": \"Penerimaan Komisi, Potongan, atau Bentuk Lain\"}, {\"fpd.kode_rekening\": \"4.1.4.9.1.1.1\", \"fpd.terget_realita\": 2999361674.0, \"fpd.totrealisasi_after\": 4178100910.26, \"fpd.persetarget_all\": 139.29966987569102, \"dr.nama_rek\": \"01. Penerimaan Lain-Lain (Lebih Bayar Pendapatan Pajak / Retribusi atau penerimaan PAD Lain-lainnya)\"}, {\"fpd.kode_rekening\": \"4.1.4.10\", \"fpd.terget_realita\": 0.0, \"fpd.totrealisasi_after\": 0.0, \"fpd.persetarget_all\": 0.0, \"dr.nama_rek\": \"Penerimaan Keuntungan dari Selisih Nilai Tukar Rupiah terhadap Mata Uang Asing\"}, {\"fpd.kode_rekening\": \"4.1.4.10.1\", \"fpd.terget_realita\": 0.0, \"fpd.totrealisasi_after\": 0.0, \"fpd.persetarget_all\": 0.0, \"dr.nama_rek\": \"Penerimaan Keuntungan dari Selisih Nilai Tukar Rupiah terhadap Mata Uang Asing\"}, {\"fpd.kode_rekening\": \"4.1.4.10.1.1\", \"fpd.terget_realita\": 0.0, \"fpd.totrealisasi_after\": 0.0, \"fpd.persetarget_all\": 0.0, \"dr.nama_rek\": \"Penerimaan Keuntungan dari Selisih Nilai Tukar Rupiah terhadap Mata Uang Asing\"}, {\"fpd.kode_rekening\": \"4.1.4.11\", \"fpd.terget_realita\": 1000000000.0, \"fpd.totrealisasi_after\": 105183975.5, \"fpd.persetarget_all\": 10.51839755, \"dr.nama_rek\": \"Pendapatan Denda atas Keterlambatan Pelaksanaan Pekerjaan\"}, {\"fpd.kode_rekening\": \"4.1.4.11.1\", \"fpd.terget_realita\": 1000000000.0, \"fpd.totrealisasi_after\": 105183975.5, \"fpd.persetarget_all\": 10.51839755, \"dr.nama_rek\": \"Pendapatan Denda atas Keterlambatan Pelaksanaan Pekerjaan\"}, {\"fpd.kode_rekening\": \"4.1.4.11.1.1\", \"fpd.terget_realita\": 1000000000.0, \"fpd.totrealisasi_after\": 105183975.5, \"fpd.persetarget_all\": 10.51839755, \"dr.nama_rek\": \"Pendapatan Denda atas Keterlambatan Pelaksanaan Pekerjaan\"}, {\"fpd.kode_rekening\": \"4.1.4.12\", \"fpd.terget_realita\": 2000000000.0, \"fpd.totrealisasi_after\": 5383763272.62, \"fpd.persetarget_all\": 269.18816363099995, \"dr.nama_rek\": \"Pendapatan Denda Pajak Daerah\"}, {\"fpd.kode_rekening\": \"4.1.4.12.6\", \"fpd.terget_realita\": 112000000.0, \"fpd.totrealisasi_after\": 1096310505.4, \"fpd.persetarget_all\": 978.8486655357143, \"dr.nama_rek\": \"Pendapatan Denda Pajak Hotel\"}, {\"fpd.kode_rekening\": \"4.1.4.12.6.1\", \"fpd.terget_realita\": 112000000.0, \"fpd.totrealisasi_after\": 1096310505.4, \"fpd.persetarget_all\": 978.8486655357143, \"dr.nama_rek\": \"Pendapatan Denda Pajak Hotel\"}, {\"fpd.kode_rekening\": \"4.1.4.12.7\", \"fpd.terget_realita\": 387000000.0, \"fpd.totrealisasi_after\": 410546403.38, \"fpd.persetarget_all\": 106.08434195865632, \"dr.nama_rek\": \"Pendapatan Denda Pajak Restoran\"}, {\"fpd.kode_rekening\": \"4.1.4.12.7.1\", \"fpd.terget_realita\": 387000000.0, \"fpd.totrealisasi_after\": 410546403.38, \"fpd.persetarget_all\": 106.08434195865632, \"dr.nama_rek\": \"Pendapatan Denda Pajak Restoran dan Sejenisnya\"}, {\"fpd.kode_rekening\": \"4.1.4.12.8\", \"fpd.terget_realita\": 14300000.0, \"fpd.totrealisasi_after\": 605372388.73, \"fpd.persetarget_all\": 4233.373347762238, \"dr.nama_rek\": \"Pendapatan Denda Pajak Hiburan\"}, {\"fpd.kode_rekening\": \"4.1.4.12.8.1\", \"fpd.terget_realita\": 14300000.0, \"fpd.totrealisasi_after\": 605372388.73, \"fpd.persetarget_all\": 4233.373347762238, \"dr.nama_rek\": \"Pendapatan Denda Pajak Hiburan dan Sejenisnya\"}, {\"fpd.kode_rekening\": \"4.1.4.12.9\", \"fpd.terget_realita\": 105000000.0, \"fpd.totrealisasi_after\": 55666162.0, \"fpd.persetarget_all\": 53.015392380952385, \"dr.nama_rek\": \"Pendapatan Denda Pajak Reklame\"}, {\"fpd.kode_rekening\": \"4.1.4.12.9.1\", \"fpd.terget_realita\": 105000000.0, \"fpd.totrealisasi_after\": 55666162.0, \"fpd.persetarget_all\": 53.015392380952385, \"dr.nama_rek\": \"Pendapatan Denda Pajak Reklame dan Sejenisnya\"}, {\"fpd.kode_rekening\": \"4.1.4.12.10\", \"fpd.terget_realita\": 6700000.0, \"fpd.totrealisasi_after\": 153832.08, \"fpd.persetarget_all\": 2.2960011940298504, \"dr.nama_rek\": \"Pendapatan Denda Pajak Tenaga Listrik\"}, {\"fpd.kode_rekening\": \"4.1.4.12.10.1\", \"fpd.terget_realita\": 6700000.0, \"fpd.totrealisasi_after\": 153832.08, \"fpd.persetarget_all\": 2.2960011940298504, \"dr.nama_rek\": \"Pendapatan Denda Pajak Tenaga Listrik\"}, {\"fpd.kode_rekening\": \"4.1.4.12.11\", \"fpd.terget_realita\": 57300000.0, \"fpd.totrealisasi_after\": 30630865.0, \"fpd.persetarget_all\": 53.45700698080279, \"dr.nama_rek\": \"Pendapatan Denda Pajak Parkir\"}, {\"fpd.kode_rekening\": \"4.1.4.12.11.1\", \"fpd.terget_realita\": 57300000.0, \"fpd.totrealisasi_after\": 30630865.0, \"fpd.persetarget_all\": 53.45700698080279, \"dr.nama_rek\": \"Pendapatan Denda Pajak Parkir\"}, {\"fpd.kode_rekening\": \"4.1.4.12.12\", \"fpd.terget_realita\": 2200000.0, \"fpd.totrealisasi_after\": 274037.0, \"fpd.persetarget_all\": 12.456227272727274, \"dr.nama_rek\": \"Pendapatan Denda Pajak Air Tanah\"}, {\"fpd.kode_rekening\": \"4.1.4.12.12.1\", \"fpd.terget_realita\": 2200000.0, \"fpd.totrealisasi_after\": 274037.0, \"fpd.persetarget_all\": 12.456227272727274, \"dr.nama_rek\": \"Pendapatan Denda Pajak Air Tanah\"}, {\"fpd.kode_rekening\": \"4.1.4.12.13\", \"fpd.terget_realita\": 15500000.0, \"fpd.totrealisasi_after\": 0.0, \"fpd.persetarget_all\": 0.0, \"dr.nama_rek\": \"Pendapatan Denda Pajak Sarang Burung \\\\nWalet\"}, {\"fpd.kode_rekening\": \"4.1.4.12.13.1\", \"fpd.terget_realita\": 15500000.0, \"fpd.totrealisasi_after\": 0.0, \"fpd.persetarget_all\": 0.0, \"dr.nama_rek\": \"Pendapatan Denda Pajak Sarang Burung Walet\"}, {\"fpd.kode_rekening\": \"4.1.4.12.14\", \"fpd.terget_realita\": 0.0, \"fpd.totrealisasi_after\": 0.0, \"fpd.persetarget_all\": 0.0, \"dr.nama_rek\": \"Pendapatan Denda Pajak Mineral Bukan Logam dan Batuan\"}, {\"fpd.kode_rekening\": \"4.1.4.12.14.1\", \"fpd.terget_realita\": 0.0, \"fpd.totrealisasi_after\": 0.0, \"fpd.persetarget_all\": 0.0, \"dr.nama_rek\": \"Pendapatan Denda Pajak Mineral Bukan Logam dan Batuan\"}, {\"fpd.kode_rekening\": \"4.1.4.12.15\", \"fpd.terget_realita\": 1300000000.0, \"fpd.totrealisasi_after\": 3182809079.03, \"fpd.persetarget_all\": 244.8314676176923, \"dr.nama_rek\": \"Pendapatan Denda Pajak Bumi dan Bangunan Perdesaan dan Perkotaan (PBBP2)\"}, {\"fpd.kode_rekening\": \"4.1.4.12.15.1\", \"fpd.terget_realita\": 1300000000.0, \"fpd.totrealisasi_after\": 3182809079.03, \"fpd.persetarget_all\": 244.8314676176923, \"dr.nama_rek\": \"Pendapatan Denda PBBP2\"}, {\"fpd.kode_rekening\": \"4.1.4.12.16\", \"fpd.terget_realita\": 0.0, \"fpd.totrealisasi_after\": 2000000.0, \"fpd.persetarget_all\": 100.0, \"dr.nama_rek\": \"Pendapatan Denda Bea Perolehan Hak atas Tanah dan Bangunan (BPHTB)\"}, {\"fpd.kode_rekening\": \"4.1.4.12.16.1\", \"fpd.terget_realita\": 0.0, \"fpd.totrealisasi_after\": 0.0, \"fpd.persetarget_all\": 0.0, \"dr.nama_rek\": \"Pendapatan Denda BPHTB-Pemindahan Hak\"}, {\"fpd.kode_rekening\": \"4.1.4.12.16.2\", \"fpd.terget_realita\": 0.0, \"fpd.totrealisasi_after\": 2000000.0, \"fpd.persetarget_all\": 100.0, \"dr.nama_rek\": \"Pendapatan Denda BPHTB-Pemberian Hak Baru\"}, {\"fpd.kode_rekening\": \"4.1.4.13\", \"fpd.terget_realita\": 600000000.0, \"fpd.totrealisasi_after\": 77621441.0, \"fpd.persetarget_all\": 12.936906833333333, \"dr.nama_rek\": \"Pendapatan Denda Retribusi Daerah\"}, {\"fpd.kode_rekening\": \"4.1.4.13.1\", \"fpd.terget_realita\": 0.0, \"fpd.totrealisasi_after\": 9924082.0, \"fpd.persetarget_all\": 100.0, \"dr.nama_rek\": \"Pendapatan Denda Retribusi Jasa Umum\"}, {\"fpd.kode_rekening\": \"4.1.4.13.1.1\", \"fpd.terget_realita\": 0.0, \"fpd.totrealisasi_after\": 9924082.0, \"fpd.persetarget_all\": 100.0, \"dr.nama_rek\": \"Pendapatan Denda Retribusi Jasa Umum\"}, {\"fpd.kode_rekening\": \"4.1.4.13.2\", \"fpd.terget_realita\": 0.0, \"fpd.totrealisasi_after\": 67697359.0, \"fpd.persetarget_all\": 100.0, \"dr.nama_rek\": \"Pendapatan Denda Retribusi Jasa Usaha\"}, {\"fpd.kode_rekening\": \"4.1.4.13.2.1\", \"fpd.terget_realita\": 0.0, \"fpd.totrealisasi_after\": 67697359.0, \"fpd.persetarget_all\": 100.0, \"dr.nama_rek\": \"Pendapatan Denda Retribusi Jasa Usaha\"}, {\"fpd.kode_rekening\": \"4.1.4.13.3\", \"fpd.terget_realita\": 0.0, \"fpd.totrealisasi_after\": 0.0, \"fpd.persetarget_all\": 0.0, \"dr.nama_rek\": \"Pendapatan Denda Retribusi Perizinan Tertentu\"}, {\"fpd.kode_rekening\": \"4.1.4.13.3.1\", \"fpd.terget_realita\": 0.0, \"fpd.totrealisasi_after\": 0.0, \"fpd.persetarget_all\": 0.0, \"dr.nama_rek\": \"Pendapatan Denda Retribusi Izin Mendirikan Bangunan\"}, {\"fpd.kode_rekening\": \"4.1.4.22.1\", \"fpd.terget_realita\": 0.0, \"fpd.totrealisasi_after\": 0.0, \"fpd.persetarget_all\": 0.0, \"dr.nama_rek\": \"Pendapatan Zakat\"}, {\"fpd.kode_rekening\": \"4.1.4.13.3.2\", \"fpd.terget_realita\": 0.0, \"fpd.totrealisasi_after\": 0.0, \"fpd.persetarget_all\": 0.0, \"dr.nama_rek\": \"Pendapatan Denda Retribusi Izin Tempat Penjualan Minuman Beralkohol\"}, {\"fpd.kode_rekening\": \"4.1.4.13.3.3\", \"fpd.terget_realita\": 0.0, \"fpd.totrealisasi_after\": 0.0, \"fpd.persetarget_all\": 0.0, \"dr.nama_rek\": \"Pendapatan Denda Retribusi Izin Tempat Penjualan Minuman Beralkohol\"}, {\"fpd.kode_rekening\": \"4.1.4.13.3.4\", \"fpd.terget_realita\": 0.0, \"fpd.totrealisasi_after\": 0.0, \"fpd.persetarget_all\": 0.0, \"dr.nama_rek\": \"Pendapatan Denda Retribusi Izin Usaha Perikanan\"}, {\"fpd.kode_rekening\": \"4.1.4.13.3.5\", \"fpd.terget_realita\": 0.0, \"fpd.totrealisasi_after\": 0.0, \"fpd.persetarget_all\": 0.0, \"dr.nama_rek\": \"Pendapatan Denda Retribusi Pengendalian Lalu Lintas\"}, {\"fpd.kode_rekening\": \"4.1.4.13.3.6\", \"fpd.terget_realita\": 0.0, \"fpd.totrealisasi_after\": 0.0, \"fpd.persetarget_all\": 0.0, \"dr.nama_rek\": \"Pendapatan Denda Retribusi Perpanjangan Izin Mempekerjakan Tenaga Kerja Asing (IMTA)\"}, {\"fpd.kode_rekening\": \"4.1.4.14\", \"fpd.terget_realita\": 0.0, \"fpd.totrealisasi_after\": 0.0, \"fpd.persetarget_all\": 0.0, \"dr.nama_rek\": \"Pendapatan Hasil Eksekusi atas Jaminan\"}, {\"fpd.kode_rekening\": \"4.1.4.14.1\", \"fpd.terget_realita\": 0.0, \"fpd.totrealisasi_after\": 0.0, \"fpd.persetarget_all\": 0.0, \"dr.nama_rek\": \"Hasil Eksekusi atas Jaminan atas Pengadaan Barang/Jasa\"}, {\"fpd.kode_rekening\": \"4.1.4.14.1.1\", \"fpd.terget_realita\": 0.0, \"fpd.totrealisasi_after\": 0.0, \"fpd.persetarget_all\": 0.0, \"dr.nama_rek\": \"Hasil Eksekusi atas Jaminan atas Pengadaan Barang/Jasa\"}, {\"fpd.kode_rekening\": \"4.1.4.15\", \"fpd.terget_realita\": 1000000000.0, \"fpd.totrealisasi_after\": 385665037.35, \"fpd.persetarget_all\": 38.566503735000005, \"dr.nama_rek\": \"Pendapatan dari Pengembalian\"}, {\"fpd.kode_rekening\": \"4.1.4.15.1\", \"fpd.terget_realita\": 0.0, \"fpd.totrealisasi_after\": 0.0, \"fpd.persetarget_all\": 0.0, \"dr.nama_rek\": \"Pendapatan dari Pengembalian Kelebihan Pembayaran Pajak Penghasilan Pasal 21\"}, {\"fpd.kode_rekening\": \"4.1.4.15.1.1\", \"fpd.terget_realita\": 0.0, \"fpd.totrealisasi_after\": 0.0, \"fpd.persetarget_all\": 0.0, \"dr.nama_rek\": \"Pendapatan dari Pengembalian Kelebihan Pembayaran Pajak Penghasilan Pasal 21\"}, {\"fpd.kode_rekening\": \"4.1.4.15.2\", \"fpd.terget_realita\": 0.0, \"fpd.totrealisasi_after\": 0.0, \"fpd.persetarget_all\": 0.0, \"dr.nama_rek\": \"Pendapatan dari Pengembalian Kelebihan Pembayaran Iuran Simpanan Peserta Tabungan Perumahan Rakyat ASN\"}, {\"fpd.kode_rekening\": \"4.1.4.15.2.1\", \"fpd.terget_realita\": 0.0, \"fpd.totrealisasi_after\": 0.0, \"fpd.persetarget_all\": 0.0, \"dr.nama_rek\": \"Pendapatan dari Pengembalian Kelebihan Pembayaran Iuran Simpanan Peserta Tabungan Perumahan Rakyat PNS\"}, {\"fpd.kode_rekening\": \"4.1.4.15.2.2\", \"fpd.terget_realita\": 0.0, \"fpd.totrealisasi_after\": 0.0, \"fpd.persetarget_all\": 0.0, \"dr.nama_rek\": \"Pendapatan dari Pengembalian Kelebihan Pembayaran Iuran Simpanan Peserta Tabungan Perumahan Rakyat PPPK\"}, {\"fpd.kode_rekening\": \"4.1.4.15.3\", \"fpd.terget_realita\": 0.0, \"fpd.totrealisasi_after\": 207803393.35, \"fpd.persetarget_all\": 100.0, \"dr.nama_rek\": \"Pendapatan dari Pengembalian Kelebihan Pembayaran Gaji dan Tunjangan\"}, {\"fpd.kode_rekening\": \"4.1.4.15.3.1\", \"fpd.terget_realita\": 0.0, \"fpd.totrealisasi_after\": 207803393.35, \"fpd.persetarget_all\": 100.0, \"dr.nama_rek\": \"Pendapatan dari Pengembalian Kelebihan Pembayaran Gaji dan Tunjangan\"}, {\"fpd.kode_rekening\": \"4.1.4.15.4\", \"fpd.terget_realita\": 0.0, \"fpd.totrealisasi_after\": 177861644.0, \"fpd.persetarget_all\": 100.0, \"dr.nama_rek\": \"Pendapatan dari Pengembalian Kelebihan Pembayaran Perjalanan Dinas\"}, {\"fpd.kode_rekening\": \"4.1.4.15.4.1\", \"fpd.terget_realita\": 0.0, \"fpd.totrealisasi_after\": 153476011.0, \"fpd.persetarget_all\": 100.0, \"dr.nama_rek\": \"Pendapatan dari Pengembalian Kelebihan Pembayaran Perjalanan Dinas Dalam Negeri Perjalanan Dinas Bia\"}, {\"fpd.kode_rekening\": \"4.1.4.15.4.2\", \"fpd.terget_realita\": 0.0, \"fpd.totrealisasi_after\": 0.0, \"fpd.persetarget_all\": 0.0, \"dr.nama_rek\": \"Pendapatan dari Pengembalian Kelebihan Pembayaran Perjalanan Dinas Dalam Negeri Perjalanan Dinas Tetap\"}, {\"fpd.kode_rekening\": \"4.1.4.15.4.3\", \"fpd.terget_realita\": 0.0, \"fpd.totrealisasi_after\": 804000.0, \"fpd.persetarget_all\": 100.0, \"dr.nama_rek\": \"Pendapatan dari Pengembalian Kelebihan Pembayaran Perjalanan Dinas Dalam Negeri Perjalanan Dinas Dalam Kot\"}, {\"fpd.kode_rekening\": \"4.1.4.15.4.4\", \"fpd.terget_realita\": 0.0, \"fpd.totrealisasi_after\": 0.0, \"fpd.persetarget_all\": 0.0, \"dr.nama_rek\": \"Pendapatan dari Pengembalian Kelebihan Pembayaran Perjalanan Dinas Dalam Negeri Perjalanan Dinas Paket Meeting Dalam Kot\"}, {\"fpd.kode_rekening\": \"4.1.4.15.4.5\", \"fpd.terget_realita\": 0.0, \"fpd.totrealisasi_after\": 0.0, \"fpd.persetarget_all\": 0.0, \"dr.nama_rek\": \"Pendapatan dari Pengembalian Kelebihan Pembayaran Perjalanan Dinas Dalam Negeri Perjalanan Dinas Paket Meeting Luar Kota\"}, {\"fpd.kode_rekening\": \"4.1.4.15.4.6\", \"fpd.terget_realita\": 0.0, \"fpd.totrealisasi_after\": 23581633.0, \"fpd.persetarget_all\": 100.0, \"dr.nama_rek\": \"Pendapatan dari Pengembalian Kelebihan Pembayaran Perjalanan Dinas Luar Negeri Perjalanan Dinas Biasa\\\\u2013Luar Neg\"}, {\"fpd.kode_rekening\": \"4.1.4.15.5\", \"fpd.terget_realita\": 0.0, \"fpd.totrealisasi_after\": 0.0, \"fpd.persetarget_all\": 0.0, \"dr.nama_rek\": \"Pendapatan dari Pengembalian Kelebihan Pembayaran Kecelakaan Kerja (JKK)\"}, {\"fpd.kode_rekening\": \"4.1.4.15.5.1\", \"fpd.terget_realita\": 0.0, \"fpd.totrealisasi_after\": 0.0, \"fpd.persetarget_all\": 0.0, \"dr.nama_rek\": \"Pendapatan dari Pengembalian Kelebihan Pembayaran JKK\"}, {\"fpd.kode_rekening\": \"4.1.4.15.6\", \"fpd.terget_realita\": 0.0, \"fpd.totrealisasi_after\": 0.0, \"fpd.persetarget_all\": 0.0, \"dr.nama_rek\": \"Pendapatan dari Pengembalian Kelebihan Pembayaran Jaminan Kematian (JKM)\"}, {\"fpd.kode_rekening\": \"4.1.4.15.6.1\", \"fpd.terget_realita\": 0.0, \"fpd.totrealisasi_after\": 0.0, \"fpd.persetarget_all\": 0.0, \"dr.nama_rek\": \"Pendapatan dari Pengembalian Kelebihan Pembayaran JKM\"}, {\"fpd.kode_rekening\": \"4.1.4.15.7\", \"fpd.terget_realita\": 0.0, \"fpd.totrealisasi_after\": 0.0, \"fpd.persetarget_all\": 0.0, \"dr.nama_rek\": \"Pendapatan dari Pengembalian Kelebihan Pembayaran Jaminan Kesehatan Nasional (JKN)\"}, {\"fpd.kode_rekening\": \"4.1.4.15.7.1.1\", \"fpd.terget_realita\": 0.0, \"fpd.totrealisasi_after\": 0.0, \"fpd.persetarget_all\": 0.0, \"dr.nama_rek\": \"Pendapatan dari Pengembalian Kelebihan Pembayaran Jaminan Kesehatan Nasional (JKN)\"}, {\"fpd.kode_rekening\": \"4.1.4.17\", \"fpd.terget_realita\": 0.0, \"fpd.totrealisasi_after\": 0.0, \"fpd.persetarget_all\": 0.0, \"dr.nama_rek\": \"Pendapatan Denda Pemanfaatan BMD yang tidak Dipisahkan\"}, {\"fpd.kode_rekening\": \"4.1.4.17.1\", \"fpd.terget_realita\": 0.0, \"fpd.totrealisasi_after\": 0.0, \"fpd.persetarget_all\": 0.0, \"dr.nama_rek\": \"Pendapatan Denda Pengakhiran Sewa BMD\"}, {\"fpd.kode_rekening\": \"4.1.4.17.1.1\", \"fpd.terget_realita\": 0.0, \"fpd.totrealisasi_after\": 0.0, \"fpd.persetarget_all\": 0.0, \"dr.nama_rek\": \"Pendapatan Denda Pengakhiran Sewa BMD\"}, {\"fpd.kode_rekening\": \"4.1.4.17.2\", \"fpd.terget_realita\": 0.0, \"fpd.totrealisasi_after\": 0.0, \"fpd.persetarget_all\": 0.0, \"dr.nama_rek\": \"Pendapatan Denda Hasil dari Kerja Sama Penyediaan Infrastruktur\"}, {\"fpd.kode_rekening\": \"4.1.4.17.2.1\", \"fpd.terget_realita\": 0.0, \"fpd.totrealisasi_after\": 0.0, \"fpd.persetarget_all\": 0.0, \"dr.nama_rek\": \"Pendapatan Denda Hasil dari Kerja Sama Penyediaan Infrastruktur\"}, {\"fpd.kode_rekening\": \"4.1.4.18\", \"fpd.terget_realita\": 5000000000.0, \"fpd.totrealisasi_after\": 3371330411.0, \"fpd.persetarget_all\": 67.42660821999999, \"dr.nama_rek\": \"Pendapatan Dana Kapitasi Jaminan Kesehatan Nasional (JKN) pada Fasilitas Kesehatan Tingkat Pertama (FKTP)\"}, {\"fpd.kode_rekening\": \"4.1.4.18.1\", \"fpd.terget_realita\": 5000000000.0, \"fpd.totrealisasi_after\": 3371330411.0, \"fpd.persetarget_all\": 67.42660821999999, \"dr.nama_rek\": \"Pendapatan Dana Kapitasi JKN pada FKTP\"}, {\"fpd.kode_rekening\": \"4.1.4.18.1.1\", \"fpd.terget_realita\": 5000000000.0, \"fpd.totrealisasi_after\": 3371330411.0, \"fpd.persetarget_all\": 67.42660821999999, \"dr.nama_rek\": \"Pendapatan Dana Kapitasi JKN pada FKTP\"}, {\"fpd.kode_rekening\": \"4.1.4.19\", \"fpd.terget_realita\": 0.0, \"fpd.totrealisasi_after\": 0.0, \"fpd.persetarget_all\": 0.0, \"dr.nama_rek\": \"Pendapatan Hasil Pengelolaan Dana Bergulir\"}, {\"fpd.kode_rekening\": \"4.1.4.19.1\", \"fpd.terget_realita\": 0.0, \"fpd.totrealisasi_after\": 0.0, \"fpd.persetarget_all\": 0.0, \"dr.nama_rek\": \"Pendapatan Hasil Pengelolaan Dana Bergulir\"}, {\"fpd.kode_rekening\": \"4.1.4.19.1.1\", \"fpd.terget_realita\": 0.0, \"fpd.totrealisasi_after\": 0.0, \"fpd.persetarget_all\": 0.0, \"dr.nama_rek\": \"Pendapatan Hasil Pengelolaan Dana Bergulir\"}, {\"fpd.kode_rekening\": \"4.1.4.20\", \"fpd.terget_realita\": 0.0, \"fpd.totrealisasi_after\": 0.0, \"fpd.persetarget_all\": 0.0, \"dr.nama_rek\": \"Pendapatan Berdasarkan Putusan Pengadilan (Inkracht)\"}, {\"fpd.kode_rekening\": \"4.1.4.20.1\", \"fpd.terget_realita\": 0.0, \"fpd.totrealisasi_after\": 0.0, \"fpd.persetarget_all\": 0.0, \"dr.nama_rek\": \"Pendapatan Berdasarkan Putusan Pengadilan (Inkracht)\"}, {\"fpd.kode_rekening\": \"4.1.4.20.1.1\", \"fpd.terget_realita\": 0.0, \"fpd.totrealisasi_after\": 0.0, \"fpd.persetarget_all\": 0.0, \"dr.nama_rek\": \"Pendapatan Berdasarkan Putusan Pengadilan (Inkracht)\"}, {\"fpd.kode_rekening\": \"4.1.4.21\", \"fpd.terget_realita\": 0.0, \"fpd.totrealisasi_after\": 18750000.0, \"fpd.persetarget_all\": 100.0, \"dr.nama_rek\": \"Pendapatan Denda atas Pelanggaran Peraturan Daerah\"}, {\"fpd.kode_rekening\": \"4.1.4.21.1\", \"fpd.terget_realita\": 0.0, \"fpd.totrealisasi_after\": 18750000.0, \"fpd.persetarget_all\": 100.0, \"dr.nama_rek\": \"Pendapatan Denda atas Pelanggaran Peraturan Daerah\"}, {\"fpd.kode_rekening\": \"4.1.4.21.1.1\", \"fpd.terget_realita\": 0.0, \"fpd.totrealisasi_after\": 18750000.0, \"fpd.persetarget_all\": 100.0, \"dr.nama_rek\": \"Pendapatan Denda atas Pelanggaran Peraturan Daerah\"}, {\"fpd.kode_rekening\": \"4.1.4.22.1.2\", \"fpd.terget_realita\": 0.0, \"fpd.totrealisasi_after\": 0.0, \"fpd.persetarget_all\": 0.0, \"dr.nama_rek\": \"Pendapatan Infaq\"}, {\"fpd.kode_rekening\": \"4.1.4.22.1.3\", \"fpd.terget_realita\": 0.0, \"fpd.totrealisasi_after\": 0.0, \"fpd.persetarget_all\": 0.0, \"dr.nama_rek\": \"Pendapatan Shadaqah\"}, {\"fpd.kode_rekening\": \"4.1.4.22.1.4\", \"fpd.terget_realita\": 0.0, \"fpd.totrealisasi_after\": 0.0, \"fpd.persetarget_all\": 0.0, \"dr.nama_rek\": \"Pendapatan Wakaf\"}, {\"fpd.kode_rekening\": \"4.2\", \"fpd.terget_realita\": 3440517731326.0, \"fpd.totrealisasi_after\": 2250869371261.0, \"fpd.persetarget_all\": 65.42240287753143, \"dr.nama_rek\": \"Pendapatan Transfer\"}, {\"fpd.kode_rekening\": \"4.2.1\", \"fpd.terget_realita\": 2288257908000.0, \"fpd.totrealisasi_after\": 1533708179068.0, \"fpd.persetarget_all\": 67.02514492382997, \"dr.nama_rek\": \"Pendapatan Transfer Pemerintah Pusat\"}, {\"fpd.kode_rekening\": \"4.2.1.1\", \"fpd.terget_realita\": 2273784550000.0, \"fpd.totrealisasi_after\": 1526471500068.0, \"fpd.persetarget_all\": 67.13351535738072, \"dr.nama_rek\": \"Dana Perimbangan\"}, {\"fpd.kode_rekening\": \"4.2.1.1.1\", \"fpd.terget_realita\": 1131180361000.0, \"fpd.totrealisasi_after\": 931108574236.0, \"fpd.persetarget_all\": 82.31300739811907, \"dr.nama_rek\": \"Dana Transfer Umum-Dana Bagi Hasil (DBH)\"}, {\"fpd.kode_rekening\": \"4.2.1.1.1.1\", \"fpd.terget_realita\": 65252958000.0, \"fpd.totrealisasi_after\": 1124852185.0, \"fpd.persetarget_all\": 1.7238332475287939, \"dr.nama_rek\": \"DBH Pajak Bumi dan Bangunan\"}, {\"fpd.kode_rekening\": \"4.2.1.1.1.1.1\", \"fpd.terget_realita\": 0.0, \"fpd.totrealisasi_after\": 0.0, \"fpd.persetarget_all\": 0.0, \"dr.nama_rek\": \"01. PBB Pertambangan (P3)\"}, {\"fpd.kode_rekening\": \"4.2.1.1.1.1.2\", \"fpd.terget_realita\": 46444718000.0, \"fpd.totrealisasi_after\": 543657839.0, \"fpd.persetarget_all\": 1.170548261268375, \"dr.nama_rek\": \"01.1. PBB Non Migas\"}, {\"fpd.kode_rekening\": \"4.2.1.1.1.1.3\", \"fpd.terget_realita\": 16874488000.0, \"fpd.totrealisasi_after\": 253510938.0, \"fpd.persetarget_all\": 1.502332621884587, \"dr.nama_rek\": \"01.2. PBB Migas\"}, {\"fpd.kode_rekening\": \"4.2.1.1.1.1.4\", \"fpd.terget_realita\": 77067000.0, \"fpd.totrealisasi_after\": 2164740.0, \"fpd.persetarget_all\": 2.8089065358713845, \"dr.nama_rek\": \"01.3.PBB Sektor Lainnya\"}, {\"fpd.kode_rekening\": \"4.2.1.1.1.1.5\", \"fpd.terget_realita\": 0.0, \"fpd.totrealisasi_after\": 254237240.0, \"fpd.persetarget_all\": 100.0, \"dr.nama_rek\": \"01.4. Pemungutan PBB Migas\"}, {\"fpd.kode_rekening\": \"4.2.1.1.1.1.6\", \"fpd.terget_realita\": 0.0, \"fpd.totrealisasi_after\": 0.0, \"fpd.persetarget_all\": 0.0, \"dr.nama_rek\": \"01.5. Pemungutan PBB Non  Migas\"}, {\"fpd.kode_rekening\": \"4.2.1.1.1.1.7\", \"fpd.terget_realita\": 0.0, \"fpd.totrealisasi_after\": 0.0, \"fpd.persetarget_all\": 0.0, \"dr.nama_rek\": \"01.6. Pemungutan Sektor Lainnya\"}, {\"fpd.kode_rekening\": \"4.2.1.1.1.1.8\", \"fpd.terget_realita\": 0.0, \"fpd.totrealisasi_after\": 0.0, \"fpd.persetarget_all\": 0.0, \"dr.nama_rek\": \"01.7. Bagi Rata-rata\"}, {\"fpd.kode_rekening\": \"4.2.1.1.1.1.9\", \"fpd.terget_realita\": 0.0, \"fpd.totrealisasi_after\": 0.0, \"fpd.persetarget_all\": 0.0, \"dr.nama_rek\": \"01.8. Pelimpahan PBB\"}, {\"fpd.kode_rekening\": \"4.2.1.1.1.1.10\", \"fpd.terget_realita\": 1686890000.0, \"fpd.totrealisasi_after\": 59554189.0, \"fpd.persetarget_all\": 3.5304133049576443, \"dr.nama_rek\": \"01.9.PBB Perkebunan\"}, {\"fpd.kode_rekening\": \"4.2.1.1.1.1.11\", \"fpd.terget_realita\": 169795000.0, \"fpd.totrealisasi_after\": 11727239.0, \"fpd.persetarget_all\": 6.906704555493389, \"dr.nama_rek\": \"01.10. PBB Kehutanan\"}, {\"fpd.kode_rekening\": \"4.2.1.1.1.2\", \"fpd.terget_realita\": 58461252000.0, \"fpd.totrealisasi_after\": 2012398194.0, \"fpd.persetarget_all\": 3.4422769358411958, \"dr.nama_rek\": \"DBH PPh Pasal 21\"}, {\"fpd.kode_rekening\": \"4.2.1.1.1.3\", \"fpd.terget_realita\": 3307556000.0, \"fpd.totrealisasi_after\": 33458637.0, \"fpd.persetarget_all\": 1.011581874955405, \"dr.nama_rek\": \"DBH PPh Pasal 25 dan Pasal 29/WPOPDN\"}, {\"fpd.kode_rekening\": \"4.2.1.1.1.4\", \"fpd.terget_realita\": 0.0, \"fpd.totrealisasi_after\": 220000.0, \"fpd.persetarget_all\": 100.0, \"dr.nama_rek\": \"DBH Cukai Hasil Tembakau (CHT)\"}, {\"fpd.kode_rekening\": \"4.2.1.1.1.5\", \"fpd.terget_realita\": 17568188000.0, \"fpd.totrealisasi_after\": 14443788539.0, \"fpd.persetarget_all\": 82.21558500512404, \"dr.nama_rek\": \"DBH Sumber Daya Alam (SDA) Minyak Bumi\"}, {\"fpd.kode_rekening\": \"4.2.1.1.1.6\", \"fpd.terget_realita\": 48241959000.0, \"fpd.totrealisasi_after\": 38593567200.0, \"fpd.persetarget_all\": 80.0, \"dr.nama_rek\": \"DBH Sumber Daya Alam (SDA) Gas Bumi\"}, {\"fpd.kode_rekening\": \"4.2.1.1.1.7\", \"fpd.terget_realita\": 0.0, \"fpd.totrealisasi_after\": 0.0, \"fpd.persetarget_all\": 0.0, \"dr.nama_rek\": \"DBH Sumber Daya Alam (SDA) Pengusahaan Panas Bumi\"}, {\"fpd.kode_rekening\": \"4.2.1.1.1.8\", \"fpd.terget_realita\": 852089000.0, \"fpd.totrealisasi_after\": 722247059.0, \"fpd.persetarget_all\": 84.76192733388179, \"dr.nama_rek\": \"DBH Sumber Daya Alam (SDA) Mineral dan Batubara-Landrent\"}, {\"fpd.kode_rekening\": \"4.2.1.1.1.9\", \"fpd.terget_realita\": 923697447000.0, \"fpd.totrealisasi_after\": 867566357572.0, \"fpd.persetarget_all\": 93.92321700029555, \"dr.nama_rek\": \"Dana Bagi Hasil (DBH) Sumber Daya Alam (SDA) Mineral dan Batubara-Royalty\"}, {\"fpd.kode_rekening\": \"4.2.1.1.1.10\", \"fpd.terget_realita\": 2244604000.0, \"fpd.totrealisasi_after\": 673381200.0, \"fpd.persetarget_all\": 30.0, \"dr.nama_rek\": \"DBH Sumber Daya Alam (SDA) Kehutanan Provisi Sumber Daya Hutan (PSDH)\"}, {\"fpd.kode_rekening\": \"4.2.1.1.1.11\", \"fpd.terget_realita\": 0.0, \"fpd.totrealisasi_after\": 0.0, \"fpd.persetarget_all\": 0.0, \"dr.nama_rek\": \"DBH Sumber Daya Alam (SDA) Kehutanan Iuran Izin Usaha Pemanfaatan Hutan (IIUPH)\"}, {\"fpd.kode_rekening\": \"4.2.1.1.1.12\", \"fpd.terget_realita\": 0.0, \"fpd.totrealisasi_after\": 0.0, \"fpd.persetarget_all\": 0.0, \"dr.nama_rek\": \"DBH Sumber Daya Alam (SDA) Kehutanan Dana Reboisasi (DR)\"}, {\"fpd.kode_rekening\": \"4.2.1.1.1.13\", \"fpd.terget_realita\": 1074331000.0, \"fpd.totrealisasi_after\": 698315150.0, \"fpd.persetarget_all\": 65.0, \"dr.nama_rek\": \"DBH Sumber Daya Alam (SDA) Perikanan\"}, {\"fpd.kode_rekening\": \"4.2.1.1.1.14\", \"fpd.terget_realita\": 10479977000.0, \"fpd.totrealisasi_after\": 5239988500.0, \"fpd.persetarget_all\": 50.0, \"dr.nama_rek\": \"DBH Lainnya - Sawit\"}, {\"fpd.kode_rekening\": \"4.2.1.1.2\", \"fpd.terget_realita\": 843060860000.0, \"fpd.totrealisasi_after\": 523995082150.0, \"fpd.persetarget_all\": 62.15388556289994, \"dr.nama_rek\": \"Dana Transfer Umum-Dana Alokasi Umum (DAU)\"}, {\"fpd.kode_rekening\": \"4.2.1.1.2.1\", \"fpd.terget_realita\": 730154327000.0, \"fpd.totrealisasi_after\": 486769544000.0, \"fpd.persetarget_all\": 66.66666566231278, \"dr.nama_rek\": \"DAU\"}, {\"fpd.kode_rekening\": \"4.2.1.1.2.1.1\", \"fpd.terget_realita\": 730154327000.0, \"fpd.totrealisasi_after\": 486769544000.0, \"fpd.persetarget_all\": 66.66666566231278, \"dr.nama_rek\": \"DAU yang Tidak Ditentukan Penggunaannya\"}, {\"fpd.kode_rekening\": \"4.2.1.1.2.2\", \"fpd.terget_realita\": 11800000000.0, \"fpd.totrealisasi_after\": 5900000000.0, \"fpd.persetarget_all\": 50.0, \"dr.nama_rek\": \"DAU Tambahan Dukungan Pendanaan Kelurahan\"}, {\"fpd.kode_rekening\": \"4.2.1.1.2.3\", \"fpd.terget_realita\": 0.0, \"fpd.totrealisasi_after\": 0.0, \"fpd.persetarget_all\": 0.0, \"dr.nama_rek\": \"DAU Tambahan Dukungan Pendanaan atas Kebijakan Penyetaraan Penghasilan Tetap Kepala Desa dan Perangkat Desa\"}, {\"fpd.kode_rekening\": \"4.2.1.1.2.4\", \"fpd.terget_realita\": 101106533000.0, \"fpd.totrealisasi_after\": 31325538150.0, \"fpd.persetarget_all\": 30.982704302599316, \"dr.nama_rek\": \"DAU Tambahan Dukungan Pendanaan atas Kebijakan Penggajian Pegawai Pemerintah dengan Perjanjian Kerja\"}, {\"fpd.kode_rekening\": \"4.2.1.1.2.4.1\", \"fpd.terget_realita\": 30321567000.0, \"fpd.totrealisasi_after\": 10090050150.0, \"fpd.persetarget_all\": 33.27680970445888, \"dr.nama_rek\": \"DAU Tambahan Dukungan Pendanaan atas Kebijakan Penggajian Pegawai Pemerintah dengan Perjanjian Kerja\"}, {\"fpd.kode_rekening\": \"4.2.1.1.2.4.2\", \"fpd.terget_realita\": 49190233000.0, \"fpd.totrealisasi_after\": 14757069000.0, \"fpd.persetarget_all\": 29.999998170368496, \"dr.nama_rek\": \"Bidang Pendidikan\"}, {\"fpd.kode_rekening\": \"4.2.1.1.2.4.3\", \"fpd.terget_realita\": 18241753000.0, \"fpd.totrealisasi_after\": 5472525000.0, \"fpd.persetarget_all\": 29.99999506626364, \"dr.nama_rek\": \"Bidang Kesehatan\"}, {\"fpd.kode_rekening\": \"4.2.1.1.2.4.4\", \"fpd.terget_realita\": 3352980000.0, \"fpd.totrealisasi_after\": 1005894000.0, \"fpd.persetarget_all\": 30.0, \"dr.nama_rek\": \"Bidang Pekerjaan Umum\"}, {\"fpd.kode_rekening\": \"4.2.1.1.3\", \"fpd.terget_realita\": 19620025000.0, \"fpd.totrealisasi_after\": 4669356462.0, \"fpd.persetarget_all\": 23.79893227455113, \"dr.nama_rek\": \"Dana Transfer Khusus-Dana Alokasi Khusus (DAK) Fisik\"}, {\"fpd.kode_rekening\": \"4.2.1.1.3.1\", \"fpd.terget_realita\": 323928000.0, \"fpd.totrealisasi_after\": 319931712.0, \"fpd.persetarget_all\": 98.76630362302734, \"dr.nama_rek\": \"DAK Fisik-Bidang Pendidikan-Reguler-PAUD\"}, {\"fpd.kode_rekening\": \"4.2.1.1.3.2\", \"fpd.terget_realita\": 2968359000.0, \"fpd.totrealisasi_after\": 642089750.0, \"fpd.persetarget_all\": 21.63113525015, \"dr.nama_rek\": \"DAK Fisik-Bidang Pendidikan-Reguler-SD\"}, {\"fpd.kode_rekening\": \"4.2.1.1.3.3\", \"fpd.terget_realita\": 7761325000.0, \"fpd.totrealisasi_after\": 1911868750.0, \"fpd.persetarget_all\": 24.633277823052122, \"dr.nama_rek\": \"DAK Fisik-Bidang Pendidikan-Reguler-SMP\"}, {\"fpd.kode_rekening\": \"4.2.1.1.3.4\", \"fpd.terget_realita\": 0.0, \"fpd.totrealisasi_after\": 0.0, \"fpd.persetarget_all\": 0.0, \"dr.nama_rek\": \"DAK Fisik-Bidang Pendidikan-Reguler-SMA\"}, {\"fpd.kode_rekening\": \"4.2.1.1.3.5\", \"fpd.terget_realita\": 0.0, \"fpd.totrealisasi_after\": 0.0, \"fpd.persetarget_all\": 0.0, \"dr.nama_rek\": \"DAK Fisik-Bidang Pendidikan-Reguler-SLB\"}, {\"fpd.kode_rekening\": \"4.2.1.1.3.6\", \"fpd.terget_realita\": 0.0, \"fpd.totrealisasi_after\": 0.0, \"fpd.persetarget_all\": 0.0, \"dr.nama_rek\": \"DAK Fisik-Bidang Pendidikan-Reguler-SKB\"}, {\"fpd.kode_rekening\": \"4.2.1.1.3.7\", \"fpd.terget_realita\": 0.0, \"fpd.totrealisasi_after\": 0.0, \"fpd.persetarget_all\": 0.0, \"dr.nama_rek\": \"DAK Fisik-Bidang Pendidikan-Afirmasi-SD\"}, {\"fpd.kode_rekening\": \"4.2.1.1.3.8\", \"fpd.terget_realita\": 0.0, \"fpd.totrealisasi_after\": 0.0, \"fpd.persetarget_all\": 0.0, \"dr.nama_rek\": \"DAK Fisik-Bidang Pendidikan-Afirmasi-SMP\"}, {\"fpd.kode_rekening\": \"4.2.1.1.3.9\", \"fpd.terget_realita\": 0.0, \"fpd.totrealisasi_after\": 0.0, \"fpd.persetarget_all\": 0.0, \"dr.nama_rek\": \"DAK Fisik-Bidang Pendidikan-Afirmasi-SMA\"}, {\"fpd.kode_rekening\": \"4.2.1.1.3.10\", \"fpd.terget_realita\": 0.0, \"fpd.totrealisasi_after\": 0.0, \"fpd.persetarget_all\": 0.0, \"dr.nama_rek\": \"DAK Fisik-Bidang Pendidikan-Penugasan SMK\"}, {\"fpd.kode_rekening\": \"4.2.1.1.3.11\", \"fpd.terget_realita\": 0.0, \"fpd.totrealisasi_after\": 0.0, \"fpd.persetarget_all\": 0.0, \"dr.nama_rek\": \"DAK Fisik-Bidang Pendidikan-Reguler Perpustakaan Daerah\"}, {\"fpd.kode_rekening\": \"4.2.1.1.3.12\", \"fpd.terget_realita\": 0.0, \"fpd.totrealisasi_after\": 0.0, \"fpd.persetarget_all\": 0.0, \"dr.nama_rek\": \"DAK Fisik-Bidang Pendidikan-Reguler Gedung Olahraga\"}, {\"fpd.kode_rekening\": \"4.2.1.1.3.13\", \"fpd.terget_realita\": 0.0, \"fpd.totrealisasi_after\": 0.0, \"fpd.persetarget_all\": 0.0, \"dr.nama_rek\": \"DAK Fisik-Bidang Kesehatan dan KB Reguler-Pelayanan Kesehaan Dasar\"}, {\"fpd.kode_rekening\": \"4.2.1.1.3.14\", \"fpd.terget_realita\": 0.0, \"fpd.totrealisasi_after\": 0.0, \"fpd.persetarget_all\": 0.0, \"dr.nama_rek\": \"DAK Fisik-Bidang Kesehatan dan KB Reguler-Pelayanan Kesehatan Rujukn\"}, {\"fpd.kode_rekening\": \"4.2.1.1.3.15\", \"fpd.terget_realita\": 0.0, \"fpd.totrealisasi_after\": 0.0, \"fpd.persetarget_all\": 0.0, \"dr.nama_rek\": \"DAK Fisik-Bidang Kesehatan dan KB Reguler-Pelayanan Kefarmasin\"}, {\"fpd.kode_rekening\": \"4.2.1.1.3.16\", \"fpd.terget_realita\": 113971000.0, \"fpd.totrealisasi_after\": 103000000.0, \"fpd.persetarget_all\": 90.37386703635136, \"dr.nama_rek\": \"DAK Fisik-Bidang Kesehatan dan KB Penugasan-Penurunan Angka Kematian Ibu (AKI), Angka Kematian Bayi (AKB) dan Intervesi Stunting\"}, {\"fpd.kode_rekening\": \"4.2.1.1.3.17\", \"fpd.terget_realita\": 0.0, \"fpd.totrealisasi_after\": 0.0, \"fpd.persetarget_all\": 0.0, \"dr.nama_rek\": \"DAK Fisik-Bidang Kesehatan dan KB Penugasan-Penguatan Intervensi Stunting\"}, {\"fpd.kode_rekening\": \"4.2.1.1.3.18\", \"fpd.terget_realita\": 0.0, \"fpd.totrealisasi_after\": 0.0, \"fpd.persetarget_all\": 0.0, \"dr.nama_rek\": \" Fisik-Bidang Kesehatan dan KB Penugasan-Peningkatan Pencegahan dan \\\\nPengendalian Penyakit dan Sanitasi Total \\\\nBerbasis Masyarakat\"}, {\"fpd.kode_rekening\": \"4.2.1.1.3.19\", \"fpd.terget_realita\": 0.0, \"fpd.totrealisasi_after\": 0.0, \"fpd.persetarget_all\": 0.0, \"dr.nama_rek\": \"DAK Fisik-Bidang Kesehatan dan KB Penugasan-Penguatan RS Rujukan \\\\nNasional/Provinsi/Regional/Pariwisata\"}, {\"fpd.kode_rekening\": \"4.2.1.1.3.20\", \"fpd.terget_realita\": 0.0, \"fpd.totrealisasi_after\": 0.0, \"fpd.persetarget_all\": 0.0, \"dr.nama_rek\": \"DAK Fisik-Bidang Kesehatan dan KB Penugasan-Pembangunan RS Pratama\"}, {\"fpd.kode_rekening\": \"4.2.1.1.3.21\", \"fpd.terget_realita\": 0.0, \"fpd.totrealisasi_after\": 0.0, \"fpd.persetarget_all\": 0.0, \"dr.nama_rek\": \"DAK Fisik-Bidang Kesehatan dan KB Penugasan-Puskesmas Pariwisata\"}, {\"fpd.kode_rekening\": \"4.2.1.1.3.22\", \"fpd.terget_realita\": 0.0, \"fpd.totrealisasi_after\": 0.0, \"fpd.persetarget_all\": 0.0, \"dr.nama_rek\": \"DAK Fisik-Bidang Kesehatan dan KB Penugasan-Balai Pelatihan Kesehatan\"}, {\"fpd.kode_rekening\": \"4.2.1.1.3.23\", \"fpd.terget_realita\": 0.0, \"fpd.totrealisasi_after\": 0.0, \"fpd.persetarget_all\": 0.0, \"dr.nama_rek\": \"DAK Fisik-Bidang Kesehatan dan KB Afirmasi-Penguatan Puskesmas Daerah Tertinggal Perbatasan Negara dan Kepulauan (DTPK)\"}, {\"fpd.kode_rekening\": \"4.2.1.1.3.24\", \"fpd.terget_realita\": 0.0, \"fpd.totrealisasi_after\": 0.0, \"fpd.persetarget_all\": 0.0, \"dr.nama_rek\": \"DAK Fisik-Bidang Kesehatan dan KB Afirmasi-Penguatan Prasarana Dasar Puskesmas\"}, {\"fpd.kode_rekening\": \"4.2.1.1.3.25\", \"fpd.terget_realita\": 0.0, \"fpd.totrealisasi_after\": 111866000.0, \"fpd.persetarget_all\": 100.0, \"dr.nama_rek\": \"DAK Fisik-Bidang Kesehatan dan KB Reguler-KB\"}, {\"fpd.kode_rekening\": \"4.2.1.1.3.26\", \"fpd.terget_realita\": 0.0, \"fpd.totrealisasi_after\": 0.0, \"fpd.persetarget_all\": 0.0, \"dr.nama_rek\": \"DAK Fisik-Bidang Kesehatan dan KB Penugasan-Penurunan Stunting (KB)\"}, {\"fpd.kode_rekening\": \"4.2.1.1.3.27\", \"fpd.terget_realita\": 0.0, \"fpd.totrealisasi_after\": 0.0, \"fpd.persetarget_all\": 0.0, \"dr.nama_rek\": \"DAK Fisik-Bidang Perumahan dan Permukiman-Reguler-Penyediaan Rumah Swadaya\"}, {\"fpd.kode_rekening\": \"4.2.1.1.3.28\", \"fpd.terget_realita\": 0.0, \"fpd.totrealisasi_after\": 0.0, \"fpd.persetarget_all\": 0.0, \"dr.nama_rek\": \"DAK Fisik-Bidang Perumahan dan Permukiman-Afirmasi-Penyediaan Rumah Swadaya\"}, {\"fpd.kode_rekening\": \"4.2.1.1.3.29\", \"fpd.terget_realita\": 0.0, \"fpd.totrealisasi_after\": 0.0, \"fpd.persetarget_all\": 0.0, \"dr.nama_rek\": \"DAK Fisik-Bidang Perumahan dan Permukiman-Afirmasi-Penyediaan Rumah Khusus\"}, {\"fpd.kode_rekening\": \"4.2.1.1.3.30\", \"fpd.terget_realita\": 0.0, \"fpd.totrealisasi_after\": 0.0, \"fpd.persetarget_all\": 0.0, \"dr.nama_rek\": \"DAK Fisik-Bidang Industri Kecil dan Menengah-Penugasan-Pembangunan Sentra IKM dan Revitalisasi Sentra IKM\"}, {\"fpd.kode_rekening\": \"4.2.1.1.3.31\", \"fpd.terget_realita\": 0.0, \"fpd.totrealisasi_after\": 0.0, \"fpd.persetarget_all\": 0.0, \"dr.nama_rek\": \"DAK Fisik-Bidang Pertanian-Penugasan-Pembangunan/Renovasi Sarana dan \\\\nPrasarana Fisik Dasar Pembangunan  Pertanian\"}, {\"fpd.kode_rekening\": \"4.2.1.1.3.32\", \"fpd.terget_realita\": 0.0, \"fpd.totrealisasi_after\": 0.0, \"fpd.persetarget_all\": 0.0, \"dr.nama_rek\": \"DAK Fisik-Bidang Kelautan dan Perikanan Penugasan\"}, {\"fpd.kode_rekening\": \"4.2.1.1.3.33\", \"fpd.terget_realita\": 0.0, \"fpd.totrealisasi_after\": 0.0, \"fpd.persetarget_all\": 0.0, \"dr.nama_rek\": \"DAK Fisik-Bidang Pariwisata-Penugasan\"}, {\"fpd.kode_rekening\": \"4.2.1.1.3.34\", \"fpd.terget_realita\": 0.0, \"fpd.totrealisasi_after\": 0.0, \"fpd.persetarget_all\": 0.0, \"dr.nama_rek\": \"DAK Fisik-Bidang Jalan-Reguler-Jalan\"}, {\"fpd.kode_rekening\": \"4.2.1.1.3.35\", \"fpd.terget_realita\": 0.0, \"fpd.totrealisasi_after\": 0.0, \"fpd.persetarget_all\": 0.0, \"dr.nama_rek\": \"DAK Fisik-Bidang Jalan-Penugasan-Jalan\"}, {\"fpd.kode_rekening\": \"4.2.1.1.3.36\", \"fpd.terget_realita\": 0.0, \"fpd.totrealisasi_after\": 0.0, \"fpd.persetarget_all\": 0.0, \"dr.nama_rek\": \"DAK Fisik-Bidang Jalan-Penugasan Keselamatan Jalan\"}, {\"fpd.kode_rekening\": \"4.2.1.1.3.37\", \"fpd.terget_realita\": 0.0, \"fpd.totrealisasi_after\": 0.0, \"fpd.persetarget_all\": 0.0, \"dr.nama_rek\": \"DAK Fisik-Bidang Air Minum-Reguler\"}, {\"fpd.kode_rekening\": \"4.2.1.1.3.38\", \"fpd.terget_realita\": 0.0, \"fpd.totrealisasi_after\": 0.0, \"fpd.persetarget_all\": 0.0, \"dr.nama_rek\": \"DAK Fisik-Bidang Air Minum-Afirmasi\"}, {\"fpd.kode_rekening\": \"4.2.1.1.3.39\", \"fpd.terget_realita\": 0.0, \"fpd.totrealisasi_after\": 0.0, \"fpd.persetarget_all\": 0.0, \"dr.nama_rek\": \"DAK Fisik-Bidang Air Minum-Penugasan\"}, {\"fpd.kode_rekening\": \"4.2.1.1.3.40\", \"fpd.terget_realita\": 0.0, \"fpd.totrealisasi_after\": 0.0, \"fpd.persetarget_all\": 0.0, \"dr.nama_rek\": \"DAK Fisik-Bidang Sanitasi-Reguler\"}, {\"fpd.kode_rekening\": \"4.2.1.1.3.41\", \"fpd.terget_realita\": 0.0, \"fpd.totrealisasi_after\": 0.0, \"fpd.persetarget_all\": 0.0, \"dr.nama_rek\": \"DAK Fisik-Bidang Sanitasi-Afirmasi\"}, {\"fpd.kode_rekening\": \"4.2.1.1.3.42\", \"fpd.terget_realita\": 0.0, \"fpd.totrealisasi_after\": 0.0, \"fpd.persetarget_all\": 0.0, \"dr.nama_rek\": \"DAK Fisik-Bidang Sanitasi-Penugasan\"}, {\"fpd.kode_rekening\": \"4.2.1.1.3.43\", \"fpd.terget_realita\": 0.0, \"fpd.totrealisasi_after\": 0.0, \"fpd.persetarget_all\": 0.0, \"dr.nama_rek\": \"DAK Fisik-Bidang Irigasi-Penugasan\"}, {\"fpd.kode_rekening\": \"4.2.1.1.3.44\", \"fpd.terget_realita\": 0.0, \"fpd.totrealisasi_after\": 0.0, \"fpd.persetarget_all\": 0.0, \"dr.nama_rek\": \"DAK Fisik-Bidang Pasar-Penugasan\"}, {\"fpd.kode_rekening\": \"4.2.1.1.3.45\", \"fpd.terget_realita\": 0.0, \"fpd.totrealisasi_after\": 0.0, \"fpd.persetarget_all\": 0.0, \"dr.nama_rek\": \"DAK Fisik-Bidang Lingkungan Hidup dan Kehutanan-Penugasan-Lingkungan Hidup\"}, {\"fpd.kode_rekening\": \"4.2.1.1.3.46\", \"fpd.terget_realita\": 0.0, \"fpd.totrealisasi_after\": 0.0, \"fpd.persetarget_all\": 0.0, \"dr.nama_rek\": \"DAK Fisik-Bidang Lingkungan Hidup dan Kehutanan-Penugasan-Kehutanan\"}, {\"fpd.kode_rekening\": \"4.2.1.1.3.47\", \"fpd.terget_realita\": 0.0, \"fpd.totrealisasi_after\": 0.0, \"fpd.persetarget_all\": 0.0, \"dr.nama_rek\": \"DAK Fisik-Bidang Transportasi Perdesaan Afirmasi\"}, {\"fpd.kode_rekening\": \"4.2.1.1.3.48\", \"fpd.terget_realita\": 0.0, \"fpd.totrealisasi_after\": 0.0, \"fpd.persetarget_all\": 0.0, \"dr.nama_rek\": \"DAK Fisik-Bidang Transportasi Laut-Afirmasi\"}, {\"fpd.kode_rekening\": \"4.2.1.1.3.49\", \"fpd.terget_realita\": 0.0, \"fpd.totrealisasi_after\": 0.0, \"fpd.persetarget_all\": 0.0, \"dr.nama_rek\": \"DAK Fisik-Bidang Transportasi Laut-Afirmasi\"}, {\"fpd.kode_rekening\": \"4.2.1.1.3.50\", \"fpd.terget_realita\": 0.0, \"fpd.totrealisasi_after\": 0.0, \"fpd.persetarget_all\": 0.0, \"dr.nama_rek\": \"DAK Fisik-Bidang Sosial-Reguler\"}, {\"fpd.kode_rekening\": \"4.2.1.1.3.50.1\", \"fpd.terget_realita\": 0.0, \"fpd.totrealisasi_after\": 0.0, \"fpd.persetarget_all\": 0.0, \"dr.nama_rek\": \"DAK Fisik-Bidang Kesehatan dan KB Reguler-Keluarga Berencana\"}, {\"fpd.kode_rekening\": \"4.2.1.1.3.51\", \"fpd.terget_realita\": 8340345000.0, \"fpd.totrealisasi_after\": 1580600250.0, \"fpd.persetarget_all\": 18.95125741201353, \"dr.nama_rek\": \"DAK Fisik-Bidang Kesehatan-Penguatan Sistem Kesehatan\"}, {\"fpd.kode_rekening\": \"4.2.1.1.3.52\", \"fpd.terget_realita\": 112097000.0, \"fpd.totrealisasi_after\": 0.0, \"fpd.persetarget_all\": 0.0, \"dr.nama_rek\": \"DAK Fisik-Bidang Kesehatan-Keluarga Berencana\"}, {\"fpd.kode_rekening\": \"4.2.1.1.4\", \"fpd.terget_realita\": 279923304000.0, \"fpd.totrealisasi_after\": 66698487220.0, \"fpd.persetarget_all\": 23.827414962206934, \"dr.nama_rek\": \"Dana Transfer Khusus-Dana Alokasi Khusus (DAK) Non Fisik\"}, {\"fpd.kode_rekening\": \"4.2.1.1.4.1\", \"fpd.terget_realita\": 114978820000.0, \"fpd.totrealisasi_after\": 0.0, \"fpd.persetarget_all\": 0.0, \"dr.nama_rek\": \"DAK Non Fisik-BOS Reguler\"}, {\"fpd.kode_rekening\": \"4.2.1.1.4.2\", \"fpd.terget_realita\": 3162500000.0, \"fpd.totrealisasi_after\": 0.0, \"fpd.persetarget_all\": 0.0, \"dr.nama_rek\": \"DAK Non Fisik-BOS Kinerja\"}, {\"fpd.kode_rekening\": \"4.2.1.1.4.4\", \"fpd.terget_realita\": 108236204000.0, \"fpd.totrealisasi_after\": 59529912200.0, \"fpd.persetarget_all\": 55.00000000000001, \"dr.nama_rek\": \"DAK Non Fisik-TPG PNSD\"}, {\"fpd.kode_rekening\": \"4.2.1.1.4.5\", \"fpd.terget_realita\": 2676282000.0, \"fpd.totrealisasi_after\": 1471955100.0, \"fpd.persetarget_all\": 55.00000000000001, \"dr.nama_rek\": \"DAK Non Fisik-Tamsil Guru PNSD\"}, {\"fpd.kode_rekening\": \"4.2.1.1.4.6\", \"fpd.terget_realita\": 7779850000.0, \"fpd.totrealisasi_after\": 0.0, \"fpd.persetarget_all\": 0.0, \"dr.nama_rek\": \"DAK Non Fisik-BOP PAUD - Reguler\"}, {\"fpd.kode_rekening\": \"4.2.1.1.4.7\", \"fpd.terget_realita\": 360000000.0, \"fpd.totrealisasi_after\": 0.0, \"fpd.persetarget_all\": 0.0, \"dr.nama_rek\": \"DAK Non Fisik-BOP PAUD - Kinerja\"}, {\"fpd.kode_rekening\": \"4.2.1.1.4.8\", \"fpd.terget_realita\": 6118320000.0, \"fpd.totrealisasi_after\": 0.0, \"fpd.persetarget_all\": 0.0, \"dr.nama_rek\": \"DAK Non Fisik-BOP Pendidikan Kesetaraan - Reguler\"}, {\"fpd.kode_rekening\": \"4.2.1.1.4.9\", \"fpd.terget_realita\": 180000000.0, \"fpd.totrealisasi_after\": 0.0, \"fpd.persetarget_all\": 0.0, \"dr.nama_rek\": \"DAK Non Fisik-BOP Pendidikan Kesetaraan - Kinerja\"}, {\"fpd.kode_rekening\": \"4.2.1.1.4.10\", \"fpd.terget_realita\": 9420309000.0, \"fpd.totrealisasi_after\": 2454564072.0, \"fpd.persetarget_all\": 26.05608873339505, \"dr.nama_rek\": \"DAK Non Fisik-BOK-BOK Dinas-BOK Dinas Kab/Kota\"}, {\"fpd.kode_rekening\": \"4.2.1.1.4.11\", \"fpd.terget_realita\": 608131000.0, \"fpd.totrealisasi_after\": 0.0, \"fpd.persetarget_all\": 0.0, \"dr.nama_rek\": \"DAK Non Fisik-BOK-BOK Dinas-BOK Pengawasan Obat dan Makanan\"}, {\"fpd.kode_rekening\": \"4.2.1.1.4.12\", \"fpd.terget_realita\": 19476936000.0, \"fpd.totrealisasi_after\": 0.0, \"fpd.persetarget_all\": 0.0, \"dr.nama_rek\": \"DAK Non Fisik-BOK-BOK Puskesmas\\\\t\"}, {\"fpd.kode_rekening\": \"4.2.1.1.4.13\", \"fpd.terget_realita\": 5736971000.0, \"fpd.totrealisasi_after\": 2717329248.0, \"fpd.persetarget_all\": 47.365225447365866, \"dr.nama_rek\": \"DAK Non Fisik - Bantuan Operasional Keluarga Berencana\"}, {\"fpd.kode_rekening\": \"4.2.1.1.4.14\", \"fpd.terget_realita\": 392881000.0, \"fpd.totrealisasi_after\": 188890600.0, \"fpd.persetarget_all\": 48.07832397087159, \"dr.nama_rek\": \"DAK Non Fisik Dana Peningkatan Kapasitas Koperasi dan UMK\"}, {\"fpd.kode_rekening\": \"4.2.1.1.4.15\", \"fpd.terget_realita\": 406000000.0, \"fpd.totrealisasi_after\": 203000000.0, \"fpd.persetarget_all\": 50.0, \"dr.nama_rek\": \"DAK Non Fisik Dana Pelayanan Perlindungan Perempuan dan Anak\"}, {\"fpd.kode_rekening\": \"4.2.1.1.4.16\", \"fpd.terget_realita\": 390100000.0, \"fpd.totrealisasi_after\": 132836000.0, \"fpd.persetarget_all\": 34.05178159446296, \"dr.nama_rek\": \"DAK Non Fisik Fasilitas Penanaman Modal\"}, {\"fpd.kode_rekening\": \"4.2.1.1.4.17\", \"fpd.terget_realita\": 0.0, \"fpd.totrealisasi_after\": 0.0, \"fpd.persetarget_all\": 0.0, \"dr.nama_rek\": \"DAK Non Fisik-Dana Pelayanan Administrasi Kependudukan\"}, {\"fpd.kode_rekening\": \"4.2.1.1.4.18\", \"fpd.terget_realita\": 0.0, \"fpd.totrealisasi_after\": 0.0, \"fpd.persetarget_all\": 0.0, \"dr.nama_rek\": \"DAK Non Fisik-Dana Pelayanan Kepariwisataan\"}, {\"fpd.kode_rekening\": \"4.2.1.2\", \"fpd.terget_realita\": 14473358000.0, \"fpd.totrealisasi_after\": 7236679000.0, \"fpd.persetarget_all\": 50.0, \"dr.nama_rek\": \"Dana Insentif Fiskal (DIF)\"}, {\"fpd.kode_rekening\": \"4.2.1.2.1\", \"fpd.terget_realita\": 14473358000.0, \"fpd.totrealisasi_after\": 7236679000.0, \"fpd.persetarget_all\": 50.0, \"dr.nama_rek\": \"Dana Insentif Fiskal\"}, {\"fpd.kode_rekening\": \"4.2.2\", \"fpd.terget_realita\": 1152259823326.0, \"fpd.totrealisasi_after\": 717161192193.0, \"fpd.persetarget_all\": 62.23953813844806, \"dr.nama_rek\": \"Pendapatan Transfer Antar Daerah\"}, {\"fpd.kode_rekening\": \"4.2.2.1\", \"fpd.terget_realita\": 563891191000.0, \"fpd.totrealisasi_after\": 332116846242.0, \"fpd.persetarget_all\": 58.8973283397151, \"dr.nama_rek\": \"Pendapatan Bagi Hasil\"}, {\"fpd.kode_rekening\": \"4.2.2.1.1\", \"fpd.terget_realita\": 563891191000.0, \"fpd.totrealisasi_after\": 332116846242.0, \"fpd.persetarget_all\": 58.8973283397151, \"dr.nama_rek\": \"Pendapatan Bagi Hasil Pajak\"}, {\"fpd.kode_rekening\": \"4.2.2.1.1.1\", \"fpd.terget_realita\": 93845833000.0, \"fpd.totrealisasi_after\": 38029332000.0, \"fpd.persetarget_all\": 40.523197231357095, \"dr.nama_rek\": \"Pendapatan Bagi Hasil Pajak Kendaraan \\\\nBermotor\"}, {\"fpd.kode_rekening\": \"4.2.2.1.1.2\", \"fpd.terget_realita\": 80242678000.0, \"fpd.totrealisasi_after\": 38644689000.0, \"fpd.persetarget_all\": 48.159769792329215, \"dr.nama_rek\": \"Pendapatan Bagi Hasil Bea Balik Nama Kendaraan Bermotor\"}, {\"fpd.kode_rekening\": \"4.2.2.1.1.3\", \"fpd.terget_realita\": 347267512000.0, \"fpd.totrealisasi_after\": 231472829000.0, \"fpd.persetarget_all\": 66.65548057371979, \"dr.nama_rek\": \"Pendapatan Bagi Hasil Pajak Bahan Bakar Kendaraan Bermotor\"}, {\"fpd.kode_rekening\": \"4.2.2.1.1.4\", \"fpd.terget_realita\": 1083965000.0, \"fpd.totrealisasi_after\": 393508000.0, \"fpd.persetarget_all\": 36.302648148233565, \"dr.nama_rek\": \"Pendapatan Bagi Hasil Pajak Air Permukaan\"}, {\"fpd.kode_rekening\": \"4.2.2.1.1.5\", \"fpd.terget_realita\": 41451203000.0, \"fpd.totrealisasi_after\": 23576488242.0, \"fpd.persetarget_all\": 56.87769361482705, \"dr.nama_rek\": \"Pendapatan Bagi Hasil Pajak Rokok\"}, {\"fpd.kode_rekening\": \"4.2.2.2\", \"fpd.terget_realita\": 588368632326.0, \"fpd.totrealisasi_after\": 385044345951.0, \"fpd.persetarget_all\": 65.44270458960443, \"dr.nama_rek\": \"Bantuan Keuangan\"}, {\"fpd.kode_rekening\": \"4.2.2.2.2\", \"fpd.terget_realita\": 588368632326.0, \"fpd.totrealisasi_after\": 385044345951.0, \"fpd.persetarget_all\": 65.44270458960443, \"dr.nama_rek\": \"Bantuan Keuangan Khusus dari Pemerintah Provinsi\"}, {\"fpd.kode_rekening\": \"4.2.2.2.2.1\", \"fpd.terget_realita\": 588368632326.0, \"fpd.totrealisasi_after\": 385044345951.0, \"fpd.persetarget_all\": 65.44270458960443, \"dr.nama_rek\": \"Bantuan Keuangan Khusus dari Pemerintah Daerah Provinsi\"}, {\"fpd.kode_rekening\": \"4.2.2.2.3\", \"fpd.terget_realita\": 0.0, \"fpd.totrealisasi_after\": 0.0, \"fpd.persetarget_all\": 0.0, \"dr.nama_rek\": \"Bantuan Keuangan Umum dari Pemerintah Kabupaten/Kota\"}, {\"fpd.kode_rekening\": \"4.2.2.2.3.1\", \"fpd.terget_realita\": 0.0, \"fpd.totrealisasi_after\": 0.0, \"fpd.persetarget_all\": 0.0, \"dr.nama_rek\": \"Bantuan Keuangan Umum dari Pemerintah Daerah Kabupaten/Kota\"}, {\"fpd.kode_rekening\": \"4.2.2.2.4\", \"fpd.terget_realita\": 0.0, \"fpd.totrealisasi_after\": 0.0, \"fpd.persetarget_all\": 0.0, \"dr.nama_rek\": \"Bantuan Keuangan Umum dari Pemerintah Daerah Kabupaten/Kota\"}, {\"fpd.kode_rekening\": \"4.2.2.2.4.1\", \"fpd.terget_realita\": 0.0, \"fpd.totrealisasi_after\": 0.0, \"fpd.persetarget_all\": 0.0, \"dr.nama_rek\": \"Bantuan Keuangan Khusus dari Pemerintah Daerah Kabupaten/Kota\"}, {\"fpd.kode_rekening\": \"4.3\", \"fpd.terget_realita\": 60000000000.0, \"fpd.totrealisasi_after\": 65783434869.69, \"fpd.persetarget_all\": 109.63905811615, \"dr.nama_rek\": \"Lain-Lain Pendapatan Daerah yang Sah\"}, {\"fpd.kode_rekening\": \"4.3.1\", \"fpd.terget_realita\": 0.0, \"fpd.totrealisasi_after\": 0.0, \"fpd.persetarget_all\": 0.0, \"dr.nama_rek\": \"Pendapatan Hibah\"}, {\"fpd.kode_rekening\": \"4.3.1.1\", \"fpd.terget_realita\": 0.0, \"fpd.totrealisasi_after\": 0.0, \"fpd.persetarget_all\": 0.0, \"dr.nama_rek\": \"Pendapatan Hibah dari Pemerintah Pusat\"}, {\"fpd.kode_rekening\": \"4.3.1.1.1\", \"fpd.terget_realita\": 0.0, \"fpd.totrealisasi_after\": 0.0, \"fpd.persetarget_all\": 0.0, \"dr.nama_rek\": \"Pendapatan Hibah dari Pemerintah Pusat\"}, {\"fpd.kode_rekening\": \"4.3.1.1.1.1\", \"fpd.terget_realita\": 0.0, \"fpd.totrealisasi_after\": 0.0, \"fpd.persetarget_all\": 0.0, \"dr.nama_rek\": \"Pendapatan Hibah dari Pemerintah Pusat\"}, {\"fpd.kode_rekening\": \"4.3.1.2\", \"fpd.terget_realita\": 0.0, \"fpd.totrealisasi_after\": 0.0, \"fpd.persetarget_all\": 0.0, \"dr.nama_rek\": \"Pendapatan Hibah dari Pemerintah Daerah\\\\nLainnya\"}, {\"fpd.kode_rekening\": \"4.3.1.2.1\", \"fpd.terget_realita\": 0.0, \"fpd.totrealisasi_after\": 0.0, \"fpd.persetarget_all\": 0.0, \"dr.nama_rek\": \"Pendapatan Hibah dari Pemerintah Daerah Lainnya\"}, {\"fpd.kode_rekening\": \"4.3.1.2.1.1\", \"fpd.terget_realita\": 0.0, \"fpd.totrealisasi_after\": 0.0, \"fpd.persetarget_all\": 0.0, \"dr.nama_rek\": \"Pendapatan Hibah dari Pemerintah Daerah\"}, {\"fpd.kode_rekening\": \"4.3.1.3\", \"fpd.terget_realita\": 0.0, \"fpd.totrealisasi_after\": 0.0, \"fpd.persetarget_all\": 0.0, \"dr.nama_rek\": \"Pendapatan Hibah dari Kelompok Masyarakat/Perorangan Dalam Negeri\"}, {\"fpd.kode_rekening\": \"4.3.1.3.1\", \"fpd.terget_realita\": 0.0, \"fpd.totrealisasi_after\": 0.0, \"fpd.persetarget_all\": 0.0, \"dr.nama_rek\": \"Pendapatan Hibah dari Kelompok Masyarakat/Perorangan Dalam Negeri\"}, {\"fpd.kode_rekening\": \"4.3.1.3.1.1\", \"fpd.terget_realita\": 0.0, \"fpd.totrealisasi_after\": 0.0, \"fpd.persetarget_all\": 0.0, \"dr.nama_rek\": \"Pendapatan Hibah dari Kelompok Masyarakat Dalam Negeri/Perorangan dalam Negeri\"}, {\"fpd.kode_rekening\": \"4.3.1.4\", \"fpd.terget_realita\": 0.0, \"fpd.totrealisasi_after\": 0.0, \"fpd.persetarget_all\": 0.0, \"dr.nama_rek\": \"Pendapatan Hibah dari Kelompok Masyarakat  Dalam Negeri/Perorangan dalam Negeri\"}, {\"fpd.kode_rekening\": \"4.3.1.4.1\", \"fpd.terget_realita\": 0.0, \"fpd.totrealisasi_after\": 0.0, \"fpd.persetarget_all\": 0.0, \"dr.nama_rek\": \"Pendapatan Hibah dari Badan/Lembaga/ Organisasi Dalam Negeri\"}, {\"fpd.kode_rekening\": \"4.3.1.4.1.1\", \"fpd.terget_realita\": 0.0, \"fpd.totrealisasi_after\": 0.0, \"fpd.persetarget_all\": 0.0, \"dr.nama_rek\": \"Pendapatan Hibah dari Badan/Lembaga/ Organisasi Dalam Negeri\"}, {\"fpd.kode_rekening\": \"4.3.1.4.2\", \"fpd.terget_realita\": 0.0, \"fpd.totrealisasi_after\": 0.0, \"fpd.persetarget_all\": 0.0, \"dr.nama_rek\": \"Pendapatan Hibah dari Badan/Lembaga/ Organisasi Luar Negeri\"}, {\"fpd.kode_rekening\": \"4.3.1.4.2.1\", \"fpd.terget_realita\": 0.0, \"fpd.totrealisasi_after\": 0.0, \"fpd.persetarget_all\": 0.0, \"dr.nama_rek\": \"Pendapatan Hibah dari Badan/Lembaga/ Organisasi Luar Negeri\"}, {\"fpd.kode_rekening\": \"4.3.1.4.3\", \"fpd.terget_realita\": 0.0, \"fpd.totrealisasi_after\": 0.0, \"fpd.persetarget_all\": 0.0, \"dr.nama_rek\": \"Pendapatan Hibah dari Lembaga/Organisasi Swasta Dalam Negeri\"}, {\"fpd.kode_rekening\": \"4.3.1.4.3.1\", \"fpd.terget_realita\": 0.0, \"fpd.totrealisasi_after\": 0.0, \"fpd.persetarget_all\": 0.0, \"dr.nama_rek\": \"Pendapatan Hibah dari Lembaga/Organisasi Swasta Dalam Negeri\"}, {\"fpd.kode_rekening\": \"4.3.1.4.4\", \"fpd.terget_realita\": 0.0, \"fpd.totrealisasi_after\": 0.0, \"fpd.persetarget_all\": 0.0, \"dr.nama_rek\": \"Pendapatan Hibah dari Lembaga/Organisasi Swasta Luar Negeri\"}, {\"fpd.kode_rekening\": \"4.3.1.4.4.1\", \"fpd.terget_realita\": 0.0, \"fpd.totrealisasi_after\": 0.0, \"fpd.persetarget_all\": 0.0, \"dr.nama_rek\": \"Pendapatan Hibah dari Lembaga/Organisasi Swasta Luar Negeri\"}, {\"fpd.kode_rekening\": \"4.3.1.5\", \"fpd.terget_realita\": 0.0, \"fpd.totrealisasi_after\": 0.0, \"fpd.persetarget_all\": 0.0, \"dr.nama_rek\": \"Sumbangan Pihak Ketiga/Sejenis\"}, {\"fpd.kode_rekening\": \"4.3.1.5.1\", \"fpd.terget_realita\": 0.0, \"fpd.totrealisasi_after\": 0.0, \"fpd.persetarget_all\": 0.0, \"dr.nama_rek\": \"Sumbangan Pihak Ketiga/Sejenis\"}, {\"fpd.kode_rekening\": \"4.3.1.5.1.1\", \"fpd.terget_realita\": 0.0, \"fpd.totrealisasi_after\": 0.0, \"fpd.persetarget_all\": 0.0, \"dr.nama_rek\": \"Sumbangan Pihak Ketiga/Sejeni\"}, {\"fpd.kode_rekening\": \"4.3.2\", \"fpd.terget_realita\": 0.0, \"fpd.totrealisasi_after\": 0.0, \"fpd.persetarget_all\": 0.0, \"dr.nama_rek\": \"Dana Darurat\"}, {\"fpd.kode_rekening\": \"4.3.2.1\", \"fpd.terget_realita\": 0.0, \"fpd.totrealisasi_after\": 0.0, \"fpd.persetarget_all\": 0.0, \"dr.nama_rek\": \"Dana Darurat\"}, {\"fpd.kode_rekening\": \"4.3.2.1.1\", \"fpd.terget_realita\": 0.0, \"fpd.totrealisasi_after\": 0.0, \"fpd.persetarget_all\": 0.0, \"dr.nama_rek\": \"Dana Darurat\"}, {\"fpd.kode_rekening\": \"4.3.2.1.1.1\", \"fpd.terget_realita\": 0.0, \"fpd.totrealisasi_after\": 0.0, \"fpd.persetarget_all\": 0.0, \"dr.nama_rek\": \"Dana Darurat pada Tahap Pasca Bencana\"}, {\"fpd.kode_rekening\": \"4.3.3\", \"fpd.terget_realita\": 60000000000.0, \"fpd.totrealisasi_after\": 65783434869.69, \"fpd.persetarget_all\": 109.63905811615, \"dr.nama_rek\": \"Lain-lain Pendapatan Sesuai dengan Ketentuan Peraturan Perundang-Undangan\"}, {\"fpd.kode_rekening\": \"4.3.3.1\", \"fpd.terget_realita\": 60000000000.0, \"fpd.totrealisasi_after\": 65783434869.69, \"fpd.persetarget_all\": 109.63905811615, \"dr.nama_rek\": \"Lain-lain Pendapatan\"}, {\"fpd.kode_rekening\": \"4.3.3.1\", \"fpd.terget_realita\": 60000000000.0, \"fpd.totrealisasi_after\": 65783434869.69, \"fpd.persetarget_all\": 109.63905811615, \"dr.nama_rek\": \"Lain-lain Pendapatan\"}, {\"fpd.kode_rekening\": \"4.3.3.1.1\", \"fpd.terget_realita\": 0.0, \"fpd.totrealisasi_after\": 0.0, \"fpd.persetarget_all\": 0.0, \"dr.nama_rek\": \"Pendapatan Hibah Dana BOS\"}, {\"fpd.kode_rekening\": \"4.3.3.1.1.1\", \"fpd.terget_realita\": 0.0, \"fpd.totrealisasi_after\": 0.0, \"fpd.persetarget_all\": 0.0, \"dr.nama_rek\": \"Pendapatan Hibah Dana BOS\"}, {\"fpd.kode_rekening\": \"4.3.3.1.2\", \"fpd.terget_realita\": 0.0, \"fpd.totrealisasi_after\": 0.0, \"fpd.persetarget_all\": 0.0, \"dr.nama_rek\": \"Pendapatan atas Pengembalian Hibah\"}, {\"fpd.kode_rekening\": \"4.3.3.1.2.1\", \"fpd.terget_realita\": 0.0, \"fpd.totrealisasi_after\": 0.0, \"fpd.persetarget_all\": 0.0, \"dr.nama_rek\": \"Pendapatan atas Pengembalian Hibah pada Pemerintah\"}, {\"fpd.kode_rekening\": \"4.3.3.1.2.2\", \"fpd.terget_realita\": 0.0, \"fpd.totrealisasi_after\": 0.0, \"fpd.persetarget_all\": 0.0, \"dr.nama_rek\": \"Pendapatan atas Pengembalian Hibah pada Pemerintah Daerah Lainnya\"}, {\"fpd.kode_rekening\": \"4.3.3.1.2.3\", \"fpd.terget_realita\": 0.0, \"fpd.totrealisasi_after\": 0.0, \"fpd.persetarget_all\": 0.0, \"dr.nama_rek\": \"Pendapatan atas Pengembalian Hibah pada Pemerintah Daerah Lainnya\"}, {\"fpd.kode_rekening\": \"4.3.3.1.2.4\", \"fpd.terget_realita\": 0.0, \"fpd.totrealisasi_after\": 0.0, \"fpd.persetarget_all\": 0.0, \"dr.nama_rek\": \"Pendapatan atas Pengembalian Hibah pada BUMD\"}, {\"fpd.kode_rekening\": \"4.3.3.1.2.5\", \"fpd.terget_realita\": 0.0, \"fpd.totrealisasi_after\": 0.0, \"fpd.persetarget_all\": 0.0, \"dr.nama_rek\": \"Pendapatan atas Pengembalian Hibah pada Badan, Lembaga, dan Organisasi Kemasyarakatan yang Berbadan hukum Indonesia\"}, {\"fpd.kode_rekening\": \"4.3.3.1.2.6\", \"fpd.terget_realita\": 0.0, \"fpd.totrealisasi_after\": 0.0, \"fpd.persetarget_all\": 0.0, \"dr.nama_rek\": \"Pendapatan atas Pengembalian Hibah Bantuan Keuangan pada Partai Politik\"}, {\"fpd.kode_rekening\": \"4.3.3.1.3\", \"fpd.terget_realita\": 60000000000.0, \"fpd.totrealisasi_after\": 65783434869.69, \"fpd.persetarget_all\": 109.63905811615, \"dr.nama_rek\": \"Lain lain Pendapatan Sesuai Ketentuan Peraturan Perundang-Undangan\"}, {\"fpd.kode_rekening\": \"4.3.3.1.3.1\", \"fpd.terget_realita\": 60000000000.0, \"fpd.totrealisasi_after\": 65783434869.69, \"fpd.persetarget_all\": 109.63905811615, \"dr.nama_rek\": \"Pendapatan lain lain yang Sah sesuai  Peraturan Perundang-Undangan\"}]'"
            ],
            "application/vnd.google.colaboratory.intrinsic+json": {
              "type": "string"
            }
          },
          "metadata": {},
          "execution_count": 9
        }
      ]
    },
    {
      "cell_type": "code",
      "source": [
        "api = CourseAPIClient()\n",
        "api.get_tax(\"4.1\")"
      ],
      "metadata": {
        "colab": {
          "base_uri": "https://localhost:8080/",
          "height": 53
        },
        "id": "foKmpFY2Z5VQ",
        "outputId": "baf8d870-79d3-4056-ef14-bf4f23641269"
      },
      "execution_count": 10,
      "outputs": [
        {
          "output_type": "execute_result",
          "data": {
            "text/plain": [
              "'[{\"fpd.kode_rekening\": \"4.1\", \"fpd.terget_realita\": 771072268674.0, \"fpd.totrealisasi_after\": 554413320244.93, \"fpd.persentarget_all\": 71.90160284176027, \"dr.nama_rek\": \"Pendapatan Asli Daerah\"}]'"
            ],
            "application/vnd.google.colaboratory.intrinsic+json": {
              "type": "string"
            }
          },
          "metadata": {},
          "execution_count": 10
        }
      ]
    },
    {
      "cell_type": "code",
      "execution_count": 11,
      "metadata": {
        "id": "hpMPVVqQS54E"
      },
      "outputs": [],
      "source": [
        "\n",
        "class GetCourseInput(BaseModel):\n",
        "    course: str = Field(description=\"name of the course. this is the unique identifier of the course. it typically contains the course title with dashes, all in lowercase.\")\n",
        "\n",
        "class GetOrderInput(BaseModel):\n",
        "    order_number: str = Field(description=\"order number identifier. this is a unique identifier in uuid format.\")\n",
        "\n",
        "class CreateOrderInput(BaseModel):\n",
        "    course: str = Field(description=\"name of the course. this is the unique identifier of the course. it typically contains the course title with dashes, all in lowercase.\")\n",
        "    user_name: str = Field(description=\"name of the user who is purchasing the course .\")\n",
        "    user_email: str = Field(description=\"email of the user who is purchasing the course.\")\n",
        "\n",
        "class CourseAgent(reasoning_engines.Queryable):\n",
        "    def __init__(\n",
        "        self,\n",
        "        model: str,\n",
        "        project: str,\n",
        "        region: str,\n",
        "        instance: str,\n",
        "        database: str,\n",
        "        table: str,\n",
        "        user: Optional[str] = None,\n",
        "        password: Optional[str] = None,\n",
        "\n",
        "    ):\n",
        "        self.model_name = model\n",
        "        self.project = project\n",
        "        self.region = region\n",
        "        self.instance = instance\n",
        "        self.database = database\n",
        "        self.table = table\n",
        "        self.user = user\n",
        "        self.password = password\n",
        "        self.store = {}\n",
        "        self.agent = None\n",
        "        self.retriever = None\n",
        "        self.engine = None\n",
        "\n",
        "    def __getstate__(self):\n",
        "        \"\"\"Custom method for pickling the object.\"\"\"\n",
        "        state = self.__dict__.copy()\n",
        "        # Remove the unpicklable entries\n",
        "        del state['agent']\n",
        "        del state['retriever']\n",
        "        del state['engine']\n",
        "        return state\n",
        "\n",
        "    def __setstate__(self, state):\n",
        "        \"\"\"Custom method for unpickling the object.\"\"\"\n",
        "        self.__dict__.update(state)\n",
        "        self.agent = None\n",
        "        self.retriever = None\n",
        "        self.engine = None\n",
        "        # Note: set_up() will need to be called after unpickling\n",
        "\n",
        "\n",
        "    def list_tax(self) -> List[str]:\n",
        "        \"\"\"List all available courses sold on the platform.\"\"\"\n",
        "        client = CourseAPIClient()\n",
        "        return client.list_tax()\n",
        "\n",
        "    def get_course(self, param: str) -> str:\n",
        "        \"\"\"Get course details by course name. course name is the unique identifier of the course. it typically contains the course title with dashes.\n",
        "        This function can be used to get course details such as course price, etc.\"\"\"\n",
        "        client = CourseAPIClient()\n",
        "        return client.get_tax(param)\n",
        "\n",
        "    def ticket_summaries(self, param: str) -> str:\n",
        "        \"\"\"Get course details by course name. course name is the unique identifier of the course. it typically contains the course title with dashes.\n",
        "        This function can be used to get course details such as course price, etc.\"\"\"\n",
        "        client = CourseAPIClient()\n",
        "        return client.ticket_summaries(param)\n",
        "\n",
        "    def data_report(self, param: str) -> str:\n",
        "        \"\"\"Get course details by course name. course name is the unique identifier of the course. it typically contains the course title with dashes.\n",
        "        This function can be used to get course details such as course price, etc.\"\"\"\n",
        "        client = CourseAPIClient()\n",
        "        return client.data_report(param)\n",
        "\n",
        "    def get_session_history(self, session_id: str) -> BaseChatMessageHistory:\n",
        "        return PostgresChatMessageHistory.create_sync(\n",
        "            self.engine,\n",
        "            table_name=chat_history_table_name,\n",
        "            session_id=session_id,\n",
        "        )\n",
        "\n",
        "    def set_up(self):\n",
        "        \"\"\"All unpickle-able logic should go here.\n",
        "        In general, add any logic that requires a network or database\n",
        "        connection.\n",
        "        \"\"\"\n",
        "\n",
        "        #  we must initialize the Vertex AI client to use the right project and location\n",
        "        # otherwise, when the agent is initialized in reasoning engine, it will use reasoning engine project\n",
        "        vertexai.init(project=self.project, location=self.region)\n",
        "\n",
        "        # Initialize the vector store\n",
        "        self.engine = PostgresEngine.from_instance(\n",
        "            self.project,\n",
        "            self.region,\n",
        "            self.instance,\n",
        "            self.database,\n",
        "            user=self.user,\n",
        "            password=self.password,\n",
        "            quota_project=self.project,\n",
        "        )\n",
        "\n",
        "        embeddings_service = VertexAIEmbeddings(model_name=gemini_embedding_model,\n",
        "                                                project=self.project)\n",
        "\n",
        "        vector_store = PostgresVectorStore.create_sync(\n",
        "            self.engine,\n",
        "            table_name=self.table,\n",
        "            embedding_service=embeddings_service,\n",
        "        )\n",
        "        self.retriever = vector_store.as_retriever(search_kwargs={\"k\": 10})\n",
        "\n",
        "        get_course = StructuredTool.from_function(\n",
        "            func=self.get_course,\n",
        "            name=\"get_course\",\n",
        "            description=\"Jelaskan rincian dari pendapatan atau pajak daerah.\",\n",
        "        )\n",
        "\n",
        "        list_tax = StructuredTool.from_function(\n",
        "            func=self.list_tax,\n",
        "            name=\"list_tax\",\n",
        "            description=\"Daftar pendapatan daerah yang terkumpul.\",\n",
        "        )\n",
        "\n",
        "        ticket_summaries = StructuredTool.from_function(\n",
        "            func=self.ticket_summaries,\n",
        "            name=\"ticket_summaries\",\n",
        "            description=\"Hitung jumlah pendapatan pada kelompok tiket tertentu.\"\n",
        "        )\n",
        "\n",
        "        data_report = StructuredTool.from_function(\n",
        "            func=self.data_report,\n",
        "            name=\"data_report\",\n",
        "            description=\"Buat file laporan.\"\n",
        "        )\n",
        "\n",
        "        tools = [get_course, list_tax]\n",
        "\n",
        "        # Initialize the LLM and prompt\n",
        "        prompt = {\n",
        "            \"chat_history\": lambda x: x[\"history\"],\n",
        "            \"input\": lambda x: x[\"input\"],\n",
        "            \"agent_scratchpad\": (\n",
        "                lambda x: format_to_openai_function_messages(x[\"intermediate_steps\"])\n",
        "            ),\n",
        "        } | ChatPromptTemplate(\n",
        "            messages = [\n",
        "                SystemMessagePromptTemplate.from_template(\"\"\"\n",
        "                You are a bot assistant that sells online course about software security. You only use information provided from datastore or tools. You can provide the information that is relevant to the user's question or the summary of the content. If they ask about the content, you can give them more detail about the content. If the user seems interested, you may suggest the user to enroll in the course.\n",
        "                \"\"\"),\n",
        "                MessagesPlaceholder(variable_name=\"chat_history\", optional=True),\n",
        "                HumanMessagePromptTemplate.from_template(\"Use tools to answer this questions: {input}\"),\n",
        "                MessagesPlaceholder(variable_name=\"agent_scratchpad\"),\n",
        "            ]\n",
        "        )\n",
        "\n",
        "        safety_settings = {\n",
        "            HarmCategory.HARM_CATEGORY_UNSPECIFIED: HarmBlockThreshold.BLOCK_ONLY_HIGH,\n",
        "            HarmCategory.HARM_CATEGORY_SEXUALLY_EXPLICIT: HarmBlockThreshold.BLOCK_ONLY_HIGH,\n",
        "            HarmCategory.HARM_CATEGORY_HARASSMENT: HarmBlockThreshold.BLOCK_ONLY_HIGH,\n",
        "            HarmCategory.HARM_CATEGORY_DANGEROUS_CONTENT: HarmBlockThreshold.BLOCK_ONLY_HIGH,\n",
        "            HarmCategory.HARM_CATEGORY_HATE_SPEECH: HarmBlockThreshold.BLOCK_ONLY_HIGH,\n",
        "        }\n",
        "\n",
        "        ## Model parameters\n",
        "        model_kwargs = {\n",
        "            \"temperature\": 0.5,\n",
        "            \"safety_settings\": safety_settings,\n",
        "        }\n",
        "\n",
        "        self.agent = reasoning_engines.LangchainAgent(\n",
        "            model=self.model_name,\n",
        "            tools=tools,\n",
        "            prompt=prompt,\n",
        "            chat_history=self.get_session_history,\n",
        "            agent_executor_kwargs={\n",
        "                \"return_intermediate_steps\": True,\n",
        "            },\n",
        "            model_kwargs=model_kwargs,\n",
        "            enable_tracing=True,\n",
        "        )\n",
        "        print(\"agent is configured\")\n",
        "\n",
        "\n",
        "    def query(self, input: str, session_id: str) -> str:\n",
        "        \"\"\"Query the application.\n",
        "\n",
        "        Args:\n",
        "            input: The user query.\n",
        "            session_id: The user's session id.\n",
        "\n",
        "        Returns:\n",
        "            The LLM response dictionary.\n",
        "        \"\"\"\n",
        "\n",
        "        response = self.agent.query(\n",
        "            input=input,\n",
        "            config={\"configurable\": {\"session_id\": session_id}},\n",
        "        )\n",
        "        return response"
      ]
    },
    {
      "cell_type": "markdown",
      "metadata": {
        "id": "ArS3bZo2S54E"
      },
      "source": [
        "### Instantiating the agent"
      ]
    },
    {
      "cell_type": "code",
      "execution_count": 51,
      "metadata": {
        "id": "Q8b5X6xKS54F",
        "colab": {
          "base_uri": "https://localhost:8080/"
        },
        "outputId": "6a53ac59-f5ad-4629-b2f4-471701e78797"
      },
      "outputs": [
        {
          "output_type": "stream",
          "name": "stdout",
          "text": [
            "agent is configured\n"
          ]
        }
      ],
      "source": [
        "agent = CourseAgent(\n",
        "    model=gemini_llm_model,\n",
        "    project=project_id,\n",
        "    region=region,\n",
        "    instance=instance_name,\n",
        "    database=database_name,\n",
        "    table=embeddings_table_name,\n",
        "    user=database_user,\n",
        "    password=database_password,\n",
        ")\n",
        "agent.set_up()"
      ]
    },
    {
      "cell_type": "code",
      "source": [],
      "metadata": {
        "id": "QlIcvSgkflTa"
      },
      "execution_count": null,
      "outputs": []
    },
    {
      "cell_type": "markdown",
      "metadata": {
        "id": "78fbwTCqS54F"
      },
      "source": [
        "### Testing agent (again) locally"
      ]
    },
    {
      "cell_type": "code",
      "execution_count": 52,
      "metadata": {
        "id": "TRdyJGXMS54F",
        "colab": {
          "base_uri": "https://localhost:8080/"
        },
        "outputId": "5ad5417e-7dd6-45e8-94bb-15d09fd48b47"
      },
      "outputs": [
        {
          "output_type": "stream",
          "name": "stdout",
          "text": [
            "Generated session ID: 9aba99ef-aa4c-4047-9182-aeac34753a6f\n"
          ]
        }
      ],
      "source": [
        "import uuid\n",
        "\n",
        "# Generate a UUID for the session ID\n",
        "session_id = str(uuid.uuid4())\n",
        "print(f\"Generated session ID: {session_id}\")"
      ]
    },
    {
      "cell_type": "code",
      "execution_count": 19,
      "metadata": {
        "id": "sx2kwC_nS54F",
        "colab": {
          "base_uri": "https://localhost:8080/",
          "height": 1000
        },
        "outputId": "084cf7f3-2f05-4bee-a855-297a775f041c"
      },
      "outputs": [
        {
          "output_type": "display_data",
          "data": {
            "text/plain": [
              "<IPython.core.display.Markdown object>"
            ],
            "text/markdown": "Berikut adalah daftar data pendapatan yang disimpan:\n- Pendapatan Daerah\n- Pendapatan Asli Daerah\n- Hasil Pajak Daerah\n- Pajak Jasa Perhotelan\n- Pajak Hotel\n- Hotel Bintang Lima\n- Hotel Bintang Empat\n- Hotel Bintang Tiga\n- Hotel Bintang Dua\n- Hotel Bintang Satu\n- Hotel Melati Satu\n- Pajak Motel\n- Pajak Losmen\n- Pajak Gubuk Pariwisata\n- Pajak Wisma Pariwisata\n- Pajak Pesanggrahan\n- Pajak Pesanggrahan (Cotege)\n- Pajak Rumah Penginapan dan Sejenisnya\n- Pajak Rumah Kos dengan Jumlah Kamar Lebih dari 10 (Sepuluh)\n- Pajak Hotel (Kost 11+)\n- Pajak Hotel (Kost 20+)\n- Pajak Makanan dan/atau Minuman\n- Pajak Restoran\n- Pajak Restoran dan Sejenisnya\n- Pajak Rumah Makan dan Sejenisnya\n- Pajak Kafetaria dan Sejenisnya\n- Pajak Kantin dan Sejenisnya\n- Pajak Warung dan Sejenisnya\n- Pajak Bar dan Sejenisnya\n- Pajak Jasa Boga/Katering dan Sejenisnya\n- Pajak Jasa Kesenian dan Hiburan\n- Pajak Tontonan Film\n- Pajak Pagelaran Kesenian/Musik/Tari/Busana\n- Pajak Kontes Kecantikan, Binaraga dan Sejenisnya\n- Pajak Pameran\n- Pajak Diskotik, Karoke, Klub Malam dan Sejenisnya\n- Karaoke\n- Klub Malam\n- Pajak Sirkus/Akrobat/Sulap\n- Pajak Permainan Biliar dan Bowling\n- Pajak Pacuan Kuda, Kendaraan Bermotor dan Permainan Ketangkasan\n- Balap Kendaraan Bermotor\n- Permainan Ketangkasan\n- Pajak Panti Pijat, Refleksi, Mandi Uap/Spa dan Pusat Kebugaran (Fitness Center)\n- Panti Pijat/Refleksi\n- Mandi Uap/Spa\n- Spa Dalam Salon Kecantikan\n- Pusat Kebugaran/Fitness Center\n- Pajak Pertandingan Olahraga\n- Pajak Rekreasi Wahana Air\n- Pajak Rekreasi Wahana Ekologi\n- Pajak Rekreasi Wahana Pendidikan\n- Pajak Rekreasi Wahana Budaya\n- Pajak Rekreasi Wahana Salju\n- Pajak Rekreasi Wahana Permainan\n- Pajak Pemancingan\n- Pajak Argowisata\n- Pajak Kebun Binatang\n- Pajak Tempat Olah Raga Dan Kebugaran\n- Pajak Reklame\n- Pajak Reklame Papan/Billboard/Videotron/Megatron\n- Pajak Reklame Kain\n- Pajak Reklame Melekat/Stiker\n- Pajak Reklame Selebaran\n- Pajak Reklame Berjalan\n- Pajak Reklame Udara\n- Pajak Reklame Apung\n- Pajak Reklame Suara\n- Pajak Reklame Film/Slide\n- Pajak Reklame Peragaan\n- Pajak Tenaga Listrik\n- Pajak Tenaga Listrik Dihasilkan Sendiri\n- Pajak Tenaga Listrik Sumber Lain\n- 01. Genset\n- 02. Industri\n- Pajak Parkir\n- 01. Pusat Perbelanjaan/ Mall\n- 02. Lain - lain\n- 03. Cuma-Cuma\n- Pajak Air Tanah\n- Pajak Sarang Burung Walet\n- Pajak Mineral Bukan Logam dan Batuan\n- Pajak Mineral bukan Logam dan Batuan Lainnya\n- Pajak Bumi dan Bangunan Perdesaan dan Perkotaan (PBBP2)\n- PBB P2\n- Bea Perolehan Hak Atas Tanah dan Bangunan (BPHTB)\n- BPHTB - Pemindahan Hak\n- BPHTB-Pemberian Hak Baru\n- Hasil Retribusi Daerah\n- Retribusi Jasa Umum\n- Retribusi Pelayanan Kesehatan\n- Retribusi Pelayanan Kesehatan di Puskesmas\n- Pendapatan BLUD\n- 01. RSUD IA. Moies\n- 02. PUSKESMAS\n- Retribusi Pelayanan Persampahan/ Kebersihan\n- Retribusi Pelayanan Pemakaman dan Pengabuan Mayat\n- Retribusi Pelayanan Penguburan/Pemakaman termasuk Penggalian dan Pengurukan serta Pembakaran/Pengabuan Mayat\n- Retribusi Sewa Tempat Pemakaman atau Pembakaran/Pengabuan Mayat\n- Retribusi Pelayanan Parkir di Tepi Jalan Umum\n- Retribusi Penyediaan Pelayanan Parkir di Tepi Jalan Umum\n- Retribusi Pelayanan Pasar\n- Retribusi Pelayanan Pasar\n- Retribusi Pengujian Kendaraan Bermotor\n- Retribusi Pengujian Kendaraan Bermotor\n- Retribusi Pengujian Kendaraan Bermotor Diatas Air\n- Retribusi Pemeriksaan Alat Pemadam Kebakaran\n- Retribusi Pelayanan Pemeriksaan dan/atau Pengujian Alat Pemadam Kebakaran\n- Retribusi Pelayanan Pemeriksaan dan/atau Pengujian Alat Penanggulangan Kebakaran\n- Retribusi Pelayanan Pemeriksaan dan/atau Pengujian Alat Penyelamatan Jiwa\n- Retribusi Penggantian Biaya Cetak Peta\n- Retribusi Penyediaan Peta Dasar (Garis)\n- Retribusi Penyediaan Peta Foto\n- Retribusi Penyediaan Peta Digital\n- Retribusi Penyediaan Peta Tematik\n- Retribusi Penyediaan Peta Teknis (Struktur)\n- Retribusi Penyediaan dan/atau Penyedotan Kakus\n- Retribusi Penyediaan dan/atau Penyedotan Kakus\n- Retribusi Penyediaan dan/atau Penyedotan Kakus\n- Retribusi Pengelolahan Limbah Cair\n- Retribusi Rumah Tangga\n- Retribusi Perkantoran\n- Retribusi Industri\n- Retribusi Pelayanan Tera/Tera Ulang\n- Retribusi Pelayanan Pengujian Alat-Alat Ukur, Takar, Timbang, dan Perlengkapannya\n- Retribusi Pengujian Barang dalam Keadaan Terbungkus\n- Retribusi Pelayanan Pendidikan\n- Retribusi Pelayanan Penyelenggaraan Pendidikan Teknis\n- Retribusi Pelayanan Penyelenggaraan Pelatihan Teknis\n- Retribusi Pelayanan Penyelenggaraan Pendidikan dan Pelatihan Teknis\n- Retribusi Pengawasan dan Pengendalian Menara Telekomunikasi\n- Retribusi Pengawasan dan Pengendalian Menara Telekomunikasi\n- Retribusi Jasa Usaha\n- Retribusi Pemakaian Kekayaan Daerah\n- Retribusi Penyewaan Tanah dan Bangunan\n- Retribusi Penyewaan Tanah\n- 01.1 Sewa Tanah Milik Pemerintah/BPKAD\n- 01.01 Sewa Tanah Milik Pemerintah/DISHUB\n- 01.02.Retribusi Pemakaian Tanah Di Atas HPL Milik Pemkot Samarinda\n- 01.03. Retribusi sewa kios/petak/los- Dinas Perdagangan\n- Retribusi Penyewaan Bangunan\n- 01. Gedung Olahraga Segiri\n- 02. Sewa Lapangan Parkir Gedung Olahraga Segiri\n- 03. Stadion Segiri\n- 04. Sirkuit Kalan\n- 05. Rumah Dinas\n- * Pasar (Pemanfaatan Aset Daerah)\n- Pendapatan Zakat\n- Retribusi Pemakaian Laboratorium\n- Retribusi Pemakaian Ruangan\n- 01. Retr. Pemakaian Aset Daerah Berjualan Dalam Pasar (Disdag)\n- Retribusi Pemakaian Kendaraan bermotor\n- 01. Bus Besar\n- 02. Bus Kecil\n- Retribusi Pemakaian Alat\n- 01. Alat Laboratorium/Pengujian\n- 02. Alat Survey/Pengukuran\n- 03. Alat Berat\n- Retribusi Pasar Grosir dan/atau Perkotaan\n- Retribusi Penyediaan Fasilitas Pasar Grosir Berbagai Jenis Barang yang Dikontrakkan\n- Retribusi Penyediaan Fasilitas Pasar/Pertokoan yang Dikontrakkan\n- Retribusi Tempat Pelelangan\n- Retribusi Penyediaan Tempat Pelelangan\n- Retribusi Penyediaan Fasilitas Lainnya di Tempat Pelelangan\n- 01. Retribusi sandar Kapal (setiap sandar)\n- 02. Pas Masuk untuk perorangan ke area kerja PPI (per Tahun)\n- 03. Masuk untuk kendaraan ke area TPI (setiap kali masuk)\n- 04. Pemakaian Fasilitas PPI untuk penjualan ikan (pendaratan ikan dan SIKPI)\n- 05. Pemakaian Lokasi PPI untuk produksi es balok\n- 06. Ret. Jasa Ruang Pendingin Ikan di PPI\n- Retribusi Terminal\n- Retribusi Pelayanan Penyediaan Tempat Parkir untuk Kendaraan Penumpang dan Bus Umum\n- Retribusi Pelayanan Penyediaan Tempat Kegiatan Usaha\n- Retribusi Pelayanan Penyediaan Fasilitas Lainnya di Lingkungan Terminal\n- Retribusi Tempat Parkir Khusus\n- Retribusi Pelayanan Tempat Khusus Parkir\n- 01. Untuk Parkir Dalam Area Pasar/DISDAG\n- 02. Untuk Taman Buah Bebaya/DISHUB\n- 03. Untuk Parkir Gor Segiri-dishub\n- 04. Untuk Parkir Gor Segiri-dispora\n- 05. Untuk Parkir Plaza 21\n- 06. Untuk Parkir Pasar-Pasar\n- 07. Untuk Parkir RSUD IA MOEIS\n- 08. Untuk Parkir Pasar Merdeka\n- 09. Untuk Parkir Pasar Sungai Dama\n- 10. Untuk Parkir Taman Samarendah\n- 11. Untuk Parkir Pasar Baqa\n- Retribusi Tempat Penginapan/ Pesanggrahan/Vila\n- Retribusi Pelayanan Tempat Penginapan/ Pesanggrahan/Vila\n- 01. Mess Perwakilan Samarinda di Jakarta\n- Retribusi Rumah Potong Hewan\n- Retribusi Pelayanan Rumah Potong Hewan\n- 01. Pemeriksaan Kesehatan Hewan di Rumah Pemotongan Hewan\n- 02. Pemeriksaan Kesehatan Unggas dan/atau Daging Unggas di RPH\n- 03. Pengandangan di RPH\n- Pelayanan Kesehatan untuk Hewan Ternak\n- Retribusi Pelayanan Kepelabuhanan\n- Retribusi Pelayanan Kepelabuhanan\n- 01. Laut\n- 01.1 Pelayanan Kapal\n- 01.2 Pelayanan Barang\n- 01.3 Pelayanan Lainnya\n- 02. Angkutan Sungai\n- 02.1 Tambat Kapal\n- 02.2 Tarif Masuk Dermaga\n- 02.3 Lain - lain (mck,wc,kios,toko)\n- 02.4 Tarif Masuk Dermaga S. Kunjang\n- 02.5 Tarif Masuk Dermaga Pasar Pagi\n- 02.5 Tarif Masuk Dermaga Harapan Baru\n- 02.5 Tarif Masuk Dermaga Samarinda Seberang\n- 02.6 Tarif Masuk Dermaga Loa Janan\n- Retribusi Tempat Rekreasi dan Olahraga\n- Retribusi Pelayanan Tempat Rekreasi dan Olahraga\n- Retribusi Penyebrangan di Air\n- Retribusi Pelayanan Penyeberangan Orang\n- Retribusi Pelayanan Penyeberangan Barang\n- Retribusi Penjualan Produksi Usaha Daerah\n- Retribusi Penjualan Produksi Hasil Usaha Daerah berupa Bibit atau Benih Tanaman\n- Retribusi Penjualan Produksi hasil Usaha Daerah berupa Bibit Ternak\n- Retribusi Penjualan Produksi hasil Usaha Daerah berupa Bibit atau Benih Ikan\n- Retribusi Penjualan Produksi hasil Usaha Daerah selain Bibit atau Benih Tanaman, Ternak, dan Ikan\n- Retribusi Perizinan Tertentu\n- Retribusi Izin Mendirikan Bangunan\n- Retribusi Pemberian Izin Mendirikan Bangunan\n- Retribusi Izin Tempat Penjualan Minuman Beralkohol\n- Retribusi Pemberian Izin Tempat Penjualan Minuman Beralkohol\n- Retribusi Izin Trayek untuk Menyediakan Pelayanan Angkutan Umum\n- Retribusi Izin Trayek untuk Menyediakan Pelayanan Angkutan Umum\n- Retribusi Izin Usaha Perikanan\n- Retribusi Pemberian Izin Kegiatan Usaha Penangkapan Ikan\n- Retribusi Pemberian Izin Kegiatan Usaha Pembudidayaan Ikan\n- Retribusi Pengendalian Lalu Lintas\n- Retribusi Pengendalian Lalu Lintas Penggunaan Ruas Jalan Tertentu\n- Retribusi Pengendalian Lalu Lintas Penggunaan Koridor Tertentu\n- Retribusi Pengendalian Lalu Lintas Penggunaan Kawasan Tertentu\n- Retribusi Perpanjangan Izin Mempekerjakan Tenaga Kerja Asing (IMTA)\n- Retribusi Pemberian Perpanjangan IMTA kepada Pemberi Kerja Tenaga Kerja Asing\n- Hasil Pengelolaan Kekayaan Daerah yang Dipisahkan\n- Bagian Laba yang Dibagikan kepada Pemerintah Daerah (Dividen) atas Penyertaan Modal pada BUMN\n- Bagian Laba yang Dibagikan kepada Pemerintah Daerah (Dividen) atas Penyertaan Modal pada BUMD\n- Hasil Selisih Lebih Tukar Menukar Jalan dan Jembatan\n- Bagian Laba yang Dibagikan kepada Pemerintah Daerah (Dividen) atas Penyertaan Modal pada BUMD (Lembaga Keuangan)\n- Bagian Laba yang Dibagikan kepada Pemerintah Daerah (Dividen) atas Penyertaan Modal pada BUMD (Lembaga Keuangan)\n- 01. Bankaltim\n- 02. Bank Perkreditan Rakyat (BPR) Kota Samarinda\n- Bagian Laba yang Dibagikan kepada Pemerintah Daerah (Dividen) atas Penyertaan Modal pada BUMD (Varian Niaga)\n- Bagian Laba yang Dibagikan kepada Pemerintah Daerah (Dividen) atas Penyertaan Modal pada BUMD (Varian Niaga)\n- Bagian Laba yang Dibagikan kepada Pemerintah Daerah (Dividen) atas Penyertaan Modal pada BUMD (Bidang Air Minum)\n- Bagian Laba yang Dibagikan kepada Pemerintah Daerah (Dividen) atas Penyertaan Modal pada Perusahaan Milik Daerah/BUMD (Bidang Air Minum)\n- 01. Perusahaan Daerah Air Minum (PDAM)\n- Bagian Laba yang Dibagikan kepada Pemerintah Daerah (Dividen) atas Penyertaan Modal pada BUMD (Bidang Limbah)\n- Bagian Laba yang Dibagikan kepada Pemerintah Daerah (Dividen) atas Penyertaan Modal pada BUMD (Bidang Limbah)\n- Bagian Laba yang Dibagikan kepada Pemerintah Daerah (Dividen) atas Penyertaan Modal pada BUMD (Bidang Sanitasi)\n- Bagian Laba yang Dibagikan kepada Pemerintah Daerah (Dividen) atas Penyertaan Modal pada BUMD (Bidang Sanitasi)\n- Bagian Laba yang dibagikan kepada Pemerintah Daerah (Dividen) atas Penyertaan Modal pada Perusahaan Milik Swasta\n- Bagian Laba yang Dibagikan kepada Pemerintah Daerah (Dividen) atas Penyertaan Modal pada Perusahaan Milik Swasta\n- Bagian Laba yang Dibagikan kepada Pemerintah Daerah (Dividen) atas Penyertaan Modal pada Perusahaan Milik Swasta\n- Lain-lain Pendapatan Asli Daerah yang Sah\n- Hasil Penjualan BMD yang Tidak Dipisahkan\n- Hasil Penjualan Tanah\n- Hasil Penjualan Tanah Digunakan untuk mencatat pendapatan dari hasil penjualan atas tanah.\n- Hasil Penjualan Peralatan dan Mesin\n- Hasil Penjualan Alat Besar\n- Hasil Penjualan Alat Angkutan\n- Hasil Penjualan Alat Bengkel dan Alat Ukur\n- Hasil Penjualan Alat Pertanian\n- Hasil Penjualan Alat Kantor dan Rumah Tangga\n- Hasil Penjualan Alat Studio, Komunikasi, dan Pemancar\n- Hasil Penjualan Alat Kedokteran dan Kesehatan\n- Hasil Penjualan Alat Laboratorium\n- Hasil Penjualan Komputer\n- Hasil Penjualan Alat Eksplorasi\n- Hasil Penjualan Alat Pengeboran\n- Hasil Penjualan Alat Produksi, Pengolahan, dan Pemurnian\n- Hasil Penjualan Alat Bantu Eksplorasi\n- Hasil Penjualan Alat Keselamatan Kerja\n- Hasil Penjualan Alat Peraga\n- Hasil Penjualan Peralatan Proses/Produksi\n- Hasil Penjualan Rambu-rambu\n- Hasil Penjualan Peralatan Olahraga\n- Hasil Penjualan Gedung dan Bangunan\n- Hasil Penjualan Gedung dan Bangunan\n- 02.Pendapatan Dari Angsuran/ Cicilan Penjualan\n- Angsuran/Cicilan Penjualan Rumah Dinas Daerah Golongan III\n- 01. Pokok Angsuran / Cicilan Penjualan Rumah Dinas Daerah Gol III\n- 02. Denda Angsuran / Cicilan Penjualan Rumah Dinas Daerah Gol III\n- Angsuran/Cicilan Penjualan Kendaraan Perorangan Dinas\n- 01. Pokok Angsuran/Cicilan Penjualan Kendaraan Perorangan Dinas\n- 02. Denda Angsuran/Cicilan Penjualan Kendaraan Perorangan Dinas\n- Angsuran/Cicilan Ganti Kerugian Barang Milik Daerah\n- 01. Pokok Angsuran/Cicilan Ganti Kerugian Barang Milik Daerah\n- 02. Denda Angsuran/Cicilan Ganti Kerugian Barang Milik Daerah\n- Angsuran/Cicilan Rumah Susun\n- 01. Pokok Angsuran/Cicilan Rumah Susun\n- 02. Denda Angsuran/Cicilan Rumah Susun\n- Hasil Penjualan Monumen\n- Hasil Penjualan Bangunan Menara\n- Hasil Penjualan Tugu Titik Kontrol/Pasti\n- Hasil Penjualan Jalan, Jaringan, dan Irigasi\n- Hasil Penjualan Jalan dan Jembatan\n- Hasil Penjualan Jalan dan Jembatan\n- Hasil Penjualan Instalasi\n- Hasil Penjualan Jaringan\n- Hasil Penjualan Aset Tetap Lainnya\n- Hasil Penjualan Bahan Perpustakaan\n- Hasil Penjualan Barang Bercorak Kesenian/Kebudayaan/Olahraga\n- Hasil Penjualan Hewan\n- Hasil Penjualan Biota Perairan\n- Hasil Penjualan Tanaman\n- Hasil Penjualan Barang Koleksi Non Budaya\n- Hasil Penjualan Aset Tetap Dalam Renovasi\n- Hasil Penjualan Aset Lainnya\n- Hasil Penjualan Aset Lainnya\n- Hasil Selisih Lebih Tukar Menukar BMD yang Tidak Dipisahkan\n- Hasil Selisih Lebih Tukar Menukar Tanah\n- Hasil Selisih Lebih Tukar Menukar Tanah\n- Hasil Selisih Lebih Tukar Menukar Peralatan dan Mesin\n- Hasil Selisih Lebih Tukar Menukar Alat Besar\n- Hasil Selisih Lebih Tukar Menukar Alat Angkutan\n- Hasil Selisih Lebih Tukar Menukar Alat Bengkel dan Alat Ukur\n- Hasil Selisih Lebih Tukar Menukar Alat Pertanian\n- Hasil Selisih Lebih Tukar Menukar Alat Pertanian\n- Hasil Selisih Lebih Tukar Menukar Alat Studio, Komunikasi, dan Pemancar\n- Hasil Selisih Lebih Tukar Menukar Alat Kedokteran dan Kesehatan\n- Hasil Selisih Lebih Tukar Menukar Alat Laboratorium\n- Hasil Selisih Lebih Tukar Menukar Komputer\n- Hasil Selisih Lebih Tukar Menukar Alat Eksplorasi\n- Hasil Selisih Lebih Tukar Menukar Alat Pengeboran\n- Hasil Selisih Lebih Tukar Menukar Alat Produksi, Pengolahan, dan Pemurnian\n- Hasil Selisih Lebih Tukar Menukar Alat Bantu Eksplorasi\n- Hasil Selisih Lebih Tukar Menukar Alat Keselamatan Kerja\n- Hasil Selisih Lebih Tukar Menukar Alat Peraga\n- Hasil Selisih Lebih Tukar Menukar Peralatan Proses/Produksi\n- Hasil Selisih Lebih Tukar Menukar Rambu\\u0002Rambu\n- Hasil Selisih Lebih Tukar Menukar Peralatan Olahraga\n- Hasil Selisih Lebih Tukar Menukar Gedung dan Bangunan\n- Hasil Selisih Lebih Tukar Menukar Bangunan Gedung\n- Hasil Selisih Lebih Tukar Menukar Monumen\n- Hasil Selisih Lebih Tukar Menukar Bangunan Menara\n- Hasil Selisih Lebih Tukar Menukar Tugu Titik Kontrol/Pasti\n- Hasil Selisih Lebih Tukar Menukar Jalan, Jaringan, dan Irigasi\n- Hasil Selisih Lebih Tukar Menukar Bangunan Air\n- Hasil Selisih Lebih Tukar Menukar Instalasi\n- Hasil Selisih Lebih Tukar Menukar Jaringan\n- Hasil Selisih Lebih Tukar Menukar Aset Tetap Lainnya\n- Hasil Selisih Lebih Tukar Menukar Bahan Perpustakaan\n- Hasil Selisih Lebih Tukar Menukar Barang Bercorak Kesenian/Kebudayaan/Olahraga\n- Hasil Selisih Lebih Tukar Menukar Barang Bercorak Kesenian/Kebudayaan/Olahraga\n- Hasil Selisih Lebih Tukar Menukar Biota Perairan\n- Hasil Selisih Lebih Tukar Menukar Tanaman\n- Hasil Selisih Lebih Tukar Menukar Barang Koleksi Non Budaya\n- Hasil Selisih Lebih Tukar Menukar Aset Tetap Dalam Renovasi\n- Hasil Selisih Lebih Tukar Menukar Aset Lainnya\n- Hasil Selisih Lebih Tukar Menukar Aset Lainnya-Aset Tidak Berwujud\n- Hasil Selisih Lebih Tukar Menukar Aset Lainnya-Aset Lain-Lain\n- Hasil Pemanfaatan BMD yang Tidak Dipisahkan\n- Hasil Sewa BMD\n- Hasil Sewa BMD\n- Hasil Kerja Sama Pemanfaatan BMD\n- Hasil Kerja Sama Pemanfaatan BMD\n- Hasil dari Bangun Guna Serah\n- Hasil dari Bangun Guna Serah\n- Hasil dari Bangun Serah Guna\n- Hasil dari Bangun Serah Guna\n- Hasil dari Kerja Sama Penyediaan Infrastruktur\n- Hasil dari Kerja Sama Penyediaan Infrastruktur\n- Hasil Kerja Sama Daerah\n- Hasil Kerja Sama Daerah\n- Hasil Kerja Sama Daerah\n- 01. PT. Samaco (Mahakam Lampion Garden)\n- 03. PT. Pelabuhan Samudera Palaran (PSP)\n- 04. PT. Wahana Abadi Tirtateknilka Sejati (WATS)\n- 02. PERUSAHAAN PATUNGAN\n- a. Pasar Segiri (PT. Yudha Putera Kaltim)\n- b. Pasar Sungai Dama (PT. Surya Rizky Reza Jaya Abadi)\n- c. Pasar Kedondong (PT. Bahana Surya Sentosa)\n- d. Pasar Pagi (PT. Buluh Perindu)\n- Jasa Giro\n- Jasa Giro pada Kas Daerah\n- Jasa Giro pada Kas Daerah\n- Jasa Giro pada Kas di Bendahara\n- Jasa Giro pada Kas di Bendahara\n- Jasa Giro pada Rekening Dana Cadangan\n- Jasa Giro pada Rekening Dana Cadangan\n- Jasa Giro pada Rekening Dana BOS\n- Jasa Giro pada Rekening Dana BOS\n- Jasa Giro Dana Kapitasi pada FKTP\n- Jasa Giro Dana Kapitasi pada FKTP\n- Hasil Pengelolaan Dana Bergulir\n- Hasil Pengelolaan Dana Bergulir\n- Hasil Pengelolaan Dana Bergulir\n- Pendapatan Bunga\n- Pendapatan Bunga atas Penempatan Uang Pemerintah Daerah\n- Pendapatan Bunga atas Penempatan Uang Pemerintah Daerah\n- Pendapatan Zakat, Infaq, Shadaqah, dan Wakaf\n- Penerimaan atas Tuntutan Ganti Kerugian Keuangan Daerah\n- Tuntutan Ganti Kerugian Daerah terhadap Bendahara\n- Tuntutan Ganti Kerugian Daerah terhadap Bendahara\n- Tuntutan Ganti Kerugian Daerah terhadap Pegawai Negeri Bukan Bendahara atau Pejabat Lain\n- Tuntutan Ganti Kerugian Daerah terhadap Pegawai Negeri Bukan Bendahara atau Pejabat Lain\n- Penerimaan Komisi, Potongan, atau Bentuk Lain\n- Penerimaan Komisi, Potongan, atau Bentuk Lain\n- Penerimaan Komisi, Potongan, atau Bentuk Lain\n- 01. Penerimaan Lain-Lain (Lebih Bayar Pendapatan Pajak / Retribusi atau penerimaan PAD Lain-lainnya)\n- Penerimaan Keuntungan dari Selisih Nilai Tukar Rupiah terhadap Mata Uang Asing\n- Penerimaan Keuntungan dari Selisih Nilai Tukar Rupiah terhadap Mata Uang Asing\n- Penerimaan Keuntungan dari Selisih Nilai Tukar Rupiah terhadap Mata Uang Asing\n- Pendapatan Denda atas Keterlambatan Pelaksanaan Pekerjaan\n- Pendapatan Denda atas Keterlambatan Pelaksanaan Pekerjaan\n- Pendapatan Denda atas Keterlambatan Pelaksanaan Pekerjaan\n- Pendapatan Denda Pajak Daerah\n- Pendapatan Denda Pajak Hotel\n- Pendapatan Denda Pajak Hotel\n- Pendapatan Denda Pajak Restoran\n- Pendapatan Denda Pajak Restoran dan Sejenisnya\n- Pendapatan Denda Pajak Hiburan\n- Pendapatan Denda Pajak Hiburan dan Sejenisnya\n- Pendapatan Denda Pajak Reklame\n- Pendapatan Denda Pajak Reklame dan Sejenisnya\n- Pendapatan Denda Pajak Tenaga Listrik\n- Pendapatan Denda Pajak Tenaga Listrik\n- Pendapatan Denda Pajak Parkir\n- Pendapatan Denda Pajak Parkir\n- Pendapatan Denda Pajak Air Tanah\n- Pendapatan Denda Pajak Air Tanah\n- Pendapatan Denda Pajak Sarang Burung\n- Walet\n- Pendapatan Denda Pajak Sarang Burung Walet\n- Pendapatan Denda Pajak Mineral Bukan Logam dan Batuan\n- Pendapatan Denda Pajak Mineral Bukan Logam dan Batuan\n- Pendapatan Denda Pajak Bumi dan Bangunan Perdesaan dan Perkotaan (PBBP2)\n- Pendapatan Denda PBBP2\n- Pendapatan Denda Bea Perolehan Hak atas Tanah dan Bangunan (BPHTB)\n- Pendapatan Denda BPHTB-Pemindahan Hak\n- Pendapatan Denda BPHTB-Pemberian Hak Baru\n- Pendapatan Denda Retribusi Daerah\n- Pendapatan Denda Retribusi Jasa Umum\n- Pendapatan Denda Retribusi Jasa Umum\n- Pendapatan Denda Retribusi Jasa Usaha\n- Pendapatan Denda Retribusi Jasa Usaha\n- Pendapatan Denda Retribusi Perizinan Tertentu\n- Pendapatan Denda Retribusi Izin Mendirikan Bangunan\n- Pendapatan Zakat\n- Pendapatan Denda Retribusi Izin Tempat Penjualan Minuman Beralkohol\n- Pendapatan Denda Retribusi Izin Tempat Penjualan Minuman Beralkohol\n- Pendapatan Denda Retribusi Izin Usaha Perikanan\n- Pendapatan Denda Retribusi Pengendalian Lalu Lintas\n- Pendapatan Denda Retribusi Perpanjangan Izin Mempekerjakan Tenaga Kerja Asing (IMTA)\n- Pendapatan Hasil Eksekusi atas Jaminan\n- Pendapatan dari Pengembalian\n- Pendapatan dari Pengembalian Kelebihan Pembayaran Pajak Penghasilan Pasal 21\n- Pendapatan dari Pengembalian Kelebihan Pembayaran Pajak Penghasilan Pasal 21\n- Pendapatan dari Pengembalian Kelebihan Pembayaran Iuran Simpanan Peserta Tabungan Perumahan Rakyat ASN\n- Pendapatan dari Pengembalian Kelebihan Pembayaran Iuran Simpanan Peserta Tabungan Perumahan Rakyat PNS\n- Pendapatan dari Pengembalian Kelebihan Pembayaran Iuran Simpanan Peserta Tabungan Perumahan Rakyat PPPK\n- Pendapatan dari Pengembalian Kelebihan Pembayaran Gaji dan Tunjangan\n- Pendapatan dari Pengembalian Kelebihan Pembayaran Gaji dan Tunjangan\n- Pendapatan dari Pengembalian Kelebihan Pembayaran Perjalanan Dinas\n- Pendapatan dari Pengembalian Kelebihan Pembayaran Perjalanan Dinas Dalam Negeri Perjalanan Dinas Bia\n- Pendapatan dari Pengembalian Kelebihan Pembayaran Perjalanan Dinas Dalam Negeri Perjalanan Dinas Tetap\n- Pendapatan dari Pengembalian Kelebihan Pembayaran Perjalanan Dinas Dalam Negeri Perjalanan Dinas Dalam Kot\n- Pendapatan dari Pengembalian Kelebihan Pembayaran Perjalanan Dinas Dalam Negeri Perjalanan Dinas Paket Meeting Dalam Kot\n- Pendapatan dari Pengembalian Kelebihan Pembayaran Perjalanan Dinas Dalam Negeri Perjalanan Dinas Paket Meeting Luar Kota\n- Pendapatan dari Pengembalian Kelebihan Pembayaran Perjalanan Dinas Luar Negeri Perjalanan Dinas Biasa–Luar Neg\n- Pendapatan dari Pengembalian Kelebihan Pembayaran Kecelakaan Kerja (JKK)\n- Pendapatan dari Pengembalian Kelebihan Pembayaran JKK\n- Pendapatan dari Pengembalian Kelebihan Pembayaran Jaminan Kematian (JKM)\n- Pendapatan dari Pengembalian Kelebihan Pembayaran JKM\n- Pendapatan dari Pengembalian Kelebihan Pembayaran Jaminan Kesehatan Nasional (JKN)\n- Pendapatan dari Pengembalian Kelebihan Pembayaran Jaminan Kesehatan Nasional (JKN)\n- Pendapatan Denda Pemanfaatan BMD yang tidak Dipisahkan\n- Pendapatan Denda Pengakhiran Sewa BMD\n- Pendapatan Denda Pengakhiran Sewa BMD\n- Pendapatan Denda Hasil dari Kerja Sama Penyediaan Infrastruktur\n- Pendapatan Denda Hasil dari Kerja Sama Penyediaan Infrastruktur\n- Pendapatan Dana Kapitasi Jaminan Kesehatan Nasional (JKN) pada Fasilitas Kesehatan Tingkat Pertama (FKTP)\n- Pendapatan Dana Kapitasi JKN pada FKTP\n- Pendapatan Dana Kapitasi JKN pada FKTP\n- Pendapatan Hasil Pengelolaan Dana Bergulir\n- Pendapatan Hasil Pengelolaan Dana Bergulir\n- Pendapatan Hasil Pengelolaan Dana Bergulir\n- Pendapatan Berdasarkan Putusan Pengadilan (Inkracht)\n- Pendapatan Berdasarkan Putusan Pengadilan (Inkracht)\n- Pendapatan Berdasarkan Putusan Pengadilan (Inkracht)\n- Pendapatan Denda atas Pelanggaran Peraturan Daerah\n- Pendapatan Denda atas Pelanggaran Peraturan Daerah\n- Pendapatan Denda atas Pelanggaran Peraturan Daerah\n- Pendapatan Infaq\n- Pendapatan Shadaqah\n- Pendapatan Wakaf\n- Pendapatan Transfer\n- Pendapatan Transfer Pemerintah Pusat\n- Dana Perimbangan\n- Dana Transfer Umum-Dana Bagi Hasil (DBH)\n- DBH Pajak Bumi dan Bangunan\n- 01. PBB Pertambangan (P3)\n- 01.1. PBB Non Migas\n- 01.2. PBB Migas\n- 01.3.PBB Sektor Lainnya\n- 01.4. Pemungutan PBB Migas\n- 01.5. Pemungutan PBB Non Migas\n- 01.6. Pemungutan Sektor Lainnya\n- 01.7. Bagi Rata-rata\n- 01.8. Pelimpahan PBB\n- 01.9.PBB Perkebunan\n- 01.10. PBB Kehutanan\n- DBH PPh Pasal 21\n- DBH PPh Pasal 25 dan Pasal 29/WPOPDN\n- DBH Cukai Hasil Tembakau (CHT)\n- DBH Sumber Daya Alam (SDA) Minyak Bumi\n- DBH Sumber Daya Alam (SDA) Gas Bumi\n- DBH Sumber Daya Alam (SDA) Pengusahaan Panas Bumi\n- DBH Sumber Daya Alam (SDA) Mineral dan Batubara-Landrent\n- Dana Bagi Hasil (DBH) Sumber Daya Alam (SDA) Mineral dan Batubara-Royalty\n- DBH Sumber Daya Alam (SDA) Kehutanan Provisi Sumber Daya Hutan (PSDH)\n- DBH Sumber Daya Alam (SDA) Kehutanan Iuran Izin Usaha Pemanfaatan Hutan (IIUPH)\n- DBH Sumber Daya Alam (SDA) Kehutanan Dana Reboisasi (DR)\n- DBH Sumber Daya Alam (SDA) Perikanan\n- DBH Lainnya - Sawit\n- Dana Transfer Umum-Dana Alokasi Umum (DAU)\n- DAU\n- DAU yang Tidak Ditentukan Penggunaannya\n- DAU Tambahan Dukungan Pendanaan Kelurahan\n- DAU Tambahan Dukungan Pendanaan atas Kebijakan Penyetaraan Penghasilan Tetap Kepala Desa dan Perangkat Desa\n- DAU Tambahan Dukungan Pendanaan atas Kebijakan Penggajian Pegawai Pemerintah dengan Perjanjian Kerja\n- DAU Tambahan Dukungan Pendanaan atas Kebijakan Penggajian Pegawai Pemerintah dengan Perjanjian Kerja\n- Bidang Pendidikan\n- Bidang Kesehatan\n- Bidang Pekerjaan Umum\n- Dana Transfer Khusus-Dana Alokasi Khusus (DAK) Fisik\n- DAK Fisik-Bidang Pendidikan-Reguler-PAUD\n- DAK Fisik-Bidang Pendidikan-Reguler-SD\n- DAK Fisik-Bidang Pendidikan-Reguler-SMP\n- DAK Fisik-Bidang Pendidikan-Reguler-SMA\n- DAK Fisik-Bidang Pendidikan-Reguler-SLB\n- DAK Fisik-Bidang Pendidikan-Reguler-SKB\n- DAK Fisik-Bidang Pendidikan-Afirmasi-SD\n- DAK Fisik-Bidang Pendidikan-Afirmasi-SMP\n- DAK Fisik-Bidang Pendidikan-Afirmasi-SMA\n- DAK Fisik-Bidang Pendidikan-Penugasan SMK\n- DAK Fisik-Bidang Pendidikan-Reguler Perpustakaan Daerah\n- DAK Fisik-Bidang Pendidikan-Reguler Gedung Olahraga\n- DAK Fisik-Bidang Kesehatan dan KB Reguler-Pelayanan Kesehaan Dasar\n- DAK Fisik-Bidang Kesehatan dan KB Reguler-Pelayanan Kesehatan Rujukn\n- DAK Fisik-Bidang Kesehatan dan KB Reguler-Pelayanan Kefarmasin\n- DAK Fisik-Bidang Kesehatan dan KB Penugasan-Penurunan Angka Kematian Ibu (AKI), Angka Kematian Bayi (AKB) dan Intervesi Stunting\n- DAK Fisik-Bidang Kesehatan dan KB Penugasan-Penguatan Intervensi Stunting\n- Fisik-Bidang Kesehatan dan KB Penugasan-Peningkatan Pencegahan dan\nPengendalian Penyakit dan Sanitasi Total\nBerbasis Masyarakat\n- DAK Fisik-Bidang Kesehatan dan KB Penugasan-Penguatan RS Rujukan\nNasional/Provinsi/Regional/Pariwisata\n- DAK Fisik-Bidang Kesehatan dan KB Penugasan-Pembangunan RS Pratama\n- DAK Fisik-Bidang Kesehatan dan KB Penugasan-Puskesmas Pariwisata\n- DAK Fisik-Bidang Kesehatan dan KB Penugasan-Balai Pelatihan Kesehatan\n- DAK Fisik-Bidang Kesehatan dan KB Afirmasi-Penguatan Puskesmas Daerah Tertinggal Perbatasan Negara dan Kepulauan (DTPK)\n- DAK Fisik-Bidang Kesehatan dan KB Afirmasi-Penguatan Prasarana Dasar Puskesmas\n- DAK Fisik-Bidang Kesehatan dan KB Reguler-KB\n- DAK Fisik-Bidang Kesehatan dan KB Penugasan-Penurunan Stunting (KB)\n- DAK Fisik-Bidang Perumahan dan Permukiman-Reguler-Penyediaan Rumah Swadaya\n- DAK Fisik-Bidang Perumahan dan Permukiman-Afirmasi-Penyediaan Rumah Swadaya\n- DAK Fisik-Bidang Perumahan dan Permukiman-Afirmasi-Penyediaan Rumah Khusus\n- DAK Fisik-Bidang Industri Kecil dan Menengah-Penugasan-Pembangunan Sentra IKM dan Revitalisasi Sentra IKM\n- DAK Fisik-Bidang Pertanian-Penugasan-Pembangunan/Renovasi Sarana dan\nPrasarana Fisik Dasar Pembangunan Pertanian\n- DAK Fisik-Bidang Kelautan dan Perikanan Penugasan\n- DAK Fisik-Bidang Pariwisata-Penugasan\n- DAK Fisik-Bidang Jalan-Reguler-Jalan\n- DAK Fisik-Bidang Jalan-Penugasan-Jalan\n"
          },
          "metadata": {}
        }
      ],
      "source": [
        "res = agent.query(\n",
        "    input=\"data pendapatan apa saja yang kamu simpan?\",\n",
        "    session_id=session_id)\n",
        "\n",
        "display(Markdown(res[\"output\"]))"
      ]
    },
    {
      "cell_type": "code",
      "execution_count": 20,
      "metadata": {
        "id": "Q0UU-kvGS54G",
        "colab": {
          "base_uri": "https://localhost:8080/",
          "height": 232
        },
        "outputId": "4dfe2b75-aa67-4824-d732-5053d38628ff"
      },
      "outputs": [
        {
          "output_type": "display_data",
          "data": {
            "text/plain": [
              "<IPython.core.display.Markdown object>"
            ],
            "text/markdown": "Tentu, berikut adalah data pendapatan yang dikelompokkan berdasarkan rekening level 3:\n\n*   **4.1.1 Hasil Pajak Daerah**\n*   **4.1.2 Hasil Retribusi Daerah**\n*   **4.1.3 Hasil Pengelolaan Kekayaan Daerah yang Dipisahkan**\n*   **4.1.4 Lain-lain Pendapatan Asli Daerah yang Sah**\n*   **4.2.1 Pendapatan Transfer Pemerintah Pusat**\n*   **4.2.2 Pendapatan Transfer Antar Daerah**\n*   **4.3.1 Pendapatan Hibah**\n*   **4.3.2 Dana Darurat**\n*   **4.3.3 Lain-lain Pendapatan Sesuai dengan Ketentuan Peraturan Perundang-Undangan**\n\nApakah ada informasi lain yang ingin Anda ketahui?"
          },
          "metadata": {}
        }
      ],
      "source": [
        "response = agent.query(\n",
        "    input=\"kelompokkan data berdasarkan rekening level 3?\",\n",
        "    session_id=session_id)\n",
        "display(Markdown(response[\"output\"]))"
      ]
    },
    {
      "cell_type": "code",
      "source": [
        "response = agent.query(\n",
        "    input=\"tampilkan rekening dan nilai angka pada rekening hasil retribusi daerah?\",\n",
        "    session_id=session_id)\n",
        "display(Markdown(response[\"output\"]))"
      ],
      "metadata": {
        "id": "QqoYhONhvf4e",
        "outputId": "4ed1d92d-7e01-43ad-9c57-0d74931d2e88",
        "colab": {
          "base_uri": "https://localhost:8080/",
          "height": 157
        }
      },
      "execution_count": 22,
      "outputs": [
        {
          "output_type": "stream",
          "name": "stderr",
          "text": [
            "WARNING:opentelemetry.exporter.cloud_trace:Span has more then 32 attributes, some will be truncated\n"
          ]
        },
        {
          "output_type": "display_data",
          "data": {
            "text/plain": [
              "<IPython.core.display.Markdown object>"
            ],
            "text/markdown": "Berikut adalah rincian rekening dan nilai angka pada rekening Hasil Retribusi Daerah:\n\n*   **Kode Rekening:** 4.1.2\n*   **Target Realisasi:** Rp 150.557.778.000,00\n*   **Total Realisasi (Setelah):** Rp 105.813.856.641,03\n*   **Persentase Target:** 70.28%\n*   **Nama Rekening:** Hasil Retribusi Daerah"
          },
          "metadata": {}
        }
      ]
    },
    {
      "cell_type": "code",
      "source": [
        "response = agent.query(\n",
        "    input=\"berikan list data lengkap pendapatan 5 saja, hanya data lengkap pada kode rekening level 3?\",\n",
        "    session_id=session_id)\n",
        "display(Markdown(response[\"output\"]))"
      ],
      "metadata": {
        "colab": {
          "base_uri": "https://localhost:8080/",
          "height": 591
        },
        "id": "OdZik22gljsL",
        "outputId": "023d240b-695f-448b-a012-7b6a34a96abe"
      },
      "execution_count": 27,
      "outputs": [
        {
          "output_type": "stream",
          "name": "stderr",
          "text": [
            "WARNING:opentelemetry.exporter.cloud_trace:Span has more then 32 attributes, some will be truncated\n",
            "WARNING:opentelemetry.exporter.cloud_trace:Span has more then 32 attributes, some will be truncated\n"
          ]
        },
        {
          "output_type": "display_data",
          "data": {
            "text/plain": [
              "<IPython.core.display.Markdown object>"
            ],
            "text/markdown": "Tentu, berikut adalah 5 data pendapatan dengan kode rekening level 3 beserta detailnya:\n\n1.  **Hasil Pajak Daerah**\n    *   Kode Rekening: 4.1.1\n    *   Target Realisasi: Rp 554.860.000.000,00\n    *   Total Realisasi: Rp 372.499.026.684,39\n    *   Persentase Target: 67.13%\n\n2.  **Hasil Retribusi Daerah**\n    *   Kode Rekening: 4.1.2\n    *   Target Realisasi: Rp 150.557.778.000,00\n    *   Total Realisasi: Rp 105.813.856.641,03\n    *   Persentase Target: 70.28%\n\n3.  **Hasil Pengelolaan Kekayaan Daerah yang Dipisahkan**\n    *   Kode Rekening: 4.1.3\n    *   Target Realisasi: Rp 20.290.129.000,00\n    *   Total Realisasi: Rp 21.912.018.474,00\n    *   Persentase Target: 107.99%\n\n4.  **Lain-lain Pendapatan Asli Daerah yang Sah**\n    *   Kode Rekening: 4.1.4\n    *   Target Realisasi: Rp 45.364.361.674,00\n    *   Total Realisasi: Rp 54.188.418.445,51\n    *   Persentase Target: 119.45%\n\n5.  **Pendapatan Transfer Pemerintah Pusat**\n    *   Kode Rekening: 4.2.1\n    *   Target Realisasi: Rp 2.288.257.908.000,00\n    *   Total Realisasi: Rp 1.533.708.179.068,00\n    *   Persentase Target: 67.03%\n"
          },
          "metadata": {}
        }
      ]
    },
    {
      "cell_type": "code",
      "source": [
        "response = agent.query(\n",
        "    input=\"5 data yang memiliki target realisasi tertinggi?\",\n",
        "    session_id=session_id)\n",
        "display(Markdown(response[\"output\"]))"
      ],
      "metadata": {
        "colab": {
          "base_uri": "https://localhost:8080/",
          "height": 417
        },
        "id": "tD9z332l5sK3",
        "outputId": "eb205339-9537-4027-c90b-f9f645ef7467"
      },
      "execution_count": 28,
      "outputs": [
        {
          "output_type": "stream",
          "name": "stderr",
          "text": [
            "WARNING:opentelemetry.exporter.cloud_trace:Span has more then 32 attributes, some will be truncated\n",
            "WARNING:opentelemetry.exporter.cloud_trace:Span has more then 32 attributes, some will be truncated\n"
          ]
        },
        {
          "output_type": "display_data",
          "data": {
            "text/plain": [
              "<IPython.core.display.Markdown object>"
            ],
            "text/markdown": "Berikut adalah 5 data pendapatan dengan target realisasi tertinggi:\n\n1.  **Pendapatan Daerah**\n    *   Kode Rekening: 4\n    *   Target Realisasi: Rp 4.271.590.000.000,00\n\n2.  **Pendapatan Transfer**\n    *   Kode Rekening: 4.2\n    *   Target Realisasi: Rp 3.440.517.731.326,00\n3.  **Pendapatan Transfer Pemerintah Pusat**\n    *   Kode Rekening: 4.2.1\n    *   Target Realisasi: Rp 2.288.257.908.000,00\n\n4.  **Dana Perimbangan**\n    *   Kode Rekening: 4.2.1.1\n    *   Target Realisasi: Rp 2.273.784.550.000,00\n5.  **Hasil Pajak Daerah**\n    *   Kode Rekening: 4.1.1\n    *   Target Realisasi: Rp 554.860.000.000,00"
          },
          "metadata": {}
        }
      ]
    },
    {
      "cell_type": "code",
      "source": [
        "response = agent.query(\n",
        "    input=\"5 data yang sudah memiliki capaian realisasi tertinggi, sertakan data lengkap?\",\n",
        "    session_id=session_id)\n",
        "display(Markdown(response[\"output\"]))"
      ],
      "metadata": {
        "colab": {
          "base_uri": "https://localhost:8080/",
          "height": 591
        },
        "id": "1As8cgVh556_",
        "outputId": "bbfacb8f-114d-4e3e-c500-ca3be82f3452"
      },
      "execution_count": 29,
      "outputs": [
        {
          "output_type": "stream",
          "name": "stderr",
          "text": [
            "WARNING:opentelemetry.exporter.cloud_trace:Span has more then 32 attributes, some will be truncated\n",
            "WARNING:opentelemetry.exporter.cloud_trace:Span has more then 32 attributes, some will be truncated\n"
          ]
        },
        {
          "output_type": "display_data",
          "data": {
            "text/plain": [
              "<IPython.core.display.Markdown object>"
            ],
            "text/markdown": "Berikut adalah 5 data pendapatan dengan capaian realisasi tertinggi (berdasarkan persentase target), beserta data lengkapnya:\n\n1.  **Kode Rekening:** 4.1.1.8.9.1.2\n    *   **Nama Rekening:** Mandi Uap/Spa\n    *   **Target Realisasi:** Rp 121.500.000,00\n    *   **Total Realisasi:** Rp 594.175.845,00\n    *   **Persentase Target:** 489.03%\n\n2.  **Kode Rekening:** 4.1.4.1.6\n    *   **Nama Rekening:** Hasil Penjualan Aset Lainnya\n    *   **Target Realisasi:** Rp 300.000.000,00\n    *   **Total Realisasi:** Rp 1.771.519.400,00\n    *   **Persentase Target:** 590.51%\n\n3.  **Kode Rekening:** 4.1.4.12.8\n    *   **Nama Rekening:** Pendapatan Denda Pajak Hiburan\n    *   **Target Realisasi:** Rp 14.300.000,00\n    *   **Total Realisasi:** Rp 605.372.388,73\n    *   **Persentase Target:** 4233.37%\n\n4.  **Kode Rekening:** 4.1.4.1.1\n    *   **Nama Rekening:** Hasil Penjualan BMD yang Tidak Dipisahkan\n    *   **Target Realisasi:** Rp 400.000.000,00\n    *   **Total Realisasi:** Rp 1.785.909.490,00\n    *   **Persentase Target:** 446.48%\n\n5.  **Kode Rekening:** 4.1.2.3.6\n    *   **Nama Rekening:** Retribusi Perpanjangan Izin Mempekerjakan Tenaga Kerja Asing (IMTA)\n    *   **Target Realisasi:** Rp 100.000.000,00\n    *   **Total Realisasi:** Rp 342.508.400,00\n    *   **Persentase Target:** 342.51%\n\n"
          },
          "metadata": {}
        }
      ]
    },
    {
      "cell_type": "code",
      "source": [
        "response = agent.query(\n",
        "    input=\"sebutkan pos pendapatan yang masih belum berprogres? tampilkan progres targetnya\",\n",
        "    session_id=session_id)\n",
        "display(Markdown(response[\"output\"]))"
      ],
      "metadata": {
        "id": "VfAMuxHFx1y1",
        "outputId": "6a2bf7fd-2563-49ca-c3c1-835ef55b6566",
        "colab": {
          "base_uri": "https://localhost:8080/",
          "height": 1000
        }
      },
      "execution_count": 31,
      "outputs": [
        {
          "output_type": "stream",
          "name": "stderr",
          "text": [
            "WARNING:opentelemetry.exporter.cloud_trace:Span has more then 32 attributes, some will be truncated\n",
            "WARNING:opentelemetry.exporter.cloud_trace:Span has more then 32 attributes, some will be truncated\n"
          ]
        },
        {
          "output_type": "display_data",
          "data": {
            "text/plain": [
              "<IPython.core.display.Markdown object>"
            ],
            "text/markdown": "Berikut adalah pos pendapatan yang masih belum berprogres (Total Realisasi After = 0) beserta progres targetnya (persentase target):\n\n*   Pajak Motel (4.1.1.6.2 dan 4.1.1.6.2.1): 0.0%\n*   Pajak Gubuk Pariwisata (4.1.1.6.4 dan 4.1.1.6.4.1): 0.0%\n*   Pajak Wisma Pariwisata (4.1.1.6.5 dan 4.1.1.6.5.1): 0.0%\n*   Pajak Bar dan Sejenisnya (4.1.1.7.6 dan 4.1.1.7.6.1): 0.0%\n*   Pajak Kontes Kecantikan, Binaraga dan Sejenisnya (4.1.1.8.3 dan 4.1.1.8.3.1): 0.0%\n*   Pajak Pameran (4.1.1.8.4 dan 4.1.1.8.4.1): 0.0%\n*   Pajak Rekreasi Wahana Pendidikan (4.1.1.8.13 dan 4.1.1.8.13.1): 0.0%\n*   Pajak Rekreasi Wahana Budaya (4.1.1.8.14 dan 4.1.1.8.14.1): 0.0%\n*   Pajak Rekreasi Wahana Permainan (4.1.1.8.16 dan 4.1.1.8.16.1): 0.0%\n*   Pajak Pemancingan (4.1.1.8.17 dan 4.1.1.8.17.1): 0.0%\n*   Pajak Argowisata (4.1.1.8.18 dan 4.1.1.8.18.1): 0.0%\n*   Pajak Kebun Binatang (4.1.1.8.19 dan 4.1.1.8.19.1): 0.0%\n*   Pajak Tempat Olah Raga Dan Kebugaran (4.1.1.8.20 dan 4.1.1.8.20.1): 0.0%\n*   Pajak Reklame Melekat/Stiker (4.1.1.9.3 dan 4.1.1.9.3.1): 0.0%\n*   Pajak Reklame Selebaran (4.1.1.9.4 dan 4.1.1.9.4.1): 0.0%\n*   Pajak Reklame Udara (4.1.1.9.6 dan 4.1.1.9.6.1): 0.0%\n*   Pajak Reklame Apung (4.1.1.9.7 dan 4.1.1.9.7.1): 0.0%\n*   Pajak Reklame Suara (4.1.1.9.8 dan 4.1.1.9.8.1): 0.0%\n*   Pajak Reklame Peragaan (4.1.1.9.10 dan 4.1.1.9.10.1): 0.0%\n*   02. Industri (4.1.1.10.2.1.2): 0.0%\n*   Pajak Sarang Burung Walet (4.1.1.13, 4.1.1.13.1, dan 4.1.1.13.1.1): 0.0%\n*   BPHTB - Pemindahan Hak (4.1.1.16.1 dan 4.1.1.16.1.1): 0.0%\n*   Retribusi Pelayanan Pemakaman dan Pengabuan Mayat (4.1.2.1.3): 0.0%\n*   Retribusi Pelayanan Penguburan/Pemakaman termasuk Penggalian dan Pengurukan serta Pembakaran/Pengabuan Mayat (4.1.2.1.3.1): 0.0%\n*   Retribusi Sewa Tempat Pemakaman atau Pembakaran/Pengabuan Mayat (4.1.2.1.3.2): 0.0%\n*   Retribusi Pengujian Kendaraan Bermotor (4.1.2.1.6 dan 4.1.2.1.6.1): 0.0%\n*   Retribusi Pengujian Kendaraan Bermotor Diatas Air (4.1.2.1.6.1.1): 0.0%\n*   Retribusi Pelayanan Pemeriksaan dan/atau Pengujian Alat Penanggulangan Kebakaran (4.1.2.1.7.2): 0.0%\n*   Retribusi Pelayanan Pemeriksaan dan/atau Pengujian Alat Penyelamatan Jiwa (4.1.2.1.7.3): 0.0%\n*   Retribusi Penggantian Biaya Cetak Peta (4.1.2.1.8): 0.0%\n*   Retribusi Penyediaan Peta Dasar (Garis) (4.1.2.1.8.1): 0.0%\n*   Retribusi Penyediaan Peta Foto (4.1.2.1.8.2): 0.0%\n*   Retribusi Penyediaan Peta Digital (4.1.2.1.8.3): 0.0%\n*   Retribusi Penyediaan Peta Tematik (4.1.2.1.8.4): 0.0%\n*   Retribusi Penyediaan Peta Teknis (Struktur) (4.1.2.1.8.5): 0.0%\n*   Retribusi Pengelolahan Limbah Cair (4.1.2.1.10): 0.0%\n*   Retribusi Rumah Tangga (4.1.2.1.10.1): 0.0%\n*   Retribusi Perkantoran (4.1.2.1.10.2): 0.0%\n*   Retribusi Industri (4.1.2.1.10.3): 0.0%\n*   Retribusi Pengujian Barang dalam Keadaan Terbungkus (4.1.2.1.11.2): 0.0%\n*   Retribusi Pelayanan Pendidikan (4.1.2.1.12): 0.0%\n*   Retribusi Pelayanan Penyelenggaraan Pendidikan Teknis (4.1.2.1.12.1): 0.0%\n*   Retribusi Pelayanan Penyelenggaraan Pelatihan Teknis (4.1.2.1.12.2): 0.0%\n*   Retribusi Pelayanan Penyelenggaraan Pendidikan dan Pelatihan Teknis (4.1.2.1.12.3): 0.0%\n*   Retribusi Pengawasan dan Pengendalian Menara Telekomunikasi (4.1.2.1.13 dan 4.1.2.1.13.1): 0.0%\n*   Retribusi Penyewaan Tanah dan Bangunan (4.1.2.2.1.1): 0.0%\n*   01.03. Retribusi sewa kios/petak/los- Dinas Perdagangan (4.1.2.2.1.2.4): 0.0%\n*   Retribusi Pemakaian Laboratorium (4.1.2.2.1.4): 0.0%\n*   02. Bus Kecil (4.1.2.2.1.6.2): 0.0%\n*   01. Alat Laboratorium/Pengujian (4.1.2.2.1.7.1): 0.0%\n*   02. Alat Survey/Pengukuran (4.1.2.2.1.7.2): 0.0%\n*   Retribusi Pasar Grosir dan/atau Perkotaan (4.1.2.2.2): 0.0%\n*   Retribusi Penyediaan Fasilitas Pasar Grosir Berbagai Jenis Barang yang Dikontrakkan (4.1.2.2.2.1): 0.0%\n*   Retribusi Penyediaan Fasilitas Pasar/Pertokoan yang Dikontrakkan (4.1.2.2.2.2): 0.0%\n*   01. Retribusi sandar Kapal (setiap sandar) (4.1.2.2.3.2.1): 0.0%\n*   02. Pas Masuk untuk perorangan ke area kerja PPI (per Tahun) (4.1.2.2.3.2.2): 0.0%\n*   03. Masuk untuk kendaraan ke area TPI (setiap kali masuk) (4.1.2.2.3.2.3): 0.0%\n*   05. Pemakaian Lokasi PPI untuk produksi es balok (4.1.2.2.3.2.5): 0.0%\n*   06. Ret. Jasa Ruang Pendingin Ikan di PPI (4.1.2.2.3.2.6): 0.0%\n*   Retribusi Terminal (4.1.2.2.4): 0.0%\n*   Retribusi Pelayanan Penyediaan Tempat Parkir untuk Kendaraan Penumpang dan Bus Umum (4.1.2.2.4.1): 0.0%\n*   Retribusi Pelayanan Penyediaan Tempat Kegiatan Usaha (4.1.2.2.4.2): 0.0%\n*   Retribusi Pelayanan Penyediaan Fasilitas Lainnya di Lingkungan Terminal (4.1.2.2.4.3): 0.0%\n*   11. Untuk Parkir Pasar Baqa (4.1.2.2.5.1.11): 0.0%\n*   Retribusi Tempat Penginapan/ Pesanggrahan/Vila (4.1.2.2.6 dan 4.1.2.2.6.1): 0.0%\n*   01. Mess Perwakilan Samarinda di Jakarta (4.1.2.2.6.1.1): 0.0%\n*   03. Pengandangan di RPH (4.1.2.2.7.1.3): 0.0%\n*   01. Laut (4.1.2.2.8.1.1): 0.0%\n*   01.1 Pelayanan Kapal (4.1.2.2.8.1.2): 0.0%\n*   01.2 Pelayanan Barang (4.1.2.2.8.1.3): 0.0%\n*   01.3 Pelayanan Lainnya (4.1.2.2.8.1.4): 0.0%\n*   02. Angkutan Sungai (4.1.2.2.8.1.5): 0.0%\n*   02.1 Tambat Kapal (4.1.2.2.8.1.6): 0.0%\n*   Retribusi Penyebrangan di Air (4.1.2.2.10): 0.0%\n*   Retribusi Pelayanan Penyeberangan Orang (4.1.2.2.10.1): 0.0%\n*   Retribusi Pelayanan Penyeberangan Barang (4.1.2.2.10.2): 0.0%\n*   Retribusi Penjualan Produksi Usaha Daerah (4.1.2.2.11): 0.0%\n*   Retribusi Penjualan Produksi Hasil Usaha Daerah berupa Bibit atau Benih Tanaman (4.1.2.2.11.1): 0.0%\n*   Retribusi Penjualan Produksi hasil Usaha Daerah berupa Bibit Ternak (4.1.2.2.11.2): 0.0%\n*   Retribusi Penjualan Produksi hasil Usaha Daerah berupa Bibit atau Benih Ikan (4.1.2.2.11.3): 0.0%\n*   Retribusi Penjualan Produksi hasil Usaha Daerah selain Bibit atau Benih Tanaman, Ternak, dan Ikan (4.1.2.2.11.4): 0.0%\n*   Retribusi Izin Usaha Perikanan (4.1.2.3.4, 4.1.2.3.4.1, dan 4.1.2.3.4.2): 0.0%\n*   Retribusi Pengendalian Lalu Lintas (4.1.2.3.5, 4.1.2.3.5.1, 4.1.2.3.5.2, dan 4.1.2.3.5.3): 0.0%\n*   Bagian Laba yang Dibagikan kepada Pemerintah Daerah (Dividen) atas Penyertaan Modal pada BUMN (4.1.3.1, 4.1.3.1.1, dan 4.1.3.1.1.1): 0.0%\n*   Bagian Laba yang Dibagikan kepada Pemerintah Daerah (Dividen) atas Penyertaan Modal pada BUMD (Bidang Limbah) (4.1.3.2.4 dan 4.1.3.2.4.1): 0.0%\n*   Bagian Laba yang Dibagikan kepada Pemerintah Daerah (Dividen) atas Penyertaan Modal pada BUMD (Bidang Sanitasi) (4.1.3.2.5 dan 4.1.3.2.5.1): 0.0%\n*   Bagian Laba yang dibagikan kepada Pemerintah Daerah (Dividen) atas Penyertaan Modal pada Perusahaan Milik Swasta (4.1.3.3, 4.1.3.3.1, dan 4.1.3.3.1.1): 0.0%\n*   Hasil Penjualan Tanah (4.1.4.1.1 dan 4.1.4.1.1.1): 0.0%\n*   Hasil Penjualan Peralatan dan Mesin (4.1.4.1.2): 0.0%\n*   Hasil Penjualan Alat Besar (4.1.4.1.2.1): 0.0%\n*   Hasil Penjualan Alat Angkutan (4.1.4.1.2.2): 0.0%\n*   Hasil Penjualan Alat Bengkel dan Alat Ukur (4.1.4.1.2.3): 0.0%\n*   Hasil Penjualan Alat Pertanian (4.1.4.1.2.4): 0.0%\n*   Hasil Penjualan Alat Kantor dan Rumah Tangga (4.1.4.1.2.5): 0.0%\n*   Hasil Penjualan Alat Studio, Komunikasi, dan Pemancar (4.1.4.1.2.6): 0.0%\n*   Hasil Penjualan Alat Kedokteran dan Kesehatan (4.1.4.1.2.7): 0.0%\n*   Hasil Penjualan Alat Laboratorium (4.1.4.1.2.8): 0.0%\n*   Hasil Penjualan Komputer (4.1.4.1.2.10): 0.0%\n*   Hasil Penjualan Alat Eksplorasi (4.1.4.1.2.11): 0.0%\n*   Hasil Penjualan Alat Pengeboran (4.1.4.1.2.12): 0.0%\n*   Hasil Penjualan Alat Produksi, Pengolahan, dan Pemurnian (4.1.4.1.2.13): 0.0%\n*   Hasil Penjualan Alat Bantu Eksplorasi (4.1.4.1.2.14): 0.0%\n*   Hasil Penjualan Alat Keselamatan Kerja (4.1.4.1.2.15): 0.0%\n*   Hasil Penjualan Alat Peraga (4.1.4.1.2.16): 0.0%\n*   Hasil Penjualan Peralatan Proses/Produksi (4.1.4.1.2.17): 0.0%\n*   Hasil Penjualan Rambu-rambu (4.1.4.1.2.18): 0.0%\n*   Hasil Penjualan Peralatan Olahraga (4.1.4.1.2.19): 0.0%\n*   01. Pokok Angsuran / Cicilan Penjualan Rumah Dinas Daerah Gol III (4.1.4.1.3.1.3): 0.0%\n*   02. Denda Angsuran / Cicilan Penjualan Rumah Dinas Daerah Gol III (4.1.4.1.3.1.4): 0.0%\n*   Angsuran/Cicilan Penjualan Kendaraan Perorangan Dinas (4.1.4.1.3.1.5): 0.0%\n*   01. Pokok Angsuran/Cicilan Penjualan Kendaraan Perorangan Dinas (4.1.4.1.3.1.6): 0.0%\n*   02. Denda Angsuran/Cicilan Penjualan Kendaraan Perorangan Dinas (4.1.4.1.3.1.7): 0.0%\n*   Angsuran/Cicilan Ganti Kerugian Barang Milik Daerah (4.1.4.1.3.1.8): 0.0%\n*   01. Pokok Angsuran/Cicilan Ganti Kerugian Barang Milik Daerah (4.1.4.1.3.1.9): 0.0%\n*   02. Denda Angsuran/Cicilan Ganti Kerugian Barang Milik Daerah (4.1.4.1.3.1.10): 0.0%\n*   Angsuran/Cicilan Rumah Susun (4.1.4.1.3.1.11): 0.0%\n*   01. Pokok Angsuran/Cicilan Rumah Susun (4.1.4.1.3.1.12): 0.0%\n*   02. Denda Angsuran/Cicilan Rumah Susun (4.1.4.1.3.1.13): 0.0%\n*   Hasil Penjualan Monumen (4.1.4.1.3.2): 0.0%\n*   Hasil Penjualan Bangunan Menara (4.1.4.1.3.3): 0.0%\n*   Hasil Penjualan Tugu Titik Kontrol/Pasti (4.1.4.1.3.4): 0.0%\n*   Hasil Penjualan Jalan dan Jembatan (4.1.4.1.4.1.1 dan 4.1.4.1.4.2): 0.0%\n*   Hasil Penjualan Instalasi (4.1.4.1.4.3): 0.0%\n*   Hasil Penjualan Jaringan (4.1.4.1.4.4): 0.0%\n*   Hasil Penjualan Aset Tetap Lainnya (4.1.4.1.5): 0.0%\n*   Hasil Penjualan Bahan Perpustakaan (4.1.4.1.5.1): 0.0%\n*   Hasil Penjualan Barang Bercorak Kesenian/Kebudayaan/Olahraga (4.1.4.1.5.2): 0.0%\n*   Hasil Penjualan Hewan (4.1.4.1.5.3): 0.0%\n*   Hasil Penjualan Biota Perairan (4.1.4.1.5.4): 0.0%\n*   Hasil Penjualan Tanaman (4.1.4.1.5.5): 0.0%\n*   Hasil Penjualan Barang Koleksi Non Budaya (4.1.4.1.5.6): 0.0%\n*   Hasil Penjualan Aset Tetap Dalam Renovasi (4.1.4.1.5.7): 0.0%\n*   Hasil Selisih Lebih Tukar Menukar BMD yang Tidak Dipisahkan (4.1.4.2): 0.0%\n*   Hasil Selisih Lebih Tukar Menukar Tanah (4.1.4.2.1 dan 4.1.4.2.1.1): 0.0%\n*   Hasil Selisih Lebih Tukar Menukar Peralatan dan Mesin (4.1.4.2.2): 0.0%\n*   Hasil Selisih Lebih Tukar Menukar Alat Besar (4.1.4.2.2.1): 0.0%\n*   Hasil Selisih Lebih Tukar Menukar Alat Angkutan (4.1.4.2.2.2): 0.0%\n*   Hasil Selisih Lebih Tukar Menukar Alat Bengkel dan Alat Ukur (4.1.4.2.2.3): 0.0%\n*   Hasil Selisih Lebih Tukar Menukar Alat Pertanian (4.1.4.2.2.4 dan 4.1.4.2.2.5): 0.0%\n*   Hasil Selisih Lebih Tukar Menukar Alat Studio, Komunikasi, dan Pemancar (4.1.4.2.2.6): 0.0%\n*   Hasil Selisih Lebih Tukar Menukar Alat Kedokteran dan Kesehatan (4.1.4.2.2.7): 0.0%\n*   Hasil Selisih Lebih Tukar Menukar Alat Laboratorium (4.1.4.2.2.8): 0.0%\n*   Hasil Selisih Lebih Tukar Menukar Komputer (4.1.4.2.2.10): 0.0%\n*   Hasil Selisih Lebih Tukar Menukar Alat Eksplorasi (4.1.4.2.2.11): 0.0%\n*   Hasil Selisih Lebih Tukar Menukar Alat Pengeboran (4.1.4.2.2.12): 0.0%\n*   Hasil Selisih Lebih Tukar Menukar Alat Produksi, Pengolahan, dan Pemurnian (4.1.4.2.2.13): 0.0%\n*   Hasil Selisih Lebih Tukar Menukar Alat Bantu Eksplorasi (4.1.4.2.2.14): 0.0%\n*   Hasil Selisih Lebih Tukar Menukar Alat Keselamatan Kerja (4.1.4.2.2.15): 0.0%\n*   Hasil Selisih Lebih Tukar Menukar Alat Peraga (4.1.4.2.2.16): 0.0%\n*   Hasil Selisih Lebih Tukar Menukar Peralatan Proses/Produksi (4.1.4.2.2.17): 0.0%\n*   Hasil Selisih Lebih Tukar Menukar Rambu\\u0002Rambu (4.1.4.2.2.18): 0.0%\n*   Hasil Selisih Lebih Tukar Menukar Peralatan Olahraga (4.1.4.2.2.19): 0.0%\n*   Hasil Selisih Lebih Tukar Menukar Gedung dan Bangunan (4.1.4.2.3): 0.0%\n*   Hasil Selisih Lebih Tukar Menukar Bangunan Gedung (4.1.4.2.3.1): 0.0%\n*   Hasil Selisih Lebih Tukar Menukar Monumen (4.1.4.2.3.2): 0.0%\n*   Hasil Selisih Lebih Tukar Menukar Bangunan Menara (4.1.4.2.3.3): 0.0%\n*   Hasil Selisih Lebih Tukar Menukar Tugu Titik Kontrol/Pasti (4.1.4.2.3.4): 0.0%\n*   Hasil Selisih Lebih Tukar Menukar Jalan, Jaringan, dan Irigasi (4.1.4.2.4): 0.0%\n*   Hasil Selisih Lebih Tukar Menukar Bangunan Air (4.1.4.2.4.2): 0.0%\n*   Hasil Selisih Lebih Tukar Menukar Instalasi (4.1.4.2.4.3): 0.0%\n*   Hasil Selisih Lebih Tukar Menukar Jaringan (4.1.4.2.4.4): 0.0%\n*   Hasil Selisih Lebih Tukar Menukar Aset Tetap Lainnya (4.1.4.2.5): 0.0%\n*   Hasil Selisih Lebih Tukar Menukar Bahan Perpustakaan (4.1.4.2.5.1): 0.0%\n*   Hasil Selisih Lebih Tukar Menukar Barang Bercorak Kesenian/Kebudayaan/Olahraga (4.1.4.2.5.2 dan 4.1.4.2.5.3): 0.0%\n*   Hasil Selisih Lebih Tukar Menukar Biota Perairan (4.1.4.2.5.4): 0.0%\n*   Hasil Selisih Lebih Tukar Menukar Tanaman (4.1.4.2.5.5): 0.0%\n*   Hasil Selisih Lebih Tukar Menukar Barang Koleksi Non Budaya (4.1.4.2.5.6): 0.0%\n*   Hasil Selisih Lebih Tukar Menukar Aset Tetap Dalam Renovasi (4.1.4.2.5.7): 0.0%\n*   Hasil Selisih Lebih Tukar Menukar Aset Lainnya (4.1.4.2.6): 0.0%\n*   Hasil Selisih Lebih Tukar Menukar Aset Lainnya-Aset Tidak Berwujud (4.1.4.2.6.1): 0.0%\n*   Hasil Selisih Lebih Tukar Menukar Aset Lainnya-Aset Lain-Lain (4.1.4.2.6.2): 0.0%\n*   Hasil Pemanfaatan BMD yang Tidak Dipisahkan (4.1.4.3): 0.0%\n*   Hasil Sewa BMD (4.1.4.3.1 dan 4.1.4.3.1.1): 0.0%\n*   Hasil Kerja Sama Pemanfaatan BMD (4.1.4.3.2 dan 4.1.4.3.2.1): 0.0%\n*   Hasil dari Bangun Guna Serah (4.1.4.3.3 dan 4.1.4.3.3.1): 0.0%\n*   Hasil dari Bangun Serah Guna (4.1.4.3.4 dan 4.1.4.3.4.1): 0.0%\n*   Hasil dari Kerja Sama Penyediaan Infrastruktur (4.1.4.3.5 dan 4.1.4.3.5.1): 0.0%\n*   02. PERUSAHAAN PATUNGAN (4.1.4.4.1.1.4): 0.0%\n*   a. Pasar Segiri (PT. Yudha Putera Kaltim) (4.1.4.4.1.1.5): 0.0%\n*   b. Pasar Sungai Dama (PT. Surya Rizky Reza Jaya Abadi) (4.1.4.4.1.1.6): 0.0%\n*   c. Pasar Kedondong (PT. Bahana Surya Sentosa) (4.1.4.4.1.1.7): 0.0%\n*   d. Pasar Pagi (PT. Buluh Perindu) (4.1.4.4.1.1.8): 0.0%\n*   Jasa Giro pada Rekening Dana Cadangan (4.1.4.5.3 dan 4.1.4.5.3.1): 0.0%\n*   Jasa Giro pada Rekening Dana BOS (4.1.4.5.4 dan 4.1.4.5.4.1): 0.0%\n*   Jasa Giro Dana Kapitasi pada FKTP (4.1.4.5.5 dan 4.1.4.5.5.1): 0.0%\n*   Hasil Pengelolaan Dana Bergulir (4.1.4.6, 4.1.4.6.6, dan 4.1.4.6.6.1): 0.0%\n*   Penerimaan atas Tuntutan Ganti Kerugian Keuangan Daerah (4.1.4.8): 0.0%\n*   Tuntutan Ganti Kerugian Daerah terhadap Bendahara (4.1.4.8.1 dan 4.1.4.8.1.1): 0.0%\n*   Tuntutan Ganti Kerugian Daerah terhadap Pegawai Negeri Bukan Bendahara atau Pejabat Lain (4.1.4.8.2 dan 4.1.4.8.2.1): 0.0%\n*   Penerimaan Keuntungan dari Selisih Nilai Tukar Rupiah terhadap Mata Uang Asing (4.1.4.10, 4.1.4.10.1, dan 4.1.4.10.1.1): 0.0%\n*   Pendapatan Denda Pajak Mineral Bukan Logam dan Batuan (4.1.4.12.14 dan 4.1.4.12.14.1): 0.0%\n*   Pendapatan Denda BPHTB-Pemindahan Hak (4.1.4.12.16.1): 0.0%\n*   Pendapatan Denda Retribusi Perizinan Tertentu (4.1.4.13.3): 0.0%\n*   Pendapatan Denda Retribusi Izin Mendirikan Bangunan (4.1.4.13.3.1): 0.0%\n*   Pendapatan Denda Retribusi Izin Tempat Penjualan Minuman Beralkohol (4.1.4.13.3.2 dan 4.1.4.13.3.3): 0.0%\n*   Pendapatan Denda Retribusi Izin Usaha Perikanan (4.1.4.13.3.4): 0.0%\n*   Pendapatan Denda Retribusi Pengendalian Lalu Lintas (4.1.4.13.3.5): 0.0%\n*   Pendapatan Denda Retribusi Perpanjangan Izin Mempekerjakan Tenaga Kerja Asing (IMTA) (4.1.4.13.3.6): 0.0%\n*   Pendapatan Hasil Eksekusi atas Jaminan (4.1.4.14): 0.0%\n*   Hasil Eksekusi atas Jaminan atas Pengadaan Barang/Jasa (4.1.4.14.1 dan 4.1.4.14.1.1): 0.0%\n*   Pendapatan dari Pengembalian Kelebihan Pembayaran Pajak Penghasilan Pasal 21 (4.1.4.15.1 dan 4.1.4.15.1.1): 0.0%\n*   Pendapatan dari Pengembalian Kelebihan Pembayaran Iuran Simpanan Peserta Tabungan Perumahan Rakyat ASN (4.1.4.15.2): 0.0%\n*   Pendapatan dari Pengembalian Kelebihan Pembayaran Iuran Simpanan Peserta Tabungan Perumahan Rakyat PNS (4.1.4.15.2.1): 0.0%\n*   Pendapatan dari Pengembalian Kelebihan Pembayaran Iuran Simpanan Peserta Tabungan Perumahan Rakyat PPPK (4.1.4.15.2.2): 0.0%\n*   Pendapatan dari Pengembalian Kelebihan Pembayaran Perjalanan Dinas Dalam Negeri Perjalanan Dinas Tetap (4.1.4.15.4.2): 0.0%\n*   Pendapatan dari Pengembalian Kelebihan Pembayaran Perjalanan Dinas Dalam Negeri Perjalanan Dinas Paket Meeting Dalam Kot (4.1.4.15.4.4): 0.0%\n*   Pendapatan dari Pengembalian Kelebihan Pembayaran Perjalanan Dinas Dalam Negeri Perjalanan Dinas Paket Meeting Luar Kota (4.1.4.15.4.5): 0.0%\n*   Pendapatan dari Pengembalian Kelebihan Pembayaran Kecelakaan Kerja (JKK) (4.1.4.15.5): 0.0%\n*   Pendapatan dari Pengembalian Kelebihan Pembayaran JKK (4.1.4.15.5.1): 0.0%\n*   Pendapatan dari Pengembalian Kelebihan Pembayaran Jaminan Kematian (JKM) (4.1.4.15.6): 0.0%\n*   Pendapatan dari Pengembalian Kelebihan Pembayaran JKM (4.1.4.15.6.1): 0.0%\n*   Pendapatan dari Pengembalian Kelebihan Pembayaran Jaminan Kesehatan Nasional (JKN) (4.1.4.15.7 dan 4.1.4.15.7.1.1): 0.0%\n*   Pendapatan Denda Pemanfaatan BMD yang tidak Dipisahkan (4.1.4.17): 0.0%\n*   Pendapatan Denda Pengakhiran Sewa BMD (4.1.4.17.1 dan 4.1.4.17.1.1): 0.0%\n*   Pendapatan Denda Hasil dari Kerja Sama Penyediaan Infrastruktur (4.1.4.17.2 dan 4.1.4.17.2.1): 0.0%\n*   Pendapatan Hasil Pengelolaan Dana Bergulir (4.1.4.19, 4.1.4.19.1, dan 4.1.4.19.1.1): 0.0%\n*   Pendapatan Berdasarkan Putusan Pengadilan (Inkracht) (4.1.4.20, 4.1.4.20.1, dan 4.1.4.20.1.1): 0.0%\n*   Pendapatan Zakat (4.1.4.22.1): 0.0%\n*   "
          },
          "metadata": {}
        }
      ]
    },
    {
      "cell_type": "code",
      "source": [
        "response = agent.query(\n",
        "    input=\"rekening level 2 mana yang mencapai target tepat 60% hingga 70%?\",\n",
        "    session_id=session_id)\n",
        "display(Markdown(response[\"output\"]))"
      ],
      "metadata": {
        "id": "igOZ4pP7yEyD",
        "outputId": "540f46aa-bb32-49c2-f498-8441f5e81f0a",
        "colab": {
          "base_uri": "https://localhost:8080/",
          "height": 521
        }
      },
      "execution_count": 32,
      "outputs": [
        {
          "output_type": "stream",
          "name": "stderr",
          "text": [
            "WARNING:opentelemetry.exporter.cloud_trace:Span has more then 32 attributes, some will be truncated\n",
            "WARNING:opentelemetry.exporter.cloud_trace:Span has more then 32 attributes, some will be truncated\n"
          ]
        },
        {
          "output_type": "display_data",
          "data": {
            "text/plain": [
              "<IPython.core.display.Markdown object>"
            ],
            "text/markdown": "Berdasarkan data yang diberikan, berikut adalah rekening level 2 yang mencapai target realisasi antara 60% hingga 70%:\n\n*   **4.1.16**: Bea Perolehan Hak Atas Tanah dan Bangunan (BPHTB) dengan persentase target 60.02%\n*   **4.2**: Pendapatan Transfer dengan persentase target 65.42%\n*   **4.1.2.1.1.7.1**: 01. RSUD IA. Moies dengan persentase target 65.24%\n*   **4.2.1**: Pendapatan Transfer Pemerintah Pusat dengan persentase target 67.03%\n*   **4**: Pendapatan Daerah dengan persentase target 67.21%\n*   **4.1.1**: Hasil Pajak Daerah dengan persentase target 67.13%\n*   **4.1.12**: Pajak Air Tanah dengan persentase target 55.19%\n*   **4.1.2.1**: Retribusi Jasa Umum dengan persentase target 70.76%\n*   **4.1.2**: Hasil Retribusi Daerah dengan persentase target 70.28%\n*   **4.1.4.4**: Hasil Kerja Sama Daerah dengan persentase target 66.57%\n*   **4.2.1.1**: Dana Perimbangan dengan persentase target 67.13%\n*   **4.1.3.2.1**: Bagian Laba yang Dibagikan kepada Pemerintah Daerah (Dividen) atas Penyertaan Modal pada BUMD (Lembaga Keuangan) dengan persentase target 64.77%\n*   **4.1.4.18.1**: Pendapatan Dana Kapitasi JKN pada FKTP dengan persentase target 67.43%\n*   **4.2.1.1.2**: Dana Transfer Umum-Dana Alokasi Umum (DAU) dengan persentase target 62.15%\n*   **4.2.1.1.2.1**: DAU dengan persentase target 66.67%\n*   **4.2.2**: Pendapatan Transfer Antar Daerah dengan persentase target 62.24%\n*   **4.2.2.1.1.3**: Pendapatan Bagi Hasil Pajak Bahan Bakar Kendaraan Bermotor dengan persentase target 66.66%\n*   **4.1.2.2.7**: Retribusi Rumah Potong Hewan dengan persentase target 68.30%\n*   **4.1.3.2.1.1**: Bagian Laba yang Dibagikan kepada Pemerintah Daerah (Dividen) atas Penyertaan Modal pada BUMD (Lembaga Keuangan) dengan persentase target 64.77%\n*   **4.1.1.6.1.1.4**: Hotel Bintang Dua dengan persentase target 66.07%\n*   **4.1.4.4.1.1.2**: 03. PT. Pelabuhan Samudera Palaran (PSP) dengan persentase target 69.51%\n*   **4.1.4.18**: Pendapatan Dana Kapitasi Jaminan Kesehatan Nasional (JKN) pada Fasilitas Kesehatan Tingkat Pertama (FKTP) dengan persentase target 67.43%\n"
          },
          "metadata": {}
        }
      ]
    },
    {
      "cell_type": "code",
      "source": [
        "# prompt: setelah memiliki agent RAG di atas, selanjutnya melakukan apa?\n",
        "\n",
        "response = agent.query(\n",
        "    input=\"Buat laporan untuk data pajak dengan target realisasi di atas 80%?\",\n",
        "    session_id=session_id)\n",
        "display(Markdown(response[\"output\"]))\n"
      ],
      "metadata": {
        "colab": {
          "base_uri": "https://localhost:8080/",
          "height": 1000
        },
        "id": "2j4VE9U7sh6I",
        "outputId": "a20ea3be-20d5-47ff-9ead-d7c02841e2d6"
      },
      "execution_count": 33,
      "outputs": [
        {
          "output_type": "stream",
          "name": "stderr",
          "text": [
            "WARNING:opentelemetry.exporter.cloud_trace:Span has more then 32 attributes, some will be truncated\n",
            "WARNING:opentelemetry.exporter.cloud_trace:Span has more then 32 attributes, some will be truncated\n"
          ]
        },
        {
          "output_type": "display_data",
          "data": {
            "text/plain": [
              "<IPython.core.display.Markdown object>"
            ],
            "text/markdown": "Berikut adalah laporan data pajak dengan target realisasi di atas 80%:\n\n*   **Pajak Jasa Perhotelan**\n    *   Kode Rekening: 4.1.1.6\n    *   Target Realisasi: Rp 50.000.000.000,00\n    *   Total Realisasi: Rp 44.641.477.501,46\n    *   Persentase Target: 89.28%\n*   **Pajak Hotel**\n    *   Kode Rekening: 4.1.1.6.1\n    *   Target Realisasi: Rp 49.129.000.000,00\n    *   Total Realisasi: Rp 43.028.719.101,46\n    *   Persentase Target: 87.58%\n*   **Pajak Hotel**\n    *   Kode Rekening: 4.1.1.6.1.1\n    *   Target Realisasi: Rp 49.129.000.000,00\n    *   Total Realisasi: Rp 43.028.719.101,46\n    *   Persentase Target: 87.58%\n*   **Hotel Bintang Lima**\n    *   Kode Rekening: 4.1.1.6.1.1.1\n    *   Target Realisasi: Rp 5.200.000.000,00\n    *   Total Realisasi: Rp 4.906.323.860,00\n    *   Persentase Target: 94.35%\n*   **Hotel Bintang Empat**\n    *   Kode Rekening: 4.1.1.6.1.1.2\n    *   Target Realisasi: Rp 23.750.000.000,00\n    *   Total Realisasi: Rp 22.876.023.658,00\n    *   Persentase Target: 96.32%\n*   **Hotel Melati Satu**\n    *   Kode Rekening: 4.1.1.6.1.1.6\n    *   Target Realisasi: Rp 1.820.000.000,00\n    *   Total Realisasi: Rp 1.739.737.242,46\n    *   Persentase Target: 95.59%\n*   **Pajak Rumah Makan dan Sejenisnya**\n    *   Kode Rekening: 4.1.1.7.2\n    *   Target Realisasi: Rp 21.522.500.000,00\n    *   Total Realisasi: Rp 18.257.074.144,99\n    *   Persentase Target: 84.83%\n*   **Pajak Rumah Makan dan Sejenisnya**\n    *   Kode Rekening: 4.1.1.7.2.1\n    *   Target Realisasi: Rp 21.522.500.000,00\n    *   Total Realisasi: Rp 18.257.074.144,99\n    *   Persentase Target: 84.83%\n*   **Pajak Kafetaria dan Sejenisnya**\n    *   Kode Rekening: 4.1.1.7.3\n    *   Target Realisasi: Rp 18.189.500.000,00\n    *   Total Realisasi: Rp 16.317.789.624,00\n    *   Persentase Target: 89.71%\n*   **Pajak Kafetaria dan Sejenisnya**\n    *   Kode Rekening: 4.1.1.7.3.1\n    *   Target Realisasi: Rp 18.189.500.000,00\n    *   Total Realisasi: Rp 16.317.789.624,00\n    *   Persentase Target: 89.71%\n*   **Pajak Jasa Boga/Katering dan Sejenisnya**\n    *   Kode Rekening: 4.1.1.7.7\n    *   Target Realisasi: Rp 6.067.000.000,00\n    *   Total Realisasi: Rp 5.522.425.672,00\n    *   Persentase Target: 91.02%\n*   **Pajak Jasa Boga/Katering dan Sejenisnya**\n    *   Kode Rekening: 4.1.1.7.7.1\n    *   Target Realisasi: Rp 6.067.000.000,00\n    *   Total Realisasi: Rp 5.522.425.672,00\n    *   Persentase Target: 91.02%\n*   **Pajak Pagelaran Kesenian/Musik/Tari/Busana**\n    *   Kode Rekening: 4.1.1.8.2\n    *   Target Realisasi: Rp 945.000.000,00\n    *   Total Realisasi: Rp 764.729.650,00\n    *   Persentase Target: 80.92%\n*   **Pajak Pagelaran Kesenian/Musik/Tari/Busana**\n    *   Kode Rekening: 4.1.1.8.2.1\n    *   Target Realisasi: Rp 945.000.000,00\n    *   Total Realisasi: Rp 764.729.650,00\n    *   Persentase Target: 80.92%\n*   **DBH Sumber Daya Alam (SDA) Minyak Bumi**\n    *   Kode Rekening: 4.2.1.1.1.5\n    *   Target Realisasi: Rp 17.568.188.000,00\n    *   Total Realisasi: Rp 14.443.788.539,00\n    *   Persentase Target: 82.22%\n*   **DBH Sumber Daya Alam (SDA) Gas Bumi**\n    *   Kode Rekening: 4.2.1.1.1.6\n        *   Target Realisasi: Rp 48.241.959.000,00\n        *   Total Realisasi: Rp 38.593.567.200,00\n        *   Persentase Target: 80.00%\n*   **DBH Sumber Daya Alam (SDA) Mineral dan Batubara-Landrent**\n    *   Kode Rekening: 4.2.1.1.1.8\n    *   Target Realisasi: Rp 852.089.000,00\n    *   Total Realisasi: Rp 722.247.059,00\n    *   Persentase Target: 84.76%\n*   **Dana Bagi Hasil (DBH) Sumber Daya Alam (SDA) Mineral dan Batubara-Royalty**\n    *   Kode Rekening: 4.2.1.1.1.9\n    *   Target Realisasi: Rp 923.697.447.000,00\n    *   Total Realisasi: Rp 867.566.357.572,00\n    *   Persentase Target: 93.92%\n*   **DAK Fisik-Bidang Kesehatan dan KB Penugasan-Penurunan Angka Kematian Ibu (AKI), Angka Kematian Bayi (AKB) dan Intervesi Stunting**\n    *   Kode Rekening: 4.2.1.1.3.16\n    *   Target Realisasi: Rp 113.971.000,00\n    *   Total Realisasi: Rp 103.000.000,00\n    *   Persentase Target: 90.37%\n\nApakah ada informasi lain yang Anda butuhkan?\n"
          },
          "metadata": {}
        }
      ]
    },
    {
      "cell_type": "code",
      "source": [
        "response = agent.query(\n",
        "    input=\"Sajikan data lengkap dari rekening 4.2.2.1?\",\n",
        "    session_id=session_id)\n",
        "display(Markdown(response[\"output\"]))"
      ],
      "metadata": {
        "colab": {
          "base_uri": "https://localhost:8080/",
          "height": 675
        },
        "id": "hHSfJasASCLf",
        "outputId": "0bc38dd9-8998-4920-b535-0f60c469d31f"
      },
      "execution_count": 109,
      "outputs": [
        {
          "output_type": "stream",
          "name": "stderr",
          "text": [
            "WARNING:opentelemetry.exporter.cloud_trace:Span has more then 32 attributes, some will be truncated\n",
            "WARNING:opentelemetry.exporter.cloud_trace:Span has more then 32 attributes, some will be truncated\n"
          ]
        },
        {
          "output_type": "display_data",
          "data": {
            "text/plain": [
              "<IPython.core.display.Markdown object>"
            ],
            "text/markdown": "Berikut adalah data lengkap dari rekening 4.2.2.1:\n\n**4.2.2.1 Pendapatan Bagi Hasil**\n*   Target Realisasi: Rp 563.891.191.000\n*   Total Realisasi: Rp 332.116.846.242\n*   Persentase Target: 58.90%\n\n**Berikut rincian lebih lanjut untuk Pendapatan Bagi Hasil Pajak (4.2.2.1.1):**\n\n*   Target Realisasi: Rp 563.891.191.000\n*   Total Realisasi: Rp 332.116.846.242\n*   Persentase Target: 58.90%\n\n**Rincian Pendapatan Bagi Hasil Pajak:**\n\n*   **4.2.2.1.1.1 Pendapatan Bagi Hasil Pajak Kendaraan Bermotor**\n    *   Target Realisasi: Rp 93.845.833.000\n    *   Total Realisasi: Rp 38.029.332.000\n    *   Persentase Target: 40.52%\n*   **4.2.2.1.1.2 Pendapatan Bagi Hasil Bea Balik Nama Kendaraan Bermotor**\n    *   Target Realisasi: Rp 80.242.678.000\n    *   Total Realisasi: Rp 38.644.689.000\n    *   Persentase Target: 48.16%\n*   **4.2.2.1.1.3 Pendapatan Bagi Hasil Pajak Bahan Bakar Kendaraan Bermotor**\n    *   Target Realisasi: Rp 347.267.512.000\n    *   Total Realisasi: Rp 231.472.829.000\n    *   Persentase Target: 66.66%\n*   **4.2.2.1.1.4 Pendapatan Bagi Hasil Pajak Air Permukaan**\n    *   Target Realisasi: Rp 1.083.965.000\n    *   Total Realisasi: Rp 393.508.000\n    *   Persentase Target: 36.30%\n*   **4.2.2.1.1.5 Pendapatan Bagi Hasil Pajak Rokok**\n    *   Target Realisasi: Rp 41.451.203.000\n    *   Total Realisasi: Rp 23.576.488.242\n    *   Persentase Target: 56.88%\n"
          },
          "metadata": {}
        }
      ]
    },
    {
      "cell_type": "markdown",
      "source": [],
      "metadata": {
        "id": "PqbfoG1_hYLa"
      }
    },
    {
      "cell_type": "code",
      "source": [
        "evaluation_df"
      ],
      "metadata": {
        "colab": {
          "base_uri": "https://localhost:8080/",
          "height": 1129
        },
        "id": "UJV22olGtKez",
        "outputId": "5bdaaf03-e7b9-441f-d9bf-022adc246072"
      },
      "execution_count": 35,
      "outputs": [
        {
          "output_type": "execute_result",
          "data": {
            "text/plain": [
              "                                               query  \\\n",
              "0         data pendapatan apa saja yang kamu simpan?   \n",
              "1     kelompokkan data berdasarkan rekening level 3?   \n",
              "2  Buat laporan untuk data pajak dengan target re...   \n",
              "\n",
              "                    expected_output  \\\n",
              "0   List of revenue data categories   \n",
              "1  Grouped data by level 3 accounts   \n",
              "2   A link to a report or a summary   \n",
              "\n",
              "                                       actual_output  relevance_score  \\\n",
              "0  Terdapat berbagai jenis data pendapatan yang d...                5   \n",
              "1  Tentu, berikut adalah pengelompokan data berda...                4   \n",
              "2  Berikut adalah laporan data pajak dengan targe...                4   \n",
              "\n",
              "   accuracy_score  completeness_score  \n",
              "0               4                   3  \n",
              "1               5                   5  \n",
              "2               4                   3  "
            ],
            "text/html": [
              "\n",
              "  <div id=\"df-2cdee689-8285-44fc-92f8-a64708ded28a\" class=\"colab-df-container\">\n",
              "    <div>\n",
              "<style scoped>\n",
              "    .dataframe tbody tr th:only-of-type {\n",
              "        vertical-align: middle;\n",
              "    }\n",
              "\n",
              "    .dataframe tbody tr th {\n",
              "        vertical-align: top;\n",
              "    }\n",
              "\n",
              "    .dataframe thead th {\n",
              "        text-align: right;\n",
              "    }\n",
              "</style>\n",
              "<table border=\"1\" class=\"dataframe\">\n",
              "  <thead>\n",
              "    <tr style=\"text-align: right;\">\n",
              "      <th></th>\n",
              "      <th>query</th>\n",
              "      <th>expected_output</th>\n",
              "      <th>actual_output</th>\n",
              "      <th>relevance_score</th>\n",
              "      <th>accuracy_score</th>\n",
              "      <th>completeness_score</th>\n",
              "    </tr>\n",
              "  </thead>\n",
              "  <tbody>\n",
              "    <tr>\n",
              "      <th>0</th>\n",
              "      <td>data pendapatan apa saja yang kamu simpan?</td>\n",
              "      <td>List of revenue data categories</td>\n",
              "      <td>Terdapat berbagai jenis data pendapatan yang d...</td>\n",
              "      <td>5</td>\n",
              "      <td>4</td>\n",
              "      <td>3</td>\n",
              "    </tr>\n",
              "    <tr>\n",
              "      <th>1</th>\n",
              "      <td>kelompokkan data berdasarkan rekening level 3?</td>\n",
              "      <td>Grouped data by level 3 accounts</td>\n",
              "      <td>Tentu, berikut adalah pengelompokan data berda...</td>\n",
              "      <td>4</td>\n",
              "      <td>5</td>\n",
              "      <td>5</td>\n",
              "    </tr>\n",
              "    <tr>\n",
              "      <th>2</th>\n",
              "      <td>Buat laporan untuk data pajak dengan target re...</td>\n",
              "      <td>A link to a report or a summary</td>\n",
              "      <td>Berikut adalah laporan data pajak dengan targe...</td>\n",
              "      <td>4</td>\n",
              "      <td>4</td>\n",
              "      <td>3</td>\n",
              "    </tr>\n",
              "  </tbody>\n",
              "</table>\n",
              "</div>\n",
              "    <div class=\"colab-df-buttons\">\n",
              "\n",
              "  <div class=\"colab-df-container\">\n",
              "    <button class=\"colab-df-convert\" onclick=\"convertToInteractive('df-2cdee689-8285-44fc-92f8-a64708ded28a')\"\n",
              "            title=\"Convert this dataframe to an interactive table.\"\n",
              "            style=\"display:none;\">\n",
              "\n",
              "  <svg xmlns=\"http://www.w3.org/2000/svg\" height=\"24px\" viewBox=\"0 -960 960 960\">\n",
              "    <path d=\"M120-120v-720h720v720H120Zm60-500h600v-160H180v160Zm220 220h160v-160H400v160Zm0 220h160v-160H400v160ZM180-400h160v-160H180v160Zm440 0h160v-160H620v160ZM180-180h160v-160H180v160Zm440 0h160v-160H620v160Z\"/>\n",
              "  </svg>\n",
              "    </button>\n",
              "\n",
              "  <style>\n",
              "    .colab-df-container {\n",
              "      display:flex;\n",
              "      gap: 12px;\n",
              "    }\n",
              "\n",
              "    .colab-df-convert {\n",
              "      background-color: #E8F0FE;\n",
              "      border: none;\n",
              "      border-radius: 50%;\n",
              "      cursor: pointer;\n",
              "      display: none;\n",
              "      fill: #1967D2;\n",
              "      height: 32px;\n",
              "      padding: 0 0 0 0;\n",
              "      width: 32px;\n",
              "    }\n",
              "\n",
              "    .colab-df-convert:hover {\n",
              "      background-color: #E2EBFA;\n",
              "      box-shadow: 0px 1px 2px rgba(60, 64, 67, 0.3), 0px 1px 3px 1px rgba(60, 64, 67, 0.15);\n",
              "      fill: #174EA6;\n",
              "    }\n",
              "\n",
              "    .colab-df-buttons div {\n",
              "      margin-bottom: 4px;\n",
              "    }\n",
              "\n",
              "    [theme=dark] .colab-df-convert {\n",
              "      background-color: #3B4455;\n",
              "      fill: #D2E3FC;\n",
              "    }\n",
              "\n",
              "    [theme=dark] .colab-df-convert:hover {\n",
              "      background-color: #434B5C;\n",
              "      box-shadow: 0px 1px 3px 1px rgba(0, 0, 0, 0.15);\n",
              "      filter: drop-shadow(0px 1px 2px rgba(0, 0, 0, 0.3));\n",
              "      fill: #FFFFFF;\n",
              "    }\n",
              "  </style>\n",
              "\n",
              "    <script>\n",
              "      const buttonEl =\n",
              "        document.querySelector('#df-2cdee689-8285-44fc-92f8-a64708ded28a button.colab-df-convert');\n",
              "      buttonEl.style.display =\n",
              "        google.colab.kernel.accessAllowed ? 'block' : 'none';\n",
              "\n",
              "      async function convertToInteractive(key) {\n",
              "        const element = document.querySelector('#df-2cdee689-8285-44fc-92f8-a64708ded28a');\n",
              "        const dataTable =\n",
              "          await google.colab.kernel.invokeFunction('convertToInteractive',\n",
              "                                                    [key], {});\n",
              "        if (!dataTable) return;\n",
              "\n",
              "        const docLinkHtml = 'Like what you see? Visit the ' +\n",
              "          '<a target=\"_blank\" href=https://colab.research.google.com/notebooks/data_table.ipynb>data table notebook</a>'\n",
              "          + ' to learn more about interactive tables.';\n",
              "        element.innerHTML = '';\n",
              "        dataTable['output_type'] = 'display_data';\n",
              "        await google.colab.output.renderOutput(dataTable, element);\n",
              "        const docLink = document.createElement('div');\n",
              "        docLink.innerHTML = docLinkHtml;\n",
              "        element.appendChild(docLink);\n",
              "      }\n",
              "    </script>\n",
              "  </div>\n",
              "\n",
              "\n",
              "<div id=\"df-e7ce2e45-7957-49ff-8910-b2a28594d8fc\">\n",
              "  <button class=\"colab-df-quickchart\" onclick=\"quickchart('df-e7ce2e45-7957-49ff-8910-b2a28594d8fc')\"\n",
              "            title=\"Suggest charts\"\n",
              "            style=\"display:none;\">\n",
              "\n",
              "<svg xmlns=\"http://www.w3.org/2000/svg\" height=\"24px\"viewBox=\"0 0 24 24\"\n",
              "     width=\"24px\">\n",
              "    <g>\n",
              "        <path d=\"M19 3H5c-1.1 0-2 .9-2 2v14c0 1.1.9 2 2 2h14c1.1 0 2-.9 2-2V5c0-1.1-.9-2-2-2zM9 17H7v-7h2v7zm4 0h-2V7h2v10zm4 0h-2v-4h2v4z\"/>\n",
              "    </g>\n",
              "</svg>\n",
              "  </button>\n",
              "\n",
              "<style>\n",
              "  .colab-df-quickchart {\n",
              "      --bg-color: #E8F0FE;\n",
              "      --fill-color: #1967D2;\n",
              "      --hover-bg-color: #E2EBFA;\n",
              "      --hover-fill-color: #174EA6;\n",
              "      --disabled-fill-color: #AAA;\n",
              "      --disabled-bg-color: #DDD;\n",
              "  }\n",
              "\n",
              "  [theme=dark] .colab-df-quickchart {\n",
              "      --bg-color: #3B4455;\n",
              "      --fill-color: #D2E3FC;\n",
              "      --hover-bg-color: #434B5C;\n",
              "      --hover-fill-color: #FFFFFF;\n",
              "      --disabled-bg-color: #3B4455;\n",
              "      --disabled-fill-color: #666;\n",
              "  }\n",
              "\n",
              "  .colab-df-quickchart {\n",
              "    background-color: var(--bg-color);\n",
              "    border: none;\n",
              "    border-radius: 50%;\n",
              "    cursor: pointer;\n",
              "    display: none;\n",
              "    fill: var(--fill-color);\n",
              "    height: 32px;\n",
              "    padding: 0;\n",
              "    width: 32px;\n",
              "  }\n",
              "\n",
              "  .colab-df-quickchart:hover {\n",
              "    background-color: var(--hover-bg-color);\n",
              "    box-shadow: 0 1px 2px rgba(60, 64, 67, 0.3), 0 1px 3px 1px rgba(60, 64, 67, 0.15);\n",
              "    fill: var(--button-hover-fill-color);\n",
              "  }\n",
              "\n",
              "  .colab-df-quickchart-complete:disabled,\n",
              "  .colab-df-quickchart-complete:disabled:hover {\n",
              "    background-color: var(--disabled-bg-color);\n",
              "    fill: var(--disabled-fill-color);\n",
              "    box-shadow: none;\n",
              "  }\n",
              "\n",
              "  .colab-df-spinner {\n",
              "    border: 2px solid var(--fill-color);\n",
              "    border-color: transparent;\n",
              "    border-bottom-color: var(--fill-color);\n",
              "    animation:\n",
              "      spin 1s steps(1) infinite;\n",
              "  }\n",
              "\n",
              "  @keyframes spin {\n",
              "    0% {\n",
              "      border-color: transparent;\n",
              "      border-bottom-color: var(--fill-color);\n",
              "      border-left-color: var(--fill-color);\n",
              "    }\n",
              "    20% {\n",
              "      border-color: transparent;\n",
              "      border-left-color: var(--fill-color);\n",
              "      border-top-color: var(--fill-color);\n",
              "    }\n",
              "    30% {\n",
              "      border-color: transparent;\n",
              "      border-left-color: var(--fill-color);\n",
              "      border-top-color: var(--fill-color);\n",
              "      border-right-color: var(--fill-color);\n",
              "    }\n",
              "    40% {\n",
              "      border-color: transparent;\n",
              "      border-right-color: var(--fill-color);\n",
              "      border-top-color: var(--fill-color);\n",
              "    }\n",
              "    60% {\n",
              "      border-color: transparent;\n",
              "      border-right-color: var(--fill-color);\n",
              "    }\n",
              "    80% {\n",
              "      border-color: transparent;\n",
              "      border-right-color: var(--fill-color);\n",
              "      border-bottom-color: var(--fill-color);\n",
              "    }\n",
              "    90% {\n",
              "      border-color: transparent;\n",
              "      border-bottom-color: var(--fill-color);\n",
              "    }\n",
              "  }\n",
              "</style>\n",
              "\n",
              "  <script>\n",
              "    async function quickchart(key) {\n",
              "      const quickchartButtonEl =\n",
              "        document.querySelector('#' + key + ' button');\n",
              "      quickchartButtonEl.disabled = true;  // To prevent multiple clicks.\n",
              "      quickchartButtonEl.classList.add('colab-df-spinner');\n",
              "      try {\n",
              "        const charts = await google.colab.kernel.invokeFunction(\n",
              "            'suggestCharts', [key], {});\n",
              "      } catch (error) {\n",
              "        console.error('Error during call to suggestCharts:', error);\n",
              "      }\n",
              "      quickchartButtonEl.classList.remove('colab-df-spinner');\n",
              "      quickchartButtonEl.classList.add('colab-df-quickchart-complete');\n",
              "    }\n",
              "    (() => {\n",
              "      let quickchartButtonEl =\n",
              "        document.querySelector('#df-e7ce2e45-7957-49ff-8910-b2a28594d8fc button');\n",
              "      quickchartButtonEl.style.display =\n",
              "        google.colab.kernel.accessAllowed ? 'block' : 'none';\n",
              "    })();\n",
              "  </script>\n",
              "</div>\n",
              "\n",
              "  <div id=\"id_06126e4c-5bfb-4c79-b4bc-e97ffb910295\">\n",
              "    <style>\n",
              "      .colab-df-generate {\n",
              "        background-color: #E8F0FE;\n",
              "        border: none;\n",
              "        border-radius: 50%;\n",
              "        cursor: pointer;\n",
              "        display: none;\n",
              "        fill: #1967D2;\n",
              "        height: 32px;\n",
              "        padding: 0 0 0 0;\n",
              "        width: 32px;\n",
              "      }\n",
              "\n",
              "      .colab-df-generate:hover {\n",
              "        background-color: #E2EBFA;\n",
              "        box-shadow: 0px 1px 2px rgba(60, 64, 67, 0.3), 0px 1px 3px 1px rgba(60, 64, 67, 0.15);\n",
              "        fill: #174EA6;\n",
              "      }\n",
              "\n",
              "      [theme=dark] .colab-df-generate {\n",
              "        background-color: #3B4455;\n",
              "        fill: #D2E3FC;\n",
              "      }\n",
              "\n",
              "      [theme=dark] .colab-df-generate:hover {\n",
              "        background-color: #434B5C;\n",
              "        box-shadow: 0px 1px 3px 1px rgba(0, 0, 0, 0.15);\n",
              "        filter: drop-shadow(0px 1px 2px rgba(0, 0, 0, 0.3));\n",
              "        fill: #FFFFFF;\n",
              "      }\n",
              "    </style>\n",
              "    <button class=\"colab-df-generate\" onclick=\"generateWithVariable('evaluation_df')\"\n",
              "            title=\"Generate code using this dataframe.\"\n",
              "            style=\"display:none;\">\n",
              "\n",
              "  <svg xmlns=\"http://www.w3.org/2000/svg\" height=\"24px\"viewBox=\"0 0 24 24\"\n",
              "       width=\"24px\">\n",
              "    <path d=\"M7,19H8.4L18.45,9,17,7.55,7,17.6ZM5,21V16.75L18.45,3.32a2,2,0,0,1,2.83,0l1.4,1.43a1.91,1.91,0,0,1,.58,1.4,1.91,1.91,0,0,1-.58,1.4L9.25,21ZM18.45,9,17,7.55Zm-12,3A5.31,5.31,0,0,0,4.9,8.1,5.31,5.31,0,0,0,1,6.5,5.31,5.31,0,0,0,4.9,4.9,5.31,5.31,0,0,0,6.5,1,5.31,5.31,0,0,0,8.1,4.9,5.31,5.31,0,0,0,12,6.5,5.46,5.46,0,0,0,6.5,12Z\"/>\n",
              "  </svg>\n",
              "    </button>\n",
              "    <script>\n",
              "      (() => {\n",
              "      const buttonEl =\n",
              "        document.querySelector('#id_06126e4c-5bfb-4c79-b4bc-e97ffb910295 button.colab-df-generate');\n",
              "      buttonEl.style.display =\n",
              "        google.colab.kernel.accessAllowed ? 'block' : 'none';\n",
              "\n",
              "      buttonEl.onclick = () => {\n",
              "        google.colab.notebook.generateWithVariable('evaluation_df');\n",
              "      }\n",
              "      })();\n",
              "    </script>\n",
              "  </div>\n",
              "\n",
              "    </div>\n",
              "  </div>\n"
            ],
            "application/vnd.google.colaboratory.intrinsic+json": {
              "type": "dataframe",
              "variable_name": "evaluation_df",
              "summary": "{\n  \"name\": \"evaluation_df\",\n  \"rows\": 3,\n  \"fields\": [\n    {\n      \"column\": \"query\",\n      \"properties\": {\n        \"dtype\": \"string\",\n        \"num_unique_values\": 3,\n        \"samples\": [\n          \"data pendapatan apa saja yang kamu simpan?\",\n          \"kelompokkan data berdasarkan rekening level 3?\",\n          \"Buat laporan untuk data pajak dengan target realisasi di atas 80%?\"\n        ],\n        \"semantic_type\": \"\",\n        \"description\": \"\"\n      }\n    },\n    {\n      \"column\": \"expected_output\",\n      \"properties\": {\n        \"dtype\": \"string\",\n        \"num_unique_values\": 3,\n        \"samples\": [\n          \"List of revenue data categories\",\n          \"Grouped data by level 3 accounts\",\n          \"A link to a report or a summary\"\n        ],\n        \"semantic_type\": \"\",\n        \"description\": \"\"\n      }\n    },\n    {\n      \"column\": \"actual_output\",\n      \"properties\": {\n        \"dtype\": \"string\",\n        \"num_unique_values\": 3,\n        \"samples\": [\n          \"Terdapat berbagai jenis data pendapatan yang disimpan, meliputi:\\n\\n*   **Pendapatan Asli Daerah (PAD)**\\n    *   Hasil Pajak Daerah (e.g., Pajak Hotel, Pajak Restoran, Pajak Hiburan, Pajak Reklame, Pajak Penerangan Jalan, Pajak Parkir, Pajak Air Tanah, Pajak Sarang Burung Walet, PBB Perdesaan dan Perkotaan, BPHTB)\\n    *   Hasil Retribusi Daerah (e.g., Retribusi Jasa Umum, Retribusi Jasa Usaha, Retribusi Perizinan Tertentu)\\n    *   Hasil Pengelolaan Kekayaan Daerah yang Dipisahkan (e.g., Bagian Laba atas Penyertaan Modal pada BUMD)\\n    *   Lain-lain PAD yang Sah (e.g., Hasil Penjualan BMD, Jasa Giro, Pendapatan Bunga, Penerimaan atas Tuntutan Ganti Kerugian Keuangan Daerah, Penerimaan Komisi, Pendapatan Denda, Pendapatan Dana Kapitasi JKN pada FKTP)\\n*   **Pendapatan Transfer**\\n    *   Pendapatan Transfer Pemerintah Pusat (e.g., Dana Perimbangan, Dana Insentif Fiskal)\\n    *   Pendapatan Transfer Antar Daerah (e.g., Pendapatan Bagi Hasil, Bantuan Keuangan)\\n*   **Lain-Lain Pendapatan Daerah yang Sah**\\n\",\n          \"Tentu, berikut adalah pengelompokan data berdasarkan rekening level 3:\\n\\n**4.1.1 Hasil Pajak Daerah**\\n\\n*   Pajak Jasa Perhotelan\\n*   Pajak Makanan dan/atau Minuman\\n*   Pajak Jasa Kesenian dan Hiburan\\n*   Pajak Reklame\\n*   Pajak Penerangan Jalan\\n*   Pajak Parkir\\n*   Pajak Air Tanah\\n*   Pajak Sarang Burung Walet\\n*   Pajak Mineral Bukan Logam dan Batuan\\n*   Pajak Bumi dan Bangunan Perdesaan dan Perkotaan (PBBP2)\\n*   Bea Perolehan Hak Atas Tanah dan Bangunan (BPHTB)\\n\\n**4.1.2 Hasil Retribusi Daerah**\\n\\n*   Retribusi Jasa Umum\\n*   Retribusi Jasa Usaha\\n*   Retribusi Perizinan Tertentu\\n\\n**4.1.3 Hasil Pengelolaan Kekayaan Daerah yang Dipisahkan**\\n\\n*   Bagian Laba yang Dibagikan kepada Pemerintah Daerah (Dividen) atas Penyertaan Modal pada BUMN\\n*   Bagian Laba yang Dibagikan kepada Pemerintah Daerah (Dividen) atas Penyertaan Modal pada BUMD\\n*   Bagian Laba yang dibagikan kepada Pemerintah Daerah (Dividen) atas Penyertaan Modal pada Perusahaan Milik Swasta\\n\\n**4.1.4 Lain-lain Pendapatan Asli Daerah yang Sah**\\n\\n*   Hasil Penjualan BMD yang Tidak Dipisahkan\\n*   Hasil Selisih Lebih Tukar Menukar BMD yang Tidak Dipisahkan\\n*   Hasil Pemanfaatan BMD yang Tidak Dipisahkan\\n*   Hasil Kerja Sama Daerah\\n*   Jasa Giro\\n*   Hasil Pengelolaan Dana Bergulir\\n*   Pendapatan Bunga\\n*   Pendapatan Zakat, Infaq, Shadaqah, dan Wakaf\\n*   Penerimaan atas Tuntutan Ganti Kerugian Keuangan Daerah\\n*   Penerimaan Komisi, Potongan, atau Bentuk Lain\\n*   Penerimaan Keuntungan dari Selisih Nilai Tukar Rupiah terhadap Mata Uang Asing\\n*   Pendapatan Denda atas Keterlambatan Pelaksanaan Pekerjaan\\n*   Pendapatan Denda Pajak Daerah\\n*   Pendapatan Denda Retribusi Daerah\\n*   Pendapatan Hasil Eksekusi atas Jaminan\\n*   Pendapatan dari Pengembalian\\n*   Pendapatan Denda Pemanfaatan BMD yang tidak Dipisahkan\\n*   Pendapatan Dana Kapitasi Jaminan Kesehatan Nasional (JKN) pada Fasilitas Kesehatan Tingkat Pertama (FKTP)\\n*   Pendapatan Hasil Pengelolaan Dana Bergulir\\n*   Pendapatan Berdasarkan Putusan Pengadilan (Inkracht)\\n*   Pendapatan Denda atas Pelanggaran Peraturan Daerah\\n\\n**4.2.1 Pendapatan Transfer Pemerintah Pusat**\\n\\n*   Dana Perimbangan\\n*   Dana Insentif Fiskal (DIF)\\n\\n**4.2.2 Pendapatan Transfer Antar Daerah**\\n\\n*   Pendapatan Bagi Hasil\\n*   Bantuan Keuangan\\n\\n**4.3.1 Pendapatan Hibah**\\n\\n*   Pendapatan Hibah dari Pemerintah Pusat\\n*   Pendapatan Hibah dari Pemerintah Daerah Lainnya\\n*   Pendapatan Hibah dari Kelompok Masyarakat/Perorangan Dalam Negeri\\n*   Pendapatan Hibah dari Kelompok Masyarakat Dalam Negeri/Perorangan dalam Negeri\\n*   Sumbangan Pihak Ketiga/Sejenis\\n\\n**4.3.2 Dana Darurat**\\n\\n*   Dana Darurat\\n\\n**4.3.3 Lain-Lain Pendapatan Daerah yang Sah**\\n\\n*   Lain-lain Pendapatan\\n\\nApakah ada informasi lebih lanjut yang ingin Anda ketahui terkait salah satu kelompok rekening tersebut?\",\n          \"Berikut adalah laporan data pajak dengan target realisasi di atas 80%:\\n\\n**Pendapatan Asli Daerah**\\n\\n*   **Hasil Pajak Daerah**\\n    *   Pajak Jasa Perhotelan: 89.28%\\n        *   Hotel Bintang Lima: 94.35%\\n        *   Hotel Bintang Empat: 96.32%\\n        *   Hotel Bintang Tiga: 76.15%\\n        *   Hotel Melati Satu: 95.59%\\n    *   Pajak Makanan dan/atau Minuman\\n        *   Pajak Rumah Makan dan Sejenisnya: 84.83%\\n        *   Pajak Kafetaria dan Sejenisnya: 89.71%\\n        *   Pajak Kantin dan Sejenisnya: 113.36%\\n        *   Pajak Warung dan Sejenisnya: 105.52%\\n        *   Pajak Jasa Boga/Katering dan Sejenisnya: 91.02%\\n    *   Pajak Jasa Kesenian dan Hiburan: 102.12%\\n        *   Pajak Tontonan Film: 98.00%\\n        *   Pajak Pagelaran Kesenian/Musik/Tari/Busana: 80.92%\\n        *   Pajak Diskotik, Karoke, Klub Malam dan Sejenisnya: 104.40%\\n            *   Karaoke: 108.58%\\n            *   Klub Malam: 102.21%\\n        *   Pajak Permainan Biliar dan Bowling: 137.22%\\n        *   Pajak Pacuan Kuda, Kendaraan Bermotor dan Permainan Ketangkasan: 102.70%\\n            *   Permainan Ketangkasan: 102.79%\\n        *   Pajak Panti Pijat, Refleksi, Mandi Uap/Spa dan Pusat Kebugaran (Fitness Center): 163.36%\\n            *   Mandi Uap/Spa: 489.03%\\n            *   Pusat Kebugaran/Fitness Center: 165.32%\\n    *   Pajak Parkir: 103.51%\\n        *   Pusat Perbelanjaan/ Mall: 117.06%\\n    *   Pajak Reklame Kain: 142.35%\\n    *   Pajak Penerangan Jalan\\n    *   Pajak Air Tanah\\n    *   Pajak Sarang Burung Walet\\n    *   Pajak Mineral Bukan Logam dan Batuan\\n    *   Pajak Bumi dan Bangunan Perdesaan dan Perkotaan (PBBP2)\\n    *   Bea Perolehan Hak Atas Tanah dan Bangunan (BPHTB)\\n\\n*   **Hasil Retribusi Daerah**\\n    *   Retribusi Jasa Umum\\n        *   Retribusi Pelayanan Kesehatan di Puskesmas: 125.93%\\n        *   Pendapatan BLUD: 75.98%\\n            *   02. PUSKESMAS: 101.05%\\n        *   Retribusi Pelayanan Persampahan/ Kebersihan: 70.76%\\n        *   Retribusi Pemeriksaan Alat Pemadam Kebakaran: 100.00%\\n        *   Retribusi Penyediaan dan/atau Penyedotan Kakus: 101.07%\\n        *   Retribusi Pelayanan Tera/Tera Ulang: 100.00%\\n    *   Retribusi Jasa Usaha\\n        *   Retribusi Pemakaian Kekayaan Daerah\\n            *   Retribusi Pemakaian Ruangan: 113.31%\\n                *   Retr. Pemakaian Aset Daerah Berjualan Dalam Pasar (Disdag): 113.31%\\n        *   Retribusi Tempat Pelelangan: 160.25%\\n            *   Retribusi Penyediaan Fasilitas Lainnya di Tempat Pelelangan: 100.00%\\n        *   Retribusi Tempat Parkir Khusus: 89.91%\\n        *   Retribusi Rumah Potong Hewan\\n            *   Retribusi Pelayanan Rumah Potong Hewan: 80.80%\\n                *   Pemeriksaan Kesehatan Hewan di Rumah Pemotongan Hewan: 79.09%\\n        *   Retribusi Pelayanan Kepelabuhanan: 266.03%\\n        *   Retribusi Tempat Rekreasi dan Olahraga: 138.00%\\n    *   Retribusi Perizinan Tertentu\\n        *   Retribusi Izin Mendirikan Bangunan: 127.41%\\n        *   Retribusi Izin Tempat Penjualan Minuman Beralkohol: 100.00%\\n        *   Retribusi Izin Trayek untuk Menyediakan Pelayanan Angkutan Umum: 100.00%\\n        *   Retribusi Perpanjangan Izin Mempekerjakan Tenaga Kerja Asing (IMTA): 342.51%\\n*   **Hasil Pengelolaan Kekayaan Daerah yang Dipisahkan**\\n    *   Bagian Laba yang Dibagikan kepada Pemerintah Daerah (Dividen) atas Penyertaan Modal pada BUMD (Bidang Air Minum): 250.23%\\n        *   Perusahaan Daerah Air Minum (PDAM): 250.23%\\n*   **Lain-lain Pendapatan Asli Daerah yang Sah**\\n    *   Hasil Penjualan BMD yang Tidak Dipisahkan\\n        *   Hasil Penjualan Gedung dan Bangunan: 100.00%\\n        *   Hasil Penjualan Aset Lainnya: 590.51%\\n    *   Penerimaan Komisi, Potongan, atau Bentuk Lain: 139.30%\\n        *   Penerimaan Lain-Lain (Lebih Bayar Pendapatan Pajak / Retribusi atau penerimaan PAD Lain-lainnya): 139.30%\\n    *   Pendapatan Denda Pajak Daerah\\n        *   Pendapatan Denda Pajak Hotel: 978.85%\\n        *   Pendapatan Denda Pajak Restoran: 106.08%\\n        *   Pendapatan Denda Pajak Hiburan: 4233.37%\\n        *   Pendapatan Denda Pajak Bumi dan Bangunan Perdesaan dan Perkotaan (PBBP2): 244.83%\\n    *   Pendapatan Denda atas Pelanggaran Peraturan Daerah: 100.00%\\n\\n**Pendapatan Transfer**\\n*   Dana Transfer Umum-Dana Bagi Hasil (DBH)\\n    *   DBH Sumber Daya Alam (SDA) Minyak Bumi: 82.22%\\n    *   DBH Sumber Daya Alam (SDA) Gas Bumi: 80.00%\\n    *   DBH Sumber Daya Alam (SDA) Mineral dan Batubara-Royalty: 93.92%\\n\\n**Lain-Lain Pendapatan Daerah yang Sah**\\n\\n*   Lain-lain Pendapatan: 109.64%\\n\\nApakah Anda ingin laporan yang lebih rinci untuk kategori tertentu?\"\n        ],\n        \"semantic_type\": \"\",\n        \"description\": \"\"\n      }\n    },\n    {\n      \"column\": \"relevance_score\",\n      \"properties\": {\n        \"dtype\": \"number\",\n        \"std\": 0,\n        \"min\": 4,\n        \"max\": 5,\n        \"num_unique_values\": 2,\n        \"samples\": [\n          4,\n          5\n        ],\n        \"semantic_type\": \"\",\n        \"description\": \"\"\n      }\n    },\n    {\n      \"column\": \"accuracy_score\",\n      \"properties\": {\n        \"dtype\": \"number\",\n        \"std\": 0,\n        \"min\": 4,\n        \"max\": 5,\n        \"num_unique_values\": 2,\n        \"samples\": [\n          5,\n          4\n        ],\n        \"semantic_type\": \"\",\n        \"description\": \"\"\n      }\n    },\n    {\n      \"column\": \"completeness_score\",\n      \"properties\": {\n        \"dtype\": \"number\",\n        \"std\": 1,\n        \"min\": 3,\n        \"max\": 5,\n        \"num_unique_values\": 2,\n        \"samples\": [\n          5,\n          3\n        ],\n        \"semantic_type\": \"\",\n        \"description\": \"\"\n      }\n    }\n  ]\n}"
            }
          },
          "metadata": {},
          "execution_count": 35
        }
      ]
    },
    {
      "cell_type": "code",
      "source": [
        "api = CourseAPIClient()\n",
        "api.get_tax(\"4.1.1\")"
      ],
      "metadata": {
        "colab": {
          "base_uri": "https://localhost:8080/",
          "height": 53
        },
        "id": "jDCB7Jnuv-40",
        "outputId": "01a67ac0-05df-49ac-dfee-9f6f23f53641"
      },
      "execution_count": 38,
      "outputs": [
        {
          "output_type": "execute_result",
          "data": {
            "text/plain": [
              "'[{\"fpd.kode_rekening\": \"4.1.1\", \"fpd.terget_realita\": 554860000000.0, \"fpd.totrealisasi_after\": 372499026684.39, \"fpd.persentarget_all\": 67.13387641646361, \"dr.nama_rek\": \"Hasil Pajak Daerah\"}]'"
            ],
            "application/vnd.google.colaboratory.intrinsic+json": {
              "type": "string"
            }
          },
          "metadata": {},
          "execution_count": 38
        }
      ]
    },
    {
      "cell_type": "markdown",
      "source": [
        "## Evaluation\n",
        "\n"
      ],
      "metadata": {
        "id": "LJbyASSU3eL2"
      }
    },
    {
      "cell_type": "code",
      "source": [
        "!pip install rouge-score\n",
        "!pip install -q rouge-score nltk\n",
        "!pip install ace_tools\n"
      ],
      "metadata": {
        "colab": {
          "base_uri": "https://localhost:8080/"
        },
        "id": "ZOIM94Rt3107",
        "outputId": "ec94013d-881c-471e-c991-bd84dacca950"
      },
      "execution_count": 60,
      "outputs": [
        {
          "output_type": "stream",
          "name": "stdout",
          "text": [
            "Requirement already satisfied: rouge-score in /usr/local/lib/python3.11/dist-packages (0.1.2)\n",
            "Requirement already satisfied: absl-py in /usr/local/lib/python3.11/dist-packages (from rouge-score) (1.4.0)\n",
            "Requirement already satisfied: nltk in /usr/local/lib/python3.11/dist-packages (from rouge-score) (3.9.1)\n",
            "Requirement already satisfied: numpy in /usr/local/lib/python3.11/dist-packages (from rouge-score) (1.26.4)\n",
            "Requirement already satisfied: six>=1.14.0 in /usr/local/lib/python3.11/dist-packages (from rouge-score) (1.17.0)\n",
            "Requirement already satisfied: click in /usr/local/lib/python3.11/dist-packages (from nltk->rouge-score) (8.1.8)\n",
            "Requirement already satisfied: joblib in /usr/local/lib/python3.11/dist-packages (from nltk->rouge-score) (1.4.2)\n",
            "Requirement already satisfied: regex>=2021.8.3 in /usr/local/lib/python3.11/dist-packages (from nltk->rouge-score) (2024.11.6)\n",
            "Requirement already satisfied: tqdm in /usr/local/lib/python3.11/dist-packages (from nltk->rouge-score) (4.67.1)\n",
            "Requirement already satisfied: ace_tools in /usr/local/lib/python3.11/dist-packages (0.0)\n"
          ]
        }
      ]
    },
    {
      "cell_type": "code",
      "source": [
        "from sklearn.metrics import ndcg_score\n",
        "\n",
        "def precision_at_k(retrieved, relevant, k):\n",
        "    retrieved_at_k = retrieved[:k]\n",
        "    relevant_at_k = [doc for doc in retrieved_at_k if doc in relevant]\n",
        "    return len(relevant_at_k) / k\n",
        "\n",
        "def recall_at_k(retrieved, relevant, k):\n",
        "    retrieved_at_k = retrieved[:k]\n",
        "    relevant_at_k = [doc for doc in retrieved_at_k if doc in relevant]\n",
        "    return len(relevant_at_k) / len(relevant)\n",
        "\n",
        "def mean_reciprocal_rank(retrieved, relevant):\n",
        "    for i, doc in enumerate(retrieved):\n",
        "        if doc in relevant:\n",
        "            return 1 / (i + 1)\n",
        "    return 0\n",
        "\n",
        "def ndcg_at_k(retrieved, relevant, k):\n",
        "    relevance_scores = [1 if doc in relevant else 0 for doc in retrieved[:k]]\n",
        "    return ndcg_score([relevance_scores], [relevance_scores])\n"
      ],
      "metadata": {
        "id": "yCwzAqfw3j_3"
      },
      "execution_count": 39,
      "outputs": []
    },
    {
      "cell_type": "code",
      "source": [],
      "metadata": {
        "id": "L-y__YAM47tr"
      },
      "execution_count": null,
      "outputs": []
    },
    {
      "cell_type": "code",
      "source": [],
      "metadata": {
        "id": "HcoWqGaX47eL"
      },
      "execution_count": null,
      "outputs": []
    },
    {
      "cell_type": "markdown",
      "source": [
        "### Evaluasi jawaban LLM Vertex AI - Gemini 2-Pro\n",
        "- Matrix bleu\n",
        "  > Seberapa mirip teks jawaban dengan teks referensi?\n",
        "- Matrix rouge\n",
        "  > Seberapa banyak bagian teks referensi muncul dalam jawaban agent?"
      ],
      "metadata": {
        "id": "2fc0Sse448HA"
      }
    },
    {
      "cell_type": "code",
      "source": [
        "session_id = str(uuid.uuid4())  # Generate a new session ID for evaluation\n",
        "\n",
        "list_tax = CourseAPIClient()\n",
        "list_tax = list_tax.list_tax()\n",
        "\n",
        "get_tax = CourseAPIClient()\n",
        "get_tax = get_tax.get_tax(\"4.2.2\")\n",
        "\n",
        "get_tax_41 = CourseAPIClient()\n",
        "get_tax_41 = get_tax_41.get_tax(\"4.1\")\n",
        "\n",
        "test_queries = [\n",
        "    # 1. Basic retrieval test\n",
        "    {\n",
        "        \"query\": \"Data pendapatan apa saja yang kamu simpan?\",\n",
        "        \"expected_output\": f\"Tentu, berikut adalah jenis data pendapatan yang disimpan: - Pendapatan Asli Daerah - Hasil Pajak Daerah - Pajak Jasa Perhotelan - Pajak Hotel - Pajak Motel - Pajak Losmen - Pajak Gubuk Pariwisata - Pajak Wisma Pariwisata - Pajak Pesanggrahan - Pajak Rumah Penginapan dan Sejenisnya - Pajak Rumah Kos dengan Jumlah Kamar Lebih dari 10 (Sepuluh) - Pajak Makanan dan/atau Minuman - Pajak Restoran - Pajak Rumah Makan dan Sejenisnya - Pajak Kafetaria dan Sejenisnya - Pajak Kantin dan Sejenisnya - Pajak Warung dan Sejenisnya - Pajak Bar dan Sejenisnya - Pajak Jasa Boga/Katering dan Sejenisnya - Hasil Retribusi Daerah - Retribusi Jasa Umum - Retribusi Pelayanan Kesehatan - Retribusi Pelayanan Persampahan/ Kebersihan - Retribusi Pelayanan Pemakaman dan Pengabuan Mayat - Retribusi Pelayanan Parkir di Tepi Jalan Umum - Retribusi Pelayanan Pasar - Retribusi Pengujian Kendaraan Bermotor - Retribusi Pemeriksaan Alat Pemadam Kebakaran - Retribusi Penggantian Biaya Cetak Peta - Retribusi Penyediaan dan/atau Penyedotan Kakus - Retribusi Pengelolahan Limbah Cair - Retribusi Pelayanan Tera/Tera Ulang - Retribusi Pelayanan Pendidikan - Retribusi Pengawasan dan Pengendalian Menara Telekomunikasi - Retribusi Jasa Usaha - Retribusi Pemakaian Kekayaan Daerah - Retribusi Pasar Grosir dan/atau Perkotaan - Retribusi Tempat Pelelangan - Retribusi Terminal - Retribusi Tempat Parkir Khusus - Retribusi Tempat Penginapan/ Pesanggrahan/Vila - Retribusi Rumah Potong Hewan - Retribusi Pelayanan Kepelabuhanan - Retribusi Tempat Rekreasi dan Olahraga - Retribusi Penyebrangan di Air - Retribusi Penjualan Produksi Usaha Daerah - Retribusi Perizinan Tertentu - Retribusi Izin Mendirikan Bangunan - Retribusi Izin Tempat Penjualan Minuman Beralkohol - Retribusi Izin Trayek untuk Menyediakan Pelayanan Angkutan Umum - Retribusi Izin Usaha Perikanan - Retribusi Pengendalian Lalu Lintas - Retribusi Perpanjangan Izin Mempekerjakan Tenaga Kerja Asing (IMTA) - Hasil Pengelolaan Kekayaan Daerah yang Dipisahkan - Bagian Laba yang Dibagikan kepada Pemerintah Daerah (Dividen) atas Penyertaan Modal pada BUMN - Bagian Laba yang Dibagikan kepada Pemerintah Daerah (Dividen) atas Penyertaan Modal pada BUMD - Bagian Laba yang dibagikan kepada Pemerintah Daerah (Dividen) atas Penyertaan Modal pada Perusahaan Milik Swasta - Lain-lain Pendapatan Asli Daerah yang Sah - Hasil Penjualan BMD yang Tidak Dipisahkan - Hasil Selisih Lebih Tukar Menukar BMD yang Tidak Dipisahkan - Hasil Pemanfaatan BMD yang Tidak Dipisahkan - Hasil Kerja Sama Daerah - Jasa Giro - Hasil Pengelolaan Dana Bergulir - Pendapatan Bunga - Penerimaan atas Tuntutan Ganti Kerugian Keuangan Daerah - Penerimaan Komisi, Potongan, atau Bentuk Lain - Penerimaan Keuntungan dari Selisih Nilai Tukar Rupiah terhadap Mata Uang Asing - Pendapatan Denda atas Keterlambatan Pelaksanaan Pekerjaan - Pendapatan Denda Pajak Daerah - Pendapatan Denda Retribusi Daerah - Pendapatan Hasil Eksekusi atas Jaminan - Pendapatan dari Pengembalian - Pendapatan Denda Pemanfaatan BMD yang tidak Dipisahkan - Pendapatan Dana Kapitasi Jaminan Kesehatan Nasional (JKN) pada Fasilitas Kesehatan Tingkat Pertama (FKTP) - Pendapatan Hasil Pengelolaan Dana Bergulir - Pendapatan Berdasarkan Putusan Pengadilan (Inkracht) - Pendapatan Denda atas Pelanggaran Peraturan Daerah - Pendapatan Zakat, Infaq, Shadaqah, dan Wakaf - Pendapatan Transfer - Pendapatan Transfer Pemerintah Pusat - Dana Perimbangan - Dana Bagi Hasil (DBH) - Dana Alokasi Umum (DAU) - Dana Insentif Fiskal (DIF) - Pendapatan Transfer Antar Daerah - Pendapatan Bagi Hasil - Bantuan Keuangan - Lain-Lain Pendapatan Daerah yang Sah - Pendapatan Hibah - Dana Darurat - Lain-lain Pendapatan Sesuai dengan Ketentuan Peraturan Perundang-Undangan Apakah ada informasi lain yang ingin Anda ketahui?\",\n",
        "    },\n",
        "\n",
        "    # 2. Grouping by parent_rekening (level 3)\n",
        "    {\n",
        "        \"query\": \"Kelompokkan data berdasarkan rekening level 3?\",\n",
        "        \"expected_output\": f\"Tentu, berikut adalah pengelompokan data berdasarkan rekening level 3: - **4.1.1 Hasil Pajak Daerah** - **4.1.2 Hasil Retribusi Daerah** - **4.1.3 Hasil Pengelolaan Kekayaan Daerah yang Dipisahkan** - **4.1.4 Lain-lain Pendapatan Asli Daerah yang Sah** - **4.2.1 Pendapatan Transfer Pemerintah Pusat** - **4.2.2 Pendapatan Transfer Antar Daerah** - **4.3.1 Pendapatan Hibah** - **4.3.2 Dana Darurat** - **4.3.3 Lain-lain Pendapatan Sesuai dengan Ketentuan Peraturan Perundang-Undangan**\t\",\n",
        "    },\n",
        "\n",
        "    # 3. Grouping all accounts by parent_rekening\n",
        "    {\n",
        "        \"query\": \"Tampilkan semua rekening pajak yang berada di bawah rekening 4.2.2?\",\n",
        "        \"expected_output\": \"Rekening pajak yang berada di bawah rekening 4.2.2 adalah Pendapatan Transfer Antar Daerah.\t\",\n",
        "    },\n",
        "\n",
        "    # 4. Report generation (high realization)\n",
        "    {\n",
        "        \"query\": \"Buat laporan untuk data pajak dengan target realisasi di atas 80%?\",\n",
        "        \"expected_output\": \"Berikut adalah data pajak dengan target realisasi di atas 80%: * **4.1.1.6 Pajak Jasa Perhotelan**: 89.28% * **4.1.1.6.1 Pajak Hotel**: 87.58% * **4.1.1.6.1.1.1 Hotel Bintang Lima**: 94.35% * **4.1.1.6.1.1.2 Hotel Bintang Empat**: 96.32% * **4.1.1.6.1.1.3 Hotel Bintang Tiga**: 76.15% * **4.1.1.6.1.1.6 Hotel Melati Satu**: 95.58% * **4.1.1.7.2 Pajak Rumah Makan dan Sejenisnya**: 84.82% * **4.1.1.7.3 Pajak Kafetaria dan Sejenisnya**: 89.70% * **4.1.1.8.2 Pajak Pagelaran Kesenian/Musik/Tari/Busana**: 80.92% * **4.1.1.8.1 Pajak Tontonan Film**: 98.00% * **4.1.2.2.5 Retribusi Tempat Parkir Khusus**: 89.90% * **4.1.2.2.7 Retribusi Rumah Potong Hewan**: 68.30% * **4.2.1.1.1 Dana Transfer Umum-Dana Bagi Hasil (DBH)**: 82.31%\",\n",
        "    },\n",
        "\n",
        "    # # 6. Finding highest realization percentage\n",
        "    {\n",
        "        \"query\": \"Data pendapatan mana yang memiliki persentase capaian tertinggi?\",\n",
        "        \"expected_output\": \"Berdasarkan data yang ada, pendapatan yang memiliki persentase capaian tertinggi adalah: * **4.1.4.12.8 Pendapatan Denda Pajak Hiburan**: 4233.37%\",\n",
        "    },\n",
        "]"
      ],
      "metadata": {
        "id": "19C2E_rL6uxA"
      },
      "execution_count": 90,
      "outputs": []
    },
    {
      "cell_type": "code",
      "source": [
        "from nltk.translate.bleu_score import sentence_bleu\n",
        "from rouge_score import rouge_scorer\n",
        "from sklearn.feature_extraction.text import TfidfVectorizer\n",
        "from sklearn.metrics.pairwise import cosine_similarity\n",
        "\n",
        "def compute_bleu(reference, candidate):\n",
        "    reference_tokens = reference.split()\n",
        "    candidate_tokens = candidate.split()\n",
        "    return sentence_bleu([reference_tokens], candidate_tokens)\n",
        "\n",
        "def compute_rouge(reference, candidate):\n",
        "    scorer = rouge_scorer.RougeScorer(['rougeL'], use_stemmer=True)\n",
        "    scores = scorer.score(reference, candidate)\n",
        "    return scores['rougeL'].fmeasure\n",
        "\n",
        "# Fungsi untuk menghitung cosine similarity\n",
        "def compute_cosine_similarity(reference, candidate):\n",
        "    vectorizer = TfidfVectorizer().fit_transform([reference, candidate])\n",
        "    vectors = vectorizer.toarray()\n",
        "    return cosine_similarity([vectors[0]], [vectors[1]])[0][0]\n",
        "\n"
      ],
      "metadata": {
        "id": "ZMYUeHgI3ksd"
      },
      "execution_count": 85,
      "outputs": []
    },
    {
      "cell_type": "code",
      "source": [
        "# Jalankan Agent RAG untuk setiap query\n",
        "import time\n",
        "\n",
        "session_id = str(uuid.uuid4())\n",
        "generated_answers = []\n",
        "execution_time = []\n",
        "\n",
        "for test in test_queries:\n",
        "    print(test[\"query\"], session_id)\n",
        "    start_time = time.time()\n",
        "    response = agent.query(input=test[\"query\"], session_id=session_id)\n",
        "    end_time = time.time()\n",
        "\n",
        "    execution_time.append(end_time - start_time)\n",
        "    generated_answers.append(response[\"output\"])  # Ambil output dari agent\n",
        "\n",
        "# Menghitung BLEU dan ROUGE-L score untuk setiap query\n",
        "bleu_scores = []\n",
        "rouge_scores = []\n",
        "cosine_similarities = []\n",
        "\n",
        "\n",
        "for expected, generated in zip([q[\"expected_output\"] for q in test_queries], generated_answers):\n",
        "    bleu = compute_bleu(expected, generated)\n",
        "    rouge = compute_rouge(expected, generated)\n",
        "    cosine_sim = compute_cosine_similarity(expected, generated)\n",
        "\n",
        "    # bleu_scores.append(bleu)\n",
        "    rouge_scores.append(rouge)\n",
        "    cosine_similarities.append(cosine_sim)\n",
        "\n",
        "# Menampilkan hasil evaluasi dalam DataFrame\n",
        "df_evaluation = pd.DataFrame({\n",
        "    \"Query\": [query[\"query\"] for query in test_queries],\n",
        "    \"Expected Output\": [query[\"expected_output\"] for query in test_queries],\n",
        "    \"Generated Output\": generated_answers,\n",
        "    # \"BLEU Score\": bleu_scores,\n",
        "    \"ROUGE-L Score\": rouge_scores,\n",
        "    \"Cosine Similarity\": cosine_similarities,\n",
        "    \"Time\": execution_time\n",
        "})\n",
        "\n"
      ],
      "metadata": {
        "colab": {
          "base_uri": "https://localhost:8080/"
        },
        "id": "CQYbjaFC3pi7",
        "outputId": "10d56cda-e49b-46c2-bb2e-46d642bacfbd"
      },
      "execution_count": 101,
      "outputs": [
        {
          "output_type": "stream",
          "name": "stdout",
          "text": [
            "Data pendapatan apa saja yang kamu simpan? 8759b231-4097-48d0-a474-a8db2163c4d3\n",
            "Kelompokkan data berdasarkan rekening level 3? 8759b231-4097-48d0-a474-a8db2163c4d3\n",
            "Tampilkan semua rekening pajak yang berada di bawah rekening 4.2.2? 8759b231-4097-48d0-a474-a8db2163c4d3\n",
            "Buat laporan untuk data pajak dengan target realisasi di atas 80%? 8759b231-4097-48d0-a474-a8db2163c4d3\n"
          ]
        },
        {
          "output_type": "stream",
          "name": "stderr",
          "text": [
            "WARNING:opentelemetry.exporter.cloud_trace:Span has more then 32 attributes, some will be truncated\n"
          ]
        },
        {
          "output_type": "stream",
          "name": "stdout",
          "text": [
            "Data pendapatan mana yang memiliki persentase capaian tertinggi? 8759b231-4097-48d0-a474-a8db2163c4d3\n"
          ]
        },
        {
          "output_type": "stream",
          "name": "stderr",
          "text": [
            "WARNING:opentelemetry.exporter.cloud_trace:Span has more then 32 attributes, some will be truncated\n",
            "WARNING:opentelemetry.exporter.cloud_trace:Span has more then 32 attributes, some will be truncated\n"
          ]
        }
      ]
    },
    {
      "cell_type": "code",
      "source": [
        "import pandas as pd\n",
        "\n",
        "# Menampilkan hasil dalam tabel interaktif di Colab\n",
        "from IPython.display import display\n",
        "\n",
        "display(df_evaluation)  # Menampilkan tabel hasil evaluasi\n"
      ],
      "metadata": {
        "colab": {
          "base_uri": "https://localhost:8080/",
          "height": 206
        },
        "id": "Obm7lPKc62yb",
        "outputId": "10275750-7446-44a2-daf8-4f028334b823"
      },
      "execution_count": 105,
      "outputs": [
        {
          "output_type": "display_data",
          "data": {
            "text/plain": [
              "                                               Query  \\\n",
              "0         Data pendapatan apa saja yang kamu simpan?   \n",
              "1     Kelompokkan data berdasarkan rekening level 3?   \n",
              "2  Tampilkan semua rekening pajak yang berada di ...   \n",
              "3  Buat laporan untuk data pajak dengan target re...   \n",
              "4  Data pendapatan mana yang memiliki persentase ...   \n",
              "\n",
              "                                     Expected Output  \\\n",
              "0  Tentu, berikut adalah jenis data pendapatan ya...   \n",
              "1  Tentu, berikut adalah pengelompokan data berda...   \n",
              "2  Rekening pajak yang berada di bawah rekening 4...   \n",
              "3  Berikut adalah data pajak dengan target realis...   \n",
              "4  Berdasarkan data yang ada, pendapatan yang mem...   \n",
              "\n",
              "                                    Generated Output  ROUGE-L Score  \\\n",
              "0  Tentu, berikut adalah jenis data pendapatan ya...       0.213514   \n",
              "1  Tentu, berikut adalah pengelompokan data berda...       0.939597   \n",
              "2  Rekening 4.2.2 adalah Pendapatan Transfer Anta...       0.486486   \n",
              "3  Berikut adalah laporan data pajak dengan targe...       0.501319   \n",
              "4  Berdasarkan data yang ada, **Pajak Mandi Uap/S...       0.431373   \n",
              "\n",
              "   Cosine Similarity       Time  \n",
              "0           0.765126  40.047585  \n",
              "1           0.938239   6.938202  \n",
              "2           0.612046   2.859896  \n",
              "3           0.655686   8.975503  \n",
              "4           0.326693   7.197359  "
            ],
            "text/html": [
              "\n",
              "  <div id=\"df-d9f3e0ce-d267-46cd-af6b-d005944bc4cc\" class=\"colab-df-container\">\n",
              "    <div>\n",
              "<style scoped>\n",
              "    .dataframe tbody tr th:only-of-type {\n",
              "        vertical-align: middle;\n",
              "    }\n",
              "\n",
              "    .dataframe tbody tr th {\n",
              "        vertical-align: top;\n",
              "    }\n",
              "\n",
              "    .dataframe thead th {\n",
              "        text-align: right;\n",
              "    }\n",
              "</style>\n",
              "<table border=\"1\" class=\"dataframe\">\n",
              "  <thead>\n",
              "    <tr style=\"text-align: right;\">\n",
              "      <th></th>\n",
              "      <th>Query</th>\n",
              "      <th>Expected Output</th>\n",
              "      <th>Generated Output</th>\n",
              "      <th>ROUGE-L Score</th>\n",
              "      <th>Cosine Similarity</th>\n",
              "      <th>Time</th>\n",
              "    </tr>\n",
              "  </thead>\n",
              "  <tbody>\n",
              "    <tr>\n",
              "      <th>0</th>\n",
              "      <td>Data pendapatan apa saja yang kamu simpan?</td>\n",
              "      <td>Tentu, berikut adalah jenis data pendapatan ya...</td>\n",
              "      <td>Tentu, berikut adalah jenis data pendapatan ya...</td>\n",
              "      <td>0.213514</td>\n",
              "      <td>0.765126</td>\n",
              "      <td>40.047585</td>\n",
              "    </tr>\n",
              "    <tr>\n",
              "      <th>1</th>\n",
              "      <td>Kelompokkan data berdasarkan rekening level 3?</td>\n",
              "      <td>Tentu, berikut adalah pengelompokan data berda...</td>\n",
              "      <td>Tentu, berikut adalah pengelompokan data berda...</td>\n",
              "      <td>0.939597</td>\n",
              "      <td>0.938239</td>\n",
              "      <td>6.938202</td>\n",
              "    </tr>\n",
              "    <tr>\n",
              "      <th>2</th>\n",
              "      <td>Tampilkan semua rekening pajak yang berada di ...</td>\n",
              "      <td>Rekening pajak yang berada di bawah rekening 4...</td>\n",
              "      <td>Rekening 4.2.2 adalah Pendapatan Transfer Anta...</td>\n",
              "      <td>0.486486</td>\n",
              "      <td>0.612046</td>\n",
              "      <td>2.859896</td>\n",
              "    </tr>\n",
              "    <tr>\n",
              "      <th>3</th>\n",
              "      <td>Buat laporan untuk data pajak dengan target re...</td>\n",
              "      <td>Berikut adalah data pajak dengan target realis...</td>\n",
              "      <td>Berikut adalah laporan data pajak dengan targe...</td>\n",
              "      <td>0.501319</td>\n",
              "      <td>0.655686</td>\n",
              "      <td>8.975503</td>\n",
              "    </tr>\n",
              "    <tr>\n",
              "      <th>4</th>\n",
              "      <td>Data pendapatan mana yang memiliki persentase ...</td>\n",
              "      <td>Berdasarkan data yang ada, pendapatan yang mem...</td>\n",
              "      <td>Berdasarkan data yang ada, **Pajak Mandi Uap/S...</td>\n",
              "      <td>0.431373</td>\n",
              "      <td>0.326693</td>\n",
              "      <td>7.197359</td>\n",
              "    </tr>\n",
              "  </tbody>\n",
              "</table>\n",
              "</div>\n",
              "    <div class=\"colab-df-buttons\">\n",
              "\n",
              "  <div class=\"colab-df-container\">\n",
              "    <button class=\"colab-df-convert\" onclick=\"convertToInteractive('df-d9f3e0ce-d267-46cd-af6b-d005944bc4cc')\"\n",
              "            title=\"Convert this dataframe to an interactive table.\"\n",
              "            style=\"display:none;\">\n",
              "\n",
              "  <svg xmlns=\"http://www.w3.org/2000/svg\" height=\"24px\" viewBox=\"0 -960 960 960\">\n",
              "    <path d=\"M120-120v-720h720v720H120Zm60-500h600v-160H180v160Zm220 220h160v-160H400v160Zm0 220h160v-160H400v160ZM180-400h160v-160H180v160Zm440 0h160v-160H620v160ZM180-180h160v-160H180v160Zm440 0h160v-160H620v160Z\"/>\n",
              "  </svg>\n",
              "    </button>\n",
              "\n",
              "  <style>\n",
              "    .colab-df-container {\n",
              "      display:flex;\n",
              "      gap: 12px;\n",
              "    }\n",
              "\n",
              "    .colab-df-convert {\n",
              "      background-color: #E8F0FE;\n",
              "      border: none;\n",
              "      border-radius: 50%;\n",
              "      cursor: pointer;\n",
              "      display: none;\n",
              "      fill: #1967D2;\n",
              "      height: 32px;\n",
              "      padding: 0 0 0 0;\n",
              "      width: 32px;\n",
              "    }\n",
              "\n",
              "    .colab-df-convert:hover {\n",
              "      background-color: #E2EBFA;\n",
              "      box-shadow: 0px 1px 2px rgba(60, 64, 67, 0.3), 0px 1px 3px 1px rgba(60, 64, 67, 0.15);\n",
              "      fill: #174EA6;\n",
              "    }\n",
              "\n",
              "    .colab-df-buttons div {\n",
              "      margin-bottom: 4px;\n",
              "    }\n",
              "\n",
              "    [theme=dark] .colab-df-convert {\n",
              "      background-color: #3B4455;\n",
              "      fill: #D2E3FC;\n",
              "    }\n",
              "\n",
              "    [theme=dark] .colab-df-convert:hover {\n",
              "      background-color: #434B5C;\n",
              "      box-shadow: 0px 1px 3px 1px rgba(0, 0, 0, 0.15);\n",
              "      filter: drop-shadow(0px 1px 2px rgba(0, 0, 0, 0.3));\n",
              "      fill: #FFFFFF;\n",
              "    }\n",
              "  </style>\n",
              "\n",
              "    <script>\n",
              "      const buttonEl =\n",
              "        document.querySelector('#df-d9f3e0ce-d267-46cd-af6b-d005944bc4cc button.colab-df-convert');\n",
              "      buttonEl.style.display =\n",
              "        google.colab.kernel.accessAllowed ? 'block' : 'none';\n",
              "\n",
              "      async function convertToInteractive(key) {\n",
              "        const element = document.querySelector('#df-d9f3e0ce-d267-46cd-af6b-d005944bc4cc');\n",
              "        const dataTable =\n",
              "          await google.colab.kernel.invokeFunction('convertToInteractive',\n",
              "                                                    [key], {});\n",
              "        if (!dataTable) return;\n",
              "\n",
              "        const docLinkHtml = 'Like what you see? Visit the ' +\n",
              "          '<a target=\"_blank\" href=https://colab.research.google.com/notebooks/data_table.ipynb>data table notebook</a>'\n",
              "          + ' to learn more about interactive tables.';\n",
              "        element.innerHTML = '';\n",
              "        dataTable['output_type'] = 'display_data';\n",
              "        await google.colab.output.renderOutput(dataTable, element);\n",
              "        const docLink = document.createElement('div');\n",
              "        docLink.innerHTML = docLinkHtml;\n",
              "        element.appendChild(docLink);\n",
              "      }\n",
              "    </script>\n",
              "  </div>\n",
              "\n",
              "\n",
              "<div id=\"df-91ab5e40-e9a8-492e-b149-5d882f889be8\">\n",
              "  <button class=\"colab-df-quickchart\" onclick=\"quickchart('df-91ab5e40-e9a8-492e-b149-5d882f889be8')\"\n",
              "            title=\"Suggest charts\"\n",
              "            style=\"display:none;\">\n",
              "\n",
              "<svg xmlns=\"http://www.w3.org/2000/svg\" height=\"24px\"viewBox=\"0 0 24 24\"\n",
              "     width=\"24px\">\n",
              "    <g>\n",
              "        <path d=\"M19 3H5c-1.1 0-2 .9-2 2v14c0 1.1.9 2 2 2h14c1.1 0 2-.9 2-2V5c0-1.1-.9-2-2-2zM9 17H7v-7h2v7zm4 0h-2V7h2v10zm4 0h-2v-4h2v4z\"/>\n",
              "    </g>\n",
              "</svg>\n",
              "  </button>\n",
              "\n",
              "<style>\n",
              "  .colab-df-quickchart {\n",
              "      --bg-color: #E8F0FE;\n",
              "      --fill-color: #1967D2;\n",
              "      --hover-bg-color: #E2EBFA;\n",
              "      --hover-fill-color: #174EA6;\n",
              "      --disabled-fill-color: #AAA;\n",
              "      --disabled-bg-color: #DDD;\n",
              "  }\n",
              "\n",
              "  [theme=dark] .colab-df-quickchart {\n",
              "      --bg-color: #3B4455;\n",
              "      --fill-color: #D2E3FC;\n",
              "      --hover-bg-color: #434B5C;\n",
              "      --hover-fill-color: #FFFFFF;\n",
              "      --disabled-bg-color: #3B4455;\n",
              "      --disabled-fill-color: #666;\n",
              "  }\n",
              "\n",
              "  .colab-df-quickchart {\n",
              "    background-color: var(--bg-color);\n",
              "    border: none;\n",
              "    border-radius: 50%;\n",
              "    cursor: pointer;\n",
              "    display: none;\n",
              "    fill: var(--fill-color);\n",
              "    height: 32px;\n",
              "    padding: 0;\n",
              "    width: 32px;\n",
              "  }\n",
              "\n",
              "  .colab-df-quickchart:hover {\n",
              "    background-color: var(--hover-bg-color);\n",
              "    box-shadow: 0 1px 2px rgba(60, 64, 67, 0.3), 0 1px 3px 1px rgba(60, 64, 67, 0.15);\n",
              "    fill: var(--button-hover-fill-color);\n",
              "  }\n",
              "\n",
              "  .colab-df-quickchart-complete:disabled,\n",
              "  .colab-df-quickchart-complete:disabled:hover {\n",
              "    background-color: var(--disabled-bg-color);\n",
              "    fill: var(--disabled-fill-color);\n",
              "    box-shadow: none;\n",
              "  }\n",
              "\n",
              "  .colab-df-spinner {\n",
              "    border: 2px solid var(--fill-color);\n",
              "    border-color: transparent;\n",
              "    border-bottom-color: var(--fill-color);\n",
              "    animation:\n",
              "      spin 1s steps(1) infinite;\n",
              "  }\n",
              "\n",
              "  @keyframes spin {\n",
              "    0% {\n",
              "      border-color: transparent;\n",
              "      border-bottom-color: var(--fill-color);\n",
              "      border-left-color: var(--fill-color);\n",
              "    }\n",
              "    20% {\n",
              "      border-color: transparent;\n",
              "      border-left-color: var(--fill-color);\n",
              "      border-top-color: var(--fill-color);\n",
              "    }\n",
              "    30% {\n",
              "      border-color: transparent;\n",
              "      border-left-color: var(--fill-color);\n",
              "      border-top-color: var(--fill-color);\n",
              "      border-right-color: var(--fill-color);\n",
              "    }\n",
              "    40% {\n",
              "      border-color: transparent;\n",
              "      border-right-color: var(--fill-color);\n",
              "      border-top-color: var(--fill-color);\n",
              "    }\n",
              "    60% {\n",
              "      border-color: transparent;\n",
              "      border-right-color: var(--fill-color);\n",
              "    }\n",
              "    80% {\n",
              "      border-color: transparent;\n",
              "      border-right-color: var(--fill-color);\n",
              "      border-bottom-color: var(--fill-color);\n",
              "    }\n",
              "    90% {\n",
              "      border-color: transparent;\n",
              "      border-bottom-color: var(--fill-color);\n",
              "    }\n",
              "  }\n",
              "</style>\n",
              "\n",
              "  <script>\n",
              "    async function quickchart(key) {\n",
              "      const quickchartButtonEl =\n",
              "        document.querySelector('#' + key + ' button');\n",
              "      quickchartButtonEl.disabled = true;  // To prevent multiple clicks.\n",
              "      quickchartButtonEl.classList.add('colab-df-spinner');\n",
              "      try {\n",
              "        const charts = await google.colab.kernel.invokeFunction(\n",
              "            'suggestCharts', [key], {});\n",
              "      } catch (error) {\n",
              "        console.error('Error during call to suggestCharts:', error);\n",
              "      }\n",
              "      quickchartButtonEl.classList.remove('colab-df-spinner');\n",
              "      quickchartButtonEl.classList.add('colab-df-quickchart-complete');\n",
              "    }\n",
              "    (() => {\n",
              "      let quickchartButtonEl =\n",
              "        document.querySelector('#df-91ab5e40-e9a8-492e-b149-5d882f889be8 button');\n",
              "      quickchartButtonEl.style.display =\n",
              "        google.colab.kernel.accessAllowed ? 'block' : 'none';\n",
              "    })();\n",
              "  </script>\n",
              "</div>\n",
              "\n",
              "  <div id=\"id_19e0ea9c-4cbc-4b0a-b66c-95eae995bd14\">\n",
              "    <style>\n",
              "      .colab-df-generate {\n",
              "        background-color: #E8F0FE;\n",
              "        border: none;\n",
              "        border-radius: 50%;\n",
              "        cursor: pointer;\n",
              "        display: none;\n",
              "        fill: #1967D2;\n",
              "        height: 32px;\n",
              "        padding: 0 0 0 0;\n",
              "        width: 32px;\n",
              "      }\n",
              "\n",
              "      .colab-df-generate:hover {\n",
              "        background-color: #E2EBFA;\n",
              "        box-shadow: 0px 1px 2px rgba(60, 64, 67, 0.3), 0px 1px 3px 1px rgba(60, 64, 67, 0.15);\n",
              "        fill: #174EA6;\n",
              "      }\n",
              "\n",
              "      [theme=dark] .colab-df-generate {\n",
              "        background-color: #3B4455;\n",
              "        fill: #D2E3FC;\n",
              "      }\n",
              "\n",
              "      [theme=dark] .colab-df-generate:hover {\n",
              "        background-color: #434B5C;\n",
              "        box-shadow: 0px 1px 3px 1px rgba(0, 0, 0, 0.15);\n",
              "        filter: drop-shadow(0px 1px 2px rgba(0, 0, 0, 0.3));\n",
              "        fill: #FFFFFF;\n",
              "      }\n",
              "    </style>\n",
              "    <button class=\"colab-df-generate\" onclick=\"generateWithVariable('df_evaluation')\"\n",
              "            title=\"Generate code using this dataframe.\"\n",
              "            style=\"display:none;\">\n",
              "\n",
              "  <svg xmlns=\"http://www.w3.org/2000/svg\" height=\"24px\"viewBox=\"0 0 24 24\"\n",
              "       width=\"24px\">\n",
              "    <path d=\"M7,19H8.4L18.45,9,17,7.55,7,17.6ZM5,21V16.75L18.45,3.32a2,2,0,0,1,2.83,0l1.4,1.43a1.91,1.91,0,0,1,.58,1.4,1.91,1.91,0,0,1-.58,1.4L9.25,21ZM18.45,9,17,7.55Zm-12,3A5.31,5.31,0,0,0,4.9,8.1,5.31,5.31,0,0,0,1,6.5,5.31,5.31,0,0,0,4.9,4.9,5.31,5.31,0,0,0,6.5,1,5.31,5.31,0,0,0,8.1,4.9,5.31,5.31,0,0,0,12,6.5,5.46,5.46,0,0,0,6.5,12Z\"/>\n",
              "  </svg>\n",
              "    </button>\n",
              "    <script>\n",
              "      (() => {\n",
              "      const buttonEl =\n",
              "        document.querySelector('#id_19e0ea9c-4cbc-4b0a-b66c-95eae995bd14 button.colab-df-generate');\n",
              "      buttonEl.style.display =\n",
              "        google.colab.kernel.accessAllowed ? 'block' : 'none';\n",
              "\n",
              "      buttonEl.onclick = () => {\n",
              "        google.colab.notebook.generateWithVariable('df_evaluation');\n",
              "      }\n",
              "      })();\n",
              "    </script>\n",
              "  </div>\n",
              "\n",
              "    </div>\n",
              "  </div>\n"
            ],
            "application/vnd.google.colaboratory.intrinsic+json": {
              "type": "dataframe",
              "variable_name": "df_evaluation",
              "summary": "{\n  \"name\": \"df_evaluation\",\n  \"rows\": 5,\n  \"fields\": [\n    {\n      \"column\": \"Query\",\n      \"properties\": {\n        \"dtype\": \"string\",\n        \"num_unique_values\": 5,\n        \"samples\": [\n          \"Kelompokkan data berdasarkan rekening level 3?\",\n          \"Data pendapatan mana yang memiliki persentase capaian tertinggi?\",\n          \"Tampilkan semua rekening pajak yang berada di bawah rekening 4.2.2?\"\n        ],\n        \"semantic_type\": \"\",\n        \"description\": \"\"\n      }\n    },\n    {\n      \"column\": \"Expected Output\",\n      \"properties\": {\n        \"dtype\": \"string\",\n        \"num_unique_values\": 5,\n        \"samples\": [\n          \"Tentu, berikut adalah pengelompokan data berdasarkan rekening level 3: - **4.1.1 Hasil Pajak Daerah** - **4.1.2 Hasil Retribusi Daerah** - **4.1.3 Hasil Pengelolaan Kekayaan Daerah yang Dipisahkan** - **4.1.4 Lain-lain Pendapatan Asli Daerah yang Sah** - **4.2.1 Pendapatan Transfer Pemerintah Pusat** - **4.2.2 Pendapatan Transfer Antar Daerah** - **4.3.1 Pendapatan Hibah** - **4.3.2 Dana Darurat** - **4.3.3 Lain-lain Pendapatan Sesuai dengan Ketentuan Peraturan Perundang-Undangan**\\t\",\n          \"Berdasarkan data yang ada, pendapatan yang memiliki persentase capaian tertinggi adalah: * **4.1.4.12.8 Pendapatan Denda Pajak Hiburan**: 4233.37%\",\n          \"Rekening pajak yang berada di bawah rekening 4.2.2 adalah Pendapatan Transfer Antar Daerah.\\t\"\n        ],\n        \"semantic_type\": \"\",\n        \"description\": \"\"\n      }\n    },\n    {\n      \"column\": \"Generated Output\",\n      \"properties\": {\n        \"dtype\": \"string\",\n        \"num_unique_values\": 5,\n        \"samples\": [\n          \"Tentu, berikut adalah pengelompokan data berdasarkan rekening level 3:\\n\\n*   **4.1.1 Hasil Pajak Daerah**\\n*   **4.1.2 Hasil Retribusi Daerah**\\n*   **4.1.3 Hasil Pengelolaan Kekayaan Daerah yang Dipisahkan**\\n*   **4.1.4 Lain-lain Pendapatan Asli Daerah yang Sah**\\n*   **4.2.1 Pendapatan Transfer Pemerintah Pusat**\\n*   **4.2.2 Pendapatan Transfer Antar Daerah**\\n*   **4.3.1 Pendapatan Hibah**\\n*   **4.3.2 Dana Darurat**\\n*   **4.3.3 Lain-Lain Pendapatan Daerah yang Sah**\",\n          \"Berdasarkan data yang ada, **Pajak Mandi Uap/Spa** memiliki persentase capaian tertinggi, yaitu 489.03%. Pajak ini berada di bawah kode rekening 4.1.1.8.9.1.2.\",\n          \"Rekening 4.2.2 adalah Pendapatan Transfer Antar Daerah, namun tidak ada informasi lebih lanjut mengenai rekening pajak di bawah rekening tersebut.\"\n        ],\n        \"semantic_type\": \"\",\n        \"description\": \"\"\n      }\n    },\n    {\n      \"column\": \"ROUGE-L Score\",\n      \"properties\": {\n        \"dtype\": \"number\",\n        \"std\": 0.26418215166988196,\n        \"min\": 0.21351419241396635,\n        \"max\": 0.9395973154362416,\n        \"num_unique_values\": 5,\n        \"samples\": [\n          0.9395973154362416,\n          0.4313725490196078,\n          0.4864864864864865\n        ],\n        \"semantic_type\": \"\",\n        \"description\": \"\"\n      }\n    },\n    {\n      \"column\": \"Cosine Similarity\",\n      \"properties\": {\n        \"dtype\": \"number\",\n        \"std\": 0.224654957282858,\n        \"min\": 0.3266929416578326,\n        \"max\": 0.9382394986782696,\n        \"num_unique_values\": 5,\n        \"samples\": [\n          0.9382394986782696,\n          0.3266929416578326,\n          0.6120460985473386\n        ],\n        \"semantic_type\": \"\",\n        \"description\": \"\"\n      }\n    },\n    {\n      \"column\": \"Time\",\n      \"properties\": {\n        \"dtype\": \"number\",\n        \"std\": 15.172332286166894,\n        \"min\": 2.859895706176758,\n        \"max\": 40.047584533691406,\n        \"num_unique_values\": 5,\n        \"samples\": [\n          6.938202142715454,\n          7.197359323501587,\n          2.859895706176758\n        ],\n        \"semantic_type\": \"\",\n        \"description\": \"\"\n      }\n    }\n  ]\n}"
            }
          },
          "metadata": {}
        }
      ]
    },
    {
      "cell_type": "code",
      "source": [
        "# prompt: hitung score rata-rata\n",
        "\n",
        "# Calculate the average ROUGE-L score\n",
        "average_rouge_l = df_evaluation[\"ROUGE-L Score\"].mean()\n",
        "\n",
        "# Print the average ROUGE-L score\n",
        "print(f\"Average ROUGE-L Score: {average_rouge_l}\")\n",
        "\n",
        "# Calculate the average cosine similarity\n",
        "average_cosine_similarity = df_evaluation[\"Cosine Similarity\"].mean()\n",
        "\n",
        "# Print the average cosine similarity\n",
        "print(f\"Average Cosine Similarity: {average_cosine_similarity}\")\n",
        "\n",
        "# Calculate the average execution time\n",
        "average_execution_time = df_evaluation[\"Time\"].mean()\n",
        "\n",
        "# Print the average execution time\n",
        "print(f\"Average Execution Time: {average_execution_time}\")\n"
      ],
      "metadata": {
        "colab": {
          "base_uri": "https://localhost:8080/"
        },
        "id": "wLzpQYnAJLxm",
        "outputId": "2fb977c0-2519-407a-e614-0d0896ef25e3"
      },
      "execution_count": 103,
      "outputs": [
        {
          "output_type": "stream",
          "name": "stdout",
          "text": [
            "Average ROUGE-L Score: 0.5144579609140045\n",
            "Average Cosine Similarity: 0.6595580707441613\n",
            "Average Execution Time: 13.20370888710022\n"
          ]
        }
      ]
    },
    {
      "cell_type": "code",
      "source": [
        "# prompt: buatkan chart korelasi panjang token dengan waktu response\n",
        "\n",
        "import matplotlib.pyplot as plt\n",
        "\n",
        "# Assuming df_evaluation is your DataFrame\n",
        "# Create the scatter plot\n",
        "plt.figure(figsize=(10, 6))\n",
        "plt.scatter(df_evaluation[\"Generated Output\"].str.len(), df_evaluation[\"Time\"])\n",
        "plt.xlabel(\"Token Length\")\n",
        "plt.ylabel(\"Response Time (seconds)\")\n",
        "plt.title(\"Correlation between Token Length and Response Time\")\n",
        "plt.grid(True)\n",
        "plt.show()\n"
      ],
      "metadata": {
        "colab": {
          "base_uri": "https://localhost:8080/",
          "height": 564
        },
        "id": "HKfkqiYJJkrP",
        "outputId": "9ebba3c7-e0e3-4b3a-99bc-51b1675db8e4"
      },
      "execution_count": 106,
      "outputs": [
        {
          "output_type": "display_data",
          "data": {
            "text/plain": [
              "<Figure size 1000x600 with 1 Axes>"
            ],
            "image/png": "[encoded data removed]"
          },
          "metadata": {}
        }
      ]
    },
    {
      "cell_type": "markdown",
      "metadata": {
        "id": "Xto3t6uzS54H"
      },
      "source": [
        "### Deploying the Agent on Vertex AI\n",
        "\n",
        "Before deploying the agent, we are going to grant excessive permissions for the agent first. Ideally, you should only grant the permissions that are required by the agent. But just to make sure that the agent is able to run without any issues, we are going to grant all the permissions for now. :p"
      ]
    },
    {
      "cell_type": "code",
      "execution_count": null,
      "metadata": {
        "id": "Ct4ET4CDS54H",
        "colab": {
          "base_uri": "https://localhost:8080/",
          "height": 35
        },
        "outputId": "47082d0d-85e8-4eea-8fd1-94427d2593c0"
      },
      "outputs": [
        {
          "output_type": "execute_result",
          "data": {
            "text/plain": [
              "'644240883738'"
            ],
            "application/vnd.google.colaboratory.intrinsic+json": {
              "type": "string"
            }
          },
          "metadata": {},
          "execution_count": 137
        }
      ],
      "source": [
        "# Retrieve the project number associated with your project ID\n",
        "from googleapiclient import discovery\n",
        "service = discovery.build(\"cloudresourcemanager\", \"v1\")\n",
        "request = service.projects().get(projectId=project_id)\n",
        "response = request.execute()\n",
        "project_number = response[\"projectNumber\"]\n",
        "project_number"
      ]
    },
    {
      "cell_type": "code",
      "execution_count": null,
      "metadata": {
        "id": "67S7yF7fS54H",
        "colab": {
          "base_uri": "https://localhost:8080/"
        },
        "outputId": "cca642cf-0a5d-4201-dc01-91ff8ea585bc"
      },
      "outputs": [
        {
          "output_type": "stream",
          "name": "stdout",
          "text": [
            "Updated IAM policy for project [agent-rag-451702].\n",
            "bindings:\n",
            "- members:\n",
            "  - serviceAccount:service-644240883738@gcp-sa-artifactregistry.iam.gserviceaccount.com\n",
            "  role: roles/artifactregistry.serviceAgent\n",
            "- members:\n",
            "  - serviceAccount:644240883738-compute@developer.gserviceaccount.com\n",
            "  - serviceAccount:644240883738@cloudbuild.gserviceaccount.com\n",
            "  role: roles/cloudbuild.builds.builder\n",
            "- members:\n",
            "  - serviceAccount:service-644240883738@gcp-sa-cloudbuild.iam.gserviceaccount.com\n",
            "  role: roles/cloudbuild.serviceAgent\n",
            "- members:\n",
            "  - user:sugengdcahyo@gmail.com\n",
            "  role: roles/cloudsql.client\n",
            "- members:\n",
            "  - serviceAccount:service-644240883738@compute-system.iam.gserviceaccount.com\n",
            "  role: roles/compute.serviceAgent\n",
            "- members:\n",
            "  - serviceAccount:service-644240883738@containerregistry.iam.gserviceaccount.com\n",
            "  role: roles/containerregistry.ServiceAgent\n",
            "- members:\n",
            "  - serviceAccount:644240883738-compute@developer.gserviceaccount.com\n",
            "  - serviceAccount:644240883738@cloudservices.gserviceaccount.com\n",
            "  role: roles/editor\n",
            "- members:\n",
            "  - user:sugengdcahyo@gmail.com\n",
            "  role: roles/owner\n",
            "- members:\n",
            "  - serviceAccount:service-644240883738@gcp-sa-pubsub.iam.gserviceaccount.com\n",
            "  role: roles/pubsub.serviceAgent\n",
            "- members:\n",
            "  - serviceAccount:service-644240883738@serverless-robot-prod.iam.gserviceaccount.com\n",
            "  role: roles/run.serviceAgent\n",
            "- members:\n",
            "  - serviceAccount:service-644240883738@gcp-sa-aiplatform-re.iam.gserviceaccount.com\n",
            "  role: roles/serviceusage.serviceUsageConsumer\n",
            "etag: BwYutjbiDh4=\n",
            "version: 1\n",
            "Updated IAM policy for project [agent-rag-451702].\n",
            "bindings:\n",
            "- members:\n",
            "  - serviceAccount:service-644240883738@gcp-sa-artifactregistry.iam.gserviceaccount.com\n",
            "  role: roles/artifactregistry.serviceAgent\n",
            "- members:\n",
            "  - serviceAccount:644240883738-compute@developer.gserviceaccount.com\n",
            "  - serviceAccount:644240883738@cloudbuild.gserviceaccount.com\n",
            "  role: roles/cloudbuild.builds.builder\n",
            "- members:\n",
            "  - serviceAccount:service-644240883738@gcp-sa-cloudbuild.iam.gserviceaccount.com\n",
            "  role: roles/cloudbuild.serviceAgent\n",
            "- members:\n",
            "  - user:sugengdcahyo@gmail.com\n",
            "  role: roles/cloudsql.client\n",
            "- members:\n",
            "  - serviceAccount:service-644240883738@compute-system.iam.gserviceaccount.com\n",
            "  role: roles/compute.serviceAgent\n",
            "- members:\n",
            "  - serviceAccount:service-644240883738@containerregistry.iam.gserviceaccount.com\n",
            "  role: roles/containerregistry.ServiceAgent\n",
            "- members:\n",
            "  - serviceAccount:service-644240883738@gcp-sa-aiplatform-re.iam.gserviceaccount.com\n",
            "  role: roles/discoveryengine.editor\n",
            "- members:\n",
            "  - serviceAccount:644240883738-compute@developer.gserviceaccount.com\n",
            "  - serviceAccount:644240883738@cloudservices.gserviceaccount.com\n",
            "  role: roles/editor\n",
            "- members:\n",
            "  - user:sugengdcahyo@gmail.com\n",
            "  role: roles/owner\n",
            "- members:\n",
            "  - serviceAccount:service-644240883738@gcp-sa-pubsub.iam.gserviceaccount.com\n",
            "  role: roles/pubsub.serviceAgent\n",
            "- members:\n",
            "  - serviceAccount:service-644240883738@serverless-robot-prod.iam.gserviceaccount.com\n",
            "  role: roles/run.serviceAgent\n",
            "- members:\n",
            "  - serviceAccount:service-644240883738@gcp-sa-aiplatform-re.iam.gserviceaccount.com\n",
            "  role: roles/serviceusage.serviceUsageConsumer\n",
            "etag: BwYutjcB3H0=\n",
            "version: 1\n",
            "Updated IAM policy for project [agent-rag-451702].\n",
            "bindings:\n",
            "- members:\n",
            "  - serviceAccount:service-644240883738@gcp-sa-artifactregistry.iam.gserviceaccount.com\n",
            "  role: roles/artifactregistry.serviceAgent\n",
            "- members:\n",
            "  - serviceAccount:644240883738-compute@developer.gserviceaccount.com\n",
            "  - serviceAccount:644240883738@cloudbuild.gserviceaccount.com\n",
            "  role: roles/cloudbuild.builds.builder\n",
            "- members:\n",
            "  - serviceAccount:service-644240883738@gcp-sa-cloudbuild.iam.gserviceaccount.com\n",
            "  role: roles/cloudbuild.serviceAgent\n",
            "- members:\n",
            "  - serviceAccount:service-644240883738@gcp-sa-aiplatform-re.iam.gserviceaccount.com\n",
            "  role: roles/cloudsql.admin\n",
            "- members:\n",
            "  - user:sugengdcahyo@gmail.com\n",
            "  role: roles/cloudsql.client\n",
            "- members:\n",
            "  - serviceAccount:service-644240883738@compute-system.iam.gserviceaccount.com\n",
            "  role: roles/compute.serviceAgent\n",
            "- members:\n",
            "  - serviceAccount:service-644240883738@containerregistry.iam.gserviceaccount.com\n",
            "  role: roles/containerregistry.ServiceAgent\n",
            "- members:\n",
            "  - serviceAccount:service-644240883738@gcp-sa-aiplatform-re.iam.gserviceaccount.com\n",
            "  role: roles/discoveryengine.editor\n",
            "- members:\n",
            "  - serviceAccount:644240883738-compute@developer.gserviceaccount.com\n",
            "  - serviceAccount:644240883738@cloudservices.gserviceaccount.com\n",
            "  role: roles/editor\n",
            "- members:\n",
            "  - user:sugengdcahyo@gmail.com\n",
            "  role: roles/owner\n",
            "- members:\n",
            "  - serviceAccount:service-644240883738@gcp-sa-pubsub.iam.gserviceaccount.com\n",
            "  role: roles/pubsub.serviceAgent\n",
            "- members:\n",
            "  - serviceAccount:service-644240883738@serverless-robot-prod.iam.gserviceaccount.com\n",
            "  role: roles/run.serviceAgent\n",
            "- members:\n",
            "  - serviceAccount:service-644240883738@gcp-sa-aiplatform-re.iam.gserviceaccount.com\n",
            "  role: roles/serviceusage.serviceUsageConsumer\n",
            "etag: BwYutjcjqg4=\n",
            "version: 1\n",
            "Updated IAM policy for project [agent-rag-451702].\n",
            "bindings:\n",
            "- members:\n",
            "  - serviceAccount:service-644240883738@gcp-sa-aiplatform-re.iam.gserviceaccount.com\n",
            "  role: roles/aiplatform.admin\n",
            "- members:\n",
            "  - serviceAccount:service-644240883738@gcp-sa-artifactregistry.iam.gserviceaccount.com\n",
            "  role: roles/artifactregistry.serviceAgent\n",
            "- members:\n",
            "  - serviceAccount:644240883738-compute@developer.gserviceaccount.com\n",
            "  - serviceAccount:644240883738@cloudbuild.gserviceaccount.com\n",
            "  role: roles/cloudbuild.builds.builder\n",
            "- members:\n",
            "  - serviceAccount:service-644240883738@gcp-sa-cloudbuild.iam.gserviceaccount.com\n",
            "  role: roles/cloudbuild.serviceAgent\n",
            "- members:\n",
            "  - serviceAccount:service-644240883738@gcp-sa-aiplatform-re.iam.gserviceaccount.com\n",
            "  role: roles/cloudsql.admin\n",
            "- members:\n",
            "  - user:sugengdcahyo@gmail.com\n",
            "  role: roles/cloudsql.client\n",
            "- members:\n",
            "  - serviceAccount:service-644240883738@compute-system.iam.gserviceaccount.com\n",
            "  role: roles/compute.serviceAgent\n",
            "- members:\n",
            "  - serviceAccount:service-644240883738@containerregistry.iam.gserviceaccount.com\n",
            "  role: roles/containerregistry.ServiceAgent\n",
            "- members:\n",
            "  - serviceAccount:service-644240883738@gcp-sa-aiplatform-re.iam.gserviceaccount.com\n",
            "  role: roles/discoveryengine.editor\n",
            "- members:\n",
            "  - serviceAccount:644240883738-compute@developer.gserviceaccount.com\n",
            "  - serviceAccount:644240883738@cloudservices.gserviceaccount.com\n",
            "  role: roles/editor\n",
            "- members:\n",
            "  - user:sugengdcahyo@gmail.com\n",
            "  role: roles/owner\n",
            "- members:\n",
            "  - serviceAccount:service-644240883738@gcp-sa-pubsub.iam.gserviceaccount.com\n",
            "  role: roles/pubsub.serviceAgent\n",
            "- members:\n",
            "  - serviceAccount:service-644240883738@serverless-robot-prod.iam.gserviceaccount.com\n",
            "  role: roles/run.serviceAgent\n",
            "- members:\n",
            "  - serviceAccount:service-644240883738@gcp-sa-aiplatform-re.iam.gserviceaccount.com\n",
            "  role: roles/serviceusage.serviceUsageConsumer\n",
            "etag: BwYutjdCFEA=\n",
            "version: 1\n",
            "Updated IAM policy for project [agent-rag-451702].\n",
            "bindings:\n",
            "- members:\n",
            "  - serviceAccount:service-644240883738@gcp-sa-aiplatform-re.iam.gserviceaccount.com\n",
            "  role: roles/aiplatform.admin\n",
            "- members:\n",
            "  - serviceAccount:service-644240883738@gcp-sa-aiplatform-re.iam.gserviceaccount.com\n",
            "  role: roles/aiplatform.user\n",
            "- members:\n",
            "  - serviceAccount:service-644240883738@gcp-sa-artifactregistry.iam.gserviceaccount.com\n",
            "  role: roles/artifactregistry.serviceAgent\n",
            "- members:\n",
            "  - serviceAccount:644240883738-compute@developer.gserviceaccount.com\n",
            "  - serviceAccount:644240883738@cloudbuild.gserviceaccount.com\n",
            "  role: roles/cloudbuild.builds.builder\n",
            "- members:\n",
            "  - serviceAccount:service-644240883738@gcp-sa-cloudbuild.iam.gserviceaccount.com\n",
            "  role: roles/cloudbuild.serviceAgent\n",
            "- members:\n",
            "  - serviceAccount:service-644240883738@gcp-sa-aiplatform-re.iam.gserviceaccount.com\n",
            "  role: roles/cloudsql.admin\n",
            "- members:\n",
            "  - user:sugengdcahyo@gmail.com\n",
            "  role: roles/cloudsql.client\n",
            "- members:\n",
            "  - serviceAccount:service-644240883738@compute-system.iam.gserviceaccount.com\n",
            "  role: roles/compute.serviceAgent\n",
            "- members:\n",
            "  - serviceAccount:service-644240883738@containerregistry.iam.gserviceaccount.com\n",
            "  role: roles/containerregistry.ServiceAgent\n",
            "- members:\n",
            "  - serviceAccount:service-644240883738@gcp-sa-aiplatform-re.iam.gserviceaccount.com\n",
            "  role: roles/discoveryengine.editor\n",
            "- members:\n",
            "  - serviceAccount:644240883738-compute@developer.gserviceaccount.com\n",
            "  - serviceAccount:644240883738@cloudservices.gserviceaccount.com\n",
            "  role: roles/editor\n",
            "- members:\n",
            "  - user:sugengdcahyo@gmail.com\n",
            "  role: roles/owner\n",
            "- members:\n",
            "  - serviceAccount:service-644240883738@gcp-sa-pubsub.iam.gserviceaccount.com\n",
            "  role: roles/pubsub.serviceAgent\n",
            "- members:\n",
            "  - serviceAccount:service-644240883738@serverless-robot-prod.iam.gserviceaccount.com\n",
            "  role: roles/run.serviceAgent\n",
            "- members:\n",
            "  - serviceAccount:service-644240883738@gcp-sa-aiplatform-re.iam.gserviceaccount.com\n",
            "  role: roles/serviceusage.serviceUsageConsumer\n",
            "etag: BwYutjdnbwQ=\n",
            "version: 1\n"
          ]
        }
      ],
      "source": [
        "!gcloud projects add-iam-policy-binding {project_id} \\\n",
        "    --member=serviceAccount:service-{project_number}@gcp-sa-aiplatform-re.iam.gserviceaccount.com \\\n",
        "    --role=\"roles/serviceusage.serviceUsageConsumer\"\n",
        "\n",
        "!gcloud projects add-iam-policy-binding {project_id} \\\n",
        "    --member=serviceAccount:service-{project_number}@gcp-sa-aiplatform-re.iam.gserviceaccount.com \\\n",
        "    --role=\"roles/discoveryengine.editor\"\n",
        "\n",
        "!gcloud projects add-iam-policy-binding {project_id} \\\n",
        "    --member=serviceAccount:service-{project_number}@gcp-sa-aiplatform-re.iam.gserviceaccount.com \\\n",
        "    --role=\"roles/cloudsql.admin\"\n",
        "\n",
        "!gcloud projects add-iam-policy-binding {project_id} \\\n",
        "    --member=serviceAccount:service-{project_number}@gcp-sa-aiplatform-re.iam.gserviceaccount.com \\\n",
        "    --role=\"roles/aiplatform.admin\"\n",
        "\n",
        "!gcloud projects add-iam-policy-binding {project_id} \\\n",
        "    --member=serviceAccount:service-{project_number}@gcp-sa-aiplatform-re.iam.gserviceaccount.com \\\n",
        "    --role=\"roles/aiplatform.user\""
      ]
    },
    {
      "cell_type": "markdown",
      "metadata": {
        "id": "uYtsIl6tS54H"
      },
      "source": [
        "#### Deploying to reasoning engine\n",
        "\n",
        "Deploying is as simple as calling `create()` method. We will provide the agent here and some dependencies required to run the agent."
      ]
    },
    {
      "cell_type": "markdown",
      "metadata": {
        "id": "Sr5aJfBqS54I"
      },
      "source": [
        "### Testing Remote Agent"
      ]
    },
    {
      "cell_type": "code",
      "execution_count": null,
      "metadata": {
        "id": "LoOij-F8S54I"
      },
      "outputs": [],
      "source": [
        "from vertexai.preview import reasoning_engines\n",
        "\n",
        "reasoning_engines.ReasoningEngine.list()\n",
        "# remote_agent = reasoning_engines.ReasoningEngine(\"projects/908311267620/locations/us-central1/reasoningEngines/7151100481752793088\")\n"
      ]
    },
    {
      "cell_type": "code",
      "execution_count": null,
      "metadata": {
        "id": "IrpavjjlS54I"
      },
      "outputs": [],
      "source": [
        "import uuid\n",
        "\n",
        "# Generate a UUID for the session ID\n",
        "session_id = str(uuid.uuid4())\n",
        "print(f\"Generated session ID: {session_id}\")"
      ]
    },
    {
      "cell_type": "code",
      "execution_count": null,
      "metadata": {
        "id": "NPzIXnmjS54I"
      },
      "outputs": [],
      "source": [
        "# Testing the remote agent\n",
        "response = remote_agent.query(\n",
        "  input=\"Can you please share what are being taught on this course\",\n",
        "  session_id=session_id,\n",
        ")\n",
        "display(Markdown(response[\"output\"]))"
      ]
    },
    {
      "cell_type": "code",
      "execution_count": null,
      "metadata": {
        "id": "sRv9q73QS54I"
      },
      "outputs": [],
      "source": [
        "# Testing the remote agent\n",
        "response = remote_agent.query(\n",
        "  input=\"Does it teach about how to design a forgot password system securely?\",\n",
        "  session_id=session_id,\n",
        ")\n",
        "display(Markdown(response[\"output\"]))"
      ]
    },
    {
      "cell_type": "code",
      "execution_count": null,
      "metadata": {
        "id": "z71I3V_ZS54I"
      },
      "outputs": [],
      "source": [
        "# Testing the remote agent\n",
        "response = remote_agent.query(\n",
        "  input=\"How much this course costs?\",\n",
        "  session_id=session_id,\n",
        ")\n",
        "display(Markdown(response[\"output\"]))"
      ]
    },
    {
      "cell_type": "code",
      "execution_count": null,
      "metadata": {
        "id": "DDMN7j4bS54J"
      },
      "outputs": [],
      "source": [
        "# Testing the remote agent\n",
        "response = remote_agent.query(\n",
        "  input=\"Yes. I want to enroll\",\n",
        "  session_id=session_id,\n",
        ")\n",
        "display(Markdown(response[\"output\"]))"
      ]
    },
    {
      "cell_type": "code",
      "execution_count": null,
      "metadata": {
        "id": "nb8E5LCbS54J"
      },
      "outputs": [],
      "source": [
        "# Testing the remote agent\n",
        "response = remote_agent.query(\n",
        "  input=\"Name is Mulyono and email is mulyono@gmail.com\",\n",
        "  session_id=session_id,\n",
        ")\n",
        "display(Markdown(response[\"output\"]))"
      ]
    },
    {
      "cell_type": "code",
      "execution_count": null,
      "metadata": {
        "id": "TqRTYqBkS54J"
      },
      "outputs": [],
      "source": [
        "# Testing the remote agent\n",
        "response = remote_agent.query(\n",
        "  input=\"I have made the payment. Can you please check?\",\n",
        "  session_id=session_id,\n",
        ")\n",
        "display(Markdown(response[\"output\"]))"
      ]
    }
  ],
  "metadata": {
    "kernelspec": {
      "display_name": "Python 3 (ipykernel)",
      "language": "python",
      "name": "python3"
    },
    "language_info": {
      "codemirror_mode": {
        "name": "ipython",
        "version": 3
      },
      "file_extension": ".py",
      "mimetype": "text/x-python",
      "name": "python",
      "nbconvert_exporter": "python",
      "pygments_lexer": "ipython3",
      "version": "3.10.14"
    },
    "colab": {
      "provenance": [],
      "toc_visible": true,
      "include_colab_link": true
    }
  },
  "nbformat": 4,
  "nbformat_minor": 0
}