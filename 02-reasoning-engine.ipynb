{
  "cells": [
    {
      "cell_type": "markdown",
      "metadata": {
        "id": "view-in-github",
        "colab_type": "text"
      },
      "source": [
        "<a href=\"https://colab.research.google.com/github/sugengdcahyo/agent-rag/blob/main/02-reasoning-engine.ipynb\" target=\"_parent\"><img src=\"https://colab.research.google.com/assets/colab-badge.svg\" alt=\"Open In Colab\"/></a>"
      ]
    },
    {
      "cell_type": "markdown",
      "metadata": {
        "id": "dzZPRyu4S534"
      },
      "source": [
        "# Deploying agent to reasoning engine\n",
        "\n",
        "This notebook covers how we can restructure the agent code and ultimately deploy the agent to google vertex ai."
      ]
    },
    {
      "cell_type": "markdown",
      "metadata": {
        "id": "feC4JqfKS538"
      },
      "source": [
        "## Required Software Installed Locally\n",
        "\n",
        "* Python version 3.9, 3.10, or 3.11. **Python3.12 will not work**.\n",
        "\n",
        "* If you are using VSCode, please install Jupyter Notebook extensions.\n",
        "\n",
        "* Jupyter notebook. Please follow this [installation guide](https://docs.jupyter.org/en/stable/install.html). You may choose whether you want to install classic jupyter notebook or jupyterlab (the next-gen web ui for jupyter)\n",
        "\n",
        "    * [Classic jupyter notebook installation guide](https://docs.jupyter.org/en/stable/install/notebook-classic.html)\n",
        "\n",
        "    * [Jupyterlab installation guide](https://jupyterlab.readthedocs.io/en/stable/getting_started/installation.html)\n",
        "\n",
        "* Google Cloud CLI. Please follow this [installation guide](https://cloud.google.com/sdk/docs/install-sdk)"
      ]
    },
    {
      "cell_type": "markdown",
      "metadata": {
        "id": "cyBz8BwBS53-"
      },
      "source": [
        "### Installing dependencies"
      ]
    },
    {
      "cell_type": "code",
      "execution_count": 61,
      "metadata": {
        "colab": {
          "base_uri": "https://localhost:8080/"
        },
        "id": "0cI94hIFS53-",
        "outputId": "5064fd13-9d22-41d2-816b-624b96460809"
      },
      "outputs": [
        {
          "output_type": "stream",
          "name": "stdout",
          "text": [
            "Overwriting requirements.txt\n"
          ]
        }
      ],
      "source": [
        "%%writefile requirements.txt\n",
        "\n",
        "google-cloud-aiplatform\n",
        "google-cloud-aiplatform[langchain]\n",
        "google-cloud-aiplatform[reasoningengine]\n",
        "langchain\n",
        "langchain_core\n",
        "langchain_community\n",
        "langchain-google-vertexai==2.0.8\n",
        "cloudpickle\n",
        "pydantic==2.9.2\n",
        "langchain-google-community\n",
        "google-cloud-discoveryengine\n",
        "nest-asyncio\n",
        "asyncio==3.4.3\n",
        "asyncpg==0.29.0\n",
        "cloud-sql-python-connector[asyncpg]\n",
        "langchain-google-cloud-sql-pg\n",
        "numpy\n",
        "pandas\n",
        "pgvector\n",
        "psycopg2-binary\n",
        "langchain-openai\n",
        "langgraph\n",
        "traceloop-sdk\n",
        "opentelemetry-instrumentation-google-generativeai\n",
        "opentelemetry-instrumentation-langchain\n",
        "opentelemetry-instrumentation-vertexai\n",
        "python-dotenv"
      ]
    },
    {
      "cell_type": "code",
      "execution_count": 62,
      "metadata": {
        "colab": {
          "base_uri": "https://localhost:8080/"
        },
        "id": "IrarcvsmS54A",
        "outputId": "bd4447e1-07e6-4980-da42-9fac08cd4bc3"
      },
      "outputs": [
        {
          "output_type": "stream",
          "name": "stdout",
          "text": [
            "Requirement already satisfied: google-cloud-aiplatform in /usr/local/lib/python3.11/dist-packages (from -r requirements.txt (line 2)) (1.81.0)\n",
            "Requirement already satisfied: langchain in /usr/local/lib/python3.11/dist-packages (from -r requirements.txt (line 5)) (0.3.19)\n",
            "Requirement already satisfied: langchain_core in /usr/local/lib/python3.11/dist-packages (from -r requirements.txt (line 6)) (0.3.37)\n",
            "Requirement already satisfied: langchain_community in /usr/local/lib/python3.11/dist-packages (from -r requirements.txt (line 7)) (0.3.18)\n",
            "Requirement already satisfied: langchain-google-vertexai==2.0.8 in /usr/local/lib/python3.11/dist-packages (from -r requirements.txt (line 8)) (2.0.8)\n",
            "Requirement already satisfied: cloudpickle in /usr/local/lib/python3.11/dist-packages (from -r requirements.txt (line 9)) (3.1.1)\n",
            "Requirement already satisfied: pydantic==2.9.2 in /usr/local/lib/python3.11/dist-packages (from -r requirements.txt (line 10)) (2.9.2)\n",
            "Requirement already satisfied: langchain-google-community in /usr/local/lib/python3.11/dist-packages (from -r requirements.txt (line 11)) (2.0.4)\n",
            "Requirement already satisfied: google-cloud-discoveryengine in /usr/local/lib/python3.11/dist-packages (from -r requirements.txt (line 12)) (0.13.6)\n",
            "Requirement already satisfied: nest-asyncio in /usr/local/lib/python3.11/dist-packages (from -r requirements.txt (line 13)) (1.6.0)\n",
            "Requirement already satisfied: asyncio==3.4.3 in /usr/local/lib/python3.11/dist-packages (from -r requirements.txt (line 14)) (3.4.3)\n",
            "Requirement already satisfied: asyncpg==0.29.0 in /usr/local/lib/python3.11/dist-packages (from -r requirements.txt (line 15)) (0.29.0)\n",
            "Requirement already satisfied: langchain-google-cloud-sql-pg in /usr/local/lib/python3.11/dist-packages (from -r requirements.txt (line 17)) (0.12.1)\n",
            "Requirement already satisfied: numpy in /usr/local/lib/python3.11/dist-packages (from -r requirements.txt (line 18)) (1.26.4)\n",
            "Collecting numpy (from -r requirements.txt (line 18))\n",
            "  Using cached numpy-2.2.3-cp311-cp311-manylinux_2_17_x86_64.manylinux2014_x86_64.whl.metadata (62 kB)\n",
            "Requirement already satisfied: pandas in /usr/local/lib/python3.11/dist-packages (from -r requirements.txt (line 19)) (2.2.3)\n",
            "Requirement already satisfied: pgvector in /usr/local/lib/python3.11/dist-packages (from -r requirements.txt (line 20)) (0.3.6)\n",
            "Requirement already satisfied: psycopg2-binary in /usr/local/lib/python3.11/dist-packages (from -r requirements.txt (line 21)) (2.9.10)\n",
            "Requirement already satisfied: langchain-openai in /usr/local/lib/python3.11/dist-packages (from -r requirements.txt (line 22)) (0.3.6)\n",
            "Requirement already satisfied: langgraph in /usr/local/lib/python3.11/dist-packages (from -r requirements.txt (line 23)) (0.2.74)\n",
            "Requirement already satisfied: traceloop-sdk in /usr/local/lib/python3.11/dist-packages (from -r requirements.txt (line 24)) (0.38.7)\n",
            "Requirement already satisfied: opentelemetry-instrumentation-google-generativeai in /usr/local/lib/python3.11/dist-packages (from -r requirements.txt (line 25)) (0.38.7)\n",
            "Requirement already satisfied: opentelemetry-instrumentation-langchain in /usr/local/lib/python3.11/dist-packages (from -r requirements.txt (line 26)) (0.38.7)\n",
            "Requirement already satisfied: opentelemetry-instrumentation-vertexai in /usr/local/lib/python3.11/dist-packages (from -r requirements.txt (line 27)) (0.38.7)\n",
            "Requirement already satisfied: python-dotenv in /usr/local/lib/python3.11/dist-packages (from -r requirements.txt (line 28)) (1.0.1)\n",
            "Requirement already satisfied: cloud-sql-python-connector[asyncpg] in /usr/local/lib/python3.11/dist-packages (from -r requirements.txt (line 16)) (1.13.0)\n",
            "Collecting cloud-sql-python-connector[asyncpg] (from -r requirements.txt (line 16))\n",
            "  Using cached cloud_sql_python_connector-1.17.0-py3-none-any.whl.metadata (30 kB)\n",
            "Requirement already satisfied: google-cloud-storage<3.0.0,>=2.18.0 in /usr/local/lib/python3.11/dist-packages (from langchain-google-vertexai==2.0.8->-r requirements.txt (line 8)) (2.19.0)\n",
            "Requirement already satisfied: httpx<0.28.0,>=0.27.0 in /usr/local/lib/python3.11/dist-packages (from langchain-google-vertexai==2.0.8->-r requirements.txt (line 8)) (0.27.2)\n",
            "Requirement already satisfied: httpx-sse<0.5.0,>=0.4.0 in /usr/local/lib/python3.11/dist-packages (from langchain-google-vertexai==2.0.8->-r requirements.txt (line 8)) (0.4.0)\n",
            "Requirement already satisfied: annotated-types>=0.6.0 in /usr/local/lib/python3.11/dist-packages (from pydantic==2.9.2->-r requirements.txt (line 10)) (0.7.0)\n",
            "Requirement already satisfied: pydantic-core==2.23.4 in /usr/local/lib/python3.11/dist-packages (from pydantic==2.9.2->-r requirements.txt (line 10)) (2.23.4)\n",
            "Requirement already satisfied: typing-extensions>=4.6.1 in /usr/local/lib/python3.11/dist-packages (from pydantic==2.9.2->-r requirements.txt (line 10)) (4.12.2)\n",
            "Requirement already satisfied: async-timeout>=4.0.3 in /usr/local/lib/python3.11/dist-packages (from asyncpg==0.29.0->-r requirements.txt (line 15)) (5.0.1)\n",
            "Requirement already satisfied: google-api-core!=2.0.*,!=2.1.*,!=2.2.*,!=2.3.*,!=2.4.*,!=2.5.*,!=2.6.*,!=2.7.*,<3.0.0dev,>=1.34.1 in /usr/local/lib/python3.11/dist-packages (from google-api-core[grpc]!=2.0.*,!=2.1.*,!=2.2.*,!=2.3.*,!=2.4.*,!=2.5.*,!=2.6.*,!=2.7.*,<3.0.0dev,>=1.34.1->google-cloud-aiplatform->-r requirements.txt (line 2)) (2.24.1)\n",
            "Requirement already satisfied: google-auth<3.0.0dev,>=2.14.1 in /usr/local/lib/python3.11/dist-packages (from google-cloud-aiplatform->-r requirements.txt (line 2)) (2.38.0)\n",
            "Requirement already satisfied: proto-plus<2.0.0dev,>=1.22.3 in /usr/local/lib/python3.11/dist-packages (from google-cloud-aiplatform->-r requirements.txt (line 2)) (1.26.0)\n",
            "Requirement already satisfied: protobuf!=4.21.0,!=4.21.1,!=4.21.2,!=4.21.3,!=4.21.4,!=4.21.5,<6.0.0dev,>=3.20.2 in /usr/local/lib/python3.11/dist-packages (from google-cloud-aiplatform->-r requirements.txt (line 2)) (5.29.3)\n",
            "Requirement already satisfied: packaging>=14.3 in /usr/local/lib/python3.11/dist-packages (from google-cloud-aiplatform->-r requirements.txt (line 2)) (24.2)\n",
            "Requirement already satisfied: google-cloud-bigquery!=3.20.0,<4.0.0dev,>=1.15.0 in /usr/local/lib/python3.11/dist-packages (from google-cloud-aiplatform->-r requirements.txt (line 2)) (3.29.0)\n",
            "Requirement already satisfied: google-cloud-resource-manager<3.0.0dev,>=1.3.3 in /usr/local/lib/python3.11/dist-packages (from google-cloud-aiplatform->-r requirements.txt (line 2)) (1.14.0)\n",
            "Requirement already satisfied: shapely<3.0.0dev in /usr/local/lib/python3.11/dist-packages (from google-cloud-aiplatform->-r requirements.txt (line 2)) (2.0.7)\n",
            "Requirement already satisfied: docstring-parser<1 in /usr/local/lib/python3.11/dist-packages (from google-cloud-aiplatform->-r requirements.txt (line 2)) (0.16)\n",
            "Requirement already satisfied: openinference-instrumentation-langchain<0.2,>=0.1.19 in /usr/local/lib/python3.11/dist-packages (from google-cloud-aiplatform[langchain]->-r requirements.txt (line 3)) (0.1.33)\n",
            "Requirement already satisfied: google-cloud-trace<2 in /usr/local/lib/python3.11/dist-packages (from google-cloud-aiplatform[reasoningengine]->-r requirements.txt (line 4)) (1.16.0)\n",
            "Requirement already satisfied: opentelemetry-sdk<2 in /usr/local/lib/python3.11/dist-packages (from google-cloud-aiplatform[reasoningengine]->-r requirements.txt (line 4)) (1.30.0)\n",
            "Requirement already satisfied: opentelemetry-exporter-gcp-trace<2 in /usr/local/lib/python3.11/dist-packages (from google-cloud-aiplatform[reasoningengine]->-r requirements.txt (line 4)) (1.9.0)\n",
            "Requirement already satisfied: langchain-text-splitters<1.0.0,>=0.3.6 in /usr/local/lib/python3.11/dist-packages (from langchain->-r requirements.txt (line 5)) (0.3.6)\n",
            "Requirement already satisfied: langsmith<0.4,>=0.1.17 in /usr/local/lib/python3.11/dist-packages (from langchain->-r requirements.txt (line 5)) (0.3.8)\n",
            "Requirement already satisfied: SQLAlchemy<3,>=1.4 in /usr/local/lib/python3.11/dist-packages (from langchain->-r requirements.txt (line 5)) (2.0.38)\n",
            "Requirement already satisfied: requests<3,>=2 in /usr/local/lib/python3.11/dist-packages (from langchain->-r requirements.txt (line 5)) (2.32.3)\n",
            "Requirement already satisfied: PyYAML>=5.3 in /usr/local/lib/python3.11/dist-packages (from langchain->-r requirements.txt (line 5)) (6.0.2)\n",
            "Requirement already satisfied: aiohttp<4.0.0,>=3.8.3 in /usr/local/lib/python3.11/dist-packages (from langchain->-r requirements.txt (line 5)) (3.11.12)\n",
            "Requirement already satisfied: tenacity!=8.4.0,<10,>=8.1.0 in /usr/local/lib/python3.11/dist-packages (from langchain->-r requirements.txt (line 5)) (8.5.0)\n",
            "Requirement already satisfied: jsonpatch<2.0,>=1.33 in /usr/local/lib/python3.11/dist-packages (from langchain_core->-r requirements.txt (line 6)) (1.33)\n",
            "Requirement already satisfied: dataclasses-json<0.7,>=0.5.7 in /usr/local/lib/python3.11/dist-packages (from langchain_community->-r requirements.txt (line 7)) (0.6.7)\n",
            "Requirement already satisfied: pydantic-settings<3.0.0,>=2.4.0 in /usr/local/lib/python3.11/dist-packages (from langchain_community->-r requirements.txt (line 7)) (2.8.0)\n",
            "Requirement already satisfied: google-api-python-client<3.0.0,>=2.122.0 in /usr/local/lib/python3.11/dist-packages (from langchain-google-community->-r requirements.txt (line 11)) (2.160.0)\n",
            "Requirement already satisfied: google-cloud-core<3.0.0,>=2.4.1 in /usr/local/lib/python3.11/dist-packages (from langchain-google-community->-r requirements.txt (line 11)) (2.4.1)\n",
            "Requirement already satisfied: grpcio<2.0.0,>=1.62.0 in /usr/local/lib/python3.11/dist-packages (from langchain-google-community->-r requirements.txt (line 11)) (1.70.0)\n",
            "Requirement already satisfied: aiofiles in /usr/local/lib/python3.11/dist-packages (from cloud-sql-python-connector[asyncpg]->-r requirements.txt (line 16)) (24.1.0)\n",
            "Requirement already satisfied: cryptography>=42.0.0 in /usr/local/lib/python3.11/dist-packages (from cloud-sql-python-connector[asyncpg]->-r requirements.txt (line 16)) (43.0.3)\n",
            "Collecting dnspython>=2.0.0 (from cloud-sql-python-connector[asyncpg]->-r requirements.txt (line 16))\n",
            "  Using cached dnspython-2.7.0-py3-none-any.whl.metadata (5.8 kB)\n",
            "INFO: pip is looking at multiple versions of cloud-sql-python-connector[asyncpg] to determine which version is compatible with other requirements. This could take a while.\n",
            "Collecting cloud-sql-python-connector[asyncpg] (from -r requirements.txt (line 16))\n",
            "  Using cached cloud_sql_python_connector-1.16.0-py2.py3-none-any.whl.metadata (30 kB)\n",
            "  Using cached cloud_sql_python_connector-1.15.0-py2.py3-none-any.whl.metadata (30 kB)\n",
            "  Using cached cloud_sql_python_connector-1.14.0-py2.py3-none-any.whl.metadata (28 kB)\n",
            "Requirement already satisfied: python-dateutil>=2.8.2 in /usr/local/lib/python3.11/dist-packages (from pandas->-r requirements.txt (line 19)) (2.8.2)\n",
            "Requirement already satisfied: pytz>=2020.1 in /usr/local/lib/python3.11/dist-packages (from pandas->-r requirements.txt (line 19)) (2025.1)\n",
            "Requirement already satisfied: tzdata>=2022.7 in /usr/local/lib/python3.11/dist-packages (from pandas->-r requirements.txt (line 19)) (2025.1)\n",
            "Requirement already satisfied: openai<2.0.0,>=1.58.1 in /usr/local/lib/python3.11/dist-packages (from langchain-openai->-r requirements.txt (line 22)) (1.61.1)\n",
            "Requirement already satisfied: tiktoken<1,>=0.7 in /usr/local/lib/python3.11/dist-packages (from langchain-openai->-r requirements.txt (line 22)) (0.9.0)\n",
            "Requirement already satisfied: langgraph-checkpoint<3.0.0,>=2.0.10 in /usr/local/lib/python3.11/dist-packages (from langgraph->-r requirements.txt (line 23)) (2.0.16)\n",
            "Requirement already satisfied: langgraph-sdk<0.2.0,>=0.1.42 in /usr/local/lib/python3.11/dist-packages (from langgraph->-r requirements.txt (line 23)) (0.1.53)\n",
            "Requirement already satisfied: colorama<0.5.0,>=0.4.6 in /usr/local/lib/python3.11/dist-packages (from traceloop-sdk->-r requirements.txt (line 24)) (0.4.6)\n",
            "Requirement already satisfied: deprecated<2.0.0,>=1.2.14 in /usr/local/lib/python3.11/dist-packages (from traceloop-sdk->-r requirements.txt (line 24)) (1.2.18)\n",
            "Requirement already satisfied: jinja2<4.0.0,>=3.1.5 in /usr/local/lib/python3.11/dist-packages (from traceloop-sdk->-r requirements.txt (line 24)) (3.1.5)\n",
            "Requirement already satisfied: opentelemetry-api<2.0.0,>=1.28.0 in /usr/local/lib/python3.11/dist-packages (from traceloop-sdk->-r requirements.txt (line 24)) (1.30.0)\n",
            "Requirement already satisfied: opentelemetry-exporter-otlp-proto-grpc<2.0.0,>=1.28.0 in /usr/local/lib/python3.11/dist-packages (from traceloop-sdk->-r requirements.txt (line 24)) (1.30.0)\n",
            "Requirement already satisfied: opentelemetry-exporter-otlp-proto-http<2.0.0,>=1.28.0 in /usr/local/lib/python3.11/dist-packages (from traceloop-sdk->-r requirements.txt (line 24)) (1.30.0)\n",
            "Requirement already satisfied: opentelemetry-instrumentation-alephalpha==0.38.7 in /usr/local/lib/python3.11/dist-packages (from traceloop-sdk->-r requirements.txt (line 24)) (0.38.7)\n",
            "Requirement already satisfied: opentelemetry-instrumentation-anthropic==0.38.7 in /usr/local/lib/python3.11/dist-packages (from traceloop-sdk->-r requirements.txt (line 24)) (0.38.7)\n",
            "Requirement already satisfied: opentelemetry-instrumentation-bedrock==0.38.7 in /usr/local/lib/python3.11/dist-packages (from traceloop-sdk->-r requirements.txt (line 24)) (0.38.7)\n",
            "Requirement already satisfied: opentelemetry-instrumentation-chromadb==0.38.7 in /usr/local/lib/python3.11/dist-packages (from traceloop-sdk->-r requirements.txt (line 24)) (0.38.7)\n",
            "Requirement already satisfied: opentelemetry-instrumentation-cohere==0.38.7 in /usr/local/lib/python3.11/dist-packages (from traceloop-sdk->-r requirements.txt (line 24)) (0.38.7)\n",
            "Requirement already satisfied: opentelemetry-instrumentation-crewai==0.38.7 in /usr/local/lib/python3.11/dist-packages (from traceloop-sdk->-r requirements.txt (line 24)) (0.38.7)\n",
            "Requirement already satisfied: opentelemetry-instrumentation-groq==0.38.7 in /usr/local/lib/python3.11/dist-packages (from traceloop-sdk->-r requirements.txt (line 24)) (0.38.7)\n",
            "Requirement already satisfied: opentelemetry-instrumentation-haystack==0.38.7 in /usr/local/lib/python3.11/dist-packages (from traceloop-sdk->-r requirements.txt (line 24)) (0.38.7)\n",
            "Requirement already satisfied: opentelemetry-instrumentation-lancedb==0.38.7 in /usr/local/lib/python3.11/dist-packages (from traceloop-sdk->-r requirements.txt (line 24)) (0.38.7)\n",
            "Requirement already satisfied: opentelemetry-instrumentation-llamaindex==0.38.7 in /usr/local/lib/python3.11/dist-packages (from traceloop-sdk->-r requirements.txt (line 24)) (0.38.7)\n",
            "Requirement already satisfied: opentelemetry-instrumentation-logging>=0.50b0 in /usr/local/lib/python3.11/dist-packages (from traceloop-sdk->-r requirements.txt (line 24)) (0.51b0)\n",
            "Requirement already satisfied: opentelemetry-instrumentation-marqo==0.38.7 in /usr/local/lib/python3.11/dist-packages (from traceloop-sdk->-r requirements.txt (line 24)) (0.38.7)\n",
            "Requirement already satisfied: opentelemetry-instrumentation-milvus==0.38.7 in /usr/local/lib/python3.11/dist-packages (from traceloop-sdk->-r requirements.txt (line 24)) (0.38.7)\n",
            "Requirement already satisfied: opentelemetry-instrumentation-mistralai==0.38.7 in /usr/local/lib/python3.11/dist-packages (from traceloop-sdk->-r requirements.txt (line 24)) (0.38.7)\n",
            "Requirement already satisfied: opentelemetry-instrumentation-ollama==0.38.7 in /usr/local/lib/python3.11/dist-packages (from traceloop-sdk->-r requirements.txt (line 24)) (0.38.7)\n",
            "Requirement already satisfied: opentelemetry-instrumentation-openai==0.38.7 in /usr/local/lib/python3.11/dist-packages (from traceloop-sdk->-r requirements.txt (line 24)) (0.38.7)\n",
            "Requirement already satisfied: opentelemetry-instrumentation-pinecone==0.38.7 in /usr/local/lib/python3.11/dist-packages (from traceloop-sdk->-r requirements.txt (line 24)) (0.38.7)\n",
            "Requirement already satisfied: opentelemetry-instrumentation-qdrant==0.38.7 in /usr/local/lib/python3.11/dist-packages (from traceloop-sdk->-r requirements.txt (line 24)) (0.38.7)\n",
            "Requirement already satisfied: opentelemetry-instrumentation-replicate==0.38.7 in /usr/local/lib/python3.11/dist-packages (from traceloop-sdk->-r requirements.txt (line 24)) (0.38.7)\n",
            "Requirement already satisfied: opentelemetry-instrumentation-requests>=0.50b0 in /usr/local/lib/python3.11/dist-packages (from traceloop-sdk->-r requirements.txt (line 24)) (0.51b0)\n",
            "Requirement already satisfied: opentelemetry-instrumentation-sagemaker==0.38.7 in /usr/local/lib/python3.11/dist-packages (from traceloop-sdk->-r requirements.txt (line 24)) (0.38.7)\n",
            "Requirement already satisfied: opentelemetry-instrumentation-sqlalchemy>=0.50b0 in /usr/local/lib/python3.11/dist-packages (from traceloop-sdk->-r requirements.txt (line 24)) (0.51b0)\n",
            "Requirement already satisfied: opentelemetry-instrumentation-threading>=0.50b0 in /usr/local/lib/python3.11/dist-packages (from traceloop-sdk->-r requirements.txt (line 24)) (0.51b0)\n",
            "Requirement already satisfied: opentelemetry-instrumentation-together==0.38.7 in /usr/local/lib/python3.11/dist-packages (from traceloop-sdk->-r requirements.txt (line 24)) (0.38.7)\n",
            "Requirement already satisfied: opentelemetry-instrumentation-transformers==0.38.7 in /usr/local/lib/python3.11/dist-packages (from traceloop-sdk->-r requirements.txt (line 24)) (0.38.7)\n",
            "Requirement already satisfied: opentelemetry-instrumentation-urllib3>=0.50b0 in /usr/local/lib/python3.11/dist-packages (from traceloop-sdk->-r requirements.txt (line 24)) (0.51b0)\n",
            "Requirement already satisfied: opentelemetry-instrumentation-watsonx==0.38.7 in /usr/local/lib/python3.11/dist-packages (from traceloop-sdk->-r requirements.txt (line 24)) (0.38.7)\n",
            "Requirement already satisfied: opentelemetry-instrumentation-weaviate==0.38.7 in /usr/local/lib/python3.11/dist-packages (from traceloop-sdk->-r requirements.txt (line 24)) (0.38.7)\n",
            "Requirement already satisfied: opentelemetry-semantic-conventions-ai==0.4.2 in /usr/local/lib/python3.11/dist-packages (from traceloop-sdk->-r requirements.txt (line 24)) (0.4.2)\n",
            "Requirement already satisfied: posthog<4,>3.0.2 in /usr/local/lib/python3.11/dist-packages (from traceloop-sdk->-r requirements.txt (line 24)) (3.15.0)\n",
            "Requirement already satisfied: opentelemetry-instrumentation>=0.50b0 in /usr/local/lib/python3.11/dist-packages (from opentelemetry-instrumentation-google-generativeai->-r requirements.txt (line 25)) (0.51b0)\n",
            "Requirement already satisfied: opentelemetry-semantic-conventions>=0.50b0 in /usr/local/lib/python3.11/dist-packages (from opentelemetry-instrumentation-google-generativeai->-r requirements.txt (line 25)) (0.51b0)\n",
            "Requirement already satisfied: anthropic>=0.17.0 in /usr/local/lib/python3.11/dist-packages (from opentelemetry-instrumentation-bedrock==0.38.7->traceloop-sdk->-r requirements.txt (line 24)) (0.46.0)\n",
            "Requirement already satisfied: inflection<0.6.0,>=0.5.1 in /usr/local/lib/python3.11/dist-packages (from opentelemetry-instrumentation-llamaindex==0.38.7->traceloop-sdk->-r requirements.txt (line 24)) (0.5.1)\n",
            "Requirement already satisfied: aiohappyeyeballs>=2.3.0 in /usr/local/lib/python3.11/dist-packages (from aiohttp<4.0.0,>=3.8.3->langchain->-r requirements.txt (line 5)) (2.4.6)\n",
            "Requirement already satisfied: aiosignal>=1.1.2 in /usr/local/lib/python3.11/dist-packages (from aiohttp<4.0.0,>=3.8.3->langchain->-r requirements.txt (line 5)) (1.3.2)\n",
            "Requirement already satisfied: attrs>=17.3.0 in /usr/local/lib/python3.11/dist-packages (from aiohttp<4.0.0,>=3.8.3->langchain->-r requirements.txt (line 5)) (25.1.0)\n",
            "Requirement already satisfied: frozenlist>=1.1.1 in /usr/local/lib/python3.11/dist-packages (from aiohttp<4.0.0,>=3.8.3->langchain->-r requirements.txt (line 5)) (1.5.0)\n",
            "Requirement already satisfied: multidict<7.0,>=4.5 in /usr/local/lib/python3.11/dist-packages (from aiohttp<4.0.0,>=3.8.3->langchain->-r requirements.txt (line 5)) (6.1.0)\n",
            "Requirement already satisfied: propcache>=0.2.0 in /usr/local/lib/python3.11/dist-packages (from aiohttp<4.0.0,>=3.8.3->langchain->-r requirements.txt (line 5)) (0.2.1)\n",
            "Requirement already satisfied: yarl<2.0,>=1.17.0 in /usr/local/lib/python3.11/dist-packages (from aiohttp<4.0.0,>=3.8.3->langchain->-r requirements.txt (line 5)) (1.18.3)\n",
            "Requirement already satisfied: cffi>=1.12 in /usr/local/lib/python3.11/dist-packages (from cryptography>=42.0.0->cloud-sql-python-connector[asyncpg]->-r requirements.txt (line 16)) (1.17.1)\n",
            "Requirement already satisfied: marshmallow<4.0.0,>=3.18.0 in /usr/local/lib/python3.11/dist-packages (from dataclasses-json<0.7,>=0.5.7->langchain_community->-r requirements.txt (line 7)) (3.26.1)\n",
            "Requirement already satisfied: typing-inspect<1,>=0.4.0 in /usr/local/lib/python3.11/dist-packages (from dataclasses-json<0.7,>=0.5.7->langchain_community->-r requirements.txt (line 7)) (0.9.0)\n",
            "Requirement already satisfied: wrapt<2,>=1.10 in /usr/local/lib/python3.11/dist-packages (from deprecated<2.0.0,>=1.2.14->traceloop-sdk->-r requirements.txt (line 24)) (1.17.2)\n",
            "Requirement already satisfied: googleapis-common-protos<2.0.dev0,>=1.56.2 in /usr/local/lib/python3.11/dist-packages (from google-api-core!=2.0.*,!=2.1.*,!=2.2.*,!=2.3.*,!=2.4.*,!=2.5.*,!=2.6.*,!=2.7.*,<3.0.0dev,>=1.34.1->google-api-core[grpc]!=2.0.*,!=2.1.*,!=2.2.*,!=2.3.*,!=2.4.*,!=2.5.*,!=2.6.*,!=2.7.*,<3.0.0dev,>=1.34.1->google-cloud-aiplatform->-r requirements.txt (line 2)) (1.67.0)\n",
            "Requirement already satisfied: grpcio-status<2.0.dev0,>=1.33.2 in /usr/local/lib/python3.11/dist-packages (from google-api-core[grpc]!=2.0.*,!=2.1.*,!=2.2.*,!=2.3.*,!=2.4.*,!=2.5.*,!=2.6.*,!=2.7.*,<3.0.0dev,>=1.34.1->google-cloud-aiplatform->-r requirements.txt (line 2)) (1.62.3)\n",
            "Requirement already satisfied: httplib2<1.dev0,>=0.19.0 in /usr/local/lib/python3.11/dist-packages (from google-api-python-client<3.0.0,>=2.122.0->langchain-google-community->-r requirements.txt (line 11)) (0.22.0)\n",
            "Requirement already satisfied: google-auth-httplib2<1.0.0,>=0.2.0 in /usr/local/lib/python3.11/dist-packages (from google-api-python-client<3.0.0,>=2.122.0->langchain-google-community->-r requirements.txt (line 11)) (0.2.0)\n",
            "Requirement already satisfied: uritemplate<5,>=3.0.1 in /usr/local/lib/python3.11/dist-packages (from google-api-python-client<3.0.0,>=2.122.0->langchain-google-community->-r requirements.txt (line 11)) (4.1.1)\n",
            "Requirement already satisfied: cachetools<6.0,>=2.0.0 in /usr/local/lib/python3.11/dist-packages (from google-auth<3.0.0dev,>=2.14.1->google-cloud-aiplatform->-r requirements.txt (line 2)) (5.5.1)\n",
            "Requirement already satisfied: pyasn1-modules>=0.2.1 in /usr/local/lib/python3.11/dist-packages (from google-auth<3.0.0dev,>=2.14.1->google-cloud-aiplatform->-r requirements.txt (line 2)) (0.4.1)\n",
            "Requirement already satisfied: rsa<5,>=3.1.4 in /usr/local/lib/python3.11/dist-packages (from google-auth<3.0.0dev,>=2.14.1->google-cloud-aiplatform->-r requirements.txt (line 2)) (4.9)\n",
            "Requirement already satisfied: google-resumable-media<3.0dev,>=2.0.0 in /usr/local/lib/python3.11/dist-packages (from google-cloud-bigquery!=3.20.0,<4.0.0dev,>=1.15.0->google-cloud-aiplatform->-r requirements.txt (line 2)) (2.7.2)\n",
            "Requirement already satisfied: grpc-google-iam-v1<1.0.0dev,>=0.12.4 in /usr/local/lib/python3.11/dist-packages (from google-cloud-resource-manager<3.0.0dev,>=1.3.3->google-cloud-aiplatform->-r requirements.txt (line 2)) (0.14.0)\n",
            "Requirement already satisfied: google-crc32c<2.0dev,>=1.0 in /usr/local/lib/python3.11/dist-packages (from google-cloud-storage<3.0.0,>=2.18.0->langchain-google-vertexai==2.0.8->-r requirements.txt (line 8)) (1.6.0)\n",
            "Requirement already satisfied: anyio in /usr/local/lib/python3.11/dist-packages (from httpx<0.28.0,>=0.27.0->langchain-google-vertexai==2.0.8->-r requirements.txt (line 8)) (3.7.1)\n",
            "Requirement already satisfied: certifi in /usr/local/lib/python3.11/dist-packages (from httpx<0.28.0,>=0.27.0->langchain-google-vertexai==2.0.8->-r requirements.txt (line 8)) (2025.1.31)\n",
            "Requirement already satisfied: httpcore==1.* in /usr/local/lib/python3.11/dist-packages (from httpx<0.28.0,>=0.27.0->langchain-google-vertexai==2.0.8->-r requirements.txt (line 8)) (1.0.7)\n",
            "Requirement already satisfied: idna in /usr/local/lib/python3.11/dist-packages (from httpx<0.28.0,>=0.27.0->langchain-google-vertexai==2.0.8->-r requirements.txt (line 8)) (3.10)\n",
            "Requirement already satisfied: sniffio in /usr/local/lib/python3.11/dist-packages (from httpx<0.28.0,>=0.27.0->langchain-google-vertexai==2.0.8->-r requirements.txt (line 8)) (1.3.1)\n",
            "Requirement already satisfied: h11<0.15,>=0.13 in /usr/local/lib/python3.11/dist-packages (from httpcore==1.*->httpx<0.28.0,>=0.27.0->langchain-google-vertexai==2.0.8->-r requirements.txt (line 8)) (0.14.0)\n",
            "Requirement already satisfied: MarkupSafe>=2.0 in /usr/local/lib/python3.11/dist-packages (from jinja2<4.0.0,>=3.1.5->traceloop-sdk->-r requirements.txt (line 24)) (3.0.2)\n",
            "Requirement already satisfied: jsonpointer>=1.9 in /usr/local/lib/python3.11/dist-packages (from jsonpatch<2.0,>=1.33->langchain_core->-r requirements.txt (line 6)) (3.0.0)\n",
            "Requirement already satisfied: msgpack<2.0.0,>=1.1.0 in /usr/local/lib/python3.11/dist-packages (from langgraph-checkpoint<3.0.0,>=2.0.10->langgraph->-r requirements.txt (line 23)) (1.1.0)\n",
            "Requirement already satisfied: orjson>=3.10.1 in /usr/local/lib/python3.11/dist-packages (from langgraph-sdk<0.2.0,>=0.1.42->langgraph->-r requirements.txt (line 23)) (3.10.15)\n",
            "Requirement already satisfied: requests-toolbelt<2.0.0,>=1.0.0 in /usr/local/lib/python3.11/dist-packages (from langsmith<0.4,>=0.1.17->langchain->-r requirements.txt (line 5)) (1.0.0)\n",
            "Requirement already satisfied: zstandard<0.24.0,>=0.23.0 in /usr/local/lib/python3.11/dist-packages (from langsmith<0.4,>=0.1.17->langchain->-r requirements.txt (line 5)) (0.23.0)\n",
            "Requirement already satisfied: distro<2,>=1.7.0 in /usr/local/lib/python3.11/dist-packages (from openai<2.0.0,>=1.58.1->langchain-openai->-r requirements.txt (line 22)) (1.9.0)\n",
            "Requirement already satisfied: jiter<1,>=0.4.0 in /usr/local/lib/python3.11/dist-packages (from openai<2.0.0,>=1.58.1->langchain-openai->-r requirements.txt (line 22)) (0.8.2)\n",
            "Requirement already satisfied: tqdm>4 in /usr/local/lib/python3.11/dist-packages (from openai<2.0.0,>=1.58.1->langchain-openai->-r requirements.txt (line 22)) (4.67.1)\n",
            "Requirement already satisfied: openinference-instrumentation>=0.1.17 in /usr/local/lib/python3.11/dist-packages (from openinference-instrumentation-langchain<0.2,>=0.1.19->google-cloud-aiplatform[langchain]->-r requirements.txt (line 3)) (0.1.22)\n",
            "Requirement already satisfied: openinference-semantic-conventions>=0.1.9 in /usr/local/lib/python3.11/dist-packages (from openinference-instrumentation-langchain<0.2,>=0.1.19->google-cloud-aiplatform[langchain]->-r requirements.txt (line 3)) (0.1.14)\n",
            "Requirement already satisfied: importlib-metadata<=8.5.0,>=6.0 in /usr/local/lib/python3.11/dist-packages (from opentelemetry-api<2.0.0,>=1.28.0->traceloop-sdk->-r requirements.txt (line 24)) (8.5.0)\n",
            "Requirement already satisfied: opentelemetry-resourcedetector-gcp==1.*,>=1.5.0dev0 in /usr/local/lib/python3.11/dist-packages (from opentelemetry-exporter-gcp-trace<2->google-cloud-aiplatform[reasoningengine]->-r requirements.txt (line 4)) (1.9.0a0)\n",
            "Requirement already satisfied: opentelemetry-exporter-otlp-proto-common==1.30.0 in /usr/local/lib/python3.11/dist-packages (from opentelemetry-exporter-otlp-proto-grpc<2.0.0,>=1.28.0->traceloop-sdk->-r requirements.txt (line 24)) (1.30.0)\n",
            "Requirement already satisfied: opentelemetry-proto==1.30.0 in /usr/local/lib/python3.11/dist-packages (from opentelemetry-exporter-otlp-proto-grpc<2.0.0,>=1.28.0->traceloop-sdk->-r requirements.txt (line 24)) (1.30.0)\n",
            "Requirement already satisfied: opentelemetry-util-http==0.51b0 in /usr/local/lib/python3.11/dist-packages (from opentelemetry-instrumentation-requests>=0.50b0->traceloop-sdk->-r requirements.txt (line 24)) (0.51b0)\n",
            "Requirement already satisfied: six>=1.5 in /usr/local/lib/python3.11/dist-packages (from posthog<4,>3.0.2->traceloop-sdk->-r requirements.txt (line 24)) (1.17.0)\n",
            "Requirement already satisfied: monotonic>=1.5 in /usr/local/lib/python3.11/dist-packages (from posthog<4,>3.0.2->traceloop-sdk->-r requirements.txt (line 24)) (1.6)\n",
            "Requirement already satisfied: backoff>=1.10.0 in /usr/local/lib/python3.11/dist-packages (from posthog<4,>3.0.2->traceloop-sdk->-r requirements.txt (line 24)) (2.2.1)\n",
            "Requirement already satisfied: charset-normalizer<4,>=2 in /usr/local/lib/python3.11/dist-packages (from requests<3,>=2->langchain->-r requirements.txt (line 5)) (3.4.1)\n",
            "Requirement already satisfied: urllib3<3,>=1.21.1 in /usr/local/lib/python3.11/dist-packages (from requests<3,>=2->langchain->-r requirements.txt (line 5)) (2.3.0)\n",
            "Requirement already satisfied: greenlet!=0.4.17 in /usr/local/lib/python3.11/dist-packages (from SQLAlchemy<3,>=1.4->langchain->-r requirements.txt (line 5)) (3.1.1)\n",
            "Requirement already satisfied: regex>=2022.1.18 in /usr/local/lib/python3.11/dist-packages (from tiktoken<1,>=0.7->langchain-openai->-r requirements.txt (line 22)) (2024.11.6)\n",
            "Requirement already satisfied: pycparser in /usr/local/lib/python3.11/dist-packages (from cffi>=1.12->cryptography>=42.0.0->cloud-sql-python-connector[asyncpg]->-r requirements.txt (line 16)) (2.22)\n",
            "Requirement already satisfied: pyparsing!=3.0.0,!=3.0.1,!=3.0.2,!=3.0.3,<4,>=2.4.2 in /usr/local/lib/python3.11/dist-packages (from httplib2<1.dev0,>=0.19.0->google-api-python-client<3.0.0,>=2.122.0->langchain-google-community->-r requirements.txt (line 11)) (3.2.1)\n",
            "Requirement already satisfied: zipp>=3.20 in /usr/local/lib/python3.11/dist-packages (from importlib-metadata<=8.5.0,>=6.0->opentelemetry-api<2.0.0,>=1.28.0->traceloop-sdk->-r requirements.txt (line 24)) (3.21.0)\n",
            "Requirement already satisfied: pyasn1<0.7.0,>=0.4.6 in /usr/local/lib/python3.11/dist-packages (from pyasn1-modules>=0.2.1->google-auth<3.0.0dev,>=2.14.1->google-cloud-aiplatform->-r requirements.txt (line 2)) (0.6.1)\n",
            "Requirement already satisfied: mypy-extensions>=0.3.0 in /usr/local/lib/python3.11/dist-packages (from typing-inspect<1,>=0.4.0->dataclasses-json<0.7,>=0.5.7->langchain_community->-r requirements.txt (line 7)) (1.0.0)\n"
          ]
        }
      ],
      "source": [
        "!pip install --upgrade -r requirements.txt"
      ]
    },
    {
      "cell_type": "markdown",
      "metadata": {
        "id": "rOoZIYXCS54A"
      },
      "source": [
        "## Setting up Google Cloud Account"
      ]
    },
    {
      "cell_type": "markdown",
      "metadata": {
        "id": "JnnnVsfJS54B"
      },
      "source": [
        "#### Recommended account setup\n",
        "\n",
        "if you are running this in jupyter notebook locally, you may need to login to google cloud by running the following command from terminal:\n",
        "\n",
        "```\n",
        "gcloud auth login\n",
        "gcloud auth application-default login\n",
        "```"
      ]
    },
    {
      "cell_type": "markdown",
      "metadata": {
        "id": "YDn9wC-ES54B"
      },
      "source": [
        "If you are using Google Colabs, you need to authenticate with your google account by running the following notebook cell.\n",
        "\n",
        "> Please remember that you will need to do this on each jupyter notebook during this workshop"
      ]
    },
    {
      "cell_type": "code",
      "execution_count": 66,
      "metadata": {
        "id": "aocVf3yhS54C"
      },
      "outputs": [],
      "source": [
        "# #@markdown ###Authenticate your Google Cloud Account and enable APIs.\n",
        "# # Authenticate gcloud.\n",
        "from google.colab import auth\n",
        "auth.authenticate_user()"
      ]
    },
    {
      "cell_type": "code",
      "source": [
        "!gcloud projects list"
      ],
      "metadata": {
        "id": "GrOKSdUVTQgZ",
        "outputId": "60c4a7b0-cd26-491a-b791-4c99dd5ee966",
        "colab": {
          "base_uri": "https://localhost:8080/"
        }
      },
      "execution_count": 69,
      "outputs": [
        {
          "output_type": "stream",
          "name": "stdout",
          "text": [
            "PROJECT_ID                  NAME              PROJECT_NUMBER\n",
            "agent-rag-451702            agent-rag-451702  644240883738\n",
            "gen-lang-client-0521448746  Gemini API        672065512482\n",
            "mekarsa                     mekarsa           1006687429524\n",
            "windsight                   windsight         155402211297\n"
          ]
        }
      ]
    },
    {
      "cell_type": "code",
      "execution_count": 68,
      "metadata": {
        "id": "51uVWpN7S54C"
      },
      "outputs": [],
      "source": [
        "import requests\n",
        "from typing import Optional, List\n",
        "from IPython.display import display, Markdown\n",
        "\n",
        "from langchain.agents.format_scratchpad import format_to_openai_function_messages\n",
        "from langchain.tools.retriever import create_retriever_tool\n",
        "from langchain.pydantic_v1 import BaseModel, Field\n",
        "from langchain.tools import StructuredTool\n",
        "from langchain.memory import ChatMessageHistory\n",
        "from langchain_community.chat_message_histories import ChatMessageHistory\n",
        "from langchain_google_cloud_sql_pg import PostgresChatMessageHistory\n",
        "from langchain_core.chat_history import BaseChatMessageHistory\n",
        "\n",
        "from langchain.prompts import (\n",
        "    ChatPromptTemplate,\n",
        "    HumanMessagePromptTemplate,\n",
        "    MessagesPlaceholder,\n",
        "    SystemMessagePromptTemplate,\n",
        ")\n",
        "\n",
        "from langchain_google_cloud_sql_pg import (\n",
        "    PostgresEngine,\n",
        "    PostgresVectorStore,\n",
        ")\n",
        "\n",
        "from vertexai.preview import reasoning_engines\n",
        "from langchain_google_vertexai import VertexAIEmbeddings\n",
        "from langchain_google_vertexai import HarmBlockThreshold, HarmCategory"
      ]
    },
    {
      "cell_type": "code",
      "execution_count": 70,
      "metadata": {
        "colab": {
          "base_uri": "https://localhost:8080/"
        },
        "id": "1f-18zO9S54C",
        "outputId": "ec2bcd64-55d9-431c-8303-00beb26744a0"
      },
      "outputs": [
        {
          "output_type": "stream",
          "name": "stdout",
          "text": [
            "Updated property [core/project].\n",
            "Database Host: 35.239.247.104\n"
          ]
        }
      ],
      "source": [
        "project_id = \"agent-rag-451702\"  # @param {type:\"string\"}\n",
        "region = \"us-central1\" #change this to project location\n",
        "# staging_bucket_name = \"devfest24-demo-bucket\"  # @param {type:\"string\"}\n",
        "instance_name=\"mkrs-demo\" # @param {type:\"string\"}\n",
        "database_password = 'testing' # @param {type:\"string\"}\n",
        "database_name = 'testing' # @param {type:\"string\"}\n",
        "database_user = 'testing' # @param {type:\"string\"}\n",
        "\n",
        "assert database_name, \"⚠️ Please provide a database name\"\n",
        "assert database_user, \"⚠️ Please provide a database user\"\n",
        "assert database_password, \"⚠️ Please provide a database password\"\n",
        "\n",
        "# dont update variable below\n",
        "!gcloud config set project {project_id} --quiet\n",
        "\n",
        "# get the ip address of the cloudsql instance\n",
        "ip_addresses = !gcloud sql instances describe {instance_name} --format=\"value(ipAddresses[0].ipAddress)\"\n",
        "database_host = ip_addresses[0]\n",
        "\n",
        "gemini_embedding_model = \"text-embedding-004\"\n",
        "gemini_llm_model = \"gemini-1.5-pro-001\"\n",
        "embeddings_table_name = \"course_content_embeddings\"\n",
        "chat_history_table_name = \"tax_histories\"\n",
        "\n",
        "# print(f\"API Base URL: {api_base_url}\")\n",
        "print(f\"Database Host: {database_host}\")"
      ]
    },
    {
      "cell_type": "markdown",
      "metadata": {
        "id": "-PXyKxM8S54D"
      },
      "source": [
        "### Initializing vertex ai"
      ]
    },
    {
      "cell_type": "code",
      "execution_count": 71,
      "metadata": {
        "id": "0Cxup0I_S54D"
      },
      "outputs": [],
      "source": [
        "import vertexai\n",
        "vertexai.init(project=project_id, location=region)"
      ]
    },
    {
      "cell_type": "markdown",
      "metadata": {
        "id": "BM3zuuETS54D"
      },
      "source": [
        "### Agent Code\n",
        "\n",
        "This section below define a few classes that we have tried from the previous notebook.\n",
        "\n",
        "The main focus here should be `CourseAgent` where we setup all dependencies required by the agent"
      ]
    },
    {
      "cell_type": "code",
      "source": [
        "import psycopg2\n",
        "import json\n",
        "\n",
        "class CourseAPIClient:\n",
        "    def __init__(self, db_config):\n",
        "        \"\"\"\n",
        "        db_config: dictionary dengan keys: host, port, dbname, user, password\n",
        "        \"\"\"\n",
        "        self.db_config = db_config\n",
        "        self.conn = psycopg2.connect(**db_config)\n",
        "        self.cur = self.conn.cursor()\n",
        "\n",
        "    def list_tax(self):\n",
        "        \"\"\"Mengambil daftar kursus dari database\"\"\"\n",
        "        query = \"\"\"SELECT\n",
        "          kode_rekening,\n",
        "          target_realita,\n",
        "          totrealisasi_after,\n",
        "          persentaget_all,\n",
        "          nama_rek\n",
        "        select * from fact_pendapatan_daerah fpd\n",
        "join dim_rekening dr\n",
        "on fpd.kode_rekening = dr.kode_rekening\n",
        "        FROM courses;\"\"\"\n",
        "        self.cur.execute(query)\n",
        "        courses = self.cur.fetchall()\n",
        "        self.close_connection()\n",
        "\n",
        "        result = [{\"id\": c[0], \"name\": c[1], \"description\": c[2], \"price\": c[3]} for c in courses]\n",
        "        return json.dumps(result)\n",
        "\n",
        "    def get_course(self, course_name):\n",
        "        \"\"\"Mengambil detail kursus berdasarkan nama\"\"\"\n",
        "        query = \"SELECT id, name, description, price FROM courses WHERE name = %s;\"\n",
        "        self.cur.execute(query, (course_name,))\n",
        "        course = self.cur.fetchone()\n",
        "\n",
        "        if course:\n",
        "            result = {\"id\": course[0], \"name\": course[1], \"description\": course[2], \"price\": course[3]}\n",
        "            return json.dumps(result)\n",
        "        return json.dumps({\"error\": \"Course not found\"})\n",
        "\n",
        "    def create_order(self, course, user_name, user_email):\n",
        "        \"\"\"Membuat pesanan untuk kursus\"\"\"\n",
        "        query = \"\"\"\n",
        "        INSERT INTO orders (course_id, user_name, user_email, status)\n",
        "        VALUES ((SELECT id FROM courses WHERE name = %s), %s, %s, 'pending')\n",
        "        RETURNING id;\n",
        "        \"\"\"\n",
        "        self.cur.execute(query, (course, user_name, user_email))\n",
        "        order_id = self.cur.fetchone()[0]\n",
        "        self.conn.commit()\n",
        "\n",
        "        return json.dumps({\"order_id\": order_id, \"message\": \"Order created successfully\"})\n",
        "\n",
        "    def get_order(self, order_id):\n",
        "        \"\"\"Mengambil detail pesanan berdasarkan order_id\"\"\"\n",
        "        query = \"SELECT id, course_id, user_name, user_email, status FROM orders WHERE id = %s;\"\n",
        "        self.cur.execute(query, (order_id,))\n",
        "        order = self.cur.fetchone()\n",
        "\n",
        "        if order:\n",
        "            result = {\n",
        "                \"order_id\": order[0],\n",
        "                \"course_id\": order[1],\n",
        "                \"user_name\": order[2],\n",
        "                \"user_email\": order[3],\n",
        "                \"status\": order[4]\n",
        "            }\n",
        "            return json.dumps(result)\n",
        "        return json.dumps({\"error\": \"Order not found\"})\n",
        "\n",
        "    def pay_order(self, order_id):\n",
        "        \"\"\"Mengubah status pesanan menjadi 'paid'\"\"\"\n",
        "        query = \"UPDATE orders SET status = 'paid' WHERE id = %s RETURNING id;\"\n",
        "        self.cur.execute(query, (order_id,))\n",
        "        updated_order = self.cur.fetchone()\n",
        "\n",
        "        if updated_order:\n",
        "            self.conn.commit()\n",
        "            return json.dumps({\"order_id\": order_id, \"message\": \"Order paid successfully\"})\n",
        "        return json.dumps({\"error\": \"Order not found\"})\n",
        "\n",
        "    def get_payment_page_url(self, order_id):\n",
        "        \"\"\"Mengembalikan URL pembayaran (dummy)\"\"\"\n",
        "        return json.dumps({\"payment_url\": f\"https://payment.example.com/orders/{order_id}\"})\n",
        "\n",
        "    def close_connection(self):\n",
        "        \"\"\"Menutup koneksi ke database\"\"\"\n",
        "        self.cur.close()\n",
        "        self.conn.close()\n"
      ],
      "metadata": {
        "id": "iMa95VgsUB6c"
      },
      "execution_count": null,
      "outputs": []
    },
    {
      "cell_type": "code",
      "execution_count": null,
      "metadata": {
        "id": "hpMPVVqQS54E"
      },
      "outputs": [],
      "source": [
        "\n",
        "class GetCourseInput(BaseModel):\n",
        "    course: str = Field(description=\"name of the course. this is the unique identifier of the course. it typically contains the course title with dashes, all in lowercase.\")\n",
        "\n",
        "class GetOrderInput(BaseModel):\n",
        "    order_number: str = Field(description=\"order number identifier. this is a unique identifier in uuid format.\")\n",
        "\n",
        "class CreateOrderInput(BaseModel):\n",
        "    course: str = Field(description=\"name of the course. this is the unique identifier of the course. it typically contains the course title with dashes, all in lowercase.\")\n",
        "    user_name: str = Field(description=\"name of the user who is purchasing the course .\")\n",
        "    user_email: str = Field(description=\"email of the user who is purchasing the course.\")\n",
        "\n",
        "class CourseAgent(reasoning_engines.Queryable):\n",
        "    def __init__(\n",
        "        self,\n",
        "        model: str,\n",
        "        project: str,\n",
        "        region: str,\n",
        "        instance: str,\n",
        "        database: str,\n",
        "        table: str,\n",
        "        user: Optional[str] = None,\n",
        "        password: Optional[str] = None,\n",
        "\n",
        "    ):\n",
        "        self.model_name = model\n",
        "        self.project = project\n",
        "        self.region = region\n",
        "        self.instance = instance\n",
        "        self.database = database\n",
        "        self.table = table\n",
        "        self.user = user\n",
        "        self.password = password\n",
        "        self.store = {}\n",
        "        self.agent = None\n",
        "        self.retriever = None\n",
        "        self.engine = None\n",
        "\n",
        "    def __getstate__(self):\n",
        "        \"\"\"Custom method for pickling the object.\"\"\"\n",
        "        state = self.__dict__.copy()\n",
        "        # Remove the unpicklable entries\n",
        "        del state['agent']\n",
        "        del state['retriever']\n",
        "        del state['engine']\n",
        "        return state\n",
        "\n",
        "    def __setstate__(self, state):\n",
        "        \"\"\"Custom method for unpickling the object.\"\"\"\n",
        "        self.__dict__.update(state)\n",
        "        self.agent = None\n",
        "        self.retriever = None\n",
        "        self.engine = None\n",
        "        # Note: set_up() will need to be called after unpickling\n",
        "\n",
        "\n",
        "    def list_courses(self) -> List[str]:\n",
        "        \"\"\"List all available courses sold on the platform.\"\"\"\n",
        "        client = CourseAPIClient()\n",
        "        return client.list_courses()\n",
        "\n",
        "    def create_order(self, course: str, user_name: str, user_email: str) -> str:\n",
        "        \"\"\"Create order for a course. This function can be used to create an order for a course. When this function returns successfully, it will return payment url to user to make payment. \"\"\"\n",
        "        client = CourseAPIClient()\n",
        "        print(f\"Creating order for course: {course}, user_name: {user_name}, user_email: {user_email}\")\n",
        "\n",
        "        res = client.create_order(course, user_name, user_email)\n",
        "        print(res)\n",
        "        order_id = res[\"order_id\"]\n",
        "        payment_url = f\"{api_base_url}/orders/{order_id}/payment\"\n",
        "        return f\"Order number {order_id} created successfully. Payment URL: {payment_url}\"\n",
        "\n",
        "    def get_course(self, course: str) -> str:\n",
        "        \"\"\"Get course details by course name. course name is the unique identifier of the course. it typically contains the course title with dashes.\n",
        "        This function can be used to get course details such as course price, etc.\"\"\"\n",
        "        client = CourseAPIClient()\n",
        "        return client.get_course(course)\n",
        "\n",
        "    def get_order(self, order_number: str) -> str:\n",
        "        \"\"\"Get order by using order number. This function can be used to get order details such as payment status to check whether the order has been paid or not. If user already paid the course, say thanks\"\"\"\n",
        "        client = CourseAPIClient()\n",
        "        return client.get_order(order_number)\n",
        "\n",
        "    def search_course_content(self, query: str) -> str:\n",
        "        \"\"\"Explain about software security course materials.\"\"\"\n",
        "        result = str(self.retriever.invoke(query))\n",
        "        return result\n",
        "\n",
        "    def get_session_history(self, session_id: str) -> BaseChatMessageHistory:\n",
        "        return PostgresChatMessageHistory.create_sync(\n",
        "            self.engine,\n",
        "            table_name=chat_history_table_name,\n",
        "            session_id=session_id,\n",
        "        )\n",
        "\n",
        "    def set_up(self):\n",
        "        \"\"\"All unpickle-able logic should go here.\n",
        "        In general, add any logic that requires a network or database\n",
        "        connection.\n",
        "        \"\"\"\n",
        "\n",
        "        #  we must initialize the Vertex AI client to use the right project and location\n",
        "        # otherwise, when the agent is initialized in reasoning engine, it will use reasoning engine project\n",
        "        vertexai.init(project=self.project, location=self.region)\n",
        "\n",
        "        # Initialize the vector store\n",
        "        self.engine = PostgresEngine.from_instance(\n",
        "            self.project,\n",
        "            self.region,\n",
        "            self.instance,\n",
        "            self.database,\n",
        "            user=self.user,\n",
        "            password=self.password,\n",
        "            quota_project=self.project,\n",
        "        )\n",
        "\n",
        "        embeddings_service = VertexAIEmbeddings(model_name=gemini_embedding_model,\n",
        "                                                project=self.project)\n",
        "\n",
        "        vector_store = PostgresVectorStore.create_sync(\n",
        "            self.engine,\n",
        "            table_name=self.table,\n",
        "            embedding_service=embeddings_service,\n",
        "        )\n",
        "        self.retriever = vector_store.as_retriever(search_kwargs={\"k\": 10})\n",
        "\n",
        "        search_course_content = StructuredTool.from_function(\n",
        "            func=self.search_course_content,\n",
        "            name=\"search_course_content\",\n",
        "            description=\"Explain about software security course materials.\",\n",
        "        )\n",
        "\n",
        "        list_courses = StructuredTool.from_function(\n",
        "            func=self.list_courses,\n",
        "            name=\"list_courses\",\n",
        "            description=\"List all available courses sold on the platform.\",\n",
        "        )\n",
        "\n",
        "        get_course = StructuredTool.from_function(\n",
        "            func=self.get_course,\n",
        "            name=\"get-course-tool\",\n",
        "            description=\"\"\"Get course details by course name. course name is the unique identifier of the course. it typically contains the course title with dashes.\n",
        "        This function can be used to get course details such as course price, etc.\"\"\",\n",
        "            args_schema=GetCourseInput,\n",
        "        )\n",
        "\n",
        "        create_order = StructuredTool.from_function(\n",
        "            func=self.create_order,\n",
        "            name=\"create-order-tool\",\n",
        "            description=\"\"\"Create order for a course. This function can be used to create an order for a course. When this function returns successfully, it will return payment url to user to make payment.\"\"\",\n",
        "            args_schema=CreateOrderInput,\n",
        "        )\n",
        "\n",
        "        get_order = StructuredTool.from_function(\n",
        "            func=self.get_order,\n",
        "            name=\"get-order-tool\",\n",
        "            description=\"\"\"Get order by using order number. This function can be used to get order details such as payment status to check whether the order has been paid or not. If user already paid the course, say thanks\"\"\",\n",
        "            args_schema=GetOrderInput,\n",
        "        )\n",
        "\n",
        "        tools = [search_course_content, list_courses, get_course, create_order, get_order]\n",
        "\n",
        "        # Initialize the LLM and prompt\n",
        "        prompt = {\n",
        "            \"chat_history\": lambda x: x[\"history\"],\n",
        "            \"input\": lambda x: x[\"input\"],\n",
        "            \"agent_scratchpad\": (\n",
        "                lambda x: format_to_openai_function_messages(x[\"intermediate_steps\"])\n",
        "            ),\n",
        "        } | ChatPromptTemplate(\n",
        "            messages = [\n",
        "                SystemMessagePromptTemplate.from_template(\"\"\"\n",
        "                You are a bot assistant that sells online course about software security. You only use information provided from datastore or tools. You can provide the information that is relevant to the user's question or the summary of the content. If they ask about the content, you can give them more detail about the content. If the user seems interested, you may suggest the user to enroll in the course.\n",
        "                \"\"\"),\n",
        "                MessagesPlaceholder(variable_name=\"chat_history\", optional=True),\n",
        "                HumanMessagePromptTemplate.from_template(\"Use tools to answer this questions: {input}\"),\n",
        "                MessagesPlaceholder(variable_name=\"agent_scratchpad\"),\n",
        "            ]\n",
        "        )\n",
        "\n",
        "        safety_settings = {\n",
        "            HarmCategory.HARM_CATEGORY_UNSPECIFIED: HarmBlockThreshold.BLOCK_ONLY_HIGH,\n",
        "            HarmCategory.HARM_CATEGORY_SEXUALLY_EXPLICIT: HarmBlockThreshold.BLOCK_ONLY_HIGH,\n",
        "            HarmCategory.HARM_CATEGORY_HARASSMENT: HarmBlockThreshold.BLOCK_ONLY_HIGH,\n",
        "            HarmCategory.HARM_CATEGORY_DANGEROUS_CONTENT: HarmBlockThreshold.BLOCK_ONLY_HIGH,\n",
        "            HarmCategory.HARM_CATEGORY_HATE_SPEECH: HarmBlockThreshold.BLOCK_ONLY_HIGH,\n",
        "        }\n",
        "\n",
        "        ## Model parameters\n",
        "        model_kwargs = {\n",
        "            \"temperature\": 0.5,\n",
        "            \"safety_settings\": safety_settings,\n",
        "        }\n",
        "\n",
        "        self.agent = reasoning_engines.LangchainAgent(\n",
        "            model=self.model_name,\n",
        "            tools=tools,\n",
        "            prompt=prompt,\n",
        "            chat_history=self.get_session_history,\n",
        "            agent_executor_kwargs={\n",
        "                \"return_intermediate_steps\": True,\n",
        "            },\n",
        "            model_kwargs=model_kwargs,\n",
        "            enable_tracing=True,\n",
        "        )\n",
        "        print(\"agent is configured\")\n",
        "\n",
        "\n",
        "    def query(self, input: str, session_id: str) -> str:\n",
        "        \"\"\"Query the application.\n",
        "\n",
        "        Args:\n",
        "            input: The user query.\n",
        "            session_id: The user's session id.\n",
        "\n",
        "        Returns:\n",
        "            The LLM response dictionary.\n",
        "        \"\"\"\n",
        "\n",
        "        response = self.agent.query(\n",
        "            input=input,\n",
        "            config={\"configurable\": {\"session_id\": session_id}},\n",
        "        )\n",
        "        return response"
      ]
    },
    {
      "cell_type": "markdown",
      "metadata": {
        "id": "ArS3bZo2S54E"
      },
      "source": [
        "### Instantiating the agent"
      ]
    },
    {
      "cell_type": "code",
      "execution_count": null,
      "metadata": {
        "id": "Q8b5X6xKS54F"
      },
      "outputs": [],
      "source": [
        "agent = CourseAgent(\n",
        "    model=gemini_llm_model,\n",
        "    project=project_id,\n",
        "    region=region,\n",
        "    instance=instance_name,\n",
        "    database=database_name,\n",
        "    table=embeddings_table_name,\n",
        "    user=database_user,\n",
        "    password=database_password,\n",
        ")\n",
        "agent.set_up()"
      ]
    },
    {
      "cell_type": "markdown",
      "metadata": {
        "id": "78fbwTCqS54F"
      },
      "source": [
        "### Testing agent (again) locally"
      ]
    },
    {
      "cell_type": "code",
      "execution_count": null,
      "metadata": {
        "id": "TRdyJGXMS54F"
      },
      "outputs": [],
      "source": [
        "import uuid\n",
        "\n",
        "# Generate a UUID for the session ID\n",
        "session_id = str(uuid.uuid4())\n",
        "print(f\"Generated session ID: {session_id}\")"
      ]
    },
    {
      "cell_type": "code",
      "execution_count": null,
      "metadata": {
        "id": "sx2kwC_nS54F"
      },
      "outputs": [],
      "source": [
        "res = agent.query(\n",
        "    input=\"Can you please share what are taught on this course?\",\n",
        "    session_id=session_id)\n",
        "\n",
        "display(Markdown(res[\"output\"]))"
      ]
    },
    {
      "cell_type": "code",
      "execution_count": null,
      "metadata": {
        "id": "Q0UU-kvGS54G"
      },
      "outputs": [],
      "source": [
        "response = agent.query(\n",
        "    input=\"Does it teach about how to design a forgot password system securely?\",\n",
        "    session_id=session_id)\n",
        "display(Markdown(response[\"output\"]))"
      ]
    },
    {
      "cell_type": "code",
      "execution_count": null,
      "metadata": {
        "id": "ZD-_s_UkS54G"
      },
      "outputs": [],
      "source": [
        "response = agent.query(\n",
        "    input=\"how much it costs?\",\n",
        "    session_id=session_id)\n",
        "display(Markdown(response[\"output\"]))"
      ]
    },
    {
      "cell_type": "code",
      "execution_count": null,
      "metadata": {
        "id": "mEl-FAN_S54G"
      },
      "outputs": [],
      "source": [
        "response = agent.query(\n",
        "    input=\"I want to order. name is mulyono, email is fufufafa@gmail.com\",\n",
        "    session_id=session_id)\n",
        "display(Markdown(response[\"output\"]))"
      ]
    },
    {
      "cell_type": "code",
      "execution_count": null,
      "metadata": {
        "id": "gdOBkUqDS54G"
      },
      "outputs": [],
      "source": [
        "response = agent.query(\n",
        "    input=\"I have made payment, can you please check my order status?\",\n",
        "    session_id=session_id)\n",
        "display(Markdown(response[\"output\"]))"
      ]
    },
    {
      "cell_type": "markdown",
      "metadata": {
        "id": "Xto3t6uzS54H"
      },
      "source": [
        "### Deploying the Agent on Vertex AI\n",
        "\n",
        "Before deploying the agent, we are going to grant excessive permissions for the agent first. Ideally, you should only grant the permissions that are required by the agent. But just to make sure that the agent is able to run without any issues, we are going to grant all the permissions for now. :p"
      ]
    },
    {
      "cell_type": "code",
      "execution_count": null,
      "metadata": {
        "id": "Ct4ET4CDS54H"
      },
      "outputs": [],
      "source": [
        "# Retrieve the project number associated with your project ID\n",
        "from googleapiclient import discovery\n",
        "service = discovery.build(\"cloudresourcemanager\", \"v1\")\n",
        "request = service.projects().get(projectId=project_id)\n",
        "response = request.execute()\n",
        "project_number = response[\"projectNumber\"]\n",
        "project_number"
      ]
    },
    {
      "cell_type": "code",
      "execution_count": null,
      "metadata": {
        "id": "67S7yF7fS54H"
      },
      "outputs": [],
      "source": [
        "!gcloud projects add-iam-policy-binding {project_id} \\\n",
        "    --member=serviceAccount:service-{project_number}@gcp-sa-aiplatform-re.iam.gserviceaccount.com \\\n",
        "    --role=\"roles/serviceusage.serviceUsageConsumer\"\n",
        "\n",
        "!gcloud projects add-iam-policy-binding {project_id} \\\n",
        "    --member=serviceAccount:service-{project_number}@gcp-sa-aiplatform-re.iam.gserviceaccount.com \\\n",
        "    --role=\"roles/discoveryengine.editor\"\n",
        "\n",
        "!gcloud projects add-iam-policy-binding {project_id} \\\n",
        "    --member=serviceAccount:service-{project_number}@gcp-sa-aiplatform-re.iam.gserviceaccount.com \\\n",
        "    --role=\"roles/cloudsql.admin\"\n",
        "\n",
        "!gcloud projects add-iam-policy-binding {project_id} \\\n",
        "    --member=serviceAccount:service-{project_number}@gcp-sa-aiplatform-re.iam.gserviceaccount.com \\\n",
        "    --role=\"roles/aiplatform.admin\"\n",
        "\n",
        "!gcloud projects add-iam-policy-binding {project_id} \\\n",
        "    --member=serviceAccount:service-{project_number}@gcp-sa-aiplatform-re.iam.gserviceaccount.com \\\n",
        "    --role=\"roles/aiplatform.user\""
      ]
    },
    {
      "cell_type": "markdown",
      "metadata": {
        "id": "uYtsIl6tS54H"
      },
      "source": [
        "#### Deploying to reasoning engine\n",
        "\n",
        "Deploying is as simple as calling `create()` method. We will provide the agent here and some dependencies required to run the agent."
      ]
    },
    {
      "cell_type": "code",
      "execution_count": null,
      "metadata": {
        "id": "uLfljEI1S54H"
      },
      "outputs": [],
      "source": [
        "remote_agent = reasoning_engines.ReasoningEngine.create(\n",
        "    agent,\n",
        "    requirements=[\n",
        "        \"google-cloud-aiplatform\",\n",
        "        \"google-cloud-aiplatform[langchain]\",\n",
        "        \"google-cloud-aiplatform[reasoningengine]\",\n",
        "        \"langchain\",\n",
        "        \"langchain_core\",\n",
        "        \"langchain_community\",\n",
        "        \"langchain-google-vertexai==2.0.8\",\n",
        "        \"cloudpickle\",\n",
        "        \"pydantic==2.9.2\",\n",
        "        \"langchain-google-community\",\n",
        "        \"google-cloud-discoveryengine\",\n",
        "        \"nest-asyncio\",\n",
        "        \"asyncio==3.4.3\",\n",
        "        \"asyncpg==0.29.0\",\n",
        "        \"cloud-sql-python-connector[asyncpg]\",\n",
        "        \"langchain-google-cloud-sql-pg\",\n",
        "        \"numpy\",\n",
        "        \"pandas\",\n",
        "        \"pgvector\",\n",
        "        \"psycopg2-binary\",\n",
        "        \"google-cloud-trace\"\n",
        "    ],\n",
        "    display_name=\"course-agent\",\n",
        "    sys_version=\"3.11\",\n",
        "\n",
        ")\n",
        "remote_agent\n",
        "\n",
        "# remote_agent = reasoning_engines.ReasoningEngine.create(\n",
        "#     agent,\n",
        "#     requirements=[\n",
        "#         \"google-cloud-aiplatform==1.73.0\",\n",
        "#         \"google-cloud-aiplatform[langchain]\",\n",
        "#         \"google-cloud-aiplatform[reasoningengine]\",\n",
        "#         \"langchain==0.3.9\",\n",
        "#         \"langchain_core==0.3.21\",\n",
        "#         \"langchain_community==0.3.9\",\n",
        "#         \"langchain-google-vertexai==2.0.8\",\n",
        "#         \"cloudpickle==3.1.0\",\n",
        "#         \"pydantic==2.9.2\",\n",
        "#         \"langchain-google-community==2.0.3\",\n",
        "#         \"google-cloud-discoveryengine==0.13.4\",\n",
        "#         \"nest-asyncio==1.6.0\",\n",
        "#         \"asyncio==3.4.3\",\n",
        "#         \"asyncpg==0.29.0\",\n",
        "#         \"cloud-sql-python-connector[asyncpg]==1.13.0\",\n",
        "#         \"langchain-google-cloud-sql-pg==0.11.1\",\n",
        "#         \"numpy\",\n",
        "#         \"pandas\",\n",
        "#         \"pgvector\",\n",
        "#         \"psycopg2-binary\",\n",
        "#         \"google-cloud-trace==1.13.5\"\n",
        "#     ],\n",
        "#     display_name=\"course-agent\",\n",
        "#     sys_version=\"3.11\",\n",
        "\n",
        "# )\n",
        "# remote_agent"
      ]
    },
    {
      "cell_type": "markdown",
      "metadata": {
        "id": "Sr5aJfBqS54I"
      },
      "source": [
        "### Testing Remote Agent"
      ]
    },
    {
      "cell_type": "code",
      "execution_count": null,
      "metadata": {
        "id": "LoOij-F8S54I"
      },
      "outputs": [],
      "source": [
        "from vertexai.preview import reasoning_engines\n",
        "\n",
        "reasoning_engines.ReasoningEngine.list()\n",
        "# remote_agent = reasoning_engines.ReasoningEngine(\"projects/908311267620/locations/us-central1/reasoningEngines/7151100481752793088\")\n"
      ]
    },
    {
      "cell_type": "code",
      "execution_count": null,
      "metadata": {
        "id": "IrpavjjlS54I"
      },
      "outputs": [],
      "source": [
        "import uuid\n",
        "\n",
        "# Generate a UUID for the session ID\n",
        "session_id = str(uuid.uuid4())\n",
        "print(f\"Generated session ID: {session_id}\")"
      ]
    },
    {
      "cell_type": "code",
      "execution_count": null,
      "metadata": {
        "id": "NPzIXnmjS54I"
      },
      "outputs": [],
      "source": [
        "# Testing the remote agent\n",
        "response = remote_agent.query(\n",
        "  input=\"Can you please share what are being taught on this course\",\n",
        "  session_id=session_id,\n",
        ")\n",
        "display(Markdown(response[\"output\"]))"
      ]
    },
    {
      "cell_type": "code",
      "execution_count": null,
      "metadata": {
        "id": "sRv9q73QS54I"
      },
      "outputs": [],
      "source": [
        "# Testing the remote agent\n",
        "response = remote_agent.query(\n",
        "  input=\"Does it teach about how to design a forgot password system securely?\",\n",
        "  session_id=session_id,\n",
        ")\n",
        "display(Markdown(response[\"output\"]))"
      ]
    },
    {
      "cell_type": "code",
      "execution_count": null,
      "metadata": {
        "id": "z71I3V_ZS54I"
      },
      "outputs": [],
      "source": [
        "# Testing the remote agent\n",
        "response = remote_agent.query(\n",
        "  input=\"How much this course costs?\",\n",
        "  session_id=session_id,\n",
        ")\n",
        "display(Markdown(response[\"output\"]))"
      ]
    },
    {
      "cell_type": "code",
      "execution_count": null,
      "metadata": {
        "id": "DDMN7j4bS54J"
      },
      "outputs": [],
      "source": [
        "# Testing the remote agent\n",
        "response = remote_agent.query(\n",
        "  input=\"Yes. I want to enroll\",\n",
        "  session_id=session_id,\n",
        ")\n",
        "display(Markdown(response[\"output\"]))"
      ]
    },
    {
      "cell_type": "code",
      "execution_count": null,
      "metadata": {
        "id": "nb8E5LCbS54J"
      },
      "outputs": [],
      "source": [
        "# Testing the remote agent\n",
        "response = remote_agent.query(\n",
        "  input=\"Name is Mulyono and email is mulyono@gmail.com\",\n",
        "  session_id=session_id,\n",
        ")\n",
        "display(Markdown(response[\"output\"]))"
      ]
    },
    {
      "cell_type": "code",
      "execution_count": null,
      "metadata": {
        "id": "TqRTYqBkS54J"
      },
      "outputs": [],
      "source": [
        "# Testing the remote agent\n",
        "response = remote_agent.query(\n",
        "  input=\"I have made the payment. Can you please check?\",\n",
        "  session_id=session_id,\n",
        ")\n",
        "display(Markdown(response[\"output\"]))"
      ]
    }
  ],
  "metadata": {
    "kernelspec": {
      "display_name": "Python 3 (ipykernel)",
      "language": "python",
      "name": "python3"
    },
    "language_info": {
      "codemirror_mode": {
        "name": "ipython",
        "version": 3
      },
      "file_extension": ".py",
      "mimetype": "text/x-python",
      "name": "python",
      "nbconvert_exporter": "python",
      "pygments_lexer": "ipython3",
      "version": "3.10.14"
    },
    "colab": {
      "provenance": [],
      "include_colab_link": true
    }
  },
  "nbformat": 4,
  "nbformat_minor": 0
}