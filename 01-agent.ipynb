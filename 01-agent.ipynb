{
 "cells": [
  {
   "cell_type": "markdown",
   "metadata": {},
   "source": [
    "# Building agent prototype\n",
    "\n",
    "This notebook covers how we can do prototyping with ai agent. This agent will have capabilities:\n",
    "\n",
    "* To use postgres vector store we created earlier to get some information about the course.\n",
    "* To call API server we deployed earlier to get information about the courses (name, price, etc) and to make payment url."
   ]
  },
  {
   "cell_type": "markdown",
   "metadata": {},
   "source": [
    "## Required Software Installed Locally\n",
    "\n",
    "* Python version 3.9, 3.10, or 3.11. **Python3.12 will not work**.\n",
    "\n",
    "* If you are using VSCode, please install Jupyter Notebook extensions.\n",
    "\n",
    "* Jupyter notebook. Please follow this [installation guide](https://docs.jupyter.org/en/stable/install.html). You may choose whether you want to install classic jupyter notebook or jupyterlab (the next-gen web ui for jupyter)\n",
    "\n",
    "    * [Classic jupyter notebook installation guide](https://docs.jupyter.org/en/stable/install/notebook-classic.html)\n",
    "\n",
    "    * [Jupyterlab installation guide](https://jupyterlab.readthedocs.io/en/stable/getting_started/installation.html)\n",
    "\n",
    "* Google Cloud CLI. Please follow this [installation guide](https://cloud.google.com/sdk/docs/install-sdk)"
   ]
  },
  {
   "cell_type": "markdown",
   "metadata": {},
   "source": [
    "### Installing dependencies"
   ]
  },
  {
   "cell_type": "code",
   "execution_count": null,
   "metadata": {},
   "outputs": [],
   "source": [
    "%%writefile requirements.txt\n",
    "\n",
    "google-cloud-aiplatform\n",
    "google-cloud-aiplatform[langchain]\n",
    "google-cloud-aiplatform[reasoningengine]\n",
    "langchain\n",
    "langchain_core\n",
    "langchain_community\n",
    "langchain-google-vertexai==2.0.8\n",
    "cloudpickle\n",
    "pydantic==2.9.2\n",
    "langchain-google-community\n",
    "google-cloud-discoveryengine\n",
    "nest-asyncio\n",
    "asyncio==3.4.3\n",
    "asyncpg==0.29.0\n",
    "cloud-sql-python-connector[asyncpg]\n",
    "langchain-google-cloud-sql-pg\n",
    "numpy\n",
    "pandas\n",
    "pgvector\n",
    "psycopg2-binary\n",
    "langchain-openai\n",
    "langgraph\n",
    "traceloop-sdk\n",
    "opentelemetry-instrumentation-google-generativeai\n",
    "opentelemetry-instrumentation-langchain\n",
    "opentelemetry-instrumentation-vertexai\n",
    "python-dotenv"
   ]
  },
  {
   "cell_type": "code",
   "execution_count": null,
   "metadata": {},
   "outputs": [],
   "source": [
    "!pip install --upgrade -r requirements.txt"
   ]
  },
  {
   "cell_type": "markdown",
   "metadata": {},
   "source": [
    "## Setting up Google Cloud Account"
   ]
  },
  {
   "cell_type": "markdown",
   "metadata": {},
   "source": [
    "#### Recommended account setup\n",
    "\n",
    "if you are running this in jupyter notebook locally, you may need to login to google cloud by running the following command from terminal:\n",
    "\n",
    "```\n",
    "gcloud auth login\n",
    "gcloud auth application-default login\n",
    "```"
   ]
  },
  {
   "cell_type": "markdown",
   "metadata": {},
   "source": [
    "If you are using Google Colabs, you need to authenticate with your google account by running the following notebook cell. \n",
    "\n",
    "> Please remember that you will need to do this on each jupyter notebook during this workshop"
   ]
  },
  {
   "cell_type": "code",
   "execution_count": null,
   "metadata": {},
   "outputs": [],
   "source": [
    "# #@markdown ###Authenticate your Google Cloud Account and enable APIs.\n",
    "# # Authenticate gcloud.\n",
    "from google.colab import auth\n",
    "auth.authenticate_user()"
   ]
  },
  {
   "cell_type": "markdown",
   "metadata": {},
   "source": [
    "Let's start with importhing few stuff:"
   ]
  },
  {
   "cell_type": "code",
   "execution_count": null,
   "metadata": {},
   "outputs": [],
   "source": [
    "from IPython.display import display, Markdown\n",
    "\n",
    "from langchain.agents.format_scratchpad import format_to_openai_function_messages\n",
    "from langchain.agents import tool\n",
    "from langchain.pydantic_v1 import BaseModel, Field\n",
    "\n",
    "from langchain.memory import ChatMessageHistory\n",
    "from langchain_community.chat_message_histories import ChatMessageHistory\n",
    "from langchain_core.chat_history import BaseChatMessageHistory\n",
    "\n",
    "from langchain.prompts import (\n",
    "    ChatPromptTemplate,\n",
    "    HumanMessagePromptTemplate,\n",
    "    MessagesPlaceholder,\n",
    "    SystemMessagePromptTemplate,\n",
    ")\n",
    "\n",
    "import pandas as pd\n",
    "from vertexai.preview import reasoning_engines\n",
    "from langchain_google_vertexai import HarmBlockThreshold, HarmCategory\n",
    "import requests"
   ]
  },
  {
   "cell_type": "markdown",
   "metadata": {},
   "source": [
    "Let's define some variable. Please update these following variables according to your setup:\n",
    "* `project_id`\n",
    "* `region`\n",
    "* `staging_bucket_name`\n",
    "* `instance_name`, `database_password`, `database_name`, `database_user`"
   ]
  },
  {
   "cell_type": "code",
   "execution_count": null,
   "metadata": {},
   "outputs": [],
   "source": [
    "project_id = \"imrenagi-devfest-2024\"  # @param {type:\"string\"}\n",
    "region = \"us-central1\" #change this to project location\n",
    "staging_bucket_name = \"devfest24-demo-bucket\" # @param {type:\"string\"} #change this with your staging bucket name\n",
    "instance_name=\"devfest24-demo\" # @param {type:\"string\"}\n",
    "database_password = 'testing' # @param {type:\"string\"}\n",
    "database_name = 'testing' # @param {type:\"string\"}\n",
    "database_user = 'testing' # @param {type:\"string\"}\n",
    "\n",
    "assert database_name, \"⚠️ Please provide a database name\"\n",
    "assert database_user, \"⚠️ Please provide a database user\"\n",
    "assert database_password, \"⚠️ Please provide a database password\"\n",
    "\n",
    "# dont update variable below\n",
    "\n",
    "!gcloud config set project {project_id} --quiet\n",
    "\n",
    "cloudrun_services = !gcloud run services describe courses-api --region=us-central1 --format='value(status.url)'\n",
    "api_base_url = cloudrun_services[0]\n",
    "\n",
    "staging_bucket_uri = f\"gs://{staging_bucket_name}\"\n",
    "# get the ip address of the cloudsql instance\n",
    "ip_addresses = !gcloud sql instances describe {instance_name} --format=\"value(ipAddresses[0].ipAddress)\"\n",
    "database_host = ip_addresses[0]\n",
    "\n",
    "gemini_embedding_model = \"text-embedding-004\"\n",
    "gemini_llm_model = \"gemini-1.5-pro\"\n",
    "embeddings_table_name = \"course_content_embeddings\"\n",
    "chat_history_table_name = \"chat_histories\"\n",
    "\n",
    "print(f\"API Base URL: {api_base_url}\")\n",
    "print(f\"Database Host: {database_host}\")"
   ]
  },
  {
   "cell_type": "markdown",
   "metadata": {},
   "source": [
    "Let's initialize vertex ai, postgres engine and vector store. This is very similar to the previous module. But instead of using this directly, we are going to use it in Langchain Tool to add capability to the agent:"
   ]
  },
  {
   "cell_type": "code",
   "execution_count": 3,
   "metadata": {},
   "outputs": [],
   "source": [
    "import vertexai\n",
    "vertexai.init(project=project_id, location=region, staging_bucket=staging_bucket_uri)\n",
    "\n",
    "from langchain_google_vertexai import VertexAIEmbeddings\n",
    "embeddings_service = VertexAIEmbeddings(model_name=gemini_embedding_model)\n",
    "\n",
    "from langchain_google_cloud_sql_pg import PostgresEngine\n",
    "\n",
    "pg_engine = PostgresEngine.from_instance(\n",
    "    project_id=project_id,\n",
    "    instance=instance_name,\n",
    "    region=region,\n",
    "    database=database_name,\n",
    "    user=database_password,\n",
    "    password=database_password,\n",
    ")\n",
    "\n",
    "from langchain_google_vertexai import VertexAIEmbeddings\n",
    "from langchain_google_cloud_sql_pg import PostgresVectorStore\n",
    "\n",
    "sample_vector_table_name = \"course_content_embeddings\"\n",
    "\n",
    "vector_store = PostgresVectorStore.create_sync(\n",
    "            pg_engine,\n",
    "            table_name=embeddings_table_name,\n",
    "            embedding_service=embeddings_service,\n",
    "        )\n",
    "retriever = vector_store.as_retriever(search_kwargs={\"k\": 10})"
   ]
  },
  {
   "cell_type": "markdown",
   "metadata": {},
   "source": [
    "## Langchain Tool"
   ]
  },
  {
   "cell_type": "markdown",
   "metadata": {},
   "source": [
    "### Search course tool with Postgres Vector Store\n",
    "\n",
    "This is the first tool that we will create. It is used to search content from the database given a user query.\n",
    "\n",
    "If you see internally, it only call `retriever.invoke()` and return the value. The other important thing is the description of the function. Thats how the agent knows when it needs to use this tool"
   ]
  },
  {
   "cell_type": "code",
   "execution_count": 4,
   "metadata": {},
   "outputs": [],
   "source": [
    "@tool\n",
    "def search_course_content(query: str) -> str:\n",
    "    \"\"\"Explain about software security course materials.\"\"\"\n",
    "    result = str(retriever.invoke(query))\n",
    "    return result"
   ]
  },
  {
   "cell_type": "code",
   "execution_count": null,
   "metadata": {},
   "outputs": [],
   "source": [
    "search_course_content.invoke(\"best practices for forgot password\") "
   ]
  },
  {
   "cell_type": "markdown",
   "metadata": {},
   "source": [
    "### Creating tool which calls API\n",
    "\n",
    "Now we define a simple python api client which will call the api we deployed earlier to cloud run."
   ]
  },
  {
   "cell_type": "code",
   "execution_count": 6,
   "metadata": {},
   "outputs": [],
   "source": [
    "class CourseAPIClient:\n",
    "  def __init__(self, url=api_base_url):\n",
    "    self.url = url\n",
    "    \n",
    "  def list_courses(self):\n",
    "      response = requests.get(f\"{self.url}/courses\")\n",
    "      return response.json()\n",
    "\n",
    "  def get_course(self, course_name):\n",
    "      response = requests.get(f\"{self.url}/courses/{course_name}\")\n",
    "      return response.json()\n",
    "\n",
    "  def create_order(self, course, user_name, user_email):\n",
    "      payload = {\n",
    "          \"course\": course,\n",
    "          \"user_name\": user_name,\n",
    "          \"user_email\": user_email\n",
    "      }\n",
    "      response = requests.post(f\"{self.url}/orders\", json=payload)\n",
    "      return response.json()\n",
    "\n",
    "  def get_order(self, order_id):\n",
    "      response = requests.get(f\"{self.url}/orders/{order_id}\")\n",
    "      return response.json()\n",
    "\n",
    "  def pay_order(self, order_id):\n",
    "      response = requests.post(f\"{self.url}/orders/{order_id}:pay\")\n",
    "      return response.json()\n",
    "\n",
    "  def get_payment_page_url(self, order_id):\n",
    "      return f\"{self.url}/orders/{order_id}/payment\""
   ]
  },
  {
   "cell_type": "markdown",
   "metadata": {},
   "source": [
    "For each api, we will define the tools here and call the relevant api function. Please note the description as well."
   ]
  },
  {
   "cell_type": "code",
   "execution_count": 7,
   "metadata": {},
   "outputs": [],
   "source": [
    "from typing import List\n",
    "\n",
    "@tool\n",
    "def list_courses() -> List[str]:\n",
    "  \"\"\"List all available courses sold on the platform.\"\"\"\n",
    "  client = CourseAPIClient()\n",
    "  return client.list_courses()"
   ]
  },
  {
   "cell_type": "markdown",
   "metadata": {},
   "source": [
    "To help the agent decide what should be the input of the function, we can also define a input class and give proper description for the function and each input arguments"
   ]
  },
  {
   "cell_type": "code",
   "execution_count": 8,
   "metadata": {},
   "outputs": [],
   "source": [
    "class GetCourseInput(BaseModel):\n",
    "    course: str = Field(description=\"name of the course. this is the unique identifier of the course. it typically contains the course title with dashes, all in lowercase.\")\n",
    "\n",
    "@tool(\"get-course-tool\", args_schema=GetCourseInput)\n",
    "def get_course(course: str) -> str:\n",
    "  \"\"\"Get course details by course name. course name is the unique identifier of the course. it typically contains the course title with dashes.\n",
    "  This function can be used to get course details such as course price, etc.\"\"\"\n",
    "  client = CourseAPIClient()\n",
    "  return client.get_course(course)"
   ]
  },
  {
   "cell_type": "markdown",
   "metadata": {},
   "source": [
    "Here you may use multiple arguments and perform some computation within the function/tools. In this case, the tool is used to create the order and return the order id and link to make the payment"
   ]
  },
  {
   "cell_type": "code",
   "execution_count": 9,
   "metadata": {},
   "outputs": [],
   "source": [
    "class CreateOrderInput(BaseModel):\n",
    "    course: str = Field(description=\"name of the course. this is the unique identifier of the course. it typically contains the course title with dashes, all in lowercase.\")\n",
    "    user_name: str = Field(description=\"name of the user who is purchasing the course .\")\n",
    "    user_email: str = Field(description=\"email of the user who is purchasing the course.\")\n",
    "\n",
    "@tool(\"create-order-tool\", args_schema=CreateOrderInput)\n",
    "def create_order(course: str, user_name: str, user_email: str) -> str:\n",
    "  \"\"\"Create order for a course. This function can be used to create an order for a course. When this function returns successfully, it will return payment url to user to make payment. \"\"\"\n",
    "  client = CourseAPIClient()\n",
    "  \n",
    "  print(f\"Creating order for course: {course}, user_name: {user_name}, user_email: {user_email}\")\n",
    "  \n",
    "  res = client.create_order(course, user_name, user_email)\n",
    "  print(res)\n",
    "  order_id = res[\"order_id\"]\n",
    "  payment_url = f\"{api_base_url}/orders/{order_id}/payment\"\n",
    "  return f\"Order number {order_id} created successfully. Payment URL: {payment_url}\""
   ]
  },
  {
   "cell_type": "code",
   "execution_count": null,
   "metadata": {},
   "outputs": [],
   "source": [
    "create_order.invoke({\"course\":\"software-security\", \"user_name\":\"John Doe\", \"user_email\":\"imre@gmail.com\"}) "
   ]
  },
  {
   "cell_type": "code",
   "execution_count": 11,
   "metadata": {},
   "outputs": [],
   "source": [
    "class GetOrderInput(BaseModel):\n",
    "    order_number: str = Field(description=\"order number identifier. this is a unique identifier in uuid format.\")\n",
    "\n",
    "@tool(\"get-order-tool\", args_schema=GetOrderInput)\n",
    "def get_order(order_number: str) -> str:\n",
    "  \"\"\"Get order by using order number. This function can be used to get order details such as payment status to check whether the order has been paid or not. If user already paid the course, say thanks\"\"\"\n",
    "  client = CourseAPIClient()\n",
    "  return client.get_order(order_number)"
   ]
  },
  {
   "cell_type": "markdown",
   "metadata": {},
   "source": [
    "Once we have the tools ready, we are going to put them into an array which will be used later"
   ]
  },
  {
   "cell_type": "code",
   "execution_count": 12,
   "metadata": {},
   "outputs": [],
   "source": [
    "tools = [search_course_content, list_courses, get_course, create_order, get_order]"
   ]
  },
  {
   "cell_type": "markdown",
   "metadata": {},
   "source": [
    "### Prompt\n",
    "\n",
    "This is prompt that we are going to use. On the prompt below, we defined few things:\n",
    "* System context. This is used to tell who the bot is and what it should and shouldn't do.\n",
    "* Adding chat history. This is used so that the agent can keep the conversation relevant and stays within the same context.\n",
    "* User query. This is query or question directly given by the user\n",
    "* Agent scratchpad. This is internal data used by the agent to decide which tools to use."
   ]
  },
  {
   "cell_type": "code",
   "execution_count": 13,
   "metadata": {},
   "outputs": [],
   "source": [
    "prompt = {\n",
    "    \"chat_history\": lambda x: x[\"history\"],\n",
    "    \"input\": lambda x: x[\"input\"],\n",
    "    \"agent_scratchpad\": (\n",
    "        lambda x: format_to_openai_function_messages(x[\"intermediate_steps\"])\n",
    "    ),\n",
    "} | ChatPromptTemplate(\n",
    "  messages = [\n",
    "    SystemMessagePromptTemplate.from_template(\"\"\"\n",
    "      You are a bot assistant that sells online course about software security. You only use information provided from datastore or tools. You can provide the information that is relevant to the user's question or the summary of the content. If they ask about the content, you can give them more detail about the content. If the user seems interested, you may suggest the user to enroll in the course. \n",
    "      \"\"\"),\n",
    "    MessagesPlaceholder(variable_name=\"chat_history\", optional=True),\n",
    "    HumanMessagePromptTemplate.from_template(\"Use tools to answer this questions: {input}\"),\n",
    "    MessagesPlaceholder(variable_name=\"agent_scratchpad\"),\n",
    "  ]\n",
    ")"
   ]
  },
  {
   "cell_type": "markdown",
   "metadata": {},
   "source": [
    "### Message History\n",
    "\n",
    "To keep the conversation on context, we use chat history storage in PostgresSQL. This is used to store the conversation history between the user and the agent. This is used to keep the conversation relevant and to keep the context of the conversation."
   ]
  },
  {
   "cell_type": "code",
   "execution_count": 31,
   "metadata": {},
   "outputs": [],
   "source": [
    "from langchain_google_cloud_sql_pg import PostgresChatMessageHistory\n",
    "\n",
    "def get_session_history(session_id: str) -> BaseChatMessageHistory:\n",
    "    return PostgresChatMessageHistory.create_sync(\n",
    "        pg_engine,\n",
    "        table_name=chat_history_table_name,\n",
    "        session_id=session_id,\n",
    "    )"
   ]
  },
  {
   "cell_type": "markdown",
   "metadata": {},
   "source": [
    "### Defining Agent\n",
    "\n",
    "This is where we define configuration for the agent. \n",
    "\n",
    "Here we defined:\n",
    "* Safety settings for Gemini\n",
    "* Model parameter (e.g. temperature and safety settings)\n",
    "* Agent creation where we add the tools, promopt, model, session history, etc\n"
   ]
  },
  {
   "cell_type": "code",
   "execution_count": 32,
   "metadata": {},
   "outputs": [],
   "source": [
    "## Model safety settings\n",
    "safety_settings = {\n",
    "    HarmCategory.HARM_CATEGORY_UNSPECIFIED: HarmBlockThreshold.BLOCK_ONLY_HIGH,\n",
    "    HarmCategory.HARM_CATEGORY_SEXUALLY_EXPLICIT: HarmBlockThreshold.BLOCK_ONLY_HIGH,\n",
    "    HarmCategory.HARM_CATEGORY_HARASSMENT: HarmBlockThreshold.BLOCK_ONLY_HIGH,\n",
    "    HarmCategory.HARM_CATEGORY_DANGEROUS_CONTENT: HarmBlockThreshold.BLOCK_ONLY_HIGH,\n",
    "    HarmCategory.HARM_CATEGORY_HATE_SPEECH: HarmBlockThreshold.BLOCK_ONLY_HIGH,\n",
    "}\n",
    "\n",
    "## Model parameters\n",
    "model_kwargs = {\n",
    "    \"temperature\": 0.5,\n",
    "    \"safety_settings\": safety_settings,\n",
    "}\n",
    "\n",
    "agent = reasoning_engines.LangchainAgent(\n",
    "    model=gemini_llm_model,\n",
    "    tools=tools,\n",
    "    prompt=prompt,    \n",
    "    chat_history=get_session_history,\n",
    "    agent_executor_kwargs={\n",
    "      \"return_intermediate_steps\": True,\n",
    "    },\n",
    "    model_kwargs=model_kwargs,\n",
    "    enable_tracing=True,\n",
    ")"
   ]
  },
  {
   "cell_type": "markdown",
   "metadata": {},
   "source": [
    "### Testing the agent"
   ]
  },
  {
   "cell_type": "code",
   "execution_count": null,
   "metadata": {},
   "outputs": [],
   "source": [
    "import uuid\n",
    "\n",
    "# Generate a UUID for the session ID\n",
    "session_id = str(uuid.uuid4())\n",
    "print(f\"Generated session ID: {session_id}\")"
   ]
  },
  {
   "cell_type": "code",
   "execution_count": null,
   "metadata": {},
   "outputs": [],
   "source": [
    "response = agent.query(\n",
    "  input=\"Can you please share what are being taught on this course?\",\n",
    "  config={\"configurable\": {\"session_id\": session_id}},\n",
    ")\n",
    "display(Markdown(response[\"output\"]))"
   ]
  },
  {
   "cell_type": "code",
   "execution_count": null,
   "metadata": {},
   "outputs": [],
   "source": [
    "response = agent.query(\n",
    "  input=\"Does it teach about how to design a forgot password system securely?\",\n",
    "  config={\"configurable\": {\"session_id\": session_id}},\n",
    ")\n",
    "display(Markdown(response[\"output\"]))"
   ]
  },
  {
   "cell_type": "code",
   "execution_count": null,
   "metadata": {},
   "outputs": [],
   "source": [
    "response = agent.query(\n",
    "  input=\"How much this course costs?\",\n",
    "  config={\"configurable\": {\"session_id\": session_id}},\n",
    ")\n",
    "display(Markdown(response[\"output\"]))"
   ]
  },
  {
   "cell_type": "code",
   "execution_count": null,
   "metadata": {},
   "outputs": [],
   "source": [
    "response = agent.query(\n",
    "  input=\"Yes. I want to enroll. What information do you need?\",\n",
    "  config={\"configurable\": {\"session_id\": session_id}},\n",
    ")\n",
    "display(Markdown(response[\"output\"]))"
   ]
  },
  {
   "cell_type": "code",
   "execution_count": null,
   "metadata": {},
   "outputs": [],
   "source": [
    "response = agent.query(\n",
    "  input=\"My name is Mulyono, and my email is fufufafa@gmail.com\",\n",
    "  config={\"configurable\": {\"session_id\": session_id}},\n",
    ")\n",
    "display(Markdown(response[\"output\"]))"
   ]
  },
  {
   "cell_type": "code",
   "execution_count": null,
   "metadata": {},
   "outputs": [],
   "source": [
    "response = agent.query(\n",
    "  input=\"I have made the payment. Can you please check?\",\n",
    "  config={\"configurable\": {\"session_id\": session_id}},\n",
    ")\n",
    "display(Markdown(response[\"output\"]))"
   ]
  }
 ],
 "metadata": {
  "kernelspec": {
   "display_name": ".venv",
   "language": "python",
   "name": "python3"
  },
  "language_info": {
   "codemirror_mode": {
    "name": "ipython",
    "version": 3
   },
   "file_extension": ".py",
   "mimetype": "text/x-python",
   "name": "python",
   "nbconvert_exporter": "python",
   "pygments_lexer": "ipython3",
   "version": "3.11.10"
  }
 },
 "nbformat": 4,
 "nbformat_minor": 2
}
