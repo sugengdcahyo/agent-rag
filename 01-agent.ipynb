{
 "cells": [
  {
   "cell_type": "markdown",
   "metadata": {},
   "source": [
    "# Building agent prototype\n",
    "\n",
    "This notebook covers how we can do prototyping with ai agent. This agent will have capabilities:\n",
    "\n",
    "* To use postgres vector store we created earlier to get some information about the course.\n",
    "* To call API server we deployed earlier to get information about the courses (name, price, etc) and to make payment url."
   ]
  },
  {
   "cell_type": "markdown",
   "metadata": {},
   "source": [
    "## Required Software Installed Locally\n",
    "\n",
    "* Python version 3.9, 3.10, or 3.11. **Python3.12 will not work**.\n",
    "\n",
    "* If you are using VSCode, please install Jupyter Notebook extensions.\n",
    "\n",
    "* Jupyter notebook. Please follow this [installation guide](https://docs.jupyter.org/en/stable/install.html). You may choose whether you want to install classic jupyter notebook or jupyterlab (the next-gen web ui for jupyter)\n",
    "\n",
    "    * [Classic jupyter notebook installation guide](https://docs.jupyter.org/en/stable/install/notebook-classic.html)\n",
    "\n",
    "    * [Jupyterlab installation guide](https://jupyterlab.readthedocs.io/en/stable/getting_started/installation.html)\n",
    "\n",
    "* Google Cloud CLI. Please follow this [installation guide](https://cloud.google.com/sdk/docs/install-sdk)"
   ]
  },
  {
   "cell_type": "markdown",
   "metadata": {},
   "source": [
    "### Installing dependencies"
   ]
  },
  {
   "cell_type": "code",
   "execution_count": 1,
   "metadata": {},
   "outputs": [
    {
     "name": "stdout",
     "output_type": "stream",
     "text": [
      "Overwriting requirements.txt\n"
     ]
    }
   ],
   "source": [
    "%%writefile requirements.txt\n",
    "\n",
    "google-cloud-aiplatform\n",
    "google-cloud-aiplatform[langchain]\n",
    "google-cloud-aiplatform[reasoningengine]\n",
    "langchain\n",
    "langchain_core\n",
    "langchain_community\n",
    "langchain-google-vertexai==2.0.8\n",
    "cloudpickle\n",
    "pydantic==2.9.2\n",
    "langchain-google-community\n",
    "google-cloud-discoveryengine\n",
    "nest-asyncio\n",
    "asyncio==3.4.3\n",
    "asyncpg==0.29.0\n",
    "cloud-sql-python-connector[asyncpg]\n",
    "langchain-google-cloud-sql-pg\n",
    "numpy\n",
    "pandas\n",
    "pgvector\n",
    "psycopg2-binary\n",
    "langchain-openai\n",
    "langgraph\n",
    "traceloop-sdk\n",
    "opentelemetry-instrumentation-google-generativeai\n",
    "opentelemetry-instrumentation-langchain\n",
    "opentelemetry-instrumentation-vertexai\n",
    "python-dotenv"
   ]
  },
  {
   "cell_type": "code",
   "execution_count": 2,
   "metadata": {
    "scrolled": true
   },
   "outputs": [
    {
     "name": "stdout",
     "output_type": "stream",
     "text": [
      "Requirement already satisfied: google-cloud-aiplatform in ./venv/lib/python3.10/site-packages (from -r requirements.txt (line 2)) (1.79.0)\n",
      "Requirement already satisfied: langchain in ./venv/lib/python3.10/site-packages (from -r requirements.txt (line 5)) (0.3.18)\n",
      "Requirement already satisfied: langchain_core in ./venv/lib/python3.10/site-packages (from -r requirements.txt (line 6)) (0.3.34)\n",
      "Requirement already satisfied: langchain_community in ./venv/lib/python3.10/site-packages (from -r requirements.txt (line 7)) (0.3.17)\n",
      "Requirement already satisfied: langchain-google-vertexai==2.0.8 in ./venv/lib/python3.10/site-packages (from -r requirements.txt (line 8)) (2.0.8)\n",
      "Requirement already satisfied: cloudpickle in ./venv/lib/python3.10/site-packages (from -r requirements.txt (line 9)) (3.1.1)\n",
      "Requirement already satisfied: pydantic==2.9.2 in ./venv/lib/python3.10/site-packages (from -r requirements.txt (line 10)) (2.9.2)\n",
      "Requirement already satisfied: langchain-google-community in ./venv/lib/python3.10/site-packages (from -r requirements.txt (line 11)) (2.0.4)\n",
      "Requirement already satisfied: google-cloud-discoveryengine in ./venv/lib/python3.10/site-packages (from -r requirements.txt (line 12)) (0.13.5)\n",
      "Requirement already satisfied: nest-asyncio in ./venv/lib/python3.10/site-packages (from -r requirements.txt (line 13)) (1.6.0)\n",
      "Requirement already satisfied: asyncio==3.4.3 in ./venv/lib/python3.10/site-packages (from -r requirements.txt (line 14)) (3.4.3)\n",
      "Requirement already satisfied: asyncpg==0.29.0 in ./venv/lib/python3.10/site-packages (from -r requirements.txt (line 15)) (0.29.0)\n",
      "Requirement already satisfied: langchain-google-cloud-sql-pg in ./venv/lib/python3.10/site-packages (from -r requirements.txt (line 17)) (0.12.0)\n",
      "Requirement already satisfied: numpy in ./venv/lib/python3.10/site-packages (from -r requirements.txt (line 18)) (1.26.4)\n",
      "Collecting numpy (from -r requirements.txt (line 18))\n",
      "  Using cached numpy-2.2.2-cp310-cp310-macosx_14_0_x86_64.whl.metadata (62 kB)\n",
      "Requirement already satisfied: pandas in ./venv/lib/python3.10/site-packages (from -r requirements.txt (line 19)) (2.2.3)\n",
      "Requirement already satisfied: pgvector in ./venv/lib/python3.10/site-packages (from -r requirements.txt (line 20)) (0.3.6)\n",
      "Requirement already satisfied: psycopg2-binary in ./venv/lib/python3.10/site-packages (from -r requirements.txt (line 21)) (2.9.10)\n",
      "Requirement already satisfied: langchain-openai in ./venv/lib/python3.10/site-packages (from -r requirements.txt (line 22)) (0.3.4)\n",
      "Requirement already satisfied: langgraph in ./venv/lib/python3.10/site-packages (from -r requirements.txt (line 23)) (0.2.70)\n",
      "Requirement already satisfied: traceloop-sdk in ./venv/lib/python3.10/site-packages (from -r requirements.txt (line 24)) (0.38.4)\n",
      "Requirement already satisfied: opentelemetry-instrumentation-google-generativeai in ./venv/lib/python3.10/site-packages (from -r requirements.txt (line 25)) (0.38.4)\n",
      "Requirement already satisfied: opentelemetry-instrumentation-langchain in ./venv/lib/python3.10/site-packages (from -r requirements.txt (line 26)) (0.38.4)\n",
      "Requirement already satisfied: opentelemetry-instrumentation-vertexai in ./venv/lib/python3.10/site-packages (from -r requirements.txt (line 27)) (0.38.4)\n",
      "Requirement already satisfied: python-dotenv in ./venv/lib/python3.10/site-packages (from -r requirements.txt (line 28)) (1.0.1)\n",
      "Requirement already satisfied: cloud-sql-python-connector[asyncpg] in ./venv/lib/python3.10/site-packages (from -r requirements.txt (line 16)) (1.13.0)\n",
      "Collecting cloud-sql-python-connector[asyncpg] (from -r requirements.txt (line 16))\n",
      "  Using cached cloud_sql_python_connector-1.16.0-py2.py3-none-any.whl.metadata (30 kB)\n",
      "Requirement already satisfied: google-cloud-storage<3.0.0,>=2.18.0 in ./venv/lib/python3.10/site-packages (from langchain-google-vertexai==2.0.8->-r requirements.txt (line 8)) (2.19.0)\n",
      "Requirement already satisfied: httpx<0.28.0,>=0.27.0 in ./venv/lib/python3.10/site-packages (from langchain-google-vertexai==2.0.8->-r requirements.txt (line 8)) (0.27.2)\n",
      "Requirement already satisfied: httpx-sse<0.5.0,>=0.4.0 in ./venv/lib/python3.10/site-packages (from langchain-google-vertexai==2.0.8->-r requirements.txt (line 8)) (0.4.0)\n",
      "Requirement already satisfied: annotated-types>=0.6.0 in ./venv/lib/python3.10/site-packages (from pydantic==2.9.2->-r requirements.txt (line 10)) (0.7.0)\n",
      "Requirement already satisfied: pydantic-core==2.23.4 in ./venv/lib/python3.10/site-packages (from pydantic==2.9.2->-r requirements.txt (line 10)) (2.23.4)\n",
      "Requirement already satisfied: typing-extensions>=4.6.1 in ./venv/lib/python3.10/site-packages (from pydantic==2.9.2->-r requirements.txt (line 10)) (4.12.2)\n",
      "Requirement already satisfied: async-timeout>=4.0.3 in ./venv/lib/python3.10/site-packages (from asyncpg==0.29.0->-r requirements.txt (line 15)) (4.0.3)\n",
      "Requirement already satisfied: google-api-core!=2.0.*,!=2.1.*,!=2.2.*,!=2.3.*,!=2.4.*,!=2.5.*,!=2.6.*,!=2.7.*,<3.0.0dev,>=1.34.1 in ./venv/lib/python3.10/site-packages (from google-api-core[grpc]!=2.0.*,!=2.1.*,!=2.2.*,!=2.3.*,!=2.4.*,!=2.5.*,!=2.6.*,!=2.7.*,<3.0.0dev,>=1.34.1->google-cloud-aiplatform->-r requirements.txt (line 2)) (2.24.1)\n",
      "Requirement already satisfied: google-auth<3.0.0dev,>=2.14.1 in ./venv/lib/python3.10/site-packages (from google-cloud-aiplatform->-r requirements.txt (line 2)) (2.38.0)\n",
      "Requirement already satisfied: proto-plus<2.0.0dev,>=1.22.3 in ./venv/lib/python3.10/site-packages (from google-cloud-aiplatform->-r requirements.txt (line 2)) (1.26.0)\n",
      "Requirement already satisfied: protobuf!=4.21.0,!=4.21.1,!=4.21.2,!=4.21.3,!=4.21.4,!=4.21.5,<6.0.0dev,>=3.20.2 in ./venv/lib/python3.10/site-packages (from google-cloud-aiplatform->-r requirements.txt (line 2)) (5.29.3)\n",
      "Requirement already satisfied: packaging>=14.3 in ./venv/lib/python3.10/site-packages (from google-cloud-aiplatform->-r requirements.txt (line 2)) (24.2)\n",
      "Requirement already satisfied: google-cloud-bigquery!=3.20.0,<4.0.0dev,>=1.15.0 in ./venv/lib/python3.10/site-packages (from google-cloud-aiplatform->-r requirements.txt (line 2)) (3.29.0)\n",
      "Requirement already satisfied: google-cloud-resource-manager<3.0.0dev,>=1.3.3 in ./venv/lib/python3.10/site-packages (from google-cloud-aiplatform->-r requirements.txt (line 2)) (1.14.0)\n",
      "Requirement already satisfied: shapely<3.0.0dev in ./venv/lib/python3.10/site-packages (from google-cloud-aiplatform->-r requirements.txt (line 2)) (2.0.6)\n",
      "Requirement already satisfied: docstring-parser<1 in ./venv/lib/python3.10/site-packages (from google-cloud-aiplatform->-r requirements.txt (line 2)) (0.16)\n",
      "Requirement already satisfied: openinference-instrumentation-langchain<0.2,>=0.1.19 in ./venv/lib/python3.10/site-packages (from google-cloud-aiplatform[langchain]->-r requirements.txt (line 3)) (0.1.30)\n",
      "Requirement already satisfied: google-cloud-trace<2 in ./venv/lib/python3.10/site-packages (from google-cloud-aiplatform[reasoningengine]->-r requirements.txt (line 4)) (1.15.0)\n",
      "Requirement already satisfied: opentelemetry-sdk<2 in ./venv/lib/python3.10/site-packages (from google-cloud-aiplatform[reasoningengine]->-r requirements.txt (line 4)) (1.29.0)\n",
      "Requirement already satisfied: opentelemetry-exporter-gcp-trace<2 in ./venv/lib/python3.10/site-packages (from google-cloud-aiplatform[reasoningengine]->-r requirements.txt (line 4)) (1.8.0)\n",
      "Requirement already satisfied: langchain-text-splitters<1.0.0,>=0.3.6 in ./venv/lib/python3.10/site-packages (from langchain->-r requirements.txt (line 5)) (0.3.6)\n",
      "Requirement already satisfied: langsmith<0.4,>=0.1.17 in ./venv/lib/python3.10/site-packages (from langchain->-r requirements.txt (line 5)) (0.3.2)\n",
      "Requirement already satisfied: SQLAlchemy<3,>=1.4 in ./venv/lib/python3.10/site-packages (from langchain->-r requirements.txt (line 5)) (2.0.37)\n",
      "Requirement already satisfied: requests<3,>=2 in ./venv/lib/python3.10/site-packages (from langchain->-r requirements.txt (line 5)) (2.32.3)\n",
      "Requirement already satisfied: PyYAML>=5.3 in ./venv/lib/python3.10/site-packages (from langchain->-r requirements.txt (line 5)) (6.0.2)\n",
      "Requirement already satisfied: aiohttp<4.0.0,>=3.8.3 in ./venv/lib/python3.10/site-packages (from langchain->-r requirements.txt (line 5)) (3.11.11)\n",
      "Requirement already satisfied: tenacity!=8.4.0,<10,>=8.1.0 in ./venv/lib/python3.10/site-packages (from langchain->-r requirements.txt (line 5)) (8.5.0)\n",
      "Requirement already satisfied: jsonpatch<2.0,>=1.33 in ./venv/lib/python3.10/site-packages (from langchain_core->-r requirements.txt (line 6)) (1.33)\n",
      "Requirement already satisfied: dataclasses-json<0.7,>=0.5.7 in ./venv/lib/python3.10/site-packages (from langchain_community->-r requirements.txt (line 7)) (0.6.7)\n",
      "Requirement already satisfied: pydantic-settings<3.0.0,>=2.4.0 in ./venv/lib/python3.10/site-packages (from langchain_community->-r requirements.txt (line 7)) (2.7.1)\n",
      "Requirement already satisfied: google-api-python-client<3.0.0,>=2.122.0 in ./venv/lib/python3.10/site-packages (from langchain-google-community->-r requirements.txt (line 11)) (2.160.0)\n",
      "Requirement already satisfied: google-cloud-core<3.0.0,>=2.4.1 in ./venv/lib/python3.10/site-packages (from langchain-google-community->-r requirements.txt (line 11)) (2.4.1)\n",
      "Requirement already satisfied: grpcio<2.0.0,>=1.62.0 in ./venv/lib/python3.10/site-packages (from langchain-google-community->-r requirements.txt (line 11)) (1.70.0)\n",
      "Requirement already satisfied: aiofiles in ./venv/lib/python3.10/site-packages (from cloud-sql-python-connector[asyncpg]->-r requirements.txt (line 16)) (24.1.0)\n",
      "Requirement already satisfied: cryptography>=42.0.0 in ./venv/lib/python3.10/site-packages (from cloud-sql-python-connector[asyncpg]->-r requirements.txt (line 16)) (44.0.0)\n",
      "Collecting dnspython>=2.0.0 (from cloud-sql-python-connector[asyncpg]->-r requirements.txt (line 16))\n",
      "  Using cached dnspython-2.7.0-py3-none-any.whl.metadata (5.8 kB)\n",
      "INFO: pip is looking at multiple versions of cloud-sql-python-connector[asyncpg] to determine which version is compatible with other requirements. This could take a while.\n",
      "Collecting cloud-sql-python-connector[asyncpg] (from -r requirements.txt (line 16))\n",
      "  Using cached cloud_sql_python_connector-1.15.0-py2.py3-none-any.whl.metadata (30 kB)\n",
      "  Using cached cloud_sql_python_connector-1.14.0-py2.py3-none-any.whl.metadata (28 kB)\n",
      "Requirement already satisfied: python-dateutil>=2.8.2 in ./venv/lib/python3.10/site-packages (from pandas->-r requirements.txt (line 19)) (2.9.0.post0)\n",
      "Requirement already satisfied: pytz>=2020.1 in ./venv/lib/python3.10/site-packages (from pandas->-r requirements.txt (line 19)) (2024.2)\n",
      "Requirement already satisfied: tzdata>=2022.7 in ./venv/lib/python3.10/site-packages (from pandas->-r requirements.txt (line 19)) (2025.1)\n",
      "Requirement already satisfied: openai<2.0.0,>=1.58.1 in ./venv/lib/python3.10/site-packages (from langchain-openai->-r requirements.txt (line 22)) (1.60.2)\n",
      "Requirement already satisfied: tiktoken<1,>=0.7 in ./venv/lib/python3.10/site-packages (from langchain-openai->-r requirements.txt (line 22)) (0.8.0)\n",
      "Requirement already satisfied: langgraph-checkpoint<3.0.0,>=2.0.10 in ./venv/lib/python3.10/site-packages (from langgraph->-r requirements.txt (line 23)) (2.0.10)\n",
      "Requirement already satisfied: langgraph-sdk<0.2.0,>=0.1.42 in ./venv/lib/python3.10/site-packages (from langgraph->-r requirements.txt (line 23)) (0.1.51)\n",
      "Requirement already satisfied: colorama<0.5.0,>=0.4.6 in ./venv/lib/python3.10/site-packages (from traceloop-sdk->-r requirements.txt (line 24)) (0.4.6)\n",
      "Requirement already satisfied: deprecated<2.0.0,>=1.2.14 in ./venv/lib/python3.10/site-packages (from traceloop-sdk->-r requirements.txt (line 24)) (1.2.18)\n",
      "Requirement already satisfied: jinja2<4.0.0,>=3.1.5 in ./venv/lib/python3.10/site-packages (from traceloop-sdk->-r requirements.txt (line 24)) (3.1.5)\n",
      "Requirement already satisfied: opentelemetry-api<2.0.0,>=1.28.0 in ./venv/lib/python3.10/site-packages (from traceloop-sdk->-r requirements.txt (line 24)) (1.29.0)\n",
      "Requirement already satisfied: opentelemetry-exporter-otlp-proto-grpc<2.0.0,>=1.28.0 in ./venv/lib/python3.10/site-packages (from traceloop-sdk->-r requirements.txt (line 24)) (1.29.0)\n",
      "Requirement already satisfied: opentelemetry-exporter-otlp-proto-http<2.0.0,>=1.28.0 in ./venv/lib/python3.10/site-packages (from traceloop-sdk->-r requirements.txt (line 24)) (1.29.0)\n",
      "Requirement already satisfied: opentelemetry-instrumentation-alephalpha==0.38.4 in ./venv/lib/python3.10/site-packages (from traceloop-sdk->-r requirements.txt (line 24)) (0.38.4)\n",
      "Requirement already satisfied: opentelemetry-instrumentation-anthropic==0.38.4 in ./venv/lib/python3.10/site-packages (from traceloop-sdk->-r requirements.txt (line 24)) (0.38.4)\n",
      "Requirement already satisfied: opentelemetry-instrumentation-bedrock==0.38.4 in ./venv/lib/python3.10/site-packages (from traceloop-sdk->-r requirements.txt (line 24)) (0.38.4)\n",
      "Requirement already satisfied: opentelemetry-instrumentation-chromadb==0.38.4 in ./venv/lib/python3.10/site-packages (from traceloop-sdk->-r requirements.txt (line 24)) (0.38.4)\n",
      "Requirement already satisfied: opentelemetry-instrumentation-cohere==0.38.4 in ./venv/lib/python3.10/site-packages (from traceloop-sdk->-r requirements.txt (line 24)) (0.38.4)\n",
      "Requirement already satisfied: opentelemetry-instrumentation-crewai==0.38.4 in ./venv/lib/python3.10/site-packages (from traceloop-sdk->-r requirements.txt (line 24)) (0.38.4)\n",
      "Requirement already satisfied: opentelemetry-instrumentation-groq==0.38.4 in ./venv/lib/python3.10/site-packages (from traceloop-sdk->-r requirements.txt (line 24)) (0.38.4)\n",
      "Requirement already satisfied: opentelemetry-instrumentation-haystack==0.38.4 in ./venv/lib/python3.10/site-packages (from traceloop-sdk->-r requirements.txt (line 24)) (0.38.4)\n",
      "Requirement already satisfied: opentelemetry-instrumentation-lancedb==0.38.4 in ./venv/lib/python3.10/site-packages (from traceloop-sdk->-r requirements.txt (line 24)) (0.38.4)\n",
      "Requirement already satisfied: opentelemetry-instrumentation-llamaindex==0.38.4 in ./venv/lib/python3.10/site-packages (from traceloop-sdk->-r requirements.txt (line 24)) (0.38.4)\n",
      "Requirement already satisfied: opentelemetry-instrumentation-logging>=0.50b0 in ./venv/lib/python3.10/site-packages (from traceloop-sdk->-r requirements.txt (line 24)) (0.50b0)\n",
      "Requirement already satisfied: opentelemetry-instrumentation-marqo==0.38.4 in ./venv/lib/python3.10/site-packages (from traceloop-sdk->-r requirements.txt (line 24)) (0.38.4)\n",
      "Requirement already satisfied: opentelemetry-instrumentation-milvus==0.38.4 in ./venv/lib/python3.10/site-packages (from traceloop-sdk->-r requirements.txt (line 24)) (0.38.4)\n",
      "Requirement already satisfied: opentelemetry-instrumentation-mistralai==0.38.4 in ./venv/lib/python3.10/site-packages (from traceloop-sdk->-r requirements.txt (line 24)) (0.38.4)\n",
      "Requirement already satisfied: opentelemetry-instrumentation-ollama==0.38.4 in ./venv/lib/python3.10/site-packages (from traceloop-sdk->-r requirements.txt (line 24)) (0.38.4)\n",
      "Requirement already satisfied: opentelemetry-instrumentation-openai==0.38.4 in ./venv/lib/python3.10/site-packages (from traceloop-sdk->-r requirements.txt (line 24)) (0.38.4)\n",
      "Requirement already satisfied: opentelemetry-instrumentation-pinecone==0.38.4 in ./venv/lib/python3.10/site-packages (from traceloop-sdk->-r requirements.txt (line 24)) (0.38.4)\n",
      "Requirement already satisfied: opentelemetry-instrumentation-qdrant==0.38.4 in ./venv/lib/python3.10/site-packages (from traceloop-sdk->-r requirements.txt (line 24)) (0.38.4)\n",
      "Requirement already satisfied: opentelemetry-instrumentation-replicate==0.38.4 in ./venv/lib/python3.10/site-packages (from traceloop-sdk->-r requirements.txt (line 24)) (0.38.4)\n",
      "Requirement already satisfied: opentelemetry-instrumentation-requests>=0.50b0 in ./venv/lib/python3.10/site-packages (from traceloop-sdk->-r requirements.txt (line 24)) (0.50b0)\n",
      "Requirement already satisfied: opentelemetry-instrumentation-sagemaker==0.38.4 in ./venv/lib/python3.10/site-packages (from traceloop-sdk->-r requirements.txt (line 24)) (0.38.4)\n",
      "Requirement already satisfied: opentelemetry-instrumentation-sqlalchemy>=0.50b0 in ./venv/lib/python3.10/site-packages (from traceloop-sdk->-r requirements.txt (line 24)) (0.50b0)\n",
      "Requirement already satisfied: opentelemetry-instrumentation-threading>=0.50b0 in ./venv/lib/python3.10/site-packages (from traceloop-sdk->-r requirements.txt (line 24)) (0.50b0)\n",
      "Requirement already satisfied: opentelemetry-instrumentation-together==0.38.4 in ./venv/lib/python3.10/site-packages (from traceloop-sdk->-r requirements.txt (line 24)) (0.38.4)\n",
      "Requirement already satisfied: opentelemetry-instrumentation-transformers==0.38.4 in ./venv/lib/python3.10/site-packages (from traceloop-sdk->-r requirements.txt (line 24)) (0.38.4)\n",
      "Requirement already satisfied: opentelemetry-instrumentation-urllib3>=0.50b0 in ./venv/lib/python3.10/site-packages (from traceloop-sdk->-r requirements.txt (line 24)) (0.50b0)\n",
      "Requirement already satisfied: opentelemetry-instrumentation-watsonx==0.38.4 in ./venv/lib/python3.10/site-packages (from traceloop-sdk->-r requirements.txt (line 24)) (0.38.4)\n",
      "Requirement already satisfied: opentelemetry-instrumentation-weaviate==0.38.4 in ./venv/lib/python3.10/site-packages (from traceloop-sdk->-r requirements.txt (line 24)) (0.38.4)\n",
      "Requirement already satisfied: opentelemetry-semantic-conventions-ai==0.4.2 in ./venv/lib/python3.10/site-packages (from traceloop-sdk->-r requirements.txt (line 24)) (0.4.2)\n",
      "Requirement already satisfied: posthog<4,>3.0.2 in ./venv/lib/python3.10/site-packages (from traceloop-sdk->-r requirements.txt (line 24)) (3.11.0)\n",
      "Requirement already satisfied: opentelemetry-instrumentation>=0.50b0 in ./venv/lib/python3.10/site-packages (from opentelemetry-instrumentation-google-generativeai->-r requirements.txt (line 25)) (0.50b0)\n",
      "Requirement already satisfied: opentelemetry-semantic-conventions>=0.50b0 in ./venv/lib/python3.10/site-packages (from opentelemetry-instrumentation-google-generativeai->-r requirements.txt (line 25)) (0.50b0)\n",
      "Requirement already satisfied: anthropic>=0.17.0 in ./venv/lib/python3.10/site-packages (from opentelemetry-instrumentation-bedrock==0.38.4->traceloop-sdk->-r requirements.txt (line 24)) (0.45.2)\n",
      "Requirement already satisfied: inflection<0.6.0,>=0.5.1 in ./venv/lib/python3.10/site-packages (from opentelemetry-instrumentation-llamaindex==0.38.4->traceloop-sdk->-r requirements.txt (line 24)) (0.5.1)\n",
      "Requirement already satisfied: aiohappyeyeballs>=2.3.0 in ./venv/lib/python3.10/site-packages (from aiohttp<4.0.0,>=3.8.3->langchain->-r requirements.txt (line 5)) (2.4.4)\n",
      "Requirement already satisfied: aiosignal>=1.1.2 in ./venv/lib/python3.10/site-packages (from aiohttp<4.0.0,>=3.8.3->langchain->-r requirements.txt (line 5)) (1.3.2)\n",
      "Requirement already satisfied: attrs>=17.3.0 in ./venv/lib/python3.10/site-packages (from aiohttp<4.0.0,>=3.8.3->langchain->-r requirements.txt (line 5)) (25.1.0)\n",
      "Requirement already satisfied: frozenlist>=1.1.1 in ./venv/lib/python3.10/site-packages (from aiohttp<4.0.0,>=3.8.3->langchain->-r requirements.txt (line 5)) (1.5.0)\n",
      "Requirement already satisfied: multidict<7.0,>=4.5 in ./venv/lib/python3.10/site-packages (from aiohttp<4.0.0,>=3.8.3->langchain->-r requirements.txt (line 5)) (6.1.0)\n",
      "Requirement already satisfied: propcache>=0.2.0 in ./venv/lib/python3.10/site-packages (from aiohttp<4.0.0,>=3.8.3->langchain->-r requirements.txt (line 5)) (0.2.1)\n",
      "Requirement already satisfied: yarl<2.0,>=1.17.0 in ./venv/lib/python3.10/site-packages (from aiohttp<4.0.0,>=3.8.3->langchain->-r requirements.txt (line 5)) (1.18.3)\n",
      "Requirement already satisfied: cffi>=1.12 in ./venv/lib/python3.10/site-packages (from cryptography>=42.0.0->cloud-sql-python-connector[asyncpg]->-r requirements.txt (line 16)) (1.17.1)\n",
      "Requirement already satisfied: marshmallow<4.0.0,>=3.18.0 in ./venv/lib/python3.10/site-packages (from dataclasses-json<0.7,>=0.5.7->langchain_community->-r requirements.txt (line 7)) (3.26.0)\n",
      "Requirement already satisfied: typing-inspect<1,>=0.4.0 in ./venv/lib/python3.10/site-packages (from dataclasses-json<0.7,>=0.5.7->langchain_community->-r requirements.txt (line 7)) (0.9.0)\n",
      "Requirement already satisfied: wrapt<2,>=1.10 in ./venv/lib/python3.10/site-packages (from deprecated<2.0.0,>=1.2.14->traceloop-sdk->-r requirements.txt (line 24)) (1.17.2)\n",
      "Requirement already satisfied: googleapis-common-protos<2.0.dev0,>=1.56.2 in ./venv/lib/python3.10/site-packages (from google-api-core!=2.0.*,!=2.1.*,!=2.2.*,!=2.3.*,!=2.4.*,!=2.5.*,!=2.6.*,!=2.7.*,<3.0.0dev,>=1.34.1->google-api-core[grpc]!=2.0.*,!=2.1.*,!=2.2.*,!=2.3.*,!=2.4.*,!=2.5.*,!=2.6.*,!=2.7.*,<3.0.0dev,>=1.34.1->google-cloud-aiplatform->-r requirements.txt (line 2)) (1.66.0)\n",
      "Requirement already satisfied: grpcio-status<2.0.dev0,>=1.33.2 in ./venv/lib/python3.10/site-packages (from google-api-core[grpc]!=2.0.*,!=2.1.*,!=2.2.*,!=2.3.*,!=2.4.*,!=2.5.*,!=2.6.*,!=2.7.*,<3.0.0dev,>=1.34.1->google-cloud-aiplatform->-r requirements.txt (line 2)) (1.70.0)\n",
      "Requirement already satisfied: httplib2<1.dev0,>=0.19.0 in ./venv/lib/python3.10/site-packages (from google-api-python-client<3.0.0,>=2.122.0->langchain-google-community->-r requirements.txt (line 11)) (0.22.0)\n",
      "Requirement already satisfied: google-auth-httplib2<1.0.0,>=0.2.0 in ./venv/lib/python3.10/site-packages (from google-api-python-client<3.0.0,>=2.122.0->langchain-google-community->-r requirements.txt (line 11)) (0.2.0)\n",
      "Requirement already satisfied: uritemplate<5,>=3.0.1 in ./venv/lib/python3.10/site-packages (from google-api-python-client<3.0.0,>=2.122.0->langchain-google-community->-r requirements.txt (line 11)) (4.1.1)\n",
      "Requirement already satisfied: cachetools<6.0,>=2.0.0 in ./venv/lib/python3.10/site-packages (from google-auth<3.0.0dev,>=2.14.1->google-cloud-aiplatform->-r requirements.txt (line 2)) (5.5.1)\n",
      "Requirement already satisfied: pyasn1-modules>=0.2.1 in ./venv/lib/python3.10/site-packages (from google-auth<3.0.0dev,>=2.14.1->google-cloud-aiplatform->-r requirements.txt (line 2)) (0.4.1)\n",
      "Requirement already satisfied: rsa<5,>=3.1.4 in ./venv/lib/python3.10/site-packages (from google-auth<3.0.0dev,>=2.14.1->google-cloud-aiplatform->-r requirements.txt (line 2)) (4.9)\n",
      "Requirement already satisfied: google-resumable-media<3.0dev,>=2.0.0 in ./venv/lib/python3.10/site-packages (from google-cloud-bigquery!=3.20.0,<4.0.0dev,>=1.15.0->google-cloud-aiplatform->-r requirements.txt (line 2)) (2.7.2)\n",
      "Requirement already satisfied: grpc-google-iam-v1<1.0.0dev,>=0.12.4 in ./venv/lib/python3.10/site-packages (from google-cloud-resource-manager<3.0.0dev,>=1.3.3->google-cloud-aiplatform->-r requirements.txt (line 2)) (0.14.0)\n",
      "Requirement already satisfied: google-crc32c<2.0dev,>=1.0 in ./venv/lib/python3.10/site-packages (from google-cloud-storage<3.0.0,>=2.18.0->langchain-google-vertexai==2.0.8->-r requirements.txt (line 8)) (1.6.0)\n",
      "Requirement already satisfied: anyio in ./venv/lib/python3.10/site-packages (from httpx<0.28.0,>=0.27.0->langchain-google-vertexai==2.0.8->-r requirements.txt (line 8)) (4.8.0)\n",
      "Requirement already satisfied: certifi in ./venv/lib/python3.10/site-packages (from httpx<0.28.0,>=0.27.0->langchain-google-vertexai==2.0.8->-r requirements.txt (line 8)) (2024.12.14)\n",
      "Requirement already satisfied: httpcore==1.* in ./venv/lib/python3.10/site-packages (from httpx<0.28.0,>=0.27.0->langchain-google-vertexai==2.0.8->-r requirements.txt (line 8)) (1.0.7)\n",
      "Requirement already satisfied: idna in ./venv/lib/python3.10/site-packages (from httpx<0.28.0,>=0.27.0->langchain-google-vertexai==2.0.8->-r requirements.txt (line 8)) (3.10)\n",
      "Requirement already satisfied: sniffio in ./venv/lib/python3.10/site-packages (from httpx<0.28.0,>=0.27.0->langchain-google-vertexai==2.0.8->-r requirements.txt (line 8)) (1.3.1)\n",
      "Requirement already satisfied: h11<0.15,>=0.13 in ./venv/lib/python3.10/site-packages (from httpcore==1.*->httpx<0.28.0,>=0.27.0->langchain-google-vertexai==2.0.8->-r requirements.txt (line 8)) (0.14.0)\n",
      "Requirement already satisfied: MarkupSafe>=2.0 in ./venv/lib/python3.10/site-packages (from jinja2<4.0.0,>=3.1.5->traceloop-sdk->-r requirements.txt (line 24)) (3.0.2)\n",
      "Requirement already satisfied: jsonpointer>=1.9 in ./venv/lib/python3.10/site-packages (from jsonpatch<2.0,>=1.33->langchain_core->-r requirements.txt (line 6)) (3.0.0)\n",
      "Requirement already satisfied: msgpack<2.0.0,>=1.1.0 in ./venv/lib/python3.10/site-packages (from langgraph-checkpoint<3.0.0,>=2.0.10->langgraph->-r requirements.txt (line 23)) (1.1.0)\n",
      "Requirement already satisfied: orjson>=3.10.1 in ./venv/lib/python3.10/site-packages (from langgraph-sdk<0.2.0,>=0.1.42->langgraph->-r requirements.txt (line 23)) (3.10.15)\n",
      "Requirement already satisfied: requests-toolbelt<2.0.0,>=1.0.0 in ./venv/lib/python3.10/site-packages (from langsmith<0.4,>=0.1.17->langchain->-r requirements.txt (line 5)) (1.0.0)\n",
      "Requirement already satisfied: zstandard<0.24.0,>=0.23.0 in ./venv/lib/python3.10/site-packages (from langsmith<0.4,>=0.1.17->langchain->-r requirements.txt (line 5)) (0.23.0)\n",
      "Requirement already satisfied: distro<2,>=1.7.0 in ./venv/lib/python3.10/site-packages (from openai<2.0.0,>=1.58.1->langchain-openai->-r requirements.txt (line 22)) (1.9.0)\n",
      "Requirement already satisfied: jiter<1,>=0.4.0 in ./venv/lib/python3.10/site-packages (from openai<2.0.0,>=1.58.1->langchain-openai->-r requirements.txt (line 22)) (0.8.2)\n",
      "Requirement already satisfied: tqdm>4 in ./venv/lib/python3.10/site-packages (from openai<2.0.0,>=1.58.1->langchain-openai->-r requirements.txt (line 22)) (4.67.1)\n",
      "Requirement already satisfied: openinference-instrumentation>=0.1.17 in ./venv/lib/python3.10/site-packages (from openinference-instrumentation-langchain<0.2,>=0.1.19->google-cloud-aiplatform[langchain]->-r requirements.txt (line 3)) (0.1.21)\n",
      "Requirement already satisfied: openinference-semantic-conventions>=0.1.9 in ./venv/lib/python3.10/site-packages (from openinference-instrumentation-langchain<0.2,>=0.1.19->google-cloud-aiplatform[langchain]->-r requirements.txt (line 3)) (0.1.12)\n",
      "Requirement already satisfied: importlib-metadata<=8.5.0,>=6.0 in ./venv/lib/python3.10/site-packages (from opentelemetry-api<2.0.0,>=1.28.0->traceloop-sdk->-r requirements.txt (line 24)) (8.5.0)\n",
      "Requirement already satisfied: opentelemetry-resourcedetector-gcp==1.*,>=1.5.0dev0 in ./venv/lib/python3.10/site-packages (from opentelemetry-exporter-gcp-trace<2->google-cloud-aiplatform[reasoningengine]->-r requirements.txt (line 4)) (1.8.0a0)\n",
      "Requirement already satisfied: opentelemetry-exporter-otlp-proto-common==1.29.0 in ./venv/lib/python3.10/site-packages (from opentelemetry-exporter-otlp-proto-grpc<2.0.0,>=1.28.0->traceloop-sdk->-r requirements.txt (line 24)) (1.29.0)\n",
      "Requirement already satisfied: opentelemetry-proto==1.29.0 in ./venv/lib/python3.10/site-packages (from opentelemetry-exporter-otlp-proto-grpc<2.0.0,>=1.28.0->traceloop-sdk->-r requirements.txt (line 24)) (1.29.0)\n",
      "Requirement already satisfied: opentelemetry-util-http==0.50b0 in ./venv/lib/python3.10/site-packages (from opentelemetry-instrumentation-requests>=0.50b0->traceloop-sdk->-r requirements.txt (line 24)) (0.50b0)\n",
      "Requirement already satisfied: six>=1.5 in ./venv/lib/python3.10/site-packages (from posthog<4,>3.0.2->traceloop-sdk->-r requirements.txt (line 24)) (1.17.0)\n",
      "Requirement already satisfied: monotonic>=1.5 in ./venv/lib/python3.10/site-packages (from posthog<4,>3.0.2->traceloop-sdk->-r requirements.txt (line 24)) (1.6)\n",
      "Requirement already satisfied: backoff>=1.10.0 in ./venv/lib/python3.10/site-packages (from posthog<4,>3.0.2->traceloop-sdk->-r requirements.txt (line 24)) (2.2.1)\n",
      "Requirement already satisfied: charset-normalizer<4,>=2 in ./venv/lib/python3.10/site-packages (from requests<3,>=2->langchain->-r requirements.txt (line 5)) (3.4.1)\n",
      "Requirement already satisfied: urllib3<3,>=1.21.1 in ./venv/lib/python3.10/site-packages (from requests<3,>=2->langchain->-r requirements.txt (line 5)) (2.3.0)\n",
      "Requirement already satisfied: greenlet!=0.4.17 in ./venv/lib/python3.10/site-packages (from SQLAlchemy<3,>=1.4->langchain->-r requirements.txt (line 5)) (3.1.1)\n",
      "Requirement already satisfied: regex>=2022.1.18 in ./venv/lib/python3.10/site-packages (from tiktoken<1,>=0.7->langchain-openai->-r requirements.txt (line 22)) (2024.11.6)\n",
      "Requirement already satisfied: exceptiongroup>=1.0.2 in ./venv/lib/python3.10/site-packages (from anyio->httpx<0.28.0,>=0.27.0->langchain-google-vertexai==2.0.8->-r requirements.txt (line 8)) (1.2.2)\n",
      "Requirement already satisfied: pycparser in ./venv/lib/python3.10/site-packages (from cffi>=1.12->cryptography>=42.0.0->cloud-sql-python-connector[asyncpg]->-r requirements.txt (line 16)) (2.22)\n",
      "Requirement already satisfied: pyparsing!=3.0.0,!=3.0.1,!=3.0.2,!=3.0.3,<4,>=2.4.2 in ./venv/lib/python3.10/site-packages (from httplib2<1.dev0,>=0.19.0->google-api-python-client<3.0.0,>=2.122.0->langchain-google-community->-r requirements.txt (line 11)) (3.2.1)\n",
      "Requirement already satisfied: zipp>=3.20 in ./venv/lib/python3.10/site-packages (from importlib-metadata<=8.5.0,>=6.0->opentelemetry-api<2.0.0,>=1.28.0->traceloop-sdk->-r requirements.txt (line 24)) (3.21.0)\n",
      "Requirement already satisfied: pyasn1<0.7.0,>=0.4.6 in ./venv/lib/python3.10/site-packages (from pyasn1-modules>=0.2.1->google-auth<3.0.0dev,>=2.14.1->google-cloud-aiplatform->-r requirements.txt (line 2)) (0.6.1)\n",
      "Requirement already satisfied: mypy-extensions>=0.3.0 in ./venv/lib/python3.10/site-packages (from typing-inspect<1,>=0.4.0->dataclasses-json<0.7,>=0.5.7->langchain_community->-r requirements.txt (line 7)) (1.0.0)\n",
      "\n",
      "\u001b[1m[\u001b[0m\u001b[34;49mnotice\u001b[0m\u001b[1;39;49m]\u001b[0m\u001b[39;49m A new release of pip is available: \u001b[0m\u001b[31;49m24.1.2\u001b[0m\u001b[39;49m -> \u001b[0m\u001b[32;49m25.0\u001b[0m\n",
      "\u001b[1m[\u001b[0m\u001b[34;49mnotice\u001b[0m\u001b[1;39;49m]\u001b[0m\u001b[39;49m To update, run: \u001b[0m\u001b[32;49mpip install --upgrade pip\u001b[0m\n"
     ]
    }
   ],
   "source": [
    "!pip install --upgrade -r requirements.txt"
   ]
  },
  {
   "cell_type": "markdown",
   "metadata": {},
   "source": [
    "## Setting up Google Cloud Account"
   ]
  },
  {
   "cell_type": "markdown",
   "metadata": {},
   "source": [
    "#### Recommended account setup\n",
    "\n",
    "if you are running this in jupyter notebook locally, you may need to login to google cloud by running the following command from terminal:\n",
    "\n",
    "```\n",
    "gcloud auth login\n",
    "gcloud auth application-default login\n",
    "```"
   ]
  },
  {
   "cell_type": "markdown",
   "metadata": {},
   "source": [
    "If you are using Google Colabs, you need to authenticate with your google account by running the following notebook cell. \n",
    "\n",
    "> Please remember that you will need to do this on each jupyter notebook during this workshop"
   ]
  },
  {
   "cell_type": "code",
   "execution_count": null,
   "metadata": {},
   "outputs": [],
   "source": [
    "# #@markdown ###Authenticate your Google Cloud Account and enable APIs.\n",
    "# # Authenticate gcloud.\n",
    "from google.colab import auth\n",
    "auth.authenticate_user()"
   ]
  },
  {
   "cell_type": "markdown",
   "metadata": {},
   "source": [
    "Let's start with importhing few stuff:"
   ]
  },
  {
   "cell_type": "code",
   "execution_count": 3,
   "metadata": {},
   "outputs": [
    {
     "name": "stderr",
     "output_type": "stream",
     "text": [
      "/Users/pabrik/working/academic/MASTER/PROJECTS/InformationRetrieval/aiagent-from-scratch/venv/lib/python3.10/site-packages/IPython/core/interactiveshell.py:3577: LangChainDeprecationWarning: As of langchain-core 0.3.0, LangChain uses pydantic v2 internally. The langchain.pydantic_v1 module was a compatibility shim for pydantic v1, and should no longer be used. Please update the code to import from Pydantic directly.\n",
      "\n",
      "For example, replace imports like: `from langchain.pydantic_v1 import BaseModel`\n",
      "with: `from pydantic import BaseModel`\n",
      "or the v1 compatibility namespace if you are working in a code base that has not been fully upgraded to pydantic 2 yet. \tfrom pydantic.v1 import BaseModel\n",
      "\n",
      "  exec(code_obj, self.user_global_ns, self.user_ns)\n"
     ]
    }
   ],
   "source": [
    "from IPython.display import display, Markdown\n",
    "\n",
    "from langchain.agents.format_scratchpad import format_to_openai_function_messages\n",
    "from langchain.agents import tool\n",
    "from langchain.pydantic_v1 import BaseModel, Field\n",
    "\n",
    "from langchain.memory import ChatMessageHistory\n",
    "from langchain_community.chat_message_histories import ChatMessageHistory\n",
    "from langchain_core.chat_history import BaseChatMessageHistory\n",
    "\n",
    "from langchain.prompts import (\n",
    "    ChatPromptTemplate,\n",
    "    HumanMessagePromptTemplate,\n",
    "    MessagesPlaceholder,\n",
    "    SystemMessagePromptTemplate,\n",
    ")\n",
    "\n",
    "import pandas as pd\n",
    "from vertexai.preview import reasoning_engines\n",
    "from langchain_google_vertexai import HarmBlockThreshold, HarmCategory\n",
    "import requests"
   ]
  },
  {
   "cell_type": "markdown",
   "metadata": {},
   "source": [
    "Let's define some variable. Please update these following variables according to your setup:\n",
    "* `project_id`\n",
    "* `region`\n",
    "* `staging_bucket_name`\n",
    "* `instance_name`, `database_password`, `database_name`, `database_user`"
   ]
  },
  {
   "cell_type": "code",
   "execution_count": 4,
   "metadata": {},
   "outputs": [
    {
     "name": "stdout",
     "output_type": "stream",
     "text": [
      "\u001b[1;33mWARNING:\u001b[0m Your active project does not match the quota project in your local Application Default Credentials file. This might result in unexpected quota issues.\n",
      "\n",
      "To update your Application Default Credentials quota project, use the `gcloud auth application-default set-quota-project` command.\n",
      "Updated property [core/project].\n",
      "API Base URL: https://courses-api-guckng3ccq-uc.a.run.app\n",
      "Database Host: 34.42.192.52\n"
     ]
    }
   ],
   "source": [
    "project_id = \"gen-lang-client-0521448746\"  # @param {type:\"string\"}\n",
    "region = \"us-central1\" #change this to project location\n",
    "staging_bucket_name = \"devfest24-demo-bucket\" # @param {type:\"string\"} #change this with your staging bucket name\n",
    "instance_name=\"devfest24-demo\" # @param {type:\"string\"}\n",
    "database_password = 'testing' # @param {type:\"string\"}\n",
    "database_name = 'testing' # @param {type:\"string\"}\n",
    "database_user = 'testing' # @param {type:\"string\"}\n",
    "\n",
    "assert database_name, \"⚠️ Please provide a database name\"\n",
    "assert database_user, \"⚠️ Please provide a database user\"\n",
    "assert database_password, \"⚠️ Please provide a database password\"\n",
    "\n",
    "# dont update variable below\n",
    "\n",
    "!gcloud config set project {project_id} --quiet\n",
    "\n",
    "cloudrun_services = !gcloud run services describe courses-api --region=us-central1 --format='value(status.url)'\n",
    "api_base_url = cloudrun_services[0]\n",
    "\n",
    "staging_bucket_uri = f\"gs://{staging_bucket_name}\"\n",
    "# get the ip address of the cloudsql instance\n",
    "ip_addresses = !gcloud sql instances describe {instance_name} --format=\"value(ipAddresses[0].ipAddress)\"\n",
    "database_host = ip_addresses[0]\n",
    "\n",
    "gemini_embedding_model = \"text-embedding-004\"\n",
    "gemini_llm_model = \"gemini-1.5-pro\"\n",
    "embeddings_table_name = \"course_content_embeddings\"\n",
    "chat_history_table_name = \"chat_histories\"\n",
    "\n",
    "print(f\"API Base URL: {api_base_url}\")\n",
    "print(f\"Database Host: {database_host}\")"
   ]
  },
  {
   "cell_type": "markdown",
   "metadata": {},
   "source": [
    "Let's initialize vertex ai, postgres engine and vector store. This is very similar to the previous module. But instead of using this directly, we are going to use it in Langchain Tool to add capability to the agent:"
   ]
  },
  {
   "cell_type": "code",
   "execution_count": 5,
   "metadata": {},
   "outputs": [],
   "source": [
    "import vertexai\n",
    "vertexai.init(project=project_id, location=region, staging_bucket=staging_bucket_uri)\n",
    "\n",
    "from langchain_google_vertexai import VertexAIEmbeddings\n",
    "embeddings_service = VertexAIEmbeddings(model_name=gemini_embedding_model)\n",
    "\n",
    "from langchain_google_cloud_sql_pg import PostgresEngine\n",
    "\n",
    "pg_engine = PostgresEngine.from_instance(\n",
    "    project_id=project_id,\n",
    "    instance=instance_name,\n",
    "    region=region,\n",
    "    database=database_name,\n",
    "    user=database_password,\n",
    "    password=database_password,\n",
    ")\n",
    "\n",
    "from langchain_google_vertexai import VertexAIEmbeddings\n",
    "from langchain_google_cloud_sql_pg import PostgresVectorStore\n",
    "\n",
    "sample_vector_table_name = \"course_content_embeddings\"\n",
    "\n",
    "vector_store = PostgresVectorStore.create_sync(\n",
    "            pg_engine,\n",
    "            table_name=embeddings_table_name,\n",
    "            embedding_service=embeddings_service,\n",
    "        )\n",
    "retriever = vector_store.as_retriever(search_kwargs={\"k\": 10})"
   ]
  },
  {
   "cell_type": "markdown",
   "metadata": {},
   "source": [
    "## Langchain Tool"
   ]
  },
  {
   "cell_type": "markdown",
   "metadata": {},
   "source": [
    "### Search course tool with Postgres Vector Store\n",
    "\n",
    "This is the first tool that we will create. It is used to search content from the database given a user query.\n",
    "\n",
    "If you see internally, it only call `retriever.invoke()` and return the value. The other important thing is the description of the function. Thats how the agent knows when it needs to use this tool"
   ]
  },
  {
   "cell_type": "code",
   "execution_count": 6,
   "metadata": {},
   "outputs": [],
   "source": [
    "@tool\n",
    "def search_course_content(query: str) -> str:\n",
    "    \"\"\"Explain about software security course materials.\"\"\"\n",
    "    result = str(retriever.invoke(query))\n",
    "    return result"
   ]
  },
  {
   "cell_type": "code",
   "execution_count": 7,
   "metadata": {},
   "outputs": [
    {
     "data": {
      "text/plain": [
       "'[Document(metadata={\\'course_content_id\\': \\'a2a2096f-1cb2-43c4-9f26-ba53c321c7ba\\', \\'title\\': \\'Forgot Password Cheat Sheet\\'}, page_content=\\'The following short guidelines can be used as a quick reference to protect the forgot password service:\\\\n\\\\n- **Return a consistent message for both existent and non-existent accounts.**\\\\n- **Ensure that the time taken for the user response message is uniform.**\\\\n- **Use a side-channel to communicate the method to reset their password.**\\\\n- **Use [URL tokens](#url-tokens) for the simplest and fastest implementation.**\\\\n- **Ensure that generated tokens or codes are:**\\\\n    - **Randomly generated using a cryptographically safe algorithm.**\\\\n    - **Sufficiently long to protect against brute-force attacks.**\\\\n    - **Stored securely.**\\\\n    - **Single use and expire after an appropriate period.**\\\\n- **Do not make a change to the account until a valid token is presented, such as locking out the account**\\'), Document(metadata={\\'course_content_id\\': \\'a2a2096f-1cb2-43c4-9f26-ba53c321c7ba\\', \\'title\\': \\'Forgot Password Cheat Sheet\\'}, page_content=\"When a user uses the forgot password service and inputs their username or email, the below should be followed to implement a secure process:\\\\n\\\\n- Return a consistent message for both existent and non-existent accounts.\\\\n- Ensure that responses return in a consistent amount of time to prevent an attacker enumerating which accounts exist. This could be achieved by using asynchronous calls or by making sure that the same logic is followed, instead of using a quick exit method.\\\\n- Implement protections against excessive automated submissions such as rate-limiting on a per-account basis, requiring a CAPTCHA, or other controls. Otherwise an attacker could make thousands of password reset requests per hour for a given account, flooding the user\\'s intake system (e.g., email inbox or SMS) with useless requests.\\\\n- Employ normal security measures, such as [SQL Injection Prevention methods](SQL_Injection_Prevention_Cheat_Sheet.md) and [Input Validation](Input_Validation_Cheat_Sheet.md).\"), Document(metadata={\\'course_content_id\\': \\'a2a2096f-1cb2-43c4-9f26-ba53c321c7ba\\', \\'title\\': \\'Forgot Password Cheat Sheet\\'}, page_content=\\'# Forgot Password Cheat Sheet\\\\n\\\\n## Introduction\\\\n\\\\nIn order to implement a proper user management system, systems integrate a **Forgot Password** service that allows the user to request a password reset.\\\\n\\\\nEven though this functionality looks straightforward and easy to implement, it is a common source of vulnerabilities, such as the renowned [user enumeration attack](https://owasp.org/www-project-web-security-testing-guide/stable/4-Web_Application_Security_Testing/03-Identity_Management_Testing/04-Testing_for_Account_Enumeration_and_Guessable_User_Account.html).\\\\n\\\\nThe following short guidelines can be used as a quick reference to protect the forgot password service:\\'), Document(metadata={\\'course_content_id\\': \\'a2a2096f-1cb2-43c4-9f26-ba53c321c7ba\\', \\'title\\': \\'Forgot Password Cheat Sheet\\'}, page_content=\\'This cheat sheet is focused on resetting users passwords. For guidance on resetting multifactor authentication (MFA), see the relevant section in the [Multifactor Authentication Cheat Sheet](Multifactor_Authentication_Cheat_Sheet.md#resetting-mfa).\\\\n\\\\n## Forgot Password Service\\\\n\\\\nThe password reset process can be broken into two main steps, detailed in the following sections.\\\\n\\\\n### Forgot Password Request\\\\n\\\\nWhen a user uses the forgot password service and inputs their username or email, the below should be followed to implement a secure process:\\'), Document(metadata={\\'course_content_id\\': \\'a2a2096f-1cb2-43c4-9f26-ba53c321c7ba\\', \\'title\\': \\'Forgot Password Cheat Sheet\\'}, page_content=\"## Methods\\\\n\\\\nIn order to allow a user to request a password reset, you will need to have some way to identify the user, or a means to reach out to them through a side-channel.\\\\n\\\\nThis can be done through any of the following methods:\\\\n\\\\n- [URL tokens](#url-tokens).\\\\n- [PINs](#pins)\\\\n- [Offline methods](#offline-methods)\\\\n- [Security questions](#security-questions).\\\\n\\\\nThese methods can be used together to provide a greater degree of assurance that the user is who they claim to be. No matter what, you must ensure that a user always has a way to recover their account, even if that involves contacting the support team and proving their identity to staff.\\\\n\\\\n### General Security Practices\\\\n\\\\nIt is essential to employ good security practices for the reset identifiers (tokens, codes, PINs, etc.). Some points don\\'t apply to the [offline methods](#offline-methods), such as the lifetime restriction. All tokens and codes should be:\"), Document(metadata={\\'course_content_id\\': \\'a2a2096f-1cb2-43c4-9f26-ba53c321c7ba\\', \\'title\\': \\'Forgot Password Cheat Sheet\\'}, page_content=\"- The user should confirm the password they set by writing it twice.\\\\n- Ensure that a secure password policy is in place, and is consistent with the rest of the application.\\\\n- Update and store the password following [secure practices](Password_Storage_Cheat_Sheet.md).\\\\n- Send the user an email informing them that their password has been reset (do not send the password in the email!).\\\\n- Once they have set their new password, the user should then login through the usual mechanism. Don\\'t automatically log the user in, as this introduces additional complexity to the authentication and session handling code, and increases the likelihood of introducing vulnerabilities.\\\\n- Ask the user if they want to invalidate all of their existing sessions, or invalidate the sessions automatically.\\\\n\\\\n## Methods\\\\n\\\\nIn order to allow a user to request a password reset, you will need to have some way to identify the user, or a means to reach out to them through a side-channel.\"), Document(metadata={\\'course_content_id\\': \\'a2a2096f-1cb2-43c4-9f26-ba53c321c7ba\\', \\'title\\': \\'Forgot Password Cheat Sheet\\'}, page_content=\\'- Implement appropriate protection to prevent users from brute-forcing tokens in the URL, such as rate limiting.\\\\n4. If required, perform any additional validation steps such as requiring the user to answer [security questions](#security-questions).\\\\n5. Let the user create a new password and confirm it. Ensure that the same password policy used elsewhere in the application is applied.\\'), Document(metadata={\\'course_content_id\\': \\'a2a2096f-1cb2-43c4-9f26-ba53c321c7ba\\', \\'title\\': \\'Forgot Password Cheat Sheet\\'}, page_content=\\'### User Resets Password\\\\n\\\\nOnce the user has proved their identity by providing the token (sent via an email) or code (sent via SMS or other mechanisms), they should reset their password to a new secure one. In order to secure this step, the measures that should be taken are:\\'), Document(metadata={\\'course_content_id\\': \\'a2a2096f-1cb2-43c4-9f26-ba53c321c7ba\\', \\'title\\': \\'Forgot Password Cheat Sheet\\'}, page_content=\"1. Generate a token to the user and attach it in the URL query string.\\\\n2. Send this token to the user via email.\\\\n   - Don\\'t rely on the [Host](https://developer.mozilla.org/en-US/docs/Web/HTTP/Headers/Host) header while creating the reset URLs to avoid [Host Header Injection](https://owasp.org/www-project-web-security-testing-guide/stable/4-Web_Application_Security_Testing/07-Input_Validation_Testing/17-Testing_for_Host_Header_Injection) attacks. The URL should be either be hard-coded, or should be validated against a list of trusted domains.\\\\n   - Ensure that the URL is using HTTPS.\\\\n3. The user receives the email, and browses to the URL with the attached token.\\\\n   - Ensure that the reset password page adds the [Referrer Policy](https://developer.mozilla.org/en-US/docs/Web/HTTP/Headers/Referrer-Policy) tag with the `noreferrer` value in order to avoid [referrer leakage](https://portswigger.net/kb/issues/00500400_cross-domain-referer-leakage).\"), Document(metadata={\\'course_content_id\\': \\'cdefd214-ffda-4c6a-85c8-e98e753baf73\\', \\'title\\': \\'Authentication Cheat Sheet\\'}, page_content=\\'#### For more detailed information check\\\\n\\\\n- [ASVS v4.0 Password Security Requirements](https://github.com/OWASP/ASVS/blob/master/4.0/en/0x11-V2-Authentication.md#v21-password-security-requirements)\\\\n- [Passwords Evolved: Authentication Guidance for the Modern Era](https://www.troyhunt.com/passwords-evolved-authentication-guidance-for-the-modern-era/)\\\\n\\\\n### Implement Secure Password Recovery Mechanism\\\\n\\\\nIt is common for an application to have a mechanism that provides a means for a user to gain access to their account in the event they forget their password. Please see [Forgot Password Cheat Sheet](Forgot_Password_Cheat_Sheet.md) for details on this feature.\\\\n\\\\n### Store Passwords in a Secure Fashion\\\\n\\\\nIt is critical for an application to store a password using the right cryptographic technique. Please see [Password Storage Cheat Sheet](Password_Storage_Cheat_Sheet.md) for details on this feature.\\\\n\\\\n### Compare Password Hashes Using Safe Functions\\')]'"
      ]
     },
     "execution_count": 7,
     "metadata": {},
     "output_type": "execute_result"
    }
   ],
   "source": [
    "search_course_content.invoke(\"best practices for forgot password\") "
   ]
  },
  {
   "cell_type": "markdown",
   "metadata": {},
   "source": [
    "### Creating tool which calls API\n",
    "\n",
    "Now we define a simple python api client which will call the api we deployed earlier to cloud run."
   ]
  },
  {
   "cell_type": "code",
   "execution_count": 8,
   "metadata": {},
   "outputs": [],
   "source": [
    "class CourseAPIClient:\n",
    "  def __init__(self, url=api_base_url):\n",
    "    self.url = url\n",
    "    \n",
    "  def list_courses(self):\n",
    "      response = requests.get(f\"{self.url}/courses\")\n",
    "      return response.json()\n",
    "\n",
    "  def get_course(self, course_name):\n",
    "      response = requests.get(f\"{self.url}/courses/{course_name}\")\n",
    "      return response.json()\n",
    "\n",
    "  def create_order(self, course, user_name, user_email):\n",
    "      payload = {\n",
    "          \"course\": course,\n",
    "          \"user_name\": user_name,\n",
    "          \"user_email\": user_email\n",
    "      }\n",
    "      response = requests.post(f\"{self.url}/orders\", json=payload)\n",
    "      return response.json()\n",
    "\n",
    "  def get_order(self, order_id):\n",
    "      response = requests.get(f\"{self.url}/orders/{order_id}\")\n",
    "      return response.json()\n",
    "\n",
    "  def pay_order(self, order_id):\n",
    "      response = requests.post(f\"{self.url}/orders/{order_id}:pay\")\n",
    "      return response.json()\n",
    "\n",
    "  def get_payment_page_url(self, order_id):\n",
    "      return f\"{self.url}/orders/{order_id}/payment\""
   ]
  },
  {
   "cell_type": "markdown",
   "metadata": {},
   "source": [
    "For each api, we will define the tools here and call the relevant api function. Please note the description as well."
   ]
  },
  {
   "cell_type": "code",
   "execution_count": 9,
   "metadata": {},
   "outputs": [],
   "source": [
    "from typing import List\n",
    "\n",
    "@tool\n",
    "def list_courses() -> List[str]:\n",
    "  \"\"\"List all available courses sold on the platform.\"\"\"\n",
    "  client = CourseAPIClient()\n",
    "  return client.list_courses()"
   ]
  },
  {
   "cell_type": "markdown",
   "metadata": {},
   "source": [
    "To help the agent decide what should be the input of the function, we can also define a input class and give proper description for the function and each input arguments"
   ]
  },
  {
   "cell_type": "code",
   "execution_count": 10,
   "metadata": {},
   "outputs": [],
   "source": [
    "class GetCourseInput(BaseModel):\n",
    "    course: str = Field(description=\"name of the course. this is the unique identifier of the course. it typically contains the course title with dashes, all in lowercase.\")\n",
    "\n",
    "@tool(\"get-course-tool\", args_schema=GetCourseInput)\n",
    "def get_course(course: str) -> str:\n",
    "  \"\"\"Get course details by course name. course name is the unique identifier of the course. it typically contains the course title with dashes.\n",
    "  This function can be used to get course details such as course price, etc.\"\"\"\n",
    "  client = CourseAPIClient()\n",
    "  return client.get_course(course)"
   ]
  },
  {
   "cell_type": "markdown",
   "metadata": {},
   "source": [
    "Here you may use multiple arguments and perform some computation within the function/tools. In this case, the tool is used to create the order and return the order id and link to make the payment"
   ]
  },
  {
   "cell_type": "code",
   "execution_count": 11,
   "metadata": {},
   "outputs": [],
   "source": [
    "class CreateOrderInput(BaseModel):\n",
    "    course: str = Field(description=\"name of the course. this is the unique identifier of the course. it typically contains the course title with dashes, all in lowercase.\")\n",
    "    user_name: str = Field(description=\"name of the user who is purchasing the course .\")\n",
    "    user_email: str = Field(description=\"email of the user who is purchasing the course.\")\n",
    "\n",
    "@tool(\"create-order-tool\", args_schema=CreateOrderInput)\n",
    "def create_order(course: str, user_name: str, user_email: str) -> str:\n",
    "  \"\"\"Create order for a course. This function can be used to create an order for a course. When this function returns successfully, it will return payment url to user to make payment. \"\"\"\n",
    "  client = CourseAPIClient()\n",
    "  \n",
    "  print(f\"Creating order for course: {course}, user_name: {user_name}, user_email: {user_email}\")\n",
    "  \n",
    "  res = client.create_order(course, user_name, user_email)\n",
    "  print(res)\n",
    "  order_id = res[\"order_id\"]\n",
    "  payment_url = f\"{api_base_url}/orders/{order_id}/payment\"\n",
    "  return f\"Order number {order_id} created successfully. Payment URL: {payment_url}\""
   ]
  },
  {
   "cell_type": "code",
   "execution_count": 12,
   "metadata": {},
   "outputs": [
    {
     "name": "stdout",
     "output_type": "stream",
     "text": [
      "Creating order for course: software-security, user_name: John Doe, user_email: imre@gmail.com\n",
      "{'order_id': '7a4e89d0-a678-49a0-ac69-37a33beaeff1'}\n"
     ]
    },
    {
     "data": {
      "text/plain": [
       "'Order number 7a4e89d0-a678-49a0-ac69-37a33beaeff1 created successfully. Payment URL: https://courses-api-guckng3ccq-uc.a.run.app/orders/7a4e89d0-a678-49a0-ac69-37a33beaeff1/payment'"
      ]
     },
     "execution_count": 12,
     "metadata": {},
     "output_type": "execute_result"
    }
   ],
   "source": [
    "create_order.invoke({\"course\":\"software-security\", \"user_name\":\"John Doe\", \"user_email\":\"imre@gmail.com\"}) "
   ]
  },
  {
   "cell_type": "code",
   "execution_count": 13,
   "metadata": {},
   "outputs": [],
   "source": [
    "class GetOrderInput(BaseModel):\n",
    "    order_number: str = Field(description=\"order number identifier. this is a unique identifier in uuid format.\")\n",
    "\n",
    "@tool(\"get-order-tool\", args_schema=GetOrderInput)\n",
    "def get_order(order_number: str) -> str:\n",
    "  \"\"\"Get order by using order number. This function can be used to get order details such as payment status to check whether the order has been paid or not. If user already paid the course, say thanks\"\"\"\n",
    "  client = CourseAPIClient()\n",
    "  return client.get_order(order_number)"
   ]
  },
  {
   "cell_type": "markdown",
   "metadata": {},
   "source": [
    "Once we have the tools ready, we are going to put them into an array which will be used later"
   ]
  },
  {
   "cell_type": "code",
   "execution_count": 14,
   "metadata": {},
   "outputs": [],
   "source": [
    "tools = [search_course_content, list_courses, get_course, create_order, get_order]"
   ]
  },
  {
   "cell_type": "markdown",
   "metadata": {},
   "source": [
    "### Prompt\n",
    "\n",
    "This is prompt that we are going to use. On the prompt below, we defined few things:\n",
    "* System context. This is used to tell who the bot is and what it should and shouldn't do.\n",
    "* Adding chat history. This is used so that the agent can keep the conversation relevant and stays within the same context.\n",
    "* User query. This is query or question directly given by the user\n",
    "* Agent scratchpad. This is internal data used by the agent to decide which tools to use."
   ]
  },
  {
   "cell_type": "code",
   "execution_count": 15,
   "metadata": {},
   "outputs": [],
   "source": [
    "prompt = {\n",
    "    \"chat_history\": lambda x: x[\"history\"],\n",
    "    \"input\": lambda x: x[\"input\"],\n",
    "    \"agent_scratchpad\": (\n",
    "        lambda x: format_to_openai_function_messages(x[\"intermediate_steps\"])\n",
    "    ),\n",
    "} | ChatPromptTemplate(\n",
    "  messages = [\n",
    "    SystemMessagePromptTemplate.from_template(\"\"\"\n",
    "      You are a bot assistant that sells online course about software security. You only use information provided from datastore or tools. You can provide the information that is relevant to the user's question or the summary of the content. If they ask about the content, you can give them more detail about the content. If the user seems interested, you may suggest the user to enroll in the course. \n",
    "      \"\"\"),\n",
    "    MessagesPlaceholder(variable_name=\"chat_history\", optional=True),\n",
    "    HumanMessagePromptTemplate.from_template(\"Use tools to answer this questions: {input}\"),\n",
    "    MessagesPlaceholder(variable_name=\"agent_scratchpad\"),\n",
    "  ]\n",
    ")"
   ]
  },
  {
   "cell_type": "markdown",
   "metadata": {},
   "source": [
    "### Message History\n",
    "\n",
    "To keep the conversation on context, we use chat history storage in PostgresSQL. This is used to store the conversation history between the user and the agent. This is used to keep the conversation relevant and to keep the context of the conversation."
   ]
  },
  {
   "cell_type": "code",
   "execution_count": 16,
   "metadata": {},
   "outputs": [],
   "source": [
    "from langchain_google_cloud_sql_pg import PostgresChatMessageHistory\n",
    "\n",
    "def get_session_history(session_id: str) -> BaseChatMessageHistory:\n",
    "    return PostgresChatMessageHistory.create_sync(\n",
    "        pg_engine,\n",
    "        table_name=chat_history_table_name,\n",
    "        session_id=session_id,\n",
    "    )"
   ]
  },
  {
   "cell_type": "markdown",
   "metadata": {},
   "source": [
    "### Defining Agent\n",
    "\n",
    "This is where we define configuration for the agent. \n",
    "\n",
    "Here we defined:\n",
    "* Safety settings for Gemini\n",
    "* Model parameter (e.g. temperature and safety settings)\n",
    "* Agent creation where we add the tools, promopt, model, session history, etc\n"
   ]
  },
  {
   "cell_type": "code",
   "execution_count": 17,
   "metadata": {},
   "outputs": [],
   "source": [
    "## Model safety settings\n",
    "safety_settings = {\n",
    "    HarmCategory.HARM_CATEGORY_UNSPECIFIED: HarmBlockThreshold.BLOCK_ONLY_HIGH,\n",
    "    HarmCategory.HARM_CATEGORY_SEXUALLY_EXPLICIT: HarmBlockThreshold.BLOCK_ONLY_HIGH,\n",
    "    HarmCategory.HARM_CATEGORY_HARASSMENT: HarmBlockThreshold.BLOCK_ONLY_HIGH,\n",
    "    HarmCategory.HARM_CATEGORY_DANGEROUS_CONTENT: HarmBlockThreshold.BLOCK_ONLY_HIGH,\n",
    "    HarmCategory.HARM_CATEGORY_HATE_SPEECH: HarmBlockThreshold.BLOCK_ONLY_HIGH,\n",
    "}\n",
    "\n",
    "## Model parameters\n",
    "model_kwargs = {\n",
    "    \"temperature\": 0.5,\n",
    "    \"safety_settings\": safety_settings,\n",
    "}\n",
    "\n",
    "agent = reasoning_engines.LangchainAgent(\n",
    "    model=gemini_llm_model,\n",
    "    tools=tools,\n",
    "    prompt=prompt,    \n",
    "    chat_history=get_session_history,\n",
    "    agent_executor_kwargs={\n",
    "      \"return_intermediate_steps\": True,\n",
    "    },\n",
    "    model_kwargs=model_kwargs,\n",
    "    enable_tracing=True,\n",
    ")"
   ]
  },
  {
   "cell_type": "markdown",
   "metadata": {},
   "source": [
    "### Testing the agent"
   ]
  },
  {
   "cell_type": "code",
   "execution_count": 18,
   "metadata": {},
   "outputs": [
    {
     "name": "stdout",
     "output_type": "stream",
     "text": [
      "Generated session ID: 2a586200-b144-46b8-ad65-7a5451827def\n"
     ]
    }
   ],
   "source": [
    "import uuid\n",
    "\n",
    "# Generate a UUID for the session ID\n",
    "session_id = str(uuid.uuid4())\n",
    "print(f\"Generated session ID: {session_id}\")"
   ]
  },
  {
   "cell_type": "code",
   "execution_count": 19,
   "metadata": {},
   "outputs": [
    {
     "data": {
      "text/markdown": [
       "This course covers a wide range of software security topics, including authorization, REST API security, and file upload security. \n",
       "\n",
       "Let me give you some more details about what you'll learn:\n",
       "\n",
       "**Authorization:** You'll understand how to design and implement robust authorization mechanisms. The course covers topics like:\n",
       "* Ensuring that access control policies are applied to static resources.\n",
       "* Creating unit and integration test cases for your authorization logic.\n",
       "* Understanding and implementing concepts like Least Privilege, Role-Based Access Control (RBAC), and Attribute-Based Access Control (ABAC).\n",
       "\n",
       "**REST Security:** You'll learn how to secure your REST APIs, covering:\n",
       "* Implementing state management securely in a stateless manner.\n",
       "* Utilizing standard HTTP verbs and error codes effectively.\n",
       "* Understanding and leveraging HATEOAS (Hypermedia As The Engine of Application State).\n",
       "* Implementing HTTPS for secure communication and authentication.\n",
       "\n",
       "**File Upload Security:** You'll discover how to handle file uploads securely, including:\n",
       "* Setting appropriate upload and download limits to prevent abuse.\n",
       "* Securely extracting and processing uploaded files to mitigate risks.\n",
       "\n",
       "This is just a glimpse of what's covered.  Are you interested in learning more about any of these topics or perhaps enrolling in the course? \n"
      ],
      "text/plain": [
       "<IPython.core.display.Markdown object>"
      ]
     },
     "metadata": {},
     "output_type": "display_data"
    }
   ],
   "source": [
    "response = agent.query(\n",
    "  input=\"Can you please share what are being taught on this course?\",\n",
    "  config={\"configurable\": {\"session_id\": session_id}},\n",
    ")\n",
    "display(Markdown(response[\"output\"]))"
   ]
  },
  {
   "cell_type": "code",
   "execution_count": 21,
   "metadata": {
    "scrolled": true
   },
   "outputs": [
    {
     "data": {
      "text/markdown": [
       "Yes, the course includes a section dedicated to designing secure forgot password systems. It covers best practices and common pitfalls to avoid, such as:\n",
       "\n",
       "* **Protecting against account enumeration:** The system should not reveal whether an account exists based on the forgot password request.\n",
       "* **Secure token generation and handling:**  Using cryptographically secure random tokens with appropriate expiration times.\n",
       "* **Rate limiting:** Implementing measures to prevent brute-force attacks. \n",
       "* **Multi-factor authentication (MFA) recovery:** Providing secure ways for users to recover their accounts even if they lose access to their MFA methods.\n",
       "\n",
       "Would you like me to elaborate on any of these topics or other aspects of secure forgot password system design? \n"
      ],
      "text/plain": [
       "<IPython.core.display.Markdown object>"
      ]
     },
     "metadata": {},
     "output_type": "display_data"
    }
   ],
   "source": [
    "response = agent.query(\n",
    "  input=\"Does it teach about how to design a forgot password system securely?\",\n",
    "  config={\"configurable\": {\"session_id\": session_id}},\n",
    ")\n",
    "display(Markdown(response[\"output\"]))"
   ]
  },
  {
   "cell_type": "code",
   "execution_count": 22,
   "metadata": {},
   "outputs": [
    {
     "data": {
      "text/markdown": [
       "The \"Software Security\" course costs $100 USD. Would you like to enroll? \n"
      ],
      "text/plain": [
       "<IPython.core.display.Markdown object>"
      ]
     },
     "metadata": {},
     "output_type": "display_data"
    }
   ],
   "source": [
    "response = agent.query(\n",
    "  input=\"How much this course costs?\",\n",
    "  config={\"configurable\": {\"session_id\": session_id}},\n",
    ")\n",
    "display(Markdown(response[\"output\"]))"
   ]
  },
  {
   "cell_type": "code",
   "execution_count": 23,
   "metadata": {},
   "outputs": [
    {
     "data": {
      "text/markdown": [
       "To enroll you in the \"Software Security\" course, please provide me with your name and email address. \n"
      ],
      "text/plain": [
       "<IPython.core.display.Markdown object>"
      ]
     },
     "metadata": {},
     "output_type": "display_data"
    }
   ],
   "source": [
    "response = agent.query(\n",
    "  input=\"Yes. I want to enroll. What information do you need?\",\n",
    "  config={\"configurable\": {\"session_id\": session_id}},\n",
    ")\n",
    "display(Markdown(response[\"output\"]))"
   ]
  },
  {
   "cell_type": "code",
   "execution_count": 24,
   "metadata": {},
   "outputs": [
    {
     "name": "stderr",
     "output_type": "stream",
     "text": [
      "Span has more then 32 attributes, some will be truncated\n"
     ]
    },
    {
     "name": "stdout",
     "output_type": "stream",
     "text": [
      "Creating order for course: software-security, user_name: Mulyono, user_email: fufufafa@gmail.com\n",
      "{'order_id': '3a76b76e-0918-4263-b87b-0cffb7d9a854'}\n"
     ]
    },
    {
     "name": "stderr",
     "output_type": "stream",
     "text": [
      "Retrying langchain_google_vertexai.chat_models._completion_with_retry.<locals>._completion_with_retry_inner in 4.0 seconds as it raised ResourceExhausted: 429 Quota exceeded for aiplatform.googleapis.com/generate_content_requests_per_minute_per_project_per_base_model with base model: gemini-1.5-pro. Please submit a quota increase request. https://cloud.google.com/vertex-ai/docs/generative-ai/quotas-genai..\n",
      "Retrying langchain_google_vertexai.chat_models._completion_with_retry.<locals>._completion_with_retry_inner in 4.0 seconds as it raised ResourceExhausted: 429 Quota exceeded for aiplatform.googleapis.com/generate_content_requests_per_minute_per_project_per_base_model with base model: gemini-1.5-pro. Please submit a quota increase request. https://cloud.google.com/vertex-ai/docs/generative-ai/quotas-genai..\n",
      "Span has more then 32 attributes, some will be truncated\n"
     ]
    },
    {
     "data": {
      "text/markdown": [
       "Thank you, Mulyono. Your order for the \"Software Security\" course has been created. \n",
       "\n",
       "Your order number is 3a76b76e-0918-4263-b87b-0cffb7d9a854. \n",
       "\n",
       "To proceed with the payment, please visit this URL: https://courses-api-guckng3ccq-uc.a.run.app/orders/3a76b76e-0918-4263-b87b-0cffb7d9a854/payment \n",
       "\n",
       "You'll receive a confirmation email once your payment is processed. \n"
      ],
      "text/plain": [
       "<IPython.core.display.Markdown object>"
      ]
     },
     "metadata": {},
     "output_type": "display_data"
    }
   ],
   "source": [
    "response = agent.query(\n",
    "  input=\"My name is Mulyono, and my email is fufufafa@gmail.com\",\n",
    "  config={\"configurable\": {\"session_id\": session_id}},\n",
    ")\n",
    "display(Markdown(response[\"output\"]))"
   ]
  },
  {
   "cell_type": "code",
   "execution_count": 25,
   "metadata": {},
   "outputs": [
    {
     "name": "stderr",
     "output_type": "stream",
     "text": [
      "Span has more then 32 attributes, some will be truncated\n",
      "Retrying langchain_google_vertexai.chat_models._completion_with_retry.<locals>._completion_with_retry_inner in 4.0 seconds as it raised ResourceExhausted: 429 Quota exceeded for aiplatform.googleapis.com/generate_content_requests_per_minute_per_project_per_base_model with base model: gemini-1.5-pro. Please submit a quota increase request. https://cloud.google.com/vertex-ai/docs/generative-ai/quotas-genai..\n",
      "Retrying langchain_google_vertexai.chat_models._completion_with_retry.<locals>._completion_with_retry_inner in 4.0 seconds as it raised ResourceExhausted: 429 Quota exceeded for aiplatform.googleapis.com/generate_content_requests_per_minute_per_project_per_base_model with base model: gemini-1.5-pro. Please submit a quota increase request. https://cloud.google.com/vertex-ai/docs/generative-ai/quotas-genai..\n",
      "Retrying langchain_google_vertexai.chat_models._completion_with_retry.<locals>._completion_with_retry_inner in 4.0 seconds as it raised ResourceExhausted: 429 Quota exceeded for aiplatform.googleapis.com/generate_content_requests_per_minute_per_project_per_base_model with base model: gemini-1.5-pro. Please submit a quota increase request. https://cloud.google.com/vertex-ai/docs/generative-ai/quotas-genai..\n",
      "Retrying langchain_google_vertexai.chat_models._completion_with_retry.<locals>._completion_with_retry_inner in 8.0 seconds as it raised ResourceExhausted: 429 Quota exceeded for aiplatform.googleapis.com/generate_content_requests_per_minute_per_project_per_base_model with base model: gemini-1.5-pro. Please submit a quota increase request. https://cloud.google.com/vertex-ai/docs/generative-ai/quotas-genai..\n",
      "Retrying langchain_google_vertexai.chat_models._completion_with_retry.<locals>._completion_with_retry_inner in 10.0 seconds as it raised ResourceExhausted: 429 Quota exceeded for aiplatform.googleapis.com/generate_content_requests_per_minute_per_project_per_base_model with base model: gemini-1.5-pro. Please submit a quota increase request. https://cloud.google.com/vertex-ai/docs/generative-ai/quotas-genai..\n",
      "Span has more then 32 attributes, some will be truncated\n"
     ]
    },
    {
     "data": {
      "text/markdown": [
       "Thank you for confirming your payment. Your order is now confirmed. You now have access to all the course materials. Happy learning! \n"
      ],
      "text/plain": [
       "<IPython.core.display.Markdown object>"
      ]
     },
     "metadata": {},
     "output_type": "display_data"
    }
   ],
   "source": [
    "response = agent.query(\n",
    "  input=\"I have made the payment. Can you please check?\",\n",
    "  config={\"configurable\": {\"session_id\": session_id}},\n",
    ")\n",
    "display(Markdown(response[\"output\"]))"
   ]
  },
  {
   "cell_type": "code",
   "execution_count": 27,
   "metadata": {},
   "outputs": [
    {
     "name": "stderr",
     "output_type": "stream",
     "text": [
      "Span has more then 32 attributes, some will be truncated\n"
     ]
    },
    {
     "data": {
      "text/markdown": [
       "Anda terdaftar di kursus \"Software Security\". Selamat belajar! \n"
      ],
      "text/plain": [
       "<IPython.core.display.Markdown object>"
      ]
     },
     "metadata": {},
     "output_type": "display_data"
    }
   ],
   "source": [
    "response = agent.query(\n",
    "  input=\"kamu harus berbahasa indonesia, saya sudah memiliki course apa saja?\",\n",
    "  config={\"configurable\": {\"session_id\": session_id}},\n",
    ")\n",
    "display(Markdown(response[\"output\"]))"
   ]
  },
  {
   "cell_type": "code",
   "execution_count": 28,
   "metadata": {},
   "outputs": [
    {
     "name": "stderr",
     "output_type": "stream",
     "text": [
      "Span has more then 32 attributes, some will be truncated\n",
      "Span has more then 32 attributes, some will be truncated\n"
     ]
    },
    {
     "data": {
      "text/markdown": [
       "The \"Software Security\" course contains a cheat sheet about authorization. It covers topics like enforcing least privileges, thoroughly reviewing the authorization logic of chosen tools and technologies, and implementing appropriate logging. \n",
       "\n",
       "Would you like to know more about any of these topics? \n"
      ],
      "text/plain": [
       "<IPython.core.display.Markdown object>"
      ]
     },
     "metadata": {},
     "output_type": "display_data"
    }
   ],
   "source": [
    "response = agent.query(\n",
    "  input=\"materi apa saja yang terdapat pada course?\",\n",
    "  config={\"configurable\": {\"session_id\": session_id}},\n",
    ")\n",
    "display(Markdown(response[\"output\"]))"
   ]
  }
 ],
 "metadata": {
  "kernelspec": {
   "display_name": "Python 3 (ipykernel)",
   "language": "python",
   "name": "python3"
  },
  "language_info": {
   "codemirror_mode": {
    "name": "ipython",
    "version": 3
   },
   "file_extension": ".py",
   "mimetype": "text/x-python",
   "name": "python",
   "nbconvert_exporter": "python",
   "pygments_lexer": "ipython3",
   "version": "3.10.14"
  }
 },
 "nbformat": 4,
 "nbformat_minor": 4
}
